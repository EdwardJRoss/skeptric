{
 "cells": [
  {
   "cell_type": "raw",
   "id": "e5afa81c-8222-4a08-81d2-39f64e275ec8",
   "metadata": {},
   "source": [
    "---\n",
    "categories:\n",
    "- entropy\n",
    "date: '2024-09-22T14:46:00+10:00'\n",
    "image: ./lz77.png\n",
    "title: Implementing Lempel-Ziv 77 Paper in Python\n",
    "format:\n",
    "  html:\n",
    "    toc: true\n",
    "---"
   ]
  },
  {
   "cell_type": "markdown",
   "id": "60cada86-cfd8-4745-a0d2-4364384f5b8f",
   "metadata": {},
   "source": [
    "Lossless compression is the process of taking some data and squishing it into a smaller space without losing any information.\n",
    "It is ubiquitous in data storage and transfer, for example this web page was almost certainly compressed as it was sent from my server to your browser. \n",
    "It is somewhat surprising there *are* general algorithms that effectively compress most real files whether they store text, audio, images or binary files.\n",
    "However there is one kind of redundancy that's very common in all these data types: repeated patterns.\n",
    "In 1977 Lempel Ziv came up with a universal compression algorithm to exploit this redundancy (now called LZ77), and it is still used everywhere almost 50 years later in HTTP compression, Zip files (including gzip), and most document formats.\n",
    "\n",
    "The key idea in LZ77 compression is it often requries less data to store a *reference* to a string of symbols than to repeat the symbols.\n",
    "For example in the previous sentence I used the 16 characters ` compression is ` that I also used 777 characters earlier in the first sentence.\n",
    "Instead of using 16 bytes to encode the characters directly I could use 2 bytes to record that the character occured 777 symbols earlier (in hexadecimal notation `03 09`) and 1 byte to record the length of 16 (in hexadecimal `10`) for a total of 3 bytes saving 13 bytes.\n",
    "The neat thing about this idea is by having a sliding window of recent characters (in this case 65 thousand) the amount of memory required is bounded and it can be compressed in a single pass.\n",
    "A great demonstration of this is Colin Morris' [using Lempel-Ziv to compress song lyrics](http://colinmorris.github.io/pop-compression/).\n",
    "\n",
    "\n",
    "This article will implement  Lempel and Ziv's original paper [*A Universal Algorithm for Sequential Data Compression*](https://web.archive.org/web/20170812011902id_/http://courses.cs.tamu.edu/rabi/cpsc617/resources/ziv_77-SDC.pdf) in Python.\n",
    "The algorithm as described in the paper is not very efficient, most \"LZ77\" algorithms actually use variations of this like in the [DEFLATE RFC](https://datatracker.ietf.org/doc/html/rfc1951#section-4), but this shows the essential ideas.\n",
    "We will also go through their analysis on bounds and efficiency in the paper and show they are not that interesting, but in practice it is effective."
   ]
  },
  {
   "cell_type": "markdown",
   "id": "1ce1a65d-7b23-430d-bdd8-33e64aae654c",
   "metadata": {},
   "source": [
    "## The Compression Algorithm\n",
    "\n",
    "The original paper was hard for me to read because they jump into dense mathematical notation without explaining the intuition behind it.\n",
    "The key idea is when you've got some string you want to encode like `010210` and you've got a buffer of strings you've seen before like `000001`, you want to look back into the buffer and find the longest substring in the buffer that matches the start of the string you want to encode (in this case the one starting with `01`).\n",
    "An important trick is that you can extend from the buffer into the string you are encoding, which is equivalent to cyclically extending the substring.\n",
    "In this example we can extend 1 more character to get `010`.\n",
    "\n",
    "### Some terminology\n",
    "\n",
    "The symbols come from some finite alphabet $A$, with some number $\\alpha$ symbols, which we label $A = \\{ 0,1, \\ldots, \\alpha-1 \\}$.\n",
    "So for a ternary string it looks like:"
   ]
  },
  {
   "cell_type": "code",
   "execution_count": 1,
   "id": "41d7c33f-06bb-48d7-b47f-5eaae8201994",
   "metadata": {},
   "outputs": [
    {
     "data": {
      "text/plain": [
       "['0', '1', '2']"
      ]
     },
     "execution_count": 1,
     "metadata": {},
     "output_type": "execute_result"
    }
   ],
   "source": [
    "α = 3\n",
    "A = list(map(str, range(α)))\n",
    "A"
   ]
  },
  {
   "cell_type": "markdown",
   "id": "e9d4a3ca-8114-4390-9b14-1acaf38ae255",
   "metadata": {},
   "source": [
    "A string, or word, S, is then just symbols from A concatenated together; from our previous example:"
   ]
  },
  {
   "cell_type": "code",
   "execution_count": 2,
   "id": "a93aa859-bb64-44be-aea0-2d11624f7076",
   "metadata": {},
   "outputs": [
    {
     "data": {
      "text/plain": [
       "'0000010010210'"
      ]
     },
     "execution_count": 2,
     "metadata": {},
     "output_type": "execute_result"
    }
   ],
   "source": [
    "S = '000001' '0010210'\n",
    "S"
   ]
  },
  {
   "cell_type": "markdown",
   "id": "1936b28c-ebb4-4620-8653-9c9249e45c24",
   "metadata": {},
   "source": [
    "In the paper they index the strings starting at $1$, whereas Python uses $0$ based indexing.\n",
    "\n",
    "They denote the substring starting at index $i$ and ending at index $j$ by $S(i,j)$, which we would write at `S[i-1:j-1]`.\n",
    "We can recover our buffer:"
   ]
  },
  {
   "cell_type": "code",
   "execution_count": 3,
   "id": "1c979a4e-2b9b-4cd1-a198-2d922fb61e0a",
   "metadata": {},
   "outputs": [
    {
     "data": {
      "text/plain": [
       "'000001'"
      ]
     },
     "execution_count": 3,
     "metadata": {},
     "output_type": "execute_result"
    }
   ],
   "source": [
    "i = 1\n",
    "j = 7\n",
    "S[i-1:j-1] # S(i,j)"
   ]
  },
  {
   "cell_type": "markdown",
   "id": "4b6e6e8b-945e-4e37-a570-41c34dbea05e",
   "metadata": {},
   "source": [
    "They then define the *reproducible extension* of $S$ at $j$, which is the longest substring starting **after** index $j$ that we can get by reading from some point in the buffer.\n",
    "\n",
    "So for example suppose we have the string `00101011` and $j=3$ so the string to match is `01011`:\n",
    "\n",
    "* starting at the first index $i=1$ then the longest match would be `0` with length $L=1$ (since if we go one character further `00` does not match `01`).\n",
    "* starting at next index $i=2$ then the longest match would be `0101` with length $L=4$.\n",
    "* starting at the final index $i=3$ the longest match is the empty string, with length $L=0$, since it starts with a `1` and the string to match starts with a `0`.\n",
    "\n",
    "So the reproducible extension is `0101`.\n",
    "\n",
    "Let's write this as a function; we count how many symbols from the string starting from $i$ match the string starting after $j$, stopping when there is a mismatch:"
   ]
  },
  {
   "cell_type": "code",
   "execution_count": 4,
   "id": "b5040d77-f830-479f-b424-52368b8faa4d",
   "metadata": {},
   "outputs": [],
   "source": [
    "def L(S: str, j: int, i: int) -> int:\n",
    "    assert i<=j\n",
    "\n",
    "    offset = 0\n",
    "    while (j+offset) < len(S) and (S[i-1+offset] == S[j+offset]):\n",
    "        offset += 1\n",
    "    \n",
    "    return offset"
   ]
  },
  {
   "cell_type": "code",
   "execution_count": 5,
   "id": "21fc323d-4d70-42f3-97b2-4b769375c574",
   "metadata": {},
   "outputs": [
    {
     "data": {
      "text/plain": [
       "1"
      ]
     },
     "execution_count": 5,
     "metadata": {},
     "output_type": "execute_result"
    }
   ],
   "source": [
    "L('001' '01011', j=3, i=1)"
   ]
  },
  {
   "cell_type": "code",
   "execution_count": 6,
   "id": "c9db8df5-98a5-4235-8f3e-168e74e783c5",
   "metadata": {},
   "outputs": [
    {
     "data": {
      "text/plain": [
       "4"
      ]
     },
     "execution_count": 6,
     "metadata": {},
     "output_type": "execute_result"
    }
   ],
   "source": [
    "L('001' '01011', j=3, i=2)"
   ]
  },
  {
   "cell_type": "code",
   "execution_count": 7,
   "id": "ef3a2fa6-3b8e-492c-8af5-40d2204a5c26",
   "metadata": {},
   "outputs": [
    {
     "data": {
      "text/plain": [
       "0"
      ]
     },
     "execution_count": 7,
     "metadata": {},
     "output_type": "execute_result"
    }
   ],
   "source": [
    "L('001' '01011', j=3, i=3)"
   ]
  },
  {
   "cell_type": "markdown",
   "id": "f536b4c3-b534-4c18-ac9d-e94bd9e1f482",
   "metadata": {},
   "source": [
    "The index of a longest matching substring is called the *pointer* $p$ of the reproducible extension, so in this example $p=2$.\n",
    "There could be multiple pointers, in practice the paper tends to use the highest indexed pointer.\n",
    "\n",
    "We can find the pointer as above by iterating over every possible index and finding the one with the largest $L$:"
   ]
  },
  {
   "cell_type": "code",
   "execution_count": 8,
   "id": "d36cd033-4556-4961-a606-234a3fff9232",
   "metadata": {},
   "outputs": [],
   "source": [
    "def p(S: str, j:int) -> int:\n",
    "    max_length = 0\n",
    "    max_index = 0\n",
    "\n",
    "    # Using 1-based indexing\n",
    "    for i in range(1, j+1):\n",
    "        length = L(S, j, i)\n",
    "        if length >= max_length: \n",
    "            max_length = length\n",
    "            max_index = i\n",
    "\n",
    "    return max_index"
   ]
  },
  {
   "cell_type": "markdown",
   "id": "597535d7-e4da-4c33-8f44-6b9acd60ac3d",
   "metadata": {},
   "source": [
    "And as before we find the pointer starts at 2:"
   ]
  },
  {
   "cell_type": "code",
   "execution_count": 9,
   "id": "6359fc28-d646-4399-b3dd-67ad6182917a",
   "metadata": {},
   "outputs": [
    {
     "data": {
      "text/plain": [
       "2"
      ]
     },
     "execution_count": 9,
     "metadata": {},
     "output_type": "execute_result"
    }
   ],
   "source": [
    "p('00101011', j=3)"
   ]
  },
  {
   "cell_type": "markdown",
   "id": "ee57ac04-056b-4c4e-8413-1e08a575cf68",
   "metadata": {},
   "source": [
    "### Writing in more familiar notation\n",
    "\n",
    "I find using the mismatch between the indexing in the paper and in Python confusing, so I will switch it to match Python conventions:\n",
    "\n",
    "* `i` and `j` are 0-based so `i=0` corresponds to looking from the start of the string\n",
    "* `j` is such that the prefix is `S[:j]` and the string to match is `S[j:]`\n",
    "* Consequently it must be that `i < j`"
   ]
  },
  {
   "cell_type": "code",
   "execution_count": 10,
   "id": "94cb28f8-b554-46f9-8c10-6ae65c4aa07d",
   "metadata": {},
   "outputs": [],
   "source": [
    "def longest_prefix_length(S: str, j: int, i: int) -> int:\n",
    "    \"\"\"Length of longest matching substrings of S from i and j.\"\"\"\n",
    "    assert 0<=i<j\n",
    "    assert j <= len(S)\n",
    "\n",
    "    offset = 0\n",
    "    while (j+offset < len(S)) and (S[i+offset] == S[j+offset]):\n",
    "        offset += 1\n",
    "    \n",
    "    return offset"
   ]
  },
  {
   "cell_type": "markdown",
   "id": "1a23e4e5-540c-476c-a0c6-499cc5ecf9f0",
   "metadata": {},
   "source": [
    "With respect to our previous notation this means `j` is the same but `i` is reduced by 1:"
   ]
  },
  {
   "cell_type": "code",
   "execution_count": 11,
   "id": "d4641af5-567c-4406-b3b4-aea2bbf17b05",
   "metadata": {},
   "outputs": [],
   "source": [
    "assert longest_prefix_length('001' '01011', j=3, i=3-1) == L('00101011', j=3, i=3)\n",
    "assert longest_prefix_length('001' '01011', j=3, i=2-1) == L('00101011', j=3, i=2)\n",
    "assert longest_prefix_length('001' '01011', j=3, i=1-1) == L('00101011', j=3, i=1)"
   ]
  },
  {
   "cell_type": "markdown",
   "id": "6f179c85-7cac-420e-8bd6-d7a823492f71",
   "metadata": {},
   "source": [
    "Let's check some simple cases (I found some bugs in my original implementation by checking boundary cases):"
   ]
  },
  {
   "cell_type": "code",
   "execution_count": 12,
   "id": "d01ac955-510a-493b-afd2-819ef3589383",
   "metadata": {},
   "outputs": [],
   "source": [
    "assert longest_prefix_length('a' '', j=1, i=0) == 0\n",
    "\n",
    "assert longest_prefix_length('a' 'a', j=1, i=0) == 1\n",
    "assert longest_prefix_length('a' 'b', j=1, i=0) == 0\n",
    "\n",
    "assert longest_prefix_length('a' 'aa', j=1, i=0) == 2\n",
    "assert longest_prefix_length('a' 'ab', j=1, i=0) == 1\n",
    "assert longest_prefix_length('a' 'ba', j=1, i=0) == 0\n",
    "assert longest_prefix_length('a' 'bb', j=1, i=0) == 0\n",
    "\n",
    "assert longest_prefix_length('ab' 'a', j=2, i=0) == 1\n",
    "assert longest_prefix_length('ab' 'a', j=2, i=1) == 0\n",
    "assert longest_prefix_length('ba' 'a', j=2, i=0) == 0\n",
    "assert longest_prefix_length('ba' 'a', j=2, i=1) == 1"
   ]
  },
  {
   "cell_type": "markdown",
   "id": "fe84fe57-b082-4a70-8361-a37639a77614",
   "metadata": {},
   "source": [
    "We can use [property based testing](/property-based-testing) to check the result actually is a prefix:"
   ]
  },
  {
   "cell_type": "code",
   "execution_count": 13,
   "id": "91b17fc3-190c-4992-a8a0-f0c93271ee85",
   "metadata": {},
   "outputs": [],
   "source": [
    "from hypothesis import given, strategies as st\n",
    "\n",
    "@given(st.text(min_size=1),\n",
    "       st.text(),\n",
    "       st.integers())\n",
    "def test_longest_prefix_is_prefix(context, string, i):\n",
    "    # i in [0, len(context)-1]\n",
    "    i = i % len(context)\n",
    "    \n",
    "    S = context + string\n",
    "    j = len(context)\n",
    "    \n",
    "    l = longest_prefix_length(S, j, i)\n",
    "    assert S[j:j+l] == S[i:i+l]\n",
    "\n",
    "test_longest_prefix_is_prefix()"
   ]
  },
  {
   "cell_type": "markdown",
   "id": "b5523d87-126d-4520-a1e3-bdf274a47793",
   "metadata": {},
   "source": [
    "And to check it's the longest prefix; that if we go one character further we don't get a prefix:"
   ]
  },
  {
   "cell_type": "code",
   "execution_count": 14,
   "id": "52e71102-1ac7-4874-af33-b94399e8f9d6",
   "metadata": {},
   "outputs": [],
   "source": [
    "from hypothesis import given, strategies as st\n",
    "\n",
    "@given(st.text(min_size=1),\n",
    "       st.text(),\n",
    "       st.integers())\n",
    "def test_longest_prefix_is_longest(context, string, i):\n",
    "    # i in [0, len(context)-1]\n",
    "    i = i % len(context)\n",
    "    \n",
    "    S = context + string\n",
    "    j = len(context)\n",
    "    \n",
    "    l = longest_prefix_length(S, j, i)\n",
    "    assert S[j:j+l+1] != S[i:i+l+1]\n",
    "\n",
    "test_longest_prefix_is_longest()"
   ]
  },
  {
   "cell_type": "markdown",
   "id": "89b65472-8874-423c-9dce-94070cf8f514",
   "metadata": {},
   "source": [
    "We know rewrite the `p` function to get the pointer *and* its length, since we will need both, with this new notation:"
   ]
  },
  {
   "cell_type": "code",
   "execution_count": 15,
   "id": "5b832869-ed6d-49f3-9ec0-554e29ea797f",
   "metadata": {},
   "outputs": [],
   "source": [
    "from typing import Tuple\n",
    "\n",
    "def pointer(S: str, j: int) -> Tuple[int, int]:\n",
    "    \"\"\"Index and length of pointer of S at j.\n",
    "\n",
    "    Returns the index and length of the longest matching prior\n",
    "    substring that S[:j] starts with.\n",
    "    Can extend inato the string.\n",
    "    \"\"\"\n",
    "    max_index, max_length = 0, 0\n",
    "\n",
    "    for i in range(j):\n",
    "        length = longest_prefix_length(S, j, i)\n",
    "        if length >= max_length: \n",
    "            max_index, max_length = i, length\n",
    "\n",
    "    return (max_index, max_length)"
   ]
  },
  {
   "cell_type": "markdown",
   "id": "4bf242ee-8098-4c39-9354-b057a20413e6",
   "metadata": {},
   "source": [
    "We get the same result as before"
   ]
  },
  {
   "cell_type": "code",
   "execution_count": 16,
   "id": "b3f6398f-0a82-47f3-8409-2140f0d4f5aa",
   "metadata": {},
   "outputs": [],
   "source": [
    "assert pointer('00101011', j=3) == (1,4)"
   ]
  },
  {
   "cell_type": "markdown",
   "id": "8f03af1a-0045-4ca2-b3a6-79c3058c7c5d",
   "metadata": {},
   "source": [
    "We can use property based testing to check that it actually does give an extension:"
   ]
  },
  {
   "cell_type": "code",
   "execution_count": 17,
   "id": "0da57673-1fe1-4fee-b5a6-cd2cc1f54c36",
   "metadata": {},
   "outputs": [],
   "source": [
    "@given(st.text(min_size=1),\n",
    "       st.integers())\n",
    "def test_pointer_gives_extension(S, j):\n",
    "    # j in [0, len(S)]\n",
    "    j = j % (len(S) + 1)\n",
    "    \n",
    "    p, L = pointer(S, j)\n",
    "\n",
    "    assert S[p:p+L] == S[j:j+L]\n",
    "\n",
    "test_pointer_gives_extension()"
   ]
  },
  {
   "cell_type": "markdown",
   "id": "e17c5dda-24a8-4330-a4d6-3418ecd84c1a",
   "metadata": {},
   "source": [
    "And further check it actually gives a maximal extension:"
   ]
  },
  {
   "cell_type": "code",
   "execution_count": 18,
   "id": "82dcb5ed-00c3-41bf-b4df-e69df508c889",
   "metadata": {},
   "outputs": [],
   "source": [
    "@given(st.text(min_size=1),\n",
    "       st.text(),\n",
    "       st.integers())\n",
    "def test_pointer_gives_maximal_extension(context, string, i):\n",
    "    # i in [0, len(context)-1]\n",
    "    i = i % len(context)\n",
    "    \n",
    "    S = context + string\n",
    "    j = len(context)\n",
    "    \n",
    "    p, L = pointer(S, j)\n",
    "\n",
    "    assert L >= longest_prefix_length(S, j, i)\n",
    "\n",
    "test_pointer_gives_maximal_extension()"
   ]
  },
  {
   "cell_type": "markdown",
   "id": "2eb178ac-d8b5-4639-b15c-5d436010e8dc",
   "metadata": {},
   "source": [
    "### Encoding symbols\n",
    "\n",
    "Now that we can find the longest matching substring we need a way to efficiently encode it in the same alphabet $A$.\n",
    "\n",
    "Let's call the maximum length of string matches we will consider $L_s$; then we can simply write it as a number in $\\lceil \\log_\\alpha L_s \\rceil$ digits.\n",
    "So for example if we use an alphabet with $\\alpha=3$ symbols and maximum length $L_s=9$ we need 2 ternary digits to write the length."
   ]
  },
  {
   "cell_type": "code",
   "execution_count": 19,
   "id": "0b7dad07-e548-4773-a5aa-4dcb84993403",
   "metadata": {},
   "outputs": [
    {
     "data": {
      "text/plain": [
       "2"
      ]
     },
     "execution_count": 19,
     "metadata": {},
     "output_type": "execute_result"
    }
   ],
   "source": [
    "from math import log, ceil\n",
    "α = 3\n",
    "L_s = 9\n",
    "\n",
    "digits_length = ceil(log(L_s, α))\n",
    "digits_length"
   ]
  },
  {
   "cell_type": "markdown",
   "id": "94cd110d-cc0d-462c-b93a-e91b418a9189",
   "metadata": {},
   "source": [
    "For example a length of 7 would be written as `21` as it is `2*3 + 1 = 7`.\n",
    "We can write a little code to do the conversion:"
   ]
  },
  {
   "cell_type": "code",
   "execution_count": 20,
   "id": "299f0446-7855-47df-ad35-dcfa3f8ef1bd",
   "metadata": {},
   "outputs": [
    {
     "data": {
      "text/plain": [
       "'21'"
      ]
     },
     "execution_count": 20,
     "metadata": {},
     "output_type": "execute_result"
    }
   ],
   "source": [
    "def num_to_string(number: int, base: int, digits: int):\n",
    "    assert base > 1 and isinstance(base, int)\n",
    "    assert number >= 0 and isinstance(number, int)\n",
    "    if base > 10:\n",
    "        raise ValueError(\"Base larger than 10 is not supported\")\n",
    "\n",
    "    number_string = ''\n",
    "    while number > 0:\n",
    "        number_string = str(number % base) + number_string\n",
    "        number = number // base\n",
    "\n",
    "    if len(number_string) > digits:\n",
    "        raise ValueError(\"Number is too large\")\n",
    "    \n",
    "    return number_string.zfill(digits)\n",
    "    \n",
    "num_to_string(7,3,2)"
   ]
  },
  {
   "cell_type": "markdown",
   "id": "3e02357e-c0a0-4d71-95e1-ae5a92c24c9c",
   "metadata": {},
   "source": [
    "We can invert this with Python's built in `int` function:"
   ]
  },
  {
   "cell_type": "code",
   "execution_count": 21,
   "id": "c3663a3f-55fc-4a37-aa6f-8b7d288fd45f",
   "metadata": {},
   "outputs": [
    {
     "data": {
      "text/plain": [
       "7"
      ]
     },
     "execution_count": 21,
     "metadata": {},
     "output_type": "execute_result"
    }
   ],
   "source": [
    "int('21', 3)"
   ]
  },
  {
   "cell_type": "markdown",
   "id": "c2dd818f-d0b1-40e1-a9f9-6f35cf72d659",
   "metadata": {},
   "source": [
    "We can check this holds true that numbers encoded with `num_to_string` can be converted back again:"
   ]
  },
  {
   "cell_type": "code",
   "execution_count": 22,
   "id": "c1ce2ad7-042e-476d-9df8-b254bb6074f3",
   "metadata": {},
   "outputs": [],
   "source": [
    "@given(st.integers(0, 10**10-1), st.integers(2, 10), st.integers(1, 10))\n",
    "def test_num_to_str_hasinverse_int(number, base, digits):\n",
    "    try:\n",
    "        number_str = num_to_string(number, base, digits)\n",
    "        assert int(number_str, base=base) == number\n",
    "    # If we didn't have enough digits\n",
    "    except ValueError:\n",
    "        pass\n",
    "\n",
    "test_num_to_str_hasinverse_int()"
   ]
  },
  {
   "cell_type": "markdown",
   "id": "5dc80101-c48b-4e00-9ac7-dc02161257b9",
   "metadata": {},
   "source": [
    "Or conversely if we have a string in some base:"
   ]
  },
  {
   "cell_type": "code",
   "execution_count": 23,
   "id": "290665f2-b044-4a06-8116-e65112b8b4b1",
   "metadata": {},
   "outputs": [
    {
     "data": {
      "text/plain": [
       "[('65521205337354853', 9), ('7219', 10), ('44434', 5), ('3222', 9), ('00', 2)]"
      ]
     },
     "execution_count": 23,
     "metadata": {},
     "output_type": "execute_result"
    }
   ],
   "source": [
    "@st.composite\n",
    "def nonempty_string_from_number_alphabet(draw):\n",
    "    base = draw(st.integers(2, 10))\n",
    "    alphabet = list(map(str, range(base)))\n",
    "    string = draw(st.text(alphabet=alphabet, min_size=1))\n",
    "    return (string, base)\n",
    "\n",
    "[nonempty_string_from_number_alphabet().example() for _ in range(5)]"
   ]
  },
  {
   "cell_type": "markdown",
   "id": "d768193d-8498-4f11-984c-7c43e78ecfd3",
   "metadata": {},
   "source": [
    "We can convert it to a number and back again:"
   ]
  },
  {
   "cell_type": "code",
   "execution_count": 24,
   "id": "788c7e4c-52cf-447c-8ef3-6682b39ba0bb",
   "metadata": {},
   "outputs": [],
   "source": [
    "@given(nonempty_string_from_number_alphabet())\n",
    "def test_num_to_str_isinverse_int(string_base):\n",
    "    string, base = string_base\n",
    "    digits = len(string)\n",
    "    number = int(string, base)\n",
    "    assert num_to_string(number, base=base, digits=digits) == string\n",
    "\n",
    "test_num_to_str_isinverse_int()"
   ]
  },
  {
   "cell_type": "markdown",
   "id": "5d94e46c-0b3d-4d49-8752-ee7c7ba450b9",
   "metadata": {},
   "source": [
    "We also need to store the pointer; if we keep track of the size of the entire buffer $n$ (the amount of memory we need to allocate), then there are $n-L_s$ possible values for the pointer, which can be stored as a number in  $\\lceil \\log_\\alpha (n - L_s) \\rceil$  bits.\n",
    "For example if we use $n=18$ then we have $9$ possible values for the pointer which can also be stored in 2 bits."
   ]
  },
  {
   "cell_type": "code",
   "execution_count": 25,
   "id": "c60bc351-7287-4cde-b704-4c8585300b71",
   "metadata": {},
   "outputs": [
    {
     "data": {
      "text/plain": [
       "2"
      ]
     },
     "execution_count": 25,
     "metadata": {},
     "output_type": "execute_result"
    }
   ],
   "source": [
    "n = 18\n",
    "\n",
    "digits_pointer = ceil(log(n - L_s, α))\n",
    "digits_pointer"
   ]
  },
  {
   "cell_type": "markdown",
   "id": "c246e1fc-d156-45b0-96fc-e4a6aea0b46b",
   "metadata": {},
   "source": [
    "Finally for encoding we'll store one extra digit of information: the next symbol after the substring.\n",
    "This ensures the algorithm never gets stuck - it always advances at least one symbol.\n",
    "\n",
    "So the total code length is:"
   ]
  },
  {
   "cell_type": "code",
   "execution_count": 26,
   "id": "4ed3dfc3-9da0-4528-85f3-4d42a399aa5a",
   "metadata": {},
   "outputs": [
    {
     "data": {
      "text/plain": [
       "5"
      ]
     },
     "execution_count": 26,
     "metadata": {},
     "output_type": "execute_result"
    }
   ],
   "source": [
    "L_c = digits_pointer + digits_length + 1\n",
    "L_c"
   ]
  },
  {
   "attachments": {},
   "cell_type": "markdown",
   "id": "23d3ceed-05ac-4e14-9723-6b63ea8fa2a4",
   "metadata": {},
   "source": [
    "Note that this logarithmic relationship is why this coding works: in 5 digits we can store strings of length $1$ up to $\\alpha^2 + 1=10$.\n",
    "As long as the average length of the stored strings is greater than 5 we get compression.\n",
    "\n",
    "The algorithm to encode a symbol is simply to write the pointer, then the length, and then the next character:"
   ]
  },
  {
   "cell_type": "code",
   "execution_count": 27,
   "id": "14550879-f0c3-43a9-9c2d-8b70b10751b5",
   "metadata": {},
   "outputs": [],
   "source": [
    "def encode_symbol(pointer: int, length: int, next_char: str,\n",
    "                  base: int = α,\n",
    "                  digits_pointer: int = digits_pointer,\n",
    "                  digits_length: int = digits_length,\n",
    "                 ) -> str:\n",
    "    return (\n",
    "        num_to_string(pointer, base, digits_pointer) +\n",
    "        num_to_string(length, base, digits_length) +\n",
    "        next_char\n",
    "    )"
   ]
  },
  {
   "cell_type": "markdown",
   "id": "18c99135-c864-410b-a8b5-cef8c4b591e2",
   "metadata": {},
   "source": [
    "Let's take the example from the last section and pad it with 4 `2`s on the right so we have up to 9 characters to encode, and with 6 `2`s on the left so we have a total of `n=18` characters:"
   ]
  },
  {
   "cell_type": "code",
   "execution_count": 28,
   "id": "54b5ca37-5cd4-432e-a827-f8002c2436ae",
   "metadata": {},
   "outputs": [],
   "source": [
    "S = '222222001' '010112222'"
   ]
  },
  {
   "cell_type": "markdown",
   "id": "de368ddd-7854-4774-b617-9c33e269f6b6",
   "metadata": {},
   "source": [
    "Then our pointer is at index `7` and still of length 4 (the reproducible extension is `0101`):"
   ]
  },
  {
   "cell_type": "code",
   "execution_count": 29,
   "id": "1fe10ba2-2ee3-49c1-afa6-cb5e041eaf8d",
   "metadata": {},
   "outputs": [
    {
     "data": {
      "text/plain": [
       "(7, 4)"
      ]
     },
     "execution_count": 29,
     "metadata": {},
     "output_type": "execute_result"
    }
   ],
   "source": [
    "p, L = pointer(S, j=L_s)\n",
    "(p, L)"
   ]
  },
  {
   "cell_type": "markdown",
   "id": "08947160-9d8f-48b5-86d6-f3df38a3e502",
   "metadata": {},
   "source": [
    "The next token to encode is the next character outside of the extension"
   ]
  },
  {
   "cell_type": "code",
   "execution_count": 30,
   "id": "43ead52d-00c2-45a3-b097-8a1215412263",
   "metadata": {},
   "outputs": [
    {
     "data": {
      "text/plain": [
       "'1'"
      ]
     },
     "execution_count": 30,
     "metadata": {},
     "output_type": "execute_result"
    }
   ],
   "source": [
    "next_char = S[L_s + L]\n",
    "next_char"
   ]
  },
  {
   "cell_type": "markdown",
   "id": "a3f0d933-4c6e-4c03-9244-2f452a036d35",
   "metadata": {},
   "source": [
    "Then we can encode the symbol:"
   ]
  },
  {
   "cell_type": "code",
   "execution_count": 31,
   "id": "216fe6a5-234f-4d68-9447-2f0a8d778df7",
   "metadata": {},
   "outputs": [
    {
     "data": {
      "text/plain": [
       "'21111'"
      ]
     },
     "execution_count": 31,
     "metadata": {},
     "output_type": "execute_result"
    }
   ],
   "source": [
    "code_symbol = encode_symbol(p, L, next_char)\n",
    "code_symbol"
   ]
  },
  {
   "cell_type": "markdown",
   "id": "91f52c16-e549-4977-a369-669dba707f2d",
   "metadata": {},
   "source": [
    "### Decoding the symbol"
   ]
  },
  {
   "cell_type": "markdown",
   "id": "ef551509-1198-4188-a4e0-607930f8916f",
   "metadata": {},
   "source": [
    "We can easily invert this to decode the symbol to get back the pointer, length and next char:"
   ]
  },
  {
   "cell_type": "code",
   "execution_count": 32,
   "id": "4dc9a870-49cc-4403-9a6c-02f3d2a16bda",
   "metadata": {},
   "outputs": [
    {
     "data": {
      "text/plain": [
       "(7, 4, '1')"
      ]
     },
     "execution_count": 32,
     "metadata": {},
     "output_type": "execute_result"
    }
   ],
   "source": [
    "def decode_symbol(code: str, base: int = α, \n",
    "                  digits_pointer: int = digits_pointer,\n",
    "                  digits_length: int = digits_length,\n",
    "                 ) -> Tuple[int, int, str]:\n",
    "    assert len(code) == digits_pointer + digits_length + 1\n",
    "    return (\n",
    "        int(code[:digits_pointer], base),\n",
    "        int(code[digits_pointer:digits_pointer+digits_length], base),\n",
    "        code[-1]\n",
    "    )\n",
    "\n",
    "decode_symbol(code_symbol)"
   ]
  },
  {
   "cell_type": "markdown",
   "id": "b7b81149-6d37-48f4-b7d1-e50ba2d29dc5",
   "metadata": {},
   "source": [
    "Let's check this always is an inverse: first we need to generate a valid encoded string:"
   ]
  },
  {
   "cell_type": "code",
   "execution_count": 33,
   "id": "371eb116-27e7-4473-a4f3-9cf89ddd6435",
   "metadata": {},
   "outputs": [
    {
     "data": {
      "text/plain": [
       "[{'code': '2401411420532', 'digits_pointer': 6, 'digits_length': 6, 'base': 6},\n",
       " {'code': '30352013205330524201510242311352113045243241453120341',\n",
       "  'digits_pointer': 49,\n",
       "  'digits_length': 3,\n",
       "  'base': 6},\n",
       " {'code': '300120233323', 'digits_pointer': 7, 'digits_length': 4, 'base': 4},\n",
       " {'code': '110100001000001100000000000000000000000',\n",
       "  'digits_pointer': 19,\n",
       "  'digits_length': 19,\n",
       "  'base': 3},\n",
       " {'code': '101100100001011',\n",
       "  'digits_pointer': 7,\n",
       "  'digits_length': 7,\n",
       "  'base': 2}]"
      ]
     },
     "execution_count": 33,
     "metadata": {},
     "output_type": "execute_result"
    }
   ],
   "source": [
    "@st.composite\n",
    "def code_with_lengths_and_base(draw):\n",
    "    base = draw(st.integers(2, 10))\n",
    "    alphabet = list(map(str, range(base)))\n",
    "\n",
    "    # Need at least 2 characters (otherwise it's 0 digits...)\n",
    "    L_s = draw(st.integers(2))\n",
    "    n = draw(st.integers(L_s+2))\n",
    "\n",
    "    digits_length = ceil(log(L_s, base))\n",
    "    digits_pointer = ceil(log(n - L_s, base))\n",
    "\n",
    "    L_c = digits_length + digits_pointer + 1\n",
    "\n",
    "    code = draw(st.text(alphabet=alphabet,\n",
    "                        min_size=L_c,\n",
    "                        max_size=L_c))\n",
    "\n",
    "    return dict(code=code,\n",
    "                digits_pointer=digits_pointer,\n",
    "                digits_length=digits_length,\n",
    "                base=base)\n",
    "\n",
    "[code_with_lengths_and_base().example() for _ in range(5)]"
   ]
  },
  {
   "cell_type": "markdown",
   "id": "880dcefb-ecc7-4f28-8fcc-1358c7a56148",
   "metadata": {},
   "source": [
    "Then we can generate a code and check the inverse:"
   ]
  },
  {
   "cell_type": "code",
   "execution_count": 34,
   "id": "02e5fe0e-f451-407e-ae01-9c36e3a6be06",
   "metadata": {},
   "outputs": [],
   "source": [
    "@given(code_with_lengths_and_base())\n",
    "def test_code_inverse_decode(kwargs):\n",
    "    code = kwargs.pop('code')\n",
    "    pointer, length, next_char = decode_symbol(code, **kwargs)\n",
    "    recode = encode_symbol(pointer, length, next_char, **kwargs)\n",
    "\n",
    "    assert recode == code\n",
    "\n",
    "test_code_inverse_decode()"
   ]
  },
  {
   "cell_type": "markdown",
   "id": "606230d5-1816-422f-a4d4-d5d780dbdabf",
   "metadata": {},
   "source": [
    "### The Compression Algorithm\n",
    "\n",
    "Now we have the pieces the algorithm is straightforward: we encode the symbols, then advance along the string as many symbols as we encoded.\n",
    "At the start of the string we need to fill the buffer with something; Lempel and Ziv use zeros.\n",
    "We will follow their example of\n",
    "\n",
    "$$ S = 001010210210212021021200\\ldots$$\n"
   ]
  },
  {
   "cell_type": "code",
   "execution_count": 35,
   "id": "cee9b9d7-5452-47b6-9a4e-45f99fe2ba83",
   "metadata": {},
   "outputs": [],
   "source": [
    "S = \"001010210210212021021200\""
   ]
  },
  {
   "cell_type": "markdown",
   "id": "3c88b10e-6fe7-4a50-a7f0-28fb95fb3af9",
   "metadata": {},
   "source": [
    "We initializer our buffer with zeros ($Z$) and read the first $L_s$ characters from the string"
   ]
  },
  {
   "cell_type": "code",
   "execution_count": 36,
   "id": "2d006885-fb96-434b-867a-660a46516d49",
   "metadata": {},
   "outputs": [
    {
     "data": {
      "text/plain": [
       "'000000000 001010210'"
      ]
     },
     "execution_count": 36,
     "metadata": {},
     "output_type": "execute_result"
    }
   ],
   "source": [
    "L_context = n - L_s\n",
    "\n",
    "Z = '0' * L_context\n",
    "\n",
    "B1 = Z\n",
    "B1 += S[:L_s]\n",
    "position = L_s\n",
    "\n",
    "B1[:L_context] + ' ' + B1[L_context:]"
   ]
  },
  {
   "cell_type": "markdown",
   "id": "32842d87-746b-4505-a341-abbf3395df85",
   "metadata": {},
   "source": [
    "We then find the pointer and length:"
   ]
  },
  {
   "cell_type": "code",
   "execution_count": 37,
   "id": "a765775e-6a45-4112-877e-f923622cee7d",
   "metadata": {},
   "outputs": [
    {
     "data": {
      "text/plain": [
       "(8, 2)"
      ]
     },
     "execution_count": 37,
     "metadata": {},
     "output_type": "execute_result"
    }
   ],
   "source": [
    "p, L = pointer(B1, L_context)\n",
    "p, L"
   ]
  },
  {
   "cell_type": "markdown",
   "id": "341eaadb-4d21-4244-94ad-645bfe609a20",
   "metadata": {},
   "source": [
    "And encode them along with the next character"
   ]
  },
  {
   "cell_type": "code",
   "execution_count": 38,
   "id": "66d8fdce-ffa0-4d19-b7e4-b0090d3356cd",
   "metadata": {},
   "outputs": [
    {
     "data": {
      "text/plain": [
       "'1'"
      ]
     },
     "execution_count": 38,
     "metadata": {},
     "output_type": "execute_result"
    }
   ],
   "source": [
    "next_char = B1[L_context + L]\n",
    "next_char"
   ]
  },
  {
   "cell_type": "markdown",
   "id": "7a12ea19-5e41-4bf4-8788-e5606948eb52",
   "metadata": {},
   "source": [
    "We store this in our code:"
   ]
  },
  {
   "cell_type": "code",
   "execution_count": 39,
   "id": "180710d3-f292-477c-9f58-73fd9dbe90ef",
   "metadata": {},
   "outputs": [
    {
     "data": {
      "text/plain": [
       "'22021'"
      ]
     },
     "execution_count": 39,
     "metadata": {},
     "output_type": "execute_result"
    }
   ],
   "source": [
    "C1 = encode_symbol(p, L, next_char)\n",
    "C1"
   ]
  },
  {
   "cell_type": "markdown",
   "id": "c7300797-493a-42c6-995c-58fef113aa94",
   "metadata": {},
   "source": [
    "And advance the buffer $L+1$ spaces"
   ]
  },
  {
   "cell_type": "code",
   "execution_count": 40,
   "id": "f73812a4-bdc0-47a0-80cb-52d2966ec04b",
   "metadata": {},
   "outputs": [
    {
     "data": {
      "text/plain": [
       "'000000001 010210210'"
      ]
     },
     "execution_count": 40,
     "metadata": {},
     "output_type": "execute_result"
    }
   ],
   "source": [
    "B2 = B1[L+1:] + S[position:position+L+1]\n",
    "position+=L+1\n",
    "\n",
    "B2[:L_context] + ' ' + B2[L_context:]"
   ]
  },
  {
   "cell_type": "markdown",
   "id": "48bbb737-74ae-4979-b01d-15767191ff82",
   "metadata": {},
   "source": [
    "We now repeat the same procedure to find the pointer and reproducible extension:"
   ]
  },
  {
   "cell_type": "code",
   "execution_count": 41,
   "id": "fff2a131-32ea-4257-a425-a0c57ab1ea2d",
   "metadata": {},
   "outputs": [
    {
     "data": {
      "text/plain": [
       "'010'"
      ]
     },
     "execution_count": 41,
     "metadata": {},
     "output_type": "execute_result"
    }
   ],
   "source": [
    "p, L = pointer(B2, L_context)\n",
    "B2[p:p+L]"
   ]
  },
  {
   "cell_type": "markdown",
   "id": "30b327c5-afe4-4d2a-add3-786f5f350eec",
   "metadata": {},
   "source": [
    "And read the next character"
   ]
  },
  {
   "cell_type": "code",
   "execution_count": 42,
   "id": "f583a3f4-0a64-4fdb-be5c-df54232e8889",
   "metadata": {},
   "outputs": [
    {
     "data": {
      "text/plain": [
       "(7, 3, '2')"
      ]
     },
     "execution_count": 42,
     "metadata": {},
     "output_type": "execute_result"
    }
   ],
   "source": [
    "next_char = B2[L_context + L]\n",
    "\n",
    "p, L, next_char"
   ]
  },
  {
   "cell_type": "markdown",
   "id": "2fb3953c-740e-43fe-a251-be2d86411023",
   "metadata": {},
   "source": [
    "And add it to our code"
   ]
  },
  {
   "cell_type": "code",
   "execution_count": 43,
   "id": "851f251f-13d5-49ec-8939-0752b257c72a",
   "metadata": {},
   "outputs": [
    {
     "data": {
      "text/plain": [
       "'21102'"
      ]
     },
     "execution_count": 43,
     "metadata": {},
     "output_type": "execute_result"
    }
   ],
   "source": [
    "C2 = encode_symbol(p, L, next_char)\n",
    "C2"
   ]
  },
  {
   "cell_type": "markdown",
   "id": "bbb855e5-c306-4a3b-87ff-89fb41a99778",
   "metadata": {},
   "source": [
    "This process repeats:"
   ]
  },
  {
   "cell_type": "code",
   "execution_count": 44,
   "id": "6ba86089-55c6-484e-b61d-aedf4a56661a",
   "metadata": {},
   "outputs": [
    {
     "data": {
      "text/plain": [
       "'000010102 102102120'"
      ]
     },
     "execution_count": 44,
     "metadata": {},
     "output_type": "execute_result"
    }
   ],
   "source": [
    "B3 = B2[L+1:] + S[position:position+L+1]\n",
    "position+=L+1\n",
    "\n",
    "B3[:L_context] + ' ' + B3[L_context:]"
   ]
  },
  {
   "cell_type": "code",
   "execution_count": 45,
   "id": "9b36d962-3f2f-4262-9640-f700e7257fcd",
   "metadata": {},
   "outputs": [
    {
     "data": {
      "text/plain": [
       "'20212'"
      ]
     },
     "execution_count": 45,
     "metadata": {},
     "output_type": "execute_result"
    }
   ],
   "source": [
    "p, L = pointer(B3, L_context)\n",
    "next_char = B3[L_context + L]\n",
    "\n",
    "C3 = encode_symbol(p, L, next_char)\n",
    "\n",
    "C3"
   ]
  },
  {
   "cell_type": "markdown",
   "id": "8672a718-e9d9-4ac2-ad1f-a89f4e9c7590",
   "metadata": {},
   "source": [
    "And continues:"
   ]
  },
  {
   "cell_type": "code",
   "execution_count": 46,
   "id": "b35311a8-d066-478a-9721-bbfb0a641f7a",
   "metadata": {},
   "outputs": [
    {
     "data": {
      "text/plain": [
       "'210210212 021021200'"
      ]
     },
     "execution_count": 46,
     "metadata": {},
     "output_type": "execute_result"
    }
   ],
   "source": [
    "B4 = B3[L+1:] + S[position:position+L+1]\n",
    "position+=L+1\n",
    "\n",
    "B4[:L_context] + ' ' + B4[L_context:]"
   ]
  },
  {
   "cell_type": "code",
   "execution_count": 47,
   "id": "c20358eb-4398-479b-a27c-d1f694c88401",
   "metadata": {},
   "outputs": [
    {
     "data": {
      "text/plain": [
       "'02220'"
      ]
     },
     "execution_count": 47,
     "metadata": {},
     "output_type": "execute_result"
    }
   ],
   "source": [
    "p, L = pointer(B4, L_context)\n",
    "next_char = B4[L_context + L]\n",
    "\n",
    "C4 = encode_symbol(p, L, next_char)\n",
    "\n",
    "C4"
   ]
  },
  {
   "cell_type": "markdown",
   "id": "be698728-1aa1-4e46-a38b-d5adbd0307e6",
   "metadata": {},
   "source": [
    "And finishes when we've consumed the whole string; we don't have anything left to encode"
   ]
  },
  {
   "cell_type": "code",
   "execution_count": 48,
   "id": "8bb02e7e-1dfd-48fb-ba04-2fcc0bce3ffc",
   "metadata": {},
   "outputs": [
    {
     "data": {
      "text/plain": [
       "'021021200 '"
      ]
     },
     "execution_count": 48,
     "metadata": {},
     "output_type": "execute_result"
    }
   ],
   "source": [
    "B5 = B4[L+1:] +  S[position:position+L+1]\n",
    "\n",
    "B5[:L_context] + ' ' + B5[L_context:]"
   ]
  },
  {
   "cell_type": "markdown",
   "id": "10c0e4df-33c2-449b-911a-7bc5c9ebe9e0",
   "metadata": {},
   "source": [
    "So our final code is:"
   ]
  },
  {
   "cell_type": "code",
   "execution_count": 49,
   "id": "4563b987-dd07-438b-acb0-96ab8199862c",
   "metadata": {},
   "outputs": [
    {
     "data": {
      "text/plain": [
       "'22021211022021202220'"
      ]
     },
     "execution_count": 49,
     "metadata": {},
     "output_type": "execute_result"
    }
   ],
   "source": [
    "code = C1 + C2 + C3 + C4\n",
    "code"
   ]
  },
  {
   "cell_type": "markdown",
   "id": "48cbb645-7a6d-4bef-93c2-615cba4de357",
   "metadata": {},
   "source": [
    "And our compression ratio is"
   ]
  },
  {
   "cell_type": "code",
   "execution_count": 50,
   "id": "5b238922-1709-4e04-90a7-7abe50888b79",
   "metadata": {},
   "outputs": [
    {
     "data": {
      "text/plain": [
       "'83.33%'"
      ]
     },
     "execution_count": 50,
     "metadata": {},
     "output_type": "execute_result"
    }
   ],
   "source": [
    "f'{len(code) / len(S):0.2%}'"
   ]
  },
  {
   "cell_type": "markdown",
   "id": "55fb9de8-e736-409f-8bee-0e9e568b4248",
   "metadata": {},
   "source": [
    "Let's write this process as a function:"
   ]
  },
  {
   "cell_type": "code",
   "execution_count": 51,
   "id": "7521e7ff-0434-4f53-b21b-98a2e387f4c4",
   "metadata": {},
   "outputs": [],
   "source": [
    "from typing import Iterator\n",
    "\n",
    "def compress(S: str, \n",
    "             base: int = α, \n",
    "             L_s: int = L_s,\n",
    "             n: int = n,\n",
    "            ) -> str:\n",
    "    code = ''\n",
    "    \n",
    "    L_context = n - L_s\n",
    "    \n",
    "    digits_pointer = ceil(log(L_context, base))\n",
    "    digits_length = ceil(log(L_s, base))\n",
    "\n",
    "    # initialisation\n",
    "    buffer = '0' * L_context\n",
    "    buffer += S[:L_s]\n",
    "    position = L_s\n",
    "    \n",
    "    while len(buffer) > L_context:\n",
    "        p, L = pointer(buffer, L_context)\n",
    "        # Don't extend past the end of the tex\n",
    "        L = min(L, L_context - 1)\n",
    "\n",
    "        # Don't extend to the end of the text\n",
    "        if L_context + L == len(buffer):\n",
    "            L = L - 1\n",
    "        \n",
    "        next_char = buffer[L_context + L]\n",
    "        code += encode_symbol(p, L, next_char,\n",
    "                              base=base,\n",
    "                              digits_pointer=digits_pointer,\n",
    "                              digits_length=digits_length)\n",
    "\n",
    "        buffer = buffer[L+1:] + S[position:position+L+1]\n",
    "        position += L+1\n",
    "\n",
    "    return code\n",
    "\n",
    "assert compress(S) == code"
   ]
  },
  {
   "cell_type": "markdown",
   "id": "f8ce4df0-823a-4f47-9fd3-c8331be0be83",
   "metadata": {},
   "source": [
    "### Decompression\n",
    "\n",
    "To decode the string we apply the process in reverse.\n",
    "We start with the same initial buffer of zeros"
   ]
  },
  {
   "cell_type": "code",
   "execution_count": 52,
   "id": "5d37900b-f082-4ca4-96c6-66eec120398a",
   "metadata": {},
   "outputs": [
    {
     "data": {
      "text/plain": [
       "'000000000'"
      ]
     },
     "execution_count": 52,
     "metadata": {},
     "output_type": "execute_result"
    }
   ],
   "source": [
    "buffer = '0' * (n - L_s)\n",
    "decode = ''\n",
    "buffer"
   ]
  },
  {
   "cell_type": "markdown",
   "id": "6e26870b-05d5-41c7-8aed-b7cf4a4476f8",
   "metadata": {},
   "source": [
    "We then read in the first codeword"
   ]
  },
  {
   "cell_type": "code",
   "execution_count": 53,
   "id": "d8f7d697-8972-45cf-a753-53552670cc8b",
   "metadata": {},
   "outputs": [
    {
     "data": {
      "text/plain": [
       "'22021'"
      ]
     },
     "execution_count": 53,
     "metadata": {},
     "output_type": "execute_result"
    }
   ],
   "source": [
    "C1"
   ]
  },
  {
   "cell_type": "markdown",
   "id": "aeb3d9c5-77ae-43d7-be89-89990e72b103",
   "metadata": {},
   "source": [
    "Decode it into a pointer, length, and next symbol"
   ]
  },
  {
   "cell_type": "code",
   "execution_count": 54,
   "id": "73ef85f7-f194-4863-b2c1-1908859b3c56",
   "metadata": {},
   "outputs": [
    {
     "data": {
      "text/plain": [
       "(8, 2, '1')"
      ]
     },
     "execution_count": 54,
     "metadata": {},
     "output_type": "execute_result"
    }
   ],
   "source": [
    "p, L, next_char = decode_symbol(C1)\n",
    "p, L, next_char"
   ]
  },
  {
   "cell_type": "markdown",
   "id": "3edae113-a17f-4727-b709-5bf7f73e3531",
   "metadata": {},
   "source": [
    "Starting at index 8 we only have one character:"
   ]
  },
  {
   "cell_type": "code",
   "execution_count": 55,
   "id": "cc938d27-bbd0-4d4c-9c75-366c8a3ada25",
   "metadata": {},
   "outputs": [
    {
     "data": {
      "text/plain": [
       "'0'"
      ]
     },
     "execution_count": 55,
     "metadata": {},
     "output_type": "execute_result"
    }
   ],
   "source": [
    "buffer[p:p+L]"
   ]
  },
  {
   "cell_type": "markdown",
   "id": "0fd3bff8-fd32-48be-b21b-991cd94129df",
   "metadata": {},
   "source": [
    "We need to cyclically extend it to get the whole string:"
   ]
  },
  {
   "cell_type": "code",
   "execution_count": 56,
   "id": "f5da7191-99f5-41b0-99d9-c21a598cd779",
   "metadata": {},
   "outputs": [
    {
     "data": {
      "text/plain": [
       "'00'"
      ]
     },
     "execution_count": 56,
     "metadata": {},
     "output_type": "execute_result"
    }
   ],
   "source": [
    "reproducible_extension = ''\n",
    "while len(reproducible_extension) < L:\n",
    "    reproducible_extension += buffer[p:p+L]\n",
    "    \n",
    "reproducible_extension = reproducible_extension[:L]\n",
    "reproducible_extension"
   ]
  },
  {
   "cell_type": "markdown",
   "id": "e871db26-e725-45a7-92e8-95cb29ea3f5c",
   "metadata": {},
   "source": [
    "Now we can append the next character to this to decode our first set of symbols:"
   ]
  },
  {
   "cell_type": "code",
   "execution_count": 57,
   "id": "ecf7d455-e6d7-45d0-a6fa-35364baf614c",
   "metadata": {},
   "outputs": [
    {
     "data": {
      "text/plain": [
       "'001'"
      ]
     },
     "execution_count": 57,
     "metadata": {},
     "output_type": "execute_result"
    }
   ],
   "source": [
    "decode += reproducible_extension + next_char\n",
    "decode"
   ]
  },
  {
   "cell_type": "markdown",
   "id": "cd576472-bfd1-4320-af4d-95355fa31261",
   "metadata": {},
   "source": [
    "And the decoded string gets shifted into the end of the buffer:"
   ]
  },
  {
   "cell_type": "code",
   "execution_count": 58,
   "id": "8601cac1-9b4d-45fa-bb97-23f620531d78",
   "metadata": {},
   "outputs": [
    {
     "data": {
      "text/plain": [
       "'000000001'"
      ]
     },
     "execution_count": 58,
     "metadata": {},
     "output_type": "execute_result"
    }
   ],
   "source": [
    "buffer = buffer[len(decode):] + decode\n",
    "buffer"
   ]
  },
  {
   "cell_type": "markdown",
   "id": "82137bd5-3ca0-451d-89a8-9e98c599156a",
   "metadata": {},
   "source": [
    "Now we proceed to the next code word:"
   ]
  },
  {
   "cell_type": "code",
   "execution_count": 59,
   "id": "1475ddf8-3360-4423-a075-82e128b66099",
   "metadata": {},
   "outputs": [
    {
     "data": {
      "text/plain": [
       "'21102'"
      ]
     },
     "execution_count": 59,
     "metadata": {},
     "output_type": "execute_result"
    }
   ],
   "source": [
    "C2"
   ]
  },
  {
   "cell_type": "markdown",
   "id": "b2485fbe-ced5-464a-979e-09b644c53e7f",
   "metadata": {},
   "source": [
    "As before we get out the pointer, length and next character:"
   ]
  },
  {
   "cell_type": "code",
   "execution_count": 60,
   "id": "be7c552a-6909-49a4-8f4a-88681c222ef9",
   "metadata": {},
   "outputs": [
    {
     "data": {
      "text/plain": [
       "(7, 3, '2')"
      ]
     },
     "execution_count": 60,
     "metadata": {},
     "output_type": "execute_result"
    }
   ],
   "source": [
    "p, L, next_char = decode_symbol(C2)\n",
    "p, L, next_char"
   ]
  },
  {
   "cell_type": "markdown",
   "id": "816f64a3-069b-4cf5-bf3b-70a988773636",
   "metadata": {},
   "source": [
    "And read out the reproducible extension:"
   ]
  },
  {
   "cell_type": "code",
   "execution_count": 61,
   "id": "a33c3dc8-4afb-4f78-915e-3b2fcd3d1a35",
   "metadata": {},
   "outputs": [
    {
     "data": {
      "text/plain": [
       "'010'"
      ]
     },
     "execution_count": 61,
     "metadata": {},
     "output_type": "execute_result"
    }
   ],
   "source": [
    "reproducible_extension = ''\n",
    "while len(reproducible_extension) < L:\n",
    "    reproducible_extension += buffer[p:p+L]\n",
    "    \n",
    "reproducible_extension = reproducible_extension[:L]\n",
    "reproducible_extension"
   ]
  },
  {
   "cell_type": "markdown",
   "id": "8395836b-ee5a-4e44-8451-0303168dfd21",
   "metadata": {},
   "source": [
    "And update our code string"
   ]
  },
  {
   "cell_type": "code",
   "execution_count": 62,
   "id": "093042e6-d8f7-46f7-a043-d33c64d6130f",
   "metadata": {},
   "outputs": [
    {
     "data": {
      "text/plain": [
       "'0010102'"
      ]
     },
     "execution_count": 62,
     "metadata": {},
     "output_type": "execute_result"
    }
   ],
   "source": [
    "decode += reproducible_extension + next_char\n",
    "decode"
   ]
  },
  {
   "cell_type": "markdown",
   "id": "e741af8f-6466-49b2-ba09-ac6883172709",
   "metadata": {},
   "source": [
    "And buffer:"
   ]
  },
  {
   "cell_type": "code",
   "execution_count": 63,
   "id": "c0c3d67b-81dd-4208-8515-902ee7d87c6d",
   "metadata": {},
   "outputs": [
    {
     "data": {
      "text/plain": [
       "'010010102'"
      ]
     },
     "execution_count": 63,
     "metadata": {},
     "output_type": "execute_result"
    }
   ],
   "source": [
    "buffer = buffer[len(decode):] + decode\n",
    "buffer"
   ]
  },
  {
   "cell_type": "markdown",
   "id": "172b0604-82c0-4a4a-b1bf-4f1d6aeee236",
   "metadata": {},
   "source": [
    "This continues until we have no codewords left.\n",
    "\n",
    "We can put this in a loop:"
   ]
  },
  {
   "cell_type": "code",
   "execution_count": 64,
   "id": "dc1472cd-2233-4c21-96c6-a7a40060b38d",
   "metadata": {},
   "outputs": [],
   "source": [
    "def decompress(C: str,\n",
    "               base: int = α, \n",
    "               L_s: int = L_s,\n",
    "               n: int = n,\n",
    "            ) -> str:\n",
    "    output = ''\n",
    "    \n",
    "    L_context = n - L_s\n",
    "    \n",
    "    digits_pointer = ceil(log(L_context, base))\n",
    "    digits_length = ceil(log(L_s, base))\n",
    "\n",
    "    L_c = digits_pointer + digits_length + 1\n",
    "\n",
    "    index = 0\n",
    "    buffer = '0' * (n - L_s)\n",
    "    while index < len(C):\n",
    "        code_symbol = C[index:index + L_c]\n",
    "        index += L_c\n",
    "        \n",
    "        p, L, next_char = decode_symbol(code_symbol,\n",
    "                                        base=base,\n",
    "                                        digits_pointer=digits_pointer,\n",
    "                                        digits_length=digits_length)\n",
    "\n",
    "        reproducible_extension = ''\n",
    "        # Cyclical extension\n",
    "        while len(reproducible_extension) < L:\n",
    "            reproducible_extension += buffer[p:p+L]\n",
    "        reproducible_extension = reproducible_extension[:L]\n",
    "\n",
    "        decode = reproducible_extension + next_char\n",
    "\n",
    "        buffer = buffer[len(decode):] + decode\n",
    "        output += decode\n",
    "\n",
    "    assert index == len(C), \"Unexpected code length\"\n",
    "\n",
    "    return output"
   ]
  },
  {
   "cell_type": "markdown",
   "id": "d821afc3-684f-4cee-8f4f-8a8c6eebdd40",
   "metadata": {},
   "source": [
    "Let's check this recovers our original text:"
   ]
  },
  {
   "cell_type": "code",
   "execution_count": 65,
   "id": "e9474358-22ea-49d0-8a25-cf2f91796207",
   "metadata": {},
   "outputs": [],
   "source": [
    "assert decompress(code) == S"
   ]
  },
  {
   "cell_type": "markdown",
   "id": "bc165e1c-fd15-40f6-a21a-bd2244966c00",
   "metadata": {},
   "source": [
    "And this is more generally true for any code:"
   ]
  },
  {
   "cell_type": "code",
   "execution_count": 66,
   "id": "68736d4b-3718-4672-8a94-3afae0599429",
   "metadata": {},
   "outputs": [],
   "source": [
    "@given(nonempty_string_from_number_alphabet(), st.integers(2, 100), st.integers(2, 100))\n",
    "def test_compress_decompress(s_base, L_s, pointer_size):\n",
    "    s, base = s_base\n",
    "    n = L_s + pointer_size\n",
    "    \n",
    "    c = compress(s, base, L_s, n)\n",
    "    \n",
    "    assert decompress(c, base, L_s, n) == s\n",
    "\n",
    "test_compress_decompress()"
   ]
  },
  {
   "cell_type": "markdown",
   "id": "0f2de1e5-dd2d-4b7a-bfc3-6312517efb72",
   "metadata": {},
   "source": [
    "## Making LZ77 compression more effective\n",
    "\n",
    "The algorithm I wrote above works but you wouldn't use it in practice.\n",
    "Aside from representing bits as strings, the encoding itself has a lot of redundancy and the algorithm to find the longest prefix is very slow.\n",
    "This section will briefly outline a few of these points but there are surely a lot more tricks in production libraries like `zlib`.\n",
    "\n",
    "### Reduncancy in the codes\n",
    "\n",
    "Note that not all codes are reachable from `compress`, and that means the code is not as efficient as it could be.\n",
    "\n",
    "For example when the length is zero all pointers would all decode to the same string."
   ]
  },
  {
   "cell_type": "code",
   "execution_count": 67,
   "id": "ef8ffcc6-2a3a-410a-84fe-814f384f884e",
   "metadata": {},
   "outputs": [
    {
     "data": {
      "text/plain": [
       "('0', '0')"
      ]
     },
     "execution_count": 67,
     "metadata": {},
     "output_type": "execute_result"
    }
   ],
   "source": [
    "decompress('00000'), decompress('22000')"
   ]
  },
  {
   "cell_type": "code",
   "execution_count": 68,
   "id": "67ae4979-3caa-4b93-8462-bc6e8269fd23",
   "metadata": {},
   "outputs": [
    {
     "data": {
      "text/plain": [
       "('10111', '10111')"
      ]
     },
     "execution_count": 68,
     "metadata": {},
     "output_type": "execute_result"
    }
   ],
   "source": [
    "decompress('22001' '21021' '22001'), decompress('22001' '21021' '00001')"
   ]
  },
  {
   "cell_type": "markdown",
   "id": "a5322f6c-88c8-4306-8e3f-e5cccc7e5db5",
   "metadata": {},
   "source": [
    "We could use these extra characters to store more information, for example we could store in total `digits_pointer + 1` next characters when the length is 0.\n",
    "In fact if the length is less than `digits_pointer + 1` then just storing the characters in the pointer is more efficient than using the length encoding.\n",
    "\n",
    "Howver there may be cases when advancing only 1 or 2 symbols puts us in a better place to find a longer reproducible extension after; these could also be considered for a non-greedy variation."
   ]
  },
  {
   "cell_type": "markdown",
   "id": "501aba1c-e222-4654-b17c-771f24c16d7a",
   "metadata": {},
   "source": [
    "### Speeding up the search\n",
    "\n",
    "Looking for the longest pointer in all the substrings is the slowest part of this algorithm for large search strings.\n",
    "Given out tricks for redundancy we actually only need to do this if there are `digits_pointer + 1` items.\n",
    "\n",
    "Instead of looping through all the codes we could just store all possible prefixes of length `digits_pointer + 1` in a hash map, saving us from doing may non-matching comparisons.\n",
    "Further we could store the possible strings in a prefix-tree which could be searched more efficiently.\n",
    "\n",
    "In fact there's actually no need for the pointer to refer to a specific point in the original string.\n",
    "The LZ77 algorithm is really a kind of variable-to-block code where the code is based on previously seen strings.\n",
    "With this perspective we could consider different methods of building this mapping as long as we can always reach every entry with an index, and that it is possible to reconstruct the mapping at decompression time."
   ]
  },
  {
   "cell_type": "markdown",
   "id": "fc23d46b-286b-421b-8ea4-dd1815c5271d",
   "metadata": {},
   "source": [
    "### Choosing the initial buffer\n",
    "\n",
    "Similarly the first code word is *guaranteed* to have the maximum pointer; with length 0 if the first symbol is not a `0`, or otherwise with positive length if it is."
   ]
  },
  {
   "cell_type": "code",
   "execution_count": 69,
   "id": "2d67cebb-65d6-431d-b2ba-519b4d826b56",
   "metadata": {},
   "outputs": [
    {
     "name": "stdout",
     "output_type": "stream",
     "text": [
      "22000 22001 22002 22010 22011 22012 22020 22021 22022 \n",
      "22100 22101 22102 22110 22111 22112 22120 22121 22122 \n",
      "22200 22201 22202 22210 22211 22212 22220 22221 22222 \n"
     ]
    }
   ],
   "source": [
    "from itertools import product\n",
    "\n",
    "all_first_codes = map(''.join, product(*[A]*L_c))\n",
    "\n",
    "possible_first_codes = [code for code in all_first_codes if compress(decompress(code)) == code]\n",
    "\n",
    "ncol = 9\n",
    "for i in range(0, len(possible_first_codes), ncol):\n",
    "    row = possible_first_codes[i:i+ncol]\n",
    "    print((\"{} \" * len(row)).format(*row))"
   ]
  },
  {
   "cell_type": "markdown",
   "id": "3cb0cba8-b5de-49c4-b82b-aba5050ee93f",
   "metadata": {},
   "source": [
    "We could make this more efficient by storing additional characters in the first entry, or alternatively by starting with a richer initial buffer (or mapping as described in the previous seciond) that has a greater range of characters."
   ]
  },
  {
   "cell_type": "markdown",
   "id": "50f15be3-39a8-4802-b1bd-a0a178553cda",
   "metadata": {},
   "source": [
    "## Compression of constrained sources\n",
    "\n",
    "The algorithm itself is just Section 2 of Lempel and Ziv's *A Universal Algorithm for Sequential Data Compression*, the rest of the paper tries to put some estimates on how good a compressor it is.\n",
    "The problem is their proofs of worst case compression only work in really uninteresting cases; when there are pairs of letters that *never* occur in the same string.\n",
    "This is not at all useful!\n",
    "\n",
    "This section is going to work through in detail why the proofs aren't interesting; if you just want to compress some text you can skip ahead to the next section where we apply it on real data."
   ]
  },
  {
   "cell_type": "markdown",
   "id": "29b1bfc8-d4b1-43d5-9463-a4e193f74a75",
   "metadata": {},
   "source": [
    "### Sources\n",
    "\n",
    "I once heard a story about a group of mathematical researchers that spent years studying a class of objects defined by some axioms before they realised the class was empty; no object satisfied all those properties.\n",
    "I have no idea of the veracity of the story, but there is a kernel of truth that it's not always clear from a definition what the concrete objects that satisfy it are.\n",
    "It pays to try to at least work through some examples.\n",
    "\n",
    "We start with an alphabet $A = \\{0, 1, \\ldots, \\alpha-1\\}$ and the set of all possible strings with letters from that alphabet, denoted using the [Kleene Star](https://en.wikipedia.org/wiki/Kleene_star) $A^*$.\n",
    "In the paper a *source* $\\sigma$ is a subset of these strings that satisfies three properties:\n",
    "\n",
    "1. It contains all the length 1 strings; or in mathematical notation $a \\in A$ implies $a \\in \\sigma$\n",
    "2. Any string from the source concatenated with itself is in the source; $S \\in \\sigma$ implies $SS \\in \\sigma$\n",
    "3. Any substring of a string from the source is also in the source; $STU \\in \\sigma$ implies $T \\in \\sigma$\n",
    "\n",
    "I claim that a source is just a union of all strings over different alphabets; that is for any source $\\sigma$ over $A$ there exists sub-alphabets $A_1, A_2, \\ldots A_k$ such that $\\sigma = A_1^* \\cup A_2^* \\cdots  \\cup A_k^*$ (here $\\cup$ means union of sets, but you can also think of it as alternation `|` in regular expressions).\n",
    "This isn't very practically interesting; many files could contain every possible valid character $A^\\star$, and in this case their proofs reduce to no compression.\n",
    "If we really did have this kind of source a simple compression would be to record the first character and then switch to a different encoding depending on which $A_i$ we are in.\n",
    "\n",
    "### Simplest possible source\n",
    "\n",
    "Let's consider the simplest possible source.\n",
    "Let's start with property 1:"
   ]
  },
  {
   "cell_type": "code",
   "execution_count": 70,
   "id": "cc3a43ab-9be7-46ab-9063-24d554f17d2a",
   "metadata": {},
   "outputs": [
    {
     "data": {
      "text/plain": [
       "{'0', '1'}"
      ]
     },
     "execution_count": 70,
     "metadata": {},
     "output_type": "execute_result"
    }
   ],
   "source": [
    "A = ['0', '1']\n",
    "\n",
    "source = set(A)\n",
    "source"
   ]
  },
  {
   "cell_type": "markdown",
   "id": "dede0213-9758-413c-88da-794970a686de",
   "metadata": {},
   "source": [
    "We extend it with all concetenations to get all runs of '0' and '1' to length 2:"
   ]
  },
  {
   "cell_type": "code",
   "execution_count": 71,
   "id": "ca8b0874-8e79-4fc6-b321-c7db97087457",
   "metadata": {},
   "outputs": [
    {
     "data": {
      "text/plain": [
       "{'0', '00', '1', '11'}"
      ]
     },
     "execution_count": 71,
     "metadata": {},
     "output_type": "execute_result"
    }
   ],
   "source": [
    "concatenations = {s + s for s in source}\n",
    "    \n",
    "source.update(concatenations)\n",
    "source"
   ]
  },
  {
   "cell_type": "markdown",
   "id": "686b1139-d638-4528-9f60-ea7677827e96",
   "metadata": {},
   "source": [
    "And then concatenations of concatenations to get runs of length 1,2 and 4"
   ]
  },
  {
   "cell_type": "code",
   "execution_count": 72,
   "id": "8f64d731-3b46-4c4e-9c17-5e0fb4c343e7",
   "metadata": {},
   "outputs": [
    {
     "data": {
      "text/plain": [
       "{'0', '00', '0000', '1', '11', '1111'}"
      ]
     },
     "execution_count": 72,
     "metadata": {},
     "output_type": "execute_result"
    }
   ],
   "source": [
    "concatenations = {s + s for s in source}\n",
    "    \n",
    "source.update(concatenations)\n",
    "source"
   ]
  },
  {
   "cell_type": "markdown",
   "id": "648efdde-620b-4396-a6e8-894a391a416b",
   "metadata": {},
   "source": [
    "Repeating we would get runs of '0' and '1' of length 1, 2, 4, 8, 16, ...\n",
    "\n",
    "But we can also apply property 3, taking substrings to get other lengths"
   ]
  },
  {
   "cell_type": "code",
   "execution_count": 73,
   "id": "5a2a11e0-7dd7-4d91-bc44-9e2f6ad51800",
   "metadata": {},
   "outputs": [
    {
     "data": {
      "text/plain": [
       "{'', '0', '00', '000', '1', '11', '111'}"
      ]
     },
     "execution_count": 73,
     "metadata": {},
     "output_type": "execute_result"
    }
   ],
   "source": [
    "substrings = {s[i:j]\n",
    "              for s in source\n",
    "              for i in range(len(s))\n",
    "              for j in range(i, len(s))\n",
    "             }\n",
    "\n",
    "substrings"
   ]
  },
  {
   "cell_type": "code",
   "execution_count": 74,
   "id": "deb86eef-46f0-4b0b-82ac-5abcb817a623",
   "metadata": {},
   "outputs": [
    {
     "data": {
      "text/plain": [
       "{'', '0', '00', '000', '0000', '1', '11', '111', '1111'}"
      ]
     },
     "execution_count": 74,
     "metadata": {},
     "output_type": "execute_result"
    }
   ],
   "source": [
    "source.update(substrings)\n",
    "source"
   ]
  },
  {
   "cell_type": "markdown",
   "id": "60db97a6-3352-4354-91d7-216945a5fdcc",
   "metadata": {},
   "source": [
    "We can write this formally by using exponent notation for concatentation, so $S^2 = SS$.\n",
    "Our lemma is if $S \\in \\sigma$ then $S^k \\in \\sigma$ for $k=1, 2, \\ldots$.\n",
    "We can prove this by induction; if $S^k \\in \\sigma$ then by the concatenation property $S^k S^k = S^{2k} \\in \\sigma$.\n",
    "Since a substring of a source string is also in the source, we can take the substring of $k$ times the length of $S$ to get $S^{k+1} \\in \\sigma$.\n",
    "\n",
    "So then by property 1 the smallest possible source is $\\sigma = 0^* \\sqcup 1^* \\sqcup \\cdots (\\alpha-1)^*$.\n",
    "This is indeed a source since:\n",
    "\n",
    "1. It contains all the length 1 strings in $A$\n",
    "2. If $S \\in \\sigma$ then $S = a^k$ for some $a \\in A$ and $SS = a^{2k} \\in \\sigma$\n",
    "3. If $STU \\in \\sigma$ then $STU = a^k$ and so $T = a^l$ for some $l \\leq k$, and $T \\in \\sigma$\n",
    "\n",
    "### Second smallest source\n",
    "\n",
    "So that's the smallest source, what's the next largest source over a binary alphabet?\n",
    "This must be by adding $01$; by symmetry adding $10$ would give the same sized alphabet, and any longer string that is not $0^n$ or $1^n$ must contain a $01$ or $10$ somewhere, and so by the substring rule must be at least as big."
   ]
  },
  {
   "cell_type": "code",
   "execution_count": 75,
   "id": "564b43fb-6cd0-4a19-9720-e6963abcd088",
   "metadata": {},
   "outputs": [
    {
     "data": {
      "text/plain": [
       "['0', '1', '01']"
      ]
     },
     "execution_count": 75,
     "metadata": {},
     "output_type": "execute_result"
    }
   ],
   "source": [
    "source = {'0', '1', '01'}\n",
    "sorted(source, key = lambda x: (len(x), x))"
   ]
  },
  {
   "cell_type": "markdown",
   "id": "da3a171b-d009-4d17-8c20-b217b906647c",
   "metadata": {},
   "source": [
    "Let's add self-concatenations:"
   ]
  },
  {
   "cell_type": "code",
   "execution_count": 76,
   "id": "65e87488-e1be-42a5-91e0-abe71aa0bb89",
   "metadata": {},
   "outputs": [
    {
     "data": {
      "text/plain": [
       "['0', '1', '00', '01', '11', '0101']"
      ]
     },
     "execution_count": 76,
     "metadata": {},
     "output_type": "execute_result"
    }
   ],
   "source": [
    "concatenations = {s + s for s in source}\n",
    "    \n",
    "source.update(concatenations)\n",
    "\n",
    "sorted(source, key = lambda x: (len(x), x))"
   ]
  },
  {
   "cell_type": "markdown",
   "id": "897ebd8d-bc64-4edf-8b4b-45ccf24ee5e3",
   "metadata": {},
   "source": [
    "Adding substrings we see we get `10` (from the middle of the self-concatenation) `0101`.\n",
    "So we have all length 2 strings."
   ]
  },
  {
   "cell_type": "code",
   "execution_count": 77,
   "id": "995c2505-77f4-4211-bf6a-d33801a014ca",
   "metadata": {},
   "outputs": [
    {
     "data": {
      "text/plain": [
       "['', '0', '1', '00', '01', '10', '11', '010', '0101']"
      ]
     },
     "execution_count": 77,
     "metadata": {},
     "output_type": "execute_result"
    }
   ],
   "source": [
    "substrings = {s[i:j]\n",
    "              for s in source\n",
    "              for i in range(len(s))\n",
    "              for j in range(i, len(s))\n",
    "             }\n",
    "\n",
    "source.update(substrings)\n",
    "\n",
    "sorted(source, key = lambda x: (len(x), x))"
   ]
  },
  {
   "cell_type": "markdown",
   "id": "544930ae-bfe8-4e6b-9222-dfa10602fc8e",
   "metadata": {},
   "source": [
    "We can apply concatenation and substrings again; the strings are getting long now so lets just keep track of the counts:"
   ]
  },
  {
   "cell_type": "code",
   "execution_count": 78,
   "id": "f5d4ee76-f974-4a92-a371-9f398e0ea529",
   "metadata": {},
   "outputs": [
    {
     "data": {
      "text/plain": [
       "[(0, 1), (1, 2), (2, 4), (3, 6), (4, 6), (5, 3), (6, 3), (7, 1), (8, 1)]"
      ]
     },
     "execution_count": 78,
     "metadata": {},
     "output_type": "execute_result"
    }
   ],
   "source": [
    "from collections import Counter\n",
    "\n",
    "concatenations = {s + s for s in source}\n",
    "    \n",
    "source.update(concatenations)\n",
    "\n",
    "substrings = {s[i:j]\n",
    "              for s in source\n",
    "              for i in range(len(s))\n",
    "              for j in range(i, len(s))\n",
    "             }\n",
    "\n",
    "source.update(substrings)\n",
    "\n",
    "sorted(Counter(map(len, source)).items())"
   ]
  },
  {
   "cell_type": "markdown",
   "id": "11f02e90-8f58-4c5f-8174-2284252de3e8",
   "metadata": {},
   "source": [
    "If we apply it again we get all $2^3 = 8$ strings of length 3."
   ]
  },
  {
   "cell_type": "code",
   "execution_count": 79,
   "id": "c9038e1d-8bab-48e2-8c2b-da20246e05f4",
   "metadata": {},
   "outputs": [
    {
     "data": {
      "text/plain": [
       "[(0, 1),\n",
       " (1, 2),\n",
       " (2, 4),\n",
       " (3, 8),\n",
       " (4, 14),\n",
       " (5, 19),\n",
       " (6, 19),\n",
       " (7, 19),\n",
       " (8, 18),\n",
       " (9, 12),\n",
       " (10, 10),\n",
       " (11, 6),\n",
       " (12, 5),\n",
       " (13, 3),\n",
       " (14, 3),\n",
       " (15, 1),\n",
       " (16, 1)]"
      ]
     },
     "execution_count": 79,
     "metadata": {},
     "output_type": "execute_result"
    }
   ],
   "source": [
    "concatenations = {s + s for s in source}\n",
    "    \n",
    "source.update(concatenations)\n",
    "\n",
    "substrings = {s[i:j]\n",
    "              for s in source\n",
    "              for i in range(len(s))\n",
    "              for j in range(i, len(s))\n",
    "             }\n",
    "\n",
    "source.update(substrings)\n",
    "\n",
    "sorted(Counter(map(len, source)).items())"
   ]
  },
  {
   "cell_type": "markdown",
   "id": "b6be193a-c425-489d-84d0-ef25a621305e",
   "metadata": {},
   "source": [
    "If we apply it again we get all $2^4 = 16$ strings of length 4."
   ]
  },
  {
   "cell_type": "code",
   "execution_count": 80,
   "id": "1f805365-4889-430e-8b81-c2c391f23fdf",
   "metadata": {},
   "outputs": [
    {
     "data": {
      "text/plain": [
       "16"
      ]
     },
     "execution_count": 80,
     "metadata": {},
     "output_type": "execute_result"
    }
   ],
   "source": [
    "concatenations = {s + s for s in source}\n",
    "    \n",
    "source.update(concatenations)\n",
    "\n",
    "substrings = {s[i:j]\n",
    "              for s in source\n",
    "              for i in range(len(s))\n",
    "              for j in range(i, len(s))\n",
    "             }\n",
    "\n",
    "source.update(substrings)\n",
    "\n",
    "Counter(map(len, source))[4]"
   ]
  },
  {
   "cell_type": "markdown",
   "id": "0f80965f-ebd6-45e4-ad8e-ef97bf61a18e",
   "metadata": {},
   "source": [
    "It looks like we're getting all strings, $\\{0,1\\}^*$.\n",
    "What's going on here?\n",
    "\n",
    "### All possible sources\n",
    "\n",
    "Sequentially applying concatenation and substring is very powerful.\n",
    "For example we can cycle indices: if $a_1 a_2 \\ldots a_{n-1} a_n \\in \\sigma$ then  $a_{n} a_1 a_2 \\ldots a_{n-1} \\in \\sigma$\n",
    "$$\\begin{align}\n",
    "a_1 a_2 \\ldots a_{n-1} a_n  & \\in \\sigma & \\text{(Assumption)}  \\\\\n",
    "a_1 a_2 \\ldots a_{n-1} a_n a_1 a_2 \\ldots a_{n-1} a_n  & \\in \\sigma & \\text{(Concatenation)} \\\\\n",
    "a_n a_1 a_2 \\ldots a_{n-1}  & \\in \\sigma & \\text{(Substring index n, length n)}\n",
    "\\end{align}$$\n",
    "\n",
    "Note that this means we can *delete* any substring of a source to get another source; we simply cycle the item to be deleted to the end, take the substring excluding the end item, and then cycle back to the original position.\n",
    "\n",
    "We can also make a copy of any substring of a source and prepend it to get a new substring:\n",
    "$$\\begin{align}\n",
    "a_1 \\ldots a_i \\ldots a_n  & \\in \\sigma & \\text{(Assumption)}  \\\\\n",
    "a_1 \\ldots a_i \\ldots a_n  a_1 \\ldots a_i \\ldots a_n   & \\in \\sigma & \\text{(Concatenation)} \\\\\n",
    "a_1 \\ldots a_i \\ldots a_n  a_1 \\ldots a_i  & \\in \\sigma & \\text{(Substring index 1, length n+i)} \\\\\n",
    "a_1 \\ldots a_i \\ldots a_n  a_1 \\ldots a_i a_1 \\ldots a_i \\ldots a_n  a_1 \\ldots a_i  & \\in \\sigma & \\text{(Concatenation)} \\\\\n",
    "a_i a_1 \\ldots a_i \\ldots a_n  & \\in \\sigma & \\text{(Substring index n+i, length n+1)}\n",
    "\\end{align}$$\n",
    "\n",
    "These properties together mean we can *swap* any adjacent pair of indices.\n",
    "By the cycling property we only need to prove we can swap the last two indices:\n",
    "$$\\begin{align}\n",
    "a_1 \\ldots a_{n-2} a_{n-1} a_n  & \\in \\sigma & \\text{(Assumption)}  \\\\\n",
    "a_{n-1} a_1 \\ldots a_{n-2} a_{n-1} a_n    & \\in \\sigma & \\text{(Prepending)} \\\\\n",
    "a_{n} a_{n-1} a_1 \\ldots a_{n-2} a_{n-1} a_n    & \\in \\sigma & \\text{(Prepending)} \\\\\n",
    "a_{n} a_{n-1} a_1 \\ldots a_{n-2}  & \\in \\sigma & \\text{(Substring index 1, length n)} \\\\\n",
    "a_1 \\ldots a_{n-2} a_{n} a_{n-1} & \\in \\sigma & \\text{(Cycling indices)} \\\\\n",
    "\\end{align}$$\n",
    "Swapping adjacent indices [generates all permutations](https://en.wikipedia.org/wiki/Symmetric_group#Generators_and_relations), so any permutation of a source is also a source.\n",
    "\n",
    "Since we can arbitrarily prepend, delete and permute any substrings this generates all possible strings over the distinct letters in $S$.\n",
    "So if $S = a_1 \\ldots a_n \\in \\sigma$ with $a_i \\in A$ then $\\{a_1, \\ldots, a_n \\}^* \\in \\sigma$.\n",
    "\n",
    "This is just what we set out to prove; any source can be decomposed as strings over sub-alphabets $\\sigma = A_1^* \\cup A_2^* \\cdots  \\cup A_k^*$.\n",
    "So for example in the ternary case the possible sources are \n",
    "\n",
    "* $0^* \\cup 1^* \\cup 2^*$\n",
    "* $(0 \\vert 1)^* \\cup 2^*$\n",
    "* $(0 \\vert 2)^* \\cup 1^*$\n",
    "* $(1 \\vert 2)^* \\cup 0^*$\n",
    "* $(0 \\vert 1)^* \\cup (0\\vert 2)^*$\n",
    "* $(0 \\vert 1)^* \\cup (1\\vert 2)^*$\n",
    "* $(0 \\vert 2)^* \\cup (1\\vert 2)^*$\n",
    "* $(0 \\vert 1 \\vert 2)^*$"
   ]
  },
  {
   "cell_type": "markdown",
   "id": "f218c08f-4464-4cbd-aa4a-cb2145912e4a",
   "metadata": {},
   "source": [
    "### Bounds and h-numbers\n",
    "\n",
    "If you're still following along with the original paper there's some talk about $h$ numbers, $$ h(m) = \\frac{1}{m} \\log_{\\alpha} \\lvert\\{s \\in \\sigma \\vert \\operatorname{length}(s) = m\\}\\rvert $$\n",
    "\n",
    "The only practically interesting sources are $\\sigma = A^*$ in which case $h(m) = 1$, and their worst case compression bound of $\\rho \\leq h (L_c - 1) + \\epsilon(L_s) = (L_s - 1) + \\epsilon(L_s)$ is very unimpressive.\n",
    "A simple argument that each encoded string contains at least 1 character (the next character) gives a worst case compression ratio of $\\rho \\leq (L_c - 1)$.\n",
    "\n",
    "The real way to tell how well it actually works is to use it in applications; looking at the [Squash benchmark](https://quixdb.github.io/squash-benchmark/) methods based on LZ77 such as zlib compress a wide variety of sources and can process the data relatively fast (although there are other algorithms that compress data much more at a cost of being much slower)."
   ]
  }
 ],
 "metadata": {
  "kernelspec": {
   "display_name": "Python 3 (ipykernel)",
   "language": "python",
   "name": "python3"
  },
  "language_info": {
   "codemirror_mode": {
    "name": "ipython",
    "version": 3
   },
   "file_extension": ".py",
   "mimetype": "text/x-python",
   "name": "python",
   "nbconvert_exporter": "python",
   "pygments_lexer": "ipython3",
   "version": "3.11.9"
  }
 },
 "nbformat": 4,
 "nbformat_minor": 5
}
