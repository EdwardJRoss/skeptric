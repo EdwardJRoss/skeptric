{
 "cells": [
  {
   "cell_type": "raw",
   "id": "8257da14-b6c6-4f5b-8381-9fc086d68d7d",
   "metadata": {},
   "source": [
    "---\n",
    "categories:\n",
    "  - gutenberg\n",
    "date: '2024-02-07T18:03:00+11:00'\n",
    "image: ./my_man_jeeves.jpg\n",
    "title: A dataset of P. G. Wodehouse books\n",
    "format:\n",
    "  html:\n",
    "    toc: true\n",
    "---"
   ]
  },
  {
   "cell_type": "markdown",
   "id": "fe81ce90-cba0-46ea-8839-2c4c8f304d79",
   "metadata": {},
   "source": [
    "We are going to create a text dataset from the books of [P. G. Wodehouse](https://en.wikipedia.org/wiki/P._G._Wodehouse) for language modelling.\n",
    "I enjoy his style of writing, and his books are in the public domain in many countries, so it's a fun dataset to train language models on.\n",
    "\n",
    "Here we will download his books from Project Gutenberg, do some light exploratory analysis and data cleaning, and save the dataset for future language modelling.\n",
    "\n",
    "::: {.callout-note}\n",
    "This is a Jupyter notebook you can [download](https://github.com/EdwardJRoss/skeptric/blob/master/wodehouse/index.ipynb) \n",
    ":::"
   ]
  },
  {
   "cell_type": "code",
   "execution_count": 1,
   "id": "be912e81-16d0-4136-a14a-0b4e63f1e18a",
   "metadata": {},
   "outputs": [],
   "source": [
    "#| echo: false\n",
    "\n",
    "import matplotlib.pyplot as plt\n",
    "import numpy as np"
   ]
  },
  {
   "cell_type": "markdown",
   "id": "fe5ab7fc-cd93-4978-b137-3458d747ed17",
   "metadata": {},
   "source": [
    "# Load the Data\n",
    "\n",
    "We'll download all the books written by P. G. Wodehouse from Project Gutenberg following my guide to [downloading from Project Gutenberg](https://skeptric.com/gutenberg/).\n",
    "Firstly we only want to download things once when iterating with this code, so I'll create a Python [shelve](https://docs.python.org/3/library/shelve.html) to store the downloaded data."
   ]
  },
  {
   "cell_type": "code",
   "execution_count": 2,
   "id": "a87d9106-7eb4-451b-a200-a8fdd44f8772",
   "metadata": {},
   "outputs": [
    {
     "data": {
      "text/plain": [
       "48"
      ]
     },
     "execution_count": 2,
     "metadata": {},
     "output_type": "execute_result"
    }
   ],
   "source": [
    "from pathlib import Path\n",
    "import shelve\n",
    "\n",
    "data_path = Path('./data/')\n",
    "data_path.mkdir(exist_ok=True)\n",
    "\n",
    "wodehouse_books = shelve.open(data_path / 'wodehouse.shelve')\n",
    "\n",
    "len(wodehouse_books)"
   ]
  },
  {
   "cell_type": "markdown",
   "id": "30da7cdd-66e8-4920-8098-f5019db2c112",
   "metadata": {},
   "source": [
    "Then we search the index to find all P.G Wodehouse texts (excluding indexes)."
   ]
  },
  {
   "cell_type": "code",
   "execution_count": 3,
   "id": "bdd18c2a-1867-48c9-98ae-e9afb34060a1",
   "metadata": {},
   "outputs": [],
   "source": [
    "import csv\n",
    "from io import StringIO\n",
    "import requests\n",
    "\n",
    "if not wodehouse_books:\n",
    "    GUTENBERG_CSV_URL = \"https://www.gutenberg.org/cache/epub/feeds/pg_catalog.csv.gz\"\n",
    "    \n",
    "    r = requests.get(GUTENBERG_CSV_URL)\n",
    "    csv_text = r.content.decode(\"utf-8\")\n",
    "    \n",
    "    for b in csv.DictReader(StringIO(csv_text)):\n",
    "        if \"Wodehouse, P. G.\" in b[\"Authors\"] \\\n",
    "            and \"Indexes\" not in b[\"Subjects\"] \\\n",
    "            and b[\"Type\"] == \"Text\":\n",
    "            wodehouse_books[b[\"Text#\"]] = b\n",
    "    \n",
    "    len(wodehouse_books)"
   ]
  },
  {
   "cell_type": "markdown",
   "id": "8c660e7a-2e41-4ece-ab92-7e4c473a6d29",
   "metadata": {},
   "source": [
    "And we download the text; we make a slight deviation here in using the txt files rather than the zip files.\n",
    "(Text# 70222 (Meet Mr Mulliner) is [only available as a txt](http://aleph.gutenberg.org/7/0/2/2/70222/))."
   ]
  },
  {
   "cell_type": "code",
   "execution_count": 4,
   "id": "beb016c9-b18d-4507-b750-622f6b895312",
   "metadata": {},
   "outputs": [],
   "source": [
    "def gutenberg_text_urls(id: str,\n",
    "                        mirror=\"http://aleph.gutenberg.org\",\n",
    "                        suffixes=(\"\", \"-8\", \"-0\")) -> list[str]:\n",
    "    path = \"/\".join(id[:-1]) or \"0\"\n",
    "    return [f\"{mirror}/{path}/{id}/{id}{suffix}.txt\" for suffix in suffixes]\n",
    "\n",
    "def download_gutenberg(id: str) -> str:\n",
    "    for url in gutenberg_text_urls(id):\n",
    "        r = requests.get(url)\n",
    "        if r.status_code == 404:\n",
    "            # Try the next possible URL\n",
    "            continue\n",
    "        r.raise_for_status()\n",
    "        break\n",
    "    else:\n",
    "        raise Exception(\"Unable to download %s\" % id)\n",
    "\n",
    "    return r.content.decode('utf-8')\n",
    "\n",
    "for book_id, book in wodehouse_books.items():\n",
    "    if \"raw_text\" not in book:\n",
    "        # Note: Assign the object for shelve\n",
    "        wodehouse_books[book_id] = book | dict(raw_text=download_gutenberg(book_id))"
   ]
  },
  {
   "cell_type": "code",
   "execution_count": 5,
   "id": "0ef5276c-149e-4c26-8fd6-9067bd1dcd76",
   "metadata": {},
   "outputs": [],
   "source": [
    "wodehouse_books.close()"
   ]
  },
  {
   "cell_type": "markdown",
   "id": "1ad8730d-4c1e-46e9-b9ef-f902fade123c",
   "metadata": {},
   "source": [
    "# Looking at the Data\n",
    "\n",
    "Let's have a look at our corpus of P. G. Wodehouse books and clean them up a little.\n",
    "\n",
    "First let's load the data from our shelf into a dictionary, and store the individual book ids and raw text:"
   ]
  },
  {
   "cell_type": "code",
   "execution_count": 6,
   "id": "8e0ae697-bf01-4799-80ed-9337cd7b84d6",
   "metadata": {},
   "outputs": [
    {
     "data": {
      "text/plain": [
       "48"
      ]
     },
     "execution_count": 6,
     "metadata": {},
     "output_type": "execute_result"
    }
   ],
   "source": [
    "shelf = shelve.open(data_path / 'wodehouse.shelve')\n",
    "wodehouse_books = {k:v for k,v in shelf.items()}\n",
    "shelf.close()\n",
    "\n",
    "book_ids = list(wodehouse_books.keys())\n",
    "raw_texts = [book['raw_text'] for book in wodehouse_books.values()]\n",
    "\n",
    "len(wodehouse_books)"
   ]
  },
  {
   "cell_type": "markdown",
   "id": "a6186e79-4505-47e9-9ad4-ee32cdf9d129",
   "metadata": {},
   "source": [
    "We can look at a small section of text to get an idea of the writing style."
   ]
  },
  {
   "cell_type": "code",
   "execution_count": 7,
   "id": "826b6d92-6f76-4af5-b273-017d652d6822",
   "metadata": {},
   "outputs": [
    {
     "name": "stdout",
     "output_type": "stream",
     "text": [
      "he is, I'll bet he doesn't\n",
      "show it. He's not like Blackburn. I wish he was. Here he comes, so\n",
      "perhaps we'd better talk about something else.\"\n",
      "\n",
      "The vanguard of the boys returning from preparation had passed them,\n",
      "and they were now standing at the gate of the house. As Fenn spoke, a\n",
      "little, restless-looking man in cap and gown came up. His clean-shaven\n",
      "face wore an expression of extreme alertness--the sort of look a ferret\n",
      "wears as he slips in at the mouth of a rabbit-hole. A doctor, calle\n"
     ]
    }
   ],
   "source": [
    "print(raw_texts[13][14_500:15_000])"
   ]
  },
  {
   "cell_type": "markdown",
   "id": "f64bbe2d-4f4e-41a8-805a-46ce68f9f49f",
   "metadata": {},
   "source": [
    "The Project Gutenberg metadata contains the titles for each of the books.\n",
    "\n",
    "If we compare with [P. G. Wodehouse's Bibliography](https://en.wikipedia.org/wiki/P._G._Wodehouse_bibliography) we can see a lot of texts are missing from Project Gutenberg, and that we have a mixture of Short Stories and Novels.\n",
    "Considerably more are available [on archive.org](https://archive.org/search?query=wodehouse&and%5B%5D=lending%3A%22is_readable%22&and%5B%5D=mediatype%3A%22texts%22) but their text is low-quality OCR and so requires better transcription (a fun project for another day)."
   ]
  },
  {
   "cell_type": "code",
   "execution_count": 8,
   "id": "d2be3327-bc7f-43bc-bc5d-cbd20f3be977",
   "metadata": {},
   "outputs": [
    {
     "name": "stdout",
     "output_type": "stream",
     "text": [
      "The Adventures of Sally       Carry On, Jeeves              The Clicking of Cuthbert      \n",
      "The Coming of Bill            A Damsel in Distress          Death at the Excelsior, ...   \n",
      "Divots                        The Gem Collector             A Gentleman of Leisure        \n",
      "The Girl on the Boat          The Gold Bat                  The Head of Kay's             \n",
      "Indiscretions of Archie       The Inimitable Jeeves         The Intrusion of Jimmy        \n",
      "Jill the Reckless             Leave it to Psmith            The Little Nugget             \n",
      "The Little Warrior            Love Among the Chickens       Love Among the Chickens ...   \n",
      "The Man Upstairs and Oth...   A Man of Means                The Man with Two Left Fe...   \n",
      "Meet Mr Mulliner              Mike                          Mike and Psmith               \n",
      "My Man Jeeves                 Not George Washington — ...   Piccadilly Jim                \n",
      "The Politeness of Prince...   The Pothunters                A Prefect's Uncle             \n",
      "The Prince and Betty          Psmith in the City            Psmith, Journalist            \n",
      "Right Ho, Jeeves              Sam in the Suburbs            Something New                 \n",
      "The Swoop! or, How Clare...   Tales of St. Austin's         Three Men and a Maid          \n",
      "Ukridge                       Uneasy Money                  The White Feather             \n",
      "William Tell Told Again       A Wodehouse Miscellany: ...   The small bachelor            \n"
     ]
    }
   ],
   "source": [
    "import re\n",
    "\n",
    "def fmtcols(items: list[str], n_cols: int, max_len: int=40, buffer: int=5):\n",
    "    \"\"\"Formats a list of strings into a table with n_cols columns\n",
    "\n",
    "      items:   The strings to format\n",
    "      ncols:   The number of columns per line\n",
    "      max_len: The length of each field\n",
    "      buffer:  Space from end of text to the end of each field\n",
    "    \"\"\"\n",
    "    items_truncated = [item if len(item) < (max_len - buffer) \n",
    "                       else item[:max_len-buffer-3] + \"...\"\n",
    "                       for item in items]\n",
    "    format_str = \"{:<\" + str(max_len) + \"}\"\n",
    "    lines = (\n",
    "        (format_str * len(items[i:i+n_cols]))\n",
    "        .format(*items_truncated[i:i+n_cols])\n",
    "             for i in range(0,len(items),n_cols))\n",
    "    return '\\n'.join(lines)\n",
    "\n",
    "book_titles = sorted([re.sub('\\s+', ' ', book[\"Title\"])\n",
    "                      for book in wodehouse_books.values()],\n",
    "                     key=lambda x: re.sub(\"^(A |The )\", \"\", x))\n",
    "\n",
    "print(fmtcols(book_titles, 3, max_len=30, buffer=3))"
   ]
  },
  {
   "attachments": {},
   "cell_type": "markdown",
   "id": "4b3387f9-26ab-4e83-8b0f-e72adbb02def",
   "metadata": {},
   "source": [
    "# Removing footers and headers\n",
    "\n",
    "\n",
    "If we have a look at the start of any of the books there is a header inserted by Project Gutenberg before the main text starts.\n",
    "We can copy the [method of gutenbergr](https://github.com/ropensci/gutenbergr/blob/96cf4f5d06b3106d32f6720ac32172540f4cd65f/R/gutenberg_download.R#L186-L228) for cleaning the text.\n",
    "\n",
    "Here's my non-vectorised regular expression based version for finding the header:"
   ]
  },
  {
   "cell_type": "code",
   "execution_count": 9,
   "id": "b267b911-232f-4073-9f01-7a4a630b8f0f",
   "metadata": {},
   "outputs": [
    {
     "name": "stdout",
     "output_type": "stream",
     "text": [
      "*** START OF THIS PROJECT GUTENBERG EBOOK A DAMSEL IN DISTRESS ***\n",
      "\n",
      "\n",
      "\n",
      "\n",
      "Produced by Jim Tinsley\n",
      "\n",
      "\n",
      "\n",
      "\n",
      "\n",
      "\n",
      "\n",
      "\n",
      "\n",
      "\n",
      "\n",
      "[Transcriber's Note for edition 11: in para. 4 of Chapter 19, the\n",
      "word \"leafy\" has been changed to \"leaky\". \"leafy\" was the word used\n",
      "in the printed edition, but was an obvious misprint. Some readers\n",
      "have noted that other editions have slightly different punctuation,\n",
      "notably some extra commas, and semi-colons where there are colons in\n",
      "this edition; but the punctuation herein does follow at least one\n",
      "printed text.--jt]\n",
      "\n",
      "\n",
      "\n",
      "\n",
      "\n",
      "\n",
      "\n"
     ]
    }
   ],
   "source": [
    "import re\n",
    "\n",
    "HEADER_RE = re.compile(\"\"\"\n",
    "(?:                                  # Find the end of the header\n",
    "  ^\\\\*\\\\*\\\\*.*PROJECT\\ GUTENBERG|     \n",
    "  END.*SMALL\\ PRINT                   \n",
    ")\n",
    ".*                                  # Until the end of the line\n",
    "[\\r\\n]+                             # And some number of blank lines\n",
    "(?:                                   # Search for informational paragraphs\n",
    "  (?i:                                # Their first line contains:\n",
    "    .*Produced\\ by\n",
    "    |.*prepared\\ by\n",
    "    |.*transcribed\\ from\n",
    "    |.*project\\ gutenberg\n",
    "    |special\\ thanks\n",
    "    |note:\\ \n",
    "    |\\\\[?transcriber[’']s\\ note           # Not from Gutenbergr\n",
    "    |for\\ this\\ text\\ version             # but useful here\n",
    "  )\n",
    "  (?:[^\\r\\n]*[\\r]?[\\n])               # Until the end of the line\n",
    "  (?:[^\\r\\n]+[\\r]?[\\n])*              # Until the end of the paragraph\n",
    "  [\\r\\n]+                             # And all newlines beneath it  \n",
    ")*                                  # Repeatedly \n",
    "\"\"\", \n",
    "flags=re.MULTILINE | re.VERBOSE)\n",
    "\n",
    "print(HEADER_RE.search(raw_texts[2]).group())"
   ]
  },
  {
   "cell_type": "markdown",
   "id": "d7c96349-09fb-4b88-aada-c9436aab96f7",
   "metadata": {},
   "source": [
    "As a sanity check all all the headers are below about 1000 characters:"
   ]
  },
  {
   "cell_type": "code",
   "execution_count": 10,
   "id": "dfd26c6a-e0b2-4438-a0a9-3ecaeb6619c1",
   "metadata": {},
   "outputs": [
    {
     "data": {
      "image/png": "[encoded data removed]",
      "text/plain": [
       "<Figure size 640x480 with 1 Axes>"
      ]
     },
     "metadata": {},
     "output_type": "display_data"
    }
   ],
   "source": [
    "lengths = [HEADER_RE.search(text).end() for text in raw_texts]\n",
    "text_lengths = [len(text) for text in raw_texts]\n",
    "plt.scatter(text_lengths, lengths);"
   ]
  },
  {
   "cell_type": "markdown",
   "id": "472b3292-23c8-4a82-b082-3ce228d02ede",
   "metadata": {},
   "source": [
    "The shortest one just doesn't have much information before the text:"
   ]
  },
  {
   "cell_type": "code",
   "execution_count": 11,
   "id": "f8e958ec-bdec-4df8-90a0-be0ef4fc8bfe",
   "metadata": {},
   "outputs": [
    {
     "name": "stdout",
     "output_type": "stream",
     "text": [
      "﻿\n",
      "*** START OF THE PROJECT GUTENBERG EBOOK DIVOTS ***\n",
      "\n",
      "\n",
      "\n",
      "\n",
      "\n",
      "                                DIVOTS\n",
      "\n",
      "                            P. G. WODEHOUSE\n",
      "\n",
      "\n",
      "\n",
      "\n",
      "                          By P. G. WODE\n"
     ]
    }
   ],
   "source": [
    "min_idx = lengths.index(min(lengths))\n",
    "\n",
    "print(raw_texts[min_idx][:200])"
   ]
  },
  {
   "cell_type": "markdown",
   "id": "d1ceb7ca-3256-4c85-892d-84f8c81bfa59",
   "metadata": {},
   "source": [
    "We can build a much simpler expression for the footer:"
   ]
  },
  {
   "cell_type": "code",
   "execution_count": 12,
   "id": "ae72ec56-02a8-4e30-b2cf-d4acdde2a709",
   "metadata": {},
   "outputs": [],
   "source": [
    "FOOTER_RE = \"(?:End of .*Project Gutenberg.*|\\\\*\\\\*\\\\*.*END OF.*PROJECT GUTENBERG)\""
   ]
  },
  {
   "cell_type": "markdown",
   "id": "bf018916-0cb7-481d-958f-14da968538db",
   "metadata": {},
   "source": [
    "But we can also extend it to remove transcriber's notes and THE END."
   ]
  },
  {
   "cell_type": "code",
   "execution_count": 13,
   "id": "baf2d2a7-f4f2-4cc9-ba88-cad8018bdc71",
   "metadata": {},
   "outputs": [
    {
     "name": "stdout",
     "output_type": "stream",
     "text": [
      "\n",
      "\n",
      "THE END\n",
      "\n",
      "\n",
      "\n",
      "Transcriber’s Note: While I left several variant spellings such as\n",
      "vodevil and bethrothed, I did correct the following:\n",
      "\n",
      "Fixed: course/coarse in\n",
      "Yet somehow this course, rough person in front of him never seemed to\n",
      "allow him a word\n",
      "\n",
      "Fixed: awfuly/awfully in:\n",
      "He’s awfuly good to girls who’ve worked in shows for him before.\n",
      "\n",
      "Fixed: Pullfan/Pullman\n",
      "Those Pullfan porters on parade!”\n",
      "\n",
      "Fixed: a large typo in the print edition, which originally read:\n",
      "“Yes. I’ve got the most damned attack of indigestion.” Derek should\n",
      "recline in the arm-chair which he had vacated; dinner!”\n",
      "\n",
      "\n",
      "\n",
      "\n",
      "*** END OF THE PROJECT GUTENBERG\n"
     ]
    }
   ],
   "source": [
    "FOOTER_RE = re.compile(\"\"\"\n",
    "(\n",
    "[\\r\\n]+                                 # Newlines\n",
    "(?:\n",
    "  \\s*\n",
    "  (?:\n",
    "      THE\\ END\n",
    "    | [+|]?-{5,}[|+]?\n",
    "   )\n",
    "   \\s*\n",
    "  [\\r\\n]+                               # Newlines\n",
    ")?                                  # Optional\n",
    "(?:                                   # Additional data before footer\n",
    "  (?i:                                # Lines starting with:\n",
    "    \\s*[\\\\[|]?transcriber[’']s\\ note       \n",
    "   )\n",
    "  (?:[^\\r\\n]*)[\\r]?[\\n]{,1}           # Until the end of the line\n",
    "  ((?:[\\r]?[\\n]){1,2}[^\\r\\n]+)*       # Until the end of the paragraph\n",
    "                                      # (allowing 1 space)\n",
    "  [\\r\\n]+                             # And all newlines beneath it  \n",
    ")*\n",
    "(?:\n",
    "  End\\ of\\ .*Project\\ Gutenberg.*\n",
    "  |\\\\*\\\\*\\\\*.*END\\ OF.*PROJECT\\ GUTENBERG\n",
    ")\n",
    ")\n",
    "\"\"\",\n",
    "flags=re.MULTILINE | re.VERBOSE)\n",
    "\n",
    "print(FOOTER_RE.search(raw_texts[12]).group())"
   ]
  },
  {
   "cell_type": "markdown",
   "id": "235f1e2d-02e9-4de8-a036-063e3aad30a7",
   "metadata": {},
   "source": [
    "The footers all tend to be around 20000 characters:"
   ]
  },
  {
   "cell_type": "code",
   "execution_count": 14,
   "id": "a1419335-8e12-4b26-a8ee-22ed835eb383",
   "metadata": {},
   "outputs": [
    {
     "data": {
      "image/png": "[encoded data removed]",
      "text/plain": [
       "<Figure size 640x480 with 1 Axes>"
      ]
     },
     "metadata": {},
     "output_type": "display_data"
    }
   ],
   "source": [
    "lengths = [len(text) - FOOTER_RE.search(text).start() for text in raw_texts]\n",
    "text_lengths = [len(text) for text in raw_texts]\n",
    "plt.scatter(text_lengths, lengths);"
   ]
  },
  {
   "cell_type": "markdown",
   "id": "9e396c73-efdd-40c5-8a21-5f7a88773d34",
   "metadata": {},
   "source": [
    "Here's the start of a typical footer:"
   ]
  },
  {
   "cell_type": "code",
   "execution_count": 15,
   "id": "4af18589-e89d-4a33-9ab6-e1ffe23a9b48",
   "metadata": {},
   "outputs": [
    {
     "name": "stdout",
     "output_type": "stream",
     "text": [
      "\n",
      "\n",
      "\n",
      "\n",
      "\n",
      "\n",
      "\n",
      "\n",
      "--------------------------------\n",
      "\n",
      "Transcriber's Notes for edition 11:\n",
      "\n",
      "I am greatly indebted to the Wodehouse readers from the BLANDINGS\n",
      "e-mail group who did such detailed research on this text, not only\n",
      "on simple typos but on the differences between the 1916 Saturday\n",
      "Evening Post serialization and the US and UK early printings.\n",
      "\n",
      "I have made use, in this new PG edition, of the 1918 UK first edition\n",
      "references provided by these helpful savants, to correct misprints or\n",
      "o\n"
     ]
    }
   ],
   "source": [
    "max_idx = lengths.index(max(lengths))\n",
    "\n",
    "print(raw_texts[max_idx][-lengths[max_idx]:-lengths[max_idx]+500])"
   ]
  },
  {
   "cell_type": "markdown",
   "id": "a1473b53-149c-43b2-a205-28f758f3d6bd",
   "metadata": {},
   "source": [
    "The shortest one doesn't have the usual notices at the end"
   ]
  },
  {
   "cell_type": "code",
   "execution_count": 16,
   "id": "99479f4e-35c4-4b4b-8fe0-5af931c7d39f",
   "metadata": {},
   "outputs": [
    {
     "name": "stdout",
     "output_type": "stream",
     "text": [
      "to far over” changed to “much too far over”\n",
      "\n",
      "\n",
      "\n",
      "*** END OF THE PROJECT GUTENBERG EBOOK DIVOTS ***\n"
     ]
    }
   ],
   "source": [
    "min_idx = lengths.index(min(lengths))\n",
    "\n",
    "print(raw_texts[min_idx][-100:])"
   ]
  },
  {
   "cell_type": "markdown",
   "id": "7f558c85-8683-4aa0-b846-61c9e6e36784",
   "metadata": {},
   "source": [
    "We can put this together to make a general strip function:"
   ]
  },
  {
   "cell_type": "code",
   "execution_count": 17,
   "id": "e57fc33c-ae0b-4056-a579-b87d3bf995eb",
   "metadata": {},
   "outputs": [],
   "source": [
    "def gutenberg_strip(text: str) -> str:\n",
    "    start = HEADER_RE.search(text).end()\n",
    "    end = FOOTER_RE.search(text).start()\n",
    "    return text[start:end]\n",
    "\n",
    "texts = [gutenberg_strip(text) for text in raw_texts]"
   ]
  },
  {
   "cell_type": "markdown",
   "id": "d1468ac5-ab51-4309-85c5-bb8a500668a5",
   "metadata": {},
   "source": [
    "Note that we still haven't completely cleaned these; there still contains a few transcriber's notes:"
   ]
  },
  {
   "cell_type": "code",
   "execution_count": 18,
   "id": "c06ee61b-e134-4015-9bd0-4b1e8235d8e4",
   "metadata": {},
   "outputs": [
    {
     "name": "stdout",
     "output_type": "stream",
     "text": [
      "29     11/  4999 [Transcriber's note: This selection of early Wodehouse stories was\n",
      "30     11/  3405 [Transcriber's note: This selection of early Wodehouse stories was\n",
      "31     11/  4095 [Transcriber's note: This collection of early Wodehouse writings was\n"
     ]
    }
   ],
   "source": [
    "for idx, text in enumerate(texts):\n",
    "    for lno, line in enumerate(text.splitlines()):\n",
    "        if re.search(\"transcriber\", line, flags=re.IGNORECASE):\n",
    "            print(f\"{idx:2}\", f\"{lno:6}/{len(text.splitlines()):6}\", line)"
   ]
  },
  {
   "cell_type": "code",
   "execution_count": 19,
   "id": "4af16e7e-0fb1-4ddb-a6fe-0d68e72a224c",
   "metadata": {},
   "outputs": [
    {
     "name": "stdout",
     "output_type": "stream",
     "text": [
      "24      0/  2257 [Illustration: Frontispiece]\n",
      "25     17/ 15152 [Illustration (Frontispiece): “ARE YOU THE M. JACKSON THEN WHO HAD AN\n",
      "28      0/  6865 [Illustration]\n",
      "36      0/  6769    [Illustration: \"Never mind the ink, old horse. It'll soak in.\"]\n",
      "39     56/  9530 [Illustration: A HERBERT JENKINS’ BOOK]\n",
      "40     64/ 11665 [Illustration: A HERBERT JENKINS’ BOOK]\n",
      "44     40/ 11765                             [Illustration]\n",
      "47     32/  9109                         [Illustration: NEW YORK]\n"
     ]
    }
   ],
   "source": [
    "for idx, text in enumerate(texts):\n",
    "    for lno, line in enumerate(text.splitlines()):\n",
    "        if re.search(\"\\\\[.*illustration\", line, flags=re.IGNORECASE):\n",
    "            print(f\"{idx:2}\", f\"{lno:6}/{len(text.splitlines()):6}\", line)\n",
    "            break"
   ]
  },
  {
   "attachments": {},
   "cell_type": "markdown",
   "id": "e9bb5c42-3505-4a96-88ab-a24f0c5374d9",
   "metadata": {},
   "source": [
    "# Chapter numbers\n",
    "\n",
    "Ideally we would break each book into chapters; in this section I attempt to do that, find it too complex, and give up.\n",
    "This section can be skipped over, but is a good start as to how one might break a book into chapters (and about building rule-based systems with regex).\n",
    "\n",
    "Chapters come in a variety of formats that we could handle:"
   ]
  },
  {
   "cell_type": "code",
   "execution_count": 20,
   "id": "04608f58-8a6a-4ff6-804d-3f647aff9e39",
   "metadata": {},
   "outputs": [
    {
     "name": "stdout",
     "output_type": "stream",
     "text": [
      "0 11 CHAPTER I\n",
      "1 8 CHAPTER I\n",
      "2 8 CHAPTER 1.\n",
      "3 36 CHAPTER I\n",
      "4 7  CHAPTER I. DISTRESSING SCENE\n",
      "5 92 CHAPTER I\n",
      "6 11 CHAPTER\n",
      "7 1179 Chapter 1\n",
      "9 5991 perhaps it is as well to close the chapter. How it happened it is hard\n",
      "11 13 CHAPTER ONE\n",
      "12 7  CHAPTER ONE\n",
      "13 13 Chapter\n",
      "14 24 Chapter\n",
      "15 10  CHAPTER I. A Pawn of Fate\n",
      "16 31 Chapter\n",
      "17 17 CHAPTER\n",
      "18 2248 _Chapter 1_\n",
      "19 23 CHAPTER I Patient Perseverance Produces Pugilistic Prodigies\n",
      "20 326 which break off abruptly at the third chapter, owing to the premature\n",
      "21 62 POSTSCRIPT.--In the second chapter I allude to Stout Cortez staring at\n",
      "22 48 Chapter 1\n",
      "23 14 CHAPTER 1 JAMES ARRIVES\n",
      "24 91 CHAPTER I\n",
      "25 31 CHAPTER\n",
      "26 9 CHAPTER I. SALLY GIVES A PARTY\n",
      "27 4972 And he told me this chapter from the unwritten history of the London\n",
      "28 1785 novels who calls off the fight with his wife in the last chapter and\n",
      "29 3466 heavier monthly reviews; but Bingo had got chapter one of \"All for\n",
      "31 2410 \"Types of Ethical Theory\" and took a stab at a chapter headed\n",
      "33 12 CHAPTER I.\n",
      "35 13 CHAPTER\n",
      "36 47 CHAPTER\n",
      "37 38 CHAPTER\n",
      "38 103 CHAPTER I.\n",
      "39 67 CHAPTER\n",
      "40 76   CHAPTER                                           PAGE\n",
      "41 95   CHAPTER\n",
      "42 17   CHAPTER                                                           PAGE\n",
      "43 315 on _Types of Ethical Theory_ and took a stab at a chapter headed\n",
      "44 54 CHAPTER                                                             PAGE\n",
      "45 21                               CHAPTER ONE\n",
      "46 6541 he was moving on all six cylinders to the end of a chapter.\n",
      "47 165 CHAPTER                                                             PAGE\n"
     ]
    }
   ],
   "source": [
    "for idx, text in enumerate(texts):\n",
    "    lines = text.splitlines()\n",
    "    for lno, line in enumerate(lines):\n",
    "        if re.search(\"chapter\", line, flags=re.IGNORECASE):\n",
    "            print(idx, lno, line)\n",
    "            break"
   ]
  },
  {
   "cell_type": "markdown",
   "id": "3fbb952a-32a4-4360-89f7-ed2a669e58af",
   "metadata": {},
   "source": [
    "## Roman Numerals\n",
    "\n",
    "Roman numerals do occur in chapter numbers (and some other places) as we can see looking for the unlikely string \"viii\":"
   ]
  },
  {
   "cell_type": "code",
   "execution_count": 21,
   "id": "93092a3a-063d-4c32-bfab-7f3590b22433",
   "metadata": {},
   "outputs": [
    {
     "name": "stdout",
     "output_type": "stream",
     "text": [
      "0 84  VIII. SIR MALLABY OFFERS A SUGGESTION\n",
      "0 3670 CHAPTER VIII.\n",
      "1 82  VIII. SIR RODERICK COMES TO LUNCH\n",
      "1 102 XVIII. ALL’S WELL\n",
      "1 2735 CHAPTER VIII\n",
      "1 8959 CHAPTER XVIII\n",
      "2 92   VIII CONFIDENCES ON THE LAKE                       135\n",
      "2 4685 CHAPTER VIII\n",
      "3 112   VIII. The Long Arm of Looney Coote\n",
      "3 6986   CHAPTER VIII\n",
      "4 25   VIII. AT DREEVER                                                    48\n",
      "4 35   XVIII. THE LOCHINVAR METHOD                                        118\n",
      "4 45   XXVIII. SPENNIE’S HOUR OF CLEAR VISION                             185\n",
      "4 6406 probably belonged to this class, and even Henry VIII must have become a\n",
      "6 70 VIII. SAM AT MON REPOS                                                78\n",
      "6 90 XVIII. DISCUSSION AT A LUNCHEON TABLE                                196\n",
      "6 110 XXVIII. THE MISSING MILLIONS                                         329\n",
      "8 2324     'Blessed shall be thy basket and thy store.' Deuteronomy xxviii, 5.\n",
      "9 181 VIII JANE GETS OFF THE FAIRWAY                                       246\n",
      "9 6968                              CHAPTER VIII\n"
     ]
    }
   ],
   "source": [
    "for idx, text in enumerate(texts[-10:]):\n",
    "    lines = text.splitlines()\n",
    "    for lno, line in enumerate(lines):\n",
    "        if re.search(\"viii\", line, flags=re.IGNORECASE):\n",
    "            print(idx, lno, line)"
   ]
  },
  {
   "cell_type": "markdown",
   "id": "7e2f1c0b-c32f-4174-aaf7-0711eddbac76",
   "metadata": {},
   "source": [
    "It's unlikely there's more than 99 chapters so here's a simple expression to detect the roman numerals from 1-99:"
   ]
  },
  {
   "cell_type": "code",
   "execution_count": 22,
   "id": "cd1c3d05-aab0-4f19-8657-d97758e0a161",
   "metadata": {},
   "outputs": [],
   "source": [
    "import re\n",
    "\n",
    "ROMAN_NUMERAL_RE = \"(?:(?:(?:XC|XL|L?X{0,3})(?:IX|I?V|V?I{1,3}))|(?:XC|X?L|L?X{1,3}))\"\n",
    "\n",
    "def is_roman_numeral(s: str) -> bool:\n",
    "    return re.match(ROMAN_NUMERAL_RE + \"$\", s)\n",
    "\n",
    "assert is_roman_numeral(\"I\")\n",
    "assert is_roman_numeral(\"II\")\n",
    "assert is_roman_numeral(\"XLIV\")\n",
    "assert not is_roman_numeral(\"IL\")"
   ]
  },
  {
   "cell_type": "markdown",
   "id": "27026515-ca9b-48ab-a466-77d7213529f4",
   "metadata": {},
   "source": [
    "Note that some are ambiguous, like `I` occurs frequently in English sentences and `X` is sometimes used as a mark for a kiss.\n",
    "\n",
    "If we have a Roman Numeral we can then convert it back to an integer:"
   ]
  },
  {
   "cell_type": "code",
   "execution_count": 23,
   "id": "2fac4fd3-f3c7-40ec-8437-5c91ce2bf775",
   "metadata": {},
   "outputs": [],
   "source": [
    "from collections import Counter\n",
    "\n",
    "ROMAN_NUMERALS = dict(\n",
    "    M=1000,\n",
    "    CM=900,\n",
    "    D=500,\n",
    "    CD=400,\n",
    "    C=100,\n",
    "    XC=90,\n",
    "    L=50,\n",
    "    XL=40,\n",
    "    X=10,\n",
    "    IX=9,\n",
    "    V=5,\n",
    "    IV=4,\n",
    "    I=1,\n",
    ")\n",
    "\n",
    "def int_to_roman_numeral(n: int) -> str:\n",
    "    if not (0 <= n < 4000 and int(n) == n):\n",
    "        raise ValueError(\"Expected an integer between 0 and 3999\")\n",
    "    ans = []\n",
    "    for numeral, base in ROMAN_NUMERALS.items():\n",
    "        count, n = divmod(n, base)\n",
    "        ans += count * numeral\n",
    "    assert n == 0\n",
    "    return ''.join(ans)\n",
    "\n",
    "def roman_numeral_to_int(numeral: str) -> int:\n",
    "    \"\"\"Expand roman numerals\"\"\"\n",
    "    numeral_expanded = (\n",
    "        numeral\n",
    "        .replace('CM', 'C' * 9)\n",
    "        .replace('CD', 'C' * 4)\n",
    "        .replace('XC', 'X' * 9)\n",
    "        .replace('XL', 'X' * 4)\n",
    "        .replace('IX', 'I' * 9)\n",
    "        .replace('IV', 'I' * 4)\n",
    "    )\n",
    "    return sum([count * ROMAN_NUMERALS[n]\n",
    "                for n, count in Counter(numeral_expanded).items()])\n",
    "\n",
    "assert roman_numeral_to_int('MCMXLVIII') == 1948"
   ]
  },
  {
   "cell_type": "markdown",
   "id": "b1336b8b-fe3d-4dbd-b34d-71fda86d921a",
   "metadata": {},
   "source": [
    "## Words"
   ]
  },
  {
   "cell_type": "markdown",
   "id": "c7a23789-2a12-4b2d-a485-4a895d2609b4",
   "metadata": {},
   "source": [
    "Occasionally words are used for chapter numbers too (looking near the end of this passage):"
   ]
  },
  {
   "cell_type": "code",
   "execution_count": 24,
   "id": "62cd1f8e-530d-43ed-bc4b-d8abcd171341",
   "metadata": {},
   "outputs": [
    {
     "name": "stdout",
     "output_type": "stream",
     "text": [
      "0 603 Eugenia that a boy of twenty-one needed regular work.\"\n",
      "0 1636 a young man of twenty-one. For forty-five years he had lived a\n",
      "1 626 over the age of twenty-one whose means happened to be a trifle\n",
      "2 1125 sixty-five or so, he became a sprightly lad of twenty-one in a\n",
      "2 1133 attired young man, aged about twenty-one, who during George's\n",
      "2 5357        \"I'm twenty-one today!\n",
      "2 5358         Twenty-one today!\n",
      "2 5360         Never been twenty-one before!\n",
      "2 5364           Twenty-one today.\"\n",
      "4 3213 gentlemen, I don’t want to give this superb figure away. Twenty-one\n",
      "4 3214 hundred. Twenty-one-one-one-one. This is more the sort of thing I have\n",
      "5 47 behind, I may mention that on page twenty-one I was able to make\n",
      "7 1184 I am strongly of the opinion that, after the age of twenty-one, a\n",
      "7 1186 The hour breeds thought. At twenty-one, life being all future, it\n",
      "8 1452 Elizabeth Boyd was twenty-one, but standing there with her hair\n",
      "11 3954 in verse, and twenty-one specifically asking her to marry him, and he\n",
      "11 3977 twenty-one any longer, and at your age I was working like a beaver.\n",
      "12 27  CHAPTER TWENTY-ONE\n",
      "12 4101 feel in the neighborhood of twenty-one, and Ambition is tapping me on\n",
      "12 14707 CHAPTER TWENTY-ONE\n"
     ]
    }
   ],
   "source": [
    "for idx, text in enumerate(texts[:20]):\n",
    "    lines = text.splitlines()\n",
    "    for lno, line in enumerate(lines):\n",
    "        if re.search(\"twenty.one\", line, flags=re.IGNORECASE):\n",
    "            print(idx, lno, line)"
   ]
  },
  {
   "cell_type": "markdown",
   "id": "1026ad33-4f24-4a1e-9c0a-f688a0045b8d",
   "metadata": {},
   "source": [
    "We can generate the number words and look them up:"
   ]
  },
  {
   "cell_type": "code",
   "execution_count": 25,
   "id": "78416b93-7746-48bf-8744-0adbb7d418b3",
   "metadata": {},
   "outputs": [],
   "source": [
    "NUMBER_WORDS = [\n",
    "    'ONE', 'TWO', 'THREE', 'FOUR', 'FIVE',\n",
    "    'SIX', 'SEVEN', 'EIGHT', 'NINE', 'TEN',\n",
    "    'ELEVEN', 'TWELVE', 'THIRTEEN', 'FOURTEEN', 'FIFTEEN',\n",
    "    'SIXTEEN', 'SEVENTEEN', 'EIGHTEEN', 'NINETEEN']\n",
    "\n",
    "NUMBER_WORDS = NUMBER_WORDS + [\n",
    "    (prefix + '-' + n).rstrip('-')\n",
    "    for prefix in (\"TWENTY\", \"THIRTY\", \"FORTY\", \"FIFTY\")\n",
    "    for n in ['-'] + NUMBER_WORDS[:9]\n",
    "]\n",
    "\n",
    "NUMBER_WORD_RE = '(?:' + '|'.join(NUMBER_WORDS) + ')'\n",
    "\n",
    "def number_word_to_int(s: str) -> int:\n",
    "    return NUMBER_WORDS.index(s) + 1\n",
    "\n",
    "assert number_word_to_int(\"TWO\") == 2\n",
    "assert number_word_to_int(\"TWENTY-NINE\") == 29\n",
    "assert number_word_to_int(\"THIRTY\") == 30"
   ]
  },
  {
   "cell_type": "markdown",
   "id": "c6deb01a-d9ae-4e48-8748-2960a15f15fb",
   "metadata": {},
   "source": [
    "## Digits\n",
    "\n",
    "Digits are also used sometimes as chapter numbers:"
   ]
  },
  {
   "cell_type": "code",
   "execution_count": 26,
   "id": "176b7ea5-9c19-41ab-949d-cc5b8e683858",
   "metadata": {},
   "outputs": [
    {
     "name": "stdout",
     "output_type": "stream",
     "text": [
      "0 1466     Total (for four wickets) ....... 139\n",
      "2 4622 CHAPTER 13.\n",
      "7 7319 Chapter 13\n",
      "8 4098 13\n",
      "9 45 13. Mike is Moved On\n",
      "9 2709 13. Mike is Moved On\n",
      "12 12105 him. “Shoes” ($213.50) he could understand, but what on earth was\n",
      "18 60 13 Work\n",
      "18 5250 [13]\n",
      "20 46 13 Leicester's House Team Goes Into a Second Edition\n",
      "20 2676 'Rather. By a wicket. Two wickets, I mean. We made 213. Your bowling\n",
      "20 3549 [13]\n",
      "23 31 CHAPTER 13 THE SECOND GHOST\n",
      "23 434 Gerrard to 137 Glasgow, there is always that awful, that disintegrating\n",
      "23 3587 CHAPTER 13\n",
      "25 7895 Bishop Geoffrey, 1133-40----”\n",
      "27 8847 '\"Milicz, or Militsch (d. 1374), Bohemian divine, was the most\n",
      "30 1737     your favour of the 13th _prox_., but cannot see where it quite\n",
      "34 5231 -13-\n",
      "35 27  13.  JELLICOE GOES ON THE SICK LIST\n",
      "35 472 1133-40--\"\n",
      "35 3184 13\n",
      "37 12024 \"Shoes\" ($213.50) he could understand, but what on earth was \"Academy.\n",
      "37 14970 'em,\" which is page 313.\n",
      "40 92   VIII CONFIDENCES ON THE LAKE                       135\n",
      "40 104    XIV PSMITH ACCEPTS EMPLOYMENT                     313\n",
      "42 37   XX. A LESSON IN PIQUET                                             131\n",
      "42 38   XXI. LOATHSOME GIFTS                                               138\n",
      "42 3684                                  ★ 13 ★\n",
      "43 54                       ISBN-13: 978-0-140-28408-9\n",
      "44 106 XXVI. SAM HEARS GOOD NEWS                                            313\n"
     ]
    }
   ],
   "source": [
    "for idx, text in enumerate(texts):\n",
    "    lines = text.splitlines()\n",
    "    for lno, line in enumerate(lines):\n",
    "        if re.search(\"13\", line, flags=re.IGNORECASE):\n",
    "            print(idx, lno, line)"
   ]
  },
  {
   "cell_type": "markdown",
   "id": "ae21e051-0740-4f99-a03e-3a7a9a409b6b",
   "metadata": {},
   "source": [
    "We can write an expression to get the numbers from 1 to 99:"
   ]
  },
  {
   "cell_type": "code",
   "execution_count": 27,
   "id": "a97abc20-08ed-494e-a74f-e1e6741fdf9e",
   "metadata": {},
   "outputs": [],
   "source": [
    "NUMBER_DIGIT_RE = '(?:[1-9][0-9]?)'\n",
    "\n",
    "for i in range(1, 100):\n",
    "    assert re.match(NUMBER_DIGIT_RE + \"$\", str(i))\n",
    "\n",
    "def digit_to_int(s: str) -> int:\n",
    "    return int(s)"
   ]
  },
  {
   "cell_type": "markdown",
   "id": "eaf920c1-0e87-44c3-8c9b-e84c852aac2c",
   "metadata": {},
   "source": [
    "## Putting them together\n",
    "\n",
    "We can combine these to turn any of these number strings into an integer:"
   ]
  },
  {
   "cell_type": "code",
   "execution_count": 28,
   "id": "d0edc578-38d9-4183-9804-b72c8d697b08",
   "metadata": {},
   "outputs": [],
   "source": [
    "def text_to_int(s: str) -> int:\n",
    "    if s in NUMBER_WORDS:\n",
    "        return number_word_to_int(s)\n",
    "    elif re.match(ROMAN_NUMERAL_RE + \"$\", s):\n",
    "        return roman_numeral_to_int(s)\n",
    "    elif re.match(NUMBER_DIGIT_RE + \"$\", s):\n",
    "        return int(s)\n",
    "    else:\n",
    "        raise ValueError(\"Can't convert %s to int\" % s)\n",
    "\n",
    "assert text_to_int(\"TWENTY-NINE\") == 29\n",
    "assert text_to_int(\"29\") == 29\n",
    "assert text_to_int(\"XXIX\") == 29"
   ]
  },
  {
   "cell_type": "code",
   "execution_count": 29,
   "id": "01f519a9-e0fa-45cd-a4a5-05c7065762c1",
   "metadata": {},
   "outputs": [],
   "source": [
    "NUMBER_RE = \"(?:\" + \"|\".join([NUMBER_DIGIT_RE, ROMAN_NUMERAL_RE, NUMBER_WORD_RE]) + \")\"\n",
    "\n",
    "assert re.match(NUMBER_RE + \"$\", \"TWENTY-NINE\")\n",
    "assert re.match(NUMBER_RE + \"$\", \"29\")\n",
    "assert re.match(NUMBER_RE + \"$\", \"XXIX\")\n",
    "assert not re.match(NUMBER_RE + \"$\", \"\")\n",
    "assert not re.match(NUMBER_RE + \"$\", \"I am\")"
   ]
  },
  {
   "cell_type": "markdown",
   "id": "7c8dc872-0bda-4233-927e-c0ecfe06acdf",
   "metadata": {},
   "source": [
    "## Detecting chapters\n",
    "\n",
    "Let's have a go at using what we've built to detect chapters using a rule based system.\n",
    "Because there's so much variability in how chapters are written between books we'll need some complex rules (or a heuristic to decide which rule to use).\n",
    "The only way to stay sane while doing this is to build a collection of test-cases which looks remarkably similar to a very small validation set.\n",
    "\n",
    "I've pulled these over time out of the texts by running the rules across them looking for counter examples (e.g. missed chapters)."
   ]
  },
  {
   "cell_type": "code",
   "execution_count": 30,
   "id": "fd64cffd-d045-4ae4-a5f1-5f98f792cce2",
   "metadata": {},
   "outputs": [],
   "source": [
    "examples = [\n",
    "    \"\\n\\nCHAPTER I. DISTRESSING SCENE\",\n",
    "    \"\\n\\nCHAPTER I. A Pawn of Fate\",\n",
    "    \"\\n\\n_Chapter 1_\",\n",
    "    \"\\n\\n                              CHAPTER ONE\",\n",
    "    \"\\n\\nXVIII. ALL’S WELL\", \n",
    "    \"\\n\\n  XXVIII. SPENNIE’S HOUR OF CLEAR VISION \",\n",
    "    \"\\n\\nCHAPTER VIII\",\n",
    "    \"\\n\\nVIII. The Long Arm of Looney Coote\",\n",
    "    \"\\n\\nVIII   A NIGHT ADVENTURE--THE DETHRONEMENT OF FENN\",\n",
    "    \"\\n\\nXVIII\",\n",
    "    \"\\n\\nVIII.   --A LITTLE DINNER AT UKRIDGE'S\",\n",
    "    \"\\n\\nVIII CONFIDENCES ON THE LAKE                       135\",\n",
    "    \"\\n\\nVIII JANE GETS OFF THE FAIRWAY\",\n",
    "    \"\\n\\n                             CHAPTER VIII\",\n",
    "    \"\\n\\nCHAPTER TWENTY-ONE\",\n",
    "    \"\\n\\nCHAPTER 13.\",\n",
    "    \"\\n\\n13\",\n",
    "    \"\\n\\nChapter 13\",\n",
    "    \"\\n\\n-13-\",\n",
    "    \"\\n\\n13.  JELLICOE GOES ON THE SICK LIST\",\n",
    "    \"\\n\\n                                 ★ 13 ★\",\n",
    "    \"\\n\\n13. Mike is Moved On\\n\",\n",
    "    \"\\n\\n[13]\\n\",\n",
    "    \"\\n\\n  I. Ukridge’s Dog College\\n\",\n",
    "    \"\\n\\nX\\n\",\n",
    "]\n",
    "\n",
    "examples = [ex + \"\\n\" for ex in examples]\n",
    "\n",
    "non_examples = [\n",
    "\"\"\"TO MY\n",
    "BEST FRIEND\n",
    "X\n",
    "\n",
    "\"\"\",\n",
    "\"\"\"with business. You want Mr. Peters' five thousand dollars. So do\n",
    "I.\"\n",
    "\"\"\",\n",
    "    \n",
    "    \"\\nAnd he told me this chapter from the unwritten history of the London\",\n",
    "    \"\\nskip impatiently to Volume XXVIII (VET-ZYM) to see how it all comes out\",\n",
    "    \"\\n[Illustration: PLATE VIII]\",\n",
    "    \"\\nhe was moving on all six cylinders to the end of a chapter.\",\n",
    "    \"\\nprobably belonged to this class, and even Henry VIII must have become a\",\n",
    "    \"\\n'Blessed shall be thy basket and thy store.' Deuteronomy xxviii,\",\n",
    "    \"\\n        Twenty-one today!\",\n",
    "    \"\\ntwenty-one.\",\n",
    "    \"\\n3 YORK STREET LONDON S.W.1\",\n",
    "    \"\\n20. I shall inform her of my decision on the long-distance telephone.\",\n",
    "    \"\"\"Dear Dad:\\n\\nI have been thinking over what we talked about this\\n\"\"\"\n",
    "]\n",
    "\n",
    "non_examples = [ex + \"\\n\" for ex in non_examples]"
   ]
  },
  {
   "cell_type": "markdown",
   "id": "7dbf6be3-c6a0-4cce-8098-4e836c9b0ac0",
   "metadata": {},
   "source": [
    "We extend our number regular expression to:\n",
    "\n",
    "* capture the value with groups\n",
    "* exclude sentences starting with I and contianing a lower case letter as a Roman Numeral (if they're upper case they can be a chapter title)"
   ]
  },
  {
   "cell_type": "code",
   "execution_count": 31,
   "id": "2107e621-c0fc-4b01-8c9d-522a457098f7",
   "metadata": {},
   "outputs": [
    {
     "data": {
      "text/plain": [
       "'(?P<number>(?P<digit>(?:[1-9][0-9]?))|(?P<roman>(?:(?:(?:XC|XL|L?X{0,3})(?:IX|I?V|V?I{1,3}))|(?:XC|X?L|L?X{1,3}))(?=\\\\.|\\\\s*\\\\r?\\\\n|\\\\s+[^a-z]+$))|(?P<word>(?:ONE|TWO|THREE|FOUR|FIVE|SIX|SEVEN|EIGHT|NINE|TEN|ELEVEN|TWELVE|THIRTEEN|FOURTEEN|FIFTEEN|SIXTEEN|SEVENTEEN|EIGHTEEN|NINETEEN|TWENTY|TWENTY-ONE|TWENTY-TWO|TWENTY-THREE|TWENTY-FOUR|TWENTY-FIVE|TWENTY-SIX|TWENTY-SEVEN|TWENTY-EIGHT|TWENTY-NINE|THIRTY|THIRTY-ONE|THIRTY-TWO|THIRTY-THREE|THIRTY-FOUR|THIRTY-FIVE|THIRTY-SIX|THIRTY-SEVEN|THIRTY-EIGHT|THIRTY-NINE|FORTY|FORTY-ONE|FORTY-TWO|FORTY-THREE|FORTY-FOUR|FORTY-FIVE|FORTY-SIX|FORTY-SEVEN|FORTY-EIGHT|FORTY-NINE|FIFTY|FIFTY-ONE|FIFTY-TWO|FIFTY-THREE|FIFTY-FOUR|FIFTY-FIVE|FIFTY-SIX|FIFTY-SEVEN|FIFTY-EIGHT|FIFTY-NINE)))'"
      ]
     },
     "execution_count": 31,
     "metadata": {},
     "output_type": "execute_result"
    }
   ],
   "source": [
    "NUMBER_RE = \"(?P<number>\" + \"|\".join(\n",
    "    [\n",
    "      \"(?P<digit>\" + NUMBER_DIGIT_RE + \")\",\n",
    "      # We have to be more careful with roman numerals, especially I\n",
    "      # We look ahead to check there are no lowercase letters\n",
    "      \"(?P<roman>\" + ROMAN_NUMERAL_RE + r\"(?=\\.|\\s*\\r?\\n|\\s+[^a-z]+$))\",  \n",
    "      \"(?P<word>\" + NUMBER_WORD_RE + \")\"\n",
    "    ]) + \")\"\n",
    "\n",
    "NUMBER_RE"
   ]
  },
  {
   "cell_type": "markdown",
   "id": "bfde7852-34c1-4e3b-ac91-a4a87a7bf92c",
   "metadata": {},
   "source": [
    "We can then check all of our test expressions match"
   ]
  },
  {
   "cell_type": "code",
   "execution_count": 32,
   "id": "202a6776-b653-4721-9dd7-249c41da548c",
   "metadata": {},
   "outputs": [
    {
     "data": {
      "text/plain": [
       "'25 / 25; 13 / 13 '"
      ]
     },
     "execution_count": 32,
     "metadata": {},
     "output_type": "execute_result"
    }
   ],
   "source": [
    "CHAPTER_RE = re.compile(\"|\".join([\n",
    "    r\"(?:\\n\\r?\\n[\\s_★[-]*(?P<chapter>CHAPTER |Chapter )?\" + NUMBER_RE + r\"(_|\\b))\",\n",
    "]), flags=re.MULTILINE)\n",
    "\n",
    "f\"{sum([1 for example in examples if CHAPTER_RE.search(example)])} / {len(examples)}; \" + \\\n",
    "f\"{sum([1 for example in non_examples if not CHAPTER_RE.search(example)])} / {len(non_examples)} \""
   ]
  },
  {
   "cell_type": "markdown",
   "id": "1ae60c87-2c8a-4957-973a-24e3c124771e",
   "metadata": {},
   "source": [
    "When we have a match we want to pull out the number and some details about the type of match (e.g. was it in Roman numerals)"
   ]
  },
  {
   "cell_type": "code",
   "execution_count": 33,
   "id": "237552d5-f49a-4152-9bad-054ce7b28968",
   "metadata": {},
   "outputs": [
    {
     "data": {
      "text/plain": [
       "{'number': 1, 'type': ['chapter', 'roman']}"
      ]
     },
     "execution_count": 33,
     "metadata": {},
     "output_type": "execute_result"
    }
   ],
   "source": [
    "def extract_match_data(match):\n",
    "    match_type = [k for k,v in match.groupdict().items() if v and k!= \"number\"]\n",
    "    return dict(number=text_to_int(match.group(\"number\")), type=match_type)\n",
    "\n",
    "extract_match_data(CHAPTER_RE.search(examples[0]))"
   ]
  },
  {
   "cell_type": "markdown",
   "id": "0eda615b-de1a-4977-b7c5-b871a5f98835",
   "metadata": {},
   "source": [
    "Next we want to look into the chapters of books.\n",
    "We expect them to be in order so let's turn sequences of consecutive numbers into ranges:"
   ]
  },
  {
   "cell_type": "code",
   "execution_count": 34,
   "id": "f63f8d69-bf21-45e3-9403-7dbc2cc7b6ff",
   "metadata": {},
   "outputs": [],
   "source": [
    "from functools import reduce\n",
    "\n",
    "def to_ranges_1(xs: list[tuple[int, int]], y: int) -> list[tuple[int, int]]:\n",
    "    if not xs:\n",
    "        return [(y,y)]\n",
    "    start, end = xs[-1]\n",
    "    if y == end + 1:\n",
    "        return xs[:-1] + [(start, y)]\n",
    "    else:\n",
    "        return xs + [(y,y)]\n",
    "\n",
    "def to_ranges(xs: list[int]) -> list[tuple[int, int]]:\n",
    "    return list(reduce(to_ranges_1, xs, []))\n",
    "\n",
    "assert to_ranges([1,2,3,4,5,\n",
    "           1, 2, 3,\n",
    "           5,\n",
    "           1, \n",
    "           5]) == [\n",
    "           (1,5),\n",
    "           (1,3),\n",
    "           (5,5),\n",
    "           (1,1),\n",
    "           (5,5)]"
   ]
  },
  {
   "cell_type": "markdown",
   "id": "3090e317-2845-4bc8-89fb-74102859159d",
   "metadata": {},
   "source": [
    "We can then summarise the matches by getting the ranges for each type:"
   ]
  },
  {
   "cell_type": "code",
   "execution_count": 35,
   "id": "ad867b88-90a6-493d-9993-3d1c89f50b92",
   "metadata": {},
   "outputs": [
    {
     "data": {
      "text/plain": [
       "[(['roman'], (1, 3)), (['digit'], (4, 4)), (['digit'], (1, 1))]"
      ]
     },
     "execution_count": 35,
     "metadata": {},
     "output_type": "execute_result"
    }
   ],
   "source": [
    "from itertools import groupby\n",
    "from operator import itemgetter\n",
    "\n",
    "def summarise_matches(match_data):\n",
    "    for key, values in groupby(match_data, key=itemgetter(\"type\")):\n",
    "        for range in to_ranges(v[\"number\"] for v in values):\n",
    "            yield (key, range)\n",
    "\n",
    "list(\n",
    "    summarise_matches([\n",
    "    dict(number=1, type=[\"roman\"]),\n",
    "    dict(number=2, type=[\"roman\"]),\n",
    "    dict(number=3, type=[\"roman\"]),\n",
    "    # Break because we're changing type\n",
    "    dict(number=4, type=[\"digit\"]),\n",
    "    # Break because non-sequential\n",
    "    dict(number=1, type=[\"digit\"])\n",
    "])\n",
    ")"
   ]
  },
  {
   "cell_type": "markdown",
   "id": "dc6d9390-8c17-407a-883c-f183dcfb9df3",
   "metadata": {},
   "source": [
    "We can then apply it to all the texts and learn a bit about them:\n",
    "\n",
    "* For some texts this works really well (e.g. the first 4)\n",
    "* Sometimes the chapters occur twice (e.g. idx=9): the first time generally corresponds to a table of contents. This can also surface as 1 chapter followed by 1-N as in idx 2 (when there are no lines between subsequent chapters in the contents).\n",
    "* Some texts have a heirarchy with books contianing multiple parts each with their own chapters (e.g. idx=23), or with chapters broken into sections (e.g. idx=26)\n",
    "* There are occasional errors here (like a chapter name starting in TWO as in idx=17)\n",
    "* Some texts aren't broken into chapters but a different unit such as books (e.g. for idx 28)\n",
    "* Some are a mixture of the above (e.g. idx 10 is mainly books, one which starts with the word \"THREE\", but the last one is split into numbered chapters)\n",
    "\n",
    "With some more rules we could remove the contents and break these texts reliably into chapters, but we won't for now."
   ]
  },
  {
   "cell_type": "code",
   "execution_count": 36,
   "id": "8e5d1d41-1277-40e4-b5ec-ff3f6e5d3f5d",
   "metadata": {},
   "outputs": [
    {
     "name": "stdout",
     "output_type": "stream",
     "text": [
      " 0 2005 [(['chapter', 'roman'], (1, 26))]\n",
      " 1 2042 [(['chapter', 'roman'], (1, 12))]\n",
      " 2 2233 [(['chapter', 'digit'], (1, 27))]\n",
      " 3 2607 [(['chapter', 'roman'], (1, 29))]\n",
      " 4 3756 [(['chapter', 'roman'], (1, 1)), (['chapter', 'roman'], (1, 26))]\n",
      " 5 3829 [(['roman'], (1, 1)), (['chapter', 'roman'], (1, 10)), (['roman'], (1, 1)), (['chapter', 'roman'], (11, 23))]\n",
      " 6 4075 [(['chapter', 'roman'], (1, 22)), (['word'], (2, 2)), (['chapter', 'roman'], (23, 30))]\n",
      " 7 6683 [(['roman'], (1, 2)), (['chapter', 'digit'], (1, 1)), (['roman'], (1, 3)), (['chapter', 'digit'], (2, 4)), (['roman'], (1, 2)), (['chapter', 'digit'], (5, 6)), (['roman'], (1, 2)), (['chapter', 'digit'], (7, 8)), (['roman'], (1, 3)), (['chapter', 'digit'], (9, 9)), (['roman'], (1, 2)), (['chapter', 'digit'], (10, 12)), (['roman'], (1, 2)), (['chapter', 'digit'], (13, 14)), (['roman'], (1, 2)), (['chapter', 'digit'], (15, 15)), (['roman'], (1, 2)), (['chapter', 'digit'], (16, 18))]\n",
      " 8 6684 [(['digit'], (1, 25))]\n",
      " 9 6753 [(['digit'], (1, 30)), (['digit'], (1, 30))]\n",
      "10 6768 [(['word'], (3, 3)), (['word'], (3, 3)), (['digit'], (2, 6))]\n",
      "11 6836 [(['chapter', 'word'], (1, 6)), (['digit'], (7, 7)), (['chapter', 'word'], (7, 16)), (['digit'], (1, 6))]\n",
      "12 6837 [(['chapter', 'word'], (1, 1)), (['chapter', 'word'], (1, 20)), (['chapter', 'word'], (20, 20))]\n",
      "13 6877 [(['roman'], (1, 24)), (['roman'], (1, 24))]\n",
      "14 6879 [(['roman'], (1, 24)), (['roman'], (1, 24))]\n",
      "15 6880 [(['chapter', 'roman'], (1, 12)), (['chapter', 'roman'], (1, 16))]\n",
      "16 6927 [(['roman'], (1, 24)), (['roman'], (1, 24))]\n",
      "17 6955 [(['roman'], (1, 30)), (['chapter', 'roman'], (1, 16)), (['word'], (2, 2)), (['chapter', 'roman'], (17, 30))]\n",
      "18 6980 [(['digit'], (1, 16)), (['digit'], (1, 3)), (['roman'], (1, 10)), (['digit'], (4, 8)), (['chapter', 'digit'], (1, 6)), (['digit'], (9, 9)), (['roman'], (2, 2)), (['digit'], (10, 16))]\n",
      "19 6984 [(['chapter', 'roman'], (1, 18))]\n",
      "20 6985 [(['digit'], (1, 18)), (['digit'], (1, 18))]\n",
      "21 7028 [(['roman'], (1, 10)), (['digit'], (1, 10))]\n",
      "22 7050 [(['chapter', 'digit'], (1, 7)), (['chapter', 'digit'], (1, 11))]\n",
      "23 7230 [(['chapter', 'digit'], (1, 3)), (['chapter', 'digit'], (1, 26))]\n",
      "24 7298 [(['chapter', 'roman'], (1, 15))]\n",
      "25 7423 [(['roman'], (2, 59)), (['chapter', 'roman'], (1, 59))]\n",
      "26 7464 [(['chapter', 'roman'], (1, 1)), (['digit'], (1, 3)), (['chapter', 'roman'], (2, 2)), (['digit'], (1, 6)), (['chapter', 'roman'], (3, 3)), (['digit'], (1, 3)), (['chapter', 'roman'], (4, 6)), (['digit'], (1, 4)), (['chapter', 'roman'], (7, 8)), (['digit'], (1, 3)), (['chapter', 'roman'], (9, 10)), (['digit'], (1, 3)), (['chapter', 'roman'], (11, 13)), (['digit'], (1, 4)), (['chapter', 'roman'], (14, 14)), (['digit'], (1, 3)), (['chapter', 'roman'], (15, 16)), (['digit'], (1, 5)), (['chapter', 'roman'], (17, 17)), (['digit'], (1, 3)), (['chapter', 'roman'], (18, 18))]\n",
      "27 7471 [(['word'], (1, 1)), (['roman'], (1, 2)), (['word'], (1, 1))]\n",
      "28 8164 []\n",
      "29 8176 [(['roman'], (1, 7))]\n",
      "30 8178 [(['digit'], (5, 5))]\n",
      "31 8190 []\n",
      "32 8713 []\n",
      "33 8931 [(['chapter', 'roman'], (1, 20))]\n",
      "34 10554 [(['digit'], (1, 23))]\n",
      "35 10586 [(['digit'], (1, 1)), (['digit'], (1, 30))]\n",
      "36 20532 [(['roman'], (1, 23)), (['roman'], (1, 9)), (['roman'], (1, 1)), (['roman'], (10, 18)), (['roman'], (1, 1)), (['roman'], (19, 23))]\n",
      "37 20533 [(['digit'], (3, 3)), (['roman'], (1, 1)), (['chapter', 'roman'], (1, 1)), (['roman'], (1, 4)), (['chapter', 'roman'], (2, 2)), (['roman'], (1, 2)), (['chapter', 'roman'], (3, 3)), (['roman'], (1, 2)), (['chapter', 'roman'], (4, 4)), (['roman'], (1, 4)), (['chapter', 'roman'], (5, 5)), (['roman'], (1, 3)), (['chapter', 'roman'], (6, 6)), (['roman'], (1, 2)), (['chapter', 'roman'], (7, 7)), (['roman'], (1, 3)), (['chapter', 'roman'], (8, 8)), (['roman'], (1, 2)), (['chapter', 'roman'], (9, 9)), (['roman'], (1, 3)), (['chapter', 'roman'], (10, 10)), (['roman'], (1, 2)), (['chapter', 'roman'], (11, 11)), (['roman'], (1, 2)), (['chapter', 'roman'], (12, 12)), (['roman'], (1, 2)), (['chapter', 'roman'], (13, 13)), (['roman'], (1, 2)), (['chapter', 'roman'], (14, 14)), (['roman'], (1, 3)), (['chapter', 'roman'], (15, 15)), (['roman'], (1, 3)), (['chapter', 'roman'], (16, 16)), (['roman'], (1, 4)), (['chapter', 'roman'], (17, 17)), (['roman'], (1, 2)), (['chapter', 'roman'], (18, 18)), (['roman'], (1, 4)), (['chapter', 'roman'], (19, 19)), (['roman'], (2, 2)), (['chapter', 'roman'], (20, 20)), (['roman'], (2, 4)), (['chapter', 'roman'], (21, 21)), (['roman'], (1, 2))]\n",
      "38 20717 [(['word'], (1, 1)), (['roman'], (1, 1)), (['chapter', 'roman'], (1, 6)), (['digit'], (7, 7)), (['chapter', 'roman'], (7, 17))]\n",
      "39 59254 [(['roman'], (2, 18)), (['chapter', 'roman'], (1, 18))]\n",
      "40 60067 [(['roman'], (1, 14)), (['chapter', 'roman'], (1, 14))]\n",
      "41 61507 [(['roman'], (1, 10)), (['chapter', 'roman'], (1, 10))]\n",
      "42 65172 [(['digit'], (1, 30))]\n",
      "43 65974 [(['digit'], (1, 10)), (['digit'], (1, 10))]\n",
      "44 67368 [(['roman'], (1, 29)), (['chapter', 'word'], (1, 20)), (['chapter', 'word'], (20, 20)), (['chapter', 'word'], (20, 20)), (['chapter', 'word'], (20, 20)), (['chapter', 'word'], (20, 20)), (['chapter', 'word'], (20, 20)), (['chapter', 'word'], (20, 20)), (['chapter', 'word'], (20, 20)), (['chapter', 'word'], (20, 20)), (['chapter', 'word'], (20, 20))]\n",
      "45 70041 [(['chapter', 'word'], (1, 1)), (['digit'], (1, 5)), (['chapter', 'word'], (2, 2)), (['digit'], (1, 4)), (['chapter', 'word'], (3, 3)), (['digit'], (1, 4)), (['chapter', 'word'], (4, 4)), (['digit'], (1, 5)), (['chapter', 'word'], (5, 5)), (['digit'], (1, 2)), (['chapter', 'word'], (6, 6)), (['digit'], (1, 5)), (['chapter', 'word'], (7, 14)), (['digit'], (1, 5)), (['chapter', 'word'], (15, 16)), (['digit'], (1, 5)), (['chapter', 'word'], (17, 17)), (['digit'], (1, 3)), (['chapter', 'word'], (18, 18))]\n",
      "46 70222 [(['digit'], (1, 9)), (['digit'], (1, 9))]\n",
      "47 72227 [(['roman'], (1, 9)), (['chapter', 'roman'], (1, 9))]\n"
     ]
    }
   ],
   "source": [
    "for idx, text in enumerate(texts):\n",
    "    matches = [extract_match_data(match) for match in CHAPTER_RE.finditer(text)]\n",
    "    print(\"%2s\" % idx, book_ids[idx], list(summarise_matches(matches)))"
   ]
  },
  {
   "cell_type": "markdown",
   "id": "d4d9f214-d22f-4e6f-9fbe-57b2740ba5e3",
   "metadata": {},
   "source": [
    "As an example of one without chapter numbers, here is one that is a series of stories, not chapters."
   ]
  },
  {
   "cell_type": "code",
   "execution_count": 37,
   "id": "1bd7ec60-468c-4caf-9fc6-0127dabd11bf",
   "metadata": {},
   "outputs": [
    {
     "name": "stdout",
     "output_type": "stream",
     "text": [
      "A MAN OF MEANS\n",
      "\n",
      "A SERIES OF SIX STORIES\n",
      "\n",
      "\n",
      "By Pelham Grenville Wodehouse and C. H. Bovill\n",
      "\n",
      "From the _Pictorial Review_, May-October 1916\n",
      "\n",
      "\n",
      "\n",
      "\n",
      "\n",
      "CONTENTS\n",
      "\n",
      "\n",
      "THE EPISODE OF THE LANDLADY'S DAUGHTER\n",
      "\n",
      "THE EPISODE OF THE FINANCIAL NAPOLEON\n",
      "\n",
      "THE EPISODE OF THE THEATRICAL VENTURE\n",
      "\n",
      "THE EPISODE OF THE LIVE WEEKLY\n",
      "\n",
      "THE DIVERTING EPISODE OF THE EXILED MONARCH\n",
      "\n",
      "THE EPISODE OF THE HIRED PAST\n",
      "\n",
      "\n",
      "\n",
      "\n",
      "\n",
      "THE EPISODE OF THE LANDLADY'S DAUGHTER\n",
      "\n",
      "First of a Series of Six Stories [First publ\n"
     ]
    }
   ],
   "source": [
    "print(texts[32][:500])"
   ]
  },
  {
   "cell_type": "markdown",
   "id": "e52bd47f-87b9-412b-9d96-936b4929d109",
   "metadata": {},
   "source": [
    "# Characters\n",
    "\n",
    "Let's have a look at the actual characters used in the texts, by the number of texts they occur in.\n",
    "There are some obscure characters near the end that occur rarely and will make language modelling very difficult."
   ]
  },
  {
   "cell_type": "code",
   "execution_count": 38,
   "id": "a57291eb-366d-4c41-8f1d-04246cdb53b5",
   "metadata": {},
   "outputs": [
    {
     "name": "stdout",
     "output_type": "stream",
     "text": [
      "117\n"
     ]
    },
    {
     "data": {
      "text/plain": [
       "dict_items([('\\n', 48), ('\\r', 48), (' ', 48), ('!', 48), ('\"', 33), ('$', 5), (\"'\", 34), ('(', 46), (')', 47), ('*', 37), (',', 48), ('-', 48), ('.', 48), ('0', 40), ('1', 48), ('2', 43), ('3', 34), ('5', 38), ('6', 39), ('7', 35), ('9', 44), (':', 48), (';', 48), ('?', 48), ('A', 48), ('B', 48), ('C', 48), ('D', 48), ('E', 48), ('F', 48), ('G', 48), ('H', 48), ('I', 48), ('J', 48), ('K', 48), ('L', 48), ('M', 48), ('N', 48), ('O', 48), ('P', 48), ('Q', 48), ('R', 48), ('S', 48), ('T', 48), ('U', 48), ('V', 48), ('W', 48), ('X', 37), ('Y', 48), ('Z', 35), ('_', 46), ('a', 48), ('b', 48), ('c', 48), ('d', 48), ('e', 48), ('f', 48), ('g', 48), ('h', 48), ('i', 48), ('j', 48), ('k', 48), ('l', 48), ('m', 48), ('n', 48), ('o', 48), ('p', 48), ('q', 48), ('r', 48), ('s', 48), ('t', 48), ('u', 48), ('v', 48), ('w', 48), ('x', 48), ('y', 48), ('z', 48), ('&', 19), ('8', 41), ('4', 37), ('à', 13), ('è', 12), ('é', 20), ('ê', 12), ('œ', 4), ('—', 8), ('‘', 14), ('’', 14), ('“', 15), ('”', 15), ('/', 6), ('[', 18), (']', 18), ('§', 4), ('ô', 8), ('…', 1), ('Æ', 2), ('æ', 8), ('#', 1), ('+', 2), ('=', 2), ('â', 5), ('ï', 3), ('<', 1), ('>', 1), ('£', 3), ('ö', 1), ('á', 2), ('ç', 4), ('·', 1), ('î', 1), ('É', 1), ('★', 1), ('Œ', 1), ('{', 1), ('}', 1), ('ë', 1)])"
      ]
     },
     "execution_count": 38,
     "metadata": {},
     "output_type": "execute_result"
    }
   ],
   "source": [
    "char_counts_by_text = Counter(c for text in texts for c in sorted(set(text)))\n",
    "\n",
    "print(len(char_counts_by_text))\n",
    "char_counts_by_text.items()"
   ]
  },
  {
   "cell_type": "markdown",
   "id": "6849dcdb-9f3a-4bfe-8f18-db67dbc7c1c9",
   "metadata": {},
   "source": [
    "We can have a look at how the characters are used; the `<` is used (incorrectly) as HTML markup and `{` in a chemical (?) formula."
   ]
  },
  {
   "cell_type": "code",
   "execution_count": 39,
   "id": "82b0d5ec-93e5-4255-bf7d-2c4d80c93494",
   "metadata": {},
   "outputs": [
    {
     "name": "stdout",
     "output_type": "stream",
     "text": [
      "<      Some say he freed his country <i>so</i>,\n",
      "{ proving that H_{2}O+b3g4z7-m9z8=g6f5p3x. Before leaving London on what\n"
     ]
    }
   ],
   "source": [
    "for text in texts:\n",
    "    for line in text.splitlines():\n",
    "        for char in [\"{\", \"<\"]:\n",
    "            if char in line:\n",
    "                print(char, line)\n",
    "                break"
   ]
  },
  {
   "cell_type": "markdown",
   "id": "59ab610a-3900-450b-8b4b-a4724d1d7071",
   "metadata": {},
   "source": [
    "We can look at a few more types of characters to see how they are used:"
   ]
  },
  {
   "cell_type": "code",
   "execution_count": 40,
   "id": "05f6e8f5-ffdb-488a-8b93-296704f653eb",
   "metadata": {},
   "outputs": [
    {
     "name": "stdout",
     "output_type": "stream",
     "text": [
      "$ Stifien, $1.35 net, all rights of translation reserved, including\n",
      "$ FOR A PURSE OF $50 AND SIDE-BET\n",
      "/ goods supplied to the value of 25 pounds 1s. 8 1/2 d. was mere\n",
      "/ gentlemen, that our profits for the past year are 3,000,006-2-2 1/2\n",
      "$ him. “Shoes” ($213.50) he could understand, but what on earth was\n",
      "$ “Academy. Rehl. $105.50”? What was “Cuts … $15”? And what in the name\n",
      "$ “Friedmann, Samuel … Scenery … $3711” and “Unitt and Wickes … Scenery …\n",
      "$ $2120”). He was suffering the torments of the ruined gamester at the\n",
      "# amounted to #9 10s. I notched double figures in the next with #ll 1s.\n",
      "# 6d. Then I dropped to #7 0s. 6d. It was not starvation, but it was\n",
      "+ HATRED, denoted by x + Eva.\n",
      "+ REVERSE OF HATRED, “ “ y + Eva\n",
      "+ x + Eva = (y + Eva)z.\n",
      ">      Some say he freed his country <i>so</i>,\n",
      "£    “DEAR MR. BARLEY,” it ran.--“I send the £5, which I could not get\n",
      "£       HITHERTO UNKNOWN FUTURIST RECEIVED £2,000\n",
      "/ MEREDITH PRESS / NEW YORK\n",
      "$ \"Shoes\" ($213.50) he could understand, but what on earth was \"Academy.\n",
      "$ Rehl. $105.50\"? What was \"Cuts ... $15\"? And what in the name of\n",
      "$ \"Friedmann, Samuel ... Scenery ... $3711\" and \"Unitt and Wickes ...\n",
      "$ Scenery ... $2120\"). He was suffering the torments of the ruined\n",
      "· 3 York Street · St. James’s\n",
      "£ posts in his uncle’s business and £100 in bank-notes, coupled with the\n",
      "$ $3,000 which were the price of his promotion to detective-sergeant. He\n",
      "$ did not like paying $3,000 for promotion, but there must be sinking of\n",
      "$ $15,000 to spare for any small flutter that might take his fancy.\n",
      "£ £200,000 of good Dreever money, and the remainder of the family fortune\n",
      "£ He placed a £5 note on the table.\n",
      "/                      Set in 9/11pt Monotype Trump\n",
      "/ 73-7/8, caused shakings of the head. However, one rather liked the look\n",
      "/ of Royal Dutch Oil Ordinaries at 54-3/4.\n",
      "+ proving that H_{2}O+b3g4z7-m9z8=g6f5p3x. Before leaving London on what\n"
     ]
    }
   ],
   "source": [
    "for text in texts:\n",
    "    for line in text.splitlines():\n",
    "        for char in [\"+\", \"=\", \">\", \"<\", \"#\", \"£\", \"$\", \"/\", '·']:\n",
    "            if char in line:\n",
    "                print(char, line)\n",
    "                break"
   ]
  },
  {
   "cell_type": "markdown",
   "id": "ae3c45bb-d070-40ac-ae8a-1e5ad02fb069",
   "metadata": {},
   "source": [
    "We can clean these all up by mapping the characters to close equivalents in ASCII:"
   ]
  },
  {
   "cell_type": "code",
   "execution_count": 41,
   "id": "91b7c45d-3bb8-4b9e-8784-8e1a9f0fe4c7",
   "metadata": {},
   "outputs": [],
   "source": [
    "char_map = {\n",
    "    \"“\" : '\"',\n",
    "    \"”\": '\"',\n",
    "    \"’\": \"'\",\n",
    "    \"—\": \"--\",\n",
    "    \"…\": \"...\",\n",
    "    \"§\": \"Section \",\n",
    "    \"é\": \"e\",\n",
    "    \"ë\": \"e\",\n",
    "    \"★\": \"*\",\n",
    "    \"&\": \"and\",\n",
    "    \"à\": \"a\",\n",
    "    \"ô\": \"o\",\n",
    "    'è': \"e\",\n",
    "    'æ': \"ae\",\n",
    "    'ç': \"c\",\n",
    "    \"+\": \"plus\",\n",
    "    \"=\": \"equals\",\n",
    "    \"#\": \"number \",\n",
    "    \"/\": \" of \",\n",
    "    \"{\": \"\",\n",
    "    \"}\": \"\",\n",
    "    \"\\r\": \"\",\n",
    "    \"Œ\": \"Oe\",\n",
    "    \"É\": \"E\",\n",
    "    \"î\": \"i\",\n",
    "    '·': \"_\",\n",
    "    '‘': \"'\",\n",
    "    'ê': \"e\",\n",
    "    'â': \"a\",\n",
    "    'œ': \"oe\",\n",
    "    'ï': \"i\",\n",
    "    'Æ': \"Ae\",\n",
    "    'á': \"a\",\n",
    "    'ö': \"o\",\n",
    "    \"]\": \"\",\n",
    "    \"*\": \"\",\n",
    "}\n",
    "\n",
    "def normalise_text(text):\n",
    "    # Replace italics HTML tags with underscores\n",
    "    text = re.sub(\"</?i>\", \"_\", text)\n",
    "    # Remove square paranthetical comments [...]\n",
    "    text = re.sub(r\"\\[(.|\\n)*?\\]\", \"\", text, flags=re.MULTILINE)\n",
    "    # Dollar symbol to words (not perfect, but good enough)\n",
    "    # E.g. $5 note -> 5 dollars note\n",
    "    text = re.sub(r\"\\$([0-9.,]+)\\b\", r\"\\1 dollars\", text)\n",
    "    # Pound symbol to words\n",
    "    text = re.sub(r\"£([0-9.,]+)\\b\", r\"\\1 pounds\", text)\n",
    "    # Make more asii-ish\n",
    "    for chr_old, chr_new in char_map.items():\n",
    "        text = text.replace(chr_old, chr_new)\n",
    "    # Clean up superfluous whitespace\n",
    "    text = re.sub(\"^ *\", r\"\", text, flags=re.MULTILINE)\n",
    "    text = re.sub(\" *$\", r\"\", text, flags=re.MULTILINE)\n",
    "    #text = re.sub(\" +\", r\" \", text, flags=re.MULTILINE)\n",
    "    text = re.sub(\"\\n\\n+\", r\"\\n\\n\", text)\n",
    "    text = text.strip()\n",
    "    return text"
   ]
  },
  {
   "cell_type": "markdown",
   "id": "6acb2f46-78a1-4aae-852d-9a0415db6f42",
   "metadata": {},
   "source": [
    "Now we've reduced to a list of 76 characters, all of which are used in many of the texts."
   ]
  },
  {
   "cell_type": "code",
   "execution_count": 42,
   "id": "7c39d770-d774-43aa-8770-fe5c23c23448",
   "metadata": {},
   "outputs": [
    {
     "name": "stdout",
     "output_type": "stream",
     "text": [
      "76\n"
     ]
    },
    {
     "data": {
      "text/plain": [
       "dict_items([('\\n', 48), (' ', 48), ('!', 48), ('\"', 48), (\"'\", 48), ('(', 46), (')', 47), (',', 48), ('-', 48), ('.', 48), ('0', 40), ('1', 48), ('2', 43), ('3', 34), ('5', 37), ('6', 39), ('7', 35), ('9', 44), (':', 48), (';', 48), ('?', 48), ('A', 48), ('B', 48), ('C', 48), ('D', 48), ('E', 48), ('F', 48), ('G', 48), ('H', 48), ('I', 48), ('J', 48), ('K', 48), ('L', 48), ('M', 48), ('N', 48), ('O', 48), ('P', 48), ('Q', 48), ('R', 48), ('S', 48), ('T', 48), ('U', 48), ('V', 48), ('W', 48), ('X', 37), ('Y', 48), ('Z', 35), ('_', 46), ('a', 48), ('b', 48), ('c', 48), ('d', 48), ('e', 48), ('f', 48), ('g', 48), ('h', 48), ('i', 48), ('j', 48), ('k', 48), ('l', 48), ('m', 48), ('n', 48), ('o', 48), ('p', 48), ('q', 48), ('r', 48), ('s', 48), ('t', 48), ('u', 48), ('v', 48), ('w', 48), ('x', 48), ('y', 48), ('z', 48), ('8', 40), ('4', 36)])"
      ]
     },
     "execution_count": 42,
     "metadata": {},
     "output_type": "execute_result"
    }
   ],
   "source": [
    "normalised_texts = [normalise_text(t) for t in texts]\n",
    "char_counts_by_normalised_text = Counter(c for text in normalised_texts\n",
    "                                         for c in sorted(set(text)))\n",
    "\n",
    "print(len(char_counts_by_normalised_text))\n",
    "char_counts_by_normalised_text.items()"
   ]
  },
  {
   "cell_type": "markdown",
   "id": "12291883-e177-40b7-a637-a43a310ff661",
   "metadata": {},
   "source": [
    "# Lengths"
   ]
  },
  {
   "cell_type": "markdown",
   "id": "63b65a87-16b3-42a6-923a-0eec12c0944d",
   "metadata": {},
   "source": [
    "Most of the normalised texts are around 20k to 50k characters."
   ]
  },
  {
   "cell_type": "code",
   "execution_count": 43,
   "id": "3c9cd44f-7d27-40eb-9eb3-77b51aa8d748",
   "metadata": {},
   "outputs": [
    {
     "data": {
      "text/plain": [
       "(79001, 343458.3958333333, 651807)"
      ]
     },
     "execution_count": 43,
     "metadata": {},
     "output_type": "execute_result"
    },
    {
     "data": {
      "image/png": "[encoded data removed]",
      "text/plain": [
       "<Figure size 640x480 with 1 Axes>"
      ]
     },
     "metadata": {},
     "output_type": "display_data"
    }
   ],
   "source": [
    "text_num_chars = [len(text) for text in normalised_texts]\n",
    "plt.hist(text_num_chars, bins=7);\n",
    "min(text_num_chars), sum(text_num_chars) / len(text_num_chars), max(text_num_chars)"
   ]
  },
  {
   "cell_type": "markdown",
   "id": "bab51698-7af1-4ed3-b5c7-067fa4d75544",
   "metadata": {},
   "source": [
    "Defining a word using space separation we get close to 5.5 characters per word for all of the texts."
   ]
  },
  {
   "cell_type": "code",
   "execution_count": 44,
   "id": "c7df0005-8b4a-4fc7-b684-9ccc8e8160cc",
   "metadata": {},
   "outputs": [
    {
     "data": {
      "text/plain": [
       "(5.370687955844668, 5.565977554542365, 5.841355854038162)"
      ]
     },
     "execution_count": 44,
     "metadata": {},
     "output_type": "execute_result"
    },
    {
     "data": {
      "image/png": "[encoded data removed]",
      "text/plain": [
       "<Figure size 640x480 with 1 Axes>"
      ]
     },
     "metadata": {},
     "output_type": "display_data"
    }
   ],
   "source": [
    "text_chars_per_word = [len(text)/len(text.split()) for text in normalised_texts]\n",
    "plt.hist(text_chars_per_word, bins=7);\n",
    "min(text_chars_per_word), sum(text_chars_per_word) / len(text_chars_per_word), max(text_chars_per_word)"
   ]
  },
  {
   "cell_type": "markdown",
   "id": "6dfd04e6-e7fb-4a81-bb51-1b8fd9856be3",
   "metadata": {},
   "source": [
    "# Finding Important Words per Document with TF-IDF"
   ]
  },
  {
   "cell_type": "markdown",
   "id": "286b0e7b-db4d-4238-8fb8-70f7a08a292d",
   "metadata": {},
   "source": [
    "Inspired by Silge and Robinson's [Text Mining with R](https://www.tidytextmining.com/tfidf), we can run a TF-IDF to find the most characteristic words for each text.\n",
    "\n",
    "First we need to count the words for each text:"
   ]
  },
  {
   "cell_type": "code",
   "execution_count": 45,
   "id": "6177dc9a-ca72-42ed-8635-d3b6476bff12",
   "metadata": {},
   "outputs": [],
   "source": [
    "word_counts = [Counter(term\n",
    "                       for term in re.split(\"[-_(),.?;!:' \\\"\\n]+\", text)\n",
    "                       if term)\n",
    "               for text in normalised_texts]"
   ]
  },
  {
   "cell_type": "markdown",
   "id": "d50423d4-97b7-420d-8b5b-c2aa5ffba136",
   "metadata": {},
   "source": [
    "Then get the set of all words from the texts:"
   ]
  },
  {
   "cell_type": "code",
   "execution_count": 46,
   "id": "fcd2a053-143d-4328-aa10-96d0abbbc5df",
   "metadata": {},
   "outputs": [
    {
     "data": {
      "text/plain": [
       "44424"
      ]
     },
     "execution_count": 46,
     "metadata": {},
     "output_type": "execute_result"
    }
   ],
   "source": [
    "words = set(word for text_words in word_counts\n",
    "                 for word in text_words)\n",
    "len(words)"
   ]
  },
  {
   "cell_type": "markdown",
   "id": "856f5c49-dde4-4fc9-b4fa-336f7819990b",
   "metadata": {},
   "source": [
    "For each word we calculate the document frequency: the number of documents (books) that contain the word:"
   ]
  },
  {
   "cell_type": "code",
   "execution_count": 47,
   "id": "bb91c91f-2219-4f5f-8227-08b041538a90",
   "metadata": {},
   "outputs": [],
   "source": [
    "df = {word: sum([word in text_words\n",
    "                 for text_words in word_counts])\n",
    "      for word in words}"
   ]
  },
  {
   "cell_type": "markdown",
   "id": "2d4fecbf-36b3-400a-bdc7-4dc5f7f0be34",
   "metadata": {},
   "source": [
    "From this we can calculate the Inverse Document Frequncy \n",
    "\n",
    "$$ {\\rm idf} = \\ln\\left(\\frac{\\rm \\# documents\\ with\\ word}{\\rm \\# documents\\ in\\ corpus}\\right) $$"
   ]
  },
  {
   "cell_type": "code",
   "execution_count": 48,
   "id": "d0c71d25-8dc5-41f4-b490-81aefccf0f3b",
   "metadata": {},
   "outputs": [],
   "source": [
    "idf = {word: np.log(len(word_counts)/f) for word, f in df.items()}"
   ]
  },
  {
   "cell_type": "markdown",
   "id": "57de27fa-ff04-4d3d-8ade-a41c4723a4fc",
   "metadata": {},
   "source": [
    "And multiply this by the counts to get the TF-IDF for each text:"
   ]
  },
  {
   "cell_type": "code",
   "execution_count": 49,
   "id": "8752245b-7e61-42d1-8be3-4486e04483e9",
   "metadata": {},
   "outputs": [],
   "source": [
    "tfidfs = [{word: tf * idf[word] for word, tf in word_count.items()}\n",
    "          for word_count in word_counts]"
   ]
  },
  {
   "cell_type": "markdown",
   "id": "81114997-1dbf-43b6-88d8-2403e83389be",
   "metadata": {},
   "source": [
    "We can then look at the top 10 words by TF-IDF for each text: this tends to pull out the main charactersplaces from the texts (since they are different between texts).\n",
    "\n",
    "A few common characters stand out between series such as Ukridge, Psmith, and Jeeves."
   ]
  },
  {
   "cell_type": "code",
   "execution_count": 50,
   "id": "0e7d172b-8a2f-4616-a805-f9ab49bc3596",
   "metadata": {},
   "outputs": [
    {
     "data": {
      "text/html": [
       "<table><tr><th>Title</th><th>1</th><th>2</th><th>3</th><th>4</th><th>5</th><th>6</th><th>7</th><th>8</th><th>9</th><th>10</th></tr>\n",
       "<tr><th>Piccadilly Jim</th><td>Pett</td><td>Crocker</td><td>Ann</td><td>Wisbeach</td><td>Ogden</td><td>Jimmy</td><td>Bayliss</td><td>Trimble</td><td>Jerry</td><td>Skinner</td></tr><tr><th>Something New</th><td>Ashe</td><td>Peters</td><td>Aline</td><td>Baxter</td><td>Joan</td><td>scarab</td><td>Emsworth</td><td>Freddie</td><td>Marson</td><td>Honorable</td></tr><tr><th>A Damsel in Distress</th><td>Marshmoreton</td><td>Belpher</td><td>Maud</td><td>Caroline</td><td>Reggie</td><td>Plummer</td><td>Keggs</td><td>Albert</td><td>Byng</td><td>Billie</td></tr><tr><th>Psmith, Journalist</th><td>Psmith</td><td>Comrade</td><td>Windsor</td><td>Billy</td><td>Wilberfloss</td><td>Maloney</td><td>Jarvis</td><td>Cosy</td><td>Moments</td><td>Kid</td></tr><tr><th>Indiscretions of Archie</th><td>Archie</td><td>Lucille</td><td>Brewster</td><td>McCall</td><td>Cosmopolis</td><td>Tuyl</td><td>Silverton</td><td>Connolly</td><td>Moffam</td><td>Wheeler</td></tr><tr><th>Love Among the Chickens</th><td>Ukridge</td><td>Beale</td><td>Garnet</td><td>professor</td><td>Hawk</td><td>Phyllis</td><td>Derrick</td><td>Garny</td><td>Millie</td><td>fowls</td></tr><tr><th>The Intrusion of Jimmy</th><td>Dreever</td><td>Jimmy</td><td>Spike</td><td>McEachern</td><td>Molly</td><td>Hargate</td><td>Pitt</td><td>Mifflin</td><td>Spennie</td><td>lordship</td></tr><tr><th>The Little Nugget</th><td>Abney</td><td>Ogden</td><td>Ford</td><td>Audrey</td><td>Cynthia</td><td>MacGinnis</td><td>Nugget</td><td>Sanstead</td><td>Sam</td><td>Burns</td></tr><tr><th>Uneasy Money</th><td>Pickering</td><td>Nutty</td><td>Claire</td><td>Wetherby</td><td>Dudley</td><td>Dawlish</td><td>Elizabeth</td><td>Bill</td><td>Nichols</td><td>Nutcombe</td></tr><tr><th>Psmith in the City</th><td>Psmith</td><td>Bickersdyke</td><td>Mike</td><td>Comrade</td><td>Waller</td><td>Rossiter</td><td>Jackson</td><td>Gregory</td><td>Prebble</td><td>Bristow</td></tr><tr><th>The Man Upstairs and Other Stories</th><td>Owen</td><td>Agravaine</td><td>Rutherford</td><td>Peggy</td><td>Eddy</td><td>Annette</td><td>Beverley</td><td>Ruth</td><td>Shute</td><td>Jerry</td></tr><tr><th>Three Men and a Maid</th><td>Hignett</td><td>Sam</td><td>Billie</td><td>Bennett</td><td>Bream</td><td>Marlowe</td><td>Eustace</td><td>Peters</td><td>Mortimer</td><td>Webster</td></tr><tr><th>The Little Warrior</th><td>Jill</td><td>Derek</td><td>Chris</td><td>Wally</td><td>Pilkington</td><td>Goble</td><td>Freddie</td><td>Underhill</td><td>Nelly</td><td>Peagrim</td></tr><tr><th>The Head of Kay's</th><td>Fenn</td><td>Kennedy</td><td>Kay</td><td>Silver</td><td>Blackburn</td><td>Walton</td><td>Dencroft</td><td>Wren</td><td>Eckleton</td><td>Mulholland</td></tr><tr><th>The Gold Bat</th><td>Hara</td><td>Trevor</td><td>Clowes</td><td>Barry</td><td>Rand</td><td>Milton</td><td>Moriarty</td><td>Ruthven</td><td>Renford</td><td>Seymour</td></tr><tr><th>The Coming of Bill</th><td>Kirk</td><td>Ruth</td><td>Steve</td><td>Mamie</td><td>Porter</td><td>Bailey</td><td>Bannister</td><td>Winfield</td><td>Lora</td><td>Penway</td></tr><tr><th>The White Feather</th><td>Sheen</td><td>Stanning</td><td>Linton</td><td>Drummond</td><td>Bevan</td><td>Spence</td><td>Dunstable</td><td>Allardyce</td><td>Peteiro</td><td>Attell</td></tr><tr><th>The Prince and Betty</th><td>Betty</td><td>Scobell</td><td>Mervo</td><td>Crump</td><td>Jarvis</td><td>Pugsy</td><td>Maloney</td><td>Comrade</td><td>Peaceful</td><td>Moments</td></tr><tr><th>Tales of St. Austin's</th><td>Charteris</td><td>Babe</td><td>Bradshaw</td><td>Harrison</td><td>Merevale</td><td>Venables</td><td>Mellish</td><td>Pillingshot</td><td>Tony</td><td>Babington</td></tr><tr><th>The Pothunters</th><td>Tony</td><td>Barrett</td><td>Welch</td><td>Thomson</td><td>Jim</td><td>Charteris</td><td>Merevale</td><td>Plunkett</td><td>Vaughan</td><td>Thompson</td></tr><tr><th>A Prefect's Uncle</th><td>Gethryn</td><td>Norris</td><td>Farnie</td><td>Marriott</td><td>Pringle</td><td>Monk</td><td>Lorimer</td><td>Reece</td><td>Bishop</td><td>Beckford</td></tr><tr><th>The Clicking of Cuthbert</th><td>Ramsden</td><td>Jopp</td><td>Mortimer</td><td>Eunice</td><td>Mitchell</td><td>Merolchazzar</td><td>Waters</td><td>tee</td><td>Sturgis</td><td>Oldest</td></tr><tr><th>The Swoop! or, How Clarence Saved England: A Tale of the Great Invasion</th><td>Chugwater</td><td>Clarence</td><td>Prince</td><td>Otto</td><td>Vodkakoff</td><td>Russians</td><td>Scouts</td><td>Pfennig</td><td>Poppenheim</td><td>Quhayne</td></tr><tr><th>Not George Washington — an Autobiographical Novel</th><td>Cloyster</td><td>Julian</td><td>Hatton</td><td>Malim</td><td>Margaret</td><td>Eva</td><td>Orlebar</td><td>Gunton</td><td>Blake</td><td>Goodwin</td></tr><tr><th>William Tell Told Again</th><td>Gessler</td><td>Friesshardt</td><td>Excellency</td><td>Governor</td><td>Arnold</td><td>Walter</td><td>Leuthold</td><td>Hedwig</td><td>Sewa</td><td>PLATE</td></tr><tr><th>Mike</th><td>Mike</td><td>Psmith</td><td>Downing</td><td>Wyatt</td><td>Adair</td><td>Burgess</td><td>Wain</td><td>Jackson</td><td>Outwood</td><td>Wrykyn</td></tr><tr><th>The Adventures of Sally</th><td>Sally</td><td>Fillmore</td><td>Ginger</td><td>Carmyle</td><td>Gerald</td><td>Faucitt</td><td>Meecher</td><td>Cracknell</td><td>Hobson</td><td>Kemp</td></tr><tr><th>The Man with Two Left Feet, and Other Stories</th><td>Katie</td><td>Birdsey</td><td>Meggs</td><td>Wilton</td><td>Plimmer</td><td>Pillenger</td><td>Andy</td><td>Fred</td><td>Minnie</td><td>Gussie</td></tr><tr><th>My Man Jeeves</th><td>Jeeves</td><td>Bicky</td><td>Bobbie</td><td>Rocky</td><td>Corky</td><td>Motty</td><td>Voules</td><td>Bickersteth</td><td>Rockmetteller</td><td>Wooster</td></tr><tr><th>Death at the Excelsior, and Other Stories</th><td>Snyder</td><td>Pickett</td><td>Buffin</td><td>Jeeves</td><td>Rastall</td><td>Retford</td><td>Bassington</td><td>Eve</td><td>Oakes</td><td>Archie</td></tr><tr><th>The Politeness of Princes, and Other School Stories</th><td>Dunstable</td><td>Pillingshot</td><td>Linton</td><td>Chapple</td><td>Spencer</td><td>Shields</td><td>Clephane</td><td>Henfrey</td><td>Shearne</td><td>Phipps</td></tr><tr><th>A Wodehouse Miscellany: Articles & Stories</th><td>Florence</td><td>Sylvia</td><td>Duggie</td><td>Bodfish</td><td>Craye</td><td>Edwin</td><td>Dick</td><td>Darrell</td><td>Jeeves</td><td>lyricist</td></tr><tr><th>A Man of Means</th><td>Roland</td><td>Windlebird</td><td>Verepoint</td><td>Bleke</td><td>Petheram</td><td>Maraquita</td><td>Teal</td><td>Squibs</td><td>Coppin</td><td>Paranoya</td></tr><tr><th>The Gem Collector</th><td>Spennie</td><td>McEachern</td><td>Chames</td><td>Molly</td><td>Jimmy</td><td>Spike</td><td>Wesson</td><td>Blunt</td><td>Galer</td><td>Pitt</td></tr><tr><th>Right Ho, Jeeves</th><td>Jeeves</td><td>Nottle</td><td>Gussie</td><td>Fink</td><td>Dahlia</td><td>Tuppy</td><td>Angela</td><td>Bassett</td><td>Anatole</td><td>Bertie</td></tr><tr><th>Mike and Psmith</th><td>Psmith</td><td>Downing</td><td>Mike</td><td>Adair</td><td>Outwood</td><td>Jellicoe</td><td>Sedleigh</td><td>Jackson</td><td>Wrykyn</td><td>Comrade</td></tr><tr><th>Love Among the Chickens\n",
       "A Story of the Haps and Mishaps on an English Chicken Farm</th><td>Ukridge</td><td>Garnet</td><td>Beale</td><td>professor</td><td>Phyllis</td><td>Hawk</td><td>Derrick</td><td>fowls</td><td>Millie</td><td>Chase</td></tr><tr><th>Jill the Reckless</th><td>Jill</td><td>Derek</td><td>Chris</td><td>Wally</td><td>Pilkington</td><td>Goble</td><td>Freddie</td><td>Nelly</td><td>Underhill</td><td>Peagrim</td></tr><tr><th>The Girl on the Boat</th><td>Bennett</td><td>Billie</td><td>Hignett</td><td>Sam</td><td>Bream</td><td>Marlowe</td><td>Eustace</td><td>Mortimer</td><td>Hubbard</td><td>Mallaby</td></tr><tr><th>The Inimitable Jeeves</th><td>Bingo</td><td>Jeeves</td><td>Bertie</td><td>Steggles</td><td>Agatha</td><td>Wooster</td><td>Claude</td><td>Eustace</td><td>Heppenstall</td><td>Bassington</td></tr><tr><th>Leave it to Psmith</th><td>Psmith</td><td>Peavey</td><td>Baxter</td><td>McTodd</td><td>Eve</td><td>Constance</td><td>Emsworth</td><td>Cootes</td><td>Keeble</td><td>Freddie</td></tr><tr><th>Ukridge</th><td>Ukridge</td><td>Billson</td><td>Bowles</td><td>Tupper</td><td>laddie</td><td>Corky</td><td>Weeks</td><td>Tod</td><td>Flossie</td><td>Teddy</td></tr><tr><th>A Gentleman of Leisure</th><td>Dreever</td><td>Jimmy</td><td>Spike</td><td>McEachern</td><td>Molly</td><td>Hargate</td><td>Pitt</td><td>Mifflin</td><td>lordship</td><td>Spennie</td></tr><tr><th>Carry On, Jeeves</th><td>Jeeves</td><td>Biffy</td><td>Wooster</td><td>Bicky</td><td>Bertie</td><td>Corky</td><td>Rocky</td><td>Motty</td><td>Roderick</td><td>Bingo</td></tr><tr><th>Sam in the Suburbs</th><td>Braddock</td><td>Sam</td><td>Hash</td><td>Kay</td><td>Tilbury</td><td>Chimp</td><td>Shotter</td><td>Molloy</td><td>Wrenn</td><td>Claire</td></tr><tr><th>The small bachelor</th><td>Waddington</td><td>Beamish</td><td>Hamilton</td><td>Mullett</td><td>Finch</td><td>Garroway</td><td>Sigsbee</td><td>Molly</td><td>Hunstanton</td><td>Fanny</td></tr><tr><th>Meet Mr Mulliner</th><td>Mulliner</td><td>Augustine</td><td>Wilfred</td><td>bishop</td><td>Frederick</td><td>Rodman</td><td>Lancelot</td><td>McKinnon</td><td>Wilks</td><td>Clarence</td></tr><tr><th>Divots</th><td>Bradbury</td><td>Spelvin</td><td>Rodney</td><td>Fisher</td><td>Ferdinand</td><td>Bott</td><td>Chester</td><td>Jane</td><td>William</td><td>Anastatia</td></tr></table>"
      ],
      "text/plain": [
       "<IPython.core.display.HTML object>"
      ]
     },
     "execution_count": 50,
     "metadata": {},
     "output_type": "execute_result"
    }
   ],
   "source": [
    "from IPython.display import display, HTML\n",
    "\n",
    "n_top_words = 10\n",
    "\n",
    "html = \"<table><tr><th>Title</th>\" + \\\n",
    "       \"\".join([f\"<th>{i+1}</th>\" for i in range(n_top_words)]) + \\\n",
    "       \"</tr>\\n\"\n",
    "for idx, tfidf in enumerate(tfidfs):\n",
    "    title = wodehouse_books[book_ids[idx]][\"Title\"]\n",
    "    html += f\"<tr><th>{title}</th>\"\n",
    "    for item, score in sorted(tfidf.items(),\n",
    "                              key=lambda x: x[1],\n",
    "                              reverse=True)[:n_top_words]:\n",
    "        html += f\"<td>{item}</td>\"\n",
    "    html += \"</tr>\"\n",
    "html += \"</table>\"\n",
    "HTML(html)"
   ]
  },
  {
   "cell_type": "markdown",
   "id": "b7ebf7a4-10f7-4358-a7e9-c2363ea85d7f",
   "metadata": {},
   "source": [
    "# Split the data\n",
    "\n",
    "If we want to do some further language modelling on this data we can split it into train, valid and test sets by text.\n",
    "Note that we're likely to have some characters (like Jeeves, Psmith, and Ukridge) across splits.\n",
    "\n",
    "We really should split collections of books (like \"A Wodehouse Miscellany\") separately, but for now we will keep the implementation simple."
   ]
  },
  {
   "cell_type": "code",
   "execution_count": 51,
   "id": "1a7c5cbf-13fe-4d66-bbb3-7c9ae9466383",
   "metadata": {},
   "outputs": [
    {
     "data": {
      "text/plain": [
       "Counter({'train': 30, 'valid': 10, 'test': 8})"
      ]
     },
     "execution_count": 51,
     "metadata": {},
     "output_type": "execute_result"
    }
   ],
   "source": [
    "import random\n",
    "from collections import Counter\n",
    "\n",
    "random.seed(\"pgwodehouse\")\n",
    "\n",
    "splits = dict(\n",
    "    train=0.6,\n",
    "    valid=0.2,\n",
    "    test=0.2,\n",
    ")\n",
    "\n",
    "assert sum(splits.values()) == 1.0\n",
    "\n",
    "split = random.choices(population=list(splits.keys()),\n",
    "                       weights=list(splits.values()),\n",
    "                       k=len(normalised_texts))\n",
    "\n",
    "Counter(split)"
   ]
  },
  {
   "cell_type": "markdown",
   "id": "501c9a80-76cd-4689-b5b2-221a6e7b7020",
   "metadata": {},
   "source": [
    "To make it easier to work with let's collect the mapping from a split to the list of books it contains."
   ]
  },
  {
   "cell_type": "code",
   "execution_count": 52,
   "id": "3c48f9ff-05c5-4602-a3e6-6bf8dbf3c06a",
   "metadata": {},
   "outputs": [
    {
     "data": {
      "text/plain": [
       "{'train': 30, 'valid': 10, 'test': 8}"
      ]
     },
     "execution_count": 52,
     "metadata": {},
     "output_type": "execute_result"
    }
   ],
   "source": [
    "split2idx = {s: [] for s in splits}\n",
    "for idx, s in enumerate(split):\n",
    "    split2idx[s].append(idx)\n",
    "\n",
    "for s, idxs in split2idx.items():\n",
    "    for idx in idxs:\n",
    "        assert split[idx] == s\n",
    "        \n",
    "assert sorted(sum([idxs for idxs in split2idx.values()],\n",
    "                  start=[])) == list(range(len(split)))\n",
    "\n",
    "{s: len(idxs) for s, idxs in split2idx.items()}"
   ]
  },
  {
   "cell_type": "markdown",
   "id": "4faec949-b5ef-4a6e-81f6-a49a728afeaf",
   "metadata": {},
   "source": [
    "We have over 10 million characters of training data (which is around 2 million words); enough for an interesting character level language model."
   ]
  },
  {
   "cell_type": "code",
   "execution_count": 53,
   "id": "dd09f59e-485e-4100-bb8a-3edf6be84172",
   "metadata": {},
   "outputs": [
    {
     "data": {
      "text/plain": [
       "{'train': '11_179_271', 'valid': '2_569_961', 'test': '2_736_771'}"
      ]
     },
     "execution_count": 53,
     "metadata": {},
     "output_type": "execute_result"
    }
   ],
   "source": [
    "{s: '{:_}'.format(sum([len(normalised_texts[idx]) for idx in idxs]))\n",
    " for s, idxs in split2idx.items()}"
   ]
  },
  {
   "cell_type": "markdown",
   "id": "173c8285-298c-47fd-a0ea-55e5c1efe401",
   "metadata": {},
   "source": [
    "# Save the data"
   ]
  },
  {
   "cell_type": "markdown",
   "id": "83544604-e5da-476f-a091-6d6f3e7b914f",
   "metadata": {},
   "source": [
    "## Locally\n",
    "\n",
    "We can save each normalised text as a text file in a folder corresponding to its split, using the Project Gutenberg id as the filename.\n",
    "This is saved in a [downloadable zip file](https://github.com/EdwardJRoss/skeptric/raw/master/wodehouse/wodehouse_text.zip)"
   ]
  },
  {
   "cell_type": "code",
   "execution_count": 54,
   "id": "ab67c8d5-b95d-4d89-8ad6-7d5f7db53a62",
   "metadata": {},
   "outputs": [
    {
     "name": "stdout",
     "output_type": "stream",
     "text": [
      "valid/6985.txt      valid/6955.txt      valid/8178.txt      valid/8931.txt      \n",
      "valid/6984.txt      valid/6753.txt      valid/65974.txt     valid/3829.txt      \n",
      "valid/7298.txt      valid/6684.txt      test/6927.txt       test/7230.txt       \n",
      "test/6980.txt       test/7028.txt       test/2005.txt       test/6768.txt       \n",
      "test/2042.txt       test/8713.txt       train/8164.txt      train/6836.txt      \n",
      "train/7050.txt      train/6880.txt      train/6837.txt      train/59254.txt     \n",
      "train/70041.txt     train/7471.txt      train/72227.txt     train/70222.txt     \n",
      "train/7464.txt      train/65172.txt     train/8176.txt      train/10554.txt     \n",
      "train/8190.txt      train/2233.txt      train/60067.txt     train/10586.txt     \n",
      "train/61507.txt     train/20717.txt     train/6877.txt      train/3756.txt      \n",
      "train/20532.txt     train/2607.txt      train/4075.txt      train/7423.txt      \n",
      "train/20533.txt     train/67368.txt     train/6683.txt      train/6879.txt      \n"
     ]
    }
   ],
   "source": [
    "import shutil\n",
    "from zipfile import ZipFile\n",
    "\n",
    "output_dir = Path('output')\n",
    "\n",
    "\n",
    "if output_dir.exists():\n",
    "    shutil.rmtree(output_dir)\n",
    "output_dir.mkdir()\n",
    "\n",
    "for split, idxs in split2idx.items():\n",
    "    path = output_dir / split\n",
    "    path.mkdir()\n",
    "    for idx in idxs:\n",
    "        id = book_ids[idx]\n",
    "        with open(path / (id + \".txt\"), \"wt\") as f:\n",
    "            f.write(normalised_texts[idx])\n",
    "\n",
    "shutil.make_archive(\"wodehouse_text\", 'zip', output_dir)\n",
    "\n",
    "\n",
    "filenames = [f.filename for f in ZipFile(\"wodehouse_text.zip\").filelist\n",
    "             if not f.is_dir()]\n",
    "print(fmtcols(filenames, 4, max_len=20, buffer=3))"
   ]
  },
  {
   "cell_type": "markdown",
   "id": "41956f5e-8a65-4dbc-914a-118def7aa57b",
   "metadata": {},
   "source": [
    "## On Huggingface Hub\n",
    "\n",
    "We can also save the texts, along with their metadata [to Huggingface Hub](https://huggingface.co/datasets/edwardjross/wodehouse)."
   ]
  },
  {
   "cell_type": "code",
   "execution_count": 55,
   "id": "c5350e13-6d11-468e-8c58-d6b2759842f4",
   "metadata": {},
   "outputs": [
    {
     "data": {
      "text/plain": [
       "DatasetDict({\n",
       "    train: Dataset({\n",
       "        features: ['Text#', 'Type', 'Issued', 'Title', 'Language', 'Authors', 'Subjects', 'LoCC', 'Bookshelves', 'raw_text', 'content'],\n",
       "        num_rows: 30\n",
       "    })\n",
       "    valid: Dataset({\n",
       "        features: ['Text#', 'Type', 'Issued', 'Title', 'Language', 'Authors', 'Subjects', 'LoCC', 'Bookshelves', 'raw_text', 'content'],\n",
       "        num_rows: 10\n",
       "    })\n",
       "    test: Dataset({\n",
       "        features: ['Text#', 'Type', 'Issued', 'Title', 'Language', 'Authors', 'Subjects', 'LoCC', 'Bookshelves', 'raw_text', 'content'],\n",
       "        num_rows: 8\n",
       "    })\n",
       "})"
      ]
     },
     "execution_count": 55,
     "metadata": {},
     "output_type": "execute_result"
    }
   ],
   "source": [
    "from datasets import Dataset, DatasetDict\n",
    "\n",
    "ds = DatasetDict({s: Dataset.from_list([wodehouse_books[book_ids[idx]] | dict(content=normalised_texts[idx]) for idx in split2idx[s]]) for s in split2idx})\n",
    "ds"
   ]
  },
  {
   "cell_type": "code",
   "execution_count": 56,
   "id": "8ba0baf0-f3ae-4d7f-93aa-24c524fa11d3",
   "metadata": {},
   "outputs": [
    {
     "data": {
      "application/vnd.jupyter.widget-view+json": {
       "model_id": "eeb899e79be4464e94ca8c421bf64c6f",
       "version_major": 2,
       "version_minor": 0
      },
      "text/plain": [
       "Uploading the dataset shards:   0%|          | 0/1 [00:00<?, ?it/s]"
      ]
     },
     "metadata": {},
     "output_type": "display_data"
    },
    {
     "data": {
      "application/vnd.jupyter.widget-view+json": {
       "model_id": "801061869d254fdb8b0806866108357a",
       "version_major": 2,
       "version_minor": 0
      },
      "text/plain": [
       "Creating parquet from Arrow format:   0%|          | 0/1 [00:00<?, ?ba/s]"
      ]
     },
     "metadata": {},
     "output_type": "display_data"
    },
    {
     "data": {
      "application/vnd.jupyter.widget-view+json": {
       "model_id": "511614a016844da5b346ba6d057bab4d",
       "version_major": 2,
       "version_minor": 0
      },
      "text/plain": [
       "Uploading the dataset shards:   0%|          | 0/1 [00:00<?, ?it/s]"
      ]
     },
     "metadata": {},
     "output_type": "display_data"
    },
    {
     "data": {
      "application/vnd.jupyter.widget-view+json": {
       "model_id": "5315766ae16941eaacca3963bf36313d",
       "version_major": 2,
       "version_minor": 0
      },
      "text/plain": [
       "Creating parquet from Arrow format:   0%|          | 0/1 [00:00<?, ?ba/s]"
      ]
     },
     "metadata": {},
     "output_type": "display_data"
    },
    {
     "data": {
      "application/vnd.jupyter.widget-view+json": {
       "model_id": "225482bf324a495398c4a7c7fc73d3b0",
       "version_major": 2,
       "version_minor": 0
      },
      "text/plain": [
       "Uploading the dataset shards:   0%|          | 0/1 [00:00<?, ?it/s]"
      ]
     },
     "metadata": {},
     "output_type": "display_data"
    },
    {
     "data": {
      "application/vnd.jupyter.widget-view+json": {
       "model_id": "759f2564a029412fae03c5aeb9407eef",
       "version_major": 2,
       "version_minor": 0
      },
      "text/plain": [
       "Creating parquet from Arrow format:   0%|          | 0/1 [00:00<?, ?ba/s]"
      ]
     },
     "metadata": {},
     "output_type": "display_data"
    },
    {
     "data": {
      "application/vnd.jupyter.widget-view+json": {
       "model_id": "938cbe2f3a8340d8bccb619b1c67b2bc",
       "version_major": 2,
       "version_minor": 0
      },
      "text/plain": [
       "README.md:   0%|          | 0.00/830 [00:00<?, ?B/s]"
      ]
     },
     "metadata": {},
     "output_type": "display_data"
    }
   ],
   "source": [
    "ds.push_to_hub(\"edwardjross/wodehouse\")"
   ]
  },
  {
   "cell_type": "markdown",
   "id": "13fb0f2a-6041-45e6-8389-5482bc05fa80",
   "metadata": {},
   "source": [
    "# What next?\n",
    "\n",
    "We've downloaded the P. G. Wodehouse texts from Project Gutenberg and done a rough job of analysing and cleaning them.\n",
    "While we could do a better job of cleaning them, or obtaining more of them from archive.org, we have done enough to train and test language models on."
   ]
  }
 ],
 "metadata": {
  "kernelspec": {
   "display_name": "Python 3 (ipykernel)",
   "language": "python",
   "name": "python3"
  },
  "language_info": {
   "codemirror_mode": {
    "name": "ipython",
    "version": 3
   },
   "file_extension": ".py",
   "mimetype": "text/x-python",
   "name": "python",
   "nbconvert_exporter": "python",
   "pygments_lexer": "ipython3",
   "version": "3.11.5"
  }
 },
 "nbformat": 4,
 "nbformat_minor": 5
}
