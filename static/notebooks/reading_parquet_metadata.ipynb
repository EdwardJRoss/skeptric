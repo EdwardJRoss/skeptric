{
 "cells": [
  {
   "cell_type": "markdown",
   "id": "a3c12b61",
   "metadata": {},
   "source": [
    "# Reading Parquet Metadata\n",
    "\n",
    "[Apache Parquet](https://parquet.apache.org/) is a common output format for distributed data pipelines, for example Spark and Presto. The files contain a lot of metadata about the contents of the file which can be useful to understand the data before querying it.\n",
    "\n",
    "In our usecase we're going to get metadata from the [Common Crawl Columnar Index](https://commoncrawl.org/2018/03/index-to-warc-files-and-urls-in-columnar-format/) to help find which Parquet files contain an index to specific URLs.\n",
    "\n",
    "\n",
    "## Using [pyarrow dataset](https://arrow.apache.org/docs/python/dataset.html)\n",
    "\n",
    "Pyarrow provides excellent support for Parquet and makes it easy to read the metadata."
   ]
  },
  {
   "cell_type": "code",
   "execution_count": 1,
   "id": "e88ba00f",
   "metadata": {},
   "outputs": [],
   "source": [
    "import pyarrow.dataset as ds\n",
    "import pyarrow as pa"
   ]
  },
  {
   "cell_type": "markdown",
   "id": "a4456431",
   "metadata": {},
   "source": [
    "It only takes 16s to find all the partition data. (Note that you will need an Amazon Web Services account configured to run this because [it requires authentication](https://commoncrawl.org/2022/03/introducing-cloudfront-access-to-common-crawl-data/))."
   ]
  },
  {
   "cell_type": "code",
   "execution_count": 2,
   "id": "fbb3bbf1",
   "metadata": {
    "scrolled": true
   },
   "outputs": [
    {
     "name": "stdout",
     "output_type": "stream",
     "text": [
      "CPU times: user 3.14 s, sys: 512 ms, total: 3.65 s\n",
      "Wall time: 16.9 s\n"
     ]
    }
   ],
   "source": [
    "%%time\n",
    "cc_index_s3_path = 's3://commoncrawl/cc-index/table/cc-main/warc/'\n",
    "\n",
    "cc_index = ds.dataset(cc_index_s3_path, format='parquet', partitioning='hive')"
   ]
  },
  {
   "cell_type": "markdown",
   "id": "c08e2ffc",
   "metadata": {},
   "source": [
    "We can access individual files."
   ]
  },
  {
   "cell_type": "code",
   "execution_count": 3,
   "id": "4f55311e",
   "metadata": {},
   "outputs": [
    {
     "data": {
      "text/plain": [
       "'commoncrawl/cc-index/table/cc-main/warc/crawl=CC-MAIN-2022-05/subset=warc/part-00299-1e2959d8-5649-433a-b76e-f1b876a6479d.c000.gz.parquet'"
      ]
     },
     "execution_count": 3,
     "metadata": {},
     "output_type": "execute_result"
    }
   ],
   "source": [
    "cc_index.files[-1]"
   ]
  },
  {
   "cell_type": "markdown",
   "id": "929d21f0",
   "metadata": {},
   "source": [
    "There's also the `get_fragments` interface which returns pointers to the original files, but has additional methods and can be filtered.\n",
    "\n",
    "For example we can list all the WARC files."
   ]
  },
  {
   "cell_type": "code",
   "execution_count": 4,
   "id": "cc9b8f99",
   "metadata": {},
   "outputs": [
    {
     "name": "stdout",
     "output_type": "stream",
     "text": [
      "CPU times: user 138 ms, sys: 3.61 ms, total: 142 ms\n",
      "Wall time: 145 ms\n"
     ]
    },
    {
     "data": {
      "text/plain": [
       "25193"
      ]
     },
     "execution_count": 4,
     "metadata": {},
     "output_type": "execute_result"
    }
   ],
   "source": [
    "%%time\n",
    "fragments = list(cc_index.get_fragments(filter=ds.field('subset') == 'warc'))\n",
    "n_warc = len(fragments)\n",
    "n_warc"
   ]
  },
  {
   "cell_type": "markdown",
   "id": "aaeff3ce",
   "metadata": {},
   "source": [
    "Here we just get the fragments for the WARC data from the 2022-05 crawl; which is 300 Parquet files."
   ]
  },
  {
   "cell_type": "code",
   "execution_count": 5,
   "id": "0d438e78",
   "metadata": {},
   "outputs": [
    {
     "name": "stdout",
     "output_type": "stream",
     "text": [
      "CPU times: user 7.51 ms, sys: 716 µs, total: 8.23 ms\n",
      "Wall time: 8.22 ms\n"
     ]
    },
    {
     "data": {
      "text/plain": [
       "300"
      ]
     },
     "execution_count": 5,
     "metadata": {},
     "output_type": "execute_result"
    }
   ],
   "source": [
    "%%time\n",
    "fragments = list(cc_index.get_fragments(filter=(ds.field('crawl') == 'CC-MAIN-2022-05') &\n",
    "                                        (ds.field('subset') == 'warc')))\n",
    "len(fragments)"
   ]
  },
  {
   "cell_type": "markdown",
   "id": "dbe0fe14",
   "metadata": {},
   "source": [
    "Each fragment consists of an individual parquet file."
   ]
  },
  {
   "cell_type": "code",
   "execution_count": 6,
   "id": "f762666d",
   "metadata": {},
   "outputs": [
    {
     "data": {
      "text/plain": [
       "'commoncrawl/cc-index/table/cc-main/warc/crawl=CC-MAIN-2022-05/subset=warc/part-00000-1e2959d8-5649-433a-b76e-f1b876a6479d.c000.gz.parquet'"
      ]
     },
     "execution_count": 6,
     "metadata": {},
     "output_type": "execute_result"
    }
   ],
   "source": [
    "fragments[0].path"
   ]
  },
  {
   "cell_type": "markdown",
   "id": "7ebf7b4a",
   "metadata": {},
   "source": [
    "A Parquet file is split into row groups."
   ]
  },
  {
   "cell_type": "code",
   "execution_count": 7,
   "id": "1e36992b",
   "metadata": {},
   "outputs": [
    {
     "data": {
      "text/plain": [
       "[RowGroupInfo(0),\n",
       " RowGroupInfo(1),\n",
       " RowGroupInfo(2),\n",
       " RowGroupInfo(3),\n",
       " RowGroupInfo(4),\n",
       " RowGroupInfo(5),\n",
       " RowGroupInfo(6),\n",
       " RowGroupInfo(7),\n",
       " RowGroupInfo(8),\n",
       " RowGroupInfo(9),\n",
       " RowGroupInfo(10)]"
      ]
     },
     "execution_count": 7,
     "metadata": {},
     "output_type": "execute_result"
    }
   ],
   "source": [
    "fragments[0].row_groups"
   ]
  },
  {
   "cell_type": "markdown",
   "id": "d14d6f53",
   "metadata": {},
   "source": [
    "These row groups contain some statistics.\n",
    "In particular it's approximately sorted by `url_surtkey`; if we are looking for a particular URL we can exclude row groups where the URL isn't between the `min` and `max` values."
   ]
  },
  {
   "cell_type": "code",
   "execution_count": 8,
   "id": "c59934a0",
   "metadata": {},
   "outputs": [
    {
     "data": {
      "text/plain": [
       "{'url_surtkey': {'min': 'com,wordpress,freefall852)/2016/03/29/billy-guy',\n",
       "  'max': 'com,worldpackers)/search/skill_hospitality_entertainment/type_hotel?location_categories[]=nature&location_types[]=hotel&min_meals_count[]=3&months[]=11&skills[]=music'},\n",
       " 'url': {'min': 'http://03.worldchefsbible.com/',\n",
       "  'max': 'https://zh.worldallianceofdramatherapy.com/he-mission'},\n",
       " 'url_host_name': {'min': '03.worldchefsbible.com',\n",
       "  'max': 'zr1.worldblast.com'},\n",
       " 'url_host_tld': {'min': 'com', 'max': 'com'},\n",
       " 'url_host_2nd_last_part': {'min': 'wordpress', 'max': 'worldpackers'},\n",
       " 'url_host_3rd_last_part': {'min': '03', 'max': 'zr1'},\n",
       " 'url_host_4th_last_part': {'min': 'bbbfoundation', 'max': 'www'},\n",
       " 'url_host_5th_last_part': {'min': 'http', 'max': 'toolbox'},\n",
       " 'url_host_registry_suffix': {'min': 'com', 'max': 'com'},\n",
       " 'url_host_registered_domain': {'min': 'wordpress.com',\n",
       "  'max': 'worldpackers.com'},\n",
       " 'url_host_private_suffix': {'min': 'com', 'max': 'com'},\n",
       " 'url_host_private_domain': {'min': 'wordpress.com',\n",
       "  'max': 'worldpackers.com'},\n",
       " 'url_host_name_reversed': {'min': 'com.wordpress.freefall852',\n",
       "  'max': 'com.worldpackers.www'},\n",
       " 'url_protocol': {'min': 'http', 'max': 'https'},\n",
       " 'url_port': {'min': 443, 'max': 2000},\n",
       " 'url_path': {'min': '',\n",
       "  'max': '/▶-if-i-unblock-someone-on-whatsapp-will-they-find-out/'},\n",
       " 'url_query': {'min': '', 'max': 'zh-cn'},\n",
       " 'fetch_time': {'min': datetime.datetime(2022, 1, 16, 9, 32, 20, tzinfo=<UTC>),\n",
       "  'max': datetime.datetime(2022, 1, 29, 15, 10, 45, tzinfo=<UTC>)},\n",
       " 'fetch_status': {'min': 200, 'max': 200},\n",
       " 'content_digest': {'min': '2223CG5SRUGFII5CRWMUD2766UWOL7MU',\n",
       "  'max': 'ZZZZKJBCLHGPU4P2LIHR3X4PZOZSJ4SV'},\n",
       " 'content_mime_type': {'min': 'Application/Unknown', 'max': 'video/x-ms-asf'},\n",
       " 'content_mime_detected': {'min': 'application/atom+xml',\n",
       "  'max': 'video/x-ms-asf'},\n",
       " 'content_charset': {'min': 'Big5', 'max': 'x-windows-949'},\n",
       " 'content_languages': {'min': 'afr', 'max': 'zho,xho,eng'},\n",
       " 'content_truncated': {'min': 'disconnect', 'max': 'length'},\n",
       " 'warc_filename': {'min': 'crawl-data/CC-MAIN-2022-05/segments/1642320299852.23/warc/CC-MAIN-20220116093137-20220116123137-00000.warc.gz',\n",
       "  'max': 'crawl-data/CC-MAIN-2022-05/segments/1642320306346.64/warc/CC-MAIN-20220128212503-20220129002503-00719.warc.gz'},\n",
       " 'warc_record_offset': {'min': 932, 'max': 1202361748},\n",
       " 'warc_record_length': {'min': 489, 'max': 1049774},\n",
       " 'warc_segment': {'min': '1642320299852.23', 'max': '1642320306346.64'}}"
      ]
     },
     "execution_count": 8,
     "metadata": {},
     "output_type": "execute_result"
    }
   ],
   "source": [
    "fragments[0].row_groups[0].statistics"
   ]
  },
  {
   "cell_type": "code",
   "execution_count": 9,
   "id": "40a004bd",
   "metadata": {},
   "outputs": [
    {
     "data": {
      "text/plain": [
       "0"
      ]
     },
     "execution_count": 9,
     "metadata": {},
     "output_type": "execute_result"
    }
   ],
   "source": [
    "fragments[0].row_groups[0].id"
   ]
  },
  {
   "cell_type": "code",
   "execution_count": 10,
   "id": "7574c7de",
   "metadata": {},
   "outputs": [
    {
     "data": {
      "text/plain": [
       "1730100"
      ]
     },
     "execution_count": 10,
     "metadata": {},
     "output_type": "execute_result"
    }
   ],
   "source": [
    "fragments[0].row_groups[0].num_rows"
   ]
  },
  {
   "cell_type": "code",
   "execution_count": 11,
   "id": "cf396589",
   "metadata": {},
   "outputs": [
    {
     "data": {
      "text/plain": [
       "138.88888888888889"
      ]
     },
     "execution_count": 11,
     "metadata": {},
     "output_type": "execute_result"
    }
   ],
   "source": [
    "(25_000 /3) / 60"
   ]
  },
  {
   "cell_type": "markdown",
   "id": "71d4c164",
   "metadata": {},
   "source": [
    "We can go ahead an iterate through all the fragments and extract the row-group data.\n",
    "\n",
    "Around 2-3/second."
   ]
  },
  {
   "cell_type": "code",
   "execution_count": 12,
   "id": "b7c52e54",
   "metadata": {},
   "outputs": [
    {
     "data": {
      "application/vnd.jupyter.widget-view+json": {
       "model_id": "65ef355cff95484c900189a24ca6e5a4",
       "version_major": 2,
       "version_minor": 0
      },
      "text/plain": [
       "  0%|          | 0/300 [00:00<?, ?it/s]"
      ]
     },
     "metadata": {},
     "output_type": "display_data"
    },
    {
     "data": {
      "text/plain": [
       "7.918716907501221"
      ]
     },
     "execution_count": 12,
     "metadata": {},
     "output_type": "execute_result"
    }
   ],
   "source": [
    "from tqdm.auto import tqdm\n",
    "from time import time\n",
    "\n",
    "N = 20\n",
    "start_time = time()\n",
    "\n",
    "row_group_statistics = []\n",
    "for i, f in tqdm(enumerate(fragments), total=len(fragments)):\n",
    "    for row_group in f.row_groups:\n",
    "        row_group_statistics.append(\n",
    "            {'bucket': f.path.split('/', maxsplit=1)[0],\n",
    "             'key': f.path.split('/', maxsplit=1)[1],\n",
    "             'id': row_group.id,\n",
    "             'num_rows': row_group.num_rows,\n",
    "             'min_url_surtkey': row_group.statistics['url_surtkey']['min'],\n",
    "             'max_url_surtkey': row_group.statistics['url_surtkey']['min'],\n",
    "            })\n",
    "    if i >= N:\n",
    "        break\n",
    "        \n",
    "elapsed_time = time() - start_time\n",
    "elapsed_time"
   ]
  },
  {
   "cell_type": "markdown",
   "id": "7067da64",
   "metadata": {},
   "source": [
    "Processing all the files would take around this many minutes:"
   ]
  },
  {
   "cell_type": "code",
   "execution_count": 13,
   "id": "874e51d8",
   "metadata": {},
   "outputs": [
    {
     "data": {
      "text/plain": [
       "166.2468625422319"
      ]
     },
     "execution_count": 13,
     "metadata": {},
     "output_type": "execute_result"
    }
   ],
   "source": [
    "(elapsed_time * n_warc / N) / 60"
   ]
  },
  {
   "cell_type": "markdown",
   "id": "542121ec",
   "metadata": {},
   "source": [
    "It seems to take an unusually long time to read the row_group statistics."
   ]
  },
  {
   "cell_type": "markdown",
   "id": "308fb2c9",
   "metadata": {},
   "source": [
    "## Using fastparquet\n",
    "\n",
    "[Fastparquet](https://github.com/dask/fastparquet/) is another system to read Parquet files creates by the [Dask Project](https://dask.org/).\n",
    "\n",
    "For remote files we need to pass the fsspec filesystem; in this case using s3fs."
   ]
  },
  {
   "cell_type": "code",
   "execution_count": 14,
   "id": "d9bc9066",
   "metadata": {},
   "outputs": [],
   "source": [
    "from fastparquet import ParquetFile\n",
    "import s3fs\n",
    "\n",
    "fs = s3fs.S3FileSystem()"
   ]
  },
  {
   "cell_type": "markdown",
   "id": "33656648",
   "metadata": {},
   "source": [
    "It's quite slow and takes seconds to even access a single file (this just reads the metadata, no data is loaded).\n",
    "It seems like we can pass the whole `cc_index_s3_path`, but it would take prohibitively long to process.\n",
    "Perhaps this would be better if the compute was located closer to the data (this is being run on a laptop in Australia)."
   ]
  },
  {
   "cell_type": "code",
   "execution_count": 15,
   "id": "8f7b5bdd",
   "metadata": {},
   "outputs": [
    {
     "name": "stdout",
     "output_type": "stream",
     "text": [
      "CPU times: user 176 ms, sys: 56.6 ms, total: 232 ms\n",
      "Wall time: 2.33 s\n"
     ]
    }
   ],
   "source": [
    "%%time\n",
    "pf = ParquetFile(fn=fragments[0].path, fs=fs)"
   ]
  },
  {
   "cell_type": "markdown",
   "id": "80e1e834",
   "metadata": {},
   "source": [
    "We can access all the statistics through the `fmd` attribue (file meta data)."
   ]
  },
  {
   "cell_type": "code",
   "execution_count": 16,
   "id": "eedcc76f",
   "metadata": {},
   "outputs": [
    {
     "data": {
      "text/plain": [
       "{'type': 6,\n",
       " 'encodings': [0, 4],\n",
       " 'path_in_schema': ['url_surtkey'],\n",
       " 'codec': 2,\n",
       " 'num_values': 1730100,\n",
       " 'total_uncompressed_size': 117917394,\n",
       " 'total_compressed_size': 23113472,\n",
       " 'key_value_metadata': None,\n",
       " 'data_page_offset': 4,\n",
       " 'index_page_offset': None,\n",
       " 'dictionary_page_offset': None,\n",
       " 'statistics': {'max': None,\n",
       "  'min': None,\n",
       "  'null_count': 0,\n",
       "  'distinct_count': None,\n",
       "  'max_value': \"b'com,worldpackers)/search/skill_hospitality_entertainment/type_hotel?location_categories[]=nature&location_types[]=hotel&min_meals_count[]=3&months[]=11&skills[]=music'\",\n",
       "  'min_value': \"b'com,wordpress,freefall852)/2016/03/29/billy-guy'\"},\n",
       " 'encoding_stats': [{'page_type': 0, 'encoding': 0, 'count': 122}],\n",
       " 'bloom_filter_offset': None}"
      ]
     },
     "execution_count": 16,
     "metadata": {},
     "output_type": "execute_result"
    }
   ],
   "source": [
    "pf.fmd.row_groups[0].columns[0].meta_data._asdict()"
   ]
  },
  {
   "attachments": {
    "image.png": {
     "image/png": "[encoded data removed]"
    }
   },
   "cell_type": "markdown",
   "id": "50b9b188",
   "metadata": {},
   "source": [
    "# Directly reading Parquet metadata\n",
    "\n",
    "Apache Arrow datasets and fastparquet are convenient, but they are slow. Let's see what it takes to read Parquet metadata.\n",
    "\n",
    "Looking at the Apache Parquet [file format](https://parquet.apache.org/docs/file-format/) the file metadata is at the end of the file, followed by a 4 byte integer describing the metadata length and then 4 bytes with the magic number \"PAR1\".\n",
    "\n",
    "![image.png](attachment:image.png)\n",
    "\n",
    "S3 has a HTTP REST interface; while we could use it directly we will access it through boto to abstract away things like authentication."
   ]
  },
  {
   "cell_type": "code",
   "execution_count": 17,
   "id": "2676d9fb",
   "metadata": {},
   "outputs": [],
   "source": [
    "import boto3\n",
    "\n",
    "s3 = boto3.client('s3')"
   ]
  },
  {
   "cell_type": "markdown",
   "id": "65cfac64",
   "metadata": {},
   "source": [
    "Let's start with a single parquet file"
   ]
  },
  {
   "cell_type": "code",
   "execution_count": 18,
   "id": "04b87721",
   "metadata": {},
   "outputs": [
    {
     "data": {
      "text/plain": [
       "'commoncrawl/cc-index/table/cc-main/warc/crawl=CC-MAIN-2022-05/subset=warc/part-00000-1e2959d8-5649-433a-b76e-f1b876a6479d.c000.gz.parquet'"
      ]
     },
     "execution_count": 18,
     "metadata": {},
     "output_type": "execute_result"
    }
   ],
   "source": [
    "file = fragments[0].path\n",
    "file"
   ]
  },
  {
   "cell_type": "markdown",
   "id": "26f9cde1",
   "metadata": {},
   "source": [
    "For Boto we need to separate out the bucket (commoncrawl), from the key (the rest)"
   ]
  },
  {
   "cell_type": "code",
   "execution_count": 19,
   "id": "08fa7c37",
   "metadata": {},
   "outputs": [],
   "source": [
    "bucket, key = file.split('/', 1)"
   ]
  },
  {
   "cell_type": "markdown",
   "id": "6c77abe9",
   "metadata": {},
   "source": [
    "## Getting the file metadata"
   ]
  },
  {
   "cell_type": "markdown",
   "id": "fe7123f1",
   "metadata": {},
   "source": [
    "Reading in the whole file is going to be slow, so we need to work out where the end of the file is; that is we need to know the file's length.\n",
    "For a start we're going to need a way of working out where the end of the file is; that is it's length.\n",
    "\n",
    "We can use a HTTP [HEAD](https://developer.mozilla.org/en-US/docs/Web/HTTP/Methods/HEAD) request, which should return the [Content-Length](https://www.w3.org/Protocols/rfc2616/rfc2616-sec14.html#sec14.13); the size of the file in bytes (8 bits).\n"
   ]
  },
  {
   "cell_type": "code",
   "execution_count": 20,
   "id": "8fd471c9",
   "metadata": {
    "scrolled": true
   },
   "outputs": [
    {
     "name": "stdout",
     "output_type": "stream",
     "text": [
      "CPU times: user 27.4 ms, sys: 7.98 ms, total: 35.4 ms\n",
      "Wall time: 1.01 s\n"
     ]
    }
   ],
   "source": [
    "%time metadata = s3.head_object(Bucket=bucket, Key=key)"
   ]
  },
  {
   "cell_type": "code",
   "execution_count": 21,
   "id": "6c6755a4",
   "metadata": {},
   "outputs": [
    {
     "data": {
      "text/plain": [
       "{'ResponseMetadata': {'RequestId': '6AWKV1DJNRTEER3W',\n",
       "  'HostId': 'YtP3flNoav+Ht8NgTRWGNrbeXXvkPbpH2+C1Xo8m2gcD4e9gbZQBazEVnozbS0qEdMXZg4XvQ1g=',\n",
       "  'HTTPStatusCode': 200,\n",
       "  'HTTPHeaders': {'x-amz-id-2': 'YtP3flNoav+Ht8NgTRWGNrbeXXvkPbpH2+C1Xo8m2gcD4e9gbZQBazEVnozbS0qEdMXZg4XvQ1g=',\n",
       "   'x-amz-request-id': '6AWKV1DJNRTEER3W',\n",
       "   'date': 'Mon, 18 Apr 2022 12:23:58 GMT',\n",
       "   'last-modified': 'Sun, 30 Jan 2022 05:01:16 GMT',\n",
       "   'etag': '\"45ca767a5b7c8226dd75be1b8bb525f0\"',\n",
       "   'x-amz-storage-class': 'INTELLIGENT_TIERING',\n",
       "   'accept-ranges': 'bytes',\n",
       "   'content-type': 'application/octet-stream',\n",
       "   'server': 'AmazonS3',\n",
       "   'content-length': '1344281529'},\n",
       "  'RetryAttempts': 0},\n",
       " 'AcceptRanges': 'bytes',\n",
       " 'LastModified': datetime.datetime(2022, 1, 30, 5, 1, 16, tzinfo=tzutc()),\n",
       " 'ContentLength': 1344281529,\n",
       " 'ETag': '\"45ca767a5b7c8226dd75be1b8bb525f0\"',\n",
       " 'ContentType': 'application/octet-stream',\n",
       " 'Metadata': {},\n",
       " 'StorageClass': 'INTELLIGENT_TIERING'}"
      ]
     },
     "execution_count": 21,
     "metadata": {},
     "output_type": "execute_result"
    }
   ],
   "source": [
    "metadata"
   ]
  },
  {
   "cell_type": "markdown",
   "id": "41778559",
   "metadata": {},
   "source": [
    "The whole file is quite large to read in at once, and there are 300 of them!"
   ]
  },
  {
   "cell_type": "code",
   "execution_count": 22,
   "id": "85a3080d",
   "metadata": {},
   "outputs": [
    {
     "data": {
      "text/plain": [
       "'1.3 GB'"
      ]
     },
     "execution_count": 22,
     "metadata": {},
     "output_type": "execute_result"
    }
   ],
   "source": [
    "content_length = int(metadata['ContentLength'])\n",
    "f'{content_length / (1024**3):0.1f} GB'"
   ]
  },
  {
   "cell_type": "markdown",
   "id": "6ce28333",
   "metadata": {},
   "source": [
    "We can just read in the last 8 bytes by passing Range to get_object, which under the hood is using a HTTP [Range Requst](https://developer.mozilla.org/en-US/docs/Web/HTTP/Range_requests)."
   ]
  },
  {
   "cell_type": "code",
   "execution_count": 23,
   "id": "0601c677",
   "metadata": {},
   "outputs": [],
   "source": [
    "end_byte = content_length\n",
    "start_byte = end_byte - 8"
   ]
  },
  {
   "cell_type": "code",
   "execution_count": 24,
   "id": "851d99c2",
   "metadata": {},
   "outputs": [
    {
     "name": "stdout",
     "output_type": "stream",
     "text": [
      "CPU times: user 11.3 ms, sys: 0 ns, total: 11.3 ms\n",
      "Wall time: 258 ms\n"
     ]
    },
    {
     "data": {
      "text/plain": [
       "b'o\\xe5\\x00\\x00PAR1'"
      ]
     },
     "execution_count": 24,
     "metadata": {},
     "output_type": "execute_result"
    }
   ],
   "source": [
    "%%time\n",
    "response = s3.get_object(Bucket=bucket, Key=key, Range=f'bytes={start_byte}-{end_byte}')\n",
    "end_content = response['Body'].read()\n",
    "end_content"
   ]
  },
  {
   "cell_type": "markdown",
   "id": "0b614c4b",
   "metadata": {},
   "source": [
    "The end is the magic number for the Parquet format."
   ]
  },
  {
   "cell_type": "code",
   "execution_count": 25,
   "id": "47f5e4d0",
   "metadata": {},
   "outputs": [],
   "source": [
    "assert end_content[-4:] == b'PAR1'"
   ]
  },
  {
   "cell_type": "markdown",
   "id": "3133e66d",
   "metadata": {},
   "source": [
    "This is preceeded by the length of the metadata in bytes."
   ]
  },
  {
   "cell_type": "code",
   "execution_count": 26,
   "id": "eaf9b10f",
   "metadata": {},
   "outputs": [
    {
     "data": {
      "text/plain": [
       "'57.4 kb'"
      ]
     },
     "execution_count": 26,
     "metadata": {},
     "output_type": "execute_result"
    }
   ],
   "source": [
    "file_meta_length = int.from_bytes(end_content[:4], byteorder='little')\n",
    "f'{file_meta_length / 1024:0.1f} kb'"
   ]
  },
  {
   "cell_type": "markdown",
   "id": "fbf2bba5",
   "metadata": {},
   "source": [
    "Now we know how long the metadata is we can read it from the file."
   ]
  },
  {
   "cell_type": "code",
   "execution_count": 27,
   "id": "d2ebb075",
   "metadata": {},
   "outputs": [],
   "source": [
    "end_byte = content_length - 8\n",
    "start_byte = content_length - 8 - file_meta_length"
   ]
  },
  {
   "cell_type": "markdown",
   "id": "4bd7d343",
   "metadata": {},
   "source": [
    "Note this takes just a little longer than reading 2 bytes; there's a relatively high constant overhead per request."
   ]
  },
  {
   "cell_type": "code",
   "execution_count": 28,
   "id": "f98d4449",
   "metadata": {},
   "outputs": [
    {
     "name": "stdout",
     "output_type": "stream",
     "text": [
      "CPU times: user 5.33 ms, sys: 4.37 ms, total: 9.7 ms\n",
      "Wall time: 496 ms\n"
     ]
    }
   ],
   "source": [
    "%%time\n",
    "response = s3.get_object(Bucket=bucket, Key=key, Range=f'bytes={start_byte}-{end_byte}')\n",
    "file_meta_content = response['Body'].read()"
   ]
  },
  {
   "attachments": {
    "image.png": {
     "image/png": "[encoded data removed]"
    }
   },
   "cell_type": "markdown",
   "id": "b0c28430",
   "metadata": {},
   "source": [
    "## Decoding file metadata\n",
    "\n",
    "The Apache Parquet [metadata documentation](https://parquet.apache.org/docs/file-format/metadata/) shows the format of the file metadata, which we can parse.\n",
    "\n",
    "![image.png](attachment:image.png)\n",
    "\n",
    "This is pretty involved, so I'll cheat and use the good work of fastparquet to read the metadata for me."
   ]
  },
  {
   "cell_type": "code",
   "execution_count": 29,
   "id": "ae1b86ea",
   "metadata": {},
   "outputs": [],
   "source": [
    "from fastparquet.cencoding import from_buffer\n",
    "\n",
    "fmd = from_buffer(file_meta_content, \"FileMetaData\")"
   ]
  },
  {
   "cell_type": "markdown",
   "id": "6cbb5f42",
   "metadata": {},
   "source": [
    "It's using [Apache Thrift](https://thrift.apache.org/) for the file metadata."
   ]
  },
  {
   "cell_type": "code",
   "execution_count": 30,
   "id": "b7d9b0bc",
   "metadata": {},
   "outputs": [
    {
     "data": {
      "text/plain": [
       "fastparquet.cencoding.ThriftObject"
      ]
     },
     "execution_count": 30,
     "metadata": {},
     "output_type": "execute_result"
    }
   ],
   "source": [
    "type(fmd)"
   ]
  },
  {
   "cell_type": "markdown",
   "id": "976969de",
   "metadata": {},
   "source": [
    "We can then extract these fields as attributes; like the version"
   ]
  },
  {
   "cell_type": "code",
   "execution_count": 31,
   "id": "b89f2c54",
   "metadata": {},
   "outputs": [
    {
     "data": {
      "text/plain": [
       "['column_orders',\n",
       " 'created_by',\n",
       " 'encryption_algorithm',\n",
       " 'footer_signing_key_metadata',\n",
       " 'key_value_metadata',\n",
       " 'num_rows',\n",
       " 'row_groups',\n",
       " 'schema',\n",
       " 'version']"
      ]
     },
     "execution_count": 31,
     "metadata": {},
     "output_type": "execute_result"
    }
   ],
   "source": [
    "dir(fmd)"
   ]
  },
  {
   "cell_type": "code",
   "execution_count": 32,
   "id": "7ff55a15",
   "metadata": {},
   "outputs": [
    {
     "data": {
      "text/plain": [
       "1"
      ]
     },
     "execution_count": 32,
     "metadata": {},
     "output_type": "execute_result"
    }
   ],
   "source": [
    "fmd.version"
   ]
  },
  {
   "cell_type": "markdown",
   "id": "e4b6a9f9",
   "metadata": {},
   "source": [
    "Or the schema"
   ]
  },
  {
   "cell_type": "code",
   "execution_count": 33,
   "id": "78e68461",
   "metadata": {},
   "outputs": [
    {
     "data": {
      "text/plain": [
       "{'type': None, 'type_length': None, 'repetition_type': None, 'name': \"b'spark_schema'\", 'num_children': 30, 'converted_type': None, 'scale': None, 'precision': None, 'field_id': None, 'logicalType': None}"
      ]
     },
     "execution_count": 33,
     "metadata": {},
     "output_type": "execute_result"
    }
   ],
   "source": [
    "fmd.schema[0]"
   ]
  },
  {
   "cell_type": "code",
   "execution_count": 34,
   "id": "d57ba7e5",
   "metadata": {},
   "outputs": [
    {
     "data": {
      "text/plain": [
       "{'type': 6, 'type_length': None, 'repetition_type': 0, 'name': \"b'url_surtkey'\", 'num_children': None, 'converted_type': 0, 'scale': None, 'precision': None, 'field_id': None, 'logicalType': {'STRING': {}, 'MAP': None, 'LIST': None, 'ENUM': None, 'DECIMAL': None, 'DATE': None, 'TIME': None, 'TIMESTAMP': None, 'INTEGER': None, 'UNKNOWN': None, 'JSON': None, 'BSON': None, 'UUID': None}}"
      ]
     },
     "execution_count": 34,
     "metadata": {},
     "output_type": "execute_result"
    }
   ],
   "source": [
    "fmd.schema[1]"
   ]
  },
  {
   "cell_type": "markdown",
   "id": "59f08ace",
   "metadata": {},
   "source": [
    "And the row groups"
   ]
  },
  {
   "cell_type": "code",
   "execution_count": 35,
   "id": "90f644b3",
   "metadata": {},
   "outputs": [
    {
     "data": {
      "text/plain": [
       "452304596"
      ]
     },
     "execution_count": 35,
     "metadata": {},
     "output_type": "execute_result"
    }
   ],
   "source": [
    "fmd.row_groups[0].total_byte_size"
   ]
  },
  {
   "cell_type": "code",
   "execution_count": 36,
   "id": "51abf62d",
   "metadata": {},
   "outputs": [
    {
     "data": {
      "text/plain": [
       "{'type': 6,\n",
       " 'encodings': [0, 4],\n",
       " 'path_in_schema': ['url_surtkey'],\n",
       " 'codec': 2,\n",
       " 'num_values': 1730100,\n",
       " 'total_uncompressed_size': 117917394,\n",
       " 'total_compressed_size': 23113472,\n",
       " 'key_value_metadata': None,\n",
       " 'data_page_offset': 4,\n",
       " 'index_page_offset': None,\n",
       " 'dictionary_page_offset': None,\n",
       " 'statistics': {'max': None,\n",
       "  'min': None,\n",
       "  'null_count': 0,\n",
       "  'distinct_count': None,\n",
       "  'max_value': \"b'com,worldpackers)/search/skill_hospitality_entertainment/type_hotel?location_categories[]=nature&location_types[]=hotel&min_meals_count[]=3&months[]=11&skills[]=music'\",\n",
       "  'min_value': \"b'com,wordpress,freefall852)/2016/03/29/billy-guy'\"},\n",
       " 'encoding_stats': [{'page_type': 0, 'encoding': 0, 'count': 122}],\n",
       " 'bloom_filter_offset': None}"
      ]
     },
     "execution_count": 36,
     "metadata": {},
     "output_type": "execute_result"
    }
   ],
   "source": [
    "fmd.row_groups[0].columns[0].meta_data._asdict()"
   ]
  },
  {
   "cell_type": "markdown",
   "id": "fe9ccd6d",
   "metadata": {},
   "source": [
    "And the location of each column"
   ]
  },
  {
   "cell_type": "code",
   "execution_count": 37,
   "id": "e6f3423a",
   "metadata": {},
   "outputs": [
    {
     "data": {
      "text/plain": [
       "134217728"
      ]
     },
     "execution_count": 37,
     "metadata": {},
     "output_type": "execute_result"
    }
   ],
   "source": [
    "fmd.row_groups[1].columns[0].file_offset"
   ]
  },
  {
   "cell_type": "markdown",
   "id": "2decac57",
   "metadata": {},
   "source": [
    "## Putting it together\n",
    "\n",
    "We can combine all of this into a single function."
   ]
  },
  {
   "cell_type": "code",
   "execution_count": 38,
   "id": "73212086",
   "metadata": {},
   "outputs": [],
   "source": [
    "def parquet_metadata_s3(path, s3):\n",
    "    metadata = s3.head_object(Bucket=bucket, Key=key)\n",
    "    content_length = int(metadata['ContentLength'])\n",
    "    \n",
    "    end_response = s3.get_object(Bucket=bucket, Key=key, Range=f'bytes={content_length-8}-{content_length}')\n",
    "    end_content = end_response['Body'].read()\n",
    "    \n",
    "    if end_content[-4:] != b'PAR1':\n",
    "        raise ValueError('File at %s does not look like a Parquet file; magic %s' % (path, end_content[-4:]))\n",
    "    file_meta_length = int.from_bytes(end_content[:4], byteorder='little')\n",
    "\n",
    "    file_meta_response = s3.get_object(Bucket=bucket, Key=key,\n",
    "                                       Range=f'bytes={content_length-8-file_meta_length}-{content_length-8}')\n",
    "    file_meta_content = file_meta_response['Body'].read()\n",
    "    \n",
    "    fmd = from_buffer(file_meta_content, \"FileMetaData\")\n",
    "    \n",
    "    return fmd"
   ]
  },
  {
   "cell_type": "markdown",
   "id": "e65f96e5",
   "metadata": {},
   "source": [
    "This is quicker than fastparquet (although perhaps doing less), and a little faster than pyarrow."
   ]
  },
  {
   "cell_type": "code",
   "execution_count": 39,
   "id": "d71a516a",
   "metadata": {},
   "outputs": [
    {
     "name": "stdout",
     "output_type": "stream",
     "text": [
      "CPU times: user 22 ms, sys: 258 µs, total: 22.2 ms\n",
      "Wall time: 1.02 s\n"
     ]
    }
   ],
   "source": [
    "%time fmd = parquet_metadata_s3(file, s3)"
   ]
  },
  {
   "cell_type": "markdown",
   "id": "8909b6a8",
   "metadata": {},
   "source": [
    "## Using HTTP\n",
    "\n",
    "Common Crawl also exposes a [HTTP Interface](https://commoncrawl.org/2022/03/introducing-cloudfront-access-to-common-crawl-data/) to the S3 buckets hosted using AWS CloudFront.\n",
    "We can try to access those instead."
   ]
  },
  {
   "cell_type": "markdown",
   "id": "0a953048",
   "metadata": {},
   "source": [
    "### Using Pyarrow\n",
    "\n",
    "Pyarrow can read the files from anything that supports fsspec, and so we can pass a HTTPFileSystem."
   ]
  },
  {
   "cell_type": "code",
   "execution_count": 40,
   "id": "0cc1756d",
   "metadata": {},
   "outputs": [],
   "source": [
    "from fsspec.implementations.http import HTTPFileSystem\n",
    "\n",
    "http = HTTPFileSystem()"
   ]
  },
  {
   "cell_type": "markdown",
   "id": "d0325049",
   "metadata": {},
   "source": [
    "However it can't discover the partitions and files because there is no way to list them over HTTP; only the individual files can be accessed.\n",
    "We can manually pass the files however."
   ]
  },
  {
   "cell_type": "code",
   "execution_count": 41,
   "id": "e23b6645",
   "metadata": {},
   "outputs": [
    {
     "data": {
      "text/plain": [
       "'https://data.commoncrawl.org/cc-index/table/cc-main/warc/crawl=CC-MAIN-2013-20/subset=warc/part-00000-6ac52f25-05a1-4998-adf1-b8c830c08eec.c000.gz.parquet'"
      ]
     },
     "execution_count": 41,
     "metadata": {},
     "output_type": "execute_result"
    }
   ],
   "source": [
    "http_files = ['https://data.commoncrawl.org/' + x.split('/', 1)[1] for x in cc_index.files]\n",
    "http_files[0]"
   ]
  },
  {
   "cell_type": "code",
   "execution_count": 42,
   "id": "6f09af0e",
   "metadata": {},
   "outputs": [
    {
     "name": "stdout",
     "output_type": "stream",
     "text": [
      "CPU times: user 1.16 s, sys: 110 ms, total: 1.27 s\n",
      "Wall time: 2.97 s\n"
     ]
    }
   ],
   "source": [
    "%%time\n",
    "cc_index_http = ds.dataset(http_files, format='parquet', partitioning='hive', filesystem=http)"
   ]
  },
  {
   "cell_type": "code",
   "execution_count": 43,
   "id": "9b3363a8",
   "metadata": {},
   "outputs": [
    {
     "name": "stdout",
     "output_type": "stream",
     "text": [
      "CPU times: user 296 ms, sys: 0 ns, total: 296 ms\n",
      "Wall time: 294 ms\n"
     ]
    }
   ],
   "source": [
    "%%time\n",
    "fragments_http = list(cc_index_http.get_fragments())"
   ]
  },
  {
   "cell_type": "markdown",
   "id": "99069ef8",
   "metadata": {},
   "source": [
    "This runs at a similar rate to S3."
   ]
  },
  {
   "cell_type": "code",
   "execution_count": 44,
   "id": "ccb3bab1",
   "metadata": {},
   "outputs": [
    {
     "data": {
      "application/vnd.jupyter.widget-view+json": {
       "model_id": "5d3a415714a0425aa255615264c6db68",
       "version_major": 2,
       "version_minor": 0
      },
      "text/plain": [
       "  0%|          | 0/60585 [00:00<?, ?it/s]"
      ]
     },
     "metadata": {},
     "output_type": "display_data"
    },
    {
     "data": {
      "text/plain": [
       "31.016972541809082"
      ]
     },
     "execution_count": 44,
     "metadata": {},
     "output_type": "execute_result"
    }
   ],
   "source": [
    "from tqdm.auto import tqdm\n",
    "from time import time\n",
    "\n",
    "N = 20\n",
    "start_time = time()\n",
    "\n",
    "row_group_statistics = []\n",
    "for i, f in tqdm(enumerate(fragments_http), total=len(fragments_http)):\n",
    "    for row_group in f.row_groups:\n",
    "        row_group_statistics.append(\n",
    "            {'bucket': f.path.split('/', maxsplit=1)[0],\n",
    "             'key': f.path.split('/', maxsplit=1)[1],\n",
    "             'id': row_group.id,\n",
    "             'num_rows': row_group.num_rows,\n",
    "             'min_url_surtkey': row_group.statistics['url_surtkey']['min'],\n",
    "             'max_url_surtkey': row_group.statistics['url_surtkey']['min'],\n",
    "            })\n",
    "    if i >= N:\n",
    "        break\n",
    "        \n",
    "elapsed_time = time() - start_time\n",
    "elapsed_time"
   ]
  },
  {
   "cell_type": "markdown",
   "id": "24a4560d",
   "metadata": {},
   "source": [
    "###  Accessing HTTP endpoint directly\n",
    "\n",
    "This is essentially the same as the S3 Boto version."
   ]
  },
  {
   "cell_type": "code",
   "execution_count": 45,
   "id": "4780aace",
   "metadata": {},
   "outputs": [],
   "source": [
    "import requests\n",
    "\n",
    "def parquet_metadata_http(url, session=requests):\n",
    "    metadata = session.head(url)\n",
    "    metadata.raise_for_status()\n",
    "    content_length = int(metadata.headers['Content-Length'])\n",
    "    \n",
    "    end_response = requests.get(url, headers={\"Range\": f'bytes={content_length-8}-{content_length}'})\n",
    "    end_response.raise_for_status()\n",
    "    end_content = end_response.content\n",
    "    \n",
    "    if end_content[-4:] != b'PAR1':\n",
    "        raise ValueError('File at %s does not look like a Parquet file; magic %s' % (path, end_content[-4:]))\n",
    "    file_meta_length = int.from_bytes(end_content[:4], byteorder='little')\n",
    "\n",
    "    file_meta_response = requests.get(url, headers={\"Range\": f'bytes={content_length-8-file_meta_length}-{content_length-8}'})\n",
    "    file_meta_response.raise_for_status()\n",
    "    file_meta_content = file_meta_response.content\n",
    "    \n",
    "    fmd = from_buffer(file_meta_content, \"FileMetaData\")\n",
    "    \n",
    "    return fmd"
   ]
  },
  {
   "cell_type": "markdown",
   "id": "e8d35a20",
   "metadata": {},
   "source": [
    "The result is a similar speed to the S3 version."
   ]
  },
  {
   "cell_type": "code",
   "execution_count": 46,
   "id": "d8294634",
   "metadata": {},
   "outputs": [
    {
     "name": "stdout",
     "output_type": "stream",
     "text": [
      "CPU times: user 91.9 ms, sys: 0 ns, total: 91.9 ms\n",
      "Wall time: 1.59 s\n"
     ]
    }
   ],
   "source": [
    "%time fmd = parquet_metadata_http(http_files[0])"
   ]
  },
  {
   "cell_type": "markdown",
   "id": "41007d96",
   "metadata": {},
   "source": [
    "# Speeding up with asyncio\n",
    "\n",
    "Most of the time is spent waiting for the remote server, and transferring data over the network.\n",
    "We want to do this for a very large number of files.\n",
    "This is a perfect use case for asyncio; instead of waiting for each request to complete before starting the next we can switch to running a new request while the first is waiting.\n",
    "\n",
    "I'm still learning asyncio, and I mostly adapted this [from Stackoverflow](https://stackoverflow.com/questions/57126286/fastest-parallel-requests-in-python)."
   ]
  },
  {
   "cell_type": "code",
   "execution_count": 47,
   "id": "6eb2d427",
   "metadata": {},
   "outputs": [],
   "source": [
    "import asyncio\n",
    "import aiohttp\n",
    "\n",
    "async def _async_parquet_metadata_http(url, session):\n",
    "    async with session.head(url) as response:\n",
    "        await response.read()\n",
    "        output_headers = response.headers\n",
    "        content_length = int(output_headers['Content-Length'])\n",
    "    \n",
    "    headers={\"Range\": f'bytes={content_length-8}-{content_length}'}\n",
    "    async with session.get(url=url, headers=headers) as response:\n",
    "        end_content = await response.read()\n",
    "    \n",
    "    if end_content[-4:] != b'PAR1':\n",
    "        raise ValueError('File at %s does not look like a Parquet file; magic %s' % (path, end_content[-4:]))\n",
    "    file_meta_length = int.from_bytes(end_content[:4], byteorder='little')\n",
    "\n",
    "    headers={\"Range\": f'bytes={content_length-8-file_meta_length}-{content_length-8}'}\n",
    "    async with session.get(url, headers=headers) as response:\n",
    "        file_meta_content = await response.read()\n",
    "    \n",
    "    fmd = from_buffer(file_meta_content, \"FileMetaData\")\n",
    "    \n",
    "    return fmd"
   ]
  },
  {
   "cell_type": "code",
   "execution_count": 48,
   "id": "2a0dc26d",
   "metadata": {},
   "outputs": [],
   "source": [
    "from tqdm.asyncio import tqdm_asyncio\n",
    "\n",
    "async def async_parquet_metadata_http(urls):\n",
    "    async with aiohttp.ClientSession(raise_for_status=True) as session:\n",
    "        ret = await tqdm_asyncio.gather(*[_async_parquet_metadata_http(url, session) for url in urls])\n",
    "    return ret"
   ]
  },
  {
   "cell_type": "markdown",
   "id": "4e417f69",
   "metadata": {},
   "source": [
    "This is orders of magnitude faster than running the requests sequentially."
   ]
  },
  {
   "cell_type": "code",
   "execution_count": 49,
   "id": "bba542ab",
   "metadata": {},
   "outputs": [
    {
     "name": "stderr",
     "output_type": "stream",
     "text": [
      "100%|██████████████████████████████████████| 200/200 [00:05<00:00, 37.98it/s]"
     ]
    },
    {
     "name": "stdout",
     "output_type": "stream",
     "text": [
      "Ran in 5.3 s\n"
     ]
    },
    {
     "name": "stderr",
     "output_type": "stream",
     "text": [
      "\n"
     ]
    }
   ],
   "source": [
    "import time\n",
    "\n",
    "start_time = time.time()\n",
    "metadata = await(async_parquet_metadata_http(http_files[:200]))\n",
    "print(f'Ran in {time.time() - start_time:0.1f} s')"
   ]
  },
  {
   "cell_type": "markdown",
   "id": "51969bcb",
   "metadata": {},
   "source": [
    "We can do a simlar thing with S3 using `aiobotocore`.\n",
    "\n",
    "Again I don't have my head around asyncio, so this may be a terrible implementation."
   ]
  },
  {
   "cell_type": "code",
   "execution_count": 50,
   "id": "68069f9f",
   "metadata": {},
   "outputs": [],
   "source": [
    "from aiobotocore.session import get_session\n",
    "\n",
    "async def _async_parquet_metadata_s3(path, s3):\n",
    "    metadata = await s3.head_object(Bucket=bucket, Key=key)\n",
    "    content_length = int(metadata['ContentLength'])\n",
    "    \n",
    "    end_response = await s3.get_object(Bucket=bucket, Key=key, Range=f'bytes={content_length-8}-{content_length}')\n",
    "    end_content = await end_response['Body'].read()\n",
    "    \n",
    "    if end_content[-4:] != b'PAR1':\n",
    "        raise ValueError('File at %s does not look like a Parquet file; magic %s' % (path, end_content[-4:]))\n",
    "    file_meta_length = int.from_bytes(end_content[:4], byteorder='little')\n",
    "\n",
    "    file_meta_response = await s3.get_object(Bucket=bucket, Key=key,\n",
    "                                       Range=f'bytes={content_length-8-file_meta_length}-{content_length-8}')\n",
    "    file_meta_content = await file_meta_response['Body'].read()\n",
    "    \n",
    "    fmd = from_buffer(file_meta_content, \"FileMetaData\")\n",
    "    \n",
    "    return fmd"
   ]
  },
  {
   "cell_type": "code",
   "execution_count": 51,
   "id": "cbcdbb03",
   "metadata": {},
   "outputs": [],
   "source": [
    "async def async_parquet_metadata_s3(urls):\n",
    "    session = get_session()\n",
    "    async with session.create_client('s3') as s3:\n",
    "        ret = await tqdm_asyncio.gather(*[_async_parquet_metadata_s3(url, s3) for url in urls])\n",
    "    return ret"
   ]
  },
  {
   "cell_type": "markdown",
   "id": "56de4da3",
   "metadata": {},
   "source": [
    "It's quite a bit slower than HTTP.\n",
    "Since S3 has a REST API that boto3 uses I'd expect it to be a similar speed; it would be interesting to find out what is happening here.\n",
    "\n",
    "But we can just stick to the HTTP interface."
   ]
  },
  {
   "cell_type": "code",
   "execution_count": 52,
   "id": "d33d9d17",
   "metadata": {},
   "outputs": [
    {
     "name": "stderr",
     "output_type": "stream",
     "text": [
      "100%|██████████████████████████████████████| 200/200 [00:18<00:00, 10.54it/s]"
     ]
    },
    {
     "name": "stdout",
     "output_type": "stream",
     "text": [
      "Ran in 19.2 s\n"
     ]
    },
    {
     "name": "stderr",
     "output_type": "stream",
     "text": [
      "\n"
     ]
    }
   ],
   "source": [
    "import time\n",
    "\n",
    "start_time = time.time()\n",
    "metadata = await(async_parquet_metadata_s3(cc_index.files[:200]))\n",
    "print(f'Ran in {time.time() - start_time:0.1f} s')"
   ]
  },
  {
   "cell_type": "markdown",
   "id": "c3ab24cf",
   "metadata": {},
   "source": [
    "# Scaling up\n",
    "\n",
    "What happens as we scale up to the whole index?\n",
    "\n",
    "We are just interested in the WARC files, which there are a lot of."
   ]
  },
  {
   "cell_type": "code",
   "execution_count": 53,
   "id": "6a423b29",
   "metadata": {},
   "outputs": [
    {
     "data": {
      "text/plain": [
       "25193"
      ]
     },
     "execution_count": 53,
     "metadata": {},
     "output_type": "execute_result"
    }
   ],
   "source": [
    "warc_files = [f for f in cc_index.files if '/subset=warc/' in f]\n",
    "\n",
    "num_files = len(warc_files)\n",
    "num_files"
   ]
  },
  {
   "cell_type": "code",
   "execution_count": 54,
   "id": "f49c5ce5",
   "metadata": {},
   "outputs": [],
   "source": [
    "http_files = ['https://data.commoncrawl.org/' + x.split('/', 1)[1] for x in warc_files]"
   ]
  },
  {
   "cell_type": "markdown",
   "id": "3b7a26bc",
   "metadata": {},
   "source": [
    "The total length of all the content will be around:"
   ]
  },
  {
   "cell_type": "code",
   "execution_count": 55,
   "id": "59ba7bdd",
   "metadata": {},
   "outputs": [
    {
     "data": {
      "text/plain": [
       "'1.38 GB'"
      ]
     },
     "execution_count": 55,
     "metadata": {},
     "output_type": "execute_result"
    }
   ],
   "source": [
    "f'{(file_meta_length * num_files) / 1024**3:0.2f} GB'"
   ]
  },
  {
   "cell_type": "markdown",
   "id": "f282787d",
   "metadata": {},
   "source": [
    "We're hitting around 50-60/s, with 3 requests per file giving a total of ~150-200 requests/second. CommonCrawl is geared towards exporting data, so this may be fine but the server may throttle us.\n",
    "\n",
    "We're also making ~75k+ requests. There's a good chance something will go wrong.\n",
    "\n",
    "I can think of 3 kinds of issues:\n",
    "\n",
    "1. An intermittent issue causes an individual load to fail.\n",
    "2. There is an issue with an individual file and so loading will always fail.\n",
    "3. There is an environmental issue (server rejecting all requests, network down) and all requests fail.\n",
    "\n",
    "We also don't want all 25k requests being handled simultaneously, the overhead of managing all the task switching will be too much.\n",
    "\n",
    "A simple approach is:\n",
    "\n",
    "1. Run a batch of N requests \n",
    "2. Capture any errors and put these jobs in a retry cue (to handle 1)\n",
    "3. Remove any jobs that have been retried too many times (to handle 2)\n",
    "4. If more than x% of the N requests fail abort the process (to handle 3).\n",
    "\n",
    "Since the data is immutable we can persist the data to disk and resume. One simple solution is [sqlitedict](https://github.com/RaRe-Technologies/sqlitedict).\n",
    "It makes sense to fetch the data as one step, and then extract the data afterwards (since it's harder to recover from an error in extraction)."
   ]
  },
  {
   "cell_type": "markdown",
   "id": "ed98d874",
   "metadata": {},
   "source": [
    "Let's catch common exceptions and raise them"
   ]
  },
  {
   "cell_type": "code",
   "execution_count": 56,
   "id": "5021c4d2",
   "metadata": {},
   "outputs": [],
   "source": [
    "import asyncio\n",
    "import aiohttp\n",
    "\n",
    "from typing import Union\n",
    "\n",
    "async def _async_parquet_metadata_http(url, session):\n",
    "    \"\"\"Retrieve Parquet file metadata from url using session\"\"\"\n",
    "    async with session.head(url) as response:\n",
    "        await response.read()\n",
    "        output_headers = response.headers\n",
    "        content_length = int(output_headers['Content-Length'])\n",
    "\n",
    "    headers={\"Range\": f'bytes={content_length-8}-{content_length}'}\n",
    "    async with session.get(url=url, headers=headers) as response:\n",
    "        end_content = await response.read()\n",
    "\n",
    "    if end_content[-4:] != b'PAR1':\n",
    "        raise ValueError('File at %s does not look like a Parquet file; magic %s' % (path, end_content[-4:]))\n",
    "    file_meta_length = int.from_bytes(end_content[:4], byteorder='little')\n",
    "\n",
    "    headers={\"Range\": f'bytes={content_length-8-file_meta_length}-{content_length-8}'}\n",
    "    async with session.get(url, headers=headers) as response:\n",
    "        file_meta_content = await response.read()\n",
    "    return file_meta_content"
   ]
  },
  {
   "cell_type": "code",
   "execution_count": 57,
   "id": "d3013def",
   "metadata": {},
   "outputs": [],
   "source": [
    "async def fetch_parquet_metadata_http(urls):\n",
    "    async with aiohttp.ClientSession(raise_for_status=True) as session:\n",
    "        ret = await asyncio.gather(*[_async_parquet_metadata_http(url, session) for url in urls], return_exceptions=True)\n",
    "    return ret"
   ]
  },
  {
   "cell_type": "markdown",
   "id": "bd592238",
   "metadata": {},
   "source": [
    "Let's open a fresh sqlitedict dropping any existing data (in practice we would keep this between sessions, since the data shouldn't change)."
   ]
  },
  {
   "cell_type": "code",
   "execution_count": 58,
   "id": "3e9bfc7f",
   "metadata": {},
   "outputs": [],
   "source": [
    "from sqlitedict import SqliteDict\n",
    "\n",
    "metadata_store = SqliteDict('common_crawl_columnar_index_metadata.sqlite', flag='w')"
   ]
  },
  {
   "cell_type": "markdown",
   "id": "6c6c8d69",
   "metadata": {},
   "source": [
    "Let's configure our run and set up some datastructures for tracking.\n",
    "\n",
    "We will only process jobs that aren't in the metadata_store."
   ]
  },
  {
   "cell_type": "code",
   "execution_count": 59,
   "id": "d2897825",
   "metadata": {},
   "outputs": [
    {
     "data": {
      "text/plain": [
       "25193"
      ]
     },
     "execution_count": 59,
     "metadata": {},
     "output_type": "execute_result"
    }
   ],
   "source": [
    "from collections import defaultdict\n",
    "\n",
    "max_retries = 3\n",
    "max_exceptions_per_batch = 5\n",
    "batch_size = 1000\n",
    "\n",
    "retries = defaultdict(int)\n",
    "exceptions = defaultdict(list)\n",
    "seen = set(metadata_store.keys())\n",
    "\n",
    "jobs = [x for x in http_files if x not in seen]\n",
    "len(jobs)"
   ]
  },
  {
   "cell_type": "markdown",
   "id": "b6bc47d9",
   "metadata": {},
   "source": [
    "We can now run through all the jobs"
   ]
  },
  {
   "cell_type": "code",
   "execution_count": 60,
   "id": "a6d152f2",
   "metadata": {},
   "outputs": [
    {
     "data": {
      "application/vnd.jupyter.widget-view+json": {
       "model_id": "42a2a99a613940c8b26b0aad0771f11d",
       "version_major": 2,
       "version_minor": 0
      },
      "text/plain": [
       "  0%|          | 0/25193 [00:00<?, ?it/s]"
      ]
     },
     "metadata": {},
     "output_type": "display_data"
    },
    {
     "name": "stdout",
     "output_type": "stream",
     "text": [
      "Finished in 441s\n"
     ]
    }
   ],
   "source": [
    "start_time = time.time()\n",
    "\n",
    "with tqdm(total=len(jobs)) as pbar:\n",
    "    while len(jobs) > 0:\n",
    "        batch = jobs[:batch_size]\n",
    "\n",
    "        batch_metadata = await(fetch_parquet_metadata_http(batch))\n",
    "\n",
    "        num_exceptions = 0\n",
    "\n",
    "        for job, metadata in zip(batch, batch_metadata):\n",
    "            if isinstance(metadata, Exception):\n",
    "                num_exceptions += 1\n",
    "                exceptions[job].append(metadata)\n",
    "                retries[job] += 1\n",
    "                if retries[job] >= max_retries:\n",
    "                    jobs.remove(job)\n",
    "            else:\n",
    "                assert isinstance(metadata, bytes)\n",
    "                metadata_store[job] = metadata\n",
    "                jobs.remove(job)\n",
    "                pbar.update()\n",
    "\n",
    "        metadata_store.commit()\n",
    "        if num_exceptions >= max_exceptions_per_batch:\n",
    "            print('Too many exceptions %i' % num_exceptions)\n",
    "            break\n",
    "        \n",
    "print(f'Finished in {time.time() - start_time:0.0f}s')"
   ]
  },
  {
   "cell_type": "markdown",
   "id": "6e25ace5",
   "metadata": {},
   "source": [
    "How many exceptions are raised?"
   ]
  },
  {
   "cell_type": "code",
   "execution_count": 61,
   "id": "edc9c201",
   "metadata": {},
   "outputs": [
    {
     "data": {
      "text/plain": [
       "(0, 0)"
      ]
     },
     "execution_count": 61,
     "metadata": {},
     "output_type": "execute_result"
    }
   ],
   "source": [
    "len(retries), sum(retries.values())"
   ]
  },
  {
   "cell_type": "markdown",
   "id": "b4eede2d",
   "metadata": {},
   "source": [
    "Now we have all the headers, we want to extract the relevant metadata."
   ]
  },
  {
   "cell_type": "code",
   "execution_count": 62,
   "id": "d6c22655",
   "metadata": {},
   "outputs": [],
   "source": [
    "def get_column_metadata(column, row_group):\n",
    "    matches = [col for col in row_group.columns if col.meta_data.path_in_schema == [column]]\n",
    "    if len(matches) != 1:\n",
    "        raise ValueError(matches)\n",
    "    return matches[0].meta_data"
   ]
  },
  {
   "cell_type": "code",
   "execution_count": 63,
   "id": "822bf8a1",
   "metadata": {},
   "outputs": [],
   "source": [
    "stats_columns = ['url_surtkey']\n",
    "\n",
    "def extract_row_group_metadata(k, v):\n",
    "    fmd = from_buffer(v, \"FileMetaData\")\n",
    "    \n",
    "    for idx, row_group in enumerate(fmd.row_groups):\n",
    "        result = {\n",
    "            'path': k[len('https://data.commoncrawl.org/'):],\n",
    "            'crawl': k.split('/')[-3].split('=')[-1],\n",
    "            'subset':  k.split('/')[-2].split('=')[-1],\n",
    "            'row_group': idx,\n",
    "            'num_rows': row_group.num_rows,\n",
    "            'byte_size': row_group.total_byte_size,\n",
    "        }\n",
    "        for col in stats_columns:\n",
    "            minimum = get_column_metadata(col, row_group).statistics.min_value \n",
    "            maximum = get_column_metadata(col, row_group).statistics.max_value\n",
    "            if isinstance(minimum, bytes):\n",
    "                minimum = minimum.decode('utf-8')\n",
    "            if isinstance(maximum, bytes):\n",
    "                maximum = maximum.decode('utf-8')\n",
    "            \n",
    "            result[f'min_{col}'] = minimum\n",
    "            result[f'max_{col}'] = maximum\n",
    "            \n",
    "            \n",
    "        \n",
    "        yield result"
   ]
  },
  {
   "cell_type": "code",
   "execution_count": 64,
   "id": "ce081463",
   "metadata": {},
   "outputs": [],
   "source": [
    "def extract_metadata(metadata_store):\n",
    "    for k, v in tqdm(metadata_store.items(), total=len(metadata_store)):\n",
    "        for row in extract_row_group_metadata(k, v):\n",
    "            yield row        "
   ]
  },
  {
   "cell_type": "code",
   "execution_count": 65,
   "id": "76e3e1da",
   "metadata": {},
   "outputs": [
    {
     "data": {
      "application/vnd.jupyter.widget-view+json": {
       "model_id": "b995343c076c4e8ab67c44362dbeee11",
       "version_major": 2,
       "version_minor": 0
      },
      "text/plain": [
       "  0%|          | 0/25193 [00:00<?, ?it/s]"
      ]
     },
     "metadata": {},
     "output_type": "display_data"
    },
    {
     "name": "stdout",
     "output_type": "stream",
     "text": [
      "CPU times: user 1min 56s, sys: 3.51 s, total: 1min 59s\n",
      "Wall time: 1min 56s\n"
     ]
    }
   ],
   "source": [
    "%%time\n",
    "import pandas as pd\n",
    "\n",
    "df_metadata = pd.DataFrame(extract_metadata(metadata_store))"
   ]
  },
  {
   "cell_type": "code",
   "execution_count": 66,
   "id": "8e2ee5db",
   "metadata": {},
   "outputs": [
    {
     "data": {
      "text/html": [
       "<div>\n",
       "<style scoped>\n",
       "    .dataframe tbody tr th:only-of-type {\n",
       "        vertical-align: middle;\n",
       "    }\n",
       "\n",
       "    .dataframe tbody tr th {\n",
       "        vertical-align: top;\n",
       "    }\n",
       "\n",
       "    .dataframe thead th {\n",
       "        text-align: right;\n",
       "    }\n",
       "</style>\n",
       "<table border=\"1\" class=\"dataframe\">\n",
       "  <thead>\n",
       "    <tr style=\"text-align: right;\">\n",
       "      <th></th>\n",
       "      <th>path</th>\n",
       "      <th>crawl</th>\n",
       "      <th>subset</th>\n",
       "      <th>row_group</th>\n",
       "      <th>num_rows</th>\n",
       "      <th>byte_size</th>\n",
       "      <th>min_url_surtkey</th>\n",
       "      <th>max_url_surtkey</th>\n",
       "    </tr>\n",
       "  </thead>\n",
       "  <tbody>\n",
       "    <tr>\n",
       "      <th>0</th>\n",
       "      <td>cc-index/table/cc-main/warc/crawl=CC-MAIN-2013...</td>\n",
       "      <td>CC-MAIN-2013-20</td>\n",
       "      <td>warc</td>\n",
       "      <td>0</td>\n",
       "      <td>1536416</td>\n",
       "      <td>609417359</td>\n",
       "      <td>1,103,63,50)/</td>\n",
       "      <td>au,com,adelaidenow)/news/breaking-news/another...</td>\n",
       "    </tr>\n",
       "    <tr>\n",
       "      <th>1</th>\n",
       "      <td>cc-index/table/cc-main/warc/crawl=CC-MAIN-2013...</td>\n",
       "      <td>CC-MAIN-2013-20</td>\n",
       "      <td>warc</td>\n",
       "      <td>1</td>\n",
       "      <td>35284</td>\n",
       "      <td>14185475</td>\n",
       "      <td>ar,com,buscouniversidad)/maestria-en-ciencias-...</td>\n",
       "      <td>at,belvedere)/de/events/detail/die-nacht-im-zw...</td>\n",
       "    </tr>\n",
       "    <tr>\n",
       "      <th>2</th>\n",
       "      <td>cc-index/table/cc-main/warc/crawl=CC-MAIN-2013...</td>\n",
       "      <td>CC-MAIN-2013-20</td>\n",
       "      <td>warc</td>\n",
       "      <td>2</td>\n",
       "      <td>1499082</td>\n",
       "      <td>638601593</td>\n",
       "      <td>ar,com,chubb)/</td>\n",
       "      <td>at,gv,land-oberoesterreich)/cps/rde/xchg/sid-e...</td>\n",
       "    </tr>\n",
       "    <tr>\n",
       "      <th>3</th>\n",
       "      <td>cc-index/table/cc-main/warc/crawl=CC-MAIN-2013...</td>\n",
       "      <td>CC-MAIN-2013-20</td>\n",
       "      <td>warc</td>\n",
       "      <td>3</td>\n",
       "      <td>1339494</td>\n",
       "      <td>551235294</td>\n",
       "      <td>ar,com,tripadvisor)/hotel_review-g580306-d1194...</td>\n",
       "      <td>at,meinbezirk)/wien/wien-05-margareten/service</td>\n",
       "    </tr>\n",
       "    <tr>\n",
       "      <th>4</th>\n",
       "      <td>cc-index/table/cc-main/warc/crawl=CC-MAIN-2013...</td>\n",
       "      <td>CC-MAIN-2013-20</td>\n",
       "      <td>warc</td>\n",
       "      <td>4</td>\n",
       "      <td>255538</td>\n",
       "      <td>97165599</td>\n",
       "      <td>at,meinbezirk)/wien/wien-05-margareten/themen/...</td>\n",
       "      <td>at,parents)/forum/archive/index.php/t-182119.html</td>\n",
       "    </tr>\n",
       "  </tbody>\n",
       "</table>\n",
       "</div>"
      ],
      "text/plain": [
       "                                                path            crawl subset  \\\n",
       "0  cc-index/table/cc-main/warc/crawl=CC-MAIN-2013...  CC-MAIN-2013-20   warc   \n",
       "1  cc-index/table/cc-main/warc/crawl=CC-MAIN-2013...  CC-MAIN-2013-20   warc   \n",
       "2  cc-index/table/cc-main/warc/crawl=CC-MAIN-2013...  CC-MAIN-2013-20   warc   \n",
       "3  cc-index/table/cc-main/warc/crawl=CC-MAIN-2013...  CC-MAIN-2013-20   warc   \n",
       "4  cc-index/table/cc-main/warc/crawl=CC-MAIN-2013...  CC-MAIN-2013-20   warc   \n",
       "\n",
       "   row_group  num_rows  byte_size  \\\n",
       "0          0   1536416  609417359   \n",
       "1          1     35284   14185475   \n",
       "2          2   1499082  638601593   \n",
       "3          3   1339494  551235294   \n",
       "4          4    255538   97165599   \n",
       "\n",
       "                                     min_url_surtkey  \\\n",
       "0                                      1,103,63,50)/   \n",
       "1  ar,com,buscouniversidad)/maestria-en-ciencias-...   \n",
       "2                                     ar,com,chubb)/   \n",
       "3  ar,com,tripadvisor)/hotel_review-g580306-d1194...   \n",
       "4  at,meinbezirk)/wien/wien-05-margareten/themen/...   \n",
       "\n",
       "                                     max_url_surtkey  \n",
       "0  au,com,adelaidenow)/news/breaking-news/another...  \n",
       "1  at,belvedere)/de/events/detail/die-nacht-im-zw...  \n",
       "2  at,gv,land-oberoesterreich)/cps/rde/xchg/sid-e...  \n",
       "3     at,meinbezirk)/wien/wien-05-margareten/service  \n",
       "4  at,parents)/forum/archive/index.php/t-182119.html  "
      ]
     },
     "execution_count": 66,
     "metadata": {},
     "output_type": "execute_result"
    }
   ],
   "source": [
    "df_metadata.head()"
   ]
  },
  {
   "cell_type": "code",
   "execution_count": 67,
   "id": "00246117",
   "metadata": {},
   "outputs": [],
   "source": [
    "metadata_store.close()"
   ]
  },
  {
   "cell_type": "code",
   "execution_count": 68,
   "id": "5e541237",
   "metadata": {},
   "outputs": [],
   "source": [
    "df_metadata.to_csv('common_crawl_columnar_index_metadata.csv.gz', index=False)"
   ]
  },
  {
   "cell_type": "markdown",
   "id": "4f4c39e8",
   "metadata": {},
   "source": [
    "Between 2017-43 and 2018-43 it looks like we may not have statistics for `url_surtkey` and would have to generate them."
   ]
  },
  {
   "cell_type": "code",
   "execution_count": 69,
   "id": "0e2e3818",
   "metadata": {},
   "outputs": [
    {
     "data": {
      "text/html": [
       "<div>\n",
       "<style scoped>\n",
       "    .dataframe tbody tr th:only-of-type {\n",
       "        vertical-align: middle;\n",
       "    }\n",
       "\n",
       "    .dataframe tbody tr th {\n",
       "        vertical-align: top;\n",
       "    }\n",
       "\n",
       "    .dataframe thead th {\n",
       "        text-align: right;\n",
       "    }\n",
       "</style>\n",
       "<table border=\"1\" class=\"dataframe\">\n",
       "  <thead>\n",
       "    <tr style=\"text-align: right;\">\n",
       "      <th></th>\n",
       "      <th>row_groups</th>\n",
       "      <th>files</th>\n",
       "      <th>min_url</th>\n",
       "      <th>max_url</th>\n",
       "    </tr>\n",
       "    <tr>\n",
       "      <th>crawl</th>\n",
       "      <th></th>\n",
       "      <th></th>\n",
       "      <th></th>\n",
       "      <th></th>\n",
       "    </tr>\n",
       "  </thead>\n",
       "  <tbody>\n",
       "    <tr>\n",
       "      <th>CC-MAIN-2017-43</th>\n",
       "      <td>2476</td>\n",
       "      <td>300</td>\n",
       "      <td>0</td>\n",
       "      <td>0</td>\n",
       "    </tr>\n",
       "    <tr>\n",
       "      <th>CC-MAIN-2017-47</th>\n",
       "      <td>2199</td>\n",
       "      <td>300</td>\n",
       "      <td>0</td>\n",
       "      <td>0</td>\n",
       "    </tr>\n",
       "    <tr>\n",
       "      <th>CC-MAIN-2017-51</th>\n",
       "      <td>2035</td>\n",
       "      <td>300</td>\n",
       "      <td>0</td>\n",
       "      <td>0</td>\n",
       "    </tr>\n",
       "    <tr>\n",
       "      <th>CC-MAIN-2018-05</th>\n",
       "      <td>2361</td>\n",
       "      <td>300</td>\n",
       "      <td>0</td>\n",
       "      <td>0</td>\n",
       "    </tr>\n",
       "    <tr>\n",
       "      <th>CC-MAIN-2018-09</th>\n",
       "      <td>2369</td>\n",
       "      <td>300</td>\n",
       "      <td>0</td>\n",
       "      <td>0</td>\n",
       "    </tr>\n",
       "    <tr>\n",
       "      <th>CC-MAIN-2018-13</th>\n",
       "      <td>2250</td>\n",
       "      <td>300</td>\n",
       "      <td>0</td>\n",
       "      <td>0</td>\n",
       "    </tr>\n",
       "    <tr>\n",
       "      <th>CC-MAIN-2018-17</th>\n",
       "      <td>2119</td>\n",
       "      <td>300</td>\n",
       "      <td>0</td>\n",
       "      <td>0</td>\n",
       "    </tr>\n",
       "    <tr>\n",
       "      <th>CC-MAIN-2018-22</th>\n",
       "      <td>1950</td>\n",
       "      <td>300</td>\n",
       "      <td>0</td>\n",
       "      <td>0</td>\n",
       "    </tr>\n",
       "    <tr>\n",
       "      <th>CC-MAIN-2018-26</th>\n",
       "      <td>2121</td>\n",
       "      <td>300</td>\n",
       "      <td>0</td>\n",
       "      <td>0</td>\n",
       "    </tr>\n",
       "    <tr>\n",
       "      <th>CC-MAIN-2018-30</th>\n",
       "      <td>2251</td>\n",
       "      <td>300</td>\n",
       "      <td>0</td>\n",
       "      <td>0</td>\n",
       "    </tr>\n",
       "    <tr>\n",
       "      <th>CC-MAIN-2018-34</th>\n",
       "      <td>1888</td>\n",
       "      <td>300</td>\n",
       "      <td>0</td>\n",
       "      <td>0</td>\n",
       "    </tr>\n",
       "    <tr>\n",
       "      <th>CC-MAIN-2018-39</th>\n",
       "      <td>2018</td>\n",
       "      <td>300</td>\n",
       "      <td>0</td>\n",
       "      <td>0</td>\n",
       "    </tr>\n",
       "    <tr>\n",
       "      <th>CC-MAIN-2018-43</th>\n",
       "      <td>2150</td>\n",
       "      <td>300</td>\n",
       "      <td>0</td>\n",
       "      <td>0</td>\n",
       "    </tr>\n",
       "    <tr>\n",
       "      <th>CC-MAIN-2019-18</th>\n",
       "      <td>4230</td>\n",
       "      <td>300</td>\n",
       "      <td>4229</td>\n",
       "      <td>4229</td>\n",
       "    </tr>\n",
       "    <tr>\n",
       "      <th>CC-MAIN-2020-10</th>\n",
       "      <td>4347</td>\n",
       "      <td>299</td>\n",
       "      <td>4344</td>\n",
       "      <td>4344</td>\n",
       "    </tr>\n",
       "    <tr>\n",
       "      <th>CC-MAIN-2020-16</th>\n",
       "      <td>4261</td>\n",
       "      <td>300</td>\n",
       "      <td>4260</td>\n",
       "      <td>4260</td>\n",
       "    </tr>\n",
       "    <tr>\n",
       "      <th>CC-MAIN-2020-24</th>\n",
       "      <td>3329</td>\n",
       "      <td>300</td>\n",
       "      <td>3328</td>\n",
       "      <td>3328</td>\n",
       "    </tr>\n",
       "    <tr>\n",
       "      <th>CC-MAIN-2020-34</th>\n",
       "      <td>2957</td>\n",
       "      <td>300</td>\n",
       "      <td>2956</td>\n",
       "      <td>2956</td>\n",
       "    </tr>\n",
       "    <tr>\n",
       "      <th>CC-MAIN-2020-40</th>\n",
       "      <td>4701</td>\n",
       "      <td>300</td>\n",
       "      <td>4700</td>\n",
       "      <td>4700</td>\n",
       "    </tr>\n",
       "    <tr>\n",
       "      <th>CC-MAIN-2020-50</th>\n",
       "      <td>3542</td>\n",
       "      <td>300</td>\n",
       "      <td>3541</td>\n",
       "      <td>3541</td>\n",
       "    </tr>\n",
       "    <tr>\n",
       "      <th>CC-MAIN-2021-10</th>\n",
       "      <td>3738</td>\n",
       "      <td>300</td>\n",
       "      <td>3737</td>\n",
       "      <td>3737</td>\n",
       "    </tr>\n",
       "    <tr>\n",
       "      <th>CC-MAIN-2021-17</th>\n",
       "      <td>4223</td>\n",
       "      <td>300</td>\n",
       "      <td>4220</td>\n",
       "      <td>4220</td>\n",
       "    </tr>\n",
       "    <tr>\n",
       "      <th>CC-MAIN-2021-21</th>\n",
       "      <td>3403</td>\n",
       "      <td>300</td>\n",
       "      <td>3401</td>\n",
       "      <td>3401</td>\n",
       "    </tr>\n",
       "    <tr>\n",
       "      <th>CC-MAIN-2021-25</th>\n",
       "      <td>3321</td>\n",
       "      <td>300</td>\n",
       "      <td>3317</td>\n",
       "      <td>3317</td>\n",
       "    </tr>\n",
       "    <tr>\n",
       "      <th>CC-MAIN-2021-39</th>\n",
       "      <td>3914</td>\n",
       "      <td>300</td>\n",
       "      <td>3912</td>\n",
       "      <td>3912</td>\n",
       "    </tr>\n",
       "    <tr>\n",
       "      <th>CC-MAIN-2021-43</th>\n",
       "      <td>4547</td>\n",
       "      <td>300</td>\n",
       "      <td>4543</td>\n",
       "      <td>4543</td>\n",
       "    </tr>\n",
       "  </tbody>\n",
       "</table>\n",
       "</div>"
      ],
      "text/plain": [
       "                 row_groups  files  min_url  max_url\n",
       "crawl                                               \n",
       "CC-MAIN-2017-43        2476    300        0        0\n",
       "CC-MAIN-2017-47        2199    300        0        0\n",
       "CC-MAIN-2017-51        2035    300        0        0\n",
       "CC-MAIN-2018-05        2361    300        0        0\n",
       "CC-MAIN-2018-09        2369    300        0        0\n",
       "CC-MAIN-2018-13        2250    300        0        0\n",
       "CC-MAIN-2018-17        2119    300        0        0\n",
       "CC-MAIN-2018-22        1950    300        0        0\n",
       "CC-MAIN-2018-26        2121    300        0        0\n",
       "CC-MAIN-2018-30        2251    300        0        0\n",
       "CC-MAIN-2018-34        1888    300        0        0\n",
       "CC-MAIN-2018-39        2018    300        0        0\n",
       "CC-MAIN-2018-43        2150    300        0        0\n",
       "CC-MAIN-2019-18        4230    300     4229     4229\n",
       "CC-MAIN-2020-10        4347    299     4344     4344\n",
       "CC-MAIN-2020-16        4261    300     4260     4260\n",
       "CC-MAIN-2020-24        3329    300     3328     3328\n",
       "CC-MAIN-2020-34        2957    300     2956     2956\n",
       "CC-MAIN-2020-40        4701    300     4700     4700\n",
       "CC-MAIN-2020-50        3542    300     3541     3541\n",
       "CC-MAIN-2021-10        3738    300     3737     3737\n",
       "CC-MAIN-2021-17        4223    300     4220     4220\n",
       "CC-MAIN-2021-21        3403    300     3401     3401\n",
       "CC-MAIN-2021-25        3321    300     3317     3317\n",
       "CC-MAIN-2021-39        3914    300     3912     3912\n",
       "CC-MAIN-2021-43        4547    300     4543     4543"
      ]
     },
     "execution_count": 69,
     "metadata": {},
     "output_type": "execute_result"
    }
   ],
   "source": [
    "(\n",
    " df_metadata\n",
    " .groupby('crawl')\n",
    " .agg(row_groups = ('path', 'count'),\n",
    "      files = ('path', 'nunique'),\n",
    "      min_url = ('min_url_surtkey', 'count'),\n",
    "      max_url = ('max_url_surtkey', 'count'),\n",
    "     )\n",
    "  .query('min_url != row_groups')\n",
    "  .sort_index()\n",
    ")"
   ]
  },
  {
   "cell_type": "markdown",
   "id": "2e9c3303",
   "metadata": {},
   "source": [
    "# Example usage\n",
    "\n",
    "Let's suppose I wanted to find captures of commoncrawl.org, from 2020-24."
   ]
  },
  {
   "cell_type": "code",
   "execution_count": 70,
   "id": "7b3eb3d3",
   "metadata": {},
   "outputs": [
    {
     "data": {
      "text/html": [
       "<div>\n",
       "<style scoped>\n",
       "    .dataframe tbody tr th:only-of-type {\n",
       "        vertical-align: middle;\n",
       "    }\n",
       "\n",
       "    .dataframe tbody tr th {\n",
       "        vertical-align: top;\n",
       "    }\n",
       "\n",
       "    .dataframe thead th {\n",
       "        text-align: right;\n",
       "    }\n",
       "</style>\n",
       "<table border=\"1\" class=\"dataframe\">\n",
       "  <thead>\n",
       "    <tr style=\"text-align: right;\">\n",
       "      <th></th>\n",
       "      <th>path</th>\n",
       "      <th>crawl</th>\n",
       "      <th>subset</th>\n",
       "      <th>row_group</th>\n",
       "      <th>num_rows</th>\n",
       "      <th>byte_size</th>\n",
       "      <th>min_url_surtkey</th>\n",
       "      <th>max_url_surtkey</th>\n",
       "    </tr>\n",
       "  </thead>\n",
       "  <tbody>\n",
       "    <tr>\n",
       "      <th>217771</th>\n",
       "      <td>cc-index/table/cc-main/warc/crawl=CC-MAIN-2020...</td>\n",
       "      <td>CC-MAIN-2020-24</td>\n",
       "      <td>warc</td>\n",
       "      <td>0</td>\n",
       "      <td>1730100</td>\n",
       "      <td>550358211</td>\n",
       "      <td>org,centerar,hr,ww17)/beauty/7-mitova-o-ljepot...</td>\n",
       "      <td>org,copyrolexmenwatches)/pt/rolex-datejust-spe...</td>\n",
       "    </tr>\n",
       "    <tr>\n",
       "      <th>217772</th>\n",
       "      <td>cc-index/table/cc-main/warc/crawl=CC-MAIN-2020...</td>\n",
       "      <td>CC-MAIN-2020-24</td>\n",
       "      <td>warc</td>\n",
       "      <td>1</td>\n",
       "      <td>1678910</td>\n",
       "      <td>513173987</td>\n",
       "      <td>org,chambresdhotes)/espanol/chambres_d_hotes/d...</td>\n",
       "      <td>org,cpdl)/wiki/index.php?action=history&amp;title=...</td>\n",
       "    </tr>\n",
       "    <tr>\n",
       "      <th>217773</th>\n",
       "      <td>cc-index/table/cc-main/warc/crawl=CC-MAIN-2020...</td>\n",
       "      <td>CC-MAIN-2020-24</td>\n",
       "      <td>warc</td>\n",
       "      <td>2</td>\n",
       "      <td>1908748</td>\n",
       "      <td>583011770</td>\n",
       "      <td>org,chinafia)/about/2-cn.html</td>\n",
       "      <td>org,crchina)/constitution-of-the-peoples-repub...</td>\n",
       "    </tr>\n",
       "    <tr>\n",
       "      <th>217774</th>\n",
       "      <td>cc-index/table/cc-main/warc/crawl=CC-MAIN-2020...</td>\n",
       "      <td>CC-MAIN-2020-24</td>\n",
       "      <td>warc</td>\n",
       "      <td>3</td>\n",
       "      <td>1730100</td>\n",
       "      <td>537715703</td>\n",
       "      <td>org,cinelatinoamericano)/cineasta.aspx?cod=4892</td>\n",
       "      <td>org,cteresource)/verso/courses/8366/physical-o...</td>\n",
       "    </tr>\n",
       "    <tr>\n",
       "      <th>217775</th>\n",
       "      <td>cc-index/table/cc-main/warc/crawl=CC-MAIN-2020...</td>\n",
       "      <td>CC-MAIN-2020-24</td>\n",
       "      <td>warc</td>\n",
       "      <td>4</td>\n",
       "      <td>1880100</td>\n",
       "      <td>541778479</td>\n",
       "      <td>org,cleancitiessacramento)/photos.html</td>\n",
       "      <td>org,ctrteam)/</td>\n",
       "    </tr>\n",
       "  </tbody>\n",
       "</table>\n",
       "</div>"
      ],
      "text/plain": [
       "                                                     path            crawl  \\\n",
       "217771  cc-index/table/cc-main/warc/crawl=CC-MAIN-2020...  CC-MAIN-2020-24   \n",
       "217772  cc-index/table/cc-main/warc/crawl=CC-MAIN-2020...  CC-MAIN-2020-24   \n",
       "217773  cc-index/table/cc-main/warc/crawl=CC-MAIN-2020...  CC-MAIN-2020-24   \n",
       "217774  cc-index/table/cc-main/warc/crawl=CC-MAIN-2020...  CC-MAIN-2020-24   \n",
       "217775  cc-index/table/cc-main/warc/crawl=CC-MAIN-2020...  CC-MAIN-2020-24   \n",
       "\n",
       "       subset  row_group  num_rows  byte_size  \\\n",
       "217771   warc          0   1730100  550358211   \n",
       "217772   warc          1   1678910  513173987   \n",
       "217773   warc          2   1908748  583011770   \n",
       "217774   warc          3   1730100  537715703   \n",
       "217775   warc          4   1880100  541778479   \n",
       "\n",
       "                                          min_url_surtkey  \\\n",
       "217771  org,centerar,hr,ww17)/beauty/7-mitova-o-ljepot...   \n",
       "217772  org,chambresdhotes)/espanol/chambres_d_hotes/d...   \n",
       "217773                      org,chinafia)/about/2-cn.html   \n",
       "217774    org,cinelatinoamericano)/cineasta.aspx?cod=4892   \n",
       "217775             org,cleancitiessacramento)/photos.html   \n",
       "\n",
       "                                          max_url_surtkey  \n",
       "217771  org,copyrolexmenwatches)/pt/rolex-datejust-spe...  \n",
       "217772  org,cpdl)/wiki/index.php?action=history&title=...  \n",
       "217773  org,crchina)/constitution-of-the-peoples-repub...  \n",
       "217774  org,cteresource)/verso/courses/8366/physical-o...  \n",
       "217775                                      org,ctrteam)/  "
      ]
     },
     "execution_count": 70,
     "metadata": {},
     "output_type": "execute_result"
    }
   ],
   "source": [
    "results = df_metadata.query('crawl == \"CC-MAIN-2020-24\" &\\\n",
    "min_url_surtkey <= \"org,commoncrawl)/\" <= max_url_surtkey')\n",
    "results"
   ]
  },
  {
   "cell_type": "code",
   "execution_count": 71,
   "id": "7604b844",
   "metadata": {},
   "outputs": [
    {
     "data": {
      "text/plain": [
       "{'cc-index/table/cc-main/warc/crawl=CC-MAIN-2020-24/subset=warc/part-00245-b4a094ce-c3a1-4796-8c26-d927e48e4b4a.c000.gz.parquet': [0,\n",
       "  1,\n",
       "  2,\n",
       "  3,\n",
       "  4]}"
      ]
     },
     "execution_count": 71,
     "metadata": {},
     "output_type": "execute_result"
    }
   ],
   "source": [
    "path_to_row_groups = (\n",
    "    results\n",
    "    .groupby('path')\n",
    "    .agg(row_groups = ('row_group', list))\n",
    "    ['row_groups']\n",
    "    .to_dict()\n",
    ")\n",
    "\n",
    "path_to_row_groups"
   ]
  },
  {
   "cell_type": "code",
   "execution_count": 72,
   "id": "46a08ef9",
   "metadata": {},
   "outputs": [
    {
     "name": "stdout",
     "output_type": "stream",
     "text": [
      "CPU times: user 38.8 ms, sys: 4.97 ms, total: 43.7 ms\n",
      "Wall time: 1.51 s\n"
     ]
    }
   ],
   "source": [
    "%%time\n",
    "http_prefix = 'https://data.commoncrawl.org/'\n",
    "search_ds = ds.dataset([http_prefix + path for path in path_to_row_groups], filesystem=http, format='parquet', partitioning='hive')"
   ]
  },
  {
   "cell_type": "markdown",
   "id": "f6e18bfb",
   "metadata": {},
   "source": [
    "It could make sense to parallelise this to speed it up."
   ]
  },
  {
   "cell_type": "code",
   "execution_count": 73,
   "id": "42ee3288",
   "metadata": {},
   "outputs": [
    {
     "data": {
      "application/vnd.jupyter.widget-view+json": {
       "model_id": "e9874e76140041539ff5536a146c02f1",
       "version_major": 2,
       "version_minor": 0
      },
      "text/plain": [
       "  0%|          | 0/5 [00:00<?, ?it/s]"
      ]
     },
     "metadata": {},
     "output_type": "display_data"
    }
   ],
   "source": [
    "columns = ['url', 'url_host_name', 'warc_filename', 'warc_record_offset', 'warc_record_length']\n",
    "\n",
    "\n",
    "all_groups = []\n",
    "\n",
    "with tqdm(total=len(results)) as pbar:\n",
    "    for fragment in search_ds.get_fragments():\n",
    "        path = fragment.path[len(http_prefix):]\n",
    "        row_groups = fragment.split_by_row_group()\n",
    "        for row_group_idx in path_to_row_groups[path]:\n",
    "            row_group = row_groups[row_group_idx]\n",
    "            data = row_group.to_table(columns=columns,\n",
    "                                       filter=ds.field('url_host_name') == 'commoncrawl.org')\n",
    "            if len(data) > 0:\n",
    "                all_groups.append(data)\n",
    "            pbar.update()"
   ]
  },
  {
   "cell_type": "markdown",
   "id": "b068bf56",
   "metadata": {},
   "source": [
    "We can then look at some URLs."
   ]
  },
  {
   "cell_type": "code",
   "execution_count": 74,
   "id": "1f29d936",
   "metadata": {},
   "outputs": [
    {
     "data": {
      "text/plain": [
       "1"
      ]
     },
     "execution_count": 74,
     "metadata": {},
     "output_type": "execute_result"
    }
   ],
   "source": [
    "len(all_groups)"
   ]
  },
  {
   "cell_type": "code",
   "execution_count": 75,
   "id": "8eb93640",
   "metadata": {},
   "outputs": [
    {
     "data": {
      "text/html": [
       "<div>\n",
       "<style scoped>\n",
       "    .dataframe tbody tr th:only-of-type {\n",
       "        vertical-align: middle;\n",
       "    }\n",
       "\n",
       "    .dataframe tbody tr th {\n",
       "        vertical-align: top;\n",
       "    }\n",
       "\n",
       "    .dataframe thead th {\n",
       "        text-align: right;\n",
       "    }\n",
       "</style>\n",
       "<table border=\"1\" class=\"dataframe\">\n",
       "  <thead>\n",
       "    <tr style=\"text-align: right;\">\n",
       "      <th></th>\n",
       "      <th>url</th>\n",
       "      <th>url_host_name</th>\n",
       "      <th>warc_filename</th>\n",
       "      <th>warc_record_offset</th>\n",
       "      <th>warc_record_length</th>\n",
       "    </tr>\n",
       "  </thead>\n",
       "  <tbody>\n",
       "    <tr>\n",
       "      <th>0</th>\n",
       "      <td>http://commoncrawl.org/</td>\n",
       "      <td>commoncrawl.org</td>\n",
       "      <td>crawl-data/CC-MAIN-2020-24/segments/1590347435...</td>\n",
       "      <td>27151522</td>\n",
       "      <td>5448</td>\n",
       "    </tr>\n",
       "    <tr>\n",
       "      <th>1</th>\n",
       "      <td>https://commoncrawl.org/2010/10/slideshare-bui...</td>\n",
       "      <td>commoncrawl.org</td>\n",
       "      <td>crawl-data/CC-MAIN-2020-24/segments/1590348521...</td>\n",
       "      <td>286036900</td>\n",
       "      <td>5448</td>\n",
       "    </tr>\n",
       "    <tr>\n",
       "      <th>2</th>\n",
       "      <td>http://commoncrawl.org/2012/03/data-2-0-summit/</td>\n",
       "      <td>commoncrawl.org</td>\n",
       "      <td>crawl-data/CC-MAIN-2020-24/segments/1590348521...</td>\n",
       "      <td>27155726</td>\n",
       "      <td>7503</td>\n",
       "    </tr>\n",
       "    <tr>\n",
       "      <th>3</th>\n",
       "      <td>http://commoncrawl.org/2012/11/the-norvig-web-...</td>\n",
       "      <td>commoncrawl.org</td>\n",
       "      <td>crawl-data/CC-MAIN-2020-24/segments/1590348521...</td>\n",
       "      <td>25681807</td>\n",
       "      <td>6307</td>\n",
       "    </tr>\n",
       "    <tr>\n",
       "      <th>4</th>\n",
       "      <td>https://commoncrawl.org/2012/12/blekko-donates...</td>\n",
       "      <td>commoncrawl.org</td>\n",
       "      <td>crawl-data/CC-MAIN-2020-24/segments/1590348521...</td>\n",
       "      <td>289331067</td>\n",
       "      <td>6925</td>\n",
       "    </tr>\n",
       "    <tr>\n",
       "      <th>...</th>\n",
       "      <td>...</td>\n",
       "      <td>...</td>\n",
       "      <td>...</td>\n",
       "      <td>...</td>\n",
       "      <td>...</td>\n",
       "    </tr>\n",
       "    <tr>\n",
       "      <th>60</th>\n",
       "      <td>http://commoncrawl.org/terms-of-use/</td>\n",
       "      <td>commoncrawl.org</td>\n",
       "      <td>crawl-data/CC-MAIN-2020-24/segments/1590348521...</td>\n",
       "      <td>26795983</td>\n",
       "      <td>6938</td>\n",
       "    </tr>\n",
       "    <tr>\n",
       "      <th>61</th>\n",
       "      <td>https://commoncrawl.org/terms-of-use/</td>\n",
       "      <td>commoncrawl.org</td>\n",
       "      <td>crawl-data/CC-MAIN-2020-24/segments/1590348521...</td>\n",
       "      <td>285700698</td>\n",
       "      <td>6982</td>\n",
       "    </tr>\n",
       "    <tr>\n",
       "      <th>62</th>\n",
       "      <td>http://commoncrawl.org/terms-of-use/full/</td>\n",
       "      <td>commoncrawl.org</td>\n",
       "      <td>crawl-data/CC-MAIN-2020-24/segments/1590348521...</td>\n",
       "      <td>27794892</td>\n",
       "      <td>11744</td>\n",
       "    </tr>\n",
       "    <tr>\n",
       "      <th>63</th>\n",
       "      <td>https://commoncrawl.org/terms-of-use/full/</td>\n",
       "      <td>commoncrawl.org</td>\n",
       "      <td>crawl-data/CC-MAIN-2020-24/segments/1590348521...</td>\n",
       "      <td>290639475</td>\n",
       "      <td>11778</td>\n",
       "    </tr>\n",
       "    <tr>\n",
       "      <th>64</th>\n",
       "      <td>https://commoncrawl.org/the-data/get-started/</td>\n",
       "      <td>commoncrawl.org</td>\n",
       "      <td>crawl-data/CC-MAIN-2020-24/segments/1590348521...</td>\n",
       "      <td>292834731</td>\n",
       "      <td>10750</td>\n",
       "    </tr>\n",
       "  </tbody>\n",
       "</table>\n",
       "<p>65 rows × 5 columns</p>\n",
       "</div>"
      ],
      "text/plain": [
       "                                                  url    url_host_name  \\\n",
       "0                             http://commoncrawl.org/  commoncrawl.org   \n",
       "1   https://commoncrawl.org/2010/10/slideshare-bui...  commoncrawl.org   \n",
       "2     http://commoncrawl.org/2012/03/data-2-0-summit/  commoncrawl.org   \n",
       "3   http://commoncrawl.org/2012/11/the-norvig-web-...  commoncrawl.org   \n",
       "4   https://commoncrawl.org/2012/12/blekko-donates...  commoncrawl.org   \n",
       "..                                                ...              ...   \n",
       "60               http://commoncrawl.org/terms-of-use/  commoncrawl.org   \n",
       "61              https://commoncrawl.org/terms-of-use/  commoncrawl.org   \n",
       "62          http://commoncrawl.org/terms-of-use/full/  commoncrawl.org   \n",
       "63         https://commoncrawl.org/terms-of-use/full/  commoncrawl.org   \n",
       "64      https://commoncrawl.org/the-data/get-started/  commoncrawl.org   \n",
       "\n",
       "                                        warc_filename  warc_record_offset  \\\n",
       "0   crawl-data/CC-MAIN-2020-24/segments/1590347435...            27151522   \n",
       "1   crawl-data/CC-MAIN-2020-24/segments/1590348521...           286036900   \n",
       "2   crawl-data/CC-MAIN-2020-24/segments/1590348521...            27155726   \n",
       "3   crawl-data/CC-MAIN-2020-24/segments/1590348521...            25681807   \n",
       "4   crawl-data/CC-MAIN-2020-24/segments/1590348521...           289331067   \n",
       "..                                                ...                 ...   \n",
       "60  crawl-data/CC-MAIN-2020-24/segments/1590348521...            26795983   \n",
       "61  crawl-data/CC-MAIN-2020-24/segments/1590348521...           285700698   \n",
       "62  crawl-data/CC-MAIN-2020-24/segments/1590348521...            27794892   \n",
       "63  crawl-data/CC-MAIN-2020-24/segments/1590348521...           290639475   \n",
       "64  crawl-data/CC-MAIN-2020-24/segments/1590348521...           292834731   \n",
       "\n",
       "    warc_record_length  \n",
       "0                 5448  \n",
       "1                 5448  \n",
       "2                 7503  \n",
       "3                 6307  \n",
       "4                 6925  \n",
       "..                 ...  \n",
       "60                6938  \n",
       "61                6982  \n",
       "62               11744  \n",
       "63               11778  \n",
       "64               10750  \n",
       "\n",
       "[65 rows x 5 columns]"
      ]
     },
     "execution_count": 75,
     "metadata": {},
     "output_type": "execute_result"
    }
   ],
   "source": [
    "results = pa.concat_tables(all_groups).to_pandas()\n",
    "results"
   ]
  },
  {
   "cell_type": "markdown",
   "id": "ec817c6f",
   "metadata": {},
   "source": [
    "Accessing a crawl"
   ]
  },
  {
   "cell_type": "code",
   "execution_count": 76,
   "id": "78869918",
   "metadata": {},
   "outputs": [],
   "source": [
    "a = results.iloc[0]\n",
    "url = 'https://data.commoncrawl.org/' + a.warc_filename\n",
    "header = {\"Range\": f'bytes={a.warc_record_offset}-{a.warc_record_offset + a.warc_record_length}'}\n",
    "\n",
    "r = requests.get(url, headers=header)\n",
    "warc_data = r.content"
   ]
  },
  {
   "cell_type": "markdown",
   "id": "f43dfafd",
   "metadata": {},
   "source": [
    "We can then decompress and examine that WARC record."
   ]
  },
  {
   "cell_type": "code",
   "execution_count": 77,
   "id": "e02c0f42",
   "metadata": {
    "scrolled": false
   },
   "outputs": [
    {
     "name": "stdout",
     "output_type": "stream",
     "text": [
      "WARC/1.0\r\n",
      "WARC-Type: response\r\n",
      "WARC-Date: 2020-06-03T17:59:17Z\r\n",
      "WARC-Record-ID: <urn:uuid:924c0b54-e18f-4fa2-883f-918ec07cc7aa>\r\n",
      "Content-Length: 21001\r\n",
      "Content-Type: application/http; msgtype=response\r\n",
      "WARC-Warcinfo-ID: <urn:uuid:c9aa942a-7416-4367-8295-bf964f6be17a>\r\n",
      "WARC-Concurrent-To: <urn:uuid:25e5d72e-1031-4d58-b6b0-2ae3991f5c91>\r\n",
      "WARC-IP-Address: 104.28.20.25\r\n",
      "WARC-Target-URI: http://commoncrawl.org/\r\n",
      "WARC-Payload-Digest: sha1:CIBK2YFSVPNDFLXUHSKZG2SPN7UNN65W\r\n",
      "WARC-Block-Digest: sha1:4N6PX5ISYJ76FDBCKXEFSC2H63XK2AIG\r\n",
      "WARC-Identified-Payload-Type: text/html\r\n",
      "\r\n",
      "HTTP/1.1 200 OK\r\n",
      "Date: Wed, 03 Jun 2020 17:59:17 GMT\r\n",
      "Content-Type: text/html; charset=UTF-8\r\n",
      "X-Crawler-Transfer-Encoding: chunked\r\n",
      "Connection: keep-alive\r\n",
      "Set-Cookie: __cfduid=d21b8d62b496908e52ebb3973abe637321591207157; expires=Fri, 03-Jul-20 17:59:17 GMT; path=/; domain=.commoncrawl.org; HttpOnly; SameSite=Lax\r\n",
      "X-Powered-By: PHP/5.5.9-1ubuntu4.29\r\n",
      "Link: <http://commoncrawl.org/wp-json/>; rel=\"https://api.w.org/\"\r\n",
      "Link: <http://commoncrawl.org/>; rel=shortlink\r\n",
      "Vary: Accept-Encoding\r\n",
      "Cache-Control: max-age=14400\r\n",
      "CF-Cache-Status: HIT\r\n",
      "Age: 6364\r\n",
      "cf-request-id: 031cef789700000dde34a2b200000001\r\n",
      "Server: cloudflare\r\n",
      "CF-RAY: 59db4ea0f9bc0dde-IAD\r\n",
      "X-Crawler-Content-Encoding: gzip\r\n",
      "Content-Length: 20289\r\n",
      "\r\n",
      "\n",
      "<!DOCTYPE html>\n",
      "<html lang=\"en-US\">\n",
      "<head>\n",
      "<meta charset=\"UTF-8\">\n",
      "<meta name=\"viewport\" content=\"width=device-width, initial-scale=1\">\n",
      "<link rel=\"profile\" href=\"https://gmpg.org/xfn/11\">\n",
      "<link href=\"https://fonts.go\n"
     ]
    }
   ],
   "source": [
    "import zlib\n",
    "data = zlib.decompress(warc_data, wbits = zlib.MAX_WBITS | 16)\n",
    "print(data.decode('utf-8')[:1500])"
   ]
  }
 ],
 "metadata": {
  "kernelspec": {
   "display_name": "Python 3 (ipykernel)",
   "language": "python",
   "name": "python3"
  },
  "language_info": {
   "codemirror_mode": {
    "name": "ipython",
    "version": 3
   },
   "file_extension": ".py",
   "mimetype": "text/x-python",
   "name": "python",
   "nbconvert_exporter": "python",
   "pygments_lexer": "ipython3",
   "version": "3.8.10"
  },
  "toc": {
   "base_numbering": 1,
   "nav_menu": {},
   "number_sections": true,
   "sideBar": true,
   "skip_h1_title": false,
   "title_cell": "Table of Contents",
   "title_sidebar": "Contents",
   "toc_cell": false,
   "toc_position": {},
   "toc_section_display": true,
   "toc_window_display": true
  }
 },
 "nbformat": 4,
 "nbformat_minor": 5
}
