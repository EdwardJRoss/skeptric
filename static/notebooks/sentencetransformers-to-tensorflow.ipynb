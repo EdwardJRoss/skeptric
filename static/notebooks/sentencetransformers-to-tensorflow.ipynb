{
 "cells": [
  {
   "cell_type": "code",
   "execution_count": 1,
   "id": "97acc5b5",
   "metadata": {},
   "outputs": [
    {
     "data": {
      "text/plain": [
       "'4.10.0'"
      ]
     },
     "execution_count": 1,
     "metadata": {},
     "output_type": "execute_result"
    }
   ],
   "source": [
    "# Remove some of the info messages\n",
    "import os\n",
    "os.environ['TF_CPP_MIN_LOG_LEVEL'] = '2'\n",
    "\n",
    "import transformers\n",
    "transformers.logging.set_verbosity_error()\n",
    "\n",
    "import numpy as np\n",
    "np.set_printoptions(threshold=10)\n",
    "\n",
    "transformers.__version__"
   ]
  },
  {
   "cell_type": "code",
   "execution_count": 2,
   "id": "cddc9635",
   "metadata": {},
   "outputs": [
    {
     "data": {
      "text/plain": [
       "'2.7.0'"
      ]
     },
     "execution_count": 2,
     "metadata": {},
     "output_type": "execute_result"
    }
   ],
   "source": [
    "import tensorflow\n",
    "tensorflow.__version__"
   ]
  },
  {
   "cell_type": "code",
   "execution_count": 3,
   "id": "a8ede227",
   "metadata": {},
   "outputs": [
    {
     "data": {
      "text/plain": [
       "'1.10.1+cu102'"
      ]
     },
     "execution_count": 3,
     "metadata": {},
     "output_type": "execute_result"
    }
   ],
   "source": [
    "import torch\n",
    "torch.__version__"
   ]
  },
  {
   "cell_type": "code",
   "execution_count": 4,
   "id": "15ca34cc",
   "metadata": {},
   "outputs": [
    {
     "data": {
      "text/plain": [
       "'2.1.0'"
      ]
     },
     "execution_count": 4,
     "metadata": {},
     "output_type": "execute_result"
    }
   ],
   "source": [
    "import sentence_transformers\n",
    "sentence_transformers.__version__"
   ]
  },
  {
   "cell_type": "markdown",
   "id": "9b7a57d9",
   "metadata": {},
   "source": [
    "# Converting SentenceTransformers to Tensorflow\n",
    "\n",
    "Tags: python, nlp, tensorflow\n",
    "\n",
    "date: 2022-08-23T08:00:00+10:00\n",
    "\n",
    "feature_image: /images/sentencetransformers-to-tensorflow.png\n",
    "  \n",
    "<!--eofm-->\n",
    "\n",
    "[SentenceTransformers](https://www.sbert.net/) provides a convenient interface for creating embeddings of text (and images) in PyTorch, which can be used for neural retrieval and ranking.\n",
    "But what if you want to integrate a model trained in SentenceTransformers with other existing models in Tensorflow?\n",
    "The best solution would be to rewrite the training in Tensorflow, but if you've already spent a lot of time training a model you may want to import it into Tensorflow.\n",
    "This post will show you how.\n",
    "\n",
    "This post was generated with a [Jupyter notebook](/notebooks/sentencetransformers-to-tensorflow.ipynb) which you can download if you want to run it yourself.\n",
    "\n",
    "## Training a SentenceTransformers Model\n",
    "\n",
    "Let's start with an example model from the [SentenceTransformers Training Examples](https://www.sbert.net/docs/training/overview.html) a bi-encoder consisting of a Transformer embedding, followed by mean pooling, and a single dense layer.\n",
    "The transformer `model_name` can be almost any [model from HuggingFace](https://huggingface.co/models?library=pytorch&sort=downloads), but for this example we'll use one of the smaller [pre-trained SentenceTransformers models](https://www.sbert.net/docs/pretrained_models.html) tuned to sentence embeddings, [`all-MiniLM-L6-v2`](https://huggingface.co/sentence-transformers/all-MiniLM-L6-v2)."
   ]
  },
  {
   "cell_type": "code",
   "execution_count": 5,
   "id": "dd2ce26d",
   "metadata": {},
   "outputs": [
    {
     "data": {
      "text/plain": [
       "(384, 384, 256)"
      ]
     },
     "execution_count": 5,
     "metadata": {},
     "output_type": "execute_result"
    }
   ],
   "source": [
    "from sentence_transformers import SentenceTransformer, models\n",
    "from torch import nn\n",
    "\n",
    "model_name = 'sentence-transformers/all-MiniLM-L6-v2'\n",
    "max_seq_length = 512\n",
    "output_dimension = 256\n",
    "\n",
    "word_embedding_model = models.Transformer(model_name,\n",
    "                                          max_seq_length=max_seq_length)\n",
    "\n",
    "pooling_model = models.Pooling(word_embedding_model.get_word_embedding_dimension(),\n",
    "                               pooling_mode_cls_token=False,\n",
    "                               pooling_mode_mean_tokens=True,\n",
    "                               pooling_mode_max_tokens=False)\n",
    "\n",
    "dense_model = models.Dense(in_features=pooling_model.get_sentence_embedding_dimension(),\n",
    "                           out_features=output_dimension,\n",
    "                           activation_function=nn.Tanh())\n",
    "\n",
    "model = SentenceTransformer(modules=[word_embedding_model, pooling_model, dense_model])\n",
    "\n",
    "(word_embedding_model.get_word_embedding_dimension(),\n",
    " pooling_model.get_sentence_embedding_dimension(),\n",
    " output_dimension)"
   ]
  },
  {
   "cell_type": "markdown",
   "id": "74a967d8",
   "metadata": {},
   "source": [
    "Next we would finetune this model using our own data.\n",
    "Here we'll just use some dummy sample data and put it into `InputExample`.\n",
    "If we had more data than fit in memory we could use [memory mapping with PyArrow](https://skeptric.com/pyarrow-sentencetransformers)."
   ]
  },
  {
   "cell_type": "code",
   "execution_count": 6,
   "id": "93dc3550",
   "metadata": {},
   "outputs": [],
   "source": [
    "from sentence_transformers import InputExample\n",
    "from torch.utils.data import DataLoader\n",
    "\n",
    "train_examples = [\n",
    "    InputExample(texts=['My first sentence', 'My second sentence'], label=0.8),\n",
    "    InputExample(texts=['Another pair', 'Unrelated sentence'], label=0.3)\n",
    "]\n",
    "\n",
    "train_dataloader = DataLoader(train_examples, shuffle=True, batch_size=16)"
   ]
  },
  {
   "cell_type": "markdown",
   "id": "a5f17000",
   "metadata": {},
   "source": [
    "Now we can train the model with one of the [SentenceTransformer losses](https://www.sbert.net/docs/package_reference/losses.html).\n",
    "Using `use_amp` (Automatic Mixed Precision) means we'll get faster throughput and use less GPU memory on a GPU that supports it."
   ]
  },
  {
   "cell_type": "code",
   "execution_count": 7,
   "id": "9610ba6c",
   "metadata": {},
   "outputs": [],
   "source": [
    "from sentence_transformers import losses\n",
    "\n",
    "\n",
    "num_epochs = 3\n",
    "train_loss = losses.CosineSimilarityLoss(model)\n",
    "\n",
    "model.fit(train_objectives=[(train_dataloader, train_loss)],\n",
    "          epochs=num_epochs,\n",
    "          warmup_steps=int(len(train_examples) * num_epochs * 0.1),\n",
    "          use_amp=True,\n",
    "          show_progress_bar=False)"
   ]
  },
  {
   "cell_type": "markdown",
   "id": "5f8ce150",
   "metadata": {},
   "source": [
    "Now we'll save the model to import into Tensorflow; in this example we'll just use a temporary directory."
   ]
  },
  {
   "cell_type": "code",
   "execution_count": 8,
   "id": "f29fe3e5",
   "metadata": {},
   "outputs": [],
   "source": [
    "from tempfile import TemporaryDirectory\n",
    "\n",
    "output_dir = TemporaryDirectory()\n",
    "\n",
    "model.save(output_dir.name)"
   ]
  },
  {
   "cell_type": "markdown",
   "id": "624670ad",
   "metadata": {},
   "source": [
    "## Converting to Tensorflow\n",
    "\n",
    "This kind of model can be converted into a Keras model in the following steps:\n",
    "\n",
    "1. Use Huggingface Transformers to load the model into Tensorflow using TFAutoModel\n",
    "2. Pass the tokenized input and extract the hidden state\n",
    "3. Mean Pool the Hidden State\n",
    "4. Pass the output through the dense layer\n"
   ]
  },
  {
   "cell_type": "code",
   "execution_count": 9,
   "id": "5f816106",
   "metadata": {},
   "outputs": [],
   "source": [
    "import sentence_transformers\n",
    "import tensorflow as tf\n",
    "from transformers import AutoTokenizer, TFAutoModel \n",
    "\n",
    "def sentencetransformer_to_tensorflow(model_path: str) -> tf.keras.Model:\n",
    "    \"\"\"Convert SentenceTransformer model at model_path to TensorFlow Keras model\"\"\"\n",
    "    # 1. Load the Transformer model\n",
    "    tf_model = TFAutoModel.from_pretrained(model_path, from_pt=True)\n",
    "\n",
    "    input_ids = tf.keras.Input(shape=(None,), dtype=tf.int32)\n",
    "    attention_mask = tf.keras.Input(shape=(None,), dtype=tf.int32)\n",
    "    \n",
    "    token_type_ids = tf.keras.Input(shape=(None,), dtype=tf.int32)\n",
    "\n",
    "    # 2. Get the Hidden State\n",
    "    hidden_state = tf_model.bert(\n",
    "        input_ids=input_ids,\n",
    "        attention_mask=attention_mask,\n",
    "        token_type_ids=token_type_ids,\n",
    "    ).last_hidden_state\n",
    "\n",
    "    # 3. Mean pooling\n",
    "    mean_pool = tf.keras.layers.GlobalAveragePooling1D()(\n",
    "        hidden_state\n",
    "    )\n",
    "    \n",
    "    # 4. Dense layer\n",
    "    sentence_transformer_model = SentenceTransformer(model_path, device=\"cpu\")\n",
    "    dense_layer = sentence_transformer_model[-1]\n",
    "    dense = pytorch_to_tensorflow_dense_layer(dense_model)(mean_pool)\n",
    "\n",
    "    # Return the model\n",
    "    model = tf.keras.Model(\n",
    "        dict(\n",
    "            input_ids=input_ids,\n",
    "            attention_mask=attention_mask,\n",
    "            token_type_ids=token_type_ids,\n",
    "        ),\n",
    "        dense,\n",
    "    )\n",
    "\n",
    "    return model"
   ]
  },
  {
   "cell_type": "markdown",
   "id": "d2c7f611",
   "metadata": {},
   "source": [
    "We can convert the Dense model into Tensorflow with a simple mapping of the weights."
   ]
  },
  {
   "cell_type": "code",
   "execution_count": 10,
   "id": "265176bd",
   "metadata": {},
   "outputs": [],
   "source": [
    "TORCH_TO_KERAS_ACTIVATION = {\"torch.nn.modules.activation.Tanh\": \"tanh\"}\n",
    "\n",
    "def pytorch_to_tensorflow_dense_layer(dense_model: sentence_transformers.models.Dense) -> tf.keras.layers.Dense:\n",
    "    weight = dense_model.linear.get_parameter(\"weight\").cpu().detach().numpy().T\n",
    "    bias = dense_model.linear.get_parameter(\"bias\").cpu().detach().numpy()\n",
    "\n",
    "    dense_config = dense_model.get_config_dict()\n",
    "\n",
    "    return tf.keras.layers.Dense(\n",
    "        dense_config[\"out_features\"],\n",
    "        input_shape=(dense_config[\"in_features\"],),\n",
    "        activation=TORCH_TO_KERAS_ACTIVATION[dense_config[\"activation_function\"]],\n",
    "        use_bias=dense_config[\"bias\"],\n",
    "        weights=[weight, bias],\n",
    "    )"
   ]
  },
  {
   "cell_type": "markdown",
   "id": "48f10cc2",
   "metadata": {},
   "source": [
    "Then we can load our Tensorflow model from the output directory."
   ]
  },
  {
   "cell_type": "code",
   "execution_count": 11,
   "id": "f5901e6a",
   "metadata": {},
   "outputs": [
    {
     "data": {
      "text/plain": [
       "<keras.engine.functional.Functional at 0x7f9105a35eb0>"
      ]
     },
     "execution_count": 11,
     "metadata": {},
     "output_type": "execute_result"
    }
   ],
   "source": [
    "tf_model = sentencetransformer_to_tensorflow(output_dir.name)\n",
    "\n",
    "tf_model"
   ]
  },
  {
   "cell_type": "markdown",
   "id": "cfcaf8ee",
   "metadata": {},
   "source": [
    "To test it's the same we can check it on a small sample of input text."
   ]
  },
  {
   "cell_type": "code",
   "execution_count": 12,
   "id": "8fb227e0",
   "metadata": {},
   "outputs": [],
   "source": [
    "tokenizer = AutoTokenizer.from_pretrained(output_dir.name)\n",
    "\n",
    "input_text = ['SentenceTransformers are groovy']\n",
    "\n",
    "tf_tokens = tokenizer(input_text, return_tensors='tf')\n",
    "\n",
    "\n",
    "import numpy as np\n",
    "assert np.isclose(tf_model(tf_tokens).numpy(),\n",
    "                  model.encode(input_text),\n",
    "                  atol=1e-5).all()"
   ]
  },
  {
   "cell_type": "markdown",
   "id": "c6a55ee1",
   "metadata": {},
   "source": [
    "The rest of this article goes through how this translation works step-by-step, which could be useful if you wanted to expand this to different SentenceTransformer models."
   ]
  },
  {
   "cell_type": "markdown",
   "id": "4eae8dd3",
   "metadata": {},
   "source": [
    "### Checking we can save and load the model\n",
    "\n",
    "A final check is that we can save and load the model to get the same result.\n",
    "\n",
    "You may have noticed in the code above for step 2 we called `tf_model.bert`, rather than just `tf_model.` This is [requried to save a TFBertModel](https://github.com/huggingface/transformers/issues/3627#issuecomment-646390974). If you're not using something bert based you may need to use a different method (such as `.transformer`)"
   ]
  },
  {
   "cell_type": "code",
   "execution_count": 13,
   "id": "c2b391e9",
   "metadata": {},
   "outputs": [
    {
     "name": "stdout",
     "output_type": "stream",
     "text": [
      "WARNING:tensorflow:Compiled the loaded model, but the compiled metrics have yet to be built. `model.compile_metrics` will be empty until you train or evaluate the model.\n"
     ]
    },
    {
     "name": "stderr",
     "output_type": "stream",
     "text": [
      "WARNING:absl:Found untraced functions such as embeddings_layer_call_fn, embeddings_layer_call_and_return_conditional_losses, encoder_layer_call_fn, encoder_layer_call_and_return_conditional_losses, pooler_layer_call_fn while saving (showing 5 of 545). These functions will not be directly callable after loading.\n"
     ]
    },
    {
     "name": "stdout",
     "output_type": "stream",
     "text": [
      "INFO:tensorflow:Assets written to: /tmp/tmp416di2x1/assets\n"
     ]
    },
    {
     "name": "stderr",
     "output_type": "stream",
     "text": [
      "INFO:tensorflow:Assets written to: /tmp/tmp416di2x1/assets\n"
     ]
    },
    {
     "name": "stdout",
     "output_type": "stream",
     "text": [
      "WARNING:tensorflow:No training configuration found in save file, so the model was *not* compiled. Compile it manually.\n"
     ]
    },
    {
     "name": "stderr",
     "output_type": "stream",
     "text": [
      "WARNING:tensorflow:No training configuration found in save file, so the model was *not* compiled. Compile it manually.\n"
     ]
    }
   ],
   "source": [
    "with TemporaryDirectory() as tf_output_dir:\n",
    "    tf_model.save(tf_output_dir)\n",
    "    tf_model_2 = tf.keras.models.load_model(tf_output_dir)\n",
    "    \n",
    "assert np.isclose(tf_model_2(tf_tokens).numpy(),\n",
    "                  model.encode(input_text),\n",
    "                  atol=1e-5).all()"
   ]
  },
  {
   "cell_type": "markdown",
   "id": "30fedc63",
   "metadata": {},
   "source": [
    "## Understanding the SentenceTransformers Model\n",
    "\n",
    "Let's start by understanding this particular SentenceTransformer model.\n",
    "It's made of 3 layers, the Transformer to embed the text, the pooling layer, and a dense layer."
   ]
  },
  {
   "cell_type": "code",
   "execution_count": 14,
   "id": "39861282",
   "metadata": {},
   "outputs": [
    {
     "data": {
      "text/plain": [
       "SentenceTransformer(\n",
       "  (0): Transformer({'max_seq_length': 512, 'do_lower_case': False}) with Transformer model: BertModel \n",
       "  (1): Pooling({'word_embedding_dimension': 384, 'pooling_mode_cls_token': False, 'pooling_mode_mean_tokens': True, 'pooling_mode_max_tokens': False, 'pooling_mode_mean_sqrt_len_tokens': False})\n",
       "  (2): Dense({'in_features': 384, 'out_features': 256, 'bias': True, 'activation_function': 'torch.nn.modules.activation.Tanh'})\n",
       ")"
      ]
     },
     "execution_count": 14,
     "metadata": {},
     "output_type": "execute_result"
    }
   ],
   "source": [
    "model"
   ]
  },
  {
   "cell_type": "markdown",
   "id": "13da1eb7",
   "metadata": {},
   "source": [
    "We can embed a text using the `encode` function"
   ]
  },
  {
   "cell_type": "code",
   "execution_count": 15,
   "id": "58412905",
   "metadata": {},
   "outputs": [
    {
     "name": "stdout",
     "output_type": "stream",
     "text": [
      "(1, 256)\n"
     ]
    },
    {
     "data": {
      "text/plain": [
       "array([[-0.23693885, -0.00868655,  0.12708516, ...,  0.02389161,\n",
       "        -0.03000948, -0.20219219]], dtype=float32)"
      ]
     },
     "execution_count": 15,
     "metadata": {},
     "output_type": "execute_result"
    }
   ],
   "source": [
    "input_text = ['SentenceTransformers are groovy']\n",
    "\n",
    "embedding = model.encode(input_text)\n",
    "\n",
    "print(embedding.shape)\n",
    "\n",
    "embedding"
   ]
  },
  {
   "cell_type": "markdown",
   "id": "c50ebdb0",
   "metadata": {},
   "source": [
    "We can build this up by going through each layer individually.\n",
    "First we need to tokenize the input:"
   ]
  },
  {
   "cell_type": "code",
   "execution_count": 16,
   "id": "4ce8469b",
   "metadata": {},
   "outputs": [
    {
     "data": {
      "text/plain": [
       "{'input_ids': tensor([[  101,  6251,  6494,  3619, 14192,  2545,  2024, 24665,  9541, 10736,\n",
       "            102]]),\n",
       " 'token_type_ids': tensor([[0, 0, 0, 0, 0, 0, 0, 0, 0, 0, 0]]),\n",
       " 'attention_mask': tensor([[1, 1, 1, 1, 1, 1, 1, 1, 1, 1, 1]])}"
      ]
     },
     "execution_count": 16,
     "metadata": {},
     "output_type": "execute_result"
    }
   ],
   "source": [
    "tokens = model.tokenize(input_text)\n",
    "tokens"
   ]
  },
  {
   "cell_type": "markdown",
   "id": "d24d5657",
   "metadata": {},
   "source": [
    "The `input_ids` correspond to the tokens of the input text; for this single text we can ignore the `token_type_ids` and `attention_mask`."
   ]
  },
  {
   "cell_type": "code",
   "execution_count": 17,
   "id": "11ceb90b",
   "metadata": {},
   "outputs": [
    {
     "data": {
      "text/plain": [
       "['[CLS]',\n",
       " 'sentence',\n",
       " '##tra',\n",
       " '##ns',\n",
       " '##form',\n",
       " '##ers',\n",
       " 'are',\n",
       " 'gr',\n",
       " '##oo',\n",
       " '##vy',\n",
       " '[SEP]']"
      ]
     },
     "execution_count": 17,
     "metadata": {},
     "output_type": "execute_result"
    }
   ],
   "source": [
    "model.tokenizer.convert_ids_to_tokens(tokens['input_ids'][0])"
   ]
  },
  {
   "cell_type": "markdown",
   "id": "02d59b8d",
   "metadata": {},
   "source": [
    "We then pass it through the Transformer Layer which gives us a tensor of: `batch_size * seq_length * hidden_dimension`"
   ]
  },
  {
   "cell_type": "code",
   "execution_count": 18,
   "id": "055cc0f0",
   "metadata": {},
   "outputs": [
    {
     "data": {
      "text/plain": [
       "Transformer({'max_seq_length': 512, 'do_lower_case': False}) with Transformer model: BertModel "
      ]
     },
     "execution_count": 18,
     "metadata": {},
     "output_type": "execute_result"
    }
   ],
   "source": [
    "model[0]"
   ]
  },
  {
   "cell_type": "code",
   "execution_count": 19,
   "id": "f6ce71b5",
   "metadata": {},
   "outputs": [
    {
     "name": "stdout",
     "output_type": "stream",
     "text": [
      "dict_keys(['input_ids', 'token_type_ids', 'attention_mask', 'token_embeddings'])\n",
      "(1, 11, 384)\n"
     ]
    },
    {
     "data": {
      "text/plain": [
       "array([[[-0.10578819, -0.24982804, -0.25226122, ...,  0.07380735,\n",
       "         -0.16002229, -0.10104472],\n",
       "        [ 0.08560147, -0.56386817,  0.07879569, ...,  0.53842884,\n",
       "          0.8103698 , -1.3633531 ],\n",
       "        [-0.49132693, -0.2222665 , -0.6009016 , ..., -0.6793231 ,\n",
       "          0.02079807,  0.19803165],\n",
       "        ...,\n",
       "        [-0.42034534, -0.35809648, -0.40514907, ...,  0.18629718,\n",
       "          0.44449466,  0.21497107],\n",
       "        [ 0.06977252, -0.3880473 , -0.6704632 , ...,  0.1784373 ,\n",
       "          0.6243761 , -0.39589474],\n",
       "        [-0.2825999 ,  0.20663676,  0.31645843, ...,  0.6711646 ,\n",
       "          0.23843716,  0.08616418]]], dtype=float32)"
      ]
     },
     "execution_count": 19,
     "metadata": {},
     "output_type": "execute_result"
    }
   ],
   "source": [
    "transformer_embedding = model[0]({k:v.to(model.device) for k, v in tokens.items()})\n",
    "\n",
    "print(transformer_embedding.keys())\n",
    "\n",
    "transformer_embedding_array = transformer_embedding['token_embeddings'].detach().cpu().numpy()\n",
    "\n",
    "print(transformer_embedding_array.shape)\n",
    "\n",
    "transformer_embedding_array"
   ]
  },
  {
   "cell_type": "markdown",
   "id": "3806c8bb",
   "metadata": {},
   "source": [
    "We then use the pooling layer to remove the sequence dimension"
   ]
  },
  {
   "cell_type": "code",
   "execution_count": 20,
   "id": "dba90761",
   "metadata": {},
   "outputs": [
    {
     "data": {
      "text/plain": [
       "Pooling({'word_embedding_dimension': 384, 'pooling_mode_cls_token': False, 'pooling_mode_mean_tokens': True, 'pooling_mode_max_tokens': False, 'pooling_mode_mean_sqrt_len_tokens': False})"
      ]
     },
     "execution_count": 20,
     "metadata": {},
     "output_type": "execute_result"
    }
   ],
   "source": [
    "model[1]"
   ]
  },
  {
   "cell_type": "code",
   "execution_count": 21,
   "id": "6585b9e3",
   "metadata": {
    "scrolled": false
   },
   "outputs": [
    {
     "name": "stdout",
     "output_type": "stream",
     "text": [
      "dict_keys(['input_ids', 'token_type_ids', 'attention_mask', 'token_embeddings', 'sentence_embedding'])\n",
      "(1, 384)\n"
     ]
    },
    {
     "data": {
      "text/plain": [
       "array([[-0.3000789 , -0.20643215, -0.21641909, ...,  0.1395422 ,\n",
       "         0.2712665 , -0.10013962]], dtype=float32)"
      ]
     },
     "execution_count": 21,
     "metadata": {},
     "output_type": "execute_result"
    }
   ],
   "source": [
    "pooled = model[1](transformer_embedding)\n",
    "\n",
    "print(pooled.keys())\n",
    "\n",
    "pooled_array = pooled['sentence_embedding'].cpu().detach().numpy()\n",
    "\n",
    "print(pooled_array.shape)\n",
    "\n",
    "pooled_array"
   ]
  },
  {
   "cell_type": "markdown",
   "id": "2a8eb22c",
   "metadata": {},
   "source": [
    "Then finally we pass it through the dense layer to get the final result.\n",
    "\n",
    "Note that the result overwrites the `sentence_embedding` key in the dictionary"
   ]
  },
  {
   "cell_type": "code",
   "execution_count": 22,
   "id": "1cfb5247",
   "metadata": {},
   "outputs": [
    {
     "data": {
      "text/plain": [
       "Dense({'in_features': 384, 'out_features': 256, 'bias': True, 'activation_function': 'torch.nn.modules.activation.Tanh'})"
      ]
     },
     "execution_count": 22,
     "metadata": {},
     "output_type": "execute_result"
    }
   ],
   "source": [
    "model[2]"
   ]
  },
  {
   "cell_type": "code",
   "execution_count": 23,
   "id": "2cf48e62",
   "metadata": {},
   "outputs": [
    {
     "name": "stdout",
     "output_type": "stream",
     "text": [
      "dict_keys(['input_ids', 'token_type_ids', 'attention_mask', 'token_embeddings', 'sentence_embedding'])\n",
      "(1, 256)\n"
     ]
    },
    {
     "data": {
      "text/plain": [
       "array([[-0.23693885, -0.00868655,  0.12708516, ...,  0.02389161,\n",
       "        -0.03000948, -0.20219219]], dtype=float32)"
      ]
     },
     "execution_count": 23,
     "metadata": {},
     "output_type": "execute_result"
    }
   ],
   "source": [
    "dense_output = model[2](pooled)\n",
    "\n",
    "print(dense_output.keys())\n",
    "\n",
    "dense_output_array = dense_output['sentence_embedding'].cpu().detach().numpy()\n",
    "\n",
    "print(dense_output_array.shape)\n",
    "dense_output_array"
   ]
  },
  {
   "cell_type": "markdown",
   "id": "b776ab83",
   "metadata": {},
   "source": [
    "This is the same as we got when we called `encode`"
   ]
  },
  {
   "cell_type": "code",
   "execution_count": 24,
   "id": "92cca0cd",
   "metadata": {},
   "outputs": [],
   "source": [
    "assert (model.encode(input_text) == dense_output_array).all()"
   ]
  },
  {
   "cell_type": "markdown",
   "id": "246e5a25",
   "metadata": {},
   "source": [
    "## Importing the model into Tensorflow\n",
    "\n",
    "We can load the Tokenizer and Tensorflow model using `transformers`.\n",
    "Transformers converts the model weights from PyTorch to Transformers when we pass `from_pt=True` (and this may not work for some exotic architectures)."
   ]
  },
  {
   "cell_type": "code",
   "execution_count": 25,
   "id": "50c59669",
   "metadata": {},
   "outputs": [],
   "source": [
    "from transformers import TFAutoModel, AutoTokenizer\n",
    "\n",
    "tokenizer = AutoTokenizer.from_pretrained(output_dir.name)\n",
    "\n",
    "tf_model = TFAutoModel.from_pretrained(output_dir.name, from_pt=True)\n",
    "\n",
    "del output_dir"
   ]
  },
  {
   "cell_type": "markdown",
   "id": "804ec249",
   "metadata": {},
   "source": [
    "We can use the Tokenizer to produce tokens as Tensorflow Tensors:"
   ]
  },
  {
   "cell_type": "code",
   "execution_count": 26,
   "id": "6c17a276",
   "metadata": {},
   "outputs": [
    {
     "data": {
      "text/plain": [
       "{'input_ids': <tf.Tensor: shape=(1, 11), dtype=int32, numpy=array([[  101,  6251,  6494, ...,  9541, 10736,   102]], dtype=int32)>, 'token_type_ids': <tf.Tensor: shape=(1, 11), dtype=int32, numpy=array([[0, 0, 0, ..., 0, 0, 0]], dtype=int32)>, 'attention_mask': <tf.Tensor: shape=(1, 11), dtype=int32, numpy=array([[1, 1, 1, ..., 1, 1, 1]], dtype=int32)>}"
      ]
     },
     "execution_count": 26,
     "metadata": {},
     "output_type": "execute_result"
    }
   ],
   "source": [
    "tf_tokens = tokenizer(input_text, padding=True, truncation=True, return_tensors='tf')\n",
    "tf_tokens"
   ]
  },
  {
   "cell_type": "code",
   "execution_count": 27,
   "id": "a79215fe",
   "metadata": {},
   "outputs": [
    {
     "name": "stdout",
     "output_type": "stream",
     "text": [
      "odict_keys(['last_hidden_state', 'pooler_output'])\n"
     ]
    }
   ],
   "source": [
    "tf_embedding = tf_model(tf_tokens)\n",
    "\n",
    "print(tf_embedding.keys())"
   ]
  },
  {
   "cell_type": "markdown",
   "id": "b3909657",
   "metadata": {},
   "source": [
    "The `last_hidden_state` is, up to floating point precision error, the same as the output of the first Transformer layer."
   ]
  },
  {
   "cell_type": "code",
   "execution_count": 28,
   "id": "5eb17314",
   "metadata": {},
   "outputs": [],
   "source": [
    "assert np.isclose(tf_embedding.last_hidden_state.numpy(), transformer_embedding_array, atol=1e-5).all()"
   ]
  },
  {
   "cell_type": "markdown",
   "id": "42d3dbdf",
   "metadata": {},
   "source": [
    "However the `pooler_output` is completely different"
   ]
  },
  {
   "cell_type": "code",
   "execution_count": 29,
   "id": "9f7157a7",
   "metadata": {},
   "outputs": [
    {
     "data": {
      "text/plain": [
       "0.8287506"
      ]
     },
     "execution_count": 29,
     "metadata": {},
     "output_type": "execute_result"
    }
   ],
   "source": [
    "np.abs(tf_embedding.pooler_output.numpy() - pooled_array).max()"
   ]
  },
  {
   "cell_type": "markdown",
   "id": "0958eab6",
   "metadata": {},
   "source": [
    "But we can produce a mean pooling manually.\n",
    "\n",
    "If we used a different combination of pooling layers in SentenceTransformers (such as CLS or Max pooling) we would have to change this."
   ]
  },
  {
   "cell_type": "code",
   "execution_count": 30,
   "id": "d1f912d7",
   "metadata": {},
   "outputs": [],
   "source": [
    "import tensorflow as tf\n",
    "\n",
    "tf_pooled = tf.keras.layers.GlobalAveragePooling1D()(tf_embedding.last_hidden_state)\n",
    "\n",
    "assert np.isclose(tf_pooled.numpy(), pooled_array, atol=1e-5).all()"
   ]
  },
  {
   "cell_type": "markdown",
   "id": "4fb57055",
   "metadata": {},
   "source": [
    "Finally we need to load the dense model into Tensorflow.\n",
    "\n",
    "We can extract the weight, bias and configuration from the PyTorch model."
   ]
  },
  {
   "cell_type": "code",
   "execution_count": 31,
   "id": "3450901b",
   "metadata": {},
   "outputs": [
    {
     "name": "stdout",
     "output_type": "stream",
     "text": [
      "(384, 256) (256,)\n"
     ]
    },
    {
     "data": {
      "text/plain": [
       "{'in_features': 384,\n",
       " 'out_features': 256,\n",
       " 'bias': True,\n",
       " 'activation_function': 'torch.nn.modules.activation.Tanh'}"
      ]
     },
     "execution_count": 31,
     "metadata": {},
     "output_type": "execute_result"
    }
   ],
   "source": [
    "dense_model = model[2]\n",
    "\n",
    "weight = dense_model.linear.get_parameter(\"weight\").cpu().detach().numpy().T\n",
    "bias = dense_model.linear.get_parameter(\"bias\").cpu().detach().numpy()\n",
    "\n",
    "dense_config = dense_model.get_config_dict()\n",
    "\n",
    "print(weight.shape, bias.shape)\n",
    "dense_config"
   ]
  },
  {
   "cell_type": "markdown",
   "id": "515521b3",
   "metadata": {},
   "source": [
    "Then we can use this to create a corresponding dense layer in Keras.\n",
    "If we had more dense layers, or used a differente activation, we'd need to update accordingly."
   ]
  },
  {
   "cell_type": "code",
   "execution_count": 32,
   "id": "560806ca",
   "metadata": {},
   "outputs": [],
   "source": [
    "TORCH_TO_KERAS_ACTIVATION = {\"torch.nn.modules.activation.Tanh\": \"tanh\"}\n",
    "\n",
    "tf_dense = tf.keras.layers.Dense(\n",
    "        dense_config[\"out_features\"],\n",
    "        input_shape=(dense_config[\"in_features\"],),\n",
    "        activation=TORCH_TO_KERAS_ACTIVATION[dense_config[\"activation_function\"]],\n",
    "        use_bias=dense_config[\"bias\"],\n",
    "        weights=[weight, bias],\n",
    "    )\n"
   ]
  },
  {
   "cell_type": "markdown",
   "id": "6fb5642f",
   "metadata": {},
   "source": [
    "Then passing the output through this layer gives us the same result as the original model."
   ]
  },
  {
   "cell_type": "code",
   "execution_count": 33,
   "id": "78de492f",
   "metadata": {},
   "outputs": [],
   "source": [
    "tf_output = tf_dense(tf_pooled)\n",
    "\n",
    "assert np.isclose(tf_output.numpy(), model.encode(input_text), atol=1e-5).all()"
   ]
  },
  {
   "cell_type": "markdown",
   "id": "dd766e64",
   "metadata": {},
   "source": [
    "This gets us the same result as our function previous, once we wrap it in Keras functional API.\n",
    "\n",
    "We could in fact train this model, which if we have to use Tensorflow makes more sense than training the SentenceTransformer model.\n",
    "But SentenceTransformers provides quite a conventient interface to prototype different losses and pooling layers that it may still be useful to use it before converting everything to Tensorflow."
   ]
  }
 ],
 "metadata": {
  "kernelspec": {
   "display_name": "Python 3 (ipykernel)",
   "language": "python",
   "name": "python3"
  },
  "language_info": {
   "codemirror_mode": {
    "name": "ipython",
    "version": 3
   },
   "file_extension": ".py",
   "mimetype": "text/x-python",
   "name": "python",
   "nbconvert_exporter": "python",
   "pygments_lexer": "ipython3",
   "version": "3.8.10"
  },
  "toc": {
   "base_numbering": 1,
   "nav_menu": {},
   "number_sections": true,
   "sideBar": true,
   "skip_h1_title": false,
   "title_cell": "Table of Contents",
   "title_sidebar": "Contents",
   "toc_cell": false,
   "toc_position": {},
   "toc_section_display": true,
   "toc_window_display": false
  }
 },
 "nbformat": 4,
 "nbformat_minor": 5
}
