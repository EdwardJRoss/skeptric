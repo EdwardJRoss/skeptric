{
 "cells": [
  {
   "cell_type": "markdown",
   "metadata": {},
   "source": [
    "# Looking at the WAT, WET and WARC Common Crawl Archives\n",
    "\n",
    "Common crawl provides 3 types of archive:\n",
    "\n",
    "* WAT contains metadata of the crawl: The headers, things from the `<head>` of html (title, meta, scripts) and links from the website\n",
    "* WET contain the text extracted from the HTML of the crawl, in format Title\\nText\n",
    "* WARC contains the entire crawl, the metadata and HTML Response\n",
    "\n",
    "These are all in the Web Archive (WARC) format.\n",
    "Common crawl have a [good introduction to WARC](https://commoncrawl.org/2014/04/navigating-the-warc-file-format/)\n",
    "There is [specification for the gory details](https://iipc.github.io/warc-specifications/specifications/warc-format/warc-1.0/).\n",
    "\n",
    "Read the associated [article](https://skeptric.com/text-meta-data-commoncrawl) for details, and the [Jupyter Notebook](https://skeptric.com/notebooks/WAT%20WET%20WARC%20-%20Common%20Crawl%20Archives.ipynb)."
   ]
  },
  {
   "cell_type": "markdown",
   "metadata": {},
   "source": [
    "From the spec here are the types of records:\n",
    "\n",
    "* warcinfo - contains information about the web crawl\n",
    "* metadata - record contains content created in order to further describe, explain, or accompany a harvested resource, in ways not covered by other record types. \n",
    "* conversion - record shall contain an alternative version of another record’s content that was created as the result of an archival process.\n",
    "* response - response\n",
    "* request - details of a request\n",
    "* resource - record contains a resource\n",
    "* revisit - describes the revisitation of content already archived, and might include only an abbreviated content body which has to be interpreted relative to a previous record.\n",
    "* continuation - appended to corresponding prior record block(s) (e.g., from other WARC files) to create the logically complete full-sized original record."
   ]
  },
  {
   "cell_type": "code",
   "execution_count": 1,
   "metadata": {},
   "outputs": [],
   "source": [
    "import json\n",
    "import requests\n",
    "from warcio import ArchiveIterator"
   ]
  },
  {
   "cell_type": "markdown",
   "metadata": {},
   "source": [
    "Let's take some sample WARC url and the corresponding WET and WAT urls.\n",
    "The WET and WAT are generated from the full WARC and have derived URLs."
   ]
  },
  {
   "cell_type": "code",
   "execution_count": 2,
   "metadata": {},
   "outputs": [],
   "source": [
    "warc_url = 'https://commoncrawl.s3.amazonaws.com/crawl-data/CC-MAIN-2020-24/segments/1590347387219.0/warc/CC-MAIN-20200525032636-20200525062636-00381.warc.gz'\n",
    "wet_url = warc_url.replace('/warc/', '/wet/').replace('warc.gz', 'warc.wet.gz')\n",
    "wat_url = warc_url.replace('/warc/', '/wat/').replace('warc.gz', 'warc.wat.gz')"
   ]
  },
  {
   "cell_type": "markdown",
   "metadata": {},
   "source": [
    "# Reading WARC"
   ]
  },
  {
   "cell_type": "code",
   "execution_count": 3,
   "metadata": {},
   "outputs": [],
   "source": [
    "r = requests.get(warc_url, stream=True)\n",
    "records = ArchiveIterator(r.raw)"
   ]
  },
  {
   "cell_type": "markdown",
   "metadata": {},
   "source": [
    "First record is warcinfo about the crawl"
   ]
  },
  {
   "cell_type": "code",
   "execution_count": 4,
   "metadata": {},
   "outputs": [],
   "source": [
    "record = next(records)"
   ]
  },
  {
   "cell_type": "code",
   "execution_count": 5,
   "metadata": {},
   "outputs": [
    {
     "data": {
      "text/plain": [
       "'warcinfo'"
      ]
     },
     "execution_count": 5,
     "metadata": {},
     "output_type": "execute_result"
    }
   ],
   "source": [
    "record.rec_type"
   ]
  },
  {
   "cell_type": "code",
   "execution_count": 6,
   "metadata": {},
   "outputs": [],
   "source": [
    "a = record.content_stream().read()"
   ]
  },
  {
   "cell_type": "code",
   "execution_count": 7,
   "metadata": {},
   "outputs": [
    {
     "name": "stdout",
     "output_type": "stream",
     "text": [
      "isPartOf: CC-MAIN-2020-24\r\n",
      "publisher: Common Crawl\r\n",
      "description: Wide crawl of the web for May/June 2020\r\n",
      "operator: Common Crawl Admin (info@commoncrawl.org)\r\n",
      "hostname: ip-10-67-67-182.ec2.internal\r\n",
      "software: Apache Nutch 1.16 (modified, https://github.com/commoncrawl/nutch/)\r\n",
      "robots: checked via crawler-commons 1.1-SNAPSHOT (https://github.com/crawler-commons/crawler-commons)\r\n",
      "format: WARC File Format 1.1\r\n",
      "conformsTo: http://iipc.github.io/warc-specifications/specifications/warc-format/warc-1.1/\r\n",
      "\n"
     ]
    }
   ],
   "source": [
    "print(a.decode('utf-8'))"
   ]
  },
  {
   "cell_type": "markdown",
   "metadata": {},
   "source": [
    "The next is details about the request to the server"
   ]
  },
  {
   "cell_type": "code",
   "execution_count": 8,
   "metadata": {},
   "outputs": [],
   "source": [
    "record = next(records)"
   ]
  },
  {
   "cell_type": "code",
   "execution_count": 9,
   "metadata": {},
   "outputs": [
    {
     "data": {
      "text/plain": [
       "'request'"
      ]
     },
     "execution_count": 9,
     "metadata": {},
     "output_type": "execute_result"
    }
   ],
   "source": [
    "record.rec_type"
   ]
  },
  {
   "cell_type": "code",
   "execution_count": 10,
   "metadata": {},
   "outputs": [
    {
     "data": {
      "text/plain": [
       "StatusAndHeaders(protocol = 'WARC/1.0', statusline = '', headers = [('WARC-Type', 'request'), ('WARC-Date', '2020-05-25T05:11:44Z'), ('WARC-Record-ID', '<urn:uuid:b14093da-51b7-4f61-8fa5-4630084209d9>'), ('Content-Length', '330'), ('Content-Type', 'application/http; msgtype=request'), ('WARC-Warcinfo-ID', '<urn:uuid:40b0c676-a143-44c9-bde5-ad0e9999cb04>'), ('WARC-IP-Address', '124.156.125.238'), ('WARC-Target-URI', 'http://002397.cn/related_report/detail.php?id=866619')])"
      ]
     },
     "execution_count": 10,
     "metadata": {},
     "output_type": "execute_result"
    }
   ],
   "source": [
    "record.rec_headers"
   ]
  },
  {
   "cell_type": "code",
   "execution_count": 11,
   "metadata": {},
   "outputs": [
    {
     "data": {
      "text/plain": [
       "[('WARC-Type', 'request'),\n",
       " ('WARC-Date', '2020-05-25T05:11:44Z'),\n",
       " ('WARC-Record-ID', '<urn:uuid:b14093da-51b7-4f61-8fa5-4630084209d9>'),\n",
       " ('Content-Length', '330'),\n",
       " ('Content-Type', 'application/http; msgtype=request'),\n",
       " ('WARC-Warcinfo-ID', '<urn:uuid:40b0c676-a143-44c9-bde5-ad0e9999cb04>'),\n",
       " ('WARC-IP-Address', '124.156.125.238'),\n",
       " ('WARC-Target-URI', 'http://002397.cn/related_report/detail.php?id=866619')]"
      ]
     },
     "execution_count": 11,
     "metadata": {},
     "output_type": "execute_result"
    }
   ],
   "source": [
    "record.rec_headers.headers"
   ]
  },
  {
   "cell_type": "markdown",
   "metadata": {},
   "source": [
    "Shows HTTP headers in the get request"
   ]
  },
  {
   "cell_type": "code",
   "execution_count": 12,
   "metadata": {},
   "outputs": [
    {
     "data": {
      "text/plain": [
       "StatusAndHeaders(protocol = 'GET', statusline = '/related_report/detail.php?id=866619 HTTP/1.1', headers = [('User-Agent', 'CCBot/2.0 (https://commoncrawl.org/faq/)'), ('Accept', 'text/html,application/xhtml+xml,application/xml;q=0.9,*/*;q=0.8'), ('Accept-Language', 'en-US,en;q=0.5'), ('If-Modified-Since', 'Fri, 28 Feb 2020 12:03:01 UTC'), ('Accept-Encoding', 'br,gzip'), ('Host', '002397.cn'), ('Connection', 'Keep-Alive')])"
      ]
     },
     "execution_count": 12,
     "metadata": {},
     "output_type": "execute_result"
    }
   ],
   "source": [
    "record.http_headers"
   ]
  },
  {
   "cell_type": "code",
   "execution_count": 13,
   "metadata": {},
   "outputs": [
    {
     "data": {
      "text/plain": [
       "[('User-Agent', 'CCBot/2.0 (https://commoncrawl.org/faq/)'),\n",
       " ('Accept', 'text/html,application/xhtml+xml,application/xml;q=0.9,*/*;q=0.8'),\n",
       " ('Accept-Language', 'en-US,en;q=0.5'),\n",
       " ('If-Modified-Since', 'Fri, 28 Feb 2020 12:03:01 UTC'),\n",
       " ('Accept-Encoding', 'br,gzip'),\n",
       " ('Host', '002397.cn'),\n",
       " ('Connection', 'Keep-Alive')]"
      ]
     },
     "execution_count": 13,
     "metadata": {},
     "output_type": "execute_result"
    }
   ],
   "source": [
    "record.http_headers.headers"
   ]
  },
  {
   "cell_type": "markdown",
   "metadata": {},
   "source": [
    "There's no data in the request"
   ]
  },
  {
   "cell_type": "code",
   "execution_count": 14,
   "metadata": {},
   "outputs": [],
   "source": [
    "a = record.content_stream().read()"
   ]
  },
  {
   "cell_type": "code",
   "execution_count": 15,
   "metadata": {},
   "outputs": [
    {
     "data": {
      "text/plain": [
       "b''"
      ]
     },
     "execution_count": 15,
     "metadata": {},
     "output_type": "execute_result"
    }
   ],
   "source": [
    "a"
   ]
  },
  {
   "cell_type": "markdown",
   "metadata": {},
   "source": [
    "The next item is the response of the previous request"
   ]
  },
  {
   "cell_type": "code",
   "execution_count": 16,
   "metadata": {},
   "outputs": [],
   "source": [
    "record = next(records)"
   ]
  },
  {
   "cell_type": "code",
   "execution_count": 17,
   "metadata": {},
   "outputs": [
    {
     "data": {
      "text/plain": [
       "'response'"
      ]
     },
     "execution_count": 17,
     "metadata": {},
     "output_type": "execute_result"
    }
   ],
   "source": [
    "record.rec_type"
   ]
  },
  {
   "cell_type": "code",
   "execution_count": 18,
   "metadata": {},
   "outputs": [
    {
     "data": {
      "text/plain": [
       "StatusAndHeaders(protocol = 'WARC/1.0', statusline = '', headers = [('WARC-Type', 'response'), ('WARC-Date', '2020-05-25T05:11:44Z'), ('WARC-Record-ID', '<urn:uuid:10bc1a42-8c88-4369-a04e-7b77ca106e79>'), ('Content-Length', '14321'), ('Content-Type', 'application/http; msgtype=response'), ('WARC-Warcinfo-ID', '<urn:uuid:40b0c676-a143-44c9-bde5-ad0e9999cb04>'), ('WARC-Concurrent-To', '<urn:uuid:b14093da-51b7-4f61-8fa5-4630084209d9>'), ('WARC-IP-Address', '124.156.125.238'), ('WARC-Target-URI', 'http://002397.cn/related_report/detail.php?id=866619'), ('WARC-Payload-Digest', 'sha1:RWL3CQY47VCKFOXJVZXBQP64U7RCFODH'), ('WARC-Block-Digest', 'sha1:CNOLET4OGLWYCKDJUDAAVYF5YS3MCW4S'), ('WARC-Identified-Payload-Type', 'text/html')])"
      ]
     },
     "execution_count": 18,
     "metadata": {},
     "output_type": "execute_result"
    }
   ],
   "source": [
    "record.rec_headers"
   ]
  },
  {
   "cell_type": "code",
   "execution_count": 19,
   "metadata": {},
   "outputs": [
    {
     "data": {
      "text/plain": [
       "[('WARC-Type', 'response'),\n",
       " ('WARC-Date', '2020-05-25T05:11:44Z'),\n",
       " ('WARC-Record-ID', '<urn:uuid:10bc1a42-8c88-4369-a04e-7b77ca106e79>'),\n",
       " ('Content-Length', '14321'),\n",
       " ('Content-Type', 'application/http; msgtype=response'),\n",
       " ('WARC-Warcinfo-ID', '<urn:uuid:40b0c676-a143-44c9-bde5-ad0e9999cb04>'),\n",
       " ('WARC-Concurrent-To', '<urn:uuid:b14093da-51b7-4f61-8fa5-4630084209d9>'),\n",
       " ('WARC-IP-Address', '124.156.125.238'),\n",
       " ('WARC-Target-URI', 'http://002397.cn/related_report/detail.php?id=866619'),\n",
       " ('WARC-Payload-Digest', 'sha1:RWL3CQY47VCKFOXJVZXBQP64U7RCFODH'),\n",
       " ('WARC-Block-Digest', 'sha1:CNOLET4OGLWYCKDJUDAAVYF5YS3MCW4S'),\n",
       " ('WARC-Identified-Payload-Type', 'text/html')]"
      ]
     },
     "execution_count": 19,
     "metadata": {},
     "output_type": "execute_result"
    }
   ],
   "source": [
    "record.rec_headers.headers"
   ]
  },
  {
   "cell_type": "code",
   "execution_count": 20,
   "metadata": {},
   "outputs": [
    {
     "data": {
      "text/plain": [
       "StatusAndHeaders(protocol = 'HTTP/1.1', statusline = '200 OK', headers = [('Date', 'Mon, 25 May 2020 05:11:44 GMT'), ('Content-Type', 'text/html'), ('X-Crawler-Content-Length', '6641'), ('Content-Length', '13911'), ('Connection', 'keep-alive'), ('Set-Cookie', 'tgw_l7_route=f60eebbcd438146c92bb28cfca9251e6; Expires=Mon, 25-May-2020 06:11:44 GMT; Path=/'), ('Server', 'Apache/2.4.23 (Unix) OpenSSL/1.0.1e-fips PHP/5.4.16'), ('X-Powered-By', 'PHP/5.4.16'), ('Vary', 'Accept-Encoding'), ('X-Crawler-Content-Encoding', 'gzip')])"
      ]
     },
     "execution_count": 20,
     "metadata": {},
     "output_type": "execute_result"
    }
   ],
   "source": [
    "record.http_headers"
   ]
  },
  {
   "cell_type": "code",
   "execution_count": 21,
   "metadata": {},
   "outputs": [
    {
     "data": {
      "text/plain": [
       "'200 OK'"
      ]
     },
     "execution_count": 21,
     "metadata": {},
     "output_type": "execute_result"
    }
   ],
   "source": [
    "record.http_headers.statusline"
   ]
  },
  {
   "cell_type": "code",
   "execution_count": 22,
   "metadata": {},
   "outputs": [
    {
     "data": {
      "text/plain": [
       "[('Date', 'Mon, 25 May 2020 05:11:44 GMT'),\n",
       " ('Content-Type', 'text/html'),\n",
       " ('X-Crawler-Content-Length', '6641'),\n",
       " ('Content-Length', '13911'),\n",
       " ('Connection', 'keep-alive'),\n",
       " ('Set-Cookie',\n",
       "  'tgw_l7_route=f60eebbcd438146c92bb28cfca9251e6; Expires=Mon, 25-May-2020 06:11:44 GMT; Path=/'),\n",
       " ('Server', 'Apache/2.4.23 (Unix) OpenSSL/1.0.1e-fips PHP/5.4.16'),\n",
       " ('X-Powered-By', 'PHP/5.4.16'),\n",
       " ('Vary', 'Accept-Encoding'),\n",
       " ('X-Crawler-Content-Encoding', 'gzip')]"
      ]
     },
     "execution_count": 22,
     "metadata": {},
     "output_type": "execute_result"
    }
   ],
   "source": [
    "record.http_headers.headers"
   ]
  },
  {
   "cell_type": "code",
   "execution_count": 23,
   "metadata": {},
   "outputs": [],
   "source": [
    "a = record.content_stream().read()"
   ]
  },
  {
   "cell_type": "markdown",
   "metadata": {},
   "source": [
    "This contains the full HTML"
   ]
  },
  {
   "cell_type": "code",
   "execution_count": 24,
   "metadata": {},
   "outputs": [
    {
     "name": "stdout",
     "output_type": "stream",
     "text": [
      "<!DOCTYPE html>\r\n",
      "<html>\r\n",
      "<head>\r\n",
      "\t<meta charset=\"utf-8\">\r\n",
      "\t<title>纺织服装行业周报:终端零售回暖,板块业绩等待验证 - 相关研报 - 梦洁股份(002397)</title>\r\n",
      "\t<meta name=\"mobile-agent\" content=\"format=html5; url=detail_m.php?id=866619\" />\r\n",
      "\t<meta name=\"mobile-agent\" content=\"format=xhtml; url=detail_m.php?id=866619\" />\r\n",
      "\t<meta name=\"keywords\" content=\"纺织服装行业周报:终端零售回暖,板块业绩等待验证,相关研报,梦洁股份,002397\"/>\r\n",
      "\t<meta name=\"description\" content=\"梦洁股份(002397)相关研报：纺织服装行业周报:终端零售回暖,板块业绩等待验证\"/>\r\n",
      "\t<link rel=\"stylesheet\" type=\"text/css\" href=\"http://txt.inv.org.cn/ir/site/pc/css.css\"/>\r\n",
      "</head>\r\n",
      "<body>\r\n",
      "\r\n",
      "<div class=\"header clearfix\">\r\n",
      "\t<div class=\"logo\">\r\n",
      "\t\t\t\t<a href=\"/\" target=\"_blank\"><span>梦洁股份(002397)</span></a>\r\n",
      "\t</div>\r\n",
      "\t<div class=\"header_meun\">\r\n",
      "\t\t<a href=\"/index_m.php\" target=\"_blank\" style=\"border:none;\">移动版</a>\r\n",
      "\t\t\t</div>\r\n",
      "\r\n",
      "<div cl\n"
     ]
    }
   ],
   "source": [
    "print(a.decode('utf-8')[:1000])"
   ]
  },
  {
   "cell_type": "markdown",
   "metadata": {},
   "source": [
    "The next record is metadata about the fetch:\n",
    "\n",
    "* How long it took to fetch the size\n",
    "* Detected characterset\n",
    "* Languages detected"
   ]
  },
  {
   "cell_type": "code",
   "execution_count": 25,
   "metadata": {},
   "outputs": [],
   "source": [
    "record = next(records)"
   ]
  },
  {
   "cell_type": "code",
   "execution_count": 26,
   "metadata": {},
   "outputs": [
    {
     "data": {
      "text/plain": [
       "'metadata'"
      ]
     },
     "execution_count": 26,
     "metadata": {},
     "output_type": "execute_result"
    }
   ],
   "source": [
    "record.rec_type"
   ]
  },
  {
   "cell_type": "code",
   "execution_count": 27,
   "metadata": {},
   "outputs": [
    {
     "data": {
      "text/plain": [
       "[('WARC-Type', 'metadata'),\n",
       " ('WARC-Date', '2020-05-25T05:11:44Z'),\n",
       " ('WARC-Record-ID', '<urn:uuid:ce3946a5-f44b-417c-ab8c-3d32e7db40f7>'),\n",
       " ('Content-Length', '201'),\n",
       " ('Content-Type', 'application/warc-fields'),\n",
       " ('WARC-Warcinfo-ID', '<urn:uuid:40b0c676-a143-44c9-bde5-ad0e9999cb04>'),\n",
       " ('WARC-Concurrent-To', '<urn:uuid:10bc1a42-8c88-4369-a04e-7b77ca106e79>'),\n",
       " ('WARC-Target-URI', 'http://002397.cn/related_report/detail.php?id=866619')]"
      ]
     },
     "execution_count": 27,
     "metadata": {},
     "output_type": "execute_result"
    }
   ],
   "source": [
    "record.rec_headers.headers"
   ]
  },
  {
   "cell_type": "code",
   "execution_count": 28,
   "metadata": {},
   "outputs": [],
   "source": [
    "a = record.content_stream().read()"
   ]
  },
  {
   "cell_type": "code",
   "execution_count": 29,
   "metadata": {},
   "outputs": [
    {
     "name": "stdout",
     "output_type": "stream",
     "text": [
      "fetchTimeMs: 731\r\n",
      "charset-detected: UTF-8\r\n",
      "languages-cld2: {\"reliable\":true,\"text-bytes\":8659,\"languages\":[{\"code\":\"zh\",\"code-iso-639-3\":\"zho\",\"text-covered\":0.98,\"score\":2026.0,\"name\":\"Chinese\"}]}\r\n",
      "\r\n",
      "\n"
     ]
    }
   ],
   "source": [
    "print(a.decode('utf-8'))"
   ]
  },
  {
   "cell_type": "markdown",
   "metadata": {},
   "source": [
    "Now we move onto the next request"
   ]
  },
  {
   "cell_type": "code",
   "execution_count": 30,
   "metadata": {},
   "outputs": [],
   "source": [
    "record = next(records)"
   ]
  },
  {
   "cell_type": "code",
   "execution_count": 31,
   "metadata": {},
   "outputs": [
    {
     "data": {
      "text/plain": [
       "('request', 'http://003364.cn/j78/453618.html')"
      ]
     },
     "execution_count": 31,
     "metadata": {},
     "output_type": "execute_result"
    }
   ],
   "source": [
    "record.rec_type, record.rec_headers.get_header('WARC-Target-URI')"
   ]
  },
  {
   "cell_type": "code",
   "execution_count": 32,
   "metadata": {},
   "outputs": [
    {
     "data": {
      "text/plain": [
       "('response', 'http://003364.cn/j78/453618.html')"
      ]
     },
     "execution_count": 32,
     "metadata": {},
     "output_type": "execute_result"
    }
   ],
   "source": [
    "record = next(records)\n",
    "record.rec_type, record.rec_headers.get_header('WARC-Target-URI')"
   ]
  },
  {
   "cell_type": "code",
   "execution_count": 33,
   "metadata": {},
   "outputs": [
    {
     "data": {
      "text/plain": [
       "('metadata', 'http://003364.cn/j78/453618.html')"
      ]
     },
     "execution_count": 33,
     "metadata": {},
     "output_type": "execute_result"
    }
   ],
   "source": [
    "record = next(records)\n",
    "record.rec_type, record.rec_headers.get_header('WARC-Target-URI')"
   ]
  },
  {
   "cell_type": "markdown",
   "metadata": {},
   "source": [
    "And the next record"
   ]
  },
  {
   "cell_type": "code",
   "execution_count": 34,
   "metadata": {},
   "outputs": [
    {
     "data": {
      "text/plain": [
       "('request', 'http://010yingkelawyer.com/case/2018-09-25/408.html')"
      ]
     },
     "execution_count": 34,
     "metadata": {},
     "output_type": "execute_result"
    }
   ],
   "source": [
    "record = next(records)\n",
    "record.rec_type, record.rec_headers.get_header('WARC-Target-URI')"
   ]
  },
  {
   "cell_type": "code",
   "execution_count": 35,
   "metadata": {},
   "outputs": [
    {
     "data": {
      "text/plain": [
       "('response', 'http://010yingkelawyer.com/case/2018-09-25/408.html')"
      ]
     },
     "execution_count": 35,
     "metadata": {},
     "output_type": "execute_result"
    }
   ],
   "source": [
    "record = next(records)\n",
    "record.rec_type, record.rec_headers.get_header('WARC-Target-URI')"
   ]
  },
  {
   "cell_type": "code",
   "execution_count": 36,
   "metadata": {},
   "outputs": [
    {
     "data": {
      "text/plain": [
       "('metadata', 'http://010yingkelawyer.com/case/2018-09-25/408.html')"
      ]
     },
     "execution_count": 36,
     "metadata": {},
     "output_type": "execute_result"
    }
   ],
   "source": [
    "record = next(records)\n",
    "record.rec_type, record.rec_headers.get_header('WARC-Target-URI')"
   ]
  },
  {
   "cell_type": "markdown",
   "metadata": {},
   "source": [
    "And the next"
   ]
  },
  {
   "cell_type": "code",
   "execution_count": 37,
   "metadata": {},
   "outputs": [
    {
     "data": {
      "text/plain": [
       "('request', 'http://023yc.com/az/118080.html')"
      ]
     },
     "execution_count": 37,
     "metadata": {},
     "output_type": "execute_result"
    }
   ],
   "source": [
    "record = next(records)\n",
    "record.rec_type, record.rec_headers.get_header('WARC-Target-URI')"
   ]
  },
  {
   "cell_type": "code",
   "execution_count": 38,
   "metadata": {},
   "outputs": [
    {
     "data": {
      "text/plain": [
       "('response', 'http://023yc.com/az/118080.html')"
      ]
     },
     "execution_count": 38,
     "metadata": {},
     "output_type": "execute_result"
    }
   ],
   "source": [
    "record = next(records)\n",
    "record.rec_type, record.rec_headers.get_header('WARC-Target-URI')"
   ]
  },
  {
   "cell_type": "code",
   "execution_count": 39,
   "metadata": {},
   "outputs": [
    {
     "data": {
      "text/plain": [
       "('metadata', 'http://023yc.com/az/118080.html')"
      ]
     },
     "execution_count": 39,
     "metadata": {},
     "output_type": "execute_result"
    }
   ],
   "source": [
    "record = next(records)\n",
    "record.rec_type, record.rec_headers.get_header('WARC-Target-URI')"
   ]
  },
  {
   "cell_type": "markdown",
   "metadata": {},
   "source": [
    "And so on"
   ]
  },
  {
   "cell_type": "code",
   "execution_count": 40,
   "metadata": {},
   "outputs": [],
   "source": [
    "r.close()"
   ]
  },
  {
   "cell_type": "markdown",
   "metadata": {},
   "source": [
    "# Reading WET"
   ]
  },
  {
   "cell_type": "code",
   "execution_count": 41,
   "metadata": {},
   "outputs": [],
   "source": [
    "r = requests.get(wet_url, stream=True)\n",
    "records = ArchiveIterator(r.raw)"
   ]
  },
  {
   "cell_type": "markdown",
   "metadata": {},
   "source": [
    "First record is information about the crawl"
   ]
  },
  {
   "cell_type": "code",
   "execution_count": 42,
   "metadata": {},
   "outputs": [],
   "source": [
    "record = next(records)"
   ]
  },
  {
   "cell_type": "code",
   "execution_count": 43,
   "metadata": {},
   "outputs": [
    {
     "data": {
      "text/plain": [
       "'warcinfo'"
      ]
     },
     "execution_count": 43,
     "metadata": {},
     "output_type": "execute_result"
    }
   ],
   "source": [
    "record.rec_type"
   ]
  },
  {
   "cell_type": "code",
   "execution_count": 44,
   "metadata": {},
   "outputs": [],
   "source": [
    "a = record.content_stream().read()"
   ]
  },
  {
   "cell_type": "code",
   "execution_count": 45,
   "metadata": {},
   "outputs": [
    {
     "name": "stdout",
     "output_type": "stream",
     "text": [
      "Software-Info: ia-web-commons.1.1.10-SNAPSHOT-20200605094634\r\n",
      "Extracted-Date: Sun, 07 Jun 2020 16:56:24 GMT\r\n",
      "robots: checked via crawler-commons 1.1-SNAPSHOT (https://github.com/crawler-commons/crawler-commons)\r\n",
      "isPartOf: CC-MAIN-2020-24\r\n",
      "operator: Common Crawl Admin (info@commoncrawl.org)\r\n",
      "description: Wide crawl of the web for May/June 2020\r\n",
      "publisher: Common Crawl\r\n",
      "\r\n",
      "\n"
     ]
    }
   ],
   "source": [
    "print(a.decode('utf-8'))"
   ]
  },
  {
   "cell_type": "markdown",
   "metadata": {},
   "source": [
    "The WET file doesn't contain the headers just the title and text."
   ]
  },
  {
   "cell_type": "code",
   "execution_count": 46,
   "metadata": {},
   "outputs": [],
   "source": [
    "record = next(records)"
   ]
  },
  {
   "cell_type": "code",
   "execution_count": 47,
   "metadata": {},
   "outputs": [
    {
     "data": {
      "text/plain": [
       "'conversion'"
      ]
     },
     "execution_count": 47,
     "metadata": {},
     "output_type": "execute_result"
    }
   ],
   "source": [
    "record.rec_type"
   ]
  },
  {
   "cell_type": "code",
   "execution_count": 48,
   "metadata": {},
   "outputs": [
    {
     "data": {
      "text/plain": [
       "[('WARC-Type', 'conversion'),\n",
       " ('WARC-Target-URI', 'http://002397.cn/related_report/detail.php?id=866619'),\n",
       " ('WARC-Date', '2020-05-25T05:11:44Z'),\n",
       " ('WARC-Record-ID', '<urn:uuid:3020cc7c-fd30-4f3d-bbd7-8513f33cd83a>'),\n",
       " ('WARC-Refers-To', '<urn:uuid:10bc1a42-8c88-4369-a04e-7b77ca106e79>'),\n",
       " ('WARC-Block-Digest', 'sha1:QBZTGL7G53UVVTAZ5VOKXL3C7LRZ2FUR'),\n",
       " ('WARC-Identified-Content-Language', 'zho'),\n",
       " ('Content-Type', 'text/plain'),\n",
       " ('Content-Length', '9300')]"
      ]
     },
     "execution_count": 48,
     "metadata": {},
     "output_type": "execute_result"
    }
   ],
   "source": [
    "record.rec_headers.headers"
   ]
  },
  {
   "cell_type": "code",
   "execution_count": 49,
   "metadata": {},
   "outputs": [],
   "source": [
    "record.http_headers"
   ]
  },
  {
   "cell_type": "code",
   "execution_count": 50,
   "metadata": {},
   "outputs": [],
   "source": [
    "a = record.content_stream().read()"
   ]
  },
  {
   "cell_type": "markdown",
   "metadata": {},
   "source": [
    "The first line is the title of the page, everything else is the text."
   ]
  },
  {
   "cell_type": "code",
   "execution_count": 51,
   "metadata": {},
   "outputs": [
    {
     "name": "stdout",
     "output_type": "stream",
     "text": [
      "纺织服装行业周报:终端零售回暖,板块业绩等待验证 - 相关研报 - 梦洁股份(002397)\n",
      "梦洁股份(002397)\n",
      "移动版\n",
      "首页\n",
      "股票行情\n",
      "媒体报道\n",
      "相关新闻\n",
      "公司公告\n",
      "研究报告\n",
      "相关研报\n",
      "纺织服装行业周报:终端零售回暖,板块业绩等待验证\n",
      "发布时间：2017-02-12 研究机构：海通证券\n",
      "投资要点:\n",
      "市场回顾:本周(20170206-20170212)纺织服装板块上涨2.21%,跑赢上证综指0.41个百分点,在申万一级行业中列第十一。其中,纺织制造板块上涨2.58%,服装家纺板块上涨1.97%。个股方面,万里马、梦洁股份(002397)、摩登大道、美欣达、金发拉比等个股涨幅居前;探路者、星期六、希努尔、比音勒芬、山东如意跌幅靠前。从PE估值水平来看,纺织服装板块目前估值32.9倍(TTM,剔除负值),其中纺织制造板块32.0倍,服装家纺板块35.4倍。\n",
      "行业数据:零售方面,春节黄金周零售大幅回升,全国百家重点大型零售企业零售额同比增长2.8%,增速相比上年回升了9.4个百分点。其中服装类商品零售额同比增长4.1%,高于上年春节10.1个百分点。2017年1月份,全国50家重点大型零售企业零售额同比增长17.8%,这一增速与同样包含了春节假期的2014年1月份增速基本持平,高于2012年同期增速4.3个百分点,消费市场显示出较强的活力。出口方面,1月份出口现开门红。2017年1月,我国纺织品出口95.84亿美元,同比增长3.50%,服装及其附件出口143.20亿美元,同比增长1.85%,纺织品服装合计出口239.04亿美元,同比增长2.5%。 周组合跑赢行业指数:跨境通(+7.34%),歌力思(+1.13%),美盛文化(+0.18%),乔治白(+2.23%),按照各1/4的权重,组合收益+2.72%。\n",
      "周观点: 本周,我们对纺织服装板块2016年业绩前瞻进行了整理,共计57家公司先后发布了2016E业绩预告,其中,33家预告业绩增长,5家预告业绩持平/下滑(+5%~-10%),19家预告业绩下滑。 纺织行业率先回暖。我们认为纺织制造子版块业绩有所改善的主要原因有:1)一方面制造业出口比例较高,受益于人民币贬值带来的出口形势的改善,以及部分汇兑损益对报表带来的正面影响;2)制造业下游客户多为优质品牌商,其中海外龙头品牌由于其全球销售的性质,更广泛享受消费复苏的影响\n"
     ]
    }
   ],
   "source": [
    "print(a.decode('utf-8')[:1000])"
   ]
  },
  {
   "cell_type": "code",
   "execution_count": 52,
   "metadata": {},
   "outputs": [
    {
     "data": {
      "text/plain": [
       "'conversion'"
      ]
     },
     "execution_count": 52,
     "metadata": {},
     "output_type": "execute_result"
    }
   ],
   "source": [
    "record = next(records)\n",
    "record.rec_type"
   ]
  },
  {
   "cell_type": "code",
   "execution_count": 53,
   "metadata": {},
   "outputs": [
    {
     "data": {
      "text/plain": [
       "'http://003364.cn/j78/453618.html'"
      ]
     },
     "execution_count": 53,
     "metadata": {},
     "output_type": "execute_result"
    }
   ],
   "source": [
    "record.rec_headers.get_header('WARC-Target-URI')"
   ]
  },
  {
   "cell_type": "code",
   "execution_count": 54,
   "metadata": {},
   "outputs": [],
   "source": [
    "a = record.content_stream().read()"
   ]
  },
  {
   "cell_type": "markdown",
   "metadata": {},
   "source": [
    "This page seems to be broken PHP?"
   ]
  },
  {
   "cell_type": "code",
   "execution_count": 55,
   "metadata": {},
   "outputs": [
    {
     "name": "stdout",
     "output_type": "stream",
     "text": [
      "Can not fopen please check the file or PHP.INI\n"
     ]
    }
   ],
   "source": [
    "print(a.decode('utf-8')[:1000])"
   ]
  },
  {
   "cell_type": "markdown",
   "metadata": {},
   "source": [
    "And the next page"
   ]
  },
  {
   "cell_type": "code",
   "execution_count": 56,
   "metadata": {},
   "outputs": [
    {
     "data": {
      "text/plain": [
       "'conversion'"
      ]
     },
     "execution_count": 56,
     "metadata": {},
     "output_type": "execute_result"
    }
   ],
   "source": [
    "record = next(records)\n",
    "record.rec_type"
   ]
  },
  {
   "cell_type": "code",
   "execution_count": 57,
   "metadata": {},
   "outputs": [
    {
     "data": {
      "text/plain": [
       "'http://010yingkelawyer.com/case/2018-09-25/408.html'"
      ]
     },
     "execution_count": 57,
     "metadata": {},
     "output_type": "execute_result"
    }
   ],
   "source": [
    "record.rec_headers.get_header('WARC-Target-URI')"
   ]
  },
  {
   "cell_type": "code",
   "execution_count": 58,
   "metadata": {},
   "outputs": [],
   "source": [
    "a = record.content_stream().read()"
   ]
  },
  {
   "cell_type": "markdown",
   "metadata": {},
   "source": [
    "More text"
   ]
  },
  {
   "cell_type": "code",
   "execution_count": 59,
   "metadata": {},
   "outputs": [
    {
     "name": "stdout",
     "output_type": "stream",
     "text": [
      "北京刑事律师 彭坤律师辩护北某某非法吸收公众存款／集资诈骗案，成功案例\n",
      "北京市盈科律师事务所\n",
      "北京著名刑事辩护律师\n",
      "13911269079\n",
      "首页\n",
      "律师简介\n",
      "律师文集\n",
      "业务领域\n",
      "贪污贿赂\n",
      "职务犯罪\n",
      "经济犯罪\n",
      "涉黑犯罪\n",
      "海关走私\n",
      "死刑复核\n",
      "刑事再审\n",
      "经典案例\n",
      "团队风采\n",
      "荣誉展示\n",
      "在线留言\n",
      "联系我们\n",
      "您现在的位置是：首页 > 经典案例\n",
      "北京刑事律师 彭坤律师辩护北某某非法吸收公众存款／集资诈骗案，成功案例\n",
      "发布时间：2018-09-25 15:10:16 浏览次数：\n",
      "案情简介：\n",
      "北某某与庞某是夫妻关系，2010年加盟青岛某某投资管理有限公司后于2010年8月31日注册成立某某县银基信息咨询有限公司，公司，非法向社会不特定人员吸收存款344443000元，为维护平台正常运营，包装假标、过期的标，一标多融、加大自融等方式继续吸收资金，最终因客观原因，平台爆雷，截止案发未偿还贷款126060800元，公安机关以非法吸收公众存款罪、集资诈骗罪立案，案件到检后，本人多次与承办检察官沟通，据理力争，成功说服检察官仅以非法吸收公众存款罪追究我的当事人刑事责任。\n",
      "案件结果：\n",
      "第一被告犯非法吸收公众存款罪、集资诈骗罪，判处无期徒刑；第二被告犯非法吸收公众存款罪判处5年有期徒刑。\n",
      "本案的意义：\n",
      "非法集资案件，对平台负责人来讲，如果平台爆雷，大多多数案件都是以非法吸收公众存款罪、集资诈骗罪追究责任，可想而知，这类案件数额都特别巨大，一旦认定为集资诈骗，就是无期徒刑，大多数平台都存在以后面吸收的资金偿还前面本息的情况，俗称有“拆东墙补西墙”情况，关键是怎么区分非吸还是集资诈骗， “拆东墙补西墙”行为、资金的去向、标的的真假是判断的主要因素，《非法集资解释理解与适用》认为，“拆东墙补西墙”不能单独评价行为是否具有“非法占有为目的”，还应当结合其他情节综合判断，支付本息是非法集资的一个基本特征，在一定意义上，按期支付本金和高额回报反而有可能说明行为人主观上没有非法占有目的，本案，本人成功说服检察官，仅以非法吸收公众存款罪追究北某某的刑事责任。\n",
      "上一篇: 北京刑事律师 彭坤办理非法利用信息网络案 成功取保候审\t\n",
      "下一篇: 北京刑事律师 彭坤主办青岛赵某、孙某某诈骗案 二审撤销原判发回重审\t\n",
      "首页 | 律师简介 | 法律资讯 | 业务领域 | 经典案例 | 团队风采 | 在线留言 | 联系我们\n",
      "Copy\n"
     ]
    }
   ],
   "source": [
    "print(a.decode('utf-8')[:1000])"
   ]
  },
  {
   "cell_type": "code",
   "execution_count": 60,
   "metadata": {},
   "outputs": [],
   "source": [
    "r.close()"
   ]
  },
  {
   "cell_type": "markdown",
   "metadata": {},
   "source": [
    "# Reading WAT"
   ]
  },
  {
   "cell_type": "code",
   "execution_count": 61,
   "metadata": {},
   "outputs": [],
   "source": [
    "r = requests.get(wat_url, stream=True)\n",
    "records = ArchiveIterator(r.raw)"
   ]
  },
  {
   "cell_type": "markdown",
   "metadata": {},
   "source": [
    "Again the first record is a header"
   ]
  },
  {
   "cell_type": "code",
   "execution_count": 62,
   "metadata": {},
   "outputs": [],
   "source": [
    "record = next(records)"
   ]
  },
  {
   "cell_type": "code",
   "execution_count": 63,
   "metadata": {},
   "outputs": [
    {
     "data": {
      "text/plain": [
       "'warcinfo'"
      ]
     },
     "execution_count": 63,
     "metadata": {},
     "output_type": "execute_result"
    }
   ],
   "source": [
    "record.rec_type"
   ]
  },
  {
   "cell_type": "code",
   "execution_count": 64,
   "metadata": {},
   "outputs": [
    {
     "name": "stdout",
     "output_type": "stream",
     "text": [
      "Software-Info: ia-web-commons.1.1.10-SNAPSHOT-20200605094634\r\n",
      "Extracted-Date: Sun, 07 Jun 2020 16:56:24 GMT\r\n",
      "ip: 10.67.67.60\r\n",
      "hostname: ip-10-67-67-60.ec2.internal\r\n",
      "format: WARC File Format 1.0\r\n",
      "conformsTo: http://bibnum.bnf.fr/WARC/WARC_ISO_28500_version1_latestdraft.pdf\r\n",
      "\r\n",
      "\n"
     ]
    }
   ],
   "source": [
    "a = record.content_stream().read()\n",
    "print(a.decode('utf-8'))"
   ]
  },
  {
   "cell_type": "markdown",
   "metadata": {},
   "source": [
    "The next one is metadata about the WARC records themselves"
   ]
  },
  {
   "cell_type": "code",
   "execution_count": 65,
   "metadata": {},
   "outputs": [],
   "source": [
    "record = next(records)"
   ]
  },
  {
   "cell_type": "code",
   "execution_count": 66,
   "metadata": {},
   "outputs": [
    {
     "data": {
      "text/plain": [
       "'metadata'"
      ]
     },
     "execution_count": 66,
     "metadata": {},
     "output_type": "execute_result"
    }
   ],
   "source": [
    "record.rec_type"
   ]
  },
  {
   "cell_type": "code",
   "execution_count": 67,
   "metadata": {},
   "outputs": [
    {
     "data": {
      "text/plain": [
       "[('WARC-Type', 'metadata'),\n",
       " ('WARC-Target-URI', 'CC-MAIN-20200525032636-20200525062636-00381.warc.gz'),\n",
       " ('WARC-Date', '2020-06-07T16:56:24Z'),\n",
       " ('WARC-Record-ID', '<urn:uuid:06070eb0-5afe-4a0c-9c6c-f0d4188414ec>'),\n",
       " ('WARC-Refers-To', '<urn:uuid:40b0c676-a143-44c9-bde5-ad0e9999cb04>'),\n",
       " ('Content-Type', 'application/json'),\n",
       " ('Content-Length', '1239')]"
      ]
     },
     "execution_count": 67,
     "metadata": {},
     "output_type": "execute_result"
    }
   ],
   "source": [
    "record.rec_headers.headers"
   ]
  },
  {
   "cell_type": "code",
   "execution_count": 68,
   "metadata": {},
   "outputs": [],
   "source": [
    "record.http_headers"
   ]
  },
  {
   "cell_type": "code",
   "execution_count": 69,
   "metadata": {},
   "outputs": [],
   "source": [
    "a = record.content_stream().read()"
   ]
  },
  {
   "cell_type": "code",
   "execution_count": 70,
   "metadata": {},
   "outputs": [
    {
     "data": {
      "text/plain": [
       "{'Container': {'Filename': 'CC-MAIN-20200525032636-20200525062636-00381.warc.gz',\n",
       "  'Compressed': True,\n",
       "  'Offset': '0',\n",
       "  'Gzip-Metadata': {'Deflate-Length': '481',\n",
       "   'Header-Length': '10',\n",
       "   'Footer-Length': '8',\n",
       "   'Inflated-CRC': '1190498035',\n",
       "   'Inflated-Length': '766'}},\n",
       " 'Envelope': {'Payload-Metadata': {'Actual-Content-Length': '503',\n",
       "   'Block-Digest': 'sha1:XUOM4YJTGT5VXOY2XJ5KNXDHKNMYUPQA',\n",
       "   'Trailing-Slop-Length': '0',\n",
       "   'Headers-Corrupt': True,\n",
       "   'Actual-Content-Type': 'application/warc-fields',\n",
       "   'WARC-Info-Metadata': {'isPartOf': 'CC-MAIN-2020-24',\n",
       "    'publisher': 'Common Crawl',\n",
       "    'description': 'Wide crawl of the web for May/June 2020',\n",
       "    'operator': 'Common Crawl Admin (info@commoncrawl.org)',\n",
       "    'hostname': 'ip-10-67-67-182.ec2.internal',\n",
       "    'software': 'Apache Nutch 1.16 (modified, https://github.com/commoncrawl/nutch/)',\n",
       "    'robots': 'checked via crawler-commons 1.1-SNAPSHOT (https://github.com/crawler-commons/crawler-commons)',\n",
       "    'format': 'WARC File Format 1.1'}},\n",
       "  'Format': 'WARC',\n",
       "  'WARC-Header-Length': '259',\n",
       "  'WARC-Header-Metadata': {'WARC-Type': 'warcinfo',\n",
       "   'WARC-Date': '2020-05-25T03:26:36Z',\n",
       "   'WARC-Record-ID': '<urn:uuid:40b0c676-a143-44c9-bde5-ad0e9999cb04>',\n",
       "   'Content-Length': '503',\n",
       "   'Content-Type': 'application/warc-fields',\n",
       "   'WARC-Filename': 'CC-MAIN-20200525032636-20200525062636-00381.warc.gz'}}}"
      ]
     },
     "execution_count": 70,
     "metadata": {},
     "output_type": "execute_result"
    }
   ],
   "source": [
    "data = json.loads(a.decode('utf-8'))\n",
    "data"
   ]
  },
  {
   "cell_type": "markdown",
   "metadata": {},
   "source": [
    "The next request contains all the metadata of the first *request*"
   ]
  },
  {
   "cell_type": "code",
   "execution_count": 71,
   "metadata": {},
   "outputs": [],
   "source": [
    "record = next(records)"
   ]
  },
  {
   "cell_type": "code",
   "execution_count": 72,
   "metadata": {},
   "outputs": [
    {
     "data": {
      "text/plain": [
       "'metadata'"
      ]
     },
     "execution_count": 72,
     "metadata": {},
     "output_type": "execute_result"
    }
   ],
   "source": [
    "record.rec_type"
   ]
  },
  {
   "cell_type": "code",
   "execution_count": 73,
   "metadata": {},
   "outputs": [
    {
     "data": {
      "text/plain": [
       "[('WARC-Type', 'metadata'),\n",
       " ('WARC-Target-URI', 'http://002397.cn/related_report/detail.php?id=866619'),\n",
       " ('WARC-Date', '2020-06-07T16:56:24Z'),\n",
       " ('WARC-Record-ID', '<urn:uuid:56945f62-e374-4572-9e2c-f5954ed588ed>'),\n",
       " ('WARC-Refers-To', '<urn:uuid:b14093da-51b7-4f61-8fa5-4630084209d9>'),\n",
       " ('Content-Type', 'application/json'),\n",
       " ('Content-Length', '1458')]"
      ]
     },
     "execution_count": 73,
     "metadata": {},
     "output_type": "execute_result"
    }
   ],
   "source": [
    "record.rec_headers.headers"
   ]
  },
  {
   "cell_type": "code",
   "execution_count": 74,
   "metadata": {},
   "outputs": [],
   "source": [
    "record.http_headers"
   ]
  },
  {
   "cell_type": "code",
   "execution_count": 75,
   "metadata": {},
   "outputs": [],
   "source": [
    "a = record.content_stream().read()"
   ]
  },
  {
   "cell_type": "markdown",
   "metadata": {},
   "source": [
    "Container shows where the WARC data is, this is about the request"
   ]
  },
  {
   "cell_type": "code",
   "execution_count": 76,
   "metadata": {},
   "outputs": [
    {
     "data": {
      "text/plain": [
       "{'Container': {'Filename': 'CC-MAIN-20200525032636-20200525062636-00381.warc.gz',\n",
       "  'Compressed': True,\n",
       "  'Offset': '481',\n",
       "  'Gzip-Metadata': {'Deflate-Length': '479',\n",
       "   'Header-Length': '10',\n",
       "   'Footer-Length': '8',\n",
       "   'Inflated-CRC': '400586359',\n",
       "   'Inflated-Length': '706'}},\n",
       " 'Envelope': {'Payload-Metadata': {'Actual-Content-Type': 'application/http; msgtype=request',\n",
       "   'HTTP-Request-Metadata': {'Request-Message': {'Method': 'GET',\n",
       "     'Path': '/related_report/detail.php?id=866619',\n",
       "     'Version': 'HTTP/1.1'},\n",
       "    'Headers-Length': '328',\n",
       "    'Headers': {'User-Agent': 'CCBot/2.0 (https://commoncrawl.org/faq/)',\n",
       "     'Accept': 'text/html,application/xhtml+xml,application/xml;q=0.9,*/*;q=0.8',\n",
       "     'Accept-Language': 'en-US,en;q=0.5',\n",
       "     'If-Modified-Since': 'Fri, 28 Feb 2020 12:03:01 UTC',\n",
       "     'Accept-Encoding': 'br,gzip',\n",
       "     'Host': '002397.cn',\n",
       "     'Connection': 'Keep-Alive'},\n",
       "    'Entity-Length': '0',\n",
       "    'Entity-Digest': 'sha1:3I42H3S6NNFQ2MSVX7XZKYAYSCX5QBYJ',\n",
       "    'Entity-Trailing-Slop-Length': '0'},\n",
       "   'Actual-Content-Length': '330',\n",
       "   'Block-Digest': 'sha1:PVCMTRJPX7C5ZEWYAALER3IPUBR5A7S7',\n",
       "   'Trailing-Slop-Length': '4'},\n",
       "  'Format': 'WARC',\n",
       "  'WARC-Header-Length': '372',\n",
       "  'WARC-Header-Metadata': {'WARC-Type': 'request',\n",
       "   'WARC-Date': '2020-05-25T05:11:44Z',\n",
       "   'WARC-Record-ID': '<urn:uuid:b14093da-51b7-4f61-8fa5-4630084209d9>',\n",
       "   'Content-Length': '330',\n",
       "   'Content-Type': 'application/http; msgtype=request',\n",
       "   'WARC-Warcinfo-ID': '<urn:uuid:40b0c676-a143-44c9-bde5-ad0e9999cb04>',\n",
       "   'WARC-IP-Address': '124.156.125.238',\n",
       "   'WARC-Target-URI': 'http://002397.cn/related_report/detail.php?id=866619'}}}"
      ]
     },
     "execution_count": 76,
     "metadata": {},
     "output_type": "execute_result"
    }
   ],
   "source": [
    "data = json.loads(a.decode('utf-8'))\n",
    "data"
   ]
  },
  {
   "cell_type": "markdown",
   "metadata": {},
   "source": [
    "Notice it's HTTP-Request-Metadata"
   ]
  },
  {
   "cell_type": "code",
   "execution_count": 77,
   "metadata": {},
   "outputs": [
    {
     "data": {
      "text/plain": [
       "{'Payload-Metadata': {'Actual-Content-Type': 'application/http; msgtype=request',\n",
       "  'HTTP-Request-Metadata': {'Request-Message': {'Method': 'GET',\n",
       "    'Path': '/related_report/detail.php?id=866619',\n",
       "    'Version': 'HTTP/1.1'},\n",
       "   'Headers-Length': '328',\n",
       "   'Headers': {'User-Agent': 'CCBot/2.0 (https://commoncrawl.org/faq/)',\n",
       "    'Accept': 'text/html,application/xhtml+xml,application/xml;q=0.9,*/*;q=0.8',\n",
       "    'Accept-Language': 'en-US,en;q=0.5',\n",
       "    'If-Modified-Since': 'Fri, 28 Feb 2020 12:03:01 UTC',\n",
       "    'Accept-Encoding': 'br,gzip',\n",
       "    'Host': '002397.cn',\n",
       "    'Connection': 'Keep-Alive'},\n",
       "   'Entity-Length': '0',\n",
       "   'Entity-Digest': 'sha1:3I42H3S6NNFQ2MSVX7XZKYAYSCX5QBYJ',\n",
       "   'Entity-Trailing-Slop-Length': '0'},\n",
       "  'Actual-Content-Length': '330',\n",
       "  'Block-Digest': 'sha1:PVCMTRJPX7C5ZEWYAALER3IPUBR5A7S7',\n",
       "  'Trailing-Slop-Length': '4'},\n",
       " 'Format': 'WARC',\n",
       " 'WARC-Header-Length': '372',\n",
       " 'WARC-Header-Metadata': {'WARC-Type': 'request',\n",
       "  'WARC-Date': '2020-05-25T05:11:44Z',\n",
       "  'WARC-Record-ID': '<urn:uuid:b14093da-51b7-4f61-8fa5-4630084209d9>',\n",
       "  'Content-Length': '330',\n",
       "  'Content-Type': 'application/http; msgtype=request',\n",
       "  'WARC-Warcinfo-ID': '<urn:uuid:40b0c676-a143-44c9-bde5-ad0e9999cb04>',\n",
       "  'WARC-IP-Address': '124.156.125.238',\n",
       "  'WARC-Target-URI': 'http://002397.cn/related_report/detail.php?id=866619'}}"
      ]
     },
     "execution_count": 77,
     "metadata": {},
     "output_type": "execute_result"
    }
   ],
   "source": [
    "data['Envelope']"
   ]
  },
  {
   "cell_type": "markdown",
   "metadata": {},
   "source": [
    "And the next one is about the *response*"
   ]
  },
  {
   "cell_type": "code",
   "execution_count": 78,
   "metadata": {},
   "outputs": [],
   "source": [
    "record = next(records)"
   ]
  },
  {
   "cell_type": "code",
   "execution_count": 79,
   "metadata": {},
   "outputs": [
    {
     "data": {
      "text/plain": [
       "'metadata'"
      ]
     },
     "execution_count": 79,
     "metadata": {},
     "output_type": "execute_result"
    }
   ],
   "source": [
    "record.rec_type"
   ]
  },
  {
   "cell_type": "code",
   "execution_count": 80,
   "metadata": {},
   "outputs": [
    {
     "data": {
      "text/plain": [
       "[('WARC-Type', 'metadata'),\n",
       " ('WARC-Target-URI', 'http://002397.cn/related_report/detail.php?id=866619'),\n",
       " ('WARC-Date', '2020-06-07T16:56:25Z'),\n",
       " ('WARC-Record-ID', '<urn:uuid:c72d34ed-8279-4653-8bd3-a53b0b072dc8>'),\n",
       " ('WARC-Refers-To', '<urn:uuid:10bc1a42-8c88-4369-a04e-7b77ca106e79>'),\n",
       " ('Content-Type', 'application/json'),\n",
       " ('Content-Length', '4048')]"
      ]
     },
     "execution_count": 80,
     "metadata": {},
     "output_type": "execute_result"
    }
   ],
   "source": [
    "record.rec_headers.headers"
   ]
  },
  {
   "cell_type": "code",
   "execution_count": 81,
   "metadata": {},
   "outputs": [],
   "source": [
    "record.http_headers"
   ]
  },
  {
   "cell_type": "code",
   "execution_count": 82,
   "metadata": {},
   "outputs": [],
   "source": [
    "a = record.content_stream().read()"
   ]
  },
  {
   "cell_type": "markdown",
   "metadata": {},
   "source": [
    "Envelope contains the details"
   ]
  },
  {
   "cell_type": "code",
   "execution_count": 83,
   "metadata": {},
   "outputs": [
    {
     "data": {
      "text/plain": [
       "{'Container': {'Filename': 'CC-MAIN-20200525032636-20200525062636-00381.warc.gz',\n",
       "  'Compressed': True,\n",
       "  'Offset': '960',\n",
       "  'Gzip-Metadata': {'Deflate-Length': '7317',\n",
       "   'Header-Length': '10',\n",
       "   'Footer-Length': '8',\n",
       "   'Inflated-CRC': '-219204245',\n",
       "   'Inflated-Length': '14929'}},\n",
       " 'Envelope': {'Payload-Metadata': {'Actual-Content-Type': 'application/http; msgtype=response',\n",
       "   'HTTP-Response-Metadata': {'Response-Message': {'Status': '200',\n",
       "     'Version': 'HTTP/1.1',\n",
       "     'Reason': 'OK'},\n",
       "    'Headers-Length': '410',\n",
       "    'Headers': {'Date': 'Mon, 25 May 2020 05:11:44 GMT',\n",
       "     'Content-Type': 'text/html',\n",
       "     'X-Crawler-Content-Length': '6641',\n",
       "     'Content-Length': '13911',\n",
       "     'Connection': 'keep-alive',\n",
       "     'Set-Cookie': 'tgw_l7_route=f60eebbcd438146c92bb28cfca9251e6; Expires=Mon, 25-May-2020 06:11:44 GMT; Path=/',\n",
       "     'Server': 'Apache/2.4.23 (Unix) OpenSSL/1.0.1e-fips PHP/5.4.16',\n",
       "     'X-Powered-By': 'PHP/5.4.16',\n",
       "     'Vary': 'Accept-Encoding',\n",
       "     'X-Crawler-Content-Encoding': 'gzip'},\n",
       "    'HTML-Metadata': {'Head': {'Title': '纺织服装行业周报:终端零售回暖,板块业绩等待验证 - 相关研报 - 梦洁股份(002397)',\n",
       "      'Metas': [{'name': 'mobile-agent',\n",
       "        'content': 'format=html5; url=detail_m.php?id=866619'},\n",
       "       {'name': 'mobile-agent',\n",
       "        'content': 'format=xhtml; url=detail_m.php?id=866619'},\n",
       "       {'name': 'keywords',\n",
       "        'content': '纺织服装行业周报:终端零售回暖,板块业绩等待验证,相关研报,梦洁股份,002397'},\n",
       "       {'name': 'description',\n",
       "        'content': '梦洁股份(002397)相关研报：纺织服装行业周报:终端零售回暖,板块业绩等待验证'}],\n",
       "      'Link': [{'path': 'LINK@/href',\n",
       "        'url': 'http://txt.inv.org.cn/ir/site/pc/css.css',\n",
       "        'rel': 'stylesheet',\n",
       "        'type': 'text/css'}],\n",
       "      'Scripts': [{'path': 'SCRIPT@/src',\n",
       "        'url': 'http://static.bshare.cn/b/buttonLite.js#style=-1&uuid=&pophcol=2&lang=zh',\n",
       "        'type': 'text/javascript'},\n",
       "       {'path': 'SCRIPT@/src',\n",
       "        'url': 'http://static.bshare.cn/b/bshareC0.js',\n",
       "        'type': 'text/javascript'},\n",
       "       {'path': 'SCRIPT@/src',\n",
       "        'url': '//pagead2.googlesyndication.com/pagead/js/adsbygoogle.js'},\n",
       "       {'path': 'SCRIPT@/src',\n",
       "        'url': '//pagead2.googlesyndication.com/pagead/js/adsbygoogle.js'}]},\n",
       "     'Links': [{'path': 'A@/href',\n",
       "       'url': '/',\n",
       "       'target': '_blank',\n",
       "       'text': '梦洁股份(002397)'},\n",
       "      {'path': 'A@/href',\n",
       "       'url': '/index_m.php',\n",
       "       'target': '_blank',\n",
       "       'text': '移动版'},\n",
       "      {'path': 'IMG@/src',\n",
       "       'url': 'http://img.inv.org.cn/broker/huasheng_pc.jpg'},\n",
       "      {'path': 'A@/href',\n",
       "       'url': 'https://hd.hstong.com/marketing/2019/0228?_scnl=OTg0NWJibzY0MTI3',\n",
       "       'target': '_blank'},\n",
       "      {'path': 'A@/href', 'url': '/', 'text': '首页'},\n",
       "      {'path': 'A@/href', 'url': '/quote/', 'text': '股票行情'},\n",
       "      {'path': 'A@/href', 'url': '/media_news/', 'text': '媒体报道'},\n",
       "      {'path': 'A@/href', 'url': '/related_news/', 'text': '相关新闻'},\n",
       "      {'path': 'A@/href', 'url': '/notice/', 'text': '公司公告'},\n",
       "      {'path': 'A@/href', 'url': '/report/', 'text': '研究报告'},\n",
       "      {'path': 'A@/href', 'url': '/related_report/', 'text': '相关研报'},\n",
       "      {'path': 'A@/href', 'url': '/', 'target': '_blank', 'text': '梦洁股份'},\n",
       "      {'path': 'A@/href', 'url': '/', 'target': '_blank', 'text': '002397'},\n",
       "      {'path': 'A@/href',\n",
       "       'url': 'http://www.bShare.cn/',\n",
       "       'title': '分享到',\n",
       "       'text': '分享到'},\n",
       "      {'path': 'IMG@/src', 'url': 'http://img.inv.org.cn/ad/zixun_pc.jpg'},\n",
       "      {'path': 'A@/href',\n",
       "       'url': 'http://stock.inv.org.cn',\n",
       "       'target': '_blank',\n",
       "       'text': '股票投资之家'}]},\n",
       "    'Entity-Length': '13911',\n",
       "    'Entity-Digest': 'sha1:RWL3CQY47VCKFOXJVZXBQP64U7RCFODH',\n",
       "    'Entity-Trailing-Slop-Length': '0'},\n",
       "   'Actual-Content-Length': '14321',\n",
       "   'Block-Digest': 'sha1:CNOLET4OGLWYCKDJUDAAVYF5YS3MCW4S',\n",
       "   'Trailing-Slop-Length': '4'},\n",
       "  'Format': 'WARC',\n",
       "  'WARC-Header-Length': '604',\n",
       "  'WARC-Header-Metadata': {'WARC-Type': 'response',\n",
       "   'WARC-Date': '2020-05-25T05:11:44Z',\n",
       "   'WARC-Record-ID': '<urn:uuid:10bc1a42-8c88-4369-a04e-7b77ca106e79>',\n",
       "   'Content-Length': '14321',\n",
       "   'Content-Type': 'application/http; msgtype=response',\n",
       "   'WARC-Warcinfo-ID': '<urn:uuid:40b0c676-a143-44c9-bde5-ad0e9999cb04>',\n",
       "   'WARC-Concurrent-To': '<urn:uuid:b14093da-51b7-4f61-8fa5-4630084209d9>',\n",
       "   'WARC-IP-Address': '124.156.125.238',\n",
       "   'WARC-Target-URI': 'http://002397.cn/related_report/detail.php?id=866619',\n",
       "   'WARC-Payload-Digest': 'sha1:RWL3CQY47VCKFOXJVZXBQP64U7RCFODH',\n",
       "   'WARC-Block-Digest': 'sha1:CNOLET4OGLWYCKDJUDAAVYF5YS3MCW4S',\n",
       "   'WARC-Identified-Payload-Type': 'text/html'}}}"
      ]
     },
     "execution_count": 83,
     "metadata": {},
     "output_type": "execute_result"
    }
   ],
   "source": [
    "data = json.loads(a.decode('utf-8'))\n",
    "data"
   ]
  },
  {
   "cell_type": "markdown",
   "metadata": {},
   "source": [
    "Here we've got the HTTP headers and response metadata"
   ]
  },
  {
   "cell_type": "code",
   "execution_count": 84,
   "metadata": {},
   "outputs": [
    {
     "data": {
      "text/plain": [
       "{'Actual-Content-Type': 'application/http; msgtype=response',\n",
       " 'HTTP-Response-Metadata': {'Response-Message': {'Status': '200',\n",
       "   'Version': 'HTTP/1.1',\n",
       "   'Reason': 'OK'},\n",
       "  'Headers-Length': '410',\n",
       "  'Headers': {'Date': 'Mon, 25 May 2020 05:11:44 GMT',\n",
       "   'Content-Type': 'text/html',\n",
       "   'X-Crawler-Content-Length': '6641',\n",
       "   'Content-Length': '13911',\n",
       "   'Connection': 'keep-alive',\n",
       "   'Set-Cookie': 'tgw_l7_route=f60eebbcd438146c92bb28cfca9251e6; Expires=Mon, 25-May-2020 06:11:44 GMT; Path=/',\n",
       "   'Server': 'Apache/2.4.23 (Unix) OpenSSL/1.0.1e-fips PHP/5.4.16',\n",
       "   'X-Powered-By': 'PHP/5.4.16',\n",
       "   'Vary': 'Accept-Encoding',\n",
       "   'X-Crawler-Content-Encoding': 'gzip'},\n",
       "  'HTML-Metadata': {'Head': {'Title': '纺织服装行业周报:终端零售回暖,板块业绩等待验证 - 相关研报 - 梦洁股份(002397)',\n",
       "    'Metas': [{'name': 'mobile-agent',\n",
       "      'content': 'format=html5; url=detail_m.php?id=866619'},\n",
       "     {'name': 'mobile-agent',\n",
       "      'content': 'format=xhtml; url=detail_m.php?id=866619'},\n",
       "     {'name': 'keywords',\n",
       "      'content': '纺织服装行业周报:终端零售回暖,板块业绩等待验证,相关研报,梦洁股份,002397'},\n",
       "     {'name': 'description',\n",
       "      'content': '梦洁股份(002397)相关研报：纺织服装行业周报:终端零售回暖,板块业绩等待验证'}],\n",
       "    'Link': [{'path': 'LINK@/href',\n",
       "      'url': 'http://txt.inv.org.cn/ir/site/pc/css.css',\n",
       "      'rel': 'stylesheet',\n",
       "      'type': 'text/css'}],\n",
       "    'Scripts': [{'path': 'SCRIPT@/src',\n",
       "      'url': 'http://static.bshare.cn/b/buttonLite.js#style=-1&uuid=&pophcol=2&lang=zh',\n",
       "      'type': 'text/javascript'},\n",
       "     {'path': 'SCRIPT@/src',\n",
       "      'url': 'http://static.bshare.cn/b/bshareC0.js',\n",
       "      'type': 'text/javascript'},\n",
       "     {'path': 'SCRIPT@/src',\n",
       "      'url': '//pagead2.googlesyndication.com/pagead/js/adsbygoogle.js'},\n",
       "     {'path': 'SCRIPT@/src',\n",
       "      'url': '//pagead2.googlesyndication.com/pagead/js/adsbygoogle.js'}]},\n",
       "   'Links': [{'path': 'A@/href',\n",
       "     'url': '/',\n",
       "     'target': '_blank',\n",
       "     'text': '梦洁股份(002397)'},\n",
       "    {'path': 'A@/href',\n",
       "     'url': '/index_m.php',\n",
       "     'target': '_blank',\n",
       "     'text': '移动版'},\n",
       "    {'path': 'IMG@/src',\n",
       "     'url': 'http://img.inv.org.cn/broker/huasheng_pc.jpg'},\n",
       "    {'path': 'A@/href',\n",
       "     'url': 'https://hd.hstong.com/marketing/2019/0228?_scnl=OTg0NWJibzY0MTI3',\n",
       "     'target': '_blank'},\n",
       "    {'path': 'A@/href', 'url': '/', 'text': '首页'},\n",
       "    {'path': 'A@/href', 'url': '/quote/', 'text': '股票行情'},\n",
       "    {'path': 'A@/href', 'url': '/media_news/', 'text': '媒体报道'},\n",
       "    {'path': 'A@/href', 'url': '/related_news/', 'text': '相关新闻'},\n",
       "    {'path': 'A@/href', 'url': '/notice/', 'text': '公司公告'},\n",
       "    {'path': 'A@/href', 'url': '/report/', 'text': '研究报告'},\n",
       "    {'path': 'A@/href', 'url': '/related_report/', 'text': '相关研报'},\n",
       "    {'path': 'A@/href', 'url': '/', 'target': '_blank', 'text': '梦洁股份'},\n",
       "    {'path': 'A@/href', 'url': '/', 'target': '_blank', 'text': '002397'},\n",
       "    {'path': 'A@/href',\n",
       "     'url': 'http://www.bShare.cn/',\n",
       "     'title': '分享到',\n",
       "     'text': '分享到'},\n",
       "    {'path': 'IMG@/src', 'url': 'http://img.inv.org.cn/ad/zixun_pc.jpg'},\n",
       "    {'path': 'A@/href',\n",
       "     'url': 'http://stock.inv.org.cn',\n",
       "     'target': '_blank',\n",
       "     'text': '股票投资之家'}]},\n",
       "  'Entity-Length': '13911',\n",
       "  'Entity-Digest': 'sha1:RWL3CQY47VCKFOXJVZXBQP64U7RCFODH',\n",
       "  'Entity-Trailing-Slop-Length': '0'},\n",
       " 'Actual-Content-Length': '14321',\n",
       " 'Block-Digest': 'sha1:CNOLET4OGLWYCKDJUDAAVYF5YS3MCW4S',\n",
       " 'Trailing-Slop-Length': '4'}"
      ]
     },
     "execution_count": 84,
     "metadata": {},
     "output_type": "execute_result"
    }
   ],
   "source": [
    "data['Envelope']['Payload-Metadata']"
   ]
  },
  {
   "cell_type": "code",
   "execution_count": 85,
   "metadata": {
    "scrolled": true
   },
   "outputs": [
    {
     "data": {
      "text/plain": [
       "{'Response-Message': {'Status': '200', 'Version': 'HTTP/1.1', 'Reason': 'OK'},\n",
       " 'Headers-Length': '410',\n",
       " 'Headers': {'Date': 'Mon, 25 May 2020 05:11:44 GMT',\n",
       "  'Content-Type': 'text/html',\n",
       "  'X-Crawler-Content-Length': '6641',\n",
       "  'Content-Length': '13911',\n",
       "  'Connection': 'keep-alive',\n",
       "  'Set-Cookie': 'tgw_l7_route=f60eebbcd438146c92bb28cfca9251e6; Expires=Mon, 25-May-2020 06:11:44 GMT; Path=/',\n",
       "  'Server': 'Apache/2.4.23 (Unix) OpenSSL/1.0.1e-fips PHP/5.4.16',\n",
       "  'X-Powered-By': 'PHP/5.4.16',\n",
       "  'Vary': 'Accept-Encoding',\n",
       "  'X-Crawler-Content-Encoding': 'gzip'},\n",
       " 'HTML-Metadata': {'Head': {'Title': '纺织服装行业周报:终端零售回暖,板块业绩等待验证 - 相关研报 - 梦洁股份(002397)',\n",
       "   'Metas': [{'name': 'mobile-agent',\n",
       "     'content': 'format=html5; url=detail_m.php?id=866619'},\n",
       "    {'name': 'mobile-agent',\n",
       "     'content': 'format=xhtml; url=detail_m.php?id=866619'},\n",
       "    {'name': 'keywords',\n",
       "     'content': '纺织服装行业周报:终端零售回暖,板块业绩等待验证,相关研报,梦洁股份,002397'},\n",
       "    {'name': 'description',\n",
       "     'content': '梦洁股份(002397)相关研报：纺织服装行业周报:终端零售回暖,板块业绩等待验证'}],\n",
       "   'Link': [{'path': 'LINK@/href',\n",
       "     'url': 'http://txt.inv.org.cn/ir/site/pc/css.css',\n",
       "     'rel': 'stylesheet',\n",
       "     'type': 'text/css'}],\n",
       "   'Scripts': [{'path': 'SCRIPT@/src',\n",
       "     'url': 'http://static.bshare.cn/b/buttonLite.js#style=-1&uuid=&pophcol=2&lang=zh',\n",
       "     'type': 'text/javascript'},\n",
       "    {'path': 'SCRIPT@/src',\n",
       "     'url': 'http://static.bshare.cn/b/bshareC0.js',\n",
       "     'type': 'text/javascript'},\n",
       "    {'path': 'SCRIPT@/src',\n",
       "     'url': '//pagead2.googlesyndication.com/pagead/js/adsbygoogle.js'},\n",
       "    {'path': 'SCRIPT@/src',\n",
       "     'url': '//pagead2.googlesyndication.com/pagead/js/adsbygoogle.js'}]},\n",
       "  'Links': [{'path': 'A@/href',\n",
       "    'url': '/',\n",
       "    'target': '_blank',\n",
       "    'text': '梦洁股份(002397)'},\n",
       "   {'path': 'A@/href',\n",
       "    'url': '/index_m.php',\n",
       "    'target': '_blank',\n",
       "    'text': '移动版'},\n",
       "   {'path': 'IMG@/src', 'url': 'http://img.inv.org.cn/broker/huasheng_pc.jpg'},\n",
       "   {'path': 'A@/href',\n",
       "    'url': 'https://hd.hstong.com/marketing/2019/0228?_scnl=OTg0NWJibzY0MTI3',\n",
       "    'target': '_blank'},\n",
       "   {'path': 'A@/href', 'url': '/', 'text': '首页'},\n",
       "   {'path': 'A@/href', 'url': '/quote/', 'text': '股票行情'},\n",
       "   {'path': 'A@/href', 'url': '/media_news/', 'text': '媒体报道'},\n",
       "   {'path': 'A@/href', 'url': '/related_news/', 'text': '相关新闻'},\n",
       "   {'path': 'A@/href', 'url': '/notice/', 'text': '公司公告'},\n",
       "   {'path': 'A@/href', 'url': '/report/', 'text': '研究报告'},\n",
       "   {'path': 'A@/href', 'url': '/related_report/', 'text': '相关研报'},\n",
       "   {'path': 'A@/href', 'url': '/', 'target': '_blank', 'text': '梦洁股份'},\n",
       "   {'path': 'A@/href', 'url': '/', 'target': '_blank', 'text': '002397'},\n",
       "   {'path': 'A@/href',\n",
       "    'url': 'http://www.bShare.cn/',\n",
       "    'title': '分享到',\n",
       "    'text': '分享到'},\n",
       "   {'path': 'IMG@/src', 'url': 'http://img.inv.org.cn/ad/zixun_pc.jpg'},\n",
       "   {'path': 'A@/href',\n",
       "    'url': 'http://stock.inv.org.cn',\n",
       "    'target': '_blank',\n",
       "    'text': '股票投资之家'}]},\n",
       " 'Entity-Length': '13911',\n",
       " 'Entity-Digest': 'sha1:RWL3CQY47VCKFOXJVZXBQP64U7RCFODH',\n",
       " 'Entity-Trailing-Slop-Length': '0'}"
      ]
     },
     "execution_count": 85,
     "metadata": {},
     "output_type": "execute_result"
    }
   ],
   "source": [
    "data['Envelope']['Payload-Metadata']['HTTP-Response-Metadata']"
   ]
  },
  {
   "cell_type": "markdown",
   "metadata": {},
   "source": [
    "Contains from the head the title, metas and scripts, as well as links from the text itself."
   ]
  },
  {
   "cell_type": "code",
   "execution_count": 86,
   "metadata": {},
   "outputs": [
    {
     "data": {
      "text/plain": [
       "{'Head': {'Title': '纺织服装行业周报:终端零售回暖,板块业绩等待验证 - 相关研报 - 梦洁股份(002397)',\n",
       "  'Metas': [{'name': 'mobile-agent',\n",
       "    'content': 'format=html5; url=detail_m.php?id=866619'},\n",
       "   {'name': 'mobile-agent',\n",
       "    'content': 'format=xhtml; url=detail_m.php?id=866619'},\n",
       "   {'name': 'keywords',\n",
       "    'content': '纺织服装行业周报:终端零售回暖,板块业绩等待验证,相关研报,梦洁股份,002397'},\n",
       "   {'name': 'description',\n",
       "    'content': '梦洁股份(002397)相关研报：纺织服装行业周报:终端零售回暖,板块业绩等待验证'}],\n",
       "  'Link': [{'path': 'LINK@/href',\n",
       "    'url': 'http://txt.inv.org.cn/ir/site/pc/css.css',\n",
       "    'rel': 'stylesheet',\n",
       "    'type': 'text/css'}],\n",
       "  'Scripts': [{'path': 'SCRIPT@/src',\n",
       "    'url': 'http://static.bshare.cn/b/buttonLite.js#style=-1&uuid=&pophcol=2&lang=zh',\n",
       "    'type': 'text/javascript'},\n",
       "   {'path': 'SCRIPT@/src',\n",
       "    'url': 'http://static.bshare.cn/b/bshareC0.js',\n",
       "    'type': 'text/javascript'},\n",
       "   {'path': 'SCRIPT@/src',\n",
       "    'url': '//pagead2.googlesyndication.com/pagead/js/adsbygoogle.js'},\n",
       "   {'path': 'SCRIPT@/src',\n",
       "    'url': '//pagead2.googlesyndication.com/pagead/js/adsbygoogle.js'}]},\n",
       " 'Links': [{'path': 'A@/href',\n",
       "   'url': '/',\n",
       "   'target': '_blank',\n",
       "   'text': '梦洁股份(002397)'},\n",
       "  {'path': 'A@/href',\n",
       "   'url': '/index_m.php',\n",
       "   'target': '_blank',\n",
       "   'text': '移动版'},\n",
       "  {'path': 'IMG@/src', 'url': 'http://img.inv.org.cn/broker/huasheng_pc.jpg'},\n",
       "  {'path': 'A@/href',\n",
       "   'url': 'https://hd.hstong.com/marketing/2019/0228?_scnl=OTg0NWJibzY0MTI3',\n",
       "   'target': '_blank'},\n",
       "  {'path': 'A@/href', 'url': '/', 'text': '首页'},\n",
       "  {'path': 'A@/href', 'url': '/quote/', 'text': '股票行情'},\n",
       "  {'path': 'A@/href', 'url': '/media_news/', 'text': '媒体报道'},\n",
       "  {'path': 'A@/href', 'url': '/related_news/', 'text': '相关新闻'},\n",
       "  {'path': 'A@/href', 'url': '/notice/', 'text': '公司公告'},\n",
       "  {'path': 'A@/href', 'url': '/report/', 'text': '研究报告'},\n",
       "  {'path': 'A@/href', 'url': '/related_report/', 'text': '相关研报'},\n",
       "  {'path': 'A@/href', 'url': '/', 'target': '_blank', 'text': '梦洁股份'},\n",
       "  {'path': 'A@/href', 'url': '/', 'target': '_blank', 'text': '002397'},\n",
       "  {'path': 'A@/href',\n",
       "   'url': 'http://www.bShare.cn/',\n",
       "   'title': '分享到',\n",
       "   'text': '分享到'},\n",
       "  {'path': 'IMG@/src', 'url': 'http://img.inv.org.cn/ad/zixun_pc.jpg'},\n",
       "  {'path': 'A@/href',\n",
       "   'url': 'http://stock.inv.org.cn',\n",
       "   'target': '_blank',\n",
       "   'text': '股票投资之家'}]}"
      ]
     },
     "execution_count": 86,
     "metadata": {},
     "output_type": "execute_result"
    }
   ],
   "source": [
    "data['Envelope']['Payload-Metadata']['HTTP-Response-Metadata']['HTML-Metadata']"
   ]
  },
  {
   "cell_type": "markdown",
   "metadata": {},
   "source": [
    "The next record corresponds to the metadata of the request"
   ]
  },
  {
   "cell_type": "code",
   "execution_count": 87,
   "metadata": {},
   "outputs": [],
   "source": [
    "record = next(records)"
   ]
  },
  {
   "cell_type": "code",
   "execution_count": 88,
   "metadata": {},
   "outputs": [
    {
     "data": {
      "text/plain": [
       "'metadata'"
      ]
     },
     "execution_count": 88,
     "metadata": {},
     "output_type": "execute_result"
    }
   ],
   "source": [
    "record.rec_type"
   ]
  },
  {
   "cell_type": "code",
   "execution_count": 89,
   "metadata": {},
   "outputs": [
    {
     "data": {
      "text/plain": [
       "[('WARC-Type', 'metadata'),\n",
       " ('WARC-Target-URI', 'http://002397.cn/related_report/detail.php?id=866619'),\n",
       " ('WARC-Date', '2020-06-07T16:56:25Z'),\n",
       " ('WARC-Record-ID', '<urn:uuid:0802c5dc-77da-405c-851a-63b642fa2cef>'),\n",
       " ('WARC-Refers-To', '<urn:uuid:ce3946a5-f44b-417c-ab8c-3d32e7db40f7>'),\n",
       " ('Content-Type', 'application/json'),\n",
       " ('Content-Length', '1243')]"
      ]
     },
     "execution_count": 89,
     "metadata": {},
     "output_type": "execute_result"
    }
   ],
   "source": [
    "record.rec_headers.headers"
   ]
  },
  {
   "cell_type": "code",
   "execution_count": 90,
   "metadata": {},
   "outputs": [],
   "source": [
    "a = record.content_stream().read()"
   ]
  },
  {
   "cell_type": "markdown",
   "metadata": {},
   "source": [
    "This envelope contains WARC-Metadata-Metadata, this covers all the actual metadata in the metadata record."
   ]
  },
  {
   "cell_type": "code",
   "execution_count": 91,
   "metadata": {},
   "outputs": [
    {
     "data": {
      "text/plain": [
       "{'Container': {'Filename': 'CC-MAIN-20200525032636-20200525062636-00381.warc.gz',\n",
       "  'Compressed': True,\n",
       "  'Offset': '8277',\n",
       "  'Gzip-Metadata': {'Deflate-Length': '434',\n",
       "   'Header-Length': '10',\n",
       "   'Footer-Length': '8',\n",
       "   'Inflated-CRC': '-1977350947',\n",
       "   'Inflated-Length': '603'}},\n",
       " 'Envelope': {'Payload-Metadata': {'Actual-Content-Type': 'application/metadata-fields',\n",
       "   'WARC-Metadata-Metadata': {'Metadata-Records': [{'Name': 'fetchTimeMs',\n",
       "      'Value': '731'},\n",
       "     {'Name': 'charset-detected', 'Value': 'UTF-8'},\n",
       "     {'Name': 'languages-cld2',\n",
       "      'Value': '{\"reliable\":true,\"text-bytes\":8659,\"languages\":[{\"code\":\"zh\",\"code-iso-639-3\":\"zho\",\"text-covered\":0.98,\"score\":2026.0,\"name\":\"Chinese\"}]}'}]},\n",
       "   'Actual-Content-Length': '201',\n",
       "   'Block-Digest': 'sha1:ZFJEHS5NUU3WCOEYR63VLFIQIYHFSN7I',\n",
       "   'Trailing-Slop-Length': '0'},\n",
       "  'Format': 'WARC',\n",
       "  'WARC-Header-Length': '398',\n",
       "  'WARC-Header-Metadata': {'WARC-Type': 'metadata',\n",
       "   'WARC-Date': '2020-05-25T05:11:44Z',\n",
       "   'WARC-Record-ID': '<urn:uuid:ce3946a5-f44b-417c-ab8c-3d32e7db40f7>',\n",
       "   'Content-Length': '201',\n",
       "   'Content-Type': 'application/warc-fields',\n",
       "   'WARC-Warcinfo-ID': '<urn:uuid:40b0c676-a143-44c9-bde5-ad0e9999cb04>',\n",
       "   'WARC-Concurrent-To': '<urn:uuid:10bc1a42-8c88-4369-a04e-7b77ca106e79>',\n",
       "   'WARC-Target-URI': 'http://002397.cn/related_report/detail.php?id=866619'}}}"
      ]
     },
     "execution_count": 91,
     "metadata": {},
     "output_type": "execute_result"
    }
   ],
   "source": [
    "data = json.loads(a)\n",
    "data"
   ]
  },
  {
   "cell_type": "markdown",
   "metadata": {},
   "source": [
    "And so on for the next few requests"
   ]
  },
  {
   "cell_type": "code",
   "execution_count": 92,
   "metadata": {},
   "outputs": [
    {
     "data": {
      "text/plain": [
       "('metadata', 'http://003364.cn/j78/453618.html')"
      ]
     },
     "execution_count": 92,
     "metadata": {},
     "output_type": "execute_result"
    }
   ],
   "source": [
    "record = next(records)\n",
    "record.rec_type, record.rec_headers.get_header('WARC-Target-URI')"
   ]
  },
  {
   "cell_type": "code",
   "execution_count": 93,
   "metadata": {},
   "outputs": [
    {
     "data": {
      "text/plain": [
       "dict_keys(['Actual-Content-Type', 'HTTP-Request-Metadata', 'Actual-Content-Length', 'Block-Digest', 'Trailing-Slop-Length'])"
      ]
     },
     "execution_count": 93,
     "metadata": {},
     "output_type": "execute_result"
    }
   ],
   "source": [
    "data = json.loads(record.content_stream().read())\n",
    "data['Envelope']['Payload-Metadata'].keys()"
   ]
  },
  {
   "cell_type": "code",
   "execution_count": 94,
   "metadata": {},
   "outputs": [
    {
     "data": {
      "text/plain": [
       "('metadata', 'http://003364.cn/j78/453618.html')"
      ]
     },
     "execution_count": 94,
     "metadata": {},
     "output_type": "execute_result"
    }
   ],
   "source": [
    "record = next(records)\n",
    "record.rec_type, record.rec_headers.get_header('WARC-Target-URI')"
   ]
  },
  {
   "cell_type": "code",
   "execution_count": 95,
   "metadata": {},
   "outputs": [
    {
     "data": {
      "text/plain": [
       "dict_keys(['Actual-Content-Type', 'HTTP-Response-Metadata', 'Actual-Content-Length', 'Block-Digest', 'Trailing-Slop-Length'])"
      ]
     },
     "execution_count": 95,
     "metadata": {},
     "output_type": "execute_result"
    }
   ],
   "source": [
    "data = json.loads(record.content_stream().read())\n",
    "data['Envelope']['Payload-Metadata'].keys()"
   ]
  },
  {
   "cell_type": "code",
   "execution_count": 96,
   "metadata": {},
   "outputs": [
    {
     "data": {
      "text/plain": [
       "('metadata', 'http://003364.cn/j78/453618.html')"
      ]
     },
     "execution_count": 96,
     "metadata": {},
     "output_type": "execute_result"
    }
   ],
   "source": [
    "record = next(records)\n",
    "record.rec_type, record.rec_headers.get_header('WARC-Target-URI')"
   ]
  },
  {
   "cell_type": "code",
   "execution_count": 97,
   "metadata": {},
   "outputs": [
    {
     "data": {
      "text/plain": [
       "dict_keys(['Actual-Content-Type', 'WARC-Metadata-Metadata', 'Actual-Content-Length', 'Block-Digest', 'Trailing-Slop-Length'])"
      ]
     },
     "execution_count": 97,
     "metadata": {},
     "output_type": "execute_result"
    }
   ],
   "source": [
    "data = json.loads(record.content_stream().read())\n",
    "data['Envelope']['Payload-Metadata'].keys()"
   ]
  },
  {
   "cell_type": "markdown",
   "metadata": {},
   "source": [
    "And so on"
   ]
  },
  {
   "cell_type": "code",
   "execution_count": 98,
   "metadata": {},
   "outputs": [
    {
     "data": {
      "text/plain": [
       "('metadata', 'http://010yingkelawyer.com/case/2018-09-25/408.html')"
      ]
     },
     "execution_count": 98,
     "metadata": {},
     "output_type": "execute_result"
    }
   ],
   "source": [
    "record = next(records)\n",
    "record.rec_type, record.rec_headers.get_header('WARC-Target-URI')"
   ]
  },
  {
   "cell_type": "code",
   "execution_count": 99,
   "metadata": {},
   "outputs": [
    {
     "data": {
      "text/plain": [
       "dict_keys(['Actual-Content-Type', 'HTTP-Request-Metadata', 'Actual-Content-Length', 'Block-Digest', 'Trailing-Slop-Length'])"
      ]
     },
     "execution_count": 99,
     "metadata": {},
     "output_type": "execute_result"
    }
   ],
   "source": [
    "data = json.loads(record.content_stream().read())\n",
    "data['Envelope']['Payload-Metadata'].keys()"
   ]
  },
  {
   "cell_type": "code",
   "execution_count": 100,
   "metadata": {},
   "outputs": [
    {
     "data": {
      "text/plain": [
       "('metadata', 'http://010yingkelawyer.com/case/2018-09-25/408.html')"
      ]
     },
     "execution_count": 100,
     "metadata": {},
     "output_type": "execute_result"
    }
   ],
   "source": [
    "record = next(records)\n",
    "record.rec_type, record.rec_headers.get_header('WARC-Target-URI')"
   ]
  },
  {
   "cell_type": "code",
   "execution_count": 101,
   "metadata": {},
   "outputs": [
    {
     "data": {
      "text/plain": [
       "dict_keys(['Actual-Content-Type', 'HTTP-Response-Metadata', 'Actual-Content-Length', 'Block-Digest', 'Trailing-Slop-Length'])"
      ]
     },
     "execution_count": 101,
     "metadata": {},
     "output_type": "execute_result"
    }
   ],
   "source": [
    "data = json.loads(record.content_stream().read())\n",
    "data['Envelope']['Payload-Metadata'].keys()"
   ]
  },
  {
   "cell_type": "code",
   "execution_count": 102,
   "metadata": {},
   "outputs": [
    {
     "data": {
      "text/plain": [
       "('metadata', 'http://010yingkelawyer.com/case/2018-09-25/408.html')"
      ]
     },
     "execution_count": 102,
     "metadata": {},
     "output_type": "execute_result"
    }
   ],
   "source": [
    "record = next(records)\n",
    "record.rec_type, record.rec_headers.get_header('WARC-Target-URI')"
   ]
  },
  {
   "cell_type": "code",
   "execution_count": 103,
   "metadata": {},
   "outputs": [
    {
     "data": {
      "text/plain": [
       "dict_keys(['Actual-Content-Type', 'WARC-Metadata-Metadata', 'Actual-Content-Length', 'Block-Digest', 'Trailing-Slop-Length'])"
      ]
     },
     "execution_count": 103,
     "metadata": {},
     "output_type": "execute_result"
    }
   ],
   "source": [
    "data = json.loads(record.content_stream().read())\n",
    "data['Envelope']['Payload-Metadata'].keys()"
   ]
  },
  {
   "cell_type": "code",
   "execution_count": 104,
   "metadata": {},
   "outputs": [],
   "source": [
    "r.close()"
   ]
  }
 ],
 "metadata": {
  "kernelspec": {
   "display_name": "Python 3",
   "language": "python",
   "name": "python3"
  },
  "language_info": {
   "codemirror_mode": {
    "name": "ipython",
    "version": 3
   },
   "file_extension": ".py",
   "mimetype": "text/x-python",
   "name": "python",
   "nbconvert_exporter": "python",
   "pygments_lexer": "ipython3",
   "version": "3.6.6"
  }
 },
 "nbformat": 4,
 "nbformat_minor": 2
}
