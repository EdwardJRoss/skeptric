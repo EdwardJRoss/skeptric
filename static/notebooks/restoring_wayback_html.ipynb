{
 "cells": [
  {
   "cell_type": "markdown",
   "id": "dda293ea",
   "metadata": {},
   "source": [
    "# Query Internet Archive CDX"
   ]
  },
  {
   "cell_type": "code",
   "execution_count": 1,
   "id": "51110b96",
   "metadata": {
    "scrolled": true
   },
   "outputs": [
    {
     "data": {
      "text/html": [
       "<div>\n",
       "<style scoped>\n",
       "    .dataframe tbody tr th:only-of-type {\n",
       "        vertical-align: middle;\n",
       "    }\n",
       "\n",
       "    .dataframe tbody tr th {\n",
       "        vertical-align: top;\n",
       "    }\n",
       "\n",
       "    .dataframe thead th {\n",
       "        text-align: right;\n",
       "    }\n",
       "</style>\n",
       "<table border=\"1\" class=\"dataframe\">\n",
       "  <thead>\n",
       "    <tr style=\"text-align: right;\">\n",
       "      <th></th>\n",
       "      <th>urlkey</th>\n",
       "      <th>timestamp</th>\n",
       "      <th>original</th>\n",
       "      <th>mimetype</th>\n",
       "      <th>statuscode</th>\n",
       "      <th>digest</th>\n",
       "      <th>length</th>\n",
       "    </tr>\n",
       "  </thead>\n",
       "  <tbody>\n",
       "    <tr>\n",
       "      <th>0</th>\n",
       "      <td>com,skeptric)/about</td>\n",
       "      <td>20211120235913</td>\n",
       "      <td>https://skeptric.com/about/</td>\n",
       "      <td>text/html</td>\n",
       "      <td>200</td>\n",
       "      <td>Z5NRUTRW3XTKZDCJFDKGPJ5BWIBNQCG7</td>\n",
       "      <td>3266</td>\n",
       "    </tr>\n",
       "  </tbody>\n",
       "</table>\n",
       "</div>"
      ],
      "text/plain": [
       "                urlkey       timestamp                     original  \\\n",
       "0  com,skeptric)/about  20211120235913  https://skeptric.com/about/   \n",
       "\n",
       "    mimetype statuscode                            digest length  \n",
       "0  text/html        200  Z5NRUTRW3XTKZDCJFDKGPJ5BWIBNQCG7   3266  "
      ]
     },
     "execution_count": 1,
     "metadata": {},
     "output_type": "execute_result"
    }
   ],
   "source": [
    "import requests\n",
    "r = requests.get('http://web.archive.org/cdx/search/cdx', \n",
    "                 params={'url': 'skeptric.com/about/', 'output': 'json', 'to': '202111'})\n",
    "\n",
    "captures = r.json()\n",
    "\n",
    "import pandas as pd\n",
    "df = pd.DataFrame(captures[1:], columns=captures[0])\n",
    "df"
   ]
  },
  {
   "cell_type": "code",
   "execution_count": 2,
   "id": "8099a6d0",
   "metadata": {},
   "outputs": [
    {
     "data": {
      "text/plain": [
       "urlkey                     com,skeptric)/about\n",
       "timestamp                       20211120235913\n",
       "original           https://skeptric.com/about/\n",
       "mimetype                             text/html\n",
       "statuscode                                 200\n",
       "digest        Z5NRUTRW3XTKZDCJFDKGPJ5BWIBNQCG7\n",
       "length                                    3266\n",
       "Name: 0, dtype: object"
      ]
     },
     "execution_count": 2,
     "metadata": {},
     "output_type": "execute_result"
    }
   ],
   "source": [
    "record = df.iloc[0]\n",
    "record"
   ]
  },
  {
   "cell_type": "markdown",
   "id": "e30e9d52",
   "metadata": {},
   "source": [
    "# Fetch Original and Archived Content"
   ]
  },
  {
   "cell_type": "markdown",
   "id": "3fe08c54",
   "metadata": {},
   "source": [
    "We can get the version available from the Wayback Machine like this:"
   ]
  },
  {
   "cell_type": "code",
   "execution_count": 3,
   "id": "09cd1602",
   "metadata": {},
   "outputs": [],
   "source": [
    "wayback_url = f'http://web.archive.org/web/{record.timestamp}/{record.original}'\n",
    "wayback_content = requests.get(wayback_url).content"
   ]
  },
  {
   "cell_type": "markdown",
   "id": "198883db",
   "metadata": {},
   "source": [
    "The digests don't match because the Internet Archive [changes the HTML](https://archive.org/post/1009990/cdx-digest-not-accurately-capturing-duplicates)"
   ]
  },
  {
   "cell_type": "code",
   "execution_count": 4,
   "id": "9e853f59",
   "metadata": {},
   "outputs": [],
   "source": [
    "from hashlib import sha1\n",
    "from base64 import b32encode\n",
    "\n",
    "def sha1_digest(content: bytes) -> str:\n",
    "    return b32encode(sha1(content).digest()).decode('ascii')"
   ]
  },
  {
   "cell_type": "code",
   "execution_count": 5,
   "id": "cb7981bf",
   "metadata": {},
   "outputs": [
    {
     "data": {
      "text/plain": [
       "'OXZ5C2VPDFFRV6U3CCNM6QT7VKND6SSE'"
      ]
     },
     "execution_count": 5,
     "metadata": {},
     "output_type": "execute_result"
    }
   ],
   "source": [
    "sha1_digest(wayback_content)"
   ]
  },
  {
   "cell_type": "markdown",
   "id": "3ac8b2fd",
   "metadata": {},
   "source": [
    "However we can get the original HTML captured:"
   ]
  },
  {
   "cell_type": "code",
   "execution_count": 6,
   "id": "c33bd990",
   "metadata": {},
   "outputs": [],
   "source": [
    "original_url = f'http://web.archive.org/web/{record.timestamp}id_/{record.original}'\n",
    "original_content = requests.get(original_url).content"
   ]
  },
  {
   "cell_type": "markdown",
   "id": "606d85a5",
   "metadata": {},
   "source": [
    "And the SHA-1 matches the CDX record"
   ]
  },
  {
   "cell_type": "code",
   "execution_count": 7,
   "id": "aedf83a3",
   "metadata": {},
   "outputs": [
    {
     "data": {
      "text/plain": [
       "True"
      ]
     },
     "execution_count": 7,
     "metadata": {},
     "output_type": "execute_result"
    }
   ],
   "source": [
    "sha1_digest(original_content) == record['digest']"
   ]
  },
  {
   "cell_type": "markdown",
   "id": "be0d69bc",
   "metadata": {},
   "source": [
    "Here's a capture of the website I made on 2021-12-01"
   ]
  },
  {
   "cell_type": "code",
   "execution_count": 8,
   "id": "df5f5a6c",
   "metadata": {},
   "outputs": [],
   "source": [
    "dec21_content = requests.get('https://raw.githubusercontent.com/EdwardJRoss/skeptric/98419583bc0c7b71ab9469250bbed924cdac448d/static/resources/about.html').content"
   ]
  },
  {
   "cell_type": "markdown",
   "id": "61cf49f4",
   "metadata": {},
   "source": [
    "And it's byte-for-byte the same are the snapshot"
   ]
  },
  {
   "cell_type": "code",
   "execution_count": 9,
   "id": "b140e8a7",
   "metadata": {},
   "outputs": [
    {
     "data": {
      "text/plain": [
       "True"
      ]
     },
     "execution_count": 9,
     "metadata": {},
     "output_type": "execute_result"
    }
   ],
   "source": [
    "dec21_content == original_content"
   ]
  },
  {
   "cell_type": "code",
   "execution_count": 10,
   "id": "b5f217cd",
   "metadata": {},
   "outputs": [
    {
     "data": {
      "text/plain": [
       "'Z5NRUTRW3XTKZDCJFDKGPJ5BWIBNQCG7'"
      ]
     },
     "execution_count": 10,
     "metadata": {},
     "output_type": "execute_result"
    }
   ],
   "source": [
    "sha1_digest(dec21_content)"
   ]
  },
  {
   "cell_type": "markdown",
   "id": "d5327e5a",
   "metadata": {},
   "source": [
    "# Removing Headers"
   ]
  },
  {
   "cell_type": "markdown",
   "id": "110f5f38",
   "metadata": {},
   "source": [
    "The Wayback Machine version injects a header just after the `<head>` tag down to `<-- End Wayback Rewrite JS Include-->`.\n",
    "\n",
    "It looks like a bit of javascript and some CSS (likely for tracking and adding banners, search, etc)"
   ]
  },
  {
   "cell_type": "code",
   "execution_count": 11,
   "id": "01ff19ca",
   "metadata": {},
   "outputs": [
    {
     "name": "stdout",
     "output_type": "stream",
     "text": [
      "<!DOCTYPE html>\n",
      "<html lang=\"en-us\">\n",
      "<head><script src=\"//archive.org/includes/analytics.js?v=cf34f82\" type=\"text/javascript\"></script>\n",
      "<script type=\"text/javascript\">window.addEventListener('DOMContentLoaded',function(){var v=archive_analytics.values;v.service='wb';v.server_name='wwwb-app216.us.archive.org';v.server_ms=347;archive_analytics.send_pageview({});});</script>\n",
      "<script type=\"text/javascript\" src=\"/_static/js/bundle-playback.js?v=UfTkgsKx\" charset=\"utf-8\"></script>\n",
      "<script type=\"text/javascript\" src=\"/_static/js/wombat.js?v=UHAOicsW\" charset=\"utf-8\"></script>\n",
      "<script type=\"text/javascript\">\n",
      "  __wm.init(\"http://web.archive.org/web\");\n",
      "  __wm.wombat(\"https://skeptric.com/about/\",\"20211120235913\",\"http://web.archive.org/\",\"web\",\"/_static/\",\n",
      "\t      \"1637452753\");\n",
      "</script>\n",
      "<link rel=\"stylesheet\" type=\"text/css\" href=\"/_static/css/banner-styles.css?v=omkqRugM\" />\n",
      "<link rel=\"stylesheet\" type=\"text/css\" href=\"/_static/css/iconochive.css?v=qtvMKcIJ\" />\n",
      "<!-- End Wayback Rewrite JS Include -->\n",
      "\n",
      "    <meta charset=\"utf-8\"/>\n",
      "    <meta http-equiv=\"X-UA-Compatible\" content=\"IE=edge\"/>\n",
      "\n",
      "    \n",
      "    \n",
      "    <title>About Skeptric · </title>\n",
      "\n",
      "    <meta name=\"HandheldFriendly\" content=\"True\"/>\n",
      "    <meta name=\"viewport\" content=\"width=device-width, initial-scale=1.0\"/>\n",
      "\n",
      "    \n",
      "    <link rel=\"stylesheet\" href=\"http://web.archive.org/web/20211120235913cs_/https://skeptric.com/style.main.min.5ea2f07be7e07e221a7112a3095b89d049b96c48b831f16f1015bf2d95d914e5.css\"/>\n",
      "<script async src=\"http://web.archiv\n"
     ]
    }
   ],
   "source": [
    "print(wayback_content[:1500].decode('utf-8'))"
   ]
  },
  {
   "cell_type": "markdown",
   "id": "51e8bec6",
   "metadata": {},
   "source": [
    "It's missing from the original"
   ]
  },
  {
   "cell_type": "code",
   "execution_count": 12,
   "id": "53ecccbf",
   "metadata": {},
   "outputs": [
    {
     "name": "stdout",
     "output_type": "stream",
     "text": [
      "<!DOCTYPE html>\n",
      "<html lang=\"en-us\">\n",
      "<head>\n",
      "    <meta charset=\"utf-8\" />\n",
      "    <meta http-equiv=\"X-UA-Compatible\" content=\"IE=edge\" />\n",
      "\n",
      "    \n",
      "    \n",
      "    <title>About Skeptric · </title>\n",
      "\n",
      "    <meta name=\"HandheldFriendly\" content=\"True\" />\n",
      "    <meta name=\"viewport\" content=\"width=device-width, initial-scale=1.0\" />\n",
      "\n",
      "    \n",
      "    <link rel=\"stylesheet\" href=\"https://skeptric.com/style.main.min.5ea2f07be7e07e221a7112a3095b89d049b96c48b831f16f1015bf2d95d914e5.css\" />\n",
      "<script async src=\"https://www.googletagm\n"
     ]
    }
   ],
   "source": [
    "print(original_content[:500].decode('utf-8'))"
   ]
  },
  {
   "cell_type": "code",
   "execution_count": 13,
   "id": "dafd49c6",
   "metadata": {},
   "outputs": [],
   "source": [
    "def remove_wayback_header(content):\n",
    "    _start = b'<script src=\"//archive.org/includes/analytics.js'\n",
    "    _end = b'<!-- End Wayback Rewrite JS Include -->\\n'\n",
    "    start_idx = content.find(_start)\n",
    "    end_idx = content.find(_end)\n",
    "    if start_idx < 0 or end_idx < 0:\n",
    "        raise ValueError(\"Could not find\")\n",
    "    return content[:start_idx] + content[end_idx+len(_end):]"
   ]
  },
  {
   "cell_type": "markdown",
   "id": "58d1e79a",
   "metadata": {},
   "source": [
    "After removing the header the start looks the same (except for the URL rewriting at the end)"
   ]
  },
  {
   "cell_type": "code",
   "execution_count": 14,
   "id": "3a36bcbc",
   "metadata": {},
   "outputs": [
    {
     "name": "stdout",
     "output_type": "stream",
     "text": [
      "<!DOCTYPE html>\n",
      "<html lang=\"en-us\">\n",
      "<head>\n",
      "    <meta charset=\"utf-8\"/>\n",
      "    <meta http-equiv=\"X-UA-Compatible\" content=\"IE=edge\"/>\n",
      "\n",
      "    \n",
      "    \n",
      "    <title>About Skeptric · </title>\n",
      "\n",
      "    <meta name=\"HandheldFriendly\" content=\"True\"/>\n",
      "    <meta name=\"viewport\" content=\"width=device-width, initial-scale=1.0\"/>\n",
      "\n",
      "    \n",
      "    <link rel=\"stylesheet\" href=\"http://web.archive.org/web/20211120235913cs_/https://skeptric.com/style.main.min.5ea2f07be7e07e221a7112a3095b89d049b96c48b831f16f1015bf2d95d914e5.css\"/>\n",
      "<\n"
     ]
    }
   ],
   "source": [
    "print(remove_wayback_header(wayback_content)[:500].decode('utf-8'))"
   ]
  },
  {
   "cell_type": "markdown",
   "id": "5c566f4c",
   "metadata": {},
   "source": [
    "# Removing Footers"
   ]
  },
  {
   "cell_type": "markdown",
   "id": "f258efaa",
   "metadata": {},
   "source": [
    "The Wayback Machine adds a bunch of footers about the capture and the archival and copyright notice."
   ]
  },
  {
   "cell_type": "code",
   "execution_count": 15,
   "id": "fe9f4270",
   "metadata": {},
   "outputs": [
    {
     "name": "stdout",
     "output_type": "stream",
     "text": [
      "=\"MathJax-script\" async src=\"http://web.archive.org/web/20211120235913js_/https://cdn.jsdelivr.net/npm/mathjax@3/es5/tex-mml-chtml.js\"></script>\n",
      "\n",
      "\n",
      "<script src=\"http://web.archive.org/web/20211120235913js_/https://cdn.jsdelivr.net/npm/mermaid/dist/mermaid.min.js\"></script>\n",
      "<script>mermaid.initialize({ startOnLoad: true, securityLevel: 'loose' });</script>\n",
      "\n",
      "</footer>\n",
      "\n",
      "    </div>\n",
      "\n",
      "</body>\n",
      "</html>\n",
      "<!--\n",
      "     FILE ARCHIVED ON 23:59:13 Nov 20, 2021 AND RETRIEVED FROM THE\n",
      "     INTERNET ARCHIVE ON 10:20:48 Dec 01, 2021.\n",
      "     JAVASCRIPT APPENDED BY WAYBACK MACHINE, COPYRIGHT INTERNET ARCHIVE.\n",
      "\n",
      "     ALL OTHER CONTENT MAY ALSO BE PROTECTED BY COPYRIGHT (17 U.S.C.\n",
      "     SECTION 108(a)(3)).\n",
      "-->\n",
      "<!--\n",
      "playback timings (ms):\n",
      "  captures_list: 204.223\n",
      "  exclusion.robots: 0.095\n",
      "  exclusion.robots.policy: 0.087\n",
      "  RedisCDXSource: 21.732\n",
      "  esindex: 0.008\n",
      "  LoadShardBlock: 161.202 (3)\n",
      "  PetaboxLoader3.datanode: 170.534 (4)\n",
      "  CDXLines.iter: 18.668 (3)\n",
      "  load_resource: 137.66\n",
      "  PetaboxLoader3.resolve: 57.198\n",
      "-->\n"
     ]
    }
   ],
   "source": [
    "print(wayback_content[-1000:].decode('utf-8'))"
   ]
  },
  {
   "cell_type": "code",
   "execution_count": 16,
   "id": "f3249757",
   "metadata": {},
   "outputs": [
    {
     "name": "stdout",
     "output_type": "stream",
     "text": [
      "ard-ross-4909ba13a/\" target=\"_blank\" rel=\"noopener\">LinkedIn</a>\n",
      "                </nav>\n",
      "            </div>\n",
      "<script src=\"https://polyfill.io/v3/polyfill.min.js?features=es6\"></script>\n",
      "<script id=\"MathJax-script\" async src=\"https://cdn.jsdelivr.net/npm/mathjax@3/es5/tex-mml-chtml.js\"></script>\n",
      "\n",
      "\n",
      "<script src=\"https://cdn.jsdelivr.net/npm/mermaid/dist/mermaid.min.js\"></script>\n",
      "<script>mermaid.initialize({ startOnLoad: true, securityLevel: 'loose' });</script>\n",
      "\n",
      "</footer>\n",
      "\n",
      "    </div>\n",
      "\n",
      "</body>\n",
      "</html>\n",
      "\n"
     ]
    }
   ],
   "source": [
    "print(original_content[-500:].decode('utf-8'))"
   ]
  },
  {
   "cell_type": "markdown",
   "id": "8d718dd2",
   "metadata": {},
   "source": [
    "We can roughly remove this by looking for the FILE ARCHIVED ON:"
   ]
  },
  {
   "cell_type": "code",
   "execution_count": 17,
   "id": "8923bc33",
   "metadata": {},
   "outputs": [],
   "source": [
    "def remove_wayback_footer(content):\n",
    "    _prefix = b'</html>\\n'\n",
    "    _start = _prefix + b'<!--\\n     FILE ARCHIVED ON '\n",
    "    start_idx = content.find(_start)\n",
    "    if start_idx < 0:\n",
    "        raise ValueError(\"Could not find\")\n",
    "    return content[:start_idx + len(_prefix)]"
   ]
  },
  {
   "cell_type": "code",
   "execution_count": 18,
   "id": "5cabec7f",
   "metadata": {},
   "outputs": [
    {
     "name": "stdout",
     "output_type": "stream",
     "text": [
      "ive.org/web/20211120235913js_/https://polyfill.io/v3/polyfill.min.js?features=es6\"></script>\n",
      "<script id=\"MathJax-script\" async src=\"http://web.archive.org/web/20211120235913js_/https://cdn.jsdelivr.net/npm/mathjax@3/es5/tex-mml-chtml.js\"></script>\n",
      "\n",
      "\n",
      "<script src=\"http://web.archive.org/web/20211120235913js_/https://cdn.jsdelivr.net/npm/mermaid/dist/mermaid.min.js\"></script>\n",
      "<script>mermaid.initialize({ startOnLoad: true, securityLevel: 'loose' });</script>\n",
      "\n",
      "</footer>\n",
      "\n",
      "    </div>\n",
      "\n",
      "</body>\n",
      "</html>\n",
      "\n"
     ]
    }
   ],
   "source": [
    "print(remove_wayback_footer(wayback_content)[-500:].decode('utf-8'))"
   ]
  },
  {
   "cell_type": "markdown",
   "id": "21a5e082",
   "metadata": {},
   "source": [
    "# Restoring Links"
   ]
  },
  {
   "cell_type": "markdown",
   "id": "e8201052",
   "metadata": {},
   "source": [
    "By looking through the links we can see that there arey are prefixed with `http://web.archive.org/web/<TIMESTAMP>` with an extra `cs_` for CSS and `js_` for Javascript (and `im_` for images, not shown here)."
   ]
  },
  {
   "cell_type": "code",
   "execution_count": 19,
   "id": "21857cdb",
   "metadata": {},
   "outputs": [
    {
     "data": {
      "text/plain": [
       "[b'//archive.org/includes/analytics.js?v=cf34f82',\n",
       " b'/_static/js/bundle-playback.js?v=UfTkgsKx',\n",
       " b'/_static/js/wombat.js?v=UHAOicsW',\n",
       " b'/_static/css/banner-styles.css?v=omkqRugM',\n",
       " b'/_static/css/iconochive.css?v=qtvMKcIJ',\n",
       " b'http://web.archive.org/web/20211120235913cs_/https://skeptric.com/style.main.min.5ea2f07be7e07e221a7112a3095b89d049b96c48b831f16f1015bf2d95d914e5.css',\n",
       " b'http://web.archive.org/web/20211120235913js_/https://www.googletagmanager.com/gtag/js?id=UA-167481545-1',\n",
       " b'http://web.archive.org/web/20211120235913/https://skeptric.com/',\n",
       " b'/web/20211120235913/https://skeptric.com/about/',\n",
       " b'/web/20211120235913/https://skeptric.com/',\n",
       " b'http://web.archive.org/web/20211120235913/https://www.whatcar.xyz/',\n",
       " b'http://web.archive.org/web/20211120235913/https://github.com/EdwardJRoss/whatcar',\n",
       " b'http://web.archive.org/web/20211120235913/https://github.com/EdwardJRoss/job-advert-analysis',\n",
       " b'http://web.archive.org/web/20211120235913/https://skeptric.com/',\n",
       " b'http://web.archive.org/web/20211120235913/https://skeptric.com/moving-averages-sql/',\n",
       " b'http://web.archive.org/web/20211120235913/https://skeptric.com/searching-100b-pages-cdx/',\n",
       " b'http://web.archive.org/web/20211120235913/https://skeptric.com/common-crawl-index-athena/',\n",
       " b'http://web.archive.org/web/20211120235913/https://skeptric.com/minhash-lsh/',\n",
       " b'http://web.archive.org/web/20211120235913/https://skeptric.com/calculate-centroid-on-sphere/',\n",
       " b'http://web.archive.org/web/20211120235913/https://skeptric.com/constant-models/',\n",
       " b'http://web.archive.org/web/20211120235913/https://github.com/EdwardJRoss/all_of_statistics_exercises',\n",
       " b'http://web.archive.org/web/20211120235913/https://github.com/EdwardJRoss/regression_stories',\n",
       " b'http://web.archive.org/web/20211120235913/https://github.com/EdwardJRoss/regression_stories',\n",
       " b'http://web.archive.org/web/20211120235913/https://github.com/EdwardJRoss/mlzero',\n",
       " b'http://web.archive.org/web/20211120235913/mailto:webmaster@skeptric.com',\n",
       " b'http://web.archive.org/web/20211120235913/https://skeptric.com/reading-list/',\n",
       " b'http://web.archive.org/web/20211120235913/https://skeptric.com/',\n",
       " b'http://web.archive.org/web/20211120235913/https://skeptric.com/',\n",
       " b'http://web.archive.org/web/20211120235913/https://twitter.com/EddingtonRoss',\n",
       " b'http://web.archive.org/web/20211120235913/https://github.com/edwardjross/',\n",
       " b'http://web.archive.org/web/20211120235913/https://www.linkedin.com/in/edward-ross-4909ba13a/',\n",
       " b'http://web.archive.org/web/20211120235913js_/https://polyfill.io/v3/polyfill.min.js?features=es6',\n",
       " b'http://web.archive.org/web/20211120235913js_/https://cdn.jsdelivr.net/npm/mathjax@3/es5/tex-mml-chtml.js',\n",
       " b'http://web.archive.org/web/20211120235913js_/https://cdn.jsdelivr.net/npm/mermaid/dist/mermaid.min.js']"
      ]
     },
     "execution_count": 19,
     "metadata": {},
     "output_type": "execute_result"
    }
   ],
   "source": [
    "import re\n",
    "re.findall(b'(?:href|src)=\"([^\"]*)\"', wayback_content)"
   ]
  },
  {
   "cell_type": "markdown",
   "id": "9e12d1f0",
   "metadata": {},
   "source": [
    "We can rewrite them like this:"
   ]
  },
  {
   "cell_type": "code",
   "execution_count": 20,
   "id": "ecec10cb",
   "metadata": {},
   "outputs": [],
   "source": [
    "def remove_wayback_links(content: bytes, timestamp: str) -> bytes:\n",
    "    # Remove web links\n",
    "    timestamp = timestamp.encode('ascii') \n",
    "    content = content.replace(b'http://web.archive.org', b'')\n",
    "    for prefix in [b'', b'im_', b'js_', b'cs_']:\n",
    "        content = content.replace(b'/web/' + timestamp + prefix + b'/', b'')\n",
    "    return content"
   ]
  },
  {
   "cell_type": "code",
   "execution_count": 21,
   "id": "c4b1cd7a",
   "metadata": {},
   "outputs": [
    {
     "data": {
      "text/plain": [
       "[b'//archive.org/includes/analytics.js?v=cf34f82',\n",
       " b'/_static/js/bundle-playback.js?v=UfTkgsKx',\n",
       " b'/_static/js/wombat.js?v=UHAOicsW',\n",
       " b'/_static/css/banner-styles.css?v=omkqRugM',\n",
       " b'/_static/css/iconochive.css?v=qtvMKcIJ',\n",
       " b'https://skeptric.com/style.main.min.5ea2f07be7e07e221a7112a3095b89d049b96c48b831f16f1015bf2d95d914e5.css',\n",
       " b'https://www.googletagmanager.com/gtag/js?id=UA-167481545-1',\n",
       " b'https://skeptric.com/',\n",
       " b'https://skeptric.com/about/',\n",
       " b'https://skeptric.com/',\n",
       " b'https://www.whatcar.xyz/',\n",
       " b'https://github.com/EdwardJRoss/whatcar',\n",
       " b'https://github.com/EdwardJRoss/job-advert-analysis',\n",
       " b'https://skeptric.com/',\n",
       " b'https://skeptric.com/moving-averages-sql/',\n",
       " b'https://skeptric.com/searching-100b-pages-cdx/',\n",
       " b'https://skeptric.com/common-crawl-index-athena/',\n",
       " b'https://skeptric.com/minhash-lsh/',\n",
       " b'https://skeptric.com/calculate-centroid-on-sphere/',\n",
       " b'https://skeptric.com/constant-models/',\n",
       " b'https://github.com/EdwardJRoss/all_of_statistics_exercises',\n",
       " b'https://github.com/EdwardJRoss/regression_stories',\n",
       " b'https://github.com/EdwardJRoss/regression_stories',\n",
       " b'https://github.com/EdwardJRoss/mlzero',\n",
       " b'mailto:webmaster@skeptric.com',\n",
       " b'https://skeptric.com/reading-list/',\n",
       " b'https://skeptric.com/',\n",
       " b'https://skeptric.com/',\n",
       " b'https://twitter.com/EddingtonRoss',\n",
       " b'https://github.com/edwardjross/',\n",
       " b'https://www.linkedin.com/in/edward-ross-4909ba13a/',\n",
       " b'https://polyfill.io/v3/polyfill.min.js?features=es6',\n",
       " b'https://cdn.jsdelivr.net/npm/mathjax@3/es5/tex-mml-chtml.js',\n",
       " b'https://cdn.jsdelivr.net/npm/mermaid/dist/mermaid.min.js']"
      ]
     },
     "execution_count": 21,
     "metadata": {},
     "output_type": "execute_result"
    }
   ],
   "source": [
    "re.findall(b'(?:href|src)=\"([^\"]*)\"', remove_wayback_links(wayback_content, record.timestamp))"
   ]
  },
  {
   "cell_type": "markdown",
   "id": "ca5091a1",
   "metadata": {},
   "source": [
    "# And the rest"
   ]
  },
  {
   "cell_type": "markdown",
   "id": "821ffa1c",
   "metadata": {},
   "source": [
    "We can put all our changes together"
   ]
  },
  {
   "cell_type": "code",
   "execution_count": 22,
   "id": "02e794e8",
   "metadata": {},
   "outputs": [],
   "source": [
    "def remove_wayback_changes(content, timestamp):\n",
    "    content = remove_wayback_header(content)\n",
    "    content = remove_wayback_footer(content)\n",
    "    content = remove_wayback_links(content, timestamp)\n",
    "    return content"
   ]
  },
  {
   "cell_type": "code",
   "execution_count": 23,
   "id": "e6b56742",
   "metadata": {},
   "outputs": [],
   "source": [
    "clean_wayback_content = remove_wayback_changes(wayback_content, record['timestamp'])"
   ]
  },
  {
   "cell_type": "code",
   "execution_count": 24,
   "id": "ecac8e74",
   "metadata": {},
   "outputs": [
    {
     "data": {
      "text/plain": [
       "False"
      ]
     },
     "execution_count": 24,
     "metadata": {},
     "output_type": "execute_result"
    }
   ],
   "source": [
    "clean_wayback_content == original_content"
   ]
  },
  {
   "cell_type": "code",
   "execution_count": 25,
   "id": "e025b419",
   "metadata": {},
   "outputs": [
    {
     "name": "stdout",
     "output_type": "stream",
     "text": [
      "b'meta charset=\"utf-8\" />\\n    <meta http-eq'\n",
      "b'meta charset=\"utf-8\"/>\\n    <meta http-eq'\n",
      "\n",
      "b'e\" content=\"IE=edge\" />\\n\\n    \\n    \\n    <t'\n",
      "b'e\" content=\"IE=edge\"/>\\n\\n    \\n    \\n    <t'\n",
      "\n",
      "b'ndly\" content=\"True\" />\\n    <meta name=\"v'\n",
      "b'ndly\" content=\"True\"/>\\n    <meta name=\"v'\n",
      "\n",
      "b', initial-scale=1.0\" />\\n\\n    \\n    <link r'\n",
      "b', initial-scale=1.0\"/>\\n\\n    \\n    <link r'\n",
      "\n",
      "b'015bf2d95d914e5.css\" />\\n<script async src'\n",
      "b'015bf2d95d914e5.css\"/>\\n<script async src'\n",
      "\n",
      "b'\"menuitem\"><a href=\"/about/\">About</a></'\n",
      "b'\"menuitem\"><a href=\"https://skeptric.com/about/\">About</a></'\n",
      "\n",
      "b'\"menuitem\"><a href=\"/\">Home</a></li>\\n   '\n",
      "b'\"menuitem\"><a href=\"https://skeptric.com/\">Home</a></li>\\n   '\n",
      "\n",
      "b'https://skeptric.com\">skeptric.com</a>.<'\n",
      "b'https://skeptric.com/\">skeptric.com</a>.<'\n",
      "\n"
     ]
    }
   ],
   "source": [
    "from difflib import SequenceMatcher\n",
    "seqmatcher = SequenceMatcher(isjunk=None,\n",
    "                             a=original_content,\n",
    "                             b=clean_wayback_content,\n",
    "                             autojunk=False)\n",
    "\n",
    "context_before = context_after = 20\n",
    "\n",
    "for tag, a0, a1, b0, b1 in seqmatcher.get_opcodes():\n",
    "        if tag == 'equal':\n",
    "            continue\n",
    "\n",
    "        a_min = max(a0 - context_before, 0)\n",
    "        a_max = min(a1 + context_after, len(seqmatcher.a))\n",
    "        print(seqmatcher.a[a_min:a_max])\n",
    "\n",
    "        b_min = max(b0 - context_before, 0)\n",
    "        b_max = min(b1 + context_after, len(seqmatcher.b))\n",
    "        print(seqmatcher.b[b_min:b_max])\n",
    "        print()"
   ]
  },
  {
   "cell_type": "markdown",
   "id": "3382d868",
   "metadata": {},
   "source": [
    "We can mangle the original HTML to get the same result.\n",
    "I doubt this would be general enough to work on other pages, but gives a flavour of the changes."
   ]
  },
  {
   "cell_type": "code",
   "execution_count": 26,
   "id": "358b505b",
   "metadata": {},
   "outputs": [],
   "source": [
    "import re\n",
    "def wayback_normalise_content(content, base_url):\n",
    "    url = base_url.encode('ascii')\n",
    "    content = re.sub(b' */>', b'/>', content)\n",
    "    content = content.replace(b'href=\"/', b'href=\"' + url + b'/')\n",
    "    content = re.sub(b'href=\"' + url + b'\"', b'href=\"' + url + b'/\"', content)\n",
    "    return content"
   ]
  },
  {
   "cell_type": "code",
   "execution_count": 27,
   "id": "a7d96873",
   "metadata": {},
   "outputs": [],
   "source": [
    "assert wayback_normalise_content(original_content, 'https://skeptric.com') == clean_wayback_content"
   ]
  }
 ],
 "metadata": {
  "kernelspec": {
   "display_name": "Python 3",
   "language": "python",
   "name": "python3"
  },
  "language_info": {
   "codemirror_mode": {
    "name": "ipython",
    "version": 3
   },
   "file_extension": ".py",
   "mimetype": "text/x-python",
   "name": "python",
   "nbconvert_exporter": "python",
   "pygments_lexer": "ipython3",
   "version": "3.9.9"
  },
  "toc": {
   "base_numbering": 1,
   "nav_menu": {},
   "number_sections": true,
   "sideBar": true,
   "skip_h1_title": false,
   "title_cell": "Table of Contents",
   "title_sidebar": "Contents",
   "toc_cell": false,
   "toc_position": {},
   "toc_section_display": true,
   "toc_window_display": true
  }
 },
 "nbformat": 4,
 "nbformat_minor": 5
}
