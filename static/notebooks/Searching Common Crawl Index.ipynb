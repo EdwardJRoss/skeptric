{
 "cells": [
  {
   "cell_type": "markdown",
   "metadata": {},
   "source": [
    "# Searching Common Crawl Index\n",
    "\n",
    "This explores different ways of using the common crawl index\n",
    "\n",
    "* [Comcrawl library](#Using-commcrawl)\n",
    "* [CDX Toolkit](#Using-cdx-toolkit)\n",
    "* [Querying HTTP Endpoint directly](#Requesting-CDX-endpoint-Directly)\n",
    "\n",
    "See [the related article](https://skeptric.com/searching-100b-pages-cdx/) and [Jupyter notebook](https://skeptric.com/notebooks/Searching%20Common%20Crawl%20Index.ipynb)."
   ]
  },
  {
   "cell_type": "code",
   "execution_count": 1,
   "metadata": {},
   "outputs": [],
   "source": [
    "import requests\n",
    "import warcio\n",
    "from contextlib import closing\n",
    "from bs4 import BeautifulSoup\n",
    "import json\n",
    "\n",
    "import logging\n",
    "from IPython.display import HTML\n",
    "import pandas as pd"
   ]
  },
  {
   "cell_type": "markdown",
   "metadata": {},
   "source": [
    "# Using [comcrawl](https://github.com/michaelharms/comcrawl)"
   ]
  },
  {
   "cell_type": "code",
   "execution_count": 2,
   "metadata": {},
   "outputs": [],
   "source": [
    "#! python -m pip install comcrawl"
   ]
  },
  {
   "cell_type": "code",
   "execution_count": 3,
   "metadata": {},
   "outputs": [],
   "source": [
    "from comcrawl import IndexClient"
   ]
  },
  {
   "cell_type": "code",
   "execution_count": 4,
   "metadata": {},
   "outputs": [],
   "source": [
    "client = IndexClient(['2020-10', '2020-16'])"
   ]
  },
  {
   "cell_type": "code",
   "execution_count": 5,
   "metadata": {},
   "outputs": [],
   "source": [
    "client.search('https://www.reddit.com/r/dataisbeautiful/*')"
   ]
  },
  {
   "cell_type": "code",
   "execution_count": 6,
   "metadata": {},
   "outputs": [
    {
     "data": {
      "text/html": [
       "<div>\n",
       "<style scoped>\n",
       "    .dataframe tbody tr th:only-of-type {\n",
       "        vertical-align: middle;\n",
       "    }\n",
       "\n",
       "    .dataframe tbody tr th {\n",
       "        vertical-align: top;\n",
       "    }\n",
       "\n",
       "    .dataframe thead th {\n",
       "        text-align: right;\n",
       "    }\n",
       "</style>\n",
       "<table border=\"1\" class=\"dataframe\">\n",
       "  <thead>\n",
       "    <tr style=\"text-align: right;\">\n",
       "      <th></th>\n",
       "      <th>urlkey</th>\n",
       "      <th>timestamp</th>\n",
       "      <th>offset</th>\n",
       "      <th>status</th>\n",
       "      <th>digest</th>\n",
       "      <th>redirect</th>\n",
       "      <th>length</th>\n",
       "      <th>mime-detected</th>\n",
       "      <th>filename</th>\n",
       "      <th>mime</th>\n",
       "      <th>url</th>\n",
       "      <th>languages</th>\n",
       "      <th>charset</th>\n",
       "    </tr>\n",
       "  </thead>\n",
       "  <tbody>\n",
       "    <tr>\n",
       "      <th>0</th>\n",
       "      <td>com,reddit)/r/dataisbeautiful/comments/2wlsvz/...</td>\n",
       "      <td>20200217065457</td>\n",
       "      <td>13689701</td>\n",
       "      <td>301</td>\n",
       "      <td>3I42H3S6NNFQ2MSVX7XZKYAYSCX5QBYJ</td>\n",
       "      <td>https://www.reddit.com/r/dataisbeautiful/comme...</td>\n",
       "      <td>679</td>\n",
       "      <td>application/octet-stream</td>\n",
       "      <td>crawl-data/CC-MAIN-2020-10/segments/1581875141...</td>\n",
       "      <td>unk</td>\n",
       "      <td>http://www.reddit.com/r/dataisbeautiful/commen...</td>\n",
       "      <td>NaN</td>\n",
       "      <td>NaN</td>\n",
       "    </tr>\n",
       "    <tr>\n",
       "      <th>1</th>\n",
       "      <td>com,reddit)/r/dataisbeautiful/comments/2wlsvz/...</td>\n",
       "      <td>20200217065459</td>\n",
       "      <td>915522267</td>\n",
       "      <td>200</td>\n",
       "      <td>L4C22PRVUOGG22PXMKSB7KYVCWQUKEQ7</td>\n",
       "      <td>NaN</td>\n",
       "      <td>74716</td>\n",
       "      <td>text/html</td>\n",
       "      <td>crawl-data/CC-MAIN-2020-10/segments/1581875141...</td>\n",
       "      <td>text/html</td>\n",
       "      <td>https://www.reddit.com/r/dataisbeautiful/comme...</td>\n",
       "      <td>eng</td>\n",
       "      <td>UTF-8</td>\n",
       "    </tr>\n",
       "    <tr>\n",
       "      <th>2</th>\n",
       "      <td>com,reddit)/r/dataisbeautiful/comments/7f2sfy/...</td>\n",
       "      <td>20200223060640</td>\n",
       "      <td>884674375</td>\n",
       "      <td>200</td>\n",
       "      <td>GEWEQE4I2JOSKTL3QXPEI7FXVI3BP52O</td>\n",
       "      <td>NaN</td>\n",
       "      <td>29470</td>\n",
       "      <td>text/html</td>\n",
       "      <td>crawl-data/CC-MAIN-2020-10/segments/1581875145...</td>\n",
       "      <td>text/html</td>\n",
       "      <td>https://www.reddit.com/r/dataisbeautiful/comme...</td>\n",
       "      <td>eng</td>\n",
       "      <td>UTF-8</td>\n",
       "    </tr>\n",
       "    <tr>\n",
       "      <th>3</th>\n",
       "      <td>com,reddit)/r/dataisbeautiful/comments/7jbefu/...</td>\n",
       "      <td>20200217195615</td>\n",
       "      <td>890110347</td>\n",
       "      <td>200</td>\n",
       "      <td>42HZLBLZI5DQYGQAZNUAQ5NRCMEEVERW</td>\n",
       "      <td>NaN</td>\n",
       "      <td>21516</td>\n",
       "      <td>text/html</td>\n",
       "      <td>crawl-data/CC-MAIN-2020-10/segments/1581875143...</td>\n",
       "      <td>text/html</td>\n",
       "      <td>https://www.reddit.com/r/dataisbeautiful/comme...</td>\n",
       "      <td>eng</td>\n",
       "      <td>UTF-8</td>\n",
       "    </tr>\n",
       "    <tr>\n",
       "      <th>4</th>\n",
       "      <td>com,reddit)/r/dataisbeautiful/comments/8f1rk7/...</td>\n",
       "      <td>20200222202649</td>\n",
       "      <td>859518253</td>\n",
       "      <td>200</td>\n",
       "      <td>IDKDLHSVB7YH3L2AUIMKPJFER3VLBZRU</td>\n",
       "      <td>NaN</td>\n",
       "      <td>95956</td>\n",
       "      <td>text/html</td>\n",
       "      <td>crawl-data/CC-MAIN-2020-10/segments/1581875145...</td>\n",
       "      <td>text/html</td>\n",
       "      <td>https://www.reddit.com/r/dataisbeautiful/comme...</td>\n",
       "      <td>eng</td>\n",
       "      <td>UTF-8</td>\n",
       "    </tr>\n",
       "  </tbody>\n",
       "</table>\n",
       "</div>"
      ],
      "text/plain": [
       "                                              urlkey       timestamp  \\\n",
       "0  com,reddit)/r/dataisbeautiful/comments/2wlsvz/...  20200217065457   \n",
       "1  com,reddit)/r/dataisbeautiful/comments/2wlsvz/...  20200217065459   \n",
       "2  com,reddit)/r/dataisbeautiful/comments/7f2sfy/...  20200223060640   \n",
       "3  com,reddit)/r/dataisbeautiful/comments/7jbefu/...  20200217195615   \n",
       "4  com,reddit)/r/dataisbeautiful/comments/8f1rk7/...  20200222202649   \n",
       "\n",
       "      offset status                            digest  \\\n",
       "0   13689701    301  3I42H3S6NNFQ2MSVX7XZKYAYSCX5QBYJ   \n",
       "1  915522267    200  L4C22PRVUOGG22PXMKSB7KYVCWQUKEQ7   \n",
       "2  884674375    200  GEWEQE4I2JOSKTL3QXPEI7FXVI3BP52O   \n",
       "3  890110347    200  42HZLBLZI5DQYGQAZNUAQ5NRCMEEVERW   \n",
       "4  859518253    200  IDKDLHSVB7YH3L2AUIMKPJFER3VLBZRU   \n",
       "\n",
       "                                            redirect length  \\\n",
       "0  https://www.reddit.com/r/dataisbeautiful/comme...    679   \n",
       "1                                                NaN  74716   \n",
       "2                                                NaN  29470   \n",
       "3                                                NaN  21516   \n",
       "4                                                NaN  95956   \n",
       "\n",
       "              mime-detected  \\\n",
       "0  application/octet-stream   \n",
       "1                 text/html   \n",
       "2                 text/html   \n",
       "3                 text/html   \n",
       "4                 text/html   \n",
       "\n",
       "                                            filename       mime  \\\n",
       "0  crawl-data/CC-MAIN-2020-10/segments/1581875141...        unk   \n",
       "1  crawl-data/CC-MAIN-2020-10/segments/1581875141...  text/html   \n",
       "2  crawl-data/CC-MAIN-2020-10/segments/1581875145...  text/html   \n",
       "3  crawl-data/CC-MAIN-2020-10/segments/1581875143...  text/html   \n",
       "4  crawl-data/CC-MAIN-2020-10/segments/1581875145...  text/html   \n",
       "\n",
       "                                                 url languages charset  \n",
       "0  http://www.reddit.com/r/dataisbeautiful/commen...       NaN     NaN  \n",
       "1  https://www.reddit.com/r/dataisbeautiful/comme...       eng   UTF-8  \n",
       "2  https://www.reddit.com/r/dataisbeautiful/comme...       eng   UTF-8  \n",
       "3  https://www.reddit.com/r/dataisbeautiful/comme...       eng   UTF-8  \n",
       "4  https://www.reddit.com/r/dataisbeautiful/comme...       eng   UTF-8  "
      ]
     },
     "execution_count": 6,
     "metadata": {},
     "output_type": "execute_result"
    }
   ],
   "source": [
    "pd.DataFrame(client.results).head()"
   ]
  },
  {
   "cell_type": "markdown",
   "metadata": {},
   "source": [
    "Only download the first couple of 'ok' results"
   ]
  },
  {
   "cell_type": "code",
   "execution_count": 7,
   "metadata": {},
   "outputs": [],
   "source": [
    "client.results = [res for res in client.results if res['status'] == '200'][:2]"
   ]
  },
  {
   "cell_type": "code",
   "execution_count": 8,
   "metadata": {},
   "outputs": [],
   "source": [
    "client.download()"
   ]
  },
  {
   "cell_type": "code",
   "execution_count": 9,
   "metadata": {},
   "outputs": [
    {
     "data": {
      "text/plain": [
       "'https://www.reddit.com/r/dataisbeautiful/comments/2wlsvz/why_the_mlb_rule_changes_since_2004_game_time_is/'"
      ]
     },
     "execution_count": 9,
     "metadata": {},
     "output_type": "execute_result"
    }
   ],
   "source": [
    "client.results[0]['url']"
   ]
  },
  {
   "cell_type": "code",
   "execution_count": 10,
   "metadata": {},
   "outputs": [],
   "source": [
    "html = client.results[0]['html']"
   ]
  },
  {
   "cell_type": "code",
   "execution_count": 11,
   "metadata": {},
   "outputs": [],
   "source": [
    "soup = BeautifulSoup(html, 'html5lib')"
   ]
  },
  {
   "cell_type": "code",
   "execution_count": 12,
   "metadata": {},
   "outputs": [
    {
     "data": {
      "text/plain": [
       "'Why the MLB rule changes: Since 2004, game time is up 10%, while runs are down 13% [OC] : dataisbeautiful'"
      ]
     },
     "execution_count": 12,
     "metadata": {},
     "output_type": "execute_result"
    }
   ],
   "source": [
    "soup.head.title.text"
   ]
  },
  {
   "cell_type": "code",
   "execution_count": 13,
   "metadata": {},
   "outputs": [
    {
     "data": {
      "text/plain": [
       "'A place for visual representations of data: Graphs, charts, maps, etc.'"
      ]
     },
     "execution_count": 13,
     "metadata": {},
     "output_type": "execute_result"
    }
   ],
   "source": [
    "soup.find('div', {'class': 'usertext-body'}).p.text"
   ]
  },
  {
   "cell_type": "markdown",
   "metadata": {},
   "source": [
    "# Using [cdx-toolkit](https://github.com/cocrawler/cdx_toolkit)"
   ]
  },
  {
   "cell_type": "code",
   "execution_count": 14,
   "metadata": {},
   "outputs": [],
   "source": [
    "#!python -m pip install cdx_toolkit"
   ]
  },
  {
   "cell_type": "code",
   "execution_count": 15,
   "metadata": {},
   "outputs": [],
   "source": [
    "import cdx_toolkit"
   ]
  },
  {
   "cell_type": "code",
   "execution_count": 16,
   "metadata": {},
   "outputs": [],
   "source": [
    "url = 'https://www.reddit.com/r/dataisbeautiful/*'"
   ]
  },
  {
   "cell_type": "code",
   "execution_count": 17,
   "metadata": {},
   "outputs": [],
   "source": [
    "cdx = cdx_toolkit.CDXFetcher(source='cc')"
   ]
  },
  {
   "cell_type": "markdown",
   "metadata": {},
   "source": [
    "Note: from_ts rather than from in CLI"
   ]
  },
  {
   "cell_type": "code",
   "execution_count": 18,
   "metadata": {},
   "outputs": [],
   "source": [
    "objs = list(cdx.iter(url, from_ts='202002', to='202006', limit=5, filter='=status:200'))"
   ]
  },
  {
   "cell_type": "code",
   "execution_count": 19,
   "metadata": {},
   "outputs": [
    {
     "data": {
      "text/html": [
       "<div>\n",
       "<style scoped>\n",
       "    .dataframe tbody tr th:only-of-type {\n",
       "        vertical-align: middle;\n",
       "    }\n",
       "\n",
       "    .dataframe tbody tr th {\n",
       "        vertical-align: top;\n",
       "    }\n",
       "\n",
       "    .dataframe thead th {\n",
       "        text-align: right;\n",
       "    }\n",
       "</style>\n",
       "<table border=\"1\" class=\"dataframe\">\n",
       "  <thead>\n",
       "    <tr style=\"text-align: right;\">\n",
       "      <th></th>\n",
       "      <th>urlkey</th>\n",
       "      <th>timestamp</th>\n",
       "      <th>offset</th>\n",
       "      <th>status</th>\n",
       "      <th>languages</th>\n",
       "      <th>digest</th>\n",
       "      <th>length</th>\n",
       "      <th>mime-detected</th>\n",
       "      <th>filename</th>\n",
       "      <th>charset</th>\n",
       "      <th>mime</th>\n",
       "      <th>url</th>\n",
       "    </tr>\n",
       "  </thead>\n",
       "  <tbody>\n",
       "    <tr>\n",
       "      <th>0</th>\n",
       "      <td>com,reddit)/r/dataisbeautiful/comments/27dx4q/...</td>\n",
       "      <td>20200527135643</td>\n",
       "      <td>882602699</td>\n",
       "      <td>200</td>\n",
       "      <td>eng</td>\n",
       "      <td>XXI6CLICLXUYYPAVXBBT2YRAGKF5R32E</td>\n",
       "      <td>78176</td>\n",
       "      <td>text/html</td>\n",
       "      <td>crawl-data/CC-MAIN-2020-24/segments/1590347394...</td>\n",
       "      <td>UTF-8</td>\n",
       "      <td>text/html</td>\n",
       "      <td>https://www.reddit.com/r/dataisbeautiful/comme...</td>\n",
       "    </tr>\n",
       "    <tr>\n",
       "      <th>1</th>\n",
       "      <td>com,reddit)/r/dataisbeautiful/comments/2p2s7m/...</td>\n",
       "      <td>20200525103507</td>\n",
       "      <td>805396766</td>\n",
       "      <td>200</td>\n",
       "      <td>eng</td>\n",
       "      <td>LVX34MXYNQDODM4GXOVR5I4HJRUPWVQF</td>\n",
       "      <td>84555</td>\n",
       "      <td>text/html</td>\n",
       "      <td>crawl-data/CC-MAIN-2020-24/segments/1590347388...</td>\n",
       "      <td>UTF-8</td>\n",
       "      <td>text/html</td>\n",
       "      <td>https://www.reddit.com/r/dataisbeautiful/comme...</td>\n",
       "    </tr>\n",
       "    <tr>\n",
       "      <th>2</th>\n",
       "      <td>com,reddit)/r/dataisbeautiful/comments/2r3jnk/...</td>\n",
       "      <td>20200527095258</td>\n",
       "      <td>908079074</td>\n",
       "      <td>200</td>\n",
       "      <td>eng</td>\n",
       "      <td>MQWZSEJ6WUNC2VW3CNSTCYW7DDJWZGH3</td>\n",
       "      <td>45865</td>\n",
       "      <td>text/html</td>\n",
       "      <td>crawl-data/CC-MAIN-2020-24/segments/1590347392...</td>\n",
       "      <td>UTF-8</td>\n",
       "      <td>text/html</td>\n",
       "      <td>https://www.reddit.com/r/dataisbeautiful/comme...</td>\n",
       "    </tr>\n",
       "    <tr>\n",
       "      <th>3</th>\n",
       "      <td>com,reddit)/r/dataisbeautiful/comments/2w392n/...</td>\n",
       "      <td>20200527230701</td>\n",
       "      <td>859269754</td>\n",
       "      <td>200</td>\n",
       "      <td>eng</td>\n",
       "      <td>HA3GBWJZNLL3TKYOGGRRGK5R6WDDJYWD</td>\n",
       "      <td>24851</td>\n",
       "      <td>text/html</td>\n",
       "      <td>crawl-data/CC-MAIN-2020-24/segments/1590347396...</td>\n",
       "      <td>UTF-8</td>\n",
       "      <td>text/html</td>\n",
       "      <td>https://www.reddit.com/r/dataisbeautiful/comme...</td>\n",
       "    </tr>\n",
       "    <tr>\n",
       "      <th>4</th>\n",
       "      <td>com,reddit)/r/dataisbeautiful/comments/322lbk/...</td>\n",
       "      <td>20200526005126</td>\n",
       "      <td>878218880</td>\n",
       "      <td>200</td>\n",
       "      <td>eng</td>\n",
       "      <td>Q7U6FNDLWZ2IY34L2BHOPGKAWTPRWZKI</td>\n",
       "      <td>55033</td>\n",
       "      <td>text/html</td>\n",
       "      <td>crawl-data/CC-MAIN-2020-24/segments/1590347390...</td>\n",
       "      <td>UTF-8</td>\n",
       "      <td>text/html</td>\n",
       "      <td>https://www.reddit.com/r/dataisbeautiful/comme...</td>\n",
       "    </tr>\n",
       "  </tbody>\n",
       "</table>\n",
       "</div>"
      ],
      "text/plain": [
       "                                              urlkey       timestamp  \\\n",
       "0  com,reddit)/r/dataisbeautiful/comments/27dx4q/...  20200527135643   \n",
       "1  com,reddit)/r/dataisbeautiful/comments/2p2s7m/...  20200525103507   \n",
       "2  com,reddit)/r/dataisbeautiful/comments/2r3jnk/...  20200527095258   \n",
       "3  com,reddit)/r/dataisbeautiful/comments/2w392n/...  20200527230701   \n",
       "4  com,reddit)/r/dataisbeautiful/comments/322lbk/...  20200526005126   \n",
       "\n",
       "      offset status languages                            digest length  \\\n",
       "0  882602699    200       eng  XXI6CLICLXUYYPAVXBBT2YRAGKF5R32E  78176   \n",
       "1  805396766    200       eng  LVX34MXYNQDODM4GXOVR5I4HJRUPWVQF  84555   \n",
       "2  908079074    200       eng  MQWZSEJ6WUNC2VW3CNSTCYW7DDJWZGH3  45865   \n",
       "3  859269754    200       eng  HA3GBWJZNLL3TKYOGGRRGK5R6WDDJYWD  24851   \n",
       "4  878218880    200       eng  Q7U6FNDLWZ2IY34L2BHOPGKAWTPRWZKI  55033   \n",
       "\n",
       "  mime-detected                                           filename charset  \\\n",
       "0     text/html  crawl-data/CC-MAIN-2020-24/segments/1590347394...   UTF-8   \n",
       "1     text/html  crawl-data/CC-MAIN-2020-24/segments/1590347388...   UTF-8   \n",
       "2     text/html  crawl-data/CC-MAIN-2020-24/segments/1590347392...   UTF-8   \n",
       "3     text/html  crawl-data/CC-MAIN-2020-24/segments/1590347396...   UTF-8   \n",
       "4     text/html  crawl-data/CC-MAIN-2020-24/segments/1590347390...   UTF-8   \n",
       "\n",
       "        mime                                                url  \n",
       "0  text/html  https://www.reddit.com/r/dataisbeautiful/comme...  \n",
       "1  text/html  https://www.reddit.com/r/dataisbeautiful/comme...  \n",
       "2  text/html  https://www.reddit.com/r/dataisbeautiful/comme...  \n",
       "3  text/html  https://www.reddit.com/r/dataisbeautiful/comme...  \n",
       "4  text/html  https://www.reddit.com/r/dataisbeautiful/comme...  "
      ]
     },
     "execution_count": 19,
     "metadata": {},
     "output_type": "execute_result"
    }
   ],
   "source": [
    "pd.DataFrame([o.data for o in objs])"
   ]
  },
  {
   "cell_type": "code",
   "execution_count": 20,
   "metadata": {},
   "outputs": [
    {
     "name": "stdout",
     "output_type": "stream",
     "text": [
      "|    | urlkey                                                                                          |      timestamp |    offset |   status | languages   | digest                           |   length | mime-detected   | filename                                                                                                      | charset   | mime      | url                                                                                                         |\n",
      "|---:|:------------------------------------------------------------------------------------------------|---------------:|----------:|---------:|:------------|:---------------------------------|---------:|:----------------|:--------------------------------------------------------------------------------------------------------------|:----------|:----------|:------------------------------------------------------------------------------------------------------------|\n",
      "|  0 | com,reddit)/r/dataisbeautiful/comments/27dx4q/distribution_of_results_of_the_matura_high_school | 20200527135643 | 882602699 |      200 | eng         | XXI6CLICLXUYYPAVXBBT2YRAGKF5R32E |    78176 | text/html       | crawl-data/CC-MAIN-2020-24/segments/1590347394074.44/warc/CC-MAIN-20200527110649-20200527140649-00453.warc.gz | UTF-8     | text/html | https://www.reddit.com/r/dataisbeautiful/comments/27dx4q/distribution_of_results_of_the_matura_high_school/ |\n",
      "|  1 | com,reddit)/r/dataisbeautiful/comments/2p2s7m/player_age_distribution_in_eve_online_oc          | 20200525103507 | 805396766 |      200 | eng         | LVX34MXYNQDODM4GXOVR5I4HJRUPWVQF |    84555 | text/html       | crawl-data/CC-MAIN-2020-24/segments/1590347388427.15/warc/CC-MAIN-20200525095005-20200525125005-00418.warc.gz | UTF-8     | text/html | https://www.reddit.com/r/dataisbeautiful/comments/2p2s7m/player_age_distribution_in_eve_online_oc/          |\n",
      "|  2 | com,reddit)/r/dataisbeautiful/comments/2r3jnk/your_reddit_activity_analyzed_and_visualized_oc   | 20200527095258 | 908079074 |      200 | eng         | MQWZSEJ6WUNC2VW3CNSTCYW7DDJWZGH3 |    45865 | text/html       | crawl-data/CC-MAIN-2020-24/segments/1590347392142.20/warc/CC-MAIN-20200527075559-20200527105559-00286.warc.gz | UTF-8     | text/html | https://www.reddit.com/r/dataisbeautiful/comments/2r3jnk/your_reddit_activity_analyzed_and_visualized_oc/   |\n",
      "|  3 | com,reddit)/r/dataisbeautiful/comments/2w392n/animation_of_earthquakes_in_groningen_gas_field   | 20200527230701 | 859269754 |      200 | eng         | HA3GBWJZNLL3TKYOGGRRGK5R6WDDJYWD |    24851 | text/html       | crawl-data/CC-MAIN-2020-24/segments/1590347396163.18/warc/CC-MAIN-20200527204212-20200527234212-00320.warc.gz | UTF-8     | text/html | https://www.reddit.com/r/dataisbeautiful/comments/2w392n/animation_of_earthquakes_in_groningen_gas_field/   |\n",
      "|  4 | com,reddit)/r/dataisbeautiful/comments/322lbk/time_required_to_bruteforce_crack_a_password      | 20200526005126 | 878218880 |      200 | eng         | Q7U6FNDLWZ2IY34L2BHOPGKAWTPRWZKI |    55033 | text/html       | crawl-data/CC-MAIN-2020-24/segments/1590347390437.8/warc/CC-MAIN-20200525223929-20200526013929-00301.warc.gz  | UTF-8     | text/html | https://www.reddit.com/r/dataisbeautiful/comments/322lbk/time_required_to_bruteforce_crack_a_password/      |\n"
     ]
    }
   ],
   "source": [
    "print(pd.DataFrame([o.data for o in objs]).to_markdown())"
   ]
  },
  {
   "cell_type": "code",
   "execution_count": 21,
   "metadata": {},
   "outputs": [
    {
     "name": "stderr",
     "output_type": "stream",
     "text": [
      "None\n"
     ]
    }
   ],
   "source": [
    "html = objs[0].content"
   ]
  },
  {
   "cell_type": "code",
   "execution_count": 22,
   "metadata": {},
   "outputs": [],
   "source": [
    "soup = BeautifulSoup(html, 'html5lib')"
   ]
  },
  {
   "cell_type": "code",
   "execution_count": 23,
   "metadata": {},
   "outputs": [
    {
     "data": {
      "text/plain": [
       "'Distribution of results of the Matura (high school exit exam) in Poland in 2013. The minimum score to pass is 30%. : dataisbeautiful'"
      ]
     },
     "execution_count": 23,
     "metadata": {},
     "output_type": "execute_result"
    }
   ],
   "source": [
    "soup.head.title.text"
   ]
  },
  {
   "cell_type": "code",
   "execution_count": 24,
   "metadata": {},
   "outputs": [
    {
     "data": {
      "text/plain": [
       "'A place to share and discuss visual representations of data: Graphs, charts, maps, etc.'"
      ]
     },
     "execution_count": 24,
     "metadata": {},
     "output_type": "execute_result"
    }
   ],
   "source": [
    "soup.find('div', {'class': 'usertext-body'}).p.text"
   ]
  },
  {
   "cell_type": "code",
   "execution_count": 25,
   "metadata": {},
   "outputs": [],
   "source": [
    "o = objs[0]"
   ]
  },
  {
   "cell_type": "code",
   "execution_count": 26,
   "metadata": {},
   "outputs": [
    {
     "data": {
      "text/plain": [
       "'https://www.reddit.com/r/dataisbeautiful/comments/27dx4q/distribution_of_results_of_the_matura_high_school/'"
      ]
     },
     "execution_count": 26,
     "metadata": {},
     "output_type": "execute_result"
    }
   ],
   "source": [
    "o.warc_record.rec_headers.get_header('WARC-Target-URI')"
   ]
  },
  {
   "cell_type": "markdown",
   "metadata": {},
   "source": [
    "# Requesting CDX endpoint Directly"
   ]
  },
  {
   "cell_type": "markdown",
   "metadata": {},
   "source": [
    "We can request the [Index directly](https://index.commoncrawl.org/) using [pywb's CDX API](https://github.com/webrecorder/pywb/wiki/CDX-Server-API#api-reference).\n",
    "\n",
    "But first we need to know what indexes are available."
   ]
  },
  {
   "cell_type": "code",
   "execution_count": 28,
   "metadata": {},
   "outputs": [],
   "source": [
    "cdx_indexes = requests.get('https://index.commoncrawl.org/collinfo.json').json()"
   ]
  },
  {
   "cell_type": "code",
   "execution_count": 29,
   "metadata": {},
   "outputs": [],
   "source": [
    "pd.options.display.max_colwidth=150\n",
    "pd.options.display.max_rows=6"
   ]
  },
  {
   "cell_type": "code",
   "execution_count": 30,
   "metadata": {},
   "outputs": [
    {
     "data": {
      "text/html": [
       "<div>\n",
       "<style scoped>\n",
       "    .dataframe tbody tr th:only-of-type {\n",
       "        vertical-align: middle;\n",
       "    }\n",
       "\n",
       "    .dataframe tbody tr th {\n",
       "        vertical-align: top;\n",
       "    }\n",
       "\n",
       "    .dataframe thead th {\n",
       "        text-align: right;\n",
       "    }\n",
       "</style>\n",
       "<table border=\"1\" class=\"dataframe\">\n",
       "  <thead>\n",
       "    <tr style=\"text-align: right;\">\n",
       "      <th></th>\n",
       "      <th>id</th>\n",
       "      <th>name</th>\n",
       "      <th>timegate</th>\n",
       "      <th>cdx-api</th>\n",
       "    </tr>\n",
       "  </thead>\n",
       "  <tbody>\n",
       "    <tr>\n",
       "      <th>0</th>\n",
       "      <td>CC-MAIN-2020-24</td>\n",
       "      <td>May 2020 Index</td>\n",
       "      <td>https://index.commoncrawl.org/CC-MAIN-2020-24/</td>\n",
       "      <td>https://index.commoncrawl.org/CC-MAIN-2020-24-index</td>\n",
       "    </tr>\n",
       "    <tr>\n",
       "      <th>1</th>\n",
       "      <td>CC-MAIN-2020-16</td>\n",
       "      <td>March 2020 Index</td>\n",
       "      <td>https://index.commoncrawl.org/CC-MAIN-2020-16/</td>\n",
       "      <td>https://index.commoncrawl.org/CC-MAIN-2020-16-index</td>\n",
       "    </tr>\n",
       "    <tr>\n",
       "      <th>2</th>\n",
       "      <td>CC-MAIN-2020-10</td>\n",
       "      <td>February 2020 Index</td>\n",
       "      <td>https://index.commoncrawl.org/CC-MAIN-2020-10/</td>\n",
       "      <td>https://index.commoncrawl.org/CC-MAIN-2020-10-index</td>\n",
       "    </tr>\n",
       "    <tr>\n",
       "      <th>...</th>\n",
       "      <td>...</td>\n",
       "      <td>...</td>\n",
       "      <td>...</td>\n",
       "      <td>...</td>\n",
       "    </tr>\n",
       "    <tr>\n",
       "      <th>69</th>\n",
       "      <td>CC-MAIN-2012</td>\n",
       "      <td>Index of 2012 ARC files</td>\n",
       "      <td>https://index.commoncrawl.org/CC-MAIN-2012/</td>\n",
       "      <td>https://index.commoncrawl.org/CC-MAIN-2012-index</td>\n",
       "    </tr>\n",
       "    <tr>\n",
       "      <th>70</th>\n",
       "      <td>CC-MAIN-2009-2010</td>\n",
       "      <td>Index of 2009 - 2010 ARC files</td>\n",
       "      <td>https://index.commoncrawl.org/CC-MAIN-2009-2010/</td>\n",
       "      <td>https://index.commoncrawl.org/CC-MAIN-2009-2010-index</td>\n",
       "    </tr>\n",
       "    <tr>\n",
       "      <th>71</th>\n",
       "      <td>CC-MAIN-2008-2009</td>\n",
       "      <td>Index of 2008 - 2009 ARC files</td>\n",
       "      <td>https://index.commoncrawl.org/CC-MAIN-2008-2009/</td>\n",
       "      <td>https://index.commoncrawl.org/CC-MAIN-2008-2009-index</td>\n",
       "    </tr>\n",
       "  </tbody>\n",
       "</table>\n",
       "<p>72 rows × 4 columns</p>\n",
       "</div>"
      ],
      "text/plain": [
       "                   id                            name  \\\n",
       "0     CC-MAIN-2020-24                  May 2020 Index   \n",
       "1     CC-MAIN-2020-16                March 2020 Index   \n",
       "2     CC-MAIN-2020-10             February 2020 Index   \n",
       "..                ...                             ...   \n",
       "69       CC-MAIN-2012         Index of 2012 ARC files   \n",
       "70  CC-MAIN-2009-2010  Index of 2009 - 2010 ARC files   \n",
       "71  CC-MAIN-2008-2009  Index of 2008 - 2009 ARC files   \n",
       "\n",
       "                                            timegate  \\\n",
       "0     https://index.commoncrawl.org/CC-MAIN-2020-24/   \n",
       "1     https://index.commoncrawl.org/CC-MAIN-2020-16/   \n",
       "2     https://index.commoncrawl.org/CC-MAIN-2020-10/   \n",
       "..                                               ...   \n",
       "69       https://index.commoncrawl.org/CC-MAIN-2012/   \n",
       "70  https://index.commoncrawl.org/CC-MAIN-2009-2010/   \n",
       "71  https://index.commoncrawl.org/CC-MAIN-2008-2009/   \n",
       "\n",
       "                                                  cdx-api  \n",
       "0     https://index.commoncrawl.org/CC-MAIN-2020-24-index  \n",
       "1     https://index.commoncrawl.org/CC-MAIN-2020-16-index  \n",
       "2     https://index.commoncrawl.org/CC-MAIN-2020-10-index  \n",
       "..                                                    ...  \n",
       "69       https://index.commoncrawl.org/CC-MAIN-2012-index  \n",
       "70  https://index.commoncrawl.org/CC-MAIN-2009-2010-index  \n",
       "71  https://index.commoncrawl.org/CC-MAIN-2008-2009-index  \n",
       "\n",
       "[72 rows x 4 columns]"
      ]
     },
     "execution_count": 30,
     "metadata": {},
     "output_type": "execute_result"
    }
   ],
   "source": [
    "pd.DataFrame(cdx_indexes)"
   ]
  },
  {
   "cell_type": "code",
   "execution_count": 31,
   "metadata": {},
   "outputs": [
    {
     "name": "stdout",
     "output_type": "stream",
     "text": [
      "|    | id                | name                           | timegate                                         | cdx-api                                               |\n",
      "|---:|:------------------|:-------------------------------|:-------------------------------------------------|:------------------------------------------------------|\n",
      "| 71 | CC-MAIN-2008-2009 | Index of 2008 - 2009 ARC files | https://index.commoncrawl.org/CC-MAIN-2008-2009/ | https://index.commoncrawl.org/CC-MAIN-2008-2009-index |\n"
     ]
    }
   ],
   "source": [
    "print(pd.DataFrame(cdx_indexes).tail(1).to_markdown())"
   ]
  },
  {
   "cell_type": "code",
   "execution_count": 32,
   "metadata": {},
   "outputs": [
    {
     "data": {
      "text/plain": [
       "'https://index.commoncrawl.org/CC-MAIN-2020-24-index'"
      ]
     },
     "execution_count": 32,
     "metadata": {},
     "output_type": "execute_result"
    }
   ],
   "source": [
    "api_url = cdx_indexes[0]['cdx-api']\n",
    "api_url"
   ]
  },
  {
   "cell_type": "markdown",
   "metadata": {},
   "source": [
    "## Basic usage"
   ]
  },
  {
   "cell_type": "code",
   "execution_count": 33,
   "metadata": {},
   "outputs": [],
   "source": [
    "r = requests.get(api_url,\n",
    "                 params = {\n",
    "                     'url': 'reddit.com',\n",
    "                     'limit': 10,\n",
    "                     'output': 'json'\n",
    "                 })"
   ]
  },
  {
   "cell_type": "code",
   "execution_count": 34,
   "metadata": {},
   "outputs": [],
   "source": [
    "records = [json.loads(line) for line in r.text.split('\\n') if line]"
   ]
  },
  {
   "cell_type": "code",
   "execution_count": 35,
   "metadata": {},
   "outputs": [
    {
     "data": {
      "text/html": [
       "<div>\n",
       "<style scoped>\n",
       "    .dataframe tbody tr th:only-of-type {\n",
       "        vertical-align: middle;\n",
       "    }\n",
       "\n",
       "    .dataframe tbody tr th {\n",
       "        vertical-align: top;\n",
       "    }\n",
       "\n",
       "    .dataframe thead th {\n",
       "        text-align: right;\n",
       "    }\n",
       "</style>\n",
       "<table border=\"1\" class=\"dataframe\">\n",
       "  <thead>\n",
       "    <tr style=\"text-align: right;\">\n",
       "      <th></th>\n",
       "      <th>urlkey</th>\n",
       "      <th>timestamp</th>\n",
       "      <th>offset</th>\n",
       "      <th>status</th>\n",
       "      <th>languages</th>\n",
       "      <th>digest</th>\n",
       "      <th>length</th>\n",
       "      <th>mime-detected</th>\n",
       "      <th>filename</th>\n",
       "      <th>charset</th>\n",
       "      <th>mime</th>\n",
       "      <th>url</th>\n",
       "      <th>redirect</th>\n",
       "    </tr>\n",
       "  </thead>\n",
       "  <tbody>\n",
       "    <tr>\n",
       "      <th>0</th>\n",
       "      <td>com,reddit)/</td>\n",
       "      <td>20200525024432</td>\n",
       "      <td>873986269</td>\n",
       "      <td>200</td>\n",
       "      <td>eng</td>\n",
       "      <td>C6Y4VCGYLE3NGEWLJNONES6JMNA74IA3</td>\n",
       "      <td>40851</td>\n",
       "      <td>text/html</td>\n",
       "      <td>crawl-data/CC-MAIN-2020-24/segments/1590347387155.10/warc/CC-MAIN-20200525001747-20200525031747-00335.warc.gz</td>\n",
       "      <td>UTF-8</td>\n",
       "      <td>text/html</td>\n",
       "      <td>https://www.reddit.com/</td>\n",
       "      <td>NaN</td>\n",
       "    </tr>\n",
       "    <tr>\n",
       "      <th>1</th>\n",
       "      <td>com,reddit)/</td>\n",
       "      <td>20200526071834</td>\n",
       "      <td>787273867</td>\n",
       "      <td>200</td>\n",
       "      <td>eng</td>\n",
       "      <td>PHMHCKU365PLDN5UQETZVR4UGMSPDXQJ</td>\n",
       "      <td>42855</td>\n",
       "      <td>text/html</td>\n",
       "      <td>crawl-data/CC-MAIN-2020-24/segments/1590347390448.11/warc/CC-MAIN-20200526050333-20200526080333-00335.warc.gz</td>\n",
       "      <td>UTF-8</td>\n",
       "      <td>text/html</td>\n",
       "      <td>https://www.reddit.com/</td>\n",
       "      <td>NaN</td>\n",
       "    </tr>\n",
       "    <tr>\n",
       "      <th>2</th>\n",
       "      <td>com,reddit)/</td>\n",
       "      <td>20200526163829</td>\n",
       "      <td>3815970</td>\n",
       "      <td>200</td>\n",
       "      <td>NaN</td>\n",
       "      <td>X67YXUXXE5GQPMJKMEE6555BNFPIER7L</td>\n",
       "      <td>35345</td>\n",
       "      <td>text/html</td>\n",
       "      <td>crawl-data/CC-MAIN-2020-24/segments/1590347391277.13/robotstxt/CC-MAIN-20200526160400-20200526190400-00048.warc.gz</td>\n",
       "      <td>NaN</td>\n",
       "      <td>text/html</td>\n",
       "      <td>https://www.reddit.com</td>\n",
       "      <td>NaN</td>\n",
       "    </tr>\n",
       "    <tr>\n",
       "      <th>...</th>\n",
       "      <td>...</td>\n",
       "      <td>...</td>\n",
       "      <td>...</td>\n",
       "      <td>...</td>\n",
       "      <td>...</td>\n",
       "      <td>...</td>\n",
       "      <td>...</td>\n",
       "      <td>...</td>\n",
       "      <td>...</td>\n",
       "      <td>...</td>\n",
       "      <td>...</td>\n",
       "      <td>...</td>\n",
       "      <td>...</td>\n",
       "    </tr>\n",
       "    <tr>\n",
       "      <th>7</th>\n",
       "      <td>com,reddit)/</td>\n",
       "      <td>20200528125122</td>\n",
       "      <td>12374752</td>\n",
       "      <td>301</td>\n",
       "      <td>NaN</td>\n",
       "      <td>3I42H3S6NNFQ2MSVX7XZKYAYSCX5QBYJ</td>\n",
       "      <td>616</td>\n",
       "      <td>application/octet-stream</td>\n",
       "      <td>crawl-data/CC-MAIN-2020-24/segments/1590347396089.30/crawldiagnostics/CC-MAIN-20200528104652-20200528134652-00582.warc.gz</td>\n",
       "      <td>NaN</td>\n",
       "      <td>unk</td>\n",
       "      <td>http://www.reddit.com/</td>\n",
       "      <td>https://www.reddit.com/</td>\n",
       "    </tr>\n",
       "    <tr>\n",
       "      <th>8</th>\n",
       "      <td>com,reddit)/</td>\n",
       "      <td>20200528125122</td>\n",
       "      <td>889368118</td>\n",
       "      <td>200</td>\n",
       "      <td>eng</td>\n",
       "      <td>7CF6J2D6SHWFD35MEQI43NNGR2W4SHHR</td>\n",
       "      <td>41402</td>\n",
       "      <td>text/html</td>\n",
       "      <td>crawl-data/CC-MAIN-2020-24/segments/1590347396089.30/warc/CC-MAIN-20200528104652-20200528134652-00335.warc.gz</td>\n",
       "      <td>UTF-8</td>\n",
       "      <td>text/html</td>\n",
       "      <td>https://www.reddit.com/</td>\n",
       "      <td>NaN</td>\n",
       "    </tr>\n",
       "    <tr>\n",
       "      <th>9</th>\n",
       "      <td>com,reddit)/</td>\n",
       "      <td>20200528192150</td>\n",
       "      <td>13537156</td>\n",
       "      <td>301</td>\n",
       "      <td>NaN</td>\n",
       "      <td>3I42H3S6NNFQ2MSVX7XZKYAYSCX5QBYJ</td>\n",
       "      <td>618</td>\n",
       "      <td>application/octet-stream</td>\n",
       "      <td>crawl-data/CC-MAIN-2020-24/segments/1590347399830.24/crawldiagnostics/CC-MAIN-20200528170840-20200528200840-00582.warc.gz</td>\n",
       "      <td>NaN</td>\n",
       "      <td>unk</td>\n",
       "      <td>http://www.reddit.com/</td>\n",
       "      <td>https://www.reddit.com/</td>\n",
       "    </tr>\n",
       "  </tbody>\n",
       "</table>\n",
       "<p>10 rows × 13 columns</p>\n",
       "</div>"
      ],
      "text/plain": [
       "          urlkey       timestamp     offset status languages  \\\n",
       "0   com,reddit)/  20200525024432  873986269    200       eng   \n",
       "1   com,reddit)/  20200526071834  787273867    200       eng   \n",
       "2   com,reddit)/  20200526163829    3815970    200       NaN   \n",
       "..           ...             ...        ...    ...       ...   \n",
       "7   com,reddit)/  20200528125122   12374752    301       NaN   \n",
       "8   com,reddit)/  20200528125122  889368118    200       eng   \n",
       "9   com,reddit)/  20200528192150   13537156    301       NaN   \n",
       "\n",
       "                              digest length             mime-detected  \\\n",
       "0   C6Y4VCGYLE3NGEWLJNONES6JMNA74IA3  40851                 text/html   \n",
       "1   PHMHCKU365PLDN5UQETZVR4UGMSPDXQJ  42855                 text/html   \n",
       "2   X67YXUXXE5GQPMJKMEE6555BNFPIER7L  35345                 text/html   \n",
       "..                               ...    ...                       ...   \n",
       "7   3I42H3S6NNFQ2MSVX7XZKYAYSCX5QBYJ    616  application/octet-stream   \n",
       "8   7CF6J2D6SHWFD35MEQI43NNGR2W4SHHR  41402                 text/html   \n",
       "9   3I42H3S6NNFQ2MSVX7XZKYAYSCX5QBYJ    618  application/octet-stream   \n",
       "\n",
       "                                                                                                                     filename  \\\n",
       "0               crawl-data/CC-MAIN-2020-24/segments/1590347387155.10/warc/CC-MAIN-20200525001747-20200525031747-00335.warc.gz   \n",
       "1               crawl-data/CC-MAIN-2020-24/segments/1590347390448.11/warc/CC-MAIN-20200526050333-20200526080333-00335.warc.gz   \n",
       "2          crawl-data/CC-MAIN-2020-24/segments/1590347391277.13/robotstxt/CC-MAIN-20200526160400-20200526190400-00048.warc.gz   \n",
       "..                                                                                                                        ...   \n",
       "7   crawl-data/CC-MAIN-2020-24/segments/1590347396089.30/crawldiagnostics/CC-MAIN-20200528104652-20200528134652-00582.warc.gz   \n",
       "8               crawl-data/CC-MAIN-2020-24/segments/1590347396089.30/warc/CC-MAIN-20200528104652-20200528134652-00335.warc.gz   \n",
       "9   crawl-data/CC-MAIN-2020-24/segments/1590347399830.24/crawldiagnostics/CC-MAIN-20200528170840-20200528200840-00582.warc.gz   \n",
       "\n",
       "   charset       mime                      url                 redirect  \n",
       "0    UTF-8  text/html  https://www.reddit.com/                      NaN  \n",
       "1    UTF-8  text/html  https://www.reddit.com/                      NaN  \n",
       "2      NaN  text/html   https://www.reddit.com                      NaN  \n",
       "..     ...        ...                      ...                      ...  \n",
       "7      NaN        unk   http://www.reddit.com/  https://www.reddit.com/  \n",
       "8    UTF-8  text/html  https://www.reddit.com/                      NaN  \n",
       "9      NaN        unk   http://www.reddit.com/  https://www.reddit.com/  \n",
       "\n",
       "[10 rows x 13 columns]"
      ]
     },
     "execution_count": 35,
     "metadata": {},
     "output_type": "execute_result"
    }
   ],
   "source": [
    "pd.DataFrame(records)"
   ]
  },
  {
   "cell_type": "code",
   "execution_count": 36,
   "metadata": {},
   "outputs": [
    {
     "name": "stdout",
     "output_type": "stream",
     "text": [
      "|    | urlkey       |      timestamp |    offset |   status | languages   | digest                           |   length | mime-detected   | filename                                                                                                           | charset   | mime      | url                     |   redirect |\n",
      "|---:|:-------------|---------------:|----------:|---------:|:------------|:---------------------------------|---------:|:----------------|:-------------------------------------------------------------------------------------------------------------------|:----------|:----------|:------------------------|-----------:|\n",
      "|  0 | com,reddit)/ | 20200525024432 | 873986269 |      200 | eng         | C6Y4VCGYLE3NGEWLJNONES6JMNA74IA3 |    40851 | text/html       | crawl-data/CC-MAIN-2020-24/segments/1590347387155.10/warc/CC-MAIN-20200525001747-20200525031747-00335.warc.gz      | UTF-8     | text/html | https://www.reddit.com/ |        nan |\n",
      "|  1 | com,reddit)/ | 20200526071834 | 787273867 |      200 | eng         | PHMHCKU365PLDN5UQETZVR4UGMSPDXQJ |    42855 | text/html       | crawl-data/CC-MAIN-2020-24/segments/1590347390448.11/warc/CC-MAIN-20200526050333-20200526080333-00335.warc.gz      | UTF-8     | text/html | https://www.reddit.com/ |        nan |\n",
      "|  2 | com,reddit)/ | 20200526163829 |   3815970 |      200 | nan         | X67YXUXXE5GQPMJKMEE6555BNFPIER7L |    35345 | text/html       | crawl-data/CC-MAIN-2020-24/segments/1590347391277.13/robotstxt/CC-MAIN-20200526160400-20200526190400-00048.warc.gz | nan       | text/html | https://www.reddit.com  |        nan |\n",
      "|  3 | com,reddit)/ | 20200526165552 | 879974740 |      200 | eng         | OSGHIVCFBI47ZSNMLG574K6SBZJ3LTBC |    39146 | text/html       | crawl-data/CC-MAIN-2020-24/segments/1590347391277.13/warc/CC-MAIN-20200526160400-20200526190400-00335.warc.gz      | UTF-8     | text/html | https://www.reddit.com/ |        nan |\n",
      "|  4 | com,reddit)/ | 20200527211917 | 858583595 |      200 | eng         | UHM2VERG5OUOELJFD7O25JVUBZVDPDLU |    35751 | text/html       | crawl-data/CC-MAIN-2020-24/segments/1590347396163.18/warc/CC-MAIN-20200527204212-20200527234212-00335.warc.gz      | UTF-8     | text/html | https://www.reddit.com/ |        nan |\n"
     ]
    }
   ],
   "source": [
    "print(pd.DataFrame(records).head().to_markdown())"
   ]
  },
  {
   "cell_type": "markdown",
   "metadata": {},
   "source": [
    "## Filters and fields"
   ]
  },
  {
   "cell_type": "markdown",
   "metadata": {},
   "source": [
    "Let's use a few of the bells and whistles form the API.\n",
    "\n",
    "Particularly interesting are the [filters](https://github.com/webrecorder/pywb/wiki/CDX-Server-API#filter) which let us to only get rows that we need."
   ]
  },
  {
   "cell_type": "code",
   "execution_count": 37,
   "metadata": {},
   "outputs": [],
   "source": [
    "r = requests.get(api_url,\n",
    "                 params = {\n",
    "                     'url': 'https://www.reddit.com/r/',\n",
    "                     'matchType': 'prefix',\n",
    "                     'limit': 10,\n",
    "                     'output': 'json',\n",
    "                     'fl': 'url,filename,offset,length',\n",
    "                     'filter': ['=status:200', '=mime-detected:text/html', '~url:.*/comments/']\n",
    "                 })"
   ]
  },
  {
   "cell_type": "code",
   "execution_count": 38,
   "metadata": {},
   "outputs": [],
   "source": [
    "r.raise_for_status()"
   ]
  },
  {
   "cell_type": "code",
   "execution_count": 39,
   "metadata": {},
   "outputs": [
    {
     "data": {
      "text/html": [
       "<div>\n",
       "<style scoped>\n",
       "    .dataframe tbody tr th:only-of-type {\n",
       "        vertical-align: middle;\n",
       "    }\n",
       "\n",
       "    .dataframe tbody tr th {\n",
       "        vertical-align: top;\n",
       "    }\n",
       "\n",
       "    .dataframe thead th {\n",
       "        text-align: right;\n",
       "    }\n",
       "</style>\n",
       "<table border=\"1\" class=\"dataframe\">\n",
       "  <thead>\n",
       "    <tr style=\"text-align: right;\">\n",
       "      <th></th>\n",
       "      <th>url</th>\n",
       "      <th>filename</th>\n",
       "      <th>offset</th>\n",
       "      <th>length</th>\n",
       "    </tr>\n",
       "  </thead>\n",
       "  <tbody>\n",
       "    <tr>\n",
       "      <th>0</th>\n",
       "      <td>https://www.reddit.com/r/0xbitcoin/comments/8o06dk/links_to_the_newestbest_miners_for_nvidia_amd/</td>\n",
       "      <td>crawl-data/CC-MAIN-2020-24/segments/1590347401260.16/warc/CC-MAIN-20200529023731-20200529053731-00112.warc.gz</td>\n",
       "      <td>873475618</td>\n",
       "      <td>30260</td>\n",
       "    </tr>\n",
       "    <tr>\n",
       "      <th>1</th>\n",
       "      <td>https://www.reddit.com/r/100yearsago/comments/ghkkz1/may_11th_1920_first_nsdap_advertising_posters_in/?ref_source=embed&amp;ref=share</td>\n",
       "      <td>crawl-data/CC-MAIN-2020-24/segments/1590347392142.20/warc/CC-MAIN-20200527075559-20200527105559-00198.warc.gz</td>\n",
       "      <td>880229230</td>\n",
       "      <td>32606</td>\n",
       "    </tr>\n",
       "    <tr>\n",
       "      <th>2</th>\n",
       "      <td>https://www.reddit.com/r/2007scape/comments/6250um/thinking_about_returning_to_osrs/</td>\n",
       "      <td>crawl-data/CC-MAIN-2020-24/segments/1590347391923.3/warc/CC-MAIN-20200526222359-20200527012359-00533.warc.gz</td>\n",
       "      <td>895963534</td>\n",
       "      <td>24631</td>\n",
       "    </tr>\n",
       "    <tr>\n",
       "      <th>...</th>\n",
       "      <td>...</td>\n",
       "      <td>...</td>\n",
       "      <td>...</td>\n",
       "      <td>...</td>\n",
       "    </tr>\n",
       "    <tr>\n",
       "      <th>7</th>\n",
       "      <td>https://www.reddit.com/r/2darkpark/comments/frm60b/so_how_is_everyone_doing/</td>\n",
       "      <td>crawl-data/CC-MAIN-2020-24/segments/1590348492295.88/warc/CC-MAIN-20200604223445-20200605013445-00195.warc.gz</td>\n",
       "      <td>851246292</td>\n",
       "      <td>17847</td>\n",
       "    </tr>\n",
       "    <tr>\n",
       "      <th>8</th>\n",
       "      <td>https://www.reddit.com/r/2healthbars/comments/8tg1y7/the_heel_of_these_heels_are_heels/</td>\n",
       "      <td>crawl-data/CC-MAIN-2020-24/segments/1590347415315.43/warc/CC-MAIN-20200601071242-20200601101242-00439.warc.gz</td>\n",
       "      <td>855249693</td>\n",
       "      <td>31284</td>\n",
       "    </tr>\n",
       "    <tr>\n",
       "      <th>9</th>\n",
       "      <td>https://www.reddit.com/r/3Dprinting/comments/3pf96w/troubleshooting_proximity_sensor/</td>\n",
       "      <td>crawl-data/CC-MAIN-2020-24/segments/1590347445880.79/warc/CC-MAIN-20200604161214-20200604191214-00560.warc.gz</td>\n",
       "      <td>842910073</td>\n",
       "      <td>22084</td>\n",
       "    </tr>\n",
       "  </tbody>\n",
       "</table>\n",
       "<p>10 rows × 4 columns</p>\n",
       "</div>"
      ],
      "text/plain": [
       "                                                                                                                                  url  \\\n",
       "0                                   https://www.reddit.com/r/0xbitcoin/comments/8o06dk/links_to_the_newestbest_miners_for_nvidia_amd/   \n",
       "1   https://www.reddit.com/r/100yearsago/comments/ghkkz1/may_11th_1920_first_nsdap_advertising_posters_in/?ref_source=embed&ref=share   \n",
       "2                                                https://www.reddit.com/r/2007scape/comments/6250um/thinking_about_returning_to_osrs/   \n",
       "..                                                                                                                                ...   \n",
       "7                                                        https://www.reddit.com/r/2darkpark/comments/frm60b/so_how_is_everyone_doing/   \n",
       "8                                             https://www.reddit.com/r/2healthbars/comments/8tg1y7/the_heel_of_these_heels_are_heels/   \n",
       "9                                               https://www.reddit.com/r/3Dprinting/comments/3pf96w/troubleshooting_proximity_sensor/   \n",
       "\n",
       "                                                                                                         filename  \\\n",
       "0   crawl-data/CC-MAIN-2020-24/segments/1590347401260.16/warc/CC-MAIN-20200529023731-20200529053731-00112.warc.gz   \n",
       "1   crawl-data/CC-MAIN-2020-24/segments/1590347392142.20/warc/CC-MAIN-20200527075559-20200527105559-00198.warc.gz   \n",
       "2    crawl-data/CC-MAIN-2020-24/segments/1590347391923.3/warc/CC-MAIN-20200526222359-20200527012359-00533.warc.gz   \n",
       "..                                                                                                            ...   \n",
       "7   crawl-data/CC-MAIN-2020-24/segments/1590348492295.88/warc/CC-MAIN-20200604223445-20200605013445-00195.warc.gz   \n",
       "8   crawl-data/CC-MAIN-2020-24/segments/1590347415315.43/warc/CC-MAIN-20200601071242-20200601101242-00439.warc.gz   \n",
       "9   crawl-data/CC-MAIN-2020-24/segments/1590347445880.79/warc/CC-MAIN-20200604161214-20200604191214-00560.warc.gz   \n",
       "\n",
       "       offset length  \n",
       "0   873475618  30260  \n",
       "1   880229230  32606  \n",
       "2   895963534  24631  \n",
       "..        ...    ...  \n",
       "7   851246292  17847  \n",
       "8   855249693  31284  \n",
       "9   842910073  22084  \n",
       "\n",
       "[10 rows x 4 columns]"
      ]
     },
     "execution_count": 39,
     "metadata": {},
     "output_type": "execute_result"
    }
   ],
   "source": [
    "pd.DataFrame([json.loads(line) for line in r.text.split('\\n') if line])"
   ]
  },
  {
   "cell_type": "markdown",
   "metadata": {},
   "source": [
    "## Pagination\n",
    "\n",
    "The [introductory blog post to CDX on Common Crawl](https://commoncrawl.org/2015/04/announcing-the-common-crawl-index/) mentions it's paginated to 15,000 results by default.\n",
    "\n",
    "Let's test that"
   ]
  },
  {
   "cell_type": "code",
   "execution_count": 40,
   "metadata": {},
   "outputs": [],
   "source": [
    "r = requests.get(api_url,\n",
    "                 params = {\n",
    "                     'url': '*.wikipedia.org',\n",
    "                     'output': 'json',\n",
    "                     'showNumPages': True,\n",
    "                 })"
   ]
  },
  {
   "cell_type": "markdown",
   "metadata": {},
   "source": [
    "* pageSize is number of results in (compressed) blocks\n",
    "* blocks is total number of compressed blocks\n",
    "* pages = (blocks // page_size)\n"
   ]
  },
  {
   "cell_type": "code",
   "execution_count": 41,
   "metadata": {},
   "outputs": [
    {
     "data": {
      "text/plain": [
       "{'pageSize': 5, 'blocks': 2044, 'pages': 409}"
      ]
     },
     "execution_count": 41,
     "metadata": {},
     "output_type": "execute_result"
    }
   ],
   "source": [
    "num_pages = r.json()\n",
    "num_pages"
   ]
  },
  {
   "cell_type": "code",
   "execution_count": 42,
   "metadata": {},
   "outputs": [],
   "source": [
    "import math"
   ]
  },
  {
   "cell_type": "code",
   "execution_count": 43,
   "metadata": {},
   "outputs": [
    {
     "data": {
      "text/plain": [
       "True"
      ]
     },
     "execution_count": 43,
     "metadata": {},
     "output_type": "execute_result"
    }
   ],
   "source": [
    "math.ceil(num_pages['blocks'] / num_pages['pageSize']) == num_pages['pages']"
   ]
  },
  {
   "cell_type": "code",
   "execution_count": 45,
   "metadata": {},
   "outputs": [],
   "source": [
    "r = requests.get(api_url,\n",
    "                 params = {\n",
    "                     'url': '*.wikipedia.org',\n",
    "                     'output': 'json',\n",
    "                 })"
   ]
  },
  {
   "cell_type": "code",
   "execution_count": 46,
   "metadata": {},
   "outputs": [
    {
     "name": "stdout",
     "output_type": "stream",
     "text": [
      "The history saving thread hit an unexpected error (OperationalError('disk I/O error',)).History will not be written to the database.\n"
     ]
    }
   ],
   "source": [
    "results = [json.loads(line) for line in r.text.split('\\n') if line]"
   ]
  },
  {
   "cell_type": "code",
   "execution_count": 47,
   "metadata": {},
   "outputs": [
    {
     "data": {
      "text/plain": [
       "14735"
      ]
     },
     "execution_count": 47,
     "metadata": {},
     "output_type": "execute_result"
    }
   ],
   "source": [
    "len(results)"
   ]
  },
  {
   "cell_type": "code",
   "execution_count": 48,
   "metadata": {},
   "outputs": [
    {
     "data": {
      "text/plain": [
       "{'urlkey': 'org,wikipedia,ace)/wiki/geurija_katolik_roma',\n",
       " 'timestamp': '20200606214423',\n",
       " 'offset': '227178899',\n",
       " 'status': '200',\n",
       " 'languages': 'nno,roh,srp',\n",
       " 'digest': 'SH3WZL442PB2DKYVIFADVHJU6JC2THSA',\n",
       " 'length': '18538',\n",
       " 'mime-detected': 'text/html',\n",
       " 'filename': 'crawl-data/CC-MAIN-2020-24/segments/1590348519531.94/warc/CC-MAIN-20200606190934-20200606220934-00311.warc.gz',\n",
       " 'charset': 'UTF-8',\n",
       " 'mime': 'text/html',\n",
       " 'url': 'https://ace.wikipedia.org/wiki/Geurija_Katolik_Roma'}"
      ]
     },
     "execution_count": 48,
     "metadata": {},
     "output_type": "execute_result"
    }
   ],
   "source": [
    "results[-1]"
   ]
  },
  {
   "cell_type": "markdown",
   "metadata": {},
   "source": [
    "We can adjust the pageSize (in blocks) as well"
   ]
  },
  {
   "cell_type": "code",
   "execution_count": 49,
   "metadata": {},
   "outputs": [],
   "source": [
    "r = requests.get(api_url,\n",
    "                 params = {\n",
    "                     'url': '*.wikipedia.org',\n",
    "                     'output': 'json',\n",
    "                     'page': 3,\n",
    "                     'pageSize': 1,\n",
    "                 })"
   ]
  },
  {
   "cell_type": "code",
   "execution_count": 50,
   "metadata": {},
   "outputs": [],
   "source": [
    "results2 = [json.loads(line) for line in r.text.split('\\n') if line]"
   ]
  },
  {
   "cell_type": "markdown",
   "metadata": {},
   "source": [
    "About 3,000 results per page"
   ]
  },
  {
   "cell_type": "code",
   "execution_count": 51,
   "metadata": {},
   "outputs": [
    {
     "data": {
      "text/plain": [
       "3000"
      ]
     },
     "execution_count": 51,
     "metadata": {},
     "output_type": "execute_result"
    }
   ],
   "source": [
    "len(results2)"
   ]
  },
  {
   "cell_type": "code",
   "execution_count": 52,
   "metadata": {},
   "outputs": [
    {
     "data": {
      "text/plain": [
       "{'urlkey': 'org,wikipedia)/',\n",
       " 'timestamp': '20200524210621',\n",
       " 'offset': '3147602',\n",
       " 'status': '301',\n",
       " 'digest': 'C4WTJB6KZKE6XGJGU4MBB2U4ON7YIZTW',\n",
       " 'redirect': 'https://www.wikipedia.org/',\n",
       " 'length': '938',\n",
       " 'mime-detected': 'text/html',\n",
       " 'filename': 'crawl-data/CC-MAIN-2020-24/segments/1590347385193.5/robotstxt/CC-MAIN-20200524210325-20200525000325-00349.warc.gz',\n",
       " 'mime': 'text/html',\n",
       " 'url': 'https://wikipedia.org'}"
      ]
     },
     "execution_count": 52,
     "metadata": {},
     "output_type": "execute_result"
    }
   ],
   "source": [
    "results[0]"
   ]
  },
  {
   "cell_type": "markdown",
   "metadata": {},
   "source": [
    "This should correspond to the 3rd fifth of results"
   ]
  },
  {
   "cell_type": "code",
   "execution_count": 53,
   "metadata": {
    "scrolled": true
   },
   "outputs": [
    {
     "data": {
      "text/plain": [
       "[]"
      ]
     },
     "execution_count": 53,
     "metadata": {},
     "output_type": "execute_result"
    }
   ],
   "source": [
    "[r for r in results2 if r not in results]"
   ]
  },
  {
   "cell_type": "markdown",
   "metadata": {},
   "source": [
    "Going past the last page"
   ]
  },
  {
   "cell_type": "code",
   "execution_count": 54,
   "metadata": {},
   "outputs": [],
   "source": [
    "r = requests.get(api_url,\n",
    "                 params = {\n",
    "                     'url': '*.wikipedia.org',\n",
    "                     'output': 'json',\n",
    "                     'page': 409,\n",
    "                 })"
   ]
  },
  {
   "cell_type": "code",
   "execution_count": 55,
   "metadata": {},
   "outputs": [
    {
     "data": {
      "text/plain": [
       "400"
      ]
     },
     "execution_count": 55,
     "metadata": {},
     "output_type": "execute_result"
    }
   ],
   "source": [
    "r.status_code"
   ]
  },
  {
   "cell_type": "code",
   "execution_count": 56,
   "metadata": {},
   "outputs": [
    {
     "name": "stdout",
     "output_type": "stream",
     "text": [
      "<!DOCTYPE html>\n",
      "<html>\n",
      "<head>\n",
      "<link rel=\"stylesheet\" href=\"/static/__shared/shared.css\"/>\n",
      "</head>\n",
      "<body>\n",
      "<h2>Common Crawl Index Server Error</h2>\n",
      "<b>Page 409 invalid: First Page is 0, Last Page is 408</b>\n",
      "\n",
      "</body>\n",
      "</html>\n"
     ]
    }
   ],
   "source": [
    "print(r.text)"
   ]
  },
  {
   "cell_type": "markdown",
   "metadata": {},
   "source": [
    "## An empty request"
   ]
  },
  {
   "cell_type": "code",
   "execution_count": 57,
   "metadata": {},
   "outputs": [],
   "source": [
    "r = requests.get(api_url,\n",
    "                 params = {\n",
    "                     'url': 'skeptric.com/*',\n",
    "                     'output': 'json',\n",
    "                 })"
   ]
  },
  {
   "cell_type": "code",
   "execution_count": 58,
   "metadata": {},
   "outputs": [
    {
     "data": {
      "text/plain": [
       "404"
      ]
     },
     "execution_count": 58,
     "metadata": {},
     "output_type": "execute_result"
    }
   ],
   "source": [
    "r.status_code"
   ]
  },
  {
   "cell_type": "code",
   "execution_count": 59,
   "metadata": {},
   "outputs": [
    {
     "data": {
      "text/plain": [
       "{'error': 'No Captures found for: skeptric.com/*'}"
      ]
     },
     "execution_count": 59,
     "metadata": {},
     "output_type": "execute_result"
    }
   ],
   "source": [
    "r.json()"
   ]
  },
  {
   "cell_type": "markdown",
   "metadata": {},
   "source": [
    "# Retrieving content"
   ]
  },
  {
   "cell_type": "code",
   "execution_count": 60,
   "metadata": {},
   "outputs": [],
   "source": [
    "record = records[0]"
   ]
  },
  {
   "cell_type": "code",
   "execution_count": 61,
   "metadata": {},
   "outputs": [
    {
     "data": {
      "text/plain": [
       "{'urlkey': 'com,reddit)/',\n",
       " 'timestamp': '20200525024432',\n",
       " 'offset': '873986269',\n",
       " 'status': '200',\n",
       " 'languages': 'eng',\n",
       " 'digest': 'C6Y4VCGYLE3NGEWLJNONES6JMNA74IA3',\n",
       " 'length': '40851',\n",
       " 'mime-detected': 'text/html',\n",
       " 'filename': 'crawl-data/CC-MAIN-2020-24/segments/1590347387155.10/warc/CC-MAIN-20200525001747-20200525031747-00335.warc.gz',\n",
       " 'charset': 'UTF-8',\n",
       " 'mime': 'text/html',\n",
       " 'url': 'https://www.reddit.com/'}"
      ]
     },
     "execution_count": 61,
     "metadata": {},
     "output_type": "execute_result"
    }
   ],
   "source": [
    "record"
   ]
  },
  {
   "cell_type": "code",
   "execution_count": 62,
   "metadata": {},
   "outputs": [
    {
     "data": {
      "text/plain": [
       "'https://commoncrawl.s3.amazonaws.com/crawl-data/CC-MAIN-2020-24/segments/1590347387155.10/warc/CC-MAIN-20200525001747-20200525031747-00335.warc.gz'"
      ]
     },
     "execution_count": 62,
     "metadata": {},
     "output_type": "execute_result"
    }
   ],
   "source": [
    "data_url = 'https://commoncrawl.s3.amazonaws.com/' + record['filename']\n",
    "data_url"
   ]
  },
  {
   "cell_type": "markdown",
   "metadata": {},
   "source": [
    "Use a [Range header](https://developer.mozilla.org/en-US/docs/Web/HTTP/Headers/Range) to get just the data we need."
   ]
  },
  {
   "cell_type": "code",
   "execution_count": 63,
   "metadata": {
    "scrolled": true
   },
   "outputs": [
    {
     "data": {
      "text/plain": [
       "{'Range': 'bytes=873986269-874027120'}"
      ]
     },
     "execution_count": 63,
     "metadata": {},
     "output_type": "execute_result"
    }
   ],
   "source": [
    "headers = {'Range': f'bytes={int(record[\"offset\"])}-{int(record[\"offset\"]) + int(record[\"length\"])}'}\n",
    "headers"
   ]
  },
  {
   "cell_type": "code",
   "execution_count": 64,
   "metadata": {},
   "outputs": [],
   "source": [
    "r = requests.get(data_url, headers=headers)"
   ]
  },
  {
   "cell_type": "code",
   "execution_count": 68,
   "metadata": {},
   "outputs": [],
   "source": [
    "import zlib"
   ]
  },
  {
   "cell_type": "code",
   "execution_count": 70,
   "metadata": {},
   "outputs": [
    {
     "ename": "error",
     "evalue": "Error -3 while decompressing data: incorrect header check",
     "output_type": "error",
     "traceback": [
      "\u001b[0;31m---------------------------------------------------------------------------\u001b[0m",
      "\u001b[0;31merror\u001b[0m                                     Traceback (most recent call last)",
      "\u001b[0;32m<ipython-input-70-f8ed674d6457>\u001b[0m in \u001b[0;36m<module>\u001b[0;34m\u001b[0m\n\u001b[0;32m----> 1\u001b[0;31m \u001b[0mdata\u001b[0m \u001b[0;34m=\u001b[0m \u001b[0mzlib\u001b[0m\u001b[0;34m.\u001b[0m\u001b[0mdecompress\u001b[0m\u001b[0;34m(\u001b[0m\u001b[0mr\u001b[0m\u001b[0;34m.\u001b[0m\u001b[0mcontent\u001b[0m\u001b[0;34m)\u001b[0m\u001b[0;34m\u001b[0m\u001b[0;34m\u001b[0m\u001b[0m\n\u001b[0m",
      "\u001b[0;31merror\u001b[0m: Error -3 while decompressing data: incorrect header check"
     ]
    }
   ],
   "source": [
    "data = zlib.decompress(r.content)"
   ]
  },
  {
   "cell_type": "markdown",
   "metadata": {},
   "source": [
    "We have to use zlib instead of gzip because we're not reading from the start of the file, and so gzip headers aren't there.\n",
    "\n",
    "For gzip compatible we need to [set the wbits](https://stackoverflow.com/a/22310760)."
   ]
  },
  {
   "cell_type": "code",
   "execution_count": 71,
   "metadata": {},
   "outputs": [],
   "source": [
    "data = zlib.decompress(r.content, wbits = zlib.MAX_WBITS | 16)"
   ]
  },
  {
   "cell_type": "code",
   "execution_count": 72,
   "metadata": {},
   "outputs": [
    {
     "name": "stdout",
     "output_type": "stream",
     "text": [
      "WARC/1.0\r\n",
      "WARC-Type: response\r\n",
      "WARC-Date: 2020-05-25T02:44:32Z\r\n",
      "WARC-Record-ID: <urn:uuid:fa7c243e-d055-469b-bb4f-aa8580bc8330>\r\n",
      "Content-Length: 238774\r\n",
      "Content-Type: application/http; msgtype=response\r\n",
      "WARC-Warcinfo-ID: <urn:uuid:2a234f6f-6796-4962-8c6f-84a6fe8b8945>\r\n",
      "WARC-Concurrent-To: <urn:uuid:b7ec4524-bc4a-4da1-906b-6c53f9c9836e>\r\n",
      "WARC-IP-Address: 199.232.65.140\r\n",
      "WARC-Target-URI: https://www.reddit.com/\r\n",
      "WARC-Payload-Digest: sha1:C6Y4VCGYLE3NGEWLJNONES6JMNA74IA3\r\n",
      "WARC-Block-Digest: sha1:HJ6BA5YAW24SEPDAYA5NUAXA6RG2UBBJ\r\n",
      "WARC-Identified-Payload-Type: text/html\r\n",
      "\r\n",
      "HTTP/1.1 200 OK\r\n",
      "Connection: keep-alive\r\n",
      "X-Crawler-Content-Length: 41748\r\n",
      "Content-Length: 237219\r\n",
      "Content-Type: text/html; charset=UTF-8\r\n",
      "x-ua-compatible: IE=edge\r\n",
      "x-frame-options: SAMEORIGIN\r\n",
      "x-content-type-options: nosniff\r\n",
      "x-xss-protection: 1; mode=block\r\n",
      "X-Crawler-Content-Encoding: gzip\r\n",
      "cache-control: max-age=0, must-revalidate\r\n",
      "X-Moose: majestic\r\n",
      "Accept-Ranges: bytes\r\n",
      "Date: Mon, 25 May 2020 02:44:32 GMT\r\n",
      "Via: 1.1 varnish\r\n",
      "X-Served-By: cache-wdc5543-WDC\r\n",
      "X-Cache: MISS\r\n",
      "X-Cache-Hits: 0\r\n",
      "X-Timer: S1590374672.949570,VS0,VE950\r\n",
      "Vary: accept-encoding\r\n",
      "Set-Cookie: loid=00000000006kkgzyec.2.1590374671996.Z0FBQUFBQmV5ekVRNHBWX0ZOM3RJb0FRX0FHRzVzNVdlMXY2ejUwdFBxeHJkczRtLUlNR2o1SUxNUGlhSU12WnBsSjFfdmNkYl9fTm9GSUk2SHJHTmdmejUwblMzcnBESm0yZVlYUXBmekNqTVNuQXRTOUpHRndXek9zS1pvVVJxN05HdmVBUmFXZUI; Domain=reddit.com; Max-Age=63071999; Path=/; expires=Wed, 25-May-2022 02:44:32 GMT; secure; SameSite=None; Secure\r\n",
      "Set-Cookie: session_tracker=LwR2XV8052i86pF3B7.0.1590374671996.Z0FBQUFBQmV5ekVRZ2tNSkRpM0ZsYUlLcVJtRFBfOXRsREVCRlRPWElkRFpIUkJtODl3dnpnaDloZDM1NXplM0xMZEZialZxT0RhR250cEtTTTdfbXAyT2dqWGYyVVlSOV9TQ2paLUpITWloVkRibGw1SzhyMGo3b0RCdVhNT0tuN0pZSWU3ZE45Nkc; Domain=reddit.com; Max-Age=7199; Path=/; expires=Mon, 25-May-2020 04:44:32 GMT; secure; SameSite=None; Secure\r\n",
      "Set-Cookie: csv=1; Max-Age=63072000; Domain=.reddit.com; Path=/; Secure; SameSite=None\r\n",
      "Set-Cookie: edgebucket=gwfpIQWim0qQ1ddmdP; Domain=reddit.com; Max-Age=63071999; Path=/;  secure\r\n",
      "Strict-Transport-Security: max-age=15552000; includeSubDomains; preload\r\n",
      "Server: snooserv\r\n",
      "\r\n",
      "<!doctype html><html xmlns=\"http://www.w3.org/1999/xhtml\" lang=\"en\" xml:lang=\"en\"><head><title>reddit: the front page of the internet</title><meta name=\"keywords\" content=\" reddit, reddit.com, vote, comment, submit \" /><meta name=\"description\" content=\"Reddit gives you the best of the internet in one place. Get a constantly updating feed of breaking news, fun stories, pics, memes, and videos just for you. Passionate about something niche? Reddit has thousands of vibrant communities with people that share your interests. Alternatively, find out what’s trending across all of Reddit on r/popular. Reddit is also anonymous so you can be yourself, with your Reddit profile and persona disconnected from your real-world identity.\" /><meta name=\"referrer\" content=\"always\"><meta http-equiv=\"Content-Type\" content=\"text/html; charset=UTF-8\" /><link type=\"application/opensearchdescription+xml\" rel=\"search\" href=\"/static/opensearch.xml\"/><link rel=\"canonical\" href=\"https://www.reddit.com/\" /><meta name=\"viewport\" content=\"width=1024\"><link rel=\"dns-prefetch\" href=\"//out.reddit.com\"><link rel=\"preconnect\" href=\"//out.reddit.com\"><link rel=\"apple-touch-icon\" sizes=\"57x57\" href=\"//www.redditstatic.com/desktop2x/img/favicon/apple-icon-57x57.png\" /><link rel=\"apple-touch-icon\" sizes=\"60x60\" href=\"//www.redditstatic.com/desktop2x/img/favicon/apple-icon-60x60.png\" /><link rel=\"apple-touch-icon\" sizes=\"72x72\" href=\"//www.redditstatic.com/desktop2x/img/favicon/apple-icon-72x72.png\" /><link rel=\"apple-touch-icon\" sizes=\"76x76\" href=\"//www.redditstatic.com/desktop2x/img/favicon/apple-icon-76x76.png\" /><link rel=\"apple-touch-icon\" sizes=\"114x114\" href=\"//www.redditstatic.com/desktop2x/img/favicon/apple-icon-114x114.png\" /><link rel=\"apple-touch-icon\" sizes=\"120x120\" href=\"//www.redditstatic.com/desktop2x/img/favicon/apple-icon-120x120.png\" /><link rel=\"apple-touch-icon\" sizes=\"144x144\" href=\"//www.redditstatic.com/desktop2x/img/favicon/apple-icon-144x144.png\" /><link rel=\"apple-touch-icon\" sizes=\"152x152\" href=\"//www.redditstatic.com/desktop2x/img/favicon/apple-icon-152x152.png\" /><link rel=\"apple-touch-icon\" sizes=\"180x180\" href=\"//www.redditstatic.com/desktop2x/img/favicon/apple-icon-180x180.png\" /><link rel=\"icon\" type=\"image/png\" sizes=\"192x192\" href=\"//www.redditstatic.com/desktop2x/img/favicon/android-icon-192x192.png\" /><link rel=\"icon\" type=\"image/png\" sizes=\"32x32\" href=\"//www.redditstatic.com/desktop2x/img/favicon/favicon-32x32.png\" /><link rel=\"icon\" type=\"image/png\" sizes=\"96x96\" href=\"//www.redditstatic.com/desktop2x/img/favicon/favicon-96x96.png\" /><link rel=\"icon\" type=\"image/png\" sizes=\"16x16\" href=\"//www.redditstatic.com/desktop2x/img/favicon/favicon-16x16.png\" /><link rel=\"manifest\" href=\"//www.redditstatic.com/desktop2x/img/favicon/manifest.json\"/><meta name=\"msapplication-TileColor\" content=\"#ffffff\"/><meta name=\"msapplication-TileImage\" content=\"//www.redditstatic.com/desktop2x/img/favicon/ms-icon-144x144.png\"/><meta name=\"theme-color\" content=\"#ffffff\"/><link rel=\"alternate\" type=\"application/atom+xml\" title=\"RSS\" href=\"https://www.reddit.com/.rss\" /><link rel=\"stylesheet\" type=\"text/css\" href=\"//www.redditstatic.com/reddit.6-fmKdWEVQE.css\" media=\"all\"><link rel=\"stylesheet\" type=\"text/css\" href=\"//www.redditstatic.com/expando.gMzRK16vwrQ.css\" media=\"all\"><link rel=\"stylesheet\" type=\"text/css\" href=\"//www.redditstatic.com/crosspost-preview.De3P20Yb4PY.css\" media=\"all\"><link rel=\"stylesheet\" type=\"text/css\" href=\"//www.redditstatic.com/author-tooltip.1VKQhhDIRMI.css\" media=\"all\"><link rel=\"stylesheet\" type=\"text/css\" href=\"//www.redditstatic.com/listing-comments.AZZO7Kj_O88.css\" media=\"all\"><link rel=\"stylesheet\" type=\"text/css\" href=\"//www.redditstatic.com/popup-notification.6-JvPBpHWMo.css\" media=\"all\"><link rel=\"stylesheet\" type=\"text/css\" href=\"//www.redditstatic.com/desktoponboarding.GwBQjruLr-k.css\" media=\"all\"><link rel=\"stylesheet\" type=\"text/css\" href=\"//www.redditstatic.com/videoplayer.YbUSlMWPXyg.css\" media=\"all\"><link rel=\"stylesheet\" type=\"text/css\" href=\"//www.redditstatic.com/videoplayercontrols.a_TwaTy76-k.css\" media=\"all\"><!--[if gte IE 8]><!--><!--<![endif]--><!--[if gte IE 9]><!--><script type=\"text/javascript\" src=\"//www.redditstatic.com/reddit-init.en.Aygl3i1rv7Y.js\"></script><!--<![endif]--><!--[if lt IE 9]><script type=\"text/javascript\" src=\"//www.redditstatic.com/reddit-init-legacy.en.rufbM0fwQOM.js\"></script><![endif]--><script type=\"text/javascript\" src=\"//www.redditstatic.com/videoplayer.4suHfN5ZJEo.js\"></script><script type=\"text/javascript\" id=\"config\">r.setup({\"ajax_domain\": \"www.reddit.com\", \"post_site\": \"\", \"gold\": false, \"scraped_image_extensions\": [\"gif\", \"jpeg\", \"jpg\", \"png\", \"tiff\"], \"poisoning_report_mac\": null, \"requires_eu_cookie_policy\": false, \"nsfw_media_acknowledged\": false, \"stats_domain\": \"\", \"cur_screen_name\": \"\", \"evb_variant\": \"tooltip\", \"facebook_app_id\": \"322647334569188\", \"loid\": \"00000000006kkgzyec\", \"is_sponsor\": false, \"has_gold_subscription\": false, \"feature_author_tooltip_users\": true, \"user_id\": false, \"pref_email_messages\": false, \"poisoning_canary\": null, \"logged\": false, \"over_18\": false, \"show_spez_modal\": true, \"show_archived_signup_cta\": true, \"loid_created\": 1590374671996, \"mweb_blacklist_expressions\": [\"^/prefs/?\", \"^/live/?\", \"/message/compose\", \"/m/\", \"^/subreddits/create\", \"^/gold\", \"^/advertising\", \"^/promoted\", \"^/buttons\"], \"feature_noreferrer_to_noopener\": true, \"modhash\": \"\", \"external_frame\": false, \"feature_net_neutrality\": false, \"send_logs\": true, \"user_subscription_size\": 0, \"listing_over_18\": false, \"https_endpoint\": \"https://www.reddit.com\", \"extension\": null, \"embedded\": false, \"ads_loading_timeout_ms\": 5000, \"enabled_experiments\": {}, \"cache_policy\": \"loggedout_www\", \"admin_message_acct\": \"/r/reddit.com\", \"ecb_variant\": \"footer_2\", \"event_target\": {\"geo_filter\": \"US\", \"target_type\": \"listing\", \"target_sort\": \"best\"}, \"advertiser_category\": null, \"events_collector_v2_url\": \"https://www.reddit.com/api/submit\", \"debug\": false, \"has_subscribed\": false, \"static_root\": \"//www.redditstatic.com\", \"server_time\": 1590374672.0, \"feature_no_subscription_step\": null, \"feature_swap_steps_two_and_three_recalibration\": \"treatment_1\", \"pref_no_profanity\": true, \"share_tracking_ts\": 1590374672808, \"cur_domain\": \"reddit.com\", \"events_collector_url\": \"https://www.reddit.com/api/submit\", \"gild_url\": \"/framedGild\", \"user_in_timeout\": false, \"email_digests\": false, \"share_tracking_hmac\": null, \"live_orangereds_pref\": true, \"ad_serving_events_sample_rate\": \"1.00\", \"is_fake\": true, \"renderstyle\": \"html\", \"framed_modal_url\": \"/framedModal/\", \"user_age\": false, \"vote_hash\": \"5XeKhqRl4khBGFA1dsb7Wql2j73VW6lcRBy1FYCKVPQamBJZzNy5zpTFTOts0D6bbaVnapw/+K3Ja5q2x8bfQTl/7YXjcX7NS+rmNaZUPfJOOG9LCi/vvwcRyXB9tKh1MsCGt/LkTacOnkalB1tZT6BUSQh6gyht39xWB0FDB0I=\", \"events_collector_secret\": \"Ua3epahc7ZiengeeVaeG6eingahke7\", \"pref_video_autoplay\": true, \"events_collector_key\": \"RedditFrontend3\", \"scraped_domains\": [\"gfycat.com\", \"imgur.com\"], \"expando_preference\": \"subreddit_default\", \"store_visits\": false, \"cur_site\": \"\", \"new_window\": false, \"pref_beta\": false, \"eu_cookie_max_attempts\": 3, \"pageInfo\": {\"actionName\": \"best.GET_listing\", \"statsVerification\": \"43fcc3f4d77e33d0417bf235aea1aa2c52ef0fd6\", \"type\": \"home\", \"verification\": \"43fcc3f4d77e33d0417bf235aea1aa2c52ef0fd6\", \"statsName\": \"best.GET_listing\"}, \"user_websocket_url\": null, \"signature_header\": \"X-Signature\", \"media_domain\": \"www.redditmedia.com\", \"whitelist_status\": \"no_ads\", \"signature_header_v2\": \"X-Signature-v2\", \"cur_listing\": \"frontpage\", \"email_verified\": false, \"status_msg\": {\"fetching\": \"fetching title...\", \"loading\": \"loading...\", \"submitting\": \"submitting...\"}, \"stats_sample_rate\": \"5\", \"loid_version\": 2, \"eu_cookie\": \"eu_cookie\", \"is_moderator_somewhere\": false})</script><style type=\"text/css\">/* Custom css: use this block to insert special translation-dependent css in the page header */</style></head><body class=\"listing-page best-page\" ><div class=\"GoogleAd HomeAds InArticleAd LeftAd SidebarAd ad-300-250 ad-banner adbar adbox1 ads-area adsense-ad box_ad googad\" id=\"adblock-test\"></div><script>var frame = document.createElement('iframe'); frame.style.display = 'none'; frame.referrer = 'no-referrer'; frame.id = 'gtm-jail'; frame.name = JSON.stringify({ subreddit: r.config.post_site, origin: location.origin, url: location.href, userMatching: false, userId: r.config.user_id, advertiserCategory: r.config.advertiser_category, adsStatus: r.config.whitelist_status, }); frame.src = '//' + \"www.redditmedia.com\" + '/gtm/jail?cb=' + \"8CqR7FcToPI\"; document.body.appendChild(frame);</script><div id=\"header\" role=\"banner\"><a tabindex=\"1\" href=\"#content\" id=\"jumpToContent\">jump to content</a><div id=\"sr-header-area\"><div class=\"width-clip\"><div class=\"dropdown srdrop\" onclick=\"open_menu(this)\"><span class=\"selected title\">my subreddits</span></div><div class=\"drop-choices srdrop\"><a href=\"https://www.reddit.com/subreddits/\" class=\"bottom-option choice\" >edit subscriptions</a></div><div class=\"sr-list\"><ul class=\"flat-list sr-bar hover\" ><li class='selected'><a href=\"https://www.reddit.com/r/popular/\" class=\"choice\" >popular</a></li><li ><span class=\"separator\">-</span><a href=\"https://www.reddit.com/r/all/\" class=\"choice\" >all</a></li><li ><span class=\"separator\">-</span><a href=\"https://www.reddit.com/r/random/\" class=\"random choice\" >random</a></li><li ><span class=\"separator\">-</span><a href=\"https://www.reddit.com/users/\" class=\"choice\" >users</a></li></ul><span class=\"separator\">&nbsp;|&nbsp;</span><ul class=\"flat-list sr-bar hover\" id='sr-bar'><li ><a href=\"https://www.reddit.com/r/AskReddit/\" class=\"choice\" >AskReddit</a></li><li ><span class=\"separator\">-</span><a href=\"https://www.reddit.com/r/pics/\" class=\"choice\" >pics</a></li><li ><span class=\"separator\">-</span><a href=\"https://www.reddit.com/r/tifu/\" class=\"choice\" >tifu</a></li><li ><span class=\"separator\">-</span><a href=\"https://www.reddit.com/r/funny/\" class=\"choice\" >funny</a></li><li ><span class=\"separator\">-</span><a href=\"https://www.reddit.com/r/worldnews/\" class=\"choice\" >worldnews</a></li><li ><span class=\"separator\">-</span><a href=\"https://www.reddit.com/r/gaming/\" class=\"choice\" >gaming</a></li><li ><span class=\"separator\">-</span><a href=\"https://www.reddit.com/r/movies/\" class=\"choice\" >movies</a></li><li ><span class=\"separator\">-</span><a href=\"https://www.reddit.com/r/videos/\" class=\"choice\" >videos</a></li><li ><span class=\"separator\">-</span><a href=\"https://www.reddit.com/r/news/\" class=\"choice\" >news</a></li><li ><span class=\"separator\">-</span><a href=\"https://www.reddit.com/r/todayilearned/\" class=\"choice\" >todayilearned</a></li><li ><span class=\"separator\">-</span><a href=\"https://www.reddit.com/r/aww/\" class=\"choice\" >aww</a></li><li ><span class=\"separator\">-</span><a href=\"https://www.reddit.com/r/explainlikeimfive/\" class=\"choice\" >explainlikeimfive</a></li><li ><span class=\"separator\">-</span><a href=\"https://www.reddit.com/r/mildlyinteresting/\" class=\"choice\" >mildlyinteresting</a></li><li ><span class=\"separator\">-</span><a href=\"https://www.reddit.com/r/television/\" class=\"choice\" >television</a></li><li ><span class=\"separator\">-</span><a href=\"https://www.reddit.com/r/Jokes/\" class=\"choice\" >Jokes</a></li><li ><span class=\"separator\">-</span><a href=\"https://www.reddit.com/r/TwoXChromosomes/\" class=\"choice\" >TwoXChromosomes</a></li><li ><span class=\"separator\">-</span><a href=\"https://www.reddit.com/r/science/\" class=\"choice\" >science</a></li><li ><span class=\"separator\">-</span><a href=\"https://www.reddit.com/r/IAmA/\" class=\"choice\" >IAmA</a></li><li ><span class=\"separator\">-</span><a href=\"https://www.reddit.com/r/dataisbeautiful/\" class=\"choice\" >dataisbeautiful</a></li><li ><span class=\"separator\">-</span><a href=\"https://www.reddit.com/r/Showerthoughts/\" class=\"choice\" >Showerthoughts</a></li><li ><span class=\"separator\">-</span><a href=\"https://www.reddit.com/r/askscience/\" class=\"choice\" >askscience</a></li><li ><span class=\"separator\">-</span><a href=\"https://www.reddit.com/r/nottheonion/\" class=\"choice\" >nottheonion</a></li><li ><span class=\"separator\">-</span><a href=\"https://www.reddit.com/r/LifeProTips/\" class=\"choice\" >LifeProTips</a></li><li ><span class=\"separator\">-</span><a href=\"https://www.reddit.com/r/gifs/\" class=\"choice\" >gifs</a></li><li ><span class=\"separator\">-</span><a href=\"https://www.reddit.com/r/OldSchoolCool/\" class=\"choice\" >OldSchoolCool</a></li><li ><span class=\"separator\">-</span><a href=\"https://www.reddit.com/r/gadgets/\" class=\"choice\" >gadgets</a></li><li ><span class=\"separator\">-</span><a href=\"https://www.reddit.com/r/books/\" class=\"choice\" >books</a></li><li ><span class=\"separator\">-</span><a href=\"https://www.reddit.com/r/Music/\" class=\"choice\" >Music</a></li><li ><span class=\"separator\">-</span><a href=\"https://www.reddit.com/r/space/\" class=\"choice\" >space</a></li><li ><span class=\"separator\">-</span><a href=\"https://www.reddit.com/r/DIY/\" class=\"choice\" >DIY</a></li><li ><span class=\"separator\">-</span><a href=\"https://www.reddit.com/r/nosleep/\" class=\"choice\" >nosleep</a></li><li ><span class=\"separator\">-</span><a href=\"https://www.reddit.com/r/history/\" class=\"choice\" >history</a></li><li ><span class=\"separator\">-</span><a href=\"https://www.reddit.com/r/Art/\" class=\"choice\" >Art</a></li><li ><span class=\"separator\">-</span><a href=\"https://www.reddit.com/r/food/\" class=\"choice\" >food</a></li><li ><span class=\"separator\">-</span><a href=\"https://www.reddit.com/r/Documentaries/\" class=\"choice\" >Documentaries</a></li><li ><span class=\"separator\">-</span><a href=\"https://www.reddit.com/r/Futurology/\" class=\"choice\" >Futurology</a></li><li ><span class=\"separator\">-</span><a href=\"https://www.reddit.com/r/UpliftingNews/\" class=\"choice\" >UpliftingNews</a></li><li ><span class=\"separator\">-</span><a href=\"https://www.reddit.com/r/photoshopbattles/\" class=\"choice\" >photoshopbattles</a></li><li ><span class=\"separator\">-</span><a href=\"https://www.reddit.com/r/WritingPrompts/\" class=\"choice\" >WritingPrompts</a></li><li ><span class=\"separator\">-</span><a href=\"https://www.reddit.com/r/InternetIsBeautiful/\" class=\"choice\" >InternetIsBeautiful</a></li><li ><span class=\"separator\">-</span><a href=\"https://www.reddit.com/r/sports/\" class=\"choice\" >sports</a></li><li ><span class=\"separator\">-</span><a href=\"https://www.reddit.com/r/GetMotivated/\" class=\"choice\" >GetMotivated</a></li><li ><span class=\"separator\">-</span><a href=\"https://www.reddit.com/r/EarthPorn/\" class=\"choice\" >EarthPorn</a></li><li ><span class=\"separator\">-</span><a href=\"https://www.reddit.com/r/listentothis/\" class=\"choice\" >listentothis</a></li><li ><span class=\"separator\">-</span><a href=\"https://www.reddit.com/r/creepy/\" class=\"choice\" >creepy</a></li><li ><span class=\"separator\">-</span><a href=\"https://www.reddit.com/r/philosophy/\" class=\"choice\" >philosophy</a></li><li ><span class=\"separator\">-</span><a href=\"https://www.reddit.com/r/announcements/\" class=\"choice\" >announcements</a></li><li ><span class=\"separator\">-</span><a href=\"https://www.reddit.com/r/blog/\" class=\"choice\" >blog</a></li></ul></div><a href=\"https://www.reddit.com/subreddits/\" id=\"sr-more-link\" >more &raquo;</a></div></div><div id=\"header-bottom-left\"><a href=\"/\" id=\"header-img\" class=\"default-header\" title=\"\">reddit.com</a>&nbsp;<ul class=\"tabmenu \" ><li class='selected'><a href=\"https://www.reddit.com/\" class=\"choice\" >hot</a></li><li ><a href=\"https://www.reddit.com/new/\" class=\"choice\" >new</a></li><li ><a href=\"https://www.reddit.com/rising/\" class=\"choice\" >rising</a></li><li ><a href=\"https://www.reddit.com/controversial/\" class=\"choice\" >controversial</a></li><li ><a href=\"https://www.reddit.com/top/\" class=\"choice\" >top</a></li><li ><a href=\"https://www.reddit.com/gilded/\" class=\"choice\" >gilded</a></li><li ><a href=\"https://www.reddit.com/wiki/\" class=\"choice\" >wiki</a></li></ul></div><div id=\"header-bottom-right\"><span class=\"user\">Want to join?&#32;<a href=\"https://www.reddit.com/login\" class=\"login-required login-link\" >Log in</a>&#32;or&#32;<a href=\"https://www.reddit.com/login\" class=\"login-required\" >sign up</a>&#32;in seconds.</span><span class=\"separator\">|</span><ul class=\"flat-list hover\" ><li ><a href=\"javascript:void(0)\" class=\"pref-lang choice\" onclick=\"return showlang();\" >English</a></li></ul></div></div><div class=\"side\"><div class='spacer'><form action=\"https://www.reddit.com/search\" id=\"search\" role=\"search\"><input type=\"text\" name=\"q\" placeholder=\"search\" tabindex=\"20\"><input type=\"submit\" value=\"\" tabindex=\"22\"><div id=\"searchexpando\" class=\"infobar\"><div id=\"moresearchinfo\"><p>use the following search parameters to narrow your results:</p><dl><dt>subreddit:<i>subreddit</i></dt><dd>find submissions in &quot;subreddit&quot;</dd><dt>author:<i>username</i></dt><dd>find submissions by &quot;username&quot;</dd><dt>site:<i>example.com</i></dt><dd>find submissions from &quot;example.com&quot;</dd><dt>url:<i>text</i></dt><dd>search for &quot;text&quot; in url</dd><dt>selftext:<i>text</i></dt><dd>search for &quot;text&quot; in self post contents</dd><dt>self:yes (or self:no)</dt><dd>include (or exclude) self posts</dd><dt>nsfw:yes (or nsfw:no)</dt><dd>include (or exclude) results marked as NSFW</dd></dl><p>e.g.&#32;<code>subreddit:aww site:imgur.com dog</code></p><p><a href=\"https://www.reddit.com/wiki/search\">see the search faq for details.</a></p></div><p><a href=\"https://www.reddit.com/wiki/search\" id=\"search_showmore\">advanced search: by author, subreddit...</a></p></div></form></div><div class='spacer'><form method=\"post\" action=\"https://www.reddit.com/post/login\" id=\"login_login-main\" class=\"login-form login-form-side\"><input type=\"hidden\" name=\"op\" value=\"login-main\" /><input name=\"user\" placeholder=\"username\" type=\"text\" maxlength=\"20\" tabindex=\"1\"/><input name=\"passwd\" placeholder=\"password\" type=\"password\" tabindex=\"1\"/><div class=\"g-recaptcha\" data-sitekey=\"6LeTnxkTAAAAAN9QEuDZRpn90WwKk_R1TRW_g-JC\"></div><div class=\"status\"></div><div id=\"remember-me\"><input type=\"checkbox\" name=\"rem\" id=\"rem-login-main\" tabindex=\"1\" /><label for=\"rem-login-main\">remember me</label><a class=\"recover-password\" href=\"/password\">reset password</a></div><div class=\"submit\"><span class=\"throbber\"></span><button class=\"btn\" type=\"submit\" tabindex=\"1\">login</button></div><div class=\"clear\"></div></form></div><div class='spacer'><div class=\"sidebox submit submit-link\"><div class=\"morelink\"><a href=\"https://www.reddit.com/submit\" data-event-action=\"submit\" data-type=\"subreddit\" data-event-detail=\"link\" class=\"login-required access-required\" target=\"_top\" >Submit a new link</a><div class=\"nub\"></div></div></div></div><div class='spacer'><div class=\"sidebox submit submit-text\"><div class=\"morelink\"><a href=\"https://www.reddit.com/submit?selftext=true\" data-event-action=\"submit\" data-type=\"subreddit\" data-event-detail=\"self\" class=\"login-required access-required\" target=\"_top\" >Submit a new text post</a><div class=\"nub\"></div></div></div></div><div class='spacer'><a href=\"/premium\" alt=\"get premium\" class=\"premium-banner-outer\"><form action=\"/premium\" class=\"premium-banner\"><div class=\"premium-banner__logo\"></div><div class=\"premium-banner__title\">Get an ad-free experience with special benefits, and directly support Reddit.</div><button class=\"premium-banner__button\">get reddit premium</button></form></a></div></div><a name=\"content\"></a><div class=\"content\" role=\"main\" ><section class=\"infobar listingsignupbar\"><a href=\"/login\" class=\"login-required listingsignupbar__container\"><h2 class=\"listingsignupbar__title\">Welcome to Reddit,</h2><p class=\"listingsignupbar__desc\">the front page of the internet.</p><div class=\"listingsignupbar__cta-container\"><span class=\"c-btn c-btn-primary c-pull-left listingsignupbar__cta-button\">Become a Redditor</span><p class=\"listingsignupbar__cta-desc\">and join one of thousands of communities.</p></div></a><a href=\"#\" class=\"listingsignupbar__close\" title=\"close\">&times;</a></section><div class=\"menuarea\"><div class=\"spacer\"><span class=\"dropdown-title lightdrop\">popular in:&#32;</span><div class=\"dropdown lightdrop\" onclick=\"open_menu(this)\"><span class=\"selected\">United States</span></div><div class=\"drop-choices lightdrop\"><form method=\"POST\" action=\"https://www.reddit.com/prefs/update/geopopular\"><input type=\"hidden\" name=\"geo_filter\" value=\"GLOBAL\"><a href=\"https://www.reddit.com/prefs/update/geopopular\" class=\"choice\" onclick=\"$(this).parent().submit(); return false;\" >Everywhere</a></form><form method=\"POST\" action=\"https://www.reddit.com/prefs/update/geopopular\"><input type=\"hidden\" name=\"geo_filter\" value=\"AR\"><a href=\"https://www.reddit.com/prefs/update/geopopular\" class=\"choice\" onclick=\"$(this).parent().submit(); return false;\" >Argentina</a></form><form method=\"POST\" action=\"https://www.reddit.com/prefs/update/geopopular\"><input type=\"hidden\" name=\"geo_filter\" value=\"AU\"><a href=\"https://www.reddit.com/prefs/update/geopopular\" class=\"choice\" onclick=\"$(this).parent().submit(); return false;\" >Australia</a></form><form method=\"POST\" action=\"https://www.reddit.com/prefs/update/geopopular\"><input type=\"hidden\" name=\"geo_filter\" value=\"BG\"><a href=\"https://www.reddit.com/prefs/update/geopopular\" class=\"choice\" onclick=\"$(this).parent().submit(); return false;\" >Bulgaria</a></form><form method=\"POST\" action=\"https://www.reddit.com/prefs/update/geopopular\"><input type=\"hidden\" name=\"geo_filter\" value=\"CA\"><a href=\"https://www.reddit.com/prefs/update/geopopular\" class=\"choice\" onclick=\"$(this).parent().submit(); return false;\" >Canada</a></form><form method=\"POST\" action=\"https://www.reddit.com/prefs/update/geopopular\"><input type=\"hidden\" name=\"geo_filter\" value=\"CL\"><a href=\"https://www.reddit.com/prefs/update/geopopular\" class=\"choice\" onclick=\"$(this).parent().submit(); return false;\" >Chile</a></form><form method=\"POST\" action=\"https://www.reddit.com/prefs/update/geopopular\"><input type=\"hidden\" name=\"geo_filter\" value=\"CO\"><a href=\"https://www.reddit.com/prefs/update/geopopular\" class=\"choice\" onclick=\"$(this).parent().submit(); return false;\" >Colombia</a></form><form method=\"POST\" action=\"https://www.reddit.com/prefs/update/geopopular\"><input type=\"hidden\" name=\"geo_filter\" value=\"HR\"><a href=\"https://www.reddit.com/prefs/update/geopopular\" class=\"choice\" onclick=\"$(this).parent().submit(); return false;\" >Croatia</a></form><form method=\"POST\" action=\"https://www.reddit.com/prefs/update/geopopular\"><input type=\"hidden\" name=\"geo_filter\" value=\"CZ\"><a href=\"https://www.reddit.com/prefs/update/geopopular\" class=\"choice\" onclick=\"$(this).parent().submit(); return false;\" >Czech Republic</a></form><form method=\"POST\" action=\"https://www.reddit.com/prefs/update/geopopular\"><input type=\"hidden\" name=\"geo_filter\" value=\"FI\"><a href=\"https://www.reddit.com/prefs/update/geopopular\" class=\"choice\" onclick=\"$(this).parent().submit(); return false;\" >Finland</a></form><form method=\"POST\" action=\"https://www.reddit.com/prefs/update/geopopular\"><input type=\"hidden\" name=\"geo_filter\" value=\"GR\"><a href=\"https://www.reddit.com/prefs/update/geopopular\" class=\"choice\" onclick=\"$(this).parent().submit(); return false;\" >Greece</a></form><form method=\"POST\" action=\"https://www.reddit.com/prefs/update/geopopular\"><input type=\"hidden\" name=\"geo_filter\" value=\"HU\"><a href=\"https://www.reddit.com/prefs/update/geopopular\" class=\"choice\" onclick=\"$(this).parent().submit(); return false;\" >Hungary</a></form><form method=\"POST\" action=\"https://www.reddit.com/prefs/update/geopopular\"><input type=\"hidden\" name=\"geo_filter\" value=\"IS\"><a href=\"https://www.reddit.com/prefs/update/geopopular\" class=\"choice\" onclick=\"$(this).parent().submit(); return false;\" >Iceland</a></form><form method=\"POST\" action=\"https://www.reddit.com/prefs/update/geopopular\"><input type=\"hidden\" name=\"geo_filter\" value=\"IN\"><a href=\"https://www.reddit.com/prefs/update/geopopular\" class=\"choice\" onclick=\"$(this).parent().submit(); return false;\" >India</a></form><form method=\"POST\" action=\"https://www.reddit.com/prefs/update/geopopular\"><input type=\"hidden\" name=\"geo_filter\" value=\"IE\"><a href=\"https://www.reddit.com/prefs/update/geopopular\" class=\"choice\" onclick=\"$(this).parent().submit(); return false;\" >Ireland</a></form><form method=\"POST\" action=\"https://www.reddit.com/prefs/update/geopopular\"><input type=\"hidden\" name=\"geo_filter\" value=\"JP\"><a href=\"https://www.reddit.com/prefs/update/geopopular\" class=\"choice\" onclick=\"$(this).parent().submit(); return false;\" >Japan</a></form><form method=\"POST\" action=\"https://www.reddit.com/prefs/update/geopopular\"><input type=\"hidden\" name=\"geo_filter\" value=\"MY\"><a href=\"https://www.reddit.com/prefs/update/geopopular\" class=\"choice\" onclick=\"$(this).parent().submit(); return false;\" >Malaysia</a></form><form method=\"POST\" action=\"https://www.reddit.com/prefs/update/geopopular\"><input type=\"hidden\" name=\"geo_filter\" value=\"MX\"><a href=\"https://www.reddit.com/prefs/update/geopopular\" class=\"choice\" onclick=\"$(this).parent().submit(); return false;\" >Mexico</a></form><form method=\"POST\" action=\"https://www.reddit.com/prefs/update/geopopular\"><input type=\"hidden\" name=\"geo_filter\" value=\"NZ\"><a href=\"https://www.reddit.com/prefs/update/geopopular\" class=\"choice\" onclick=\"$(this).parent().submit(); return false;\" >New Zealand</a></form><form method=\"POST\" action=\"https://www.reddit.com/prefs/update/geopopular\"><input type=\"hidden\" name=\"geo_filter\" value=\"PH\"><a href=\"https://www.reddit.com/prefs/update/geopopular\" class=\"choice\" onclick=\"$(this).parent().submit(); return false;\" >Philippines</a></form><form method=\"POST\" action=\"https://www.reddit.com/prefs/update/geopopular\"><input type=\"hidden\" name=\"geo_filter\" value=\"PL\"><a href=\"https://www.reddit.com/prefs/update/geopopular\" class=\"choice\" onclick=\"$(this).parent().submit(); return false;\" >Poland</a></form><form method=\"POST\" action=\"https://www.reddit.com/prefs/update/geopopular\"><input type=\"hidden\" name=\"geo_filter\" value=\"PT\"><a href=\"https://www.reddit.com/prefs/update/geopopular\" class=\"choice\" onclick=\"$(this).parent().submit(); return false;\" >Portugal</a></form><form method=\"POST\" action=\"https://www.reddit.com/prefs/update/geopopular\"><input type=\"hidden\" name=\"geo_filter\" value=\"PR\"><a href=\"https://www.reddit.com/prefs/update/geopopular\" class=\"choice\" onclick=\"$(this).parent().submit(); return false;\" >Puerto Rico</a></form><form method=\"POST\" action=\"https://www.reddit.com/prefs/update/geopopular\"><input type=\"hidden\" name=\"geo_filter\" value=\"RO\"><a href=\"https://www.reddit.com/prefs/update/geopopular\" class=\"choice\" onclick=\"$(this).parent().submit(); return false;\" >Romania</a></form><form method=\"POST\" action=\"https://www.reddit.com/prefs/update/geopopular\"><input type=\"hidden\" name=\"geo_filter\" value=\"RS\"><a href=\"https://www.reddit.com/prefs/update/geopopular\" class=\"choice\" onclick=\"$(this).parent().submit(); return false;\" >Serbia</a></form><form method=\"POST\" action=\"https://www.reddit.com/prefs/update/geopopular\"><input type=\"hidden\" name=\"geo_filter\" value=\"SG\"><a href=\"https://www.reddit.com/prefs/update/geopopular\" class=\"choice\" onclick=\"$(this).parent().submit(); return false;\" >Singapore</a></form><form method=\"POST\" action=\"https://www.reddit.com/prefs/update/geopopular\"><input type=\"hidden\" name=\"geo_filter\" value=\"SE\"><a href=\"https://www.reddit.com/prefs/update/geopopular\" class=\"choice\" onclick=\"$(this).parent().submit(); return false;\" >Sweden</a></form><form method=\"POST\" action=\"https://www.reddit.com/prefs/update/geopopular\"><input type=\"hidden\" name=\"geo_filter\" value=\"TW\"><a href=\"https://www.reddit.com/prefs/update/geopopular\" class=\"choice\" onclick=\"$(this).parent().submit(); return false;\" >Taiwan</a></form><form method=\"POST\" action=\"https://www.reddit.com/prefs/update/geopopular\"><input type=\"hidden\" name=\"geo_filter\" value=\"TH\"><a href=\"https://www.reddit.com/prefs/update/geopopular\" class=\"choice\" onclick=\"$(this).parent().submit(); return false;\" >Thailand</a></form><form method=\"POST\" action=\"https://www.reddit.com/prefs/update/geopopular\"><input type=\"hidden\" name=\"geo_filter\" value=\"TR\"><a href=\"https://www.reddit.com/prefs/update/geopopular\" class=\"choice\" onclick=\"$(this).parent().submit(); return false;\" >Turkey</a></form><form method=\"POST\" action=\"https://www.reddit.com/prefs/update/geopopular\"><input type=\"hidden\" name=\"geo_filter\" value=\"GB\"><a href=\"https://www.reddit.com/prefs/update/geopopular\" class=\"choice\" onclick=\"$(this).parent().submit(); return false;\" >United Kingdom</a></form></div></div><div class=\"spacer\"><span class=\"dropdown-title lightdrop\">select state:&#32;</span><div class=\"dropdown lightdrop\" onclick=\"open_menu(this)\"><span class=\"selected\">All States</span></div><div class=\"drop-choices lightdrop\"><form method=\"POST\" action=\"https://www.reddit.com/prefs/update/geopopular\"><input type=\"hidden\" name=\"geo_filter\" value=\"US_AK\"><a href=\"https://www.reddit.com/prefs/update/geopopular\" class=\"choice\" onclick=\"$(this).parent().submit(); return false;\" >Alaska</a></form><form method=\"POST\" action=\"https://www.reddit.com/prefs/update/geopopular\"><input type=\"hidden\" name=\"geo_filter\" value=\"US_AL\"><a href=\"https://www.reddit.com/prefs/update/geopopular\" class=\"choice\" onclick=\"$(this).parent().submit(); return false;\" >Alabama</a></form><form method=\"POST\" action=\"https://www.reddit.com/prefs/update/geopopular\"><input type=\"hidden\" name=\"geo_filter\" value=\"US_AR\"><a href=\"https://www.reddit.com/prefs/update/geopopular\" class=\"choice\" onclick=\"$(this).parent().submit(); return false;\" >Arkansas</a></form><form method=\"POST\" action=\"https://www.reddit.com/prefs/update/geopopular\"><input type=\"hidden\" name=\"geo_filter\" value=\"US_AZ\"><a href=\"https://www.reddit.com/prefs/update/geopopular\" class=\"choice\" onclick=\"$(this).parent().submit(); return false;\" >Arizona</a></form><form method=\"POST\" action=\"https://www.reddit.com/prefs/update/geopopular\"><input type=\"hidden\" name=\"geo_filter\" value=\"US_CA\"><a href=\"https://www.reddit.com/prefs/update/geopopular\" class=\"choice\" onclick=\"$(this).parent().submit(); return false;\" >California</a></form><form method=\"POST\" action=\"https://www.reddit.com/prefs/update/geopopular\"><input type=\"hidden\" name=\"geo_filter\" value=\"US_CO\"><a href=\"https://www.reddit.com/prefs/update/geopopular\" class=\"choice\" onclick=\"$(this).parent().submit(); return false;\" >Colorado</a></form><form method=\"POST\" action=\"https://www.reddit.com/prefs/update/geopopular\"><input type=\"hidden\" name=\"geo_filter\" value=\"US_CT\"><a href=\"https://www.reddit.com/prefs/update/geopopular\" class=\"choice\" onclick=\"$(this).parent().submit(); return false;\" >Connecticut</a></form><form method=\"POST\" action=\"https://www.reddit.com/prefs/update/geopopular\"><input type=\"hidden\" name=\"geo_filter\" value=\"US_DC\"><a href=\"https://www.reddit.com/prefs/update/geopopular\" class=\"choice\" onclick=\"$(this).parent().submit(); return false;\" >District of Columbia</a></form><form method=\"POST\" action=\"https://www.reddit.com/prefs/update/geopopular\"><input type=\"hidden\" name=\"geo_filter\" value=\"US_DE\"><a href=\"https://www.reddit.com/prefs/update/geopopular\" class=\"choice\" onclick=\"$(this).parent().submit(); return false;\" >Delaware</a></form><form method=\"POST\" action=\"https://www.reddit.com/prefs/update/geopopular\"><input type=\"hidden\" name=\"geo_filter\" value=\"US_FL\"><a href=\"https://www.reddit.com/prefs/update/geopopular\" class=\"choice\" onclick=\"$(this).parent().submit(); return false;\" >Florida</a></form><form method=\"POST\" action=\"https://www.reddit.com/prefs/update/geopopular\"><input type=\"hidden\" name=\"geo_filter\" value=\"US_GA\"><a href=\"https://www.reddit.com/prefs/update/geopopular\" class=\"choice\" onclick=\"$(this).parent().submit(); return false;\" >Georgia</a></form><form method=\"POST\" action=\"https://www.reddit.com/prefs/update/geopopular\"><input type=\"hidden\" name=\"geo_filter\" value=\"US_HI\"><a href=\"https://www.reddit.com/prefs/update/geopopular\" class=\"choice\" onclick=\"$(this).parent().submit(); return false;\" >Hawaii</a></form><form method=\"POST\" action=\"https://www.reddit.com/prefs/update/geopopular\"><input type=\"hidden\" name=\"geo_filter\" value=\"US_IA\"><a href=\"https://www.reddit.com/prefs/update/geopopular\" class=\"choice\" onclick=\"$(this).parent().submit(); return false;\" >Iowa</a></form><form method=\"POST\" action=\"https://www.reddit.com/prefs/update/geopopular\"><input type=\"hidden\" name=\"geo_filter\" value=\"US_ID\"><a href=\"https://www.reddit.com/prefs/update/geopopular\" class=\"choice\" onclick=\"$(this).parent().submit(); return false;\" >Idaho</a></form><form method=\"POST\" action=\"https://www.reddit.com/prefs/update/geopopular\"><input type=\"hidden\" name=\"geo_filter\" value=\"US_IL\"><a href=\"https://www.reddit.com/prefs/update/geopopular\" class=\"choice\" onclick=\"$(this).parent().submit(); return false;\" >Illinois</a></form><form method=\"POST\" action=\"https://www.reddit.com/prefs/update/geopopular\"><input type=\"hidden\" name=\"geo_filter\" value=\"US_IN\"><a href=\"https://www.reddit.com/prefs/update/geopopular\" class=\"choice\" onclick=\"$(this).parent().submit(); return false;\" >Indiana</a></form><form method=\"POST\" action=\"https://www.reddit.com/prefs/update/geopopular\"><input type=\"hidden\" name=\"geo_filter\" value=\"US_KS\"><a href=\"https://www.reddit.com/prefs/update/geopopular\" class=\"choice\" onclick=\"$(this).parent().submit(); return false;\" >Kansas</a></form><form method=\"POST\" action=\"https://www.reddit.com/prefs/update/geopopular\"><input type=\"hidden\" name=\"geo_filter\" value=\"US_KY\"><a href=\"https://www.reddit.com/prefs/update/geopopular\" class=\"choice\" onclick=\"$(this).parent().submit(); return false;\" >Kentucky</a></form><form method=\"POST\" action=\"https://www.reddit.com/prefs/update/geopopular\"><input type=\"hidden\" name=\"geo_filter\" value=\"US_LA\"><a href=\"https://www.reddit.com/prefs/update/geopopular\" class=\"choice\" onclick=\"$(this).parent().submit(); return false;\" >Louisiana</a></form><form method=\"POST\" action=\"https://www.reddit.com/prefs/update/geopopular\"><input type=\"hidden\" name=\"geo_filter\" value=\"US_MA\"><a href=\"https://www.reddit.com/prefs/update/geopopular\" class=\"choice\" onclick=\"$(this).parent().submit(); return false;\" >Massachusetts</a></form><form method=\"POST\" action=\"https://www.reddit.com/prefs/update/geopopular\"><input type=\"hidden\" name=\"geo_filter\" value=\"US_MD\"><a href=\"https://www.reddit.com/prefs/update/geopopular\" class=\"choice\" onclick=\"$(this).parent().submit(); return false;\" >Maryland</a></form><form method=\"POST\" action=\"https://www.reddit.com/prefs/update/geopopular\"><input type=\"hidden\" name=\"geo_filter\" value=\"US_ME\"><a href=\"https://www.reddit.com/prefs/update/geopopular\" class=\"choice\" onclick=\"$(this).parent().submit(); return false;\" >Maine</a></form><form method=\"POST\" action=\"https://www.reddit.com/prefs/update/geopopular\"><input type=\"hidden\" name=\"geo_filter\" value=\"US_MI\"><a href=\"https://www.reddit.com/prefs/update/geopopular\" class=\"choice\" onclick=\"$(this).parent().submit(); return false;\" >Michigan</a></form><form method=\"POST\" action=\"https://www.reddit.com/prefs/update/geopopular\"><input type=\"hidden\" name=\"geo_filter\" value=\"US_MN\"><a href=\"https://www.reddit.com/prefs/update/geopopular\" class=\"choice\" onclick=\"$(this).parent().submit(); return false;\" >Minnesota</a></form><form method=\"POST\" action=\"https://www.reddit.com/prefs/update/geopopular\"><input type=\"hidden\" name=\"geo_filter\" value=\"US_MO\"><a href=\"https://www.reddit.com/prefs/update/geopopular\" class=\"choice\" onclick=\"$(this).parent().submit(); return false;\" >Missouri</a></form><form method=\"POST\" action=\"https://www.reddit.com/prefs/update/geopopular\"><input type=\"hidden\" name=\"geo_filter\" value=\"US_MS\"><a href=\"https://www.reddit.com/prefs/update/geopopular\" class=\"choice\" onclick=\"$(this).parent().submit(); return false;\" >Mississippi</a></form><form method=\"POST\" action=\"https://www.reddit.com/prefs/update/geopopular\"><input type=\"hidden\" name=\"geo_filter\" value=\"US_MT\"><a href=\"https://www.reddit.com/prefs/update/geopopular\" class=\"choice\" onclick=\"$(this).parent().submit(); return false;\" >Montana</a></form><form method=\"POST\" action=\"https://www.reddit.com/prefs/update/geopopular\"><input type=\"hidden\" name=\"geo_filter\" value=\"US_NC\"><a href=\"https://www.reddit.com/prefs/update/geopopular\" class=\"choice\" onclick=\"$(this).parent().submit(); return false;\" >North Carolina</a></form><form method=\"POST\" action=\"https://www.reddit.com/prefs/update/geopopular\"><input type=\"hidden\" name=\"geo_filter\" value=\"US_ND\"><a href=\"https://www.reddit.com/prefs/update/geopopular\" class=\"choice\" onclick=\"$(this).parent().submit(); return false;\" >North Dakota</a></form><form method=\"POST\" action=\"https://www.reddit.com/prefs/update/geopopular\"><input type=\"hidden\" name=\"geo_filter\" value=\"US_NE\"><a href=\"https://www.reddit.com/prefs/update/geopopular\" class=\"choice\" onclick=\"$(this).parent().submit(); return false;\" >Nebraska</a></form><form method=\"POST\" action=\"https://www.reddit.com/prefs/update/geopopular\"><input type=\"hidden\" name=\"geo_filter\" value=\"US_NH\"><a href=\"https://www.reddit.com/prefs/update/geopopular\" class=\"choice\" onclick=\"$(this).parent().submit(); return false;\" >New Hampshire</a></form><form method=\"POST\" action=\"https://www.reddit.com/prefs/update/geopopular\"><input type=\"hidden\" name=\"geo_filter\" value=\"US_NJ\"><a href=\"https://www.reddit.com/prefs/update/geopopular\" class=\"choice\" onclick=\"$(this).parent().submit(); return false;\" >New Jersey</a></form><form method=\"POST\" action=\"https://www.reddit.com/prefs/update/geopopular\"><input type=\"hidden\" name=\"geo_filter\" value=\"US_NM\"><a href=\"https://www.reddit.com/prefs/update/geopopular\" class=\"choice\" onclick=\"$(this).parent().submit(); return false;\" >New Mexico</a></form><form method=\"POST\" action=\"https://www.reddit.com/prefs/update/geopopular\"><input type=\"hidden\" name=\"geo_filter\" value=\"US_NV\"><a href=\"https://www.reddit.com/prefs/update/geopopular\" class=\"choice\" onclick=\"$(this).parent().submit(); return false;\" >Nevada</a></form><form method=\"POST\" action=\"https://www.reddit.com/prefs/update/geopopular\"><input type=\"hidden\" name=\"geo_filter\" value=\"US_NY\"><a href=\"https://www.reddit.com/prefs/update/geopopular\" class=\"choice\" onclick=\"$(this).parent().submit(); return false;\" >New York</a></form><form method=\"POST\" action=\"https://www.reddit.com/prefs/update/geopopular\"><input type=\"hidden\" name=\"geo_filter\" value=\"US_OH\"><a href=\"https://www.reddit.com/prefs/update/geopopular\" class=\"choice\" onclick=\"$(this).parent().submit(); return false;\" >Ohio</a></form><form method=\"POST\" action=\"https://www.reddit.com/prefs/update/geopopular\"><input type=\"hidden\" name=\"geo_filter\" value=\"US_OK\"><a href=\"https://www.reddit.com/prefs/update/geopopular\" class=\"choice\" onclick=\"$(this).parent().submit(); return false;\" >Oklahoma</a></form><form method=\"POST\" action=\"https://www.reddit.com/prefs/update/geopopular\"><input type=\"hidden\" name=\"geo_filter\" value=\"US_OR\"><a href=\"https://www.reddit.com/prefs/update/geopopular\" class=\"choice\" onclick=\"$(this).parent().submit(); return false;\" >Oregon</a></form><form method=\"POST\" action=\"https://www.reddit.com/prefs/update/geopopular\"><input type=\"hidden\" name=\"geo_filter\" value=\"US_PA\"><a href=\"https://www.reddit.com/prefs/update/geopopular\" class=\"choice\" onclick=\"$(this).parent().submit(); return false;\" >Pennsylvania</a></form><form method=\"POST\" action=\"https://www.reddit.com/prefs/update/geopopular\"><input type=\"hidden\" name=\"geo_filter\" value=\"US_RI\"><a href=\"https://www.reddit.com/prefs/update/geopopular\" class=\"choice\" onclick=\"$(this).parent().submit(); return false;\" >Rhode Island</a></form><form method=\"POST\" action=\"https://www.reddit.com/prefs/update/geopopular\"><input type=\"hidden\" name=\"geo_filter\" value=\"US_SC\"><a href=\"https://www.reddit.com/prefs/update/geopopular\" class=\"choice\" onclick=\"$(this).parent().submit(); return false;\" >South Carolina</a></form><form method=\"POST\" action=\"https://www.reddit.com/prefs/update/geopopular\"><input type=\"hidden\" name=\"geo_filter\" value=\"US_SD\"><a href=\"https://www.reddit.com/prefs/update/geopopular\" class=\"choice\" onclick=\"$(this).parent().submit(); return false;\" >South Dakota</a></form><form method=\"POST\" action=\"https://www.reddit.com/prefs/update/geopopular\"><input type=\"hidden\" name=\"geo_filter\" value=\"US_TN\"><a href=\"https://www.reddit.com/prefs/update/geopopular\" class=\"choice\" onclick=\"$(this).parent().submit(); return false;\" >Tennessee</a></form><form method=\"POST\" action=\"https://www.reddit.com/prefs/update/geopopular\"><input type=\"hidden\" name=\"geo_filter\" value=\"US_TX\"><a href=\"https://www.reddit.com/prefs/update/geopopular\" class=\"choice\" onclick=\"$(this).parent().submit(); return false;\" >Texas</a></form><form method=\"POST\" action=\"https://www.reddit.com/prefs/update/geopopular\"><input type=\"hidden\" name=\"geo_filter\" value=\"US_UT\"><a href=\"https://www.reddit.com/prefs/update/geopopular\" class=\"choice\" onclick=\"$(this).parent().submit(); return false;\" >Utah</a></form><form method=\"POST\" action=\"https://www.reddit.com/prefs/update/geopopular\"><input type=\"hidden\" name=\"geo_filter\" value=\"US_VA\"><a href=\"https://www.reddit.com/prefs/update/geopopular\" class=\"choice\" onclick=\"$(this).parent().submit(); return false;\" >Virginia</a></form><form method=\"POST\" action=\"https://www.reddit.com/prefs/update/geopopular\"><input type=\"hidden\" name=\"geo_filter\" value=\"US_VT\"><a href=\"https://www.reddit.com/prefs/update/geopopular\" class=\"choice\" onclick=\"$(this).parent().submit(); return false;\" >Vermont</a></form><form method=\"POST\" action=\"https://www.reddit.com/prefs/update/geopopular\"><input type=\"hidden\" name=\"geo_filter\" value=\"US_WA\"><a href=\"https://www.reddit.com/prefs/update/geopopular\" class=\"choice\" onclick=\"$(this).parent().submit(); return false;\" >Washington</a></form><form method=\"POST\" action=\"https://www.reddit.com/prefs/update/geopopular\"><input type=\"hidden\" name=\"geo_filter\" value=\"US_WI\"><a href=\"https://www.reddit.com/prefs/update/geopopular\" class=\"choice\" onclick=\"$(this).parent().submit(); return false;\" >Wisconsin</a></form><form method=\"POST\" action=\"https://www.reddit.com/prefs/update/geopopular\"><input type=\"hidden\" name=\"geo_filter\" value=\"US_WV\"><a href=\"https://www.reddit.com/prefs/update/geopopular\" class=\"choice\" onclick=\"$(this).parent().submit(); return false;\" >West Virginia</a></form><form method=\"POST\" action=\"https://www.reddit.com/prefs/update/geopopular\"><input type=\"hidden\" name=\"geo_filter\" value=\"US_WY\"><a href=\"https://www.reddit.com/prefs/update/geopopular\" class=\"choice\" onclick=\"$(this).parent().submit(); return false;\" >Wyoming</a></form></div></div></div><div class='spacer'><style type=\"text/css\">.happening-now-wrap { display: none; } .happening-now { overflow: hidden; font-size: 12px; color: #24cd; padding: 15px; background-color: #fff; border: 1px solid lightgray ; } .happening-now .state:before { content: \"\"; display: inline-block; width: 0.75em; height: 0.75em; border-radius: 0.375em; background: #ff4500; margin-right: 0.375em; } .happening-now p { display: inline-block; border-radius: 5px; } .happening-now .watching { margin-left: 7px; color: #666; font-size: 11px; line-height: 12px; } .happening-now .button { float: left; -webkit-appearance: none; -moz-appearance: none; appearance: none; text-decoration: none; color: #FFF; padding: 8px; border-radius: 4px; background-color: #0079D3; text-transform: uppercase; } .happening-now .title { color: #0079D3; font-size: 18px; font-weight: 500; line-height: 22px; text-transform: uppercase; } .happening-now .description { color: #787C7E; font-size: 12px; font-weight: 400; line-height: 16px; margin-top: 8px; margin-bottom: 8px; } .happening-now .icon img { height: 15px; margin-right: 5px; } .happening-now .close-button { cursor: pointer; color: #787C7E; font-size: 16px; float: right; }</style><div class=\"happening-now-wrap\"><div class=\"happening-now\"><div><p class=\"icon\"><img src=\"//www.redditstatic.com/announcement.svg\" /></p><p class=\"title\">Keep yourself safe and informed</p><div class=\"close-button\">x</div></div><br><p class=\"description\">Visit r/Coronavirus to talk about COVID-19, and visit the Centers for Disease Control at CDC.gov for more information.</p><br><a class=\"button\" href=\"https://www.reddit.com/r/Coronavirus/\">Visit r/Coronavirus</a></div></div><script>$(function() { var $banner = $('.happening-now-wrap'); var id = \"14mb1k709gisz\"; var numTimesShouldBeSeen = parseInt(\"100\"); var getAnnouncementBannerImpressionCount = function(id) { var data = localStorage.getItem('announcementBanner'); return data && JSON.parse(data).id === id ? JSON.parse(data).count : 0; }; var setAnnouncementBannerImpressionCount = function(id, count) { localStorage.setItem('announcementBanner', JSON.stringify({ id: id, count: count })); }; if (window.location.pathname !== '/admin/announcements') { var count = getAnnouncementBannerImpressionCount(id); if (count) { if (count< numTimesShouldBeSeen) { $banner.show(); } } else { $banner.show(); } setAnnouncementBannerImpressionCount(id, count + 1); $('.happening-now-wrap .close-button').on('click', function() { $banner.hide(); setAnnouncementBannerImpressionCount(id, numTimesShouldBeSeen); }); } else { $banner.show(); } });</script></div><div class='spacer'><style>body >.content .link .rank, .rank-spacer { width: 2.2ex } body >.content .link .midcol, .midcol-spacer { width: 6.1ex } .adsense-wrap { background-color: #eff7ff; font-size: 18px; padding-left: 8.3ex; padding-right: 5px; }</style><div id=\"siteTable\" class=\"sitetable linklisting\"><div class=\" thing id-t3_gpyuak odd&#32; gilded link \" id=\"thing_t3_gpyuak\" onclick=\"click_thing(this)\" data-fullname=\"t3_gpyuak\" data-type=\"link\" data-gildings=\"1\" data-whitelist-status=\"all_ads\" data-author=\"PrincipledInelegance\" data-author-fullname=\"t2_7w13k2b\" data-subreddit=\"politics\" data-subreddit-prefixed=\"r/politics\" data-subreddit-fullname=\"t5_2cneq\" data-subreddit-type=\"public\" data-timestamp=\"1590359373000\" data-url=\"https://www.washingtonpost.com/politics/federal-judge-guts-florida-law-requiring-felons-to-pay-fines-before-they-can-vote/2020/05/24/a7f553ba-9c3a-11ea-a2b3-5c3f2d1586df_story.html\" data-permalink=\"/r/politics/comments/gpyuak/federal_judge_guts_florida_law_requiring_felons/\" data-domain=\"washingtonpost.com\" data-rank=\"1\" data-comments-count=\"515\" data-score=\"16354\" data-promoted=\"false\" data-nsfw=\"false\" data-spoiler=\"false\" data-oc=\"false\" data-num-crossposts=\"2\" data-context=\"listing\" ><p class=\"parent\"></p><span class=\"rank\">1</span><div class=\"midcol unvoted\" ><div class=\"arrow up login-required access-required\" data-event-action=\"upvote\" role=\"button\" aria-label=\"upvote\" tabindex=\"0\" ></div><div class=\"score dislikes\" title=\"16328\">16.3k</div><div class=\"score unvoted\" title=\"16329\">16.3k</div><div class=\"score likes\" title=\"16330\">16.3k</div><div class=\"arrow down login-required access-required\" data-event-action=\"downvote\" role=\"button\" aria-label=\"downvote\" tabindex=\"0\" ></div></div><a class=\"thumbnail invisible-when-pinned may-blank outbound\" data-event-action=\"thumbnail\" href=\"https://www.washingtonpost.com/politics/federal-judge-guts-florida-law-requiring-felons-to-pay-fines-before-they-can-vote/2020/05/24/a7f553ba-9c3a-11ea-a2b3-5c3f2d1586df_story.html\" data-href-url=\"https://www.washingtonpost.com/politics/federal-judge-guts-florida-law-requiring-felons-to-pay-fines-before-they-can-vote/2020/05/24/a7f553ba-9c3a-11ea-a2b3-5c3f2d1586df_story.html\" data-outbound-url=\"https://out.reddit.com/t3_gpyuak?url=https%3A%2F%2Fwww.washingtonpost.com%2Fpolitics%2Ffederal-judge-guts-florida-law-requiring-felons-to-pay-fines-before-they-can-vote%2F2020%2F05%2F24%2Fa7f553ba-9c3a-11ea-a2b3-5c3f2d1586df_story.html&amp;token=AQAAID_LXoMeNa2wBUuayZH-T-S83ScGeHyjZabpIZTKhRR25a-d&amp;app_name=reddit.com\" data-outbound-expiration=\"1590378272000\" rel=\"nofollow ugc\" ><img src=\"//b.thumbs.redditmedia.com/eIAIAROhWSQKznMoC4efgFZ5pkVF8xRDa2Fw2p-fE7g.jpg\" width='70' height='58' alt=\"\"></a><div class=\"entry unvoted\"><div class=\"top-matter\"><p class=\"title\"><a class=\"title may-blank outbound\" data-event-action=\"title\" href=\"https://www.washingtonpost.com/politics/federal-judge-guts-florida-law-requiring-felons-to-pay-fines-before-they-can-vote/2020/05/24/a7f553ba-9c3a-11ea-a2b3-5c3f2d1586df_story.html\" tabindex=\"1\" data-href-url=\"https://www.washingtonpost.com/politics/federal-judge-guts-florida-law-requiring-felons-to-pay-fines-before-they-can-vote/2020/05/24/a7f553ba-9c3a-11ea-a2b3-5c3f2d1586df_story.html\" data-outbound-url=\"https://out.reddit.com/t3_gpyuak?url=https%3A%2F%2Fwww.washingtonpost.com%2Fpolitics%2Ffederal-judge-guts-florida-law-requiring-felons-to-pay-fines-before-they-can-vote%2F2020%2F05%2F24%2Fa7f553ba-9c3a-11ea-a2b3-5c3f2d1586df_story.html&amp;token=AQAAID_LXoMeNa2wBUuayZH-T-S83ScGeHyjZabpIZTKhRR25a-d&amp;app_name=reddit.com\" data-outbound-expiration=\"1590378272000\" rel=\"nofollow ugc\" >Federal judge guts Florida law requiring felons to pay fines before they can vote</a>&#32;<span class=\"domain\">(<a href=\"/domain/washingtonpost.com/\">washingtonpost.com</a>)</span></p><p class=\"tagline \">submitted&#32;<time title=\"Sun May 24 22:29:33 2020 UTC\" datetime=\"2020-05-24T22:29:33+00:00\" class=\"live-timestamp\">4 hours ago</time>&#32;by&#32;<a href=\"https://www.reddit.com/user/PrincipledInelegance\" class=\"author may-blank id-t2_7w13k2b\" >PrincipledInelegance</a><span class=\"userattrs\"></span>&#32;to&#32;<a href=\"https://www.reddit.com/r/politics/\" class=\"subreddit hover may-blank\" >r/politics</a><span class=\"awardings-bar\" data-subredditpath=\"/r/politics/\" ><a class=\"awarding-link\" href=\"/r/politics/gilded\" data-award-id=\"award_2ae56630-cfe0-424e-b810-4945b9145358\" data-count=\"1\" ><span class=\"awarding-icon-container\"><img class=\"awarding-icon\" src=\"https://preview.redd.it/award_images/t5_22cerq/trz28na8ajz31_Helpful.png?width=48&amp;height=48&amp;auto=webp&amp;s=a414be7b8a7820efe5bd8909eb9d80a27a9a901e\" /></span></a><a class=\"awarding-link\" href=\"/r/politics/gilded\" data-award-id=\"gid_2\" data-count=\"1\" ><span class=\"awarding-icon-container\"><img class=\"awarding-icon\" src=\"https://www.redditstatic.com/gold/awards/icon/gold_48.png\" /></span></a><a class=\"awarding-link\" href=\"/r/politics/gilded\" data-award-id=\"award_5f123e3d-4f48-42f4-9c11-e98b566d5897\" data-count=\"1\" ><span class=\"awarding-icon-container\"><img class=\"awarding-icon\" src=\"https://preview.redd.it/award_images/t5_22cerq/5izbv4fn0md41_Wholesome.png?width=48&amp;height=48&amp;auto=webp&amp;s=febdf28b6f39f7da7eb1365325b85e0bb49a9f63\" /></span></a><a class=\"awarding-link\" href=\"/r/politics/gilded\" data-award-id=\"gid_1\" data-count=\"1\" ><span class=\"awarding-icon-container\"><img class=\"awarding-icon\" src=\"https://www.redditstatic.com/gold/awards/icon/silver_48.png\" /></span></a><a class=\"awarding-link\" href=\"/r/politics/gilded\" data-award-id=\"award_cc091963-e271-45aa-ba23-b5150e565520\" data-count=\"2\" ><span class=\"awarding-icon-container\"><img class=\"awarding-icon\" src=\"https://preview.redd.it/award_images/t5_22cerq/qq73pijkm3p41_SafeSocial.png?width=48&amp;height=48&amp;auto=webp&amp;s=85098196df26658027c56256f4f1af30f64d2814\" /></span>2</a></span></p><ul class=\"flat-list buttons\"><li class=\"first\"><a href=\"https://www.reddit.com/r/politics/comments/gpyuak/federal_judge_guts_florida_law_requiring_felons/\" data-event-action=\"comments\" class=\"bylink comments may-blank\" rel=\"nofollow\" >513 comments</a></li><li class=\"share\"><a class=\"post-sharing-button\" href=\"javascript: void 0;\">share</a></li><li class=\"link-save-button save-button login-required\"><a href=\"#\">save</a></li><li><form action=\"/post/hide\" method=\"post\" class=\"state-button hide-button\"><input type=\"hidden\" name=\"executed\" value=\"hidden\" /><span><a href=\"javascript:void(0)\" class=\" \" data-event-action=\"hide\" onclick=\"change_state(this, 'hide', hide_thing);\">hide</a></span></form></li><li class=\"report-button login-required\"><a href=\"javascript:void(0)\" class=\"reportbtn access-required\" data-event-action=\"report\">report</a></li></ul><div class=\"reportform report-t3_gpyuak\"></div></div></div><div class=\"child\" ></div><div class=\"clearleft\"></div></div><div class=\"clearleft\"></div><div data-blank=\"true\" style=\"display: none!important\"><a href=\"\"><img src=\"https://alb.reddit.com/i.gif?p=gAAAAABeyzEQ2Cj8jBJZghnmhzOCDmYi4XoW9MooHZ_mJh4FJyh-fORXVurB2J4DBIZ8l5tyznzpsN6dm-E9VnmgbS69EQKV6D635d5YHtc9Ode5xCmItjKLTVfVROURELEGR00QPm3oC5zrkmM-AKYKPJF90JrGlZqqvWL8IEG8PrynNaoWexMa0qgxnxRVgNzRpf20Xwm3pxsvGGgejjw2LxCRnglPIvfNC0ytE-LXKlA4Z376skw=\" height=\"0\" width=\"0\" /></a></div><div class=\" thing id-t3_gpz205 linkflair linkflair-med even&#32; link \" id=\"thing_t3_gpz205\" onclick=\"click_thing(this)\" data-fullname=\"t3_gpz205\" data-type=\"link\" data-gildings=\"0\" data-whitelist-status=\"all_ads\" data-author=\"inspiration_capsule\" data-author-fullname=\"t2_paljqow\" data-subreddit=\"science\" data-subreddit-prefixed=\"r/science\" data-subreddit-fullname=\"t5_mouw\" data-subreddit-type=\"public\" data-timestamp=\"1590360106000\" data-url=\"https://www.bloomberg.com/news/articles/2020-05-24/covid-19-patients-not-infectious-after-11-days-singapore-study\" data-permalink=\"/r/science/comments/gpz205/new_study_finds_covid19_patients_are_no_longer/\" data-domain=\"bloomberg.com\" data-rank=\"2\" data-comments-count=\"408\" data-score=\"12651\" data-promoted=\"false\" data-nsfw=\"false\" data-spoiler=\"false\" data-oc=\"false\" data-num-crossposts=\"3\" data-context=\"listing\" ><p class=\"parent\"></p><span class=\"rank\">2</span><div class=\"midcol unvoted\" ><div class=\"arrow up login-required access-required\" data-event-action=\"upvote\" role=\"button\" aria-label=\"upvote\" tabindex=\"0\" ></div><div class=\"score dislikes\" title=\"12608\">12.6k</div><div class=\"score unvoted\" title=\"12609\">12.6k</div><div class=\"score likes\" title=\"12610\">12.6k</div><div class=\"arrow down login-required access-required\" data-event-action=\"downvote\" role=\"button\" aria-label=\"downvote\" tabindex=\"0\" ></div></div><a class=\"thumbnail invisible-when-pinned may-blank outbound\" data-event-action=\"thumbnail\" href=\"https://www.bloomberg.com/news/articles/2020-05-24/covid-19-patients-not-infectious-after-11-days-singapore-study\" data-href-url=\"https://www.bloomberg.com/news/articles/2020-05-24/covid-19-patients-not-infectious-after-11-days-singapore-study\" data-outbound-url=\"https://out.reddit.com/t3_gpz205?url=https%3A%2F%2Fwww.bloomberg.com%2Fnews%2Farticles%2F2020-05-24%2Fcovid-19-patients-not-infectious-after-11-days-singapore-study&amp;token=AQAAID_LXhPEQeOJrrhO5T5czjHkSDyarPhZ4OYH_3HoNm3kNvOv&amp;app_name=reddit.com\" data-outbound-expiration=\"1590378272000\" rel=\"nofollow ugc\" ><img src=\"//b.thumbs.redditmedia.com/C8yd2Ik6Tzl4sV9HnL4LwIATIscKhta_tWQkfBY8ofE.jpg\" width='70' height='46' alt=\"\"></a><div class=\"entry unvoted\"><div class=\"top-matter\"><p class=\"title\"><a class=\"title may-blank outbound\" data-event-action=\"title\" href=\"https://www.bloomberg.com/news/articles/2020-05-24/covid-19-patients-not-infectious-after-11-days-singapore-study\" tabindex=\"1\" data-href-url=\"https://www.bloomberg.com/news/articles/2020-05-24/covid-19-patients-not-infectious-after-11-days-singapore-study\" data-outbound-url=\"https://out.reddit.com/t3_gpz205?url=https%3A%2F%2Fwww.bloomberg.com%2Fnews%2Farticles%2F2020-05-24%2Fcovid-19-patients-not-infectious-after-11-days-singapore-study&amp;token=AQAAID_LXhPEQeOJrrhO5T5czjHkSDyarPhZ4OYH_3HoNm3kNvOv&amp;app_name=reddit.com\" data-outbound-expiration=\"1590378272000\" rel=\"nofollow ugc\" >New study finds Covid19 patients are no longer infectious after 11 days of getting sick even though some may still test positive. The data from Singapore adds to a growing body of evidence showing people don’t transmit the infection once they’re recovered.</a><span class=\"flairrichtext flaircolorlight linkflairlabel \" title=\"Medicine\" style=\"background-color: #dd7c7e; border-color: #dd7c7e;\"><span>Medicine</span></span>&#32;<span class=\"domain\">(<a href=\"/domain/bloomberg.com/\">bloomberg.com</a>)</span></p><p class=\"tagline \">submitted&#32;<time title=\"Sun May 24 22:41:46 2020 UTC\" datetime=\"2020-05-24T22:41:46+00:00\" class=\"live-timestamp\">4 hours ago</time>&#32;by&#32;<a href=\"https://www.reddit.com/user/inspiration_capsule\" class=\"author may-blank id-t2_paljqow\" >inspiration_capsule</a><span class=\"userattrs\"></span>&#32;to&#32;<a href=\"https://www.reddit.com/r/science/\" class=\"subreddit hover may-blank\" >r/science</a><span class=\"awardings-bar\" data-subredditpath=\"/r/science/\" ><a class=\"awarding-link\" href=\"/r/science/gilded\" data-award-id=\"award_02d9ab2c-162e-4c01-8438-317a016ed3d9\" data-count=\"2\" ><span class=\"awarding-icon-container\"><img class=\"awarding-icon\" src=\"https://preview.redd.it/award_images/t5_22cerq/898sygoknoo41_TakeMyEnergy.png?width=48&amp;height=48&amp;auto=webp&amp;s=83038a4d6181d3c8f5107dbca4ddb735ca6c2231\" /></span>2</a><a class=\"awarding-link\" href=\"/r/science/gilded\" data-award-id=\"award_3cfcec62-59db-4f0e-b5d0-79c763c9c9bb\" data-count=\"1\" ><span class=\"awarding-icon-container\"><img class=\"awarding-icon\" src=\"https://preview.redd.it/award_images/t5_22cerq/g3cbqpewfc051_HeroesForever.png?width=48&amp;height=48&amp;auto=webp&amp;s=44683db24622bc94e76544f132132e3d3a4377a6\" /></span></a><a class=\"awarding-link\" href=\"/r/science/gilded\" data-award-id=\"award_cc091963-e271-45aa-ba23-b5150e565520\" data-count=\"1\" ><span class=\"awarding-icon-container\"><img class=\"awarding-icon\" src=\"https://preview.redd.it/award_images/t5_22cerq/qq73pijkm3p41_SafeSocial.png?width=48&amp;height=48&amp;auto=webp&amp;s=85098196df26658027c56256f4f1af30f64d2814\" /></span></a><a class=\"awarding-link\" href=\"/r/science/gilded\" data-award-id=\"award_3cf96da4-79da-4127-90ac-84545e1833dc\" data-count=\"1\" ><span class=\"awarding-icon-container\"><img class=\"awarding-icon\" src=\"https://preview.redd.it/award_images/t5_22cerq/qh4pzo76v9p41_HomeTime.png?width=48&amp;height=48&amp;auto=webp&amp;s=3fb62803315450661c05e36da2b8d00ba06ad619\" /></span></a><a class=\"awarding-link\" href=\"/r/science/gilded\" data-award-id=\"award_a903c949-ccc5-420d-8239-1bbefc424838\" data-count=\"3\" ><span class=\"awarding-icon-container\"><img class=\"awarding-icon\" src=\"https://preview.redd.it/award_images/t5_22cerq/xs2na1t1v9p41_HealthcareHero.png?width=48&amp;height=48&amp;auto=webp&amp;s=111f12637505e5dea857caf5b3cdec196ddb7377\" /></span>3</a></span></p><ul class=\"flat-list buttons\"><li class=\"first\"><a href=\"https://www.reddit.com/r/science/comments/gpz205/new_study_finds_covid19_patients_are_no_longer/\" data-event-action=\"comments\" class=\"bylink comments may-blank\" rel=\"nofollow\" >407 comments</a></li><li class=\"share\"><a class=\"post-sharing-button\" href=\"javascript: void 0;\">share</a></li><li class=\"link-save-button save-button login-required\"><a href=\"#\">save</a></li><li><form action=\"/post/hide\" method=\"post\" class=\"state-button hide-button\"><input type=\"hidden\" name=\"executed\" value=\"hidden\" /><span><a href=\"javascript:void(0)\" class=\" \" data-event-action=\"hide\" onclick=\"change_state(this, 'hide', hide_thing);\">hide</a></span></form></li><li class=\"report-button login-required\"><a href=\"javascript:void(0)\" class=\"reportbtn access-required\" data-event-action=\"report\">report</a></li></ul><div class=\"reportform report-t3_gpz205\"></div></div></div><div class=\"child\" ></div><div class=\"clearleft\"></div></div><div class=\"clearleft\"></div><div class=\" thing id-t3_gporoj odd&#32; gilded link self\" id=\"thing_t3_gporoj\" onclick=\"click_thing(this)\" data-fullname=\"t3_gporoj\" data-type=\"link\" data-gildings=\"3\" data-whitelist-status=\"all_ads\" data-author=\"mouldygoldie\" data-author-fullname=\"t2_gp5k5\" data-subreddit=\"AskReddit\" data-subreddit-prefixed=\"r/AskReddit\" data-subreddit-fullname=\"t5_2qh1i\" data-subreddit-type=\"public\" data-timestamp=\"1590322697000\" data-url=\"/r/AskReddit/comments/gporoj/what_is_the_most_severe_case_of_someone_being/\" data-permalink=\"/r/AskReddit/comments/gporoj/what_is_the_most_severe_case_of_someone_being/\" data-domain=\"self.AskReddit\" data-rank=\"3\" data-comments-count=\"13872\" data-score=\"40104\" data-promoted=\"false\" data-nsfw=\"false\" data-spoiler=\"false\" data-oc=\"false\" data-num-crossposts=\"3\" data-context=\"listing\" ><p class=\"parent\"></p><span class=\"rank\">3</span><div class=\"midcol unvoted\" ><div class=\"arrow up login-required access-required\" data-event-action=\"upvote\" role=\"button\" aria-label=\"upvote\" tabindex=\"0\" ></div><div class=\"score dislikes\" title=\"40196\">40.2k</div><div class=\"score unvoted\" title=\"40197\">40.2k</div><div class=\"score likes\" title=\"40198\">40.2k</div><div class=\"arrow down login-required access-required\" data-event-action=\"downvote\" role=\"button\" aria-label=\"downvote\" tabindex=\"0\" ></div></div><a class=\"thumbnail invisible-when-pinned self may-blank \" data-event-action=\"thumbnail\" href=\"/r/AskReddit/comments/gporoj/what_is_the_most_severe_case_of_someone_being/\" ></a><div class=\"entry unvoted\"><div class=\"top-matter\"><p class=\"title\"><a class=\"title may-blank \" data-event-action=\"title\" href=\"/r/AskReddit/comments/gporoj/what_is_the_most_severe_case_of_someone_being/\" tabindex=\"1\" >What is the most severe case of someone being completely out of touch with reality you've ever seen?</a>&#32;<span class=\"domain\">(<a href=\"/r/AskReddit/\">self.AskReddit</a>)</span></p><p class=\"tagline \">submitted&#32;<time title=\"Sun May 24 12:18:17 2020 UTC\" datetime=\"2020-05-24T12:18:17+00:00\" class=\"live-timestamp\">14 hours ago</time>&#32;by&#32;<a href=\"https://www.reddit.com/user/mouldygoldie\" class=\"author cakeday may-blank id-t2_gp5k5\" >mouldygoldie</a><span class=\"userattrs\">[<a class=\"cakeday\" title=\"mouldygoldie just celebrated a reddit birthday!\" href=\"/user/mouldygoldie\">&#x1F370;</a>]</span>&#32;to&#32;<a href=\"https://www.reddit.com/r/AskReddit/\" class=\"subreddit hover may-blank\" >r/AskReddit</a><span class=\"awardings-bar\" data-subredditpath=\"/r/AskReddit/\" ><a class=\"awarding-link\" href=\"/r/AskReddit/gilded\" data-award-id=\"gid_2\" data-count=\"3\" ><span class=\"awarding-icon-container\"><img class=\"awarding-icon\" src=\"https://www.redditstatic.com/gold/awards/icon/gold_48.png\" /></span>3</a><a class=\"awarding-link\" href=\"/r/AskReddit/gilded\" data-award-id=\"award_ae89e420-c4a5-47b8-a007-5dacf1c0f0d4\" data-count=\"1\" ><span class=\"awarding-icon-container\"><img class=\"awarding-icon\" src=\"https://preview.redd.it/award_images/t5_22cerq/iq0sgwn5bzy41_LawyerUp.png?width=48&amp;height=48&amp;auto=webp&amp;s=28b8b7b9bea65dcd3292119e1550f8ed6f877473\" /></span></a><a class=\"awarding-link\" href=\"/r/AskReddit/gilded\" data-award-id=\"award_9e04c08e-16e4-4af0-a3a9-c26687489964\" data-count=\"1\" ><span class=\"awarding-icon-container\"><img class=\"awarding-icon\" src=\"https://preview.redd.it/award_images/t5_22cerq/ocibcladz8t41_ToastyatHome.png?width=48&amp;height=48&amp;auto=webp&amp;s=8397761b2b5d3f84f349e49444d08feb3b351678\" /></span></a><a class=\"awarding-link\" href=\"/r/AskReddit/gilded\" data-award-id=\"award_bb13380a-06c9-4ad8-aba6-db1700e8d13b\" data-count=\"1\" ><span class=\"awarding-icon-container\"><img class=\"awarding-icon\" src=\"https://www.redditstatic.com/gold/awards/icon/Quarantine15_48.png\" /></span></a><a class=\"awarding-link\" href=\"/r/AskReddit/gilded\" data-award-id=\"award_a903c949-ccc5-420d-8239-1bbefc424838\" data-count=\"1\" ><span class=\"awarding-icon-container\"><img class=\"awarding-icon\" src=\"https://preview.redd.it/award_images/t5_22cerq/xs2na1t1v9p41_HealthcareHero.png?width=48&amp;height=48&amp;auto=webp&amp;s=111f12637505e5dea857caf5b3cdec196ddb7377\" /></span></a></span></p><ul class=\"flat-list buttons\"><li class=\"first\"><a href=\"https://www.reddit.com/r/AskReddit/comments/gporoj/what_is_the_most_severe_case_of_someone_being/\" data-event-action=\"comments\" class=\"bylink comments may-blank\" rel=\"nofollow\" >13914 comments</a></li><li class=\"share\"><a class=\"post-sharing-button\" href=\"javascript: void 0;\">share</a></li><li class=\"link-save-button save-button login-required\"><a href=\"#\">save</a></li><li><form action=\"/post/hide\" method=\"post\" class=\"state-button hide-button\"><input type=\"hidden\" name=\"executed\" value=\"hidden\" /><span><a href=\"javascript:void(0)\" class=\" \" data-event-action=\"hide\" onclick=\"change_state(this, 'hide', hide_thing);\">hide</a></span></form></li><li class=\"report-button login-required\"><a href=\"javascript:void(0)\" class=\"reportbtn access-required\" data-event-action=\"report\">report</a></li></ul><div class=\"reportform report-t3_gporoj\"></div></div></div><div class=\"child\" ></div><div class=\"clearleft\"></div></div><div class=\"clearleft\"></div><div class=\" thing id-t3_gpt795 even&#32; link \" id=\"thing_t3_gpt795\" onclick=\"click_thing(this)\" data-fullname=\"t3_gpt795\" data-type=\"link\" data-gildings=\"0\" data-whitelist-status=\"all_ads\" data-author=\"Balls_of_Adamanthium\" data-author-fullname=\"t2_znx17\" data-subreddit=\"news\" data-subreddit-prefixed=\"r/news\" data-subreddit-fullname=\"t5_2qh3l\" data-subreddit-type=\"public\" data-timestamp=\"1590339812000\" data-url=\"https://abcnews.go.com/US/federal-court-backs-california-gov-gavin-newsoms-orders/story?id=70856597\" data-permalink=\"/r/news/comments/gpt795/federal_court_backs_california_gov_gavin_newsoms/\" data-domain=\"abcnews.go.com\" data-rank=\"4\" data-comments-count=\"3984\" data-score=\"49020\" data-promoted=\"false\" data-nsfw=\"false\" data-spoiler=\"false\" data-oc=\"false\" data-num-crossposts=\"0\" data-context=\"listing\" ><p class=\"parent\"></p><span class=\"rank\">4</span><div class=\"midcol unvoted\" ><div class=\"arrow up login-required access-required\" data-event-action=\"upvote\" role=\"button\" aria-label=\"upvote\" tabindex=\"0\" ></div><div class=\"score dislikes\" title=\"49002\">49.0k</div><div class=\"score unvoted\" title=\"49003\">49.0k</div><div class=\"score likes\" title=\"49004\">49.0k</div><div class=\"arrow down login-required access-required\" data-event-action=\"downvote\" role=\"button\" aria-label=\"downvote\" tabindex=\"0\" ></div></div><a class=\"thumbnail invisible-when-pinned default may-blank outbound\" data-event-action=\"thumbnail\" href=\"https://abcnews.go.com/US/federal-court-backs-california-gov-gavin-newsoms-orders/story?id=70856597\" data-href-url=\"https://abcnews.go.com/US/federal-court-backs-california-gov-gavin-newsoms-orders/story?id=70856597\" data-outbound-url=\"https://out.reddit.com/t3_gpt795?url=https%3A%2F%2Fabcnews.go.com%2FUS%2Ffederal-court-backs-california-gov-gavin-newsoms-orders%2Fstory%3Fid%3D70856597&amp;token=AQAAID_LXnG4F-moXIloV-2MH4zVbrgcWndx7g_enG7cQqVNMhHR&amp;app_name=reddit.com\" data-outbound-expiration=\"1590378272000\" rel=\"nofollow ugc\" ></a><div class=\"entry unvoted\"><div class=\"top-matter\"><p class=\"title\"><a class=\"title may-blank outbound\" data-event-action=\"title\" href=\"https://abcnews.go.com/US/federal-court-backs-california-gov-gavin-newsoms-orders/story?id=70856597\" tabindex=\"1\" data-href-url=\"https://abcnews.go.com/US/federal-court-backs-california-gov-gavin-newsoms-orders/story?id=70856597\" data-outbound-url=\"https://out.reddit.com/t3_gpt795?url=https%3A%2F%2Fabcnews.go.com%2FUS%2Ffederal-court-backs-california-gov-gavin-newsoms-orders%2Fstory%3Fid%3D70856597&amp;token=AQAAID_LXnG4F-moXIloV-2MH4zVbrgcWndx7g_enG7cQqVNMhHR&amp;app_name=reddit.com\" data-outbound-expiration=\"1590378272000\" rel=\"nofollow ugc\" >Federal court backs California Gov. Gavin Newsom's orders keeping churches closed</a>&#32;<span class=\"domain\">(<a href=\"/domain/abcnews.go.com/\">abcnews.go.com</a>)</span></p><p class=\"tagline \">submitted&#32;<time title=\"Sun May 24 17:03:32 2020 UTC\" datetime=\"2020-05-24T17:03:32+00:00\" class=\"live-timestamp\">9 hours ago</time>&#32;by&#32;<a href=\"https://www.reddit.com/user/Balls_of_Adamanthium\" class=\"author may-blank id-t2_znx17\" >Balls_of_Adamanthium</a><span class=\"userattrs\"></span>&#32;to&#32;<a href=\"https://www.reddit.com/r/news/\" class=\"subreddit hover may-blank\" >r/news</a><span class=\"awardings-bar\" data-subredditpath=\"/r/news/\" ><a class=\"awarding-link\" href=\"/r/news/gilded\" data-award-id=\"award_f44611f1-b89e-46dc-97fe-892280b13b82\" data-count=\"1\" ><span class=\"awarding-icon-container\"><img class=\"awarding-icon\" src=\"https://preview.redd.it/award_images/t5_22cerq/klvxk1wggfd41_Helpful.png?width=48&amp;height=48&amp;auto=webp&amp;s=e50064b090879e8a0b55e433f6ee61d5cb5fbe1d\" /></span></a><a class=\"awarding-link\" href=\"/r/news/gilded\" data-award-id=\"award_99d95969-6100-45b2-b00c-0ec45ae19596\" data-count=\"2\" ><span class=\"awarding-icon-container\"><img class=\"awarding-icon\" src=\"https://preview.redd.it/award_images/t5_22cerq/rc5iesz2z8t41_Snek.png?width=48&amp;height=48&amp;auto=webp&amp;s=3d8d317fd0e68c3f2696425efb7a5bc85b6f7603\" /></span>2</a><a class=\"awarding-link\" href=\"/r/news/gilded\" data-award-id=\"award_b1b44fa1-8179-4d84-a9ed-f25bb81f1c5f\" data-count=\"1\" ><span class=\"awarding-icon-container\"><img class=\"awarding-icon\" src=\"https://preview.redd.it/award_images/t5_22cerq/ey2iodron2s41_Facepalm.png?width=48&amp;height=48&amp;auto=webp&amp;s=3971718e2c95e4869756cbdbe9e996719ed2dcc2\" /></span></a><a class=\"awarding-link\" href=\"/r/news/gilded\" data-award-id=\"award_3cf96da4-79da-4127-90ac-84545e1833dc\" data-count=\"1\" ><span class=\"awarding-icon-container\"><img class=\"awarding-icon\" src=\"https://preview.redd.it/award_images/t5_22cerq/qh4pzo76v9p41_HomeTime.png?width=48&amp;height=48&amp;auto=webp&amp;s=3fb62803315450661c05e36da2b8d00ba06ad619\" /></span></a><a class=\"awarding-link\" href=\"/r/news/gilded\" data-award-id=\"award_a903c949-ccc5-420d-8239-1bbefc424838\" data-count=\"1\" ><span class=\"awarding-icon-container\"><img class=\"awarding-icon\" src=\"https://preview.redd.it/award_images/t5_22cerq/xs2na1t1v9p41_HealthcareHero.png?width=48&amp;height=48&amp;auto=webp&amp;s=111f12637505e5dea857caf5b3cdec196ddb7377\" /></span></a></span></p><ul class=\"flat-list buttons\"><li class=\"first\"><a href=\"https://www.reddit.com/r/news/comments/gpt795/federal_court_backs_california_gov_gavin_newsoms/\" data-event-action=\"comments\" class=\"bylink comments may-blank\" rel=\"nofollow\" >3984 comments</a></li><li class=\"share\"><a class=\"post-sharing-button\" href=\"javascript: void 0;\">share</a></li><li class=\"link-save-button save-button login-required\"><a href=\"#\">save</a></li><li><form action=\"/post/hide\" method=\"post\" class=\"state-button hide-button\"><input type=\"hidden\" name=\"executed\" value=\"hidden\" /><span><a href=\"javascript:void(0)\" class=\" \" data-event-action=\"hide\" onclick=\"change_state(this, 'hide', hide_thing);\">hide</a></span></form></li><li class=\"report-button login-required\"><a href=\"javascript:void(0)\" class=\"reportbtn access-required\" data-event-action=\"report\">report</a></li></ul><div class=\"reportform report-t3_gpt795\"></div></div></div><div class=\"child\" ></div><div class=\"clearleft\"></div></div><div class=\"clearleft\"></div><div class=\" thing id-t3_gpycb0 odd&#32; link \" id=\"thing_t3_gpycb0\" onclick=\"click_thing(this)\" data-fullname=\"t3_gpycb0\" data-type=\"link\" data-gildings=\"0\" data-whitelist-status=\"all_ads\" data-author=\"Thund3rbolt\" data-author-fullname=\"t2_7krxj\" data-kind='video' data-subreddit=\"HumansBeingBros\" data-subreddit-prefixed=\"r/HumansBeingBros\" data-subreddit-fullname=\"t5_2xh58\" data-subreddit-type=\"public\" data-timestamp=\"1590357601000\" data-url=\"https://v.redd.it/tkltixk4cs051\" data-permalink=\"/r/HumansBeingBros/comments/gpycb0/this_brother_is_helping_his_sister_to_make_the/\" data-domain=\"v.redd.it\" data-rank=\"5\" data-comments-count=\"535\" data-score=\"37443\" data-promoted=\"false\" data-nsfw=\"false\" data-spoiler=\"false\" data-oc=\"false\" data-num-crossposts=\"8\" data-context=\"listing\" ><p class=\"parent\"></p><span class=\"rank\">5</span><div class=\"midcol unvoted\" ><div class=\"arrow up login-required access-required\" data-event-action=\"upvote\" role=\"button\" aria-label=\"upvote\" tabindex=\"0\" ></div><div class=\"score dislikes\" title=\"38041\">38.0k</div><div class=\"score unvoted\" title=\"38042\">38.0k</div><div class=\"score likes\" title=\"38043\">38.0k</div><div class=\"arrow down login-required access-required\" data-event-action=\"downvote\" role=\"button\" aria-label=\"downvote\" tabindex=\"0\" ></div></div><a class=\"thumbnail invisible-when-pinned may-blank \" data-event-action=\"thumbnail\" href=\"/r/HumansBeingBros/comments/gpycb0/this_brother_is_helping_his_sister_to_make_the/\" ><img src=\"//b.thumbs.redditmedia.com/yXABNDItgK0jSkoWdbFada_Df_nol2VudWAJ4RdWNIo.jpg\" width='70' height='70' alt=\"\"><div class=\"duration-overlay\">0:15</div></a><div class=\"entry unvoted\"><div class=\"top-matter\"><p class=\"title\"><a class=\"title may-blank \" data-event-action=\"title\" href=\"/r/HumansBeingBros/comments/gpycb0/this_brother_is_helping_his_sister_to_make_the/\" tabindex=\"1\" >This brother is helping his sister to make the shot!</a>&#32;<span class=\"domain\">(<a href=\"/domain/v.redd.it/\">v.redd.it</a>)</span></p><div class=\"expando-button collapsed hide-when-pinned video\"></div><p class=\"tagline \">submitted&#32;<time title=\"Sun May 24 22:00:01 2020 UTC\" datetime=\"2020-05-24T22:00:01+00:00\" class=\"live-timestamp\">4 hours ago</time>&#32;by&#32;<a href=\"https://www.reddit.com/user/Thund3rbolt\" class=\"author may-blank id-t2_7krxj\" >Thund3rbolt</a><span class=\"userattrs\"></span>&#32;to&#32;<a href=\"https://www.reddit.com/r/HumansBeingBros/\" class=\"subreddit hover may-blank\" >r/HumansBeingBros</a><span class=\"awardings-bar\" data-subredditpath=\"/r/HumansBeingBros/\" ><a class=\"awarding-link\" href=\"/r/HumansBeingBros/gilded\" data-award-id=\"award_c4b2e438-16bb-4568-88e7-7893b7662944\" data-count=\"2\" ><span class=\"awarding-icon-container\"><img class=\"awarding-icon\" src=\"https://preview.redd.it/award_images/t5_22cerq/b9ks3a5k7jj41_WholesomeSealofApproval.png?width=48&amp;height=48&amp;auto=webp&amp;s=913e99a6f6688f26c08dcb411f043f71b17df931\" /></span>2</a><a class=\"awarding-link\" href=\"/r/HumansBeingBros/gilded\" data-award-id=\"award_1f0462ee-18f5-4f33-89cf-f1f79336a452\" data-count=\"2\" ><span class=\"awarding-icon-container\"><img class=\"awarding-icon\" src=\"https://preview.redd.it/award_images/t5_22cerq/0o2j782f00e41_WholesomeSuperpro.png?width=48&amp;height=48&amp;auto=webp&amp;s=ed063580825e72b0ae63fe30c807b453b1362694\" /></span>2</a><a class=\"awarding-link\" href=\"/r/HumansBeingBros/gilded\" data-award-id=\"award_28e8196b-d4e9-45bc-b612-cd4c7d3ed4b3\" data-count=\"1\" ><span class=\"awarding-icon-container\"><img class=\"awarding-icon\" src=\"https://preview.redd.it/award_images/t5_22cerq/94pn64yuas941_RocketLike.png?width=48&amp;height=48&amp;auto=webp&amp;s=5b5211166e4b260311ad9f3ea31d3b815110769c\" /></span></a><a class=\"awarding-link\" href=\"/r/HumansBeingBros/gilded\" data-award-id=\"award_5f123e3d-4f48-42f4-9c11-e98b566d5897\" data-count=\"1\" ><span class=\"awarding-icon-container\"><img class=\"awarding-icon\" src=\"https://preview.redd.it/award_images/t5_22cerq/5izbv4fn0md41_Wholesome.png?width=48&amp;height=48&amp;auto=webp&amp;s=febdf28b6f39f7da7eb1365325b85e0bb49a9f63\" /></span></a><a class=\"awarding-link hide-award\" href=\"/r/HumansBeingBros/gilded\" data-award-id=\"award_4769bf02-32f3-480d-81d7-88b2f630d9cd\" data-count=\"1\" ><span class=\"awarding-icon-container\"><img class=\"awarding-icon\" src=\"https://preview.redd.it/award_images/t5_22cerq/968ez2gen2s41_Yikes.png?width=48&amp;height=48&amp;auto=webp&amp;s=74bec9f01940afcaec87d700fbc4d1cc28aa8fb8\" /></span></a><a class=\"awarding-link hide-award\" href=\"/r/HumansBeingBros/gilded\" data-award-id=\"award_3cfcec62-59db-4f0e-b5d0-79c763c9c9bb\" data-count=\"3\" ><span class=\"awarding-icon-container\"><img class=\"awarding-icon\" src=\"https://preview.redd.it/award_images/t5_22cerq/g3cbqpewfc051_HeroesForever.png?width=48&amp;height=48&amp;auto=webp&amp;s=44683db24622bc94e76544f132132e3d3a4377a6\" /></span>3</a><a class=\"awarding-link hide-award\" href=\"/r/HumansBeingBros/gilded\" data-award-id=\"award_a903c949-ccc5-420d-8239-1bbefc424838\" data-count=\"1\" ><span class=\"awarding-icon-container\"><img class=\"awarding-icon\" src=\"https://preview.redd.it/award_images/t5_22cerq/xs2na1t1v9p41_HealthcareHero.png?width=48&amp;height=48&amp;auto=webp&amp;s=111f12637505e5dea857caf5b3cdec196ddb7377\" /></span></a><a class=\"awarding-show-more-link\" href=\"/r/HumansBeingBros/gilded\" >&amp; 5 more</a></span></p><ul class=\"flat-list buttons\"><li class=\"first\"><a href=\"https://www.reddit.com/r/HumansBeingBros/comments/gpycb0/this_brother_is_helping_his_sister_to_make_the/\" data-event-action=\"comments\" class=\"bylink comments may-blank\" rel=\"nofollow\" >544 comments</a></li><li class=\"share\"><a class=\"post-sharing-button\" href=\"javascript: void 0;\">share</a></li><li class=\"link-save-button save-button login-required\"><a href=\"#\">save</a></li><li><form action=\"/post/hide\" method=\"post\" class=\"state-button hide-button\"><input type=\"hidden\" name=\"executed\" value=\"hidden\" /><span><a href=\"javascript:void(0)\" class=\" \" data-event-action=\"hide\" onclick=\"change_state(this, 'hide', hide_thing);\">hide</a></span></form></li><li class=\"report-button login-required\"><a href=\"javascript:void(0)\" class=\"reportbtn access-required\" data-event-action=\"report\">report</a></li></ul><div class=\"reportform report-t3_gpycb0\"></div></div><div class=\"expando expando-uninitialized\" style='display: none' data-cachedhtml=\" &lt;div class=&quot;media-preview no-constraints-when-pinned&quot; id=&quot;media-preview-gpycb0&quot; style=&quot;max-width: 486.0px; min-width: 486px; max-height: 486px; min-height: 273px; overflow: hidden;&quot; &gt; &lt;div class=&quot;media-preview-content video-player&quot;&gt; &lt;div class=&quot;no-constraints-when-pinned&quot; style=&quot;max-width: 486.0px; min-width: 486px; max-height: 486px; min-height: 273px&quot; &gt; &lt;div id=&quot;video-gpycb0&quot; class=&quot;portrait&quot; data-hls-url=&quot;https://v.redd.it/tkltixk4cs051/HLSPlaylist.m3u8?a=1592966433%2CMTAzMTljMTBjNDBkNTNjZTQ5MGVlZTk0ZmNlMmY2ZTk4ZTNkZTk4MWNhZTNkNTJiYmJjZGRlMjg0ZTZhZmYzNw%3D%3D&amp;amp;v=v1&amp;amp;f=sd&quot; data-id-36=&quot;gpycb0&quot; data-link-url=&quot;/r/HumansBeingBros/comments/gpycb0/this_brother_is_helping_his_sister_to_make_the/&quot; data-mpd-url=&quot;https://v.redd.it/tkltixk4cs051/DASHPlaylist.mpd?a=1592966433%2CMTAzMTljMTBjNDBkNTNjZTQ5MGVlZTk0ZmNlMmY2ZTk4ZTNkZTk4MWNhZTNkNTJiYmJjZGRlMjg0ZTZhZmYzNw%3D%3D&amp;amp;v=v1&amp;amp;f=sd&quot; data-obfuscated-poster-url=&quot;&quot; data-orientation=&quot;portrait&quot; data-seek-preview-url=&quot;https://v.redd.it/tkltixk4cs051/DASH_96&quot; data-video-height=&quot;486&quot; data-video-width=&quot;486.0&quot; data-pinned-height=&quot;135&quot; data-pinned-width=&quot;135.0&quot; data-max-pinned-width=&quot;240&quot; data-is-gif=&quot;false&quot; &gt;&lt;/div&gt; &lt;script type=&quot;text/javascript&quot;&gt; (function() { var thing = {&quot;obfuscatedPosterUrl&quot;: null, &quot;context&quot;: &quot;listing&quot;, &quot;isGif&quot;: false}; var autoplay = true; if (thing.obfuscatedPosterUrl){ autoplay = false; } if (r.config &amp;&amp; !r.config.pref_video_autoplay &amp;&amp; thing.context === &quot;comments&quot;) { autoplay = false; } var play_pause_click_action = autoplay ? &quot;pause&quot; : &quot;play&quot;; var play_pause_click_toggle_action = autoplay ? &quot;play&quot; : &quot;pause&quot;; var play_pause_vector_from = autoplay ? &quot;m5,5l15,7.5l0,15l-15,7.5l0,-30m15,7.5l15,7.5l0,0l-15,7.5l0,-15&quot; : &quot;m5,5l12,0l0,30l-12,0l0,-30m18,0l12,0l0,30l-12,0l0,-30&quot;; var play_pause_vector_to = autoplay ? &quot;m5,5l12,0l0,30l-12,0l0,-30m18,0l12,0l0,30l-12,0l0,-30&quot; : &quot;m5,5l15,7.5l0,15l-15,7.5l0,-30m15,7.5l15,7.5l0,0l-15,7.5l0,-15&quot;; var videoPlayerElement = $(&quot;#video-gpycb0&quot;); var isMobile = r.utils.isMobile(); var canPlayDash = (typeof (window.MediaSource || window.WebKitMediaSource) === &quot;function&quot;); var videoOptions = { id: videoPlayerElement.data(&quot;id36&quot;), linkUrl: videoPlayerElement.data(&quot;linkUrl&quot;), src: canPlayDash ? videoPlayerElement.data(&quot;mpdUrl&quot;) : videoPlayerElement.data(&quot;hlsUrl&quot;), type: canPlayDash ? RedditVideoPlayer.Types.MPD : RedditVideoPlayer.Types.HLS, autoplay: autoplay, poster: null, loop: false, orientation: videoPlayerElement.data(&quot;orientation&quot;), }; if (isMobile) { videoOptions.enableStorage = false; videoOptions.uiControls = false; if (thing.isGif) { videoOptions.clickAction = RedditVideoPlayer.ClickActions.NONE; } else { videoOptions.controls = true; } } var redditVideoPlayer = new RedditVideoPlayer(videoPlayerElement, videoOptions); videoPlayerElement.data(&quot;video-player-object&quot;, redditVideoPlayer); redditVideoPlayer.setAspectRatio(videoPlayerElement.data(&quot;videoHeight&quot;) / videoPlayerElement.data(&quot;videoWidth&quot;)); if (!isMobile) { var bufferingControlsTree = $.parseHTML( '&lt;div class=&quot;buffering-controls&quot;&gt;' + '&lt;div class=&quot;centered horizontal&quot;&gt;' + '&lt;div class=&quot;buffering-indicator active&quot;&gt;' + '&lt;div class=&quot;spinner-layer&quot;&gt;' + '&lt;div class=&quot;circle-clipper left&quot;&gt;' + '&lt;div class=&quot;circle&quot;&gt;&lt;/div&gt;' + '&lt;/div&gt;' + '&lt;div class=&quot;gap-patch&quot;&gt;' + '&lt;div class=&quot;circle&quot;&gt;&lt;/div&gt;' + '&lt;/div&gt;' + '&lt;div class=&quot;circle-clipper right&quot;&gt;' + '&lt;div class=&quot;circle&quot;&gt;&lt;/div&gt;' + '&lt;/div&gt;' + '&lt;/div&gt;' + '&lt;/div&gt;' + '&lt;/div&gt;' + '&lt;/div&gt;' ); var bufferingControlsOptions = { behavior: RedditVideoController.Behaviors.BUFFERING, startVisible: false, fadeInDuration: 0, fadeOutDuration: 0, }; var bufferingControls = new RedditVideoController(bufferingControlsTree, bufferingControlsOptions); redditVideoPlayer.addUiController(bufferingControls); var endedControlsTree = $.parseHTML( '&lt;div class=&quot;ended-controls hide-when-pinned&quot;&gt;' + '&lt;div class=&quot;centered vertical&quot;&gt;' + '&lt;button data-control-type=&quot;click&quot; data-action=&quot;replay&quot;&gt;' + '&lt;img src=&quot;//www.redditstatic.com/video-refresh.svg&quot; &gt;' + '&lt;/button&gt;' + '&lt;span class=&quot;replay-video&quot;&gt;Replay Video&lt;/span&gt;' + '&lt;/div&gt;' + '&lt;/div&gt;' ); var endedControlsOptions = { behavior: RedditVideoController.Behaviors.COMPLETED, startVisible: false, fadeInDuration: 400, fadeOutDuration: 0, }; var endedControls = new RedditVideoController(endedControlsTree, endedControlsOptions); redditVideoPlayer.addUiController(endedControls); var playbackControlsTree = $.parseHTML( '&lt;div class=&quot;playback-controls right bottom left hide-when-pinned&quot;&gt;' + '&lt;a class=&quot;control-button permalink&quot; ' + 'tooltip-string=&quot;View post on Reddit&quot;' + 'data-control-type=&quot;click&quot; ' + 'href=&quot;/r/HumansBeingBros/comments/gpycb0/this_brother_is_helping_his_sister_to_make_the/&quot;&gt;' + '&lt;img src=&quot;//www.redditstatic.com/video-snoo.svg&quot; /&gt;' + '&lt;/a&gt;' + '&lt;button ' + 'class=&quot;control-button play-pause&quot; ' + 'tooltip-string=&quot;Pause&quot;' + 'tooltip-string-toggle=&quot;Play&quot; ' + 'data-control-type=&quot;click&quot; ' + 'data-action=&quot;' + play_pause_click_action + '&quot; ' + 'data-toggle-action=&quot;' + play_pause_click_toggle_action + '&quot;&gt;' + '&lt;svg class=&quot;play-pause&quot; viewbox=&quot;0 0 40 40&quot;&gt;' + '&lt;path d=&quot;' + play_pause_vector_to + '&quot;&gt;' + '&lt;animate ' + 'begin=&quot;indefinite&quot; ' + 'attributeType=&quot;XML&quot; ' + 'attributeName=&quot;d&quot; ' + 'fill=&quot;freeze&quot; ' + 'to=&quot;' + play_pause_vector_to + '&quot; ' + 'from=&quot;' + play_pause_vector_from + '&quot; ' + 'dur=&quot;0.1s&quot; ' + 'keySplines=&quot;.4 0 1 1&quot; ' + 'repeat=&quot;1&quot;&gt;' + '&lt;/animate&gt;' + '&lt;/path&gt;' + '&lt;/svg&gt;' + '&lt;/button&gt;' + '&lt;span class=&quot;time-label&quot; ' + 'data-control-type=&quot;text&quot; ' + 'data-action=&quot;elapsedTime&quot;&gt;' + '0:00' + '&lt;/span&gt;' + '&lt;div data-control-type=&quot;seekBar&quot; ' + 'data-preview-video-src=&quot;' + videoPlayerElement.data('seekPreviewUrl') + '&quot;&gt;' + '&lt;/div&gt;' + '&lt;span class=&quot;time-label&quot; ' + 'data-control-type=&quot;text&quot; ' + 'data-action=&quot;totalTime&quot;&gt;' + '0:00' + '&lt;/span&gt;' + '&lt;div class=&quot;control-button volume-container&quot;&gt;' + '&lt;div data-control-type=&quot;volumeSlider&quot;&gt;&lt;/div&gt;' + '&lt;button class=&quot;volume&quot; data-control-type=&quot;click&quot; data-action=&quot;unmute&quot; data-toggle-action=&quot;mute&quot;&gt;' + '&lt;img class=&quot;mute&quot; src=&quot;//www.redditstatic.com/video-volume.svg&quot;&gt;' + '&lt;img class=&quot;unmute&quot; src=&quot;//www.redditstatic.com/video-mute.svg&quot;&gt;' + '&lt;/button&gt;' + '&lt;/div&gt;' + '&lt;div class=&quot;control-button settings-container&quot; ' + 'tooltip-string=&quot;Settings&quot;&gt;' + '&lt;label class=&quot;settings has-submenu&quot; data-control-type=&quot;click&quot;&gt;' + '&lt;input class=&quot;settings&quot; type=&quot;checkbox&quot;&gt;' + '&lt;img class=&quot;settings-open&quot; src=&quot;//www.redditstatic.com/video-settings.svg&quot;&gt;' + '&lt;img class=&quot;settings-close&quot; src=&quot;//www.redditstatic.com/video-settings-open.svg&quot;&gt;' + '&lt;span class=&quot;submenu&quot;&gt;' + '&lt;div data-control-type=&quot;settingsMenu&quot;&gt;&lt;/div&gt;' + '&lt;/span&gt;' + '&lt;/label&gt;' + '&lt;/div&gt;' + '&lt;button class=&quot;control-button fullscreen&quot; ' + 'tooltip-string=&quot;Fullscreen&quot;' + 'tooltip-string-toggle=&quot;Exit Fullscreen&quot; ' + 'data-control-type=&quot;click&quot; ' + 'data-action=&quot;fullscreenRequest&quot; ' + 'data-toggle-action=&quot;fullscreenCancel&quot;&gt;' + '&lt;img class=&quot;expand&quot; src=&quot;//www.redditstatic.com/video-expand.svg&quot;&gt;' + '&lt;img class=&quot;collapse&quot; src=&quot;//www.redditstatic.com/video-collapse.svg&quot;&gt;' + '&lt;/button&gt;' + '&lt;/div&gt;' ); var playbackControlsOptions = { behavior: RedditVideoController.Behaviors.MOUSE_MOVE, }; var playbackControls = new RedditVideoController(playbackControlsTree, playbackControlsOptions); redditVideoPlayer.addUiController(playbackControls); if (r.config &amp;&amp; !r.config.pref_video_autoplay &amp;&amp; thing.context === &quot;comments&quot;) { var interstitialControlsTree = $.parseHTML( '&lt;div class=&quot;interstitial-controls hide-when-pinned&quot;&gt;' + '&lt;div class=&quot;centered vertical&quot;&gt;' + '&lt;button data-control-type=&quot;click&quot; data-action=&quot;play&quot;&gt;' + '&lt;svg class=&quot;play-pause&quot; viewbox=&quot;0 0 36 36&quot;&gt;' + '&lt;path d=&quot;m5,5l15,7.5l0,15l-15,7.5l0,-30m15,7.5l15,7.5l0,0l-15,7.5l0,-15&quot;&gt;&lt;/path&gt;' + '&lt;/svg&gt;' + '&lt;/button&gt;' + '&lt;/div&gt;' + '&lt;/div&gt;' ); var interstitialControlsOptions = { behavior: RedditVideoController.Behaviors.INTERSTITIAL, startVisible: true, fadeInDuration: 0, fadeOutDuration: 400, }; var interstitialControls = new RedditVideoController(interstitialControlsTree, interstitialControlsOptions); redditVideoPlayer.addUiController(interstitialControls); } $(playbackControlsTree).find('input.settings').change(function() { if ($(this).is(':checked')) { firePlayerEvent.call(redditVideoPlayer, null, null, {verb: 'click', noun: 'settings'}); redditVideoPlayer.setClickAction(RedditVideoPlayer.ClickActions.NONE); } else { redditVideoPlayer.setClickAction(RedditVideoPlayer.ClickActions.PLAY_PAUSE); } }); } if (isMobile &amp;&amp; thing.isGif) { $(videoPlayerElement).find(&quot;video&quot;).bind(&quot;webkitendfullscreen&quot;, function() { this.play(); }); redditVideoPlayer.mute(); } $(document.body).on(&quot;interstitial:destroy&quot;, function(event) { if (&quot;t3_gpycb0&quot; == event.expando.id) { redditVideoPlayer.play(); } }); var parent = $(&quot;#media-preview-gpycb0&quot;).parent(); var hadInterstitial = parent.hasClass(&quot;expando&quot;) &amp;&amp; !(parent.hasClass(&quot;expando--with-interstitial&quot;)) &amp;&amp; !(parent.hasClass(&quot;expando-uninitialized&quot;)) &amp;&amp; &quot;&quot; != &quot;&quot;; if (hadInterstitial &amp;&amp; !isMobile) { $(videoPlayerElement).find(&quot;video&quot;)[0].addEventListener(&quot;canplay&quot;, function() { redditVideoPlayer.play(); }) } var playPauseButtons = $(videoPlayerElement).find(&quot;button.play-pause&quot;); var isPlaying = autoplay; redditVideoPlayer.addActionCompletedCallback(function(action, value) { if ((action == RedditVideoPlayer.Actions.PLAY &amp;&amp; !isPlaying) || (action == RedditVideoPlayer.Actions.PAUSE &amp;&amp; isPlaying)) { playPauseButtons.each(function() { var animation = $(this).find('animate').first(); var to = animation.attr('to'); var from = animation.attr('from'); animation.attr({ &quot;from&quot;: to, &quot;to&quot;: from }); if ('beginElement' in animation[0]) { animation.get(0) .beginElement(); } else { var path = $(this).find('path'); path.attr({&quot;d&quot;: from}); } }); isPlaying = !isPlaying; } else if (action == RedditVideoPlayer.Actions.NONE &amp;&amp; thing.isGif &amp;&amp; isMobile) { redditVideoPlayer.toggleFullScreen(); return; } var settings = $(playbackControlsTree).find(&quot;input.settings&quot;); if (settings.prop(&quot;checked&quot;)) { settings.prop(&quot;checked&quot;, false); redditVideoPlayer.setClickAction(RedditVideoPlayer.ClickActions.PLAY_PAUSE); } }); var postElement = videoPlayerElement.closest('.thing.link')[0]; var mediaPreviewElement = $(&quot;#media-preview-gpycb0&quot;)[0]; r.analytics.observeAdVideoPlayer(postElement, mediaPreviewElement); redditVideoPlayer.addActionCompletedCallback(function(action, value) { var actions = [ RedditVideoPlayer.Actions.BUFFERING, RedditVideoPlayer.Actions.PAUSE, RedditVideoPlayer.Actions.PLAY, RedditVideoPlayer.Actions.SEEK_JUMP, RedditVideoPlayer.Actions.SET_CURRENT_TIME, RedditVideoPlayer.Actions.FULLSCREEN_REQUEST, RedditVideoPlayer.Actions.UNMUTE, RedditVideoPlayer.Actions.MUTE, ]; if (actions.indexOf(action) &gt; -1) { var targetElement = $(this.root).closest('.thing.link'); var playerData = { muted: redditVideoPlayer.muted, volume: redditVideoPlayer.volume, duration: redditVideoPlayer.duration, }; r.analytics.handleVideoAdEvent(action, value, playerData, targetElement); } }); var lastTime = 0; var elapsedTime = 0; redditVideoPlayer.addTimeUpdateHandler(function(time, duration) { var targetElement = $(this.root).closest('.thing.link'); var INTERVAL = 0.5; var timeDiff = time - lastTime; lastTime = time; if (timeDiff &gt; 0 &amp;&amp; timeDiff &lt; INTERVAL) { elapsedTime += timeDiff; r.analytics.handleVideoTimeUpdate(elapsedTime, duration, targetElement); } }); function firePlayerEvent(action, value, extras) { extras = (typeof extras === 'object') ? extras : {}; var verb = extras.verb || ''; var noun = extras.noun || ''; var source = extras.source || 'videoplayer'; var maxTimestamp = this.maxPlayed * 1000; var durationMs = this.duration * 1000; var timeMs = this.currentTime * 1000; var pinnableElement = $(this.root).closest('.pinnable-content'); var targetElement = $(this.root).closest('.thing.link'); var targetData = targetElement.data(); var videoState = { maxTimestampServed: parseInt(maxTimestamp), percentServed: maxTimestamp / durationMs, duration: parseInt(durationMs), time: parseInt(timeMs), isNsfw: targetElement.hasClass('over18'), isSpoiler: targetElement.hasClass('spoiler'), isPinned: pinnableElement.hasClass('pinned'), isVertical: this.orientation === RedditVideoPlayer.Orientations.PORTRAIT, firstFrameTime: this.firstFrameTime, loadStartTime: this.loadStartTime, }; r.analytics.videoPlayerEvent(source, verb, noun, targetData, videoState); } redditVideoPlayer.addActionCompletedCallback(firePlayerEvent); $(playbackControlsTree).find('a.permalink').click(function() { firePlayerEvent.call(redditVideoPlayer, null, null, {verb: 'click', noun: 'snoo'}); }); })(); &lt;/script&gt; &lt;/div&gt; &lt;/div&gt; &lt;/div&gt; \" data-pin-condition=\"function() {return this.style.display != 'none';}\" ><span class=\"error\">loading...</span></div></div><div class=\"child\" ></div><div class=\"clearleft\"></div></div><div class=\"clearleft\"></div><div class=\" thing id-t3_gpvm2g even&#32; link \" id=\"thing_t3_gpvm2g\" onclick=\"click_thing(this)\" data-fullname=\"t3_gpvm2g\" data-type=\"link\" data-gildings=\"0\" data-whitelist-status=\"all_ads\" data-author=\"LadybirdTheCat\" data-author-fullname=\"t2_24skxrn8\" data-subreddit=\"todayilearned\" data-subreddit-prefixed=\"r/todayilearned\" data-subreddit-fullname=\"t5_2qqjc\" data-subreddit-type=\"public\" data-timestamp=\"1590348152000\" data-url=\"https://whnt.com/news/women-can-now-legally-go-topless-in-6-states-after-federal-ruling/\" data-permalink=\"/r/todayilearned/comments/gpvm2g/til_it_is_completely_legal_for_women_to_be/\" data-domain=\"whnt.com\" data-rank=\"6\" data-comments-count=\"3838\" data-score=\"55547\" data-promoted=\"false\" data-nsfw=\"false\" data-spoiler=\"false\" data-oc=\"false\" data-num-crossposts=\"12\" data-context=\"listing\" ><p class=\"parent\"></p><span class=\"rank\">6</span><div class=\"midcol unvoted\" ><div class=\"arrow up login-required access-required\" data-event-action=\"upvote\" role=\"button\" aria-label=\"upvote\" tabindex=\"0\" ></div><div class=\"score dislikes\" title=\"55576\">55.6k</div><div class=\"score unvoted\" title=\"55577\">55.6k</div><div class=\"score likes\" title=\"55578\">55.6k</div><div class=\"arrow down login-required access-required\" data-event-action=\"downvote\" role=\"button\" aria-label=\"downvote\" tabindex=\"0\" ></div></div><a class=\"thumbnail invisible-when-pinned may-blank outbound\" data-event-action=\"thumbnail\" href=\"https://whnt.com/news/women-can-now-legally-go-topless-in-6-states-after-federal-ruling/\" data-href-url=\"https://whnt.com/news/women-can-now-legally-go-topless-in-6-states-after-federal-ruling/\" data-outbound-url=\"https://out.reddit.com/t3_gpvm2g?url=https%3A%2F%2Fwhnt.com%2Fnews%2Fwomen-can-now-legally-go-topless-in-6-states-after-federal-ruling%2F&amp;token=AQAAID_LXpOTsSn2BSv86qrhXHUjD3H2_4k-G8BhIgdhcoJRvTK5&amp;app_name=reddit.com\" data-outbound-expiration=\"1590378272000\" rel=\"nofollow ugc\" ><img src=\"//b.thumbs.redditmedia.com/5ZJrRhJL9afgiXT_za8jO1RGfkxU4CkZs2QuyCTthSA.jpg\" width='70' height='39' alt=\"\"></a><div class=\"entry unvoted\"><div class=\"top-matter\"><p class=\"title\"><a class=\"title may-blank outbound\" data-event-action=\"title\" href=\"https://whnt.com/news/women-can-now-legally-go-topless-in-6-states-after-federal-ruling/\" tabindex=\"1\" data-href-url=\"https://whnt.com/news/women-can-now-legally-go-topless-in-6-states-after-federal-ruling/\" data-outbound-url=\"https://out.reddit.com/t3_gpvm2g?url=https%3A%2F%2Fwhnt.com%2Fnews%2Fwomen-can-now-legally-go-topless-in-6-states-after-federal-ruling%2F&amp;token=AQAAID_LXpOTsSn2BSv86qrhXHUjD3H2_4k-G8BhIgdhcoJRvTK5&amp;app_name=reddit.com\" data-outbound-expiration=\"1590378272000\" rel=\"nofollow ugc\" >TIL: It is completely legal for women to be topless in Colorado, Wyoming, New Mexico, Oklahoma, Kansas and Utah.</a>&#32;<span class=\"domain\">(<a href=\"/domain/whnt.com/\">whnt.com</a>)</span></p><p class=\"tagline \">submitted&#32;<time title=\"Sun May 24 19:22:32 2020 UTC\" datetime=\"2020-05-24T19:22:32+00:00\" class=\"live-timestamp\">7 hours ago</time>&#32;by&#32;<a href=\"https://www.reddit.com/user/LadybirdTheCat\" class=\"author may-blank id-t2_24skxrn8\" >LadybirdTheCat</a><span class=\"userattrs\"></span>&#32;to&#32;<a href=\"https://www.reddit.com/r/todayilearned/\" class=\"subreddit hover may-blank\" >r/todayilearned</a><span class=\"awardings-bar\" data-subredditpath=\"/r/todayilearned/\" ><a class=\"awarding-link\" href=\"/r/todayilearned/gilded\" data-award-id=\"award_b1b44fa1-8179-4d84-a9ed-f25bb81f1c5f\" data-count=\"1\" ><span class=\"awarding-icon-container\"><img class=\"awarding-icon\" src=\"https://preview.redd.it/award_images/t5_22cerq/ey2iodron2s41_Facepalm.png?width=48&amp;height=48&amp;auto=webp&amp;s=3971718e2c95e4869756cbdbe9e996719ed2dcc2\" /></span></a></span></p><ul class=\"flat-list buttons\"><li class=\"first\"><a href=\"https://www.reddit.com/r/todayilearned/comments/gpvm2g/til_it_is_completely_legal_for_women_to_be/\" data-event-action=\"comments\" class=\"bylink comments may-blank\" rel=\"nofollow\" >3838 comments</a></li><li class=\"share\"><a class=\"post-sharing-button\" href=\"javascript: void 0;\">share</a></li><li class=\"link-save-button save-button login-required\"><a href=\"#\">save</a></li><li><form action=\"/post/hide\" method=\"post\" class=\"state-button hide-button\"><input type=\"hidden\" name=\"executed\" value=\"hidden\" /><span><a href=\"javascript:void(0)\" class=\" \" data-event-action=\"hide\" onclick=\"change_state(this, 'hide', hide_thing);\">hide</a></span></form></li><li class=\"report-button login-required\"><a href=\"javascript:void(0)\" class=\"reportbtn access-required\" data-event-action=\"report\">report</a></li></ul><div class=\"reportform report-t3_gpvm2g\"></div></div></div><div class=\"child\" ></div><div class=\"clearleft\"></div></div><div class=\"clearleft\"></div><div class=\" thing id-t3_gptgsw odd&#32; link \" id=\"thing_t3_gptgsw\" onclick=\"click_thing(this)\" data-fullname=\"t3_gptgsw\" data-type=\"link\" data-gildings=\"0\" data-whitelist-status=\"all_ads\" data-author=\"myt0mmy\" data-author-fullname=\"t2_j7ba4w7\" data-subreddit=\"politics\" data-subreddit-prefixed=\"r/politics\" data-subreddit-fullname=\"t5_2cneq\" data-subreddit-type=\"public\" data-timestamp=\"1590340721000\" data-url=\"https://www.independent.co.uk/news/world/americas/us-politics/trump-2020-election-mail-in-ballots-vote-fraud-forgeries-a9530661.html\" data-permalink=\"/r/politics/comments/gptgsw/trump_falsely_claims_thousands_of_forgeries_on/\" data-domain=\"independent.co.uk\" data-rank=\"7\" data-comments-count=\"3266\" data-score=\"63435\" data-promoted=\"false\" data-nsfw=\"false\" data-spoiler=\"false\" data-oc=\"false\" data-num-crossposts=\"9\" data-context=\"listing\" ><p class=\"parent\"></p><span class=\"rank\">7</span><div class=\"midcol unvoted\" ><div class=\"arrow up login-required access-required\" data-event-action=\"upvote\" role=\"button\" aria-label=\"upvote\" tabindex=\"0\" ></div><div class=\"score dislikes\" title=\"63429\">63.4k</div><div class=\"score unvoted\" title=\"63430\">63.4k</div><div class=\"score likes\" title=\"63431\">63.4k</div><div class=\"arrow down login-required access-required\" data-event-action=\"downvote\" role=\"button\" aria-label=\"downvote\" tabindex=\"0\" ></div></div><a class=\"thumbnail invisible-when-pinned may-blank outbound\" data-event-action=\"thumbnail\" href=\"https://www.independent.co.uk/news/world/americas/us-politics/trump-2020-election-mail-in-ballots-vote-fraud-forgeries-a9530661.html\" data-href-url=\"https://www.independent.co.uk/news/world/americas/us-politics/trump-2020-election-mail-in-ballots-vote-fraud-forgeries-a9530661.html\" data-outbound-url=\"https://out.reddit.com/t3_gptgsw?url=https%3A%2F%2Fwww.independent.co.uk%2Fnews%2Fworld%2Famericas%2Fus-politics%2Ftrump-2020-election-mail-in-ballots-vote-fraud-forgeries-a9530661.html&amp;token=AQAAID_LXiLnyjSbEuJLubVDPAcLyMLwwDdZBIlYP_ZMQUz6qYw-&amp;app_name=reddit.com\" data-outbound-expiration=\"1590378272000\" rel=\"nofollow ugc\" ><img src=\"//b.thumbs.redditmedia.com/NSVD925kMBWIOJ0OQvLeX1ccYolM6z8p2saIpPdQdjs.jpg\" width='70' height='46' alt=\"\"></a><div class=\"entry unvoted\"><div class=\"top-matter\"><p class=\"title\"><a class=\"title may-blank outbound\" data-event-action=\"title\" href=\"https://www.independent.co.uk/news/world/americas/us-politics/trump-2020-election-mail-in-ballots-vote-fraud-forgeries-a9530661.html\" tabindex=\"1\" data-href-url=\"https://www.independent.co.uk/news/world/americas/us-politics/trump-2020-election-mail-in-ballots-vote-fraud-forgeries-a9530661.html\" data-outbound-url=\"https://out.reddit.com/t3_gptgsw?url=https%3A%2F%2Fwww.independent.co.uk%2Fnews%2Fworld%2Famericas%2Fus-politics%2Ftrump-2020-election-mail-in-ballots-vote-fraud-forgeries-a9530661.html&amp;token=AQAAID_LXiLnyjSbEuJLubVDPAcLyMLwwDdZBIlYP_ZMQUz6qYw-&amp;app_name=reddit.com\" data-outbound-expiration=\"1590378272000\" rel=\"nofollow ugc\" >Trump falsely claims 'thousands' of forgeries on mail-in ballots, despite his own commission not finding a single case of fraud</a>&#32;<span class=\"domain\">(<a href=\"/domain/independent.co.uk/\">independent.co.uk</a>)</span></p><p class=\"tagline \">submitted&#32;<time title=\"Sun May 24 17:18:41 2020 UTC\" datetime=\"2020-05-24T17:18:41+00:00\" class=\"live-timestamp\">9 hours ago</time>&#32;by&#32;<a href=\"https://www.reddit.com/user/myt0mmy\" class=\"author may-blank id-t2_j7ba4w7\" >myt0mmy</a><span class=\"userattrs\"></span>&#32;to&#32;<a href=\"https://www.reddit.com/r/politics/\" class=\"subreddit hover may-blank\" >r/politics</a><span class=\"awardings-bar\" data-subredditpath=\"/r/politics/\" ><a class=\"awarding-link\" href=\"/r/politics/gilded\" data-award-id=\"award_d125d124-5c03-490d-af3d-d07c462003da\" data-count=\"1\" ><span class=\"awarding-icon-container\"><img class=\"awarding-icon\" src=\"https://preview.redd.it/award_images/t5_22cerq/s5edqq9abef41_StonksRising.png?width=48&amp;height=48&amp;auto=webp&amp;s=a5109b271dbe4f27927ee8bac7f23d1962a44936\" /></span></a><a class=\"awarding-link\" href=\"/r/politics/gilded\" data-award-id=\"award_88fdcafc-57a0-48db-99cc-76276bfaf28b\" data-count=\"2\" ><span class=\"awarding-icon-container\"><img class=\"awarding-icon\" src=\"https://preview.redd.it/award_images/t5_22cerq/tcofsbf92md41_PressF.png?width=48&amp;height=48&amp;auto=webp&amp;s=a34e3d83c5dd9f6c731b1375500e4de8d4fee652\" /></span>2</a><a class=\"awarding-link\" href=\"/r/politics/gilded\" data-award-id=\"award_b1b44fa1-8179-4d84-a9ed-f25bb81f1c5f\" data-count=\"1\" ><span class=\"awarding-icon-container\"><img class=\"awarding-icon\" src=\"https://preview.redd.it/award_images/t5_22cerq/ey2iodron2s41_Facepalm.png?width=48&amp;height=48&amp;auto=webp&amp;s=3971718e2c95e4869756cbdbe9e996719ed2dcc2\" /></span></a><a class=\"awarding-link\" href=\"/r/politics/gilded\" data-award-id=\"award_cc091963-e271-45aa-ba23-b5150e565520\" data-count=\"1\" ><span class=\"awarding-icon-container\"><img class=\"awarding-icon\" src=\"https://preview.redd.it/award_images/t5_22cerq/qq73pijkm3p41_SafeSocial.png?width=48&amp;height=48&amp;auto=webp&amp;s=85098196df26658027c56256f4f1af30f64d2814\" /></span></a><a class=\"awarding-link\" href=\"/r/politics/gilded\" data-award-id=\"award_a903c949-ccc5-420d-8239-1bbefc424838\" data-count=\"1\" ><span class=\"awarding-icon-container\"><img class=\"awarding-icon\" src=\"https://preview.redd.it/award_images/t5_22cerq/xs2na1t1v9p41_HealthcareHero.png?width=48&amp;height=48&amp;auto=webp&amp;s=111f12637505e5dea857caf5b3cdec196ddb7377\" /></span></a></span></p><ul class=\"flat-list buttons\"><li class=\"first\"><a href=\"https://www.reddit.com/r/politics/comments/gptgsw/trump_falsely_claims_thousands_of_forgeries_on/\" data-event-action=\"comments\" class=\"bylink comments may-blank\" rel=\"nofollow\" >3266 comments</a></li><li class=\"share\"><a class=\"post-sharing-button\" href=\"javascript: void 0;\">share</a></li><li class=\"link-save-button save-button login-required\"><a href=\"#\">save</a></li><li><form action=\"/post/hide\" method=\"post\" class=\"state-button hide-button\"><input type=\"hidden\" name=\"executed\" value=\"hidden\" /><span><a href=\"javascript:void(0)\" class=\" \" data-event-action=\"hide\" onclick=\"change_state(this, 'hide', hide_thing);\">hide</a></span></form></li><li class=\"report-button login-required\"><a href=\"javascript:void(0)\" class=\"reportbtn access-required\" data-event-action=\"report\">report</a></li></ul><div class=\"reportform report-t3_gptgsw\"></div></div></div><div class=\"child\" ></div><div class=\"clearleft\"></div></div><div class=\"clearleft\"></div><div class=\" thing id-t3_gps52s linkflair linkflair-manga-spoilers even&#32; link self\" id=\"thing_t3_gps52s\" onclick=\"click_thing(this)\" data-fullname=\"t3_gps52s\" data-type=\"link\" data-gildings=\"0\" data-whitelist-status=\"all_ads\" data-author=\"Za_wardo\" data-author-fullname=\"t2_rkuvn\" data-subreddit=\"BokuNoHeroAcademia\" data-subreddit-prefixed=\"r/BokuNoHeroAcademia\" data-subreddit-fullname=\"t5_34a0h\" data-subreddit-type=\"public\" data-timestamp=\"1590336071000\" data-url=\"/r/BokuNoHeroAcademia/comments/gps52s/chapter_272_official_release_links_and_discussion/\" data-permalink=\"/r/BokuNoHeroAcademia/comments/gps52s/chapter_272_official_release_links_and_discussion/\" data-domain=\"self.BokuNoHeroAcademia\" data-rank=\"8\" data-comments-count=\"2774\" data-score=\"2906\" data-promoted=\"false\" data-nsfw=\"false\" data-spoiler=\"false\" data-oc=\"false\" data-num-crossposts=\"0\" data-context=\"listing\" ><p class=\"parent\"></p><span class=\"rank\">8</span><div class=\"midcol unvoted\" ><div class=\"arrow up login-required access-required\" data-event-action=\"upvote\" role=\"button\" aria-label=\"upvote\" tabindex=\"0\" ></div><div class=\"score dislikes\" title=\"2967\">2967</div><div class=\"score unvoted\" title=\"2968\">2968</div><div class=\"score likes\" title=\"2969\">2969</div><div class=\"arrow down login-required access-required\" data-event-action=\"downvote\" role=\"button\" aria-label=\"downvote\" tabindex=\"0\" ></div></div><a class=\"thumbnail invisible-when-pinned self may-blank \" data-event-action=\"thumbnail\" href=\"/r/BokuNoHeroAcademia/comments/gps52s/chapter_272_official_release_links_and_discussion/\" ></a><div class=\"entry unvoted\"><div class=\"top-matter\"><p class=\"title\"><a class=\"title may-blank \" data-event-action=\"title\" href=\"/r/BokuNoHeroAcademia/comments/gps52s/chapter_272_official_release_links_and_discussion/\" tabindex=\"1\" >Chapter 272 Official Release - Links and Discussion</a><span class=\"flairrichtext flaircolorlight linkflairlabel \" title=\"Newest Chapter\" style=\"background-color: #de3838; border-color: #de3838;\"><span>Newest Chapter</span></span>&#32;<span class=\"domain\">(<a href=\"/r/BokuNoHeroAcademia/\">self.BokuNoHeroAcademia</a>)</span></p><div class=\"expando-button collapsed hide-when-pinned selftext\"></div><p class=\"tagline \">submitted&#32;<time title=\"Sun May 24 16:01:11 2020 UTC\" datetime=\"2020-05-24T16:01:11+00:00\" class=\"live-timestamp\">10 hours ago</time>&#32;<time class=\"edited-timestamp\" title=\"last edited 9 hours ago\" datetime=\"2020-05-24T17:44:23+00:00\">*</time>&#32;by&#32;<a href=\"https://www.reddit.com/user/Za_wardo\" class=\"author may-blank id-t2_rkuvn\" >Za_wardo</a><span class=\"userattrs\"></span>&#32;to&#32;<a href=\"https://www.reddit.com/r/BokuNoHeroAcademia/\" class=\"subreddit hover may-blank\" >r/BokuNoHeroAcademia</a><span class=\"awardings-bar\" data-subredditpath=\"/r/BokuNoHeroAcademia/\" ></span></p><ul class=\"flat-list buttons\"><li class=\"first\"><a href=\"https://www.reddit.com/r/BokuNoHeroAcademia/comments/gps52s/chapter_272_official_release_links_and_discussion/\" data-event-action=\"comments\" class=\"bylink comments may-blank\" rel=\"nofollow\" >2824 comments</a></li><li class=\"share\"><a class=\"post-sharing-button\" href=\"javascript: void 0;\">share</a></li><li class=\"link-save-button save-button login-required\"><a href=\"#\">save</a></li><li><form action=\"/post/hide\" method=\"post\" class=\"state-button hide-button\"><input type=\"hidden\" name=\"executed\" value=\"hidden\" /><span><a href=\"javascript:void(0)\" class=\" \" data-event-action=\"hide\" onclick=\"change_state(this, 'hide', hide_thing);\">hide</a></span></form></li><li class=\"report-button login-required\"><a href=\"javascript:void(0)\" class=\"reportbtn access-required\" data-event-action=\"report\">report</a></li></ul><div class=\"reportform report-t3_gps52s\"></div></div><div class=\"expando expando-uninitialized\" style='display: none' data-pin-condition=\"function() {return this.style.display != 'none';}\" ><span class=\"error\">loading...</span></div></div><div class=\"child\" ></div><div class=\"clearleft\"></div></div><div class=\"clearleft\"></div><div class=\" thing id-t3_gpyxs7 linkflair linkflair-approve odd&#32; link \" id=\"thing_t3_gpyxs7\" onclick=\"click_thing(this)\" data-fullname=\"t3_gpyxs7\" data-type=\"link\" data-gildings=\"0\" data-whitelist-status=\"some_ads\" data-author=\"life_is_a_conspiracy\" data-author-fullname=\"t2_tstfd\" data-subreddit=\"interestingasfuck\" data-subreddit-prefixed=\"r/interestingasfuck\" data-subreddit-fullname=\"t5_2qhsa\" data-subreddit-type=\"public\" data-timestamp=\"1590359695000\" data-url=\"https://gfycat.com/evilbrownladybug\" data-permalink=\"/r/interestingasfuck/comments/gpyxs7/25_hour_milky_way_exposure_on_slide_film/\" data-domain=\"gfycat.com\" data-rank=\"9\" data-comments-count=\"187\" data-score=\"24447\" data-promoted=\"false\" data-nsfw=\"false\" data-spoiler=\"false\" data-oc=\"false\" data-num-crossposts=\"6\" data-context=\"listing\" ><p class=\"parent\"></p><span class=\"rank\">9</span><div class=\"midcol unvoted\" ><div class=\"arrow up login-required access-required\" data-event-action=\"upvote\" role=\"button\" aria-label=\"upvote\" tabindex=\"0\" ></div><div class=\"score dislikes\" title=\"24426\">24.4k</div><div class=\"score unvoted\" title=\"24427\">24.4k</div><div class=\"score likes\" title=\"24428\">24.4k</div><div class=\"arrow down login-required access-required\" data-event-action=\"downvote\" role=\"button\" aria-label=\"downvote\" tabindex=\"0\" ></div></div><a class=\"thumbnail invisible-when-pinned may-blank outbound\" data-event-action=\"thumbnail\" href=\"https://gfycat.com/evilbrownladybug\" data-href-url=\"https://gfycat.com/evilbrownladybug\" data-outbound-url=\"https://out.reddit.com/t3_gpyxs7?url=https%3A%2F%2Fgfycat.com%2Fevilbrownladybug&amp;token=AQAAID_LXmJHAXA31QcekqSWXLRBWScoYjhFnoberOemXR_KH9HI&amp;app_name=reddit.com\" data-outbound-expiration=\"1590378272000\" rel=\"nofollow ugc\" ><img src=\"//b.thumbs.redditmedia.com/ap31UMm4Sp5dTqEP60M7EJqQyPyW1AuxcbpqE3qTm9U.jpg\" width='70' height='39' alt=\"\"></a><div class=\"entry unvoted\"><div class=\"top-matter\"><p class=\"title\"><a class=\"title may-blank outbound\" data-event-action=\"title\" href=\"https://gfycat.com/evilbrownladybug\" tabindex=\"1\" data-href-url=\"https://gfycat.com/evilbrownladybug\" data-outbound-url=\"https://out.reddit.com/t3_gpyxs7?url=https%3A%2F%2Fgfycat.com%2Fevilbrownladybug&amp;token=AQAAID_LXmJHAXA31QcekqSWXLRBWScoYjhFnoberOemXR_KH9HI&amp;app_name=reddit.com\" data-outbound-expiration=\"1590378272000\" rel=\"nofollow ugc\" >2.5 hour Milky Way exposure on Slide Film</a><span class=\"linkflairlabel \" title=\"/r/ALL\">/r/ALL</span>&#32;<span class=\"domain\">(<a href=\"/domain/gfycat.com/\">gfycat.com</a>)</span></p><div class=\"expando-button collapsed hide-when-pinned video\"></div><p class=\"tagline \">submitted&#32;<time title=\"Sun May 24 22:34:55 2020 UTC\" datetime=\"2020-05-24T22:34:55+00:00\" class=\"live-timestamp\">4 hours ago</time>&#32;by&#32;<a href=\"https://www.reddit.com/user/life_is_a_conspiracy\" class=\"author may-blank id-t2_tstfd\" >life_is_a_conspiracy</a><span class=\"userattrs\"></span>&#32;to&#32;<a href=\"https://www.reddit.com/r/interestingasfuck/\" class=\"subreddit hover may-blank\" >r/interestingasfuck</a><span class=\"awardings-bar\" data-subredditpath=\"/r/interestingasfuck/\" ><a class=\"awarding-link\" href=\"/r/interestingasfuck/gilded\" data-award-id=\"award_84276b1e-cc8f-484f-a19c-be6c09adc1a5\" data-count=\"1\" ><span class=\"awarding-icon-container\"><img class=\"awarding-icon\" src=\"https://www.redditstatic.com/gold/awards/icon/SnooClapping_48.png\" /></span></a><a class=\"awarding-link\" href=\"/r/interestingasfuck/gilded\" data-award-id=\"gid_1\" data-count=\"1\" ><span class=\"awarding-icon-container\"><img class=\"awarding-icon\" src=\"https://www.redditstatic.com/gold/awards/icon/silver_48.png\" /></span></a><a class=\"awarding-link\" href=\"/r/interestingasfuck/gilded\" data-award-id=\"award_02d9ab2c-162e-4c01-8438-317a016ed3d9\" data-count=\"1\" ><span class=\"awarding-icon-container\"><img class=\"awarding-icon\" src=\"https://preview.redd.it/award_images/t5_22cerq/898sygoknoo41_TakeMyEnergy.png?width=48&amp;height=48&amp;auto=webp&amp;s=83038a4d6181d3c8f5107dbca4ddb735ca6c2231\" /></span></a></span></p><ul class=\"flat-list buttons\"><li class=\"first\"><a href=\"https://www.reddit.com/r/interestingasfuck/comments/gpyxs7/25_hour_milky_way_exposure_on_slide_film/\" data-event-action=\"comments\" class=\"bylink comments may-blank\" rel=\"nofollow\" >187 comments</a></li><li class=\"share\"><a class=\"post-sharing-button\" href=\"javascript: void 0;\">share</a></li><li class=\"link-save-button save-button login-required\"><a href=\"#\">save</a></li><li><form action=\"/post/hide\" method=\"post\" class=\"state-button hide-button\"><input type=\"hidden\" name=\"executed\" value=\"hidden\" /><span><a href=\"javascript:void(0)\" class=\" \" data-event-action=\"hide\" onclick=\"change_state(this, 'hide', hide_thing);\">hide</a></span></form></li><li class=\"report-button login-required\"><a href=\"javascript:void(0)\" class=\"reportbtn access-required\" data-event-action=\"report\">report</a></li></ul><div class=\"reportform report-t3_gpyxs7\"></div></div><div class=\"expando expando-uninitialized\" style='display: none' data-cachedhtml=\" &lt;iframe src=&quot;//www.redditmedia.com/mediaembed/gpyxs7&quot; id=&quot;media-embed-gpyxs7-zxv&quot; class=&quot;media-embed&quot; width=&quot;610&quot; height=&quot;348&quot; border=&quot;0&quot; frameBorder=&quot;0&quot; scrolling=&quot;no&quot; sandbox=&quot;allow-forms allow-same-origin allow-scripts allow-top-navigation-by-user-activation allow-popups allow-popups-to-escape-sandbox allow-orientation-lock allow-presentation&quot; allowfullscreen&gt;&lt;/iframe&gt; \" data-pin-condition=\"function() {return this.style.display != 'none';}\" ><span class=\"error\">loading...</span></div></div><div class=\"child\" ></div><div class=\"clearleft\"></div></div><div class=\"clearleft\"></div><div class=\" thing id-t3_gpxkh1 even&#32; gilded link self\" id=\"thing_t3_gpxkh1\" onclick=\"click_thing(this)\" data-fullname=\"t3_gpxkh1\" data-type=\"link\" data-gildings=\"3\" data-whitelist-status=\"all_ads\" data-author=\"KingKellyIsKool\" data-author-fullname=\"t2_5twkyfrz\" data-subreddit=\"unpopularopinion\" data-subreddit-prefixed=\"r/unpopularopinion\" data-subreddit-fullname=\"t5_2tk0s\" data-subreddit-type=\"public\" data-timestamp=\"1590354911000\" data-url=\"/r/unpopularopinion/comments/gpxkh1/kobes_wife_is_a_bad_person_for_this_lawsuit/\" data-permalink=\"/r/unpopularopinion/comments/gpxkh1/kobes_wife_is_a_bad_person_for_this_lawsuit/\" data-domain=\"self.unpopularopinion\" data-rank=\"10\" data-comments-count=\"2601\" data-score=\"42155\" data-promoted=\"false\" data-nsfw=\"false\" data-spoiler=\"false\" data-oc=\"false\" data-num-crossposts=\"4\" data-context=\"listing\" ><p class=\"parent\"></p><span class=\"rank\">10</span><div class=\"midcol unvoted\" ><div class=\"arrow up login-required access-required\" data-event-action=\"upvote\" role=\"button\" aria-label=\"upvote\" tabindex=\"0\" ></div><div class=\"score dislikes\" title=\"42270\">42.3k</div><div class=\"score unvoted\" title=\"42271\">42.3k</div><div class=\"score likes\" title=\"42272\">42.3k</div><div class=\"arrow down login-required access-required\" data-event-action=\"downvote\" role=\"button\" aria-label=\"downvote\" tabindex=\"0\" ></div></div><a class=\"thumbnail invisible-when-pinned self may-blank \" data-event-action=\"thumbnail\" href=\"/r/unpopularopinion/comments/gpxkh1/kobes_wife_is_a_bad_person_for_this_lawsuit/\" ></a><div class=\"entry unvoted\"><div class=\"top-matter\"><p class=\"title\"><a class=\"title may-blank \" data-event-action=\"title\" href=\"/r/unpopularopinion/comments/gpxkh1/kobes_wife_is_a_bad_person_for_this_lawsuit/\" tabindex=\"1\" >Kobe's wife is a bad person for this lawsuit</a>&#32;<span class=\"domain\">(<a href=\"/r/unpopularopinion/\">self.unpopularopinion</a>)</span></p><div class=\"expando-button collapsed hide-when-pinned selftext\"></div><p class=\"tagline \">submitted&#32;<time title=\"Sun May 24 21:15:11 2020 UTC\" datetime=\"2020-05-24T21:15:11+00:00\" class=\"live-timestamp\">5 hours ago</time>&#32;by&#32;<a href=\"https://www.reddit.com/user/KingKellyIsKool\" class=\"author may-blank id-t2_5twkyfrz\" >KingKellyIsKool</a><span class=\"userattrs\"></span>&#32;to&#32;<a href=\"https://www.reddit.com/r/unpopularopinion/\" class=\"subreddit hover may-blank\" >r/unpopularopinion</a><span class=\"awardings-bar\" data-subredditpath=\"/r/unpopularopinion/\" ><a class=\"awarding-link\" href=\"/r/unpopularopinion/gilded\" data-award-id=\"award_b4ff447e-05a5-42dc-9002-63568807cfe6\" data-count=\"2\" ><span class=\"awarding-icon-container\"><img class=\"awarding-icon\" src=\"https://preview.redd.it/award_images/t5_22cerq/rg960rc47jj41_All-SeeingUpvote.png?width=48&amp;height=48&amp;auto=webp&amp;s=0a6fb9ecfb8eee4493afe6c5b234c44eb8413008\" /></span>2</a><a class=\"awarding-link\" href=\"/r/unpopularopinion/gilded\" data-award-id=\"award_f7562045-905d-413e-9ed2-0a16d4bfe349\" data-count=\"1\" ><span class=\"awarding-icon-container\"><img class=\"awarding-icon\" src=\"https://preview.redd.it/award_images/t5_22cerq/6vgr8y21i9741_PlusOne.png?width=48&amp;height=48&amp;auto=webp&amp;s=4c914164e7afdb4ea2bf1f9072720b10fcb682ed\" /></span></a><a class=\"awarding-link\" href=\"/r/unpopularopinion/gilded\" data-award-id=\"award_27d3176c-b388-4616-80ec-11b8ece5b7ee\" data-count=\"1\" ><span class=\"awarding-icon-container\"><img class=\"awarding-icon\" src=\"https://preview.redd.it/award_images/t5_22cerq/9r7hexe6pta41_SnooNice.png?width=48&amp;height=48&amp;auto=webp&amp;s=889cfffb8b939e7a670256c3030b1962ca1fc418\" /></span></a><a class=\"awarding-link\" href=\"/r/unpopularopinion/gilded\" data-award-id=\"gid_2\" data-count=\"3\" ><span class=\"awarding-icon-container\"><img class=\"awarding-icon\" src=\"https://www.redditstatic.com/gold/awards/icon/gold_48.png\" /></span>3</a><a class=\"awarding-link hide-award\" href=\"/r/unpopularopinion/gilded\" data-award-id=\"gid_1\" data-count=\"1\" ><span class=\"awarding-icon-container\"><img class=\"awarding-icon\" src=\"https://www.redditstatic.com/gold/awards/icon/silver_48.png\" /></span></a><a class=\"awarding-link hide-award\" href=\"/r/unpopularopinion/gilded\" data-award-id=\"award_ae89e420-c4a5-47b8-a007-5dacf1c0f0d4\" data-count=\"1\" ><span class=\"awarding-icon-container\"><img class=\"awarding-icon\" src=\"https://preview.redd.it/award_images/t5_22cerq/iq0sgwn5bzy41_LawyerUp.png?width=48&amp;height=48&amp;auto=webp&amp;s=28b8b7b9bea65dcd3292119e1550f8ed6f877473\" /></span></a><a class=\"awarding-link hide-award\" href=\"/r/unpopularopinion/gilded\" data-award-id=\"award_02d9ab2c-162e-4c01-8438-317a016ed3d9\" data-count=\"2\" ><span class=\"awarding-icon-container\"><img class=\"awarding-icon\" src=\"https://preview.redd.it/award_images/t5_22cerq/898sygoknoo41_TakeMyEnergy.png?width=48&amp;height=48&amp;auto=webp&amp;s=83038a4d6181d3c8f5107dbca4ddb735ca6c2231\" /></span>2</a><a class=\"awarding-link hide-award\" href=\"/r/unpopularopinion/gilded\" data-award-id=\"award_013cb469-c23a-4204-8abe-b2182c63e639\" data-count=\"1\" ><span class=\"awarding-icon-container\"><img class=\"awarding-icon\" src=\"https://preview.redd.it/award_images/t5_22cerq/tqr6yovsfc051_InMemoriam.png?width=48&amp;height=48&amp;auto=webp&amp;s=1ac76321fc7aa4483f41c3993a12531106556afb\" /></span></a><a class=\"awarding-link hide-award\" href=\"/r/unpopularopinion/gilded\" data-award-id=\"award_3cfcec62-59db-4f0e-b5d0-79c763c9c9bb\" data-count=\"1\" ><span class=\"awarding-icon-container\"><img class=\"awarding-icon\" src=\"https://preview.redd.it/award_images/t5_22cerq/g3cbqpewfc051_HeroesForever.png?width=48&amp;height=48&amp;auto=webp&amp;s=44683db24622bc94e76544f132132e3d3a4377a6\" /></span></a><a class=\"awarding-show-more-link\" href=\"/r/unpopularopinion/gilded\" >&amp; 6 more</a></span></p><ul class=\"flat-list buttons\"><li class=\"first\"><a href=\"https://www.reddit.com/r/unpopularopinion/comments/gpxkh1/kobes_wife_is_a_bad_person_for_this_lawsuit/\" data-event-action=\"comments\" class=\"bylink comments may-blank\" rel=\"nofollow\" >2607 comments</a></li><li class=\"share\"><a class=\"post-sharing-button\" href=\"javascript: void 0;\">share</a></li><li class=\"link-save-button save-button login-required\"><a href=\"#\">save</a></li><li><form action=\"/post/hide\" method=\"post\" class=\"state-button hide-button\"><input type=\"hidden\" name=\"executed\" value=\"hidden\" /><span><a href=\"javascript:void(0)\" class=\" \" data-event-action=\"hide\" onclick=\"change_state(this, 'hide', hide_thing);\">hide</a></span></form></li><li class=\"report-button login-required\"><a href=\"javascript:void(0)\" class=\"reportbtn access-required\" data-event-action=\"report\">report</a></li></ul><div class=\"reportform report-t3_gpxkh1\"></div></div><div class=\"expando expando-uninitialized\" style='display: none' data-pin-condition=\"function() {return this.style.display != 'none';}\" ><span class=\"error\">loading...</span></div></div><div class=\"child\" ></div><div class=\"clearleft\"></div></div><div class=\"clearleft\"></div><div class=\" thing id-t3_gpomeb odd&#32; locked link \" id=\"thing_t3_gpomeb\" onclick=\"click_thing(this)\" data-fullname=\"t3_gpomeb\" data-type=\"link\" data-gildings=\"0\" data-whitelist-status=\"all_ads\" data-author=\"newengland_schmuck\" data-author-fullname=\"t2_phw0jej\" data-subreddit=\"PoliticalHumor\" data-subreddit-prefixed=\"r/PoliticalHumor\" data-subreddit-fullname=\"t5_2qm21\" data-subreddit-type=\"public\" data-timestamp=\"1590321977000\" data-url=\"https://i.redd.it/9nv5asy7ep051.jpg\" data-permalink=\"/r/PoliticalHumor/comments/gpomeb/who_wants_to_bet_trump_will_unveil_his_own/\" data-domain=\"i.redd.it\" data-rank=\"11\" data-comments-count=\"2290\" data-score=\"42243\" data-promoted=\"false\" data-nsfw=\"false\" data-spoiler=\"false\" data-oc=\"false\" data-num-crossposts=\"12\" data-context=\"listing\" ><p class=\"parent\"></p><span class=\"rank\">11</span><div class=\"midcol unvoted\" ><div class=\"arrow up login-required access-required\" data-event-action=\"upvote\" role=\"button\" aria-label=\"upvote\" tabindex=\"0\" ></div><div class=\"score dislikes\" title=\"42296\">42.3k</div><div class=\"score unvoted\" title=\"42297\">42.3k</div><div class=\"score likes\" title=\"42298\">42.3k</div><div class=\"arrow down login-required access-required\" data-event-action=\"downvote\" role=\"button\" aria-label=\"downvote\" tabindex=\"0\" ></div></div><a class=\"thumbnail invisible-when-pinned may-blank \" data-event-action=\"thumbnail\" href=\"/r/PoliticalHumor/comments/gpomeb/who_wants_to_bet_trump_will_unveil_his_own/\" ><img src=\"//b.thumbs.redditmedia.com/ls5t8Cx05jf0BNGKlgNGPIYNIxS3dtFmK9af42LbOJw.jpg\" width='70' height='66' alt=\"\"></a><div class=\"entry unvoted\"><div class=\"top-matter\"><p class=\"title\"><a class=\"title may-blank \" data-event-action=\"title\" href=\"/r/PoliticalHumor/comments/gpomeb/who_wants_to_bet_trump_will_unveil_his_own/\" tabindex=\"1\" >Who wants to bet tRump will unveil his own portrait before he leaves office...</a>&#32;<span class=\"domain\">(<a href=\"/domain/i.redd.it/\">i.redd.it</a>)</span></p><div class=\"expando-button collapsed hide-when-pinned video\"></div><p class=\"tagline \">submitted&#32;<time title=\"Sun May 24 12:06:17 2020 UTC\" datetime=\"2020-05-24T12:06:17+00:00\" class=\"live-timestamp\">14 hours ago</time>&#32;by&#32;<a href=\"https://www.reddit.com/user/newengland_schmuck\" class=\"author may-blank id-t2_phw0jej\" >newengland_schmuck</a><span class=\"userattrs\"></span>&#32;to&#32;<a href=\"https://www.reddit.com/r/PoliticalHumor/\" class=\"subreddit hover may-blank\" >r/PoliticalHumor</a><span class=\"awardings-bar\" data-subredditpath=\"/r/PoliticalHumor/\" ><a class=\"awarding-link\" href=\"/r/PoliticalHumor/gilded\" data-award-id=\"award_cc091963-e271-45aa-ba23-b5150e565520\" data-count=\"1\" ><span class=\"awarding-icon-container\"><img class=\"awarding-icon\" src=\"https://preview.redd.it/award_images/t5_22cerq/qq73pijkm3p41_SafeSocial.png?width=48&amp;height=48&amp;auto=webp&amp;s=85098196df26658027c56256f4f1af30f64d2814\" /></span></a><a class=\"awarding-link\" href=\"/r/PoliticalHumor/gilded\" data-award-id=\"award_3cf96da4-79da-4127-90ac-84545e1833dc\" data-count=\"1\" ><span class=\"awarding-icon-container\"><img class=\"awarding-icon\" src=\"https://preview.redd.it/award_images/t5_22cerq/qh4pzo76v9p41_HomeTime.png?width=48&amp;height=48&amp;auto=webp&amp;s=3fb62803315450661c05e36da2b8d00ba06ad619\" /></span></a><a class=\"awarding-link\" href=\"/r/PoliticalHumor/gilded\" data-award-id=\"award_a903c949-ccc5-420d-8239-1bbefc424838\" data-count=\"1\" ><span class=\"awarding-icon-container\"><img class=\"awarding-icon\" src=\"https://preview.redd.it/award_images/t5_22cerq/xs2na1t1v9p41_HealthcareHero.png?width=48&amp;height=48&amp;auto=webp&amp;s=111f12637505e5dea857caf5b3cdec196ddb7377\" /></span></a></span></p><ul class=\"flat-list buttons\"><li class=\"first\"><a href=\"https://www.reddit.com/r/PoliticalHumor/comments/gpomeb/who_wants_to_bet_trump_will_unveil_his_own/\" data-event-action=\"comments\" class=\"bylink comments may-blank\" rel=\"nofollow\" >2290 comments</a></li><li class=\"share\"><a class=\"post-sharing-button\" href=\"javascript: void 0;\">share</a></li><li class=\"link-save-button save-button login-required\"><a href=\"#\">save</a></li><li><form action=\"/post/hide\" method=\"post\" class=\"state-button hide-button\"><input type=\"hidden\" name=\"executed\" value=\"hidden\" /><span><a href=\"javascript:void(0)\" class=\" \" data-event-action=\"hide\" onclick=\"change_state(this, 'hide', hide_thing);\">hide</a></span></form></li><li class=\"report-button login-required\"><a href=\"javascript:void(0)\" class=\"reportbtn access-required\" data-event-action=\"report\">report</a></li></ul><div class=\"reportform report-t3_gpomeb\"></div></div><div class=\"expando expando-uninitialized\" style='display: none' data-cachedhtml=\" &lt;div class=&quot;media-preview&quot; id=&quot;media-preview-gpomeb&quot; style=&quot;max-width: 640px&quot;&gt; &lt;div class=&quot;media-preview-content&quot;&gt; &lt;a href=&quot;https://i.redd.it/9nv5asy7ep051.jpg&quot; class=&quot;may-blank&quot;&gt; &lt;img class=&quot;preview&quot; src=&quot;https://preview.redd.it/9nv5asy7ep051.jpg?width=640&amp;amp;auto=webp&amp;amp;s=e0a9961f88561954621f04a4a06a4b3d92873edf&quot; width=&quot;640&quot; height=&quot;611&quot;&gt; &lt;/a&gt; &lt;/div&gt; &lt;/div&gt; \" data-pin-condition=\"function() {return this.style.display != 'none';}\" ><span class=\"error\">loading...</span></div></div><div class=\"child\" ></div><div class=\"clearleft\"></div></div><div class=\"clearleft\"></div><div class=\" thing id-t3_gpoyvd even&#32; link \" id=\"thing_t3_gpoyvd\" onclick=\"click_thing(this)\" data-fullname=\"t3_gpoyvd\" data-type=\"link\" data-gildings=\"0\" data-whitelist-status=\"all_ads\" data-author=\"VaderD\" data-author-fullname=\"t2_10r1xs\" data-subreddit=\"ChoosingBeggars\" data-subreddit-prefixed=\"r/ChoosingBeggars\" data-subreddit-fullname=\"t5_35fmc\" data-subreddit-type=\"public\" data-timestamp=\"1590323660000\" data-url=\"https://i.redd.it/autceq08jp051.jpg\" data-permalink=\"/r/ChoosingBeggars/comments/gpoyvd/this_girl_stood_me_up_the_first_time_and_got/\" data-domain=\"i.redd.it\" data-rank=\"12\" data-comments-count=\"2140\" data-score=\"30074\" data-promoted=\"false\" data-nsfw=\"false\" data-spoiler=\"false\" data-oc=\"false\" data-num-crossposts=\"10\" data-context=\"listing\" ><p class=\"parent\"></p><span class=\"rank\">12</span><div class=\"midcol unvoted\" ><div class=\"arrow up login-required access-required\" data-event-action=\"upvote\" role=\"button\" aria-label=\"upvote\" tabindex=\"0\" ></div><div class=\"score dislikes\" title=\"30104\">30.1k</div><div class=\"score unvoted\" title=\"30105\">30.1k</div><div class=\"score likes\" title=\"30106\">30.1k</div><div class=\"arrow down login-required access-required\" data-event-action=\"downvote\" role=\"button\" aria-label=\"downvote\" tabindex=\"0\" ></div></div><a class=\"thumbnail invisible-when-pinned may-blank \" data-event-action=\"thumbnail\" href=\"/r/ChoosingBeggars/comments/gpoyvd/this_girl_stood_me_up_the_first_time_and_got/\" ><img src=\"//b.thumbs.redditmedia.com/GN21_kFyDaspU9AoxgpgYfKEx5FY6bIzNLZ6CC8FFRY.jpg\" width='70' height='70' alt=\"\"></a><div class=\"entry unvoted\"><div class=\"top-matter\"><p class=\"title\"><a class=\"title may-blank \" data-event-action=\"title\" href=\"/r/ChoosingBeggars/comments/gpoyvd/this_girl_stood_me_up_the_first_time_and_got/\" tabindex=\"1\" >This girl stood me up the first time and got annoyed when I refused to pick her up the second time</a>&#32;<span class=\"domain\">(<a href=\"/domain/i.redd.it/\">i.redd.it</a>)</span></p><div class=\"expando-button collapsed hide-when-pinned video\"></div><p class=\"tagline \">submitted&#32;<time title=\"Sun May 24 12:34:20 2020 UTC\" datetime=\"2020-05-24T12:34:20+00:00\" class=\"live-timestamp\">14 hours ago</time>&#32;by&#32;<a href=\"https://www.reddit.com/user/VaderD\" class=\"author may-blank id-t2_10r1xs\" >VaderD</a><span class=\"userattrs\"></span>&#32;to&#32;<a href=\"https://www.reddit.com/r/ChoosingBeggars/\" class=\"subreddit hover may-blank\" >r/ChoosingBeggars</a><span class=\"awardings-bar\" data-subredditpath=\"/r/ChoosingBeggars/\" ><a class=\"awarding-link\" href=\"/r/ChoosingBeggars/gilded\" data-award-id=\"award_3dd248bc-3438-4c5b-98d4-24421fd6d670\" data-count=\"2\" ><span class=\"awarding-icon-container\"><img class=\"awarding-icon\" src=\"https://preview.redd.it/award_images/t5_22cerq/cr1mq4yysv541_CoinGift.png?width=48&amp;height=48&amp;auto=webp&amp;s=a913bad178f017a572393be1fc36013a4fa59803\" /></span>2</a></span></p><ul class=\"flat-list buttons\"><li class=\"first\"><a href=\"https://www.reddit.com/r/ChoosingBeggars/comments/gpoyvd/this_girl_stood_me_up_the_first_time_and_got/\" data-event-action=\"comments\" class=\"bylink comments may-blank\" rel=\"nofollow\" >2141 comments</a></li><li class=\"share\"><a class=\"post-sharing-button\" href=\"javascript: void 0;\">share</a></li><li class=\"link-save-button save-button login-required\"><a href=\"#\">save</a></li><li><form action=\"/post/hide\" method=\"post\" class=\"state-button hide-button\"><input type=\"hidden\" name=\"executed\" value=\"hidden\" /><span><a href=\"javascript:void(0)\" class=\" \" data-event-action=\"hide\" onclick=\"change_state(this, 'hide', hide_thing);\">hide</a></span></form></li><li class=\"report-button login-required\"><a href=\"javascript:void(0)\" class=\"reportbtn access-required\" data-event-action=\"report\">report</a></li></ul><div class=\"reportform report-t3_gpoyvd\"></div></div><div class=\"expando expando-uninitialized\" style='display: none' data-cachedhtml=\" &lt;div class=&quot;media-preview&quot; id=&quot;media-preview-gpoyvd&quot; style=&quot;max-width: 354px&quot;&gt; &lt;div class=&quot;media-preview-content&quot;&gt; &lt;a href=&quot;https://i.redd.it/autceq08jp051.jpg&quot; class=&quot;may-blank&quot;&gt; &lt;img class=&quot;preview&quot; src=&quot;https://preview.redd.it/autceq08jp051.jpg?width=354&amp;amp;auto=webp&amp;amp;s=9ea01e372e397c9f522c959be7f1621fc18737d3&quot; width=&quot;354&quot; height=&quot;768&quot;&gt; &lt;/a&gt; &lt;/div&gt; &lt;/div&gt; \" data-pin-condition=\"function() {return this.style.display != 'none';}\" ><span class=\"error\">loading...</span></div></div><div class=\"child\" ></div><div class=\"clearleft\"></div></div><div class=\"clearleft\"></div><div class=\" thing id-t3_gpxrll odd&#32; link \" id=\"thing_t3_gpxrll\" onclick=\"click_thing(this)\" data-fullname=\"t3_gpxrll\" data-type=\"link\" data-gildings=\"0\" data-whitelist-status=\"all_ads\" data-author=\"Lancastrian34\" data-author-fullname=\"t2_1hyisoc\" data-subreddit=\"aww\" data-subreddit-prefixed=\"r/aww\" data-subreddit-fullname=\"t5_2qh1o\" data-subreddit-type=\"public\" data-timestamp=\"1590355605000\" data-url=\"https://i.redd.it/w1r7rqm76s051.jpg\" data-permalink=\"/r/aww/comments/gpxrll/the_reason_the_water_wasnt_coming_out/\" data-domain=\"i.redd.it\" data-rank=\"13\" data-comments-count=\"347\" data-score=\"37632\" data-promoted=\"false\" data-nsfw=\"false\" data-spoiler=\"false\" data-oc=\"false\" data-num-crossposts=\"14\" data-context=\"listing\" ><p class=\"parent\"></p><span class=\"rank\">13</span><div class=\"midcol unvoted\" ><div class=\"arrow up login-required access-required\" data-event-action=\"upvote\" role=\"button\" aria-label=\"upvote\" tabindex=\"0\" ></div><div class=\"score dislikes\" title=\"41175\">41.2k</div><div class=\"score unvoted\" title=\"41176\">41.2k</div><div class=\"score likes\" title=\"41177\">41.2k</div><div class=\"arrow down login-required access-required\" data-event-action=\"downvote\" role=\"button\" aria-label=\"downvote\" tabindex=\"0\" ></div></div><a class=\"thumbnail invisible-when-pinned may-blank \" data-event-action=\"thumbnail\" href=\"/r/aww/comments/gpxrll/the_reason_the_water_wasnt_coming_out/\" ><img src=\"//a.thumbs.redditmedia.com/9CpL1jdg6OOCuUuCjQNk67I8TpUKUjY-7UMbCtsg5R4.jpg\" width='70' height='70' alt=\"\"></a><div class=\"entry unvoted\"><div class=\"top-matter\"><p class=\"title\"><a class=\"title may-blank \" data-event-action=\"title\" href=\"/r/aww/comments/gpxrll/the_reason_the_water_wasnt_coming_out/\" tabindex=\"1\" >The reason the water wasn’t coming out</a>&#32;<span class=\"domain\">(<a href=\"/domain/i.redd.it/\">i.redd.it</a>)</span></p><div class=\"expando-button collapsed hide-when-pinned video\"></div><p class=\"tagline \">submitted&#32;<time title=\"Sun May 24 21:26:45 2020 UTC\" datetime=\"2020-05-24T21:26:45+00:00\" class=\"live-timestamp\">5 hours ago</time>&#32;by&#32;<a href=\"https://www.reddit.com/user/Lancastrian34\" class=\"author may-blank id-t2_1hyisoc\" >Lancastrian34</a><span class=\"userattrs\"></span>&#32;to&#32;<a href=\"https://www.reddit.com/r/aww/\" class=\"subreddit hover may-blank\" >r/aww</a><span class=\"awardings-bar\" data-subredditpath=\"/r/aww/\" ><a class=\"awarding-link\" href=\"/r/aww/gilded\" data-award-id=\"award_cc540de7-dfdb-4a68-9acf-6f9ce6b17d21\" data-count=\"1\" ><span class=\"awarding-icon-container\"><img class=\"awarding-icon\" src=\"https://preview.redd.it/award_images/t5_22cerq/n94bgm83in941_ItsCute.png?width=48&amp;height=48&amp;auto=webp&amp;s=f3c4c5b0390c2f033f1e475b008f3c37f6823836\" /></span></a><a class=\"awarding-link\" href=\"/r/aww/gilded\" data-award-id=\"award_5f123e3d-4f48-42f4-9c11-e98b566d5897\" data-count=\"1\" ><span class=\"awarding-icon-container\"><img class=\"awarding-icon\" src=\"https://preview.redd.it/award_images/t5_22cerq/5izbv4fn0md41_Wholesome.png?width=48&amp;height=48&amp;auto=webp&amp;s=febdf28b6f39f7da7eb1365325b85e0bb49a9f63\" /></span></a><a class=\"awarding-link\" href=\"/r/aww/gilded\" data-award-id=\"gid_1\" data-count=\"1\" ><span class=\"awarding-icon-container\"><img class=\"awarding-icon\" src=\"https://www.redditstatic.com/gold/awards/icon/silver_48.png\" /></span></a><a class=\"awarding-link\" href=\"/r/aww/gilded\" data-award-id=\"award_cc091963-e271-45aa-ba23-b5150e565520\" data-count=\"2\" ><span class=\"awarding-icon-container\"><img class=\"awarding-icon\" src=\"https://preview.redd.it/award_images/t5_22cerq/qq73pijkm3p41_SafeSocial.png?width=48&amp;height=48&amp;auto=webp&amp;s=85098196df26658027c56256f4f1af30f64d2814\" /></span>2</a></span></p><ul class=\"flat-list buttons\"><li class=\"first\"><a href=\"https://www.reddit.com/r/aww/comments/gpxrll/the_reason_the_water_wasnt_coming_out/\" data-event-action=\"comments\" class=\"bylink comments may-blank\" rel=\"nofollow\" >370 comments</a></li><li class=\"share\"><a class=\"post-sharing-button\" href=\"javascript: void 0;\">share</a></li><li class=\"link-save-button save-button login-required\"><a href=\"#\">save</a></li><li><form action=\"/post/hide\" method=\"post\" class=\"state-button hide-button\"><input type=\"hidden\" name=\"executed\" value=\"hidden\" /><span><a href=\"javascript:void(0)\" class=\" \" data-event-action=\"hide\" onclick=\"change_state(this, 'hide', hide_thing);\">hide</a></span></form></li><li class=\"report-button login-required\"><a href=\"javascript:void(0)\" class=\"reportbtn access-required\" data-event-action=\"report\">report</a></li></ul><div class=\"reportform report-t3_gpxrll\"></div></div><div class=\"expando expando-uninitialized\" style='display: none' data-cachedhtml=\" &lt;div class=&quot;media-preview&quot; id=&quot;media-preview-gpxrll&quot; style=&quot;max-width: 576px&quot;&gt; &lt;div class=&quot;media-preview-content&quot;&gt; &lt;a href=&quot;https://i.redd.it/w1r7rqm76s051.jpg&quot; class=&quot;may-blank&quot;&gt; &lt;img class=&quot;preview&quot; src=&quot;https://preview.redd.it/w1r7rqm76s051.jpg?width=576&amp;amp;auto=webp&amp;amp;s=29066983c14bce60b12383ad36eab0d196f362aa&quot; width=&quot;576&quot; height=&quot;768&quot;&gt; &lt;/a&gt; &lt;/div&gt; &lt;/div&gt; \" data-pin-condition=\"function() {return this.style.display != 'none';}\" ><span class=\"error\">loading...</span></div></div><div class=\"child\" ></div><div class=\"clearleft\"></div></div><div class=\"clearleft\"></div><div class=\" thing id-t3_gpvlyz linkflair linkflair-coronavirus even&#32; link \" id=\"thing_t3_gpvlyz\" onclick=\"click_thing(this)\" data-fullname=\"t3_gpvlyz\" data-type=\"link\" data-gildings=\"0\" data-whitelist-status=\"all_ads\" data-author=\"DoremusJessup\" data-author-fullname=\"t2_612zd\" data-subreddit=\"worldnews\" data-subreddit-prefixed=\"r/worldnews\" data-subreddit-fullname=\"t5_2qh13\" data-subreddit-type=\"public\" data-timestamp=\"1590348144000\" data-url=\"https://www.france24.com/en/20200524-china-says-virus-pushing-us-ties-to-brink-of-cold-war\" data-permalink=\"/r/worldnews/comments/gpvlyz/china_said_sunday_that_relations_with_the_united/\" data-domain=\"france24.com\" data-rank=\"14\" data-comments-count=\"1894\" data-score=\"15351\" data-promoted=\"false\" data-nsfw=\"false\" data-spoiler=\"false\" data-oc=\"false\" data-num-crossposts=\"1\" data-context=\"listing\" ><p class=\"parent\"></p><span class=\"rank\">14</span><div class=\"midcol unvoted\" ><div class=\"arrow up login-required access-required\" data-event-action=\"upvote\" role=\"button\" aria-label=\"upvote\" tabindex=\"0\" ></div><div class=\"score dislikes\" title=\"15336\">15.3k</div><div class=\"score unvoted\" title=\"15337\">15.3k</div><div class=\"score likes\" title=\"15338\">15.3k</div><div class=\"arrow down login-required access-required\" data-event-action=\"downvote\" role=\"button\" aria-label=\"downvote\" tabindex=\"0\" ></div></div><a class=\"thumbnail invisible-when-pinned default may-blank outbound\" data-event-action=\"thumbnail\" href=\"https://www.france24.com/en/20200524-china-says-virus-pushing-us-ties-to-brink-of-cold-war\" data-href-url=\"https://www.france24.com/en/20200524-china-says-virus-pushing-us-ties-to-brink-of-cold-war\" data-outbound-url=\"https://out.reddit.com/t3_gpvlyz?url=https%3A%2F%2Fwww.france24.com%2Fen%2F20200524-china-says-virus-pushing-us-ties-to-brink-of-cold-war&amp;token=AQAAID_LXkvAtzX7sktarJj349lqlH0GFAkgz0n_exStEeWThlBW&amp;app_name=reddit.com\" data-outbound-expiration=\"1590378272000\" rel=\"nofollow ugc\" ></a><div class=\"entry unvoted\"><div class=\"top-matter\"><p class=\"title\"><a class=\"title may-blank outbound\" data-event-action=\"title\" href=\"https://www.france24.com/en/20200524-china-says-virus-pushing-us-ties-to-brink-of-cold-war\" tabindex=\"1\" data-href-url=\"https://www.france24.com/en/20200524-china-says-virus-pushing-us-ties-to-brink-of-cold-war\" data-outbound-url=\"https://out.reddit.com/t3_gpvlyz?url=https%3A%2F%2Fwww.france24.com%2Fen%2F20200524-china-says-virus-pushing-us-ties-to-brink-of-cold-war&amp;token=AQAAID_LXkvAtzX7sktarJj349lqlH0GFAkgz0n_exStEeWThlBW&amp;app_name=reddit.com\" data-outbound-expiration=\"1590378272000\" rel=\"nofollow ugc\" >China said Sunday that relations with the United States were &quot;on the brink of a new Cold War&quot;, fueled in part by tensions over the coronavirus pandemic that has killed nearly 350,000 people worldwide and pitched the global economy into a massive downturn</a><span class=\"linkflairlabel \" title=\"COVID-19\">COVID-19</span>&#32;<span class=\"domain\">(<a href=\"/domain/france24.com/\">france24.com</a>)</span></p><p class=\"tagline \">submitted&#32;<time title=\"Sun May 24 19:22:24 2020 UTC\" datetime=\"2020-05-24T19:22:24+00:00\" class=\"live-timestamp\">7 hours ago</time>&#32;by&#32;<a href=\"https://www.reddit.com/user/DoremusJessup\" class=\"author may-blank id-t2_612zd\" >DoremusJessup</a><span class=\"userattrs\"></span>&#32;to&#32;<a href=\"https://www.reddit.com/r/worldnews/\" class=\"subreddit hover may-blank\" >r/worldnews</a><span class=\"awardings-bar\" data-subredditpath=\"/r/worldnews/\" ><a class=\"awarding-link\" href=\"/r/worldnews/gilded\" data-award-id=\"award_9583d210-a7d0-4f3c-b0c7-369ad579d3d4\" data-count=\"1\" ><span class=\"awarding-icon-container\"><img class=\"awarding-icon\" src=\"https://preview.redd.it/award_images/t5_22cerq/wa987k0p4v541_MindBlown.png?width=48&amp;height=48&amp;auto=webp&amp;s=a925fdb8ed532e7261b0dbc820e691423cba8ee6\" /></span></a><a class=\"awarding-link\" href=\"/r/worldnews/gilded\" data-award-id=\"award_a3c1ccbb-45ed-44d4-bc46-2cd29e512ac9\" data-count=\"1\" ><span class=\"awarding-icon-container\"><img class=\"awarding-icon\" src=\"https://preview.redd.it/award_images/t5_22cerq/trfyx0qv67g41_SuperHeartEyes.png?width=48&amp;height=48&amp;auto=webp&amp;s=fa34c1777ec2194aeef3fe290e23fd1fa91416a9\" /></span></a><a class=\"awarding-link\" href=\"/r/worldnews/gilded\" data-award-id=\"award_b28d9565-4137-433d-bb65-5d4aa82ade4c\" data-count=\"1\" ><span class=\"awarding-icon-container\"><img class=\"awarding-icon\" src=\"https://preview.redd.it/award_images/t5_22cerq/2jd92wtn25g41_ImDeceased.png?width=48&amp;height=48&amp;auto=webp&amp;s=8edd0f4ef9ade0afbf0432c8e94a7dcd3cd1ccf2\" /></span></a><a class=\"awarding-link\" href=\"/r/worldnews/gilded\" data-award-id=\"award_fcccaa58-8f63-4d9d-9251-81033cd0daa3\" data-count=\"1\" ><span class=\"awarding-icon-container\"><img class=\"awarding-icon\" src=\"https://preview.redd.it/award_images/t5_22cerq/1snr345pm1w41_NothingToDo.png?width=48&amp;height=48&amp;auto=webp&amp;s=3d9e8a94d5cd0343eb46355f746fc883cb1562e7\" /></span></a></span></p><ul class=\"flat-list buttons\"><li class=\"first\"><a href=\"https://www.reddit.com/r/worldnews/comments/gpvlyz/china_said_sunday_that_relations_with_the_united/\" data-event-action=\"comments\" class=\"bylink comments may-blank\" rel=\"nofollow\" >1893 comments</a></li><li class=\"share\"><a class=\"post-sharing-button\" href=\"javascript: void 0;\">share</a></li><li class=\"link-save-button save-button login-required\"><a href=\"#\">save</a></li><li><form action=\"/post/hide\" method=\"post\" class=\"state-button hide-button\"><input type=\"hidden\" name=\"executed\" value=\"hidden\" /><span><a href=\"javascript:void(0)\" class=\" \" data-event-action=\"hide\" onclick=\"change_state(this, 'hide', hide_thing);\">hide</a></span></form></li><li class=\"report-button login-required\"><a href=\"javascript:void(0)\" class=\"reportbtn access-required\" data-event-action=\"report\">report</a></li></ul><div class=\"reportform report-t3_gpvlyz\"></div></div></div><div class=\"child\" ></div><div class=\"clearleft\"></div></div><div class=\"clearleft\"></div><div data-blank=\"true\" style=\"display: none!important\"><a href=\"\"><img src=\"https://alb.reddit.com/i.gif?p=gAAAAABeyzEQ6F_sm9_naOIg0Uys0gbU8UufuVr4G5zV6I1ZsVH8gyJyRbqRgI9RhxpShGjfi_a4kteCNj2XgVrSCbWTWOnqVHGq_ydSQ4AcZh7R4gFnnhOpy6wk-FOtTM2RV37Rvf9wIXkF6twtzED_nXiMq4cqaZSPBKOupiFlc5Ua97t67mnsu5dme8rAFuP-RNs8K7qVuhHoetREY6ow7mrH2vbASOyiRjdPP7xpmVRup8jNxf0=\" height=\"0\" width=\"0\" /></a></div><div class=\" thing id-t3_gpydv1 odd&#32; link \" id=\"thing_t3_gpydv1\" onclick=\"click_thing(this)\" data-fullname=\"t3_gpydv1\" data-type=\"link\" data-gildings=\"0\" data-whitelist-status=\"all_ads\" data-author=\"RobotfaceX\" data-author-fullname=\"t2_27fntl6u\" data-subreddit=\"dndmemes\" data-subreddit-prefixed=\"r/dndmemes\" data-subreddit-fullname=\"t5_35g8o\" data-subreddit-type=\"public\" data-timestamp=\"1590357748000\" data-url=\"https://i.redd.it/k9kz8p2lcs051.jpg\" data-permalink=\"/r/dndmemes/comments/gpydv1/species_age_differently/\" data-domain=\"i.redd.it\" data-rank=\"15\" data-comments-count=\"178\" data-score=\"13956\" data-promoted=\"false\" data-nsfw=\"false\" data-spoiler=\"false\" data-oc=\"false\" data-num-crossposts=\"0\" data-context=\"listing\" ><p class=\"parent\"></p><span class=\"rank\">15</span><div class=\"midcol unvoted\" ><div class=\"arrow up login-required access-required\" data-event-action=\"upvote\" role=\"button\" aria-label=\"upvote\" tabindex=\"0\" ></div><div class=\"score dislikes\" title=\"17906\">17.9k</div><div class=\"score unvoted\" title=\"17907\">17.9k</div><div class=\"score likes\" title=\"17908\">17.9k</div><div class=\"arrow down login-required access-required\" data-event-action=\"downvote\" role=\"button\" aria-label=\"downvote\" tabindex=\"0\" ></div></div><a class=\"thumbnail invisible-when-pinned may-blank \" data-event-action=\"thumbnail\" href=\"/r/dndmemes/comments/gpydv1/species_age_differently/\" ><img src=\"//a.thumbs.redditmedia.com/ZZGgzxz4PQlYc_SjI7sFWSQimqEAvgllGgu9TW0Cqd4.jpg\" width='70' height='70' alt=\"\"></a><div class=\"entry unvoted\"><div class=\"top-matter\"><p class=\"title\"><a class=\"title may-blank \" data-event-action=\"title\" href=\"/r/dndmemes/comments/gpydv1/species_age_differently/\" tabindex=\"1\" >Species age differently</a>&#32;<span class=\"domain\">(<a href=\"/domain/i.redd.it/\">i.redd.it</a>)</span></p><div class=\"expando-button collapsed hide-when-pinned video\"></div><p class=\"tagline \">submitted&#32;<time title=\"Sun May 24 22:02:28 2020 UTC\" datetime=\"2020-05-24T22:02:28+00:00\" class=\"live-timestamp\">4 hours ago</time>&#32;by&#32;<a href=\"https://www.reddit.com/user/RobotfaceX\" class=\"author may-blank id-t2_27fntl6u\" >RobotfaceX</a><span class=\"userattrs\"></span>&#32;to&#32;<a href=\"https://www.reddit.com/r/dndmemes/\" class=\"subreddit hover may-blank\" >r/dndmemes</a><span class=\"awardings-bar\" data-subredditpath=\"/r/dndmemes/\" ></span></p><ul class=\"flat-list buttons\"><li class=\"first\"><a href=\"https://www.reddit.com/r/dndmemes/comments/gpydv1/species_age_differently/\" data-event-action=\"comments\" class=\"bylink comments may-blank\" rel=\"nofollow\" >219 comments</a></li><li class=\"share\"><a class=\"post-sharing-button\" href=\"javascript: void 0;\">share</a></li><li class=\"link-save-button save-button login-required\"><a href=\"#\">save</a></li><li><form action=\"/post/hide\" method=\"post\" class=\"state-button hide-button\"><input type=\"hidden\" name=\"executed\" value=\"hidden\" /><span><a href=\"javascript:void(0)\" class=\" \" data-event-action=\"hide\" onclick=\"change_state(this, 'hide', hide_thing);\">hide</a></span></form></li><li class=\"report-button login-required\"><a href=\"javascript:void(0)\" class=\"reportbtn access-required\" data-event-action=\"report\">report</a></li></ul><div class=\"reportform report-t3_gpydv1\"></div></div><div class=\"expando expando-uninitialized\" style='display: none' data-cachedhtml=\" &lt;div class=&quot;media-preview&quot; id=&quot;media-preview-gpydv1&quot; style=&quot;max-width: 531px&quot;&gt; &lt;div class=&quot;media-preview-content&quot;&gt; &lt;a href=&quot;https://i.redd.it/k9kz8p2lcs051.jpg&quot; class=&quot;may-blank&quot;&gt; &lt;img class=&quot;preview&quot; src=&quot;https://preview.redd.it/k9kz8p2lcs051.jpg?width=531&amp;amp;auto=webp&amp;amp;s=8a9ce457ae1c2ad067712baf8b111402ab257e2b&quot; width=&quot;531&quot; height=&quot;642&quot;&gt; &lt;/a&gt; &lt;/div&gt; &lt;/div&gt; \" data-pin-condition=\"function() {return this.style.display != 'none';}\" ><span class=\"error\">loading...</span></div></div><div class=\"child\" ></div><div class=\"clearleft\"></div></div><div class=\"clearleft\"></div><div class=\" thing id-t3_gpqyv5 linkflair linkflair-oc even&#32; link \" id=\"thing_t3_gpqyv5\" onclick=\"click_thing(this)\" data-fullname=\"t3_gpqyv5\" data-type=\"link\" data-gildings=\"0\" data-whitelist-status=\"all_ads\" data-author=\"HouseCopeland\" data-author-fullname=\"t2_otul2\" data-subreddit=\"dataisbeautiful\" data-subreddit-prefixed=\"r/dataisbeautiful\" data-subreddit-fullname=\"t5_2tk95\" data-subreddit-type=\"public\" data-timestamp=\"1590332096000\" data-url=\"https://i.redd.it/ywpnsxo78q051.gif\" data-permalink=\"/r/dataisbeautiful/comments/gpqyv5/oc_differences_between_men_and_women_standup/\" data-domain=\"i.redd.it\" data-rank=\"16\" data-comments-count=\"1763\" data-score=\"19422\" data-promoted=\"false\" data-nsfw=\"false\" data-spoiler=\"false\" data-oc=\"false\" data-num-crossposts=\"20\" data-context=\"listing\" ><p class=\"parent\"></p><span class=\"rank\">16</span><div class=\"midcol unvoted\" ><div class=\"arrow up login-required access-required\" data-event-action=\"upvote\" role=\"button\" aria-label=\"upvote\" tabindex=\"0\" ></div><div class=\"score dislikes\" title=\"19515\">19.5k</div><div class=\"score unvoted\" title=\"19516\">19.5k</div><div class=\"score likes\" title=\"19517\">19.5k</div><div class=\"arrow down login-required access-required\" data-event-action=\"downvote\" role=\"button\" aria-label=\"downvote\" tabindex=\"0\" ></div></div><a class=\"thumbnail invisible-when-pinned may-blank \" data-event-action=\"thumbnail\" href=\"/r/dataisbeautiful/comments/gpqyv5/oc_differences_between_men_and_women_standup/\" ><img src=\"//b.thumbs.redditmedia.com/WoucnbowDA_lfJducidoWWBUCBwK4XUs-m7460jch-c.jpg\" width='70' height='38' alt=\"\"></a><div class=\"entry unvoted\"><div class=\"top-matter\"><p class=\"title\"><a class=\"title may-blank \" data-event-action=\"title\" href=\"/r/dataisbeautiful/comments/gpqyv5/oc_differences_between_men_and_women_standup/\" tabindex=\"1\" >[OC] Differences between Men and Women Stand-Up comedy specials. More in Comments</a><span class=\"linkflairlabel \" title=\"OC\">OC</span>&#32;<span class=\"domain\">(<a href=\"/domain/i.redd.it/\">i.redd.it</a>)</span></p><div class=\"expando-button collapsed hide-when-pinned video\"></div><p class=\"tagline \">submitted&#32;<time title=\"Sun May 24 14:54:56 2020 UTC\" datetime=\"2020-05-24T14:54:56+00:00\" class=\"live-timestamp\">11 hours ago</time>&#32;by&#32;<a href=\"https://www.reddit.com/user/HouseCopeland\" class=\"author may-blank id-t2_otul2\" >HouseCopeland</a><span class=\"userattrs\"></span>&#32;to&#32;<a href=\"https://www.reddit.com/r/dataisbeautiful/\" class=\"subreddit hover may-blank\" >r/dataisbeautiful</a><span class=\"awardings-bar\" data-subredditpath=\"/r/dataisbeautiful/\" ><a class=\"awarding-link\" href=\"/r/dataisbeautiful/gilded\" data-award-id=\"award_9663243a-e77f-44cf-abc6-850ead2cd18d\" data-count=\"1\" ><span class=\"awarding-icon-container\"><img class=\"awarding-icon\" src=\"https://www.redditstatic.com/gold/awards/icon/SnooClappingPremium_48.png\" /></span></a><a class=\"awarding-link\" href=\"/r/dataisbeautiful/gilded\" data-award-id=\"award_b4ff447e-05a5-42dc-9002-63568807cfe6\" data-count=\"1\" ><span class=\"awarding-icon-container\"><img class=\"awarding-icon\" src=\"https://preview.redd.it/award_images/t5_22cerq/rg960rc47jj41_All-SeeingUpvote.png?width=48&amp;height=48&amp;auto=webp&amp;s=0a6fb9ecfb8eee4493afe6c5b234c44eb8413008\" /></span></a><a class=\"awarding-link\" href=\"/r/dataisbeautiful/gilded\" data-award-id=\"award_4769bf02-32f3-480d-81d7-88b2f630d9cd\" data-count=\"1\" ><span class=\"awarding-icon-container\"><img class=\"awarding-icon\" src=\"https://preview.redd.it/award_images/t5_22cerq/968ez2gen2s41_Yikes.png?width=48&amp;height=48&amp;auto=webp&amp;s=74bec9f01940afcaec87d700fbc4d1cc28aa8fb8\" /></span></a><a class=\"awarding-link\" href=\"/r/dataisbeautiful/gilded\" data-award-id=\"award_b1b44fa1-8179-4d84-a9ed-f25bb81f1c5f\" data-count=\"1\" ><span class=\"awarding-icon-container\"><img class=\"awarding-icon\" src=\"https://preview.redd.it/award_images/t5_22cerq/ey2iodron2s41_Facepalm.png?width=48&amp;height=48&amp;auto=webp&amp;s=3971718e2c95e4869756cbdbe9e996719ed2dcc2\" /></span></a><a class=\"awarding-link\" href=\"/r/dataisbeautiful/gilded\" data-award-id=\"award_02d9ab2c-162e-4c01-8438-317a016ed3d9\" data-count=\"1\" ><span class=\"awarding-icon-container\"><img class=\"awarding-icon\" src=\"https://preview.redd.it/award_images/t5_22cerq/898sygoknoo41_TakeMyEnergy.png?width=48&amp;height=48&amp;auto=webp&amp;s=83038a4d6181d3c8f5107dbca4ddb735ca6c2231\" /></span></a></span></p><ul class=\"flat-list buttons\"><li class=\"first\"><a href=\"https://www.reddit.com/r/dataisbeautiful/comments/gpqyv5/oc_differences_between_men_and_women_standup/\" data-event-action=\"comments\" class=\"bylink comments may-blank\" rel=\"nofollow\" >1771 comments</a></li><li class=\"share\"><a class=\"post-sharing-button\" href=\"javascript: void 0;\">share</a></li><li class=\"link-save-button save-button login-required\"><a href=\"#\">save</a></li><li><form action=\"/post/hide\" method=\"post\" class=\"state-button hide-button\"><input type=\"hidden\" name=\"executed\" value=\"hidden\" /><span><a href=\"javascript:void(0)\" class=\" \" data-event-action=\"hide\" onclick=\"change_state(this, 'hide', hide_thing);\">hide</a></span></form></li><li class=\"report-button login-required\"><a href=\"javascript:void(0)\" class=\"reportbtn access-required\" data-event-action=\"report\">report</a></li></ul><div class=\"reportform report-t3_gpqyv5\"></div></div><div class=\"expando expando-uninitialized\" style='display: none' data-cachedhtml=\" &lt;div class=&quot;media-preview&quot; id=&quot;media-preview-gpqyv5&quot; style=&quot;max-width: 648px&quot;&gt; &lt;div class=&quot;media-preview-content&quot;&gt; &lt;a href=&quot;https://i.redd.it/ywpnsxo78q051.gif&quot; class=&quot;may-blank&quot;&gt; &lt;video class=&quot;preview&quot; preload=&quot;auto&quot; autoplay=&quot;autoplay&quot; muted=&quot;muted&quot; loop=&quot;loop&quot; webkit-playsinline=&quot;&quot; style=&quot;width: 648px; height: 360px;&quot;&gt; &lt;source src=&quot;https://preview.redd.it/ywpnsxo78q051.gif?width=648&amp;amp;format=mp4&amp;amp;s=a3edb31cddd99b2cf50456a8a84eaf835a57f1a3&quot; type=&quot;video/mp4&quot;&gt; &lt;/video&gt; &lt;/a&gt; &lt;/div&gt; &lt;/div&gt; \" data-pin-condition=\"function() {return this.style.display != 'none';}\" ><span class=\"error\">loading...</span></div></div><div class=\"child\" ></div><div class=\"clearleft\"></div></div><div class=\"clearleft\"></div><div class=\" thing id-t3_gprk6y odd&#32; link \" id=\"thing_t3_gprk6y\" onclick=\"click_thing(this)\" data-fullname=\"t3_gprk6y\" data-type=\"link\" data-gildings=\"0\" data-whitelist-status=\"no_ads\" data-author=\"bluebelle21\" data-author-fullname=\"t2_3dla08cs\" data-subreddit=\"gatekeeping\" data-subreddit-prefixed=\"r/gatekeeping\" data-subreddit-fullname=\"t5_3fkyp\" data-subreddit-type=\"public\" data-timestamp=\"1590334119000\" data-url=\"https://i.redd.it/vea64cpbeq051.jpg\" data-permalink=\"/r/gatekeeping/comments/gprk6y/gatekeeping_whatever_tf_this_is/\" data-domain=\"i.redd.it\" data-rank=\"17\" data-comments-count=\"1729\" data-score=\"16993\" data-promoted=\"false\" data-nsfw=\"false\" data-spoiler=\"false\" data-oc=\"false\" data-num-crossposts=\"3\" data-context=\"listing\" ><p class=\"parent\"></p><span class=\"rank\">17</span><div class=\"midcol unvoted\" ><div class=\"arrow up login-required access-required\" data-event-action=\"upvote\" role=\"button\" aria-label=\"upvote\" tabindex=\"0\" ></div><div class=\"score dislikes\" title=\"18228\">18.2k</div><div class=\"score unvoted\" title=\"18229\">18.2k</div><div class=\"score likes\" title=\"18230\">18.2k</div><div class=\"arrow down login-required access-required\" data-event-action=\"downvote\" role=\"button\" aria-label=\"downvote\" tabindex=\"0\" ></div></div><a class=\"thumbnail invisible-when-pinned may-blank \" data-event-action=\"thumbnail\" href=\"/r/gatekeeping/comments/gprk6y/gatekeeping_whatever_tf_this_is/\" ><img src=\"//a.thumbs.redditmedia.com/ik2m0Cfcuu_hpky2mw0JxOwAMYbRpLKHD21ambzXKc4.jpg\" width='70' height='70' alt=\"\"></a><div class=\"entry unvoted\"><div class=\"top-matter\"><p class=\"title\"><a class=\"title may-blank \" data-event-action=\"title\" href=\"/r/gatekeeping/comments/gprk6y/gatekeeping_whatever_tf_this_is/\" tabindex=\"1\" >Gatekeeping whatever tf this is.</a>&#32;<span class=\"domain\">(<a href=\"/domain/i.redd.it/\">i.redd.it</a>)</span></p><div class=\"expando-button collapsed hide-when-pinned video\"></div><p class=\"tagline \">submitted&#32;<time title=\"Sun May 24 15:28:39 2020 UTC\" datetime=\"2020-05-24T15:28:39+00:00\" class=\"live-timestamp\">10 hours ago</time>&#32;by&#32;<a href=\"https://www.reddit.com/user/bluebelle21\" class=\"author may-blank id-t2_3dla08cs\" >bluebelle21</a><span class=\"userattrs\"></span>&#32;to&#32;<a href=\"https://www.reddit.com/r/gatekeeping/\" class=\"subreddit hover may-blank\" >r/gatekeeping</a><span class=\"awardings-bar\" data-subredditpath=\"/r/gatekeeping/\" ><a class=\"awarding-link\" href=\"/r/gatekeeping/gilded\" data-award-id=\"award_02d9ab2c-162e-4c01-8438-317a016ed3d9\" data-count=\"1\" ><span class=\"awarding-icon-container\"><img class=\"awarding-icon\" src=\"https://preview.redd.it/award_images/t5_22cerq/898sygoknoo41_TakeMyEnergy.png?width=48&amp;height=48&amp;auto=webp&amp;s=83038a4d6181d3c8f5107dbca4ddb735ca6c2231\" /></span></a></span></p><ul class=\"flat-list buttons\"><li class=\"first\"><a href=\"https://www.reddit.com/r/gatekeeping/comments/gprk6y/gatekeeping_whatever_tf_this_is/\" data-event-action=\"comments\" class=\"bylink comments may-blank\" rel=\"nofollow\" >1873 comments</a></li><li class=\"share\"><a class=\"post-sharing-button\" href=\"javascript: void 0;\">share</a></li><li class=\"link-save-button save-button login-required\"><a href=\"#\">save</a></li><li><form action=\"/post/hide\" method=\"post\" class=\"state-button hide-button\"><input type=\"hidden\" name=\"executed\" value=\"hidden\" /><span><a href=\"javascript:void(0)\" class=\" \" data-event-action=\"hide\" onclick=\"change_state(this, 'hide', hide_thing);\">hide</a></span></form></li><li class=\"report-button login-required\"><a href=\"javascript:void(0)\" class=\"reportbtn access-required\" data-event-action=\"report\">report</a></li></ul><div class=\"reportform report-t3_gprk6y\"></div></div><div class=\"expando expando-uninitialized\" style='display: none' data-cachedhtml=\" &lt;div class=&quot;media-preview&quot; id=&quot;media-preview-gprk6y&quot; style=&quot;max-width: 403px&quot;&gt; &lt;div class=&quot;media-preview-content&quot;&gt; &lt;a href=&quot;https://i.redd.it/vea64cpbeq051.jpg&quot; class=&quot;may-blank&quot;&gt; &lt;img class=&quot;preview&quot; src=&quot;https://preview.redd.it/vea64cpbeq051.jpg?width=403&amp;amp;auto=webp&amp;amp;s=a6bcb83abbfcd746d29f7dd88dd712c0602778c3&quot; width=&quot;403&quot; height=&quot;404&quot;&gt; &lt;/a&gt; &lt;/div&gt; &lt;/div&gt; \" data-pin-condition=\"function() {return this.style.display != 'none';}\" ><span class=\"error\">loading...</span></div></div><div class=\"child\" ></div><div class=\"clearleft\"></div></div><div class=\"clearleft\"></div><div class=\" thing id-t3_gppigm linkflair even&#32; link \" id=\"thing_t3_gppigm\" onclick=\"click_thing(this)\" data-fullname=\"t3_gppigm\" data-type=\"link\" data-gildings=\"0\" data-whitelist-status=\"all_ads\" data-author=\"sesoyez\" data-author-fullname=\"t2_40qm5\" data-subreddit=\"canada\" data-subreddit-prefixed=\"r/canada\" data-subreddit-fullname=\"t5_2qh68\" data-subreddit-type=\"public\" data-timestamp=\"1590326124000\" data-url=\"https://www.theglobeandmail.com/canada/article-toronto-officials-condemn-dangerous-behaviour-of-people-who-packed-2/\" data-permalink=\"/r/canada/comments/gppigm/toronto_officials_condemn_dangerous_behaviour_of/\" data-domain=\"theglobeandmail.com\" data-rank=\"18\" data-comments-count=\"1667\" data-score=\"6959\" data-promoted=\"false\" data-nsfw=\"false\" data-spoiler=\"false\" data-oc=\"false\" data-num-crossposts=\"0\" data-context=\"listing\" ><p class=\"parent\"></p><span class=\"rank\">18</span><div class=\"midcol unvoted\" ><div class=\"arrow up login-required access-required\" data-event-action=\"upvote\" role=\"button\" aria-label=\"upvote\" tabindex=\"0\" ></div><div class=\"score dislikes\" title=\"6951\">6951</div><div class=\"score unvoted\" title=\"6952\">6952</div><div class=\"score likes\" title=\"6953\">6953</div><div class=\"arrow down login-required access-required\" data-event-action=\"downvote\" role=\"button\" aria-label=\"downvote\" tabindex=\"0\" ></div></div><a class=\"thumbnail invisible-when-pinned may-blank outbound\" data-event-action=\"thumbnail\" href=\"https://www.theglobeandmail.com/canada/article-toronto-officials-condemn-dangerous-behaviour-of-people-who-packed-2/\" data-href-url=\"https://www.theglobeandmail.com/canada/article-toronto-officials-condemn-dangerous-behaviour-of-people-who-packed-2/\" data-outbound-url=\"https://out.reddit.com/t3_gppigm?url=https%3A%2F%2Fwww.theglobeandmail.com%2Fcanada%2Farticle-toronto-officials-condemn-dangerous-behaviour-of-people-who-packed-2%2F&amp;token=AQAAID_LXkC6Rv9RHslPzPwnAGAtxH1-w9aoHTXTWz9hszeG-F-k&amp;app_name=reddit.com\" data-outbound-expiration=\"1590378272000\" rel=\"nofollow ugc\" ><img src=\"//b.thumbs.redditmedia.com/LyY-Wddgcs450yG5knR5Fg5OJLChuES0eZ6DT2vq6Ro.jpg\" width='70' height='36' alt=\"\"></a><div class=\"entry unvoted\"><div class=\"top-matter\"><p class=\"title\"><a class=\"title may-blank outbound\" data-event-action=\"title\" href=\"https://www.theglobeandmail.com/canada/article-toronto-officials-condemn-dangerous-behaviour-of-people-who-packed-2/\" tabindex=\"1\" data-href-url=\"https://www.theglobeandmail.com/canada/article-toronto-officials-condemn-dangerous-behaviour-of-people-who-packed-2/\" data-outbound-url=\"https://out.reddit.com/t3_gppigm?url=https%3A%2F%2Fwww.theglobeandmail.com%2Fcanada%2Farticle-toronto-officials-condemn-dangerous-behaviour-of-people-who-packed-2%2F&amp;token=AQAAID_LXkC6Rv9RHslPzPwnAGAtxH1-w9aoHTXTWz9hszeG-F-k&amp;app_name=reddit.com\" data-outbound-expiration=\"1590378272000\" rel=\"nofollow ugc\" >Toronto officials condemn ‘dangerous’ behaviour of people who packed park</a><span class=\"linkflairlabel \" title=\"Paywall\">Paywall</span>&#32;<span class=\"domain\">(<a href=\"/domain/theglobeandmail.com/\">theglobeandmail.com</a>)</span></p><p class=\"tagline \">submitted&#32;<time title=\"Sun May 24 13:15:24 2020 UTC\" datetime=\"2020-05-24T13:15:24+00:00\" class=\"live-timestamp\">13 hours ago</time>&#32;by&#32;<a href=\"https://www.reddit.com/user/sesoyez\" class=\"author may-blank id-t2_40qm5\" >sesoyez</a><span class=\"userattrs\"></span>&#32;to&#32;<a href=\"https://www.reddit.com/r/canada/\" class=\"subreddit hover may-blank\" >r/canada</a><span class=\"awardings-bar\" data-subredditpath=\"/r/canada/\" ></span></p><ul class=\"flat-list buttons\"><li class=\"first\"><a href=\"https://www.reddit.com/r/canada/comments/gppigm/toronto_officials_condemn_dangerous_behaviour_of/\" data-event-action=\"comments\" class=\"bylink comments may-blank\" rel=\"nofollow\" >1667 comments</a></li><li class=\"share\"><a class=\"post-sharing-button\" href=\"javascript: void 0;\">share</a></li><li class=\"link-save-button save-button login-required\"><a href=\"#\">save</a></li><li><form action=\"/post/hide\" method=\"post\" class=\"state-button hide-button\"><input type=\"hidden\" name=\"executed\" value=\"hidden\" /><span><a href=\"javascript:void(0)\" class=\" \" data-event-action=\"hide\" onclick=\"change_state(this, 'hide', hide_thing);\">hide</a></span></form></li><li class=\"report-button login-required\"><a href=\"javascript:void(0)\" class=\"reportbtn access-required\" data-event-action=\"report\">report</a></li></ul><div class=\"reportform report-t3_gppigm\"></div></div></div><div class=\"child\" ></div><div class=\"clearleft\"></div></div><div class=\"clearleft\"></div><div class=\" thing id-t3_gpyefj odd&#32; link \" id=\"thing_t3_gpyefj\" onclick=\"click_thing(this)\" data-fullname=\"t3_gpyefj\" data-type=\"link\" data-gildings=\"0\" data-whitelist-status=\"all_ads\" data-author=\"scionofares\" data-author-fullname=\"t2_14uixbcj\" data-subreddit=\"xboxone\" data-subreddit-prefixed=\"r/xboxone\" data-subreddit-fullname=\"t5_2xbci\" data-subreddit-type=\"public\" data-timestamp=\"1590357796000\" data-url=\"https://i.redd.it/28ykxh5qcs051.jpg\" data-permalink=\"/r/xboxone/comments/gpyefj/my_custom_controller/\" data-domain=\"i.redd.it\" data-rank=\"19\" data-comments-count=\"274\" data-score=\"13594\" data-promoted=\"false\" data-nsfw=\"false\" data-spoiler=\"false\" data-oc=\"false\" data-num-crossposts=\"1\" data-context=\"listing\" ><p class=\"parent\"></p><span class=\"rank\">19</span><div class=\"midcol unvoted\" ><div class=\"arrow up login-required access-required\" data-event-action=\"upvote\" role=\"button\" aria-label=\"upvote\" tabindex=\"0\" ></div><div class=\"score dislikes\" title=\"14526\">14.5k</div><div class=\"score unvoted\" title=\"14527\">14.5k</div><div class=\"score likes\" title=\"14528\">14.5k</div><div class=\"arrow down login-required access-required\" data-event-action=\"downvote\" role=\"button\" aria-label=\"downvote\" tabindex=\"0\" ></div></div><a class=\"thumbnail invisible-when-pinned may-blank \" data-event-action=\"thumbnail\" href=\"/r/xboxone/comments/gpyefj/my_custom_controller/\" ><img src=\"//b.thumbs.redditmedia.com/y1WeK3wE59ggViaImnuqD0DVqAvSDv1jva9EKA7JYPI.jpg\" width='70' height='52' alt=\"\"></a><div class=\"entry unvoted\"><div class=\"top-matter\"><p class=\"title\"><a class=\"title may-blank \" data-event-action=\"title\" href=\"/r/xboxone/comments/gpyefj/my_custom_controller/\" tabindex=\"1\" >My custom controller 🌊</a>&#32;<span class=\"domain\">(<a href=\"/domain/i.redd.it/\">i.redd.it</a>)</span></p><div class=\"expando-button collapsed hide-when-pinned video\"></div><p class=\"tagline \">submitted&#32;<time title=\"Sun May 24 22:03:16 2020 UTC\" datetime=\"2020-05-24T22:03:16+00:00\" class=\"live-timestamp\">4 hours ago</time>&#32;by&#32;<a href=\"https://www.reddit.com/user/scionofares\" class=\"author may-blank id-t2_14uixbcj\" >scionofares</a><span class=\"userattrs\"></span>&#32;to&#32;<a href=\"https://www.reddit.com/r/xboxone/\" class=\"subreddit hover may-blank\" >r/xboxone</a><span class=\"awardings-bar\" data-subredditpath=\"/r/xboxone/\" ><a class=\"awarding-link\" href=\"/r/xboxone/gilded\" data-award-id=\"gid_3\" data-count=\"1\" ><span class=\"awarding-icon-container\"><img class=\"awarding-icon\" src=\"https://www.redditstatic.com/gold/awards/icon/platinum_48.png\" /></span></a><a class=\"awarding-link\" href=\"/r/xboxone/gilded\" data-award-id=\"award_725b427d-320b-4d02-8fb0-8bb7aa7b78aa\" data-count=\"1\" ><span class=\"awarding-icon-container\"><img class=\"awarding-icon\" src=\"https://preview.redd.it/award_images/t5_22cerq/7atjjqpy1mc41_Updoot.png?width=48&amp;height=48&amp;auto=webp&amp;s=325a8549233c6457eaf4eaef948230af4d062f0a\" /></span></a><a class=\"awarding-link\" href=\"/r/xboxone/gilded\" data-award-id=\"gid_1\" data-count=\"1\" ><span class=\"awarding-icon-container\"><img class=\"awarding-icon\" src=\"https://www.redditstatic.com/gold/awards/icon/silver_48.png\" /></span></a><a class=\"awarding-link\" href=\"/r/xboxone/gilded\" data-award-id=\"award_3cf96da4-79da-4127-90ac-84545e1833dc\" data-count=\"1\" ><span class=\"awarding-icon-container\"><img class=\"awarding-icon\" src=\"https://preview.redd.it/award_images/t5_22cerq/qh4pzo76v9p41_HomeTime.png?width=48&amp;height=48&amp;auto=webp&amp;s=3fb62803315450661c05e36da2b8d00ba06ad619\" /></span></a></span></p><ul class=\"flat-list buttons\"><li class=\"first\"><a href=\"https://www.reddit.com/r/xboxone/comments/gpyefj/my_custom_controller/\" data-event-action=\"comments\" class=\"bylink comments may-blank\" rel=\"nofollow\" >287 comments</a></li><li class=\"share\"><a class=\"post-sharing-button\" href=\"javascript: void 0;\">share</a></li><li class=\"link-save-button save-button login-required\"><a href=\"#\">save</a></li><li><form action=\"/post/hide\" method=\"post\" class=\"state-button hide-button\"><input type=\"hidden\" name=\"executed\" value=\"hidden\" /><span><a href=\"javascript:void(0)\" class=\" \" data-event-action=\"hide\" onclick=\"change_state(this, 'hide', hide_thing);\">hide</a></span></form></li><li class=\"report-button login-required\"><a href=\"javascript:void(0)\" class=\"reportbtn access-required\" data-event-action=\"report\">report</a></li></ul><div class=\"reportform report-t3_gpyefj\"></div></div><div class=\"expando expando-uninitialized\" style='display: none' data-cachedhtml=\" &lt;div class=&quot;media-preview&quot; id=&quot;media-preview-gpyefj&quot; style=&quot;max-width: 1024px&quot;&gt; &lt;div class=&quot;media-preview-content&quot;&gt; &lt;a href=&quot;https://i.redd.it/28ykxh5qcs051.jpg&quot; class=&quot;may-blank&quot;&gt; &lt;img class=&quot;preview&quot; src=&quot;https://preview.redd.it/28ykxh5qcs051.jpg?width=1024&amp;amp;auto=webp&amp;amp;s=505e44f1e14354dd1c07cc615161b05313bbff04&quot; width=&quot;1024&quot; height=&quot;768&quot;&gt; &lt;/a&gt; &lt;/div&gt; &lt;/div&gt; \" data-pin-condition=\"function() {return this.style.display != 'none';}\" ><span class=\"error\">loading...</span></div></div><div class=\"child\" ></div><div class=\"clearleft\"></div></div><div class=\"clearleft\"></div><div class=\" thing id-t3_gpr1rg linkflair linkflair-unique-live even&#32; link self\" id=\"thing_t3_gpr1rg\" onclick=\"click_thing(this)\" data-fullname=\"t3_gpr1rg\" data-type=\"link\" data-gildings=\"0\" data-whitelist-status=\"all_ads\" data-author=\"RaspberryRock\" data-author-fullname=\"t2_193liic0\" data-subreddit=\"IAmA\" data-subreddit-prefixed=\"r/IAmA\" data-subreddit-fullname=\"t5_2qzb6\" data-subreddit-type=\"public\" data-timestamp=\"1590332396000\" data-url=\"/r/IAmA/comments/gpr1rg/i_have_lived_off_grid_for_3_years_ama/\" data-permalink=\"/r/IAmA/comments/gpr1rg/i_have_lived_off_grid_for_3_years_ama/\" data-domain=\"self.IAmA\" data-rank=\"20\" data-comments-count=\"1532\" data-score=\"5604\" data-promoted=\"false\" data-nsfw=\"false\" data-spoiler=\"false\" data-oc=\"false\" data-num-crossposts=\"1\" data-context=\"listing\" ><p class=\"parent\"></p><span class=\"rank\">20</span><div class=\"midcol unvoted\" ><div class=\"arrow up login-required access-required\" data-event-action=\"upvote\" role=\"button\" aria-label=\"upvote\" tabindex=\"0\" ></div><div class=\"score dislikes\" title=\"5981\">5981</div><div class=\"score unvoted\" title=\"5982\">5982</div><div class=\"score likes\" title=\"5983\">5983</div><div class=\"arrow down login-required access-required\" data-event-action=\"downvote\" role=\"button\" aria-label=\"downvote\" tabindex=\"0\" ></div></div><a class=\"thumbnail invisible-when-pinned self may-blank \" data-event-action=\"thumbnail\" href=\"/r/IAmA/comments/gpr1rg/i_have_lived_off_grid_for_3_years_ama/\" ></a><div class=\"entry unvoted\"><div class=\"top-matter\"><p class=\"title\"><a class=\"title may-blank \" data-event-action=\"title\" href=\"/r/IAmA/comments/gpr1rg/i_have_lived_off_grid_for_3_years_ama/\" tabindex=\"1\" >I have lived Off Grid for 3 years. AMA</a><span class=\"linkflairlabel \" title=\"Unique Experience-Live\">Unique Experience-Live</span>&#32;<span class=\"domain\">(<a href=\"/r/IAmA/\">self.IAmA</a>)</span></p><div class=\"expando-button collapsed hide-when-pinned selftext\"></div><p class=\"tagline \">submitted&#32;<time title=\"Sun May 24 14:59:56 2020 UTC\" datetime=\"2020-05-24T14:59:56+00:00\" class=\"live-timestamp\">11 hours ago</time>&#32;by&#32;<a href=\"https://www.reddit.com/user/RaspberryRock\" class=\"author may-blank id-t2_193liic0\" >RaspberryRock</a><span class=\"userattrs\"></span>&#32;to&#32;<a href=\"https://www.reddit.com/r/IAmA/\" class=\"subreddit hover may-blank\" >r/IAmA</a><span class=\"awardings-bar\" data-subredditpath=\"/r/IAmA/\" ><a class=\"awarding-link\" href=\"/r/IAmA/gilded\" data-award-id=\"award_cc091963-e271-45aa-ba23-b5150e565520\" data-count=\"1\" ><span class=\"awarding-icon-container\"><img class=\"awarding-icon\" src=\"https://preview.redd.it/award_images/t5_22cerq/qq73pijkm3p41_SafeSocial.png?width=48&amp;height=48&amp;auto=webp&amp;s=85098196df26658027c56256f4f1af30f64d2814\" /></span></a></span></p><ul class=\"flat-list buttons\"><li class=\"first\"><a href=\"https://www.reddit.com/r/IAmA/comments/gpr1rg/i_have_lived_off_grid_for_3_years_ama/\" data-event-action=\"comments\" class=\"bylink comments may-blank\" rel=\"nofollow\" >1647 comments</a></li><li class=\"share\"><a class=\"post-sharing-button\" href=\"javascript: void 0;\">share</a></li><li class=\"link-save-button save-button login-required\"><a href=\"#\">save</a></li><li><form action=\"/post/hide\" method=\"post\" class=\"state-button hide-button\"><input type=\"hidden\" name=\"executed\" value=\"hidden\" /><span><a href=\"javascript:void(0)\" class=\" \" data-event-action=\"hide\" onclick=\"change_state(this, 'hide', hide_thing);\">hide</a></span></form></li><li class=\"report-button login-required\"><a href=\"javascript:void(0)\" class=\"reportbtn access-required\" data-event-action=\"report\">report</a></li></ul><div class=\"reportform report-t3_gpr1rg\"></div></div><div class=\"expando expando-uninitialized\" style='display: none' data-pin-condition=\"function() {return this.style.display != 'none';}\" ><span class=\"error\">loading...</span></div></div><div class=\"child\" ></div><div class=\"clearleft\"></div></div><div class=\"clearleft\"></div><div class=\" thing id-t3_gpthul linkflair linkflair-S odd&#32; gilded link self\" id=\"thing_t3_gpthul\" onclick=\"click_thing(this)\" data-fullname=\"t3_gpthul\" data-type=\"link\" data-gildings=\"1\" data-whitelist-status=\"no_ads\" data-author=\"OutrageousShine8\" data-author-fullname=\"t2_6hi4oife\" data-subreddit=\"tifu\" data-subreddit-prefixed=\"r/tifu\" data-subreddit-fullname=\"t5_2to41\" data-subreddit-type=\"public\" data-timestamp=\"1590340826000\" data-url=\"/r/tifu/comments/gpthul/tifu_by_making_my_neighbor_think_i_beat_my_wife/\" data-permalink=\"/r/tifu/comments/gpthul/tifu_by_making_my_neighbor_think_i_beat_my_wife/\" data-domain=\"self.tifu\" data-rank=\"21\" data-comments-count=\"1301\" data-score=\"29504\" data-promoted=\"false\" data-nsfw=\"false\" data-spoiler=\"false\" data-oc=\"false\" data-num-crossposts=\"0\" data-context=\"listing\" ><p class=\"parent\"></p><span class=\"rank\">21</span><div class=\"midcol unvoted\" ><div class=\"arrow up login-required access-required\" data-event-action=\"upvote\" role=\"button\" aria-label=\"upvote\" tabindex=\"0\" ></div><div class=\"score dislikes\" title=\"29940\">29.9k</div><div class=\"score unvoted\" title=\"29941\">29.9k</div><div class=\"score likes\" title=\"29942\">29.9k</div><div class=\"arrow down login-required access-required\" data-event-action=\"downvote\" role=\"button\" aria-label=\"downvote\" tabindex=\"0\" ></div></div><a class=\"thumbnail invisible-when-pinned self may-blank \" data-event-action=\"thumbnail\" href=\"/r/tifu/comments/gpthul/tifu_by_making_my_neighbor_think_i_beat_my_wife/\" ></a><div class=\"entry unvoted\"><div class=\"top-matter\"><p class=\"title\"><a class=\"title may-blank \" data-event-action=\"title\" href=\"/r/tifu/comments/gpthul/tifu_by_making_my_neighbor_think_i_beat_my_wife/\" tabindex=\"1\" >TIFU by making my neighbor think I beat my wife</a><span class=\"flairrichtext flaircolorlight linkflairlabel \" title=\"S\" style=\"background-color: #2b87f3; border-color: #2b87f3;\"><span>S</span></span>&#32;<span class=\"domain\">(<a href=\"/r/tifu/\">self.tifu</a>)</span></p><div class=\"expando-button collapsed hide-when-pinned selftext\"></div><p class=\"tagline \">submitted&#32;<time title=\"Sun May 24 17:20:26 2020 UTC\" datetime=\"2020-05-24T17:20:26+00:00\" class=\"live-timestamp\">9 hours ago</time>&#32;<time class=\"edited-timestamp\" title=\"last edited 6 hours ago\" datetime=\"2020-05-24T20:17:20+00:00\">*</time>&#32;by&#32;<a href=\"https://www.reddit.com/user/OutrageousShine8\" class=\"author may-blank id-t2_6hi4oife\" >OutrageousShine8</a><span class=\"userattrs\"></span>&#32;to&#32;<a href=\"https://www.reddit.com/r/tifu/\" class=\"subreddit hover may-blank\" >r/tifu</a><span class=\"awardings-bar\" data-subredditpath=\"/r/tifu/\" ><a class=\"awarding-link\" href=\"/r/tifu/gilded\" data-award-id=\"award_9663243a-e77f-44cf-abc6-850ead2cd18d\" data-count=\"1\" ><span class=\"awarding-icon-container\"><img class=\"awarding-icon\" src=\"https://www.redditstatic.com/gold/awards/icon/SnooClappingPremium_48.png\" /></span></a><a class=\"awarding-link\" href=\"/r/tifu/gilded\" data-award-id=\"gid_2\" data-count=\"1\" ><span class=\"awarding-icon-container\"><img class=\"awarding-icon\" src=\"https://www.redditstatic.com/gold/awards/icon/gold_48.png\" /></span></a><a class=\"awarding-link\" href=\"/r/tifu/gilded\" data-award-id=\"award_5f123e3d-4f48-42f4-9c11-e98b566d5897\" data-count=\"1\" ><span class=\"awarding-icon-container\"><img class=\"awarding-icon\" src=\"https://preview.redd.it/award_images/t5_22cerq/5izbv4fn0md41_Wholesome.png?width=48&amp;height=48&amp;auto=webp&amp;s=febdf28b6f39f7da7eb1365325b85e0bb49a9f63\" /></span></a><a class=\"awarding-link\" href=\"/r/tifu/gilded\" data-award-id=\"gid_1\" data-count=\"1\" ><span class=\"awarding-icon-container\"><img class=\"awarding-icon\" src=\"https://www.redditstatic.com/gold/awards/icon/silver_48.png\" /></span></a><a class=\"awarding-link hide-award\" href=\"/r/tifu/gilded\" data-award-id=\"award_ae89e420-c4a5-47b8-a007-5dacf1c0f0d4\" data-count=\"3\" ><span class=\"awarding-icon-container\"><img class=\"awarding-icon\" src=\"https://preview.redd.it/award_images/t5_22cerq/iq0sgwn5bzy41_LawyerUp.png?width=48&amp;height=48&amp;auto=webp&amp;s=28b8b7b9bea65dcd3292119e1550f8ed6f877473\" /></span>3</a><a class=\"awarding-link hide-award\" href=\"/r/tifu/gilded\" data-award-id=\"award_3cf96da4-79da-4127-90ac-84545e1833dc\" data-count=\"1\" ><span class=\"awarding-icon-container\"><img class=\"awarding-icon\" src=\"https://preview.redd.it/award_images/t5_22cerq/qh4pzo76v9p41_HomeTime.png?width=48&amp;height=48&amp;auto=webp&amp;s=3fb62803315450661c05e36da2b8d00ba06ad619\" /></span></a><a class=\"awarding-show-more-link\" href=\"/r/tifu/gilded\" >&amp; 4 more</a></span></p><ul class=\"flat-list buttons\"><li class=\"first\"><a href=\"https://www.reddit.com/r/tifu/comments/gpthul/tifu_by_making_my_neighbor_think_i_beat_my_wife/\" data-event-action=\"comments\" class=\"bylink comments may-blank\" rel=\"nofollow\" >1310 comments</a></li><li class=\"share\"><a class=\"post-sharing-button\" href=\"javascript: void 0;\">share</a></li><li class=\"link-save-button save-button login-required\"><a href=\"#\">save</a></li><li><form action=\"/post/hide\" method=\"post\" class=\"state-button hide-button\"><input type=\"hidden\" name=\"executed\" value=\"hidden\" /><span><a href=\"javascript:void(0)\" class=\" \" data-event-action=\"hide\" onclick=\"change_state(this, 'hide', hide_thing);\">hide</a></span></form></li><li class=\"report-button login-required\"><a href=\"javascript:void(0)\" class=\"reportbtn access-required\" data-event-action=\"report\">report</a></li></ul><div class=\"reportform report-t3_gpthul\"></div></div><div class=\"expando expando-uninitialized\" style='display: none' data-pin-condition=\"function() {return this.style.display != 'none';}\" ><span class=\"error\">loading...</span></div></div><div class=\"child\" ></div><div class=\"clearleft\"></div></div><div class=\"clearleft\"></div><div class=\" thing id-t3_gpxeqc even&#32; gilded link \" id=\"thing_t3_gpxeqc\" onclick=\"click_thing(this)\" data-fullname=\"t3_gpxeqc\" data-type=\"link\" data-gildings=\"1\" data-whitelist-status=\"some_ads\" data-author=\"MattloKei\" data-author-fullname=\"t2_5i65pesk\" data-subreddit=\"BlackPeopleTwitter\" data-subreddit-prefixed=\"r/BlackPeopleTwitter\" data-subreddit-fullname=\"t5_33x33\" data-subreddit-type=\"public\" data-timestamp=\"1590354351000\" data-url=\"https://i.redd.it/iz1mtjia2s051.png\" data-permalink=\"/r/BlackPeopleTwitter/comments/gpxeqc/spitting_facts/\" data-domain=\"i.redd.it\" data-rank=\"22\" data-comments-count=\"615\" data-score=\"33941\" data-promoted=\"false\" data-nsfw=\"false\" data-spoiler=\"false\" data-oc=\"false\" data-num-crossposts=\"5\" data-context=\"listing\" ><p class=\"parent\"></p><span class=\"rank\">22</span><div class=\"midcol unvoted\" ><div class=\"arrow up login-required access-required\" data-event-action=\"upvote\" role=\"button\" aria-label=\"upvote\" tabindex=\"0\" ></div><div class=\"score dislikes\" title=\"36128\">36.1k</div><div class=\"score unvoted\" title=\"36129\">36.1k</div><div class=\"score likes\" title=\"36130\">36.1k</div><div class=\"arrow down login-required access-required\" data-event-action=\"downvote\" role=\"button\" aria-label=\"downvote\" tabindex=\"0\" ></div></div><a class=\"thumbnail invisible-when-pinned may-blank \" data-event-action=\"thumbnail\" href=\"/r/BlackPeopleTwitter/comments/gpxeqc/spitting_facts/\" ><img src=\"//b.thumbs.redditmedia.com/rspnTK2k1YksBxWIgAjK8cwTtSY7ecJH-QlQijzGJqY.jpg\" width='70' height='70' alt=\"\"></a><div class=\"entry unvoted\"><div class=\"top-matter\"><p class=\"title\"><a class=\"title may-blank \" data-event-action=\"title\" href=\"/r/BlackPeopleTwitter/comments/gpxeqc/spitting_facts/\" tabindex=\"1\" >spitting facts</a>&#32;<span class=\"domain\">(<a href=\"/domain/i.redd.it/\">i.redd.it</a>)</span></p><div class=\"expando-button collapsed hide-when-pinned video\"></div><p class=\"tagline \">submitted&#32;<time title=\"Sun May 24 21:05:51 2020 UTC\" datetime=\"2020-05-24T21:05:51+00:00\" class=\"live-timestamp\">5 hours ago</time>&#32;by&#32;<a href=\"https://www.reddit.com/user/MattloKei\" class=\"author may-blank id-t2_5i65pesk\" >MattloKei</a><span class=\"userattrs\"></span>&#32;to&#32;<a href=\"https://www.reddit.com/r/BlackPeopleTwitter/\" class=\"subreddit hover may-blank\" >r/BlackPeopleTwitter</a><span class=\"awardings-bar\" data-subredditpath=\"/r/BlackPeopleTwitter/\" ><a class=\"awarding-link\" href=\"/r/BlackPeopleTwitter/gilded\" data-award-id=\"award_a7a04d6a-8dd8-41bb-b906-04fa8f144014\" data-count=\"1\" ><span class=\"awarding-icon-container\"><img class=\"awarding-icon\" src=\"https://preview.redd.it/award_images/t5_22cerq/hwnbr9l67s941_MadeMeSmile.png?width=48&amp;height=48&amp;auto=webp&amp;s=836ada1c8a8a37b0bc7ce84a6d08047ed22c50bc\" /></span></a><a class=\"awarding-link\" href=\"/r/BlackPeopleTwitter/gilded\" data-award-id=\"award_2ae56630-cfe0-424e-b810-4945b9145358\" data-count=\"1\" ><span class=\"awarding-icon-container\"><img class=\"awarding-icon\" src=\"https://preview.redd.it/award_images/t5_22cerq/trz28na8ajz31_Helpful.png?width=48&amp;height=48&amp;auto=webp&amp;s=a414be7b8a7820efe5bd8909eb9d80a27a9a901e\" /></span></a><a class=\"awarding-link\" href=\"/r/BlackPeopleTwitter/gilded\" data-award-id=\"gid_2\" data-count=\"1\" ><span class=\"awarding-icon-container\"><img class=\"awarding-icon\" src=\"https://www.redditstatic.com/gold/awards/icon/gold_48.png\" /></span></a><a class=\"awarding-link\" href=\"/r/BlackPeopleTwitter/gilded\" data-award-id=\"award_68ba1ee3-9baf-4252-be52-b808c1e8bdc4\" data-count=\"1\" ><span class=\"awarding-icon-container\"><img class=\"awarding-icon\" src=\"https://preview.redd.it/award_images/t5_22cerq/vu6om0xnb7e41_This.png?width=48&amp;height=48&amp;auto=webp&amp;s=597adeb2d7ab45cc61a726b7c7d6877d264ee33d\" /></span></a><a class=\"awarding-link hide-award\" href=\"/r/BlackPeopleTwitter/gilded\" data-award-id=\"award_a3c1ccbb-45ed-44d4-bc46-2cd29e512ac9\" data-count=\"1\" ><span class=\"awarding-icon-container\"><img class=\"awarding-icon\" src=\"https://preview.redd.it/award_images/t5_22cerq/trfyx0qv67g41_SuperHeartEyes.png?width=48&amp;height=48&amp;auto=webp&amp;s=fa34c1777ec2194aeef3fe290e23fd1fa91416a9\" /></span></a><a class=\"awarding-link hide-award\" href=\"/r/BlackPeopleTwitter/gilded\" data-award-id=\"award_ce5f9ce6-49d9-4905-9228-22950e889206\" data-count=\"1\" ><span class=\"awarding-icon-container\"><img class=\"awarding-icon\" src=\"https://preview.redd.it/award_images/t5_22cerq/5smbysczm1w41_Hugz.png?width=48&amp;height=48&amp;auto=webp&amp;s=ebf40f79a711e9c4206f5f841235e43697f7a3f5\" /></span></a><a class=\"awarding-show-more-link\" href=\"/r/BlackPeopleTwitter/gilded\" >&amp; 2 more</a></span></p><ul class=\"flat-list buttons\"><li class=\"first\"><a href=\"https://www.reddit.com/r/BlackPeopleTwitter/comments/gpxeqc/spitting_facts/\" data-event-action=\"comments\" class=\"bylink comments may-blank\" rel=\"nofollow\" >661 comments</a></li><li class=\"share\"><a class=\"post-sharing-button\" href=\"javascript: void 0;\">share</a></li><li class=\"link-save-button save-button login-required\"><a href=\"#\">save</a></li><li><form action=\"/post/hide\" method=\"post\" class=\"state-button hide-button\"><input type=\"hidden\" name=\"executed\" value=\"hidden\" /><span><a href=\"javascript:void(0)\" class=\" \" data-event-action=\"hide\" onclick=\"change_state(this, 'hide', hide_thing);\">hide</a></span></form></li><li class=\"report-button login-required\"><a href=\"javascript:void(0)\" class=\"reportbtn access-required\" data-event-action=\"report\">report</a></li></ul><div class=\"reportform report-t3_gpxeqc\"></div></div><div class=\"expando expando-uninitialized\" style='display: none' data-cachedhtml=\" &lt;div class=&quot;media-preview&quot; id=&quot;media-preview-gpxeqc&quot; style=&quot;max-width: 758px&quot;&gt; &lt;div class=&quot;media-preview-content&quot;&gt; &lt;a href=&quot;https://i.redd.it/iz1mtjia2s051.png&quot; class=&quot;may-blank&quot;&gt; &lt;img class=&quot;preview&quot; src=&quot;https://preview.redd.it/iz1mtjia2s051.png?width=758&amp;amp;auto=webp&amp;amp;s=590f50b9e88d5b3d90cc7ea042d5c8ff322eba24&quot; width=&quot;758&quot; height=&quot;768&quot;&gt; &lt;/a&gt; &lt;/div&gt; &lt;/div&gt; \" data-pin-condition=\"function() {return this.style.display != 'none';}\" ><span class=\"error\">loading...</span></div></div><div class=\"child\" ></div><div class=\"clearleft\"></div></div><div class=\"clearleft\"></div><div class=\" thing id-t3_gpm4ry odd&#32; link \" id=\"thing_t3_gpm4ry\" onclick=\"click_thing(this)\" data-fullname=\"t3_gpm4ry\" data-type=\"link\" data-gildings=\"0\" data-whitelist-status=\"all_ads\" data-author=\"pokec123\" data-author-fullname=\"t2_14npiq93\" data-kind='video' data-subreddit=\"iamatotalpieceofshit\" data-subreddit-prefixed=\"r/iamatotalpieceofshit\" data-subreddit-fullname=\"t5_3jj03\" data-subreddit-type=\"public\" data-timestamp=\"1590308806000\" data-url=\"https://v.redd.it/wydeb651bo051\" data-permalink=\"/r/iamatotalpieceofshit/comments/gpm4ry/hong_kong_police_think_theyre_obligated_to_take/\" data-domain=\"v.redd.it\" data-rank=\"23\" data-comments-count=\"1426\" data-score=\"50120\" data-promoted=\"false\" data-nsfw=\"false\" data-spoiler=\"false\" data-oc=\"false\" data-num-crossposts=\"5\" data-context=\"listing\" ><p class=\"parent\"></p><span class=\"rank\">23</span><div class=\"midcol unvoted\" ><div class=\"arrow up login-required access-required\" data-event-action=\"upvote\" role=\"button\" aria-label=\"upvote\" tabindex=\"0\" ></div><div class=\"score dislikes\" title=\"51404\">51.4k</div><div class=\"score unvoted\" title=\"51405\">51.4k</div><div class=\"score likes\" title=\"51406\">51.4k</div><div class=\"arrow down login-required access-required\" data-event-action=\"downvote\" role=\"button\" aria-label=\"downvote\" tabindex=\"0\" ></div></div><a class=\"thumbnail invisible-when-pinned may-blank \" data-event-action=\"thumbnail\" href=\"/r/iamatotalpieceofshit/comments/gpm4ry/hong_kong_police_think_theyre_obligated_to_take/\" ><img src=\"//b.thumbs.redditmedia.com/eNA4yYLCFyQp7Sb2svwE7lziDe6x_naOZ11I_VZcI2E.jpg\" width='70' height='70' alt=\"\"><div class=\"duration-overlay\">1:14</div></a><div class=\"entry unvoted\"><div class=\"top-matter\"><p class=\"title\"><a class=\"title may-blank \" data-event-action=\"title\" href=\"/r/iamatotalpieceofshit/comments/gpm4ry/hong_kong_police_think_theyre_obligated_to_take/\" tabindex=\"1\" >Hong Kong police think they're obligated to take drink for free</a>&#32;<span class=\"domain\">(<a href=\"/domain/v.redd.it/\">v.redd.it</a>)</span></p><div class=\"expando-button collapsed hide-when-pinned video\"></div><p class=\"tagline \">submitted&#32;<time title=\"Sun May 24 08:26:46 2020 UTC\" datetime=\"2020-05-24T08:26:46+00:00\" class=\"live-timestamp\">17 hours ago</time>&#32;by&#32;<a href=\"https://www.reddit.com/user/pokec123\" class=\"author may-blank id-t2_14npiq93\" >pokec123</a><span class=\"userattrs\"></span>&#32;to&#32;<a href=\"https://www.reddit.com/r/iamatotalpieceofshit/\" class=\"subreddit hover may-blank\" >r/iamatotalpieceofshit</a><span class=\"awardings-bar\" data-subredditpath=\"/r/iamatotalpieceofshit/\" ><a class=\"awarding-link\" href=\"/r/iamatotalpieceofshit/gilded\" data-award-id=\"award_5f123e3d-4f48-42f4-9c11-e98b566d5897\" data-count=\"1\" ><span class=\"awarding-icon-container\"><img class=\"awarding-icon\" src=\"https://preview.redd.it/award_images/t5_22cerq/5izbv4fn0md41_Wholesome.png?width=48&amp;height=48&amp;auto=webp&amp;s=febdf28b6f39f7da7eb1365325b85e0bb49a9f63\" /></span></a><a class=\"awarding-link\" href=\"/r/iamatotalpieceofshit/gilded\" data-award-id=\"award_ae89e420-c4a5-47b8-a007-5dacf1c0f0d4\" data-count=\"1\" ><span class=\"awarding-icon-container\"><img class=\"awarding-icon\" src=\"https://preview.redd.it/award_images/t5_22cerq/iq0sgwn5bzy41_LawyerUp.png?width=48&amp;height=48&amp;auto=webp&amp;s=28b8b7b9bea65dcd3292119e1550f8ed6f877473\" /></span></a><a class=\"awarding-link\" href=\"/r/iamatotalpieceofshit/gilded\" data-award-id=\"award_4769bf02-32f3-480d-81d7-88b2f630d9cd\" data-count=\"1\" ><span class=\"awarding-icon-container\"><img class=\"awarding-icon\" src=\"https://preview.redd.it/award_images/t5_22cerq/968ez2gen2s41_Yikes.png?width=48&amp;height=48&amp;auto=webp&amp;s=74bec9f01940afcaec87d700fbc4d1cc28aa8fb8\" /></span></a><a class=\"awarding-link\" href=\"/r/iamatotalpieceofshit/gilded\" data-award-id=\"award_b1b44fa1-8179-4d84-a9ed-f25bb81f1c5f\" data-count=\"1\" ><span class=\"awarding-icon-container\"><img class=\"awarding-icon\" src=\"https://preview.redd.it/award_images/t5_22cerq/ey2iodron2s41_Facepalm.png?width=48&amp;height=48&amp;auto=webp&amp;s=3971718e2c95e4869756cbdbe9e996719ed2dcc2\" /></span></a><a class=\"awarding-link\" href=\"/r/iamatotalpieceofshit/gilded\" data-award-id=\"award_cc091963-e271-45aa-ba23-b5150e565520\" data-count=\"1\" ><span class=\"awarding-icon-container\"><img class=\"awarding-icon\" src=\"https://preview.redd.it/award_images/t5_22cerq/qq73pijkm3p41_SafeSocial.png?width=48&amp;height=48&amp;auto=webp&amp;s=85098196df26658027c56256f4f1af30f64d2814\" /></span></a></span></p><ul class=\"flat-list buttons\"><li class=\"first\"><a href=\"https://www.reddit.com/r/iamatotalpieceofshit/comments/gpm4ry/hong_kong_police_think_theyre_obligated_to_take/\" data-event-action=\"comments\" class=\"bylink comments may-blank\" rel=\"nofollow\" >1465 comments</a></li><li class=\"share\"><a class=\"post-sharing-button\" href=\"javascript: void 0;\">share</a></li><li class=\"link-save-button save-button login-required\"><a href=\"#\">save</a></li><li><form action=\"/post/hide\" method=\"post\" class=\"state-button hide-button\"><input type=\"hidden\" name=\"executed\" value=\"hidden\" /><span><a href=\"javascript:void(0)\" class=\" \" data-event-action=\"hide\" onclick=\"change_state(this, 'hide', hide_thing);\">hide</a></span></form></li><li class=\"report-button login-required\"><a href=\"javascript:void(0)\" class=\"reportbtn access-required\" data-event-action=\"report\">report</a></li></ul><div class=\"reportform report-t3_gpm4ry\"></div></div><div class=\"expando expando-uninitialized\" style='display: none' data-cachedhtml=\" &lt;div class=&quot;media-preview no-constraints-when-pinned&quot; id=&quot;media-preview-gpm4ry&quot; style=&quot;max-width: 486px; min-width: 486px; max-height: 486px; min-height: 273px; overflow: hidden;&quot; &gt; &lt;div class=&quot;media-preview-content video-player&quot;&gt; &lt;div class=&quot;no-constraints-when-pinned&quot; style=&quot;max-width: 486px; min-width: 486px; max-height: 486px; min-height: 273px&quot; &gt; &lt;div id=&quot;video-gpm4ry&quot; class=&quot;portrait&quot; data-hls-url=&quot;https://v.redd.it/wydeb651bo051/HLSPlaylist.m3u8?a=1592963376%2CZmRkMzMxMGFkZjU3MmFkZDMwNTRlNmMxNzk5Njc3NWMxNjNlM2M5NzRiOTcwYzdmZWM4N2QwMjM3NmRjNTFkMA%3D%3D&amp;amp;v=v1&amp;amp;f=sd&quot; data-id-36=&quot;gpm4ry&quot; data-link-url=&quot;/r/iamatotalpieceofshit/comments/gpm4ry/hong_kong_police_think_theyre_obligated_to_take/&quot; data-mpd-url=&quot;https://v.redd.it/wydeb651bo051/DASHPlaylist.mpd?a=1592963376%2CZmRkMzMxMGFkZjU3MmFkZDMwNTRlNmMxNzk5Njc3NWMxNjNlM2M5NzRiOTcwYzdmZWM4N2QwMjM3NmRjNTFkMA%3D%3D&amp;amp;v=v1&amp;amp;f=sd&quot; data-obfuscated-poster-url=&quot;&quot; data-orientation=&quot;portrait&quot; data-seek-preview-url=&quot;https://v.redd.it/wydeb651bo051/DASH_96&quot; data-video-height=&quot;486&quot; data-video-width=&quot;486&quot; data-pinned-height=&quot;135&quot; data-pinned-width=&quot;135&quot; data-max-pinned-width=&quot;240&quot; data-is-gif=&quot;false&quot; &gt;&lt;/div&gt; &lt;script type=&quot;text/javascript&quot;&gt; (function() { var thing = {&quot;obfuscatedPosterUrl&quot;: null, &quot;context&quot;: &quot;listing&quot;, &quot;isGif&quot;: false}; var autoplay = true; if (thing.obfuscatedPosterUrl){ autoplay = false; } if (r.config &amp;&amp; !r.config.pref_video_autoplay &amp;&amp; thing.context === &quot;comments&quot;) { autoplay = false; } var play_pause_click_action = autoplay ? &quot;pause&quot; : &quot;play&quot;; var play_pause_click_toggle_action = autoplay ? &quot;play&quot; : &quot;pause&quot;; var play_pause_vector_from = autoplay ? &quot;m5,5l15,7.5l0,15l-15,7.5l0,-30m15,7.5l15,7.5l0,0l-15,7.5l0,-15&quot; : &quot;m5,5l12,0l0,30l-12,0l0,-30m18,0l12,0l0,30l-12,0l0,-30&quot;; var play_pause_vector_to = autoplay ? &quot;m5,5l12,0l0,30l-12,0l0,-30m18,0l12,0l0,30l-12,0l0,-30&quot; : &quot;m5,5l15,7.5l0,15l-15,7.5l0,-30m15,7.5l15,7.5l0,0l-15,7.5l0,-15&quot;; var videoPlayerElement = $(&quot;#video-gpm4ry&quot;); var isMobile = r.utils.isMobile(); var canPlayDash = (typeof (window.MediaSource || window.WebKitMediaSource) === &quot;function&quot;); var videoOptions = { id: videoPlayerElement.data(&quot;id36&quot;), linkUrl: videoPlayerElement.data(&quot;linkUrl&quot;), src: canPlayDash ? videoPlayerElement.data(&quot;mpdUrl&quot;) : videoPlayerElement.data(&quot;hlsUrl&quot;), type: canPlayDash ? RedditVideoPlayer.Types.MPD : RedditVideoPlayer.Types.HLS, autoplay: autoplay, poster: null, loop: false, orientation: videoPlayerElement.data(&quot;orientation&quot;), }; if (isMobile) { videoOptions.enableStorage = false; videoOptions.uiControls = false; if (thing.isGif) { videoOptions.clickAction = RedditVideoPlayer.ClickActions.NONE; } else { videoOptions.controls = true; } } var redditVideoPlayer = new RedditVideoPlayer(videoPlayerElement, videoOptions); videoPlayerElement.data(&quot;video-player-object&quot;, redditVideoPlayer); redditVideoPlayer.setAspectRatio(videoPlayerElement.data(&quot;videoHeight&quot;) / videoPlayerElement.data(&quot;videoWidth&quot;)); if (!isMobile) { var bufferingControlsTree = $.parseHTML( '&lt;div class=&quot;buffering-controls&quot;&gt;' + '&lt;div class=&quot;centered horizontal&quot;&gt;' + '&lt;div class=&quot;buffering-indicator active&quot;&gt;' + '&lt;div class=&quot;spinner-layer&quot;&gt;' + '&lt;div class=&quot;circle-clipper left&quot;&gt;' + '&lt;div class=&quot;circle&quot;&gt;&lt;/div&gt;' + '&lt;/div&gt;' + '&lt;div class=&quot;gap-patch&quot;&gt;' + '&lt;div class=&quot;circle&quot;&gt;&lt;/div&gt;' + '&lt;/div&gt;' + '&lt;div class=&quot;circle-clipper right&quot;&gt;' + '&lt;div class=&quot;circle&quot;&gt;&lt;/div&gt;' + '&lt;/div&gt;' + '&lt;/div&gt;' + '&lt;/div&gt;' + '&lt;/div&gt;' + '&lt;/div&gt;' ); var bufferingControlsOptions = { behavior: RedditVideoController.Behaviors.BUFFERING, startVisible: false, fadeInDuration: 0, fadeOutDuration: 0, }; var bufferingControls = new RedditVideoController(bufferingControlsTree, bufferingControlsOptions); redditVideoPlayer.addUiController(bufferingControls); var endedControlsTree = $.parseHTML( '&lt;div class=&quot;ended-controls hide-when-pinned&quot;&gt;' + '&lt;div class=&quot;centered vertical&quot;&gt;' + '&lt;button data-control-type=&quot;click&quot; data-action=&quot;replay&quot;&gt;' + '&lt;img src=&quot;//www.redditstatic.com/video-refresh.svg&quot; &gt;' + '&lt;/button&gt;' + '&lt;span class=&quot;replay-video&quot;&gt;Replay Video&lt;/span&gt;' + '&lt;/div&gt;' + '&lt;/div&gt;' ); var endedControlsOptions = { behavior: RedditVideoController.Behaviors.COMPLETED, startVisible: false, fadeInDuration: 400, fadeOutDuration: 0, }; var endedControls = new RedditVideoController(endedControlsTree, endedControlsOptions); redditVideoPlayer.addUiController(endedControls); var playbackControlsTree = $.parseHTML( '&lt;div class=&quot;playback-controls right bottom left hide-when-pinned&quot;&gt;' + '&lt;a class=&quot;control-button permalink&quot; ' + 'tooltip-string=&quot;View post on Reddit&quot;' + 'data-control-type=&quot;click&quot; ' + 'href=&quot;/r/iamatotalpieceofshit/comments/gpm4ry/hong_kong_police_think_theyre_obligated_to_take/&quot;&gt;' + '&lt;img src=&quot;//www.redditstatic.com/video-snoo.svg&quot; /&gt;' + '&lt;/a&gt;' + '&lt;button ' + 'class=&quot;control-button play-pause&quot; ' + 'tooltip-string=&quot;Pause&quot;' + 'tooltip-string-toggle=&quot;Play&quot; ' + 'data-control-type=&quot;click&quot; ' + 'data-action=&quot;' + play_pause_click_action + '&quot; ' + 'data-toggle-action=&quot;' + play_pause_click_toggle_action + '&quot;&gt;' + '&lt;svg class=&quot;play-pause&quot; viewbox=&quot;0 0 40 40&quot;&gt;' + '&lt;path d=&quot;' + play_pause_vector_to + '&quot;&gt;' + '&lt;animate ' + 'begin=&quot;indefinite&quot; ' + 'attributeType=&quot;XML&quot; ' + 'attributeName=&quot;d&quot; ' + 'fill=&quot;freeze&quot; ' + 'to=&quot;' + play_pause_vector_to + '&quot; ' + 'from=&quot;' + play_pause_vector_from + '&quot; ' + 'dur=&quot;0.1s&quot; ' + 'keySplines=&quot;.4 0 1 1&quot; ' + 'repeat=&quot;1&quot;&gt;' + '&lt;/animate&gt;' + '&lt;/path&gt;' + '&lt;/svg&gt;' + '&lt;/button&gt;' + '&lt;span class=&quot;time-label&quot; ' + 'data-control-type=&quot;text&quot; ' + 'data-action=&quot;elapsedTime&quot;&gt;' + '0:00' + '&lt;/span&gt;' + '&lt;div data-control-type=&quot;seekBar&quot; ' + 'data-preview-video-src=&quot;' + videoPlayerElement.data('seekPreviewUrl') + '&quot;&gt;' + '&lt;/div&gt;' + '&lt;span class=&quot;time-label&quot; ' + 'data-control-type=&quot;text&quot; ' + 'data-action=&quot;totalTime&quot;&gt;' + '0:00' + '&lt;/span&gt;' + '&lt;div class=&quot;control-button volume-container&quot;&gt;' + '&lt;div data-control-type=&quot;volumeSlider&quot;&gt;&lt;/div&gt;' + '&lt;button class=&quot;volume&quot; data-control-type=&quot;click&quot; data-action=&quot;unmute&quot; data-toggle-action=&quot;mute&quot;&gt;' + '&lt;img class=&quot;mute&quot; src=&quot;//www.redditstatic.com/video-volume.svg&quot;&gt;' + '&lt;img class=&quot;unmute&quot; src=&quot;//www.redditstatic.com/video-mute.svg&quot;&gt;' + '&lt;/button&gt;' + '&lt;/div&gt;' + '&lt;div class=&quot;control-button settings-container&quot; ' + 'tooltip-string=&quot;Settings&quot;&gt;' + '&lt;label class=&quot;settings has-submenu&quot; data-control-type=&quot;click&quot;&gt;' + '&lt;input class=&quot;settings&quot; type=&quot;checkbox&quot;&gt;' + '&lt;img class=&quot;settings-open&quot; src=&quot;//www.redditstatic.com/video-settings.svg&quot;&gt;' + '&lt;img class=&quot;settings-close&quot; src=&quot;//www.redditstatic.com/video-settings-open.svg&quot;&gt;' + '&lt;span class=&quot;submenu&quot;&gt;' + '&lt;div data-control-type=&quot;settingsMenu&quot;&gt;&lt;/div&gt;' + '&lt;/span&gt;' + '&lt;/label&gt;' + '&lt;/div&gt;' + '&lt;button class=&quot;control-button fullscreen&quot; ' + 'tooltip-string=&quot;Fullscreen&quot;' + 'tooltip-string-toggle=&quot;Exit Fullscreen&quot; ' + 'data-control-type=&quot;click&quot; ' + 'data-action=&quot;fullscreenRequest&quot; ' + 'data-toggle-action=&quot;fullscreenCancel&quot;&gt;' + '&lt;img class=&quot;expand&quot; src=&quot;//www.redditstatic.com/video-expand.svg&quot;&gt;' + '&lt;img class=&quot;collapse&quot; src=&quot;//www.redditstatic.com/video-collapse.svg&quot;&gt;' + '&lt;/button&gt;' + '&lt;/div&gt;' ); var playbackControlsOptions = { behavior: RedditVideoController.Behaviors.MOUSE_MOVE, }; var playbackControls = new RedditVideoController(playbackControlsTree, playbackControlsOptions); redditVideoPlayer.addUiController(playbackControls); if (r.config &amp;&amp; !r.config.pref_video_autoplay &amp;&amp; thing.context === &quot;comments&quot;) { var interstitialControlsTree = $.parseHTML( '&lt;div class=&quot;interstitial-controls hide-when-pinned&quot;&gt;' + '&lt;div class=&quot;centered vertical&quot;&gt;' + '&lt;button data-control-type=&quot;click&quot; data-action=&quot;play&quot;&gt;' + '&lt;svg class=&quot;play-pause&quot; viewbox=&quot;0 0 36 36&quot;&gt;' + '&lt;path d=&quot;m5,5l15,7.5l0,15l-15,7.5l0,-30m15,7.5l15,7.5l0,0l-15,7.5l0,-15&quot;&gt;&lt;/path&gt;' + '&lt;/svg&gt;' + '&lt;/button&gt;' + '&lt;/div&gt;' + '&lt;/div&gt;' ); var interstitialControlsOptions = { behavior: RedditVideoController.Behaviors.INTERSTITIAL, startVisible: true, fadeInDuration: 0, fadeOutDuration: 400, }; var interstitialControls = new RedditVideoController(interstitialControlsTree, interstitialControlsOptions); redditVideoPlayer.addUiController(interstitialControls); } $(playbackControlsTree).find('input.settings').change(function() { if ($(this).is(':checked')) { firePlayerEvent.call(redditVideoPlayer, null, null, {verb: 'click', noun: 'settings'}); redditVideoPlayer.setClickAction(RedditVideoPlayer.ClickActions.NONE); } else { redditVideoPlayer.setClickAction(RedditVideoPlayer.ClickActions.PLAY_PAUSE); } }); } if (isMobile &amp;&amp; thing.isGif) { $(videoPlayerElement).find(&quot;video&quot;).bind(&quot;webkitendfullscreen&quot;, function() { this.play(); }); redditVideoPlayer.mute(); } $(document.body).on(&quot;interstitial:destroy&quot;, function(event) { if (&quot;t3_gpm4ry&quot; == event.expando.id) { redditVideoPlayer.play(); } }); var parent = $(&quot;#media-preview-gpm4ry&quot;).parent(); var hadInterstitial = parent.hasClass(&quot;expando&quot;) &amp;&amp; !(parent.hasClass(&quot;expando--with-interstitial&quot;)) &amp;&amp; !(parent.hasClass(&quot;expando-uninitialized&quot;)) &amp;&amp; &quot;&quot; != &quot;&quot;; if (hadInterstitial &amp;&amp; !isMobile) { $(videoPlayerElement).find(&quot;video&quot;)[0].addEventListener(&quot;canplay&quot;, function() { redditVideoPlayer.play(); }) } var playPauseButtons = $(videoPlayerElement).find(&quot;button.play-pause&quot;); var isPlaying = autoplay; redditVideoPlayer.addActionCompletedCallback(function(action, value) { if ((action == RedditVideoPlayer.Actions.PLAY &amp;&amp; !isPlaying) || (action == RedditVideoPlayer.Actions.PAUSE &amp;&amp; isPlaying)) { playPauseButtons.each(function() { var animation = $(this).find('animate').first(); var to = animation.attr('to'); var from = animation.attr('from'); animation.attr({ &quot;from&quot;: to, &quot;to&quot;: from }); if ('beginElement' in animation[0]) { animation.get(0) .beginElement(); } else { var path = $(this).find('path'); path.attr({&quot;d&quot;: from}); } }); isPlaying = !isPlaying; } else if (action == RedditVideoPlayer.Actions.NONE &amp;&amp; thing.isGif &amp;&amp; isMobile) { redditVideoPlayer.toggleFullScreen(); return; } var settings = $(playbackControlsTree).find(&quot;input.settings&quot;); if (settings.prop(&quot;checked&quot;)) { settings.prop(&quot;checked&quot;, false); redditVideoPlayer.setClickAction(RedditVideoPlayer.ClickActions.PLAY_PAUSE); } }); var postElement = videoPlayerElement.closest('.thing.link')[0]; var mediaPreviewElement = $(&quot;#media-preview-gpm4ry&quot;)[0]; r.analytics.observeAdVideoPlayer(postElement, mediaPreviewElement); redditVideoPlayer.addActionCompletedCallback(function(action, value) { var actions = [ RedditVideoPlayer.Actions.BUFFERING, RedditVideoPlayer.Actions.PAUSE, RedditVideoPlayer.Actions.PLAY, RedditVideoPlayer.Actions.SEEK_JUMP, RedditVideoPlayer.Actions.SET_CURRENT_TIME, RedditVideoPlayer.Actions.FULLSCREEN_REQUEST, RedditVideoPlayer.Actions.UNMUTE, RedditVideoPlayer.Actions.MUTE, ]; if (actions.indexOf(action) &gt; -1) { var targetElement = $(this.root).closest('.thing.link'); var playerData = { muted: redditVideoPlayer.muted, volume: redditVideoPlayer.volume, duration: redditVideoPlayer.duration, }; r.analytics.handleVideoAdEvent(action, value, playerData, targetElement); } }); var lastTime = 0; var elapsedTime = 0; redditVideoPlayer.addTimeUpdateHandler(function(time, duration) { var targetElement = $(this.root).closest('.thing.link'); var INTERVAL = 0.5; var timeDiff = time - lastTime; lastTime = time; if (timeDiff &gt; 0 &amp;&amp; timeDiff &lt; INTERVAL) { elapsedTime += timeDiff; r.analytics.handleVideoTimeUpdate(elapsedTime, duration, targetElement); } }); function firePlayerEvent(action, value, extras) { extras = (typeof extras === 'object') ? extras : {}; var verb = extras.verb || ''; var noun = extras.noun || ''; var source = extras.source || 'videoplayer'; var maxTimestamp = this.maxPlayed * 1000; var durationMs = this.duration * 1000; var timeMs = this.currentTime * 1000; var pinnableElement = $(this.root).closest('.pinnable-content'); var targetElement = $(this.root).closest('.thing.link'); var targetData = targetElement.data(); var videoState = { maxTimestampServed: parseInt(maxTimestamp), percentServed: maxTimestamp / durationMs, duration: parseInt(durationMs), time: parseInt(timeMs), isNsfw: targetElement.hasClass('over18'), isSpoiler: targetElement.hasClass('spoiler'), isPinned: pinnableElement.hasClass('pinned'), isVertical: this.orientation === RedditVideoPlayer.Orientations.PORTRAIT, firstFrameTime: this.firstFrameTime, loadStartTime: this.loadStartTime, }; r.analytics.videoPlayerEvent(source, verb, noun, targetData, videoState); } redditVideoPlayer.addActionCompletedCallback(firePlayerEvent); $(playbackControlsTree).find('a.permalink').click(function() { firePlayerEvent.call(redditVideoPlayer, null, null, {verb: 'click', noun: 'snoo'}); }); })(); &lt;/script&gt; &lt;/div&gt; &lt;/div&gt; &lt;/div&gt; \" data-pin-condition=\"function() {return this.style.display != 'none';}\" ><span class=\"error\">loading...</span></div></div><div class=\"child\" ></div><div class=\"clearleft\"></div></div><div class=\"clearleft\"></div><div class=\" thing id-t3_gppncl linkflair linkflair-generaldiscussion even&#32; gilded link self\" id=\"thing_t3_gppncl\" onclick=\"click_thing(this)\" data-fullname=\"t3_gppncl\" data-type=\"link\" data-gildings=\"1\" data-whitelist-status=\"all_ads\" data-author=\"ScionN7\" data-author-fullname=\"t2_wjdmd\" data-subreddit=\"StarWars\" data-subreddit-prefixed=\"r/StarWars\" data-subreddit-fullname=\"t5_2qi4s\" data-subreddit-type=\"public\" data-timestamp=\"1590326743000\" data-url=\"/r/StarWars/comments/gppncl/finn_should_have_been_the_hero_of_the_sequel/\" data-permalink=\"/r/StarWars/comments/gppncl/finn_should_have_been_the_hero_of_the_sequel/\" data-domain=\"self.StarWars\" data-rank=\"24\" data-comments-count=\"1298\" data-score=\"17656\" data-promoted=\"false\" data-nsfw=\"false\" data-spoiler=\"false\" data-oc=\"false\" data-num-crossposts=\"3\" data-context=\"listing\" ><p class=\"parent\"></p><span class=\"rank\">24</span><div class=\"midcol unvoted\" ><div class=\"arrow up login-required access-required\" data-event-action=\"upvote\" role=\"button\" aria-label=\"upvote\" tabindex=\"0\" ></div><div class=\"score dislikes\" title=\"18714\">18.7k</div><div class=\"score unvoted\" title=\"18715\">18.7k</div><div class=\"score likes\" title=\"18716\">18.7k</div><div class=\"arrow down login-required access-required\" data-event-action=\"downvote\" role=\"button\" aria-label=\"downvote\" tabindex=\"0\" ></div></div><a class=\"thumbnail invisible-when-pinned self may-blank \" data-event-action=\"thumbnail\" href=\"/r/StarWars/comments/gppncl/finn_should_have_been_the_hero_of_the_sequel/\" ></a><div class=\"entry unvoted\"><div class=\"top-matter\"><p class=\"title\"><a class=\"title may-blank \" data-event-action=\"title\" href=\"/r/StarWars/comments/gppncl/finn_should_have_been_the_hero_of_the_sequel/\" tabindex=\"1\" >Finn should have been the hero of the Sequel Trilogy, not Rey.</a><span class=\"linkflairlabel \" title=\"General Discussion\">General Discussion</span>&#32;<span class=\"domain\">(<a href=\"/r/StarWars/\">self.StarWars</a>)</span></p><div class=\"expando-button collapsed hide-when-pinned selftext\"></div><p class=\"tagline \">submitted&#32;<time title=\"Sun May 24 13:25:43 2020 UTC\" datetime=\"2020-05-24T13:25:43+00:00\" class=\"live-timestamp\">12 hours ago</time>&#32;<time class=\"edited-timestamp\" title=\"last edited 3 hours ago\" datetime=\"2020-05-24T23:10:59+00:00\">*</time>&#32;by&#32;<a href=\"https://www.reddit.com/user/ScionN7\" class=\"author may-blank id-t2_wjdmd\" >ScionN7</a><span class=\"userattrs\"></span>&#32;to&#32;<a href=\"https://www.reddit.com/r/StarWars/\" class=\"subreddit hover may-blank\" >r/StarWars</a><span class=\"awardings-bar\" data-subredditpath=\"/r/StarWars/\" ><a class=\"awarding-link\" href=\"/r/StarWars/gilded\" data-award-id=\"gid_3\" data-count=\"1\" ><span class=\"awarding-icon-container\"><img class=\"awarding-icon\" src=\"https://www.redditstatic.com/gold/awards/icon/platinum_48.png\" /></span></a><a class=\"awarding-link\" href=\"/r/StarWars/gilded\" data-award-id=\"gid_2\" data-count=\"1\" ><span class=\"awarding-icon-container\"><img class=\"awarding-icon\" src=\"https://www.redditstatic.com/gold/awards/icon/gold_48.png\" /></span></a><a class=\"awarding-link\" href=\"/r/StarWars/gilded\" data-award-id=\"award_68ba1ee3-9baf-4252-be52-b808c1e8bdc4\" data-count=\"1\" ><span class=\"awarding-icon-container\"><img class=\"awarding-icon\" src=\"https://preview.redd.it/award_images/t5_22cerq/vu6om0xnb7e41_This.png?width=48&amp;height=48&amp;auto=webp&amp;s=597adeb2d7ab45cc61a726b7c7d6877d264ee33d\" /></span></a><a class=\"awarding-link\" href=\"/r/StarWars/gilded\" data-award-id=\"award_28e8196b-d4e9-45bc-b612-cd4c7d3ed4b3\" data-count=\"1\" ><span class=\"awarding-icon-container\"><img class=\"awarding-icon\" src=\"https://preview.redd.it/award_images/t5_22cerq/94pn64yuas941_RocketLike.png?width=48&amp;height=48&amp;auto=webp&amp;s=5b5211166e4b260311ad9f3ea31d3b815110769c\" /></span></a><a class=\"awarding-link hide-award\" href=\"/r/StarWars/gilded\" data-award-id=\"award_8dc476c7-1478-4d41-b940-f139e58f7756\" data-count=\"1\" ><span class=\"awarding-icon-container\"><img class=\"awarding-icon\" src=\"https://preview.redd.it/award_images/t5_22cerq/9avdcwgupta41_GottheW.png?width=48&amp;height=48&amp;auto=webp&amp;s=e55dc3f91e3cd2df99e6623e019f09a8341772bf\" /></span></a><a class=\"awarding-link hide-award\" href=\"/r/StarWars/gilded\" data-award-id=\"award_1703f934-cf44-40cc-a96d-3729d0b48262\" data-count=\"1\" ><span class=\"awarding-icon-container\"><img class=\"awarding-icon\" src=\"https://preview.redd.it/award_images/t5_22cerq/8ad2jffnclf41_Thanks.png?width=48&amp;height=48&amp;auto=webp&amp;s=4d85746d584b5494087da3561944d6d241f57674\" /></span></a><a class=\"awarding-link hide-award\" href=\"/r/StarWars/gilded\" data-award-id=\"award_77ba55a2-c33c-4351-ac49-807455a80148\" data-count=\"1\" ><span class=\"awarding-icon-container\"><img class=\"awarding-icon\" src=\"https://preview.redd.it/award_images/t5_22cerq/trfv6ems1md41_BlessUp.png?width=48&amp;height=48&amp;auto=webp&amp;s=c740f7ef642fd2042d62c2bcba98734d08dfae6c\" /></span></a><a class=\"awarding-link hide-award\" href=\"/r/StarWars/gilded\" data-award-id=\"gid_1\" data-count=\"1\" ><span class=\"awarding-icon-container\"><img class=\"awarding-icon\" src=\"https://www.redditstatic.com/gold/awards/icon/silver_48.png\" /></span></a><a class=\"awarding-link hide-award\" href=\"/r/StarWars/gilded\" data-award-id=\"award_02d9ab2c-162e-4c01-8438-317a016ed3d9\" data-count=\"2\" ><span class=\"awarding-icon-container\"><img class=\"awarding-icon\" src=\"https://preview.redd.it/award_images/t5_22cerq/898sygoknoo41_TakeMyEnergy.png?width=48&amp;height=48&amp;auto=webp&amp;s=83038a4d6181d3c8f5107dbca4ddb735ca6c2231\" /></span>2</a><a class=\"awarding-show-more-link\" href=\"/r/StarWars/gilded\" >&amp; 6 more</a></span></p><ul class=\"flat-list buttons\"><li class=\"first\"><a href=\"https://www.reddit.com/r/StarWars/comments/gppncl/finn_should_have_been_the_hero_of_the_sequel/\" data-event-action=\"comments\" class=\"bylink comments may-blank\" rel=\"nofollow\" >1366 comments</a></li><li class=\"share\"><a class=\"post-sharing-button\" href=\"javascript: void 0;\">share</a></li><li class=\"link-save-button save-button login-required\"><a href=\"#\">save</a></li><li><form action=\"/post/hide\" method=\"post\" class=\"state-button hide-button\"><input type=\"hidden\" name=\"executed\" value=\"hidden\" /><span><a href=\"javascript:void(0)\" class=\" \" data-event-action=\"hide\" onclick=\"change_state(this, 'hide', hide_thing);\">hide</a></span></form></li><li class=\"report-button login-required\"><a href=\"javascript:void(0)\" class=\"reportbtn access-required\" data-event-action=\"report\">report</a></li></ul><div class=\"reportform report-t3_gppncl\"></div></div><div class=\"expando expando-uninitialized\" style='display: none' data-pin-condition=\"function() {return this.style.display != 'none';}\" ><span class=\"error\">loading...</span></div></div><div class=\"child\" ></div><div class=\"clearleft\"></div></div><div class=\"clearleft\"></div><div class=\" thing id-t3_gptzx3 linkflair odd&#32; gilded link \" id=\"thing_t3_gptzx3\" onclick=\"click_thing(this)\" data-fullname=\"t3_gptzx3\" data-type=\"link\" data-gildings=\"1\" data-whitelist-status=\"some_ads\" data-author=\"SaskatchewanGuy\" data-author-fullname=\"t2_grc74\" data-subreddit=\"agedlikemilk\" data-subreddit-prefixed=\"r/agedlikemilk\" data-subreddit-fullname=\"t5_o7cng\" data-subreddit-type=\"public\" data-timestamp=\"1590342582000\" data-url=\"https://i.redd.it/n2bhv8ih3r051.jpg\" data-permalink=\"/r/agedlikemilk/comments/gptzx3/60_days_ago/\" data-domain=\"i.redd.it\" data-rank=\"25\" data-comments-count=\"1403\" data-score=\"37373\" data-promoted=\"false\" data-nsfw=\"false\" data-spoiler=\"false\" data-oc=\"false\" data-num-crossposts=\"2\" data-context=\"listing\" ><p class=\"parent\"></p><span class=\"rank\">25</span><div class=\"midcol unvoted\" ><div class=\"arrow up login-required access-required\" data-event-action=\"upvote\" role=\"button\" aria-label=\"upvote\" tabindex=\"0\" ></div><div class=\"score dislikes\" title=\"38413\">38.4k</div><div class=\"score unvoted\" title=\"38414\">38.4k</div><div class=\"score likes\" title=\"38415\">38.4k</div><div class=\"arrow down login-required access-required\" data-event-action=\"downvote\" role=\"button\" aria-label=\"downvote\" tabindex=\"0\" ></div></div><a class=\"thumbnail invisible-when-pinned may-blank \" data-event-action=\"thumbnail\" href=\"/r/agedlikemilk/comments/gptzx3/60_days_ago/\" ><img src=\"//a.thumbs.redditmedia.com/UyNeNMj8aaDojZLWL05TzNDkPYyoNy_dMddrEZr16m4.jpg\" width='70' height='59' alt=\"\"></a><div class=\"entry unvoted\"><div class=\"top-matter\"><p class=\"title\"><a class=\"title may-blank \" data-event-action=\"title\" href=\"/r/agedlikemilk/comments/gptzx3/60_days_ago/\" tabindex=\"1\" >60 days ago</a><span class=\"flairrichtext flaircolordark linkflairlabel \" title=\"Politics\" style=\"background-color: #dadada; border-color: #dadada;\"><span>Politics</span></span>&#32;<span class=\"domain\">(<a href=\"/domain/i.redd.it/\">i.redd.it</a>)</span></p><div class=\"expando-button collapsed hide-when-pinned video\"></div><p class=\"tagline \">submitted&#32;<time title=\"Sun May 24 17:49:42 2020 UTC\" datetime=\"2020-05-24T17:49:42+00:00\" class=\"live-timestamp\">8 hours ago</time>&#32;by&#32;<a href=\"https://www.reddit.com/user/SaskatchewanGuy\" class=\"author may-blank id-t2_grc74\" >SaskatchewanGuy</a><span class=\"userattrs\"></span>&#32;to&#32;<a href=\"https://www.reddit.com/r/agedlikemilk/\" class=\"subreddit hover may-blank\" >r/agedlikemilk</a><span class=\"awardings-bar\" data-subredditpath=\"/r/agedlikemilk/\" ><a class=\"awarding-link\" href=\"/r/agedlikemilk/gilded\" data-award-id=\"gid_2\" data-count=\"1\" ><span class=\"awarding-icon-container\"><img class=\"awarding-icon\" src=\"https://www.redditstatic.com/gold/awards/icon/gold_48.png\" /></span></a><a class=\"awarding-link\" href=\"/r/agedlikemilk/gilded\" data-award-id=\"award_9ee30a8f-463e-4ef7-9da9-a09f270ec026\" data-count=\"1\" ><span class=\"awarding-icon-container\"><img class=\"awarding-icon\" src=\"https://preview.redd.it/award_images/t5_22cerq/ree13odobef41_StonksFalling.png?width=48&amp;height=48&amp;auto=webp&amp;s=bc4bcb18bc259699d9bdef9d6315699e4e82b65a\" /></span></a></span></p><ul class=\"flat-list buttons\"><li class=\"first\"><a href=\"https://www.reddit.com/r/agedlikemilk/comments/gptzx3/60_days_ago/\" data-event-action=\"comments\" class=\"bylink comments may-blank\" rel=\"nofollow\" >1450 comments</a></li><li class=\"share\"><a class=\"post-sharing-button\" href=\"javascript: void 0;\">share</a></li><li class=\"link-save-button save-button login-required\"><a href=\"#\">save</a></li><li><form action=\"/post/hide\" method=\"post\" class=\"state-button hide-button\"><input type=\"hidden\" name=\"executed\" value=\"hidden\" /><span><a href=\"javascript:void(0)\" class=\" \" data-event-action=\"hide\" onclick=\"change_state(this, 'hide', hide_thing);\">hide</a></span></form></li><li class=\"report-button login-required\"><a href=\"javascript:void(0)\" class=\"reportbtn access-required\" data-event-action=\"report\">report</a></li></ul><div class=\"reportform report-t3_gptzx3\"></div></div><div class=\"expando expando-uninitialized\" style='display: none' data-cachedhtml=\" &lt;div class=&quot;media-preview&quot; id=&quot;media-preview-gptzx3&quot; style=&quot;max-width: 828px&quot;&gt; &lt;div class=&quot;media-preview-content&quot;&gt; &lt;a href=&quot;https://i.redd.it/n2bhv8ih3r051.jpg&quot; class=&quot;may-blank&quot;&gt; &lt;img class=&quot;preview&quot; src=&quot;https://preview.redd.it/n2bhv8ih3r051.jpg?width=828&amp;amp;auto=webp&amp;amp;s=2c9435fa074fecde0a702381bf0e59591e56cb09&quot; width=&quot;828&quot; height=&quot;705&quot;&gt; &lt;/a&gt; &lt;/div&gt; &lt;/div&gt; \" data-pin-condition=\"function() {return this.style.display != 'none';}\" ><span class=\"error\">loading...</span></div></div><div class=\"child\" ></div><div class=\"clearleft\"></div></div><div class=\"clearleft\"></div><div class=\"nav-buttons\"><span class=\"nextprev\">view more:&#32;<span class=\"next-button\"><a href=\"https://www.reddit.com/?count=25&amp;after=t3_gptzx3\" rel=\"nofollow next\" >next &rsaquo;</a></span></span></div></div></div><script id=\"archived-popup\" type=\"text/template\"><div class=\"interstitial\"><img class=\"interstitial-image\" src=\"//www.redditstatic.com/interstitial-image-archived.png\" alt=\"archived\" height=\"150\" width=\"150\"><div class=\"interstitial-message md-container\"><div class=\"md\"><h3>This is an archived post. You won't be able to vote or comment.</h3><p>Posts&#32;are&#32;automatically&#32;archived&#32;after&#32;6&#32;months.</p></div></div><div class=\"buttons\"><a href=\"/\" class=\"c-btn c-btn-primary\">Got It</a></div></div></script><script id=\"spezmodal-popup\" type=\"text/template\"><div class=\"md-container\"><div class=\"md\"><h1>Happy National Voter Registration Day from Reddit!</h1><p>You upvote on Reddit, but are you registered to vote IRL? Learn about the voter registration process, how to check your registration, and more&#32;<a href=\"https://www.usa.gov/register-to-vote\" target=\"_blank\" class=\"outbound\" data-href-url=\"https://www.usa.gov/register-to-vote\" data-outbound-url=\"https://out.reddit.com/t3_d0jy34?url=https%3A%2F%2Fwww.usa.gov%2Fregister-to-vote&amp;token=AQAAID_LXuXHcxjPpznlWp44BMqPWBmBEwRUnMeRsVS9M71aw7dI&amp;app_name=reddit.com\" data-outbound-expiration=\"1590378272000\" >here.</a>&#32; Register now, so you’ll be VoteReady come election day this November.</p><div class=\"spezmodal-cta\"><a href=\"https://www.usa.gov/register-to-vote\" target=\"_blank\" class=\"outbound\" data-href-url=\"https://www.usa.gov/register-to-vote\" data-outbound-url=\"https://out.reddit.com/t3_d0jy34?url=https%3A%2F%2Fwww.usa.gov%2Fregister-to-vote&amp;token=AQAAID_LXuXHcxjPpznlWp44BMqPWBmBEwRUnMeRsVS9M71aw7dI&amp;app_name=reddit.com\" data-outbound-expiration=\"1590378272000\" >REGISTER TO VOTE</a></div></div></div></script></div><div class=\"footer-parent\"><div by-zero class=\"footer rounded\"><div class=\"col\"><ul class=\"flat-vert hover\" ><li class=\"flat-vert title\">about</li><li ><a href=\"https://redditblog.com\" class=\"choice\" >blog</a></li><li ><span class=\"separator\"></span><a href=\"https://www.redditinc.com\" class=\"choice\" >about</a></li><li ><span class=\"separator\"></span><a href=\"https://www.redditinc.com/advertising\" class=\"choice\" >advertising</a></li><li ><span class=\"separator\"></span><a href=\"https://www.redditinc.com/careers\" class=\"choice\" >careers</a></li></ul></div><div class=\"col\"><ul class=\"flat-vert hover\" ><li class=\"flat-vert title\">help</li><li ><a href=\"https://www.reddit.com/rules/\" class=\"choice\" >site rules</a></li><li ><span class=\"separator\"></span><a href=\"https://www.reddithelp.com\" class=\"choice\" >Reddit help center</a></li><li ><span class=\"separator\"></span><a href=\"https://www.reddit.com/wiki/reddiquette/\" class=\"choice\" >reddiquette</a></li><li ><span class=\"separator\"></span><a href=\"https://www.reddit.com/help/healthycommunities/\" class=\"choice\" >mod guidelines</a></li><li ><span class=\"separator\"></span><a href=\"https://www.reddit.com/contact/\" class=\"choice\" >contact us</a></li></ul></div><div class=\"col\"><ul class=\"flat-vert hover\" ><li class=\"flat-vert title\">apps &amp; tools</li><li ><a href=\"https://itunes.apple.com/us/app/reddit-the-official-app/id1064216828?mt=8\" class=\"choice\" >Reddit for iPhone</a></li><li ><span class=\"separator\"></span><a href=\"https://play.google.com/store/apps/details?id=com.reddit.frontpage\" class=\"choice\" >Reddit for Android</a></li><li ><span class=\"separator\"></span><a href=\"#\" class=\"mweb-redirect-btn choice\" >mobile website</a></li></ul></div><div class=\"col\"><ul class=\"flat-vert hover\" ><li class=\"flat-vert title\">&lt;3</li><li ><a href=\"https://www.reddit.com/premium/\" class=\"buygold choice\" >reddit premium</a></li><li ><span class=\"separator\"></span><a href=\"https://www.reddit.com/coins/\" class=\"buygold choice\" >reddit coins</a></li><li ><span class=\"separator\"></span><a href=\"https://redditgifts.com\" class=\"choice\" >redditgifts</a></li></ul></div></div><p class=\"bottommenu\">Use of this site constitutes acceptance of our&#32;<a href=\"https://www.reddit.com/help/useragreement\" >User Agreement</a>&#32;and&#32;<a href=\"https://www.reddit.com/help/privacypolicy\" >Privacy Policy</a>. &copy; 2020 reddit inc. All rights reserved.</p><p class=\"bottommenu\">REDDIT and the ALIEN Logo are registered trademarks of reddit inc.</p></div><script>var BETA_HOST = 'beta.reddit.com'; if (location.host === BETA_HOST) { r.config.https_endpoint = 'https://' + BETA_HOST; }</script><script id=\"login-popup\" type=\"text/template\"><!-- Login form function --><div id=\"desktop-onboarding-browse\" class=\"c-step-sign-up\"><div class=\"desktop-onboarding-step desktop-onboarding-step_sign-up\"><div class=\"desktop-onboarding__col desktop-onboarding__col_sign-up_form\"><div class=\"reddit-logo\"><img width='200px' src=\"//www.redditstatic.com/logo.svg\" /></div><h2 class=\"desktop-onboarding__title\">Sign up to get your own personalized Reddit experience!</h2><p class=\"desktop-onboarding__description\">By having a Reddit account, you can join, vote, and comment on all your favorite Reddit content. Sign up in just seconds.</p><div class=\"desktop-onboarding-sign-up__form-container c-is-create\"><div class=\"desktop-onboarding-sign-up__form desktop-onboarding-sign-up__form_create\"><h3 class=\"desktop-onboarding-sign-up__form-title\">Enter email</h3><form class=\"sign-up-form\" id=\"desktop-onboarding-sign-up-form\" autocomplete=\"off\"><div class=\"c-form-group \"><label for=\"email\" class=\"screenreader-only\">email:</label><input name=\"email\" id=\"desktop-onboarding-email\" class=\"c-form-control\" type=\"text\" autofocus placeholder=\"email address\" data-validate-url=\"/api/check_email.json\" data-validate-on=\"keyup change blur\" /><div class=\"c-form-control-feedback-wrapper \"><span class=\"c-form-control-feedback c-form-control-feedback-throbber\"></span><span class=\"c-form-control-feedback c-form-control-feedback-error\" title=\"\"></span><span class=\"c-form-control-feedback c-form-control-feedback-success\"></span></div></div><button type=\"submit\" class=\"c-btn c-btn-primary desktop-onboarding__next-button\">Next</button><p class=\"desktop-onboarding-sign-up__form-note\"><span>Already have an account?</span><a href=\".\" class=\"desktop-onboarding-sign-up__form-toggler\" data-form=\"login\">Log In</a><a href=\"javascript: void 0;\" class=\"skip-for-now\">Skip for now</a></p></form></div><div class=\"desktop-onboarding-sign-up__form desktop-onboarding-sign-up__form_login\"><h3 class=\"desktop-onboarding-sign-up__form-title\">Log In</h3><form id=\"login-form\" method=\"post\" action=\"https://www.reddit.com/post/login\" class=\"form-v2 onboarding-login\"><input type=\"hidden\" name=\"op\" value=\"login\"><div class=\"c-form-group \"><label for=\"user_login\" class=\"screenreader-only\">username</label><input value=\"\" name=\"user\" id=\"user_login\" autofocus class=\"c-form-control\" type=\"text\" maxlength=\"20\" tabindex=\"3\" placeholder=\"username\" ><div class=\"c-form-control-feedback-wrapper \"><span class=\"c-form-control-feedback c-form-control-feedback-throbber\"></span><span class=\"c-form-control-feedback c-form-control-feedback-error\" title=\"\"></span><span class=\"c-form-control-feedback c-form-control-feedback-success\"></span></div></div><div class=\"c-form-group \"><label for=\"passwd_login\" class=\"screenreader-only\">password</label><input id=\"passwd_login\" class=\"c-form-control\" name=\"passwd\" type=\"password\" tabindex=\"3\" placeholder=\"password\" ><div class=\"c-form-control-feedback-wrapper \"><span class=\"c-form-control-feedback c-form-control-feedback-throbber\"></span><span class=\"c-form-control-feedback c-form-control-feedback-error\" title=\"\"></span><span class=\"c-form-control-feedback c-form-control-feedback-success\"></span></div></div><div class=\"desktop-onboarding-sign-up__form-note\"><span>Don't have an account?</span><a href=\".\" class=\"desktop-onboarding-sign-up__form-toggler\" data-form=\"create\">Sign up</a>&nbsp|<a href=\"/password\">Reset password</a></div><input type=\"hidden\" value=\"yes\" name=\"rem\"/><div class=\"spacer\"><div class=\"c-form-group g-recaptcha\" data-sitekey=\"6LeTnxkTAAAAAN9QEuDZRpn90WwKk_R1TRW_g-JC\"></div><span class=\"error BAD_CAPTCHA field-captcha\" style=\"display:none\"></span></div><div class=\"c-clearfix c-submit-group\"><span class=\"c-form-throbber\"></span><button type=\"submit\" class=\"c-btn c-btn-primary c-pull-right\" tabindex=\"3\">log in</button></div><div><div class=\"c-alert c-alert-danger\"></div><span class=\"status\"></span></div></form></div></div><footer>By signing up, you agree to our&#32;<a href=\"https://www.reddit.com/help/useragreement/\" >Terms</a>&#32;and that you have read our&#32;<a href=\"https://www.reddit.com/help/privacypolicy/\" >Privacy Policy</a>&#32;and&#32;<a href=\"https://www.reddit.com/help/contentpolicy/\" >Content Policy</a>.</footer></div><div class=\"desktop-onboarding__col desktop-onboarding__col_sign-up_image\"></div></div><div class=\"desktop-onboarding-step desktop-onboarding-step_subreddit-picker\"><div class=\"subreddit-picker-header\"><h2 class=\"desktop-onboarding__title\">Find the good stuff</h2><p class=\"desktop-onboarding__description\">Reddit is filled with interest based communities, offering something for everyone. Check out some communities and we recommend you join at least 5.</p></div><div class=\"subreddit-picker\"><ul class=\"subreddit-picker__categories\"></ul><ul class=\"subreddit-picker__subreddits\"></ul><div class=\"subreddit-picker__fail\"><span>Something went wrong.</span><a href=\".\">Try Again?</a></div><div class=\"subreddit-picker__category-fail\"><span>Something went wrong.</span><a href=\".\">Try Again?</a></div></div><footer><div class=\"subreddit-picker-progress\"><div class=\"subreddit-picker-progress__track\"><div class=\"subreddit-picker-progress__bar\"></div></div><span class=\"subreddit-picker-progress__num\">0</span><span>/</span><span class=\"subreddit-picker-progress__denom\">5</span><span>&nbsp;<span class=\"subreddit-subscription-count\">recommended communities</span></span></div><span class=\"desktop-onboarding__step-number\">Step 2 of 3</span><div class=\"desktop-onboarding__buttons\"><button class=\"c-btn desktop-onboarding__back-button\">Back</button><button class=\"c-btn c-btn-primary desktop-onboarding__next-button\">Next</button></div><div class=\"registration-error\"></div></footer></div><div class=\"desktop-onboarding-step desktop-onboarding-step_username\"><div class=\"desktop-onboarding__col desktop-onboarding__col_username_form\"><h2 class=\"desktop-onboarding__title\">Choose your username</h2><p class=\"desktop-onboarding__description\">Your username is how other community members will see you. This name will be used to credit you for things you share on Reddit. What should we call you?</p><div class=desktop-onboarding-username-form><form id=\"register-form\" method=\"post\" action=\"https://www.reddit.com/post/reg\" autocomplete=\"off\" class=\"form-v2 onboarding-login\"><input type=\"hidden\" name=\"op\" value=\"reg\"><input type=\"hidden\" id=\"desktop-onboarding-register-email\" name=\"email\" value=\"\"><input type=\"hidden\" id=\"desktop-onboarding-subreddits\" name=\"sr\" value=\"\"><div class=\"c-form-group \"><label class=\"desktop-onboarding-sign-up__form-title\" for=\"user_reg\">Choose username</label><input value=\"\" name=\"user\" id=\"user_reg\" autofocus class=\"c-form-control\" type=\"text\" maxlength=\"20\" tabindex=\"2\" placeholder=\"username\" data-validate-url=\"/api/check_username.json\" data-validate-min=\"3\" autocomplete=\"new-username\" ><div class=\"c-form-control-feedback-wrapper \"><span class=\"c-form-control-feedback c-form-control-feedback-throbber\"></span><span class=\"c-form-control-feedback c-form-control-feedback-error\" title=\"\"></span><span class=\"c-form-control-feedback c-form-control-feedback-success\"></span></div></div><div class=\"c-form-group \"><label for=\"passwd_reg\" class=\"desktop-onboarding-sign-up__form-title\">Set password</label><input id=\"passwd_reg\" class=\"c-form-control\" name=\"passwd\" type=\"password\" tabindex=\"2\" placeholder=\"password\" data-validate-url='/api/check_password.json' autocomplete='new-password'><div class=\"c-form-control-feedback-wrapper \"><span class=\"c-form-control-feedback c-form-control-feedback-throbber\"></span><span class=\"c-form-control-feedback c-form-control-feedback-error\" title=\"\"></span><span class=\"c-form-control-feedback c-form-control-feedback-success\"></span></div></div><input type=\"hidden\" name=\"passwd2\" id=\"passwd2_reg\" class=\"c-form-control\"><input type=\"hidden\" value=\"yes\" name=\"rem\"/><div class=\"spacer\"><div class=\"c-form-group g-recaptcha\" data-sitekey=\"6LeTnxkTAAAAAN9QEuDZRpn90WwKk_R1TRW_g-JC\"></div><span class=\"error BAD_CAPTCHA field-captcha\" style=\"display:none\"></span></div><div><div class=\"c-alert c-alert-danger\"></div><span class=\"status\"></span><span class=\"error RATELIMIT field-ratelimit\" style=\"display:none\"></span><span class=\"error RATELIMIT field-vdelay\" style=\"display:none\"></span></div></form></div></div><div class=\"desktop-onboarding__col desktop-onboarding__col_username_picker\"><div class=\"username-generator\"><p class=\"desktop-onboarding__description\">Having a hard time picking a name?<br />Here are some available suggestions.</p><div class=\"username-generator__suggestions\"></div><a href=\"javascript: void 0;\" class=\"username-generator__refresh-button\">Refresh suggestions</a></div><footer><span class=\"desktop-onboarding__step-number\">Step 3 of 3</span><div class=\"desktop-onboarding__buttons\"><button class=\"c-btn desktop-onboarding__back-button\">Back</button><button class=\"c-btn c-btn-primary desktop-onboarding__next-button\">Submit</button></div></footer></div></div></div></script><script id=\"lang-popup\" type=\"text/template\"><form action=\"https://www.reddit.com/post/unlogged_options\" method=\"post\" id=\"pref-form\" class=\"pretty-form short-text prefoptions\"><input type=\"hidden\" name=\"uh\" value=\"\" /><table class=\"content preftable\"><tr><th>interface language</th><td class=\"prefright\"><select id=\"lang\" name=\"lang\"><option selected='selected' value=\"en\">English [en]</option><option value=\"af\">Afrikaans [af] (*)</option><option value=\"ar\">العربية [ar] (*)</option><option value=\"be\">Беларуская мова [be] (*)</option><option value=\"bg\">български език [bg]</option><option value=\"bn-IN\">বাংলা [bn-IN] (*)</option><option value=\"bn-bd\">বাংলা [bn-bd] (*)</option><option value=\"bs\">Bosanski [bs] (*)</option><option value=\"ca\">català [ca]</option><option value=\"cs\">česky [cs]</option><option value=\"cy\">Cymraeg [cy] (*)</option><option value=\"da\">dansk [da]</option><option value=\"de\">Deutsch [de]</option><option value=\"el\">Ελληνικά [el]</option><option value=\"en-au\">English (Australia) [en-au]</option><option value=\"en-ca\">English (Canadian) [en-ca]</option><option value=\"en-gb\">English (Great Britain) [en-gb]</option><option value=\"en-us\">English [en-us]</option><option value=\"eo\">Esperanto [eo] (*)</option><option value=\"es\">español [es]</option><option value=\"es-ar\">español [es-ar]</option><option value=\"es-cl\">español [es-cl]</option><option value=\"es-mx\">Español [es-mx]</option><option value=\"et\">eesti keel [et] (*)</option><option value=\"eu\">Euskara [eu]</option><option value=\"fa\">فارسی [fa]</option><option value=\"fi\">suomi [fi]</option><option value=\"fil\">Filipino [fil] (*)</option><option value=\"fr\">français [fr]</option><option value=\"fr-ca\">Français [fr-ca]</option><option value=\"fy-NL\">Frysk [fy-NL] (*)</option><option value=\"ga-ie\">Gaeilge [ga-ie] (*)</option><option value=\"gd\">Gàidhlig [gd]</option><option value=\"gl\">Galego [gl] (*)</option><option value=\"he\">עברית [he] (*)</option><option value=\"hi\">मानक हिन्दी [hi] (*)</option><option value=\"hr\">hrvatski [hr]</option><option value=\"hu\">Magyar [hu]</option><option value=\"hy\">Հայերեն լեզու [hy]</option><option value=\"id\">Bahasa Indonesia [id] (*)</option><option value=\"is\">íslenska [is]</option><option value=\"it\">italiano (Italy) [it]</option><option value=\"ja\">日本語 [ja]</option><option value=\"kn_IN\">ಕನ್ನಡ [kn_IN]</option><option value=\"ko\">한국어 [ko]</option><option value=\"la\">Latin [la] (*)</option><option value=\"leet\">1337 [leet]</option><option value=\"lol\">LOL [lol]</option><option value=\"lt\">lietuvių kalba [lt] (*)</option><option value=\"lv\">latviešu valoda [lv]</option><option value=\"ms\">Bahasa Melayu [ms] (*)</option><option value=\"mt-MT\">Malti [mt-MT]</option><option value=\"nl\">Nederlands [nl]</option><option value=\"nn\">Nynorsk [nn]</option><option value=\"no\">Norsk [no]</option><option value=\"pir\">Arrrrrrrr! [pir] (*)</option><option value=\"pl\">polski [pl]</option><option value=\"pt\">português [pt] (*)</option><option value=\"pt-pt\">português [pt-pt]</option><option value=\"pt_BR\">português brasileiro [pt_BR]</option><option value=\"ro\">română [ro]</option><option value=\"ru\">русский [ru]</option><option value=\"sk\">slovenčina [sk]</option><option value=\"sl\">slovenščina [sl] (*)</option><option value=\"sr\">српски језик [sr]</option><option value=\"sr-la\">Srpski [sr-la]</option><option value=\"sv\">Svenska [sv]</option><option value=\"ta\">தமிழ் [ta]</option><option value=\"th\">ภาษาไทย [th]</option><option value=\"tr\">Türkçe [tr]</option><option value=\"uk\">українська мова [uk]</option><option value=\"vi\">Tiếng Việt [vi]</option><option value=\"zh\">中文 [zh]</option><option value=\"zh-cn\">简化字 [zh-cn]</option></select>&#32;<span class=\"details hover\">(*) incomplete &#32;<a href=\"https://www.reddit.com/r/i18n/wiki/getting_started\">volunteer to translate</a></span></td></tr><tr><td><input type=\"submit\" class=\"btn save-preferences\" value=\"save options\"/></td></tr></table></form></script><img id=\"hsts_pixel\" src=\"//reddit.com/static/pixel.png\"><p class=\"debuginfo\"><span class=\"icon\">&pi;</span>&nbsp;<span class=\"content\">Rendered by PID 5506 on&#32; r2-app-0ca580d08f913b487 &#32;at 2020-05-25 02:44:31.974507+00:00 running 197782e country code: US.</span></p><script type=\"text/javascript\" src=\"//www.redditstatic.com/reddit.en.AjLrRSx5Q9U.js\"></script><script type=\"text/javascript\" src=\"//www.redditstatic.com/spoiler-text.vsLMfxcst1g.js\"></script><script>(function() { var addScript = function(url) { var script = document.createElement('script'); script.src = url; script.async = true; script.type = 'text/javascript'; var node = document.getElementsByTagName('script')[0]; if (node && node.parentNode) { node.parentNode.insertBefore(script, node); } }; var ads = window.__adslots = window.__adslots || []; var limitDataProcessing = false; window.googletag = window.googletag || {}; googletag.cmd = googletag.cmd || []; addScript('//www.googletagservices.com/tag/js/gpt.js'); var sendImpressionEvent = function(e, isAaxAd) { if (Math.random() >0.1) { return; } var adDomId = isAaxAd ? e.dfpDetails.slot.getSlotId().getDomId() : e.slot.getSlotId().getDomId(); var adSlot = window.__adslots.find(function(slot) { return slot.slotID === adDomId; }); var placement; if (adSlot) { var slotNameSubstrings = adSlot.slotName.split('/'); placement = slotNameSubstrings && slotNameSubstrings.length ? slotNameSubstrings[slotNameSubstrings.length - 1] : undefined; } var adElement = document.querySelector('#' + adDomId); var dimensions; var type; if (adElement) { dimensions = adElement.offsetWidth + 'x' + adElement.offsetHeight; type = 'house_ad'; if (adElement.innerHTML.indexOf('google_ads_iframe') !== -1) { type = 'programmatic_ad'; } } var adUnit = 'DESKTOP'; if (dimensions) { adUnit = adUnit + ' ' + dimensions; } if (placement) { adUnit = adUnit + ' ' + placement; } var partner = isAaxAd ? 'aax' : undefined; r.analyticsV2.sendEvent('post', 'view', 'programmatic_ad', [ 'action_info', 'subreddit', ], { programmatic: new Thrift.Programmatic({ ad_unit: adUnit, count: 1, partner: partner, type: type, }) }); }; googletag.cmd.push(function() { googletag.pubads().addEventListener('impressionViewable', function(e) { sendImpressionEvent(e, false); }); googletag.pubads().disableInitialLoad(); googletag.pubads().setSafeFrameConfig({ allowOverlayExpansion: false, allowPushExpansion: false, sandbox: !(r.utils.testAcceptableAds() && /firefox/i.test(navigator.userAgent)), }); googletag.enableServices(); }); /* amazon a9 ads */ if (!window.apstag) { window.apstag = { _Q: [] }; window.apstag.init = function() { window.apstag._Q.push(['i', arguments]); }; window.apstag.fetchBids = function() { window.apstag._Q.push(['f', arguments]); }; addScript('//c.amazon-adsystem.com/aax2/apstag.js'); } /* aax */ if (!window.aax) { window.aax = { pubId: 'AAX763KC6', ver: 1.2, initTime: new Date().getTime(), hst: location.hostname, deliverExchangeDemand: function() {}, cmd: [ function() { window.aax.addEventListener('impressionViewable', function (e) { sendImpressionEvent(e, true); }); }, ], execute: [], }; window.aax.execute.push(function(){ window.aax.limitDataProcessing(limitDataProcessing); }); addScript('//c.aaxads.com/aax.js?pub=' + window.aax.pubId + '&hst=' + window.aax.hst + '&ver=' + window.aax.ver); } r.hooks.get('reddit').register(function() { var category = \"\"; apstag.init({ pubID: r.utils.testAcceptableAds() ? '3570' : '3379', adServer: 'googletag', bidTimeout: 2e3, params: { position: 'sidebar', section: category, sis_sitesection: ['reddit.com', category].filter(function(x) { return x; }).join(':'), subreddit: r.config.post_site, aps_privacy: limitDataProcessing ? '1YY' : '1--', }, }); googletag.cmd.push(function() { var adSlots = googletag.pubads().getSlots(); var executeAdCallbacks = function() { var callbacks = _.pluck(ads, 'callback'); _.invoke(callbacks, 'call'); }; if (window.aax) { aax.cmd.push(function() { if (aax.getAbpStatus && aax.getAbpStatus()) { executeAdCallbacks(); } }); } apstag.fetchBids({ slots: _.map(ads, function(ad) { return _.pick(ad, ['slotID', 'slotName', 'sizes']); }), timeout: 2e3, }, function() { apstag.setDisplayBids(); executeAdCallbacks(); }); }); }); })();</script></body></html>\r\n",
      "\r\n",
      "\n"
     ]
    }
   ],
   "source": [
    "print(data.decode('utf-8'))"
   ]
  }
 ],
 "metadata": {
  "kernelspec": {
   "display_name": "Python 3",
   "language": "python",
   "name": "python3"
  },
  "language_info": {
   "codemirror_mode": {
    "name": "ipython",
    "version": 3
   },
   "file_extension": ".py",
   "mimetype": "text/x-python",
   "name": "python",
   "nbconvert_exporter": "python",
   "pygments_lexer": "ipython3",
   "version": "3.6.6"
  }
 },
 "nbformat": 4,
 "nbformat_minor": 2
}
