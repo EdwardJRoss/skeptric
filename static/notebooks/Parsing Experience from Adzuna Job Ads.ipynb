{
 "cells": [
  {
   "cell_type": "markdown",
   "metadata": {},
   "source": [
    "# Finding Types of Experience from Adzuna Job Ads\n",
    "\n",
    "We're going to use linguistic features to extract the types of experience commonly required for jobs from job ads. I'm not exactly sure what I mean by \"types of experience\"; we're going to let the data decide that!\n",
    "\n",
    "We'll end up with a list of skills, and some relationships between skills that occur together"
   ]
  },
  {
   "cell_type": "markdown",
   "metadata": {},
   "source": [
    "Import libraries and data"
   ]
  },
  {
   "cell_type": "code",
   "execution_count": 1,
   "metadata": {},
   "outputs": [],
   "source": [
    "import re\n",
    "import pandas as pd\n",
    "import spacy\n",
    "from spacy.util import filter_spans\n",
    "from spacy.tokens import Span\n",
    "from spacy.matcher import Matcher"
   ]
  },
  {
   "cell_type": "code",
   "execution_count": 2,
   "metadata": {},
   "outputs": [
    {
     "data": {
      "text/plain": [
       "'2.2.3'"
      ]
     },
     "execution_count": 2,
     "metadata": {},
     "output_type": "execute_result"
    }
   ],
   "source": [
    "spacy.__version__"
   ]
  },
  {
   "cell_type": "code",
   "execution_count": 3,
   "metadata": {},
   "outputs": [],
   "source": [
    "from spacy import displacy\n",
    "from IPython.display import HTML, display"
   ]
  },
  {
   "cell_type": "markdown",
   "metadata": {},
   "source": [
    "Get the data from [Adzunda Job Salary Prediction Kaggle Competition](https://www.kaggle.com/c/job-salary-prediction), put it in the data subfolder and unzip all the files.\n",
    "\n",
    "You can do this manually, or use the [Kaggle API](https://github.com/Kaggle/kaggle-api) (once you've installed the API, downloaded your `kaggle.json` file and agreed to the competition rules)"
   ]
  },
  {
   "cell_type": "code",
   "execution_count": 4,
   "metadata": {},
   "outputs": [],
   "source": [
    "# for split, ext in [('Test', 'zip'), ('Train', 'zip'), ('Valid', 'csv')]:\n",
    "#     !kaggle competitions download -c job-salary-prediction --path data/ -f {split}_rev1.{ext}\n",
    "    \n",
    "# !find data/ -name '*.zip' -execdir unzip '{}' ';'\n",
    "# !find data/ -name '*.zip' -exec rm '{}' ';'\n",
    "\n",
    "# !ls data/"
   ]
  },
  {
   "cell_type": "markdown",
   "metadata": {},
   "source": [
    "Read in all the data to a single dataframe"
   ]
  },
  {
   "cell_type": "code",
   "execution_count": 5,
   "metadata": {},
   "outputs": [
    {
     "name": "stdout",
     "output_type": "stream",
     "text": [
      "CPU times: user 6.55 s, sys: 2.8 s, total: 9.34 s\n",
      "Wall time: 16.1 s\n"
     ]
    }
   ],
   "source": [
    "%%time\n",
    "dfs = []\n",
    "for split in ['Train', 'Valid', 'Test']:\n",
    "    dfs.append(pd.read_csv(f'data/{split}_rev1.csv').assign(split=split))\n",
    "df = pd.concat(dfs, sort=False, ignore_index=True)\n",
    "del dfs"
   ]
  },
  {
   "cell_type": "markdown",
   "metadata": {},
   "source": [
    "Train/Valid/Test is in the ratio 6:1:3, with about 40k ads in total"
   ]
  },
  {
   "cell_type": "code",
   "execution_count": 6,
   "metadata": {},
   "outputs": [
    {
     "data": {
      "text/plain": [
       "Train    244768\n",
       "Test     122463\n",
       "Valid     40663\n",
       "Name: split, dtype: int64"
      ]
     },
     "execution_count": 6,
     "metadata": {},
     "output_type": "execute_result"
    }
   ],
   "source": [
    "df.split.value_counts()"
   ]
  },
  {
   "cell_type": "markdown",
   "metadata": {},
   "source": [
    "We're mainly interested in the ad content where the skills will be; that's the `FullDescription`"
   ]
  },
  {
   "cell_type": "code",
   "execution_count": 7,
   "metadata": {},
   "outputs": [
    {
     "data": {
      "text/html": [
       "<div>\n",
       "<style scoped>\n",
       "    .dataframe tbody tr th:only-of-type {\n",
       "        vertical-align: middle;\n",
       "    }\n",
       "\n",
       "    .dataframe tbody tr th {\n",
       "        vertical-align: top;\n",
       "    }\n",
       "\n",
       "    .dataframe thead th {\n",
       "        text-align: right;\n",
       "    }\n",
       "</style>\n",
       "<table border=\"1\" class=\"dataframe\">\n",
       "  <thead>\n",
       "    <tr style=\"text-align: right;\">\n",
       "      <th></th>\n",
       "      <th>Id</th>\n",
       "      <th>Title</th>\n",
       "      <th>FullDescription</th>\n",
       "      <th>LocationRaw</th>\n",
       "      <th>LocationNormalized</th>\n",
       "      <th>ContractType</th>\n",
       "      <th>ContractTime</th>\n",
       "      <th>Company</th>\n",
       "      <th>Category</th>\n",
       "      <th>SalaryRaw</th>\n",
       "      <th>SalaryNormalized</th>\n",
       "      <th>SourceName</th>\n",
       "      <th>split</th>\n",
       "    </tr>\n",
       "  </thead>\n",
       "  <tbody>\n",
       "    <tr>\n",
       "      <th>0</th>\n",
       "      <td>12612628</td>\n",
       "      <td>Engineering Systems Analyst</td>\n",
       "      <td>Engineering Systems Analyst Dorking Surrey Sal...</td>\n",
       "      <td>Dorking, Surrey, Surrey</td>\n",
       "      <td>Dorking</td>\n",
       "      <td>NaN</td>\n",
       "      <td>permanent</td>\n",
       "      <td>Gregory Martin International</td>\n",
       "      <td>Engineering Jobs</td>\n",
       "      <td>20000 - 30000/annum 20-30K</td>\n",
       "      <td>25000.0</td>\n",
       "      <td>cv-library.co.uk</td>\n",
       "      <td>Train</td>\n",
       "    </tr>\n",
       "    <tr>\n",
       "      <th>1</th>\n",
       "      <td>12612830</td>\n",
       "      <td>Stress Engineer Glasgow</td>\n",
       "      <td>Stress Engineer Glasgow Salary **** to **** We...</td>\n",
       "      <td>Glasgow, Scotland, Scotland</td>\n",
       "      <td>Glasgow</td>\n",
       "      <td>NaN</td>\n",
       "      <td>permanent</td>\n",
       "      <td>Gregory Martin International</td>\n",
       "      <td>Engineering Jobs</td>\n",
       "      <td>25000 - 35000/annum 25-35K</td>\n",
       "      <td>30000.0</td>\n",
       "      <td>cv-library.co.uk</td>\n",
       "      <td>Train</td>\n",
       "    </tr>\n",
       "    <tr>\n",
       "      <th>2</th>\n",
       "      <td>12612844</td>\n",
       "      <td>Modelling and simulation analyst</td>\n",
       "      <td>Mathematical Modeller / Simulation Analyst / O...</td>\n",
       "      <td>Hampshire, South East, South East</td>\n",
       "      <td>Hampshire</td>\n",
       "      <td>NaN</td>\n",
       "      <td>permanent</td>\n",
       "      <td>Gregory Martin International</td>\n",
       "      <td>Engineering Jobs</td>\n",
       "      <td>20000 - 40000/annum 20-40K</td>\n",
       "      <td>30000.0</td>\n",
       "      <td>cv-library.co.uk</td>\n",
       "      <td>Train</td>\n",
       "    </tr>\n",
       "    <tr>\n",
       "      <th>3</th>\n",
       "      <td>12613049</td>\n",
       "      <td>Engineering Systems Analyst / Mathematical Mod...</td>\n",
       "      <td>Engineering Systems Analyst / Mathematical Mod...</td>\n",
       "      <td>Surrey, South East, South East</td>\n",
       "      <td>Surrey</td>\n",
       "      <td>NaN</td>\n",
       "      <td>permanent</td>\n",
       "      <td>Gregory Martin International</td>\n",
       "      <td>Engineering Jobs</td>\n",
       "      <td>25000 - 30000/annum 25K-30K negotiable</td>\n",
       "      <td>27500.0</td>\n",
       "      <td>cv-library.co.uk</td>\n",
       "      <td>Train</td>\n",
       "    </tr>\n",
       "    <tr>\n",
       "      <th>4</th>\n",
       "      <td>12613647</td>\n",
       "      <td>Pioneer, Miser Engineering Systems Analyst</td>\n",
       "      <td>Pioneer, Miser  Engineering Systems Analyst Do...</td>\n",
       "      <td>Surrey, South East, South East</td>\n",
       "      <td>Surrey</td>\n",
       "      <td>NaN</td>\n",
       "      <td>permanent</td>\n",
       "      <td>Gregory Martin International</td>\n",
       "      <td>Engineering Jobs</td>\n",
       "      <td>20000 - 30000/annum 20-30K</td>\n",
       "      <td>25000.0</td>\n",
       "      <td>cv-library.co.uk</td>\n",
       "      <td>Train</td>\n",
       "    </tr>\n",
       "    <tr>\n",
       "      <th>...</th>\n",
       "      <td>...</td>\n",
       "      <td>...</td>\n",
       "      <td>...</td>\n",
       "      <td>...</td>\n",
       "      <td>...</td>\n",
       "      <td>...</td>\n",
       "      <td>...</td>\n",
       "      <td>...</td>\n",
       "      <td>...</td>\n",
       "      <td>...</td>\n",
       "      <td>...</td>\n",
       "      <td>...</td>\n",
       "      <td>...</td>\n",
       "    </tr>\n",
       "    <tr>\n",
       "      <th>407889</th>\n",
       "      <td>72703426</td>\n",
       "      <td>Foreign Exchange Consultant Worcestershire</td>\n",
       "      <td>Do you have foreign exchange cashier experienc...</td>\n",
       "      <td>Worcestershire</td>\n",
       "      <td>Worcestershire</td>\n",
       "      <td>full_time</td>\n",
       "      <td>permanent</td>\n",
       "      <td>Travel Trade Recruitment</td>\n",
       "      <td>Travel Jobs</td>\n",
       "      <td>NaN</td>\n",
       "      <td>NaN</td>\n",
       "      <td>jobs.travelweekly.co.uk</td>\n",
       "      <td>Test</td>\n",
       "    </tr>\n",
       "    <tr>\n",
       "      <th>407890</th>\n",
       "      <td>72703453</td>\n",
       "      <td>Senior Business Travel Consultant</td>\n",
       "      <td>Senior Business Travel Consultant  Birmingham ...</td>\n",
       "      <td>Birmingham</td>\n",
       "      <td>Birmingham</td>\n",
       "      <td>full_time</td>\n",
       "      <td>permanent</td>\n",
       "      <td>AA Appointments</td>\n",
       "      <td>Travel Jobs</td>\n",
       "      <td>NaN</td>\n",
       "      <td>NaN</td>\n",
       "      <td>jobs.travelweekly.co.uk</td>\n",
       "      <td>Test</td>\n",
       "    </tr>\n",
       "    <tr>\n",
       "      <th>407891</th>\n",
       "      <td>72705210</td>\n",
       "      <td>TEACHER OF MATHS</td>\n",
       "      <td>Position: Qualified Teacher Subject/Specialism...</td>\n",
       "      <td>Swindon</td>\n",
       "      <td>Swindon</td>\n",
       "      <td>NaN</td>\n",
       "      <td>contract</td>\n",
       "      <td>NaN</td>\n",
       "      <td>Teaching Jobs</td>\n",
       "      <td>NaN</td>\n",
       "      <td>NaN</td>\n",
       "      <td>hays.co.uk</td>\n",
       "      <td>Test</td>\n",
       "    </tr>\n",
       "    <tr>\n",
       "      <th>407892</th>\n",
       "      <td>72705214</td>\n",
       "      <td>Welsh Speaking Teaching Assistant Job</td>\n",
       "      <td>Hays Education currently have a job for a Wels...</td>\n",
       "      <td>Cardiff</td>\n",
       "      <td>Cardiff</td>\n",
       "      <td>NaN</td>\n",
       "      <td>contract</td>\n",
       "      <td>NaN</td>\n",
       "      <td>Teaching Jobs</td>\n",
       "      <td>NaN</td>\n",
       "      <td>NaN</td>\n",
       "      <td>hays.co.uk</td>\n",
       "      <td>Test</td>\n",
       "    </tr>\n",
       "    <tr>\n",
       "      <th>407893</th>\n",
       "      <td>72705218</td>\n",
       "      <td>KS2 Teacher</td>\n",
       "      <td>Are you a School KS2 Teacher looking for temp ...</td>\n",
       "      <td>Camberley</td>\n",
       "      <td>Camberley</td>\n",
       "      <td>NaN</td>\n",
       "      <td>contract</td>\n",
       "      <td>NaN</td>\n",
       "      <td>Teaching Jobs</td>\n",
       "      <td>NaN</td>\n",
       "      <td>NaN</td>\n",
       "      <td>hays.co.uk</td>\n",
       "      <td>Test</td>\n",
       "    </tr>\n",
       "  </tbody>\n",
       "</table>\n",
       "<p>407894 rows × 13 columns</p>\n",
       "</div>"
      ],
      "text/plain": [
       "              Id                                              Title  \\\n",
       "0       12612628                        Engineering Systems Analyst   \n",
       "1       12612830                            Stress Engineer Glasgow   \n",
       "2       12612844                   Modelling and simulation analyst   \n",
       "3       12613049  Engineering Systems Analyst / Mathematical Mod...   \n",
       "4       12613647         Pioneer, Miser Engineering Systems Analyst   \n",
       "...          ...                                                ...   \n",
       "407889  72703426         Foreign Exchange Consultant Worcestershire   \n",
       "407890  72703453                  Senior Business Travel Consultant   \n",
       "407891  72705210                                   TEACHER OF MATHS   \n",
       "407892  72705214              Welsh Speaking Teaching Assistant Job   \n",
       "407893  72705218                                        KS2 Teacher   \n",
       "\n",
       "                                          FullDescription  \\\n",
       "0       Engineering Systems Analyst Dorking Surrey Sal...   \n",
       "1       Stress Engineer Glasgow Salary **** to **** We...   \n",
       "2       Mathematical Modeller / Simulation Analyst / O...   \n",
       "3       Engineering Systems Analyst / Mathematical Mod...   \n",
       "4       Pioneer, Miser  Engineering Systems Analyst Do...   \n",
       "...                                                   ...   \n",
       "407889  Do you have foreign exchange cashier experienc...   \n",
       "407890  Senior Business Travel Consultant  Birmingham ...   \n",
       "407891  Position: Qualified Teacher Subject/Specialism...   \n",
       "407892  Hays Education currently have a job for a Wels...   \n",
       "407893  Are you a School KS2 Teacher looking for temp ...   \n",
       "\n",
       "                              LocationRaw LocationNormalized ContractType  \\\n",
       "0                 Dorking, Surrey, Surrey            Dorking          NaN   \n",
       "1             Glasgow, Scotland, Scotland            Glasgow          NaN   \n",
       "2       Hampshire, South East, South East          Hampshire          NaN   \n",
       "3          Surrey, South East, South East             Surrey          NaN   \n",
       "4          Surrey, South East, South East             Surrey          NaN   \n",
       "...                                   ...                ...          ...   \n",
       "407889                     Worcestershire     Worcestershire    full_time   \n",
       "407890                         Birmingham         Birmingham    full_time   \n",
       "407891                            Swindon            Swindon          NaN   \n",
       "407892                            Cardiff            Cardiff          NaN   \n",
       "407893                          Camberley          Camberley          NaN   \n",
       "\n",
       "       ContractTime                       Company          Category  \\\n",
       "0         permanent  Gregory Martin International  Engineering Jobs   \n",
       "1         permanent  Gregory Martin International  Engineering Jobs   \n",
       "2         permanent  Gregory Martin International  Engineering Jobs   \n",
       "3         permanent  Gregory Martin International  Engineering Jobs   \n",
       "4         permanent  Gregory Martin International  Engineering Jobs   \n",
       "...             ...                           ...               ...   \n",
       "407889    permanent      Travel Trade Recruitment       Travel Jobs   \n",
       "407890    permanent               AA Appointments       Travel Jobs   \n",
       "407891     contract                           NaN     Teaching Jobs   \n",
       "407892     contract                           NaN     Teaching Jobs   \n",
       "407893     contract                           NaN     Teaching Jobs   \n",
       "\n",
       "                                     SalaryRaw  SalaryNormalized  \\\n",
       "0                   20000 - 30000/annum 20-30K           25000.0   \n",
       "1                   25000 - 35000/annum 25-35K           30000.0   \n",
       "2                   20000 - 40000/annum 20-40K           30000.0   \n",
       "3       25000 - 30000/annum 25K-30K negotiable           27500.0   \n",
       "4                   20000 - 30000/annum 20-30K           25000.0   \n",
       "...                                        ...               ...   \n",
       "407889                                     NaN               NaN   \n",
       "407890                                     NaN               NaN   \n",
       "407891                                     NaN               NaN   \n",
       "407892                                     NaN               NaN   \n",
       "407893                                     NaN               NaN   \n",
       "\n",
       "                     SourceName  split  \n",
       "0              cv-library.co.uk  Train  \n",
       "1              cv-library.co.uk  Train  \n",
       "2              cv-library.co.uk  Train  \n",
       "3              cv-library.co.uk  Train  \n",
       "4              cv-library.co.uk  Train  \n",
       "...                         ...    ...  \n",
       "407889  jobs.travelweekly.co.uk   Test  \n",
       "407890  jobs.travelweekly.co.uk   Test  \n",
       "407891               hays.co.uk   Test  \n",
       "407892               hays.co.uk   Test  \n",
       "407893               hays.co.uk   Test  \n",
       "\n",
       "[407894 rows x 13 columns]"
      ]
     },
     "execution_count": 7,
     "metadata": {},
     "output_type": "execute_result"
    }
   ],
   "source": [
    "df"
   ]
  },
  {
   "cell_type": "markdown",
   "metadata": {},
   "source": [
    "Extract the ads into a list"
   ]
  },
  {
   "cell_type": "code",
   "execution_count": 8,
   "metadata": {},
   "outputs": [],
   "source": [
    "ads = list(df.FullDescription)"
   ]
  },
  {
   "cell_type": "markdown",
   "metadata": {},
   "source": [
    "Initialise Spacy model"
   ]
  },
  {
   "cell_type": "code",
   "execution_count": 9,
   "metadata": {},
   "outputs": [],
   "source": [
    "nlp = spacy.load('en_core_web_lg')"
   ]
  },
  {
   "cell_type": "markdown",
   "metadata": {},
   "source": [
    "## Extracting from job ads"
   ]
  },
  {
   "cell_type": "markdown",
   "metadata": {},
   "source": [
    "Let's look at sentences in job ads containing the word 'experience'.\n",
    "\n",
    "Experience is a common word, but used in a few different ways:\n",
    "\n",
    "*    has experience with a tool/using a skill/in a system\n",
    "*    providing an experience to customers\n",
    "*    this job will give you experience\n",
    "\n",
    "We're interested in the first kind which occurs in a few different ways:\n",
    "\n",
    "* {type of} experience ...\n",
    "* experience in {field}\n",
    "\n",
    "Let's look at extracting them"
   ]
  },
  {
   "cell_type": "code",
   "execution_count": 10,
   "metadata": {},
   "outputs": [],
   "source": [
    "def highlight_terms(terms, texts):\n",
    "    for doc in nlp.pipe(texts):\n",
    "        for sentence in set([tok.sent for tok in doc if tok.lower_ in terms]):\n",
    "            text = sentence.text.strip()\n",
    "            markup = re.sub(fr'(?i)\\b({\"|\".join(terms)})\\b', r'<strong>\\1</strong>', text)\n",
    "            display(HTML(markup))"
   ]
  },
  {
   "cell_type": "markdown",
   "metadata": {},
   "source": [
    "Note that you can already see some problems with the way the text was cleansed; it looks like list structure is gone and hyphens have been removed (35 years experience is probably 3-5 years experience)."
   ]
  },
  {
   "cell_type": "code",
   "execution_count": 11,
   "metadata": {},
   "outputs": [
    {
     "data": {
      "text/html": [
       "Aerostructures <strong>experience</strong> You will also be expected to demonstrate the following qualities: A strong desire to progress quickly to a position of leadership Professional approach Strong communication skills, written and verbal Commercial awareness Team working, being comfortable working in international teams and self managing"
      ],
      "text/plain": [
       "<IPython.core.display.HTML object>"
      ]
     },
     "metadata": {},
     "output_type": "display_data"
    },
    {
     "data": {
      "text/html": [
       "The Requirements You will need to have a good engineering degree that includes structural analysis (such as aeronautical, mechanical, automotive, civil) with some <strong>experience</strong> in a professional engineering environment relevant to (but not limited to)"
      ],
      "text/plain": [
       "<IPython.core.display.HTML object>"
      ]
     },
     "metadata": {},
     "output_type": "display_data"
    },
    {
     "data": {
      "text/html": [
       "You will need to demonstrate <strong>experience</strong> in at least one or more of the following areas:"
      ],
      "text/plain": [
       "<IPython.core.display.HTML object>"
      ]
     },
     "metadata": {},
     "output_type": "display_data"
    },
    {
     "data": {
      "text/html": [
       "The roles are ideally suited to high calibre engineering graduates with any level of appropriate <strong>experience</strong>, so that we can give you the opportunity to use your technical skills to provide high quality input to our aerospace projects, spanning both aerostructures and aeroengines."
      ],
      "text/plain": [
       "<IPython.core.display.HTML object>"
      ]
     },
     "metadata": {},
     "output_type": "display_data"
    },
    {
     "data": {
      "text/html": [
       "Thorough knowledge of Excel and proven ability to utilise this to create powerful decision support models <strong>Experience</strong> in Modelling and Simulation Techniques, <strong>Experience</strong> of techniques such as Discrete Event Simulation and/or SD modelling Mathematical/scientific background"
      ],
      "text/plain": [
       "<IPython.core.display.HTML object>"
      ]
     },
     "metadata": {},
     "output_type": "display_data"
    },
    {
     "data": {
      "text/html": [
       "*K AAE pension contribution, private medical and dental The opportunity Our client is an independent consultancy firm which has an opportunity for a Data Analyst with 35 years <strong>experience</strong>."
      ],
      "text/plain": [
       "<IPython.core.display.HTML object>"
      ]
     },
     "metadata": {},
     "output_type": "display_data"
    },
    {
     "data": {
      "text/html": [
       "In addition to formal qualifications and <strong>experience</strong>, the successful candidate will require excellent written and verbal communication skills, be energetic, enterprising and have a determination to succeed."
      ],
      "text/plain": [
       "<IPython.core.display.HTML object>"
      ]
     },
     "metadata": {},
     "output_type": "display_data"
    },
    {
     "data": {
      "text/html": [
       "Any <strong>experience</strong> of Pioneer or Miser software would be an advantage."
      ],
      "text/plain": [
       "<IPython.core.display.HTML object>"
      ]
     },
     "metadata": {},
     "output_type": "display_data"
    },
    {
     "data": {
      "text/html": [
       "This role will be working within a small team working on the modelling of water industry asset deterioration and asset failure consequences, including the uploading of these models onto industryleading optimal asset management software Strong maths, stats and IT skills needed, Any previous <strong>experience</strong> within the Water industry would be an advantage."
      ],
      "text/plain": [
       "<IPython.core.display.HTML object>"
      ]
     },
     "metadata": {},
     "output_type": "display_data"
    },
    {
     "data": {
      "text/html": [
       "For this role, you must have a minimum of 10 years <strong>experience</strong> in subsea engineering, pipelines design or construction."
      ],
      "text/plain": [
       "<IPython.core.display.HTML object>"
      ]
     },
     "metadata": {},
     "output_type": "display_data"
    },
    {
     "data": {
      "text/html": [
       "Naturally positive and looking for the opportunity to work for a national player who are committed to your success Recruitment <strong>experience</strong> or 2 years business to business sales <strong>experience</strong> required."
      ],
      "text/plain": [
       "<IPython.core.display.HTML object>"
      ]
     },
     "metadata": {},
     "output_type": "display_data"
    },
    {
     "data": {
      "text/html": [
       "This is an exceptional opportunity to join a construction / technical agency that hasn t shrunk in the current market one bit Our client is seeking a nononsense and highly skilled Recruiter with at least a couple of years <strong>experience</strong> under their belt."
      ],
      "text/plain": [
       "<IPython.core.display.HTML object>"
      ]
     },
     "metadata": {},
     "output_type": "display_data"
    },
    {
     "data": {
      "text/html": [
       "They will need someone who has at least 1015 years of subsea cable engineering <strong>experience</strong> with significant <strong>experience</strong> within offshore oil and gas industries."
      ],
      "text/plain": [
       "<IPython.core.display.HTML object>"
      ]
     },
     "metadata": {},
     "output_type": "display_data"
    }
   ],
   "source": [
    "highlight_terms(['experience'], ads[:10])"
   ]
  },
  {
   "cell_type": "markdown",
   "metadata": {},
   "source": [
    "## Helper functions"
   ]
  },
  {
   "cell_type": "markdown",
   "metadata": {},
   "source": [
    "Let's take a variety of informative examples to test extractions on"
   ]
  },
  {
   "cell_type": "code",
   "execution_count": 12,
   "metadata": {},
   "outputs": [],
   "source": [
    "examples = [\n",
    "    'They will need someone who has at least 1015 years of subsea cable engineering experience',\n",
    "    'This position is ideally suited to high calibre engineering graduate with significant and appropriate post graduate experience.',\n",
    "    'Aerospace industry experience would be advantageous covering aerostructures and/or aero engines.',\n",
    "    'A sufficient and appropriate level of building services and controls experience gained within a client organisation, engineering consultancy or equipment supplier.',\n",
    "    \n",
    "    'Experience in Modelling and Simulation Techniques',\n",
    "    'Any experience of Pioneer or Miser software would be an advantage.',\n",
    "    'For this role, you must have a minimum of 10 years experience in subsea engineering, pipelines design or construction.',\n",
    "    'Has experience within the quality department of a related company in a similar role Ideally from a mechanical or manufacturing engineering background.',\n",
    "    'and have experience of the technical leadership of projects to time, quality and cost objectives.',\n",
    "    'Experience of protection and control design at Transmission and Distribution voltages.',\n",
    "    'Candidates with experience in telesales, callcentre, customer service, receptionist or travel are ideal for this role',\n",
    "    'Experience dealing with business clients (B2B) would be preferable.',\n",
    "    'Previous experience working as a Chef de Partie in a one AA Rosette hotel is needed for the position.',\n",
    "    'The post holder must hold as a minimum Level 1 in Trampolining (British Gymnastics) and have experience in working with children, be fun, outgoing and have excellent customer service skills and be able to instruct in line with the British Gymnastics syllabus.',\n",
    "    'Experience of techniques such as Discrete Event Simulation and/or SD modelling Mathematical/scientific background',\n",
    "\n",
    "    \n",
    "]"
   ]
  },
  {
   "cell_type": "markdown",
   "metadata": {},
   "source": [
    "We could look to extract:\n",
    "\n",
    "* a series of nouns before the word experience (e.g. \"subsea cable engineering experience\"); or\n",
    "* experience as/in something (e.g \"experience as a Chef de Partie\")\n",
    "\n",
    "we'll do this using [Spacy's Rule Based Matcher](https://spacy.io/usage/rule-based-matching)"
   ]
  },
  {
   "cell_type": "code",
   "execution_count": 13,
   "metadata": {},
   "outputs": [],
   "source": [
    "matcher = Matcher(nlp.vocab)\n",
    "pattern = [{'POS': 'NOUN', 'OP': '+'}, {'LOWER': 'experience'}]\n",
    "matcher.add('experience_noun', [pattern])\n",
    "\n",
    "pattern = [{'LOWER': 'experience'}, {'POS': 'ADP'}, {'POS': {'IN': ('DET', 'NOUN', 'PROPN')}, 'OP': '+'}]\n",
    "matcher.add('experience_adp', [pattern])"
   ]
  },
  {
   "cell_type": "code",
   "execution_count": 14,
   "metadata": {},
   "outputs": [
    {
     "data": {
      "text/plain": [
       "[(12285600890577657150, 13, 15), (12285600890577657150, 12, 15)]"
      ]
     },
     "execution_count": 14,
     "metadata": {},
     "output_type": "execute_result"
    }
   ],
   "source": [
    "doc = nlp(examples[0])\n",
    "matcher(doc)"
   ]
  },
  {
   "cell_type": "markdown",
   "metadata": {},
   "source": [
    "Here we have a little helper function to visualise extractions."
   ]
  },
  {
   "cell_type": "code",
   "execution_count": 15,
   "metadata": {},
   "outputs": [],
   "source": [
    "def show_extraction(examples, *extractors):\n",
    "    seen = set()\n",
    "    for doc in nlp.pipe(examples):\n",
    "        doc.ents = filter_spans([Span(doc, start, end, label) for extractor in extractors for label, start, end in extractor(doc)])\n",
    "        for tok in doc:\n",
    "            if tok.lower_ == 'experience':\n",
    "                sentence = tok.sent\n",
    "                if sentence.text in seen:\n",
    "                    continue\n",
    "                seen.update([sentence.text])\n",
    "                if not sentence.ents:\n",
    "                    doc.ents = list(doc.ents) + [Span(doc, tok.i, tok.i+1, 'MISSING')]\n",
    "                displacy.render(sentence, style='ent', options = {'colors': {'MISSING': 'pink',\n",
    "                                                                            'EXPERIENCE': 'lightgreen'}})\n",
    "                "
   ]
  },
  {
   "cell_type": "markdown",
   "metadata": {},
   "source": [
    "This is on the right track, but doesn't always pick up the appropriate context."
   ]
  },
  {
   "cell_type": "code",
   "execution_count": 16,
   "metadata": {},
   "outputs": [
    {
     "data": {
      "text/html": [
       "<div class=\"entities\" style=\"line-height: 2.5; direction: ltr\">They will need someone who has at least 1015 years of subsea \n",
       "<mark class=\"entity\" style=\"background: #ddd; padding: 0.45em 0.6em; margin: 0 0.25em; line-height: 1; border-radius: 0.35em;\">\n",
       "    cable engineering experience\n",
       "    <span style=\"font-size: 0.8em; font-weight: bold; line-height: 1; border-radius: 0.35em; text-transform: uppercase; vertical-align: middle; margin-left: 0.5rem\">experience_noun</span>\n",
       "</mark>\n",
       "</div>"
      ],
      "text/plain": [
       "<IPython.core.display.HTML object>"
      ]
     },
     "metadata": {},
     "output_type": "display_data"
    },
    {
     "data": {
      "text/html": [
       "<div class=\"entities\" style=\"line-height: 2.5; direction: ltr\">This position is ideally suited to high calibre engineering graduate with significant and appropriate \n",
       "<mark class=\"entity\" style=\"background: #ddd; padding: 0.45em 0.6em; margin: 0 0.25em; line-height: 1; border-radius: 0.35em;\">\n",
       "    post graduate experience\n",
       "    <span style=\"font-size: 0.8em; font-weight: bold; line-height: 1; border-radius: 0.35em; text-transform: uppercase; vertical-align: middle; margin-left: 0.5rem\">experience_noun</span>\n",
       "</mark>\n",
       ".</div>"
      ],
      "text/plain": [
       "<IPython.core.display.HTML object>"
      ]
     },
     "metadata": {},
     "output_type": "display_data"
    },
    {
     "data": {
      "text/html": [
       "<div class=\"entities\" style=\"line-height: 2.5; direction: ltr\">\n",
       "<mark class=\"entity\" style=\"background: #ddd; padding: 0.45em 0.6em; margin: 0 0.25em; line-height: 1; border-radius: 0.35em;\">\n",
       "    Aerospace industry experience\n",
       "    <span style=\"font-size: 0.8em; font-weight: bold; line-height: 1; border-radius: 0.35em; text-transform: uppercase; vertical-align: middle; margin-left: 0.5rem\">experience_noun</span>\n",
       "</mark>\n",
       " would be advantageous covering aerostructures and/or aero engines.</div>"
      ],
      "text/plain": [
       "<IPython.core.display.HTML object>"
      ]
     },
     "metadata": {},
     "output_type": "display_data"
    },
    {
     "data": {
      "text/html": [
       "<div class=\"entities\" style=\"line-height: 2.5; direction: ltr\">A sufficient and appropriate level of building services and \n",
       "<mark class=\"entity\" style=\"background: #ddd; padding: 0.45em 0.6em; margin: 0 0.25em; line-height: 1; border-radius: 0.35em;\">\n",
       "    controls experience\n",
       "    <span style=\"font-size: 0.8em; font-weight: bold; line-height: 1; border-radius: 0.35em; text-transform: uppercase; vertical-align: middle; margin-left: 0.5rem\">experience_noun</span>\n",
       "</mark>\n",
       " gained within a client organisation, engineering consultancy or equipment supplier.</div>"
      ],
      "text/plain": [
       "<IPython.core.display.HTML object>"
      ]
     },
     "metadata": {},
     "output_type": "display_data"
    },
    {
     "data": {
      "text/html": [
       "<div class=\"entities\" style=\"line-height: 2.5; direction: ltr\">\n",
       "<mark class=\"entity\" style=\"background: #ddd; padding: 0.45em 0.6em; margin: 0 0.25em; line-height: 1; border-radius: 0.35em;\">\n",
       "    Experience in Modelling\n",
       "    <span style=\"font-size: 0.8em; font-weight: bold; line-height: 1; border-radius: 0.35em; text-transform: uppercase; vertical-align: middle; margin-left: 0.5rem\">experience_adp</span>\n",
       "</mark>\n",
       " and Simulation Techniques</div>"
      ],
      "text/plain": [
       "<IPython.core.display.HTML object>"
      ]
     },
     "metadata": {},
     "output_type": "display_data"
    },
    {
     "data": {
      "text/html": [
       "<div class=\"entities\" style=\"line-height: 2.5; direction: ltr\">Any \n",
       "<mark class=\"entity\" style=\"background: #ddd; padding: 0.45em 0.6em; margin: 0 0.25em; line-height: 1; border-radius: 0.35em;\">\n",
       "    experience of Pioneer\n",
       "    <span style=\"font-size: 0.8em; font-weight: bold; line-height: 1; border-radius: 0.35em; text-transform: uppercase; vertical-align: middle; margin-left: 0.5rem\">experience_adp</span>\n",
       "</mark>\n",
       " or Miser software would be an advantage.</div>"
      ],
      "text/plain": [
       "<IPython.core.display.HTML object>"
      ]
     },
     "metadata": {},
     "output_type": "display_data"
    },
    {
     "data": {
      "text/html": [
       "<div class=\"entities\" style=\"line-height: 2.5; direction: ltr\">For this role, you must have a minimum of 10 \n",
       "<mark class=\"entity\" style=\"background: #ddd; padding: 0.45em 0.6em; margin: 0 0.25em; line-height: 1; border-radius: 0.35em;\">\n",
       "    years experience\n",
       "    <span style=\"font-size: 0.8em; font-weight: bold; line-height: 1; border-radius: 0.35em; text-transform: uppercase; vertical-align: middle; margin-left: 0.5rem\">experience_noun</span>\n",
       "</mark>\n",
       " in subsea engineering, pipelines design or construction.</div>"
      ],
      "text/plain": [
       "<IPython.core.display.HTML object>"
      ]
     },
     "metadata": {},
     "output_type": "display_data"
    },
    {
     "data": {
      "text/html": [
       "<div class=\"entities\" style=\"line-height: 2.5; direction: ltr\">Has \n",
       "<mark class=\"entity\" style=\"background: #ddd; padding: 0.45em 0.6em; margin: 0 0.25em; line-height: 1; border-radius: 0.35em;\">\n",
       "    experience within the quality department\n",
       "    <span style=\"font-size: 0.8em; font-weight: bold; line-height: 1; border-radius: 0.35em; text-transform: uppercase; vertical-align: middle; margin-left: 0.5rem\">experience_adp</span>\n",
       "</mark>\n",
       " of a related company in a similar role Ideally from a mechanical or manufacturing engineering background.</div>"
      ],
      "text/plain": [
       "<IPython.core.display.HTML object>"
      ]
     },
     "metadata": {},
     "output_type": "display_data"
    },
    {
     "data": {
      "text/html": [
       "<div class=\"entities\" style=\"line-height: 2.5; direction: ltr\">and have \n",
       "<mark class=\"entity\" style=\"background: #ddd; padding: 0.45em 0.6em; margin: 0 0.25em; line-height: 1; border-radius: 0.35em;\">\n",
       "    experience of the\n",
       "    <span style=\"font-size: 0.8em; font-weight: bold; line-height: 1; border-radius: 0.35em; text-transform: uppercase; vertical-align: middle; margin-left: 0.5rem\">experience_adp</span>\n",
       "</mark>\n",
       " technical leadership of projects to time, quality and cost objectives.</div>"
      ],
      "text/plain": [
       "<IPython.core.display.HTML object>"
      ]
     },
     "metadata": {},
     "output_type": "display_data"
    },
    {
     "data": {
      "text/html": [
       "<div class=\"entities\" style=\"line-height: 2.5; direction: ltr\">\n",
       "<mark class=\"entity\" style=\"background: #ddd; padding: 0.45em 0.6em; margin: 0 0.25em; line-height: 1; border-radius: 0.35em;\">\n",
       "    Experience of protection\n",
       "    <span style=\"font-size: 0.8em; font-weight: bold; line-height: 1; border-radius: 0.35em; text-transform: uppercase; vertical-align: middle; margin-left: 0.5rem\">experience_adp</span>\n",
       "</mark>\n",
       " and control design at Transmission and Distribution voltages.</div>"
      ],
      "text/plain": [
       "<IPython.core.display.HTML object>"
      ]
     },
     "metadata": {},
     "output_type": "display_data"
    },
    {
     "data": {
      "text/html": [
       "<div class=\"entities\" style=\"line-height: 2.5; direction: ltr\">Candidates with \n",
       "<mark class=\"entity\" style=\"background: #ddd; padding: 0.45em 0.6em; margin: 0 0.25em; line-height: 1; border-radius: 0.35em;\">\n",
       "    experience in telesales\n",
       "    <span style=\"font-size: 0.8em; font-weight: bold; line-height: 1; border-radius: 0.35em; text-transform: uppercase; vertical-align: middle; margin-left: 0.5rem\">experience_adp</span>\n",
       "</mark>\n",
       ", callcentre, customer service, receptionist or travel are ideal for this role</div>"
      ],
      "text/plain": [
       "<IPython.core.display.HTML object>"
      ]
     },
     "metadata": {},
     "output_type": "display_data"
    },
    {
     "data": {
      "text/html": [
       "<div class=\"entities\" style=\"line-height: 2.5; direction: ltr\">\n",
       "<mark class=\"entity\" style=\"background: pink; padding: 0.45em 0.6em; margin: 0 0.25em; line-height: 1; border-radius: 0.35em;\">\n",
       "    Experience\n",
       "    <span style=\"font-size: 0.8em; font-weight: bold; line-height: 1; border-radius: 0.35em; text-transform: uppercase; vertical-align: middle; margin-left: 0.5rem\">MISSING</span>\n",
       "</mark>\n",
       " dealing with business clients (B2B) would be preferable.</div>"
      ],
      "text/plain": [
       "<IPython.core.display.HTML object>"
      ]
     },
     "metadata": {},
     "output_type": "display_data"
    },
    {
     "data": {
      "text/html": [
       "<div class=\"entities\" style=\"line-height: 2.5; direction: ltr\">Previous \n",
       "<mark class=\"entity\" style=\"background: pink; padding: 0.45em 0.6em; margin: 0 0.25em; line-height: 1; border-radius: 0.35em;\">\n",
       "    experience\n",
       "    <span style=\"font-size: 0.8em; font-weight: bold; line-height: 1; border-radius: 0.35em; text-transform: uppercase; vertical-align: middle; margin-left: 0.5rem\">MISSING</span>\n",
       "</mark>\n",
       " working as a Chef de Partie in a one AA Rosette hotel is needed for the position.</div>"
      ],
      "text/plain": [
       "<IPython.core.display.HTML object>"
      ]
     },
     "metadata": {},
     "output_type": "display_data"
    },
    {
     "data": {
      "text/html": [
       "<div class=\"entities\" style=\"line-height: 2.5; direction: ltr\">The post holder must hold as a minimum Level 1 in Trampolining (British Gymnastics) and have \n",
       "<mark class=\"entity\" style=\"background: pink; padding: 0.45em 0.6em; margin: 0 0.25em; line-height: 1; border-radius: 0.35em;\">\n",
       "    experience\n",
       "    <span style=\"font-size: 0.8em; font-weight: bold; line-height: 1; border-radius: 0.35em; text-transform: uppercase; vertical-align: middle; margin-left: 0.5rem\">MISSING</span>\n",
       "</mark>\n",
       " in working with children, be fun, outgoing and have excellent customer service skills and be able to instruct in line with the British Gymnastics syllabus.</div>"
      ],
      "text/plain": [
       "<IPython.core.display.HTML object>"
      ]
     },
     "metadata": {},
     "output_type": "display_data"
    },
    {
     "data": {
      "text/html": [
       "<div class=\"entities\" style=\"line-height: 2.5; direction: ltr\">\n",
       "<mark class=\"entity\" style=\"background: #ddd; padding: 0.45em 0.6em; margin: 0 0.25em; line-height: 1; border-radius: 0.35em;\">\n",
       "    Experience of techniques\n",
       "    <span style=\"font-size: 0.8em; font-weight: bold; line-height: 1; border-radius: 0.35em; text-transform: uppercase; vertical-align: middle; margin-left: 0.5rem\">experience_adp</span>\n",
       "</mark>\n",
       " such as Discrete Event Simulation and/or SD modelling Mathematical/scientific background</div>"
      ],
      "text/plain": [
       "<IPython.core.display.HTML object>"
      ]
     },
     "metadata": {},
     "output_type": "display_data"
    }
   ],
   "source": [
    "show_extraction(examples, matcher)"
   ]
  },
  {
   "cell_type": "markdown",
   "metadata": {},
   "source": [
    "We can then extract them from a document.\n",
    "\n",
    "Note the use of `filter_spans`; this ensures if we have overlapping spans we only take the largest one."
   ]
  },
  {
   "cell_type": "code",
   "execution_count": 17,
   "metadata": {},
   "outputs": [],
   "source": [
    "def get_extractions(examples, *extractors):\n",
    "    # Could use context instead of enumerate\n",
    "    for idx, doc in enumerate(nlp.pipe(examples, batch_size=100, disable=['ner'])):\n",
    "        for ent in filter_spans([Span(doc, start, end, label) for extractor in extractors for label, start, end in extractor(doc)]):\n",
    "            sent = ent.root.sent\n",
    "            yield ent.text, idx, ent.start, ent.end, ent.label_, sent.start, sent.end"
   ]
  },
  {
   "cell_type": "code",
   "execution_count": 18,
   "metadata": {},
   "outputs": [
    {
     "data": {
      "text/plain": [
       "[('experience in a', 1, 150, 153, 'experience_adp', 122, 164),\n",
       " ('years experience', 2, 45, 47, 'experience_noun', 16, 48),\n",
       " ('decision support models Experience', 2, 92, 96, 'experience_noun', 79, 118),\n",
       " ('Experience of techniques', 2, 102, 105, 'experience_adp', 79, 118)]"
      ]
     },
     "execution_count": 18,
     "metadata": {},
     "output_type": "execute_result"
    }
   ],
   "source": [
    "list(get_extractions(ads[:3], matcher))"
   ]
  },
  {
   "cell_type": "markdown",
   "metadata": {},
   "source": [
    "Put it in a dataframe and join with the job metadata"
   ]
  },
  {
   "cell_type": "code",
   "execution_count": 19,
   "metadata": {},
   "outputs": [],
   "source": [
    "def extract_df(*extractors, n_max=None, **kwargs):\n",
    "    if n_max is None:\n",
    "        n_max = len(df)\n",
    "    ent_df = pd.DataFrame(list(get_extractions(df[:n_max].FullDescription, *extractors)),\n",
    "                          columns=['text', 'docidx', 'start', 'end', 'label', 'sent_start', 'sent_end'])\n",
    "    return ent_df.merge(df, how='left', left_on='docidx', right_index=True)"
   ]
  },
  {
   "cell_type": "code",
   "execution_count": 20,
   "metadata": {},
   "outputs": [
    {
     "name": "stdout",
     "output_type": "stream",
     "text": [
      "CPU times: user 16.2 s, sys: 11.7 s, total: 27.9 s\n",
      "Wall time: 1min 18s\n"
     ]
    },
    {
     "data": {
      "text/html": [
       "<div>\n",
       "<style scoped>\n",
       "    .dataframe tbody tr th:only-of-type {\n",
       "        vertical-align: middle;\n",
       "    }\n",
       "\n",
       "    .dataframe tbody tr th {\n",
       "        vertical-align: top;\n",
       "    }\n",
       "\n",
       "    .dataframe thead th {\n",
       "        text-align: right;\n",
       "    }\n",
       "</style>\n",
       "<table border=\"1\" class=\"dataframe\">\n",
       "  <thead>\n",
       "    <tr style=\"text-align: right;\">\n",
       "      <th></th>\n",
       "      <th>text</th>\n",
       "      <th>docidx</th>\n",
       "      <th>start</th>\n",
       "      <th>end</th>\n",
       "      <th>label</th>\n",
       "      <th>sent_start</th>\n",
       "      <th>sent_end</th>\n",
       "      <th>Id</th>\n",
       "      <th>Title</th>\n",
       "      <th>FullDescription</th>\n",
       "      <th>LocationRaw</th>\n",
       "      <th>LocationNormalized</th>\n",
       "      <th>ContractType</th>\n",
       "      <th>ContractTime</th>\n",
       "      <th>Company</th>\n",
       "      <th>Category</th>\n",
       "      <th>SalaryRaw</th>\n",
       "      <th>SalaryNormalized</th>\n",
       "      <th>SourceName</th>\n",
       "      <th>split</th>\n",
       "    </tr>\n",
       "  </thead>\n",
       "  <tbody>\n",
       "    <tr>\n",
       "      <th>0</th>\n",
       "      <td>experience in a</td>\n",
       "      <td>1</td>\n",
       "      <td>150</td>\n",
       "      <td>153</td>\n",
       "      <td>experience_adp</td>\n",
       "      <td>122</td>\n",
       "      <td>164</td>\n",
       "      <td>12612830</td>\n",
       "      <td>Stress Engineer Glasgow</td>\n",
       "      <td>Stress Engineer Glasgow Salary **** to **** We...</td>\n",
       "      <td>Glasgow, Scotland, Scotland</td>\n",
       "      <td>Glasgow</td>\n",
       "      <td>NaN</td>\n",
       "      <td>permanent</td>\n",
       "      <td>Gregory Martin International</td>\n",
       "      <td>Engineering Jobs</td>\n",
       "      <td>25000 - 35000/annum 25-35K</td>\n",
       "      <td>30000.0</td>\n",
       "      <td>cv-library.co.uk</td>\n",
       "      <td>Train</td>\n",
       "    </tr>\n",
       "    <tr>\n",
       "      <th>1</th>\n",
       "      <td>years experience</td>\n",
       "      <td>2</td>\n",
       "      <td>45</td>\n",
       "      <td>47</td>\n",
       "      <td>experience_noun</td>\n",
       "      <td>16</td>\n",
       "      <td>48</td>\n",
       "      <td>12612844</td>\n",
       "      <td>Modelling and simulation analyst</td>\n",
       "      <td>Mathematical Modeller / Simulation Analyst / O...</td>\n",
       "      <td>Hampshire, South East, South East</td>\n",
       "      <td>Hampshire</td>\n",
       "      <td>NaN</td>\n",
       "      <td>permanent</td>\n",
       "      <td>Gregory Martin International</td>\n",
       "      <td>Engineering Jobs</td>\n",
       "      <td>20000 - 40000/annum 20-40K</td>\n",
       "      <td>30000.0</td>\n",
       "      <td>cv-library.co.uk</td>\n",
       "      <td>Train</td>\n",
       "    </tr>\n",
       "    <tr>\n",
       "      <th>2</th>\n",
       "      <td>decision support models Experience</td>\n",
       "      <td>2</td>\n",
       "      <td>92</td>\n",
       "      <td>96</td>\n",
       "      <td>experience_noun</td>\n",
       "      <td>79</td>\n",
       "      <td>118</td>\n",
       "      <td>12612844</td>\n",
       "      <td>Modelling and simulation analyst</td>\n",
       "      <td>Mathematical Modeller / Simulation Analyst / O...</td>\n",
       "      <td>Hampshire, South East, South East</td>\n",
       "      <td>Hampshire</td>\n",
       "      <td>NaN</td>\n",
       "      <td>permanent</td>\n",
       "      <td>Gregory Martin International</td>\n",
       "      <td>Engineering Jobs</td>\n",
       "      <td>20000 - 40000/annum 20-40K</td>\n",
       "      <td>30000.0</td>\n",
       "      <td>cv-library.co.uk</td>\n",
       "      <td>Train</td>\n",
       "    </tr>\n",
       "    <tr>\n",
       "      <th>3</th>\n",
       "      <td>Experience of techniques</td>\n",
       "      <td>2</td>\n",
       "      <td>102</td>\n",
       "      <td>105</td>\n",
       "      <td>experience_adp</td>\n",
       "      <td>79</td>\n",
       "      <td>118</td>\n",
       "      <td>12612844</td>\n",
       "      <td>Modelling and simulation analyst</td>\n",
       "      <td>Mathematical Modeller / Simulation Analyst / O...</td>\n",
       "      <td>Hampshire, South East, South East</td>\n",
       "      <td>Hampshire</td>\n",
       "      <td>NaN</td>\n",
       "      <td>permanent</td>\n",
       "      <td>Gregory Martin International</td>\n",
       "      <td>Engineering Jobs</td>\n",
       "      <td>20000 - 40000/annum 20-40K</td>\n",
       "      <td>30000.0</td>\n",
       "      <td>cv-library.co.uk</td>\n",
       "      <td>Train</td>\n",
       "    </tr>\n",
       "    <tr>\n",
       "      <th>4</th>\n",
       "      <td>experience within the Water industry</td>\n",
       "      <td>5</td>\n",
       "      <td>117</td>\n",
       "      <td>122</td>\n",
       "      <td>experience_adp</td>\n",
       "      <td>71</td>\n",
       "      <td>127</td>\n",
       "      <td>13179816</td>\n",
       "      <td>Engineering Systems Analyst Water Industry</td>\n",
       "      <td>Engineering Systems Analyst Water Industry Loc...</td>\n",
       "      <td>Dorking, Surrey, Surrey, Surrey</td>\n",
       "      <td>Dorking</td>\n",
       "      <td>NaN</td>\n",
       "      <td>permanent</td>\n",
       "      <td>Gregory Martin International</td>\n",
       "      <td>Engineering Jobs</td>\n",
       "      <td>20000 - 30000/annum 20K to 30K</td>\n",
       "      <td>25000.0</td>\n",
       "      <td>cv-library.co.uk</td>\n",
       "      <td>Train</td>\n",
       "    </tr>\n",
       "  </tbody>\n",
       "</table>\n",
       "</div>"
      ],
      "text/plain": [
       "                                   text  docidx  start  end            label  \\\n",
       "0                       experience in a       1    150  153   experience_adp   \n",
       "1                      years experience       2     45   47  experience_noun   \n",
       "2    decision support models Experience       2     92   96  experience_noun   \n",
       "3              Experience of techniques       2    102  105   experience_adp   \n",
       "4  experience within the Water industry       5    117  122   experience_adp   \n",
       "\n",
       "   sent_start  sent_end        Id                                       Title  \\\n",
       "0         122       164  12612830                     Stress Engineer Glasgow   \n",
       "1          16        48  12612844            Modelling and simulation analyst   \n",
       "2          79       118  12612844            Modelling and simulation analyst   \n",
       "3          79       118  12612844            Modelling and simulation analyst   \n",
       "4          71       127  13179816  Engineering Systems Analyst Water Industry   \n",
       "\n",
       "                                     FullDescription  \\\n",
       "0  Stress Engineer Glasgow Salary **** to **** We...   \n",
       "1  Mathematical Modeller / Simulation Analyst / O...   \n",
       "2  Mathematical Modeller / Simulation Analyst / O...   \n",
       "3  Mathematical Modeller / Simulation Analyst / O...   \n",
       "4  Engineering Systems Analyst Water Industry Loc...   \n",
       "\n",
       "                         LocationRaw LocationNormalized ContractType  \\\n",
       "0        Glasgow, Scotland, Scotland            Glasgow          NaN   \n",
       "1  Hampshire, South East, South East          Hampshire          NaN   \n",
       "2  Hampshire, South East, South East          Hampshire          NaN   \n",
       "3  Hampshire, South East, South East          Hampshire          NaN   \n",
       "4    Dorking, Surrey, Surrey, Surrey            Dorking          NaN   \n",
       "\n",
       "  ContractTime                       Company          Category  \\\n",
       "0    permanent  Gregory Martin International  Engineering Jobs   \n",
       "1    permanent  Gregory Martin International  Engineering Jobs   \n",
       "2    permanent  Gregory Martin International  Engineering Jobs   \n",
       "3    permanent  Gregory Martin International  Engineering Jobs   \n",
       "4    permanent  Gregory Martin International  Engineering Jobs   \n",
       "\n",
       "                        SalaryRaw  SalaryNormalized        SourceName  split  \n",
       "0      25000 - 35000/annum 25-35K           30000.0  cv-library.co.uk  Train  \n",
       "1      20000 - 40000/annum 20-40K           30000.0  cv-library.co.uk  Train  \n",
       "2      20000 - 40000/annum 20-40K           30000.0  cv-library.co.uk  Train  \n",
       "3      20000 - 40000/annum 20-40K           30000.0  cv-library.co.uk  Train  \n",
       "4  20000 - 30000/annum 20K to 30K           25000.0  cv-library.co.uk  Train  "
      ]
     },
     "execution_count": 20,
     "metadata": {},
     "output_type": "execute_result"
    }
   ],
   "source": [
    "%time ent_df = extract_df(matcher, n_max=1000)\n",
    "ent_df.head()"
   ]
  },
  {
   "cell_type": "markdown",
   "metadata": {},
   "source": [
    "Aggregate the counts of different texts.\n",
    "\n",
    "It's more significant if it happens accross multiple Advertisers/Sources."
   ]
  },
  {
   "cell_type": "code",
   "execution_count": 21,
   "metadata": {},
   "outputs": [],
   "source": [
    "def aggregate_df(df, col=['text']):\n",
    "    return (df\n",
    "            .groupby(col)\n",
    "            .agg(n_company=('Company', 'nunique'),\n",
    "                 n_ad=('Id', 'nunique'),\n",
    "                 n_source=('SourceName', 'nunique'),\n",
    "                 n=('Id', 'count'))\n",
    "            .reset_index()\n",
    "            .sort_values(['n_company', 'n_ad', 'n'], ascending=False)\n",
    "        )"
   ]
  },
  {
   "cell_type": "markdown",
   "metadata": {},
   "source": [
    "Unfortunately what is caught with these simple rules has mixed results"
   ]
  },
  {
   "cell_type": "code",
   "execution_count": 22,
   "metadata": {},
   "outputs": [
    {
     "data": {
      "text/html": [
       "<div>\n",
       "<style scoped>\n",
       "    .dataframe tbody tr th:only-of-type {\n",
       "        vertical-align: middle;\n",
       "    }\n",
       "\n",
       "    .dataframe tbody tr th {\n",
       "        vertical-align: top;\n",
       "    }\n",
       "\n",
       "    .dataframe thead th {\n",
       "        text-align: right;\n",
       "    }\n",
       "</style>\n",
       "<table border=\"1\" class=\"dataframe\">\n",
       "  <thead>\n",
       "    <tr style=\"text-align: right;\">\n",
       "      <th></th>\n",
       "      <th>text</th>\n",
       "      <th>n_company</th>\n",
       "      <th>n_ad</th>\n",
       "      <th>n_source</th>\n",
       "      <th>n</th>\n",
       "    </tr>\n",
       "  </thead>\n",
       "  <tbody>\n",
       "    <tr>\n",
       "      <th>119</th>\n",
       "      <td>experience in a</td>\n",
       "      <td>4</td>\n",
       "      <td>52</td>\n",
       "      <td>5</td>\n",
       "      <td>52</td>\n",
       "    </tr>\n",
       "    <tr>\n",
       "      <th>286</th>\n",
       "      <td>years experience</td>\n",
       "      <td>3</td>\n",
       "      <td>22</td>\n",
       "      <td>3</td>\n",
       "      <td>22</td>\n",
       "    </tr>\n",
       "    <tr>\n",
       "      <th>233</th>\n",
       "      <td>management experience</td>\n",
       "      <td>2</td>\n",
       "      <td>17</td>\n",
       "      <td>3</td>\n",
       "      <td>18</td>\n",
       "    </tr>\n",
       "    <tr>\n",
       "      <th>69</th>\n",
       "      <td>banqueting experience</td>\n",
       "      <td>2</td>\n",
       "      <td>2</td>\n",
       "      <td>1</td>\n",
       "      <td>2</td>\n",
       "    </tr>\n",
       "    <tr>\n",
       "      <th>87</th>\n",
       "      <td>design experience</td>\n",
       "      <td>2</td>\n",
       "      <td>2</td>\n",
       "      <td>1</td>\n",
       "      <td>2</td>\n",
       "    </tr>\n",
       "    <tr>\n",
       "      <th>88</th>\n",
       "      <td>development experience</td>\n",
       "      <td>2</td>\n",
       "      <td>2</td>\n",
       "      <td>1</td>\n",
       "      <td>2</td>\n",
       "    </tr>\n",
       "    <tr>\n",
       "      <th>196</th>\n",
       "      <td>experience within a</td>\n",
       "      <td>1</td>\n",
       "      <td>7</td>\n",
       "      <td>2</td>\n",
       "      <td>7</td>\n",
       "    </tr>\n",
       "    <tr>\n",
       "      <th>260</th>\n",
       "      <td>rosette experience</td>\n",
       "      <td>1</td>\n",
       "      <td>5</td>\n",
       "      <td>2</td>\n",
       "      <td>5</td>\n",
       "    </tr>\n",
       "    <tr>\n",
       "      <th>176</th>\n",
       "      <td>experience of the</td>\n",
       "      <td>1</td>\n",
       "      <td>4</td>\n",
       "      <td>2</td>\n",
       "      <td>4</td>\n",
       "    </tr>\n",
       "    <tr>\n",
       "      <th>142</th>\n",
       "      <td>experience in software development</td>\n",
       "      <td>1</td>\n",
       "      <td>3</td>\n",
       "      <td>1</td>\n",
       "      <td>3</td>\n",
       "    </tr>\n",
       "  </tbody>\n",
       "</table>\n",
       "</div>"
      ],
      "text/plain": [
       "                                   text  n_company  n_ad  n_source   n\n",
       "119                     experience in a          4    52         5  52\n",
       "286                    years experience          3    22         3  22\n",
       "233               management experience          2    17         3  18\n",
       "69                banqueting experience          2     2         1   2\n",
       "87                    design experience          2     2         1   2\n",
       "88               development experience          2     2         1   2\n",
       "196                 experience within a          1     7         2   7\n",
       "260                  rosette experience          1     5         2   5\n",
       "176                   experience of the          1     4         2   4\n",
       "142  experience in software development          1     3         1   3"
      ]
     },
     "execution_count": 22,
     "metadata": {},
     "output_type": "execute_result"
    }
   ],
   "source": [
    "aggregate_df(ent_df).head(10)"
   ]
  },
  {
   "cell_type": "markdown",
   "metadata": {},
   "source": [
    "Let's add some tooling to look at specific cases"
   ]
  },
  {
   "cell_type": "code",
   "execution_count": 23,
   "metadata": {},
   "outputs": [],
   "source": [
    "def showent(docidx, start, end, label, sent_start, sent_end, **kwargs):\n",
    "    # We don't need to parse it, so just make_doc\n",
    "    doc = nlp.make_doc(ads[docidx])\n",
    "    doc.ents = [Span(doc, start, end, label)]\n",
    "    sent = doc[sent_start:sent_end]\n",
    "    displacy.render(sent, style='ent')\n",
    "    \n",
    "def showent_df(df):\n",
    "    for idx, row in df.iterrows():\n",
    "        showent(**row)"
   ]
  },
  {
   "cell_type": "markdown",
   "metadata": {},
   "source": [
    "We can see that we've actually missed the subject entirely! \n",
    "\n",
    "We could be a bit more clever and use some structure from the grammar to extract what we need."
   ]
  },
  {
   "cell_type": "code",
   "execution_count": 24,
   "metadata": {},
   "outputs": [
    {
     "data": {
      "text/html": [
       "<div class=\"entities\" style=\"line-height: 2.5; direction: ltr\">The Requirements You will need to have a good engineering degree that includes structural analysis (such as aeronautical, mechanical, automotive, civil) with some \n",
       "<mark class=\"entity\" style=\"background: #ddd; padding: 0.45em 0.6em; margin: 0 0.25em; line-height: 1; border-radius: 0.35em;\">\n",
       "    experience in a\n",
       "    <span style=\"font-size: 0.8em; font-weight: bold; line-height: 1; border-radius: 0.35em; text-transform: uppercase; vertical-align: middle; margin-left: 0.5rem\">experience_adp</span>\n",
       "</mark>\n",
       " professional engineering environment relevant to (but not limited to) </div>"
      ],
      "text/plain": [
       "<IPython.core.display.HTML object>"
      ]
     },
     "metadata": {},
     "output_type": "display_data"
    },
    {
     "data": {
      "text/html": [
       "<div class=\"entities\" style=\"line-height: 2.5; direction: ltr\">All Chef de Parties applying for this role must have a strong background with highlights previous AA Rosette \n",
       "<mark class=\"entity\" style=\"background: #ddd; padding: 0.45em 0.6em; margin: 0 0.25em; line-height: 1; border-radius: 0.35em;\">\n",
       "    experience in a\n",
       "    <span style=\"font-size: 0.8em; font-weight: bold; line-height: 1; border-radius: 0.35em; text-transform: uppercase; vertical-align: middle; margin-left: 0.5rem\">experience_adp</span>\n",
       "</mark>\n",
       " high volume operation.</div>"
      ],
      "text/plain": [
       "<IPython.core.display.HTML object>"
      ]
     },
     "metadata": {},
     "output_type": "display_data"
    },
    {
     "data": {
      "text/html": [
       "<div class=\"entities\" style=\"line-height: 2.5; direction: ltr\">CE hands on \n",
       "<mark class=\"entity\" style=\"background: #ddd; padding: 0.45em 0.6em; margin: 0 0.25em; line-height: 1; border-radius: 0.35em;\">\n",
       "    experience in a\n",
       "    <span style=\"font-size: 0.8em; font-weight: bold; line-height: 1; border-radius: 0.35em; text-transform: uppercase; vertical-align: middle; margin-left: 0.5rem\">experience_adp</span>\n",
       "</mark>\n",
       " nuclear plant environment. </div>"
      ],
      "text/plain": [
       "<IPython.core.display.HTML object>"
      ]
     },
     "metadata": {},
     "output_type": "display_data"
    },
    {
     "data": {
      "text/html": [
       "<div class=\"entities\" style=\"line-height: 2.5; direction: ltr\">Do you want to have \n",
       "<mark class=\"entity\" style=\"background: #ddd; padding: 0.45em 0.6em; margin: 0 0.25em; line-height: 1; border-radius: 0.35em;\">\n",
       "    experience in a\n",
       "    <span style=\"font-size: 0.8em; font-weight: bold; line-height: 1; border-radius: 0.35em; text-transform: uppercase; vertical-align: middle; margin-left: 0.5rem\">experience_adp</span>\n",
       "</mark>\n",
       " </div>"
      ],
      "text/plain": [
       "<IPython.core.display.HTML object>"
      ]
     },
     "metadata": {},
     "output_type": "display_data"
    },
    {
     "data": {
      "text/html": [
       "<div class=\"entities\" style=\"line-height: 2.5; direction: ltr\">The ideal Junior Sous will need to have at least two years \n",
       "<mark class=\"entity\" style=\"background: #ddd; padding: 0.45em 0.6em; margin: 0 0.25em; line-height: 1; border-radius: 0.35em;\">\n",
       "    experience in a\n",
       "    <span style=\"font-size: 0.8em; font-weight: bold; line-height: 1; border-radius: 0.35em; text-transform: uppercase; vertical-align: middle; margin-left: 0.5rem\">experience_adp</span>\n",
       "</mark>\n",
       " similar operation you will need to have high standards of presentation and passion for high quality fresh gastro pub food. </div>"
      ],
      "text/plain": [
       "<IPython.core.display.HTML object>"
      ]
     },
     "metadata": {},
     "output_type": "display_data"
    }
   ],
   "source": [
    "showent_df(ent_df.query('text == \"experience in a\"').head())"
   ]
  },
  {
   "cell_type": "markdown",
   "metadata": {},
   "source": [
    "### Extracting types of experience"
   ]
  },
  {
   "cell_type": "markdown",
   "metadata": {},
   "source": [
    "Let's extract some examples of {type of} experience"
   ]
  },
  {
   "cell_type": "markdown",
   "metadata": {},
   "source": [
    "Here's a rough rule to extract the phrase to the left of the word 'experience' using SpaCy's noun_chunks, which is based on the syntactic structure (see [`spacy.lang.en.syntax_iterators`](https://github.com/explosion/spaCy/blob/master/spacy/lang/en/syntax_iterators.py#L7))"
   ]
  },
  {
   "cell_type": "code",
   "execution_count": 25,
   "metadata": {},
   "outputs": [],
   "source": [
    "def extract_noun_phrase_experience(doc):\n",
    "    for np in doc.noun_chunks:\n",
    "        if np[-1].lower_ == 'experience':\n",
    "            if len(np) > 1:\n",
    "                yield 'EXPERIENCE', np[0].i, np[-1].i"
   ]
  },
  {
   "cell_type": "markdown",
   "metadata": {},
   "source": [
    "Notice how our rule picks out the right amount of context like \"subsea cable engineering\".\n",
    "\n",
    "However we're also picking up quantifiers like \"Any\" and \"10 years\""
   ]
  },
  {
   "cell_type": "code",
   "execution_count": 26,
   "metadata": {},
   "outputs": [
    {
     "data": {
      "text/html": [
       "<div class=\"entities\" style=\"line-height: 2.5; direction: ltr\">They will need someone who has at least 1015 years of \n",
       "<mark class=\"entity\" style=\"background: lightgreen; padding: 0.45em 0.6em; margin: 0 0.25em; line-height: 1; border-radius: 0.35em;\">\n",
       "    subsea cable engineering\n",
       "    <span style=\"font-size: 0.8em; font-weight: bold; line-height: 1; border-radius: 0.35em; text-transform: uppercase; vertical-align: middle; margin-left: 0.5rem\">EXPERIENCE</span>\n",
       "</mark>\n",
       " experience</div>"
      ],
      "text/plain": [
       "<IPython.core.display.HTML object>"
      ]
     },
     "metadata": {},
     "output_type": "display_data"
    },
    {
     "data": {
      "text/html": [
       "<div class=\"entities\" style=\"line-height: 2.5; direction: ltr\">This position is ideally suited to high calibre engineering graduate with \n",
       "<mark class=\"entity\" style=\"background: lightgreen; padding: 0.45em 0.6em; margin: 0 0.25em; line-height: 1; border-radius: 0.35em;\">\n",
       "    significant and appropriate post graduate\n",
       "    <span style=\"font-size: 0.8em; font-weight: bold; line-height: 1; border-radius: 0.35em; text-transform: uppercase; vertical-align: middle; margin-left: 0.5rem\">EXPERIENCE</span>\n",
       "</mark>\n",
       " experience.</div>"
      ],
      "text/plain": [
       "<IPython.core.display.HTML object>"
      ]
     },
     "metadata": {},
     "output_type": "display_data"
    },
    {
     "data": {
      "text/html": [
       "<div class=\"entities\" style=\"line-height: 2.5; direction: ltr\">\n",
       "<mark class=\"entity\" style=\"background: lightgreen; padding: 0.45em 0.6em; margin: 0 0.25em; line-height: 1; border-radius: 0.35em;\">\n",
       "    Aerospace industry\n",
       "    <span style=\"font-size: 0.8em; font-weight: bold; line-height: 1; border-radius: 0.35em; text-transform: uppercase; vertical-align: middle; margin-left: 0.5rem\">EXPERIENCE</span>\n",
       "</mark>\n",
       " experience would be advantageous covering aerostructures and/or aero engines.</div>"
      ],
      "text/plain": [
       "<IPython.core.display.HTML object>"
      ]
     },
     "metadata": {},
     "output_type": "display_data"
    },
    {
     "data": {
      "text/html": [
       "<div class=\"entities\" style=\"line-height: 2.5; direction: ltr\">A sufficient and appropriate level of \n",
       "<mark class=\"entity\" style=\"background: lightgreen; padding: 0.45em 0.6em; margin: 0 0.25em; line-height: 1; border-radius: 0.35em;\">\n",
       "    building services and controls\n",
       "    <span style=\"font-size: 0.8em; font-weight: bold; line-height: 1; border-radius: 0.35em; text-transform: uppercase; vertical-align: middle; margin-left: 0.5rem\">EXPERIENCE</span>\n",
       "</mark>\n",
       " experience gained within a client organisation, engineering consultancy or equipment supplier.</div>"
      ],
      "text/plain": [
       "<IPython.core.display.HTML object>"
      ]
     },
     "metadata": {},
     "output_type": "display_data"
    },
    {
     "data": {
      "text/html": [
       "<div class=\"entities\" style=\"line-height: 2.5; direction: ltr\">\n",
       "<mark class=\"entity\" style=\"background: pink; padding: 0.45em 0.6em; margin: 0 0.25em; line-height: 1; border-radius: 0.35em;\">\n",
       "    Experience\n",
       "    <span style=\"font-size: 0.8em; font-weight: bold; line-height: 1; border-radius: 0.35em; text-transform: uppercase; vertical-align: middle; margin-left: 0.5rem\">MISSING</span>\n",
       "</mark>\n",
       " in Modelling and Simulation Techniques</div>"
      ],
      "text/plain": [
       "<IPython.core.display.HTML object>"
      ]
     },
     "metadata": {},
     "output_type": "display_data"
    },
    {
     "data": {
      "text/html": [
       "<div class=\"entities\" style=\"line-height: 2.5; direction: ltr\">\n",
       "<mark class=\"entity\" style=\"background: lightgreen; padding: 0.45em 0.6em; margin: 0 0.25em; line-height: 1; border-radius: 0.35em;\">\n",
       "    Any\n",
       "    <span style=\"font-size: 0.8em; font-weight: bold; line-height: 1; border-radius: 0.35em; text-transform: uppercase; vertical-align: middle; margin-left: 0.5rem\">EXPERIENCE</span>\n",
       "</mark>\n",
       " experience of Pioneer or Miser software would be an advantage.</div>"
      ],
      "text/plain": [
       "<IPython.core.display.HTML object>"
      ]
     },
     "metadata": {},
     "output_type": "display_data"
    },
    {
     "data": {
      "text/html": [
       "<div class=\"entities\" style=\"line-height: 2.5; direction: ltr\">For this role, you must have a minimum of \n",
       "<mark class=\"entity\" style=\"background: lightgreen; padding: 0.45em 0.6em; margin: 0 0.25em; line-height: 1; border-radius: 0.35em;\">\n",
       "    10 years\n",
       "    <span style=\"font-size: 0.8em; font-weight: bold; line-height: 1; border-radius: 0.35em; text-transform: uppercase; vertical-align: middle; margin-left: 0.5rem\">EXPERIENCE</span>\n",
       "</mark>\n",
       " experience in subsea engineering, pipelines design or construction.</div>"
      ],
      "text/plain": [
       "<IPython.core.display.HTML object>"
      ]
     },
     "metadata": {},
     "output_type": "display_data"
    },
    {
     "data": {
      "text/html": [
       "<div class=\"entities\" style=\"line-height: 2.5; direction: ltr\">Has \n",
       "<mark class=\"entity\" style=\"background: pink; padding: 0.45em 0.6em; margin: 0 0.25em; line-height: 1; border-radius: 0.35em;\">\n",
       "    experience\n",
       "    <span style=\"font-size: 0.8em; font-weight: bold; line-height: 1; border-radius: 0.35em; text-transform: uppercase; vertical-align: middle; margin-left: 0.5rem\">MISSING</span>\n",
       "</mark>\n",
       " within the quality department of a related company in a similar role Ideally from a mechanical or manufacturing engineering background.</div>"
      ],
      "text/plain": [
       "<IPython.core.display.HTML object>"
      ]
     },
     "metadata": {},
     "output_type": "display_data"
    },
    {
     "data": {
      "text/html": [
       "<div class=\"entities\" style=\"line-height: 2.5; direction: ltr\">and have \n",
       "<mark class=\"entity\" style=\"background: pink; padding: 0.45em 0.6em; margin: 0 0.25em; line-height: 1; border-radius: 0.35em;\">\n",
       "    experience\n",
       "    <span style=\"font-size: 0.8em; font-weight: bold; line-height: 1; border-radius: 0.35em; text-transform: uppercase; vertical-align: middle; margin-left: 0.5rem\">MISSING</span>\n",
       "</mark>\n",
       " of the technical leadership of projects to time, quality and cost objectives.</div>"
      ],
      "text/plain": [
       "<IPython.core.display.HTML object>"
      ]
     },
     "metadata": {},
     "output_type": "display_data"
    },
    {
     "data": {
      "text/html": [
       "<div class=\"entities\" style=\"line-height: 2.5; direction: ltr\">\n",
       "<mark class=\"entity\" style=\"background: pink; padding: 0.45em 0.6em; margin: 0 0.25em; line-height: 1; border-radius: 0.35em;\">\n",
       "    Experience\n",
       "    <span style=\"font-size: 0.8em; font-weight: bold; line-height: 1; border-radius: 0.35em; text-transform: uppercase; vertical-align: middle; margin-left: 0.5rem\">MISSING</span>\n",
       "</mark>\n",
       " of protection and control design at Transmission and Distribution voltages.</div>"
      ],
      "text/plain": [
       "<IPython.core.display.HTML object>"
      ]
     },
     "metadata": {},
     "output_type": "display_data"
    },
    {
     "data": {
      "text/html": [
       "<div class=\"entities\" style=\"line-height: 2.5; direction: ltr\">Candidates with \n",
       "<mark class=\"entity\" style=\"background: pink; padding: 0.45em 0.6em; margin: 0 0.25em; line-height: 1; border-radius: 0.35em;\">\n",
       "    experience\n",
       "    <span style=\"font-size: 0.8em; font-weight: bold; line-height: 1; border-radius: 0.35em; text-transform: uppercase; vertical-align: middle; margin-left: 0.5rem\">MISSING</span>\n",
       "</mark>\n",
       " in telesales, callcentre, customer service, receptionist or travel are ideal for this role</div>"
      ],
      "text/plain": [
       "<IPython.core.display.HTML object>"
      ]
     },
     "metadata": {},
     "output_type": "display_data"
    },
    {
     "data": {
      "text/html": [
       "<div class=\"entities\" style=\"line-height: 2.5; direction: ltr\">\n",
       "<mark class=\"entity\" style=\"background: pink; padding: 0.45em 0.6em; margin: 0 0.25em; line-height: 1; border-radius: 0.35em;\">\n",
       "    Experience\n",
       "    <span style=\"font-size: 0.8em; font-weight: bold; line-height: 1; border-radius: 0.35em; text-transform: uppercase; vertical-align: middle; margin-left: 0.5rem\">MISSING</span>\n",
       "</mark>\n",
       " dealing with business clients (B2B) would be preferable.</div>"
      ],
      "text/plain": [
       "<IPython.core.display.HTML object>"
      ]
     },
     "metadata": {},
     "output_type": "display_data"
    },
    {
     "data": {
      "text/html": [
       "<div class=\"entities\" style=\"line-height: 2.5; direction: ltr\">\n",
       "<mark class=\"entity\" style=\"background: lightgreen; padding: 0.45em 0.6em; margin: 0 0.25em; line-height: 1; border-radius: 0.35em;\">\n",
       "    Previous\n",
       "    <span style=\"font-size: 0.8em; font-weight: bold; line-height: 1; border-radius: 0.35em; text-transform: uppercase; vertical-align: middle; margin-left: 0.5rem\">EXPERIENCE</span>\n",
       "</mark>\n",
       " experience working as a Chef de Partie in a one AA Rosette hotel is needed for the position.</div>"
      ],
      "text/plain": [
       "<IPython.core.display.HTML object>"
      ]
     },
     "metadata": {},
     "output_type": "display_data"
    },
    {
     "data": {
      "text/html": [
       "<div class=\"entities\" style=\"line-height: 2.5; direction: ltr\">The post holder must hold as a minimum Level 1 in Trampolining (British Gymnastics) and have \n",
       "<mark class=\"entity\" style=\"background: pink; padding: 0.45em 0.6em; margin: 0 0.25em; line-height: 1; border-radius: 0.35em;\">\n",
       "    experience\n",
       "    <span style=\"font-size: 0.8em; font-weight: bold; line-height: 1; border-radius: 0.35em; text-transform: uppercase; vertical-align: middle; margin-left: 0.5rem\">MISSING</span>\n",
       "</mark>\n",
       " in working with children, be fun, outgoing and have excellent customer service skills and be able to instruct in line with the British Gymnastics syllabus.</div>"
      ],
      "text/plain": [
       "<IPython.core.display.HTML object>"
      ]
     },
     "metadata": {},
     "output_type": "display_data"
    },
    {
     "data": {
      "text/html": [
       "<div class=\"entities\" style=\"line-height: 2.5; direction: ltr\">\n",
       "<mark class=\"entity\" style=\"background: pink; padding: 0.45em 0.6em; margin: 0 0.25em; line-height: 1; border-radius: 0.35em;\">\n",
       "    Experience\n",
       "    <span style=\"font-size: 0.8em; font-weight: bold; line-height: 1; border-radius: 0.35em; text-transform: uppercase; vertical-align: middle; margin-left: 0.5rem\">MISSING</span>\n",
       "</mark>\n",
       " of techniques such as Discrete Event Simulation and/or SD modelling Mathematical/scientific background</div>"
      ],
      "text/plain": [
       "<IPython.core.display.HTML object>"
      ]
     },
     "metadata": {},
     "output_type": "display_data"
    }
   ],
   "source": [
    "show_extraction(examples, extract_noun_phrase_experience)"
   ]
  },
  {
   "cell_type": "markdown",
   "metadata": {},
   "source": [
    "Let's look at how this does across a larger sample of job ads:\n",
    "\n",
    "* There are sentence/word boundary errors that cause the rule to break (e.g. powerful decision support models Experience)\n",
    "* We pick up quantifiers (previous, some, appropriate), as well as time quantifiers (3-5 years, 10 years)"
   ]
  },
  {
   "cell_type": "code",
   "execution_count": 27,
   "metadata": {
    "scrolled": false
   },
   "outputs": [
    {
     "data": {
      "text/html": [
       "<div class=\"entities\" style=\"line-height: 2.5; direction: ltr\">The roles are ideally suited to high calibre engineering graduates with any level of \n",
       "<mark class=\"entity\" style=\"background: lightgreen; padding: 0.45em 0.6em; margin: 0 0.25em; line-height: 1; border-radius: 0.35em;\">\n",
       "    appropriate\n",
       "    <span style=\"font-size: 0.8em; font-weight: bold; line-height: 1; border-radius: 0.35em; text-transform: uppercase; vertical-align: middle; margin-left: 0.5rem\">EXPERIENCE</span>\n",
       "</mark>\n",
       " experience, so that we can give you the opportunity to use your technical skills to provide high quality input to our aerospace projects, spanning both aerostructures and aeroengines. </div>"
      ],
      "text/plain": [
       "<IPython.core.display.HTML object>"
      ]
     },
     "metadata": {},
     "output_type": "display_data"
    },
    {
     "data": {
      "text/html": [
       "<div class=\"entities\" style=\"line-height: 2.5; direction: ltr\">The Requirements You will need to have a good engineering degree that includes structural analysis (such as aeronautical, mechanical, automotive, civil) with \n",
       "<mark class=\"entity\" style=\"background: lightgreen; padding: 0.45em 0.6em; margin: 0 0.25em; line-height: 1; border-radius: 0.35em;\">\n",
       "    some\n",
       "    <span style=\"font-size: 0.8em; font-weight: bold; line-height: 1; border-radius: 0.35em; text-transform: uppercase; vertical-align: middle; margin-left: 0.5rem\">EXPERIENCE</span>\n",
       "</mark>\n",
       " experience in a professional engineering environment relevant to (but not limited to) </div>"
      ],
      "text/plain": [
       "<IPython.core.display.HTML object>"
      ]
     },
     "metadata": {},
     "output_type": "display_data"
    },
    {
     "data": {
      "text/html": [
       "<div class=\"entities\" style=\"line-height: 2.5; direction: ltr\">You will need to demonstrate \n",
       "<mark class=\"entity\" style=\"background: pink; padding: 0.45em 0.6em; margin: 0 0.25em; line-height: 1; border-radius: 0.35em;\">\n",
       "    experience\n",
       "    <span style=\"font-size: 0.8em; font-weight: bold; line-height: 1; border-radius: 0.35em; text-transform: uppercase; vertical-align: middle; margin-left: 0.5rem\">MISSING</span>\n",
       "</mark>\n",
       " in at least one or more of the following areas: </div>"
      ],
      "text/plain": [
       "<IPython.core.display.HTML object>"
      ]
     },
     "metadata": {},
     "output_type": "display_data"
    },
    {
     "data": {
      "text/html": [
       "<div class=\"entities\" style=\"line-height: 2.5; direction: ltr\">\n",
       "<mark class=\"entity\" style=\"background: lightgreen; padding: 0.45em 0.6em; margin: 0 0.25em; line-height: 1; border-radius: 0.35em;\">\n",
       "    Aerostructures\n",
       "    <span style=\"font-size: 0.8em; font-weight: bold; line-height: 1; border-radius: 0.35em; text-transform: uppercase; vertical-align: middle; margin-left: 0.5rem\">EXPERIENCE</span>\n",
       "</mark>\n",
       " experience You will also be expected to demonstrate the following qualities: A strong desire to progress quickly to a position of leadership Professional approach Strong communication skills, written and verbal Commercial awareness Team working, being comfortable working in international teams and self managing </div>"
      ],
      "text/plain": [
       "<IPython.core.display.HTML object>"
      ]
     },
     "metadata": {},
     "output_type": "display_data"
    },
    {
     "data": {
      "text/html": [
       "<div class=\"entities\" style=\"line-height: 2.5; direction: ltr\">*K AAE pension contribution, private medical and dental The opportunity Our client is an independent consultancy firm which has an opportunity for a Data Analyst with \n",
       "<mark class=\"entity\" style=\"background: lightgreen; padding: 0.45em 0.6em; margin: 0 0.25em; line-height: 1; border-radius: 0.35em;\">\n",
       "    35 years\n",
       "    <span style=\"font-size: 0.8em; font-weight: bold; line-height: 1; border-radius: 0.35em; text-transform: uppercase; vertical-align: middle; margin-left: 0.5rem\">EXPERIENCE</span>\n",
       "</mark>\n",
       " experience. </div>"
      ],
      "text/plain": [
       "<IPython.core.display.HTML object>"
      ]
     },
     "metadata": {},
     "output_type": "display_data"
    },
    {
     "data": {
      "text/html": [
       "<div class=\"entities\" style=\"line-height: 2.5; direction: ltr\">Thorough knowledge of Excel and proven ability to utilise this to create \n",
       "<mark class=\"entity\" style=\"background: lightgreen; padding: 0.45em 0.6em; margin: 0 0.25em; line-height: 1; border-radius: 0.35em;\">\n",
       "    powerful decision support models\n",
       "    <span style=\"font-size: 0.8em; font-weight: bold; line-height: 1; border-radius: 0.35em; text-transform: uppercase; vertical-align: middle; margin-left: 0.5rem\">EXPERIENCE</span>\n",
       "</mark>\n",
       " Experience in Modelling and Simulation Techniques, Experience of techniques such as Discrete Event Simulation and/or SD modelling Mathematical/scientific background  </div>"
      ],
      "text/plain": [
       "<IPython.core.display.HTML object>"
      ]
     },
     "metadata": {},
     "output_type": "display_data"
    },
    {
     "data": {
      "text/html": [
       "<div class=\"entities\" style=\"line-height: 2.5; direction: ltr\">In addition to formal qualifications and \n",
       "<mark class=\"entity\" style=\"background: pink; padding: 0.45em 0.6em; margin: 0 0.25em; line-height: 1; border-radius: 0.35em;\">\n",
       "    experience\n",
       "    <span style=\"font-size: 0.8em; font-weight: bold; line-height: 1; border-radius: 0.35em; text-transform: uppercase; vertical-align: middle; margin-left: 0.5rem\">MISSING</span>\n",
       "</mark>\n",
       ", the successful candidate will require excellent written and verbal communication skills, be energetic, enterprising and have a determination to succeed. </div>"
      ],
      "text/plain": [
       "<IPython.core.display.HTML object>"
      ]
     },
     "metadata": {},
     "output_type": "display_data"
    },
    {
     "data": {
      "text/html": [
       "<div class=\"entities\" style=\"line-height: 2.5; direction: ltr\">This role will be working within a small team working on the modelling of water industry asset deterioration and asset failure consequences, including the uploading of these models onto industryleading optimal asset management software Strong maths, stats and IT skills needed, \n",
       "<mark class=\"entity\" style=\"background: lightgreen; padding: 0.45em 0.6em; margin: 0 0.25em; line-height: 1; border-radius: 0.35em;\">\n",
       "    Any previous\n",
       "    <span style=\"font-size: 0.8em; font-weight: bold; line-height: 1; border-radius: 0.35em; text-transform: uppercase; vertical-align: middle; margin-left: 0.5rem\">EXPERIENCE</span>\n",
       "</mark>\n",
       " experience within the Water industry would be an advantage. </div>"
      ],
      "text/plain": [
       "<IPython.core.display.HTML object>"
      ]
     },
     "metadata": {},
     "output_type": "display_data"
    },
    {
     "data": {
      "text/html": [
       "<div class=\"entities\" style=\"line-height: 2.5; direction: ltr\">\n",
       "<mark class=\"entity\" style=\"background: lightgreen; padding: 0.45em 0.6em; margin: 0 0.25em; line-height: 1; border-radius: 0.35em;\">\n",
       "    Any\n",
       "    <span style=\"font-size: 0.8em; font-weight: bold; line-height: 1; border-radius: 0.35em; text-transform: uppercase; vertical-align: middle; margin-left: 0.5rem\">EXPERIENCE</span>\n",
       "</mark>\n",
       " experience of Pioneer or Miser software would be an advantage. </div>"
      ],
      "text/plain": [
       "<IPython.core.display.HTML object>"
      ]
     },
     "metadata": {},
     "output_type": "display_data"
    },
    {
     "data": {
      "text/html": [
       "<div class=\"entities\" style=\"line-height: 2.5; direction: ltr\">For this role, you must have a minimum of \n",
       "<mark class=\"entity\" style=\"background: lightgreen; padding: 0.45em 0.6em; margin: 0 0.25em; line-height: 1; border-radius: 0.35em;\">\n",
       "    10 years\n",
       "    <span style=\"font-size: 0.8em; font-weight: bold; line-height: 1; border-radius: 0.35em; text-transform: uppercase; vertical-align: middle; margin-left: 0.5rem\">EXPERIENCE</span>\n",
       "</mark>\n",
       " experience in subsea engineering, pipelines design or construction. </div>"
      ],
      "text/plain": [
       "<IPython.core.display.HTML object>"
      ]
     },
     "metadata": {},
     "output_type": "display_data"
    },
    {
     "data": {
      "text/html": [
       "<div class=\"entities\" style=\"line-height: 2.5; direction: ltr\">Naturally positive and looking for the opportunity to work for a national player who are committed to your success Recruitment experience or 2 years business to \n",
       "<mark class=\"entity\" style=\"background: lightgreen; padding: 0.45em 0.6em; margin: 0 0.25em; line-height: 1; border-radius: 0.35em;\">\n",
       "    business sales\n",
       "    <span style=\"font-size: 0.8em; font-weight: bold; line-height: 1; border-radius: 0.35em; text-transform: uppercase; vertical-align: middle; margin-left: 0.5rem\">EXPERIENCE</span>\n",
       "</mark>\n",
       " experience required. </div>"
      ],
      "text/plain": [
       "<IPython.core.display.HTML object>"
      ]
     },
     "metadata": {},
     "output_type": "display_data"
    },
    {
     "data": {
      "text/html": [
       "<div class=\"entities\" style=\"line-height: 2.5; direction: ltr\">This is an exceptional opportunity to join a construction / technical agency that hasn t shrunk in the current market one bit Our client is seeking a nononsense and highly skilled Recruiter with at least a couple of years \n",
       "<mark class=\"entity\" style=\"background: pink; padding: 0.45em 0.6em; margin: 0 0.25em; line-height: 1; border-radius: 0.35em;\">\n",
       "    experience\n",
       "    <span style=\"font-size: 0.8em; font-weight: bold; line-height: 1; border-radius: 0.35em; text-transform: uppercase; vertical-align: middle; margin-left: 0.5rem\">MISSING</span>\n",
       "</mark>\n",
       " under their belt. </div>"
      ],
      "text/plain": [
       "<IPython.core.display.HTML object>"
      ]
     },
     "metadata": {},
     "output_type": "display_data"
    },
    {
     "data": {
      "text/html": [
       "<div class=\"entities\" style=\"line-height: 2.5; direction: ltr\">They will need someone who has at least 1015 years of \n",
       "<mark class=\"entity\" style=\"background: lightgreen; padding: 0.45em 0.6em; margin: 0 0.25em; line-height: 1; border-radius: 0.35em;\">\n",
       "    subsea cable engineering\n",
       "    <span style=\"font-size: 0.8em; font-weight: bold; line-height: 1; border-radius: 0.35em; text-transform: uppercase; vertical-align: middle; margin-left: 0.5rem\">EXPERIENCE</span>\n",
       "</mark>\n",
       " experience with \n",
       "<mark class=\"entity\" style=\"background: lightgreen; padding: 0.45em 0.6em; margin: 0 0.25em; line-height: 1; border-radius: 0.35em;\">\n",
       "    significant\n",
       "    <span style=\"font-size: 0.8em; font-weight: bold; line-height: 1; border-radius: 0.35em; text-transform: uppercase; vertical-align: middle; margin-left: 0.5rem\">EXPERIENCE</span>\n",
       "</mark>\n",
       " experience within offshore oil and gas industries. </div>"
      ],
      "text/plain": [
       "<IPython.core.display.HTML object>"
      ]
     },
     "metadata": {},
     "output_type": "display_data"
    }
   ],
   "source": [
    "show_extraction(ads[:10], extract_noun_phrase_experience)"
   ]
  },
  {
   "cell_type": "code",
   "execution_count": 28,
   "metadata": {},
   "outputs": [
    {
     "name": "stdout",
     "output_type": "stream",
     "text": [
      "CPU times: user 14min 4s, sys: 6min 43s, total: 20min 48s\n",
      "Wall time: 25min 59s\n"
     ]
    }
   ],
   "source": [
    "%time ent_df = extract_df(extract_noun_phrase_experience, n_max=50000)"
   ]
  },
  {
   "cell_type": "markdown",
   "metadata": {},
   "source": [
    "Again we are frequently picking up quantifiers"
   ]
  },
  {
   "cell_type": "code",
   "execution_count": 29,
   "metadata": {},
   "outputs": [
    {
     "data": {
      "text/html": [
       "<div>\n",
       "<style scoped>\n",
       "    .dataframe tbody tr th:only-of-type {\n",
       "        vertical-align: middle;\n",
       "    }\n",
       "\n",
       "    .dataframe tbody tr th {\n",
       "        vertical-align: top;\n",
       "    }\n",
       "\n",
       "    .dataframe thead th {\n",
       "        text-align: right;\n",
       "    }\n",
       "</style>\n",
       "<table border=\"1\" class=\"dataframe\">\n",
       "  <thead>\n",
       "    <tr style=\"text-align: right;\">\n",
       "      <th></th>\n",
       "      <th>text</th>\n",
       "      <th>n_company</th>\n",
       "      <th>n_ad</th>\n",
       "      <th>n_source</th>\n",
       "      <th>n</th>\n",
       "    </tr>\n",
       "  </thead>\n",
       "  <tbody>\n",
       "    <tr>\n",
       "      <th>13558</th>\n",
       "      <td>previous</td>\n",
       "      <td>894</td>\n",
       "      <td>2040</td>\n",
       "      <td>100</td>\n",
       "      <td>2128</td>\n",
       "    </tr>\n",
       "    <tr>\n",
       "      <th>5745</th>\n",
       "      <td>Previous</td>\n",
       "      <td>883</td>\n",
       "      <td>1745</td>\n",
       "      <td>100</td>\n",
       "      <td>1829</td>\n",
       "    </tr>\n",
       "    <tr>\n",
       "      <th>6321</th>\n",
       "      <td>Proven</td>\n",
       "      <td>260</td>\n",
       "      <td>468</td>\n",
       "      <td>73</td>\n",
       "      <td>515</td>\n",
       "    </tr>\n",
       "    <tr>\n",
       "      <th>15315</th>\n",
       "      <td>some</td>\n",
       "      <td>229</td>\n",
       "      <td>355</td>\n",
       "      <td>65</td>\n",
       "      <td>367</td>\n",
       "    </tr>\n",
       "    <tr>\n",
       "      <th>17077</th>\n",
       "      <td>your</td>\n",
       "      <td>221</td>\n",
       "      <td>864</td>\n",
       "      <td>70</td>\n",
       "      <td>874</td>\n",
       "    </tr>\n",
       "    <tr>\n",
       "      <th>11492</th>\n",
       "      <td>extensive</td>\n",
       "      <td>220</td>\n",
       "      <td>381</td>\n",
       "      <td>68</td>\n",
       "      <td>389</td>\n",
       "    </tr>\n",
       "    <tr>\n",
       "      <th>14616</th>\n",
       "      <td>relevant</td>\n",
       "      <td>208</td>\n",
       "      <td>398</td>\n",
       "      <td>62</td>\n",
       "      <td>405</td>\n",
       "    </tr>\n",
       "    <tr>\n",
       "      <th>14298</th>\n",
       "      <td>proven</td>\n",
       "      <td>189</td>\n",
       "      <td>301</td>\n",
       "      <td>63</td>\n",
       "      <td>305</td>\n",
       "    </tr>\n",
       "    <tr>\n",
       "      <th>10820</th>\n",
       "      <td>demonstrable</td>\n",
       "      <td>142</td>\n",
       "      <td>217</td>\n",
       "      <td>54</td>\n",
       "      <td>222</td>\n",
       "    </tr>\n",
       "    <tr>\n",
       "      <th>16178</th>\n",
       "      <td>the</td>\n",
       "      <td>138</td>\n",
       "      <td>303</td>\n",
       "      <td>56</td>\n",
       "      <td>313</td>\n",
       "    </tr>\n",
       "    <tr>\n",
       "      <th>14971</th>\n",
       "      <td>significant</td>\n",
       "      <td>133</td>\n",
       "      <td>207</td>\n",
       "      <td>53</td>\n",
       "      <td>209</td>\n",
       "    </tr>\n",
       "    <tr>\n",
       "      <th>15642</th>\n",
       "      <td>strong</td>\n",
       "      <td>125</td>\n",
       "      <td>237</td>\n",
       "      <td>53</td>\n",
       "      <td>240</td>\n",
       "    </tr>\n",
       "    <tr>\n",
       "      <th>1810</th>\n",
       "      <td>Any</td>\n",
       "      <td>124</td>\n",
       "      <td>226</td>\n",
       "      <td>40</td>\n",
       "      <td>234</td>\n",
       "    </tr>\n",
       "    <tr>\n",
       "      <th>3525</th>\n",
       "      <td>Extensive</td>\n",
       "      <td>123</td>\n",
       "      <td>203</td>\n",
       "      <td>48</td>\n",
       "      <td>225</td>\n",
       "    </tr>\n",
       "    <tr>\n",
       "      <th>14849</th>\n",
       "      <td>sales</td>\n",
       "      <td>117</td>\n",
       "      <td>201</td>\n",
       "      <td>35</td>\n",
       "      <td>204</td>\n",
       "    </tr>\n",
       "    <tr>\n",
       "      <th>932</th>\n",
       "      <td>2 years</td>\n",
       "      <td>117</td>\n",
       "      <td>195</td>\n",
       "      <td>49</td>\n",
       "      <td>198</td>\n",
       "    </tr>\n",
       "    <tr>\n",
       "      <th>11195</th>\n",
       "      <td>equivalent</td>\n",
       "      <td>113</td>\n",
       "      <td>179</td>\n",
       "      <td>41</td>\n",
       "      <td>190</td>\n",
       "    </tr>\n",
       "    <tr>\n",
       "      <th>16576</th>\n",
       "      <td>the relevant</td>\n",
       "      <td>105</td>\n",
       "      <td>261</td>\n",
       "      <td>43</td>\n",
       "      <td>263</td>\n",
       "    </tr>\n",
       "    <tr>\n",
       "      <th>2946</th>\n",
       "      <td>Demonstrable</td>\n",
       "      <td>104</td>\n",
       "      <td>169</td>\n",
       "      <td>53</td>\n",
       "      <td>186</td>\n",
       "    </tr>\n",
       "    <tr>\n",
       "      <th>7462</th>\n",
       "      <td>Strong</td>\n",
       "      <td>102</td>\n",
       "      <td>165</td>\n",
       "      <td>46</td>\n",
       "      <td>169</td>\n",
       "    </tr>\n",
       "    <tr>\n",
       "      <th>16438</th>\n",
       "      <td>the following</td>\n",
       "      <td>99</td>\n",
       "      <td>164</td>\n",
       "      <td>47</td>\n",
       "      <td>165</td>\n",
       "    </tr>\n",
       "    <tr>\n",
       "      <th>10460</th>\n",
       "      <td>commercial</td>\n",
       "      <td>96</td>\n",
       "      <td>167</td>\n",
       "      <td>33</td>\n",
       "      <td>171</td>\n",
       "    </tr>\n",
       "    <tr>\n",
       "      <th>14130</th>\n",
       "      <td>prior</td>\n",
       "      <td>95</td>\n",
       "      <td>163</td>\n",
       "      <td>42</td>\n",
       "      <td>167</td>\n",
       "    </tr>\n",
       "    <tr>\n",
       "      <th>15202</th>\n",
       "      <td>solid</td>\n",
       "      <td>93</td>\n",
       "      <td>156</td>\n",
       "      <td>46</td>\n",
       "      <td>161</td>\n",
       "    </tr>\n",
       "    <tr>\n",
       "      <th>7320</th>\n",
       "      <td>Some</td>\n",
       "      <td>91</td>\n",
       "      <td>133</td>\n",
       "      <td>37</td>\n",
       "      <td>137</td>\n",
       "    </tr>\n",
       "    <tr>\n",
       "      <th>14449</th>\n",
       "      <td>recent</td>\n",
       "      <td>88</td>\n",
       "      <td>213</td>\n",
       "      <td>47</td>\n",
       "      <td>220</td>\n",
       "    </tr>\n",
       "    <tr>\n",
       "      <th>11895</th>\n",
       "      <td>good</td>\n",
       "      <td>88</td>\n",
       "      <td>127</td>\n",
       "      <td>43</td>\n",
       "      <td>128</td>\n",
       "    </tr>\n",
       "    <tr>\n",
       "      <th>1089</th>\n",
       "      <td>3 years</td>\n",
       "      <td>86</td>\n",
       "      <td>144</td>\n",
       "      <td>44</td>\n",
       "      <td>152</td>\n",
       "    </tr>\n",
       "    <tr>\n",
       "      <th>13472</th>\n",
       "      <td>practical</td>\n",
       "      <td>77</td>\n",
       "      <td>99</td>\n",
       "      <td>36</td>\n",
       "      <td>107</td>\n",
       "    </tr>\n",
       "    <tr>\n",
       "      <th>7142</th>\n",
       "      <td>Significant</td>\n",
       "      <td>75</td>\n",
       "      <td>136</td>\n",
       "      <td>45</td>\n",
       "      <td>147</td>\n",
       "    </tr>\n",
       "    <tr>\n",
       "      <th>17219</th>\n",
       "      <td>•</td>\n",
       "      <td>73</td>\n",
       "      <td>148</td>\n",
       "      <td>26</td>\n",
       "      <td>204</td>\n",
       "    </tr>\n",
       "    <tr>\n",
       "      <th>6215</th>\n",
       "      <td>Prior</td>\n",
       "      <td>72</td>\n",
       "      <td>110</td>\n",
       "      <td>37</td>\n",
       "      <td>114</td>\n",
       "    </tr>\n",
       "    <tr>\n",
       "      <th>1270</th>\n",
       "      <td>5 years</td>\n",
       "      <td>71</td>\n",
       "      <td>101</td>\n",
       "      <td>38</td>\n",
       "      <td>109</td>\n",
       "    </tr>\n",
       "    <tr>\n",
       "      <th>5192</th>\n",
       "      <td>No</td>\n",
       "      <td>70</td>\n",
       "      <td>157</td>\n",
       "      <td>24</td>\n",
       "      <td>166</td>\n",
       "    </tr>\n",
       "    <tr>\n",
       "      <th>9746</th>\n",
       "      <td>at least 2 years</td>\n",
       "      <td>68</td>\n",
       "      <td>138</td>\n",
       "      <td>36</td>\n",
       "      <td>138</td>\n",
       "    </tr>\n",
       "    <tr>\n",
       "      <th>9542</th>\n",
       "      <td>any</td>\n",
       "      <td>65</td>\n",
       "      <td>111</td>\n",
       "      <td>32</td>\n",
       "      <td>112</td>\n",
       "    </tr>\n",
       "    <tr>\n",
       "      <th>3329</th>\n",
       "      <td>Essential</td>\n",
       "      <td>61</td>\n",
       "      <td>110</td>\n",
       "      <td>34</td>\n",
       "      <td>111</td>\n",
       "    </tr>\n",
       "    <tr>\n",
       "      <th>12609</th>\n",
       "      <td>management</td>\n",
       "      <td>61</td>\n",
       "      <td>104</td>\n",
       "      <td>36</td>\n",
       "      <td>106</td>\n",
       "    </tr>\n",
       "    <tr>\n",
       "      <th>16736</th>\n",
       "      <td>this</td>\n",
       "      <td>59</td>\n",
       "      <td>116</td>\n",
       "      <td>41</td>\n",
       "      <td>118</td>\n",
       "    </tr>\n",
       "    <tr>\n",
       "      <th>6655</th>\n",
       "      <td>Relevant</td>\n",
       "      <td>58</td>\n",
       "      <td>92</td>\n",
       "      <td>43</td>\n",
       "      <td>95</td>\n",
       "    </tr>\n",
       "    <tr>\n",
       "      <th>2994</th>\n",
       "      <td>Desirable</td>\n",
       "      <td>57</td>\n",
       "      <td>102</td>\n",
       "      <td>35</td>\n",
       "      <td>102</td>\n",
       "    </tr>\n",
       "    <tr>\n",
       "      <th>16021</th>\n",
       "      <td>supervisory</td>\n",
       "      <td>56</td>\n",
       "      <td>105</td>\n",
       "      <td>31</td>\n",
       "      <td>106</td>\n",
       "    </tr>\n",
       "    <tr>\n",
       "      <th>107</th>\n",
       "      <td>*</td>\n",
       "      <td>56</td>\n",
       "      <td>97</td>\n",
       "      <td>34</td>\n",
       "      <td>117</td>\n",
       "    </tr>\n",
       "    <tr>\n",
       "      <th>264</th>\n",
       "      <td>**</td>\n",
       "      <td>56</td>\n",
       "      <td>88</td>\n",
       "      <td>37</td>\n",
       "      <td>96</td>\n",
       "    </tr>\n",
       "    <tr>\n",
       "      <th>16666</th>\n",
       "      <td>their</td>\n",
       "      <td>56</td>\n",
       "      <td>86</td>\n",
       "      <td>43</td>\n",
       "      <td>86</td>\n",
       "    </tr>\n",
       "    <tr>\n",
       "      <th>7007</th>\n",
       "      <td>Sales</td>\n",
       "      <td>54</td>\n",
       "      <td>98</td>\n",
       "      <td>23</td>\n",
       "      <td>98</td>\n",
       "    </tr>\n",
       "    <tr>\n",
       "      <th>7265</th>\n",
       "      <td>Solid</td>\n",
       "      <td>54</td>\n",
       "      <td>77</td>\n",
       "      <td>32</td>\n",
       "      <td>82</td>\n",
       "    </tr>\n",
       "    <tr>\n",
       "      <th>6726</th>\n",
       "      <td>Required</td>\n",
       "      <td>53</td>\n",
       "      <td>99</td>\n",
       "      <td>29</td>\n",
       "      <td>99</td>\n",
       "    </tr>\n",
       "    <tr>\n",
       "      <th>12320</th>\n",
       "      <td>industry</td>\n",
       "      <td>52</td>\n",
       "      <td>82</td>\n",
       "      <td>29</td>\n",
       "      <td>83</td>\n",
       "    </tr>\n",
       "    <tr>\n",
       "      <th>15938</th>\n",
       "      <td>substantial</td>\n",
       "      <td>52</td>\n",
       "      <td>68</td>\n",
       "      <td>32</td>\n",
       "      <td>71</td>\n",
       "    </tr>\n",
       "  </tbody>\n",
       "</table>\n",
       "</div>"
      ],
      "text/plain": [
       "                   text  n_company  n_ad  n_source     n\n",
       "13558          previous        894  2040       100  2128\n",
       "5745           Previous        883  1745       100  1829\n",
       "6321             Proven        260   468        73   515\n",
       "15315              some        229   355        65   367\n",
       "17077              your        221   864        70   874\n",
       "11492         extensive        220   381        68   389\n",
       "14616          relevant        208   398        62   405\n",
       "14298            proven        189   301        63   305\n",
       "10820      demonstrable        142   217        54   222\n",
       "16178               the        138   303        56   313\n",
       "14971       significant        133   207        53   209\n",
       "15642            strong        125   237        53   240\n",
       "1810                Any        124   226        40   234\n",
       "3525          Extensive        123   203        48   225\n",
       "14849             sales        117   201        35   204\n",
       "932             2 years        117   195        49   198\n",
       "11195        equivalent        113   179        41   190\n",
       "16576      the relevant        105   261        43   263\n",
       "2946       Demonstrable        104   169        53   186\n",
       "7462             Strong        102   165        46   169\n",
       "16438     the following         99   164        47   165\n",
       "10460        commercial         96   167        33   171\n",
       "14130             prior         95   163        42   167\n",
       "15202             solid         93   156        46   161\n",
       "7320               Some         91   133        37   137\n",
       "14449            recent         88   213        47   220\n",
       "11895              good         88   127        43   128\n",
       "1089            3 years         86   144        44   152\n",
       "13472         practical         77    99        36   107\n",
       "7142        Significant         75   136        45   147\n",
       "17219                 •         73   148        26   204\n",
       "6215              Prior         72   110        37   114\n",
       "1270            5 years         71   101        38   109\n",
       "5192                 No         70   157        24   166\n",
       "9746   at least 2 years         68   138        36   138\n",
       "9542                any         65   111        32   112\n",
       "3329          Essential         61   110        34   111\n",
       "12609        management         61   104        36   106\n",
       "16736              this         59   116        41   118\n",
       "6655           Relevant         58    92        43    95\n",
       "2994          Desirable         57   102        35   102\n",
       "16021       supervisory         56   105        31   106\n",
       "107                   *         56    97        34   117\n",
       "264                  **         56    88        37    96\n",
       "16666             their         56    86        43    86\n",
       "7007              Sales         54    98        23    98\n",
       "7265              Solid         54    77        32    82\n",
       "6726           Required         53    99        29    99\n",
       "12320          industry         52    82        29    83\n",
       "15938       substantial         52    68        32    71"
      ]
     },
     "execution_count": 29,
     "metadata": {},
     "output_type": "execute_result"
    }
   ],
   "source": [
    "aggregate_df(ent_df).head(50)"
   ]
  },
  {
   "cell_type": "code",
   "execution_count": 30,
   "metadata": {},
   "outputs": [
    {
     "data": {
      "text/html": [
       "<div class=\"entities\" style=\"line-height: 2.5; direction: ltr\">\n",
       "<mark class=\"entity\" style=\"background: #ddd; padding: 0.45em 0.6em; margin: 0 0.25em; line-height: 1; border-radius: 0.35em;\">\n",
       "    Previous\n",
       "    <span style=\"font-size: 0.8em; font-weight: bold; line-height: 1; border-radius: 0.35em; text-transform: uppercase; vertical-align: middle; margin-left: 0.5rem\">EXPERIENCE</span>\n",
       "</mark>\n",
       " experience is always helpful but not essential, as long as you enjoy looking after people and are able to work evenings and weekends, we would like to hear from you. </div>"
      ],
      "text/plain": [
       "<IPython.core.display.HTML object>"
      ]
     },
     "metadata": {},
     "output_type": "display_data"
    },
    {
     "data": {
      "text/html": [
       "<div class=\"entities\" style=\"line-height: 2.5; direction: ltr\">\n",
       "<mark class=\"entity\" style=\"background: #ddd; padding: 0.45em 0.6em; margin: 0 0.25em; line-height: 1; border-radius: 0.35em;\">\n",
       "    Previous\n",
       "    <span style=\"font-size: 0.8em; font-weight: bold; line-height: 1; border-radius: 0.35em; text-transform: uppercase; vertical-align: middle; margin-left: 0.5rem\">EXPERIENCE</span>\n",
       "</mark>\n",
       " experience is always helpful but not essential, as long as you enjoy looking after people and are able to work evenings and weekends, we would like to hear from you. </div>"
      ],
      "text/plain": [
       "<IPython.core.display.HTML object>"
      ]
     },
     "metadata": {},
     "output_type": "display_data"
    },
    {
     "data": {
      "text/html": [
       "<div class=\"entities\" style=\"line-height: 2.5; direction: ltr\">\n",
       "<mark class=\"entity\" style=\"background: #ddd; padding: 0.45em 0.6em; margin: 0 0.25em; line-height: 1; border-radius: 0.35em;\">\n",
       "    Previous\n",
       "    <span style=\"font-size: 0.8em; font-weight: bold; line-height: 1; border-radius: 0.35em; text-transform: uppercase; vertical-align: middle; margin-left: 0.5rem\">EXPERIENCE</span>\n",
       "</mark>\n",
       " experience working as a Chef de Partie in a one AA Rosette hotel is needed for the position.</div>"
      ],
      "text/plain": [
       "<IPython.core.display.HTML object>"
      ]
     },
     "metadata": {},
     "output_type": "display_data"
    },
    {
     "data": {
      "text/html": [
       "<div class=\"entities\" style=\"line-height: 2.5; direction: ltr\">\n",
       "<mark class=\"entity\" style=\"background: #ddd; padding: 0.45em 0.6em; margin: 0 0.25em; line-height: 1; border-radius: 0.35em;\">\n",
       "    Previous\n",
       "    <span style=\"font-size: 0.8em; font-weight: bold; line-height: 1; border-radius: 0.35em; text-transform: uppercase; vertical-align: middle; margin-left: 0.5rem\">EXPERIENCE</span>\n",
       "</mark>\n",
       " experience in major infrastructural projects coupled with the ability to present tenders to the Directors with the technical and commercial skills required for a senior role. </div>"
      ],
      "text/plain": [
       "<IPython.core.display.HTML object>"
      ]
     },
     "metadata": {},
     "output_type": "display_data"
    },
    {
     "data": {
      "text/html": [
       "<div class=\"entities\" style=\"line-height: 2.5; direction: ltr\">\n",
       "<mark class=\"entity\" style=\"background: #ddd; padding: 0.45em 0.6em; margin: 0 0.25em; line-height: 1; border-radius: 0.35em;\">\n",
       "    Previous\n",
       "    <span style=\"font-size: 0.8em; font-weight: bold; line-height: 1; border-radius: 0.35em; text-transform: uppercase; vertical-align: middle; margin-left: 0.5rem\">EXPERIENCE</span>\n",
       "</mark>\n",
       " experience of working in a business managing large customers and internal stakeholders. </div>"
      ],
      "text/plain": [
       "<IPython.core.display.HTML object>"
      ]
     },
     "metadata": {},
     "output_type": "display_data"
    }
   ],
   "source": [
    "showent_df(ent_df.query(\"text=='Previous'\").head(5))"
   ]
  },
  {
   "cell_type": "markdown",
   "metadata": {},
   "source": [
    "This looks like a bad parse (probably because of the stripped whitespace)"
   ]
  },
  {
   "cell_type": "code",
   "execution_count": 31,
   "metadata": {},
   "outputs": [
    {
     "data": {
      "text/html": [
       "<div class=\"entities\" style=\"line-height: 2.5; direction: ltr\">\n",
       "<mark class=\"entity\" style=\"background: #ddd; padding: 0.45em 0.6em; margin: 0 0.25em; line-height: 1; border-radius: 0.35em;\">\n",
       "    Skills\n",
       "    <span style=\"font-size: 0.8em; font-weight: bold; line-height: 1; border-radius: 0.35em; text-transform: uppercase; vertical-align: middle; margin-left: 0.5rem\">EXPERIENCE</span>\n",
       "</mark>\n",
       " Experience </div>"
      ],
      "text/plain": [
       "<IPython.core.display.HTML object>"
      ]
     },
     "metadata": {},
     "output_type": "display_data"
    },
    {
     "data": {
      "text/html": [
       "<div class=\"entities\" style=\"line-height: 2.5; direction: ltr\">\n",
       "<mark class=\"entity\" style=\"background: #ddd; padding: 0.45em 0.6em; margin: 0 0.25em; line-height: 1; border-radius: 0.35em;\">\n",
       "    Skills\n",
       "    <span style=\"font-size: 0.8em; font-weight: bold; line-height: 1; border-radius: 0.35em; text-transform: uppercase; vertical-align: middle; margin-left: 0.5rem\">EXPERIENCE</span>\n",
       "</mark>\n",
       " Experience: </div>"
      ],
      "text/plain": [
       "<IPython.core.display.HTML object>"
      ]
     },
     "metadata": {},
     "output_type": "display_data"
    },
    {
     "data": {
      "text/html": [
       "<div class=\"entities\" style=\"line-height: 2.5; direction: ltr\">The successful candidate will be expected to assist other staff in the Finance Operations team as and when required \n",
       "<mark class=\"entity\" style=\"background: #ddd; padding: 0.45em 0.6em; margin: 0 0.25em; line-height: 1; border-radius: 0.35em;\">\n",
       "    Skills\n",
       "    <span style=\"font-size: 0.8em; font-weight: bold; line-height: 1; border-radius: 0.35em; text-transform: uppercase; vertical-align: middle; margin-left: 0.5rem\">EXPERIENCE</span>\n",
       "</mark>\n",
       " Experience: Good PC skills including MS Excel and Word Strong communication skills including telephone Good organisational skills </div>"
      ],
      "text/plain": [
       "<IPython.core.display.HTML object>"
      ]
     },
     "metadata": {},
     "output_type": "display_data"
    },
    {
     "data": {
      "text/html": [
       "<div class=\"entities\" style=\"line-height: 2.5; direction: ltr\">\n",
       "<mark class=\"entity\" style=\"background: #ddd; padding: 0.45em 0.6em; margin: 0 0.25em; line-height: 1; border-radius: 0.35em;\">\n",
       "    Skills\n",
       "    <span style=\"font-size: 0.8em; font-weight: bold; line-height: 1; border-radius: 0.35em; text-transform: uppercase; vertical-align: middle; margin-left: 0.5rem\">EXPERIENCE</span>\n",
       "</mark>\n",
       " Experience required: Experience of London market insurance underwriting. </div>"
      ],
      "text/plain": [
       "<IPython.core.display.HTML object>"
      ]
     },
     "metadata": {},
     "output_type": "display_data"
    },
    {
     "data": {
      "text/html": [
       "<div class=\"entities\" style=\"line-height: 2.5; direction: ltr\">\n",
       "<mark class=\"entity\" style=\"background: #ddd; padding: 0.45em 0.6em; margin: 0 0.25em; line-height: 1; border-radius: 0.35em;\">\n",
       "    Skills\n",
       "    <span style=\"font-size: 0.8em; font-weight: bold; line-height: 1; border-radius: 0.35em; text-transform: uppercase; vertical-align: middle; margin-left: 0.5rem\">EXPERIENCE</span>\n",
       "</mark>\n",
       " Experience  </div>"
      ],
      "text/plain": [
       "<IPython.core.display.HTML object>"
      ]
     },
     "metadata": {},
     "output_type": "display_data"
    }
   ],
   "source": [
    "showent_df(ent_df.query(\"text=='Skills'\").head(5))"
   ]
  },
  {
   "cell_type": "markdown",
   "metadata": {},
   "source": [
    "We can blacklist the most common qualifiers"
   ]
  },
  {
   "cell_type": "code",
   "execution_count": 32,
   "metadata": {},
   "outputs": [
    {
     "data": {
      "text/plain": [
       "'\\\\b(?:previous|prior|following|recent|the above|past|proven|demonstrable|demonstrated|relevant|significant|practical|essential|equivalent|desirable|required|considerable|similar|working|specific|qualified|direct|hands on|handson|strong|solid|good|substantial|excellent|the right|valuable|invaluable|some|any|none|much|extensive|no|more|your|their|years|months|uk)\\\\b'"
      ]
     },
     "execution_count": 32,
     "metadata": {},
     "output_type": "execute_result"
    }
   ],
   "source": [
    "experience_qualifiers = ['previous', 'prior', 'following', 'recent', 'the above', 'past',\n",
    "                         \n",
    "                         'proven', 'demonstrable', 'demonstrated', 'relevant', 'significant', 'practical',\n",
    "                         'essential', 'equivalent', 'desirable', 'required', 'considerable', 'similar',\n",
    "                         'working', 'specific', 'qualified', 'direct', 'hands on', 'handson', \n",
    "                         \n",
    "                         'strong', 'solid', 'good', 'substantial', 'excellent', 'the right', 'valuable', 'invaluable',\n",
    "                         \n",
    "                         'some', 'any', 'none', 'much', 'extensive', 'no', 'more',\n",
    "                         'your', 'their',\n",
    "                         'years', 'months',\n",
    "                         'uk',\n",
    "                        ]\n",
    "\n",
    "stopwords = ['a', 'an', '*', '**', '•', 'this', 'the', ':', 'Skills']\n",
    "\n",
    "experience_qualifier_pattern = rf'\\b(?:{\"|\".join(experience_qualifiers)})\\b'\n",
    "\n",
    "experience_qualifier_pattern"
   ]
  },
  {
   "cell_type": "markdown",
   "metadata": {},
   "source": [
    "If we ignore stopwords we start getting some skills out:\n",
    "\n",
    "* sales\n",
    "* commercial\n",
    "* managment\n",
    "* supervisory\n",
    "* customer service\n",
    "* development\n",
    "* supervisory\n",
    "* technical\n",
    "* managment\n",
    "* telesales\n",
    "* financial services\n",
    "* design\n",
    "* project managment\n",
    "* retail\n",
    "* business sales\n",
    "* SQL\n",
    "* marketing\n",
    "* people management\n",
    "* SAP\n",
    "* engineering"
   ]
  },
  {
   "cell_type": "code",
   "execution_count": 33,
   "metadata": {},
   "outputs": [
    {
     "data": {
      "text/html": [
       "<div>\n",
       "<style scoped>\n",
       "    .dataframe tbody tr th:only-of-type {\n",
       "        vertical-align: middle;\n",
       "    }\n",
       "\n",
       "    .dataframe tbody tr th {\n",
       "        vertical-align: top;\n",
       "    }\n",
       "\n",
       "    .dataframe thead th {\n",
       "        text-align: right;\n",
       "    }\n",
       "</style>\n",
       "<table border=\"1\" class=\"dataframe\">\n",
       "  <thead>\n",
       "    <tr style=\"text-align: right;\">\n",
       "      <th></th>\n",
       "      <th>text</th>\n",
       "      <th>n_company</th>\n",
       "      <th>n_ad</th>\n",
       "      <th>n_source</th>\n",
       "      <th>n</th>\n",
       "    </tr>\n",
       "  </thead>\n",
       "  <tbody>\n",
       "    <tr>\n",
       "      <th>8436</th>\n",
       "      <td>sales</td>\n",
       "      <td>117</td>\n",
       "      <td>201</td>\n",
       "      <td>35</td>\n",
       "      <td>204</td>\n",
       "    </tr>\n",
       "    <tr>\n",
       "      <th>6108</th>\n",
       "      <td>commercial</td>\n",
       "      <td>96</td>\n",
       "      <td>167</td>\n",
       "      <td>33</td>\n",
       "      <td>171</td>\n",
       "    </tr>\n",
       "    <tr>\n",
       "      <th>7445</th>\n",
       "      <td>management</td>\n",
       "      <td>61</td>\n",
       "      <td>104</td>\n",
       "      <td>36</td>\n",
       "      <td>106</td>\n",
       "    </tr>\n",
       "    <tr>\n",
       "      <th>8733</th>\n",
       "      <td>supervisory</td>\n",
       "      <td>56</td>\n",
       "      <td>105</td>\n",
       "      <td>31</td>\n",
       "      <td>106</td>\n",
       "    </tr>\n",
       "    <tr>\n",
       "      <th>4013</th>\n",
       "      <td>Sales</td>\n",
       "      <td>54</td>\n",
       "      <td>98</td>\n",
       "      <td>23</td>\n",
       "      <td>98</td>\n",
       "    </tr>\n",
       "    <tr>\n",
       "      <th>7187</th>\n",
       "      <td>industry</td>\n",
       "      <td>52</td>\n",
       "      <td>82</td>\n",
       "      <td>29</td>\n",
       "      <td>83</td>\n",
       "    </tr>\n",
       "    <tr>\n",
       "      <th>1311</th>\n",
       "      <td>Commercial</td>\n",
       "      <td>43</td>\n",
       "      <td>68</td>\n",
       "      <td>20</td>\n",
       "      <td>71</td>\n",
       "    </tr>\n",
       "    <tr>\n",
       "      <th>9040</th>\n",
       "      <td>the customer</td>\n",
       "      <td>43</td>\n",
       "      <td>65</td>\n",
       "      <td>27</td>\n",
       "      <td>66</td>\n",
       "    </tr>\n",
       "    <tr>\n",
       "      <th>6359</th>\n",
       "      <td>customer service</td>\n",
       "      <td>42</td>\n",
       "      <td>58</td>\n",
       "      <td>23</td>\n",
       "      <td>69</td>\n",
       "    </tr>\n",
       "    <tr>\n",
       "      <th>9463</th>\n",
       "      <td>work</td>\n",
       "      <td>39</td>\n",
       "      <td>61</td>\n",
       "      <td>29</td>\n",
       "      <td>62</td>\n",
       "    </tr>\n",
       "    <tr>\n",
       "      <th>6471</th>\n",
       "      <td>development</td>\n",
       "      <td>28</td>\n",
       "      <td>43</td>\n",
       "      <td>19</td>\n",
       "      <td>44</td>\n",
       "    </tr>\n",
       "    <tr>\n",
       "      <th>6346</th>\n",
       "      <td>customer</td>\n",
       "      <td>27</td>\n",
       "      <td>41</td>\n",
       "      <td>22</td>\n",
       "      <td>43</td>\n",
       "    </tr>\n",
       "    <tr>\n",
       "      <th>4158</th>\n",
       "      <td>Skills/</td>\n",
       "      <td>26</td>\n",
       "      <td>44</td>\n",
       "      <td>23</td>\n",
       "      <td>45</td>\n",
       "    </tr>\n",
       "    <tr>\n",
       "      <th>9353</th>\n",
       "      <td>user</td>\n",
       "      <td>26</td>\n",
       "      <td>39</td>\n",
       "      <td>20</td>\n",
       "      <td>44</td>\n",
       "    </tr>\n",
       "    <tr>\n",
       "      <th>2399</th>\n",
       "      <td>Ideally</td>\n",
       "      <td>25</td>\n",
       "      <td>30</td>\n",
       "      <td>17</td>\n",
       "      <td>30</td>\n",
       "    </tr>\n",
       "    <tr>\n",
       "      <th>4276</th>\n",
       "      <td>Supervisory</td>\n",
       "      <td>24</td>\n",
       "      <td>34</td>\n",
       "      <td>22</td>\n",
       "      <td>34</td>\n",
       "    </tr>\n",
       "    <tr>\n",
       "      <th>8857</th>\n",
       "      <td>telesales</td>\n",
       "      <td>22</td>\n",
       "      <td>38</td>\n",
       "      <td>17</td>\n",
       "      <td>38</td>\n",
       "    </tr>\n",
       "    <tr>\n",
       "      <th>67</th>\n",
       "      <td>)</td>\n",
       "      <td>22</td>\n",
       "      <td>32</td>\n",
       "      <td>18</td>\n",
       "      <td>32</td>\n",
       "    </tr>\n",
       "    <tr>\n",
       "      <th>8809</th>\n",
       "      <td>technical</td>\n",
       "      <td>22</td>\n",
       "      <td>31</td>\n",
       "      <td>16</td>\n",
       "      <td>31</td>\n",
       "    </tr>\n",
       "    <tr>\n",
       "      <th>2859</th>\n",
       "      <td>Management</td>\n",
       "      <td>21</td>\n",
       "      <td>48</td>\n",
       "      <td>26</td>\n",
       "      <td>48</td>\n",
       "    </tr>\n",
       "    <tr>\n",
       "      <th>1967</th>\n",
       "      <td>Financial Services</td>\n",
       "      <td>21</td>\n",
       "      <td>31</td>\n",
       "      <td>18</td>\n",
       "      <td>31</td>\n",
       "    </tr>\n",
       "    <tr>\n",
       "      <th>6439</th>\n",
       "      <td>design</td>\n",
       "      <td>21</td>\n",
       "      <td>29</td>\n",
       "      <td>19</td>\n",
       "      <td>29</td>\n",
       "    </tr>\n",
       "    <tr>\n",
       "      <th>8547</th>\n",
       "      <td>skills</td>\n",
       "      <td>21</td>\n",
       "      <td>29</td>\n",
       "      <td>18</td>\n",
       "      <td>29</td>\n",
       "    </tr>\n",
       "    <tr>\n",
       "      <th>8325</th>\n",
       "      <td>registration</td>\n",
       "      <td>20</td>\n",
       "      <td>120</td>\n",
       "      <td>13</td>\n",
       "      <td>120</td>\n",
       "    </tr>\n",
       "    <tr>\n",
       "      <th>3616</th>\n",
       "      <td>Project management</td>\n",
       "      <td>20</td>\n",
       "      <td>30</td>\n",
       "      <td>16</td>\n",
       "      <td>30</td>\n",
       "    </tr>\n",
       "    <tr>\n",
       "      <th>8386</th>\n",
       "      <td>retail</td>\n",
       "      <td>19</td>\n",
       "      <td>36</td>\n",
       "      <td>21</td>\n",
       "      <td>36</td>\n",
       "    </tr>\n",
       "    <tr>\n",
       "      <th>3603</th>\n",
       "      <td>Project Management</td>\n",
       "      <td>19</td>\n",
       "      <td>25</td>\n",
       "      <td>14</td>\n",
       "      <td>25</td>\n",
       "    </tr>\n",
       "    <tr>\n",
       "      <th>5954</th>\n",
       "      <td>business sales</td>\n",
       "      <td>19</td>\n",
       "      <td>24</td>\n",
       "      <td>12</td>\n",
       "      <td>24</td>\n",
       "    </tr>\n",
       "    <tr>\n",
       "      <th>2649</th>\n",
       "      <td>Knowledge/</td>\n",
       "      <td>18</td>\n",
       "      <td>26</td>\n",
       "      <td>12</td>\n",
       "      <td>30</td>\n",
       "    </tr>\n",
       "    <tr>\n",
       "      <th>3931</th>\n",
       "      <td>SQL</td>\n",
       "      <td>18</td>\n",
       "      <td>22</td>\n",
       "      <td>14</td>\n",
       "      <td>24</td>\n",
       "    </tr>\n",
       "    <tr>\n",
       "      <th>3667</th>\n",
       "      <td>Qualifications/</td>\n",
       "      <td>17</td>\n",
       "      <td>35</td>\n",
       "      <td>13</td>\n",
       "      <td>35</td>\n",
       "    </tr>\n",
       "    <tr>\n",
       "      <th>7496</th>\n",
       "      <td>marketing</td>\n",
       "      <td>17</td>\n",
       "      <td>30</td>\n",
       "      <td>18</td>\n",
       "      <td>30</td>\n",
       "    </tr>\n",
       "    <tr>\n",
       "      <th>2461</th>\n",
       "      <td>Industry</td>\n",
       "      <td>17</td>\n",
       "      <td>27</td>\n",
       "      <td>13</td>\n",
       "      <td>27</td>\n",
       "    </tr>\n",
       "    <tr>\n",
       "      <th>6973</th>\n",
       "      <td>graduate</td>\n",
       "      <td>17</td>\n",
       "      <td>26</td>\n",
       "      <td>12</td>\n",
       "      <td>29</td>\n",
       "    </tr>\n",
       "    <tr>\n",
       "      <th>8166</th>\n",
       "      <td>professional</td>\n",
       "      <td>17</td>\n",
       "      <td>26</td>\n",
       "      <td>14</td>\n",
       "      <td>26</td>\n",
       "    </tr>\n",
       "    <tr>\n",
       "      <th>6732</th>\n",
       "      <td>experience</td>\n",
       "      <td>17</td>\n",
       "      <td>23</td>\n",
       "      <td>13</td>\n",
       "      <td>23</td>\n",
       "    </tr>\n",
       "    <tr>\n",
       "      <th>1577</th>\n",
       "      <td>Design</td>\n",
       "      <td>17</td>\n",
       "      <td>19</td>\n",
       "      <td>8</td>\n",
       "      <td>19</td>\n",
       "    </tr>\n",
       "    <tr>\n",
       "      <th>9138</th>\n",
       "      <td>the necessary</td>\n",
       "      <td>16</td>\n",
       "      <td>54</td>\n",
       "      <td>18</td>\n",
       "      <td>54</td>\n",
       "    </tr>\n",
       "    <tr>\n",
       "      <th>7172</th>\n",
       "      <td>indepth</td>\n",
       "      <td>16</td>\n",
       "      <td>28</td>\n",
       "      <td>18</td>\n",
       "      <td>30</td>\n",
       "    </tr>\n",
       "    <tr>\n",
       "      <th>4379</th>\n",
       "      <td>Technical</td>\n",
       "      <td>16</td>\n",
       "      <td>20</td>\n",
       "      <td>14</td>\n",
       "      <td>21</td>\n",
       "    </tr>\n",
       "    <tr>\n",
       "      <th>1854</th>\n",
       "      <td>Experience</td>\n",
       "      <td>16</td>\n",
       "      <td>18</td>\n",
       "      <td>9</td>\n",
       "      <td>18</td>\n",
       "    </tr>\n",
       "    <tr>\n",
       "      <th>7965</th>\n",
       "      <td>people management</td>\n",
       "      <td>15</td>\n",
       "      <td>25</td>\n",
       "      <td>16</td>\n",
       "      <td>25</td>\n",
       "    </tr>\n",
       "    <tr>\n",
       "      <th>4723</th>\n",
       "      <td>Work</td>\n",
       "      <td>15</td>\n",
       "      <td>21</td>\n",
       "      <td>15</td>\n",
       "      <td>21</td>\n",
       "    </tr>\n",
       "    <tr>\n",
       "      <th>3858</th>\n",
       "      <td>SAP</td>\n",
       "      <td>15</td>\n",
       "      <td>17</td>\n",
       "      <td>11</td>\n",
       "      <td>17</td>\n",
       "    </tr>\n",
       "    <tr>\n",
       "      <th>6652</th>\n",
       "      <td>engineering</td>\n",
       "      <td>15</td>\n",
       "      <td>16</td>\n",
       "      <td>11</td>\n",
       "      <td>16</td>\n",
       "    </tr>\n",
       "    <tr>\n",
       "      <th>7461</th>\n",
       "      <td>managerial</td>\n",
       "      <td>14</td>\n",
       "      <td>29</td>\n",
       "      <td>18</td>\n",
       "      <td>29</td>\n",
       "    </tr>\n",
       "    <tr>\n",
       "      <th>4150</th>\n",
       "      <td>Skills /</td>\n",
       "      <td>14</td>\n",
       "      <td>24</td>\n",
       "      <td>14</td>\n",
       "      <td>24</td>\n",
       "    </tr>\n",
       "    <tr>\n",
       "      <th>5663</th>\n",
       "      <td>appropriate</td>\n",
       "      <td>14</td>\n",
       "      <td>24</td>\n",
       "      <td>13</td>\n",
       "      <td>24</td>\n",
       "    </tr>\n",
       "    <tr>\n",
       "      <th>5431</th>\n",
       "      <td>agency</td>\n",
       "      <td>14</td>\n",
       "      <td>19</td>\n",
       "      <td>14</td>\n",
       "      <td>20</td>\n",
       "    </tr>\n",
       "    <tr>\n",
       "      <th>5531</th>\n",
       "      <td>an advantage</td>\n",
       "      <td>14</td>\n",
       "      <td>18</td>\n",
       "      <td>16</td>\n",
       "      <td>18</td>\n",
       "    </tr>\n",
       "  </tbody>\n",
       "</table>\n",
       "</div>"
      ],
      "text/plain": [
       "                    text  n_company  n_ad  n_source    n\n",
       "8436               sales        117   201        35  204\n",
       "6108          commercial         96   167        33  171\n",
       "7445          management         61   104        36  106\n",
       "8733         supervisory         56   105        31  106\n",
       "4013               Sales         54    98        23   98\n",
       "7187            industry         52    82        29   83\n",
       "1311          Commercial         43    68        20   71\n",
       "9040        the customer         43    65        27   66\n",
       "6359    customer service         42    58        23   69\n",
       "9463                work         39    61        29   62\n",
       "6471         development         28    43        19   44\n",
       "6346            customer         27    41        22   43\n",
       "4158             Skills/         26    44        23   45\n",
       "9353                user         26    39        20   44\n",
       "2399             Ideally         25    30        17   30\n",
       "4276         Supervisory         24    34        22   34\n",
       "8857           telesales         22    38        17   38\n",
       "67                     )         22    32        18   32\n",
       "8809           technical         22    31        16   31\n",
       "2859          Management         21    48        26   48\n",
       "1967  Financial Services         21    31        18   31\n",
       "6439              design         21    29        19   29\n",
       "8547              skills         21    29        18   29\n",
       "8325        registration         20   120        13  120\n",
       "3616  Project management         20    30        16   30\n",
       "8386              retail         19    36        21   36\n",
       "3603  Project Management         19    25        14   25\n",
       "5954      business sales         19    24        12   24\n",
       "2649          Knowledge/         18    26        12   30\n",
       "3931                 SQL         18    22        14   24\n",
       "3667     Qualifications/         17    35        13   35\n",
       "7496           marketing         17    30        18   30\n",
       "2461            Industry         17    27        13   27\n",
       "6973            graduate         17    26        12   29\n",
       "8166        professional         17    26        14   26\n",
       "6732          experience         17    23        13   23\n",
       "1577              Design         17    19         8   19\n",
       "9138       the necessary         16    54        18   54\n",
       "7172             indepth         16    28        18   30\n",
       "4379           Technical         16    20        14   21\n",
       "1854          Experience         16    18         9   18\n",
       "7965   people management         15    25        16   25\n",
       "4723                Work         15    21        15   21\n",
       "3858                 SAP         15    17        11   17\n",
       "6652         engineering         15    16        11   16\n",
       "7461          managerial         14    29        18   29\n",
       "4150            Skills /         14    24        14   24\n",
       "5663         appropriate         14    24        13   24\n",
       "5431              agency         14    19        14   20\n",
       "5531        an advantage         14    18        16   18"
      ]
     },
     "execution_count": 33,
     "metadata": {},
     "output_type": "execute_result"
    }
   ],
   "source": [
    "aggregate_df(ent_df[(~ent_df.text.str.lower().str.contains(experience_qualifier_pattern)) & # Not a qualifier\n",
    "                     ~ent_df.text.isin(stopwords)]).head(50)"
   ]
  },
  {
   "cell_type": "markdown",
   "metadata": {},
   "source": [
    "Commercial is more of a qualifier"
   ]
  },
  {
   "cell_type": "code",
   "execution_count": 34,
   "metadata": {},
   "outputs": [
    {
     "data": {
      "text/html": [
       "<div class=\"entities\" style=\"line-height: 2.5; direction: ltr\">Experience Required In order of importance:Substantial ManManagement, departmental, budgetary and Project Management and \n",
       "<mark class=\"entity\" style=\"background: #ddd; padding: 0.45em 0.6em; margin: 0 0.25em; line-height: 1; border-radius: 0.35em;\">\n",
       "    Commercial\n",
       "    <span style=\"font-size: 0.8em; font-weight: bold; line-height: 1; border-radius: 0.35em; text-transform: uppercase; vertical-align: middle; margin-left: 0.5rem\">EXPERIENCE</span>\n",
       "</mark>\n",
       " experience in a large multi country business or operation. </div>"
      ],
      "text/plain": [
       "<IPython.core.display.HTML object>"
      ]
     },
     "metadata": {},
     "output_type": "display_data"
    },
    {
     "data": {
      "text/html": [
       "<div class=\"entities\" style=\"line-height: 2.5; direction: ltr\">\n",
       "<mark class=\"entity\" style=\"background: #ddd; padding: 0.45em 0.6em; margin: 0 0.25em; line-height: 1; border-radius: 0.35em;\">\n",
       "    Commercial\n",
       "    <span style=\"font-size: 0.8em; font-weight: bold; line-height: 1; border-radius: 0.35em; text-transform: uppercase; vertical-align: middle; margin-left: 0.5rem\">EXPERIENCE</span>\n",
       "</mark>\n",
       " experience of SAS or SQL. </div>"
      ],
      "text/plain": [
       "<IPython.core.display.HTML object>"
      ]
     },
     "metadata": {},
     "output_type": "display_data"
    },
    {
     "data": {
      "text/html": [
       "<div class=\"entities\" style=\"line-height: 2.5; direction: ltr\">\n",
       "<mark class=\"entity\" style=\"background: #ddd; padding: 0.45em 0.6em; margin: 0 0.25em; line-height: 1; border-radius: 0.35em;\">\n",
       "    Commercial\n",
       "    <span style=\"font-size: 0.8em; font-weight: bold; line-height: 1; border-radius: 0.35em; text-transform: uppercase; vertical-align: middle; margin-left: 0.5rem\">EXPERIENCE</span>\n",
       "</mark>\n",
       " experience of administrating and supporting of Linux and VMWare.</div>"
      ],
      "text/plain": [
       "<IPython.core.display.HTML object>"
      ]
     },
     "metadata": {},
     "output_type": "display_data"
    },
    {
     "data": {
      "text/html": [
       "<div class=\"entities\" style=\"line-height: 2.5; direction: ltr\">\n",
       "<mark class=\"entity\" style=\"background: #ddd; padding: 0.45em 0.6em; margin: 0 0.25em; line-height: 1; border-radius: 0.35em;\">\n",
       "    Commercial\n",
       "    <span style=\"font-size: 0.8em; font-weight: bold; line-height: 1; border-radius: 0.35em; text-transform: uppercase; vertical-align: middle; margin-left: 0.5rem\">EXPERIENCE</span>\n",
       "</mark>\n",
       " experience in similar role, working with Autodesk drawing package (AutoCAD 2010 or newer) </div>"
      ],
      "text/plain": [
       "<IPython.core.display.HTML object>"
      ]
     },
     "metadata": {},
     "output_type": "display_data"
    },
    {
     "data": {
      "text/html": [
       "<div class=\"entities\" style=\"line-height: 2.5; direction: ltr\">\n",
       "<mark class=\"entity\" style=\"background: #ddd; padding: 0.45em 0.6em; margin: 0 0.25em; line-height: 1; border-radius: 0.35em;\">\n",
       "    Commercial\n",
       "    <span style=\"font-size: 0.8em; font-weight: bold; line-height: 1; border-radius: 0.35em; text-transform: uppercase; vertical-align: middle; margin-left: 0.5rem\">EXPERIENCE</span>\n",
       "</mark>\n",
       " experience with .Net </div>"
      ],
      "text/plain": [
       "<IPython.core.display.HTML object>"
      ]
     },
     "metadata": {},
     "output_type": "display_data"
    }
   ],
   "source": [
    "showent_df(ent_df.query(\"text=='Commercial'\").head(5))"
   ]
  },
  {
   "cell_type": "markdown",
   "metadata": {},
   "source": [
    "Management experience seems correct"
   ]
  },
  {
   "cell_type": "code",
   "execution_count": 35,
   "metadata": {},
   "outputs": [
    {
     "data": {
      "text/html": [
       "<div class=\"entities\" style=\"line-height: 2.5; direction: ltr\">You will need to be RMN qualified with \n",
       "<mark class=\"entity\" style=\"background: #ddd; padding: 0.45em 0.6em; margin: 0 0.25em; line-height: 1; border-radius: 0.35em;\">\n",
       "    Management\n",
       "    <span style=\"font-size: 0.8em; font-weight: bold; line-height: 1; border-radius: 0.35em; text-transform: uppercase; vertical-align: middle; margin-left: 0.5rem\">EXPERIENCE</span>\n",
       "</mark>\n",
       " experience within a hospital setting. </div>"
      ],
      "text/plain": [
       "<IPython.core.display.HTML object>"
      ]
     },
     "metadata": {},
     "output_type": "display_data"
    },
    {
     "data": {
      "text/html": [
       "<div class=\"entities\" style=\"line-height: 2.5; direction: ltr\">To ensure that CQC Standards for Quality &amp; Safety are met at all times You will need to be RMN qualified with \n",
       "<mark class=\"entity\" style=\"background: #ddd; padding: 0.45em 0.6em; margin: 0 0.25em; line-height: 1; border-radius: 0.35em;\">\n",
       "    Management\n",
       "    <span style=\"font-size: 0.8em; font-weight: bold; line-height: 1; border-radius: 0.35em; text-transform: uppercase; vertical-align: middle; margin-left: 0.5rem\">EXPERIENCE</span>\n",
       "</mark>\n",
       " experience within a hospital setting ideally in a charge nurse role</div>"
      ],
      "text/plain": [
       "<IPython.core.display.HTML object>"
      ]
     },
     "metadata": {},
     "output_type": "display_data"
    },
    {
     "data": {
      "text/html": [
       "<div class=\"entities\" style=\"line-height: 2.5; direction: ltr\">To ensure that CQC Standards for Quality &amp; Safety are met at all times You will need to be RMN qualified with \n",
       "<mark class=\"entity\" style=\"background: #ddd; padding: 0.45em 0.6em; margin: 0 0.25em; line-height: 1; border-radius: 0.35em;\">\n",
       "    Management\n",
       "    <span style=\"font-size: 0.8em; font-weight: bold; line-height: 1; border-radius: 0.35em; text-transform: uppercase; vertical-align: middle; margin-left: 0.5rem\">EXPERIENCE</span>\n",
       "</mark>\n",
       " experience within a hospital setting. </div>"
      ],
      "text/plain": [
       "<IPython.core.display.HTML object>"
      ]
     },
     "metadata": {},
     "output_type": "display_data"
    },
    {
     "data": {
      "text/html": [
       "<div class=\"entities\" style=\"line-height: 2.5; direction: ltr\">The successful candidate will have proven \n",
       "<mark class=\"entity\" style=\"background: #ddd; padding: 0.45em 0.6em; margin: 0 0.25em; line-height: 1; border-radius: 0.35em;\">\n",
       "    Management\n",
       "    <span style=\"font-size: 0.8em; font-weight: bold; line-height: 1; border-radius: 0.35em; text-transform: uppercase; vertical-align: middle; margin-left: 0.5rem\">EXPERIENCE</span>\n",
       "</mark>\n",
       " experience and hold a 1st level nursing qualification with an active NMC PIN. </div>"
      ],
      "text/plain": [
       "<IPython.core.display.HTML object>"
      ]
     },
     "metadata": {},
     "output_type": "display_data"
    },
    {
     "data": {
      "text/html": [
       "<div class=\"entities\" style=\"line-height: 2.5; direction: ltr\">You will ideally be RGN or RMN qualified with \n",
       "<mark class=\"entity\" style=\"background: #ddd; padding: 0.45em 0.6em; margin: 0 0.25em; line-height: 1; border-radius: 0.35em;\">\n",
       "    Management\n",
       "    <span style=\"font-size: 0.8em; font-weight: bold; line-height: 1; border-radius: 0.35em; text-transform: uppercase; vertical-align: middle; margin-left: 0.5rem\">EXPERIENCE</span>\n",
       "</mark>\n",
       " experience. </div>"
      ],
      "text/plain": [
       "<IPython.core.display.HTML object>"
      ]
     },
     "metadata": {},
     "output_type": "display_data"
    }
   ],
   "source": [
    "showent_df(ent_df.query(\"text=='Management'\").head(5))"
   ]
  },
  {
   "cell_type": "code",
   "execution_count": 36,
   "metadata": {},
   "outputs": [
    {
     "data": {
      "text/html": [
       "<div class=\"entities\" style=\"line-height: 2.5; direction: ltr\">\n",
       "<mark class=\"entity\" style=\"background: #ddd; padding: 0.45em 0.6em; margin: 0 0.25em; line-height: 1; border-radius: 0.35em;\">\n",
       "    Financial Services\n",
       "    <span style=\"font-size: 0.8em; font-weight: bold; line-height: 1; border-radius: 0.35em; text-transform: uppercase; vertical-align: middle; margin-left: 0.5rem\">EXPERIENCE</span>\n",
       "</mark>\n",
       " experience </div>"
      ],
      "text/plain": [
       "<IPython.core.display.HTML object>"
      ]
     },
     "metadata": {},
     "output_type": "display_data"
    },
    {
     "data": {
      "text/html": [
       "<div class=\"entities\" style=\"line-height: 2.5; direction: ltr\">\n",
       "<mark class=\"entity\" style=\"background: #ddd; padding: 0.45em 0.6em; margin: 0 0.25em; line-height: 1; border-radius: 0.35em;\">\n",
       "    Financial Services\n",
       "    <span style=\"font-size: 0.8em; font-weight: bold; line-height: 1; border-radius: 0.35em; text-transform: uppercase; vertical-align: middle; margin-left: 0.5rem\">EXPERIENCE</span>\n",
       "</mark>\n",
       " Experience  </div>"
      ],
      "text/plain": [
       "<IPython.core.display.HTML object>"
      ]
     },
     "metadata": {},
     "output_type": "display_data"
    },
    {
     "data": {
      "text/html": [
       "<div class=\"entities\" style=\"line-height: 2.5; direction: ltr\">\n",
       "<mark class=\"entity\" style=\"background: #ddd; padding: 0.45em 0.6em; margin: 0 0.25em; line-height: 1; border-radius: 0.35em;\">\n",
       "    Financial Services\n",
       "    <span style=\"font-size: 0.8em; font-weight: bold; line-height: 1; border-radius: 0.35em; text-transform: uppercase; vertical-align: middle; margin-left: 0.5rem\">EXPERIENCE</span>\n",
       "</mark>\n",
       " experience would be beneficial. </div>"
      ],
      "text/plain": [
       "<IPython.core.display.HTML object>"
      ]
     },
     "metadata": {},
     "output_type": "display_data"
    },
    {
     "data": {
      "text/html": [
       "<div class=\"entities\" style=\"line-height: 2.5; direction: ltr\">\n",
       "<mark class=\"entity\" style=\"background: #ddd; padding: 0.45em 0.6em; margin: 0 0.25em; line-height: 1; border-radius: 0.35em;\">\n",
       "    Financial Services\n",
       "    <span style=\"font-size: 0.8em; font-weight: bold; line-height: 1; border-radius: 0.35em; text-transform: uppercase; vertical-align: middle; margin-left: 0.5rem\">EXPERIENCE</span>\n",
       "</mark>\n",
       " experience  </div>"
      ],
      "text/plain": [
       "<IPython.core.display.HTML object>"
      ]
     },
     "metadata": {},
     "output_type": "display_data"
    },
    {
     "data": {
      "text/html": [
       "<div class=\"entities\" style=\"line-height: 2.5; direction: ltr\">Ability to work to targets Experience of successfully working in a targeted contact centre environment (with \n",
       "<mark class=\"entity\" style=\"background: #ddd; padding: 0.45em 0.6em; margin: 0 0.25em; line-height: 1; border-radius: 0.35em;\">\n",
       "    Financial Services\n",
       "    <span style=\"font-size: 0.8em; font-weight: bold; line-height: 1; border-radius: 0.35em; text-transform: uppercase; vertical-align: middle; margin-left: 0.5rem\">EXPERIENCE</span>\n",
       "</mark>\n",
       " experience) is essential. </div>"
      ],
      "text/plain": [
       "<IPython.core.display.HTML object>"
      ]
     },
     "metadata": {},
     "output_type": "display_data"
    }
   ],
   "source": [
    "showent_df(ent_df.query(\"text=='Financial Services'\").head(5))"
   ]
  },
  {
   "cell_type": "code",
   "execution_count": 37,
   "metadata": {},
   "outputs": [
    {
     "data": {
      "text/html": [
       "<div class=\"entities\" style=\"line-height: 2.5; direction: ltr\">Further refining the physical design to meet system storage requirements Education/Experience Qualifications BS or MS degree or equivalent experience in a technical field Skills: 3 years  \n",
       "<mark class=\"entity\" style=\"background: #ddd; padding: 0.45em 0.6em; margin: 0 0.25em; line-height: 1; border-radius: 0.35em;\">\n",
       "    SQL\n",
       "    <span style=\"font-size: 0.8em; font-weight: bold; line-height: 1; border-radius: 0.35em; text-transform: uppercase; vertical-align: middle; margin-left: 0.5rem\">EXPERIENCE</span>\n",
       "</mark>\n",
       " experience 3 years  Oracle PL/SQL experience </div>"
      ],
      "text/plain": [
       "<IPython.core.display.HTML object>"
      ]
     },
     "metadata": {},
     "output_type": "display_data"
    },
    {
     "data": {
      "text/html": [
       "<div class=\"entities\" style=\"line-height: 2.5; direction: ltr\">\n",
       "<mark class=\"entity\" style=\"background: #ddd; padding: 0.45em 0.6em; margin: 0 0.25em; line-height: 1; border-radius: 0.35em;\">\n",
       "    SQL\n",
       "    <span style=\"font-size: 0.8em; font-weight: bold; line-height: 1; border-radius: 0.35em; text-transform: uppercase; vertical-align: middle; margin-left: 0.5rem\">EXPERIENCE</span>\n",
       "</mark>\n",
       " experience using one or more of SQL Server, Oracle or DB</div>"
      ],
      "text/plain": [
       "<IPython.core.display.HTML object>"
      ]
     },
     "metadata": {},
     "output_type": "display_data"
    },
    {
     "data": {
      "text/html": [
       "<div class=\"entities\" style=\"line-height: 2.5; direction: ltr\">SAS and or \n",
       "<mark class=\"entity\" style=\"background: #ddd; padding: 0.45em 0.6em; margin: 0 0.25em; line-height: 1; border-radius: 0.35em;\">\n",
       "    SQL\n",
       "    <span style=\"font-size: 0.8em; font-weight: bold; line-height: 1; border-radius: 0.35em; text-transform: uppercase; vertical-align: middle; margin-left: 0.5rem\">EXPERIENCE</span>\n",
       "</mark>\n",
       " experience is a key requirement as the role has a heavy analytical bias. </div>"
      ],
      "text/plain": [
       "<IPython.core.display.HTML object>"
      ]
     },
     "metadata": {},
     "output_type": "display_data"
    },
    {
     "data": {
      "text/html": [
       "<div class=\"entities\" style=\"line-height: 2.5; direction: ltr\">**k Global service provider is looking for a experienced Microsoft Dynamics Solutions Architect with extensive CRM, C, .Net and \n",
       "<mark class=\"entity\" style=\"background: #ddd; padding: 0.45em 0.6em; margin: 0 0.25em; line-height: 1; border-radius: 0.35em;\">\n",
       "    SQL\n",
       "    <span style=\"font-size: 0.8em; font-weight: bold; line-height: 1; border-radius: 0.35em; text-transform: uppercase; vertical-align: middle; margin-left: 0.5rem\">EXPERIENCE</span>\n",
       "</mark>\n",
       " experience. </div>"
      ],
      "text/plain": [
       "<IPython.core.display.HTML object>"
      ]
     },
     "metadata": {},
     "output_type": "display_data"
    },
    {
     "data": {
      "text/html": [
       "<div class=\"entities\" style=\"line-height: 2.5; direction: ltr\">Further refining the physical design to meet system storage requirements Education/Experience Qualifications BS or MS degree or equivalent experience in a technical field Skills: 3 years  \n",
       "<mark class=\"entity\" style=\"background: #ddd; padding: 0.45em 0.6em; margin: 0 0.25em; line-height: 1; border-radius: 0.35em;\">\n",
       "    SQL\n",
       "    <span style=\"font-size: 0.8em; font-weight: bold; line-height: 1; border-radius: 0.35em; text-transform: uppercase; vertical-align: middle; margin-left: 0.5rem\">EXPERIENCE</span>\n",
       "</mark>\n",
       " experience 3 years  Oracle PL/SQL experience </div>"
      ],
      "text/plain": [
       "<IPython.core.display.HTML object>"
      ]
     },
     "metadata": {},
     "output_type": "display_data"
    }
   ],
   "source": [
    "showent_df(ent_df.query(\"text=='SQL'\").head(5))"
   ]
  },
  {
   "cell_type": "code",
   "execution_count": 38,
   "metadata": {},
   "outputs": [
    {
     "data": {
      "text/html": [
       "<div class=\"entities\" style=\"line-height: 2.5; direction: ltr\">**) Have \n",
       "<mark class=\"entity\" style=\"background: #ddd; padding: 0.45em 0.6em; margin: 0 0.25em; line-height: 1; border-radius: 0.35em;\">\n",
       "    development\n",
       "    <span style=\"font-size: 0.8em; font-weight: bold; line-height: 1; border-radius: 0.35em; text-transform: uppercase; vertical-align: middle; margin-left: 0.5rem\">EXPERIENCE</span>\n",
       "</mark>\n",
       " experience in C and JavaScript </div>"
      ],
      "text/plain": [
       "<IPython.core.display.HTML object>"
      ]
     },
     "metadata": {},
     "output_type": "display_data"
    },
    {
     "data": {
      "text/html": [
       "<div class=\"entities\" style=\"line-height: 2.5; direction: ltr\">We are offering an exciting opportunity for an experienced applications programmer with a number of years of .Net \n",
       "<mark class=\"entity\" style=\"background: #ddd; padding: 0.45em 0.6em; margin: 0 0.25em; line-height: 1; border-radius: 0.35em;\">\n",
       "    development\n",
       "    <span style=\"font-size: 0.8em; font-weight: bold; line-height: 1; border-radius: 0.35em; text-transform: uppercase; vertical-align: middle; margin-left: 0.5rem\">EXPERIENCE</span>\n",
       "</mark>\n",
       " experience. </div>"
      ],
      "text/plain": [
       "<IPython.core.display.HTML object>"
      ]
     },
     "metadata": {},
     "output_type": "display_data"
    },
    {
     "data": {
      "text/html": [
       "<div class=\"entities\" style=\"line-height: 2.5; direction: ltr\">Desirable experience would include creating UML diagrams, \n",
       "<mark class=\"entity\" style=\"background: #ddd; padding: 0.45em 0.6em; margin: 0 0.25em; line-height: 1; border-radius: 0.35em;\">\n",
       "    development\n",
       "    <span style=\"font-size: 0.8em; font-weight: bold; line-height: 1; border-radius: 0.35em; text-transform: uppercase; vertical-align: middle; margin-left: 0.5rem\">EXPERIENCE</span>\n",
       "</mark>\n",
       " experience with file systems / database storage, experience with clustered computer environments, or experience with distributed computation platforms. </div>"
      ],
      "text/plain": [
       "<IPython.core.display.HTML object>"
      ]
     },
     "metadata": {},
     "output_type": "display_data"
    },
    {
     "data": {
      "text/html": [
       "<div class=\"entities\" style=\"line-height: 2.5; direction: ltr\">Permanent The successful candidate will have a minimum of 5 years of \n",
       "<mark class=\"entity\" style=\"background: #ddd; padding: 0.45em 0.6em; margin: 0 0.25em; line-height: 1; border-radius: 0.35em;\">\n",
       "    development\n",
       "    <span style=\"font-size: 0.8em; font-weight: bold; line-height: 1; border-radius: 0.35em; text-transform: uppercase; vertical-align: middle; margin-left: 0.5rem\">EXPERIENCE</span>\n",
       "</mark>\n",
       " experience If you are looking for a new .NET Development challenge and are looking for a market leading Software Company with excellent career progression opportunities and expanding your knowledge and experience, send in your CV now and call Nick Bray on *</div>"
      ],
      "text/plain": [
       "<IPython.core.display.HTML object>"
      ]
     },
     "metadata": {},
     "output_type": "display_data"
    },
    {
     "data": {
      "text/html": [
       "<div class=\"entities\" style=\"line-height: 2.5; direction: ltr\">It is also desirable that you have had \n",
       "<mark class=\"entity\" style=\"background: #ddd; padding: 0.45em 0.6em; margin: 0 0.25em; line-height: 1; border-radius: 0.35em;\">\n",
       "    development\n",
       "    <span style=\"font-size: 0.8em; font-weight: bold; line-height: 1; border-radius: 0.35em; text-transform: uppercase; vertical-align: middle; margin-left: 0.5rem\">EXPERIENCE</span>\n",
       "</mark>\n",
       " experience in a variety of platforms (Windows, Linux, Android and/or other) </div>"
      ],
      "text/plain": [
       "<IPython.core.display.HTML object>"
      ]
     },
     "metadata": {},
     "output_type": "display_data"
    }
   ],
   "source": [
    "showent_df(ent_df.query(\"text=='development'\").head(5))"
   ]
  },
  {
   "cell_type": "markdown",
   "metadata": {},
   "source": [
    "### Extracting experience in a field"
   ]
  },
  {
   "cell_type": "markdown",
   "metadata": {},
   "source": [
    "Another way experience is commonly stated is with an adposition\n",
    "\n",
    ">  experience in/with modelling\n",
    "\n",
    "For example"
   ]
  },
  {
   "cell_type": "code",
   "execution_count": 39,
   "metadata": {},
   "outputs": [
    {
     "data": {
      "text/html": [
       "<svg xmlns=\"http://www.w3.org/2000/svg\" xmlns:xlink=\"http://www.w3.org/1999/xlink\" xml:lang=\"en\" id=\"3a0d7dba876e41ecb01914625e42875d-0\" class=\"displacy\" width=\"1975\" height=\"487.0\" direction=\"ltr\" style=\"max-width: none; height: 487.0px; color: #000000; background: #ffffff; font-family: Arial; direction: ltr\">\n",
       "<text class=\"displacy-token\" fill=\"currentColor\" text-anchor=\"middle\" y=\"397.0\">\n",
       "    <tspan class=\"displacy-word\" fill=\"currentColor\" x=\"50\">Experience</tspan>\n",
       "    <tspan class=\"displacy-tag\" dy=\"2em\" fill=\"currentColor\" x=\"50\">NOUN</tspan>\n",
       "</text>\n",
       "\n",
       "<text class=\"displacy-token\" fill=\"currentColor\" text-anchor=\"middle\" y=\"397.0\">\n",
       "    <tspan class=\"displacy-word\" fill=\"currentColor\" x=\"225\">of</tspan>\n",
       "    <tspan class=\"displacy-tag\" dy=\"2em\" fill=\"currentColor\" x=\"225\">ADP</tspan>\n",
       "</text>\n",
       "\n",
       "<text class=\"displacy-token\" fill=\"currentColor\" text-anchor=\"middle\" y=\"397.0\">\n",
       "    <tspan class=\"displacy-word\" fill=\"currentColor\" x=\"400\">protection</tspan>\n",
       "    <tspan class=\"displacy-tag\" dy=\"2em\" fill=\"currentColor\" x=\"400\">NOUN</tspan>\n",
       "</text>\n",
       "\n",
       "<text class=\"displacy-token\" fill=\"currentColor\" text-anchor=\"middle\" y=\"397.0\">\n",
       "    <tspan class=\"displacy-word\" fill=\"currentColor\" x=\"575\">and</tspan>\n",
       "    <tspan class=\"displacy-tag\" dy=\"2em\" fill=\"currentColor\" x=\"575\">CCONJ</tspan>\n",
       "</text>\n",
       "\n",
       "<text class=\"displacy-token\" fill=\"currentColor\" text-anchor=\"middle\" y=\"397.0\">\n",
       "    <tspan class=\"displacy-word\" fill=\"currentColor\" x=\"750\">control</tspan>\n",
       "    <tspan class=\"displacy-tag\" dy=\"2em\" fill=\"currentColor\" x=\"750\">NOUN</tspan>\n",
       "</text>\n",
       "\n",
       "<text class=\"displacy-token\" fill=\"currentColor\" text-anchor=\"middle\" y=\"397.0\">\n",
       "    <tspan class=\"displacy-word\" fill=\"currentColor\" x=\"925\">design</tspan>\n",
       "    <tspan class=\"displacy-tag\" dy=\"2em\" fill=\"currentColor\" x=\"925\">NOUN</tspan>\n",
       "</text>\n",
       "\n",
       "<text class=\"displacy-token\" fill=\"currentColor\" text-anchor=\"middle\" y=\"397.0\">\n",
       "    <tspan class=\"displacy-word\" fill=\"currentColor\" x=\"1100\">at</tspan>\n",
       "    <tspan class=\"displacy-tag\" dy=\"2em\" fill=\"currentColor\" x=\"1100\">ADP</tspan>\n",
       "</text>\n",
       "\n",
       "<text class=\"displacy-token\" fill=\"currentColor\" text-anchor=\"middle\" y=\"397.0\">\n",
       "    <tspan class=\"displacy-word\" fill=\"currentColor\" x=\"1275\">Transmission</tspan>\n",
       "    <tspan class=\"displacy-tag\" dy=\"2em\" fill=\"currentColor\" x=\"1275\">PROPN</tspan>\n",
       "</text>\n",
       "\n",
       "<text class=\"displacy-token\" fill=\"currentColor\" text-anchor=\"middle\" y=\"397.0\">\n",
       "    <tspan class=\"displacy-word\" fill=\"currentColor\" x=\"1450\">and</tspan>\n",
       "    <tspan class=\"displacy-tag\" dy=\"2em\" fill=\"currentColor\" x=\"1450\">CCONJ</tspan>\n",
       "</text>\n",
       "\n",
       "<text class=\"displacy-token\" fill=\"currentColor\" text-anchor=\"middle\" y=\"397.0\">\n",
       "    <tspan class=\"displacy-word\" fill=\"currentColor\" x=\"1625\">Distribution</tspan>\n",
       "    <tspan class=\"displacy-tag\" dy=\"2em\" fill=\"currentColor\" x=\"1625\">NOUN</tspan>\n",
       "</text>\n",
       "\n",
       "<text class=\"displacy-token\" fill=\"currentColor\" text-anchor=\"middle\" y=\"397.0\">\n",
       "    <tspan class=\"displacy-word\" fill=\"currentColor\" x=\"1800\">voltages.</tspan>\n",
       "    <tspan class=\"displacy-tag\" dy=\"2em\" fill=\"currentColor\" x=\"1800\">NOUN</tspan>\n",
       "</text>\n",
       "\n",
       "<g class=\"displacy-arrow\">\n",
       "    <path class=\"displacy-arc\" id=\"arrow-3a0d7dba876e41ecb01914625e42875d-0-0\" stroke-width=\"2px\" d=\"M70,352.0 C70,264.5 210.0,264.5 210.0,352.0\" fill=\"none\" stroke=\"currentColor\"/>\n",
       "    <text dy=\"1.25em\" style=\"font-size: 0.8em; letter-spacing: 1px\">\n",
       "        <textPath xlink:href=\"#arrow-3a0d7dba876e41ecb01914625e42875d-0-0\" class=\"displacy-label\" startOffset=\"50%\" side=\"left\" fill=\"currentColor\" text-anchor=\"middle\">prep</textPath>\n",
       "    </text>\n",
       "    <path class=\"displacy-arrowhead\" d=\"M210.0,354.0 L218.0,342.0 202.0,342.0\" fill=\"currentColor\"/>\n",
       "</g>\n",
       "\n",
       "<g class=\"displacy-arrow\">\n",
       "    <path class=\"displacy-arc\" id=\"arrow-3a0d7dba876e41ecb01914625e42875d-0-1\" stroke-width=\"2px\" d=\"M420,352.0 C420,89.5 920.0,89.5 920.0,352.0\" fill=\"none\" stroke=\"currentColor\"/>\n",
       "    <text dy=\"1.25em\" style=\"font-size: 0.8em; letter-spacing: 1px\">\n",
       "        <textPath xlink:href=\"#arrow-3a0d7dba876e41ecb01914625e42875d-0-1\" class=\"displacy-label\" startOffset=\"50%\" side=\"left\" fill=\"currentColor\" text-anchor=\"middle\">nmod</textPath>\n",
       "    </text>\n",
       "    <path class=\"displacy-arrowhead\" d=\"M420,354.0 L412,342.0 428,342.0\" fill=\"currentColor\"/>\n",
       "</g>\n",
       "\n",
       "<g class=\"displacy-arrow\">\n",
       "    <path class=\"displacy-arc\" id=\"arrow-3a0d7dba876e41ecb01914625e42875d-0-2\" stroke-width=\"2px\" d=\"M420,352.0 C420,264.5 560.0,264.5 560.0,352.0\" fill=\"none\" stroke=\"currentColor\"/>\n",
       "    <text dy=\"1.25em\" style=\"font-size: 0.8em; letter-spacing: 1px\">\n",
       "        <textPath xlink:href=\"#arrow-3a0d7dba876e41ecb01914625e42875d-0-2\" class=\"displacy-label\" startOffset=\"50%\" side=\"left\" fill=\"currentColor\" text-anchor=\"middle\">cc</textPath>\n",
       "    </text>\n",
       "    <path class=\"displacy-arrowhead\" d=\"M560.0,354.0 L568.0,342.0 552.0,342.0\" fill=\"currentColor\"/>\n",
       "</g>\n",
       "\n",
       "<g class=\"displacy-arrow\">\n",
       "    <path class=\"displacy-arc\" id=\"arrow-3a0d7dba876e41ecb01914625e42875d-0-3\" stroke-width=\"2px\" d=\"M420,352.0 C420,177.0 740.0,177.0 740.0,352.0\" fill=\"none\" stroke=\"currentColor\"/>\n",
       "    <text dy=\"1.25em\" style=\"font-size: 0.8em; letter-spacing: 1px\">\n",
       "        <textPath xlink:href=\"#arrow-3a0d7dba876e41ecb01914625e42875d-0-3\" class=\"displacy-label\" startOffset=\"50%\" side=\"left\" fill=\"currentColor\" text-anchor=\"middle\">conj</textPath>\n",
       "    </text>\n",
       "    <path class=\"displacy-arrowhead\" d=\"M740.0,354.0 L748.0,342.0 732.0,342.0\" fill=\"currentColor\"/>\n",
       "</g>\n",
       "\n",
       "<g class=\"displacy-arrow\">\n",
       "    <path class=\"displacy-arc\" id=\"arrow-3a0d7dba876e41ecb01914625e42875d-0-4\" stroke-width=\"2px\" d=\"M245,352.0 C245,2.0 925.0,2.0 925.0,352.0\" fill=\"none\" stroke=\"currentColor\"/>\n",
       "    <text dy=\"1.25em\" style=\"font-size: 0.8em; letter-spacing: 1px\">\n",
       "        <textPath xlink:href=\"#arrow-3a0d7dba876e41ecb01914625e42875d-0-4\" class=\"displacy-label\" startOffset=\"50%\" side=\"left\" fill=\"currentColor\" text-anchor=\"middle\">pobj</textPath>\n",
       "    </text>\n",
       "    <path class=\"displacy-arrowhead\" d=\"M925.0,354.0 L933.0,342.0 917.0,342.0\" fill=\"currentColor\"/>\n",
       "</g>\n",
       "\n",
       "<g class=\"displacy-arrow\">\n",
       "    <path class=\"displacy-arc\" id=\"arrow-3a0d7dba876e41ecb01914625e42875d-0-5\" stroke-width=\"2px\" d=\"M945,352.0 C945,264.5 1085.0,264.5 1085.0,352.0\" fill=\"none\" stroke=\"currentColor\"/>\n",
       "    <text dy=\"1.25em\" style=\"font-size: 0.8em; letter-spacing: 1px\">\n",
       "        <textPath xlink:href=\"#arrow-3a0d7dba876e41ecb01914625e42875d-0-5\" class=\"displacy-label\" startOffset=\"50%\" side=\"left\" fill=\"currentColor\" text-anchor=\"middle\">prep</textPath>\n",
       "    </text>\n",
       "    <path class=\"displacy-arrowhead\" d=\"M1085.0,354.0 L1093.0,342.0 1077.0,342.0\" fill=\"currentColor\"/>\n",
       "</g>\n",
       "\n",
       "<g class=\"displacy-arrow\">\n",
       "    <path class=\"displacy-arc\" id=\"arrow-3a0d7dba876e41ecb01914625e42875d-0-6\" stroke-width=\"2px\" d=\"M1295,352.0 C1295,89.5 1795.0,89.5 1795.0,352.0\" fill=\"none\" stroke=\"currentColor\"/>\n",
       "    <text dy=\"1.25em\" style=\"font-size: 0.8em; letter-spacing: 1px\">\n",
       "        <textPath xlink:href=\"#arrow-3a0d7dba876e41ecb01914625e42875d-0-6\" class=\"displacy-label\" startOffset=\"50%\" side=\"left\" fill=\"currentColor\" text-anchor=\"middle\">nmod</textPath>\n",
       "    </text>\n",
       "    <path class=\"displacy-arrowhead\" d=\"M1295,354.0 L1287,342.0 1303,342.0\" fill=\"currentColor\"/>\n",
       "</g>\n",
       "\n",
       "<g class=\"displacy-arrow\">\n",
       "    <path class=\"displacy-arc\" id=\"arrow-3a0d7dba876e41ecb01914625e42875d-0-7\" stroke-width=\"2px\" d=\"M1295,352.0 C1295,264.5 1435.0,264.5 1435.0,352.0\" fill=\"none\" stroke=\"currentColor\"/>\n",
       "    <text dy=\"1.25em\" style=\"font-size: 0.8em; letter-spacing: 1px\">\n",
       "        <textPath xlink:href=\"#arrow-3a0d7dba876e41ecb01914625e42875d-0-7\" class=\"displacy-label\" startOffset=\"50%\" side=\"left\" fill=\"currentColor\" text-anchor=\"middle\">cc</textPath>\n",
       "    </text>\n",
       "    <path class=\"displacy-arrowhead\" d=\"M1435.0,354.0 L1443.0,342.0 1427.0,342.0\" fill=\"currentColor\"/>\n",
       "</g>\n",
       "\n",
       "<g class=\"displacy-arrow\">\n",
       "    <path class=\"displacy-arc\" id=\"arrow-3a0d7dba876e41ecb01914625e42875d-0-8\" stroke-width=\"2px\" d=\"M1295,352.0 C1295,177.0 1615.0,177.0 1615.0,352.0\" fill=\"none\" stroke=\"currentColor\"/>\n",
       "    <text dy=\"1.25em\" style=\"font-size: 0.8em; letter-spacing: 1px\">\n",
       "        <textPath xlink:href=\"#arrow-3a0d7dba876e41ecb01914625e42875d-0-8\" class=\"displacy-label\" startOffset=\"50%\" side=\"left\" fill=\"currentColor\" text-anchor=\"middle\">conj</textPath>\n",
       "    </text>\n",
       "    <path class=\"displacy-arrowhead\" d=\"M1615.0,354.0 L1623.0,342.0 1607.0,342.0\" fill=\"currentColor\"/>\n",
       "</g>\n",
       "\n",
       "<g class=\"displacy-arrow\">\n",
       "    <path class=\"displacy-arc\" id=\"arrow-3a0d7dba876e41ecb01914625e42875d-0-9\" stroke-width=\"2px\" d=\"M1120,352.0 C1120,2.0 1800.0,2.0 1800.0,352.0\" fill=\"none\" stroke=\"currentColor\"/>\n",
       "    <text dy=\"1.25em\" style=\"font-size: 0.8em; letter-spacing: 1px\">\n",
       "        <textPath xlink:href=\"#arrow-3a0d7dba876e41ecb01914625e42875d-0-9\" class=\"displacy-label\" startOffset=\"50%\" side=\"left\" fill=\"currentColor\" text-anchor=\"middle\">pobj</textPath>\n",
       "    </text>\n",
       "    <path class=\"displacy-arrowhead\" d=\"M1800.0,354.0 L1808.0,342.0 1792.0,342.0\" fill=\"currentColor\"/>\n",
       "</g>\n",
       "</svg>"
      ],
      "text/plain": [
       "<IPython.core.display.HTML object>"
      ]
     },
     "metadata": {},
     "output_type": "display_data"
    }
   ],
   "source": [
    "doc = nlp('Experience of protection and control design at Transmission and Distribution voltages.')\n",
    "displacy.render([doc], style='dep', jupyter=True)"
   ]
  },
  {
   "cell_type": "markdown",
   "metadata": {},
   "source": [
    "We extract the experience by looking to the right for a preposition (e.g. in/with) and then looking for its object and extracting the whole left subtree.\n",
    "\n",
    "This is obviously quite specific to English."
   ]
  },
  {
   "cell_type": "code",
   "execution_count": 40,
   "metadata": {},
   "outputs": [],
   "source": [
    "def extract_adp_experience(doc, label='EXPERIENCE'):\n",
    "    for tok in doc:\n",
    "        if tok.lower_ == 'experience':\n",
    "            for child in tok.rights:\n",
    "                if child.dep_ == 'prep':\n",
    "                    for obj in child.children:\n",
    "                        if obj.dep_ == 'pobj':\n",
    "                            yield label, obj.left_edge.i, obj.i+1"
   ]
  },
  {
   "cell_type": "markdown",
   "metadata": {},
   "source": [
    "This works very well! All of our examples are specific.\n",
    "\n",
    "Notice that:\n",
    "\n",
    "* We're missing conjugations: we get experience in subsea engineering, but miss \"pipelines design\" and \"construction\"\n",
    "* We miss elaborations: \"such as Discrete Event Simulation  ...\"\n",
    "* We miss experience in actions (experience in working with children)"
   ]
  },
  {
   "cell_type": "code",
   "execution_count": 41,
   "metadata": {},
   "outputs": [
    {
     "data": {
      "text/html": [
       "<div class=\"entities\" style=\"line-height: 2.5; direction: ltr\">They will need someone who has at least 1015 years of subsea cable engineering \n",
       "<mark class=\"entity\" style=\"background: pink; padding: 0.45em 0.6em; margin: 0 0.25em; line-height: 1; border-radius: 0.35em;\">\n",
       "    experience\n",
       "    <span style=\"font-size: 0.8em; font-weight: bold; line-height: 1; border-radius: 0.35em; text-transform: uppercase; vertical-align: middle; margin-left: 0.5rem\">MISSING</span>\n",
       "</mark>\n",
       "</div>"
      ],
      "text/plain": [
       "<IPython.core.display.HTML object>"
      ]
     },
     "metadata": {},
     "output_type": "display_data"
    },
    {
     "data": {
      "text/html": [
       "<div class=\"entities\" style=\"line-height: 2.5; direction: ltr\">This position is ideally suited to high calibre engineering graduate with significant and appropriate post graduate \n",
       "<mark class=\"entity\" style=\"background: pink; padding: 0.45em 0.6em; margin: 0 0.25em; line-height: 1; border-radius: 0.35em;\">\n",
       "    experience\n",
       "    <span style=\"font-size: 0.8em; font-weight: bold; line-height: 1; border-radius: 0.35em; text-transform: uppercase; vertical-align: middle; margin-left: 0.5rem\">MISSING</span>\n",
       "</mark>\n",
       ".</div>"
      ],
      "text/plain": [
       "<IPython.core.display.HTML object>"
      ]
     },
     "metadata": {},
     "output_type": "display_data"
    },
    {
     "data": {
      "text/html": [
       "<div class=\"entities\" style=\"line-height: 2.5; direction: ltr\">Aerospace industry \n",
       "<mark class=\"entity\" style=\"background: pink; padding: 0.45em 0.6em; margin: 0 0.25em; line-height: 1; border-radius: 0.35em;\">\n",
       "    experience\n",
       "    <span style=\"font-size: 0.8em; font-weight: bold; line-height: 1; border-radius: 0.35em; text-transform: uppercase; vertical-align: middle; margin-left: 0.5rem\">MISSING</span>\n",
       "</mark>\n",
       " would be advantageous covering aerostructures and/or aero engines.</div>"
      ],
      "text/plain": [
       "<IPython.core.display.HTML object>"
      ]
     },
     "metadata": {},
     "output_type": "display_data"
    },
    {
     "data": {
      "text/html": [
       "<div class=\"entities\" style=\"line-height: 2.5; direction: ltr\">A sufficient and appropriate level of building services and controls \n",
       "<mark class=\"entity\" style=\"background: pink; padding: 0.45em 0.6em; margin: 0 0.25em; line-height: 1; border-radius: 0.35em;\">\n",
       "    experience\n",
       "    <span style=\"font-size: 0.8em; font-weight: bold; line-height: 1; border-radius: 0.35em; text-transform: uppercase; vertical-align: middle; margin-left: 0.5rem\">MISSING</span>\n",
       "</mark>\n",
       " gained within a client organisation, engineering consultancy or equipment supplier.</div>"
      ],
      "text/plain": [
       "<IPython.core.display.HTML object>"
      ]
     },
     "metadata": {},
     "output_type": "display_data"
    },
    {
     "data": {
      "text/html": [
       "<div class=\"entities\" style=\"line-height: 2.5; direction: ltr\">Experience in \n",
       "<mark class=\"entity\" style=\"background: lightgreen; padding: 0.45em 0.6em; margin: 0 0.25em; line-height: 1; border-radius: 0.35em;\">\n",
       "    Modelling and Simulation Techniques\n",
       "    <span style=\"font-size: 0.8em; font-weight: bold; line-height: 1; border-radius: 0.35em; text-transform: uppercase; vertical-align: middle; margin-left: 0.5rem\">EXPERIENCE</span>\n",
       "</mark>\n",
       "</div>"
      ],
      "text/plain": [
       "<IPython.core.display.HTML object>"
      ]
     },
     "metadata": {},
     "output_type": "display_data"
    },
    {
     "data": {
      "text/html": [
       "<div class=\"entities\" style=\"line-height: 2.5; direction: ltr\">Any experience of \n",
       "<mark class=\"entity\" style=\"background: lightgreen; padding: 0.45em 0.6em; margin: 0 0.25em; line-height: 1; border-radius: 0.35em;\">\n",
       "    Pioneer or Miser software\n",
       "    <span style=\"font-size: 0.8em; font-weight: bold; line-height: 1; border-radius: 0.35em; text-transform: uppercase; vertical-align: middle; margin-left: 0.5rem\">EXPERIENCE</span>\n",
       "</mark>\n",
       " would be an advantage.</div>"
      ],
      "text/plain": [
       "<IPython.core.display.HTML object>"
      ]
     },
     "metadata": {},
     "output_type": "display_data"
    },
    {
     "data": {
      "text/html": [
       "<div class=\"entities\" style=\"line-height: 2.5; direction: ltr\">For this role, you must have a minimum of 10 years experience in \n",
       "<mark class=\"entity\" style=\"background: lightgreen; padding: 0.45em 0.6em; margin: 0 0.25em; line-height: 1; border-radius: 0.35em;\">\n",
       "    subsea engineering\n",
       "    <span style=\"font-size: 0.8em; font-weight: bold; line-height: 1; border-radius: 0.35em; text-transform: uppercase; vertical-align: middle; margin-left: 0.5rem\">EXPERIENCE</span>\n",
       "</mark>\n",
       ", pipelines design or construction.</div>"
      ],
      "text/plain": [
       "<IPython.core.display.HTML object>"
      ]
     },
     "metadata": {},
     "output_type": "display_data"
    },
    {
     "data": {
      "text/html": [
       "<div class=\"entities\" style=\"line-height: 2.5; direction: ltr\">Has experience within \n",
       "<mark class=\"entity\" style=\"background: lightgreen; padding: 0.45em 0.6em; margin: 0 0.25em; line-height: 1; border-radius: 0.35em;\">\n",
       "    the quality department\n",
       "    <span style=\"font-size: 0.8em; font-weight: bold; line-height: 1; border-radius: 0.35em; text-transform: uppercase; vertical-align: middle; margin-left: 0.5rem\">EXPERIENCE</span>\n",
       "</mark>\n",
       " of a related company in a similar role Ideally from a mechanical or manufacturing engineering background.</div>"
      ],
      "text/plain": [
       "<IPython.core.display.HTML object>"
      ]
     },
     "metadata": {},
     "output_type": "display_data"
    },
    {
     "data": {
      "text/html": [
       "<div class=\"entities\" style=\"line-height: 2.5; direction: ltr\">and have experience of \n",
       "<mark class=\"entity\" style=\"background: lightgreen; padding: 0.45em 0.6em; margin: 0 0.25em; line-height: 1; border-radius: 0.35em;\">\n",
       "    the technical leadership\n",
       "    <span style=\"font-size: 0.8em; font-weight: bold; line-height: 1; border-radius: 0.35em; text-transform: uppercase; vertical-align: middle; margin-left: 0.5rem\">EXPERIENCE</span>\n",
       "</mark>\n",
       " of projects to time, quality and cost objectives.</div>"
      ],
      "text/plain": [
       "<IPython.core.display.HTML object>"
      ]
     },
     "metadata": {},
     "output_type": "display_data"
    },
    {
     "data": {
      "text/html": [
       "<div class=\"entities\" style=\"line-height: 2.5; direction: ltr\">Experience of \n",
       "<mark class=\"entity\" style=\"background: lightgreen; padding: 0.45em 0.6em; margin: 0 0.25em; line-height: 1; border-radius: 0.35em;\">\n",
       "    protection and control design\n",
       "    <span style=\"font-size: 0.8em; font-weight: bold; line-height: 1; border-radius: 0.35em; text-transform: uppercase; vertical-align: middle; margin-left: 0.5rem\">EXPERIENCE</span>\n",
       "</mark>\n",
       " at Transmission and Distribution voltages.</div>"
      ],
      "text/plain": [
       "<IPython.core.display.HTML object>"
      ]
     },
     "metadata": {},
     "output_type": "display_data"
    },
    {
     "data": {
      "text/html": [
       "<div class=\"entities\" style=\"line-height: 2.5; direction: ltr\">Candidates with experience in \n",
       "<mark class=\"entity\" style=\"background: lightgreen; padding: 0.45em 0.6em; margin: 0 0.25em; line-height: 1; border-radius: 0.35em;\">\n",
       "    telesales\n",
       "    <span style=\"font-size: 0.8em; font-weight: bold; line-height: 1; border-radius: 0.35em; text-transform: uppercase; vertical-align: middle; margin-left: 0.5rem\">EXPERIENCE</span>\n",
       "</mark>\n",
       ", callcentre, customer service, receptionist or travel are ideal for this role</div>"
      ],
      "text/plain": [
       "<IPython.core.display.HTML object>"
      ]
     },
     "metadata": {},
     "output_type": "display_data"
    },
    {
     "data": {
      "text/html": [
       "<div class=\"entities\" style=\"line-height: 2.5; direction: ltr\">\n",
       "<mark class=\"entity\" style=\"background: pink; padding: 0.45em 0.6em; margin: 0 0.25em; line-height: 1; border-radius: 0.35em;\">\n",
       "    Experience\n",
       "    <span style=\"font-size: 0.8em; font-weight: bold; line-height: 1; border-radius: 0.35em; text-transform: uppercase; vertical-align: middle; margin-left: 0.5rem\">MISSING</span>\n",
       "</mark>\n",
       " dealing with business clients (B2B) would be preferable.</div>"
      ],
      "text/plain": [
       "<IPython.core.display.HTML object>"
      ]
     },
     "metadata": {},
     "output_type": "display_data"
    },
    {
     "data": {
      "text/html": [
       "<div class=\"entities\" style=\"line-height: 2.5; direction: ltr\">Previous \n",
       "<mark class=\"entity\" style=\"background: pink; padding: 0.45em 0.6em; margin: 0 0.25em; line-height: 1; border-radius: 0.35em;\">\n",
       "    experience\n",
       "    <span style=\"font-size: 0.8em; font-weight: bold; line-height: 1; border-radius: 0.35em; text-transform: uppercase; vertical-align: middle; margin-left: 0.5rem\">MISSING</span>\n",
       "</mark>\n",
       " working as a Chef de Partie in a one AA Rosette hotel is needed for the position.</div>"
      ],
      "text/plain": [
       "<IPython.core.display.HTML object>"
      ]
     },
     "metadata": {},
     "output_type": "display_data"
    },
    {
     "data": {
      "text/html": [
       "<div class=\"entities\" style=\"line-height: 2.5; direction: ltr\">The post holder must hold as a minimum Level 1 in Trampolining (British Gymnastics) and have \n",
       "<mark class=\"entity\" style=\"background: pink; padding: 0.45em 0.6em; margin: 0 0.25em; line-height: 1; border-radius: 0.35em;\">\n",
       "    experience\n",
       "    <span style=\"font-size: 0.8em; font-weight: bold; line-height: 1; border-radius: 0.35em; text-transform: uppercase; vertical-align: middle; margin-left: 0.5rem\">MISSING</span>\n",
       "</mark>\n",
       " in working with children, be fun, outgoing and have excellent customer service skills and be able to instruct in line with the British Gymnastics syllabus.</div>"
      ],
      "text/plain": [
       "<IPython.core.display.HTML object>"
      ]
     },
     "metadata": {},
     "output_type": "display_data"
    },
    {
     "data": {
      "text/html": [
       "<div class=\"entities\" style=\"line-height: 2.5; direction: ltr\">Experience of \n",
       "<mark class=\"entity\" style=\"background: lightgreen; padding: 0.45em 0.6em; margin: 0 0.25em; line-height: 1; border-radius: 0.35em;\">\n",
       "    techniques\n",
       "    <span style=\"font-size: 0.8em; font-weight: bold; line-height: 1; border-radius: 0.35em; text-transform: uppercase; vertical-align: middle; margin-left: 0.5rem\">EXPERIENCE</span>\n",
       "</mark>\n",
       " such as Discrete Event Simulation and/or SD modelling Mathematical/scientific background</div>"
      ],
      "text/plain": [
       "<IPython.core.display.HTML object>"
      ]
     },
     "metadata": {},
     "output_type": "display_data"
    }
   ],
   "source": [
    "show_extraction(examples, extract_adp_experience)"
   ]
  },
  {
   "cell_type": "markdown",
   "metadata": {},
   "source": [
    "An alternative strategy would be to look for a phrase like \"Experience in/with/using\" and then look for the noun phrase\n",
    "\n",
    "Using spaCy's noun chunks we can do it backwards (I'm sure there's an easy way to do it forwards which could be quicker, but it's nice using spaCy's noun chunks directly):"
   ]
  },
  {
   "cell_type": "code",
   "execution_count": 42,
   "metadata": {},
   "outputs": [],
   "source": [
    "def extract_adp_experience_2(doc):\n",
    "    for np in doc.noun_chunks:\n",
    "        start_tok = np[0].i\n",
    "        if start_tok >= 2 and doc[start_tok - 2].lower_ == 'experience' and doc[start_tok - 1].pos_ == 'ADP':\n",
    "            yield 'EXPERIENCE', start_tok, start_tok + len(np)"
   ]
  },
  {
   "cell_type": "code",
   "execution_count": 43,
   "metadata": {},
   "outputs": [
    {
     "data": {
      "text/html": [
       "<div class=\"entities\" style=\"line-height: 2.5; direction: ltr\">They will need someone who has at least 1015 years of subsea cable engineering \n",
       "<mark class=\"entity\" style=\"background: pink; padding: 0.45em 0.6em; margin: 0 0.25em; line-height: 1; border-radius: 0.35em;\">\n",
       "    experience\n",
       "    <span style=\"font-size: 0.8em; font-weight: bold; line-height: 1; border-radius: 0.35em; text-transform: uppercase; vertical-align: middle; margin-left: 0.5rem\">MISSING</span>\n",
       "</mark>\n",
       "</div>"
      ],
      "text/plain": [
       "<IPython.core.display.HTML object>"
      ]
     },
     "metadata": {},
     "output_type": "display_data"
    },
    {
     "data": {
      "text/html": [
       "<div class=\"entities\" style=\"line-height: 2.5; direction: ltr\">This position is ideally suited to high calibre engineering graduate with significant and appropriate post graduate \n",
       "<mark class=\"entity\" style=\"background: pink; padding: 0.45em 0.6em; margin: 0 0.25em; line-height: 1; border-radius: 0.35em;\">\n",
       "    experience\n",
       "    <span style=\"font-size: 0.8em; font-weight: bold; line-height: 1; border-radius: 0.35em; text-transform: uppercase; vertical-align: middle; margin-left: 0.5rem\">MISSING</span>\n",
       "</mark>\n",
       ".</div>"
      ],
      "text/plain": [
       "<IPython.core.display.HTML object>"
      ]
     },
     "metadata": {},
     "output_type": "display_data"
    },
    {
     "data": {
      "text/html": [
       "<div class=\"entities\" style=\"line-height: 2.5; direction: ltr\">Aerospace industry \n",
       "<mark class=\"entity\" style=\"background: pink; padding: 0.45em 0.6em; margin: 0 0.25em; line-height: 1; border-radius: 0.35em;\">\n",
       "    experience\n",
       "    <span style=\"font-size: 0.8em; font-weight: bold; line-height: 1; border-radius: 0.35em; text-transform: uppercase; vertical-align: middle; margin-left: 0.5rem\">MISSING</span>\n",
       "</mark>\n",
       " would be advantageous covering aerostructures and/or aero engines.</div>"
      ],
      "text/plain": [
       "<IPython.core.display.HTML object>"
      ]
     },
     "metadata": {},
     "output_type": "display_data"
    },
    {
     "data": {
      "text/html": [
       "<div class=\"entities\" style=\"line-height: 2.5; direction: ltr\">A sufficient and appropriate level of building services and controls \n",
       "<mark class=\"entity\" style=\"background: pink; padding: 0.45em 0.6em; margin: 0 0.25em; line-height: 1; border-radius: 0.35em;\">\n",
       "    experience\n",
       "    <span style=\"font-size: 0.8em; font-weight: bold; line-height: 1; border-radius: 0.35em; text-transform: uppercase; vertical-align: middle; margin-left: 0.5rem\">MISSING</span>\n",
       "</mark>\n",
       " gained within a client organisation, engineering consultancy or equipment supplier.</div>"
      ],
      "text/plain": [
       "<IPython.core.display.HTML object>"
      ]
     },
     "metadata": {},
     "output_type": "display_data"
    },
    {
     "data": {
      "text/html": [
       "<div class=\"entities\" style=\"line-height: 2.5; direction: ltr\">Experience in \n",
       "<mark class=\"entity\" style=\"background: lightgreen; padding: 0.45em 0.6em; margin: 0 0.25em; line-height: 1; border-radius: 0.35em;\">\n",
       "    Modelling and Simulation Techniques\n",
       "    <span style=\"font-size: 0.8em; font-weight: bold; line-height: 1; border-radius: 0.35em; text-transform: uppercase; vertical-align: middle; margin-left: 0.5rem\">EXPERIENCE</span>\n",
       "</mark>\n",
       "</div>"
      ],
      "text/plain": [
       "<IPython.core.display.HTML object>"
      ]
     },
     "metadata": {},
     "output_type": "display_data"
    },
    {
     "data": {
      "text/html": [
       "<div class=\"entities\" style=\"line-height: 2.5; direction: ltr\">Any experience of \n",
       "<mark class=\"entity\" style=\"background: lightgreen; padding: 0.45em 0.6em; margin: 0 0.25em; line-height: 1; border-radius: 0.35em;\">\n",
       "    Pioneer or Miser software\n",
       "    <span style=\"font-size: 0.8em; font-weight: bold; line-height: 1; border-radius: 0.35em; text-transform: uppercase; vertical-align: middle; margin-left: 0.5rem\">EXPERIENCE</span>\n",
       "</mark>\n",
       " would be an advantage.</div>"
      ],
      "text/plain": [
       "<IPython.core.display.HTML object>"
      ]
     },
     "metadata": {},
     "output_type": "display_data"
    },
    {
     "data": {
      "text/html": [
       "<div class=\"entities\" style=\"line-height: 2.5; direction: ltr\">For this role, you must have a minimum of 10 years experience in \n",
       "<mark class=\"entity\" style=\"background: lightgreen; padding: 0.45em 0.6em; margin: 0 0.25em; line-height: 1; border-radius: 0.35em;\">\n",
       "    subsea engineering\n",
       "    <span style=\"font-size: 0.8em; font-weight: bold; line-height: 1; border-radius: 0.35em; text-transform: uppercase; vertical-align: middle; margin-left: 0.5rem\">EXPERIENCE</span>\n",
       "</mark>\n",
       ", pipelines design or construction.</div>"
      ],
      "text/plain": [
       "<IPython.core.display.HTML object>"
      ]
     },
     "metadata": {},
     "output_type": "display_data"
    },
    {
     "data": {
      "text/html": [
       "<div class=\"entities\" style=\"line-height: 2.5; direction: ltr\">Has experience within \n",
       "<mark class=\"entity\" style=\"background: lightgreen; padding: 0.45em 0.6em; margin: 0 0.25em; line-height: 1; border-radius: 0.35em;\">\n",
       "    the quality department\n",
       "    <span style=\"font-size: 0.8em; font-weight: bold; line-height: 1; border-radius: 0.35em; text-transform: uppercase; vertical-align: middle; margin-left: 0.5rem\">EXPERIENCE</span>\n",
       "</mark>\n",
       " of a related company in a similar role Ideally from a mechanical or manufacturing engineering background.</div>"
      ],
      "text/plain": [
       "<IPython.core.display.HTML object>"
      ]
     },
     "metadata": {},
     "output_type": "display_data"
    },
    {
     "data": {
      "text/html": [
       "<div class=\"entities\" style=\"line-height: 2.5; direction: ltr\">and have experience of \n",
       "<mark class=\"entity\" style=\"background: lightgreen; padding: 0.45em 0.6em; margin: 0 0.25em; line-height: 1; border-radius: 0.35em;\">\n",
       "    the technical leadership\n",
       "    <span style=\"font-size: 0.8em; font-weight: bold; line-height: 1; border-radius: 0.35em; text-transform: uppercase; vertical-align: middle; margin-left: 0.5rem\">EXPERIENCE</span>\n",
       "</mark>\n",
       " of projects to time, quality and cost objectives.</div>"
      ],
      "text/plain": [
       "<IPython.core.display.HTML object>"
      ]
     },
     "metadata": {},
     "output_type": "display_data"
    },
    {
     "data": {
      "text/html": [
       "<div class=\"entities\" style=\"line-height: 2.5; direction: ltr\">Experience of \n",
       "<mark class=\"entity\" style=\"background: lightgreen; padding: 0.45em 0.6em; margin: 0 0.25em; line-height: 1; border-radius: 0.35em;\">\n",
       "    protection and control design\n",
       "    <span style=\"font-size: 0.8em; font-weight: bold; line-height: 1; border-radius: 0.35em; text-transform: uppercase; vertical-align: middle; margin-left: 0.5rem\">EXPERIENCE</span>\n",
       "</mark>\n",
       " at Transmission and Distribution voltages.</div>"
      ],
      "text/plain": [
       "<IPython.core.display.HTML object>"
      ]
     },
     "metadata": {},
     "output_type": "display_data"
    },
    {
     "data": {
      "text/html": [
       "<div class=\"entities\" style=\"line-height: 2.5; direction: ltr\">Candidates with experience in \n",
       "<mark class=\"entity\" style=\"background: lightgreen; padding: 0.45em 0.6em; margin: 0 0.25em; line-height: 1; border-radius: 0.35em;\">\n",
       "    telesales\n",
       "    <span style=\"font-size: 0.8em; font-weight: bold; line-height: 1; border-radius: 0.35em; text-transform: uppercase; vertical-align: middle; margin-left: 0.5rem\">EXPERIENCE</span>\n",
       "</mark>\n",
       ", callcentre, customer service, receptionist or travel are ideal for this role</div>"
      ],
      "text/plain": [
       "<IPython.core.display.HTML object>"
      ]
     },
     "metadata": {},
     "output_type": "display_data"
    },
    {
     "data": {
      "text/html": [
       "<div class=\"entities\" style=\"line-height: 2.5; direction: ltr\">\n",
       "<mark class=\"entity\" style=\"background: pink; padding: 0.45em 0.6em; margin: 0 0.25em; line-height: 1; border-radius: 0.35em;\">\n",
       "    Experience\n",
       "    <span style=\"font-size: 0.8em; font-weight: bold; line-height: 1; border-radius: 0.35em; text-transform: uppercase; vertical-align: middle; margin-left: 0.5rem\">MISSING</span>\n",
       "</mark>\n",
       " dealing with business clients (B2B) would be preferable.</div>"
      ],
      "text/plain": [
       "<IPython.core.display.HTML object>"
      ]
     },
     "metadata": {},
     "output_type": "display_data"
    },
    {
     "data": {
      "text/html": [
       "<div class=\"entities\" style=\"line-height: 2.5; direction: ltr\">Previous \n",
       "<mark class=\"entity\" style=\"background: pink; padding: 0.45em 0.6em; margin: 0 0.25em; line-height: 1; border-radius: 0.35em;\">\n",
       "    experience\n",
       "    <span style=\"font-size: 0.8em; font-weight: bold; line-height: 1; border-radius: 0.35em; text-transform: uppercase; vertical-align: middle; margin-left: 0.5rem\">MISSING</span>\n",
       "</mark>\n",
       " working as a Chef de Partie in a one AA Rosette hotel is needed for the position.</div>"
      ],
      "text/plain": [
       "<IPython.core.display.HTML object>"
      ]
     },
     "metadata": {},
     "output_type": "display_data"
    },
    {
     "data": {
      "text/html": [
       "<div class=\"entities\" style=\"line-height: 2.5; direction: ltr\">The post holder must hold as a minimum Level 1 in Trampolining (British Gymnastics) and have \n",
       "<mark class=\"entity\" style=\"background: pink; padding: 0.45em 0.6em; margin: 0 0.25em; line-height: 1; border-radius: 0.35em;\">\n",
       "    experience\n",
       "    <span style=\"font-size: 0.8em; font-weight: bold; line-height: 1; border-radius: 0.35em; text-transform: uppercase; vertical-align: middle; margin-left: 0.5rem\">MISSING</span>\n",
       "</mark>\n",
       " in working with children, be fun, outgoing and have excellent customer service skills and be able to instruct in line with the British Gymnastics syllabus.</div>"
      ],
      "text/plain": [
       "<IPython.core.display.HTML object>"
      ]
     },
     "metadata": {},
     "output_type": "display_data"
    },
    {
     "data": {
      "text/html": [
       "<div class=\"entities\" style=\"line-height: 2.5; direction: ltr\">Experience of \n",
       "<mark class=\"entity\" style=\"background: lightgreen; padding: 0.45em 0.6em; margin: 0 0.25em; line-height: 1; border-radius: 0.35em;\">\n",
       "    techniques\n",
       "    <span style=\"font-size: 0.8em; font-weight: bold; line-height: 1; border-radius: 0.35em; text-transform: uppercase; vertical-align: middle; margin-left: 0.5rem\">EXPERIENCE</span>\n",
       "</mark>\n",
       " such as Discrete Event Simulation and/or SD modelling Mathematical/scientific background</div>"
      ],
      "text/plain": [
       "<IPython.core.display.HTML object>"
      ]
     },
     "metadata": {},
     "output_type": "display_data"
    }
   ],
   "source": [
    "show_extraction(examples, extract_adp_experience_2)"
   ]
  },
  {
   "cell_type": "markdown",
   "metadata": {},
   "source": [
    "Comparing speeds: the results are similar:"
   ]
  },
  {
   "cell_type": "code",
   "execution_count": 44,
   "metadata": {},
   "outputs": [
    {
     "name": "stdout",
     "output_type": "stream",
     "text": [
      "CPU times: user 953 ms, sys: 266 ms, total: 1.22 s\n",
      "Wall time: 1.28 s\n"
     ]
    }
   ],
   "source": [
    "%time ent_adp_df = extract_df(extract_adp_experience, n_max=50)"
   ]
  },
  {
   "cell_type": "code",
   "execution_count": 45,
   "metadata": {},
   "outputs": [
    {
     "name": "stdout",
     "output_type": "stream",
     "text": [
      "CPU times: user 984 ms, sys: 203 ms, total: 1.19 s\n",
      "Wall time: 1.19 s\n"
     ]
    }
   ],
   "source": [
    "%time ent_adp_df = extract_df(extract_adp_experience_2, n_max=50)"
   ]
  },
  {
   "cell_type": "markdown",
   "metadata": {},
   "source": [
    "Extracting 50k results"
   ]
  },
  {
   "cell_type": "code",
   "execution_count": 46,
   "metadata": {},
   "outputs": [
    {
     "name": "stdout",
     "output_type": "stream",
     "text": [
      "CPU times: user 13min 29s, sys: 6min 32s, total: 20min 1s\n",
      "Wall time: 25min\n"
     ]
    }
   ],
   "source": [
    "%time ent_adp_df = extract_df(extract_adp_experience, n_max=50000)"
   ]
  },
  {
   "cell_type": "code",
   "execution_count": 47,
   "metadata": {},
   "outputs": [
    {
     "data": {
      "text/html": [
       "<div>\n",
       "<style scoped>\n",
       "    .dataframe tbody tr th:only-of-type {\n",
       "        vertical-align: middle;\n",
       "    }\n",
       "\n",
       "    .dataframe tbody tr th {\n",
       "        vertical-align: top;\n",
       "    }\n",
       "\n",
       "    .dataframe thead th {\n",
       "        text-align: right;\n",
       "    }\n",
       "</style>\n",
       "<table border=\"1\" class=\"dataframe\">\n",
       "  <thead>\n",
       "    <tr style=\"text-align: right;\">\n",
       "      <th></th>\n",
       "      <th>text</th>\n",
       "      <th>n_company</th>\n",
       "      <th>n_ad</th>\n",
       "      <th>n_source</th>\n",
       "      <th>n</th>\n",
       "    </tr>\n",
       "  </thead>\n",
       "  <tbody>\n",
       "    <tr>\n",
       "      <th>6342</th>\n",
       "      <td>a similar role</td>\n",
       "      <td>213</td>\n",
       "      <td>456</td>\n",
       "      <td>60</td>\n",
       "      <td>461</td>\n",
       "    </tr>\n",
       "    <tr>\n",
       "      <th>13767</th>\n",
       "      <td>the following</td>\n",
       "      <td>130</td>\n",
       "      <td>256</td>\n",
       "      <td>40</td>\n",
       "      <td>261</td>\n",
       "    </tr>\n",
       "    <tr>\n",
       "      <th>12074</th>\n",
       "      <td>sales</td>\n",
       "      <td>77</td>\n",
       "      <td>103</td>\n",
       "      <td>37</td>\n",
       "      <td>106</td>\n",
       "    </tr>\n",
       "    <tr>\n",
       "      <th>11041</th>\n",
       "      <td>one</td>\n",
       "      <td>55</td>\n",
       "      <td>80</td>\n",
       "      <td>30</td>\n",
       "      <td>85</td>\n",
       "    </tr>\n",
       "    <tr>\n",
       "      <th>13645</th>\n",
       "      <td>the design</td>\n",
       "      <td>53</td>\n",
       "      <td>74</td>\n",
       "      <td>31</td>\n",
       "      <td>83</td>\n",
       "    </tr>\n",
       "    <tr>\n",
       "      <th>14355</th>\n",
       "      <td>the use</td>\n",
       "      <td>49</td>\n",
       "      <td>71</td>\n",
       "      <td>28</td>\n",
       "      <td>72</td>\n",
       "    </tr>\n",
       "    <tr>\n",
       "      <th>8748</th>\n",
       "      <td>design</td>\n",
       "      <td>47</td>\n",
       "      <td>72</td>\n",
       "      <td>25</td>\n",
       "      <td>76</td>\n",
       "    </tr>\n",
       "    <tr>\n",
       "      <th>526</th>\n",
       "      <td>C</td>\n",
       "      <td>46</td>\n",
       "      <td>86</td>\n",
       "      <td>18</td>\n",
       "      <td>87</td>\n",
       "    </tr>\n",
       "    <tr>\n",
       "      <th>12167</th>\n",
       "      <td>selling</td>\n",
       "      <td>43</td>\n",
       "      <td>57</td>\n",
       "      <td>15</td>\n",
       "      <td>60</td>\n",
       "    </tr>\n",
       "    <tr>\n",
       "      <th>14498</th>\n",
       "      <td>this role</td>\n",
       "      <td>42</td>\n",
       "      <td>86</td>\n",
       "      <td>25</td>\n",
       "      <td>87</td>\n",
       "    </tr>\n",
       "    <tr>\n",
       "      <th>6851</th>\n",
       "      <td>all aspects</td>\n",
       "      <td>40</td>\n",
       "      <td>64</td>\n",
       "      <td>23</td>\n",
       "      <td>66</td>\n",
       "    </tr>\n",
       "    <tr>\n",
       "      <th>14461</th>\n",
       "      <td>this</td>\n",
       "      <td>39</td>\n",
       "      <td>57</td>\n",
       "      <td>23</td>\n",
       "      <td>58</td>\n",
       "    </tr>\n",
       "    <tr>\n",
       "      <th>9349</th>\n",
       "      <td>experience</td>\n",
       "      <td>38</td>\n",
       "      <td>55</td>\n",
       "      <td>29</td>\n",
       "      <td>55</td>\n",
       "    </tr>\n",
       "    <tr>\n",
       "      <th>13777</th>\n",
       "      <td>the following areas</td>\n",
       "      <td>37</td>\n",
       "      <td>63</td>\n",
       "      <td>25</td>\n",
       "      <td>65</td>\n",
       "    </tr>\n",
       "    <tr>\n",
       "      <th>11390</th>\n",
       "      <td>planning</td>\n",
       "      <td>37</td>\n",
       "      <td>46</td>\n",
       "      <td>31</td>\n",
       "      <td>46</td>\n",
       "    </tr>\n",
       "    <tr>\n",
       "      <th>12758</th>\n",
       "      <td>teaching</td>\n",
       "      <td>34</td>\n",
       "      <td>61</td>\n",
       "      <td>15</td>\n",
       "      <td>63</td>\n",
       "    </tr>\n",
       "    <tr>\n",
       "      <th>7469</th>\n",
       "      <td>any</td>\n",
       "      <td>34</td>\n",
       "      <td>54</td>\n",
       "      <td>25</td>\n",
       "      <td>54</td>\n",
       "    </tr>\n",
       "    <tr>\n",
       "      <th>8813</th>\n",
       "      <td>development</td>\n",
       "      <td>34</td>\n",
       "      <td>52</td>\n",
       "      <td>21</td>\n",
       "      <td>56</td>\n",
       "    </tr>\n",
       "    <tr>\n",
       "      <th>11645</th>\n",
       "      <td>project management</td>\n",
       "      <td>34</td>\n",
       "      <td>49</td>\n",
       "      <td>29</td>\n",
       "      <td>49</td>\n",
       "    </tr>\n",
       "    <tr>\n",
       "      <th>14475</th>\n",
       "      <td>this field</td>\n",
       "      <td>33</td>\n",
       "      <td>58</td>\n",
       "      <td>28</td>\n",
       "      <td>58</td>\n",
       "    </tr>\n",
       "    <tr>\n",
       "      <th>13921</th>\n",
       "      <td>the industry</td>\n",
       "      <td>33</td>\n",
       "      <td>51</td>\n",
       "      <td>23</td>\n",
       "      <td>51</td>\n",
       "    </tr>\n",
       "    <tr>\n",
       "      <th>5654</th>\n",
       "      <td>a manufacturing environment</td>\n",
       "      <td>31</td>\n",
       "      <td>46</td>\n",
       "      <td>18</td>\n",
       "      <td>46</td>\n",
       "    </tr>\n",
       "    <tr>\n",
       "      <th>3254</th>\n",
       "      <td>SQL Server</td>\n",
       "      <td>30</td>\n",
       "      <td>57</td>\n",
       "      <td>15</td>\n",
       "      <td>57</td>\n",
       "    </tr>\n",
       "    <tr>\n",
       "      <th>12359</th>\n",
       "      <td>software development</td>\n",
       "      <td>29</td>\n",
       "      <td>43</td>\n",
       "      <td>16</td>\n",
       "      <td>46</td>\n",
       "    </tr>\n",
       "    <tr>\n",
       "      <th>4031</th>\n",
       "      <td>a</td>\n",
       "      <td>28</td>\n",
       "      <td>50</td>\n",
       "      <td>17</td>\n",
       "      <td>50</td>\n",
       "    </tr>\n",
       "    <tr>\n",
       "      <th>12417</th>\n",
       "      <td>some</td>\n",
       "      <td>28</td>\n",
       "      <td>44</td>\n",
       "      <td>20</td>\n",
       "      <td>44</td>\n",
       "    </tr>\n",
       "    <tr>\n",
       "      <th>6294</th>\n",
       "      <td>a similar environment</td>\n",
       "      <td>28</td>\n",
       "      <td>42</td>\n",
       "      <td>19</td>\n",
       "      <td>42</td>\n",
       "    </tr>\n",
       "    <tr>\n",
       "      <th>3240</th>\n",
       "      <td>SQL</td>\n",
       "      <td>28</td>\n",
       "      <td>35</td>\n",
       "      <td>12</td>\n",
       "      <td>35</td>\n",
       "    </tr>\n",
       "    <tr>\n",
       "      <th>14465</th>\n",
       "      <td>this area</td>\n",
       "      <td>27</td>\n",
       "      <td>45</td>\n",
       "      <td>23</td>\n",
       "      <td>47</td>\n",
       "    </tr>\n",
       "    <tr>\n",
       "      <th>4</th>\n",
       "      <td>.NET</td>\n",
       "      <td>27</td>\n",
       "      <td>38</td>\n",
       "      <td>16</td>\n",
       "      <td>38</td>\n",
       "    </tr>\n",
       "    <tr>\n",
       "      <th>11805</th>\n",
       "      <td>recruitment</td>\n",
       "      <td>26</td>\n",
       "      <td>40</td>\n",
       "      <td>20</td>\n",
       "      <td>40</td>\n",
       "    </tr>\n",
       "    <tr>\n",
       "      <th>10171</th>\n",
       "      <td>knowledge</td>\n",
       "      <td>26</td>\n",
       "      <td>38</td>\n",
       "      <td>19</td>\n",
       "      <td>38</td>\n",
       "    </tr>\n",
       "    <tr>\n",
       "      <th>1867</th>\n",
       "      <td>Java</td>\n",
       "      <td>24</td>\n",
       "      <td>42</td>\n",
       "      <td>13</td>\n",
       "      <td>42</td>\n",
       "    </tr>\n",
       "    <tr>\n",
       "      <th>1529</th>\n",
       "      <td>HTML</td>\n",
       "      <td>24</td>\n",
       "      <td>40</td>\n",
       "      <td>14</td>\n",
       "      <td>40</td>\n",
       "    </tr>\n",
       "    <tr>\n",
       "      <th>6005</th>\n",
       "      <td>a range</td>\n",
       "      <td>24</td>\n",
       "      <td>36</td>\n",
       "      <td>26</td>\n",
       "      <td>37</td>\n",
       "    </tr>\n",
       "    <tr>\n",
       "      <th>13350</th>\n",
       "      <td>the UK</td>\n",
       "      <td>23</td>\n",
       "      <td>65</td>\n",
       "      <td>21</td>\n",
       "      <td>65</td>\n",
       "    </tr>\n",
       "    <tr>\n",
       "      <th>10532</th>\n",
       "      <td>managing projects</td>\n",
       "      <td>23</td>\n",
       "      <td>30</td>\n",
       "      <td>19</td>\n",
       "      <td>32</td>\n",
       "    </tr>\n",
       "    <tr>\n",
       "      <th>10486</th>\n",
       "      <td>management</td>\n",
       "      <td>22</td>\n",
       "      <td>47</td>\n",
       "      <td>20</td>\n",
       "      <td>47</td>\n",
       "    </tr>\n",
       "    <tr>\n",
       "      <th>4981</th>\n",
       "      <td>a commercial environment</td>\n",
       "      <td>22</td>\n",
       "      <td>32</td>\n",
       "      <td>19</td>\n",
       "      <td>32</td>\n",
       "    </tr>\n",
       "    <tr>\n",
       "      <th>7939</th>\n",
       "      <td>business</td>\n",
       "      <td>22</td>\n",
       "      <td>29</td>\n",
       "      <td>19</td>\n",
       "      <td>32</td>\n",
       "    </tr>\n",
       "    <tr>\n",
       "      <th>1691</th>\n",
       "      <td>IT</td>\n",
       "      <td>22</td>\n",
       "      <td>29</td>\n",
       "      <td>20</td>\n",
       "      <td>30</td>\n",
       "    </tr>\n",
       "    <tr>\n",
       "      <th>127</th>\n",
       "      <td>ASP.NET</td>\n",
       "      <td>22</td>\n",
       "      <td>23</td>\n",
       "      <td>10</td>\n",
       "      <td>23</td>\n",
       "    </tr>\n",
       "    <tr>\n",
       "      <th>14893</th>\n",
       "      <td>writing</td>\n",
       "      <td>21</td>\n",
       "      <td>29</td>\n",
       "      <td>15</td>\n",
       "      <td>30</td>\n",
       "    </tr>\n",
       "    <tr>\n",
       "      <th>13650</th>\n",
       "      <td>the development</td>\n",
       "      <td>21</td>\n",
       "      <td>28</td>\n",
       "      <td>20</td>\n",
       "      <td>32</td>\n",
       "    </tr>\n",
       "    <tr>\n",
       "      <th>9464</th>\n",
       "      <td>financial services</td>\n",
       "      <td>21</td>\n",
       "      <td>24</td>\n",
       "      <td>16</td>\n",
       "      <td>24</td>\n",
       "    </tr>\n",
       "    <tr>\n",
       "      <th>13402</th>\n",
       "      <td>the ability</td>\n",
       "      <td>20</td>\n",
       "      <td>37</td>\n",
       "      <td>21</td>\n",
       "      <td>37</td>\n",
       "    </tr>\n",
       "    <tr>\n",
       "      <th>3140</th>\n",
       "      <td>SAP</td>\n",
       "      <td>20</td>\n",
       "      <td>29</td>\n",
       "      <td>14</td>\n",
       "      <td>30</td>\n",
       "    </tr>\n",
       "    <tr>\n",
       "      <th>8029</th>\n",
       "      <td>care</td>\n",
       "      <td>19</td>\n",
       "      <td>78</td>\n",
       "      <td>14</td>\n",
       "      <td>79</td>\n",
       "    </tr>\n",
       "    <tr>\n",
       "      <th>14230</th>\n",
       "      <td>the role</td>\n",
       "      <td>19</td>\n",
       "      <td>46</td>\n",
       "      <td>16</td>\n",
       "      <td>46</td>\n",
       "    </tr>\n",
       "    <tr>\n",
       "      <th>13733</th>\n",
       "      <td>the field</td>\n",
       "      <td>19</td>\n",
       "      <td>29</td>\n",
       "      <td>19</td>\n",
       "      <td>29</td>\n",
       "    </tr>\n",
       "  </tbody>\n",
       "</table>\n",
       "</div>"
      ],
      "text/plain": [
       "                              text  n_company  n_ad  n_source    n\n",
       "6342                a similar role        213   456        60  461\n",
       "13767                the following        130   256        40  261\n",
       "12074                        sales         77   103        37  106\n",
       "11041                          one         55    80        30   85\n",
       "13645                   the design         53    74        31   83\n",
       "14355                      the use         49    71        28   72\n",
       "8748                        design         47    72        25   76\n",
       "526                              C         46    86        18   87\n",
       "12167                      selling         43    57        15   60\n",
       "14498                    this role         42    86        25   87\n",
       "6851                   all aspects         40    64        23   66\n",
       "14461                         this         39    57        23   58\n",
       "9349                    experience         38    55        29   55\n",
       "13777          the following areas         37    63        25   65\n",
       "11390                     planning         37    46        31   46\n",
       "12758                     teaching         34    61        15   63\n",
       "7469                           any         34    54        25   54\n",
       "8813                   development         34    52        21   56\n",
       "11645           project management         34    49        29   49\n",
       "14475                   this field         33    58        28   58\n",
       "13921                 the industry         33    51        23   51\n",
       "5654   a manufacturing environment         31    46        18   46\n",
       "3254                    SQL Server         30    57        15   57\n",
       "12359         software development         29    43        16   46\n",
       "4031                             a         28    50        17   50\n",
       "12417                         some         28    44        20   44\n",
       "6294         a similar environment         28    42        19   42\n",
       "3240                           SQL         28    35        12   35\n",
       "14465                    this area         27    45        23   47\n",
       "4                             .NET         27    38        16   38\n",
       "11805                  recruitment         26    40        20   40\n",
       "10171                    knowledge         26    38        19   38\n",
       "1867                          Java         24    42        13   42\n",
       "1529                          HTML         24    40        14   40\n",
       "6005                       a range         24    36        26   37\n",
       "13350                       the UK         23    65        21   65\n",
       "10532            managing projects         23    30        19   32\n",
       "10486                   management         22    47        20   47\n",
       "4981      a commercial environment         22    32        19   32\n",
       "7939                      business         22    29        19   32\n",
       "1691                            IT         22    29        20   30\n",
       "127                        ASP.NET         22    23        10   23\n",
       "14893                      writing         21    29        15   30\n",
       "13650              the development         21    28        20   32\n",
       "9464            financial services         21    24        16   24\n",
       "13402                  the ability         20    37        21   37\n",
       "3140                           SAP         20    29        14   30\n",
       "8029                          care         19    78        14   79\n",
       "14230                     the role         19    46        16   46\n",
       "13733                    the field         19    29        19   29"
      ]
     },
     "execution_count": 47,
     "metadata": {},
     "output_type": "execute_result"
    }
   ],
   "source": [
    "aggregate_df(ent_adp_df).head(50)"
   ]
  },
  {
   "cell_type": "markdown",
   "metadata": {},
   "source": [
    "The extraction works pretty well for \"sales\" (although the last example should be \"sales interviewing skills\")"
   ]
  },
  {
   "cell_type": "code",
   "execution_count": 48,
   "metadata": {},
   "outputs": [
    {
     "data": {
      "text/html": [
       "<div class=\"entities\" style=\"line-height: 2.5; direction: ltr\">Key responsibility for clarifying service contract content to ensure maximum profit Ensure highest target margins are being achieved through negotiation focus price and cost effective contract conditions Close followup from start of negotiation until handover to the Service Division Representation of the Service Division in cross functional negotiation teams Develop project specific, winwin solutions in order to match customer s business case and our client s service goals Professional presentation of service contract quotations including proper cost benefit arguments Key Skills Service contract management and sales engineering experience in a capital goods industry is advantageous International experience of the target markets would be a distinct advantage Experience with \n",
       "<mark class=\"entity\" style=\"background: #ddd; padding: 0.45em 0.6em; margin: 0 0.25em; line-height: 1; border-radius: 0.35em;\">\n",
       "    sales\n",
       "    <span style=\"font-size: 0.8em; font-weight: bold; line-height: 1; border-radius: 0.35em; text-transform: uppercase; vertical-align: middle; margin-left: 0.5rem\">EXPERIENCE</span>\n",
       "</mark>\n",
       " to utilities is an asset Experience from </div>"
      ],
      "text/plain": [
       "<IPython.core.display.HTML object>"
      ]
     },
     "metadata": {},
     "output_type": "display_data"
    },
    {
     "data": {
      "text/html": [
       "<div class=\"entities\" style=\"line-height: 2.5; direction: ltr\">Have strong industry experience delivering mobile solutions in at least two industries  Existing experience in \n",
       "<mark class=\"entity\" style=\"background: #ddd; padding: 0.45em 0.6em; margin: 0 0.25em; line-height: 1; border-radius: 0.35em;\">\n",
       "    sales\n",
       "    <span style=\"font-size: 0.8em; font-weight: bold; line-height: 1; border-radius: 0.35em; text-transform: uppercase; vertical-align: middle; margin-left: 0.5rem\">EXPERIENCE</span>\n",
       "</mark>\n",
       " and mobility, with an ability to harness and maintain relationships with clients. </div>"
      ],
      "text/plain": [
       "<IPython.core.display.HTML object>"
      ]
     },
     "metadata": {},
     "output_type": "display_data"
    },
    {
     "data": {
      "text/html": [
       "<div class=\"entities\" style=\"line-height: 2.5; direction: ltr\">The successful candidate will have the following: Experience in \n",
       "<mark class=\"entity\" style=\"background: #ddd; padding: 0.45em 0.6em; margin: 0 0.25em; line-height: 1; border-radius: 0.35em;\">\n",
       "    sales\n",
       "    <span style=\"font-size: 0.8em; font-weight: bold; line-height: 1; border-radius: 0.35em; text-transform: uppercase; vertical-align: middle; margin-left: 0.5rem\">EXPERIENCE</span>\n",
       "</mark>\n",
       " of digital technology solutions and systems Good understanding of convergence of ICT, digital communications technology and digital media and emerging trends Experience of the complete sales process from finding and qualifying sales opportunities, preparation of proposals, etc </div>"
      ],
      "text/plain": [
       "<IPython.core.display.HTML object>"
      ]
     },
     "metadata": {},
     "output_type": "display_data"
    },
    {
     "data": {
      "text/html": [
       "<div class=\"entities\" style=\"line-height: 2.5; direction: ltr\">Requirements: Fluency in English and German with Czech or Polish preferred Solid experience in \n",
       "<mark class=\"entity\" style=\"background: #ddd; padding: 0.45em 0.6em; margin: 0 0.25em; line-height: 1; border-radius: 0.35em;\">\n",
       "    sales\n",
       "    <span style=\"font-size: 0.8em; font-weight: bold; line-height: 1; border-radius: 0.35em; text-transform: uppercase; vertical-align: middle; margin-left: 0.5rem\">EXPERIENCE</span>\n",
       "</mark>\n",
       " or telesales is essential </div>"
      ],
      "text/plain": [
       "<IPython.core.display.HTML object>"
      ]
     },
     "metadata": {},
     "output_type": "display_data"
    },
    {
     "data": {
      "text/html": [
       "<div class=\"entities\" style=\"line-height: 2.5; direction: ltr\">You'll ideally bring proven sales experience, including \n",
       "<mark class=\"entity\" style=\"background: #ddd; padding: 0.45em 0.6em; margin: 0 0.25em; line-height: 1; border-radius: 0.35em;\">\n",
       "    sales\n",
       "    <span style=\"font-size: 0.8em; font-weight: bold; line-height: 1; border-radius: 0.35em; text-transform: uppercase; vertical-align: middle; margin-left: 0.5rem\">EXPERIENCE</span>\n",
       "</mark>\n",
       " interviewing skills and a track record in a target driven environment. </div>"
      ],
      "text/plain": [
       "<IPython.core.display.HTML object>"
      ]
     },
     "metadata": {},
     "output_type": "display_data"
    }
   ],
   "source": [
    "showent_df(ent_adp_df.query(\"text=='sales'\").head(5))"
   ]
  },
  {
   "cell_type": "markdown",
   "metadata": {},
   "source": [
    "Selling works as well, but we lose the context of *who* they are selling to"
   ]
  },
  {
   "cell_type": "code",
   "execution_count": 49,
   "metadata": {},
   "outputs": [
    {
     "data": {
      "text/html": [
       "<div class=\"entities\" style=\"line-height: 2.5; direction: ltr\">As part of the company s ambitious growth plans to double the current 5million turnover, these openings have been created for proven sales professionals who, ideally, possess experience of \n",
       "<mark class=\"entity\" style=\"background: #ddd; padding: 0.45em 0.6em; margin: 0 0.25em; line-height: 1; border-radius: 0.35em;\">\n",
       "    selling\n",
       "    <span style=\"font-size: 0.8em; font-weight: bold; line-height: 1; border-radius: 0.35em; text-transform: uppercase; vertical-align: middle; margin-left: 0.5rem\">EXPERIENCE</span>\n",
       "</mark>\n",
       " to either Facilities Management or Mechanical Engineering contractors. </div>"
      ],
      "text/plain": [
       "<IPython.core.display.HTML object>"
      ]
     },
     "metadata": {},
     "output_type": "display_data"
    },
    {
     "data": {
      "text/html": [
       "<div class=\"entities\" style=\"line-height: 2.5; direction: ltr\">As part of the company s ambitious growth plans to double the current 5million turnover, these openings have been created for proven sales professionals who, ideally, possess experience of \n",
       "<mark class=\"entity\" style=\"background: #ddd; padding: 0.45em 0.6em; margin: 0 0.25em; line-height: 1; border-radius: 0.35em;\">\n",
       "    selling\n",
       "    <span style=\"font-size: 0.8em; font-weight: bold; line-height: 1; border-radius: 0.35em; text-transform: uppercase; vertical-align: middle; margin-left: 0.5rem\">EXPERIENCE</span>\n",
       "</mark>\n",
       " to either Facilities Management or Mechanical Engineering contractors. </div>"
      ],
      "text/plain": [
       "<IPython.core.display.HTML object>"
      ]
     },
     "metadata": {},
     "output_type": "display_data"
    },
    {
     "data": {
      "text/html": [
       "<div class=\"entities\" style=\"line-height: 2.5; direction: ltr\">Experience of \n",
       "<mark class=\"entity\" style=\"background: #ddd; padding: 0.45em 0.6em; margin: 0 0.25em; line-height: 1; border-radius: 0.35em;\">\n",
       "    selling\n",
       "    <span style=\"font-size: 0.8em; font-weight: bold; line-height: 1; border-radius: 0.35em; text-transform: uppercase; vertical-align: middle; margin-left: 0.5rem\">EXPERIENCE</span>\n",
       "</mark>\n",
       " into the industrial sector is essential. </div>"
      ],
      "text/plain": [
       "<IPython.core.display.HTML object>"
      ]
     },
     "metadata": {},
     "output_type": "display_data"
    },
    {
     "data": {
      "text/html": [
       "<div class=\"entities\" style=\"line-height: 2.5; direction: ltr\">You MUST have a Scientific Degree / Qualification or Animal Health and Welfare Experience of \n",
       "<mark class=\"entity\" style=\"background: #ddd; padding: 0.45em 0.6em; margin: 0 0.25em; line-height: 1; border-radius: 0.35em;\">\n",
       "    selling\n",
       "    <span style=\"font-size: 0.8em; font-weight: bold; line-height: 1; border-radius: 0.35em; text-transform: uppercase; vertical-align: middle; margin-left: 0.5rem\">EXPERIENCE</span>\n",
       "</mark>\n",
       " into the veterinary / animal industry is preferred but not essential </div>"
      ],
      "text/plain": [
       "<IPython.core.display.HTML object>"
      ]
     },
     "metadata": {},
     "output_type": "display_data"
    },
    {
     "data": {
      "text/html": [
       "<div class=\"entities\" style=\"line-height: 2.5; direction: ltr\">The candidate: As a candidate for this role, you will have: an excellent track record of selling and sales management, experience of both inside and outside sales at a senior level, and experience of \n",
       "<mark class=\"entity\" style=\"background: #ddd; padding: 0.45em 0.6em; margin: 0 0.25em; line-height: 1; border-radius: 0.35em;\">\n",
       "    selling\n",
       "    <span style=\"font-size: 0.8em; font-weight: bold; line-height: 1; border-radius: 0.35em; text-transform: uppercase; vertical-align: middle; margin-left: 0.5rem\">EXPERIENCE</span>\n",
       "</mark>\n",
       " into corporate HR/L D functions </div>"
      ],
      "text/plain": [
       "<IPython.core.display.HTML object>"
      ]
     },
     "metadata": {},
     "output_type": "display_data"
    }
   ],
   "source": [
    "showent_df(ent_adp_df.query(\"text=='selling'\").head(5))"
   ]
  },
  {
   "cell_type": "code",
   "execution_count": 50,
   "metadata": {},
   "outputs": [
    {
     "data": {
      "text/html": [
       "<div class=\"entities\" style=\"line-height: 2.5; direction: ltr\">* Experience (5 years) of \n",
       "<mark class=\"entity\" style=\"background: #ddd; padding: 0.45em 0.6em; margin: 0 0.25em; line-height: 1; border-radius: 0.35em;\">\n",
       "    design\n",
       "    <span style=\"font-size: 0.8em; font-weight: bold; line-height: 1; border-radius: 0.35em; text-transform: uppercase; vertical-align: middle; margin-left: 0.5rem\">EXPERIENCE</span>\n",
       "</mark>\n",
       " &amp; implementation of digital and analogue embedded hardware </div>"
      ],
      "text/plain": [
       "<IPython.core.display.HTML object>"
      ]
     },
     "metadata": {},
     "output_type": "display_data"
    },
    {
     "data": {
      "text/html": [
       "<div class=\"entities\" style=\"line-height: 2.5; direction: ltr\">* Experience in \n",
       "<mark class=\"entity\" style=\"background: #ddd; padding: 0.45em 0.6em; margin: 0 0.25em; line-height: 1; border-radius: 0.35em;\">\n",
       "    design\n",
       "    <span style=\"font-size: 0.8em; font-weight: bold; line-height: 1; border-radius: 0.35em; text-transform: uppercase; vertical-align: middle; margin-left: 0.5rem\">EXPERIENCE</span>\n",
       "</mark>\n",
       ", development or quality engineering </div>"
      ],
      "text/plain": [
       "<IPython.core.display.HTML object>"
      ]
     },
     "metadata": {},
     "output_type": "display_data"
    },
    {
     "data": {
      "text/html": [
       "<div class=\"entities\" style=\"line-height: 2.5; direction: ltr\">Enjoys working in team environment and has excellent communication and negotiation skills Experience in national multi unit retail environment, and process orientated Ability to work with people of various disciplines at all levels within organisation and strong and proven drive for results Proven experience in \n",
       "<mark class=\"entity\" style=\"background: #ddd; padding: 0.45em 0.6em; margin: 0 0.25em; line-height: 1; border-radius: 0.35em;\">\n",
       "    design\n",
       "    <span style=\"font-size: 0.8em; font-weight: bold; line-height: 1; border-radius: 0.35em; text-transform: uppercase; vertical-align: middle; margin-left: 0.5rem\">EXPERIENCE</span>\n",
       "</mark>\n",
       ", space planning, retail and equipment layouts Current driving licence, </div>"
      ],
      "text/plain": [
       "<IPython.core.display.HTML object>"
      ]
     },
     "metadata": {},
     "output_type": "display_data"
    },
    {
     "data": {
      "text/html": [
       "<div class=\"entities\" style=\"line-height: 2.5; direction: ltr\">Proven experience in \n",
       "<mark class=\"entity\" style=\"background: #ddd; padding: 0.45em 0.6em; margin: 0 0.25em; line-height: 1; border-radius: 0.35em;\">\n",
       "    design\n",
       "    <span style=\"font-size: 0.8em; font-weight: bold; line-height: 1; border-radius: 0.35em; text-transform: uppercase; vertical-align: middle; margin-left: 0.5rem\">EXPERIENCE</span>\n",
       "</mark>\n",
       ", space planning, retail and equipment layouts Current driving licence, </div>"
      ],
      "text/plain": [
       "<IPython.core.display.HTML object>"
      ]
     },
     "metadata": {},
     "output_type": "display_data"
    },
    {
     "data": {
      "text/html": [
       "<div class=\"entities\" style=\"line-height: 2.5; direction: ltr\">Candidates must have excellent creative and technical artworking skills, and proven experience of \n",
       "<mark class=\"entity\" style=\"background: #ddd; padding: 0.45em 0.6em; margin: 0 0.25em; line-height: 1; border-radius: 0.35em;\">\n",
       "    design\n",
       "    <span style=\"font-size: 0.8em; font-weight: bold; line-height: 1; border-radius: 0.35em; text-transform: uppercase; vertical-align: middle; margin-left: 0.5rem\">EXPERIENCE</span>\n",
       "</mark>\n",
       " for print and online (preferably with Flash, HTML5 or similar). </div>"
      ],
      "text/plain": [
       "<IPython.core.display.HTML object>"
      ]
     },
     "metadata": {},
     "output_type": "display_data"
    }
   ],
   "source": [
    "showent_df(ent_adp_df.query(\"text=='design'\").head(5))"
   ]
  },
  {
   "cell_type": "code",
   "execution_count": 51,
   "metadata": {},
   "outputs": [
    {
     "data": {
      "text/html": [
       "<div class=\"entities\" style=\"line-height: 2.5; direction: ltr\">Experience of \n",
       "<mark class=\"entity\" style=\"background: #ddd; padding: 0.45em 0.6em; margin: 0 0.25em; line-height: 1; border-radius: 0.35em;\">\n",
       "    C\n",
       "    <span style=\"font-size: 0.8em; font-weight: bold; line-height: 1; border-radius: 0.35em; text-transform: uppercase; vertical-align: middle; margin-left: 0.5rem\">EXPERIENCE</span>\n",
       "</mark>\n",
       " and/or C++ Experience of LabVIEW and/or LabWindows Experience of embedded software systems Experience in developing solutions within common lifecycles such as:  Waterfall;  Spiral;  </div>"
      ],
      "text/plain": [
       "<IPython.core.display.HTML object>"
      ]
     },
     "metadata": {},
     "output_type": "display_data"
    },
    {
     "data": {
      "text/html": [
       "<div class=\"entities\" style=\"line-height: 2.5; direction: ltr\">The Ideal Person: 1 years industrial development experience in \n",
       "<mark class=\"entity\" style=\"background: #ddd; padding: 0.45em 0.6em; margin: 0 0.25em; line-height: 1; border-radius: 0.35em;\">\n",
       "    C\n",
       "    <span style=\"font-size: 0.8em; font-weight: bold; line-height: 1; border-radius: 0.35em; text-transform: uppercase; vertical-align: middle; margin-left: 0.5rem\">EXPERIENCE</span>\n",
       "</mark>\n",
       " .Net </div>"
      ],
      "text/plain": [
       "<IPython.core.display.HTML object>"
      ]
     },
     "metadata": {},
     "output_type": "display_data"
    },
    {
     "data": {
      "text/html": [
       "<div class=\"entities\" style=\"line-height: 2.5; direction: ltr\">The Ideal Person: 12 years industrial development experience in \n",
       "<mark class=\"entity\" style=\"background: #ddd; padding: 0.45em 0.6em; margin: 0 0.25em; line-height: 1; border-radius: 0.35em;\">\n",
       "    C\n",
       "    <span style=\"font-size: 0.8em; font-weight: bold; line-height: 1; border-radius: 0.35em; text-transform: uppercase; vertical-align: middle; margin-left: 0.5rem\">EXPERIENCE</span>\n",
       "</mark>\n",
       " .Net </div>"
      ],
      "text/plain": [
       "<IPython.core.display.HTML object>"
      ]
     },
     "metadata": {},
     "output_type": "display_data"
    },
    {
     "data": {
      "text/html": [
       "<div class=\"entities\" style=\"line-height: 2.5; direction: ltr\">Min ****) in Computer Science, Software, Electrical or Electronic Engineering or other related discipline Minimum of 2 years development experience in \n",
       "<mark class=\"entity\" style=\"background: #ddd; padding: 0.45em 0.6em; margin: 0 0.25em; line-height: 1; border-radius: 0.35em;\">\n",
       "    C\n",
       "    <span style=\"font-size: 0.8em; font-weight: bold; line-height: 1; border-radius: 0.35em; text-transform: uppercase; vertical-align: middle; margin-left: 0.5rem\">EXPERIENCE</span>\n",
       "</mark>\n",
       " or C++, preferably on a UNIX platform (Solaris or Linux) </div>"
      ],
      "text/plain": [
       "<IPython.core.display.HTML object>"
      ]
     },
     "metadata": {},
     "output_type": "display_data"
    },
    {
     "data": {
      "text/html": [
       "<div class=\"entities\" style=\"line-height: 2.5; direction: ltr\">**) Have development experience in \n",
       "<mark class=\"entity\" style=\"background: #ddd; padding: 0.45em 0.6em; margin: 0 0.25em; line-height: 1; border-radius: 0.35em;\">\n",
       "    C\n",
       "    <span style=\"font-size: 0.8em; font-weight: bold; line-height: 1; border-radius: 0.35em; text-transform: uppercase; vertical-align: middle; margin-left: 0.5rem\">EXPERIENCE</span>\n",
       "</mark>\n",
       " and JavaScript </div>"
      ],
      "text/plain": [
       "<IPython.core.display.HTML object>"
      ]
     },
     "metadata": {},
     "output_type": "display_data"
    }
   ],
   "source": [
    "showent_df(ent_adp_df.query(\"text=='C'\").head(5))"
   ]
  },
  {
   "cell_type": "markdown",
   "metadata": {},
   "source": [
    "We're often getting \"a\" because of bad tokenization"
   ]
  },
  {
   "cell_type": "code",
   "execution_count": 52,
   "metadata": {},
   "outputs": [
    {
     "data": {
      "text/html": [
       "<div class=\"entities\" style=\"line-height: 2.5; direction: ltr\">Recent care experience within \n",
       "<mark class=\"entity\" style=\"background: #ddd; padding: 0.45em 0.6em; margin: 0 0.25em; line-height: 1; border-radius: 0.35em;\">\n",
       "    a\n",
       "    <span style=\"font-size: 0.8em; font-weight: bold; line-height: 1; border-radius: 0.35em; text-transform: uppercase; vertical-align: middle; margin-left: 0.5rem\">EXPERIENCE</span>\n",
       "</mark>\n",
       " Nursing Home or Care Home Environment  </div>"
      ],
      "text/plain": [
       "<IPython.core.display.HTML object>"
      ]
     },
     "metadata": {},
     "output_type": "display_data"
    },
    {
     "data": {
      "text/html": [
       "<div class=\"entities\" style=\"line-height: 2.5; direction: ltr\">Due to the nature of service you will be required to learn all sections meaning you will become an all round chef with experience of all areas to \n",
       "<mark class=\"entity\" style=\"background: #ddd; padding: 0.45em 0.6em; margin: 0 0.25em; line-height: 1; border-radius: 0.35em;\">\n",
       "    a\n",
       "    <span style=\"font-size: 0.8em; font-weight: bold; line-height: 1; border-radius: 0.35em; text-transform: uppercase; vertical-align: middle; margin-left: 0.5rem\">EXPERIENCE</span>\n",
       "</mark>\n",
       " </div>"
      ],
      "text/plain": [
       "<IPython.core.display.HTML object>"
      ]
     },
     "metadata": {},
     "output_type": "display_data"
    },
    {
     "data": {
      "text/html": [
       "<div class=\"entities\" style=\"line-height: 2.5; direction: ltr\">You must have experience within \n",
       "<mark class=\"entity\" style=\"background: #ddd; padding: 0.45em 0.6em; margin: 0 0.25em; line-height: 1; border-radius: 0.35em;\">\n",
       "    a\n",
       "    <span style=\"font-size: 0.8em; font-weight: bold; line-height: 1; border-radius: 0.35em; text-transform: uppercase; vertical-align: middle; margin-left: 0.5rem\">EXPERIENCE</span>\n",
       "</mark>\n",
       " similar *</div>"
      ],
      "text/plain": [
       "<IPython.core.display.HTML object>"
      ]
     },
     "metadata": {},
     "output_type": "display_data"
    },
    {
     "data": {
      "text/html": [
       "<div class=\"entities\" style=\"line-height: 2.5; direction: ltr\">Significant experience as \n",
       "<mark class=\"entity\" style=\"background: #ddd; padding: 0.45em 0.6em; margin: 0 0.25em; line-height: 1; border-radius: 0.35em;\">\n",
       "    a\n",
       "    <span style=\"font-size: 0.8em; font-weight: bold; line-height: 1; border-radius: 0.35em; text-transform: uppercase; vertical-align: middle; margin-left: 0.5rem\">EXPERIENCE</span>\n",
       "</mark>\n",
       " </div>"
      ],
      "text/plain": [
       "<IPython.core.display.HTML object>"
      ]
     },
     "metadata": {},
     "output_type": "display_data"
    },
    {
     "data": {
      "text/html": [
       "<div class=\"entities\" style=\"line-height: 2.5; direction: ltr\">The ideal candidate will have previous experience within \n",
       "<mark class=\"entity\" style=\"background: #ddd; padding: 0.45em 0.6em; margin: 0 0.25em; line-height: 1; border-radius: 0.35em;\">\n",
       "    a\n",
       "    <span style=\"font-size: 0.8em; font-weight: bold; line-height: 1; border-radius: 0.35em; text-transform: uppercase; vertical-align: middle; margin-left: 0.5rem\">EXPERIENCE</span>\n",
       "</mark>\n",
       " </div>"
      ],
      "text/plain": [
       "<IPython.core.display.HTML object>"
      ]
     },
     "metadata": {},
     "output_type": "display_data"
    }
   ],
   "source": [
    "showent_df(ent_adp_df.query(\"text=='a'\").head(5))"
   ]
  },
  {
   "cell_type": "code",
   "execution_count": 58,
   "metadata": {},
   "outputs": [],
   "source": [
    "def highlight_text_context(terms, texts, n_before=1, n_after=2):\n",
    "    context = []\n",
    "    for doc in nlp.pipe(texts):\n",
    "        sentences = list(doc.sents)\n",
    "        idxs = [i for i, sent in enumerate(sentences) if any(term in sent.text.lower() for term in terms)]\n",
    "        \n",
    "        for idx in idxs:\n",
    "            before = ''.join(sent.text for sent in sentences[max(idx-n_before, 0):idx])\n",
    "            after = ''.join(sent.text for sent in sentences[idx+1:min(idx+n_before+1, len(sentences))])\n",
    "            text = sentences[idx].text\n",
    "            markup = re.sub(fr'(?i)\\b({\"|\".join(terms)})\\b', r'<strong>\\1</strong>',\n",
    "                                 f'<span style=\"color:blue\">{text}</span>')\n",
    "            display(HTML(before + markup + after))"
   ]
  },
  {
   "cell_type": "markdown",
   "metadata": {},
   "source": [
    "The term \"a\" occurs mostly due to bad parsing because all numbers have been replaced with `****`"
   ]
  },
  {
   "cell_type": "code",
   "execution_count": 59,
   "metadata": {},
   "outputs": [
    {
     "data": {
      "text/html": [
       "The successful candidate will lead by example, be motivated and committed to helping others, and must be able to provide the following skills and experience:  <span style=\"color:blue\">Recent care <strong>experience</strong> within a Nursing Home or Care Home Environment  </span>Have Excellent Communication Skills  "
      ],
      "text/plain": [
       "<IPython.core.display.HTML object>"
      ]
     },
     "metadata": {},
     "output_type": "display_data"
    },
    {
     "data": {
      "text/html": [
       "Following the recent fashion of London restaurants this will be somewhere to enjoy relaxed fine dining in an environment that offers small and large plates that can be enjoyed sitting at the bar or in the main restaurant.<span style=\"color:blue\">Due to the nature of service you will be required to learn all sections meaning you will become an all round chef with <strong>experience</strong> of all areas to a</span>****AA Rosette standard."
      ],
      "text/plain": [
       "<IPython.core.display.HTML object>"
      ]
     },
     "metadata": {},
     "output_type": "display_data"
    },
    {
     "data": {
      "text/html": [
       "Our client is seeking someone who can manage an existing team with the assistance of the existing management team to ensure that customer s expectation and needs are meet from front of house to their room.<span style=\"color:blue\">You must have <strong>experience</strong> within a similar *</span>*"
      ],
      "text/plain": [
       "<IPython.core.display.HTML object>"
      ]
     },
     "metadata": {},
     "output_type": "display_data"
    },
    {
     "data": {
      "text/html": [
       "Create own brand designs inline with briefs.<span style=\"color:blue\">Significant <strong>experience</strong> as a</span>****/"
      ],
      "text/plain": [
       "<IPython.core.display.HTML object>"
      ]
     },
     "metadata": {},
     "output_type": "display_data"
    },
    {
     "data": {
      "text/html": [
       "Working a variety of shifts you will be competent and confident in carrying out various duties for the hotel guests within food and beverage.<span style=\"color:blue\">The ideal candidate will have previous <strong>experience</strong> within a</span>**** star property and have their own transport."
      ],
      "text/plain": [
       "<IPython.core.display.HTML object>"
      ]
     },
     "metadata": {},
     "output_type": "display_data"
    },
    {
     "data": {
      "text/html": [
       "*<span style=\"color:blue\">** restaurants with a commitment to quality seasonal ingredients and showcasing the best local produce and artisan products from around the UK Pastry Sous Chef required with extensive <strong>experience</strong> in a</span>**** star environment, experience of menu development, strong understanding and application of French, Asian, British and International cuisine, chocolate and bread making knowledge, management and leadership experience including ordering and costings Working closely with Head Pastry Chef and able to manage Pastry Kitchen in his absence."
      ],
      "text/plain": [
       "<IPython.core.display.HTML object>"
      ]
     },
     "metadata": {},
     "output_type": "display_data"
    },
    {
     "data": {
      "text/html": [
       "Day to day working your own section within the kitchen along with additional responsibilities, you will be working with a team who wishes to progress and further achieve and take pride in all they do.<span style=\"color:blue\">You should ideally have <strong>experience</strong> in a</span>**** rosette Kitchen and be passionate and focused about your career."
      ],
      "text/plain": [
       "<IPython.core.display.HTML object>"
      ]
     },
     "metadata": {},
     "output_type": "display_data"
    }
   ],
   "source": [
    "terms = ['experience']\n",
    "\n",
    "for _, q in ent_adp_df.query(\"text=='a'\").head(7).iterrows():\n",
    "    doc = nlp(q.FullDescription)\n",
    "    if q.sent_start > 0:\n",
    "        prev_sent = doc[q.sent_start - 1].sent.text\n",
    "    else:\n",
    "        prev_sent = ''\n",
    "    \n",
    "    if q.sent_end < len(doc):\n",
    "        next_sent = doc[q.sent_end].sent.text\n",
    "    else:\n",
    "        next_sent = ''\n",
    "        \n",
    "    text = doc[q.sent_start:q.sent_end].text\n",
    "    markup = re.sub(fr'(?i)\\b({\"|\".join(terms)})\\b', r'<strong>\\1</strong>',\n",
    "                     f'<span style=\"color:blue\">{text}</span>')\n",
    "    display(HTML(prev_sent + markup + next_sent))"
   ]
  },
  {
   "cell_type": "markdown",
   "metadata": {},
   "source": [
    "This is an interesting case where our heuristic extraction rule hasn't captured the complexity"
   ]
  },
  {
   "cell_type": "code",
   "execution_count": 60,
   "metadata": {},
   "outputs": [
    {
     "data": {
      "text/html": [
       "<svg xmlns=\"http://www.w3.org/2000/svg\" xmlns:xlink=\"http://www.w3.org/1999/xlink\" xml:lang=\"en\" id=\"011d12521b1f4dd482df87ba784f72e9-0\" class=\"displacy\" width=\"1975\" height=\"574.5\" direction=\"ltr\" style=\"max-width: none; height: 574.5px; color: #000000; background: #ffffff; font-family: Arial; direction: ltr\">\n",
       "<text class=\"displacy-token\" fill=\"currentColor\" text-anchor=\"middle\" y=\"484.5\">\n",
       "    <tspan class=\"displacy-word\" fill=\"currentColor\" x=\"50\">Recent</tspan>\n",
       "    <tspan class=\"displacy-tag\" dy=\"2em\" fill=\"currentColor\" x=\"50\">ADJ</tspan>\n",
       "</text>\n",
       "\n",
       "<text class=\"displacy-token\" fill=\"currentColor\" text-anchor=\"middle\" y=\"484.5\">\n",
       "    <tspan class=\"displacy-word\" fill=\"currentColor\" x=\"225\">care</tspan>\n",
       "    <tspan class=\"displacy-tag\" dy=\"2em\" fill=\"currentColor\" x=\"225\">NOUN</tspan>\n",
       "</text>\n",
       "\n",
       "<text class=\"displacy-token\" fill=\"currentColor\" text-anchor=\"middle\" y=\"484.5\">\n",
       "    <tspan class=\"displacy-word\" fill=\"currentColor\" x=\"400\">experience</tspan>\n",
       "    <tspan class=\"displacy-tag\" dy=\"2em\" fill=\"currentColor\" x=\"400\">NOUN</tspan>\n",
       "</text>\n",
       "\n",
       "<text class=\"displacy-token\" fill=\"currentColor\" text-anchor=\"middle\" y=\"484.5\">\n",
       "    <tspan class=\"displacy-word\" fill=\"currentColor\" x=\"575\">within</tspan>\n",
       "    <tspan class=\"displacy-tag\" dy=\"2em\" fill=\"currentColor\" x=\"575\">ADP</tspan>\n",
       "</text>\n",
       "\n",
       "<text class=\"displacy-token\" fill=\"currentColor\" text-anchor=\"middle\" y=\"484.5\">\n",
       "    <tspan class=\"displacy-word\" fill=\"currentColor\" x=\"750\">a</tspan>\n",
       "    <tspan class=\"displacy-tag\" dy=\"2em\" fill=\"currentColor\" x=\"750\">DET</tspan>\n",
       "</text>\n",
       "\n",
       "<text class=\"displacy-token\" fill=\"currentColor\" text-anchor=\"middle\" y=\"484.5\">\n",
       "    <tspan class=\"displacy-word\" fill=\"currentColor\" x=\"925\">Nursing</tspan>\n",
       "    <tspan class=\"displacy-tag\" dy=\"2em\" fill=\"currentColor\" x=\"925\">PROPN</tspan>\n",
       "</text>\n",
       "\n",
       "<text class=\"displacy-token\" fill=\"currentColor\" text-anchor=\"middle\" y=\"484.5\">\n",
       "    <tspan class=\"displacy-word\" fill=\"currentColor\" x=\"1100\">Home</tspan>\n",
       "    <tspan class=\"displacy-tag\" dy=\"2em\" fill=\"currentColor\" x=\"1100\">PROPN</tspan>\n",
       "</text>\n",
       "\n",
       "<text class=\"displacy-token\" fill=\"currentColor\" text-anchor=\"middle\" y=\"484.5\">\n",
       "    <tspan class=\"displacy-word\" fill=\"currentColor\" x=\"1275\">or</tspan>\n",
       "    <tspan class=\"displacy-tag\" dy=\"2em\" fill=\"currentColor\" x=\"1275\">CCONJ</tspan>\n",
       "</text>\n",
       "\n",
       "<text class=\"displacy-token\" fill=\"currentColor\" text-anchor=\"middle\" y=\"484.5\">\n",
       "    <tspan class=\"displacy-word\" fill=\"currentColor\" x=\"1450\">Care</tspan>\n",
       "    <tspan class=\"displacy-tag\" dy=\"2em\" fill=\"currentColor\" x=\"1450\">PROPN</tspan>\n",
       "</text>\n",
       "\n",
       "<text class=\"displacy-token\" fill=\"currentColor\" text-anchor=\"middle\" y=\"484.5\">\n",
       "    <tspan class=\"displacy-word\" fill=\"currentColor\" x=\"1625\">Home</tspan>\n",
       "    <tspan class=\"displacy-tag\" dy=\"2em\" fill=\"currentColor\" x=\"1625\">PROPN</tspan>\n",
       "</text>\n",
       "\n",
       "<text class=\"displacy-token\" fill=\"currentColor\" text-anchor=\"middle\" y=\"484.5\">\n",
       "    <tspan class=\"displacy-word\" fill=\"currentColor\" x=\"1800\">Environment</tspan>\n",
       "    <tspan class=\"displacy-tag\" dy=\"2em\" fill=\"currentColor\" x=\"1800\">PROPN</tspan>\n",
       "</text>\n",
       "\n",
       "<g class=\"displacy-arrow\">\n",
       "    <path class=\"displacy-arc\" id=\"arrow-011d12521b1f4dd482df87ba784f72e9-0-0\" stroke-width=\"2px\" d=\"M70,439.5 C70,264.5 385.0,264.5 385.0,439.5\" fill=\"none\" stroke=\"currentColor\"/>\n",
       "    <text dy=\"1.25em\" style=\"font-size: 0.8em; letter-spacing: 1px\">\n",
       "        <textPath xlink:href=\"#arrow-011d12521b1f4dd482df87ba784f72e9-0-0\" class=\"displacy-label\" startOffset=\"50%\" side=\"left\" fill=\"currentColor\" text-anchor=\"middle\">amod</textPath>\n",
       "    </text>\n",
       "    <path class=\"displacy-arrowhead\" d=\"M70,441.5 L62,429.5 78,429.5\" fill=\"currentColor\"/>\n",
       "</g>\n",
       "\n",
       "<g class=\"displacy-arrow\">\n",
       "    <path class=\"displacy-arc\" id=\"arrow-011d12521b1f4dd482df87ba784f72e9-0-1\" stroke-width=\"2px\" d=\"M245,439.5 C245,352.0 380.0,352.0 380.0,439.5\" fill=\"none\" stroke=\"currentColor\"/>\n",
       "    <text dy=\"1.25em\" style=\"font-size: 0.8em; letter-spacing: 1px\">\n",
       "        <textPath xlink:href=\"#arrow-011d12521b1f4dd482df87ba784f72e9-0-1\" class=\"displacy-label\" startOffset=\"50%\" side=\"left\" fill=\"currentColor\" text-anchor=\"middle\">compound</textPath>\n",
       "    </text>\n",
       "    <path class=\"displacy-arrowhead\" d=\"M245,441.5 L237,429.5 253,429.5\" fill=\"currentColor\"/>\n",
       "</g>\n",
       "\n",
       "<g class=\"displacy-arrow\">\n",
       "    <path class=\"displacy-arc\" id=\"arrow-011d12521b1f4dd482df87ba784f72e9-0-2\" stroke-width=\"2px\" d=\"M420,439.5 C420,352.0 555.0,352.0 555.0,439.5\" fill=\"none\" stroke=\"currentColor\"/>\n",
       "    <text dy=\"1.25em\" style=\"font-size: 0.8em; letter-spacing: 1px\">\n",
       "        <textPath xlink:href=\"#arrow-011d12521b1f4dd482df87ba784f72e9-0-2\" class=\"displacy-label\" startOffset=\"50%\" side=\"left\" fill=\"currentColor\" text-anchor=\"middle\">prep</textPath>\n",
       "    </text>\n",
       "    <path class=\"displacy-arrowhead\" d=\"M555.0,441.5 L563.0,429.5 547.0,429.5\" fill=\"currentColor\"/>\n",
       "</g>\n",
       "\n",
       "<g class=\"displacy-arrow\">\n",
       "    <path class=\"displacy-arc\" id=\"arrow-011d12521b1f4dd482df87ba784f72e9-0-3\" stroke-width=\"2px\" d=\"M770,439.5 C770,89.5 1795.0,89.5 1795.0,439.5\" fill=\"none\" stroke=\"currentColor\"/>\n",
       "    <text dy=\"1.25em\" style=\"font-size: 0.8em; letter-spacing: 1px\">\n",
       "        <textPath xlink:href=\"#arrow-011d12521b1f4dd482df87ba784f72e9-0-3\" class=\"displacy-label\" startOffset=\"50%\" side=\"left\" fill=\"currentColor\" text-anchor=\"middle\">det</textPath>\n",
       "    </text>\n",
       "    <path class=\"displacy-arrowhead\" d=\"M770,441.5 L762,429.5 778,429.5\" fill=\"currentColor\"/>\n",
       "</g>\n",
       "\n",
       "<g class=\"displacy-arrow\">\n",
       "    <path class=\"displacy-arc\" id=\"arrow-011d12521b1f4dd482df87ba784f72e9-0-4\" stroke-width=\"2px\" d=\"M945,439.5 C945,352.0 1080.0,352.0 1080.0,439.5\" fill=\"none\" stroke=\"currentColor\"/>\n",
       "    <text dy=\"1.25em\" style=\"font-size: 0.8em; letter-spacing: 1px\">\n",
       "        <textPath xlink:href=\"#arrow-011d12521b1f4dd482df87ba784f72e9-0-4\" class=\"displacy-label\" startOffset=\"50%\" side=\"left\" fill=\"currentColor\" text-anchor=\"middle\">compound</textPath>\n",
       "    </text>\n",
       "    <path class=\"displacy-arrowhead\" d=\"M945,441.5 L937,429.5 953,429.5\" fill=\"currentColor\"/>\n",
       "</g>\n",
       "\n",
       "<g class=\"displacy-arrow\">\n",
       "    <path class=\"displacy-arc\" id=\"arrow-011d12521b1f4dd482df87ba784f72e9-0-5\" stroke-width=\"2px\" d=\"M1120,439.5 C1120,177.0 1790.0,177.0 1790.0,439.5\" fill=\"none\" stroke=\"currentColor\"/>\n",
       "    <text dy=\"1.25em\" style=\"font-size: 0.8em; letter-spacing: 1px\">\n",
       "        <textPath xlink:href=\"#arrow-011d12521b1f4dd482df87ba784f72e9-0-5\" class=\"displacy-label\" startOffset=\"50%\" side=\"left\" fill=\"currentColor\" text-anchor=\"middle\">nmod</textPath>\n",
       "    </text>\n",
       "    <path class=\"displacy-arrowhead\" d=\"M1120,441.5 L1112,429.5 1128,429.5\" fill=\"currentColor\"/>\n",
       "</g>\n",
       "\n",
       "<g class=\"displacy-arrow\">\n",
       "    <path class=\"displacy-arc\" id=\"arrow-011d12521b1f4dd482df87ba784f72e9-0-6\" stroke-width=\"2px\" d=\"M1120,439.5 C1120,352.0 1255.0,352.0 1255.0,439.5\" fill=\"none\" stroke=\"currentColor\"/>\n",
       "    <text dy=\"1.25em\" style=\"font-size: 0.8em; letter-spacing: 1px\">\n",
       "        <textPath xlink:href=\"#arrow-011d12521b1f4dd482df87ba784f72e9-0-6\" class=\"displacy-label\" startOffset=\"50%\" side=\"left\" fill=\"currentColor\" text-anchor=\"middle\">cc</textPath>\n",
       "    </text>\n",
       "    <path class=\"displacy-arrowhead\" d=\"M1255.0,441.5 L1263.0,429.5 1247.0,429.5\" fill=\"currentColor\"/>\n",
       "</g>\n",
       "\n",
       "<g class=\"displacy-arrow\">\n",
       "    <path class=\"displacy-arc\" id=\"arrow-011d12521b1f4dd482df87ba784f72e9-0-7\" stroke-width=\"2px\" d=\"M1470,439.5 C1470,264.5 1785.0,264.5 1785.0,439.5\" fill=\"none\" stroke=\"currentColor\"/>\n",
       "    <text dy=\"1.25em\" style=\"font-size: 0.8em; letter-spacing: 1px\">\n",
       "        <textPath xlink:href=\"#arrow-011d12521b1f4dd482df87ba784f72e9-0-7\" class=\"displacy-label\" startOffset=\"50%\" side=\"left\" fill=\"currentColor\" text-anchor=\"middle\">compound</textPath>\n",
       "    </text>\n",
       "    <path class=\"displacy-arrowhead\" d=\"M1470,441.5 L1462,429.5 1478,429.5\" fill=\"currentColor\"/>\n",
       "</g>\n",
       "\n",
       "<g class=\"displacy-arrow\">\n",
       "    <path class=\"displacy-arc\" id=\"arrow-011d12521b1f4dd482df87ba784f72e9-0-8\" stroke-width=\"2px\" d=\"M1645,439.5 C1645,352.0 1780.0,352.0 1780.0,439.5\" fill=\"none\" stroke=\"currentColor\"/>\n",
       "    <text dy=\"1.25em\" style=\"font-size: 0.8em; letter-spacing: 1px\">\n",
       "        <textPath xlink:href=\"#arrow-011d12521b1f4dd482df87ba784f72e9-0-8\" class=\"displacy-label\" startOffset=\"50%\" side=\"left\" fill=\"currentColor\" text-anchor=\"middle\">compound</textPath>\n",
       "    </text>\n",
       "    <path class=\"displacy-arrowhead\" d=\"M1645,441.5 L1637,429.5 1653,429.5\" fill=\"currentColor\"/>\n",
       "</g>\n",
       "\n",
       "<g class=\"displacy-arrow\">\n",
       "    <path class=\"displacy-arc\" id=\"arrow-011d12521b1f4dd482df87ba784f72e9-0-9\" stroke-width=\"2px\" d=\"M595,439.5 C595,2.0 1800.0,2.0 1800.0,439.5\" fill=\"none\" stroke=\"currentColor\"/>\n",
       "    <text dy=\"1.25em\" style=\"font-size: 0.8em; letter-spacing: 1px\">\n",
       "        <textPath xlink:href=\"#arrow-011d12521b1f4dd482df87ba784f72e9-0-9\" class=\"displacy-label\" startOffset=\"50%\" side=\"left\" fill=\"currentColor\" text-anchor=\"middle\">pobj</textPath>\n",
       "    </text>\n",
       "    <path class=\"displacy-arrowhead\" d=\"M1800.0,441.5 L1808.0,429.5 1792.0,429.5\" fill=\"currentColor\"/>\n",
       "</g>\n",
       "</svg>"
      ],
      "text/plain": [
       "<IPython.core.display.HTML object>"
      ]
     },
     "metadata": {},
     "output_type": "display_data"
    }
   ],
   "source": [
    "displacy.render(nlp('Recent care experience within a Nursing Home or Care Home Environment'))"
   ]
  },
  {
   "cell_type": "markdown",
   "metadata": {},
   "source": [
    "### Expanding conjugations"
   ]
  },
  {
   "cell_type": "markdown",
   "metadata": {},
   "source": [
    "It would be useful to get each form of experience in long lists:"
   ]
  },
  {
   "cell_type": "code",
   "execution_count": 61,
   "metadata": {},
   "outputs": [
    {
     "data": {
      "text/plain": [
       "Candidates with experience in telesales, callcentre, customer service, receptionist or travel are ideal for this role."
      ]
     },
     "execution_count": 61,
     "metadata": {},
     "output_type": "execute_result"
    }
   ],
   "source": [
    "doc = nlp(\"Candidates with experience in telesales, callcentre, customer service, receptionist or travel are ideal for this role.\")\n",
    "doc"
   ]
  },
  {
   "cell_type": "code",
   "execution_count": 62,
   "metadata": {},
   "outputs": [
    {
     "data": {
      "text/html": [
       "<svg xmlns=\"http://www.w3.org/2000/svg\" xmlns:xlink=\"http://www.w3.org/1999/xlink\" xml:lang=\"en\" id=\"e1cd21173eba45e9893eb19868a5f7c3-0\" class=\"displacy\" width=\"2850\" height=\"399.5\" direction=\"ltr\" style=\"max-width: none; height: 399.5px; color: #000000; background: #ffffff; font-family: Arial; direction: ltr\">\n",
       "<text class=\"displacy-token\" fill=\"currentColor\" text-anchor=\"middle\" y=\"309.5\">\n",
       "    <tspan class=\"displacy-word\" fill=\"currentColor\" x=\"50\">Candidates</tspan>\n",
       "    <tspan class=\"displacy-tag\" dy=\"2em\" fill=\"currentColor\" x=\"50\">NOUN</tspan>\n",
       "</text>\n",
       "\n",
       "<text class=\"displacy-token\" fill=\"currentColor\" text-anchor=\"middle\" y=\"309.5\">\n",
       "    <tspan class=\"displacy-word\" fill=\"currentColor\" x=\"225\">with</tspan>\n",
       "    <tspan class=\"displacy-tag\" dy=\"2em\" fill=\"currentColor\" x=\"225\">ADP</tspan>\n",
       "</text>\n",
       "\n",
       "<text class=\"displacy-token\" fill=\"currentColor\" text-anchor=\"middle\" y=\"309.5\">\n",
       "    <tspan class=\"displacy-word\" fill=\"currentColor\" x=\"400\">experience</tspan>\n",
       "    <tspan class=\"displacy-tag\" dy=\"2em\" fill=\"currentColor\" x=\"400\">NOUN</tspan>\n",
       "</text>\n",
       "\n",
       "<text class=\"displacy-token\" fill=\"currentColor\" text-anchor=\"middle\" y=\"309.5\">\n",
       "    <tspan class=\"displacy-word\" fill=\"currentColor\" x=\"575\">in</tspan>\n",
       "    <tspan class=\"displacy-tag\" dy=\"2em\" fill=\"currentColor\" x=\"575\">ADP</tspan>\n",
       "</text>\n",
       "\n",
       "<text class=\"displacy-token\" fill=\"currentColor\" text-anchor=\"middle\" y=\"309.5\">\n",
       "    <tspan class=\"displacy-word\" fill=\"currentColor\" x=\"750\">telesales,</tspan>\n",
       "    <tspan class=\"displacy-tag\" dy=\"2em\" fill=\"currentColor\" x=\"750\">PROPN</tspan>\n",
       "</text>\n",
       "\n",
       "<text class=\"displacy-token\" fill=\"currentColor\" text-anchor=\"middle\" y=\"309.5\">\n",
       "    <tspan class=\"displacy-word\" fill=\"currentColor\" x=\"925\">callcentre,</tspan>\n",
       "    <tspan class=\"displacy-tag\" dy=\"2em\" fill=\"currentColor\" x=\"925\">PROPN</tspan>\n",
       "</text>\n",
       "\n",
       "<text class=\"displacy-token\" fill=\"currentColor\" text-anchor=\"middle\" y=\"309.5\">\n",
       "    <tspan class=\"displacy-word\" fill=\"currentColor\" x=\"1100\">customer</tspan>\n",
       "    <tspan class=\"displacy-tag\" dy=\"2em\" fill=\"currentColor\" x=\"1100\">NOUN</tspan>\n",
       "</text>\n",
       "\n",
       "<text class=\"displacy-token\" fill=\"currentColor\" text-anchor=\"middle\" y=\"309.5\">\n",
       "    <tspan class=\"displacy-word\" fill=\"currentColor\" x=\"1275\">service,</tspan>\n",
       "    <tspan class=\"displacy-tag\" dy=\"2em\" fill=\"currentColor\" x=\"1275\">NOUN</tspan>\n",
       "</text>\n",
       "\n",
       "<text class=\"displacy-token\" fill=\"currentColor\" text-anchor=\"middle\" y=\"309.5\">\n",
       "    <tspan class=\"displacy-word\" fill=\"currentColor\" x=\"1450\">receptionist</tspan>\n",
       "    <tspan class=\"displacy-tag\" dy=\"2em\" fill=\"currentColor\" x=\"1450\">NOUN</tspan>\n",
       "</text>\n",
       "\n",
       "<text class=\"displacy-token\" fill=\"currentColor\" text-anchor=\"middle\" y=\"309.5\">\n",
       "    <tspan class=\"displacy-word\" fill=\"currentColor\" x=\"1625\">or</tspan>\n",
       "    <tspan class=\"displacy-tag\" dy=\"2em\" fill=\"currentColor\" x=\"1625\">CCONJ</tspan>\n",
       "</text>\n",
       "\n",
       "<text class=\"displacy-token\" fill=\"currentColor\" text-anchor=\"middle\" y=\"309.5\">\n",
       "    <tspan class=\"displacy-word\" fill=\"currentColor\" x=\"1800\">travel</tspan>\n",
       "    <tspan class=\"displacy-tag\" dy=\"2em\" fill=\"currentColor\" x=\"1800\">NOUN</tspan>\n",
       "</text>\n",
       "\n",
       "<text class=\"displacy-token\" fill=\"currentColor\" text-anchor=\"middle\" y=\"309.5\">\n",
       "    <tspan class=\"displacy-word\" fill=\"currentColor\" x=\"1975\">are</tspan>\n",
       "    <tspan class=\"displacy-tag\" dy=\"2em\" fill=\"currentColor\" x=\"1975\">AUX</tspan>\n",
       "</text>\n",
       "\n",
       "<text class=\"displacy-token\" fill=\"currentColor\" text-anchor=\"middle\" y=\"309.5\">\n",
       "    <tspan class=\"displacy-word\" fill=\"currentColor\" x=\"2150\">ideal</tspan>\n",
       "    <tspan class=\"displacy-tag\" dy=\"2em\" fill=\"currentColor\" x=\"2150\">ADJ</tspan>\n",
       "</text>\n",
       "\n",
       "<text class=\"displacy-token\" fill=\"currentColor\" text-anchor=\"middle\" y=\"309.5\">\n",
       "    <tspan class=\"displacy-word\" fill=\"currentColor\" x=\"2325\">for</tspan>\n",
       "    <tspan class=\"displacy-tag\" dy=\"2em\" fill=\"currentColor\" x=\"2325\">ADP</tspan>\n",
       "</text>\n",
       "\n",
       "<text class=\"displacy-token\" fill=\"currentColor\" text-anchor=\"middle\" y=\"309.5\">\n",
       "    <tspan class=\"displacy-word\" fill=\"currentColor\" x=\"2500\">this</tspan>\n",
       "    <tspan class=\"displacy-tag\" dy=\"2em\" fill=\"currentColor\" x=\"2500\">DET</tspan>\n",
       "</text>\n",
       "\n",
       "<text class=\"displacy-token\" fill=\"currentColor\" text-anchor=\"middle\" y=\"309.5\">\n",
       "    <tspan class=\"displacy-word\" fill=\"currentColor\" x=\"2675\">role.</tspan>\n",
       "    <tspan class=\"displacy-tag\" dy=\"2em\" fill=\"currentColor\" x=\"2675\">NOUN</tspan>\n",
       "</text>\n",
       "\n",
       "<g class=\"displacy-arrow\">\n",
       "    <path class=\"displacy-arc\" id=\"arrow-e1cd21173eba45e9893eb19868a5f7c3-0-0\" stroke-width=\"2px\" d=\"M70,264.5 C70,2.0 1975.0,2.0 1975.0,264.5\" fill=\"none\" stroke=\"currentColor\"/>\n",
       "    <text dy=\"1.25em\" style=\"font-size: 0.8em; letter-spacing: 1px\">\n",
       "        <textPath xlink:href=\"#arrow-e1cd21173eba45e9893eb19868a5f7c3-0-0\" class=\"displacy-label\" startOffset=\"50%\" side=\"left\" fill=\"currentColor\" text-anchor=\"middle\">nsubj</textPath>\n",
       "    </text>\n",
       "    <path class=\"displacy-arrowhead\" d=\"M70,266.5 L62,254.5 78,254.5\" fill=\"currentColor\"/>\n",
       "</g>\n",
       "\n",
       "<g class=\"displacy-arrow\">\n",
       "    <path class=\"displacy-arc\" id=\"arrow-e1cd21173eba45e9893eb19868a5f7c3-0-1\" stroke-width=\"2px\" d=\"M70,264.5 C70,177.0 215.0,177.0 215.0,264.5\" fill=\"none\" stroke=\"currentColor\"/>\n",
       "    <text dy=\"1.25em\" style=\"font-size: 0.8em; letter-spacing: 1px\">\n",
       "        <textPath xlink:href=\"#arrow-e1cd21173eba45e9893eb19868a5f7c3-0-1\" class=\"displacy-label\" startOffset=\"50%\" side=\"left\" fill=\"currentColor\" text-anchor=\"middle\">prep</textPath>\n",
       "    </text>\n",
       "    <path class=\"displacy-arrowhead\" d=\"M215.0,266.5 L223.0,254.5 207.0,254.5\" fill=\"currentColor\"/>\n",
       "</g>\n",
       "\n",
       "<g class=\"displacy-arrow\">\n",
       "    <path class=\"displacy-arc\" id=\"arrow-e1cd21173eba45e9893eb19868a5f7c3-0-2\" stroke-width=\"2px\" d=\"M245,264.5 C245,177.0 390.0,177.0 390.0,264.5\" fill=\"none\" stroke=\"currentColor\"/>\n",
       "    <text dy=\"1.25em\" style=\"font-size: 0.8em; letter-spacing: 1px\">\n",
       "        <textPath xlink:href=\"#arrow-e1cd21173eba45e9893eb19868a5f7c3-0-2\" class=\"displacy-label\" startOffset=\"50%\" side=\"left\" fill=\"currentColor\" text-anchor=\"middle\">pobj</textPath>\n",
       "    </text>\n",
       "    <path class=\"displacy-arrowhead\" d=\"M390.0,266.5 L398.0,254.5 382.0,254.5\" fill=\"currentColor\"/>\n",
       "</g>\n",
       "\n",
       "<g class=\"displacy-arrow\">\n",
       "    <path class=\"displacy-arc\" id=\"arrow-e1cd21173eba45e9893eb19868a5f7c3-0-3\" stroke-width=\"2px\" d=\"M420,264.5 C420,177.0 565.0,177.0 565.0,264.5\" fill=\"none\" stroke=\"currentColor\"/>\n",
       "    <text dy=\"1.25em\" style=\"font-size: 0.8em; letter-spacing: 1px\">\n",
       "        <textPath xlink:href=\"#arrow-e1cd21173eba45e9893eb19868a5f7c3-0-3\" class=\"displacy-label\" startOffset=\"50%\" side=\"left\" fill=\"currentColor\" text-anchor=\"middle\">prep</textPath>\n",
       "    </text>\n",
       "    <path class=\"displacy-arrowhead\" d=\"M565.0,266.5 L573.0,254.5 557.0,254.5\" fill=\"currentColor\"/>\n",
       "</g>\n",
       "\n",
       "<g class=\"displacy-arrow\">\n",
       "    <path class=\"displacy-arc\" id=\"arrow-e1cd21173eba45e9893eb19868a5f7c3-0-4\" stroke-width=\"2px\" d=\"M595,264.5 C595,177.0 740.0,177.0 740.0,264.5\" fill=\"none\" stroke=\"currentColor\"/>\n",
       "    <text dy=\"1.25em\" style=\"font-size: 0.8em; letter-spacing: 1px\">\n",
       "        <textPath xlink:href=\"#arrow-e1cd21173eba45e9893eb19868a5f7c3-0-4\" class=\"displacy-label\" startOffset=\"50%\" side=\"left\" fill=\"currentColor\" text-anchor=\"middle\">pobj</textPath>\n",
       "    </text>\n",
       "    <path class=\"displacy-arrowhead\" d=\"M740.0,266.5 L748.0,254.5 732.0,254.5\" fill=\"currentColor\"/>\n",
       "</g>\n",
       "\n",
       "<g class=\"displacy-arrow\">\n",
       "    <path class=\"displacy-arc\" id=\"arrow-e1cd21173eba45e9893eb19868a5f7c3-0-5\" stroke-width=\"2px\" d=\"M770,264.5 C770,177.0 915.0,177.0 915.0,264.5\" fill=\"none\" stroke=\"currentColor\"/>\n",
       "    <text dy=\"1.25em\" style=\"font-size: 0.8em; letter-spacing: 1px\">\n",
       "        <textPath xlink:href=\"#arrow-e1cd21173eba45e9893eb19868a5f7c3-0-5\" class=\"displacy-label\" startOffset=\"50%\" side=\"left\" fill=\"currentColor\" text-anchor=\"middle\">conj</textPath>\n",
       "    </text>\n",
       "    <path class=\"displacy-arrowhead\" d=\"M915.0,266.5 L923.0,254.5 907.0,254.5\" fill=\"currentColor\"/>\n",
       "</g>\n",
       "\n",
       "<g class=\"displacy-arrow\">\n",
       "    <path class=\"displacy-arc\" id=\"arrow-e1cd21173eba45e9893eb19868a5f7c3-0-6\" stroke-width=\"2px\" d=\"M1120,264.5 C1120,177.0 1265.0,177.0 1265.0,264.5\" fill=\"none\" stroke=\"currentColor\"/>\n",
       "    <text dy=\"1.25em\" style=\"font-size: 0.8em; letter-spacing: 1px\">\n",
       "        <textPath xlink:href=\"#arrow-e1cd21173eba45e9893eb19868a5f7c3-0-6\" class=\"displacy-label\" startOffset=\"50%\" side=\"left\" fill=\"currentColor\" text-anchor=\"middle\">compound</textPath>\n",
       "    </text>\n",
       "    <path class=\"displacy-arrowhead\" d=\"M1120,266.5 L1112,254.5 1128,254.5\" fill=\"currentColor\"/>\n",
       "</g>\n",
       "\n",
       "<g class=\"displacy-arrow\">\n",
       "    <path class=\"displacy-arc\" id=\"arrow-e1cd21173eba45e9893eb19868a5f7c3-0-7\" stroke-width=\"2px\" d=\"M945,264.5 C945,89.5 1270.0,89.5 1270.0,264.5\" fill=\"none\" stroke=\"currentColor\"/>\n",
       "    <text dy=\"1.25em\" style=\"font-size: 0.8em; letter-spacing: 1px\">\n",
       "        <textPath xlink:href=\"#arrow-e1cd21173eba45e9893eb19868a5f7c3-0-7\" class=\"displacy-label\" startOffset=\"50%\" side=\"left\" fill=\"currentColor\" text-anchor=\"middle\">conj</textPath>\n",
       "    </text>\n",
       "    <path class=\"displacy-arrowhead\" d=\"M1270.0,266.5 L1278.0,254.5 1262.0,254.5\" fill=\"currentColor\"/>\n",
       "</g>\n",
       "\n",
       "<g class=\"displacy-arrow\">\n",
       "    <path class=\"displacy-arc\" id=\"arrow-e1cd21173eba45e9893eb19868a5f7c3-0-8\" stroke-width=\"2px\" d=\"M1295,264.5 C1295,177.0 1440.0,177.0 1440.0,264.5\" fill=\"none\" stroke=\"currentColor\"/>\n",
       "    <text dy=\"1.25em\" style=\"font-size: 0.8em; letter-spacing: 1px\">\n",
       "        <textPath xlink:href=\"#arrow-e1cd21173eba45e9893eb19868a5f7c3-0-8\" class=\"displacy-label\" startOffset=\"50%\" side=\"left\" fill=\"currentColor\" text-anchor=\"middle\">conj</textPath>\n",
       "    </text>\n",
       "    <path class=\"displacy-arrowhead\" d=\"M1440.0,266.5 L1448.0,254.5 1432.0,254.5\" fill=\"currentColor\"/>\n",
       "</g>\n",
       "\n",
       "<g class=\"displacy-arrow\">\n",
       "    <path class=\"displacy-arc\" id=\"arrow-e1cd21173eba45e9893eb19868a5f7c3-0-9\" stroke-width=\"2px\" d=\"M1470,264.5 C1470,177.0 1615.0,177.0 1615.0,264.5\" fill=\"none\" stroke=\"currentColor\"/>\n",
       "    <text dy=\"1.25em\" style=\"font-size: 0.8em; letter-spacing: 1px\">\n",
       "        <textPath xlink:href=\"#arrow-e1cd21173eba45e9893eb19868a5f7c3-0-9\" class=\"displacy-label\" startOffset=\"50%\" side=\"left\" fill=\"currentColor\" text-anchor=\"middle\">cc</textPath>\n",
       "    </text>\n",
       "    <path class=\"displacy-arrowhead\" d=\"M1615.0,266.5 L1623.0,254.5 1607.0,254.5\" fill=\"currentColor\"/>\n",
       "</g>\n",
       "\n",
       "<g class=\"displacy-arrow\">\n",
       "    <path class=\"displacy-arc\" id=\"arrow-e1cd21173eba45e9893eb19868a5f7c3-0-10\" stroke-width=\"2px\" d=\"M1470,264.5 C1470,89.5 1795.0,89.5 1795.0,264.5\" fill=\"none\" stroke=\"currentColor\"/>\n",
       "    <text dy=\"1.25em\" style=\"font-size: 0.8em; letter-spacing: 1px\">\n",
       "        <textPath xlink:href=\"#arrow-e1cd21173eba45e9893eb19868a5f7c3-0-10\" class=\"displacy-label\" startOffset=\"50%\" side=\"left\" fill=\"currentColor\" text-anchor=\"middle\">conj</textPath>\n",
       "    </text>\n",
       "    <path class=\"displacy-arrowhead\" d=\"M1795.0,266.5 L1803.0,254.5 1787.0,254.5\" fill=\"currentColor\"/>\n",
       "</g>\n",
       "\n",
       "<g class=\"displacy-arrow\">\n",
       "    <path class=\"displacy-arc\" id=\"arrow-e1cd21173eba45e9893eb19868a5f7c3-0-11\" stroke-width=\"2px\" d=\"M1995,264.5 C1995,177.0 2140.0,177.0 2140.0,264.5\" fill=\"none\" stroke=\"currentColor\"/>\n",
       "    <text dy=\"1.25em\" style=\"font-size: 0.8em; letter-spacing: 1px\">\n",
       "        <textPath xlink:href=\"#arrow-e1cd21173eba45e9893eb19868a5f7c3-0-11\" class=\"displacy-label\" startOffset=\"50%\" side=\"left\" fill=\"currentColor\" text-anchor=\"middle\">acomp</textPath>\n",
       "    </text>\n",
       "    <path class=\"displacy-arrowhead\" d=\"M2140.0,266.5 L2148.0,254.5 2132.0,254.5\" fill=\"currentColor\"/>\n",
       "</g>\n",
       "\n",
       "<g class=\"displacy-arrow\">\n",
       "    <path class=\"displacy-arc\" id=\"arrow-e1cd21173eba45e9893eb19868a5f7c3-0-12\" stroke-width=\"2px\" d=\"M2170,264.5 C2170,177.0 2315.0,177.0 2315.0,264.5\" fill=\"none\" stroke=\"currentColor\"/>\n",
       "    <text dy=\"1.25em\" style=\"font-size: 0.8em; letter-spacing: 1px\">\n",
       "        <textPath xlink:href=\"#arrow-e1cd21173eba45e9893eb19868a5f7c3-0-12\" class=\"displacy-label\" startOffset=\"50%\" side=\"left\" fill=\"currentColor\" text-anchor=\"middle\">prep</textPath>\n",
       "    </text>\n",
       "    <path class=\"displacy-arrowhead\" d=\"M2315.0,266.5 L2323.0,254.5 2307.0,254.5\" fill=\"currentColor\"/>\n",
       "</g>\n",
       "\n",
       "<g class=\"displacy-arrow\">\n",
       "    <path class=\"displacy-arc\" id=\"arrow-e1cd21173eba45e9893eb19868a5f7c3-0-13\" stroke-width=\"2px\" d=\"M2520,264.5 C2520,177.0 2665.0,177.0 2665.0,264.5\" fill=\"none\" stroke=\"currentColor\"/>\n",
       "    <text dy=\"1.25em\" style=\"font-size: 0.8em; letter-spacing: 1px\">\n",
       "        <textPath xlink:href=\"#arrow-e1cd21173eba45e9893eb19868a5f7c3-0-13\" class=\"displacy-label\" startOffset=\"50%\" side=\"left\" fill=\"currentColor\" text-anchor=\"middle\">det</textPath>\n",
       "    </text>\n",
       "    <path class=\"displacy-arrowhead\" d=\"M2520,266.5 L2512,254.5 2528,254.5\" fill=\"currentColor\"/>\n",
       "</g>\n",
       "\n",
       "<g class=\"displacy-arrow\">\n",
       "    <path class=\"displacy-arc\" id=\"arrow-e1cd21173eba45e9893eb19868a5f7c3-0-14\" stroke-width=\"2px\" d=\"M2345,264.5 C2345,89.5 2670.0,89.5 2670.0,264.5\" fill=\"none\" stroke=\"currentColor\"/>\n",
       "    <text dy=\"1.25em\" style=\"font-size: 0.8em; letter-spacing: 1px\">\n",
       "        <textPath xlink:href=\"#arrow-e1cd21173eba45e9893eb19868a5f7c3-0-14\" class=\"displacy-label\" startOffset=\"50%\" side=\"left\" fill=\"currentColor\" text-anchor=\"middle\">pobj</textPath>\n",
       "    </text>\n",
       "    <path class=\"displacy-arrowhead\" d=\"M2670.0,266.5 L2678.0,254.5 2662.0,254.5\" fill=\"currentColor\"/>\n",
       "</g>\n",
       "</svg>"
      ],
      "text/plain": [
       "<IPython.core.display.HTML object>"
      ]
     },
     "metadata": {},
     "output_type": "display_data"
    }
   ],
   "source": [
    "displacy.render(doc)"
   ]
  },
  {
   "cell_type": "code",
   "execution_count": 63,
   "metadata": {},
   "outputs": [
    {
     "data": {
      "text/plain": [
       "telesales"
      ]
     },
     "execution_count": 63,
     "metadata": {},
     "output_type": "execute_result"
    }
   ],
   "source": [
    "span = doc[4:5]\n",
    "span"
   ]
  },
  {
   "cell_type": "markdown",
   "metadata": {},
   "source": [
    "This function is a very crude approximation of Spacy's noun_chunks, to get an approximate noun phrase"
   ]
  },
  {
   "cell_type": "code",
   "execution_count": 64,
   "metadata": {},
   "outputs": [],
   "source": [
    "def get_left_span(tok, label='', include=True):\n",
    "    offset = 1 if include else 0\n",
    "    idx = tok.i\n",
    "    while idx > tok.left_edge.i:\n",
    "        if tok.doc[idx - 1].pos_ in ('NOUN', 'PROPN', 'ADJ', 'X'):\n",
    "            idx -= 1\n",
    "        else:\n",
    "            break\n",
    "    return label, idx, tok.i+offset"
   ]
  },
  {
   "cell_type": "code",
   "execution_count": 65,
   "metadata": {},
   "outputs": [
    {
     "data": {
      "text/plain": [
       "('', 1, 4)"
      ]
     },
     "execution_count": 65,
     "metadata": {},
     "output_type": "execute_result"
    }
   ],
   "source": [
    "get_left_span(nlp('The Subsea pipeline engineering')[-1])"
   ]
  },
  {
   "cell_type": "code",
   "execution_count": 66,
   "metadata": {},
   "outputs": [
    {
     "data": {
      "text/plain": [
       "('', 4, 5)"
      ]
     },
     "execution_count": 66,
     "metadata": {},
     "output_type": "execute_result"
    }
   ],
   "source": [
    "get_left_span(span.root)"
   ]
  },
  {
   "cell_type": "markdown",
   "metadata": {},
   "source": [
    "This function gets the children of the conjugation"
   ]
  },
  {
   "cell_type": "code",
   "execution_count": 67,
   "metadata": {},
   "outputs": [],
   "source": [
    "def get_conjugations(tok):\n",
    "    new = [tok]\n",
    "    while new:\n",
    "        tok = new.pop()\n",
    "        yield tok\n",
    "        for child in tok.children:\n",
    "            if child.dep_ == 'conj':\n",
    "                new.append(child)"
   ]
  },
  {
   "cell_type": "code",
   "execution_count": 68,
   "metadata": {},
   "outputs": [
    {
     "data": {
      "text/plain": [
       "[telesales, callcentre, service, receptionist, travel]"
      ]
     },
     "execution_count": 68,
     "metadata": {},
     "output_type": "execute_result"
    }
   ],
   "source": [
    "list(get_conjugations(span.root))"
   ]
  },
  {
   "cell_type": "markdown",
   "metadata": {},
   "source": [
    "And we then expand them by getting the left span"
   ]
  },
  {
   "cell_type": "code",
   "execution_count": 69,
   "metadata": {},
   "outputs": [
    {
     "data": {
      "text/plain": [
       "[telesales, callcentre, customer service, receptionist, travel]"
      ]
     },
     "execution_count": 69,
     "metadata": {},
     "output_type": "execute_result"
    }
   ],
   "source": [
    "[doc[start:end] for label, start, end in [get_left_span(tok) for tok in get_conjugations(span.root)]]"
   ]
  },
  {
   "cell_type": "markdown",
   "metadata": {},
   "source": [
    "Note we *could* expand with other related terms like 'proficiency' or 'ability' or 'skill', but we won't for now (because they don't occur as much)"
   ]
  },
  {
   "cell_type": "code",
   "execution_count": 70,
   "metadata": {},
   "outputs": [],
   "source": [
    "#old\n",
    "EXP_TERMS = ['experience']\n",
    "def extract_adp_conj_experience(doc, label='EXPERIENCE'):\n",
    "    for tok in doc:\n",
    "        if tok.lower_ in EXP_TERMS:\n",
    "            for child in tok.rights:\n",
    "                if child.dep_ == 'prep':\n",
    "                    for obj in child.children:\n",
    "                        if obj.dep_ == 'pobj':\n",
    "                            for conj in get_conjugations(obj):\n",
    "                                yield get_left_span(conj, label)"
   ]
  },
  {
   "cell_type": "markdown",
   "metadata": {},
   "source": [
    "That's much better; we still lose elaboration (such as), but we're extracting much more from lists.\n",
    "\n",
    "Notice that we're not getting Pioneer"
   ]
  },
  {
   "cell_type": "code",
   "execution_count": 71,
   "metadata": {},
   "outputs": [
    {
     "data": {
      "text/html": [
       "<div class=\"entities\" style=\"line-height: 2.5; direction: ltr\">They will need someone who has at least 1015 years of subsea cable engineering \n",
       "<mark class=\"entity\" style=\"background: pink; padding: 0.45em 0.6em; margin: 0 0.25em; line-height: 1; border-radius: 0.35em;\">\n",
       "    experience\n",
       "    <span style=\"font-size: 0.8em; font-weight: bold; line-height: 1; border-radius: 0.35em; text-transform: uppercase; vertical-align: middle; margin-left: 0.5rem\">MISSING</span>\n",
       "</mark>\n",
       "</div>"
      ],
      "text/plain": [
       "<IPython.core.display.HTML object>"
      ]
     },
     "metadata": {},
     "output_type": "display_data"
    },
    {
     "data": {
      "text/html": [
       "<div class=\"entities\" style=\"line-height: 2.5; direction: ltr\">This position is ideally suited to high calibre engineering graduate with significant and appropriate post graduate \n",
       "<mark class=\"entity\" style=\"background: pink; padding: 0.45em 0.6em; margin: 0 0.25em; line-height: 1; border-radius: 0.35em;\">\n",
       "    experience\n",
       "    <span style=\"font-size: 0.8em; font-weight: bold; line-height: 1; border-radius: 0.35em; text-transform: uppercase; vertical-align: middle; margin-left: 0.5rem\">MISSING</span>\n",
       "</mark>\n",
       ".</div>"
      ],
      "text/plain": [
       "<IPython.core.display.HTML object>"
      ]
     },
     "metadata": {},
     "output_type": "display_data"
    },
    {
     "data": {
      "text/html": [
       "<div class=\"entities\" style=\"line-height: 2.5; direction: ltr\">Aerospace industry \n",
       "<mark class=\"entity\" style=\"background: pink; padding: 0.45em 0.6em; margin: 0 0.25em; line-height: 1; border-radius: 0.35em;\">\n",
       "    experience\n",
       "    <span style=\"font-size: 0.8em; font-weight: bold; line-height: 1; border-radius: 0.35em; text-transform: uppercase; vertical-align: middle; margin-left: 0.5rem\">MISSING</span>\n",
       "</mark>\n",
       " would be advantageous covering aerostructures and/or aero engines.</div>"
      ],
      "text/plain": [
       "<IPython.core.display.HTML object>"
      ]
     },
     "metadata": {},
     "output_type": "display_data"
    },
    {
     "data": {
      "text/html": [
       "<div class=\"entities\" style=\"line-height: 2.5; direction: ltr\">A sufficient and appropriate level of building services and controls \n",
       "<mark class=\"entity\" style=\"background: pink; padding: 0.45em 0.6em; margin: 0 0.25em; line-height: 1; border-radius: 0.35em;\">\n",
       "    experience\n",
       "    <span style=\"font-size: 0.8em; font-weight: bold; line-height: 1; border-radius: 0.35em; text-transform: uppercase; vertical-align: middle; margin-left: 0.5rem\">MISSING</span>\n",
       "</mark>\n",
       " gained within a client organisation, engineering consultancy or equipment supplier.</div>"
      ],
      "text/plain": [
       "<IPython.core.display.HTML object>"
      ]
     },
     "metadata": {},
     "output_type": "display_data"
    },
    {
     "data": {
      "text/html": [
       "<div class=\"entities\" style=\"line-height: 2.5; direction: ltr\">Experience in Modelling and \n",
       "<mark class=\"entity\" style=\"background: lightgreen; padding: 0.45em 0.6em; margin: 0 0.25em; line-height: 1; border-radius: 0.35em;\">\n",
       "    Simulation Techniques\n",
       "    <span style=\"font-size: 0.8em; font-weight: bold; line-height: 1; border-radius: 0.35em; text-transform: uppercase; vertical-align: middle; margin-left: 0.5rem\">EXPERIENCE</span>\n",
       "</mark>\n",
       "</div>"
      ],
      "text/plain": [
       "<IPython.core.display.HTML object>"
      ]
     },
     "metadata": {},
     "output_type": "display_data"
    },
    {
     "data": {
      "text/html": [
       "<div class=\"entities\" style=\"line-height: 2.5; direction: ltr\">Any experience of Pioneer or \n",
       "<mark class=\"entity\" style=\"background: lightgreen; padding: 0.45em 0.6em; margin: 0 0.25em; line-height: 1; border-radius: 0.35em;\">\n",
       "    Miser software\n",
       "    <span style=\"font-size: 0.8em; font-weight: bold; line-height: 1; border-radius: 0.35em; text-transform: uppercase; vertical-align: middle; margin-left: 0.5rem\">EXPERIENCE</span>\n",
       "</mark>\n",
       " would be an advantage.</div>"
      ],
      "text/plain": [
       "<IPython.core.display.HTML object>"
      ]
     },
     "metadata": {},
     "output_type": "display_data"
    },
    {
     "data": {
      "text/html": [
       "<div class=\"entities\" style=\"line-height: 2.5; direction: ltr\">For this role, you must have a minimum of 10 years experience in \n",
       "<mark class=\"entity\" style=\"background: lightgreen; padding: 0.45em 0.6em; margin: 0 0.25em; line-height: 1; border-radius: 0.35em;\">\n",
       "    subsea engineering\n",
       "    <span style=\"font-size: 0.8em; font-weight: bold; line-height: 1; border-radius: 0.35em; text-transform: uppercase; vertical-align: middle; margin-left: 0.5rem\">EXPERIENCE</span>\n",
       "</mark>\n",
       ", pipelines design or construction.</div>"
      ],
      "text/plain": [
       "<IPython.core.display.HTML object>"
      ]
     },
     "metadata": {},
     "output_type": "display_data"
    },
    {
     "data": {
      "text/html": [
       "<div class=\"entities\" style=\"line-height: 2.5; direction: ltr\">Has experience within the \n",
       "<mark class=\"entity\" style=\"background: lightgreen; padding: 0.45em 0.6em; margin: 0 0.25em; line-height: 1; border-radius: 0.35em;\">\n",
       "    quality department\n",
       "    <span style=\"font-size: 0.8em; font-weight: bold; line-height: 1; border-radius: 0.35em; text-transform: uppercase; vertical-align: middle; margin-left: 0.5rem\">EXPERIENCE</span>\n",
       "</mark>\n",
       " of a related company in a similar role Ideally from a mechanical or manufacturing engineering background.</div>"
      ],
      "text/plain": [
       "<IPython.core.display.HTML object>"
      ]
     },
     "metadata": {},
     "output_type": "display_data"
    },
    {
     "data": {
      "text/html": [
       "<div class=\"entities\" style=\"line-height: 2.5; direction: ltr\">and have experience of the \n",
       "<mark class=\"entity\" style=\"background: lightgreen; padding: 0.45em 0.6em; margin: 0 0.25em; line-height: 1; border-radius: 0.35em;\">\n",
       "    technical leadership\n",
       "    <span style=\"font-size: 0.8em; font-weight: bold; line-height: 1; border-radius: 0.35em; text-transform: uppercase; vertical-align: middle; margin-left: 0.5rem\">EXPERIENCE</span>\n",
       "</mark>\n",
       " of projects to time, quality and cost objectives.</div>"
      ],
      "text/plain": [
       "<IPython.core.display.HTML object>"
      ]
     },
     "metadata": {},
     "output_type": "display_data"
    },
    {
     "data": {
      "text/html": [
       "<div class=\"entities\" style=\"line-height: 2.5; direction: ltr\">Experience of protection and \n",
       "<mark class=\"entity\" style=\"background: lightgreen; padding: 0.45em 0.6em; margin: 0 0.25em; line-height: 1; border-radius: 0.35em;\">\n",
       "    control design\n",
       "    <span style=\"font-size: 0.8em; font-weight: bold; line-height: 1; border-radius: 0.35em; text-transform: uppercase; vertical-align: middle; margin-left: 0.5rem\">EXPERIENCE</span>\n",
       "</mark>\n",
       " at Transmission and Distribution voltages.</div>"
      ],
      "text/plain": [
       "<IPython.core.display.HTML object>"
      ]
     },
     "metadata": {},
     "output_type": "display_data"
    },
    {
     "data": {
      "text/html": [
       "<div class=\"entities\" style=\"line-height: 2.5; direction: ltr\">Candidates with experience in \n",
       "<mark class=\"entity\" style=\"background: lightgreen; padding: 0.45em 0.6em; margin: 0 0.25em; line-height: 1; border-radius: 0.35em;\">\n",
       "    telesales\n",
       "    <span style=\"font-size: 0.8em; font-weight: bold; line-height: 1; border-radius: 0.35em; text-transform: uppercase; vertical-align: middle; margin-left: 0.5rem\">EXPERIENCE</span>\n",
       "</mark>\n",
       ", \n",
       "<mark class=\"entity\" style=\"background: lightgreen; padding: 0.45em 0.6em; margin: 0 0.25em; line-height: 1; border-radius: 0.35em;\">\n",
       "    callcentre\n",
       "    <span style=\"font-size: 0.8em; font-weight: bold; line-height: 1; border-radius: 0.35em; text-transform: uppercase; vertical-align: middle; margin-left: 0.5rem\">EXPERIENCE</span>\n",
       "</mark>\n",
       ", \n",
       "<mark class=\"entity\" style=\"background: lightgreen; padding: 0.45em 0.6em; margin: 0 0.25em; line-height: 1; border-radius: 0.35em;\">\n",
       "    customer service\n",
       "    <span style=\"font-size: 0.8em; font-weight: bold; line-height: 1; border-radius: 0.35em; text-transform: uppercase; vertical-align: middle; margin-left: 0.5rem\">EXPERIENCE</span>\n",
       "</mark>\n",
       ", \n",
       "<mark class=\"entity\" style=\"background: lightgreen; padding: 0.45em 0.6em; margin: 0 0.25em; line-height: 1; border-radius: 0.35em;\">\n",
       "    receptionist\n",
       "    <span style=\"font-size: 0.8em; font-weight: bold; line-height: 1; border-radius: 0.35em; text-transform: uppercase; vertical-align: middle; margin-left: 0.5rem\">EXPERIENCE</span>\n",
       "</mark>\n",
       " or \n",
       "<mark class=\"entity\" style=\"background: lightgreen; padding: 0.45em 0.6em; margin: 0 0.25em; line-height: 1; border-radius: 0.35em;\">\n",
       "    travel\n",
       "    <span style=\"font-size: 0.8em; font-weight: bold; line-height: 1; border-radius: 0.35em; text-transform: uppercase; vertical-align: middle; margin-left: 0.5rem\">EXPERIENCE</span>\n",
       "</mark>\n",
       " are ideal for this role</div>"
      ],
      "text/plain": [
       "<IPython.core.display.HTML object>"
      ]
     },
     "metadata": {},
     "output_type": "display_data"
    },
    {
     "data": {
      "text/html": [
       "<div class=\"entities\" style=\"line-height: 2.5; direction: ltr\">\n",
       "<mark class=\"entity\" style=\"background: pink; padding: 0.45em 0.6em; margin: 0 0.25em; line-height: 1; border-radius: 0.35em;\">\n",
       "    Experience\n",
       "    <span style=\"font-size: 0.8em; font-weight: bold; line-height: 1; border-radius: 0.35em; text-transform: uppercase; vertical-align: middle; margin-left: 0.5rem\">MISSING</span>\n",
       "</mark>\n",
       " dealing with business clients (B2B) would be preferable.</div>"
      ],
      "text/plain": [
       "<IPython.core.display.HTML object>"
      ]
     },
     "metadata": {},
     "output_type": "display_data"
    },
    {
     "data": {
      "text/html": [
       "<div class=\"entities\" style=\"line-height: 2.5; direction: ltr\">Previous \n",
       "<mark class=\"entity\" style=\"background: pink; padding: 0.45em 0.6em; margin: 0 0.25em; line-height: 1; border-radius: 0.35em;\">\n",
       "    experience\n",
       "    <span style=\"font-size: 0.8em; font-weight: bold; line-height: 1; border-radius: 0.35em; text-transform: uppercase; vertical-align: middle; margin-left: 0.5rem\">MISSING</span>\n",
       "</mark>\n",
       " working as a Chef de Partie in a one AA Rosette hotel is needed for the position.</div>"
      ],
      "text/plain": [
       "<IPython.core.display.HTML object>"
      ]
     },
     "metadata": {},
     "output_type": "display_data"
    },
    {
     "data": {
      "text/html": [
       "<div class=\"entities\" style=\"line-height: 2.5; direction: ltr\">The post holder must hold as a minimum Level 1 in Trampolining (British Gymnastics) and have \n",
       "<mark class=\"entity\" style=\"background: pink; padding: 0.45em 0.6em; margin: 0 0.25em; line-height: 1; border-radius: 0.35em;\">\n",
       "    experience\n",
       "    <span style=\"font-size: 0.8em; font-weight: bold; line-height: 1; border-radius: 0.35em; text-transform: uppercase; vertical-align: middle; margin-left: 0.5rem\">MISSING</span>\n",
       "</mark>\n",
       " in working with children, be fun, outgoing and have excellent customer service skills and be able to instruct in line with the British Gymnastics syllabus.</div>"
      ],
      "text/plain": [
       "<IPython.core.display.HTML object>"
      ]
     },
     "metadata": {},
     "output_type": "display_data"
    },
    {
     "data": {
      "text/html": [
       "<div class=\"entities\" style=\"line-height: 2.5; direction: ltr\">Experience of \n",
       "<mark class=\"entity\" style=\"background: lightgreen; padding: 0.45em 0.6em; margin: 0 0.25em; line-height: 1; border-radius: 0.35em;\">\n",
       "    techniques\n",
       "    <span style=\"font-size: 0.8em; font-weight: bold; line-height: 1; border-radius: 0.35em; text-transform: uppercase; vertical-align: middle; margin-left: 0.5rem\">EXPERIENCE</span>\n",
       "</mark>\n",
       " such as Discrete Event Simulation and/or SD modelling Mathematical/scientific background</div>"
      ],
      "text/plain": [
       "<IPython.core.display.HTML object>"
      ]
     },
     "metadata": {},
     "output_type": "display_data"
    }
   ],
   "source": [
    "show_extraction(examples, extract_adp_conj_experience)"
   ]
  },
  {
   "cell_type": "markdown",
   "metadata": {},
   "source": [
    "The reason we don't get Pioneer is the sentence\n",
    "\n",
    ">    Any experience of Pioneer or Miser software would be an advantage.\n",
    "\n",
    "really means\n",
    "\n",
    ">    Any experience of Pioneer **software** or Miser software would be an advantage.\n",
    "\n",
    "but we don't have any way to reconstruct the missing word (yet)"
   ]
  },
  {
   "cell_type": "code",
   "execution_count": 72,
   "metadata": {},
   "outputs": [
    {
     "data": {
      "text/html": [
       "<svg xmlns=\"http://www.w3.org/2000/svg\" xmlns:xlink=\"http://www.w3.org/1999/xlink\" xml:lang=\"en\" id=\"5310b271066943d38bf2acd2210b481d-0\" class=\"displacy\" width=\"1975\" height=\"574.5\" direction=\"ltr\" style=\"max-width: none; height: 574.5px; color: #000000; background: #ffffff; font-family: Arial; direction: ltr\">\n",
       "<text class=\"displacy-token\" fill=\"currentColor\" text-anchor=\"middle\" y=\"484.5\">\n",
       "    <tspan class=\"displacy-word\" fill=\"currentColor\" x=\"50\">Any</tspan>\n",
       "    <tspan class=\"displacy-tag\" dy=\"2em\" fill=\"currentColor\" x=\"50\">DET</tspan>\n",
       "</text>\n",
       "\n",
       "<text class=\"displacy-token\" fill=\"currentColor\" text-anchor=\"middle\" y=\"484.5\">\n",
       "    <tspan class=\"displacy-word\" fill=\"currentColor\" x=\"225\">experience</tspan>\n",
       "    <tspan class=\"displacy-tag\" dy=\"2em\" fill=\"currentColor\" x=\"225\">NOUN</tspan>\n",
       "</text>\n",
       "\n",
       "<text class=\"displacy-token\" fill=\"currentColor\" text-anchor=\"middle\" y=\"484.5\">\n",
       "    <tspan class=\"displacy-word\" fill=\"currentColor\" x=\"400\">of</tspan>\n",
       "    <tspan class=\"displacy-tag\" dy=\"2em\" fill=\"currentColor\" x=\"400\">ADP</tspan>\n",
       "</text>\n",
       "\n",
       "<text class=\"displacy-token\" fill=\"currentColor\" text-anchor=\"middle\" y=\"484.5\">\n",
       "    <tspan class=\"displacy-word\" fill=\"currentColor\" x=\"575\">Pioneer</tspan>\n",
       "    <tspan class=\"displacy-tag\" dy=\"2em\" fill=\"currentColor\" x=\"575\">PROPN</tspan>\n",
       "</text>\n",
       "\n",
       "<text class=\"displacy-token\" fill=\"currentColor\" text-anchor=\"middle\" y=\"484.5\">\n",
       "    <tspan class=\"displacy-word\" fill=\"currentColor\" x=\"750\">or</tspan>\n",
       "    <tspan class=\"displacy-tag\" dy=\"2em\" fill=\"currentColor\" x=\"750\">CCONJ</tspan>\n",
       "</text>\n",
       "\n",
       "<text class=\"displacy-token\" fill=\"currentColor\" text-anchor=\"middle\" y=\"484.5\">\n",
       "    <tspan class=\"displacy-word\" fill=\"currentColor\" x=\"925\">Miser</tspan>\n",
       "    <tspan class=\"displacy-tag\" dy=\"2em\" fill=\"currentColor\" x=\"925\">PROPN</tspan>\n",
       "</text>\n",
       "\n",
       "<text class=\"displacy-token\" fill=\"currentColor\" text-anchor=\"middle\" y=\"484.5\">\n",
       "    <tspan class=\"displacy-word\" fill=\"currentColor\" x=\"1100\">software</tspan>\n",
       "    <tspan class=\"displacy-tag\" dy=\"2em\" fill=\"currentColor\" x=\"1100\">NOUN</tspan>\n",
       "</text>\n",
       "\n",
       "<text class=\"displacy-token\" fill=\"currentColor\" text-anchor=\"middle\" y=\"484.5\">\n",
       "    <tspan class=\"displacy-word\" fill=\"currentColor\" x=\"1275\">would</tspan>\n",
       "    <tspan class=\"displacy-tag\" dy=\"2em\" fill=\"currentColor\" x=\"1275\">VERB</tspan>\n",
       "</text>\n",
       "\n",
       "<text class=\"displacy-token\" fill=\"currentColor\" text-anchor=\"middle\" y=\"484.5\">\n",
       "    <tspan class=\"displacy-word\" fill=\"currentColor\" x=\"1450\">be</tspan>\n",
       "    <tspan class=\"displacy-tag\" dy=\"2em\" fill=\"currentColor\" x=\"1450\">AUX</tspan>\n",
       "</text>\n",
       "\n",
       "<text class=\"displacy-token\" fill=\"currentColor\" text-anchor=\"middle\" y=\"484.5\">\n",
       "    <tspan class=\"displacy-word\" fill=\"currentColor\" x=\"1625\">an</tspan>\n",
       "    <tspan class=\"displacy-tag\" dy=\"2em\" fill=\"currentColor\" x=\"1625\">DET</tspan>\n",
       "</text>\n",
       "\n",
       "<text class=\"displacy-token\" fill=\"currentColor\" text-anchor=\"middle\" y=\"484.5\">\n",
       "    <tspan class=\"displacy-word\" fill=\"currentColor\" x=\"1800\">advantage.</tspan>\n",
       "    <tspan class=\"displacy-tag\" dy=\"2em\" fill=\"currentColor\" x=\"1800\">NOUN</tspan>\n",
       "</text>\n",
       "\n",
       "<g class=\"displacy-arrow\">\n",
       "    <path class=\"displacy-arc\" id=\"arrow-5310b271066943d38bf2acd2210b481d-0-0\" stroke-width=\"2px\" d=\"M70,439.5 C70,352.0 205.0,352.0 205.0,439.5\" fill=\"none\" stroke=\"currentColor\"/>\n",
       "    <text dy=\"1.25em\" style=\"font-size: 0.8em; letter-spacing: 1px\">\n",
       "        <textPath xlink:href=\"#arrow-5310b271066943d38bf2acd2210b481d-0-0\" class=\"displacy-label\" startOffset=\"50%\" side=\"left\" fill=\"currentColor\" text-anchor=\"middle\">det</textPath>\n",
       "    </text>\n",
       "    <path class=\"displacy-arrowhead\" d=\"M70,441.5 L62,429.5 78,429.5\" fill=\"currentColor\"/>\n",
       "</g>\n",
       "\n",
       "<g class=\"displacy-arrow\">\n",
       "    <path class=\"displacy-arc\" id=\"arrow-5310b271066943d38bf2acd2210b481d-0-1\" stroke-width=\"2px\" d=\"M245,439.5 C245,2.0 1450.0,2.0 1450.0,439.5\" fill=\"none\" stroke=\"currentColor\"/>\n",
       "    <text dy=\"1.25em\" style=\"font-size: 0.8em; letter-spacing: 1px\">\n",
       "        <textPath xlink:href=\"#arrow-5310b271066943d38bf2acd2210b481d-0-1\" class=\"displacy-label\" startOffset=\"50%\" side=\"left\" fill=\"currentColor\" text-anchor=\"middle\">nsubj</textPath>\n",
       "    </text>\n",
       "    <path class=\"displacy-arrowhead\" d=\"M245,441.5 L237,429.5 253,429.5\" fill=\"currentColor\"/>\n",
       "</g>\n",
       "\n",
       "<g class=\"displacy-arrow\">\n",
       "    <path class=\"displacy-arc\" id=\"arrow-5310b271066943d38bf2acd2210b481d-0-2\" stroke-width=\"2px\" d=\"M245,439.5 C245,352.0 380.0,352.0 380.0,439.5\" fill=\"none\" stroke=\"currentColor\"/>\n",
       "    <text dy=\"1.25em\" style=\"font-size: 0.8em; letter-spacing: 1px\">\n",
       "        <textPath xlink:href=\"#arrow-5310b271066943d38bf2acd2210b481d-0-2\" class=\"displacy-label\" startOffset=\"50%\" side=\"left\" fill=\"currentColor\" text-anchor=\"middle\">prep</textPath>\n",
       "    </text>\n",
       "    <path class=\"displacy-arrowhead\" d=\"M380.0,441.5 L388.0,429.5 372.0,429.5\" fill=\"currentColor\"/>\n",
       "</g>\n",
       "\n",
       "<g class=\"displacy-arrow\">\n",
       "    <path class=\"displacy-arc\" id=\"arrow-5310b271066943d38bf2acd2210b481d-0-3\" stroke-width=\"2px\" d=\"M595,439.5 C595,177.0 1090.0,177.0 1090.0,439.5\" fill=\"none\" stroke=\"currentColor\"/>\n",
       "    <text dy=\"1.25em\" style=\"font-size: 0.8em; letter-spacing: 1px\">\n",
       "        <textPath xlink:href=\"#arrow-5310b271066943d38bf2acd2210b481d-0-3\" class=\"displacy-label\" startOffset=\"50%\" side=\"left\" fill=\"currentColor\" text-anchor=\"middle\">nmod</textPath>\n",
       "    </text>\n",
       "    <path class=\"displacy-arrowhead\" d=\"M595,441.5 L587,429.5 603,429.5\" fill=\"currentColor\"/>\n",
       "</g>\n",
       "\n",
       "<g class=\"displacy-arrow\">\n",
       "    <path class=\"displacy-arc\" id=\"arrow-5310b271066943d38bf2acd2210b481d-0-4\" stroke-width=\"2px\" d=\"M595,439.5 C595,352.0 730.0,352.0 730.0,439.5\" fill=\"none\" stroke=\"currentColor\"/>\n",
       "    <text dy=\"1.25em\" style=\"font-size: 0.8em; letter-spacing: 1px\">\n",
       "        <textPath xlink:href=\"#arrow-5310b271066943d38bf2acd2210b481d-0-4\" class=\"displacy-label\" startOffset=\"50%\" side=\"left\" fill=\"currentColor\" text-anchor=\"middle\">cc</textPath>\n",
       "    </text>\n",
       "    <path class=\"displacy-arrowhead\" d=\"M730.0,441.5 L738.0,429.5 722.0,429.5\" fill=\"currentColor\"/>\n",
       "</g>\n",
       "\n",
       "<g class=\"displacy-arrow\">\n",
       "    <path class=\"displacy-arc\" id=\"arrow-5310b271066943d38bf2acd2210b481d-0-5\" stroke-width=\"2px\" d=\"M595,439.5 C595,264.5 910.0,264.5 910.0,439.5\" fill=\"none\" stroke=\"currentColor\"/>\n",
       "    <text dy=\"1.25em\" style=\"font-size: 0.8em; letter-spacing: 1px\">\n",
       "        <textPath xlink:href=\"#arrow-5310b271066943d38bf2acd2210b481d-0-5\" class=\"displacy-label\" startOffset=\"50%\" side=\"left\" fill=\"currentColor\" text-anchor=\"middle\">conj</textPath>\n",
       "    </text>\n",
       "    <path class=\"displacy-arrowhead\" d=\"M910.0,441.5 L918.0,429.5 902.0,429.5\" fill=\"currentColor\"/>\n",
       "</g>\n",
       "\n",
       "<g class=\"displacy-arrow\">\n",
       "    <path class=\"displacy-arc\" id=\"arrow-5310b271066943d38bf2acd2210b481d-0-6\" stroke-width=\"2px\" d=\"M420,439.5 C420,89.5 1095.0,89.5 1095.0,439.5\" fill=\"none\" stroke=\"currentColor\"/>\n",
       "    <text dy=\"1.25em\" style=\"font-size: 0.8em; letter-spacing: 1px\">\n",
       "        <textPath xlink:href=\"#arrow-5310b271066943d38bf2acd2210b481d-0-6\" class=\"displacy-label\" startOffset=\"50%\" side=\"left\" fill=\"currentColor\" text-anchor=\"middle\">pobj</textPath>\n",
       "    </text>\n",
       "    <path class=\"displacy-arrowhead\" d=\"M1095.0,441.5 L1103.0,429.5 1087.0,429.5\" fill=\"currentColor\"/>\n",
       "</g>\n",
       "\n",
       "<g class=\"displacy-arrow\">\n",
       "    <path class=\"displacy-arc\" id=\"arrow-5310b271066943d38bf2acd2210b481d-0-7\" stroke-width=\"2px\" d=\"M1295,439.5 C1295,352.0 1430.0,352.0 1430.0,439.5\" fill=\"none\" stroke=\"currentColor\"/>\n",
       "    <text dy=\"1.25em\" style=\"font-size: 0.8em; letter-spacing: 1px\">\n",
       "        <textPath xlink:href=\"#arrow-5310b271066943d38bf2acd2210b481d-0-7\" class=\"displacy-label\" startOffset=\"50%\" side=\"left\" fill=\"currentColor\" text-anchor=\"middle\">aux</textPath>\n",
       "    </text>\n",
       "    <path class=\"displacy-arrowhead\" d=\"M1295,441.5 L1287,429.5 1303,429.5\" fill=\"currentColor\"/>\n",
       "</g>\n",
       "\n",
       "<g class=\"displacy-arrow\">\n",
       "    <path class=\"displacy-arc\" id=\"arrow-5310b271066943d38bf2acd2210b481d-0-8\" stroke-width=\"2px\" d=\"M1645,439.5 C1645,352.0 1780.0,352.0 1780.0,439.5\" fill=\"none\" stroke=\"currentColor\"/>\n",
       "    <text dy=\"1.25em\" style=\"font-size: 0.8em; letter-spacing: 1px\">\n",
       "        <textPath xlink:href=\"#arrow-5310b271066943d38bf2acd2210b481d-0-8\" class=\"displacy-label\" startOffset=\"50%\" side=\"left\" fill=\"currentColor\" text-anchor=\"middle\">det</textPath>\n",
       "    </text>\n",
       "    <path class=\"displacy-arrowhead\" d=\"M1645,441.5 L1637,429.5 1653,429.5\" fill=\"currentColor\"/>\n",
       "</g>\n",
       "\n",
       "<g class=\"displacy-arrow\">\n",
       "    <path class=\"displacy-arc\" id=\"arrow-5310b271066943d38bf2acd2210b481d-0-9\" stroke-width=\"2px\" d=\"M1470,439.5 C1470,264.5 1785.0,264.5 1785.0,439.5\" fill=\"none\" stroke=\"currentColor\"/>\n",
       "    <text dy=\"1.25em\" style=\"font-size: 0.8em; letter-spacing: 1px\">\n",
       "        <textPath xlink:href=\"#arrow-5310b271066943d38bf2acd2210b481d-0-9\" class=\"displacy-label\" startOffset=\"50%\" side=\"left\" fill=\"currentColor\" text-anchor=\"middle\">attr</textPath>\n",
       "    </text>\n",
       "    <path class=\"displacy-arrowhead\" d=\"M1785.0,441.5 L1793.0,429.5 1777.0,429.5\" fill=\"currentColor\"/>\n",
       "</g>\n",
       "</svg>"
      ],
      "text/plain": [
       "<IPython.core.display.HTML object>"
      ]
     },
     "metadata": {},
     "output_type": "display_data"
    }
   ],
   "source": [
    "doc = nlp('Any experience of Pioneer or Miser software would be an advantage.')\n",
    "\n",
    "displacy.render(doc)"
   ]
  },
  {
   "cell_type": "code",
   "execution_count": 73,
   "metadata": {},
   "outputs": [
    {
     "data": {
      "text/html": [
       "<div class=\"entities\" style=\"line-height: 2.5; direction: ltr\">Any experience of \n",
       "<mark class=\"entity\" style=\"background: lightgreen; padding: 0.45em 0.6em; margin: 0 0.25em; line-height: 1; border-radius: 0.35em;\">\n",
       "    Pioneer software\n",
       "    <span style=\"font-size: 0.8em; font-weight: bold; line-height: 1; border-radius: 0.35em; text-transform: uppercase; vertical-align: middle; margin-left: 0.5rem\">EXPERIENCE</span>\n",
       "</mark>\n",
       " or \n",
       "<mark class=\"entity\" style=\"background: lightgreen; padding: 0.45em 0.6em; margin: 0 0.25em; line-height: 1; border-radius: 0.35em;\">\n",
       "    Miser software\n",
       "    <span style=\"font-size: 0.8em; font-weight: bold; line-height: 1; border-radius: 0.35em; text-transform: uppercase; vertical-align: middle; margin-left: 0.5rem\">EXPERIENCE</span>\n",
       "</mark>\n",
       " would be an advantage.</div>"
      ],
      "text/plain": [
       "<IPython.core.display.HTML object>"
      ]
     },
     "metadata": {},
     "output_type": "display_data"
    }
   ],
   "source": [
    "show_extraction(['Any experience of Pioneer software or Miser software would be an advantage.'], extract_adp_conj_experience)"
   ]
  },
  {
   "cell_type": "code",
   "execution_count": 74,
   "metadata": {},
   "outputs": [
    {
     "data": {
      "text/html": [
       "<svg xmlns=\"http://www.w3.org/2000/svg\" xmlns:xlink=\"http://www.w3.org/1999/xlink\" xml:lang=\"en\" id=\"9f21c924e4744d578f28f51640f53f25-0\" class=\"displacy\" width=\"2150\" height=\"487.0\" direction=\"ltr\" style=\"max-width: none; height: 487.0px; color: #000000; background: #ffffff; font-family: Arial; direction: ltr\">\n",
       "<text class=\"displacy-token\" fill=\"currentColor\" text-anchor=\"middle\" y=\"397.0\">\n",
       "    <tspan class=\"displacy-word\" fill=\"currentColor\" x=\"50\">Any</tspan>\n",
       "    <tspan class=\"displacy-tag\" dy=\"2em\" fill=\"currentColor\" x=\"50\">DET</tspan>\n",
       "</text>\n",
       "\n",
       "<text class=\"displacy-token\" fill=\"currentColor\" text-anchor=\"middle\" y=\"397.0\">\n",
       "    <tspan class=\"displacy-word\" fill=\"currentColor\" x=\"225\">experience</tspan>\n",
       "    <tspan class=\"displacy-tag\" dy=\"2em\" fill=\"currentColor\" x=\"225\">NOUN</tspan>\n",
       "</text>\n",
       "\n",
       "<text class=\"displacy-token\" fill=\"currentColor\" text-anchor=\"middle\" y=\"397.0\">\n",
       "    <tspan class=\"displacy-word\" fill=\"currentColor\" x=\"400\">of</tspan>\n",
       "    <tspan class=\"displacy-tag\" dy=\"2em\" fill=\"currentColor\" x=\"400\">ADP</tspan>\n",
       "</text>\n",
       "\n",
       "<text class=\"displacy-token\" fill=\"currentColor\" text-anchor=\"middle\" y=\"397.0\">\n",
       "    <tspan class=\"displacy-word\" fill=\"currentColor\" x=\"575\">Pioneer</tspan>\n",
       "    <tspan class=\"displacy-tag\" dy=\"2em\" fill=\"currentColor\" x=\"575\">PROPN</tspan>\n",
       "</text>\n",
       "\n",
       "<text class=\"displacy-token\" fill=\"currentColor\" text-anchor=\"middle\" y=\"397.0\">\n",
       "    <tspan class=\"displacy-word\" fill=\"currentColor\" x=\"750\">software</tspan>\n",
       "    <tspan class=\"displacy-tag\" dy=\"2em\" fill=\"currentColor\" x=\"750\">NOUN</tspan>\n",
       "</text>\n",
       "\n",
       "<text class=\"displacy-token\" fill=\"currentColor\" text-anchor=\"middle\" y=\"397.0\">\n",
       "    <tspan class=\"displacy-word\" fill=\"currentColor\" x=\"925\">or</tspan>\n",
       "    <tspan class=\"displacy-tag\" dy=\"2em\" fill=\"currentColor\" x=\"925\">CCONJ</tspan>\n",
       "</text>\n",
       "\n",
       "<text class=\"displacy-token\" fill=\"currentColor\" text-anchor=\"middle\" y=\"397.0\">\n",
       "    <tspan class=\"displacy-word\" fill=\"currentColor\" x=\"1100\">Miser</tspan>\n",
       "    <tspan class=\"displacy-tag\" dy=\"2em\" fill=\"currentColor\" x=\"1100\">PROPN</tspan>\n",
       "</text>\n",
       "\n",
       "<text class=\"displacy-token\" fill=\"currentColor\" text-anchor=\"middle\" y=\"397.0\">\n",
       "    <tspan class=\"displacy-word\" fill=\"currentColor\" x=\"1275\">software</tspan>\n",
       "    <tspan class=\"displacy-tag\" dy=\"2em\" fill=\"currentColor\" x=\"1275\">NOUN</tspan>\n",
       "</text>\n",
       "\n",
       "<text class=\"displacy-token\" fill=\"currentColor\" text-anchor=\"middle\" y=\"397.0\">\n",
       "    <tspan class=\"displacy-word\" fill=\"currentColor\" x=\"1450\">would</tspan>\n",
       "    <tspan class=\"displacy-tag\" dy=\"2em\" fill=\"currentColor\" x=\"1450\">VERB</tspan>\n",
       "</text>\n",
       "\n",
       "<text class=\"displacy-token\" fill=\"currentColor\" text-anchor=\"middle\" y=\"397.0\">\n",
       "    <tspan class=\"displacy-word\" fill=\"currentColor\" x=\"1625\">be</tspan>\n",
       "    <tspan class=\"displacy-tag\" dy=\"2em\" fill=\"currentColor\" x=\"1625\">AUX</tspan>\n",
       "</text>\n",
       "\n",
       "<text class=\"displacy-token\" fill=\"currentColor\" text-anchor=\"middle\" y=\"397.0\">\n",
       "    <tspan class=\"displacy-word\" fill=\"currentColor\" x=\"1800\">an</tspan>\n",
       "    <tspan class=\"displacy-tag\" dy=\"2em\" fill=\"currentColor\" x=\"1800\">DET</tspan>\n",
       "</text>\n",
       "\n",
       "<text class=\"displacy-token\" fill=\"currentColor\" text-anchor=\"middle\" y=\"397.0\">\n",
       "    <tspan class=\"displacy-word\" fill=\"currentColor\" x=\"1975\">advantage.</tspan>\n",
       "    <tspan class=\"displacy-tag\" dy=\"2em\" fill=\"currentColor\" x=\"1975\">NOUN</tspan>\n",
       "</text>\n",
       "\n",
       "<g class=\"displacy-arrow\">\n",
       "    <path class=\"displacy-arc\" id=\"arrow-9f21c924e4744d578f28f51640f53f25-0-0\" stroke-width=\"2px\" d=\"M70,352.0 C70,264.5 210.0,264.5 210.0,352.0\" fill=\"none\" stroke=\"currentColor\"/>\n",
       "    <text dy=\"1.25em\" style=\"font-size: 0.8em; letter-spacing: 1px\">\n",
       "        <textPath xlink:href=\"#arrow-9f21c924e4744d578f28f51640f53f25-0-0\" class=\"displacy-label\" startOffset=\"50%\" side=\"left\" fill=\"currentColor\" text-anchor=\"middle\">det</textPath>\n",
       "    </text>\n",
       "    <path class=\"displacy-arrowhead\" d=\"M70,354.0 L62,342.0 78,342.0\" fill=\"currentColor\"/>\n",
       "</g>\n",
       "\n",
       "<g class=\"displacy-arrow\">\n",
       "    <path class=\"displacy-arc\" id=\"arrow-9f21c924e4744d578f28f51640f53f25-0-1\" stroke-width=\"2px\" d=\"M245,352.0 C245,2.0 1625.0,2.0 1625.0,352.0\" fill=\"none\" stroke=\"currentColor\"/>\n",
       "    <text dy=\"1.25em\" style=\"font-size: 0.8em; letter-spacing: 1px\">\n",
       "        <textPath xlink:href=\"#arrow-9f21c924e4744d578f28f51640f53f25-0-1\" class=\"displacy-label\" startOffset=\"50%\" side=\"left\" fill=\"currentColor\" text-anchor=\"middle\">nsubj</textPath>\n",
       "    </text>\n",
       "    <path class=\"displacy-arrowhead\" d=\"M245,354.0 L237,342.0 253,342.0\" fill=\"currentColor\"/>\n",
       "</g>\n",
       "\n",
       "<g class=\"displacy-arrow\">\n",
       "    <path class=\"displacy-arc\" id=\"arrow-9f21c924e4744d578f28f51640f53f25-0-2\" stroke-width=\"2px\" d=\"M245,352.0 C245,264.5 385.0,264.5 385.0,352.0\" fill=\"none\" stroke=\"currentColor\"/>\n",
       "    <text dy=\"1.25em\" style=\"font-size: 0.8em; letter-spacing: 1px\">\n",
       "        <textPath xlink:href=\"#arrow-9f21c924e4744d578f28f51640f53f25-0-2\" class=\"displacy-label\" startOffset=\"50%\" side=\"left\" fill=\"currentColor\" text-anchor=\"middle\">prep</textPath>\n",
       "    </text>\n",
       "    <path class=\"displacy-arrowhead\" d=\"M385.0,354.0 L393.0,342.0 377.0,342.0\" fill=\"currentColor\"/>\n",
       "</g>\n",
       "\n",
       "<g class=\"displacy-arrow\">\n",
       "    <path class=\"displacy-arc\" id=\"arrow-9f21c924e4744d578f28f51640f53f25-0-3\" stroke-width=\"2px\" d=\"M595,352.0 C595,264.5 735.0,264.5 735.0,352.0\" fill=\"none\" stroke=\"currentColor\"/>\n",
       "    <text dy=\"1.25em\" style=\"font-size: 0.8em; letter-spacing: 1px\">\n",
       "        <textPath xlink:href=\"#arrow-9f21c924e4744d578f28f51640f53f25-0-3\" class=\"displacy-label\" startOffset=\"50%\" side=\"left\" fill=\"currentColor\" text-anchor=\"middle\">compound</textPath>\n",
       "    </text>\n",
       "    <path class=\"displacy-arrowhead\" d=\"M595,354.0 L587,342.0 603,342.0\" fill=\"currentColor\"/>\n",
       "</g>\n",
       "\n",
       "<g class=\"displacy-arrow\">\n",
       "    <path class=\"displacy-arc\" id=\"arrow-9f21c924e4744d578f28f51640f53f25-0-4\" stroke-width=\"2px\" d=\"M420,352.0 C420,177.0 740.0,177.0 740.0,352.0\" fill=\"none\" stroke=\"currentColor\"/>\n",
       "    <text dy=\"1.25em\" style=\"font-size: 0.8em; letter-spacing: 1px\">\n",
       "        <textPath xlink:href=\"#arrow-9f21c924e4744d578f28f51640f53f25-0-4\" class=\"displacy-label\" startOffset=\"50%\" side=\"left\" fill=\"currentColor\" text-anchor=\"middle\">pobj</textPath>\n",
       "    </text>\n",
       "    <path class=\"displacy-arrowhead\" d=\"M740.0,354.0 L748.0,342.0 732.0,342.0\" fill=\"currentColor\"/>\n",
       "</g>\n",
       "\n",
       "<g class=\"displacy-arrow\">\n",
       "    <path class=\"displacy-arc\" id=\"arrow-9f21c924e4744d578f28f51640f53f25-0-5\" stroke-width=\"2px\" d=\"M770,352.0 C770,264.5 910.0,264.5 910.0,352.0\" fill=\"none\" stroke=\"currentColor\"/>\n",
       "    <text dy=\"1.25em\" style=\"font-size: 0.8em; letter-spacing: 1px\">\n",
       "        <textPath xlink:href=\"#arrow-9f21c924e4744d578f28f51640f53f25-0-5\" class=\"displacy-label\" startOffset=\"50%\" side=\"left\" fill=\"currentColor\" text-anchor=\"middle\">cc</textPath>\n",
       "    </text>\n",
       "    <path class=\"displacy-arrowhead\" d=\"M910.0,354.0 L918.0,342.0 902.0,342.0\" fill=\"currentColor\"/>\n",
       "</g>\n",
       "\n",
       "<g class=\"displacy-arrow\">\n",
       "    <path class=\"displacy-arc\" id=\"arrow-9f21c924e4744d578f28f51640f53f25-0-6\" stroke-width=\"2px\" d=\"M1120,352.0 C1120,264.5 1260.0,264.5 1260.0,352.0\" fill=\"none\" stroke=\"currentColor\"/>\n",
       "    <text dy=\"1.25em\" style=\"font-size: 0.8em; letter-spacing: 1px\">\n",
       "        <textPath xlink:href=\"#arrow-9f21c924e4744d578f28f51640f53f25-0-6\" class=\"displacy-label\" startOffset=\"50%\" side=\"left\" fill=\"currentColor\" text-anchor=\"middle\">compound</textPath>\n",
       "    </text>\n",
       "    <path class=\"displacy-arrowhead\" d=\"M1120,354.0 L1112,342.0 1128,342.0\" fill=\"currentColor\"/>\n",
       "</g>\n",
       "\n",
       "<g class=\"displacy-arrow\">\n",
       "    <path class=\"displacy-arc\" id=\"arrow-9f21c924e4744d578f28f51640f53f25-0-7\" stroke-width=\"2px\" d=\"M770,352.0 C770,89.5 1270.0,89.5 1270.0,352.0\" fill=\"none\" stroke=\"currentColor\"/>\n",
       "    <text dy=\"1.25em\" style=\"font-size: 0.8em; letter-spacing: 1px\">\n",
       "        <textPath xlink:href=\"#arrow-9f21c924e4744d578f28f51640f53f25-0-7\" class=\"displacy-label\" startOffset=\"50%\" side=\"left\" fill=\"currentColor\" text-anchor=\"middle\">conj</textPath>\n",
       "    </text>\n",
       "    <path class=\"displacy-arrowhead\" d=\"M1270.0,354.0 L1278.0,342.0 1262.0,342.0\" fill=\"currentColor\"/>\n",
       "</g>\n",
       "\n",
       "<g class=\"displacy-arrow\">\n",
       "    <path class=\"displacy-arc\" id=\"arrow-9f21c924e4744d578f28f51640f53f25-0-8\" stroke-width=\"2px\" d=\"M1470,352.0 C1470,264.5 1610.0,264.5 1610.0,352.0\" fill=\"none\" stroke=\"currentColor\"/>\n",
       "    <text dy=\"1.25em\" style=\"font-size: 0.8em; letter-spacing: 1px\">\n",
       "        <textPath xlink:href=\"#arrow-9f21c924e4744d578f28f51640f53f25-0-8\" class=\"displacy-label\" startOffset=\"50%\" side=\"left\" fill=\"currentColor\" text-anchor=\"middle\">aux</textPath>\n",
       "    </text>\n",
       "    <path class=\"displacy-arrowhead\" d=\"M1470,354.0 L1462,342.0 1478,342.0\" fill=\"currentColor\"/>\n",
       "</g>\n",
       "\n",
       "<g class=\"displacy-arrow\">\n",
       "    <path class=\"displacy-arc\" id=\"arrow-9f21c924e4744d578f28f51640f53f25-0-9\" stroke-width=\"2px\" d=\"M1820,352.0 C1820,264.5 1960.0,264.5 1960.0,352.0\" fill=\"none\" stroke=\"currentColor\"/>\n",
       "    <text dy=\"1.25em\" style=\"font-size: 0.8em; letter-spacing: 1px\">\n",
       "        <textPath xlink:href=\"#arrow-9f21c924e4744d578f28f51640f53f25-0-9\" class=\"displacy-label\" startOffset=\"50%\" side=\"left\" fill=\"currentColor\" text-anchor=\"middle\">det</textPath>\n",
       "    </text>\n",
       "    <path class=\"displacy-arrowhead\" d=\"M1820,354.0 L1812,342.0 1828,342.0\" fill=\"currentColor\"/>\n",
       "</g>\n",
       "\n",
       "<g class=\"displacy-arrow\">\n",
       "    <path class=\"displacy-arc\" id=\"arrow-9f21c924e4744d578f28f51640f53f25-0-10\" stroke-width=\"2px\" d=\"M1645,352.0 C1645,177.0 1965.0,177.0 1965.0,352.0\" fill=\"none\" stroke=\"currentColor\"/>\n",
       "    <text dy=\"1.25em\" style=\"font-size: 0.8em; letter-spacing: 1px\">\n",
       "        <textPath xlink:href=\"#arrow-9f21c924e4744d578f28f51640f53f25-0-10\" class=\"displacy-label\" startOffset=\"50%\" side=\"left\" fill=\"currentColor\" text-anchor=\"middle\">attr</textPath>\n",
       "    </text>\n",
       "    <path class=\"displacy-arrowhead\" d=\"M1965.0,354.0 L1973.0,342.0 1957.0,342.0\" fill=\"currentColor\"/>\n",
       "</g>\n",
       "</svg>"
      ],
      "text/plain": [
       "<IPython.core.display.HTML object>"
      ]
     },
     "metadata": {},
     "output_type": "display_data"
    }
   ],
   "source": [
    "doc = nlp('Any experience of Pioneer software or Miser software would be an advantage.')\n",
    "\n",
    "displacy.render(doc)"
   ]
  },
  {
   "cell_type": "markdown",
   "metadata": {},
   "source": [
    "Looking at a sample of ads it works alright"
   ]
  },
  {
   "cell_type": "code",
   "execution_count": 75,
   "metadata": {},
   "outputs": [
    {
     "data": {
      "text/html": [
       "<div class=\"entities\" style=\"line-height: 2.5; direction: ltr\">The roles are ideally suited to high calibre engineering graduates with any level of appropriate \n",
       "<mark class=\"entity\" style=\"background: pink; padding: 0.45em 0.6em; margin: 0 0.25em; line-height: 1; border-radius: 0.35em;\">\n",
       "    experience\n",
       "    <span style=\"font-size: 0.8em; font-weight: bold; line-height: 1; border-radius: 0.35em; text-transform: uppercase; vertical-align: middle; margin-left: 0.5rem\">MISSING</span>\n",
       "</mark>\n",
       ", so that we can give you the opportunity to use your technical skills to provide high quality input to our aerospace projects, spanning both aerostructures and aeroengines. </div>"
      ],
      "text/plain": [
       "<IPython.core.display.HTML object>"
      ]
     },
     "metadata": {},
     "output_type": "display_data"
    },
    {
     "data": {
      "text/html": [
       "<div class=\"entities\" style=\"line-height: 2.5; direction: ltr\">The Requirements You will need to have a good engineering degree that includes structural analysis (such as aeronautical, mechanical, automotive, civil) with some experience in a \n",
       "<mark class=\"entity\" style=\"background: lightgreen; padding: 0.45em 0.6em; margin: 0 0.25em; line-height: 1; border-radius: 0.35em;\">\n",
       "    professional engineering environment\n",
       "    <span style=\"font-size: 0.8em; font-weight: bold; line-height: 1; border-radius: 0.35em; text-transform: uppercase; vertical-align: middle; margin-left: 0.5rem\">EXPERIENCE</span>\n",
       "</mark>\n",
       " relevant to (but not limited to) </div>"
      ],
      "text/plain": [
       "<IPython.core.display.HTML object>"
      ]
     },
     "metadata": {},
     "output_type": "display_data"
    },
    {
     "data": {
      "text/html": [
       "<div class=\"entities\" style=\"line-height: 2.5; direction: ltr\">You will need to demonstrate \n",
       "<mark class=\"entity\" style=\"background: pink; padding: 0.45em 0.6em; margin: 0 0.25em; line-height: 1; border-radius: 0.35em;\">\n",
       "    experience\n",
       "    <span style=\"font-size: 0.8em; font-weight: bold; line-height: 1; border-radius: 0.35em; text-transform: uppercase; vertical-align: middle; margin-left: 0.5rem\">MISSING</span>\n",
       "</mark>\n",
       " in at least one or more of the following areas: </div>"
      ],
      "text/plain": [
       "<IPython.core.display.HTML object>"
      ]
     },
     "metadata": {},
     "output_type": "display_data"
    },
    {
     "data": {
      "text/html": [
       "<div class=\"entities\" style=\"line-height: 2.5; direction: ltr\">Aerostructures \n",
       "<mark class=\"entity\" style=\"background: pink; padding: 0.45em 0.6em; margin: 0 0.25em; line-height: 1; border-radius: 0.35em;\">\n",
       "    experience\n",
       "    <span style=\"font-size: 0.8em; font-weight: bold; line-height: 1; border-radius: 0.35em; text-transform: uppercase; vertical-align: middle; margin-left: 0.5rem\">MISSING</span>\n",
       "</mark>\n",
       " You will also be expected to demonstrate the following qualities: A strong desire to progress quickly to a position of leadership Professional approach Strong communication skills, written and verbal Commercial awareness Team working, being comfortable working in international teams and self managing </div>"
      ],
      "text/plain": [
       "<IPython.core.display.HTML object>"
      ]
     },
     "metadata": {},
     "output_type": "display_data"
    },
    {
     "data": {
      "text/html": [
       "<div class=\"entities\" style=\"line-height: 2.5; direction: ltr\">*K AAE pension contribution, private medical and dental The opportunity Our client is an independent consultancy firm which has an opportunity for a Data Analyst with 35 years \n",
       "<mark class=\"entity\" style=\"background: pink; padding: 0.45em 0.6em; margin: 0 0.25em; line-height: 1; border-radius: 0.35em;\">\n",
       "    experience\n",
       "    <span style=\"font-size: 0.8em; font-weight: bold; line-height: 1; border-radius: 0.35em; text-transform: uppercase; vertical-align: middle; margin-left: 0.5rem\">MISSING</span>\n",
       "</mark>\n",
       ". </div>"
      ],
      "text/plain": [
       "<IPython.core.display.HTML object>"
      ]
     },
     "metadata": {},
     "output_type": "display_data"
    },
    {
     "data": {
      "text/html": [
       "<div class=\"entities\" style=\"line-height: 2.5; direction: ltr\">Thorough knowledge of Excel and proven ability to utilise this to create powerful decision support models Experience in Modelling and \n",
       "<mark class=\"entity\" style=\"background: lightgreen; padding: 0.45em 0.6em; margin: 0 0.25em; line-height: 1; border-radius: 0.35em;\">\n",
       "    Simulation Techniques\n",
       "    <span style=\"font-size: 0.8em; font-weight: bold; line-height: 1; border-radius: 0.35em; text-transform: uppercase; vertical-align: middle; margin-left: 0.5rem\">EXPERIENCE</span>\n",
       "</mark>\n",
       ", Experience of \n",
       "<mark class=\"entity\" style=\"background: lightgreen; padding: 0.45em 0.6em; margin: 0 0.25em; line-height: 1; border-radius: 0.35em;\">\n",
       "    techniques\n",
       "    <span style=\"font-size: 0.8em; font-weight: bold; line-height: 1; border-radius: 0.35em; text-transform: uppercase; vertical-align: middle; margin-left: 0.5rem\">EXPERIENCE</span>\n",
       "</mark>\n",
       " such as Discrete Event Simulation and/or SD modelling Mathematical/scientific background  </div>"
      ],
      "text/plain": [
       "<IPython.core.display.HTML object>"
      ]
     },
     "metadata": {},
     "output_type": "display_data"
    },
    {
     "data": {
      "text/html": [
       "<div class=\"entities\" style=\"line-height: 2.5; direction: ltr\">In addition to formal qualifications and \n",
       "<mark class=\"entity\" style=\"background: pink; padding: 0.45em 0.6em; margin: 0 0.25em; line-height: 1; border-radius: 0.35em;\">\n",
       "    experience\n",
       "    <span style=\"font-size: 0.8em; font-weight: bold; line-height: 1; border-radius: 0.35em; text-transform: uppercase; vertical-align: middle; margin-left: 0.5rem\">MISSING</span>\n",
       "</mark>\n",
       ", the successful candidate will require excellent written and verbal communication skills, be energetic, enterprising and have a determination to succeed. </div>"
      ],
      "text/plain": [
       "<IPython.core.display.HTML object>"
      ]
     },
     "metadata": {},
     "output_type": "display_data"
    },
    {
     "data": {
      "text/html": [
       "<div class=\"entities\" style=\"line-height: 2.5; direction: ltr\">This role will be working within a small team working on the modelling of water industry asset deterioration and asset failure consequences, including the uploading of these models onto industryleading optimal asset management software Strong maths, stats and IT skills needed, Any previous experience within the \n",
       "<mark class=\"entity\" style=\"background: lightgreen; padding: 0.45em 0.6em; margin: 0 0.25em; line-height: 1; border-radius: 0.35em;\">\n",
       "    Water industry\n",
       "    <span style=\"font-size: 0.8em; font-weight: bold; line-height: 1; border-radius: 0.35em; text-transform: uppercase; vertical-align: middle; margin-left: 0.5rem\">EXPERIENCE</span>\n",
       "</mark>\n",
       " would be an advantage. </div>"
      ],
      "text/plain": [
       "<IPython.core.display.HTML object>"
      ]
     },
     "metadata": {},
     "output_type": "display_data"
    },
    {
     "data": {
      "text/html": [
       "<div class=\"entities\" style=\"line-height: 2.5; direction: ltr\">Any experience of Pioneer or \n",
       "<mark class=\"entity\" style=\"background: lightgreen; padding: 0.45em 0.6em; margin: 0 0.25em; line-height: 1; border-radius: 0.35em;\">\n",
       "    Miser software\n",
       "    <span style=\"font-size: 0.8em; font-weight: bold; line-height: 1; border-radius: 0.35em; text-transform: uppercase; vertical-align: middle; margin-left: 0.5rem\">EXPERIENCE</span>\n",
       "</mark>\n",
       " would be an advantage. </div>"
      ],
      "text/plain": [
       "<IPython.core.display.HTML object>"
      ]
     },
     "metadata": {},
     "output_type": "display_data"
    },
    {
     "data": {
      "text/html": [
       "<div class=\"entities\" style=\"line-height: 2.5; direction: ltr\">For this role, you must have a minimum of 10 years experience in \n",
       "<mark class=\"entity\" style=\"background: lightgreen; padding: 0.45em 0.6em; margin: 0 0.25em; line-height: 1; border-radius: 0.35em;\">\n",
       "    subsea engineering\n",
       "    <span style=\"font-size: 0.8em; font-weight: bold; line-height: 1; border-radius: 0.35em; text-transform: uppercase; vertical-align: middle; margin-left: 0.5rem\">EXPERIENCE</span>\n",
       "</mark>\n",
       ", pipelines design or construction. </div>"
      ],
      "text/plain": [
       "<IPython.core.display.HTML object>"
      ]
     },
     "metadata": {},
     "output_type": "display_data"
    },
    {
     "data": {
      "text/html": [
       "<div class=\"entities\" style=\"line-height: 2.5; direction: ltr\">Naturally positive and looking for the opportunity to work for a national player who are committed to your success Recruitment \n",
       "<mark class=\"entity\" style=\"background: pink; padding: 0.45em 0.6em; margin: 0 0.25em; line-height: 1; border-radius: 0.35em;\">\n",
       "    experience\n",
       "    <span style=\"font-size: 0.8em; font-weight: bold; line-height: 1; border-radius: 0.35em; text-transform: uppercase; vertical-align: middle; margin-left: 0.5rem\">MISSING</span>\n",
       "</mark>\n",
       " or 2 years business to business sales experience required. </div>"
      ],
      "text/plain": [
       "<IPython.core.display.HTML object>"
      ]
     },
     "metadata": {},
     "output_type": "display_data"
    },
    {
     "data": {
      "text/html": [
       "<div class=\"entities\" style=\"line-height: 2.5; direction: ltr\">This is an exceptional opportunity to join a construction / technical agency that hasn t shrunk in the current market one bit Our client is seeking a nononsense and highly skilled Recruiter with at least a couple of years experience under their \n",
       "<mark class=\"entity\" style=\"background: lightgreen; padding: 0.45em 0.6em; margin: 0 0.25em; line-height: 1; border-radius: 0.35em;\">\n",
       "    belt\n",
       "    <span style=\"font-size: 0.8em; font-weight: bold; line-height: 1; border-radius: 0.35em; text-transform: uppercase; vertical-align: middle; margin-left: 0.5rem\">EXPERIENCE</span>\n",
       "</mark>\n",
       ". </div>"
      ],
      "text/plain": [
       "<IPython.core.display.HTML object>"
      ]
     },
     "metadata": {},
     "output_type": "display_data"
    },
    {
     "data": {
      "text/html": [
       "<div class=\"entities\" style=\"line-height: 2.5; direction: ltr\">They will need someone who has at least 1015 years of subsea cable engineering experience with significant experience within offshore oil and \n",
       "<mark class=\"entity\" style=\"background: lightgreen; padding: 0.45em 0.6em; margin: 0 0.25em; line-height: 1; border-radius: 0.35em;\">\n",
       "    gas industries\n",
       "    <span style=\"font-size: 0.8em; font-weight: bold; line-height: 1; border-radius: 0.35em; text-transform: uppercase; vertical-align: middle; margin-left: 0.5rem\">EXPERIENCE</span>\n",
       "</mark>\n",
       ". </div>"
      ],
      "text/plain": [
       "<IPython.core.display.HTML object>"
      ]
     },
     "metadata": {},
     "output_type": "display_data"
    }
   ],
   "source": [
    "show_extraction(ads[:10], extract_adp_conj_experience)"
   ]
  },
  {
   "cell_type": "markdown",
   "metadata": {},
   "source": [
    "### Extracting Verbs followed by Adposition"
   ]
  },
  {
   "cell_type": "markdown",
   "metadata": {},
   "source": [
    "Notice something like 'Experience dealing with business clients' we have a verb followed by an adposition followed by the Noun. We can generate complex rules to parse things like this."
   ]
  },
  {
   "cell_type": "code",
   "execution_count": 76,
   "metadata": {},
   "outputs": [],
   "source": [
    "def extract_verb_maybeadj_noun_experience(doc, label='EXPERIENCE'):\n",
    "    for tok in doc:\n",
    "        if tok.lower_ in EXP_TERMS:\n",
    "            for child in tok.rights:\n",
    "                if child.dep_ == 'acl':\n",
    "                    for gc in child.children:\n",
    "                        if gc.dep_ == 'prep':\n",
    "                            for ggc in gc.children:\n",
    "                                if ggc.dep_ == 'pobj':\n",
    "                                    for c in get_conjugations(ggc):\n",
    "                                        yield get_left_span(c, 'EXPERIENCE')\n",
    "                        elif gc.dep_ == 'dobj':\n",
    "                            for c in get_conjugations(gc):\n",
    "                                yield get_left_span(c, 'EXPERIENCE')"
   ]
  },
  {
   "cell_type": "markdown",
   "metadata": {},
   "source": [
    "This works pretty well, when the parse works well"
   ]
  },
  {
   "cell_type": "code",
   "execution_count": 77,
   "metadata": {},
   "outputs": [
    {
     "data": {
      "text/html": [
       "<div class=\"entities\" style=\"line-height: 2.5; direction: ltr\">They will need someone who has at least 1015 years of subsea cable engineering \n",
       "<mark class=\"entity\" style=\"background: pink; padding: 0.45em 0.6em; margin: 0 0.25em; line-height: 1; border-radius: 0.35em;\">\n",
       "    experience\n",
       "    <span style=\"font-size: 0.8em; font-weight: bold; line-height: 1; border-radius: 0.35em; text-transform: uppercase; vertical-align: middle; margin-left: 0.5rem\">MISSING</span>\n",
       "</mark>\n",
       "</div>"
      ],
      "text/plain": [
       "<IPython.core.display.HTML object>"
      ]
     },
     "metadata": {},
     "output_type": "display_data"
    },
    {
     "data": {
      "text/html": [
       "<div class=\"entities\" style=\"line-height: 2.5; direction: ltr\">This position is ideally suited to high calibre engineering graduate with significant and appropriate post graduate \n",
       "<mark class=\"entity\" style=\"background: pink; padding: 0.45em 0.6em; margin: 0 0.25em; line-height: 1; border-radius: 0.35em;\">\n",
       "    experience\n",
       "    <span style=\"font-size: 0.8em; font-weight: bold; line-height: 1; border-radius: 0.35em; text-transform: uppercase; vertical-align: middle; margin-left: 0.5rem\">MISSING</span>\n",
       "</mark>\n",
       ".</div>"
      ],
      "text/plain": [
       "<IPython.core.display.HTML object>"
      ]
     },
     "metadata": {},
     "output_type": "display_data"
    },
    {
     "data": {
      "text/html": [
       "<div class=\"entities\" style=\"line-height: 2.5; direction: ltr\">Aerospace industry \n",
       "<mark class=\"entity\" style=\"background: pink; padding: 0.45em 0.6em; margin: 0 0.25em; line-height: 1; border-radius: 0.35em;\">\n",
       "    experience\n",
       "    <span style=\"font-size: 0.8em; font-weight: bold; line-height: 1; border-radius: 0.35em; text-transform: uppercase; vertical-align: middle; margin-left: 0.5rem\">MISSING</span>\n",
       "</mark>\n",
       " would be advantageous covering aerostructures and/or aero engines.</div>"
      ],
      "text/plain": [
       "<IPython.core.display.HTML object>"
      ]
     },
     "metadata": {},
     "output_type": "display_data"
    },
    {
     "data": {
      "text/html": [
       "<div class=\"entities\" style=\"line-height: 2.5; direction: ltr\">A sufficient and appropriate level of building services and controls experience gained within a \n",
       "<mark class=\"entity\" style=\"background: lightgreen; padding: 0.45em 0.6em; margin: 0 0.25em; line-height: 1; border-radius: 0.35em;\">\n",
       "    client organisation\n",
       "    <span style=\"font-size: 0.8em; font-weight: bold; line-height: 1; border-radius: 0.35em; text-transform: uppercase; vertical-align: middle; margin-left: 0.5rem\">EXPERIENCE</span>\n",
       "</mark>\n",
       ", \n",
       "<mark class=\"entity\" style=\"background: lightgreen; padding: 0.45em 0.6em; margin: 0 0.25em; line-height: 1; border-radius: 0.35em;\">\n",
       "    engineering consultancy\n",
       "    <span style=\"font-size: 0.8em; font-weight: bold; line-height: 1; border-radius: 0.35em; text-transform: uppercase; vertical-align: middle; margin-left: 0.5rem\">EXPERIENCE</span>\n",
       "</mark>\n",
       " or \n",
       "<mark class=\"entity\" style=\"background: lightgreen; padding: 0.45em 0.6em; margin: 0 0.25em; line-height: 1; border-radius: 0.35em;\">\n",
       "    equipment supplier\n",
       "    <span style=\"font-size: 0.8em; font-weight: bold; line-height: 1; border-radius: 0.35em; text-transform: uppercase; vertical-align: middle; margin-left: 0.5rem\">EXPERIENCE</span>\n",
       "</mark>\n",
       ".</div>"
      ],
      "text/plain": [
       "<IPython.core.display.HTML object>"
      ]
     },
     "metadata": {},
     "output_type": "display_data"
    },
    {
     "data": {
      "text/html": [
       "<div class=\"entities\" style=\"line-height: 2.5; direction: ltr\">\n",
       "<mark class=\"entity\" style=\"background: pink; padding: 0.45em 0.6em; margin: 0 0.25em; line-height: 1; border-radius: 0.35em;\">\n",
       "    Experience\n",
       "    <span style=\"font-size: 0.8em; font-weight: bold; line-height: 1; border-radius: 0.35em; text-transform: uppercase; vertical-align: middle; margin-left: 0.5rem\">MISSING</span>\n",
       "</mark>\n",
       " in Modelling and Simulation Techniques</div>"
      ],
      "text/plain": [
       "<IPython.core.display.HTML object>"
      ]
     },
     "metadata": {},
     "output_type": "display_data"
    },
    {
     "data": {
      "text/html": [
       "<div class=\"entities\" style=\"line-height: 2.5; direction: ltr\">Any \n",
       "<mark class=\"entity\" style=\"background: pink; padding: 0.45em 0.6em; margin: 0 0.25em; line-height: 1; border-radius: 0.35em;\">\n",
       "    experience\n",
       "    <span style=\"font-size: 0.8em; font-weight: bold; line-height: 1; border-radius: 0.35em; text-transform: uppercase; vertical-align: middle; margin-left: 0.5rem\">MISSING</span>\n",
       "</mark>\n",
       " of Pioneer or Miser software would be an advantage.</div>"
      ],
      "text/plain": [
       "<IPython.core.display.HTML object>"
      ]
     },
     "metadata": {},
     "output_type": "display_data"
    },
    {
     "data": {
      "text/html": [
       "<div class=\"entities\" style=\"line-height: 2.5; direction: ltr\">For this role, you must have a minimum of 10 years \n",
       "<mark class=\"entity\" style=\"background: pink; padding: 0.45em 0.6em; margin: 0 0.25em; line-height: 1; border-radius: 0.35em;\">\n",
       "    experience\n",
       "    <span style=\"font-size: 0.8em; font-weight: bold; line-height: 1; border-radius: 0.35em; text-transform: uppercase; vertical-align: middle; margin-left: 0.5rem\">MISSING</span>\n",
       "</mark>\n",
       " in subsea engineering, pipelines design or construction.</div>"
      ],
      "text/plain": [
       "<IPython.core.display.HTML object>"
      ]
     },
     "metadata": {},
     "output_type": "display_data"
    },
    {
     "data": {
      "text/html": [
       "<div class=\"entities\" style=\"line-height: 2.5; direction: ltr\">Has \n",
       "<mark class=\"entity\" style=\"background: pink; padding: 0.45em 0.6em; margin: 0 0.25em; line-height: 1; border-radius: 0.35em;\">\n",
       "    experience\n",
       "    <span style=\"font-size: 0.8em; font-weight: bold; line-height: 1; border-radius: 0.35em; text-transform: uppercase; vertical-align: middle; margin-left: 0.5rem\">MISSING</span>\n",
       "</mark>\n",
       " within the quality department of a related company in a similar role Ideally from a mechanical or manufacturing engineering background.</div>"
      ],
      "text/plain": [
       "<IPython.core.display.HTML object>"
      ]
     },
     "metadata": {},
     "output_type": "display_data"
    },
    {
     "data": {
      "text/html": [
       "<div class=\"entities\" style=\"line-height: 2.5; direction: ltr\">and have \n",
       "<mark class=\"entity\" style=\"background: pink; padding: 0.45em 0.6em; margin: 0 0.25em; line-height: 1; border-radius: 0.35em;\">\n",
       "    experience\n",
       "    <span style=\"font-size: 0.8em; font-weight: bold; line-height: 1; border-radius: 0.35em; text-transform: uppercase; vertical-align: middle; margin-left: 0.5rem\">MISSING</span>\n",
       "</mark>\n",
       " of the technical leadership of projects to time, quality and cost objectives.</div>"
      ],
      "text/plain": [
       "<IPython.core.display.HTML object>"
      ]
     },
     "metadata": {},
     "output_type": "display_data"
    },
    {
     "data": {
      "text/html": [
       "<div class=\"entities\" style=\"line-height: 2.5; direction: ltr\">\n",
       "<mark class=\"entity\" style=\"background: pink; padding: 0.45em 0.6em; margin: 0 0.25em; line-height: 1; border-radius: 0.35em;\">\n",
       "    Experience\n",
       "    <span style=\"font-size: 0.8em; font-weight: bold; line-height: 1; border-radius: 0.35em; text-transform: uppercase; vertical-align: middle; margin-left: 0.5rem\">MISSING</span>\n",
       "</mark>\n",
       " of protection and control design at Transmission and Distribution voltages.</div>"
      ],
      "text/plain": [
       "<IPython.core.display.HTML object>"
      ]
     },
     "metadata": {},
     "output_type": "display_data"
    },
    {
     "data": {
      "text/html": [
       "<div class=\"entities\" style=\"line-height: 2.5; direction: ltr\">Candidates with \n",
       "<mark class=\"entity\" style=\"background: pink; padding: 0.45em 0.6em; margin: 0 0.25em; line-height: 1; border-radius: 0.35em;\">\n",
       "    experience\n",
       "    <span style=\"font-size: 0.8em; font-weight: bold; line-height: 1; border-radius: 0.35em; text-transform: uppercase; vertical-align: middle; margin-left: 0.5rem\">MISSING</span>\n",
       "</mark>\n",
       " in telesales, callcentre, customer service, receptionist or travel are ideal for this role</div>"
      ],
      "text/plain": [
       "<IPython.core.display.HTML object>"
      ]
     },
     "metadata": {},
     "output_type": "display_data"
    },
    {
     "data": {
      "text/html": [
       "<div class=\"entities\" style=\"line-height: 2.5; direction: ltr\">Experience dealing with \n",
       "<mark class=\"entity\" style=\"background: lightgreen; padding: 0.45em 0.6em; margin: 0 0.25em; line-height: 1; border-radius: 0.35em;\">\n",
       "    business clients\n",
       "    <span style=\"font-size: 0.8em; font-weight: bold; line-height: 1; border-radius: 0.35em; text-transform: uppercase; vertical-align: middle; margin-left: 0.5rem\">EXPERIENCE</span>\n",
       "</mark>\n",
       " (B2B) would be preferable.</div>"
      ],
      "text/plain": [
       "<IPython.core.display.HTML object>"
      ]
     },
     "metadata": {},
     "output_type": "display_data"
    },
    {
     "data": {
      "text/html": [
       "<div class=\"entities\" style=\"line-height: 2.5; direction: ltr\">Previous experience working as a \n",
       "<mark class=\"entity\" style=\"background: lightgreen; padding: 0.45em 0.6em; margin: 0 0.25em; line-height: 1; border-radius: 0.35em;\">\n",
       "    Chef de Partie\n",
       "    <span style=\"font-size: 0.8em; font-weight: bold; line-height: 1; border-radius: 0.35em; text-transform: uppercase; vertical-align: middle; margin-left: 0.5rem\">EXPERIENCE</span>\n",
       "</mark>\n",
       " in a one \n",
       "<mark class=\"entity\" style=\"background: lightgreen; padding: 0.45em 0.6em; margin: 0 0.25em; line-height: 1; border-radius: 0.35em;\">\n",
       "    AA Rosette hotel\n",
       "    <span style=\"font-size: 0.8em; font-weight: bold; line-height: 1; border-radius: 0.35em; text-transform: uppercase; vertical-align: middle; margin-left: 0.5rem\">EXPERIENCE</span>\n",
       "</mark>\n",
       " is needed for the position.</div>"
      ],
      "text/plain": [
       "<IPython.core.display.HTML object>"
      ]
     },
     "metadata": {},
     "output_type": "display_data"
    },
    {
     "data": {
      "text/html": [
       "<div class=\"entities\" style=\"line-height: 2.5; direction: ltr\">The post holder must hold as a minimum Level 1 in Trampolining (British Gymnastics) and have \n",
       "<mark class=\"entity\" style=\"background: pink; padding: 0.45em 0.6em; margin: 0 0.25em; line-height: 1; border-radius: 0.35em;\">\n",
       "    experience\n",
       "    <span style=\"font-size: 0.8em; font-weight: bold; line-height: 1; border-radius: 0.35em; text-transform: uppercase; vertical-align: middle; margin-left: 0.5rem\">MISSING</span>\n",
       "</mark>\n",
       " in working with children, be fun, outgoing and have excellent customer service skills and be able to instruct in line with the British Gymnastics syllabus.</div>"
      ],
      "text/plain": [
       "<IPython.core.display.HTML object>"
      ]
     },
     "metadata": {},
     "output_type": "display_data"
    },
    {
     "data": {
      "text/html": [
       "<div class=\"entities\" style=\"line-height: 2.5; direction: ltr\">\n",
       "<mark class=\"entity\" style=\"background: pink; padding: 0.45em 0.6em; margin: 0 0.25em; line-height: 1; border-radius: 0.35em;\">\n",
       "    Experience\n",
       "    <span style=\"font-size: 0.8em; font-weight: bold; line-height: 1; border-radius: 0.35em; text-transform: uppercase; vertical-align: middle; margin-left: 0.5rem\">MISSING</span>\n",
       "</mark>\n",
       " of techniques such as Discrete Event Simulation and/or SD modelling Mathematical/scientific background</div>"
      ],
      "text/plain": [
       "<IPython.core.display.HTML object>"
      ]
     },
     "metadata": {},
     "output_type": "display_data"
    }
   ],
   "source": [
    "show_extraction(examples, extract_verb_maybeadj_noun_experience)"
   ]
  },
  {
   "cell_type": "markdown",
   "metadata": {},
   "source": [
    "## Extracting types of experience accross all job ads"
   ]
  },
  {
   "cell_type": "markdown",
   "metadata": {},
   "source": [
    "Let's just focus on the cleanest rule"
   ]
  },
  {
   "cell_type": "code",
   "execution_count": 78,
   "metadata": {},
   "outputs": [],
   "source": [
    "extract_exps = [extract_adp_conj_experience,]"
   ]
  },
  {
   "cell_type": "markdown",
   "metadata": {},
   "source": [
    "Most of the false positives are due to bad dependency parsing (which is often due to bad tokenization/sentence splitting)\n",
    "\n",
    "However it looks like we're extracting a lot of signal"
   ]
  },
  {
   "cell_type": "markdown",
   "metadata": {},
   "source": [
    "This takes a while because we need to parse every job ad and then run the rules across them.\n",
    "\n",
    "Since documents are independent we could easily distribute this across a cluster if we needed to (think Hadoop/Dask/GNU Parallel)."
   ]
  },
  {
   "cell_type": "code",
   "execution_count": 79,
   "metadata": {},
   "outputs": [
    {
     "data": {
      "text/plain": [
       "407894"
      ]
     },
     "execution_count": 79,
     "metadata": {},
     "output_type": "execute_result"
    }
   ],
   "source": [
    "len(df)"
   ]
  },
  {
   "cell_type": "code",
   "execution_count": 80,
   "metadata": {},
   "outputs": [],
   "source": [
    "n_ads = len(df)"
   ]
  },
  {
   "cell_type": "code",
   "execution_count": 81,
   "metadata": {},
   "outputs": [
    {
     "name": "stdout",
     "output_type": "stream",
     "text": [
      "CPU times: user 1h 58min 21s, sys: 59min 34s, total: 2h 57min 55s\n",
      "Wall time: 3h 43min 48s\n"
     ]
    }
   ],
   "source": [
    "%%time\n",
    "df_ents = extract_df(*extract_exps, n_max=n_ads)"
   ]
  },
  {
   "cell_type": "code",
   "execution_count": 82,
   "metadata": {},
   "outputs": [],
   "source": [
    "df_ents.to_csv('experience_adp_ents.csv', index=False)"
   ]
  },
  {
   "cell_type": "code",
   "execution_count": 83,
   "metadata": {},
   "outputs": [],
   "source": [
    "df_ents = pd.read_csv('experience_adp_ents.csv', low_memory=False)"
   ]
  },
  {
   "cell_type": "code",
   "execution_count": 84,
   "metadata": {},
   "outputs": [
    {
     "data": {
      "text/html": [
       "<div>\n",
       "<style scoped>\n",
       "    .dataframe tbody tr th:only-of-type {\n",
       "        vertical-align: middle;\n",
       "    }\n",
       "\n",
       "    .dataframe tbody tr th {\n",
       "        vertical-align: top;\n",
       "    }\n",
       "\n",
       "    .dataframe thead th {\n",
       "        text-align: right;\n",
       "    }\n",
       "</style>\n",
       "<table border=\"1\" class=\"dataframe\">\n",
       "  <thead>\n",
       "    <tr style=\"text-align: right;\">\n",
       "      <th></th>\n",
       "      <th>text</th>\n",
       "      <th>docidx</th>\n",
       "      <th>start</th>\n",
       "      <th>end</th>\n",
       "      <th>label</th>\n",
       "      <th>sent_start</th>\n",
       "      <th>sent_end</th>\n",
       "      <th>Id</th>\n",
       "      <th>Title</th>\n",
       "      <th>FullDescription</th>\n",
       "      <th>LocationRaw</th>\n",
       "      <th>LocationNormalized</th>\n",
       "      <th>ContractType</th>\n",
       "      <th>ContractTime</th>\n",
       "      <th>Company</th>\n",
       "      <th>Category</th>\n",
       "      <th>SalaryRaw</th>\n",
       "      <th>SalaryNormalized</th>\n",
       "      <th>SourceName</th>\n",
       "      <th>split</th>\n",
       "    </tr>\n",
       "  </thead>\n",
       "  <tbody>\n",
       "    <tr>\n",
       "      <th>0</th>\n",
       "      <td>professional engineering environment</td>\n",
       "      <td>1</td>\n",
       "      <td>153</td>\n",
       "      <td>156</td>\n",
       "      <td>EXPERIENCE</td>\n",
       "      <td>122</td>\n",
       "      <td>164</td>\n",
       "      <td>12612830</td>\n",
       "      <td>Stress Engineer Glasgow</td>\n",
       "      <td>Stress Engineer Glasgow Salary **** to **** We...</td>\n",
       "      <td>Glasgow, Scotland, Scotland</td>\n",
       "      <td>Glasgow</td>\n",
       "      <td>NaN</td>\n",
       "      <td>permanent</td>\n",
       "      <td>Gregory Martin International</td>\n",
       "      <td>Engineering Jobs</td>\n",
       "      <td>25000 - 35000/annum 25-35K</td>\n",
       "      <td>30000.0</td>\n",
       "      <td>cv-library.co.uk</td>\n",
       "      <td>Train</td>\n",
       "    </tr>\n",
       "    <tr>\n",
       "      <th>1</th>\n",
       "      <td>Simulation Techniques</td>\n",
       "      <td>2</td>\n",
       "      <td>99</td>\n",
       "      <td>101</td>\n",
       "      <td>EXPERIENCE</td>\n",
       "      <td>79</td>\n",
       "      <td>118</td>\n",
       "      <td>12612844</td>\n",
       "      <td>Modelling and simulation analyst</td>\n",
       "      <td>Mathematical Modeller / Simulation Analyst / O...</td>\n",
       "      <td>Hampshire, South East, South East</td>\n",
       "      <td>Hampshire</td>\n",
       "      <td>NaN</td>\n",
       "      <td>permanent</td>\n",
       "      <td>Gregory Martin International</td>\n",
       "      <td>Engineering Jobs</td>\n",
       "      <td>20000 - 40000/annum 20-40K</td>\n",
       "      <td>30000.0</td>\n",
       "      <td>cv-library.co.uk</td>\n",
       "      <td>Train</td>\n",
       "    </tr>\n",
       "    <tr>\n",
       "      <th>2</th>\n",
       "      <td>techniques</td>\n",
       "      <td>2</td>\n",
       "      <td>104</td>\n",
       "      <td>105</td>\n",
       "      <td>EXPERIENCE</td>\n",
       "      <td>79</td>\n",
       "      <td>118</td>\n",
       "      <td>12612844</td>\n",
       "      <td>Modelling and simulation analyst</td>\n",
       "      <td>Mathematical Modeller / Simulation Analyst / O...</td>\n",
       "      <td>Hampshire, South East, South East</td>\n",
       "      <td>Hampshire</td>\n",
       "      <td>NaN</td>\n",
       "      <td>permanent</td>\n",
       "      <td>Gregory Martin International</td>\n",
       "      <td>Engineering Jobs</td>\n",
       "      <td>20000 - 40000/annum 20-40K</td>\n",
       "      <td>30000.0</td>\n",
       "      <td>cv-library.co.uk</td>\n",
       "      <td>Train</td>\n",
       "    </tr>\n",
       "    <tr>\n",
       "      <th>3</th>\n",
       "      <td>Water industry</td>\n",
       "      <td>5</td>\n",
       "      <td>120</td>\n",
       "      <td>122</td>\n",
       "      <td>EXPERIENCE</td>\n",
       "      <td>71</td>\n",
       "      <td>127</td>\n",
       "      <td>13179816</td>\n",
       "      <td>Engineering Systems Analyst Water Industry</td>\n",
       "      <td>Engineering Systems Analyst Water Industry Loc...</td>\n",
       "      <td>Dorking, Surrey, Surrey, Surrey</td>\n",
       "      <td>Dorking</td>\n",
       "      <td>NaN</td>\n",
       "      <td>permanent</td>\n",
       "      <td>Gregory Martin International</td>\n",
       "      <td>Engineering Jobs</td>\n",
       "      <td>20000 - 30000/annum 20K to 30K</td>\n",
       "      <td>25000.0</td>\n",
       "      <td>cv-library.co.uk</td>\n",
       "      <td>Train</td>\n",
       "    </tr>\n",
       "    <tr>\n",
       "      <th>4</th>\n",
       "      <td>Miser software</td>\n",
       "      <td>5</td>\n",
       "      <td>211</td>\n",
       "      <td>213</td>\n",
       "      <td>EXPERIENCE</td>\n",
       "      <td>206</td>\n",
       "      <td>218</td>\n",
       "      <td>13179816</td>\n",
       "      <td>Engineering Systems Analyst Water Industry</td>\n",
       "      <td>Engineering Systems Analyst Water Industry Loc...</td>\n",
       "      <td>Dorking, Surrey, Surrey, Surrey</td>\n",
       "      <td>Dorking</td>\n",
       "      <td>NaN</td>\n",
       "      <td>permanent</td>\n",
       "      <td>Gregory Martin International</td>\n",
       "      <td>Engineering Jobs</td>\n",
       "      <td>20000 - 30000/annum 20K to 30K</td>\n",
       "      <td>25000.0</td>\n",
       "      <td>cv-library.co.uk</td>\n",
       "      <td>Train</td>\n",
       "    </tr>\n",
       "    <tr>\n",
       "      <th>...</th>\n",
       "      <td>...</td>\n",
       "      <td>...</td>\n",
       "      <td>...</td>\n",
       "      <td>...</td>\n",
       "      <td>...</td>\n",
       "      <td>...</td>\n",
       "      <td>...</td>\n",
       "      <td>...</td>\n",
       "      <td>...</td>\n",
       "      <td>...</td>\n",
       "      <td>...</td>\n",
       "      <td>...</td>\n",
       "      <td>...</td>\n",
       "      <td>...</td>\n",
       "      <td>...</td>\n",
       "      <td>...</td>\n",
       "      <td>...</td>\n",
       "      <td>...</td>\n",
       "      <td>...</td>\n",
       "      <td>...</td>\n",
       "    </tr>\n",
       "    <tr>\n",
       "      <th>315902</th>\n",
       "      <td>insurance</td>\n",
       "      <td>407886</td>\n",
       "      <td>46</td>\n",
       "      <td>47</td>\n",
       "      <td>EXPERIENCE</td>\n",
       "      <td>40</td>\n",
       "      <td>62</td>\n",
       "      <td>72703412</td>\n",
       "      <td>Marine &amp; International Trade Lawyer ****</td>\n",
       "      <td>Marine and International Trade Assistant **** ...</td>\n",
       "      <td>London</td>\n",
       "      <td>London</td>\n",
       "      <td>NaN</td>\n",
       "      <td>permanent</td>\n",
       "      <td>NaN</td>\n",
       "      <td>Legal Jobs</td>\n",
       "      <td>NaN</td>\n",
       "      <td>NaN</td>\n",
       "      <td>hays.co.uk</td>\n",
       "      <td>Test</td>\n",
       "    </tr>\n",
       "    <tr>\n",
       "      <th>315903</th>\n",
       "      <td>marine contracting</td>\n",
       "      <td>407886</td>\n",
       "      <td>49</td>\n",
       "      <td>51</td>\n",
       "      <td>EXPERIENCE</td>\n",
       "      <td>40</td>\n",
       "      <td>62</td>\n",
       "      <td>72703412</td>\n",
       "      <td>Marine &amp; International Trade Lawyer ****</td>\n",
       "      <td>Marine and International Trade Assistant **** ...</td>\n",
       "      <td>London</td>\n",
       "      <td>London</td>\n",
       "      <td>NaN</td>\n",
       "      <td>permanent</td>\n",
       "      <td>NaN</td>\n",
       "      <td>Legal Jobs</td>\n",
       "      <td>NaN</td>\n",
       "      <td>NaN</td>\n",
       "      <td>hays.co.uk</td>\n",
       "      <td>Test</td>\n",
       "    </tr>\n",
       "    <tr>\n",
       "      <th>315904</th>\n",
       "      <td>construction</td>\n",
       "      <td>407886</td>\n",
       "      <td>52</td>\n",
       "      <td>53</td>\n",
       "      <td>EXPERIENCE</td>\n",
       "      <td>40</td>\n",
       "      <td>62</td>\n",
       "      <td>72703412</td>\n",
       "      <td>Marine &amp; International Trade Lawyer ****</td>\n",
       "      <td>Marine and International Trade Assistant **** ...</td>\n",
       "      <td>London</td>\n",
       "      <td>London</td>\n",
       "      <td>NaN</td>\n",
       "      <td>permanent</td>\n",
       "      <td>NaN</td>\n",
       "      <td>Legal Jobs</td>\n",
       "      <td>NaN</td>\n",
       "      <td>NaN</td>\n",
       "      <td>hays.co.uk</td>\n",
       "      <td>Test</td>\n",
       "    </tr>\n",
       "    <tr>\n",
       "      <th>315905</th>\n",
       "      <td>shipbuilding</td>\n",
       "      <td>407886</td>\n",
       "      <td>55</td>\n",
       "      <td>56</td>\n",
       "      <td>EXPERIENCE</td>\n",
       "      <td>40</td>\n",
       "      <td>62</td>\n",
       "      <td>72703412</td>\n",
       "      <td>Marine &amp; International Trade Lawyer ****</td>\n",
       "      <td>Marine and International Trade Assistant **** ...</td>\n",
       "      <td>London</td>\n",
       "      <td>London</td>\n",
       "      <td>NaN</td>\n",
       "      <td>permanent</td>\n",
       "      <td>NaN</td>\n",
       "      <td>Legal Jobs</td>\n",
       "      <td>NaN</td>\n",
       "      <td>NaN</td>\n",
       "      <td>hays.co.uk</td>\n",
       "      <td>Test</td>\n",
       "    </tr>\n",
       "    <tr>\n",
       "      <th>315906</th>\n",
       "      <td>industry qualifications</td>\n",
       "      <td>407890</td>\n",
       "      <td>172</td>\n",
       "      <td>174</td>\n",
       "      <td>EXPERIENCE</td>\n",
       "      <td>157</td>\n",
       "      <td>174</td>\n",
       "      <td>72703453</td>\n",
       "      <td>Senior Business Travel Consultant</td>\n",
       "      <td>Senior Business Travel Consultant  Birmingham ...</td>\n",
       "      <td>Birmingham</td>\n",
       "      <td>Birmingham</td>\n",
       "      <td>full_time</td>\n",
       "      <td>permanent</td>\n",
       "      <td>AA Appointments</td>\n",
       "      <td>Travel Jobs</td>\n",
       "      <td>NaN</td>\n",
       "      <td>NaN</td>\n",
       "      <td>jobs.travelweekly.co.uk</td>\n",
       "      <td>Test</td>\n",
       "    </tr>\n",
       "  </tbody>\n",
       "</table>\n",
       "<p>315907 rows × 20 columns</p>\n",
       "</div>"
      ],
      "text/plain": [
       "                                        text  docidx  start  end       label  \\\n",
       "0       professional engineering environment       1    153  156  EXPERIENCE   \n",
       "1                      Simulation Techniques       2     99  101  EXPERIENCE   \n",
       "2                                 techniques       2    104  105  EXPERIENCE   \n",
       "3                             Water industry       5    120  122  EXPERIENCE   \n",
       "4                             Miser software       5    211  213  EXPERIENCE   \n",
       "...                                      ...     ...    ...  ...         ...   \n",
       "315902                             insurance  407886     46   47  EXPERIENCE   \n",
       "315903                    marine contracting  407886     49   51  EXPERIENCE   \n",
       "315904                          construction  407886     52   53  EXPERIENCE   \n",
       "315905                          shipbuilding  407886     55   56  EXPERIENCE   \n",
       "315906               industry qualifications  407890    172  174  EXPERIENCE   \n",
       "\n",
       "        sent_start  sent_end        Id  \\\n",
       "0              122       164  12612830   \n",
       "1               79       118  12612844   \n",
       "2               79       118  12612844   \n",
       "3               71       127  13179816   \n",
       "4              206       218  13179816   \n",
       "...            ...       ...       ...   \n",
       "315902          40        62  72703412   \n",
       "315903          40        62  72703412   \n",
       "315904          40        62  72703412   \n",
       "315905          40        62  72703412   \n",
       "315906         157       174  72703453   \n",
       "\n",
       "                                             Title  \\\n",
       "0                          Stress Engineer Glasgow   \n",
       "1                 Modelling and simulation analyst   \n",
       "2                 Modelling and simulation analyst   \n",
       "3       Engineering Systems Analyst Water Industry   \n",
       "4       Engineering Systems Analyst Water Industry   \n",
       "...                                            ...   \n",
       "315902    Marine & International Trade Lawyer ****   \n",
       "315903    Marine & International Trade Lawyer ****   \n",
       "315904    Marine & International Trade Lawyer ****   \n",
       "315905    Marine & International Trade Lawyer ****   \n",
       "315906           Senior Business Travel Consultant   \n",
       "\n",
       "                                          FullDescription  \\\n",
       "0       Stress Engineer Glasgow Salary **** to **** We...   \n",
       "1       Mathematical Modeller / Simulation Analyst / O...   \n",
       "2       Mathematical Modeller / Simulation Analyst / O...   \n",
       "3       Engineering Systems Analyst Water Industry Loc...   \n",
       "4       Engineering Systems Analyst Water Industry Loc...   \n",
       "...                                                   ...   \n",
       "315902  Marine and International Trade Assistant **** ...   \n",
       "315903  Marine and International Trade Assistant **** ...   \n",
       "315904  Marine and International Trade Assistant **** ...   \n",
       "315905  Marine and International Trade Assistant **** ...   \n",
       "315906  Senior Business Travel Consultant  Birmingham ...   \n",
       "\n",
       "                              LocationRaw LocationNormalized ContractType  \\\n",
       "0             Glasgow, Scotland, Scotland            Glasgow          NaN   \n",
       "1       Hampshire, South East, South East          Hampshire          NaN   \n",
       "2       Hampshire, South East, South East          Hampshire          NaN   \n",
       "3         Dorking, Surrey, Surrey, Surrey            Dorking          NaN   \n",
       "4         Dorking, Surrey, Surrey, Surrey            Dorking          NaN   \n",
       "...                                   ...                ...          ...   \n",
       "315902                             London             London          NaN   \n",
       "315903                             London             London          NaN   \n",
       "315904                             London             London          NaN   \n",
       "315905                             London             London          NaN   \n",
       "315906                         Birmingham         Birmingham    full_time   \n",
       "\n",
       "       ContractTime                       Company          Category  \\\n",
       "0         permanent  Gregory Martin International  Engineering Jobs   \n",
       "1         permanent  Gregory Martin International  Engineering Jobs   \n",
       "2         permanent  Gregory Martin International  Engineering Jobs   \n",
       "3         permanent  Gregory Martin International  Engineering Jobs   \n",
       "4         permanent  Gregory Martin International  Engineering Jobs   \n",
       "...             ...                           ...               ...   \n",
       "315902    permanent                           NaN        Legal Jobs   \n",
       "315903    permanent                           NaN        Legal Jobs   \n",
       "315904    permanent                           NaN        Legal Jobs   \n",
       "315905    permanent                           NaN        Legal Jobs   \n",
       "315906    permanent               AA Appointments       Travel Jobs   \n",
       "\n",
       "                             SalaryRaw  SalaryNormalized  \\\n",
       "0           25000 - 35000/annum 25-35K           30000.0   \n",
       "1           20000 - 40000/annum 20-40K           30000.0   \n",
       "2           20000 - 40000/annum 20-40K           30000.0   \n",
       "3       20000 - 30000/annum 20K to 30K           25000.0   \n",
       "4       20000 - 30000/annum 20K to 30K           25000.0   \n",
       "...                                ...               ...   \n",
       "315902                             NaN               NaN   \n",
       "315903                             NaN               NaN   \n",
       "315904                             NaN               NaN   \n",
       "315905                             NaN               NaN   \n",
       "315906                             NaN               NaN   \n",
       "\n",
       "                     SourceName  split  \n",
       "0              cv-library.co.uk  Train  \n",
       "1              cv-library.co.uk  Train  \n",
       "2              cv-library.co.uk  Train  \n",
       "3              cv-library.co.uk  Train  \n",
       "4              cv-library.co.uk  Train  \n",
       "...                         ...    ...  \n",
       "315902               hays.co.uk   Test  \n",
       "315903               hays.co.uk   Test  \n",
       "315904               hays.co.uk   Test  \n",
       "315905               hays.co.uk   Test  \n",
       "315906  jobs.travelweekly.co.uk   Test  \n",
       "\n",
       "[315907 rows x 20 columns]"
      ]
     },
     "execution_count": 84,
     "metadata": {},
     "output_type": "execute_result"
    }
   ],
   "source": [
    "df_ents"
   ]
  },
  {
   "cell_type": "markdown",
   "metadata": {},
   "source": [
    "Because we kept the context we can show where the label came from"
   ]
  },
  {
   "cell_type": "code",
   "execution_count": 85,
   "metadata": {},
   "outputs": [
    {
     "data": {
      "text/html": [
       "<div class=\"entities\" style=\"line-height: 2.5; direction: ltr\">The Requirements You will need to have a good engineering degree that includes structural analysis (such as aeronautical, mechanical, automotive, civil) with some experience in a \n",
       "<mark class=\"entity\" style=\"background: #ddd; padding: 0.45em 0.6em; margin: 0 0.25em; line-height: 1; border-radius: 0.35em;\">\n",
       "    professional engineering environment\n",
       "    <span style=\"font-size: 0.8em; font-weight: bold; line-height: 1; border-radius: 0.35em; text-transform: uppercase; vertical-align: middle; margin-left: 0.5rem\">EXPERIENCE</span>\n",
       "</mark>\n",
       " relevant to (but not limited to) </div>"
      ],
      "text/plain": [
       "<IPython.core.display.HTML object>"
      ]
     },
     "metadata": {},
     "output_type": "display_data"
    },
    {
     "data": {
      "text/html": [
       "<div class=\"entities\" style=\"line-height: 2.5; direction: ltr\">Thorough knowledge of Excel and proven ability to utilise this to create powerful decision support models Experience in Modelling and \n",
       "<mark class=\"entity\" style=\"background: #ddd; padding: 0.45em 0.6em; margin: 0 0.25em; line-height: 1; border-radius: 0.35em;\">\n",
       "    Simulation Techniques\n",
       "    <span style=\"font-size: 0.8em; font-weight: bold; line-height: 1; border-radius: 0.35em; text-transform: uppercase; vertical-align: middle; margin-left: 0.5rem\">EXPERIENCE</span>\n",
       "</mark>\n",
       ", Experience of techniques such as Discrete Event Simulation and/or SD modelling Mathematical/scientific background  </div>"
      ],
      "text/plain": [
       "<IPython.core.display.HTML object>"
      ]
     },
     "metadata": {},
     "output_type": "display_data"
    }
   ],
   "source": [
    "showent_df(df_ents[:2])"
   ]
  },
  {
   "cell_type": "markdown",
   "metadata": {},
   "source": [
    "Let's count the most common terms"
   ]
  },
  {
   "cell_type": "code",
   "execution_count": 86,
   "metadata": {},
   "outputs": [
    {
     "data": {
      "text/html": [
       "<div>\n",
       "<style scoped>\n",
       "    .dataframe tbody tr th:only-of-type {\n",
       "        vertical-align: middle;\n",
       "    }\n",
       "\n",
       "    .dataframe tbody tr th {\n",
       "        vertical-align: top;\n",
       "    }\n",
       "\n",
       "    .dataframe thead th {\n",
       "        text-align: right;\n",
       "    }\n",
       "</style>\n",
       "<table border=\"1\" class=\"dataframe\">\n",
       "  <thead>\n",
       "    <tr style=\"text-align: right;\">\n",
       "      <th></th>\n",
       "      <th>text</th>\n",
       "      <th>n_company</th>\n",
       "      <th>n_ad</th>\n",
       "      <th>n_source</th>\n",
       "      <th>n</th>\n",
       "    </tr>\n",
       "  </thead>\n",
       "  <tbody>\n",
       "    <tr>\n",
       "      <th>56334</th>\n",
       "      <td>similar role</td>\n",
       "      <td>1447</td>\n",
       "      <td>3829</td>\n",
       "      <td>107</td>\n",
       "      <td>3848</td>\n",
       "    </tr>\n",
       "    <tr>\n",
       "      <th>54297</th>\n",
       "      <td>role</td>\n",
       "      <td>841</td>\n",
       "      <td>2529</td>\n",
       "      <td>103</td>\n",
       "      <td>2565</td>\n",
       "    </tr>\n",
       "    <tr>\n",
       "      <th>33715</th>\n",
       "      <td>design</td>\n",
       "      <td>702</td>\n",
       "      <td>1612</td>\n",
       "      <td>71</td>\n",
       "      <td>1730</td>\n",
       "    </tr>\n",
       "    <tr>\n",
       "      <th>33966</th>\n",
       "      <td>development</td>\n",
       "      <td>702</td>\n",
       "      <td>1590</td>\n",
       "      <td>91</td>\n",
       "      <td>1677</td>\n",
       "    </tr>\n",
       "    <tr>\n",
       "      <th>37952</th>\n",
       "      <td>following</td>\n",
       "      <td>684</td>\n",
       "      <td>2118</td>\n",
       "      <td>76</td>\n",
       "      <td>2160</td>\n",
       "    </tr>\n",
       "    <tr>\n",
       "      <th>36705</th>\n",
       "      <td>experience</td>\n",
       "      <td>634</td>\n",
       "      <td>1350</td>\n",
       "      <td>97</td>\n",
       "      <td>1369</td>\n",
       "    </tr>\n",
       "    <tr>\n",
       "      <th>44556</th>\n",
       "      <td>management</td>\n",
       "      <td>572</td>\n",
       "      <td>1159</td>\n",
       "      <td>94</td>\n",
       "      <td>1179</td>\n",
       "    </tr>\n",
       "    <tr>\n",
       "      <th>54523</th>\n",
       "      <td>sales</td>\n",
       "      <td>513</td>\n",
       "      <td>1176</td>\n",
       "      <td>83</td>\n",
       "      <td>1195</td>\n",
       "    </tr>\n",
       "    <tr>\n",
       "      <th>42695</th>\n",
       "      <td>knowledge</td>\n",
       "      <td>504</td>\n",
       "      <td>950</td>\n",
       "      <td>87</td>\n",
       "      <td>954</td>\n",
       "    </tr>\n",
       "    <tr>\n",
       "      <th>36155</th>\n",
       "      <td>environment</td>\n",
       "      <td>480</td>\n",
       "      <td>968</td>\n",
       "      <td>83</td>\n",
       "      <td>979</td>\n",
       "    </tr>\n",
       "  </tbody>\n",
       "</table>\n",
       "</div>"
      ],
      "text/plain": [
       "               text  n_company  n_ad  n_source     n\n",
       "56334  similar role       1447  3829       107  3848\n",
       "54297          role        841  2529       103  2565\n",
       "33715        design        702  1612        71  1730\n",
       "33966   development        702  1590        91  1677\n",
       "37952     following        684  2118        76  2160\n",
       "36705    experience        634  1350        97  1369\n",
       "44556    management        572  1159        94  1179\n",
       "54523         sales        513  1176        83  1195\n",
       "42695     knowledge        504   950        87   954\n",
       "36155   environment        480   968        83   979"
      ]
     },
     "execution_count": 86,
     "metadata": {},
     "output_type": "execute_result"
    }
   ],
   "source": [
    "df_ent_agg = aggregate_df(df_ents)\n",
    "df_ent_agg.head(10)"
   ]
  },
  {
   "cell_type": "code",
   "execution_count": 87,
   "metadata": {},
   "outputs": [
    {
     "data": {
      "text/plain": [
       "62589"
      ]
     },
     "execution_count": 87,
     "metadata": {},
     "output_type": "execute_result"
    }
   ],
   "source": [
    "len(df_ent_agg)"
   ]
  },
  {
   "cell_type": "code",
   "execution_count": 88,
   "metadata": {},
   "outputs": [],
   "source": [
    "from flashtext import KeywordProcessor"
   ]
  },
  {
   "cell_type": "code",
   "execution_count": 89,
   "metadata": {},
   "outputs": [],
   "source": [
    "keyword_processor = KeywordProcessor(case_sensitive=True)"
   ]
  },
  {
   "cell_type": "code",
   "execution_count": 90,
   "metadata": {},
   "outputs": [
    {
     "data": {
      "text/plain": [
       "12757"
      ]
     },
     "execution_count": 90,
     "metadata": {},
     "output_type": "execute_result"
    }
   ],
   "source": [
    "skills = df_ent_agg.query('n_company >= 3').text\n",
    "len(skills)"
   ]
  },
  {
   "cell_type": "code",
   "execution_count": 91,
   "metadata": {},
   "outputs": [],
   "source": [
    "for skill in skills:\n",
    "    keyword_processor.add_keyword(skill)"
   ]
  },
  {
   "cell_type": "code",
   "execution_count": 92,
   "metadata": {},
   "outputs": [],
   "source": [
    "from collections import Counter"
   ]
  },
  {
   "cell_type": "code",
   "execution_count": 93,
   "metadata": {},
   "outputs": [
    {
     "name": "stdout",
     "output_type": "stream",
     "text": [
      "CPU times: user 13.8 s, sys: 93.8 ms, total: 13.9 s\n",
      "Wall time: 14.9 s\n"
     ]
    }
   ],
   "source": [
    "%%time\n",
    "counter = Counter()\n",
    "ad_counter = Counter()\n",
    "for ad in ads[:10_000]:\n",
    "    keywords = keyword_processor.extract_keywords(ad)\n",
    "    counter.update(keywords)\n",
    "    ad_counter.update(set(keywords))"
   ]
  },
  {
   "cell_type": "code",
   "execution_count": 94,
   "metadata": {},
   "outputs": [],
   "source": [
    "df_count_ad = pd.DataFrame(ad_counter.items(), columns=['text', 'n_ad_occur'])\n",
    "df_count = pd.DataFrame(counter.items(), columns=['text', 'n_occur'])"
   ]
  },
  {
   "cell_type": "code",
   "execution_count": 95,
   "metadata": {},
   "outputs": [],
   "source": [
    "df_c = (\n",
    "    df_ent_agg\n",
    "    .merge(df_count, how='left', validate='1:1')\n",
    "    .merge(df_count_ad, how='left', validate='1:1')\n",
    "     .assign(pct_ad_occur = lambda df: df.n_ad_occur / n_ads,\n",
    "        avg_occur = lambda df: df.n_occur / df.n_ad_occur,\n",
    "        ad_freq = lambda df: df.n_ad_occur / df.n_ad)\n",
    ")"
   ]
  },
  {
   "cell_type": "code",
   "execution_count": 96,
   "metadata": {},
   "outputs": [],
   "source": [
    "df_c.to_csv('term_counts.csv', index=False)"
   ]
  },
  {
   "cell_type": "code",
   "execution_count": 97,
   "metadata": {},
   "outputs": [],
   "source": [
    "df_c = pd.read_csv('term_counts.csv')"
   ]
  },
  {
   "cell_type": "code",
   "execution_count": 98,
   "metadata": {},
   "outputs": [
    {
     "data": {
      "text/html": [
       "<div>\n",
       "<style scoped>\n",
       "    .dataframe tbody tr th:only-of-type {\n",
       "        vertical-align: middle;\n",
       "    }\n",
       "\n",
       "    .dataframe tbody tr th {\n",
       "        vertical-align: top;\n",
       "    }\n",
       "\n",
       "    .dataframe thead th {\n",
       "        text-align: right;\n",
       "    }\n",
       "</style>\n",
       "<table border=\"1\" class=\"dataframe\">\n",
       "  <thead>\n",
       "    <tr style=\"text-align: right;\">\n",
       "      <th></th>\n",
       "      <th>text</th>\n",
       "      <th>n_company</th>\n",
       "      <th>n_ad</th>\n",
       "      <th>n_source</th>\n",
       "      <th>n</th>\n",
       "      <th>n_occur</th>\n",
       "      <th>n_ad_occur</th>\n",
       "      <th>pct_ad_occur</th>\n",
       "      <th>avg_occur</th>\n",
       "      <th>ad_freq</th>\n",
       "    </tr>\n",
       "  </thead>\n",
       "  <tbody>\n",
       "    <tr>\n",
       "      <th>0</th>\n",
       "      <td>similar role</td>\n",
       "      <td>1447</td>\n",
       "      <td>3829</td>\n",
       "      <td>107</td>\n",
       "      <td>3848</td>\n",
       "      <td>257.0</td>\n",
       "      <td>250.0</td>\n",
       "      <td>0.000613</td>\n",
       "      <td>1.028000</td>\n",
       "      <td>0.065291</td>\n",
       "    </tr>\n",
       "    <tr>\n",
       "      <th>1</th>\n",
       "      <td>role</td>\n",
       "      <td>841</td>\n",
       "      <td>2529</td>\n",
       "      <td>103</td>\n",
       "      <td>2565</td>\n",
       "      <td>8811.0</td>\n",
       "      <td>5080.0</td>\n",
       "      <td>0.012454</td>\n",
       "      <td>1.734449</td>\n",
       "      <td>2.008699</td>\n",
       "    </tr>\n",
       "    <tr>\n",
       "      <th>2</th>\n",
       "      <td>design</td>\n",
       "      <td>702</td>\n",
       "      <td>1612</td>\n",
       "      <td>71</td>\n",
       "      <td>1730</td>\n",
       "      <td>1590.0</td>\n",
       "      <td>908.0</td>\n",
       "      <td>0.002226</td>\n",
       "      <td>1.751101</td>\n",
       "      <td>0.563275</td>\n",
       "    </tr>\n",
       "    <tr>\n",
       "      <th>3</th>\n",
       "      <td>development</td>\n",
       "      <td>702</td>\n",
       "      <td>1590</td>\n",
       "      <td>91</td>\n",
       "      <td>1677</td>\n",
       "      <td>2927.0</td>\n",
       "      <td>2077.0</td>\n",
       "      <td>0.005092</td>\n",
       "      <td>1.409244</td>\n",
       "      <td>1.306289</td>\n",
       "    </tr>\n",
       "    <tr>\n",
       "      <th>4</th>\n",
       "      <td>following</td>\n",
       "      <td>684</td>\n",
       "      <td>2118</td>\n",
       "      <td>76</td>\n",
       "      <td>2160</td>\n",
       "      <td>1232.0</td>\n",
       "      <td>1110.0</td>\n",
       "      <td>0.002721</td>\n",
       "      <td>1.109910</td>\n",
       "      <td>0.524079</td>\n",
       "    </tr>\n",
       "    <tr>\n",
       "      <th>5</th>\n",
       "      <td>experience</td>\n",
       "      <td>634</td>\n",
       "      <td>1350</td>\n",
       "      <td>97</td>\n",
       "      <td>1369</td>\n",
       "      <td>9882.0</td>\n",
       "      <td>6024.0</td>\n",
       "      <td>0.014769</td>\n",
       "      <td>1.640438</td>\n",
       "      <td>4.462222</td>\n",
       "    </tr>\n",
       "    <tr>\n",
       "      <th>6</th>\n",
       "      <td>management</td>\n",
       "      <td>572</td>\n",
       "      <td>1159</td>\n",
       "      <td>94</td>\n",
       "      <td>1179</td>\n",
       "      <td>2049.0</td>\n",
       "      <td>1516.0</td>\n",
       "      <td>0.003717</td>\n",
       "      <td>1.351583</td>\n",
       "      <td>1.308024</td>\n",
       "    </tr>\n",
       "    <tr>\n",
       "      <th>7</th>\n",
       "      <td>sales</td>\n",
       "      <td>513</td>\n",
       "      <td>1176</td>\n",
       "      <td>83</td>\n",
       "      <td>1195</td>\n",
       "      <td>2285.0</td>\n",
       "      <td>1135.0</td>\n",
       "      <td>0.002783</td>\n",
       "      <td>2.013216</td>\n",
       "      <td>0.965136</td>\n",
       "    </tr>\n",
       "    <tr>\n",
       "      <th>8</th>\n",
       "      <td>knowledge</td>\n",
       "      <td>504</td>\n",
       "      <td>950</td>\n",
       "      <td>87</td>\n",
       "      <td>954</td>\n",
       "      <td>2130.0</td>\n",
       "      <td>1652.0</td>\n",
       "      <td>0.004050</td>\n",
       "      <td>1.289346</td>\n",
       "      <td>1.738947</td>\n",
       "    </tr>\n",
       "    <tr>\n",
       "      <th>9</th>\n",
       "      <td>environment</td>\n",
       "      <td>480</td>\n",
       "      <td>968</td>\n",
       "      <td>83</td>\n",
       "      <td>979</td>\n",
       "      <td>1788.0</td>\n",
       "      <td>1535.0</td>\n",
       "      <td>0.003763</td>\n",
       "      <td>1.164821</td>\n",
       "      <td>1.585744</td>\n",
       "    </tr>\n",
       "    <tr>\n",
       "      <th>10</th>\n",
       "      <td>areas</td>\n",
       "      <td>477</td>\n",
       "      <td>1009</td>\n",
       "      <td>87</td>\n",
       "      <td>1037</td>\n",
       "      <td>1031.0</td>\n",
       "      <td>905.0</td>\n",
       "      <td>0.002219</td>\n",
       "      <td>1.139227</td>\n",
       "      <td>0.896928</td>\n",
       "    </tr>\n",
       "    <tr>\n",
       "      <th>11</th>\n",
       "      <td>field</td>\n",
       "      <td>464</td>\n",
       "      <td>933</td>\n",
       "      <td>89</td>\n",
       "      <td>956</td>\n",
       "      <td>435.0</td>\n",
       "      <td>398.0</td>\n",
       "      <td>0.000976</td>\n",
       "      <td>1.092965</td>\n",
       "      <td>0.426581</td>\n",
       "    </tr>\n",
       "    <tr>\n",
       "      <th>12</th>\n",
       "      <td>industry</td>\n",
       "      <td>442</td>\n",
       "      <td>988</td>\n",
       "      <td>83</td>\n",
       "      <td>1007</td>\n",
       "      <td>1089.0</td>\n",
       "      <td>899.0</td>\n",
       "      <td>0.002204</td>\n",
       "      <td>1.211346</td>\n",
       "      <td>0.909919</td>\n",
       "    </tr>\n",
       "    <tr>\n",
       "      <th>13</th>\n",
       "      <td>one</td>\n",
       "      <td>423</td>\n",
       "      <td>898</td>\n",
       "      <td>79</td>\n",
       "      <td>956</td>\n",
       "      <td>2199.0</td>\n",
       "      <td>1842.0</td>\n",
       "      <td>0.004516</td>\n",
       "      <td>1.193811</td>\n",
       "      <td>2.051225</td>\n",
       "    </tr>\n",
       "    <tr>\n",
       "      <th>14</th>\n",
       "      <td>delivery</td>\n",
       "      <td>382</td>\n",
       "      <td>713</td>\n",
       "      <td>76</td>\n",
       "      <td>747</td>\n",
       "      <td>975.0</td>\n",
       "      <td>760.0</td>\n",
       "      <td>0.001863</td>\n",
       "      <td>1.282895</td>\n",
       "      <td>1.065919</td>\n",
       "    </tr>\n",
       "    <tr>\n",
       "      <th>15</th>\n",
       "      <td>use</td>\n",
       "      <td>363</td>\n",
       "      <td>709</td>\n",
       "      <td>63</td>\n",
       "      <td>719</td>\n",
       "      <td>1007.0</td>\n",
       "      <td>866.0</td>\n",
       "      <td>0.002123</td>\n",
       "      <td>1.162818</td>\n",
       "      <td>1.221439</td>\n",
       "    </tr>\n",
       "    <tr>\n",
       "      <th>16</th>\n",
       "      <td>C</td>\n",
       "      <td>358</td>\n",
       "      <td>883</td>\n",
       "      <td>45</td>\n",
       "      <td>947</td>\n",
       "      <td>1099.0</td>\n",
       "      <td>665.0</td>\n",
       "      <td>0.001630</td>\n",
       "      <td>1.652632</td>\n",
       "      <td>0.753114</td>\n",
       "    </tr>\n",
       "    <tr>\n",
       "      <th>17</th>\n",
       "      <td>ability</td>\n",
       "      <td>355</td>\n",
       "      <td>629</td>\n",
       "      <td>82</td>\n",
       "      <td>631</td>\n",
       "      <td>2493.0</td>\n",
       "      <td>1874.0</td>\n",
       "      <td>0.004594</td>\n",
       "      <td>1.330309</td>\n",
       "      <td>2.979332</td>\n",
       "    </tr>\n",
       "    <tr>\n",
       "      <th>18</th>\n",
       "      <td>project management</td>\n",
       "      <td>355</td>\n",
       "      <td>582</td>\n",
       "      <td>81</td>\n",
       "      <td>589</td>\n",
       "      <td>171.0</td>\n",
       "      <td>151.0</td>\n",
       "      <td>0.000370</td>\n",
       "      <td>1.132450</td>\n",
       "      <td>0.259450</td>\n",
       "    </tr>\n",
       "    <tr>\n",
       "      <th>19</th>\n",
       "      <td>implementation</td>\n",
       "      <td>338</td>\n",
       "      <td>621</td>\n",
       "      <td>65</td>\n",
       "      <td>644</td>\n",
       "      <td>534.0</td>\n",
       "      <td>431.0</td>\n",
       "      <td>0.001057</td>\n",
       "      <td>1.238979</td>\n",
       "      <td>0.694042</td>\n",
       "    </tr>\n",
       "    <tr>\n",
       "      <th>20</th>\n",
       "      <td>projects</td>\n",
       "      <td>336</td>\n",
       "      <td>668</td>\n",
       "      <td>67</td>\n",
       "      <td>688</td>\n",
       "      <td>1579.0</td>\n",
       "      <td>1011.0</td>\n",
       "      <td>0.002479</td>\n",
       "      <td>1.561820</td>\n",
       "      <td>1.513473</td>\n",
       "    </tr>\n",
       "    <tr>\n",
       "      <th>21</th>\n",
       "      <td>planning</td>\n",
       "      <td>321</td>\n",
       "      <td>557</td>\n",
       "      <td>88</td>\n",
       "      <td>562</td>\n",
       "      <td>598.0</td>\n",
       "      <td>489.0</td>\n",
       "      <td>0.001199</td>\n",
       "      <td>1.222904</td>\n",
       "      <td>0.877917</td>\n",
       "    </tr>\n",
       "    <tr>\n",
       "      <th>22</th>\n",
       "      <td>teams</td>\n",
       "      <td>319</td>\n",
       "      <td>629</td>\n",
       "      <td>76</td>\n",
       "      <td>636</td>\n",
       "      <td>759.0</td>\n",
       "      <td>601.0</td>\n",
       "      <td>0.001473</td>\n",
       "      <td>1.262895</td>\n",
       "      <td>0.955485</td>\n",
       "    </tr>\n",
       "    <tr>\n",
       "      <th>23</th>\n",
       "      <td>maintenance</td>\n",
       "      <td>311</td>\n",
       "      <td>615</td>\n",
       "      <td>49</td>\n",
       "      <td>645</td>\n",
       "      <td>766.0</td>\n",
       "      <td>496.0</td>\n",
       "      <td>0.001216</td>\n",
       "      <td>1.544355</td>\n",
       "      <td>0.806504</td>\n",
       "    </tr>\n",
       "    <tr>\n",
       "      <th>24</th>\n",
       "      <td>testing</td>\n",
       "      <td>301</td>\n",
       "      <td>587</td>\n",
       "      <td>51</td>\n",
       "      <td>649</td>\n",
       "      <td>560.0</td>\n",
       "      <td>369.0</td>\n",
       "      <td>0.000905</td>\n",
       "      <td>1.517615</td>\n",
       "      <td>0.628620</td>\n",
       "    </tr>\n",
       "    <tr>\n",
       "      <th>25</th>\n",
       "      <td>Experience</td>\n",
       "      <td>298</td>\n",
       "      <td>629</td>\n",
       "      <td>65</td>\n",
       "      <td>635</td>\n",
       "      <td>3498.0</td>\n",
       "      <td>2232.0</td>\n",
       "      <td>0.005472</td>\n",
       "      <td>1.567204</td>\n",
       "      <td>3.548490</td>\n",
       "    </tr>\n",
       "    <tr>\n",
       "      <th>26</th>\n",
       "      <td>area</td>\n",
       "      <td>286</td>\n",
       "      <td>550</td>\n",
       "      <td>82</td>\n",
       "      <td>559</td>\n",
       "      <td>1800.0</td>\n",
       "      <td>1513.0</td>\n",
       "      <td>0.003709</td>\n",
       "      <td>1.189689</td>\n",
       "      <td>2.750909</td>\n",
       "    </tr>\n",
       "    <tr>\n",
       "      <th>27</th>\n",
       "      <td>SQL</td>\n",
       "      <td>278</td>\n",
       "      <td>555</td>\n",
       "      <td>51</td>\n",
       "      <td>579</td>\n",
       "      <td>550.0</td>\n",
       "      <td>323.0</td>\n",
       "      <td>0.000792</td>\n",
       "      <td>1.702786</td>\n",
       "      <td>0.581982</td>\n",
       "    </tr>\n",
       "    <tr>\n",
       "      <th>28</th>\n",
       "      <td>selling</td>\n",
       "      <td>271</td>\n",
       "      <td>705</td>\n",
       "      <td>50</td>\n",
       "      <td>729</td>\n",
       "      <td>319.0</td>\n",
       "      <td>244.0</td>\n",
       "      <td>0.000598</td>\n",
       "      <td>1.307377</td>\n",
       "      <td>0.346099</td>\n",
       "    </tr>\n",
       "    <tr>\n",
       "      <th>29</th>\n",
       "      <td>manufacturing environment</td>\n",
       "      <td>267</td>\n",
       "      <td>527</td>\n",
       "      <td>51</td>\n",
       "      <td>535</td>\n",
       "      <td>72.0</td>\n",
       "      <td>69.0</td>\n",
       "      <td>0.000169</td>\n",
       "      <td>1.043478</td>\n",
       "      <td>0.130930</td>\n",
       "    </tr>\n",
       "    <tr>\n",
       "      <th>30</th>\n",
       "      <td>marketing</td>\n",
       "      <td>265</td>\n",
       "      <td>487</td>\n",
       "      <td>68</td>\n",
       "      <td>495</td>\n",
       "      <td>598.0</td>\n",
       "      <td>420.0</td>\n",
       "      <td>0.001030</td>\n",
       "      <td>1.423810</td>\n",
       "      <td>0.862423</td>\n",
       "    </tr>\n",
       "    <tr>\n",
       "      <th>31</th>\n",
       "      <td>analysis</td>\n",
       "      <td>265</td>\n",
       "      <td>443</td>\n",
       "      <td>67</td>\n",
       "      <td>445</td>\n",
       "      <td>687.0</td>\n",
       "      <td>447.0</td>\n",
       "      <td>0.001096</td>\n",
       "      <td>1.536913</td>\n",
       "      <td>1.009029</td>\n",
       "    </tr>\n",
       "    <tr>\n",
       "      <th>32</th>\n",
       "      <td>HTML</td>\n",
       "      <td>256</td>\n",
       "      <td>532</td>\n",
       "      <td>49</td>\n",
       "      <td>539</td>\n",
       "      <td>288.0</td>\n",
       "      <td>212.0</td>\n",
       "      <td>0.000520</td>\n",
       "      <td>1.358491</td>\n",
       "      <td>0.398496</td>\n",
       "    </tr>\n",
       "    <tr>\n",
       "      <th>33</th>\n",
       "      <td>aspects</td>\n",
       "      <td>254</td>\n",
       "      <td>511</td>\n",
       "      <td>65</td>\n",
       "      <td>522</td>\n",
       "      <td>589.0</td>\n",
       "      <td>542.0</td>\n",
       "      <td>0.001329</td>\n",
       "      <td>1.086716</td>\n",
       "      <td>1.060665</td>\n",
       "    </tr>\n",
       "    <tr>\n",
       "      <th>34</th>\n",
       "      <td>more</td>\n",
       "      <td>241</td>\n",
       "      <td>536</td>\n",
       "      <td>60</td>\n",
       "      <td>577</td>\n",
       "      <td>1621.0</td>\n",
       "      <td>1395.0</td>\n",
       "      <td>0.003420</td>\n",
       "      <td>1.162007</td>\n",
       "      <td>2.602612</td>\n",
       "    </tr>\n",
       "    <tr>\n",
       "      <th>35</th>\n",
       "      <td>managing</td>\n",
       "      <td>239</td>\n",
       "      <td>387</td>\n",
       "      <td>63</td>\n",
       "      <td>397</td>\n",
       "      <td>1041.0</td>\n",
       "      <td>848.0</td>\n",
       "      <td>0.002079</td>\n",
       "      <td>1.227594</td>\n",
       "      <td>2.191214</td>\n",
       "    </tr>\n",
       "    <tr>\n",
       "      <th>36</th>\n",
       "      <td>business</td>\n",
       "      <td>237</td>\n",
       "      <td>457</td>\n",
       "      <td>65</td>\n",
       "      <td>475</td>\n",
       "      <td>4583.0</td>\n",
       "      <td>2684.0</td>\n",
       "      <td>0.006580</td>\n",
       "      <td>1.707526</td>\n",
       "      <td>5.873085</td>\n",
       "    </tr>\n",
       "    <tr>\n",
       "      <th>37</th>\n",
       "      <td>years</td>\n",
       "      <td>233</td>\n",
       "      <td>521</td>\n",
       "      <td>74</td>\n",
       "      <td>535</td>\n",
       "      <td>1728.0</td>\n",
       "      <td>1449.0</td>\n",
       "      <td>0.003552</td>\n",
       "      <td>1.192547</td>\n",
       "      <td>2.781190</td>\n",
       "    </tr>\n",
       "    <tr>\n",
       "      <th>38</th>\n",
       "      <td>Java</td>\n",
       "      <td>233</td>\n",
       "      <td>464</td>\n",
       "      <td>44</td>\n",
       "      <td>480</td>\n",
       "      <td>388.0</td>\n",
       "      <td>188.0</td>\n",
       "      <td>0.000461</td>\n",
       "      <td>2.063830</td>\n",
       "      <td>0.405172</td>\n",
       "    </tr>\n",
       "    <tr>\n",
       "      <th>39</th>\n",
       "      <td>training</td>\n",
       "      <td>231</td>\n",
       "      <td>450</td>\n",
       "      <td>64</td>\n",
       "      <td>458</td>\n",
       "      <td>3146.0</td>\n",
       "      <td>2351.0</td>\n",
       "      <td>0.005764</td>\n",
       "      <td>1.338154</td>\n",
       "      <td>5.224444</td>\n",
       "    </tr>\n",
       "    <tr>\n",
       "      <th>40</th>\n",
       "      <td>any</td>\n",
       "      <td>230</td>\n",
       "      <td>454</td>\n",
       "      <td>56</td>\n",
       "      <td>465</td>\n",
       "      <td>2130.0</td>\n",
       "      <td>1520.0</td>\n",
       "      <td>0.003726</td>\n",
       "      <td>1.401316</td>\n",
       "      <td>3.348018</td>\n",
       "    </tr>\n",
       "    <tr>\n",
       "      <th>41</th>\n",
       "      <td>staff</td>\n",
       "      <td>229</td>\n",
       "      <td>388</td>\n",
       "      <td>68</td>\n",
       "      <td>391</td>\n",
       "      <td>2857.0</td>\n",
       "      <td>1875.0</td>\n",
       "      <td>0.004597</td>\n",
       "      <td>1.523733</td>\n",
       "      <td>4.832474</td>\n",
       "    </tr>\n",
       "    <tr>\n",
       "      <th>42</th>\n",
       "      <td>systems</td>\n",
       "      <td>227</td>\n",
       "      <td>354</td>\n",
       "      <td>56</td>\n",
       "      <td>364</td>\n",
       "      <td>1309.0</td>\n",
       "      <td>860.0</td>\n",
       "      <td>0.002108</td>\n",
       "      <td>1.522093</td>\n",
       "      <td>2.429379</td>\n",
       "    </tr>\n",
       "    <tr>\n",
       "      <th>43</th>\n",
       "      <td>SQL Server</td>\n",
       "      <td>225</td>\n",
       "      <td>536</td>\n",
       "      <td>37</td>\n",
       "      <td>554</td>\n",
       "      <td>306.0</td>\n",
       "      <td>184.0</td>\n",
       "      <td>0.000451</td>\n",
       "      <td>1.663043</td>\n",
       "      <td>0.343284</td>\n",
       "    </tr>\n",
       "    <tr>\n",
       "      <th>44</th>\n",
       "      <td>programming</td>\n",
       "      <td>223</td>\n",
       "      <td>399</td>\n",
       "      <td>38</td>\n",
       "      <td>411</td>\n",
       "      <td>196.0</td>\n",
       "      <td>148.0</td>\n",
       "      <td>0.000363</td>\n",
       "      <td>1.324324</td>\n",
       "      <td>0.370927</td>\n",
       "    </tr>\n",
       "    <tr>\n",
       "      <th>45</th>\n",
       "      <td>similar environment</td>\n",
       "      <td>220</td>\n",
       "      <td>464</td>\n",
       "      <td>51</td>\n",
       "      <td>466</td>\n",
       "      <td>58.0</td>\n",
       "      <td>58.0</td>\n",
       "      <td>0.000142</td>\n",
       "      <td>1.000000</td>\n",
       "      <td>0.125000</td>\n",
       "    </tr>\n",
       "    <tr>\n",
       "      <th>46</th>\n",
       "      <td>sector</td>\n",
       "      <td>220</td>\n",
       "      <td>452</td>\n",
       "      <td>60</td>\n",
       "      <td>454</td>\n",
       "      <td>541.0</td>\n",
       "      <td>481.0</td>\n",
       "      <td>0.001179</td>\n",
       "      <td>1.124740</td>\n",
       "      <td>1.064159</td>\n",
       "    </tr>\n",
       "    <tr>\n",
       "      <th>47</th>\n",
       "      <td>this</td>\n",
       "      <td>219</td>\n",
       "      <td>451</td>\n",
       "      <td>65</td>\n",
       "      <td>456</td>\n",
       "      <td>10786.0</td>\n",
       "      <td>5986.0</td>\n",
       "      <td>0.014675</td>\n",
       "      <td>1.801871</td>\n",
       "      <td>13.272727</td>\n",
       "    </tr>\n",
       "    <tr>\n",
       "      <th>48</th>\n",
       "      <td>software development</td>\n",
       "      <td>219</td>\n",
       "      <td>428</td>\n",
       "      <td>37</td>\n",
       "      <td>443</td>\n",
       "      <td>154.0</td>\n",
       "      <td>116.0</td>\n",
       "      <td>0.000284</td>\n",
       "      <td>1.327586</td>\n",
       "      <td>0.271028</td>\n",
       "    </tr>\n",
       "    <tr>\n",
       "      <th>49</th>\n",
       "      <td>administration</td>\n",
       "      <td>218</td>\n",
       "      <td>381</td>\n",
       "      <td>45</td>\n",
       "      <td>400</td>\n",
       "      <td>432.0</td>\n",
       "      <td>371.0</td>\n",
       "      <td>0.000910</td>\n",
       "      <td>1.164420</td>\n",
       "      <td>0.973753</td>\n",
       "    </tr>\n",
       "  </tbody>\n",
       "</table>\n",
       "</div>"
      ],
      "text/plain": [
       "                         text  n_company  n_ad  n_source     n  n_occur  \\\n",
       "0                similar role       1447  3829       107  3848    257.0   \n",
       "1                        role        841  2529       103  2565   8811.0   \n",
       "2                      design        702  1612        71  1730   1590.0   \n",
       "3                 development        702  1590        91  1677   2927.0   \n",
       "4                   following        684  2118        76  2160   1232.0   \n",
       "5                  experience        634  1350        97  1369   9882.0   \n",
       "6                  management        572  1159        94  1179   2049.0   \n",
       "7                       sales        513  1176        83  1195   2285.0   \n",
       "8                   knowledge        504   950        87   954   2130.0   \n",
       "9                 environment        480   968        83   979   1788.0   \n",
       "10                      areas        477  1009        87  1037   1031.0   \n",
       "11                      field        464   933        89   956    435.0   \n",
       "12                   industry        442   988        83  1007   1089.0   \n",
       "13                        one        423   898        79   956   2199.0   \n",
       "14                   delivery        382   713        76   747    975.0   \n",
       "15                        use        363   709        63   719   1007.0   \n",
       "16                          C        358   883        45   947   1099.0   \n",
       "17                    ability        355   629        82   631   2493.0   \n",
       "18         project management        355   582        81   589    171.0   \n",
       "19             implementation        338   621        65   644    534.0   \n",
       "20                   projects        336   668        67   688   1579.0   \n",
       "21                   planning        321   557        88   562    598.0   \n",
       "22                      teams        319   629        76   636    759.0   \n",
       "23                maintenance        311   615        49   645    766.0   \n",
       "24                    testing        301   587        51   649    560.0   \n",
       "25                 Experience        298   629        65   635   3498.0   \n",
       "26                       area        286   550        82   559   1800.0   \n",
       "27                        SQL        278   555        51   579    550.0   \n",
       "28                    selling        271   705        50   729    319.0   \n",
       "29  manufacturing environment        267   527        51   535     72.0   \n",
       "30                  marketing        265   487        68   495    598.0   \n",
       "31                   analysis        265   443        67   445    687.0   \n",
       "32                       HTML        256   532        49   539    288.0   \n",
       "33                    aspects        254   511        65   522    589.0   \n",
       "34                       more        241   536        60   577   1621.0   \n",
       "35                   managing        239   387        63   397   1041.0   \n",
       "36                   business        237   457        65   475   4583.0   \n",
       "37                      years        233   521        74   535   1728.0   \n",
       "38                       Java        233   464        44   480    388.0   \n",
       "39                   training        231   450        64   458   3146.0   \n",
       "40                        any        230   454        56   465   2130.0   \n",
       "41                      staff        229   388        68   391   2857.0   \n",
       "42                    systems        227   354        56   364   1309.0   \n",
       "43                 SQL Server        225   536        37   554    306.0   \n",
       "44                programming        223   399        38   411    196.0   \n",
       "45        similar environment        220   464        51   466     58.0   \n",
       "46                     sector        220   452        60   454    541.0   \n",
       "47                       this        219   451        65   456  10786.0   \n",
       "48       software development        219   428        37   443    154.0   \n",
       "49             administration        218   381        45   400    432.0   \n",
       "\n",
       "    n_ad_occur  pct_ad_occur  avg_occur    ad_freq  \n",
       "0        250.0      0.000613   1.028000   0.065291  \n",
       "1       5080.0      0.012454   1.734449   2.008699  \n",
       "2        908.0      0.002226   1.751101   0.563275  \n",
       "3       2077.0      0.005092   1.409244   1.306289  \n",
       "4       1110.0      0.002721   1.109910   0.524079  \n",
       "5       6024.0      0.014769   1.640438   4.462222  \n",
       "6       1516.0      0.003717   1.351583   1.308024  \n",
       "7       1135.0      0.002783   2.013216   0.965136  \n",
       "8       1652.0      0.004050   1.289346   1.738947  \n",
       "9       1535.0      0.003763   1.164821   1.585744  \n",
       "10       905.0      0.002219   1.139227   0.896928  \n",
       "11       398.0      0.000976   1.092965   0.426581  \n",
       "12       899.0      0.002204   1.211346   0.909919  \n",
       "13      1842.0      0.004516   1.193811   2.051225  \n",
       "14       760.0      0.001863   1.282895   1.065919  \n",
       "15       866.0      0.002123   1.162818   1.221439  \n",
       "16       665.0      0.001630   1.652632   0.753114  \n",
       "17      1874.0      0.004594   1.330309   2.979332  \n",
       "18       151.0      0.000370   1.132450   0.259450  \n",
       "19       431.0      0.001057   1.238979   0.694042  \n",
       "20      1011.0      0.002479   1.561820   1.513473  \n",
       "21       489.0      0.001199   1.222904   0.877917  \n",
       "22       601.0      0.001473   1.262895   0.955485  \n",
       "23       496.0      0.001216   1.544355   0.806504  \n",
       "24       369.0      0.000905   1.517615   0.628620  \n",
       "25      2232.0      0.005472   1.567204   3.548490  \n",
       "26      1513.0      0.003709   1.189689   2.750909  \n",
       "27       323.0      0.000792   1.702786   0.581982  \n",
       "28       244.0      0.000598   1.307377   0.346099  \n",
       "29        69.0      0.000169   1.043478   0.130930  \n",
       "30       420.0      0.001030   1.423810   0.862423  \n",
       "31       447.0      0.001096   1.536913   1.009029  \n",
       "32       212.0      0.000520   1.358491   0.398496  \n",
       "33       542.0      0.001329   1.086716   1.060665  \n",
       "34      1395.0      0.003420   1.162007   2.602612  \n",
       "35       848.0      0.002079   1.227594   2.191214  \n",
       "36      2684.0      0.006580   1.707526   5.873085  \n",
       "37      1449.0      0.003552   1.192547   2.781190  \n",
       "38       188.0      0.000461   2.063830   0.405172  \n",
       "39      2351.0      0.005764   1.338154   5.224444  \n",
       "40      1520.0      0.003726   1.401316   3.348018  \n",
       "41      1875.0      0.004597   1.523733   4.832474  \n",
       "42       860.0      0.002108   1.522093   2.429379  \n",
       "43       184.0      0.000451   1.663043   0.343284  \n",
       "44       148.0      0.000363   1.324324   0.370927  \n",
       "45        58.0      0.000142   1.000000   0.125000  \n",
       "46       481.0      0.001179   1.124740   1.064159  \n",
       "47      5986.0      0.014675   1.801871  13.272727  \n",
       "48       116.0      0.000284   1.327586   0.271028  \n",
       "49       371.0      0.000910   1.164420   0.973753  "
      ]
     },
     "execution_count": 98,
     "metadata": {},
     "output_type": "execute_result"
    }
   ],
   "source": [
    "df_c.head(50)"
   ]
  },
  {
   "cell_type": "code",
   "execution_count": 99,
   "metadata": {},
   "outputs": [
    {
     "data": {
      "text/plain": [
       "8075"
      ]
     },
     "execution_count": 99,
     "metadata": {},
     "output_type": "execute_result"
    }
   ],
   "source": [
    "skills = list(\n",
    "(df_c\n",
    " .query('n_company >= 3')\n",
    " .query('ad_freq < 100')\n",
    ").text\n",
    ")\n",
    "len(skills)"
   ]
  },
  {
   "cell_type": "code",
   "execution_count": 100,
   "metadata": {},
   "outputs": [],
   "source": [
    "with open('skills.txt', 'w') as f:\n",
    "    for skill in skills:\n",
    "        print(skill, file=f)"
   ]
  },
  {
   "cell_type": "code",
   "execution_count": 101,
   "metadata": {
    "scrolled": true
   },
   "outputs": [
    {
     "name": "stdout",
     "output_type": "stream",
     "text": [
      "similar role                       role                               design\n",
      "development                        following                          experience\n",
      "management                         sales                              knowledge\n",
      "environment                        areas                              field\n",
      "industry                           one                                delivery\n",
      "use                                C                                  ability\n",
      "project management                 implementation                     projects\n",
      "planning                           teams                              maintenance\n",
      "testing                            Experience                         area\n",
      "SQL                                selling                            manufacturing environment\n",
      "marketing                          analysis                           HTML\n",
      "aspects                            more                               managing\n",
      "business                           years                              Java\n",
      "training                           any                                staff\n",
      "systems                            SQL Server                         programming\n",
      "similar environment                sector                             this\n",
      "software development               administration                     some\n",
      "customer service                   technologies                       understanding\n",
      "all                                recruitment                        Excel\n",
      "CSS                                SAP                                similar position\n",
      "building                           PHP                                writing\n",
      "support                            financial services                 commercial environment\n",
      "Oracle                             range                              IT\n",
      "software                           installation                       JavaScript\n",
      "teaching                           Windows                            track record\n",
      "UK                                 a                                  variety\n",
      "Sales                              Linux                              production\n",
      "senior level                       C++                                manufacturing\n",
      "exposure                           retail                             business development\n",
      "tools                              .NET                               preparation\n",
      "account management                 developing                         designing\n",
      "work                               position                           ASP.NET\n",
      "above                              construction                       team\n",
      "sales environment                  monitoring                         similar\n",
      "project                            telesales                          engineering\n",
      "reporting                          coaching                           Project Management\n",
      "techniques                         web development                    processes\n",
      "repair                             setting                            products\n",
      "commissioning                      application                        applications\n",
      "minimum                            customers                          high volume\n",
      "Financial Services                 configuration                      operation\n",
      "Marketing                          client                             customer\n",
      "MySQL                              databases                          Sage\n",
      "integration                        XML                                construction industry\n",
      "supervision                        problem                            engineering environment\n",
      "Development                        care                               service\n",
      "office environment                 finance                            Word\n",
      "company                            people                             wide range\n",
      "troubleshooting                    networking                         Design\n",
      "working                            control                            SEO\n",
      "procurement                        change                             accounts\n",
      "equipment                          Windows Server                     forecasting\n",
      "Python                             type                               data analysis\n",
      "social media                       MVC                                Javascript\n",
      "level                              budgeting                          services\n",
      "delivering                         Active Directory                   sales role\n",
      "SharePoint                         FMCG                               Microsoft\n",
      "procedures                         Knowledge                          change management\n",
      "maintaining                        Retail                             HR\n",
      "research                           *                                  supervisory role\n",
      "fault finding                      skills                             face\n",
      "team management                    hospitality                        roles\n",
      "deployment                         people management                  events\n",
      "digital marketing                  Microsoft Office                   leadership\n",
      "requirements                       order                              Customer Service\n",
      "retail environment                 customer service environment       organisation\n",
      "assessment                         SAS                                mentoring\n",
      "process                            background                         CAD\n",
      "operating                          food                               relationships\n",
      "automotive industry                MS Office                          negotiation\n",
      "audit                              product development                production environment\n",
      "leading                            clients                            supporting\n",
      "agency                             Photoshop                          financial services industry\n",
      "food industry                      HTML5                              broad range\n",
      "management level                   etc                                practice\n",
      "AutoCAD                            documentation                      financial management\n",
      "SSIS                               financial services sector          PPC\n",
      "hands                              fields                             Citrix\n",
      "technology                         budget management                  date\n",
      "B2B sales                          line                               PR\n",
      "payroll                            restaurant                         Web Services\n",
      "banking                            business analysis                  Ruby\n",
      "TSQL                               operations                         CRM\n",
      "line management                    credit control                     mechanical engineering\n",
      "report                             equivalent                         Exchange\n",
      "market                             NHS                                compliance\n",
      "JQuery                             insurance                          accounting\n",
      "AJAX                               Business                           ASP.Net\n",
      "jQuery                             number                             interpretation\n",
      "implementing                       customer service role              auditing\n",
      "Account Management                 sectors                            end\n",
      "retail sector                      architecture                       manufacture\n",
      "B2B environment                    healthcare                         Business Analyst\n",
      "Cisco                              modelling                          manager\n",
      "creation                           environments                       communications\n",
      "consultancy                        part                               software testing\n",
      "fast paced environment             management role                    unit testing\n",
      "Finance                            agency environment                 more information\n",
      "methodologies                      good understanding                 system\n",
      "solutions                          TDD                                SSRS\n",
      "safety                             specification                      marketing role\n",
      "both                               fabrication                        children\n",
      "professional services              FMCG environment                   relational databases\n",
      "control systems                    servicing                          public sector\n",
      "many                               stages                             inspection\n",
      "Magento                            education                          pneumatics\n",
      "manufacturing industry             performance                        print\n",
      "cold calling                       corporate environment              mechanical design\n",
      "IT industry                        build                              similar field\n",
      "test                               Unix                               practices\n",
      "assembly                           Visual Studio                      good knowledge\n",
      "Project Manager                    belt                               logistics\n",
      "contracts                          gas industry                       data management\n",
      "familiarity                        database design                    Agile environment\n",
      "risk management                    Microsoft SQL Server               server\n",
      "web technologies                   distribution                       Business Development\n",
      "site                               property                           relation\n",
      "call centre environment            WPF                                catering\n",
      "communication                      installing                         quality\n",
      "security                           Outlook                            administrative role\n",
      "communication skills               travel industry                    frameworks\n",
      "media                              food manufacturing environment     ecommerce\n",
      "hydraulics                         technical support                  them\n",
      "building services                  Sage Line                          related field\n",
      "application development            similar industry                   Apache\n",
      "levels                             websites                           stock control\n",
      "financial sector                   two                                Agile\n",
      "focus                              validation                         scripting\n",
      ".Net                               Drupal                             telecoms\n",
      "welding                            customer services                  WCF\n",
      "provision                          budgets                            Microsoft Excel\n",
      "evidence                           performance management             stakeholder management\n",
      "advertising                        consulting                         buying\n",
      "Spring                             Management                         VB.NET\n",
      "quality assurance                  Fanuc                              IIS\n",
      "Engineering                        MS SQL Server                      CSS3\n",
      "education sector                   contract management                PLC\n",
      "machinery                          VMware                             industries\n",
      "insurance industry                 web services                       online marketing\n",
      "commercial                         aerospace industry                 professional services environment\n",
      "telephone                          XHTML                              health\n",
      "Telesales                          Quality Assurance                  pharmaceutical industry\n",
      "field sales                        strategy                           other areas\n",
      "web design                         example                            telemarketing\n",
      "Perl                               machining                          Understanding\n",
      "full development lifecycle         framework                          either\n",
      "direct marketing                   CMS                                software design\n",
      "email                              supply chain                       project delivery\n",
      "Gas industry                       packaging                          Oil\n",
      "coding                             purchase ledger                    Google Analytics\n",
      "recruitment industry               ISO                                Ability\n",
      "audits                             hotel                              languages\n",
      "staff management                   Solidworks                         components\n",
      "full software development lifecyclefull project lifecycle             passion\n",
      "capacity                           analytics                          leading teams\n",
      "cleaning                           purchasing                         detail\n",
      "product                            leisure                            social care\n",
      "IFRS                               SSAS                               J****EE\n",
      "previous experience                methods                            quality management systems\n",
      "Business Analysis                  manufacturing sector               optimisation\n",
      "interest                           Flash                              Insurance\n",
      "evaluation                         related industry                   day\n",
      "emphasis                           nuclear industry                   time\n",
      "Hospitality                        Quantity Surveyor                  Access\n",
      "Health                             water industry                     tuning\n",
      "medium                             ERP systems                        Gas\n",
      "similar roles                      Planning                           automotive sector\n",
      "pricing                            benefits                           industrial environment\n",
      "Business Objects                   technical environment              platforms\n",
      "project planning                   injection moulding                 travel\n",
      "motor industry                     media sales                        B2B\n",
      "business environment               UNIX                               water\n",
      "UML                                financial environment              SOA\n",
      "large organisation                 PowerPoint                         Software\n",
      "automation                         IP                                 fundraising\n",
      "diary management                   handling                           degree\n",
      "qualification                      schools                            Assistant Manager\n",
      "costing                            CV                                 private sector\n",
      "contractors                        ITIL                               most\n",
      "VB.Net                             Android                            staff supervision\n",
      "desire                             aerospace                          Aerospace industry\n",
      "execution                          project work                       Recruitment\n",
      "CRM systems                        year                               concept\n",
      "EMC                                similar level                      Banking\n",
      "process improvement                housing                            bar\n",
      "web                                Key Stage                          Change Management\n",
      "Aerospace                          call centre                        virtualisation\n",
      "verification                       Credit Control                     department\n",
      "medical devices                    presales                           developer\n",
      "Telecoms                           FEA                                MS Project\n",
      "disciplines                        school                             controls\n",
      "Siemens                            years experience                   fashion\n",
      "project manager                    requirements gathering             man management\n",
      "meeting                            support role                       responsibility\n",
      "team leadership                    Automotive industry                motivating\n",
      "tooling                            milling                            Accounts\n",
      "Operations                         publishing                         KS\n",
      "management accounts                risk                               care sector\n",
      "web applications                   digital                            financial reporting\n",
      "Hibernate                          ERP                                product management\n",
      "VMWare                             above areas                        scheduling\n",
      "excellent communication skills     presentation                       estimating\n",
      "ASP                                development role                   main contractor\n",
      "electronics                        contract                           dementia\n",
      "Advertising                        students                           community\n",
      "completion                         successful delivery                construction sector\n",
      "facilities management              these                              addition\n",
      "running projects                   refurbishment                      senior role\n",
      "least *                            standards                          Firewalls\n",
      "coordination                       MS Excel                           supply chain management\n",
      "regulated environment              Financial Services sector          full range\n",
      "editing                            activities                         building relationships\n",
      "invoicing                          market research                    supervisory level\n",
      "Heidenhain                         General Manager                    further information\n",
      "front                              manipulation                       email marketing\n",
      "Administration                     new business development           wide variety\n",
      "business planning                  Logistics                          business sales\n",
      "energy                             test tools                         strong understanding\n",
      "utilities                          Facilities Management              QA\n",
      "asset management                   database management                negotiating\n",
      "technical sales                    hotels                             major projects\n",
      "Microsoft technologies             fine dining                        digital agency\n",
      "pumps                              Testing                            Financial Services industry\n",
      "firm                               marketing environment              mobile\n",
      "other sectors                      database development               DNS\n",
      "installations                      financial analysis                 success\n",
      "Purchase Ledger                    quality systems                    supplier management\n",
      "telecoms industry                  strong knowledge                   turning\n",
      "issues                             SAGE                               recruiting\n",
      "elderly care                       cost control                       retail sales\n",
      "Chef de Partie                     Construction                       property management\n",
      "Sharepoint                         guests                             development environment\n",
      "performance tuning                 product design                     candidate\n",
      "property sector                    Scripting                          3D modelling\n",
      "selection                          Projects                           data\n",
      "markets                            programme management               Microsoft Project\n",
      "pitching                           energy sector                      Hyperion\n",
      "motor trade                        start                              law firm\n",
      "Head Chef                          Procurement                        Agile methodologies\n",
      "leadership role                    financial control                  months\n",
      "insurance sector                   Microsoft Exchange                 Manager\n",
      "SQL databases                      ETL                                Prince\n",
      "majority                           eCommerce                          reading\n",
      "Payroll                            consultant                         Maintenance\n",
      "R                                  Wordpress                          content management systems\n",
      "firewalls                          testing tools                      Safety\n",
      "busy environment                   content                            instrumentation\n",
      "campaigns                          proposals                          machines\n",
      "process mapping                    contracting                        TS\n",
      "financial modelling                protocols                          Promotions\n",
      "relevant field                     recovery                           Ajax\n",
      "mental health                      managerial role                    digital media\n",
      "Installation                       Virtualisation                     LAMP\n",
      "Visual Basic                       JSON                               discipline\n",
      "bids                               financial industry                 LAN\n",
      "Sous Chef                          VB                                 systems development\n",
      "web analytics                      NPD                                ERP system\n",
      "Salesforce                         learning                           financial services environment\n",
      "MS Word                            plumbing                           supervising\n",
      "nursing                            above duties                       implementations\n",
      "Manufacturing                      food manufacturing                 FMCG industry\n",
      "process design                     ecommerce environment              Automotive\n",
      "TUPE                               hardware                           Public Sector\n",
      "excel                              financial accounting               Switches\n",
      "internal audit                     Illustrator                        driving\n",
      "tendering                          sourcing                           Account Manager\n",
      "data entry                         administration role                contact centre environment\n",
      "design patterns                    lean manufacturing                 certification\n",
      "legal secretary                    BI                                 fault\n",
      "management accounting              project management role            involvement\n",
      "processing                         SOAP                               using\n",
      "rail industry                      telecommunications                 Call Centre\n",
      "promotions                         hospitality industry               restaurants\n",
      "Sales Manager                      agile environment                  professional environment\n",
      "residential                        SQL server                         collections\n",
      "Microsoft Word                     analytical role                    agencies\n",
      "report writing                     PA                                 Industry\n",
      "VBA                                policies                           interpersonal skills\n",
      "setup                              strategic planning                 business process\n",
      "release                            charity sector                     sales ledger\n",
      "trading                            engineering industry               estate agency\n",
      "Networking                         commercial sector                  technical role\n",
      "technology sector                  partnership                        Ethernet\n",
      "copywriting                        negotiations                       review\n",
      "Infrastructure                     Java development                   Project\n",
      "expertise                          Head                               materials\n",
      "cash handling                      detailed design                    Risk\n",
      "FMCG manufacturing environment     assessing                          Content Management Systems\n",
      "Degree                             PPM                                solution\n",
      "operating systems                  Supply Chain                       property industry\n",
      "combination                        Mazak                              support environment\n",
      "storage                            Audit                              Office\n",
      "cost                               Selenium                           Crystal Reports\n",
      "Cognos                             Lean Manufacturing                 iOS\n",
      "motors                             version control systems            systems integration\n",
      "JUnit                              Microsoft products                 senior management level\n",
      "service delivery                   healthcare sector                  retailer\n",
      "SEN                                social housing                     drives\n",
      "full lifecycle                     highways                           appreciation\n",
      "governance                         Project Management role            internal sales\n",
      "brand                              job                                Engineer\n",
      "managerial level                   essential                          Internet technologies\n",
      "merchandising                      Insurance industry                 configuring\n",
      "London                             accessories                        software engineering\n",
      "Business Intelligence              C development                      Risk Management\n",
      "Sigma                              infrastructure                     curriculum development\n",
      "layout                             Digital                            Software Development\n",
      "continuous improvement             debugging                          migration\n",
      "English                            application support                HACCP\n",
      "engineering role                   network                            programmes\n",
      "programming languages              WAN                                scripting languages\n",
      "Jira                               SVN                                families\n",
      "office administration              post                               related role\n",
      "retail industry                    types                              CNC\n",
      "full marketing mix                 domiciliary care                   ISO9001\n",
      "engineering design                 executing                          full development life cycle\n",
      "organising                         Year                               care setting\n",
      "lead generation                    systems design                     web application development\n",
      "following skills                   Recruitment Consultant             financial markets\n",
      "JSP                                Utilities                          Entity Framework\n",
      "banqueting                         investment banking                 Estimating\n",
      "systems analysis                   adults                             Building Services\n",
      "TFS                                Team Leader                        employee relations\n",
      "high volume manufacturing environmentmedia industry                     other\n",
      "minute                             office                             switches\n",
      "Ecommerce                          structures                         CCTV\n",
      "ITIL environment                   VoIP                               healthcare industry\n",
      "plant                              rail                               RDBMS\n",
      "running                            Oil Gas                            SME\n",
      "contract negotiation               high level                         spreadsheets\n",
      "information                        pensions                           contract negotiations\n",
      "elements                           interpreting                       record\n",
      "awareness                          Teaching Assistant                 retail background\n",
      "nursing home environment           facilities                         fast moving\n",
      "legal sector                       Training                           care homes\n",
      "Social Care                        incidents                          history\n",
      "Deputy Manager                     enthusiasm                         us\n",
      "MS SQL                             database administration            diesel engines\n",
      "telesales role                     Routers                            Highways\n",
      "closing                            training staff                     duties\n",
      "risk assessment                    tax                                C.NET\n",
      "gas                                VHDL                               configuration management\n",
      "context                            Operating Systems                  PR agency\n",
      "Rail                               UK GAAP                            category management\n",
      "employment                         project teams                      suppliers\n",
      "other industries                   team leader                        technical support role\n",
      "FMCG sector                        HVAC                               Social Media\n",
      "automation testing                 practical application              relationship management\n",
      "technical design                   trouble                            usability\n",
      "IT sector                          Insurance sector                   Legal Secretary\n",
      "SCADA                              medical device                     process industry\n",
      "robotics                           successful candidate               team environment\n",
      "HR role                            Visio                              OLAP\n",
      "PHP development                    PLCs                               Product Development\n",
      "management reporting               tool                               design role\n",
      "MS Exchange                        motivation                         Milling\n",
      "charity                            contact centre                     website\n",
      "each                               stock management                   phase\n",
      "Electrical                         relevant role                      young people\n",
      "Programming                        similar setting                    subject area\n",
      "Customer Services                  complex                            Investment Banking\n",
      "conference                         source control                     C programming\n",
      "graphic design                     automotive                         Fanuc controls\n",
      "reconciliations                    sort                               Agile development methodologies\n",
      "field sales role                   new build                          requirement gathering\n",
      "word                               UX                                 Support\n",
      "VAT                                consultancy environment            diagnostics\n",
      "similar role Experience            technical leadership               website development\n",
      "Quality Control                    electronic design                  internal communications\n",
      "methodology                        pharmaceutical                     sites\n",
      "technical management               production management              commercial management\n",
      "IT environment                     MVC frameworks                     project lifecycle\n",
      "strong background                  commercial setting                 Microsoft Office packages\n",
      "US GAAP                            excess                             management position\n",
      "modules                            relevant sector                    school environment\n",
      "network design                     Agile development                  Internal Audit\n",
      "MS Access                          electrical                         electronics design\n",
      "event management                   provisioning                       reviewing\n",
      "BDD                                boilers                            SAN\n",
      "employment law                     events industry                    system design\n",
      "litigation                         Europe                             computers\n",
      "firmware development               specific experience                nursing home\n",
      "similar establishment              dementia care                      other languages\n",
      "Kerridge                           supervisory position               Lettings\n",
      "database                           previous roles                     data mining\n",
      "acute care setting                 plastics                           surveying\n",
      "Matlab                             Oracle databases                   Quality Engineer\n",
      "software sales                     business analyst                   LINQ\n",
      "XSLT                               ASP.NET MVC                        Agile methods\n",
      "DHCP                               SPSS                               candidates\n",
      "senior position                    manufacturing background           Middle East\n",
      "Sales Executive                    version control                    Education\n",
      "direct sales                       payments                           regulated industry\n",
      "tenders                            Tomcat                             Financial Services environment\n",
      "B2B Sales                          CMS systems                        Labview\n",
      "Scrum Master                       UK market                          WordPress\n",
      "account management role            branding                           data manipulation\n",
      "tracking                           concepts                           electrical maintenance\n",
      "simulation                         production planning                Git\n",
      "Developer                          accountability                     appraisals\n",
      "coordinating                       data modelling                     finance sector\n",
      "financial services organisation    manufacturer                       scoping\n",
      "business partnering                creating                           excellent knowledge\n",
      "full project life cycle            repairs                            service environment\n",
      "small teams                        Lotus Notes                        business intelligence\n",
      "claims                             legal environment                  development methodologies\n",
      "electrical engineering             mechanical assembly                purchase\n",
      "small team                         sound understanding                fitting\n",
      "AS                                 Analysis                           demonstrable track record\n",
      "inventory management               warehouse environment              improvement\n",
      "similar operation                  social care sector                 palliative care\n",
      "contractor                         anaesthetics                       clinical research\n",
      "budgetary management               terms                              parts\n",
      "qualifications                     Microsoft Exchange Server          accounts preparation\n",
      "accounting software                Allen Bradley                      Control\n",
      "full life cycle                    full software lifecycle            programming language\n",
      "Endoscopy                          Food                               MRP\n",
      "large scale projects               campaign management                search\n",
      "software development methodologies ASP.net                            Children\n",
      "mobile application development     organisational skills              Juniper\n",
      "Siemens S                          high volume environment            Lean\n",
      "oil                                gathering                          new product development\n",
      "Anaesthetics                       FPGA design                        OOP\n",
      "analytical skills                  telecommunications industry        Estate Agency\n",
      "Scrum                              NPI                                Unix environment\n",
      "abilities                          banking environment                client liaison\n",
      "finance industry                   hand                               project accounting\n",
      "Media                              PLC programming                    Rails\n",
      "below                              functions                          helpdesk\n",
      "project coordination               valves                             Maven\n",
      "MRP systems                        castings                           offer\n",
      "outsourcing                        software industry                  continuous integration\n",
      "SolidWorks                         Technical Sales                    high availability\n",
      "liaison                            maintenance environment            manual\n",
      "medical device industry            online environment                 administrator\n",
      "advocacy                           construction projects              sales support\n",
      "Build                              fastpaced environment              Field Sales\n",
      "Care                               component design                   aspect\n",
      "willingness                        DBA                                financial institution\n",
      "recruitment consultant             software development role          civil engineering\n",
      "buildings                          engineering sector                 exceeding\n",
      "new product introduction           classroom                          budgetary control\n",
      "controlling                        reports                            accountancy practice\n",
      "Web development                    promotion                          Marketing Manager\n",
      "hardware design                    Orthopaedics                       NoSQL databases\n",
      "assemblies                         large teams                        professional services firm\n",
      "similar capacity                   upgrades                           MFC\n",
      "Registered Manager                 court work                         insurance market\n",
      "Early Years                        Information Security               IT sales\n",
      "Operations Manager                 best practices                     commercial role\n",
      "electrics                          groups                             online advertising\n",
      "phases                             processing payroll                 corporation tax\n",
      "C.Net                              Construction industry              client management\n",
      "large projects                     managing projects                  source control systems\n",
      "writing reports                    SCCM                               Asset Management\n",
      "CATIA V                            bookkeeping                        Quality Engineering\n",
      "RTOS                               Reception                          Retail environment\n",
      "influencing                        pressure                           AML\n",
      "particular emphasis                Consultant                         Microsoft applications\n",
      "analogue                           commercial business                different types\n",
      "faultfinding                       nature                             order processing\n",
      "process engineering                reception                          word processing\n",
      "C.                                 Front                              lettings\n",
      "precision engineering              recruitment environment            servers\n",
      "OTE                                Manager level                      Qlikview\n",
      "audio                              client relationships               consulting environment\n",
      "drive                              financial                          housing management\n",
      "positions                          practical experience               recruitment sector\n",
      "Autism                             Technology                         activity\n",
      "life                               resource planning                  Manufacturing environment\n",
      "journalism                         workplace                          platform\n",
      "works                              ordering                           training environment\n",
      "Teaching                           store                              online\n",
      "achievement                        leisure industry                   Travel\n",
      "client group                       generators                         Rail industry\n",
      "Mazatrol                           customerfacing role                different methodologies\n",
      "multithreading                     documenting                        management systems\n",
      "IP protocols                       career                             financial systems\n",
      "regulations                        Databases                          Framework\n",
      "Hadoop                             Management Accounts                Pensions\n",
      "Silverlight                        electronic engineering             high standard\n",
      "Umbraco                            Unit                               Weblogic\n",
      "agile development methodologies    cash management                    treasury\n",
      "BizTalk                            Direct Marketing                   Microsoft Visual Studio\n",
      "USB                                accordance                         project engineer\n",
      "software development environment   Microsoft Dynamics CRM             client side\n",
      "Jquery                             RF                                 individual\n",
      "networks                           statistical analysis               event\n",
      "CVS                                Compliance                         FM\n",
      "OO design                          Professional Services              Sales role\n",
      "Team Foundation Server             eCommerce environment              infrastructure projects\n",
      "regulatory reporting               web analytics tools                BRC\n",
      "CMM                                UNIX environment                   business development role\n",
      "conducting                         data migration                     healthcare environment\n",
      "refrigeration                      regards                            telesales environment\n",
      "engineering projects               Gas sector                         Informatica\n",
      "JBoss                              QTP                                Sales Ledger\n",
      "analysing                          asset finance                      attention\n",
      "desktop support                    proficiency                        rehabilitation\n",
      "security industry                  language                           Automation\n",
      "large corporate environment        ownership                          production support\n",
      "senior capacity                    trusts                             finance role\n",
      "Pharmaceutical industry            Django                             Layer\n",
      "PRINCE                             defence                            hotel environment\n",
      "resource management                sale                               stress analysis\n",
      "supplier                           user interface design              contracting environment\n",
      "AIX                                Investment Management              SCADA systems\n",
      "Sage line                          digital design                     phone\n",
      "site management                    SIMS                               approach\n",
      "package                            particular field                   process development\n",
      "systems implementation             technology environment             those\n",
      "concrete                           CNC programming                    Exposure\n",
      "call centres                       Civils                             wiring\n",
      "finance department                 operations management              resolution\n",
      "sound knowledge                    marketing campaigns                outbound sales\n",
      "Service                            tourism                            work requests\n",
      "Employee Relations                 kitchen                            HR systems\n",
      "Healthcare                         Occupational Health                Restaurant Manager\n",
      "relevant discipline                orthopaedics                       mitigation\n",
      "software programming               Oncology                           Automotive Industry\n",
      "Unit Testing                       care home                          software applications\n",
      "space                              volume                             arena\n",
      "forms                              kind                               manufacturing practices\n",
      "strategies                         system development                 windows\n",
      "Core Java                          energy industry                    Defence industry\n",
      "SQL Server Reporting Services      Test Driven Development            business change\n",
      "business services                  complex projects                   consolidations\n",
      "data processing                    enterprise                         high value\n",
      "large company                      Water                              Administrator\n",
      "Continuous Improvement             Credit Risk                        Market Research\n",
      "Mental Health                      PCB design                         acquisition\n",
      "quality engineering                responsibilities                   service provision\n",
      "strong track record                supervisor                         Zend\n",
      "Code                               TV                                 relevant experience\n",
      "Business Analyst role              MDX                                broker\n",
      "display                            loading                            shipping\n",
      "technical                          unit                               water sector\n",
      "Data Warehousing                   Management Accountant              Web services\n",
      "accounting role                    aviation                           catering industry\n",
      "detailed knowledge                 excellent communication            group\n",
      "incident management                others                             policy development\n",
      "reconciliation                     Oil Gas industry                   CNC machining\n",
      "Human Resources                    Integration                        ObjectiveC\n",
      "database technologies              drafting                           finding\n",
      "manufacturing organisation         month contract                     organisations\n",
      "producing                          risk assessments                   switching\n",
      "video                              engineering company                quality management\n",
      "Buying                             NEC                                SOX\n",
      "Solaris                            Tier                               conveyancing\n",
      "conveyors                          digital environment                mechanical engineering environment\n",
      "modification                       quality control                    system testing\n",
      "Contracts Manager                  Oracle Financials                  shift\n",
      "EYFS                               Electronics                        Makaton\n",
      "Supervisor                         billing                            electromechanical assemblies\n",
      "relevant industry                  workshop environment               warehouse\n",
      "B2B sales environment              Autodesk Inventor                  F\n",
      "generation                         grinding                           plastic injection moulding\n",
      "sheet metal                        Account Management role            appointment\n",
      "beverage                           renewable energy                   stakeholder engagement\n",
      "utilities sector                   function                           manufacturing process\n",
      "that                               routers                            Events\n",
      "establishment                      risk analysis                      Manual\n",
      "recent experience                  case                               multisite management\n",
      "strategy development               Adobe Creative Suite               Pharma\n",
      "Powerpoint                         offices                            venepuncture\n",
      "designs                            IBM                                OO\n",
      "Regulatory Affairs                 demonstrable experience            hospital environment\n",
      "problem solving                    retail management                  general insurance\n",
      "Excellent communication skills     GUI design                         TPM\n",
      "diabetes                           exhibitions                        related technologies\n",
      "senior management role             solution design                    version\n",
      "analytical tools                   complaints                         Continuous Integration\n",
      "Eclipse                            Product Management                 VB6\n",
      "Windows server                     fresh food                         specialist sectors\n",
      "target                             view                               Windows XP\n",
      "Design Patterns                    Service Manager                    commercial sectors\n",
      "food environment                   form                               principles\n",
      "security products                  Progress                           Microsoft SQL\n",
      "Packaging                          Quality                            handson\n",
      "media relations                    new business                       operating environment\n",
      "systems administration             animation                          Civil Engineering\n",
      "GIS                                deploying                          development teams\n",
      "engagement                         engineering field                  equivalent experience\n",
      "logistics industry                 undertaking                        world\n",
      "marketing communications           audio typing                       CNC machines\n",
      "Mechanical Design                  Red Hat                            Reporting\n",
      "customer facing                    customisation                      digital electronics\n",
      "manual testing                     operational management             personal lines\n",
      "pupils                             related environment                responsive design\n",
      "technician                         upkeep                             Accounting\n",
      "insurance environment              Defence                            LPG\n",
      "BA                                 BS                                 Integration Services\n",
      "Mechanical Engineering             Microsoft Access                   Performance\n",
      "Production                         System                             UI\n",
      "analyst                            code                               compliance monitoring\n",
      "facilitation                       finance function                   lighting\n",
      "performance testing                pressure vessel codes              region\n",
      "special purpose machinery          steel                              successful management\n",
      "vendors                            DB                                 associated technologies\n",
      "busy office environment            Avaya                              BMS\n",
      "HVAC systems                       IT security                        Implementation\n",
      "Microsoft Office applications      Property                           Systems\n",
      "Telemarketing                      buyer                              costings\n",
      "electrical systems                 meetings                           pension\n",
      "sales administration               significant experience             thorough knowledge\n",
      "training design                    MSSQL                              gas sector\n",
      "EDM                                Employment Law                     IFS\n",
      "Security                           affiliate marketing                conditions\n",
      "development lifecycle              reactive maintenance               relationship building\n",
      "repairing                          root cause analysis                trade\n",
      "training role                      Tax                                administering\n",
      "commercial property                manufacturing processes            tasks\n",
      "telephone sales                    Water industry                     Galileo\n",
      "Industrial                         statistics                         car sales\n",
      "Construction Industry              nursing homes                      elderly\n",
      "overhead cranes                    school setting                     technical skills\n",
      "Band                               similar organisation               Microsoft SharePoint\n",
      "Mechanical                         backend development                financial controls\n",
      "above technologies                 employees                          Account Manager role\n",
      "Delivery                           food manufacturing industry        Retail industry\n",
      "reputable company                  indepth knowledge                  Microsoft Dynamics AX\n",
      "Operator                           dealing                            similar products\n",
      "software support                   circuit design                     London market\n",
      "Power                              Setting                            patients\n",
      "presenting                         underwriting                       workshops\n",
      "defence sector                     Business Development Manager       Far East\n",
      "Manufacturing Environment          Services                           Web Development\n",
      "advantage                          assessments                        care environment\n",
      "hospitality environment            process environment                resourcing\n",
      "solution sales                     Retail sector                      Energy sector\n",
      "Objective C                        enterprise environment             targeted environment\n",
      "B2C                                Distribution                       Government\n",
      "Mechanical Design Engineer         Service Management                 Test\n",
      "child protection                   hospitals                          inception\n",
      "multidisciplinary projects         optimization                       previous role\n",
      "procurement environment            social                             multisite environment\n",
      "SQL Development                    C++ programming                    IT support\n",
      "Microsoft Office suite             Nuclear Industry                   Technical Support role\n",
      "corporate tax                      finance environment                logistics environment\n",
      "market analysis                    mobile development                 regimes\n",
      "similar work                       consultative selling               devices\n",
      "Google Adwords                     Shell Scripting                    accounts department\n",
      "acute setting                      financial planning                 functional testing\n",
      "multinational organisation         production environments            systems engineering\n",
      "SQL Server DBA                     accountancy                        heavy industry\n",
      "Change                             Estimator                          Fabrication\n",
      "HND                                MS                                 NVQ level\n",
      "Process                            best practice                      clinical trials\n",
      "confidence                         draughting                         local authority\n",
      "managing teams                     marketing department               media environment\n",
      "outbound calling                   preventative maintenance           queries\n",
      "strong focus                       structural design                  transport\n",
      "credit                             API                                Analyst\n",
      "Good knowledge                     HP                                 HR environment\n",
      "IT services                        JAVA                               Warehousing\n",
      "businesses                         coldcalling                        commercial organisation\n",
      "definition                         engineering background             pharmaceuticals\n",
      "respect                            retention                          stores\n",
      "user experience                    statistical techniques             Excellent knowledge\n",
      "Forecasting                        JavaScript frameworks              Real Estate\n",
      "SQL Server databases               civils                             class\n",
      "commercial projects                corporate finance                  departments\n",
      "electronics packaging              immediate start                    key areas\n",
      "management experience              mobile apps                        packages\n",
      "power generation                   related discipline                 reliability\n",
      "residential sector                 security testing                   software development projects\n",
      "software environment               successful track record            targets\n",
      "design analysis                    information architecture           Turning\n",
      "Windows Servers                    bridge design                      Autocad\n",
      "Commercial Property                EC                                 EPOS\n",
      "Microsoft Server                   Production Engineer                R D\n",
      "Subversion                         Team                               commercial awareness\n",
      "conferences                        desktop                            iOS development\n",
      "iPhone                             innovation                         marketing industry\n",
      "negotiation skills                 sales management                   updating\n",
      "bonus                              APQP                               Personal Injury\n",
      "Cisco Routers                      GMP                                KS2\n",
      "QC                                 Verilog                            copy\n",
      "interaction design                 method development                 preparing\n",
      "technical lead                     Supervisory role                   achieving\n",
      "data collection                    Motor Trade                        access\n",
      "senior manager                     case management                    Leisure\n",
      "Recovery                           NX                                 Dynamics AX\n",
      "sections                           Plant                              Heidenhain controls\n",
      "Engineering role                   Web                                early years\n",
      "head chef                          m                                  MVC framework\n",
      "Sitecore                           change control                     lead\n",
      "dealership                         essential criteria                 real time\n",
      "relevant technologies              Welfare                            cannulation\n",
      "gaming industry                    hospitality sector                 Bash\n",
      "Linux system administration        complex environment                references\n",
      "travel sector                      power electronics                  Telecommunications\n",
      "software developer                 Embedded C                         affiliates\n",
      "commercial development environment jewellery                          process industries\n",
      "project management methodologies   replication                        test automation\n",
      "HR Administration                  InDesign                           Servers\n",
      "Social Housing                     Software Testing                   external audit\n",
      "high performance                   paediatrics                        stakeholders\n",
      "Product Manager                    Secretary                          Store Manager\n",
      "commission                         games                              high transactional systems\n",
      "service desk                       service sector                     storage systems\n",
      "New Product Development            Subsea                             valuation\n",
      "Architecture                       Instrumentation                    Medical Devices\n",
      "PLC systems                        Struts                             Telecoms industry\n",
      "childcare                          electronics environment            front end development\n",
      "main contractors                   mechanical                         problem resolution\n",
      "requirements management            Zend Framework                     Analogue\n",
      "Applications                       Assembly                           Configuration\n",
      "DHTML                              ETL tools                          Fashion\n",
      "Internet                           Learning                           Linux administration\n",
      "Oracle database                    SQL development                    acceptance testing\n",
      "business processes                 chemicals                          client facing\n",
      "clustering                         environment Experience             excellent customer service skills\n",
      "marketing function                 print industry                     quantity surveying\n",
      "restructuring                      reviews                            supply\n",
      "technical background               testdriven development             wastewater modelling\n",
      "waterfall                          Reporting Services                 customer care\n",
      "export sales                       Teradata                           change projects\n",
      "Agile practices                    Axure                              C++ development\n",
      "Collections                        Group Policy                       Quantity Surveying\n",
      "Use                                accessibility                      apps\n",
      "briefing                           dynamic environment                external customer interaction\n",
      "identification                     load                               new business sales\n",
      "precision engineering environment  processing orders                  scalability\n",
      "shell scripting                    blue chip environment              heavy engineering environment\n",
      "ventilation                        welfare                            AWS\n",
      "Construction sector                Contract Management                Hardware\n",
      "Opera                              PLC s                              POS\n",
      "Programme Management               Property Management                SQL Server Integration Services\n",
      "SQL queries                        STL                                Sales Management\n",
      "Software Engineer                  Urology                            c\n",
      "collections role                   consumer electronics               debt collection\n",
      "engines                            food sector                        high pressure\n",
      "high profile                       investment                         large scale\n",
      "market place                       mechanical maintenance             office management\n",
      "online media                       painting                           preference\n",
      "prototyping                        specialist areas                   three\n",
      "consultants                        Private Equity                     formulation\n",
      "India                              MS Windows                         Microsoft office\n",
      "MySql                              Respiratory                        Surveying\n",
      "UPS                                consumer PR                        customer support\n",
      "data input                         fault diagnosis                    financial role\n",
      "fraud                              heavy engineering                  housing sector\n",
      "infrastructure design              licence                            personal injury\n",
      "print servers                      profiling                          sales position\n",
      "support work                       transactions                       valuations\n",
      "business development environment   General Insurance                  Water Industry\n",
      "developments                       guidance                           improvements\n",
      "inhouse                            laboratory environment             personnel management\n",
      "public relations                   state                              wealth management\n",
      "heating                            electrical design                  applying\n",
      "product knowledge                  production engineering             structured approach\n",
      "Car Sales                          Senior Management                  Social Worker\n",
      "CRO                                Law Firm                           Secondary School\n",
      "A&E                                excellent attention                nursing home setting\n",
      "JavaScript libraries               rosette level                      relevant areas\n",
      "B2B marketing                      AX                                 service industry\n",
      "surveys                            user acceptance testing            food service\n",
      "someone                            ITU                                Repair\n",
      "communication protocols            full SDLC                          issue resolution\n",
      "submission                         FPGA                               new technologies\n",
      "oncology                           reward                             CT\n",
      "3rd line support                   Automated                          COSHH\n"
     ]
    },
    {
     "name": "stdout",
     "output_type": "stream",
     "text": [
      "Key Stages                         environmental consultancy          fitness industry\n",
      "disabilities                       APIs                               FX\n",
      "ICT                                Scrub                              digital electronics design\n",
      "libraries                          GMP environment                    MYSQL\n",
      "PostgreSQL                         Service Delivery                   Team Management\n",
      "account manager                    business management                capture\n",
      "development experience             drainage                           footwear\n",
      "retail organisation                routing                            suite\n",
      "whole project life cycle           electromechanical systems          medical sales\n",
      "soldering                          Benefits                           C .NET\n",
      "Windows operating systems          benefit                            bias\n",
      "brand management                   customer relationship management   environmental\n",
      "hospital                           manufacturing methods              multiple projects\n",
      "quality work                       segmentation                       web architectures\n",
      "Web Developer                      house                              Agile methodology\n",
      "Base SAS                           Director                           GIT\n",
      "IBM DB                             IOS                                Java programming\n",
      "Linux operating systems            MIG                                Mediation\n",
      "Purchase                           RS                                 Skills\n",
      "System Modelling                   Systems Engineer                   Windows environment\n",
      "acquisitions                       concept design                     development tools\n",
      "factory environment                global organisation                industry sector\n",
      "multithreaded programming          opening                            placement\n",
      "power                              professional services organisation public sector organisation\n",
      "workshop                           Childcare                          physical disabilities\n",
      "SOC                                defence industry                   Accountancy\n",
      "DOM                                Great Plains                       IT Sales\n",
      "Information Technology             MI                                 MongoDB\n",
      "Open Source                        Project Engineer                   automotive environment\n",
      "bank                               calibration                        capital markets\n",
      "category                           design environment                 insight\n",
      "machine tools                      main dealership                    prepayments\n",
      "presentation skills                product testing                    prospecting\n",
      "recruitment agency                 retail operations                  software packages\n",
      "subsea engineering                 vendor                             visual studio\n",
      "web testing                        allocation                         development work\n",
      "project engineering                NAS                                Account Executive\n",
      "Adobe Photoshop                    Documentation                      EBD\n",
      "Event Management                   HP hardware                        MS Office applications\n",
      "Machining                          Microsoft Windows Server           TIG welding\n",
      "bank reconciliations               board                              budget preparation\n",
      "depth                              diagnosis                          digital projects\n",
      "document management                export                             internal auditing\n",
      "legislation                        leisure sector                     modelling tools\n",
      "research environment               resources                          schematics\n",
      "service management                 synthesis                          training delivery\n",
      "variance analysis                  cost estimation                    investment management\n",
      "volunteers                         DC                                 Education sector\n",
      "Google analytics                   Gynaecology                        J2EE\n",
      "Mechanical Engineer                Microsoft Outlook                  Motor Insurance\n",
      "Pivot Tables                       Quality Management                 Quickbooks\n",
      "Systems Administration             calculations                       compressors\n",
      "customer contact                   data warehouse                     decorating\n",
      "design consultancy                 expenses                           fabrications\n",
      "investigation                      license                            managerial position\n",
      "mechanical equipment               mechanism design                   medical industry\n",
      "multi drop                         project development                roads\n",
      "similar background                 statistical process                stock\n",
      "technical knowledge                water treatment                    Hydraulics\n",
      "Affiliate Marketing                investment bank                    team leader role\n",
      "CAD packages                       Desktop Support                    Engineering environment\n",
      "Financial sector                   IT department                      IT recruitment\n",
      "WAN technologies                   WANS                               Webservices\n",
      "backup systems                     budget                             care field\n",
      "corporate                          deals                              development Experience\n",
      "engineering discipline             failure analysis                   following areas\n",
      "imaging                            industrial                         information risk\n",
      "multitasking                       penetration testing                precision\n",
      "specialist area                    Bridges                            Commercial Manager\n",
      "Corporate Finance                  LabVIEW                            Navision\n",
      "OEM                                Powershell                         Real Time\n",
      "accounting environment             approaches                         claims management\n",
      "companies                          consolidation                      developer role\n",
      "effective use                      entry                              health sector\n",
      "petrochemical industry             pharmacovigilance                  private practice\n",
      "production processes               technical sales role               users\n",
      "voluntary sector                   Scripting languages                building industry\n",
      "deployments                        excellent benefits                 realtime operating systems\n",
      "strengthening                      strong attention                   Sector\n",
      "dates                              asbestos field                     care provision\n",
      "establishments                     restaurant environment             specialist industry\n",
      "hoists                             residents                          exciting role\n",
      "Commercial                         customer management systems        NHS setting\n",
      "automotive experience              fashion retail                     control panels\n",
      "sound technical knowledge          care work                          sensors\n",
      "travel sales                       autistic spectrum disorders        internet\n",
      "retail banking                     academia                           analytical techniques\n",
      "infrastructure environment         housekeeping                       professional practice\n",
      "sales background                   venues                             theatre\n",
      "P L                                XSL                                permanent basis\n",
      "software development teams         Financial Planning                 multidisciplinary teams\n",
      "point                              programme                          Nuclear\n",
      "challenging environment            complex care                       compliance role\n",
      "trading environment                values                             CentOS\n",
      "ICU                                GDS                                wastewater\n",
      "Data Analysis                      Demi Chef de Partie                SCOM\n",
      "compensation                       digital channels                   security threat\n",
      "permanent position                 other disciplines                  Child Protection\n",
      "Customer Service environment       Front End technologies             credit risk\n",
      "distribution environment           integration testing                similar function\n",
      "similar working environment        space planning                     wireframing\n",
      "Facebook                           AP                                 Assembler\n",
      "B2B selling                        Helpdesk environment               Kentico\n",
      "Microsoft packages                 NHibernate                         Pricing\n",
      "agile methodologies                characterisation                   colleagues\n",
      "commercial cleaning                community nursing                  design principles\n",
      "immediate consideration            mid                                other programming languages\n",
      "other web technologies             payment card processing industries risk modelling\n",
      "website design                     surgical setting                   Learning Support Assistant\n",
      "DOORS                              IT systems                         Inspection\n",
      "Learning Disabilities              Marine                             Marketing role\n",
      "Section                            XP                                 breadth\n",
      "cradle                             dynamics                           following tools\n",
      "initial graduate training          international business             least some\n",
      "microprocessors                    oil gas industry                   process modelling\n",
      "properties                         technical writing                  analogue electronics\n",
      "backup                             cabling                            photography\n",
      "Data                               FMCG market                        Fanuc Controls\n",
      "Java Development                   Property Manager                   Purchasing\n",
      "SCRUM                              accounts role                      chef\n",
      "comprehensive knowledge            credit analysis                    education recruitment\n",
      "high volume recruitment            management skills                  measuring\n",
      "practice environment               product marketing                  record keeping\n",
      "revenue                            senior management position         manufacturing role\n",
      "Search Engine Optimisation         channels                           sales order processing\n",
      "Agile development environment      CDP                                Chef\n",
      "Consultancy                        Dell                               ECommerce\n",
      "FMCG company                       FTP                                Grinding\n",
      "HP EVA                             Hands                              Incident Management\n",
      "JDBC                               M                                  Mac\n",
      "Object Oriented Analysis           Project management                 Reseller\n",
      "Supplier management                Transact SQL                       Welding\n",
      "Working                            advertising sales                  care home environment\n",
      "catering environment               debt recovery                      diploma\n",
      "food safety                        image processing                   journals\n",
      "launch                             operational role                   pivot tables\n",
      "printers                           printing                           resolving\n",
      "secondary school                   subcontractor                      technical aspects\n",
      "telecoms background                tool making                        transformation\n",
      "web development technologies       LTE                                Contact Centre\n",
      "DSPs                               Fortran                            General\n",
      "Litigation                         Maximo                             Omniture\n",
      "Pharmaceutical Industry            Storage                            Vision\n",
      "acute care                         assembly processes                 broadcast\n",
      "care planning                      civil projects                     commercial software development\n",
      "cost management                    creative environment               design engineering\n",
      "design tools                       details                            development position\n",
      "enhancement                        eye                                javascript\n",
      "load balancing                     manager level                      marine\n",
      "marketing manager                  multicurrency                      multiple technologies\n",
      "oil gas                            particular focus                   pharma\n",
      "proposal                           regard                             science\n",
      "social media marketing             store management                   successful implementation\n",
      "upgrading                          use cases                          nbsp\n",
      "service advisor                    HV systems                         Senior level\n",
      "ASME                               development phase                  fast track\n",
      "transfer                           1st                                Analysis Services\n",
      "Architect                          Business Process                   City\n",
      "Client                             Database Administration            Drive\n",
      "Environmental                      Mercurial                          Object\n",
      "PECS                               Production environment             Project Planning\n",
      "Risk Analysis                      behaviour                          business case\n",
      "capability                         closing deals                      community development\n",
      "connectivity                       crisis management                  data warehousing\n",
      "decision                           detailing                          document control\n",
      "financial services arena           gaming                             higher education\n",
      "hotel management                   individuals                        interface\n",
      "lieu                               mapping                            measurement\n",
      "middle                             migrations                         month end\n",
      "motor insurance industry           networking protocols               nuclear\n",
      "presentations                      prior experience                   refurbishments\n",
      "reporting tools                    secretary                          statutory accounts\n",
      "strong experience                  value engineering                  HyperV\n",
      "material                           .Net framework                     site investigations\n",
      "Affiliates                         Director level                     ISP\n",
      "Managing                           Minitab                            Nursing\n",
      "OO PHP                             PC                                 Processes\n",
      "Research                           Systems Engineering                WSUS\n",
      "Winforms                           accruals                           advanced techniques\n",
      "building services industry         call handling                      cash flow\n",
      "checking                           customer management                data gathering\n",
      "dimensional modelling              diverse range                      evaluating\n",
      "freight forwarding                 functionality                      hydraulic systems\n",
      "insurer                            layouts                            manual milling\n",
      "matters                            models                             molecular biology\n",
      "moulding                           power systems                      pressure vessels\n",
      "primary schools                    project environment                recruitment role\n",
      "similar positions                  software implementation            solid understanding\n",
      "specifying                         transport industry                 vehicles\n",
      "Creation                           composites                         Building\n",
      "Chef de Partie level               Microsoft word                     Switching\n",
      "capabilities                       challenging role                   detailed busy environment\n",
      "electronics industry               geotechnical design                industrial sector\n",
      "lead role                          operational processes              planning role\n",
      "project life cycle                 rail sector                        software vendor\n",
      "strategic marketing                stress                             asbestos surveying\n",
      "retail sales environment           Service Advisor                    branded environment\n",
      "rotas                              countries                          Area Manager\n",
      "business travel                    Corporate Tax                      Software Engineering\n",
      "internet sales                     Dreamweaver                        Nursing Home\n",
      "Principle Contractor               classroom environment              extensive experience\n",
      "visitors                           Home Manager                       MRI\n",
      "mobilisation                       sous chef                          HDU\n",
      "job role                           PPAP                               continuous improvements\n",
      "learners                           PICU                               bluechip organisation\n",
      "consideration                      scripting language                 sigma\n",
      "vehicle maintenance                Business Manager                   P\n",
      "budget setting                     practical knowledge                IPS\n",
      "Practice                           Rail sector                        clientside\n",
      "external stakeholder management    predictive modelling               senior carer\n",
      "wholesale environment              Android development                PCB layout\n",
      "Recruitment Industry               Sage Accounts                      Shell\n",
      "award                              care industry                      clinical audit\n",
      "customer segmentation              mental health setting              software engineer\n",
      "Cucumber                           AR                                 Branch Manager\n",
      "Clinical Research                  Electronic                         Eurocodes\n",
      "IP networking                      IT Support                         Investment Bank\n",
      "Link Building                      Neurology                          PHP5\n",
      "Payments industry                  Scala                              Siebel\n",
      "Solution Architect                 Spring Framework                   airline\n",
      "commercial negotiations            cooking                            elderly care setting\n",
      "gathering requirements             hand calculations                  modern development IDE\n",
      "senior developer                   statistical methods                strong skills\n",
      "urology                            Web Analytics                      brands\n",
      "quality tools                      software development cycle         Check Point\n",
      "Classic ASP                        Commissioning                      Contracts\n",
      "Dimensions                         Dynamics                           Early Years Foundation Stage\n",
      "IT role                            Office Manager                     SAP experience\n",
      "Storage Area Networks              computer skills                    conduct\n",
      "development life cycle             excellent benefits package         film\n",
      "manufacturing techniques           merchandising role                 professional services sector\n",
      "security appliances                specific focus                     system administration\n",
      "taking                             system integration                 door\n",
      "high availability environment      .net                               ABI\n",
      "Asia                               Beauty                             Editing\n",
      "HNC                                NDT                                Previous experience\n",
      "Sales Administrator                Site Management                    Swing\n",
      "Web Servers                        air conditioning                   audit assignments\n",
      "batch                              browser compatibility              commercial contracts\n",
      "conceptual design                  consultative sales                 dispute resolution\n",
      "fine dining restaurant             initiation                         new business role\n",
      "new openings                       optics                             outline\n",
      "pneumatic                          process management                 regression\n",
      "release management                 specialities                       supplier selection\n",
      "CakePHP                            profession                         ActionScript\n",
      "Buyer                              Call Centre environment            Claims\n",
      "Configuration Management           Control Systems                    Energy industry\n",
      "Familiarity                        German                             Home\n",
      "Hotel                              Lettings Negotiator                MHRA\n",
      "Modelling                          OBIEE                              SUN\n",
      "Senior Level                       Simulation                         Water Industry sector\n",
      "Web technologies                   analytical chemistry               business improvement\n",
      "electrical installation            electrical wiring                  electronic equipment\n",
      "ethical                            feasibility                        glazing\n",
      "goods                              interior                           manufacturing engineering\n",
      "mechanic                           options                            outpatient setting\n",
      "personal lines insurance           project budgets                    public\n",
      "same                               schedules                          scrum\n",
      "service contracts                  specification writing              staff development\n",
      "technical lead role                technical teams                    test development\n",
      "thorough understanding             top                                wireless applications\n",
      "roofing                            personal responsibility            environmental testing\n",
      "likes                              operator                           C++ Experience\n",
      "Charity                            Defence sector                     EIA\n",
      "GWT                                Groovy                             Key Account Management\n",
      "Management Accounting              Microsoft platforms                NHS environment\n",
      "Network Engineering                Point                              Power Generation\n",
      "Programme management               Project Managing                   RTI\n",
      "Replication                        Senior role                        Systems Analysis\n",
      "Water Treatment                    accreditation                      advanced knowledge\n",
      "back                               contract catering                  crossbrowser\n",
      "data extraction                    database work                      debt management\n",
      "design development                 designer                           gas industries\n",
      "gearboxes                          heat exchangers                    improving\n",
      "industry standards                 inhouse environment                installation work\n",
      "machinist                          maintenance systems                managers\n",
      "min                                online sales                       press\n",
      "project administration             sage                               sales capacity\n",
      "schemes                            senior stakeholder management      similar Experience\n",
      "software integration               system architecture                tier\n",
      "undergraduate                      virtualisation technologies        waste management\n",
      "web solutions                      whole                              workflows\n",
      "•                                  Dynamics CRM                       Hydraulic systems\n",
      "Robots                             intranets                          private equity\n",
      "Amazon Web Services                Business Management                CNC machinery\n",
      "CRM applications                   Hotels                             JIRA\n",
      "Java EE Application Server AdministratorManaged Services                   Network Rail\n",
      "OBIEE Performance testing          PHP Development                    Recycling\n",
      "Redis                              Routing                            Sales environment\n",
      "Teamcenter                         Technical Architect                UAT\n",
      "Value Engineering                  Work                               admin support\n",
      "analytical                         building services design           building teams\n",
      "clientfacing role                  conception                         customer projects\n",
      "customer service skills            demanding                          design Experience\n",
      "design packages                    direct mail                        direct work\n",
      "ecommerce systems                  employment agency                  energy markets\n",
      "enterprise level                   equivalent level                   examples\n",
      "field service engineer             financial accounts                 firmware\n",
      "full life cycle development        group reporting                    industrial manufacturing environment\n",
      "injection mould tools              issue management                   jigs\n",
      "latest technologies                least four                         local government\n",
      "mentoring experience               outbound calls                     patching\n",
      "pipelines                          potential                          problem management\n",
      "professional organisation          results                            sensor\n",
      "settlement                         supplier audits                    surgery\n",
      "test equipment                     trades                             weddings\n",
      "plant layout                       specifications                     Accessibility\n",
      "Africa                             Ant                                CAE tools\n",
      "DSP                                Front Office                       Helpdesk\n",
      "Interaction Design                 Management role                    OHSAS\n",
      "Receptionist                       SEM                                Senior position\n",
      "Server Virtualisation              Waterfall                          Zend framework\n",
      "administrative work                booking                            breakdown\n",
      "chance                             commercial experience              credit controller\n",
      "cross                              delegate sales                     document\n",
      "drainage design                    drawing                            good telephone manner\n",
      "good track record                  information security               making\n",
      "membership                         metals                             mobile app development\n",
      "multiple sites                     older people                       personal tax\n",
      "process improvements               root cause                         search engine optimisation\n",
      "situations                         small batch work                   solution architecture\n",
      "structural steelwork               switchgear                         technology sectors\n",
      "toolmaking                         user                               web analytics packages\n",
      "working practices                  construction supervision           legal\n",
      ".NET environment                   2nd line support                   B2B role\n",
      "CNC turning                        FMEA                               Health Safety\n",
      "PHP programming                    Release Management                 Revit\n",
      "Servlets                           area level                         civil engineering projects\n",
      "contract administration            corporate reporting                cross functional teams\n",
      "design work                        electrical work                    literacy skills\n",
      "localisation                       nuclear sector                     rapid prototyping\n",
      "receptionist                       related                            research projects\n",
      "researching                        retail business                    standard costing\n",
      "studies                            supportive environment             technical position\n",
      "general nursing                    mental health services             own\n",
      "ongoing support                    permanent recruitment              solution selling\n",
      "version control software           staff training                     ticketing\n",
      "relevant engineering discipline    analytical environment             health care environment\n",
      "kitchens                           Trend                              Stakeholder management\n",
      "relevant skills                    Design Coordination                structural engineering\n",
      "Microsoft systems development technologiesNational Curriculum                OpenGL\n",
      "learning disabilities              main dealer                        offshore model\n",
      "personal care                      equities                           Algorithm development\n",
      "DTS                                menu development                   personnel\n",
      "visual merchandising               Blackberry                         GUI development\n",
      "building maintenance               BGP                                babies\n",
      "Supervisory level                  1st line support position          Business Travel\n",
      "Expertise                          Finance Manager                    General Manager level\n",
      "SIEM tools                         Scripting Languages                Sous Chef level\n",
      "accountancy firm                   architect                          disaster recovery\n",
      "further details                    highvolume                         pension scheme\n",
      "vulnerability                      Microsoft Windows                  pensions administration\n",
      "Mobile                             Chef De Partie                     Commis Chef\n",
      "DFM                                FEED                               IP networks\n",
      "Object Oriented Programming        Oracle EBusiness Suite             Scrum methodologies\n",
      "Senior Nurse                       Tendering                          administrative duties\n",
      "community setting                  destinations                       inspiring\n",
      "international environment          large programmes                   mobile applications\n",
      "uncapped commission                wholesale                          Redhat\n",
      "AdminStudio                        Agresso                            FANUC Controls\n",
      "HR department                      IT Project                         ProEngineer\n",
      "Supervision                        Test Management                    audit methodologies\n",
      "benchmarking                       crossfunctional                    integrated agency\n",
      "interaction                        modelling techniques               motor control\n",
      "private sectors                    productivity                       project management skills\n",
      "recruitment sales                  sales development                  service users\n",
      "Process Engineering role           Hydraulic                          sponsorship\n",
      "Dementia                           scale                              3D CAD\n",
      "Actionscript                       C ASP.NET                          Catalyst\n",
      "Extensive experience               HR Advisor                         IT Architecture\n",
      "JD Edwards                         Managers                           Number\n",
      "PPI                                Pharmaceutical                     Programme Manager\n",
      "Rhapsody                           SDLC                               Staff Nurse\n",
      "Technical Support                  W****C standards                   applicant\n",
      "capacity management                component level                    computing\n",
      "consultative solution              development skills                 formal project management methodologies\n",
      "full lifecycle software developmentindustry practices                 international tax\n",
      "legal field                        mergers                            multivariate testing\n",
      "occupational health                other tools                        outbound telesales role\n",
      "packaging machinery                process control                    product life cycle management\n",
      "software architect                 software development lifecycle     system support\n",
      "tablets                            test rig design                    rigging\n",
      "theories                           LINUX                              social care setting\n",
      "ARM                                Abaqus                             Ansys\n",
      "AutoCad                            Automated Testing                  Awareness\n",
      "BIM                                Billings                           Business Intelligence tools\n",
      "Business sales                     C software                         CAD software\n",
      "CMS platforms                      CRM tools                          Calibration\n",
      "DSDM                               Dementia care                      Energy\n",
      "FS                                 Financial Reporting                HVAC industry\n",
      "Microsoft SCCM                     Monitoring                         Mori Seiki\n",
      "Proclaim                           Quality Centre                     UI design\n",
      "Unit testing                       VOIP                               bottling\n",
      "business applications              cell culture                       commercial property management\n",
      "configuration control              core areas                         detailed mechanical design work\n",
      "ground                             inspections                        interviewing\n",
      "optioneering                       other platforms                    pension administration\n",
      "primary care                       professional engineering environmentprofit organisation\n",
      "relational database design         relationship                       right person\n",
      "several years                      training groups                    web technology\n",
      "piping                             Exchange Server                    toddlers\n",
      "trainer                            wireless                           ANY\n",
      "Adults                             Assessment                         Bank\n",
      "C programming language             CSS2                               Charge Nurse\n",
      "Fraud                              HR Manager                         ICH guidelines\n",
      "IOSH                               IV Therapy                         JSF\n",
      "LANs                               Maths                              Microsoft environment\n",
      "OO development                     Performance Tuning                 Petrochemical\n",
      "Primavera                          Process Engineering                REST\n",
      "Reservations                       Restaurants                        Service Desk\n",
      "Tuning                             VPNs                               access control\n",
      "agile development                  asbestos                           attributes\n",
      "busy kitchen                       care proceedings                   charities\n",
      "construction planning              court proceedings                  cultural change\n",
      "daily                              ecommerce development              employee engagement\n",
      "energy sectors                     full time                          helpdesk role\n",
      "insurance company                  internal audits                    machine\n",
      "media agency                       model development                  multidrop\n",
      "past                               pastry                             person\n",
      "pitches                            several                            similar business\n",
      "similar property                   sports                             successful sales\n",
      "succession planning                tables                             technical product\n",
      "telephony                          tiling                             Residential Lettings\n",
      "soft services                      Head Teacher                       Pneumatics\n",
      "TIG                                adoption                           autism\n",
      "fuel systems                       living                             sponsorship sales\n",
      "value                              Agile software development         BIND\n",
      "Banqueting                         C .Net                             CFD\n",
      "CIS                                Cardiology                         Creative\n",
      "Creo                               Debt Collection                    E\n",
      "ETL tool                           Event Sales                        Finance Director\n",
      "IT procurement                     Intellectual Property              Internal Sales\n",
      "Lync                               Mac OSx                            Medical Device\n",
      "Merchandising                      Pastry Chef                        PhoneGap\n",
      "Polycom                            PowerShell                         Proven track record\n",
      "QS                                 R2                                 Team player\n",
      "Telephony                          Waterfall methodologies            above skills\n",
      "armed forces                       assembling                         assets\n",
      "assurance                          bid writing                        blue chip\n",
      "board level                        broad knowledge                    cable\n",
      "cases                              chillers                           collection\n",
      "commercial finance                 content management                 control design\n",
      "data warehousing design principles daytoday relationships             digital dictation\n",
      "direct experience                  drilling                           electric motors\n",
      "electrical engineer                equivalent Experience              field sales environment\n",
      "financial aspects                  financial software                 full product lifecycle\n",
      "fund accounting                    graphics                           heavy civils\n",
      "heavy industrial environment       high end                           high turnover\n",
      "industry best practices            informal channels                  infrastructure sector\n",
      "keeping                            leadership roles                   lighting sector\n",
      "link building                      marketing agency                   medical field\n",
      "mix                                mobile platforms                   multimedia\n",
      "other CAD packages                 other technologies                 proactive approach\n",
      "production facility                property acquisitions              result\n",
      "sales engineer                     set                                similar role Ability\n",
      "software development life cycle    software interfacing               statutory reporting\n",
      "strategic management               technical department               telemarketing role\n",
      "test management tools              testing methodologies              testing role\n",
      "testing teams                      third party                        turbines\n",
      "typing                             upselling                          usage\n",
      "user experience design             validation techniques              ward management\n",
      "warehouse management               way                                assisting\n",
      "food preparation                   site work                          test processes\n",
      "ATEX                               Analytics                          Cloud\n",
      "Controls                           Customers                          DO\n",
      "Desktop                            Display                            EU\n",
      "Earned Value Management            Email                              Embedded Linux\n",
      "Employee Benefits                  Engineering Manager                Fine Dining\n",
      "French                             HAZOP                              Housing\n",
      "IT Support role                    Indesign                           LabView\n",
      "Law                                Linux RedHat                       MS Visual Studio\n",
      "Maintenance Technician             Mechanical Estimator               Microsoft Active Directory\n",
      "Microsoft operating systems        MoD                                ODI\n",
      "PCB level                          Riverbed                           SQL Databases\n",
      "Senior Project Manager             Sun                                Test Analyst\n",
      "VBScript                           Warehouse Management               X)HTML\n",
      "account                            administrative position            banking sector\n",
      "basic understanding                bridges                            budget control\n",
      "business modelling                 capacity planning                  carpentry\n",
      "centre environment                 coatings                           construction materials\n",
      "consumer                           continuous integration tools       conversion optimisation\n",
      "cross browser testing              delegation                         design engineer\n",
      "design software                    determination                      digital marketing role\n",
      "eCommerce platforms                educational environment            electrical installations\n",
      "enhancements                       exhibition                         expediting\n",
      "family                             financial administration           fitout\n",
      "food operations                    food production environment        fostering\n",
      "functional specification           general                            guidelines\n",
      "high volume production             illustrator                        implementation role\n",
      "install                            international exposure             international trade\n",
      "inverters                          investment appraisal               investments\n",
      "jobs                               key stages                         laboratory\n",
      "landlord                           leadership experience              leadership skills\n",
      "management Experience              manufacturing business             marketing team\n",
      "matrix management                  meeting deadlines                  microcontrollers\n",
      "motivating teams                   mouldings                          multi skilled engineer\n",
      "network infrastructure             other databases                    participation\n",
      "payroll environment                pipework                           plants\n",
      "product audits                     product launches                   production role\n",
      "programmer                         project management techniques      sales track record\n"
     ]
    },
    {
     "name": "stdout",
     "output_type": "stream",
     "text": [
      "security architecture              small organisation                 small projects\n",
      "software installation              softwareasaservice                 staff recruitment\n",
      "stock ordering                     strong communication skills        system development lifecycle\n",
      "target setting                     taxation                           team player\n",
      "technical integrity                technical project management       tendering process\n",
      "web content                        workings                           Paid Search\n",
      "derivatives                        exploratory testing                international sales\n",
      "marketing roles                    sales techniques                   Access Control\n",
      "Application                        Audits                             Board level\n",
      "Communications                     Consulting                         Data Migration\n",
      "Frameworks                         IT Project Management              IT Service Management\n",
      "IT project management              Injection Moulding                 Junit\n",
      "London Market                      Microsoft Office Applications      Performance Management\n",
      "Procedures                         Quality Management Systems         Safety regulations\n",
      "Sourcing                           Track                              UML design\n",
      "USA                                account reconciliations            advice\n",
      "artwork                            business process analysis          chemical process\n",
      "collating                          commercial issues                  commercial software development environment\n",
      "community engagement               construction environment           creative agency\n",
      "creative industry                  culture                            fibre optics\n",
      "international projects             jquery                             lean manufacturing techniques\n",
      "liasing                            management responsibilities        material selection\n",
      "method validation                  new media                          other systems\n",
      "own transport                      personality                        preferred\n",
      "project management processes       proof                              related market\n",
      "relevant qualifications            remediation                        resource\n",
      "scheduling work                    service centre                     similar package\n",
      "stainless steel                    strategic level                    systems Experience\n",
      "target sales                       various types                      web developer\n",
      "welder                             winning                            qualified nurse\n",
      "Organisational skills              Qualified Social Worker            competitive environment\n",
      "cash                               IV treatment                       Financial Management\n",
      "prioritising                       Nursing Homes                      quality restaurants\n",
      "Nursing Home Manager               close                              multiple areas\n",
      "direct contact                     Dementia Care                      good food\n",
      "Mazatrol controls                  invertors                          nursing unit\n",
      "Retail Management                  Simulink                           acoustics\n",
      "nursery                            Estate Agent                       rosette environment\n",
      "similar online role                test engineer                      End\n",
      "Nurse                              Primary Care setting               metal pressings\n",
      "Michelin                           continents                         safeguarding\n",
      "PMLD                               Precision                          community care\n",
      "critical care                      elderly Practice knowledge         military\n",
      "section                            GCSE                               hospital setting\n",
      "Big Data                           NoSQL                              Technician\n",
      "commis chef                        financial applications             inpatient ward\n",
      "capital equipment                  ADA                                Clustering\n",
      "HIV                                Java Script                        Microsoft Solutions\n",
      "Postgres                           Software build                     Systems Design\n",
      "ambiguity                          common operating systems           hour week\n",
      "intermediate care                  new products                       offhighway equipment\n",
      "targeting                          underlying databases               Bid\n",
      "Derivatives                        Fireworks                          Technical\n",
      "engineering consultancy            gynaecology                        information systems\n",
      "installation projects              other modules                      sales team\n",
      "submitting                         technical delivery                 Primary Teaching Assistant\n",
      "device drivers                     Care Home                          Critical Care\n",
      "Deputy Manager level               Financial Sector                   MS Dynamics CRM\n",
      "MVC Frameworks                     Service Engineer                   associated\n",
      "bull                               comparable role                    high standards\n",
      "security assessment tools          statutory setting                  supervisory experience\n",
      "relevant environment               HTTP                               AD\n",
      "Application support                Australia                          Clinical lead\n",
      "Engineering Team Leader            FUNDRAISING                        J2ME\n",
      "Operating                          Process Engineer                   Proposals\n",
      "Treasury                           UK schools                         electrical services\n",
      "high volume restaurant             multidiscipline projects           online publishing\n",
      "pubs                               relevant qualification             residential setting\n",
      "testing software                   travel agent                       upgrade\n",
      "water treatment industry           development process                Spring framework\n",
      "relevant systems                   trading systems                    2nd line\n",
      "Audio                              COPD                               Court\n",
      "Court work                         Department Manager                 EBS\n",
      "Fostering                          HAAS                               Heavy Engineering\n",
      "IA                                 IDS                                MPLS\n",
      "National Account Manager           Nursery Manager                    Offshore\n",
      "Parenteral nutrition               Rates                              Support Worker\n",
      "UK MOD                             assembler                          backups\n",
      "bid management                     brokerage                          card\n",
      "core Java                          credit risk modelling              deliveries\n",
      "editing copy                       effective communication skills     electro\n",
      "hydraulic                          large data sets                    market data\n",
      "mobile devices                     mobile technologies                module\n",
      "network technologies               nursery setting                    other aspects\n",
      "plans                              prioritisation                     problems\n",
      "realtime traffic processing        residential environment            retail systems\n",
      "secure environment                 security assessments               star hotel\n",
      "temperature                        test frameworks                    testing environment\n",
      "venue                              CodeIgniter                        Twitter\n",
      "Version Control                    General Surgery                    SQL Servers\n",
      "API development                    Android SDK                        Area Sales Manager\n",
      "CAMHS                              Care Sector                        Data Centres\n",
      "Data Management                    Dimensions configuration           Events Sales\n",
      "Higher Education                   IT Services organisations          Inventory Management\n",
      "LAMP environment                   MS products                        Management Consulting\n",
      "Messaging                          Microsoft Systems                  Payments\n",
      "SQL Server Experience              Solarwinds                         Statistical Process Control\n",
      "SysML                              University                         WiFi\n",
      "Xcode                              Years                              breakdowns\n",
      "challenging behaviour              clothing                           commitment\n",
      "constraints                        consumer brands                    contracts management\n",
      "contractual environment            corporate banking                  design office\n",
      "digital sector                     direct                             ecommerce websites\n",
      "electromechanical assembly         enduser                            extraction\n",
      "filing                             fine dining environment            finishing\n",
      "fire                               fresh food environment             good IT skills\n",
      "grave                              insights                           machine learning\n",
      "manager role                       neurology                          other frameworks\n",
      "other handheld devices             payroll systems                    process optimisation\n",
      "project management disciplines     real passion                       reception work\n",
      "revenue management                 sales teams                        senior management\n",
      "service engineer                   shop floor                         software requirements\n",
      "specialist subcontractor           study                              test automation tools\n",
      "video editing                      womenswear                         Jasmine\n",
      "schizophrenia                      OSPF                               JEE\n",
      "fire alarms                        software package                   Adobe Acrobat\n",
      "BOM                                Business Administration            Client Server\n",
      "Concept                            Coremetrics                        Database\n",
      "Delphi development                 Diploma                            FMCG manufacturer\n",
      "February                           GCP                                Honeywell\n",
      "IEC                                Java environment                   KPI\n",
      "Linux Operating Systems            Linux systems                      Marketing Agency\n",
      "Need                               NetApp                             New Product Introduction\n",
      "Omron                              Oracle ERP implementation          Oracle Fusion Middleware\n",
      "Outbound Telesales                 P L responsibility                 Personal Lines\n",
      "PhD                                Proficiency                        Razor\n",
      "SQL database                       Software testing                   UK consultancy\n",
      "UPS systems                        Web application development        administrative\n",
      "agile software development         asp.net                            assistant manager\n",
      "basic knowledge                    belts                              book\n",
      "brasserie                          bulk materials                     business administration\n",
      "chemical industry                  commercial aspects                 consultancy background\n",
      "consultancy role                   cooling                            corporate branding\n",
      "court                              customisations                     data cleaning\n",
      "database systems                   development knowledge              direct response\n",
      "distributors                       engineer                           escalation\n",
      "essential Experience               field service                      government\n",
      "group accounting                   hardware integration               high quality\n",
      "insurance sectors                  java                               lasers\n",
      "maintenance engineer               manmanagement                      margin analysis\n",
      "marine industry                    members                            motor trade industry\n",
      "multiproject environment           pensions sector                    portfolio management\n",
      "practitioner                       pricing models                     process plant\n",
      "programming skills                 schema                             software house\n",
      "software tools                     solid OO                           specialist field\n",
      "street lighting                    structured environment             system implementation\n",
      "team development                   teamwork                           toolmaker\n",
      "transferable skills                transportation                     vac pumps\n",
      "external customers                 composite materials                agency background\n",
      "field work                         healthcare market                  regulation\n",
      "web content management             3D Modelling                       Acceptance\n",
      "B2C sales                          BW                                 Boost\n",
      "C Developer                        CPA                                DA\n",
      "Debt Management                    Digital marketing                  ERP software\n",
      "Electrical Engineering             Events Industry                    Fabrication environment\n",
      "Food industry                      Gas Industry                       High Availability systems\n",
      "Homecare                           IP Networking                      Inventor\n",
      "Java Developer                     Key Account Manager                Legionella control industry\n",
      "Lucene                             M E                                MM\n",
      "MSP                                Microsoft Team Foundation Server   Microsoft Visio\n",
      "Microsoft tools                    Office environment                 Oracle Discoverer\n",
      "Oracle Ebusiness Suite development Oracle RDBMS                       Oracle Reports\n",
      "PCI DSS                            Primary School                     ProE\n",
      "Procurement role                   Production Management              Project Manager role\n",
      "Regulations                        S                                  SAP B1\n",
      "SMTP                               SQL Server administration          SSP\n",
      "Search                             Search Engine Marketing            Server\n",
      "Structural Engineering             Sybase                             Three\n",
      "UI development                     US                                 V\n",
      "Visual C                           Visual basic                       Win\n",
      "Windows Services                   Working knowledge                  acceptance\n",
      "approval                           assessor                           business requirements\n",
      "casework                           child                              client contact\n",
      "client meetings                    commercialisation                  communicating\n",
      "competence                         complaint                          consultant role\n",
      "control panel design               customer insight                   data cleansing\n",
      "decision support                   defendant                          demonstrable success\n",
      "design processes                   drinks                             electrical disciplines\n",
      "engineering teams                  environmental management           excellent track record\n",
      "extensive knowledge                fashion industry                   features\n",
      "fleet                              forefront                          future\n",
      "gas turbines                       global business                    grievances\n",
      "healthcare recruitment             human resources                    immigration\n",
      "inheritance                        insolvency                         interfacing\n",
      "inventory control                  key focus                          leader\n",
      "management consultancy             mobile environment                 monitoring tools\n",
      "multi site                         multisite                          n\n",
      "network security                   offline marketing                  operational environment\n",
      "outbound telesales                 peripherals                        planning applications\n",
      "plc                                portable appliance testing         power industry\n",
      "proactive sales                    processors                         production control\n",
      "production machinery               project design                     quantitative research\n",
      "related industries                 relevant products                  reporting tool\n",
      "response                           safety case                        safety systems\n",
      "schematic capture                  seals                              senior level role\n",
      "similar sized organisation         similar software                   startup\n",
      "statistical tools                  stock taking                       streams\n",
      "strip                              structured finance                 supplier environment\n",
      "talent                             things                             transmission\n",
      "tutor                              verbal communication skills        virtual technologies\n",
      "virtualization                     warehousing                        residential property\n",
      "premium brand                      contractual negotiations           nonfunctional testing\n",
      "robots                             steam raising                      Accountant\n",
      "Air Conditioning                   Assessor                           B2C environment\n",
      "Banking sector                     CMMS                               CNC Machinist\n",
      "CPC                                Capital Equipment                  Central London\n",
      "Clinical Lead                      Data Centre environment            Design Engineer\n",
      "Digital Direct Response marketing  ENT                                Engineering company\n",
      "Engineering sector                 Engineering sectors                Enterprise\n",
      "EpiServer                          Executive level                    External Audit\n",
      "Facilities                         Families                           GSM\n",
      "German market                      H S                                HNW\n",
      "Healthcare sector                  Hosting                            JPA\n",
      "L                                  L D                                LV\n",
      "Lean manufacturing                 Load                               Manufacturing Engineering\n",
      "Microsoft Office Suite             Microsoft Operating Systems        Microsoft Packages\n",
      "Motor Industry                     Network Engineer                   New Business Development\n",
      "New Product                        Omnigraffle                        Oracle Ebusiness Suite\n",
      "PFMEA                              Perl development                   Pharmaceuticals\n",
      "Private Client Tax                 Probate                            Project Coordinator\n",
      "Publishing                         RTC                                Residential\n",
      "Retail Systems                     Retail organisation                SANs\n",
      "Sales Negotiator                   Salesforce CRM                     Scrum methodology\n",
      "Senior Account Manager             Servicing                          Software Architect\n",
      "Solid works                        Sponsorship Sales                  Stress\n",
      "Technical Customer Service         Technologies                       Unified Modelling Language\n",
      "Valves                             Vmware                             Wireless\n",
      "Work Programme                     accounting practice                administrative tasks\n",
      "allied                             authoring                          automating\n",
      "below skills                       build tools                        building services sector\n",
      "case work                          certifications                     child care\n",
      "client relationship management     collaborative                      component manufacturing environment\n",
      "continuous improvement techniques  converters                         copy writing\n",
      "copywriter                         course                             creativity\n",
      "customer relations                 decision making                    demonstrable ability\n",
      "dependency injection               design implementation              design substantiation\n",
      "detailed engineering               digital advertising                distribution sector\n",
      "distributor                        drink                              early stage\n",
      "electrical wholesale industry      electromechanical manufacturing    electronic\n",
      "electronic components              emarketing                         environmental legislation\n",
      "factory                            finance team                       financial services clients\n",
      "food production                    foundations                        freight\n",
      "front end                          full product life cycle            genuine passion\n",
      "grounds                            groundwork                         head\n",
      "health promotion                   helpdesk environment               high pressure environment\n",
      "hotel leisure                      insurance sales                    intermediate level\n",
      "introduction                       leasehold                          leases\n",
      "leasing                            life sciences                      maintenance management systems\n",
      "management capacity                managerial responsibilities        mechanical engineering background\n",
      "mobile app                         mobile web development             mobility\n",
      "monthly                            multitude                          numerate discipline\n",
      "online marketing campaigns         optimising                         other business areas\n",
      "paced environment                  patch management                   penetration\n",
      "pension schemes                    power transmission                 pressurised environment\n",
      "previous knowledge                 print production                   profit\n",
      "project roles                      pumping                            quarterly targets\n",
      "regional firm                      relationship building skills       role Experience\n",
      "safety legislation                 sales targets                      same industry\n",
      "securing                           sheet metal design                 social care environment\n",
      "social games                       social media campaigns             solid experience\n",
      "solutions architecture             specialism                         staff teams\n",
      "statutory requirements             storage products                   surveyor\n",
      "team management experience         test experience                    test procedures\n",
      "testing methods                    toolkit                            training industry\n",
      "trend analysis                     webbased applications              youth work\n",
      "heritage                           FitNesse                           marketing events\n",
      "water hygiene                      1st line support                   Agriculture\n",
      "Application design                 B****C environment                 B2B sector\n",
      "CRM software                       Coding                             Commercial Insurance\n",
      "Conveyancing                       Earthworks                         Environmental Management\n",
      "Environmental Management systems   Events Management                  Events industry\n",
      "FSA                                Fire                               Force.com\n",
      "GUI                                Home Care                          ISO14001\n",
      "InfoPath                           Insurance Industry                 JSPs\n",
      "LDAP                               Language                           Leading\n",
      "Lettings Manager                   M&A                                MIS\n",
      "MS Office products                 MS SharePoint                      Marine Engineering\n",
      "MathCAD                            Microsoft Reporting Services       Microsoft Technologies\n",
      "Motor                              NOC                                Oracle experience\n",
      "PHP Developer                      Personal Assistant                 Prince2\n",
      "Product Control                    Production Engineering             Project Planner\n",
      "Property sector                    Residential Property               Roll\n",
      "SCADA programming                  SME environment                    Science\n",
      "Solid Edge                         Solid Works                        Solid experience\n",
      "Speech                             Structures                         TOAD\n",
      "Technical Lead                     Vsphere                            Web Designer\n",
      "aerospace manufacturing environmentapprenticeship                     associated tools\n",
      "blogging                           broad exposure                     business environments\n",
      "business sectors                   business strategy                  business support\n",
      "categories                         clientfacing position              company car\n",
      "computer systems                   construction contracts             consultancy services\n",
      "corporate law                      counselling                        current position\n",
      "data handling                      data security                      developers\n",
      "dialysis                           efficiency                         electrical control systems\n",
      "electronic fault diagnosis         end users                          engine\n",
      "engineering management             equipment validation               expert knowledge\n",
      "financial analyst                  full spectrum                      good Excel skills\n",
      "graduate calibre                   hobby                              industrial background\n",
      "instance                           international markets              lab\n",
      "legal applications                 lifting                            line management experience\n",
      "load balancers                     long term contract                 low volume manufacturing environment\n",
      "machine shop environment           major retailers                    market sector\n",
      "meeting targets                    messaging                          moderation\n",
      "month end reporting                more areas                         motion\n",
      "multicountry projects              operational risk                   own homes\n",
      "performance analysis               practical problem                  presentation preparation\n",
      "professional services company      project controls                   project costing\n",
      "quality assurance environment      railway                            real estate\n",
      "recording                          regulatory issues                  relevant area\n",
      "renewals                           requirements capture               residential homes\n",
      "search marketing                   sheet metal work                   software solutions\n",
      "software test                      sound                              space industry\n",
      "statutory accounting               subcontractors                     teacher\n",
      "technical solutions                testing frameworks                 trust\n",
      "vehicle environment                vessels                            volume catering\n",
      "web server administration          website content                    writing copy\n",
      "asbestos market                    Asbestos Sales Management          Care Proceedings\n",
      "Operational Managers               Risk Assessors                     Service Engineers\n",
      "Vehicle Maintenance                Safeguarding                       career development\n",
      "restaurant background              global banking                     airmonitoring\n",
      "vehicle design role                Accounts Manager                   complaints escalation\n",
      "Software Development Lifecycle     asbestos industry                  nursing patients\n",
      "sales professional                 asbestos sector                    Private Sector healthcare\n",
      "work place                         Dynamics NAV                       full potential\n",
      "key requirements                   industry qualifications            long term care\n",
      "Problem Management                 higher                             General Practice\n",
      "Mechanical Maintenance Engineer    Agile Development                  Automation testing\n",
      "Medical specialities               chef de partie level               full recruitment cycle\n",
      "Source Control                     pub environment                    store manager\n",
      "Haemodialysis                      staff issues                       ASM\n",
      "Aftersales Manager                 Sales Advisor                      qualified Registered Nurse\n",
      "Business Travel Consultant         Care Industry                      Financial Services experience\n",
      "Microsoft Dynamics                 Microsoft Sharepoint               commercial marketing role\n",
      "office supplies                    realtime systems                   relevant projects\n",
      "Infrastructure projects            Linux Administration               MVC Framework\n",
      "Refining                           Trouble                            domiciliary\n",
      "project management experience      software development lifecycles    versions\n",
      "visit                              .NET framework                     .Net environment\n",
      "3rd level support                  Informatica PowerCentre            KPIs\n",
      "Programmer                         Rosette                            Setter\n",
      "computer programming               development approaches             electromechanical equipment\n",
      "presales role                      version control tools              whole development lifecycle\n",
      "engagements                        internal controls                  engineering organisation\n",
      "more info                          Anaesthetic                        Contract Consultant\n",
      "Elite                              Equities                           Linux environment\n",
      "Network                            Proven experience                  Reuters\n",
      "Schools                            Senior Quantity Surveyor           Supplier Management\n",
      "VB.net                             VMware vSphere                     breast\n",
      "contractor management              data quality                       digital arena\n",
      "direct line management             executive level                    general manager\n",
      "interview process                  large number                       primary care setting\n",
      "strong problem                     subsystems                         volume environment\n",
      "web hosting                        full understanding                 Fashion Retail environment\n",
      "adolescents                        stroke                             Adobe Captivate\n",
      "Application Development            BES                                Beverage\n",
      "Cocoa Touch                        Construction Trades                Credit\n",
      "Engineering discipline             Enterprise environment             IT services industry\n",
      "MRICS                              Metal                              Perl Development\n",
      "RAC                                Secretarial                        Sous Chef role\n",
      "air compressors                    cabling industry                   compilation\n",
      "completions                        disciplinaries                     due diligence\n",
      "facets                             finite element analysis            front end technologies\n",
      "loans                              major                              major programmes\n",
      "new process development            o                                  real\n",
      "requests                           retail marketing                   secondment\n",
      "service provider                   software lifecycle                 standard\n",
      "supply base                        system management tools            user support\n",
      "Travel Consultant                  less                               MRP system\n",
      "compiling                          trend                              Appointment Setting\n",
      "Automation Testing                 BSc                                Background\n",
      "C Development                      Database Management                EJB\n",
      "EMEA                               ERP implementations                EU Programmes\n",
      "England                            FDA                                Food Manufacturing\n",
      "Haematology                        Instrumentation Engineer           Investments\n",
      "London firm                        MX                                 Mail\n",
      "Market Risk                        Private Medical Insurance          Product Marketing\n",
      "Quality systems                    Ruby development                   Seimens\n",
      "Senior Business Analyst            Senior Practitioner                Service Advisor role\n",
      "Solutions Architect                Transport                          UI Design\n",
      "Web Applications                   Windows OS                         agile development environment\n",
      "bespoke applications               building websites                  businesstobusiness sales\n",
      "central London                     client services                    clinical environment\n",
      "code reviews                       compact team                       consultancy assignments\n",
      "control strategies                 coronary care                      corporate tax compliance\n",
      "data analytics                     dealer                             electrical control\n",
      "emergency lighting                 enterprise monitoring applications factories\n",
      "food business                      general medical                    good degree\n",
      "gotomarket strategies              high level projects                high pressured environment\n",
      "homecare                           html                               information technology\n",
      "initiative                         key stage                          management tools\n",
      "manufacturing facility             metal products                     migration projects\n",
      "mould                              other relevant experience          requirements analysis\n",
      "safe                               short                              side\n",
      "software implementation projects   strong portfolio                   successful applicant\n",
      "support planning                   systems architecture               technology platforms\n",
      "tight tolerances                   uncapped OTE                       various industries\n",
      "Symfony                            key technologies                   Azure\n",
      "Linux System Administrator         enterprise architecture            Biztalk\n",
      "ETL processes                      Unity                              commercial building maintenance\n",
      "interfaces                         3D                                 CAM software\n",
      "CNC Machine                        COINS                              CRM Systems\n",
      "Commodities                        Customer Service role              Dashboards\n",
      "EYFS curriculum                    Excellent analytical skills        Fresh Produce\n",
      "Front Office Development           HR Business Partner                Haas\n",
      "Insurance Market                   J****EE development                MS Office packages\n",
      "MSK                                Management level                   Mathcad\n",
      "Mechanical design                  Network Administration             Network Management\n",
      "OCS                                Office Management                  Open Source Test Automation\n",
      "Oracle SQL                         PAYE                               PRINCE2\n",
      "Pastry                             Pharmaceutical company             Practice Manager\n",
      "Quality aspects                    Rosette level                      SAP BW\n",
      "SAP implementation                 Senior Estimator                   Siemens controls\n",
      "SystemVerilog                      Systems Administrator              TOGAF\n",
      "UK firm                            UK practice                        VM\n",
      "Vendor Management                  WINDES                             Windows Mobile\n",
      "Worcestershire                     anyone                             appointing\n",
      "authorisations                     automotive background              blue chip organisation\n",
      "brief                              broad understanding                business case development\n",
      "business solutions                 caching                            care home setting\n",
      "client account management          clubs                              code development\n",
      "collaboration                      collateral management              complex employee relations\n",
      "contract review                    cross selling                      data networks\n",
      "demanding environment              design management                  digital products\n",
      "driver development                 endtoend                           engineering tools\n",
      "everything                         few years                          field role\n",
      "implementation projects            incident                           input\n",
      "least 1                            lone working                       management accounting role\n",
      "market knowledge                   marketing teams                    medical device manufacture\n",
      "migrating                          mobile handsets                    mySQL\n",
      "networking fundamentals            new business field sales           organisational\n",
      "other language                     outlook                            paint\n",
      "pioneers                           practical implementation           primary role\n",
      "procedure                          quality hotel                      quality improvement\n",
      "related disciplines                related technology                 renewables\n",
      "shutters                           social work                        social worker\n",
      "staff leadership                   stakeholder management skills      strong commercial acumen\n",
      "structured project environment     subject                            switch\n",
      "tech                               technical projects                 toolchains\n",
      "trailers                           user testing                       utilities industry\n",
      "vetting                            wastewater areas                   water treatment plants\n",
      "white goods                        windows server                     SharePoint Development\n",
      "legal firm                         Checkpoint                         RedHat\n",
      "Ubuntu                             VPN                                accreditation requirements\n",
      "design teams                       game development                   local area\n",
      "web environment                    ElectroMechanical                  Oracle database programming\n",
      "SRM                                UNIX tools                         consultancies\n",
      "5S                                 AA                                 ABPI\n",
      "ASP.NET web development            Adobe                              Adobe Flash\n",
      "Amazon EC                          Angela                             Assurance\n",
      "BMS controls                       BMS systems                        BPR\n",
      "C Knowledge                        CMS platform                       Castle Windsor\n",
      "Catering                           Company Secretary                  Consumer Electronics\n",
      "Corporation Tax                    Cost Management                    Credit Control position\n",
      "Crystal                            Designing                          Document Management\n",
      "EMEA region                        Electrical Maintenance             Embedded systems\n",
      "Evaluation                         Excellent communication            Finance department\n",
      "Financial Markets                  Fleet                              GPS\n",
      "HPUX                               HR Officer                         HR matters\n",
      "Hedge Fund                         Hudson                             IT Security\n"
     ]
    },
    {
     "name": "stdout",
     "output_type": "stream",
     "text": [
      "IT market                          IT packages                        IT recruitment industry\n",
      "IT support role                    ITIL processes                     JIT\n",
      "Java EE                            Java Spring                        Legal Cashier\n",
      "Line Management                    Linux Engineer                     London schools\n",
      "M A                                Management Systems                 Microsoft Office Packages\n",
      "Mitsubishi                         Murex development                  NEBOSH\n",
      "Network Operations                 Networking Technologies            Networks\n",
      "Nonconformance                     OS                                 Object Oriented\n",
      "Out                                PBX                                People Development\n",
      "Planning Manager                   Products                           RECRUITMENT\n",
      "Recoveries                         Regional Manager                   SIP\n",
      "SOA principles                     SPC                                SQL experience\n",
      "STB                                Sales Director                     Service Design\n",
      "Software Developer                 Software development               Spring MVC\n",
      "Strong communication skills        Support role                       System Administrator\n",
      "Systems Analyst                    Talent                             Team Manager\n",
      "TeamCity                           Technical sector                   Thames Water\n",
      "Unigraphics                        WEB                                Willingness\n",
      "WinForms                           XYZ                                abstraction\n",
      "accounting systems                 active directory                   adolescent services\n",
      "aerospace industries               agreement                          approval process\n",
      "autocad                            automotive manufacturing sector    behaviours\n",
      "bodyshop                           boiler systems                     branch manager\n",
      "business services environment      busy kitchen environment           challenges\n",
      "chemical                           chemistry                          claims handling\n",
      "clerical role                      clinical supervision               collections environment\n",
      "commercial matters                 communications systems             competitor\n",
      "complex business                   computer forensics                 computerised systems\n",
      "condition monitoring               contractual issues                 control equipment\n",
      "credit hire                        customer interaction               customer sales\n",
      "defect tracking                    demonstrable results               design experience\n",
      "design practices                   despatch                           digital communications\n",
      "disposals                          domain                             drilling equipment\n",
      "enforcement                        engineering processes              enhancing\n",
      "events sector                      excellent negotiation skills       excellent presentation\n",
      "exports                            facing skills                      financial accounting systems\n",
      "financial procedures               financial sales                    fine dining establishment\n",
      "foundation design                  fresh produce                      full development cycle\n",
      "full life cycle projects           full training                      funding\n",
      "futures                            games industry                     general management\n",
      "hardware configuration             healthcare sales                   homelessness\n",
      "horizontal                         identity                           income protection\n",
      "industrial sectors                 infrastructure support             integrating\n",
      "interview                          ladder logic                       large company environment\n",
      "large databases                    lean tools                         life insurance\n",
      "local knowledge                    logistics experience               machine design\n",
      "marketing strategies               messaging technologies             milling machines\n",
      "multiskilled maintenance engineer  ntier                              nursery manager\n",
      "objection handling                 online industry                    order management\n",
      "overtime                           packaging environment              particular knowledge\n",
      "permanent placements               private client                     private sector work\n",
      "process analysis                   process engineer                   product assembly\n",
      "professional kitchen               quality management system          reception duties\n",
      "relational database systems        relevant software                  restore\n",
      "retailers                          roleExperience                     sales negotiator\n",
      "scripts                            security management                significant exposure\n",
      "source code control                sphere                             startup environment\n",
      "storage solutions                  storage technologies               sub contractors\n",
      "subscriptions                      successful project management      team building\n",
      "technical leadership role          technical roles                    telecommunications sector\n",
      "telesales experience               test engineering                   track\n",
      "training sector                    transport operations               troubleshooting experience\n",
      "user interface                     vendor management                  vertical\n",
      "watches                            web application                    wine\n",
      "working shifts                     workloads                          BASH\n",
      "Commercial Management              Surveillance                       Hedge Funds\n",
      "IP environment                     Manufacturing background           burners\n",
      "car dealership                     commercial negotiation             deputy\n",
      "2nd                                3rd party                          ADP\n",
      "ASME codes                         Account management                 Altiris\n",
      "Appian                             B2B sale                           B2B telesales\n",
      "BPM                                Bars                               Broker\n",
      "Business Analytics                 CAD design                         CAN\n",
      "CISCO equipment                    CNC Machines                       CNC Miller\n",
      "CNC Milling                        Change Control                     Child Protection Team\n",
      "Cisco routers                      Cisco routing                      Clinical Negligence\n",
      "Community                          Conference                         DAM\n",
      "DC schemes                         Database systems                   Debugging\n",
      "Defect                             Development role                   Elderly\n",
      "Electrical background              Engineering Industry               Engineering industry\n",
      "Enterprise Service Bus             Export                             FANUC controls\n",
      "FSA regulations                    Financial Controller               Financial Services organisation\n",
      "Fixed Income                       Flex                               Flight Management Systems\n",
      "Games                              General surgery                    HV\n",
      "Hazards                            Healthcare industry                Heidenhein\n",
      "IFA practice                       IRS                                IT Audit\n",
      "IT Trainer                         IT support environment             Indepth knowledge\n",
      "Installations                      Integrated Modular Avionics        Intermediate Care\n",
      "International exposure             JMeter                             Law firm\n",
      "Lift industry                      Lombardi                           MS Office Applications\n",
      "MS Windows Server                  Macros                             Main Dealer\n",
      "Microsoft Office products          Microsoft platform                 Microsoft software\n",
      "NPD process                        NetApp SAN                         NetBackup\n",
      "Neuro                              OO language                        OnBoard Maintenance Systems\n",
      "Online Marketing                   Online marketing                   Oracle Support\n",
      "Outbound                           PI                                 PPC campaigns\n",
      "Palliative care                    Pro Engineer                       Project Accounting\n",
      "Quality Center                     Quality Inspection                 R&D\n",
      "RAF Flying Operations              Radiology                          Radios\n",
      "Reliability Centred Maintenance    Residential Conveyancing           Resourcing\n",
      "Risk Assessment                    SAP Business One                   SAP Enterprise Portal\n",
      "SAP systems                        SAS Base                           SATS\n",
      "SSIS packages                      SWT                                Sage payroll\n",
      "Sales Engineer                     Senior Chef de Partie              Social Work\n",
      "Solaris operating systems          Spanish                            Stroke\n",
      "Strong experience                  Symantec Backup Exec               Team Leader position\n",
      "Technical Knowledge                Tesco                              Thoracic\n",
      "Toolmaker                          UMTS                               Umbraco CMS\n",
      "Underwriter                        VAT returns                        VB Script\n",
      "Validation                         Volume                             Windows development\n",
      "above role                         above tasks                        accounting department\n",
      "aim                                analysis Experience                analysis tools\n",
      "antivirus                          appointment making                 approval processes\n",
      "architecture Experience            back office                        balance sheet reconciliations\n",
      "band                               bar work                           beauty\n",
      "bench fitting                      biotech                            bluechip organisations\n",
      "broad spectrum                     broking                            bureau\n",
      "business manager                   busy restaurant                    campaign evaluation\n",
      "car allowance                      cards                              central government\n",
      "change environment                 chilled environment                civil engineering industry\n",
      "client expectations                coil                               commercial environments\n",
      "commercial requirements            common web technologies            communication channels\n",
      "computer literacy                  computer science                   conservation\n",
      "consultancy firms                  consultancy work                   consumer goods environment\n",
      "control panel                      coordination role                  copper\n",
      "cosmetics                          cost analysis                      cost reduction\n",
      "credit control function            data acquisition                   data warehouse systems\n",
      "database performance               date technology                    days holiday\n",
      "defence markets                    deliverables                       demonstrable background\n",
      "design methodologies               design related environment         different stages\n",
      "digital marketing campaigns        direct management                  disassembly\n",
      "double entry                       eCommerce projects                 eLearning\n",
      "electrical equipment               email systems                      encouraging\n",
      "engineering business               engineering development            engineering drawings\n",
      "excellent IT skills                excellent skills                   excellent telephone manner\n",
      "experience Experience              exploratory testing Experience     facility management\n",
      "finance system                     financial forecasting              financial report\n",
      "fit                                fittings                           food processing\n",
      "frontend                           gift                               good experience\n",
      "graduation                         group work                         high power\n",
      "high precision                     homewares                          html5\n",
      "implementation work                imports                            indepth understanding\n",
      "industrial equipment               industrial relations               keen desire\n",
      "large business                     large companies                    legal background\n",
      "long term cover                    maintenance engineering            management procedures\n",
      "manual handling                    manufacturing company              manufacturing environment Experience\n",
      "manufacturing operations           marketing analysis                 mechanics\n",
      "mobile sites                       motor drives                       multimillion pound projects\n",
      "national level                     network solutions                  networking products\n",
      "numbers                            offshore structures                operational planning\n",
      "operations manager                 optimizing                         other area\n",
      "other software                     other team members                 overall design\n",
      "overhaul                           packaging industry                 partners\n",
      "patterns                           petrochem sector                   planning process\n",
      "plastic                            policy                             portfolio\n",
      "positioning                        postproduction                     practical understanding\n",
      "practice development               practises                          proactive attitude\n",
      "product certification              product pricing                    project experience\n",
      "project management lifecycle       property development               proposal writing\n",
      "recoveries                         redundancy                         registration\n",
      "reservations                       retail sectors                     road\n",
      "safe working practices             safety role                        scientific sector\n",
      "screen printing                    senior leadership                  service centre environment\n",
      "service organisation               services environment               shell\n",
      "similar care setting               site supervision                   software development processes\n",
      "solicitor                          solid track record                 spam\n",
      "stage                              star hotels                        strong analytical skills\n",
      "strong level                       substance                          system implementations\n",
      "system requirements                tax planning                       technology company\n",
      "telephony environment              tender                             textiles\n",
      "theatre scrub                      theatre setting                    tier application development\n",
      "time management                    title                              transition\n",
      "translating                        translations                       treatments\n",
      "trials                             unit testing frameworks            value stream\n",
      "waste                              website management                 working hours\n",
      "x                                  testing management                 Family\n",
      "UV                                 collation                          metal fabrication\n",
      "music                              presses                            timber industry\n",
      ".Net platform                      3rd line                           3rd parties\n",
      "ASA                                Administrative role                Adobe Illustrator\n",
      "Adobe InDesign                     Apache Tomcat                      Apex\n",
      "Asset                              Auditor                            B\n",
      "BI Development                     Building Services Design           CNC milling\n",
      "CPM                                Camel                              Carl\n",
      "Chartership                        Child Protection team              Class Teacher\n",
      "Clerkenwell                        Commercial environment             Cost Engineer\n",
      "Customer                           DWP                                Datawarehouse\n",
      "Debt Recovery                      Delphi                             Desirable Skills\n",
      "Digital Electronics Design         Digital Media                      Diploma level\n",
      "Director Level                     Domestic                           EMIS\n",
      "Environment                        Excellent understanding            FEA analysis\n",
      "FPGA development                   Field Sales Executive              Finite Element Analysis\n",
      "Front End development              Functional                         G\n",
      "Gaming                             Generators                         HR Administrator\n",
      "HSE                                HTML editing                       Heat Treat processes\n",
      "ICE                                IECEx                              IFA\n",
      "IT Security sector                 ITIL best practice                 IaaS\n",
      "Income Officer                     International                      Intruder Alarm\n",
      "Inventory                          Java Experience                    Joint Venture\n",
      "Joomla                             Kitchens                           LAMP environments\n",
      "Linux command line                 Lloyds market                      MOT preparation\n",
      "MS Dynamics                        MS office                          Manual testing\n",
      "Microchip Microcontrollers Key Responsibilities SupportNetwork Support                    Oracle Data Integrator\n",
      "Oracle HR                          PAT testing                        PDI\n",
      "PPI industry                       PREP requirements                  PS\n",
      "Performance testing                Pre Sales                          Premiere\n",
      "Primary Schools                    Problem                            Process Industry\n",
      "Processing                         Publisher                          Quality Management systems\n",
      "RC                                 RC detailing                       Regression\n",
      "Retail Banking                     SDLC methodology                   SEBD\n",
      "Sales Representative               Sales Trainer                      Scheme\n",
      "Security industry                  Senior Developer                   Senior Management level\n",
      "Solvency II                        Staff                              Stress Engineering\n",
      "Thorough knowledge                 Troubleshooting                    Trusts\n",
      "UK Hospital                        UK Water Industry                  UNIX platform\n",
      "User Acceptance Testing            Vehicle Sales                      Web Testing\n",
      "Windows servers                    Xilinx FPGAs                       absence\n",
      "accounting qualification           agency side                        anything\n",
      "application frameworks             art                                aseptic techniques\n",
      "audit role                         automotive industry Experience     balance\n",
      "betting sector                     body                               bonding\n",
      "building rapport                   case management system             challenging\n",
      "civil engineering contractor       client servicing                   commercial environment Experience\n",
      "commercial outlook                 commercial vehicle                 compatibility\n",
      "complex diary management           consumables                        consuming\n",
      "continuous process improvement     corporate actions                  counterbalance\n",
      "creative solutions                 credit analysis role               customer liaison\n",
      "data centre                        data governance                    data models\n",
      "data products                      deadlines                          decommissioning\n",
      "defect management                  detailed understanding             digital analytics tools\n",
      "digital board level design         direct liaison                     display units\n",
      "end user                           erection                           estimator\n",
      "expense management                 experience teaching                expert level\n",
      "external compliance                facility                           financial institutions\n",
      "financial responsibility           financial services business        financial services company\n",
      "financial services market          financial software solutions       first instance\n",
      "flexibility                        fluency                            fluid flow\n",
      "full design cycle                  furniture                          glass\n",
      "health care                        heavy engineering background       heavy mechanical equipment\n",
      "high end residential projects      high number                        high technology environment\n",
      "hiring                             hydrodynamics                      hygiene\n",
      "industrial market place            industrial markets                 industrial setting\n",
      "innovative approaches              intellectual property              international bank\n",
      "inventory                          key account management             laboratory work\n",
      "large audiences                    large team                         lines\n",
      "major infrastructural projects     management information             management training\n",
      "managing databases                 masonry                            material handling equipment\n",
      "mechanical engineering principles  microprocessor systems             multinational\n",
      "multiple work streams              music industry                     new product launches\n",
      "numerical techniques               off                                offerings\n",
      "online systems                     open source                        organizing\n",
      "overseas events                    oversight                          paced\n",
      "payment industry                   period                             perspective\n",
      "petty cash                         photo shop                         photoshop\n",
      "pipe work                          preparations                       press tooling\n",
      "previous telesales                 product introduction               product selection\n",
      "programming CNC                    programming role                   project management environment\n",
      "property law                       purposes                           quality department\n",
      "quarterly                          quoting                            real estate finance\n",
      "records management                 recovery procedures                recycling industry\n",
      "reporting processes                requirements definition            resource allocation\n",
      "resource requirements              rollouts                           rules\n",
      "sales account management           sales forecasting                  senior consultant\n",
      "senior sales role                  server hardware                    services company\n",
      "shutdowns                          similar type                       size\n",
      "social networking                  specialties                        splits\n",
      "sport                              strong negotiation skills          strong relationships\n",
      "subjects                           survey                             tailoring\n",
      "team members                       technical authoring                tester\n",
      "theory                             thermal analysis                   timber\n",
      "track design                       tutoring                           user training\n",
      "validating                         validation processes               valuing\n",
      "various levels                     volume recruitment                 web service integration\n",
      "workforce planning                 innovative new products            bed sector\n",
      "retaining                          statistical modelling              nursing residential care\n",
      "AXAPTA                             locum position                     gaming consoles\n",
      "various PC Operating Systems       stills                             PC gaming systems\n",
      "personalisation                    cocktails                          fashion retailer\n",
      "desk                                Knowledge                        excellent company benefits package\n",
      "asbestos arena                     finance house                      quality fresh food environment\n",
      "service user group                 acute hospital setting             cranes\n",
      "design organisation                ongoing maintenance                Unit Manager\n",
      "H S awareness                      restaurant manager                 Psychiatry\n",
      "employer engagement capacity       internal team                      past year\n",
      "performance reviews                supervisions                       CP\n",
      "Care industry                      Home Management                    Microsoft Dynamics NAV software\n",
      "construction sites                 energy market                      rectification\n",
      "scrub                              similar brand                      delivery process\n",
      "NAV                                Quality Manager                    bar operation\n",
      "relevant experience Experience     Technical Business Analyst         Ethylene/ Petrochemicals\n",
      "HGV                                SAS solution development           Staffordshire\n",
      "Structured                         bathrooms                          bid\n",
      "complexities                       dementia clients                   deputy manager\n",
      "financial acumen                   high volume business               lathes\n",
      "tSQL                               ASIC                               Computer Science\n",
      "Financial services                 Network Protocols                  Open Source Software project development\n",
      "Operational Management             Operations Director                PDS\n",
      "SEN environment                    SQL Server environments            South Africa\n",
      "casual dining                      construction equipment             diverse team\n",
      "effective partnership              everyone                           excavators\n",
      "fashion environment                fast paced business                fresh food operations\n",
      "good level                         mechanical installations           salesforce\n",
      "Solr                               business continuity                3rd line role\n",
      "Business Development Manager role  Business Systems Analyst           COBIT\n",
      "District Energy Schemes            Dudley                             Fashion Retail environment Third Level qualification\n",
      "JEE Experience                     Quality Controller                 User Experience Design\n",
      "aesthetic industry                 anaesthesia                        asbestos airmonitoring\n",
      "big data                           civil engineering related disciplinecivils project experience\n",
      "complex orthopaedic                database concepts                  digital devices\n",
      "eCommerce websites                 industry software                  macro language\n",
      "outbound business                  redundancies                       regression procedures\n",
      "residential experience             retail environments                steel frame commercial experience\n",
      "strong desire                      substance misuse                   training sales\n",
      "transactional websites             treatment                          triggers\n",
      "verbal communication               functional consultant              Grails\n",
      "C developer                        CRM system                         Durham\n",
      "Electrical Engineer                Electronic Testing                 IPVPN\n",
      "Infrastructure Specialist          Infrastructure project             MPLS technologies\n",
      "MS Dynamics AX                     Object Oriented programming        PCs\n",
      "Platforms                          Pressure Vessels                   Project Management environment\n",
      "Quality requirements               Science Department                 VAT compliance\n",
      "acute care environment             agile methods                      automation tools\n",
      "chef de partie                     client teams                       construction site\n",
      "control frameworks                 corporate marketing                data systems\n",
      "design concepts                    engineering solutions              entire software lifecycle\n",
      "financial solutions market         formulation development            great benefits\n",
      "keen interest                      key worker                         large volume\n",
      "pastry section                     press tools                        retargeting\n",
      "rosette                            sales activities                   successful agency\n",
      "test design                        web development sphere             Plant Maintenance\n",
      "CO                                 vSphere                            2010\n",
      "2nd line application support       Accident                           Accountancy Practice\n",
      "Agile environment Experience       Assessments                        Bid Management\n",
      "Broadcast                          CASE tools                         CNC Machining\n",
      "Care sector                        Commercial Experience              Condition Management\n",
      "Conquest                           Customer service                   DM\n",
      "Dental Nursing                     Education Recruitment              Emergency\n",
      "Enterprise Vault                   Excellent customer service skills  Freight\n",
      "HYSYS                              Helpdesk role                      IoC\n",
      "Jigs                               Launch                             MES\n",
      "MI reporting                       Marine sector                      NVQ Level\n",
      "Oracle EBusiness suite             PLC fault finding                  Public Services\n",
      "Special Needs                      Statistical tools                  Test Automation\n",
      "TestComplete                       Transport Planner                  UAE\n",
      "VMware virtualisation              Voice                              Years experience\n",
      "breaks                             build systems                      caching solutions\n",
      "campaign planning                  care organisation                  care profession\n",
      "cleansing                          communication skills Experience    consultancy skills\n",
      "consultative sales environment     cosmetic surgery                   demand\n",
      "deputy management                  development processes              digital marketing agency\n",
      "distribution channels              email marketing campaigns          engineering machine shop environment\n",
      "fast paced working environment     following key areas                full lifecycle application development\n",
      "gas experience                     good benefits package              guest\n",
      "handson management                 income                             infrastructure architecture\n",
      "injection                          international assignments          international organisation\n",
      "investment sales                   large contracts                    law\n",
      "management qualification           marketplace                        multithreaded\n",
      "night                              nursing position                   objectorientated language\n",
      "payments industry                  placing                            plumbing systems\n",
      "procedure development              programming environment            pub\n",
      "public practice                    quality environment                quality establishment\n",
      "recruitment market                 relational database                replacement\n",
      "reporting methods                  resort                             secretarial duties\n",
      "senior nurse                       server administration              services sector\n",
      "shaping                            software sector                    system engineering\n",
      "systems integrator                 talent management                  telephone work\n",
      "telesales advisor                  test teams                         tiers\n",
      "training sessions                  turnovers                          workflow systems\n",
      "ongoing delivery                   Compressors                        concise manner\n",
      "server product development         similar system                     value analysis\n",
      ".NET Developer                     ARC                                Air conditioning\n",
      "Bespoke                            Bloomberg                          Body\n",
      "Building services                  Care Management                    Cisco networking\n",
      "Cisco switches                     Contribution                       DDD\n",
      "Deployment                         Deputy Management level            Document management\n",
      "EMC Desirable                      ER                                 European cultural environment\n",
      "FMCG organisation                  Google                             HL\n",
      "HMI                                Health Insurance marketplace       ISEB\n",
      "ITIL framework                     Indepth understanding              JS\n",
      "Linux environments                 Liver                              MIG welding\n",
      "Microsoft integration              Microsoft stack                    Mig\n",
      "Mitel                              Object Oriented Design             Object Oriented design\n",
      "Operating System                   Oracle Applications                Outbound Sales\n",
      "Project Manager capacity           Qualifications                     Quality Assurance field\n",
      "Quality Systems                    RUP                                Retailer\n",
      "SCADA software                     SFTP                               Sales ledger\n",
      "Schematic Capture                  Shropshire                         Sous Chef position\n",
      "Storage experience                 Structural                         Telford\n",
      "Trade                              UI technologies                    UK curriculum\n",
      "Unix systems administrator role    User Experience                    Video\n",
      "Virtualisation technologies        Vista                              Web Developer role\n",
      "Websites                           aluminium                          anaesthetic practice\n",
      "backend database                   billings                           block management\n",
      "business software                  businesses technology              carer\n",
      "cellar management                  certain discipline                 classes\n",
      "commercial acumen                  commercial installations           commercial sales\n",
      "communications industry            complex organisations              contract execution\n",
      "contribution                       ecommerce solutions                editor\n",
      "electromechanical manufacturing environmentembedded                           entrepreneurial environment\n",
      "excellent management skills        excellent presentation skills      export administration\n",
      "external audits                    extrusion                          fee earning\n",
      "financial controller               formal Service Desk tools          formal methods\n",
      "full development lifecycle Experiencegaming sectors                     generalist HR function\n",
      "gifts                              good exposure                      gynae surgery\n",
      "high levels                        high street retailer               high tech manufacturing environment\n",
      "high volume manufacturing          home management                    insurance organisation\n",
      "leading role                       legal setting                      local council\n",
      "logistics management               machine installation               maintenance management\n",
      "manufacturers                      marketing activities               marketing analysis environment Knowledge\n",
      "mining                             mobile technology                  monitoring processes\n",
      "multicultural environment          next year                          other analytics tools\n",
      "personas                           placements                         plumbing works\n",
      "product development processes      programs                           progressing\n",
      "project cost control               project leadership                 public sectors\n",
      "quality food                       receivables                        recent practice\n",
      "related products                   relocation                         renewal\n",
      "report building                    sales administration role          sales executive\n",
      "secure setting                     senior electronics design engineer positionservice business\n",
      "service desk team                  servo drives                       similar experience\n",
      "software application               software asset management          software verification\n",
      "solicitors                         strong exposure                    structured Test Modelling techniques\n",
      "supply teaching                    survey experience                  tax computation\n",
      "technical discipline               technical testing                  test execution\n",
      "total                              traffic                            units\n",
      "van sales                          working nights                     writing bids\n",
      "final inspection                   campaign management tools          high growth\n",
      "mental health issues               checkin                            Quality Engineering environment\n",
      "electronic systems                 enforcing                          17th edition\n",
      "2nd Line Support                   ACA                                ASSISTANT MANAGER\n",
      "Analyst role                       Android Development                Apprentices\n",
      "Architects                         Asynchronous programming           Auditing\n",
      "AutoCAD Electrical                 AutoCAD software                   Automated testing\n",
      "BA role                            BDM                                BI tools\n",
      "Backup                             Barnstaple                         Birmingham\n",
      "Building Management Systems        Business development               C environment\n",
      "C++ Development                    CAD systems                        COBOL\n",
      "Change Management Searches         Channel Sales                      Chemistry\n",
      "Chronic Disease Management         Cisco Switches                     Cladding\n",
      "Coaching                           ColdFusion                         Commercial experience\n",
      "Commissioning position             Composites                         Consultancy Sales\n",
      "D                                  Developers                         Electrician\n",
      "Electronic Engineering             Embedded Software Engineer         Excellent Communication Skills Desirable Skills\n",
      "Executive                          FMCG sales                         Fabricator\n",
      "Financial                          Financial Systems                  Fire Detection\n",
      "Flexible Benefits                  HMI programming                    HR Manager level\n",
      "HR manager                         HR software                        HTML CSS\n",
      "Housing Association                II                                 IT Infrastructure\n",
      "IT Solution Sales                  IT management                      IT monitoring\n",
      "IT network infrastructure          Installing                         Java software development\n",
      "Jboss                              Jenkins                            Kidderminster\n",
      "LD                                 Linux platforms                    Local Government\n",
      "Marketing Campaigns                Michelin establishment             Michelin star kitchen\n",
      "Mirroring                          N                                  NEWCASTLE\n",
      "NOC environment                    Nuclear industry                   ONE\n",
      "OS X                               OT                                 OTC\n",
      "Optimisation                       Oracle eBusiness Suite             P&L\n",
      "PHP Frameworks                     PPC management                     PRU\n",
      "PSW                                PVC                                Partnership Marketing\n",
      "Pastry Sous Chef                   Patching                           Print\n",
      "Project Controls                   Quality assurance                  Red Hat Linux\n",
      "Requirements gathering             Restore                            Rosette standard\n",
      "SAS programming                    SAT                                SEO Sales\n",
      "SOX compliance                     SQL Clustering                     SQL Server Analysis Services\n",
      "Sales Support                      Site experience                    Social Services\n",
      "Special Educational Needs          Stored Procedures                  Stress analysis\n",
      "Strong knowledge                   Supervisory skills                 Surface Grinding\n",
      "Surgery                            Talent Management                  Teaching Year\n",
      "Telecommunications industry        Testing tools                      Theatre\n",
      "Toad                               Unigraphics NX                     Unix shell\n",
      "Us                                 Variable Speed Drives              Ventilation\n",
      "Web Design                         Web design                         West Midlands\n",
      "Windows Forms                      XenServer                          admin\n",
      "administration level               advising                           aerospace sector\n",
      "affiliate                          agricultural equipment             air monitoring\n",
      "aircraft engineering environment   allocating                         another\n",
      "architecting                       assays                             authorship\n",
      "backup procedures                  bonus scheme                       book keeping\n",
      "budget responsibility              business understanding             busy office\n",
      "callcentre                         care plan                          cell biology\n",
      "challenging environments           channel                            clerical support\n",
      "clinics                            commercial background              commercial finance team\n",
      "commercial vehicle industry        commodities                        community services\n",
      "competency                         complex realworld systems          complex sales\n",
      "conference centre                  consumer goods                     consumers\n",
      "consumption                        core C                             core responsibilities\n",
      "cost reporting                     critical path                      data mining tools\n",
      "decomposition                      definitions                        dental sales\n",
      "design organization                design techniques                  detail design\n",
      "determined attitude                diecasting                         different sectors\n",
      "digital project management         domestic heating                   electrical schematics\n",
      "electromechanical design           electronics engineering            encapsulation\n",
      "engineering environments           enterprise scale                   environment Ability\n",
      "equivalent combination             facetoface                         facetoface sales\n",
      "fans                               fibre                              films\n",
      "flavour                            flow                               fresh food kitchen\n",
      "front office environment           full lifecycle issues              full recruitment process\n",
      "full sales cycle                   full testing lifecycle             general surgery\n",
      "generous benefits package          global company                     global sourcing\n",
      "good appreciation                  good management experience         good quality food\n",
      "grievance                          grills                             high EAL\n",
      "hotel kitchen                      important                          improvement activities\n",
      "individual performance             inhouse recruitment                installation team\n",
      "institute                          interactive                        intercompany reconciliations\n",
      "international level                intraday                           jBoss servers\n",
      "knowledge management               landscaping                        large complex organisation\n",
      "large corporate                    large corporation                  large numbers\n",
      "layer                              leisure sectors                    liaising\n",
      "licensing                          materials handling                 maximum\n",
      "mechanical design engineering      mechanical disciplines             mechanical products\n",
      "media business development role    menu planning                      micrometres\n",
      "midsize                            mission                            multiagency\n",
      "multicurrency environment          multiple business lines            network management tools\n",
      "network protocols                  new market sectors                 obligations\n",
      "online usability                   operational activity               ophthalmology\n",
      "orthopaedic                        other CMS systems                  other content management systems\n",
      "paints                             party                              performance monitoring\n",
      "performance optimization           personal assistant                 polymer science\n",
      "polymorphism                       post operative care                postgraduate level\n",
      "procurement methods                product costing                    product training\n",
      "programming Fanuc                  purchase ordering                  quality engineer\n",
      "quality hotels                     radiography                        real time systems\n",
      "relevant subject                   renewable energy project developmentreporting skills\n",
      "residential service                retail catering                    route cause analysis\n",
      "safety regulations                 scope                              security barriers\n",
      "self service                       senior roles                       service technician\n",
      "sets                               sewers                             shooting\n",
      "shop                               similar size                       site team\n",
      "skills areas                       software development team          static site\n",
      "structure                          subcontract environment            surgical ward\n",
      "system engineer                    systems engineer                   technical analysis\n",
      "technical market                   technical requirements             technology field\n",
      "territories                        test rigs                          tier one\n",
      "topologies                         trafficking                        trial\n",
      "underwriter                        various disciplines                vast experience\n",
      "versioning                         video technologies                 ways\n",
      "web systems                        wide spectrum                      wireframes\n",
      "workforce                          young adults                       System Test\n",
      "Master Data Management             Practical experience               codes\n",
      "industry standard web accessibilityinvoices                           physical\n",
      "ship systems                       .Net Developer                     2D/****D\n"
     ]
    },
    {
     "name": "stdout",
     "output_type": "stream",
     "text": [
      "AGILE environment                  AUTOCAD                            Account Director level\n",
      "Accounting Software                Accounting software                Active\n",
      "Aerospace Industry                 Agile development practices        Agile development processes\n",
      "Agile methodology Experience       Android Developer                  Application Monitoring\n",
      "Appsense                           Architecting                       Army\n",
      "Asset Manager                      Assistant Merchandiser             Attend\n",
      "Autistic Spectrum Disorders        Britain                            Broadcasting\n",
      "Building Control                   Building Services sector           Business Change projects\n",
      "Business case                      C .net                             CAPA\n",
      "CAT                                CSS skills                         CTS\n",
      "Campaign Marketing                 Care Manager                       Certification\n",
      "Cisco environment                  Cisco products                     Citrix XenApp\n",
      "Civil Litigation                   Claims Handler                     Commercial Contracts\n",
      "Commercial Litigation              Commercial Vehicles                Commitment\n",
      "Continence                         Coordinating                       Corporate Banking\n",
      "Cosmetics                          Costs                              Courts\n",
      "Credit Control environment         Credit Manager                     Customer Services environment\n",
      "Data Centre design                 Data warehousing                   Delcam\n",
      "Delphi development Commercial RDB experienceDesign Management                  Developing\n",
      "Digital Project Manager            Digital design                     Director role\n",
      "Drives                             ECC                                ECM\n",
      "EDI                                Edgecam                            Electrical Installations\n",
      "Electricity Supply Industry        Electrics                          Electronic Design\n",
      "Environmental Impact Assessments   Excellent communicator             Finance Industry\n",
      "Financial Adviser                  Financial Services CPL Contact     Financial Services company\n",
      "Food Beverage                      Front End Development              Functional testing\n",
      "Gauge R R                          Goods                              Google Analytics Experience\n",
      "Graduate Teaching Assistant        Great people                       HMRC\n",
      "HR team                            Homelessness                       HumanMachine design\n",
      "IT Recruitment                     IT Systems Trainer                 IT company\n",
      "IT discipline                      Identity Management                Industrial Deafness\n",
      "Industrial Design                  Inside Sales                       Intensive Care Unit\n",
      "Interest                           Intervention                       Investment Banks\n",
      "Invoicing                          Ireland                            Java Software Engineer\n",
      "KS1                                Kaizen                             Leadership\n",
      "Legionella                         Linux Support                      Linux performance monitoring tools\n",
      "MAC                                MATLAB                             MBO\n",
      "MICE                               MS Reporting Services              MS Visio\n",
      "Managerial level                   Marine Industry                    Materials Laboratory\n",
      "Monitoring Systems                 MySQL performance tuning           NEBOSH General Certificate\n",
      "Nastran                            Navy                               Network support\n",
      "Nursery                            OIL                                OS code\n",
      "Office Furniture                   Officer role                       Oil Gas recruitment\n",
      "Oxley                              P L management                     PCI\n",
      "PDMS                               POST                               Panel Wiring\n",
      "Paper                              Pay                                Payment Services industry\n",
      "Personal Tax                       Pest Control                       PhotoShop\n",
      "Pipeline                           Pipeline Management                Plumbing\n",
      "Portfolio Management               PostgreSQL database                Power Electronics\n",
      "Preparation                        Process Improvement                Proclaim case management system\n",
      "Product Engineering                Professional services              Program Management\n",
      "Public Relations                   Pumps                              Purchase Ledger Clerk\n",
      "QA Manager                         QA testing                         Quality Technician\n",
      "R&D environment                    RAF                                ROLE INFORMATION\n",
      "Reading                            Refrigeration                      Retail Pricing\n",
      "SAP CRM                            SAP projects                       SATs\n",
      "SD                                 SIEM                               SIPP\n",
      "SMEs                               SQL Server development Experience  SSH\n",
      "STAFFORDSHIRE                      SaaS                               Sales Order Management\n",
      "Sarbanes                           Scrum environment                  Senior Sous Chef\n",
      "SoC design                         Soldering                          Sous chef level\n",
      "Structural Engineer                Substantial experience             Support Analyst\n",
      "Supporting                         Surveyor                           System Configuration\n",
      "TDD environment                    Technical Manager                  Technical Superintendent\n",
      "Tender                             Test Manager                       Theatres\n",
      "UK financial services              UK water industry                  UML Experience\n",
      "UNIX Systems                       Unix operating systems             Utilities industry\n",
      "VMware VSphere                     W****C                             WDK\n",
      "Wages                              Waste Management                   Webtrends\n",
      "Wholesale                          Wills                              above systems\n",
      "account director                   active studier                     administration duties\n",
      "administrative function            administrator role                 advanced Dermal Fillers Nurse prescriber\n",
      "advisor                            advisor level                      agile\n",
      "agriculture                        allocations                        analogue design\n",
      "analytical position                analytical software                application architecture\n",
      "application engineering            applications Experience            architectures\n",
      "archiving                          area manager                       articulating\n",
      "assembly production                assembly work                      automotive manufacturing environment\n",
      "availability                       balance sheet                      band saws\n",
      "beverage industry                  biased                             big brands\n",
      "blue chip companies                brand development                  building management\n",
      "business analysis techniques       business use                       calibration processes\n",
      "certificates                       childrens services                 cleaner\n",
      "clerk                              client development                 client service\n",
      "clinical practice                  club                               coach\n",
      "code management                    commercial developments            complex data analysis\n",
      "complex needs                      compliance projects                construction management\n",
      "consumer credit                    consumer goods industry            continuous process environment\n",
      "control environment                controls industry                  cosmetic\n",
      "cost estimating                    crew                               cryptography\n",
      "current experience                 current market                     current role\n",
      "current tools                      customer retention role            cutting\n",
      "dairy industry                     dashboards                         data analysis techniques\n",
      "database administrator             database environments              database use\n",
      "day care setting                   debt                               debug\n",
      "deploys                            design agency                      design project management\n",
      "designing process                  detection                          diagnostic skills\n",
      "dictation                          different areas                    different schools\n",
      "direct support                     direction                          disciplinary\n",
      "dispatch                           document designs                   drive systems\n",
      "education environment              effective planning                 electrical bias\n",
      "electronic hardware                else                               email clients\n",
      "energy efficiency                  engineering project                enterprise software development\n",
      "enterpriselevel                    estate administration              excellent academics\n",
      "excellent people                   export regulations                 external systems\n",
      "fabrics                            fast paced manufacturing environmentfinancial monitoring\n",
      "financial organisation             fitness                            flash\n",
      "fmcg                               forensic services                  full software life cycle\n",
      "general administration             general banking                    general plumbing\n",
      "global market leader               gold                               good attention\n",
      "good communicator                  good interpersonal skills          handson design\n",
      "health economics                   heavy Engineering background       heavy fabrication\n",
      "high attention                     high growth business               high level understanding\n",
      "high profile corporate settings    homeworking                        iPad\n",
      "ideas                              individual responsibility          inservice\n",
      "inside sales role                  inspecting                         instruments\n",
      "insurance purposes                 interactions                       interface definition\n",
      "international company              internet selling                   investment industry\n",
      "isolation                          jersey                             jig\n",
      "key clients                        kitchen manager                    laboratories\n",
      "large volumes                      leading projects                   lean methodologies\n",
      "least a                            legal right                        leisure business\n",
      "lessons                            leveraging                         life cycles\n",
      "life science                       listings                           logic analysers\n",
      "loss                               low volume manufacturing           luxury\n",
      "luxury brand                       machine setting                    machine shop\n",
      "maintenance procedures             managing/                          manual machines\n",
      "manual payroll                     manufacturing management           margin\n",
      "market risk                        mechanical assemblies              mechanical background\n",
      "mechanical systems design          medium sized organisation          middot\n",
      "mining equipment                   mobile phones                      mobile plant\n",
      "mobiles                            monthly management accounts        mortgages\n",
      "multiagency working                multicultural teams                multidiscipline teams\n",
      "multifunctional teams              negotiating skills                 new business generation\n",
      "nickel                             nurseries                          nursery environment\n",
      "objectoriented programming         operational control                oral communication skills\n",
      "oscilloscopes                      other controls                     other role\n",
      "outbound call                      outbound sales advisor             particular experience\n",
      "payment                            pensions industry                  performance management systems\n",
      "performance reporting              perl                               pharmaceutical company\n",
      "planner                            plant machinery                    plastics industry\n",
      "plumbing industry                  post holder                        postsales\n",
      "practice background                precision machine shop environment precision measuring equipment\n",
      "prescribing                        prevention                         previous supervisory experience\n",
      "primary setting                    process reengineering              product development process\n",
      "production industry                programming environments           project managing\n",
      "projects Experience                proofreading                       property consultancy\n",
      "property maintenance               property market                    public consultation\n",
      "quality inspection                 quality processes                  quick turnaround support environment\n",
      "railway industry                   reconciling                        recruitment capacity\n",
      "recruitment process                relevant Technical discipline      relevant commercial experience\n",
      "relevant computer                  relevant work experience           remote support\n",
      "renowned organisation              rental                             replying\n",
      "report creation                    reserving                          residential sales\n",
      "returns                            rights                             rooms\n",
      "sales consultant                   sales industry                     science discipline\n",
      "search engine optimization         secretarial role                   segmentation development\n",
      "server architectures               service company                    servo\n",
      "settings                           sewage sectors                     shift patterns\n",
      "sianthornbaker.co.uk               signal processing                  similar project\n",
      "site commissioning                 site installation                  small business environment\n",
      "small firm                         software implementations           solids\n",
      "special needs                      specific area                      specific knowledge\n",
      "spot welding                       stand alone role                   strong Excel skills\n",
      "structured change                  structuring                        student recruitment\n",
      "success story                      sufficient experience              supplier assessment\n",
      "systems monitoring                 tax returns                        technical ability\n",
      "technical aptitude                 telephone systems                  telesales agent\n",
      "telesales executive                tenant                             test script creation\n",
      "theatre environment                toolkits                           topics\n",
      "trade background                   train systems                      transactional\n",
      "transactional environment          turnaround                         understating\n",
      "unit trusts                        university                         vehicle sales\n",
      "video codecs                       vision                             web application testing\n",
      "working experience                 years Business                     years post qualification experience\n",
      "years supervisory experience       Functional Testing                 Health sector\n",
      "SDK                                agents                             configuration design\n",
      "investment banking products        Kitchen Assistant                  T\n",
      "VPLS                               foodservice                        forensics\n",
      "funds                              multi platform software            refit\n",
      "%                                  3D CAD package                     3rd party products\n",
      "ASC                                ASD                                ASP.NET Development\n",
      "Accessories                        Accounts Assistant                 Accreditation\n",
      "Acquired Brain Injury              Administration Support             Adwords\n",
      "Agent                              Agile SCRUM                        Agile development methodology\n",
      "Allocate                           Analytical                         Antivirus\n",
      "Application Support                Application Support role           Aspect\n",
      "Asylum                             Audio Visual                       Auto Cad\n",
      "Automotive sector                  Azure SQL                          B****C\n",
      "B2B.                               BREEAM                             BSL\n",
      "Bid Manager                        Bids                               Big\n",
      "Bill                               Brand Management                   British Sign Language\n",
      "Budgeting                          Business Development role          Business Telesales\n",
      "Business studies                   C Experience                       C Programming\n",
      "C++ development experience         CAD CAM                            CE\n",
      "CHAID                              CMM programming                    CNC Turning\n",
      "CNC controls                       COMPANY                            CS\n",
      "Capita                             Capital Markets                    Care Home environment\n",
      "Catia                              Chartered Engineer status          Chemical Process\n",
      "City firm                          Client Services                    Clients\n",
      "Clothing                           Com                                Commercial Lending\n",
      "Commercial Underwriting            Contractor                         Cook\n",
      "Coordination                       Corporate Fundraising              Credit Controller\n",
      "Customer Service Advisor           Customer Service Manager           DAC\n",
      "DME                                Dampers                            Data Warehouse\n",
      "Data analysis                      Dependency Injection               Depot Manager\n",
      "Deputy Care Home Manager           Designer                           Digital Marketing\n",
      "Document Management Systems        EAL                                ECC form\n",
      "EE                                 ERP implementation                 ESTIMATOR\n",
      "Effects                            Engineering Management             Engineering background\n",
      "Engineering experience             Entertainment                      Environments\n",
      "Estate Agency Sales                Estate Agents                      Estate Management\n",
      "European Sales                     Event receivers                    Excellent attention\n",
      "Excellent experience               Execution                          F B\n",
      "Finance Analyst                    Finite Element                     Flexi circuit design\n",
      "Fluent                             Ford                               Funds\n",
      "GCC                                Geographic Information systems     Global scale\n",
      "Good communication skills          Good understanding                 Graphics\n",
      "HCM                                HP Quality Centre                  HPC\n",
      "HR Management                      Health Economics                   Healthcare environment\n",
      "Heat Exchangers                    Heavy Plant                        High Availability\n",
      "Hospital                           Housekeeping                       Hurco\n",
      "Hybris                             INCA                               IP communications\n",
      "ISA                                ISDN                               IT Sales Executive\n",
      "IT Systems                         IT audit                           IT technologies\n",
      "Information                        Insurance business                 Insurance company\n",
      "JIT environment                    Java Software Developer            Java script\n",
      "KPI reporting                      LIMS                               Legionella sector\n",
      "Liferay                            List definitions                   Lloyds audit systems\n",
      "LoadRunner                         MAC hardware                       MAC iOS\n",
      "MS Office suite                    Machine Operator                   Machinist\n",
      "Management Information             Management position                Maple\n",
      "Marine Engineer                    Measurement System Analysis        Mechanical Engineering role\n",
      "Mechanical engineering             Media Manager                      Medical\n",
      "Microbiology                       Microsoft .NET                     Microsoft Office software\n",
      "Microsoft SQL server               Microsoft SQLServer                Mid\n",
      "Milling machines                   Moodle                             Mould\n",
      "NAnt                               NEBOSH certificate                 Naval Architect\n",
      "Networking technologies            Nexus                              Nginx\n",
      "Node                               North America                      Nursery Nurse\n",
      "Object Orientated                  Object Orientated Design           Off\n",
      "Online Gaming                      Oracle SOA Suite                   Oracle system\n",
      "Orcaflex                           Outbound Calling                   P****e\n",
      "PA support                         PC skills                          PCB assembly\n",
      "PED                                PEG                                PHP developer\n",
      "PHP web development                PQQ                                Packaging Technologist\n",
      "Panasonic                          Perl Developer                     Personal Care\n",
      "Planner                            Power point                        Primary Learning Support Assistant\n",
      "Primavera P*                       Private Client                     Private Sector\n",
      "ProAudit                           Product                            Product Design\n",
      "Profiling                          Project Engineering                Project Management Experience\n",
      "Project Management tools           Project Support Officer            Project engineer\n",
      "Proven ability                     Proven success                     Puppet\n",
      "QMS                                Quality environment                Quantity surveying\n",
      "RSL                                Radio                              Reception Class\n",
      "Recruitment Resourcer              Recruitment background             RedHat Enterprise Linux version\n",
      "Regression Testing                 Repairs                            Researcher\n",
      "Revenue Manager                    Ricoh                              Roads\n",
      "SAN storage                        SAP ECC                            SAP Support\n",
      "SAP system                         SAR                                SEO strategies\n",
      "SME level                          SMS                                SQL Queries\n",
      "SQL Server RDBMS                   SQL Server development             SQL Sever\n",
      "Safety issues                      Sales Administration               Sales position\n",
      "Senior .NET Developer              Senior Account Manager level       Senior Manager\n",
      "Service Experience                 SharePoint Feature framework       SharePoint Site Definitions\n",
      "Significant experience             Site Supervisor                    Social\n",
      "Software QA                        Solid knowledge                    South West\n",
      "Sports                             Stock Control                      Stored\n",
      "Successful delivery                Supply Chain Manager               Symmetrix\n",
      "System Integration                 Systems Integration                Technical function\n",
      "Technical sales                    Third                              Tracking\n",
      "UK company                         URL                                UVM\n",
      "University placement               VOSA standards                     Vehicle\n",
      "Version control                    Visual Basics                      Visual Merchandising\n",
      "Volvo                              W3C standards                      WMS\n",
      "Warehouse                          Web Technologies                   Web servers\n",
      "Website Design                     Windows Infrastructure             Windows problemsolving\n",
      "Windows programming                Wintel environment                 Working experience\n",
      "Workshop Controller                Writer                             above sector\n",
      "above vacancy                      abundance                          accounts work\n",
      "adaptations                        advanced web analytics methodologiesadvertising sector\n",
      "advisory work                      agency sector                      ages\n",
      "air sampling                       ajax                               algorithm design\n",
      "allied industry                    alternative investment             analyst role\n",
      "application stores                 applications support               appointment setting\n",
      "approving                          aptitude                           arc welding\n",
      "area Benefits                      arrears                            assembly language\n",
      "assessment centres                 asset manager                      atleast\n",
      "audit process                      automated testing                  b2b\n",
      "backbone.js                        backend PHP****/                   balance sheet control\n",
      "bathroom                           bidding                            bills\n",
      "booking system                     bookings                           boys\n",
      "budget management experience       building controls                  building projects\n",
      "building systems                   business analytics                 business change projects\n",
      "business development background    business plans                     business systems analysis\n",
      "call centre management             canvassing                         centres\n",
      "chemotherapy                       client interaction                 client presentations\n",
      "coffee                             combustion                         commercial contract\n",
      "commercial office                  commercial refrigeration           commercial roles\n",
      "commercial schemes                 commercial vehicles                committees\n",
      "competencies                       competitive market                 competitor company\n",
      "complete development lifecycle     complex IT systems                 complex models\n",
      "complex organisation               component engineering              conferencing\n",
      "confident telephone manner         considerable experience            consultative sales approach\n",
      "consulting environment Experience  continuous improvement initiatives control applications\n",
      "control system                     conversion rate optimisation       corporate accounting\n",
      "corporate business                 corporate market                   corporate setting\n",
      "corporate travel                   costs                              craft\n",
      "creative design                    critical environments              crossbrowser testing\n",
      "customer acquisition               customer retention                 customer value\n",
      "cylindrical grinding               data applications                  data interrogation\n",
      "data mapping                       data structures                    datawarehousing\n",
      "demonstrable knowledge             design approach                    design calculations\n",
      "design industry                    design methodology                 desserts\n",
      "development frameworks             development methods                development sector\n",
      "development techniques             digital marketing techniques       digital sales\n",
      "dining                             division                           doors\n",
      "draft                              drawings                           eCommerce systems\n",
      "eMarketing                         early stages                       editorial\n",
      "effect                             effective project management       effects\n",
      "electrical panel build process     electrochemistry                   element\n",
      "empowering                         engineering manager                engineering sectors\n",
      "engineers                          enteprise level                    entity framework\n",
      "equipment testing                  estate agent                       estimates\n",
      "ethics                             excellent computer skills          excellent organisational skills\n",
      "experience essential               experienced applicants             explosion\n",
      "external sales                     extrusions                         facades\n",
      "file systems                       filming                            finance matters\n",
      "finance systems                    financial models                   financial service\n",
      "financial services organisations   financing                          first three\n",
      "fixture design                     focus groups                       follow\n",
      "food processing environment        formatting                         forming\n",
      "franchised environment             fulfilment                         full P L responsibility\n",
      "gap year                           gas company                        generous commission structure\n",
      "girls                              government departments             government security\n",
      "graduate                           greenfield project                 ground engineering\n",
      "group environment                  group policy                       guillotines\n",
      "gym                                hardware software                  health care sector\n",
      "health surveillance                heavy manufacturing                hedge funds\n",
      "high level design                  high speed production machinery    high temperature\n",
      "high volume production environment high volumes                       highways projects\n",
      "home care                          house building                     housekeeper\n",
      "idea generation                    identifying                        immediate effect\n",
      "immediate interview                immediate vacancy                  implementation experience\n",
      "implications                       improvement techniques             inbound sales\n",
      "industrial plant                   industrial products                industry contacts\n",
      "initial scoping                    inspection procedures              insurance background\n",
      "intercompany                       internal recruitment               international customers\n",
      "internationalisation               internet technologies              interpersonal\n",
      "investigation reports              investment accounting              invoice discounting\n",
      "jBoss                              jointing                           key accounts\n",
      "key aspects                        laptop                             latest techniques\n",
      "leadership position                legacy systems                     letting\n",
      "line manager                       live tooling                       location\n",
      "long sales cycles                  lubricants                         maintenance activities\n",
      "major financial institution        management consulting              management positions\n",
      "management roles                   managerial experience              managing staff\n",
      "managment                          manufacturing companies            many disciplines\n",
      "market access                      marketing analytics                matching\n",
      "means                              measurement systems                mechanical environment\n",
      "medical insurance                  medication management              medicine\n",
      "medium sized practice              menswear                           metalwork\n",
      "minutes                            mixed use                          mobile device\n",
      "mobile payments                    mobile web                         modeling\n",
      "more details                       most aspects                       multi disciplinary teams\n",
      "multichannel                       multiple business domains          multiple disciplines\n",
      "multiple teams                     multisite operator                 natural gas\n",
      "network communications             network management                 networked\n",
      "networking concepts                new business Candidates            nontechnical staff\n",
      "note taking                        nursing environment                occupational H S\n",
      "offshore                           online banking                     online marketing mix\n",
      "other personnel                    outbound call centre               outbound telephone\n",
      "paint Budget management experience Handspanels                             partitioning\n",
      "partnering                         pastry chef                        people management experience\n",
      "performance coaching               personal injury field              petrochem\n",
      "pilot                              pipe systems                       pipes\n",
      "planning workloads                 plant industry                     possession\n",
      "postholder                         power sector                       power supplies\n",
      "practice areas                     pre                                precast concrete\n",
      "preconstruction                    press brakes                       pressure vessel design\n",
      "preventative                       previous background                primary teaching\n",
      "printer administration Experience  private healthcare                 processes Experience\n",
      "processing techniques              product verification               production process\n",
      "production systems                 programming elements               project control\n",
      "project finance                    project initiation                 project leader\n",
      "project management methodology     projection                         promoting\n",
      "property background                propositions                       proven experience\n",
      "public health                      public sector environment          purchases\n",
      "quantity surveyor                  reach                              real interest\n",
      "refrigeration systems              regeneration                       related business\n",
      "related software                   relaxed ambience                   relevance\n",
      "relevant background                relevant fields                    relevant supply categories\n"
     ]
    },
    {
     "name": "stdout",
     "output_type": "stream",
     "text": [
      "research techniques                retentions                         route\n",
      "routes                             sales achievement                  sales cycle\n",
      "sales manager                      sales training                     scaling\n",
      "scripting skills                   scrum master                       search role\n",
      "secondary education                secretarial support                security solutions\n",
      "senior member                      senior stakeholders                server configuration\n",
      "server infrastructure              sewing                             shift work\n",
      "similar role Qualifications        similar sized business             site audit\n",
      "sludge treatment                   small bore                         smoke\n",
      "social marketing                   social media channels              software architecture\n",
      "software company                   something                          source\n",
      "specialist sector                  speciality                         specific emphasis\n",
      "specific projects                  spectrum                           speed\n",
      "split site development             staff supervisions                 stakeholder relationship management\n",
      "star                               steam boilers                      steel industry\n",
      "steel structures                   steelwork                          story point estimation\n",
      "strategic                          strategic analysis                 strategic development\n",
      "strong stakeholder management      sub contractor                     subcontracts\n",
      "submissions                        supplier liaison                   support desk environment\n",
      "support experience                 support function                   support services\n",
      "supporter                          surface grinding                   surgical\n",
      "swxcopy                            system issues                      system test\n",
      "systems testing                    tablet                             team leading\n",
      "technical architecture             technical capacity                 technical drawing\n",
      "technical experience               technical quotations               technical specifications\n",
      "technology sales                   telecommunications environment     telephone interviews\n",
      "tenacity                           test planning                      testing techniques\n",
      "toiletries                         tool design                        toolsets\n",
      "traditional                        travel agency                      trucks\n",
      "typography                         unit tests                         unloading\n",
      "user stories                       v                                  valuation matters\n",
      "variance                           various projects                   vehicle design\n",
      "video processing                   visits                             visualisation\n",
      "vulnerability management systems   vulnerable children                wages\n",
      "water hygiene market               web application frameworks         web browsers\n",
      "web servers                        web site design                    wireless networks\n",
      "word documents                     workflow management                workload\n"
     ]
    }
   ],
   "source": [
    "for a,b,c in zip(skills[::3],skills[1::3],skills[2::3]):\n",
    "     print('{:<35}{:<35}{:<}'.format(a,b,c))"
   ]
  },
  {
   "cell_type": "markdown",
   "metadata": {},
   "source": [
    "## Analysis"
   ]
  },
  {
   "cell_type": "markdown",
   "metadata": {},
   "source": [
    "Look up a skill"
   ]
  },
  {
   "cell_type": "markdown",
   "metadata": {},
   "source": [
    "Cooccurance would be great for understanding skills!"
   ]
  },
  {
   "cell_type": "code",
   "execution_count": 102,
   "metadata": {},
   "outputs": [],
   "source": [
    "def filter_ents(query, exact=False, match_case=True):\n",
    "    if exact and match_case:\n",
    "        return df_ents[df_ents.text == query]\n",
    "    elif exact:\n",
    "        return df_ents[df_ents.text.str.lower() == query.lower()]\n",
    "    else:\n",
    "        return df_ents[df_ents.text.str.contains(fr'\\b{query}\\b', flags = 0 if match_case else re.IGNORECASE)]"
   ]
  },
  {
   "cell_type": "code",
   "execution_count": 103,
   "metadata": {},
   "outputs": [],
   "source": [
    "def show_exp(query, exact=True, match_case=True, n_max=10):\n",
    "    showent_df(filter_ents(query, exact, match_case)[:n_max])"
   ]
  },
  {
   "cell_type": "code",
   "execution_count": 104,
   "metadata": {},
   "outputs": [],
   "source": [
    "def job_exp(query, exact=True, match_case=True):\n",
    "    return filter_ents(query, exact, match_case).drop_duplicates('docidx')[['Company', 'Title']]"
   ]
  },
  {
   "cell_type": "code",
   "execution_count": 105,
   "metadata": {},
   "outputs": [],
   "source": [
    "def related_experience(query, exact=True, match_case=True):\n",
    "    return (\n",
    "     df_ents[df_ents['docidx'].isin(filter_ents(query, exact, match_case).docidx.to_numpy())]\n",
    "     .query('label == \"EXPERIENCE\"')\n",
    "     .groupby('text')\n",
    "     .agg(n=('text', 'count'),\n",
    "      ads = ('docidx', 'nunique'),\n",
    "      advertisers = ('Company', 'nunique'),\n",
    "     )\n",
    "  .query('advertisers > 1')\n",
    "  .sort_values(['advertisers', 'ads', 'n'], ascending=False)\n",
    " )"
   ]
  },
  {
   "cell_type": "markdown",
   "metadata": {},
   "source": [
    "\"Experience\" is a result of bad parsing.\n",
    "\n",
    "It looks like these were probably lists that have had the list items stripped away. We could probably do something here to improve the sentence boundary detection."
   ]
  },
  {
   "cell_type": "code",
   "execution_count": 106,
   "metadata": {},
   "outputs": [
    {
     "data": {
      "text/html": [
       "<div class=\"entities\" style=\"line-height: 2.5; direction: ltr\">A Degree or post graduate qualification Commercial experience in Software Testing (Manual and Automated Testing) \n",
       "<mark class=\"entity\" style=\"background: #ddd; padding: 0.45em 0.6em; margin: 0 0.25em; line-height: 1; border-radius: 0.35em;\">\n",
       "    Experience\n",
       "    <span style=\"font-size: 0.8em; font-weight: bold; line-height: 1; border-radius: 0.35em; text-transform: uppercase; vertical-align: middle; margin-left: 0.5rem\">EXPERIENCE</span>\n",
       "</mark>\n",
       " of software applications for some or all of version control, defect tracking, test case management, test suite automation Experience in the following: </div>"
      ],
      "text/plain": [
       "<IPython.core.display.HTML object>"
      ]
     },
     "metadata": {},
     "output_type": "display_data"
    },
    {
     "data": {
      "text/html": [
       "<div class=\"entities\" style=\"line-height: 2.5; direction: ltr\">Understanding and experience of Hibernate persistence technology Knowledge/experience of Eclipse RCP/OSGi/JFace \n",
       "<mark class=\"entity\" style=\"background: #ddd; padding: 0.45em 0.6em; margin: 0 0.25em; line-height: 1; border-radius: 0.35em;\">\n",
       "    Experience\n",
       "    <span style=\"font-size: 0.8em; font-weight: bold; line-height: 1; border-radius: 0.35em; text-transform: uppercase; vertical-align: middle; margin-left: 0.5rem\">EXPERIENCE</span>\n",
       "</mark>\n",
       " of integrating open source tools and libraries </div>"
      ],
      "text/plain": [
       "<IPython.core.display.HTML object>"
      ]
     },
     "metadata": {},
     "output_type": "display_data"
    },
    {
     "data": {
      "text/html": [
       "<div class=\"entities\" style=\"line-height: 2.5; direction: ltr\">Duties: Supervise the work of other Social Workers and Case files of complex caseloads Working as a member of a team to deliver a needsled professional Social Work service to children, young persons and families complying with legislative requirements and in accordance with established best practice Undertake case work ensuring that appropriate case records are rigorously maintained Contributes to all aspects of the work of their allocated team Actively seeks to support the work of the Team Manager Requirements:  Qualified Social Worker Experience in Supervising other team members \n",
       "<mark class=\"entity\" style=\"background: #ddd; padding: 0.45em 0.6em; margin: 0 0.25em; line-height: 1; border-radius: 0.35em;\">\n",
       "    Experience\n",
       "    <span style=\"font-size: 0.8em; font-weight: bold; line-height: 1; border-radius: 0.35em; text-transform: uppercase; vertical-align: middle; margin-left: 0.5rem\">EXPERIENCE</span>\n",
       "</mark>\n",
       " working within Children and Families Experience of working in a Family Assessment and Safeguarding Team To discuss this role or any other Qualified Social Worker jobs in the West Midlands Area or in the Social Work field </div>"
      ],
      "text/plain": [
       "<IPython.core.display.HTML object>"
      ]
     },
     "metadata": {},
     "output_type": "display_data"
    },
    {
     "data": {
      "text/html": [
       "<div class=\"entities\" style=\"line-height: 2.5; direction: ltr\">Candidates must have the following skills/experience in order to be considered for this role: 5 years IT experience Experience of business systems analysis, business process and solution related projects \n",
       "<mark class=\"entity\" style=\"background: #ddd; padding: 0.45em 0.6em; margin: 0 0.25em; line-height: 1; border-radius: 0.35em;\">\n",
       "    Experience\n",
       "    <span style=\"font-size: 0.8em; font-weight: bold; line-height: 1; border-radius: 0.35em; text-transform: uppercase; vertical-align: middle; margin-left: 0.5rem\">EXPERIENCE</span>\n",
       "</mark>\n",
       " of implementing effective information systems Experience of management and financial accounts Project Management experience Knowledge of the software development cycle </div>"
      ],
      "text/plain": [
       "<IPython.core.display.HTML object>"
      ]
     },
     "metadata": {},
     "output_type": "display_data"
    },
    {
     "data": {
      "text/html": [
       "<div class=\"entities\" style=\"line-height: 2.5; direction: ltr\">Vast experience in Domiciliary care, preferably as a branch manager or similar  \n",
       "<mark class=\"entity\" style=\"background: #ddd; padding: 0.45em 0.6em; margin: 0 0.25em; line-height: 1; border-radius: 0.35em;\">\n",
       "    Experience\n",
       "    <span style=\"font-size: 0.8em; font-weight: bold; line-height: 1; border-radius: 0.35em; text-transform: uppercase; vertical-align: middle; margin-left: 0.5rem\">EXPERIENCE</span>\n",
       "</mark>\n",
       " of developing services  </div>"
      ],
      "text/plain": [
       "<IPython.core.display.HTML object>"
      ]
     },
     "metadata": {},
     "output_type": "display_data"
    }
   ],
   "source": [
    "show_exp('Experience', n_max=5)"
   ]
  },
  {
   "cell_type": "code",
   "execution_count": 107,
   "metadata": {},
   "outputs": [
    {
     "data": {
      "text/html": [
       "<div class=\"entities\" style=\"line-height: 2.5; direction: ltr\">Key responsibility for clarifying service contract content to ensure maximum profit Ensure highest target margins are being achieved through negotiation focus price and cost effective contract conditions Close followup from start of negotiation until handover to the Service Division Representation of the Service Division in cross functional negotiation teams Develop project specific, winwin solutions in order to match customer s business case and our client s service goals Professional presentation of service contract quotations including proper cost benefit arguments Key Skills Service contract management and sales engineering experience in a capital goods industry is advantageous International experience of the target markets would be a distinct advantage Experience with \n",
       "<mark class=\"entity\" style=\"background: #ddd; padding: 0.45em 0.6em; margin: 0 0.25em; line-height: 1; border-radius: 0.35em;\">\n",
       "    sales\n",
       "    <span style=\"font-size: 0.8em; font-weight: bold; line-height: 1; border-radius: 0.35em; text-transform: uppercase; vertical-align: middle; margin-left: 0.5rem\">EXPERIENCE</span>\n",
       "</mark>\n",
       " to utilities is an asset Experience from </div>"
      ],
      "text/plain": [
       "<IPython.core.display.HTML object>"
      ]
     },
     "metadata": {},
     "output_type": "display_data"
    },
    {
     "data": {
      "text/html": [
       "<div class=\"entities\" style=\"line-height: 2.5; direction: ltr\">Have strong industry experience delivering mobile solutions in at least two industries  Existing experience in \n",
       "<mark class=\"entity\" style=\"background: #ddd; padding: 0.45em 0.6em; margin: 0 0.25em; line-height: 1; border-radius: 0.35em;\">\n",
       "    sales\n",
       "    <span style=\"font-size: 0.8em; font-weight: bold; line-height: 1; border-radius: 0.35em; text-transform: uppercase; vertical-align: middle; margin-left: 0.5rem\">EXPERIENCE</span>\n",
       "</mark>\n",
       " and mobility, with an ability to harness and maintain relationships with clients. </div>"
      ],
      "text/plain": [
       "<IPython.core.display.HTML object>"
      ]
     },
     "metadata": {},
     "output_type": "display_data"
    },
    {
     "data": {
      "text/html": [
       "<div class=\"entities\" style=\"line-height: 2.5; direction: ltr\">The successful candidate will have the following: Experience in \n",
       "<mark class=\"entity\" style=\"background: #ddd; padding: 0.45em 0.6em; margin: 0 0.25em; line-height: 1; border-radius: 0.35em;\">\n",
       "    sales\n",
       "    <span style=\"font-size: 0.8em; font-weight: bold; line-height: 1; border-radius: 0.35em; text-transform: uppercase; vertical-align: middle; margin-left: 0.5rem\">EXPERIENCE</span>\n",
       "</mark>\n",
       " of digital technology solutions and systems Good understanding of convergence of ICT, digital communications technology and digital media and emerging trends Experience of the complete sales process from finding and qualifying sales opportunities, preparation of proposals, etc </div>"
      ],
      "text/plain": [
       "<IPython.core.display.HTML object>"
      ]
     },
     "metadata": {},
     "output_type": "display_data"
    },
    {
     "data": {
      "text/html": [
       "<div class=\"entities\" style=\"line-height: 2.5; direction: ltr\">Requirements: Fluency in English and German with Czech or Polish preferred Solid experience in \n",
       "<mark class=\"entity\" style=\"background: #ddd; padding: 0.45em 0.6em; margin: 0 0.25em; line-height: 1; border-radius: 0.35em;\">\n",
       "    sales\n",
       "    <span style=\"font-size: 0.8em; font-weight: bold; line-height: 1; border-radius: 0.35em; text-transform: uppercase; vertical-align: middle; margin-left: 0.5rem\">EXPERIENCE</span>\n",
       "</mark>\n",
       " or telesales is essential </div>"
      ],
      "text/plain": [
       "<IPython.core.display.HTML object>"
      ]
     },
     "metadata": {},
     "output_type": "display_data"
    },
    {
     "data": {
      "text/html": [
       "<div class=\"entities\" style=\"line-height: 2.5; direction: ltr\">You'll ideally bring proven sales experience, including \n",
       "<mark class=\"entity\" style=\"background: #ddd; padding: 0.45em 0.6em; margin: 0 0.25em; line-height: 1; border-radius: 0.35em;\">\n",
       "    sales\n",
       "    <span style=\"font-size: 0.8em; font-weight: bold; line-height: 1; border-radius: 0.35em; text-transform: uppercase; vertical-align: middle; margin-left: 0.5rem\">EXPERIENCE</span>\n",
       "</mark>\n",
       " interviewing skills and a track record in a target driven environment. </div>"
      ],
      "text/plain": [
       "<IPython.core.display.HTML object>"
      ]
     },
     "metadata": {},
     "output_type": "display_data"
    }
   ],
   "source": [
    "show_exp('sales', n_max=5)"
   ]
  },
  {
   "cell_type": "code",
   "execution_count": 108,
   "metadata": {},
   "outputs": [
    {
     "data": {
      "text/html": [
       "<div>\n",
       "<style scoped>\n",
       "    .dataframe tbody tr th:only-of-type {\n",
       "        vertical-align: middle;\n",
       "    }\n",
       "\n",
       "    .dataframe tbody tr th {\n",
       "        vertical-align: top;\n",
       "    }\n",
       "\n",
       "    .dataframe thead th {\n",
       "        text-align: right;\n",
       "    }\n",
       "</style>\n",
       "<table border=\"1\" class=\"dataframe\">\n",
       "  <thead>\n",
       "    <tr style=\"text-align: right;\">\n",
       "      <th></th>\n",
       "      <th>n</th>\n",
       "      <th>ads</th>\n",
       "      <th>advertisers</th>\n",
       "    </tr>\n",
       "    <tr>\n",
       "      <th>text</th>\n",
       "      <th></th>\n",
       "      <th></th>\n",
       "      <th></th>\n",
       "    </tr>\n",
       "  </thead>\n",
       "  <tbody>\n",
       "    <tr>\n",
       "      <th>sales</th>\n",
       "      <td>1195</td>\n",
       "      <td>1176</td>\n",
       "      <td>513</td>\n",
       "    </tr>\n",
       "    <tr>\n",
       "      <th>customer service</th>\n",
       "      <td>138</td>\n",
       "      <td>132</td>\n",
       "      <td>56</td>\n",
       "    </tr>\n",
       "    <tr>\n",
       "      <th>marketing</th>\n",
       "      <td>106</td>\n",
       "      <td>104</td>\n",
       "      <td>53</td>\n",
       "    </tr>\n",
       "    <tr>\n",
       "      <th>business development</th>\n",
       "      <td>46</td>\n",
       "      <td>42</td>\n",
       "      <td>26</td>\n",
       "    </tr>\n",
       "    <tr>\n",
       "      <th>retail</th>\n",
       "      <td>64</td>\n",
       "      <td>64</td>\n",
       "      <td>24</td>\n",
       "    </tr>\n",
       "    <tr>\n",
       "      <th>account management</th>\n",
       "      <td>30</td>\n",
       "      <td>30</td>\n",
       "      <td>20</td>\n",
       "    </tr>\n",
       "    <tr>\n",
       "      <th>telesales</th>\n",
       "      <td>30</td>\n",
       "      <td>30</td>\n",
       "      <td>20</td>\n",
       "    </tr>\n",
       "    <tr>\n",
       "      <th>promotions</th>\n",
       "      <td>56</td>\n",
       "      <td>56</td>\n",
       "      <td>19</td>\n",
       "    </tr>\n",
       "    <tr>\n",
       "      <th>hospitality</th>\n",
       "      <td>40</td>\n",
       "      <td>40</td>\n",
       "      <td>14</td>\n",
       "    </tr>\n",
       "    <tr>\n",
       "      <th>recruitment</th>\n",
       "      <td>21</td>\n",
       "      <td>21</td>\n",
       "      <td>14</td>\n",
       "    </tr>\n",
       "  </tbody>\n",
       "</table>\n",
       "</div>"
      ],
      "text/plain": [
       "                         n   ads  advertisers\n",
       "text                                         \n",
       "sales                 1195  1176          513\n",
       "customer service       138   132           56\n",
       "marketing              106   104           53\n",
       "business development    46    42           26\n",
       "retail                  64    64           24\n",
       "account management      30    30           20\n",
       "telesales               30    30           20\n",
       "promotions              56    56           19\n",
       "hospitality             40    40           14\n",
       "recruitment             21    21           14"
      ]
     },
     "execution_count": 108,
     "metadata": {},
     "output_type": "execute_result"
    }
   ],
   "source": [
    "related_experience('sales').head(10)"
   ]
  },
  {
   "cell_type": "code",
   "execution_count": 109,
   "metadata": {},
   "outputs": [
    {
     "data": {
      "text/html": [
       "<div class=\"entities\" style=\"line-height: 2.5; direction: ltr\">Registered A minimum of 3 years team management experience within children's services Experience of \n",
       "<mark class=\"entity\" style=\"background: #ddd; padding: 0.45em 0.6em; margin: 0 0.25em; line-height: 1; border-radius: 0.35em;\">\n",
       "    project management\n",
       "    <span style=\"font-size: 0.8em; font-weight: bold; line-height: 1; border-radius: 0.35em; text-transform: uppercase; vertical-align: middle; margin-left: 0.5rem\">EXPERIENCE</span>\n",
       "</mark>\n",
       " and service development </div>"
      ],
      "text/plain": [
       "<IPython.core.display.HTML object>"
      ]
     },
     "metadata": {},
     "output_type": "display_data"
    },
    {
     "data": {
      "text/html": [
       "<div class=\"entities\" style=\"line-height: 2.5; direction: ltr\">Ensure organisational alignment  Significant experience in strategic execution and \n",
       "<mark class=\"entity\" style=\"background: #ddd; padding: 0.45em 0.6em; margin: 0 0.25em; line-height: 1; border-radius: 0.35em;\">\n",
       "    project management\n",
       "    <span style=\"font-size: 0.8em; font-weight: bold; line-height: 1; border-radius: 0.35em; text-transform: uppercase; vertical-align: middle; margin-left: 0.5rem\">EXPERIENCE</span>\n",
       "</mark>\n",
       " in the insurance, financial services or Consultancy Industry  </div>"
      ],
      "text/plain": [
       "<IPython.core.display.HTML object>"
      ]
     },
     "metadata": {},
     "output_type": "display_data"
    },
    {
     "data": {
      "text/html": [
       "<div class=\"entities\" style=\"line-height: 2.5; direction: ltr\">Ensure organisational alignment  Significant experience in strategic execution and \n",
       "<mark class=\"entity\" style=\"background: #ddd; padding: 0.45em 0.6em; margin: 0 0.25em; line-height: 1; border-radius: 0.35em;\">\n",
       "    project management\n",
       "    <span style=\"font-size: 0.8em; font-weight: bold; line-height: 1; border-radius: 0.35em; text-transform: uppercase; vertical-align: middle; margin-left: 0.5rem\">EXPERIENCE</span>\n",
       "</mark>\n",
       " in the insurance, financial services or Consultancy Industry  </div>"
      ],
      "text/plain": [
       "<IPython.core.display.HTML object>"
      ]
     },
     "metadata": {},
     "output_type": "display_data"
    },
    {
     "data": {
      "text/html": [
       "<div class=\"entities\" style=\"line-height: 2.5; direction: ltr\">Issue date required] Substantial recent experience of \n",
       "<mark class=\"entity\" style=\"background: #ddd; padding: 0.45em 0.6em; margin: 0 0.25em; line-height: 1; border-radius: 0.35em;\">\n",
       "    project management\n",
       "    <span style=\"font-size: 0.8em; font-weight: bold; line-height: 1; border-radius: 0.35em; text-transform: uppercase; vertical-align: middle; margin-left: 0.5rem\">EXPERIENCE</span>\n",
       "</mark>\n",
       " of building schemes as client or technical manager, preferably within a similar role and ideally within a public sector organisation Excellent understanding of building construction maintenance Good understanding of building contract processes, including partnering Microsoft Office skills Other preferable/desirable details to include on your CV, if applicable : Any local authority experience </div>"
      ],
      "text/plain": [
       "<IPython.core.display.HTML object>"
      ]
     },
     "metadata": {},
     "output_type": "display_data"
    },
    {
     "data": {
      "text/html": [
       "<div class=\"entities\" style=\"line-height: 2.5; direction: ltr\">a strong advantage Minimum of 4 years experience working in the asbestos industry Contract Management experience is highly advantageous Experience of \n",
       "<mark class=\"entity\" style=\"background: #ddd; padding: 0.45em 0.6em; margin: 0 0.25em; line-height: 1; border-radius: 0.35em;\">\n",
       "    project management\n",
       "    <span style=\"font-size: 0.8em; font-weight: bold; line-height: 1; border-radius: 0.35em; text-transform: uppercase; vertical-align: middle; margin-left: 0.5rem\">EXPERIENCE</span>\n",
       "</mark>\n",
       " is also desirable Strong communication skills </div>"
      ],
      "text/plain": [
       "<IPython.core.display.HTML object>"
      ]
     },
     "metadata": {},
     "output_type": "display_data"
    }
   ],
   "source": [
    "show_exp('project management', n_max=5)"
   ]
  },
  {
   "cell_type": "code",
   "execution_count": 110,
   "metadata": {},
   "outputs": [
    {
     "data": {
      "text/html": [
       "<div>\n",
       "<style scoped>\n",
       "    .dataframe tbody tr th:only-of-type {\n",
       "        vertical-align: middle;\n",
       "    }\n",
       "\n",
       "    .dataframe tbody tr th {\n",
       "        vertical-align: top;\n",
       "    }\n",
       "\n",
       "    .dataframe thead th {\n",
       "        text-align: right;\n",
       "    }\n",
       "</style>\n",
       "<table border=\"1\" class=\"dataframe\">\n",
       "  <thead>\n",
       "    <tr style=\"text-align: right;\">\n",
       "      <th></th>\n",
       "      <th>n</th>\n",
       "      <th>ads</th>\n",
       "      <th>advertisers</th>\n",
       "    </tr>\n",
       "    <tr>\n",
       "      <th>text</th>\n",
       "      <th></th>\n",
       "      <th></th>\n",
       "      <th></th>\n",
       "    </tr>\n",
       "  </thead>\n",
       "  <tbody>\n",
       "    <tr>\n",
       "      <th>project management</th>\n",
       "      <td>589</td>\n",
       "      <td>582</td>\n",
       "      <td>355</td>\n",
       "    </tr>\n",
       "    <tr>\n",
       "      <th>design</th>\n",
       "      <td>24</td>\n",
       "      <td>23</td>\n",
       "      <td>18</td>\n",
       "    </tr>\n",
       "    <tr>\n",
       "      <th>delivery</th>\n",
       "      <td>24</td>\n",
       "      <td>21</td>\n",
       "      <td>15</td>\n",
       "    </tr>\n",
       "    <tr>\n",
       "      <th>development</th>\n",
       "      <td>17</td>\n",
       "      <td>17</td>\n",
       "      <td>10</td>\n",
       "    </tr>\n",
       "    <tr>\n",
       "      <th>management</th>\n",
       "      <td>10</td>\n",
       "      <td>10</td>\n",
       "      <td>9</td>\n",
       "    </tr>\n",
       "    <tr>\n",
       "      <th>managing</th>\n",
       "      <td>10</td>\n",
       "      <td>10</td>\n",
       "      <td>9</td>\n",
       "    </tr>\n",
       "    <tr>\n",
       "      <th>implementation</th>\n",
       "      <td>10</td>\n",
       "      <td>9</td>\n",
       "      <td>7</td>\n",
       "    </tr>\n",
       "    <tr>\n",
       "      <th>planning</th>\n",
       "      <td>8</td>\n",
       "      <td>8</td>\n",
       "      <td>7</td>\n",
       "    </tr>\n",
       "    <tr>\n",
       "      <th>building</th>\n",
       "      <td>8</td>\n",
       "      <td>8</td>\n",
       "      <td>6</td>\n",
       "    </tr>\n",
       "    <tr>\n",
       "      <th>customer service</th>\n",
       "      <td>12</td>\n",
       "      <td>12</td>\n",
       "      <td>5</td>\n",
       "    </tr>\n",
       "    <tr>\n",
       "      <th>price control environment</th>\n",
       "      <td>9</td>\n",
       "      <td>9</td>\n",
       "      <td>5</td>\n",
       "    </tr>\n",
       "    <tr>\n",
       "      <th>projects</th>\n",
       "      <td>9</td>\n",
       "      <td>9</td>\n",
       "      <td>5</td>\n",
       "    </tr>\n",
       "    <tr>\n",
       "      <th>business development</th>\n",
       "      <td>7</td>\n",
       "      <td>7</td>\n",
       "      <td>5</td>\n",
       "    </tr>\n",
       "    <tr>\n",
       "      <th>more</th>\n",
       "      <td>16</td>\n",
       "      <td>6</td>\n",
       "      <td>5</td>\n",
       "    </tr>\n",
       "    <tr>\n",
       "      <th>construction</th>\n",
       "      <td>6</td>\n",
       "      <td>6</td>\n",
       "      <td>5</td>\n",
       "    </tr>\n",
       "  </tbody>\n",
       "</table>\n",
       "</div>"
      ],
      "text/plain": [
       "                             n  ads  advertisers\n",
       "text                                            \n",
       "project management         589  582          355\n",
       "design                      24   23           18\n",
       "delivery                    24   21           15\n",
       "development                 17   17           10\n",
       "management                  10   10            9\n",
       "managing                    10   10            9\n",
       "implementation              10    9            7\n",
       "planning                     8    8            7\n",
       "building                     8    8            6\n",
       "customer service            12   12            5\n",
       "price control environment    9    9            5\n",
       "projects                     9    9            5\n",
       "business development         7    7            5\n",
       "more                        16    6            5\n",
       "construction                 6    6            5"
      ]
     },
     "execution_count": 110,
     "metadata": {},
     "output_type": "execute_result"
    }
   ],
   "source": [
    "related_experience('project management').head(15)"
   ]
  },
  {
   "cell_type": "code",
   "execution_count": 111,
   "metadata": {},
   "outputs": [
    {
     "data": {
      "text/html": [
       "<div>\n",
       "<style scoped>\n",
       "    .dataframe tbody tr th:only-of-type {\n",
       "        vertical-align: middle;\n",
       "    }\n",
       "\n",
       "    .dataframe tbody tr th {\n",
       "        vertical-align: top;\n",
       "    }\n",
       "\n",
       "    .dataframe thead th {\n",
       "        text-align: right;\n",
       "    }\n",
       "</style>\n",
       "<table border=\"1\" class=\"dataframe\">\n",
       "  <thead>\n",
       "    <tr style=\"text-align: right;\">\n",
       "      <th></th>\n",
       "      <th>text</th>\n",
       "      <th>docidx</th>\n",
       "      <th>start</th>\n",
       "      <th>end</th>\n",
       "      <th>label</th>\n",
       "      <th>sent_start</th>\n",
       "      <th>sent_end</th>\n",
       "      <th>Id</th>\n",
       "      <th>Title</th>\n",
       "      <th>FullDescription</th>\n",
       "      <th>LocationRaw</th>\n",
       "      <th>LocationNormalized</th>\n",
       "      <th>ContractType</th>\n",
       "      <th>ContractTime</th>\n",
       "      <th>Company</th>\n",
       "      <th>Category</th>\n",
       "      <th>SalaryRaw</th>\n",
       "      <th>SalaryNormalized</th>\n",
       "      <th>SourceName</th>\n",
       "      <th>split</th>\n",
       "    </tr>\n",
       "  </thead>\n",
       "  <tbody>\n",
       "    <tr>\n",
       "      <th>34533</th>\n",
       "      <td>price control environment</td>\n",
       "      <td>47690</td>\n",
       "      <td>250</td>\n",
       "      <td>253</td>\n",
       "      <td>EXPERIENCE</td>\n",
       "      <td>244</td>\n",
       "      <td>257</td>\n",
       "      <td>68580067</td>\n",
       "      <td>Regulatory Analyst</td>\n",
       "      <td>Assessing quantitatively the impact on shareho...</td>\n",
       "      <td>Berkshire</td>\n",
       "      <td>Berkshire</td>\n",
       "      <td>NaN</td>\n",
       "      <td>permanent</td>\n",
       "      <td>NaN</td>\n",
       "      <td>Consultancy Jobs</td>\n",
       "      <td>40000 - 45000</td>\n",
       "      <td>42500.0</td>\n",
       "      <td>michaelpage.co.uk</td>\n",
       "      <td>Train</td>\n",
       "    </tr>\n",
       "    <tr>\n",
       "      <th>34539</th>\n",
       "      <td>price control environment</td>\n",
       "      <td>47692</td>\n",
       "      <td>270</td>\n",
       "      <td>273</td>\n",
       "      <td>EXPERIENCE</td>\n",
       "      <td>235</td>\n",
       "      <td>274</td>\n",
       "      <td>68580069</td>\n",
       "      <td>Regulatory Manager</td>\n",
       "      <td>A fantastic opportunity has arisen for a Regul...</td>\n",
       "      <td>Berkshire</td>\n",
       "      <td>Berkshire</td>\n",
       "      <td>NaN</td>\n",
       "      <td>permanent</td>\n",
       "      <td>NaN</td>\n",
       "      <td>Consultancy Jobs</td>\n",
       "      <td>50000 - 60000</td>\n",
       "      <td>55000.0</td>\n",
       "      <td>michaelpage.co.uk</td>\n",
       "      <td>Train</td>\n",
       "    </tr>\n",
       "    <tr>\n",
       "      <th>139178</th>\n",
       "      <td>price control environment</td>\n",
       "      <td>183711</td>\n",
       "      <td>414</td>\n",
       "      <td>417</td>\n",
       "      <td>EXPERIENCE</td>\n",
       "      <td>379</td>\n",
       "      <td>418</td>\n",
       "      <td>71631376</td>\n",
       "      <td>Regulatory Manager</td>\n",
       "      <td>We are the UK s biggest water and sewerage com...</td>\n",
       "      <td>Reading, Berkshire</td>\n",
       "      <td>Reading</td>\n",
       "      <td>NaN</td>\n",
       "      <td>permanent</td>\n",
       "      <td>Reed</td>\n",
       "      <td>Engineering Jobs</td>\n",
       "      <td>45000 - 50000/annum depending on experience + ...</td>\n",
       "      <td>47500.0</td>\n",
       "      <td>cv-library.co.uk</td>\n",
       "      <td>Train</td>\n",
       "    </tr>\n",
       "    <tr>\n",
       "      <th>187417</th>\n",
       "      <td>price control environment</td>\n",
       "      <td>242918</td>\n",
       "      <td>328</td>\n",
       "      <td>331</td>\n",
       "      <td>EXPERIENCE</td>\n",
       "      <td>322</td>\n",
       "      <td>335</td>\n",
       "      <td>72689668</td>\n",
       "      <td>Regulatory Analyst</td>\n",
       "      <td>We are the UK ****;s biggest water and sewerag...</td>\n",
       "      <td>Reading</td>\n",
       "      <td>Reading</td>\n",
       "      <td>NaN</td>\n",
       "      <td>permanent</td>\n",
       "      <td>Reed Consulting</td>\n",
       "      <td>Accounting &amp; Finance Jobs</td>\n",
       "      <td>40,000 to 43,000</td>\n",
       "      <td>41500.0</td>\n",
       "      <td>jobsite.co.uk</td>\n",
       "      <td>Train</td>\n",
       "    </tr>\n",
       "    <tr>\n",
       "      <th>212607</th>\n",
       "      <td>price control environment</td>\n",
       "      <td>275788</td>\n",
       "      <td>229</td>\n",
       "      <td>232</td>\n",
       "      <td>EXPERIENCE</td>\n",
       "      <td>223</td>\n",
       "      <td>232</td>\n",
       "      <td>71680024</td>\n",
       "      <td>Regulatory Economist  ****  package</td>\n",
       "      <td>We have an excellent opportunity for a Regulat...</td>\n",
       "      <td>Reading Berkshire South East</td>\n",
       "      <td>Reading</td>\n",
       "      <td>NaN</td>\n",
       "      <td>permanent</td>\n",
       "      <td>Jonathan Lee Engineering &amp; Manufacturing</td>\n",
       "      <td>Accounting &amp; Finance Jobs</td>\n",
       "      <td>NaN</td>\n",
       "      <td>NaN</td>\n",
       "      <td>totaljobs.com</td>\n",
       "      <td>Valid</td>\n",
       "    </tr>\n",
       "    <tr>\n",
       "      <th>288871</th>\n",
       "      <td>price control environment</td>\n",
       "      <td>375027</td>\n",
       "      <td>422</td>\n",
       "      <td>425</td>\n",
       "      <td>EXPERIENCE</td>\n",
       "      <td>416</td>\n",
       "      <td>429</td>\n",
       "      <td>71557474</td>\n",
       "      <td>Regulatory Analyst</td>\n",
       "      <td>We are the UK s biggest water and sewerage com...</td>\n",
       "      <td>Reading, Berkshire</td>\n",
       "      <td>Reading</td>\n",
       "      <td>NaN</td>\n",
       "      <td>permanent</td>\n",
       "      <td>Reed</td>\n",
       "      <td>Other/General Jobs</td>\n",
       "      <td>NaN</td>\n",
       "      <td>NaN</td>\n",
       "      <td>cv-library.co.uk</td>\n",
       "      <td>Test</td>\n",
       "    </tr>\n",
       "    <tr>\n",
       "      <th>293650</th>\n",
       "      <td>price control environment</td>\n",
       "      <td>380912</td>\n",
       "      <td>228</td>\n",
       "      <td>231</td>\n",
       "      <td>EXPERIENCE</td>\n",
       "      <td>222</td>\n",
       "      <td>231</td>\n",
       "      <td>71745569</td>\n",
       "      <td>Regulatory Economist  **** , **** , ****  package</td>\n",
       "      <td>We have an excellent opportunity for a Regulat...</td>\n",
       "      <td>Reading,Berkshire</td>\n",
       "      <td>UK</td>\n",
       "      <td>NaN</td>\n",
       "      <td>permanent</td>\n",
       "      <td>Jonathan Lee Recruitment   Product Eng</td>\n",
       "      <td>Energy, Oil &amp; Gas Jobs</td>\n",
       "      <td>NaN</td>\n",
       "      <td>NaN</td>\n",
       "      <td>renewablescareers.com</td>\n",
       "      <td>Test</td>\n",
       "    </tr>\n",
       "    <tr>\n",
       "      <th>310855</th>\n",
       "      <td>price control environment</td>\n",
       "      <td>401801</td>\n",
       "      <td>641</td>\n",
       "      <td>644</td>\n",
       "      <td>EXPERIENCE</td>\n",
       "      <td>606</td>\n",
       "      <td>645</td>\n",
       "      <td>72479775</td>\n",
       "      <td>Regulatory Manager</td>\n",
       "      <td>What is the purpose of the role? You will be r...</td>\n",
       "      <td>Reading</td>\n",
       "      <td>Reading</td>\n",
       "      <td>NaN</td>\n",
       "      <td>permanent</td>\n",
       "      <td>Thames Water Utilities Ltd</td>\n",
       "      <td>Consultancy Jobs</td>\n",
       "      <td>NaN</td>\n",
       "      <td>NaN</td>\n",
       "      <td>jobsite.co.uk</td>\n",
       "      <td>Test</td>\n",
       "    </tr>\n",
       "    <tr>\n",
       "      <th>310859</th>\n",
       "      <td>price control environment</td>\n",
       "      <td>401803</td>\n",
       "      <td>670</td>\n",
       "      <td>673</td>\n",
       "      <td>EXPERIENCE</td>\n",
       "      <td>664</td>\n",
       "      <td>677</td>\n",
       "      <td>72479777</td>\n",
       "      <td>Regulatory Analyst</td>\n",
       "      <td>What is the purpose of the role? You will have...</td>\n",
       "      <td>Reading</td>\n",
       "      <td>Reading</td>\n",
       "      <td>NaN</td>\n",
       "      <td>permanent</td>\n",
       "      <td>Thames Water Utilities Ltd</td>\n",
       "      <td>Consultancy Jobs</td>\n",
       "      <td>NaN</td>\n",
       "      <td>NaN</td>\n",
       "      <td>jobsite.co.uk</td>\n",
       "      <td>Test</td>\n",
       "    </tr>\n",
       "  </tbody>\n",
       "</table>\n",
       "</div>"
      ],
      "text/plain": [
       "                             text  docidx  start  end       label  sent_start  \\\n",
       "34533   price control environment   47690    250  253  EXPERIENCE         244   \n",
       "34539   price control environment   47692    270  273  EXPERIENCE         235   \n",
       "139178  price control environment  183711    414  417  EXPERIENCE         379   \n",
       "187417  price control environment  242918    328  331  EXPERIENCE         322   \n",
       "212607  price control environment  275788    229  232  EXPERIENCE         223   \n",
       "288871  price control environment  375027    422  425  EXPERIENCE         416   \n",
       "293650  price control environment  380912    228  231  EXPERIENCE         222   \n",
       "310855  price control environment  401801    641  644  EXPERIENCE         606   \n",
       "310859  price control environment  401803    670  673  EXPERIENCE         664   \n",
       "\n",
       "        sent_end        Id                                              Title  \\\n",
       "34533        257  68580067                                 Regulatory Analyst   \n",
       "34539        274  68580069                                 Regulatory Manager   \n",
       "139178       418  71631376                                 Regulatory Manager   \n",
       "187417       335  72689668                                 Regulatory Analyst   \n",
       "212607       232  71680024                Regulatory Economist  ****  package   \n",
       "288871       429  71557474                                 Regulatory Analyst   \n",
       "293650       231  71745569  Regulatory Economist  **** , **** , ****  package   \n",
       "310855       645  72479775                                 Regulatory Manager   \n",
       "310859       677  72479777                                 Regulatory Analyst   \n",
       "\n",
       "                                          FullDescription  \\\n",
       "34533   Assessing quantitatively the impact on shareho...   \n",
       "34539   A fantastic opportunity has arisen for a Regul...   \n",
       "139178  We are the UK s biggest water and sewerage com...   \n",
       "187417  We are the UK ****;s biggest water and sewerag...   \n",
       "212607  We have an excellent opportunity for a Regulat...   \n",
       "288871  We are the UK s biggest water and sewerage com...   \n",
       "293650  We have an excellent opportunity for a Regulat...   \n",
       "310855  What is the purpose of the role? You will be r...   \n",
       "310859  What is the purpose of the role? You will have...   \n",
       "\n",
       "                         LocationRaw LocationNormalized ContractType  \\\n",
       "34533                      Berkshire          Berkshire          NaN   \n",
       "34539                      Berkshire          Berkshire          NaN   \n",
       "139178            Reading, Berkshire            Reading          NaN   \n",
       "187417                       Reading            Reading          NaN   \n",
       "212607  Reading Berkshire South East            Reading          NaN   \n",
       "288871            Reading, Berkshire            Reading          NaN   \n",
       "293650             Reading,Berkshire                 UK          NaN   \n",
       "310855                       Reading            Reading          NaN   \n",
       "310859                       Reading            Reading          NaN   \n",
       "\n",
       "       ContractTime                                   Company  \\\n",
       "34533     permanent                                       NaN   \n",
       "34539     permanent                                       NaN   \n",
       "139178    permanent                                      Reed   \n",
       "187417    permanent                           Reed Consulting   \n",
       "212607    permanent  Jonathan Lee Engineering & Manufacturing   \n",
       "288871    permanent                                      Reed   \n",
       "293650    permanent    Jonathan Lee Recruitment   Product Eng   \n",
       "310855    permanent                Thames Water Utilities Ltd   \n",
       "310859    permanent                Thames Water Utilities Ltd   \n",
       "\n",
       "                         Category  \\\n",
       "34533            Consultancy Jobs   \n",
       "34539            Consultancy Jobs   \n",
       "139178           Engineering Jobs   \n",
       "187417  Accounting & Finance Jobs   \n",
       "212607  Accounting & Finance Jobs   \n",
       "288871         Other/General Jobs   \n",
       "293650     Energy, Oil & Gas Jobs   \n",
       "310855           Consultancy Jobs   \n",
       "310859           Consultancy Jobs   \n",
       "\n",
       "                                                SalaryRaw  SalaryNormalized  \\\n",
       "34533                                       40000 - 45000           42500.0   \n",
       "34539                                       50000 - 60000           55000.0   \n",
       "139178  45000 - 50000/annum depending on experience + ...           47500.0   \n",
       "187417                                   40,000 to 43,000           41500.0   \n",
       "212607                                                NaN               NaN   \n",
       "288871                                                NaN               NaN   \n",
       "293650                                                NaN               NaN   \n",
       "310855                                                NaN               NaN   \n",
       "310859                                                NaN               NaN   \n",
       "\n",
       "                   SourceName  split  \n",
       "34533       michaelpage.co.uk  Train  \n",
       "34539       michaelpage.co.uk  Train  \n",
       "139178       cv-library.co.uk  Train  \n",
       "187417          jobsite.co.uk  Train  \n",
       "212607          totaljobs.com  Valid  \n",
       "288871       cv-library.co.uk   Test  \n",
       "293650  renewablescareers.com   Test  \n",
       "310855          jobsite.co.uk   Test  \n",
       "310859          jobsite.co.uk   Test  "
      ]
     },
     "execution_count": 111,
     "metadata": {},
     "output_type": "execute_result"
    }
   ],
   "source": [
    "filter_ents('price control environment')"
   ]
  },
  {
   "cell_type": "code",
   "execution_count": 112,
   "metadata": {},
   "outputs": [
    {
     "data": {
      "text/html": [
       "<div>\n",
       "<style scoped>\n",
       "    .dataframe tbody tr th:only-of-type {\n",
       "        vertical-align: middle;\n",
       "    }\n",
       "\n",
       "    .dataframe tbody tr th {\n",
       "        vertical-align: top;\n",
       "    }\n",
       "\n",
       "    .dataframe thead th {\n",
       "        text-align: right;\n",
       "    }\n",
       "</style>\n",
       "<table border=\"1\" class=\"dataframe\">\n",
       "  <thead>\n",
       "    <tr style=\"text-align: right;\">\n",
       "      <th></th>\n",
       "      <th>n</th>\n",
       "      <th>ads</th>\n",
       "      <th>advertisers</th>\n",
       "    </tr>\n",
       "    <tr>\n",
       "      <th>text</th>\n",
       "      <th></th>\n",
       "      <th></th>\n",
       "      <th></th>\n",
       "    </tr>\n",
       "  </thead>\n",
       "  <tbody>\n",
       "    <tr>\n",
       "      <th>price control environment</th>\n",
       "      <td>9</td>\n",
       "      <td>9</td>\n",
       "      <td>5</td>\n",
       "    </tr>\n",
       "    <tr>\n",
       "      <th>project management</th>\n",
       "      <td>9</td>\n",
       "      <td>9</td>\n",
       "      <td>5</td>\n",
       "    </tr>\n",
       "    <tr>\n",
       "      <th>economic regulatory policy development</th>\n",
       "      <td>7</td>\n",
       "      <td>7</td>\n",
       "      <td>3</td>\n",
       "    </tr>\n",
       "    <tr>\n",
       "      <th>economic regulatory price controls</th>\n",
       "      <td>3</td>\n",
       "      <td>3</td>\n",
       "      <td>3</td>\n",
       "    </tr>\n",
       "    <tr>\n",
       "      <th>economic regulatory price control</th>\n",
       "      <td>3</td>\n",
       "      <td>3</td>\n",
       "      <td>2</td>\n",
       "    </tr>\n",
       "    <tr>\n",
       "      <th>finance role</th>\n",
       "      <td>2</td>\n",
       "      <td>2</td>\n",
       "      <td>2</td>\n",
       "    </tr>\n",
       "  </tbody>\n",
       "</table>\n",
       "</div>"
      ],
      "text/plain": [
       "                                        n  ads  advertisers\n",
       "text                                                       \n",
       "price control environment               9    9            5\n",
       "project management                      9    9            5\n",
       "economic regulatory policy development  7    7            3\n",
       "economic regulatory price controls      3    3            3\n",
       "economic regulatory price control       3    3            2\n",
       "finance role                            2    2            2"
      ]
     },
     "execution_count": 112,
     "metadata": {},
     "output_type": "execute_result"
    }
   ],
   "source": [
    "related_experience('price control environment')"
   ]
  },
  {
   "cell_type": "code",
   "execution_count": 113,
   "metadata": {},
   "outputs": [
    {
     "data": {
      "text/html": [
       "<div>\n",
       "<style scoped>\n",
       "    .dataframe tbody tr th:only-of-type {\n",
       "        vertical-align: middle;\n",
       "    }\n",
       "\n",
       "    .dataframe tbody tr th {\n",
       "        vertical-align: top;\n",
       "    }\n",
       "\n",
       "    .dataframe thead th {\n",
       "        text-align: right;\n",
       "    }\n",
       "</style>\n",
       "<table border=\"1\" class=\"dataframe\">\n",
       "  <thead>\n",
       "    <tr style=\"text-align: right;\">\n",
       "      <th></th>\n",
       "      <th>n</th>\n",
       "      <th>ads</th>\n",
       "      <th>advertisers</th>\n",
       "    </tr>\n",
       "    <tr>\n",
       "      <th>text</th>\n",
       "      <th></th>\n",
       "      <th></th>\n",
       "      <th></th>\n",
       "    </tr>\n",
       "  </thead>\n",
       "  <tbody>\n",
       "    <tr>\n",
       "      <th>AJAX</th>\n",
       "      <td>89</td>\n",
       "      <td>89</td>\n",
       "      <td>60</td>\n",
       "    </tr>\n",
       "    <tr>\n",
       "      <th>CSS</th>\n",
       "      <td>33</td>\n",
       "      <td>33</td>\n",
       "      <td>21</td>\n",
       "    </tr>\n",
       "    <tr>\n",
       "      <th>HTML</th>\n",
       "      <td>28</td>\n",
       "      <td>28</td>\n",
       "      <td>20</td>\n",
       "    </tr>\n",
       "    <tr>\n",
       "      <th>JavaScript</th>\n",
       "      <td>21</td>\n",
       "      <td>21</td>\n",
       "      <td>17</td>\n",
       "    </tr>\n",
       "    <tr>\n",
       "      <th>Javascript</th>\n",
       "      <td>17</td>\n",
       "      <td>17</td>\n",
       "      <td>12</td>\n",
       "    </tr>\n",
       "    <tr>\n",
       "      <th>PHP</th>\n",
       "      <td>11</td>\n",
       "      <td>11</td>\n",
       "      <td>8</td>\n",
       "    </tr>\n",
       "    <tr>\n",
       "      <th>jQuery</th>\n",
       "      <td>9</td>\n",
       "      <td>9</td>\n",
       "      <td>7</td>\n",
       "    </tr>\n",
       "    <tr>\n",
       "      <th>design</th>\n",
       "      <td>7</td>\n",
       "      <td>7</td>\n",
       "      <td>7</td>\n",
       "    </tr>\n",
       "    <tr>\n",
       "      <th>IBM DB</th>\n",
       "      <td>11</td>\n",
       "      <td>11</td>\n",
       "      <td>6</td>\n",
       "    </tr>\n",
       "    <tr>\n",
       "      <th>Java</th>\n",
       "      <td>7</td>\n",
       "      <td>7</td>\n",
       "      <td>6</td>\n",
       "    </tr>\n",
       "    <tr>\n",
       "      <th>XML</th>\n",
       "      <td>7</td>\n",
       "      <td>7</td>\n",
       "      <td>5</td>\n",
       "    </tr>\n",
       "    <tr>\n",
       "      <th>Hibernate</th>\n",
       "      <td>5</td>\n",
       "      <td>5</td>\n",
       "      <td>4</td>\n",
       "    </tr>\n",
       "    <tr>\n",
       "      <th>MVC</th>\n",
       "      <td>5</td>\n",
       "      <td>5</td>\n",
       "      <td>4</td>\n",
       "    </tr>\n",
       "    <tr>\n",
       "      <th>Web Services</th>\n",
       "      <td>5</td>\n",
       "      <td>5</td>\n",
       "      <td>4</td>\n",
       "    </tr>\n",
       "    <tr>\n",
       "      <th>JSPs</th>\n",
       "      <td>4</td>\n",
       "      <td>4</td>\n",
       "      <td>4</td>\n",
       "    </tr>\n",
       "  </tbody>\n",
       "</table>\n",
       "</div>"
      ],
      "text/plain": [
       "               n  ads  advertisers\n",
       "text                              \n",
       "AJAX          89   89           60\n",
       "CSS           33   33           21\n",
       "HTML          28   28           20\n",
       "JavaScript    21   21           17\n",
       "Javascript    17   17           12\n",
       "PHP           11   11            8\n",
       "jQuery         9    9            7\n",
       "design         7    7            7\n",
       "IBM DB        11   11            6\n",
       "Java           7    7            6\n",
       "XML            7    7            5\n",
       "Hibernate      5    5            4\n",
       "MVC            5    5            4\n",
       "Web Services   5    5            4\n",
       "JSPs           4    4            4"
      ]
     },
     "execution_count": 113,
     "metadata": {},
     "output_type": "execute_result"
    }
   ],
   "source": [
    "related_experience('AJAX').head(15)"
   ]
  },
  {
   "cell_type": "code",
   "execution_count": 114,
   "metadata": {},
   "outputs": [
    {
     "data": {
      "text/html": [
       "<div>\n",
       "<style scoped>\n",
       "    .dataframe tbody tr th:only-of-type {\n",
       "        vertical-align: middle;\n",
       "    }\n",
       "\n",
       "    .dataframe tbody tr th {\n",
       "        vertical-align: top;\n",
       "    }\n",
       "\n",
       "    .dataframe thead th {\n",
       "        text-align: right;\n",
       "    }\n",
       "</style>\n",
       "<table border=\"1\" class=\"dataframe\">\n",
       "  <thead>\n",
       "    <tr style=\"text-align: right;\">\n",
       "      <th></th>\n",
       "      <th>n</th>\n",
       "      <th>ads</th>\n",
       "      <th>advertisers</th>\n",
       "    </tr>\n",
       "    <tr>\n",
       "      <th>text</th>\n",
       "      <th></th>\n",
       "      <th></th>\n",
       "      <th></th>\n",
       "    </tr>\n",
       "  </thead>\n",
       "  <tbody>\n",
       "    <tr>\n",
       "      <th>Java</th>\n",
       "      <td>480</td>\n",
       "      <td>464</td>\n",
       "      <td>233</td>\n",
       "    </tr>\n",
       "    <tr>\n",
       "      <th>C++</th>\n",
       "      <td>75</td>\n",
       "      <td>75</td>\n",
       "      <td>41</td>\n",
       "    </tr>\n",
       "    <tr>\n",
       "      <th>C</th>\n",
       "      <td>77</td>\n",
       "      <td>67</td>\n",
       "      <td>41</td>\n",
       "    </tr>\n",
       "    <tr>\n",
       "      <th>SQL</th>\n",
       "      <td>27</td>\n",
       "      <td>26</td>\n",
       "      <td>15</td>\n",
       "    </tr>\n",
       "    <tr>\n",
       "      <th>JavaScript</th>\n",
       "      <td>24</td>\n",
       "      <td>24</td>\n",
       "      <td>15</td>\n",
       "    </tr>\n",
       "    <tr>\n",
       "      <th>J****EE</th>\n",
       "      <td>20</td>\n",
       "      <td>20</td>\n",
       "      <td>15</td>\n",
       "    </tr>\n",
       "    <tr>\n",
       "      <th>Linux</th>\n",
       "      <td>17</td>\n",
       "      <td>17</td>\n",
       "      <td>15</td>\n",
       "    </tr>\n",
       "    <tr>\n",
       "      <th>Spring</th>\n",
       "      <td>18</td>\n",
       "      <td>17</td>\n",
       "      <td>14</td>\n",
       "    </tr>\n",
       "    <tr>\n",
       "      <th>development</th>\n",
       "      <td>19</td>\n",
       "      <td>16</td>\n",
       "      <td>14</td>\n",
       "    </tr>\n",
       "    <tr>\n",
       "      <th>HTML</th>\n",
       "      <td>19</td>\n",
       "      <td>19</td>\n",
       "      <td>13</td>\n",
       "    </tr>\n",
       "    <tr>\n",
       "      <th>Hibernate</th>\n",
       "      <td>14</td>\n",
       "      <td>13</td>\n",
       "      <td>11</td>\n",
       "    </tr>\n",
       "    <tr>\n",
       "      <th>experience</th>\n",
       "      <td>12</td>\n",
       "      <td>12</td>\n",
       "      <td>11</td>\n",
       "    </tr>\n",
       "    <tr>\n",
       "      <th>Python</th>\n",
       "      <td>14</td>\n",
       "      <td>14</td>\n",
       "      <td>10</td>\n",
       "    </tr>\n",
       "    <tr>\n",
       "      <th>highlevel language</th>\n",
       "      <td>14</td>\n",
       "      <td>14</td>\n",
       "      <td>10</td>\n",
       "    </tr>\n",
       "    <tr>\n",
       "      <th>hightraffic systems</th>\n",
       "      <td>14</td>\n",
       "      <td>14</td>\n",
       "      <td>10</td>\n",
       "    </tr>\n",
       "  </tbody>\n",
       "</table>\n",
       "</div>"
      ],
      "text/plain": [
       "                       n  ads  advertisers\n",
       "text                                      \n",
       "Java                 480  464          233\n",
       "C++                   75   75           41\n",
       "C                     77   67           41\n",
       "SQL                   27   26           15\n",
       "JavaScript            24   24           15\n",
       "J****EE               20   20           15\n",
       "Linux                 17   17           15\n",
       "Spring                18   17           14\n",
       "development           19   16           14\n",
       "HTML                  19   19           13\n",
       "Hibernate             14   13           11\n",
       "experience            12   12           11\n",
       "Python                14   14           10\n",
       "highlevel language    14   14           10\n",
       "hightraffic systems   14   14           10"
      ]
     },
     "execution_count": 114,
     "metadata": {},
     "output_type": "execute_result"
    }
   ],
   "source": [
    "related_experience('Java').head(15)"
   ]
  },
  {
   "cell_type": "code",
   "execution_count": 115,
   "metadata": {},
   "outputs": [
    {
     "data": {
      "text/html": [
       "<div>\n",
       "<style scoped>\n",
       "    .dataframe tbody tr th:only-of-type {\n",
       "        vertical-align: middle;\n",
       "    }\n",
       "\n",
       "    .dataframe tbody tr th {\n",
       "        vertical-align: top;\n",
       "    }\n",
       "\n",
       "    .dataframe thead th {\n",
       "        text-align: right;\n",
       "    }\n",
       "</style>\n",
       "<table border=\"1\" class=\"dataframe\">\n",
       "  <thead>\n",
       "    <tr style=\"text-align: right;\">\n",
       "      <th></th>\n",
       "      <th>n</th>\n",
       "      <th>ads</th>\n",
       "      <th>advertisers</th>\n",
       "    </tr>\n",
       "    <tr>\n",
       "      <th>text</th>\n",
       "      <th></th>\n",
       "      <th></th>\n",
       "      <th></th>\n",
       "    </tr>\n",
       "  </thead>\n",
       "  <tbody>\n",
       "    <tr>\n",
       "      <th>Python</th>\n",
       "      <td>141</td>\n",
       "      <td>137</td>\n",
       "      <td>88</td>\n",
       "    </tr>\n",
       "    <tr>\n",
       "      <th>Perl</th>\n",
       "      <td>24</td>\n",
       "      <td>24</td>\n",
       "      <td>12</td>\n",
       "    </tr>\n",
       "    <tr>\n",
       "      <th>Ruby</th>\n",
       "      <td>18</td>\n",
       "      <td>18</td>\n",
       "      <td>12</td>\n",
       "    </tr>\n",
       "    <tr>\n",
       "      <th>Java</th>\n",
       "      <td>14</td>\n",
       "      <td>14</td>\n",
       "      <td>10</td>\n",
       "    </tr>\n",
       "    <tr>\n",
       "      <th>C</th>\n",
       "      <td>13</td>\n",
       "      <td>13</td>\n",
       "      <td>9</td>\n",
       "    </tr>\n",
       "    <tr>\n",
       "      <th>Bash</th>\n",
       "      <td>15</td>\n",
       "      <td>15</td>\n",
       "      <td>7</td>\n",
       "    </tr>\n",
       "    <tr>\n",
       "      <th>Django</th>\n",
       "      <td>8</td>\n",
       "      <td>8</td>\n",
       "      <td>7</td>\n",
       "    </tr>\n",
       "    <tr>\n",
       "      <th>PHP</th>\n",
       "      <td>14</td>\n",
       "      <td>14</td>\n",
       "      <td>6</td>\n",
       "    </tr>\n",
       "    <tr>\n",
       "      <th>OpenFrameworks</th>\n",
       "      <td>7</td>\n",
       "      <td>7</td>\n",
       "      <td>6</td>\n",
       "    </tr>\n",
       "    <tr>\n",
       "      <th>etc</th>\n",
       "      <td>7</td>\n",
       "      <td>7</td>\n",
       "      <td>6</td>\n",
       "    </tr>\n",
       "    <tr>\n",
       "      <th>Linux</th>\n",
       "      <td>7</td>\n",
       "      <td>7</td>\n",
       "      <td>5</td>\n",
       "    </tr>\n",
       "    <tr>\n",
       "      <th>Hadoop</th>\n",
       "      <td>6</td>\n",
       "      <td>6</td>\n",
       "      <td>5</td>\n",
       "    </tr>\n",
       "    <tr>\n",
       "      <th>expertise</th>\n",
       "      <td>5</td>\n",
       "      <td>5</td>\n",
       "      <td>5</td>\n",
       "    </tr>\n",
       "    <tr>\n",
       "      <th>Experience</th>\n",
       "      <td>8</td>\n",
       "      <td>8</td>\n",
       "      <td>4</td>\n",
       "    </tr>\n",
       "    <tr>\n",
       "      <th>C++</th>\n",
       "      <td>5</td>\n",
       "      <td>5</td>\n",
       "      <td>4</td>\n",
       "    </tr>\n",
       "  </tbody>\n",
       "</table>\n",
       "</div>"
      ],
      "text/plain": [
       "                  n  ads  advertisers\n",
       "text                                 \n",
       "Python          141  137           88\n",
       "Perl             24   24           12\n",
       "Ruby             18   18           12\n",
       "Java             14   14           10\n",
       "C                13   13            9\n",
       "Bash             15   15            7\n",
       "Django            8    8            7\n",
       "PHP              14   14            6\n",
       "OpenFrameworks    7    7            6\n",
       "etc               7    7            6\n",
       "Linux             7    7            5\n",
       "Hadoop            6    6            5\n",
       "expertise         5    5            5\n",
       "Experience        8    8            4\n",
       "C++               5    5            4"
      ]
     },
     "execution_count": 115,
     "metadata": {},
     "output_type": "execute_result"
    }
   ],
   "source": [
    "related_experience('Python').head(15)"
   ]
  },
  {
   "cell_type": "code",
   "execution_count": 116,
   "metadata": {},
   "outputs": [
    {
     "data": {
      "text/html": [
       "<div>\n",
       "<style scoped>\n",
       "    .dataframe tbody tr th:only-of-type {\n",
       "        vertical-align: middle;\n",
       "    }\n",
       "\n",
       "    .dataframe tbody tr th {\n",
       "        vertical-align: top;\n",
       "    }\n",
       "\n",
       "    .dataframe thead th {\n",
       "        text-align: right;\n",
       "    }\n",
       "</style>\n",
       "<table border=\"1\" class=\"dataframe\">\n",
       "  <thead>\n",
       "    <tr style=\"text-align: right;\">\n",
       "      <th></th>\n",
       "      <th>n</th>\n",
       "      <th>ads</th>\n",
       "      <th>advertisers</th>\n",
       "    </tr>\n",
       "    <tr>\n",
       "      <th>text</th>\n",
       "      <th></th>\n",
       "      <th></th>\n",
       "      <th></th>\n",
       "    </tr>\n",
       "  </thead>\n",
       "  <tbody>\n",
       "    <tr>\n",
       "      <th>C++</th>\n",
       "      <td>337</td>\n",
       "      <td>313</td>\n",
       "      <td>151</td>\n",
       "    </tr>\n",
       "    <tr>\n",
       "      <th>C</th>\n",
       "      <td>163</td>\n",
       "      <td>126</td>\n",
       "      <td>65</td>\n",
       "    </tr>\n",
       "    <tr>\n",
       "      <th>Java</th>\n",
       "      <td>76</td>\n",
       "      <td>75</td>\n",
       "      <td>41</td>\n",
       "    </tr>\n",
       "    <tr>\n",
       "      <th>stages</th>\n",
       "      <td>16</td>\n",
       "      <td>16</td>\n",
       "      <td>12</td>\n",
       "    </tr>\n",
       "    <tr>\n",
       "      <th>development</th>\n",
       "      <td>13</td>\n",
       "      <td>13</td>\n",
       "      <td>11</td>\n",
       "    </tr>\n",
       "    <tr>\n",
       "      <th>highlevel language</th>\n",
       "      <td>14</td>\n",
       "      <td>14</td>\n",
       "      <td>10</td>\n",
       "    </tr>\n",
       "    <tr>\n",
       "      <th>hightraffic systems</th>\n",
       "      <td>14</td>\n",
       "      <td>14</td>\n",
       "      <td>10</td>\n",
       "    </tr>\n",
       "    <tr>\n",
       "      <th>this</th>\n",
       "      <td>12</td>\n",
       "      <td>12</td>\n",
       "      <td>9</td>\n",
       "    </tr>\n",
       "    <tr>\n",
       "      <th>MFC</th>\n",
       "      <td>25</td>\n",
       "      <td>18</td>\n",
       "      <td>8</td>\n",
       "    </tr>\n",
       "    <tr>\n",
       "      <th>Linux</th>\n",
       "      <td>13</td>\n",
       "      <td>12</td>\n",
       "      <td>8</td>\n",
       "    </tr>\n",
       "    <tr>\n",
       "      <th>TDD</th>\n",
       "      <td>29</td>\n",
       "      <td>17</td>\n",
       "      <td>6</td>\n",
       "    </tr>\n",
       "    <tr>\n",
       "      <th>C.</th>\n",
       "      <td>8</td>\n",
       "      <td>8</td>\n",
       "      <td>6</td>\n",
       "    </tr>\n",
       "    <tr>\n",
       "      <th>VB6</th>\n",
       "      <td>6</td>\n",
       "      <td>6</td>\n",
       "      <td>6</td>\n",
       "    </tr>\n",
       "    <tr>\n",
       "      <th>programming</th>\n",
       "      <td>6</td>\n",
       "      <td>6</td>\n",
       "      <td>6</td>\n",
       "    </tr>\n",
       "    <tr>\n",
       "      <th>all</th>\n",
       "      <td>25</td>\n",
       "      <td>25</td>\n",
       "      <td>5</td>\n",
       "    </tr>\n",
       "  </tbody>\n",
       "</table>\n",
       "</div>"
      ],
      "text/plain": [
       "                       n  ads  advertisers\n",
       "text                                      \n",
       "C++                  337  313          151\n",
       "C                    163  126           65\n",
       "Java                  76   75           41\n",
       "stages                16   16           12\n",
       "development           13   13           11\n",
       "highlevel language    14   14           10\n",
       "hightraffic systems   14   14           10\n",
       "this                  12   12            9\n",
       "MFC                   25   18            8\n",
       "Linux                 13   12            8\n",
       "TDD                   29   17            6\n",
       "C.                     8    8            6\n",
       "VB6                    6    6            6\n",
       "programming            6    6            6\n",
       "all                   25   25            5"
      ]
     },
     "execution_count": 116,
     "metadata": {},
     "output_type": "execute_result"
    }
   ],
   "source": [
    "related_experience('C++').head(15)"
   ]
  },
  {
   "cell_type": "code",
   "execution_count": 117,
   "metadata": {},
   "outputs": [
    {
     "data": {
      "text/html": [
       "<div>\n",
       "<style scoped>\n",
       "    .dataframe tbody tr th:only-of-type {\n",
       "        vertical-align: middle;\n",
       "    }\n",
       "\n",
       "    .dataframe tbody tr th {\n",
       "        vertical-align: top;\n",
       "    }\n",
       "\n",
       "    .dataframe thead th {\n",
       "        text-align: right;\n",
       "    }\n",
       "</style>\n",
       "<table border=\"1\" class=\"dataframe\">\n",
       "  <thead>\n",
       "    <tr style=\"text-align: right;\">\n",
       "      <th></th>\n",
       "      <th>n</th>\n",
       "      <th>ads</th>\n",
       "      <th>advertisers</th>\n",
       "    </tr>\n",
       "    <tr>\n",
       "      <th>text</th>\n",
       "      <th></th>\n",
       "      <th></th>\n",
       "      <th></th>\n",
       "    </tr>\n",
       "  </thead>\n",
       "  <tbody>\n",
       "    <tr>\n",
       "      <th>Javascript</th>\n",
       "      <td>159</td>\n",
       "      <td>159</td>\n",
       "      <td>86</td>\n",
       "    </tr>\n",
       "    <tr>\n",
       "      <th>HTML</th>\n",
       "      <td>83</td>\n",
       "      <td>82</td>\n",
       "      <td>50</td>\n",
       "    </tr>\n",
       "    <tr>\n",
       "      <th>CSS</th>\n",
       "      <td>60</td>\n",
       "      <td>59</td>\n",
       "      <td>34</td>\n",
       "    </tr>\n",
       "    <tr>\n",
       "      <th>AJAX</th>\n",
       "      <td>17</td>\n",
       "      <td>17</td>\n",
       "      <td>12</td>\n",
       "    </tr>\n",
       "    <tr>\n",
       "      <th>PHP</th>\n",
       "      <td>16</td>\n",
       "      <td>14</td>\n",
       "      <td>10</td>\n",
       "    </tr>\n",
       "    <tr>\n",
       "      <th>JQuery</th>\n",
       "      <td>12</td>\n",
       "      <td>12</td>\n",
       "      <td>8</td>\n",
       "    </tr>\n",
       "    <tr>\n",
       "      <th>experience</th>\n",
       "      <td>9</td>\n",
       "      <td>9</td>\n",
       "      <td>8</td>\n",
       "    </tr>\n",
       "    <tr>\n",
       "      <th>Ajax</th>\n",
       "      <td>15</td>\n",
       "      <td>15</td>\n",
       "      <td>7</td>\n",
       "    </tr>\n",
       "    <tr>\n",
       "      <th>Java</th>\n",
       "      <td>8</td>\n",
       "      <td>7</td>\n",
       "      <td>7</td>\n",
       "    </tr>\n",
       "    <tr>\n",
       "      <th>Linux</th>\n",
       "      <td>15</td>\n",
       "      <td>15</td>\n",
       "      <td>6</td>\n",
       "    </tr>\n",
       "    <tr>\n",
       "      <th>MySQL</th>\n",
       "      <td>9</td>\n",
       "      <td>9</td>\n",
       "      <td>6</td>\n",
       "    </tr>\n",
       "    <tr>\n",
       "      <th>ASP</th>\n",
       "      <td>5</td>\n",
       "      <td>5</td>\n",
       "      <td>5</td>\n",
       "    </tr>\n",
       "    <tr>\n",
       "      <th>VB6</th>\n",
       "      <td>13</td>\n",
       "      <td>13</td>\n",
       "      <td>4</td>\n",
       "    </tr>\n",
       "    <tr>\n",
       "      <th>IIS</th>\n",
       "      <td>5</td>\n",
       "      <td>5</td>\n",
       "      <td>4</td>\n",
       "    </tr>\n",
       "    <tr>\n",
       "      <th>SQL</th>\n",
       "      <td>5</td>\n",
       "      <td>5</td>\n",
       "      <td>4</td>\n",
       "    </tr>\n",
       "  </tbody>\n",
       "</table>\n",
       "</div>"
      ],
      "text/plain": [
       "              n  ads  advertisers\n",
       "text                             \n",
       "Javascript  159  159           86\n",
       "HTML         83   82           50\n",
       "CSS          60   59           34\n",
       "AJAX         17   17           12\n",
       "PHP          16   14           10\n",
       "JQuery       12   12            8\n",
       "experience    9    9            8\n",
       "Ajax         15   15            7\n",
       "Java          8    7            7\n",
       "Linux        15   15            6\n",
       "MySQL         9    9            6\n",
       "ASP           5    5            5\n",
       "VB6          13   13            4\n",
       "IIS           5    5            4\n",
       "SQL           5    5            4"
      ]
     },
     "execution_count": 117,
     "metadata": {},
     "output_type": "execute_result"
    }
   ],
   "source": [
    "related_experience('Javascript').head(15)"
   ]
  },
  {
   "cell_type": "code",
   "execution_count": 118,
   "metadata": {},
   "outputs": [
    {
     "data": {
      "text/html": [
       "<div>\n",
       "<style scoped>\n",
       "    .dataframe tbody tr th:only-of-type {\n",
       "        vertical-align: middle;\n",
       "    }\n",
       "\n",
       "    .dataframe tbody tr th {\n",
       "        vertical-align: top;\n",
       "    }\n",
       "\n",
       "    .dataframe thead th {\n",
       "        text-align: right;\n",
       "    }\n",
       "</style>\n",
       "<table border=\"1\" class=\"dataframe\">\n",
       "  <thead>\n",
       "    <tr style=\"text-align: right;\">\n",
       "      <th></th>\n",
       "      <th>text</th>\n",
       "      <th>docidx</th>\n",
       "      <th>start</th>\n",
       "      <th>end</th>\n",
       "      <th>label</th>\n",
       "      <th>sent_start</th>\n",
       "      <th>sent_end</th>\n",
       "      <th>Id</th>\n",
       "      <th>Title</th>\n",
       "      <th>FullDescription</th>\n",
       "      <th>LocationRaw</th>\n",
       "      <th>LocationNormalized</th>\n",
       "      <th>ContractType</th>\n",
       "      <th>ContractTime</th>\n",
       "      <th>Company</th>\n",
       "      <th>Category</th>\n",
       "      <th>SalaryRaw</th>\n",
       "      <th>SalaryNormalized</th>\n",
       "      <th>SourceName</th>\n",
       "      <th>split</th>\n",
       "    </tr>\n",
       "  </thead>\n",
       "  <tbody>\n",
       "    <tr>\n",
       "      <th>1449</th>\n",
       "      <td>IBM DB</td>\n",
       "      <td>2647</td>\n",
       "      <td>311</td>\n",
       "      <td>313</td>\n",
       "      <td>EXPERIENCE</td>\n",
       "      <td>309</td>\n",
       "      <td>313</td>\n",
       "      <td>55409877</td>\n",
       "      <td>Java J****EE Developer  ****k  ****k  Music, F...</td>\n",
       "      <td>Java J****EE Developer  ****k  ****k  Music, F...</td>\n",
       "      <td>London</td>\n",
       "      <td>London</td>\n",
       "      <td>full_time</td>\n",
       "      <td>permanent</td>\n",
       "      <td>JOBG8</td>\n",
       "      <td>IT Jobs</td>\n",
       "      <td>Up to 50,000 per year + 40000.00-50000.00</td>\n",
       "      <td>50000.0</td>\n",
       "      <td>planetrecruit.com</td>\n",
       "      <td>Train</td>\n",
       "    </tr>\n",
       "    <tr>\n",
       "      <th>2757</th>\n",
       "      <td>IBM DB</td>\n",
       "      <td>4408</td>\n",
       "      <td>302</td>\n",
       "      <td>304</td>\n",
       "      <td>EXPERIENCE</td>\n",
       "      <td>289</td>\n",
       "      <td>304</td>\n",
       "      <td>61811863</td>\n",
       "      <td>Java J****EE Developer – ****k  ****k  Music, ...</td>\n",
       "      <td>NEW  Java J****EE Developer – ****k  ****k  Mu...</td>\n",
       "      <td>London South East</td>\n",
       "      <td>South East London</td>\n",
       "      <td>NaN</td>\n",
       "      <td>permanent</td>\n",
       "      <td>Parham Consulting</td>\n",
       "      <td>IT Jobs</td>\n",
       "      <td>From 40,000 to 50,000 per annum 40,000 - 50,00...</td>\n",
       "      <td>45000.0</td>\n",
       "      <td>cwjobs.co.uk</td>\n",
       "      <td>Train</td>\n",
       "    </tr>\n",
       "    <tr>\n",
       "      <th>12054</th>\n",
       "      <td>IBM DB</td>\n",
       "      <td>17428</td>\n",
       "      <td>133</td>\n",
       "      <td>135</td>\n",
       "      <td>EXPERIENCE</td>\n",
       "      <td>130</td>\n",
       "      <td>135</td>\n",
       "      <td>66925434</td>\n",
       "      <td>Application/Integration Developer</td>\n",
       "      <td>We are looking for an experienced developer (*...</td>\n",
       "      <td>Nottingham, Nottinghamshire</td>\n",
       "      <td>Nottingham</td>\n",
       "      <td>NaN</td>\n",
       "      <td>permanent</td>\n",
       "      <td>Seismic Group</td>\n",
       "      <td>IT Jobs</td>\n",
       "      <td>35000 - 40000/annum</td>\n",
       "      <td>37500.0</td>\n",
       "      <td>cv-library.co.uk</td>\n",
       "      <td>Train</td>\n",
       "    </tr>\n",
       "    <tr>\n",
       "      <th>33948</th>\n",
       "      <td>IBM DB</td>\n",
       "      <td>46689</td>\n",
       "      <td>301</td>\n",
       "      <td>303</td>\n",
       "      <td>EXPERIENCE</td>\n",
       "      <td>288</td>\n",
       "      <td>303</td>\n",
       "      <td>68567721</td>\n",
       "      <td>Java J****EE Developer  ****k  ****k  Music, F...</td>\n",
       "      <td>Java J****EE Developer  ****k  ****k  Music, F...</td>\n",
       "      <td>City of London - London</td>\n",
       "      <td>The City</td>\n",
       "      <td>full_time</td>\n",
       "      <td>permanent</td>\n",
       "      <td>London4Jobs</td>\n",
       "      <td>IT Jobs</td>\n",
       "      <td>40000-50000</td>\n",
       "      <td>45000.0</td>\n",
       "      <td>london4jobs.co.uk</td>\n",
       "      <td>Train</td>\n",
       "    </tr>\n",
       "    <tr>\n",
       "      <th>51186</th>\n",
       "      <td>IBM DB</td>\n",
       "      <td>68754</td>\n",
       "      <td>301</td>\n",
       "      <td>303</td>\n",
       "      <td>EXPERIENCE</td>\n",
       "      <td>288</td>\n",
       "      <td>303</td>\n",
       "      <td>68799489</td>\n",
       "      <td>Java J****EE Developer  ****k  ****k  Music, F...</td>\n",
       "      <td>Java J****EE Developer  ****k  ****k  Music, F...</td>\n",
       "      <td>Central London</td>\n",
       "      <td>Central London</td>\n",
       "      <td>full_time</td>\n",
       "      <td>permanent</td>\n",
       "      <td>Parham Consulting Ltd</td>\n",
       "      <td>IT Jobs</td>\n",
       "      <td>40000.00 - 50000.00 GBP Annual</td>\n",
       "      <td>45000.0</td>\n",
       "      <td>jobs.newstatesman.com</td>\n",
       "      <td>Train</td>\n",
       "    </tr>\n",
       "    <tr>\n",
       "      <th>51865</th>\n",
       "      <td>IBM DB</td>\n",
       "      <td>69555</td>\n",
       "      <td>311</td>\n",
       "      <td>313</td>\n",
       "      <td>EXPERIENCE</td>\n",
       "      <td>297</td>\n",
       "      <td>313</td>\n",
       "      <td>68806243</td>\n",
       "      <td>NEW  Java J****EE Developer  ****k  ****k  Mus...</td>\n",
       "      <td>NEW  Java J****EE Developer  ****k  ****k  Mus...</td>\n",
       "      <td>London,Euston,Kings Cross</td>\n",
       "      <td>London</td>\n",
       "      <td>NaN</td>\n",
       "      <td>permanent</td>\n",
       "      <td>Parham Consulting Ltd</td>\n",
       "      <td>IT Jobs</td>\n",
       "      <td>40K - 50K + bonus, bens</td>\n",
       "      <td>45000.0</td>\n",
       "      <td>jobsite.co.uk</td>\n",
       "      <td>Train</td>\n",
       "    </tr>\n",
       "    <tr>\n",
       "      <th>72518</th>\n",
       "      <td>IBM DB</td>\n",
       "      <td>95902</td>\n",
       "      <td>137</td>\n",
       "      <td>139</td>\n",
       "      <td>EXPERIENCE</td>\n",
       "      <td>134</td>\n",
       "      <td>139</td>\n",
       "      <td>69222789</td>\n",
       "      <td>Application/Integration Developer</td>\n",
       "      <td>We are looking for an experienced developer (*...</td>\n",
       "      <td>NOTTINGHAM</td>\n",
       "      <td>Nottingham</td>\n",
       "      <td>full_time</td>\n",
       "      <td>permanent</td>\n",
       "      <td>Seismic Recruitment</td>\n",
       "      <td>IT Jobs</td>\n",
       "      <td>From 35,000 to 40,000 per year</td>\n",
       "      <td>37500.0</td>\n",
       "      <td>fish4.co.uk</td>\n",
       "      <td>Train</td>\n",
       "    </tr>\n",
       "    <tr>\n",
       "      <th>91450</th>\n",
       "      <td>IBM DB</td>\n",
       "      <td>120304</td>\n",
       "      <td>312</td>\n",
       "      <td>314</td>\n",
       "      <td>EXPERIENCE</td>\n",
       "      <td>298</td>\n",
       "      <td>314</td>\n",
       "      <td>69895464</td>\n",
       "      <td>NEW  Java J****EE Developer  ****k  ****k  Mus...</td>\n",
       "      <td>NEW  Java J****EE Developer  ****k  ****k  Mus...</td>\n",
       "      <td>London</td>\n",
       "      <td>London</td>\n",
       "      <td>full_time</td>\n",
       "      <td>permanent</td>\n",
       "      <td>PARHAM CONSULTING LIMITED</td>\n",
       "      <td>IT Jobs</td>\n",
       "      <td>From 40,000 to 50,000 per year + 40K - 50K + d...</td>\n",
       "      <td>45000.0</td>\n",
       "      <td>planetrecruit.com</td>\n",
       "      <td>Train</td>\n",
       "    </tr>\n",
       "    <tr>\n",
       "      <th>103043</th>\n",
       "      <td>IBM DB</td>\n",
       "      <td>136377</td>\n",
       "      <td>301</td>\n",
       "      <td>303</td>\n",
       "      <td>EXPERIENCE</td>\n",
       "      <td>288</td>\n",
       "      <td>303</td>\n",
       "      <td>70322570</td>\n",
       "      <td>Java J****EE Developer  ****k  ****k  Music, F...</td>\n",
       "      <td>Java J****EE Developer  ****k  ****k  Music, F...</td>\n",
       "      <td>UK</td>\n",
       "      <td>UK</td>\n",
       "      <td>NaN</td>\n",
       "      <td>permanent</td>\n",
       "      <td>Parham Consulting Ltd</td>\n",
       "      <td>IT Jobs</td>\n",
       "      <td>40000-50000</td>\n",
       "      <td>45000.0</td>\n",
       "      <td>fish4.co.uk</td>\n",
       "      <td>Train</td>\n",
       "    </tr>\n",
       "    <tr>\n",
       "      <th>135503</th>\n",
       "      <td>IBM DB</td>\n",
       "      <td>179068</td>\n",
       "      <td>260</td>\n",
       "      <td>262</td>\n",
       "      <td>EXPERIENCE</td>\n",
       "      <td>247</td>\n",
       "      <td>262</td>\n",
       "      <td>71558569</td>\n",
       "      <td>Java J****EE Developer ****k****k  Music, Film...</td>\n",
       "      <td>Java J****EE Developer  ****k  ****k  Music, F...</td>\n",
       "      <td>London Greater London</td>\n",
       "      <td>London</td>\n",
       "      <td>NaN</td>\n",
       "      <td>permanent</td>\n",
       "      <td>NaN</td>\n",
       "      <td>IT Jobs</td>\n",
       "      <td>50000</td>\n",
       "      <td>50000.0</td>\n",
       "      <td>technojobs.co.uk</td>\n",
       "      <td>Train</td>\n",
       "    </tr>\n",
       "    <tr>\n",
       "      <th>148943</th>\n",
       "      <td>IBM DB</td>\n",
       "      <td>196178</td>\n",
       "      <td>302</td>\n",
       "      <td>304</td>\n",
       "      <td>EXPERIENCE</td>\n",
       "      <td>289</td>\n",
       "      <td>304</td>\n",
       "      <td>71810075</td>\n",
       "      <td>Java J****EE Developer  Music/TV</td>\n",
       "      <td>NEW  Java J****EE Developer  ****k  ****k  Mus...</td>\n",
       "      <td>City of London - London</td>\n",
       "      <td>The City</td>\n",
       "      <td>full_time</td>\n",
       "      <td>permanent</td>\n",
       "      <td>UKStaffsearch</td>\n",
       "      <td>IT Jobs</td>\n",
       "      <td>40000 - 50000</td>\n",
       "      <td>45000.0</td>\n",
       "      <td>ukstaffsearch.com</td>\n",
       "      <td>Train</td>\n",
       "    </tr>\n",
       "    <tr>\n",
       "      <th>190258</th>\n",
       "      <td>IBM DB</td>\n",
       "      <td>246351</td>\n",
       "      <td>309</td>\n",
       "      <td>311</td>\n",
       "      <td>EXPERIENCE</td>\n",
       "      <td>307</td>\n",
       "      <td>311</td>\n",
       "      <td>66076642</td>\n",
       "      <td>Java J****EE Developer ****k  ****k  Music, Fi...</td>\n",
       "      <td>Java J****EE Developer ? ****k  ****k  Music, ...</td>\n",
       "      <td>LONDON</td>\n",
       "      <td>London</td>\n",
       "      <td>full_time</td>\n",
       "      <td>permanent</td>\n",
       "      <td>PARHAM CONSULTING LIMITED</td>\n",
       "      <td>IT Jobs</td>\n",
       "      <td>NaN</td>\n",
       "      <td>NaN</td>\n",
       "      <td>fish4.co.uk</td>\n",
       "      <td>Valid</td>\n",
       "    </tr>\n",
       "    <tr>\n",
       "      <th>191233</th>\n",
       "      <td>IBM DB</td>\n",
       "      <td>247714</td>\n",
       "      <td>253</td>\n",
       "      <td>255</td>\n",
       "      <td>EXPERIENCE</td>\n",
       "      <td>243</td>\n",
       "      <td>255</td>\n",
       "      <td>66983814</td>\n",
       "      <td>Experienced Java J****EE Developer with Java, ...</td>\n",
       "      <td>Experienced Java J****EE Developer with Java, ...</td>\n",
       "      <td>London, UK</td>\n",
       "      <td>London</td>\n",
       "      <td>NaN</td>\n",
       "      <td>permanent</td>\n",
       "      <td>NaN</td>\n",
       "      <td>IT Jobs</td>\n",
       "      <td>NaN</td>\n",
       "      <td>NaN</td>\n",
       "      <td>theitjobboard.co.uk</td>\n",
       "      <td>Valid</td>\n",
       "    </tr>\n",
       "    <tr>\n",
       "      <th>239297</th>\n",
       "      <td>IBM DB</td>\n",
       "      <td>310471</td>\n",
       "      <td>45</td>\n",
       "      <td>47</td>\n",
       "      <td>EXPERIENCE</td>\n",
       "      <td>40</td>\n",
       "      <td>47</td>\n",
       "      <td>68627859</td>\n",
       "      <td>DataStage designer</td>\n",
       "      <td>DataStage designer Experienced required: Exper...</td>\n",
       "      <td>Middlesex</td>\n",
       "      <td>UK</td>\n",
       "      <td>NaN</td>\n",
       "      <td>contract</td>\n",
       "      <td>Mpower Plus UK Ltd</td>\n",
       "      <td>IT Jobs</td>\n",
       "      <td>NaN</td>\n",
       "      <td>NaN</td>\n",
       "      <td>jobserve.com</td>\n",
       "      <td>Test</td>\n",
       "    </tr>\n",
       "    <tr>\n",
       "      <th>267107</th>\n",
       "      <td>IBM DB</td>\n",
       "      <td>346007</td>\n",
       "      <td>310</td>\n",
       "      <td>312</td>\n",
       "      <td>EXPERIENCE</td>\n",
       "      <td>308</td>\n",
       "      <td>312</td>\n",
       "      <td>69895611</td>\n",
       "      <td>Java J****EE Developer ****k  ****k  Music, Fi...</td>\n",
       "      <td>Java J****EE Developer – ****k  ****k  Music, ...</td>\n",
       "      <td>London</td>\n",
       "      <td>London</td>\n",
       "      <td>full_time</td>\n",
       "      <td>permanent</td>\n",
       "      <td>PARHAM CONSULTING LIMITED</td>\n",
       "      <td>IT Jobs</td>\n",
       "      <td>NaN</td>\n",
       "      <td>NaN</td>\n",
       "      <td>planetrecruit.com</td>\n",
       "      <td>Test</td>\n",
       "    </tr>\n",
       "  </tbody>\n",
       "</table>\n",
       "</div>"
      ],
      "text/plain": [
       "          text  docidx  start  end       label  sent_start  sent_end  \\\n",
       "1449    IBM DB    2647    311  313  EXPERIENCE         309       313   \n",
       "2757    IBM DB    4408    302  304  EXPERIENCE         289       304   \n",
       "12054   IBM DB   17428    133  135  EXPERIENCE         130       135   \n",
       "33948   IBM DB   46689    301  303  EXPERIENCE         288       303   \n",
       "51186   IBM DB   68754    301  303  EXPERIENCE         288       303   \n",
       "51865   IBM DB   69555    311  313  EXPERIENCE         297       313   \n",
       "72518   IBM DB   95902    137  139  EXPERIENCE         134       139   \n",
       "91450   IBM DB  120304    312  314  EXPERIENCE         298       314   \n",
       "103043  IBM DB  136377    301  303  EXPERIENCE         288       303   \n",
       "135503  IBM DB  179068    260  262  EXPERIENCE         247       262   \n",
       "148943  IBM DB  196178    302  304  EXPERIENCE         289       304   \n",
       "190258  IBM DB  246351    309  311  EXPERIENCE         307       311   \n",
       "191233  IBM DB  247714    253  255  EXPERIENCE         243       255   \n",
       "239297  IBM DB  310471     45   47  EXPERIENCE          40        47   \n",
       "267107  IBM DB  346007    310  312  EXPERIENCE         308       312   \n",
       "\n",
       "              Id                                              Title  \\\n",
       "1449    55409877  Java J****EE Developer  ****k  ****k  Music, F...   \n",
       "2757    61811863  Java J****EE Developer – ****k  ****k  Music, ...   \n",
       "12054   66925434                  Application/Integration Developer   \n",
       "33948   68567721  Java J****EE Developer  ****k  ****k  Music, F...   \n",
       "51186   68799489  Java J****EE Developer  ****k  ****k  Music, F...   \n",
       "51865   68806243  NEW  Java J****EE Developer  ****k  ****k  Mus...   \n",
       "72518   69222789                  Application/Integration Developer   \n",
       "91450   69895464  NEW  Java J****EE Developer  ****k  ****k  Mus...   \n",
       "103043  70322570  Java J****EE Developer  ****k  ****k  Music, F...   \n",
       "135503  71558569  Java J****EE Developer ****k****k  Music, Film...   \n",
       "148943  71810075                   Java J****EE Developer  Music/TV   \n",
       "190258  66076642  Java J****EE Developer ****k  ****k  Music, Fi...   \n",
       "191233  66983814  Experienced Java J****EE Developer with Java, ...   \n",
       "239297  68627859                                 DataStage designer   \n",
       "267107  69895611  Java J****EE Developer ****k  ****k  Music, Fi...   \n",
       "\n",
       "                                          FullDescription  \\\n",
       "1449    Java J****EE Developer  ****k  ****k  Music, F...   \n",
       "2757    NEW  Java J****EE Developer – ****k  ****k  Mu...   \n",
       "12054   We are looking for an experienced developer (*...   \n",
       "33948   Java J****EE Developer  ****k  ****k  Music, F...   \n",
       "51186   Java J****EE Developer  ****k  ****k  Music, F...   \n",
       "51865   NEW  Java J****EE Developer  ****k  ****k  Mus...   \n",
       "72518   We are looking for an experienced developer (*...   \n",
       "91450   NEW  Java J****EE Developer  ****k  ****k  Mus...   \n",
       "103043  Java J****EE Developer  ****k  ****k  Music, F...   \n",
       "135503  Java J****EE Developer  ****k  ****k  Music, F...   \n",
       "148943  NEW  Java J****EE Developer  ****k  ****k  Mus...   \n",
       "190258  Java J****EE Developer ? ****k  ****k  Music, ...   \n",
       "191233  Experienced Java J****EE Developer with Java, ...   \n",
       "239297  DataStage designer Experienced required: Exper...   \n",
       "267107  Java J****EE Developer – ****k  ****k  Music, ...   \n",
       "\n",
       "                        LocationRaw LocationNormalized ContractType  \\\n",
       "1449                         London             London    full_time   \n",
       "2757              London South East  South East London          NaN   \n",
       "12054   Nottingham, Nottinghamshire         Nottingham          NaN   \n",
       "33948       City of London - London           The City    full_time   \n",
       "51186                Central London     Central London    full_time   \n",
       "51865     London,Euston,Kings Cross             London          NaN   \n",
       "72518                    NOTTINGHAM         Nottingham    full_time   \n",
       "91450                        London             London    full_time   \n",
       "103043                           UK                 UK          NaN   \n",
       "135503        London Greater London             London          NaN   \n",
       "148943      City of London - London           The City    full_time   \n",
       "190258                       LONDON             London    full_time   \n",
       "191233                   London, UK             London          NaN   \n",
       "239297                    Middlesex                 UK          NaN   \n",
       "267107                       London             London    full_time   \n",
       "\n",
       "       ContractTime                    Company Category  \\\n",
       "1449      permanent                      JOBG8  IT Jobs   \n",
       "2757      permanent          Parham Consulting  IT Jobs   \n",
       "12054     permanent              Seismic Group  IT Jobs   \n",
       "33948     permanent                London4Jobs  IT Jobs   \n",
       "51186     permanent      Parham Consulting Ltd  IT Jobs   \n",
       "51865     permanent      Parham Consulting Ltd  IT Jobs   \n",
       "72518     permanent        Seismic Recruitment  IT Jobs   \n",
       "91450     permanent  PARHAM CONSULTING LIMITED  IT Jobs   \n",
       "103043    permanent      Parham Consulting Ltd  IT Jobs   \n",
       "135503    permanent                        NaN  IT Jobs   \n",
       "148943    permanent              UKStaffsearch  IT Jobs   \n",
       "190258    permanent  PARHAM CONSULTING LIMITED  IT Jobs   \n",
       "191233    permanent                        NaN  IT Jobs   \n",
       "239297     contract         Mpower Plus UK Ltd  IT Jobs   \n",
       "267107    permanent  PARHAM CONSULTING LIMITED  IT Jobs   \n",
       "\n",
       "                                                SalaryRaw  SalaryNormalized  \\\n",
       "1449            Up to 50,000 per year + 40000.00-50000.00           50000.0   \n",
       "2757    From 40,000 to 50,000 per annum 40,000 - 50,00...           45000.0   \n",
       "12054                                 35000 - 40000/annum           37500.0   \n",
       "33948                                         40000-50000           45000.0   \n",
       "51186                      40000.00 - 50000.00 GBP Annual           45000.0   \n",
       "51865                             40K - 50K + bonus, bens           45000.0   \n",
       "72518                      From 35,000 to 40,000 per year           37500.0   \n",
       "91450   From 40,000 to 50,000 per year + 40K - 50K + d...           45000.0   \n",
       "103043                                        40000-50000           45000.0   \n",
       "135503                                              50000           50000.0   \n",
       "148943                                      40000 - 50000           45000.0   \n",
       "190258                                                NaN               NaN   \n",
       "191233                                                NaN               NaN   \n",
       "239297                                                NaN               NaN   \n",
       "267107                                                NaN               NaN   \n",
       "\n",
       "                   SourceName  split  \n",
       "1449        planetrecruit.com  Train  \n",
       "2757             cwjobs.co.uk  Train  \n",
       "12054        cv-library.co.uk  Train  \n",
       "33948       london4jobs.co.uk  Train  \n",
       "51186   jobs.newstatesman.com  Train  \n",
       "51865           jobsite.co.uk  Train  \n",
       "72518             fish4.co.uk  Train  \n",
       "91450       planetrecruit.com  Train  \n",
       "103043            fish4.co.uk  Train  \n",
       "135503       technojobs.co.uk  Train  \n",
       "148943      ukstaffsearch.com  Train  \n",
       "190258            fish4.co.uk  Valid  \n",
       "191233    theitjobboard.co.uk  Valid  \n",
       "239297           jobserve.com   Test  \n",
       "267107      planetrecruit.com   Test  "
      ]
     },
     "execution_count": 118,
     "metadata": {},
     "output_type": "execute_result"
    }
   ],
   "source": [
    "filter_ents('IBM DB')"
   ]
  },
  {
   "cell_type": "code",
   "execution_count": 119,
   "metadata": {},
   "outputs": [
    {
     "name": "stdout",
     "output_type": "stream",
     "text": [
      "Java J****EE Developer  ****k  ****k  Music, Film & TV  London Java J****EE Developers required for software house with client sectors of music, film and TV. Salary: Maximum ****: Discretionary bonus and benefits package. Location: Near Euston and King's Cross, London THE COMPANY: Consistent new business wins for the world leader in the provision of software solutions to the Music and Entertainment industry has given rise to the need for an experienced Java Developer. The working environment here is very pleasant with a casual dress code, laid back and friendly atmosphere, but also hardworking and dynamic with the autonomy to drive your job role forward. This is predominantly a development role, but you will be involved in the full product life cycle including design and clientfacing duties, so they need a good allrounder. EXPERIENCE REQUIRED: The experience required for this role is as follows:  A minimum of 5 years experience in the development of web applications for the J****EE development platform.  A minimum of 5 years experience in Java  Strong knowledge in all of JSP, Servlet, JDBC, JavaScript, SQL and HTML technologies.  Good knowledge of CSS, XML and DHTML  A personality suited to clientfacing situations  good communication skills.  A good standard of written English The above experience is essential. You require all of the above experience in order for to be eligible for this role. The following experience is desirable, though not essential:  Knowledge of the WebSphere development environment and Application Server.  Knowledge of and experience with AJAX (Asynchronous JavaScript XML)  Experience with IBM DB**** THE ROLE: This is a full SDLC role: You will be involved in all stages of the software development cycle from requirements gathering and specification through development, implementation, QA and support. You'll be involved in different technologies across the board from Front Office to Back Office. Please note there is no Spring or Hibernate: The company have instead developed their own inhouse frameworks. THE OPPORTUNITY Why work here? As for prospects, where you can take this role is flexible, as the role entails a wide remit across most aspects of development. Therefore, if you wish, you could become more clientfacing and progress to what is essentially a business analyst role, or you may wish to specialise more on the technical side of things and push the boundaries of the technology. This is a central role that essentially can take off in any direction. Here, you will have enough autonomy to define your own role. Therefore, if you take the initiative you can shape your role for the future and drive your own progression. Overall, this is a lovely place to work  it's a privatelyowned company and feels more like a family company, not at all institutionalised  everyone has a stake, everyone has a say. Being music, entertainment and film it's an interesting industry to work in too, with a wide range of clients both local and foreign. Location: Near Euston and King's Cross, London\n",
      "\n",
      "NEW  Java J****EE Developer – ****k  ****k  Music, Film TV  London Java J****EE Developers required for software house with client sectors of music, film and TV. Salary: Maximum ****: Discretionary bonus and benefits package. Location: Near Euston and King’s Cross, London THE COMPANY: Consistent new business wins for the world leader in the provision of software solutions to the Music and Entertainment industry has given rise to the need for an experienced Java Developer. The working environment here is very pleasant with a casual dress code, laid back and friendly atmosphere, but also hardworking and dynamic with the autonomy to drive your job role forward. This is predominantly a development role, but you will be involved in the full product lifecycle including design and clientfacing duties, so they need a good allrounder. EXPERIENCE REQUIRED: The experience required for this role is as follows: A minimum of 5 years experience in the development of web applications for the J****EE development platform. A minimum of 5 years experience in Java Strong knowledge in all of JSP, Servlet, JDBC, JavaScript, SQL and HTML technologies. Good knowledge of CSS, XML and DHTML A personality suited to clientfacing situations  good communication skills. A good standard of written English The above experience is essential. You require all of the above experience in order for to be eligible for this role. The following experience is desirable, though not essential: Knowledge of the Websphere development environment and application server. Knowledge of and experience with AJAX (Asynchronous JavaScript XML) Experience with IBM DB**** THE ROLE: This is a full SDLC role: You will be involved in all stages of the software development cycle from requirements gathering and specification through development, implementation, QA and support. You'll be involved in different technologies across the board from front office to back office. Please note there is no Spring or Hibernate: The company have instead developed their own inhouse frameworks. THE OPPORTUNITY: Why work here? As for prospects, where you can take this role is flexible, as the role entails a wide remit across most aspects of development. Therefore, if you wish, you could become more clientfacing and progress to what is essentially a business analyst role, or you may wish to specialise more on the technical side of things and push the boundaries of the technology. This is a central role that essentially can take off in any direction. Here, you will have enough autonomy to define your own role. Therefore, if you take the initiative you can shape your role for the future and drive your own progression. Overall, this is a lovely place to work  it's a privatelyowned company and feels more like a family company, not at all institutionalised  everyone has a stake, everyone has a say. Being music, entertainment and film it's an interesting industry to work in too, with a wide range of clients both local and foreign. Location: Near Euston and King’s Cross, London This job was originally posted as www.cwjobs.co.uk/JobSeeking/JavaJ****EEDeveloper****k****kMusicFilmTVLondon_job****\n",
      "\n"
     ]
    }
   ],
   "source": [
    "for ad in [ads[2647], ads[4408]]:\n",
    "    print(ad + '\\n')"
   ]
  },
  {
   "cell_type": "markdown",
   "metadata": {},
   "source": [
    "# Next Steps"
   ]
  },
  {
   "cell_type": "markdown",
   "metadata": {},
   "source": [
    "We could keep building out a rule based approach:\n",
    "\n",
    "* Do analysis of this list to build up list of positive/negative phrases\n",
    "* Search the document for those phrases\n",
    "* Look at the results and build new rules to get those phrases\n",
    "\n",
    "Or we could use this as the seed of a model based approach:\n",
    "\n",
    "* Build an NER model on these base phrases\n",
    "* Annotate the predictions and refine the model\n",
    "\n",
    "Or we could use some hybrid of the two"
   ]
  }
 ],
 "metadata": {
  "kernelspec": {
   "display_name": "Python 3",
   "language": "python",
   "name": "python3"
  },
  "language_info": {
   "codemirror_mode": {
    "name": "ipython",
    "version": 3
   },
   "file_extension": ".py",
   "mimetype": "text/x-python",
   "name": "python",
   "nbconvert_exporter": "python",
   "pygments_lexer": "ipython3",
   "version": "3.6.6"
  }
 },
 "nbformat": 4,
 "nbformat_minor": 2
}
