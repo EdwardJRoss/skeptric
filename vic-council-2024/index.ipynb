{
 "cells": [
  {
   "cell_type": "raw",
   "id": "c4369660-9094-4245-9e42-14507c488b36",
   "metadata": {},
   "source": [
    "---\n",
    "categories:\n",
    "  - data\n",
    "date: 2024-10-27T15:21+11:00\n",
    "image: ./ward_extract.jpg\n",
    "title: Dataset of 2024 Victorian Council Election Candidates\n",
    "format:\n",
    "  html:\n",
    "    toc: true\n",
    "---"
   ]
  },
  {
   "cell_type": "markdown",
   "id": "2e015e07-73fe-4c7f-9a4e-e62e35e3f4fa",
   "metadata": {},
   "source": [
    "In local elections what the candidates campaign on tells us a lot about what matters to them, and by extension to their communities.\n",
    "To understand what is important to the people of the Australian state of Victoria I've compiled a dataset of the statements of all the candidates to make it easy to explore the differences across regions.\n",
    "\n",
    "The dataset is available as a [zipped CSV](/resources/2024_victorian_council_candidates.zip) or on [Kaggle datasets](https://www.kaggle.com/datasets/edwardjross/councillor-statements-victoria-australia-2024).\n",
    "The rest of this article goes through the details of how the data was soruced from the Victorian Electoral Commision website.\n",
    "Note that I made sure to review the site's robots.txt file and legal terms before collecting the data, and I took care to minimize server load during the process."
   ]
  },
  {
   "cell_type": "markdown",
   "id": "61a4bd3f-474a-4e7d-9835-661534aaeec6",
   "metadata": {},
   "source": [
    "# What's in the data?\n",
    "\n",
    "Victoria is broken up into 79 Local Government Areas, which are further subdivided into wards.\n",
    "Due to the [Local Government Act 2020](https://en.wikipedia.org/wiki/Local_Government_Act_2020) most metropolitan wards only have one member that can be elected, but regional wards can still have multiple members.\n",
    "Altogether there are [646 vacancies, contested by 2231 candidates in 466 elections](https://web.archive.org/web/20241001101120/https://www.vec.vic.gov.au/about-us/media/nominations-are-in-for-october-local-council-elections).\n",
    "\n",
    "Voting is compulsory for all enrolled voters, who receive in the mail a voting card, a reply paid envelope and a candidate leaflet.\n",
    "The candidate leaflet has a photo and statement from each of the candidates in their ward, which is also available on the Victorian Electoral Commission Website.\n",
    "For example for [Darebin City Council](https://web.archive.org/web/20241008073209/https://www.vec.vic.gov.au/voting/2024-local-council-elections/darebin-city-council/nominations#central-ward) for any ward you can click \"expand all\" to see the candidates statements.\n",
    "There is also a link to a Candidate Questionnaire PDF that has additional details about the candidate's vision for the council, their relevant expertise, and political endorsements.\n",
    "\n",
    "We are going to get the information from these statements and questionnaires for all of the candidates."
   ]
  },
  {
   "cell_type": "code",
   "execution_count": 1,
   "id": "41327160-09d4-4bef-93f9-96f338bb4fa4",
   "metadata": {},
   "outputs": [],
   "source": [
    "## Imports\n",
    "\n",
    "# For downloading webpages\n",
    "from urllib.request import urlretrieve\n",
    "from time import sleep\n",
    "\n",
    "# For large download jobs\n",
    "from tenacity import retry, wait_exponential, stop_after_attempt\n",
    "\n",
    "# For saving paths\n",
    "from pathlib import Path\n",
    "\n",
    "# For extracting data\n",
    "import re\n",
    "from lxml import html\n",
    "from PyPDF2 import PdfReader\n",
    "from dataclasses import dataclass\n",
    "from typing import Optional\n",
    "\n",
    "# For analysis\n",
    "from collections import Counter\n",
    "import pandas as pd\n",
    "import numpy as np\n",
    "import matplotlib.pyplot as plt\n",
    "\n",
    "pd.options.display.max_columns = 30\n",
    "\n",
    "# A directory to store the data\n",
    "data_dir = Path('data')\n",
    "data_dir.mkdir(exist_ok=True)"
   ]
  },
  {
   "cell_type": "markdown",
   "id": "d565e127-2a27-4526-89ec-ab41188dbf2c",
   "metadata": {},
   "source": [
    "# Finding the council pages\n",
    "\n",
    "Each council has its own page that we need to extract data from.\n",
    "There are a few ways to find them, one would be to extract the names from all URLs on the [2024 Local Council Election landing page](https://web.archive.org/web/20241001203532/https://www.vec.vic.gov.au/voting/2024-local-council-elections), but an alternative is to use their `sitemap.xml` file which contains a listing of most of the URLs on the site."
   ]
  },
  {
   "cell_type": "code",
   "execution_count": 2,
   "id": "e09218ce-7135-4c7a-a953-615cff79c8db",
   "metadata": {},
   "outputs": [],
   "source": [
    "sitemap_url = 'https://www.vec.vic.gov.au/sitemap.xml'\n",
    "\n",
    "sitemap_path = data_dir / 'sitemap.xml'\n",
    "\n",
    "if not sitemap_path.exists():\n",
    "    urlretrieve(sitemap_url, sitemap_path)\n",
    "\n",
    "with open(sitemap_path, 'rt') as f:\n",
    "    sitemap = f.read()"
   ]
  },
  {
   "cell_type": "markdown",
   "id": "9ad4ccad-f519-47f0-b65a-cc32a3bb97c3",
   "metadata": {},
   "source": [
    "The nomination pages all end in \"Nominations\" and so we can extract them from the HTML with a crude regex"
   ]
  },
  {
   "cell_type": "code",
   "execution_count": 3,
   "id": "a8b729f1-c517-47bf-8a0d-598d770f8f9b",
   "metadata": {},
   "outputs": [
    {
     "data": {
      "text/plain": [
       "['https://www.vec.vic.gov.au:443/Voting/2024 local council elections/Macedon Ranges Shire Council/Nominations',\n",
       " 'https://www.vec.vic.gov.au:443/Voting/2024 local council elections/Mount Alexander Shire Council/Nominations',\n",
       " 'https://www.vec.vic.gov.au:443/Voting/2024 local council elections/Wellington Shire Council/Nominations',\n",
       " 'https://www.vec.vic.gov.au:443/Voting/2024 local council elections/Ballarat City Council/Nominations',\n",
       " 'https://www.vec.vic.gov.au:443/Voting/2024 local council elections/Benalla Rural City Council/Nominations']"
      ]
     },
     "execution_count": 3,
     "metadata": {},
     "output_type": "execute_result"
    }
   ],
   "source": [
    "nomination_urls = re.findall('https://[^<>]+Nominations', sitemap)\n",
    "nomination_urls[:5]"
   ]
  },
  {
   "cell_type": "markdown",
   "id": "c6271338-16b6-45fd-bfbd-a6744cc693ab",
   "metadata": {},
   "source": [
    "We get 78 distinct URLs, which covers all the 79 councils except Moira Shire Council which [is under administration due to misconduct](https://www.abc.net.au/news/2023-03-07/moira-shire-council-sacked-in-wake-of-murder-of-rick-devlin/102062528) and won't have an election this year."
   ]
  },
  {
   "cell_type": "code",
   "execution_count": 4,
   "id": "4e99f211-ca0a-421c-9e5d-954eabe47239",
   "metadata": {},
   "outputs": [
    {
     "data": {
      "text/plain": [
       "78"
      ]
     },
     "execution_count": 4,
     "metadata": {},
     "output_type": "execute_result"
    }
   ],
   "source": [
    "len(nomination_urls)"
   ]
  },
  {
   "cell_type": "markdown",
   "id": "504a8438-18a7-4568-a233-fdbc97d29930",
   "metadata": {},
   "source": [
    "## Downloading the nomination pages\n",
    "\n",
    "A pattern I find useful when extracting data from the web is to download the pages first, and extract the data as a second step.\n",
    "Extracting data from webpages is error prone because you can't always anticipate the differences between different pages, and it's easy to get failures and missing or invalid data.\n",
    "If you don't have the original webpages saved you at best need to retrieve them again, and at worst may not be able to recover the data again.\n",
    "For a more complex job I would [save the pages as WARC](https://commoncrawl.org/blog/navigating-the-warc-file-format) which also captures their origin, but in this case I'll just download the pages.\n",
    "\n",
    "Let's create a directory just for the nomination pages."
   ]
  },
  {
   "cell_type": "code",
   "execution_count": 5,
   "id": "fd202945-9efa-42af-8676-61fbb4e89594",
   "metadata": {},
   "outputs": [],
   "source": [
    "nomination_dir = data_dir / 'nomination'\n",
    "nomination_dir.mkdir(exist_ok=True)"
   ]
  },
  {
   "cell_type": "markdown",
   "id": "da230da5-721b-4a92-88dd-c74d4e58cca9",
   "metadata": {},
   "source": [
    "For a given URL"
   ]
  },
  {
   "cell_type": "code",
   "execution_count": 6,
   "id": "89894d0f-0666-46f0-bac5-60e0a71df890",
   "metadata": {},
   "outputs": [
    {
     "data": {
      "text/plain": [
       "'https://www.vec.vic.gov.au:443/Voting/2024 local council elections/Macedon Ranges Shire Council/Nominations'"
      ]
     },
     "execution_count": 6,
     "metadata": {},
     "output_type": "execute_result"
    }
   ],
   "source": [
    "url = nomination_urls[0]\n",
    "url"
   ]
  },
  {
   "cell_type": "markdown",
   "id": "63f3bf34-4c9a-490e-9420-943e8c9e7b07",
   "metadata": {},
   "source": [
    "We can extract council the name as the second to last part of the path:"
   ]
  },
  {
   "cell_type": "code",
   "execution_count": 7,
   "id": "8f094ea9-8c49-479b-b427-5aa51909be7f",
   "metadata": {},
   "outputs": [
    {
     "data": {
      "text/plain": [
       "'Macedon Ranges Shire Council'"
      ]
     },
     "execution_count": 7,
     "metadata": {},
     "output_type": "execute_result"
    }
   ],
   "source": [
    "name = url.split('/')[-2]\n",
    "name"
   ]
  },
  {
   "cell_type": "markdown",
   "id": "5fa90d82-4627-4f11-b2b4-8a0d3302c0ca",
   "metadata": {},
   "source": [
    "This is a useful filename because it's unique and informative:"
   ]
  },
  {
   "cell_type": "code",
   "execution_count": 8,
   "id": "1e69638a-296e-4c5e-b833-e5a0cc0878ba",
   "metadata": {},
   "outputs": [],
   "source": [
    "path = nomination_dir / name"
   ]
  },
  {
   "cell_type": "markdown",
   "id": "10736762-4844-439b-8d07-d19cd0ea4362",
   "metadata": {},
   "source": [
    "Then, if we haven't already, we can download the URL to the path (URL encoding the spaces in the URL string with their hex representation '%20')"
   ]
  },
  {
   "cell_type": "code",
   "execution_count": 9,
   "id": "705b0244-f213-407e-a92c-534616d740d6",
   "metadata": {},
   "outputs": [],
   "source": [
    "if not path.exists():\n",
    "    urlretrieve(url.replace(' ', '%20'), path)"
   ]
  },
  {
   "cell_type": "markdown",
   "id": "9b49c57a-4abf-4cae-bc62-fc84df0c0451",
   "metadata": {},
   "source": [
    "We can do this for all 78 councils, waiting 2 seconds between each request so that we don't put too much load on the server:"
   ]
  },
  {
   "cell_type": "code",
   "execution_count": 10,
   "id": "03605376-2f7c-40b8-aecf-a370444bdf0a",
   "metadata": {},
   "outputs": [],
   "source": [
    "for url in nomination_urls:\n",
    "    name = url.split('/')[-2]\n",
    "    path = nomination_dir / name\n",
    "    if not path.exists():\n",
    "        print(path.name)\n",
    "        urlretrieve(url.replace(' ', '%20'), path)\n",
    "        sleep(2)"
   ]
  },
  {
   "cell_type": "markdown",
   "id": "76eca921-e3e4-4c2f-aa87-0f9c0cf208cb",
   "metadata": {},
   "source": [
    "# Extracting candidate statements\n",
    "\n",
    "Let's look at how we can extract the statements from the HTML of a Council's page.\n",
    "We will start by picking out one Council:"
   ]
  },
  {
   "cell_type": "code",
   "execution_count": 11,
   "id": "bc205a7a-a6bf-4468-8728-bdb89fc6d586",
   "metadata": {},
   "outputs": [
    {
     "data": {
      "text/plain": [
       "78"
      ]
     },
     "execution_count": 11,
     "metadata": {},
     "output_type": "execute_result"
    }
   ],
   "source": [
    "paths = sorted(d for d in nomination_dir.iterdir() if not d.is_dir())\n",
    "len(paths)"
   ]
  },
  {
   "cell_type": "code",
   "execution_count": 12,
   "id": "d75ace48-9d38-4b29-9fa3-e121e1802323",
   "metadata": {},
   "outputs": [
    {
     "data": {
      "text/plain": [
       "'East Gippsland Shire Council'"
      ]
     },
     "execution_count": 12,
     "metadata": {},
     "output_type": "execute_result"
    }
   ],
   "source": [
    "path = paths[19]\n",
    "with open(path, 'rb') as f:\n",
    "    content = f.read()\n",
    "path.name"
   ]
  },
  {
   "cell_type": "markdown",
   "id": "285391d1-e02a-47e1-858e-4c339466cbc7",
   "metadata": {},
   "source": [
    "There are a number of options to parse the HTML, from the inbuilt [html.parser](https://docs.python.org/3/library/html.parser.html) to something faster like [html5-parser](https://html5-parser.readthedocs.io/en/latest/) or [selectolax](https://github.com/rushter/selectolax), but since this is a fairly simple job I'm going to stick to [LXML's HTML](https://lxml.de/parsing.html#parsing-html) parser.\n",
    "There are also a few different selectors I could use like [BeautifulSoup's API](https://beautiful-soup-4.readthedocs.io/en/latest/#) or CSS Selectors, but I will use [XPaths](https://developer.mozilla.org/en-US/docs/Web/XPath) which are built into LXML."
   ]
  },
  {
   "cell_type": "code",
   "execution_count": 13,
   "id": "6f1a2261-47fc-4f92-bbd7-83ce6967f048",
   "metadata": {},
   "outputs": [],
   "source": [
    "tree = html.fromstring(content)"
   ]
  },
  {
   "cell_type": "markdown",
   "id": "69010395-dd10-451a-a806-7541cad3899c",
   "metadata": {},
   "source": [
    "### Getting the wards"
   ]
  },
  {
   "cell_type": "markdown",
   "id": "02285141-d793-42e2-8135-c8c7c427f315",
   "metadata": {},
   "source": [
    "My best tools for extracting information is to [open the webpage](https://web.archive.org/web/20241008073209/https://www.vec.vic.gov.au/voting/2024-local-council-elections/darebin-city-council/nominations) in a browser, open the Developer Tools and inspect the element I want to get information from.\n",
    "For example I want to first get the Ward and then the candidates in the ward."
   ]
  },
  {
   "cell_type": "markdown",
   "id": "365b0861-ec72-421c-b286-417b642200a6",
   "metadata": {},
   "source": [
    "![Devtools for the Ward name](./ward_extract.jpg)"
   ]
  },
  {
   "cell_type": "markdown",
   "id": "8fa15c43-c85d-4662-bef0-de320005d166",
   "metadata": {},
   "source": [
    "It looks like it's a `<h2>` element, so my first guess would be to get all of these headers, which gets me a bit too much."
   ]
  },
  {
   "cell_type": "code",
   "execution_count": 14,
   "id": "96e180e1-f454-483d-bbab-b103790bdfa5",
   "metadata": {},
   "outputs": [
    {
     "name": "stdout",
     "output_type": "stream",
     "text": [
      "Navigation\n",
      "East Gippsland Shire Council (9 vacancies)\n",
      "Connect with us\n"
     ]
    }
   ],
   "source": [
    "for x in tree.xpath(\"//h2\"):\n",
    "    print(x.text)"
   ]
  },
  {
   "cell_type": "markdown",
   "id": "94cd4da1-2642-45d0-a6f2-80204eda3693",
   "metadata": {},
   "source": [
    "I saw in the developer tools that the field I wanted to extract had a `class` and `id`; looking at the attributes we can see that only the Ward headers have an `id` attribute."
   ]
  },
  {
   "cell_type": "code",
   "execution_count": 15,
   "id": "d4e0208e-e5e4-4ff1-b9cb-75caa1c243fe",
   "metadata": {},
   "outputs": [
    {
     "name": "stdout",
     "output_type": "stream",
     "text": [
      "Navigation {'class': 'vh'}\n",
      "East Gippsland Shire Council (9 vacancies) {'class': 'h3', 'id': 'East Gippsland Shire Council'}\n",
      "Connect with us {}\n"
     ]
    }
   ],
   "source": [
    "for x in tree.xpath(\"//h2\"):\n",
    "    print(x.text, x.attrib)"
   ]
  },
  {
   "cell_type": "markdown",
   "id": "4326d424-6cad-46a2-b657-4165ed5bd86f",
   "metadata": {},
   "source": [
    "So we can extract all the ward text using an XPath query:"
   ]
  },
  {
   "cell_type": "code",
   "execution_count": 16,
   "id": "87c4ab79-0668-4644-8996-d5d0bbda5e93",
   "metadata": {},
   "outputs": [
    {
     "name": "stdout",
     "output_type": "stream",
     "text": [
      "East Gippsland Shire Council (9 vacancies)\n"
     ]
    }
   ],
   "source": [
    "wards = tree.xpath(\"//h2[@id != '']\")\n",
    "for w in wards:\n",
    "    print(w.text)"
   ]
  },
  {
   "cell_type": "markdown",
   "id": "7005c2fa-d4b2-497c-812e-97894d91be76",
   "metadata": {},
   "source": [
    "We can extract the name and number of vacancies with a little regex:"
   ]
  },
  {
   "cell_type": "code",
   "execution_count": 17,
   "id": "137d126d-b10a-4391-9cc5-a9d364594edd",
   "metadata": {},
   "outputs": [
    {
     "data": {
      "text/plain": [
       "{'name': 'East Gippsland Shire Council', 'vacancies': '9'}"
      ]
     },
     "execution_count": 17,
     "metadata": {},
     "output_type": "execute_result"
    }
   ],
   "source": [
    "ward_re = re.compile(r'(?P<name>[^(]+) \\((?P<vacancies>\\d+) vacan.*')\n",
    "ward_re.match(wards[0].text).groupdict()"
   ]
  },
  {
   "cell_type": "markdown",
   "id": "35d9b686-2dd0-41f3-afce-32ffd2f4d6f7",
   "metadata": {},
   "source": [
    "### Getting the candidates\n",
    "\n",
    "Unfortunately the candidates don't actually sit underneath the header in the DOM, but in a sibling table."
   ]
  },
  {
   "cell_type": "markdown",
   "id": "0f4aa448-10a7-43ea-9b24-9dded41f853d",
   "metadata": {},
   "source": [
    "![DOM tree of ward name and table](./ward_and_table.jpg)"
   ]
  },
  {
   "cell_type": "markdown",
   "id": "8f6ae89c-4269-4396-bd4f-13bf8f6f5e4f",
   "metadata": {},
   "source": [
    "A little XPath can get us the closest table to the Ward name:"
   ]
  },
  {
   "cell_type": "code",
   "execution_count": 18,
   "id": "c6fc02a2-3e61-460c-bc80-c4cb58122bef",
   "metadata": {},
   "outputs": [],
   "source": [
    "table = wards[0].xpath('following-sibling::div[1]//table')[0]"
   ]
  },
  {
   "cell_type": "markdown",
   "id": "98c02d2e-7086-4e04-b23d-d6a6b5fcb900",
   "metadata": {},
   "source": [
    "The table consists of pairs of rows, the first has the name of the candidate, a link to their questionnaire response, and contact details, the second (which is hidden in the browser until \"expand\" is pressed) contains their photo and candidate statement (split across two cells).\n",
    "\n",
    "Pandas can often read HTML tables but is a bit simple for this job:"
   ]
  },
  {
   "cell_type": "code",
   "execution_count": 19,
   "id": "6951284b-e9f9-4866-a94b-4988fd175e6d",
   "metadata": {},
   "outputs": [
    {
     "data": {
      "text/html": [
       "<div>\n",
       "<style scoped>\n",
       "    .dataframe tbody tr th:only-of-type {\n",
       "        vertical-align: middle;\n",
       "    }\n",
       "\n",
       "    .dataframe tbody tr th {\n",
       "        vertical-align: top;\n",
       "    }\n",
       "\n",
       "    .dataframe thead tr th {\n",
       "        text-align: left;\n",
       "    }\n",
       "</style>\n",
       "<table border=\"1\" class=\"dataframe\">\n",
       "  <thead>\n",
       "    <tr>\n",
       "      <th></th>\n",
       "      <th>Candidates</th>\n",
       "      <th>Unnamed: 1_level_0</th>\n",
       "      <th>Unnamed: 2_level_0</th>\n",
       "    </tr>\n",
       "    <tr>\n",
       "      <th></th>\n",
       "      <th>Name</th>\n",
       "      <th>Questionnaire</th>\n",
       "      <th>Contact Details</th>\n",
       "    </tr>\n",
       "  </thead>\n",
       "  <tbody>\n",
       "    <tr>\n",
       "      <th>0</th>\n",
       "      <td>WHITE, John</td>\n",
       "      <td>See questionnaire response</td>\n",
       "      <td>John White  Mob: 0409 576 355  jingella2@wideb...</td>\n",
       "    </tr>\n",
       "    <tr>\n",
       "      <th>1</th>\n",
       "      <td>NaN</td>\n",
       "      <td>Candidate Statement  John White Experienced Co...</td>\n",
       "      <td>Candidate Statement  John White Experienced Co...</td>\n",
       "    </tr>\n",
       "    <tr>\n",
       "      <th>2</th>\n",
       "      <td>ASHWORTH, Jodie</td>\n",
       "      <td>See questionnaire response</td>\n",
       "      <td>Jodie Ashworth  Mob: 0494 164 427  jodie4eastg...</td>\n",
       "    </tr>\n",
       "    <tr>\n",
       "      <th>3</th>\n",
       "      <td>NaN</td>\n",
       "      <td>Candidate Statement  I’m passionate and commit...</td>\n",
       "      <td>Candidate Statement  I’m passionate and commit...</td>\n",
       "    </tr>\n",
       "    <tr>\n",
       "      <th>4</th>\n",
       "      <td>JOHN, Jes</td>\n",
       "      <td>See questionnaire response</td>\n",
       "      <td>Jes John  jesjohnegscc@gmail.com</td>\n",
       "    </tr>\n",
       "    <tr>\n",
       "      <th>5</th>\n",
       "      <td>NaN</td>\n",
       "      <td>Candidate Statement  I am a lifelong local who...</td>\n",
       "      <td>Candidate Statement  I am a lifelong local who...</td>\n",
       "    </tr>\n",
       "    <tr>\n",
       "      <th>6</th>\n",
       "      <td>NICHOL, Aly</td>\n",
       "      <td>See questionnaire response</td>\n",
       "      <td>No contact person provided</td>\n",
       "    </tr>\n",
       "    <tr>\n",
       "      <th>7</th>\n",
       "      <td>NaN</td>\n",
       "      <td>Candidate Statement  I am running for Council ...</td>\n",
       "      <td>Candidate Statement  I am running for Council ...</td>\n",
       "    </tr>\n",
       "    <tr>\n",
       "      <th>8</th>\n",
       "      <td>CURTIS, Valerie</td>\n",
       "      <td>See questionnaire response</td>\n",
       "      <td>Valerie Curtis  Mob: 0430 571 093  valerie@qui...</td>\n",
       "    </tr>\n",
       "    <tr>\n",
       "      <th>9</th>\n",
       "      <td>NaN</td>\n",
       "      <td>Candidate Statement  My name is Valerie Curtis...</td>\n",
       "      <td>Candidate Statement  My name is Valerie Curtis...</td>\n",
       "    </tr>\n",
       "    <tr>\n",
       "      <th>10</th>\n",
       "      <td>BURY, Clive</td>\n",
       "      <td>See questionnaire response</td>\n",
       "      <td>Clive Bury  Mob: 0458 563 327  clive@bury.com.au</td>\n",
       "    </tr>\n",
       "    <tr>\n",
       "      <th>11</th>\n",
       "      <td>NaN</td>\n",
       "      <td>Candidate Statement  I am running for Councill...</td>\n",
       "      <td>Candidate Statement  I am running for Councill...</td>\n",
       "    </tr>\n",
       "    <tr>\n",
       "      <th>12</th>\n",
       "      <td>JAKOBI, Cheryl</td>\n",
       "      <td>See questionnaire response</td>\n",
       "      <td>Cheryl Jakobi  Mob: 0437 353 808  cheryljakobi...</td>\n",
       "    </tr>\n",
       "    <tr>\n",
       "      <th>13</th>\n",
       "      <td>NaN</td>\n",
       "      <td>Candidate Statement  Let’s work together to ma...</td>\n",
       "      <td>Candidate Statement  Let’s work together to ma...</td>\n",
       "    </tr>\n",
       "    <tr>\n",
       "      <th>14</th>\n",
       "      <td>BUCKLEY, Sonia</td>\n",
       "      <td>See questionnaire response</td>\n",
       "      <td>Sonia Buckley  Mob: 0429 636 342  soniabuckley...</td>\n",
       "    </tr>\n",
       "    <tr>\n",
       "      <th>15</th>\n",
       "      <td>NaN</td>\n",
       "      <td>Candidate Statement  Vote One Sonia Buckley. A...</td>\n",
       "      <td>Candidate Statement  Vote One Sonia Buckley. A...</td>\n",
       "    </tr>\n",
       "    <tr>\n",
       "      <th>16</th>\n",
       "      <td>DAVIES, Suzanne</td>\n",
       "      <td>See questionnaire response</td>\n",
       "      <td>Tristan Dooley  Mob: 0430 378 357  gumtree14@h...</td>\n",
       "    </tr>\n",
       "    <tr>\n",
       "      <th>17</th>\n",
       "      <td>NaN</td>\n",
       "      <td>Candidate Statement  I am a passionate East Gi...</td>\n",
       "      <td>Candidate Statement  I am a passionate East Gi...</td>\n",
       "    </tr>\n",
       "    <tr>\n",
       "      <th>18</th>\n",
       "      <td>REEVES, Mark</td>\n",
       "      <td>See questionnaire response</td>\n",
       "      <td>Mark Reeves  Mob: 0417 319 342  Alt: (03) 5154...</td>\n",
       "    </tr>\n",
       "    <tr>\n",
       "      <th>19</th>\n",
       "      <td>NaN</td>\n",
       "      <td>Candidate Statement  Mark is an experienced Ma...</td>\n",
       "      <td>Candidate Statement  Mark is an experienced Ma...</td>\n",
       "    </tr>\n",
       "    <tr>\n",
       "      <th>20</th>\n",
       "      <td>TREVASKIS, Ian</td>\n",
       "      <td>See questionnaire response</td>\n",
       "      <td>Ian trevaskis  Mob: 0477 838 821</td>\n",
       "    </tr>\n",
       "    <tr>\n",
       "      <th>21</th>\n",
       "      <td>NaN</td>\n",
       "      <td>Candidate Statement  Ian Trevaskis stands for ...</td>\n",
       "      <td>Candidate Statement  Ian Trevaskis stands for ...</td>\n",
       "    </tr>\n",
       "    <tr>\n",
       "      <th>22</th>\n",
       "      <td>IRELAND, Judy</td>\n",
       "      <td>See questionnaire response</td>\n",
       "      <td>Judy Ireland  Mob: 0428 119 252  judy.ireland....</td>\n",
       "    </tr>\n",
       "    <tr>\n",
       "      <th>23</th>\n",
       "      <td>NaN</td>\n",
       "      <td>Candidate Statement  A resident of East Gippsl...</td>\n",
       "      <td>Candidate Statement  A resident of East Gippsl...</td>\n",
       "    </tr>\n",
       "    <tr>\n",
       "      <th>24</th>\n",
       "      <td>COATES, Janice</td>\n",
       "      <td>No questionnaire response provided</td>\n",
       "      <td>No contact person provided</td>\n",
       "    </tr>\n",
       "    <tr>\n",
       "      <th>25</th>\n",
       "      <td>NaN</td>\n",
       "      <td>Candidate Statement  Being a proud East Gippsl...</td>\n",
       "      <td>Candidate Statement  Being a proud East Gippsl...</td>\n",
       "    </tr>\n",
       "    <tr>\n",
       "      <th>26</th>\n",
       "      <td>CROOK, Tom</td>\n",
       "      <td>See questionnaire response</td>\n",
       "      <td>Tom Crook  Mob: 0417 557 114  vote1tomcrook@gm...</td>\n",
       "    </tr>\n",
       "    <tr>\n",
       "      <th>27</th>\n",
       "      <td>NaN</td>\n",
       "      <td>Candidate Statement  Vote 1 Tom Crook. For a b...</td>\n",
       "      <td>Candidate Statement  Vote 1 Tom Crook. For a b...</td>\n",
       "    </tr>\n",
       "    <tr>\n",
       "      <th>28</th>\n",
       "      <td>FARQUHAR, Bernie</td>\n",
       "      <td>See questionnaire response</td>\n",
       "      <td>Sue FARQUHAR  Mob: 0439 366 962  Alt: (03) 515...</td>\n",
       "    </tr>\n",
       "    <tr>\n",
       "      <th>29</th>\n",
       "      <td>NaN</td>\n",
       "      <td>Candidate Statement  Born and raised in Bairns...</td>\n",
       "      <td>Candidate Statement  Born and raised in Bairns...</td>\n",
       "    </tr>\n",
       "    <tr>\n",
       "      <th>30</th>\n",
       "      <td>DAVIS, Barry</td>\n",
       "      <td>No questionnaire response provided</td>\n",
       "      <td>Barry Davis  baz_87_@hotmail.com</td>\n",
       "    </tr>\n",
       "    <tr>\n",
       "      <th>31</th>\n",
       "      <td>NaN</td>\n",
       "      <td>Candidate Statement  Proud to be a 5th generat...</td>\n",
       "      <td>Candidate Statement  Proud to be a 5th generat...</td>\n",
       "    </tr>\n",
       "    <tr>\n",
       "      <th>32</th>\n",
       "      <td>KRUSE, Sasha</td>\n",
       "      <td>See questionnaire response</td>\n",
       "      <td>Sasha Kruse  Mob: 0493 833 415  sashakruse@pro...</td>\n",
       "    </tr>\n",
       "    <tr>\n",
       "      <th>33</th>\n",
       "      <td>NaN</td>\n",
       "      <td>Candidate Statement  I grew up on Gunaikurnai ...</td>\n",
       "      <td>Candidate Statement  I grew up on Gunaikurnai ...</td>\n",
       "    </tr>\n",
       "    <tr>\n",
       "      <th>34</th>\n",
       "      <td>COLUMBUS, Steven</td>\n",
       "      <td>See questionnaire response</td>\n",
       "      <td>Steven Columbus  steven.columbus.eg@gmail.com</td>\n",
       "    </tr>\n",
       "    <tr>\n",
       "      <th>35</th>\n",
       "      <td>NaN</td>\n",
       "      <td>Candidate Statement  Youth and young families ...</td>\n",
       "      <td>Candidate Statement  Youth and young families ...</td>\n",
       "    </tr>\n",
       "    <tr>\n",
       "      <th>36</th>\n",
       "      <td>ALLEN, Arthur</td>\n",
       "      <td>See questionnaire response</td>\n",
       "      <td>Arthur Allen  Mob: 0447 028 159  arthur.r.alle...</td>\n",
       "    </tr>\n",
       "    <tr>\n",
       "      <th>37</th>\n",
       "      <td>NaN</td>\n",
       "      <td>Candidate Statement  Four years have gone quic...</td>\n",
       "      <td>Candidate Statement  Four years have gone quic...</td>\n",
       "    </tr>\n",
       "    <tr>\n",
       "      <th>38</th>\n",
       "      <td>NICHOLAS, James</td>\n",
       "      <td>See questionnaire response</td>\n",
       "      <td>James Nicholas  Mob: 0455 988 600  JamesNichol...</td>\n",
       "    </tr>\n",
       "    <tr>\n",
       "      <th>39</th>\n",
       "      <td>NaN</td>\n",
       "      <td>Candidate Statement  I believe that community ...</td>\n",
       "      <td>Candidate Statement  I believe that community ...</td>\n",
       "    </tr>\n",
       "    <tr>\n",
       "      <th>40</th>\n",
       "      <td>BADY, Susie</td>\n",
       "      <td>See questionnaire response</td>\n",
       "      <td>Susie Bady  susannabady@gmail.com</td>\n",
       "    </tr>\n",
       "    <tr>\n",
       "      <th>41</th>\n",
       "      <td>NaN</td>\n",
       "      <td>Candidate Statement  I live in Cabbage Tree Cr...</td>\n",
       "      <td>Candidate Statement  I live in Cabbage Tree Cr...</td>\n",
       "    </tr>\n",
       "    <tr>\n",
       "      <th>42</th>\n",
       "      <td>EASTMAN, Joanne</td>\n",
       "      <td>See questionnaire response</td>\n",
       "      <td>Joanne Eastman  Mob: 0494 130 879  voteforjoan...</td>\n",
       "    </tr>\n",
       "    <tr>\n",
       "      <th>43</th>\n",
       "      <td>NaN</td>\n",
       "      <td>Candidate Statement  I am hard-working, energe...</td>\n",
       "      <td>Candidate Statement  I am hard-working, energe...</td>\n",
       "    </tr>\n",
       "    <tr>\n",
       "      <th>44</th>\n",
       "      <td>STEPHENSON, Matt (Retired)</td>\n",
       "      <td>NaN</td>\n",
       "      <td>NaN</td>\n",
       "    </tr>\n",
       "  </tbody>\n",
       "</table>\n",
       "</div>"
      ],
      "text/plain": [
       "                    Candidates  \\\n",
       "                          Name   \n",
       "0                  WHITE, John   \n",
       "1                          NaN   \n",
       "2              ASHWORTH, Jodie   \n",
       "3                          NaN   \n",
       "4                    JOHN, Jes   \n",
       "5                          NaN   \n",
       "6                  NICHOL, Aly   \n",
       "7                          NaN   \n",
       "8              CURTIS, Valerie   \n",
       "9                          NaN   \n",
       "10                 BURY, Clive   \n",
       "11                         NaN   \n",
       "12              JAKOBI, Cheryl   \n",
       "13                         NaN   \n",
       "14              BUCKLEY, Sonia   \n",
       "15                         NaN   \n",
       "16             DAVIES, Suzanne   \n",
       "17                         NaN   \n",
       "18                REEVES, Mark   \n",
       "19                         NaN   \n",
       "20              TREVASKIS, Ian   \n",
       "21                         NaN   \n",
       "22               IRELAND, Judy   \n",
       "23                         NaN   \n",
       "24              COATES, Janice   \n",
       "25                         NaN   \n",
       "26                  CROOK, Tom   \n",
       "27                         NaN   \n",
       "28            FARQUHAR, Bernie   \n",
       "29                         NaN   \n",
       "30                DAVIS, Barry   \n",
       "31                         NaN   \n",
       "32                KRUSE, Sasha   \n",
       "33                         NaN   \n",
       "34            COLUMBUS, Steven   \n",
       "35                         NaN   \n",
       "36               ALLEN, Arthur   \n",
       "37                         NaN   \n",
       "38             NICHOLAS, James   \n",
       "39                         NaN   \n",
       "40                 BADY, Susie   \n",
       "41                         NaN   \n",
       "42             EASTMAN, Joanne   \n",
       "43                         NaN   \n",
       "44  STEPHENSON, Matt (Retired)   \n",
       "\n",
       "                                   Unnamed: 1_level_0  \\\n",
       "                                        Questionnaire   \n",
       "0                          See questionnaire response   \n",
       "1   Candidate Statement  John White Experienced Co...   \n",
       "2                          See questionnaire response   \n",
       "3   Candidate Statement  I’m passionate and commit...   \n",
       "4                          See questionnaire response   \n",
       "5   Candidate Statement  I am a lifelong local who...   \n",
       "6                          See questionnaire response   \n",
       "7   Candidate Statement  I am running for Council ...   \n",
       "8                          See questionnaire response   \n",
       "9   Candidate Statement  My name is Valerie Curtis...   \n",
       "10                         See questionnaire response   \n",
       "11  Candidate Statement  I am running for Councill...   \n",
       "12                         See questionnaire response   \n",
       "13  Candidate Statement  Let’s work together to ma...   \n",
       "14                         See questionnaire response   \n",
       "15  Candidate Statement  Vote One Sonia Buckley. A...   \n",
       "16                         See questionnaire response   \n",
       "17  Candidate Statement  I am a passionate East Gi...   \n",
       "18                         See questionnaire response   \n",
       "19  Candidate Statement  Mark is an experienced Ma...   \n",
       "20                         See questionnaire response   \n",
       "21  Candidate Statement  Ian Trevaskis stands for ...   \n",
       "22                         See questionnaire response   \n",
       "23  Candidate Statement  A resident of East Gippsl...   \n",
       "24                 No questionnaire response provided   \n",
       "25  Candidate Statement  Being a proud East Gippsl...   \n",
       "26                         See questionnaire response   \n",
       "27  Candidate Statement  Vote 1 Tom Crook. For a b...   \n",
       "28                         See questionnaire response   \n",
       "29  Candidate Statement  Born and raised in Bairns...   \n",
       "30                 No questionnaire response provided   \n",
       "31  Candidate Statement  Proud to be a 5th generat...   \n",
       "32                         See questionnaire response   \n",
       "33  Candidate Statement  I grew up on Gunaikurnai ...   \n",
       "34                         See questionnaire response   \n",
       "35  Candidate Statement  Youth and young families ...   \n",
       "36                         See questionnaire response   \n",
       "37  Candidate Statement  Four years have gone quic...   \n",
       "38                         See questionnaire response   \n",
       "39  Candidate Statement  I believe that community ...   \n",
       "40                         See questionnaire response   \n",
       "41  Candidate Statement  I live in Cabbage Tree Cr...   \n",
       "42                         See questionnaire response   \n",
       "43  Candidate Statement  I am hard-working, energe...   \n",
       "44                                                NaN   \n",
       "\n",
       "                                   Unnamed: 2_level_0  \n",
       "                                      Contact Details  \n",
       "0   John White  Mob: 0409 576 355  jingella2@wideb...  \n",
       "1   Candidate Statement  John White Experienced Co...  \n",
       "2   Jodie Ashworth  Mob: 0494 164 427  jodie4eastg...  \n",
       "3   Candidate Statement  I’m passionate and commit...  \n",
       "4                    Jes John  jesjohnegscc@gmail.com  \n",
       "5   Candidate Statement  I am a lifelong local who...  \n",
       "6                          No contact person provided  \n",
       "7   Candidate Statement  I am running for Council ...  \n",
       "8   Valerie Curtis  Mob: 0430 571 093  valerie@qui...  \n",
       "9   Candidate Statement  My name is Valerie Curtis...  \n",
       "10   Clive Bury  Mob: 0458 563 327  clive@bury.com.au  \n",
       "11  Candidate Statement  I am running for Councill...  \n",
       "12  Cheryl Jakobi  Mob: 0437 353 808  cheryljakobi...  \n",
       "13  Candidate Statement  Let’s work together to ma...  \n",
       "14  Sonia Buckley  Mob: 0429 636 342  soniabuckley...  \n",
       "15  Candidate Statement  Vote One Sonia Buckley. A...  \n",
       "16  Tristan Dooley  Mob: 0430 378 357  gumtree14@h...  \n",
       "17  Candidate Statement  I am a passionate East Gi...  \n",
       "18  Mark Reeves  Mob: 0417 319 342  Alt: (03) 5154...  \n",
       "19  Candidate Statement  Mark is an experienced Ma...  \n",
       "20                   Ian trevaskis  Mob: 0477 838 821  \n",
       "21  Candidate Statement  Ian Trevaskis stands for ...  \n",
       "22  Judy Ireland  Mob: 0428 119 252  judy.ireland....  \n",
       "23  Candidate Statement  A resident of East Gippsl...  \n",
       "24                         No contact person provided  \n",
       "25  Candidate Statement  Being a proud East Gippsl...  \n",
       "26  Tom Crook  Mob: 0417 557 114  vote1tomcrook@gm...  \n",
       "27  Candidate Statement  Vote 1 Tom Crook. For a b...  \n",
       "28  Sue FARQUHAR  Mob: 0439 366 962  Alt: (03) 515...  \n",
       "29  Candidate Statement  Born and raised in Bairns...  \n",
       "30                   Barry Davis  baz_87_@hotmail.com  \n",
       "31  Candidate Statement  Proud to be a 5th generat...  \n",
       "32  Sasha Kruse  Mob: 0493 833 415  sashakruse@pro...  \n",
       "33  Candidate Statement  I grew up on Gunaikurnai ...  \n",
       "34      Steven Columbus  steven.columbus.eg@gmail.com  \n",
       "35  Candidate Statement  Youth and young families ...  \n",
       "36  Arthur Allen  Mob: 0447 028 159  arthur.r.alle...  \n",
       "37  Candidate Statement  Four years have gone quic...  \n",
       "38  James Nicholas  Mob: 0455 988 600  JamesNichol...  \n",
       "39  Candidate Statement  I believe that community ...  \n",
       "40                  Susie Bady  susannabady@gmail.com  \n",
       "41  Candidate Statement  I live in Cabbage Tree Cr...  \n",
       "42  Joanne Eastman  Mob: 0494 130 879  voteforjoan...  \n",
       "43  Candidate Statement  I am hard-working, energe...  \n",
       "44                                                NaN  "
      ]
     },
     "execution_count": 19,
     "metadata": {},
     "output_type": "execute_result"
    }
   ],
   "source": [
    "pd.read_html(html.tostring(table))[0]"
   ]
  },
  {
   "cell_type": "markdown",
   "id": "ca981259-b185-45cb-8eb1-fb95b8e3bc1c",
   "metadata": {},
   "source": [
    "Instead we can get all the table's rows:"
   ]
  },
  {
   "cell_type": "code",
   "execution_count": 20,
   "id": "afe7d1bc-2e0c-4376-aba9-6c02d4c67437",
   "metadata": {},
   "outputs": [],
   "source": [
    "rows = table.xpath('.//tr')"
   ]
  },
  {
   "cell_type": "markdown",
   "id": "5c87aa2f-d5e4-4377-9ea1-eef729d2214c",
   "metadata": {},
   "source": [
    "The first row is just a header saying \"Candidates\""
   ]
  },
  {
   "cell_type": "code",
   "execution_count": 21,
   "id": "6ed2c7f0-572d-4f7d-8cc8-654b0dbe7cac",
   "metadata": {},
   "outputs": [
    {
     "data": {
      "text/plain": [
       "b'<tr class=\"candidate-row mobile\">\\r\\n                        <th scope=\"col\">Candidates</th>\\r\\n                    </tr>\\r\\n                    '"
      ]
     },
     "execution_count": 21,
     "metadata": {},
     "output_type": "execute_result"
    }
   ],
   "source": [
    "html.tostring(rows[0])"
   ]
  },
  {
   "cell_type": "markdown",
   "id": "0cad18fd-437b-4a33-ae33-79c8032fc3ba",
   "metadata": {},
   "source": [
    "The second has the headers \"Name\", \"Questionnaire\", and \"Contact Details\""
   ]
  },
  {
   "cell_type": "code",
   "execution_count": 22,
   "id": "efdfa9ae-9e81-4abb-8340-62d60111535f",
   "metadata": {},
   "outputs": [
    {
     "data": {
      "text/plain": [
       "b'<tr class=\"candidate-row desktop\">\\r\\n                        <th scope=\"col\">Name</th>\\r\\n                            <th scope=\"col\">Questionnaire</th>\\r\\n                        <th scope=\"col\">Contact Details</th>\\r\\n                    </tr>\\r\\n                '"
      ]
     },
     "execution_count": 22,
     "metadata": {},
     "output_type": "execute_result"
    }
   ],
   "source": [
    "html.tostring(rows[1])"
   ]
  },
  {
   "cell_type": "markdown",
   "id": "ca83688d-1dee-4364-a73d-ef2d9e091924",
   "metadata": {},
   "source": [
    "This is our first example of a first row of candidate details"
   ]
  },
  {
   "cell_type": "code",
   "execution_count": 23,
   "id": "48ac36ac-bae5-4b35-8d89-c3ae1b5498c7",
   "metadata": {},
   "outputs": [
    {
     "data": {
      "text/plain": [
       "b'<tr class=\"candidate-row\">\\r\\n                            <td>\\r\\n                                WHITE, John\\r\\n                            </td>\\r\\n\\r\\n                                <td>\\r\\n                                        <a href=\"https://itsitecoreblobvecprd.blob.core.windows.net/public-files/Council/Questionnaires/21222.pdf\" class=\"has-link\"><!-- config key:\\'QuestionnaireResponsePresentText\\' -->\\r\\nSee questionnaire response</a>\\r\\n                                </td>\\r\\n                            <td>\\r\\n                                        <span>John White</span>\\r\\n                                                    <br>\\r\\n                                                    <span>Mob: 0409 576 355</span>\\r\\n                                                    <br>\\r\\n                                                    <span>jingella2@wideband.net.au</span>\\r\\n                            </td>\\r\\n                        </tr>\\r\\n                            '"
      ]
     },
     "execution_count": 23,
     "metadata": {},
     "output_type": "execute_result"
    }
   ],
   "source": [
    "first_row = rows[2]\n",
    "html.tostring(first_row)"
   ]
  },
  {
   "cell_type": "markdown",
   "id": "0f40468f-38fe-44a1-bed3-708a428fae84",
   "metadata": {},
   "source": [
    "We can read the name from the text of the first table data:"
   ]
  },
  {
   "cell_type": "code",
   "execution_count": 24,
   "id": "3da74cfb-477e-4c75-9f7c-26dce1e1a480",
   "metadata": {},
   "outputs": [
    {
     "data": {
      "text/plain": [
       "'WHITE, John'"
      ]
     },
     "execution_count": 24,
     "metadata": {},
     "output_type": "execute_result"
    }
   ],
   "source": [
    "name = first_row.xpath('.//td[1]/text()')[0].strip()\n",
    "name"
   ]
  },
  {
   "cell_type": "markdown",
   "id": "4fdf92e3-1600-4213-970b-defb49ac513b",
   "metadata": {},
   "source": [
    "And the questionnaire link and contact details from the next two table data:"
   ]
  },
  {
   "cell_type": "code",
   "execution_count": 25,
   "id": "a5125fd6-ff80-4b1c-9ffd-a0e100d244e1",
   "metadata": {},
   "outputs": [
    {
     "data": {
      "text/plain": [
       "'https://itsitecoreblobvecprd.blob.core.windows.net/public-files/Council/Questionnaires/21222.pdf'"
      ]
     },
     "execution_count": 25,
     "metadata": {},
     "output_type": "execute_result"
    }
   ],
   "source": [
    "link = first_row.xpath('.//td[2]/a/@href')[0]\n",
    "contact = first_row.xpath('.//td[3]/span/text()')\n",
    "\n",
    "link"
   ]
  },
  {
   "cell_type": "markdown",
   "id": "9d26968f-4010-4a5f-9356-057906bc78e0",
   "metadata": {},
   "source": [
    "The following row has their photo, and the candidate statement split across two cells."
   ]
  },
  {
   "cell_type": "code",
   "execution_count": 26,
   "id": "1d5eaaed-d16a-47b0-be27-f44cdd2293f7",
   "metadata": {},
   "outputs": [
    {
     "data": {
      "text/plain": [
       "b'<tr id=\"east-gippsland-shire-council_1\" class=\"candidate-row hidden\">\\r\\n                                <td>\\r\\n                                        <img src=\"https://itsitecoreblobvecprd.blob.core.windows.net/public-files/Council/Photos/21222.png\" alt=\"Photograph of candidate WHITE, John\" width=\"128\">\\r\\n                                </td>\\r\\n                                <td colspan=\"2\">\\r\\n                                        <strong>Candidate Statement</strong><br>\\r\\n                                        <p>John White Experienced Councillor for 8 years. Deputy Mayor 2018/2019, Mayor 2019/2020, supporting and representing community during bushfires. Established productive relationships with government agencies and emergency services. Initiated recovery funding, Active Landcare member for 40-years, CFA member for 50 years. My objectives are to make Council decisions open and transparent, put the community first. Always ignore vested interests. Insist on responsible Council decisions that prioritise resources to meet the community&#8217;s primary needs. Ease cost of living pressures for ratepayers/residents by managing expenditure to get best value from Council rates and external funding. Defer non-urgent expenditure until economic recovery. Stop cost over-runs, financial waste and funding loss with accurate, professional and cost-effective project planning and implementation. Ensure Councillors adherence to the Councillor Code of Conduct. Push for Council to be accessible and responsive, and for Councillor decision-making in the best interests of the community. Personally, I am not aligned with any faction/group or political party. My job is to represent everybody and fight for everyone&#8217;s right to be heard. I believe that the team is greater than the individual. I will not trade my vote for personal advantage. I will maintain my independence and support my community. Vote one John White</p>\\r\\n                                </td>\\r\\n                            </tr>\\r\\n                        '"
      ]
     },
     "execution_count": 26,
     "metadata": {},
     "output_type": "execute_result"
    }
   ],
   "source": [
    "second_row = rows[3]\n",
    "html.tostring(second_row)"
   ]
  },
  {
   "cell_type": "markdown",
   "id": "da4651ec-6ab1-46f8-ab44-b046fdf629a6",
   "metadata": {},
   "source": [
    "We can read the image URL from the first table data:"
   ]
  },
  {
   "cell_type": "code",
   "execution_count": 27,
   "id": "479f4faf-4d2f-4283-8b56-0e5965adc119",
   "metadata": {},
   "outputs": [
    {
     "data": {
      "text/plain": [
       "['https://itsitecoreblobvecprd.blob.core.windows.net/public-files/Council/Photos/21222.png']"
      ]
     },
     "execution_count": 27,
     "metadata": {},
     "output_type": "execute_result"
    }
   ],
   "source": [
    "photo_url = second_row.xpath('.//td[1]/img/@src')\n",
    "photo_url"
   ]
  },
  {
   "cell_type": "markdown",
   "id": "873a0d2b-38d1-4690-b57b-50e9d95e671a",
   "metadata": {},
   "source": [
    "And the candidate data from the second:"
   ]
  },
  {
   "cell_type": "code",
   "execution_count": 28,
   "id": "83a15b59-ba7f-4284-be06-fd57902990bc",
   "metadata": {},
   "outputs": [
    {
     "data": {
      "text/plain": [
       "'John White Experienced Councillor for 8 years. Deputy Mayor 2018/2019, Mayor 2019/2020, supporting and representing community during bushfires. Established productive relationships with government agencies and emergency services. Initiated recovery funding, Active Landcare member for 40-years, CFA member for 50 years. My objectives are to make Council decisions open and transparent, put the community first. Always ignore vested interests. Insist on responsible Council decisions that prioritise resources to meet the community’s primary needs. Ease cost of living pressures for ratepayers/residents by managing expenditure to get best value from Council rates and external funding. Defer non-urgent expenditure until economic recovery. Stop cost over-runs, financial waste and funding loss with accurate, professional and cost-effective project planning and implementation. Ensure Councillors adherence to the Councillor Code of Conduct. Push for Council to be accessible and responsive, and for Councillor decision-making in the best interests of the community. Personally, I am not aligned with any faction/group or political party. My job is to represent everybody and fight for everyone’s right to be heard. I believe that the team is greater than the individual. I will not trade my vote for personal advantage. I will maintain my independence and support my community. Vote one John White'"
      ]
     },
     "execution_count": 28,
     "metadata": {},
     "output_type": "execute_result"
    }
   ],
   "source": [
    "statement = second_row.xpath('.//td[2]/p/text()')[0]\n",
    "statement"
   ]
  },
  {
   "cell_type": "markdown",
   "id": "67214ec4-f4c1-41e2-813a-cea2817d2591",
   "metadata": {},
   "source": [
    "Let's make some small data objects to hold all this information:"
   ]
  },
  {
   "cell_type": "code",
   "execution_count": 29,
   "id": "ddeec6b2-5d73-41fa-a492-1d3b6e7da7e8",
   "metadata": {},
   "outputs": [],
   "source": [
    "@dataclass(frozen=True)\n",
    "class Ward:\n",
    "    council: str\n",
    "    ward: str\n",
    "    vacancies: int\n",
    "\n",
    "@dataclass\n",
    "class Candidate:\n",
    "    name: str\n",
    "    questions: Optional[str]\n",
    "    photo: Optional[str]\n",
    "    contact: list[str]\n",
    "    statement: Optional[str]\n",
    "    ward: Optional[Ward] = None"
   ]
  },
  {
   "cell_type": "markdown",
   "id": "fa6bf50d-078c-4d87-beee-5d310c676355",
   "metadata": {},
   "source": [
    "And put together our HTML scraping into a function; I've added a few changes to make it more robust:\n",
    "\n",
    "* questionnaire link is optional since some candidates did not provide one\n",
    "* photo is optional since some candidates did not provide one\n",
    "* sometimes the statement is not provided\n",
    "* sometimes there isn't a second row in uncontested elections"
   ]
  },
  {
   "cell_type": "code",
   "execution_count": 30,
   "id": "dbed9b75-8639-4295-a7e3-741b653ca08b",
   "metadata": {},
   "outputs": [],
   "source": [
    "def parse_candidate_table(table):\n",
    "    candidates = []\n",
    "    \n",
    "    rows = table.xpath('.//tr')\n",
    "\n",
    "    # Skip header rows\n",
    "    rows = rows[2:]\n",
    "\n",
    "    i = 0\n",
    "    while (i < len(rows)):\n",
    "        first_row = rows[i]\n",
    "        i = i + 1\n",
    "        name = first_row.xpath('.//td[1]/text()')[0].strip()\n",
    "        link = first_row.xpath('.//td[2]/a/@href')\n",
    "        # Some candidates didn't submit a questionnaire response\n",
    "        link = link[0] if link else None\n",
    "        contact = first_row.xpath('.//td[3]/span/text()')\n",
    "\n",
    "        # If we have an expansion row with more details\n",
    "        if i < len(rows) and 'id' in rows[i].attrib:\n",
    "            second_row = rows[i]\n",
    "            i = i + 1\n",
    "\n",
    "            photo_url = second_row.xpath('.//td[1]/img/@src')\n",
    "            # Some candidates didn't submit a photo\n",
    "            photo_url = photo_url[0] if photo_url else None\n",
    "            statement = second_row.xpath('.//td[2]/p/text()')\n",
    "            statement = statement[0] if statement else None\n",
    "        # We don't always have this, e.g. in unopposed contests\n",
    "        # or for retired but listed candidates\n",
    "        else:\n",
    "            photo_url = None\n",
    "            statement = None\n",
    "            \n",
    "\n",
    "        candidates.append(Candidate(\n",
    "            name,\n",
    "            link,\n",
    "            photo_url,\n",
    "            contact,\n",
    "            statement))\n",
    "        \n",
    "    return candidates"
   ]
  },
  {
   "cell_type": "markdown",
   "id": "d2c54eb6-e95b-46df-9f09-cc353c2fc444",
   "metadata": {},
   "source": [
    "Then to parse an entire Council page we just need to iterate over the Wards:"
   ]
  },
  {
   "cell_type": "code",
   "execution_count": 31,
   "id": "679e78fc-965a-4bc4-85dd-1e81fca09a76",
   "metadata": {},
   "outputs": [],
   "source": [
    "def parse_page(content, council):\n",
    "    candidates = []\n",
    "    wards = []\n",
    "\n",
    "    tree = html.fromstring(content)\n",
    "    \n",
    "    for ward_node in tree.xpath(\"//h2[@id != '']\"):\n",
    "        ward_name, ward_vacancies = ward_re.match(ward_node.text).groups()\n",
    "        ward_vacancies = int(ward_vacancies)\n",
    "\n",
    "        ward = Ward(council, ward_name, ward_vacancies)\n",
    "        wards.append(ward)\n",
    "        \n",
    "        table = ward_node.xpath('following-sibling::div[1]//table')[0]\n",
    "\n",
    "        for candidate in parse_candidate_table(table):\n",
    "            candidate.ward = ward\n",
    "            candidates.append(candidate)\n",
    "\n",
    "        \n",
    "\n",
    "        \n",
    "\n",
    "    return wards, candidates"
   ]
  },
  {
   "cell_type": "markdown",
   "id": "b9ae7c1f-5f21-459d-bc91-35beea96935e",
   "metadata": {},
   "source": [
    "We can now apply this to get all the candidates"
   ]
  },
  {
   "cell_type": "code",
   "execution_count": 32,
   "id": "1df3c422-e26e-44e6-bcf0-da5e73efd4e3",
   "metadata": {},
   "outputs": [],
   "source": [
    "candidates = []\n",
    "wards = []\n",
    "\n",
    "for path in paths:\n",
    "    with open(path, 'rb') as f:\n",
    "        content = f.read()\n",
    "    w, c = parse_page(content, path.name)\n",
    "    wards.extend(w)\n",
    "    candidates.extend(c)"
   ]
  },
  {
   "cell_type": "markdown",
   "id": "ef45841d-027a-4bea-af53-3904f1f80ae9",
   "metadata": {},
   "source": [
    "### Checking for missing data"
   ]
  },
  {
   "cell_type": "markdown",
   "id": "6ba0e784-adf5-4659-b4f2-bbbe027171a9",
   "metadata": {},
   "source": [
    "As stated before the [VEC stated](https://web.archive.org/web/20241001101120/https://www.vec.vic.gov.au/about-us/media/nominations-are-in-for-october-local-council-elections) there are 466 elections, but unfortunately we are 2 short:"
   ]
  },
  {
   "cell_type": "code",
   "execution_count": 33,
   "id": "5a19b659-afc2-4ae9-961a-1bf3c722ac4d",
   "metadata": {},
   "outputs": [
    {
     "data": {
      "text/plain": [
       "2"
      ]
     },
     "execution_count": 33,
     "metadata": {},
     "output_type": "execute_result"
    }
   ],
   "source": [
    "466 - len(wards)"
   ]
  },
  {
   "cell_type": "markdown",
   "id": "b679d71c-4a33-426f-b4f9-c91b1c760bf3",
   "metadata": {},
   "source": [
    "We are also short of the expected 646 vacancies:"
   ]
  },
  {
   "cell_type": "code",
   "execution_count": 34,
   "id": "5c0b8078-5108-495a-9c2a-20620ff92ce1",
   "metadata": {},
   "outputs": [
    {
     "data": {
      "text/plain": [
       "10"
      ]
     },
     "execution_count": 34,
     "metadata": {},
     "output_type": "execute_result"
    }
   ],
   "source": [
    "646 - sum(w.vacancies for w in wards)"
   ]
  },
  {
   "cell_type": "markdown",
   "id": "7c043604-468c-4b1b-b77c-a971f9b79d5a",
   "metadata": {},
   "source": [
    "If we look back on our councils we can see that we're missing candidates from Melbourne City Council."
   ]
  },
  {
   "cell_type": "code",
   "execution_count": 35,
   "id": "1561dded-e027-42bb-a3a0-ea9490012d5b",
   "metadata": {},
   "outputs": [
    {
     "data": {
      "text/plain": [
       "{'Melbourne City Council'}"
      ]
     },
     "execution_count": 35,
     "metadata": {},
     "output_type": "execute_result"
    }
   ],
   "source": [
    "councils = {p.name for p in paths}\n",
    "ward_councils = {w.council for w in wards}\n",
    "\n",
    "councils.difference(ward_councils)"
   ]
  },
  {
   "cell_type": "markdown",
   "id": "e011d006-efb4-4c76-ac44-4a42c06b50ed",
   "metadata": {},
   "source": [
    "The City of Melbourne is different to other Local Government Areas in that it hold two elections, one to elect the Lord Mayor and Deputy Mayor, and another to elect 9 councillors.\n",
    "This explains our missing 2 elections and 10 vacancies (if we count the \"Leadership Team\" vacancy for the Lord and Deputy Mayor together as 1 team vacancy, rather than 2 positions).\n",
    "These changes mean the Melbourne City Council has a very different dynamic to every other council, with the Leadership team vote being separate but connected to the Council votes, and each team or unaffiliated candidate stating their preferences for all other candidates.\n",
    "\n",
    "This means that the data on the [Melbourne City Council nomination page](http://web.archive.org/web/20241007101156/https://www.vec.vic.gov.au/voting/2024-local-council-elections/melbourne-city-council/nominations) is represented quite differently."
   ]
  },
  {
   "cell_type": "code",
   "execution_count": 36,
   "id": "8c6ffef0-89de-455d-8723-2311a8381c8d",
   "metadata": {},
   "outputs": [],
   "source": [
    "path = nomination_dir / 'Melbourne City Council'\n",
    "\n",
    "with open(path, 'rb') as f:\n",
    "    content = f.read()\n",
    "\n",
    "tree = html.fromstring(content)"
   ]
  },
  {
   "cell_type": "markdown",
   "id": "961a1703-5818-48a1-a327-59fa282d01c2",
   "metadata": {},
   "source": [
    "We can extract the names of candidates for the Mayor and Deputy Mayor election, giving 22 candidates across 11 parties."
   ]
  },
  {
   "cell_type": "code",
   "execution_count": 37,
   "id": "446cdeb6-1111-4634-bc8d-c9f3fd8a1b62",
   "metadata": {},
   "outputs": [
    {
     "data": {
      "text/plain": [
       "22"
      ]
     },
     "execution_count": 37,
     "metadata": {},
     "output_type": "execute_result"
    }
   ],
   "source": [
    "leadership_team_candidates= [x.strip() for x in tree.xpath(\"//tr[contains(@class, 'candidate-row')]/td[1]/p/text()\") if x.strip() and not x.strip().startswith('No')]\n",
    "\n",
    "len(leadership_team_candidates)"
   ]
  },
  {
   "cell_type": "markdown",
   "id": "9d1b3968-c675-4f93-a42d-a751ecda704f",
   "metadata": {},
   "source": [
    "We do something slightly different to get the names of the candidates for the 9 Council positions."
   ]
  },
  {
   "cell_type": "code",
   "execution_count": 38,
   "id": "502c77a3-157c-4832-8e89-1c9f51a0b03d",
   "metadata": {},
   "outputs": [
    {
     "data": {
      "text/plain": [
       "58"
      ]
     },
     "execution_count": 38,
     "metadata": {},
     "output_type": "execute_result"
    }
   ],
   "source": [
    "melb_candidates= [x.strip() for x in tree.xpath(\"//tr[contains(@class, 'candidate-row')]/td[1]/text()\") if x.strip()]\n",
    "\n",
    "len(melb_candidates)"
   ]
  },
  {
   "cell_type": "markdown",
   "id": "5c1eefb7-2b4f-4580-976c-318b8ece31df",
   "metadata": {},
   "source": [
    "I can't really meaningfully represent Melbourne City Council with the same data structure as I have for other councils.\n",
    "The idea of teams and preferencing doesn't exist in other councils, which are important information for understanding the structure.\n",
    "The candidates don't have individual candidate statements (with the exception of \"ungrouped\" candidates), but group statements.\n",
    "All this means that Melbourne City Council should really be a separate dataset, and I won't build it here.\n",
    "\n",
    "All together we've accounted for all but 1 of the 2231 candidates, which is pretty comprehensive."
   ]
  },
  {
   "cell_type": "code",
   "execution_count": 39,
   "id": "414c2e89-3888-4aa6-8acd-fe6e07e1392a",
   "metadata": {},
   "outputs": [
    {
     "data": {
      "text/plain": [
       "1"
      ]
     },
     "execution_count": 39,
     "metadata": {},
     "output_type": "execute_result"
    }
   ],
   "source": [
    "2231 - (len(candidates) + len(leadership_team_candidates) + len(melb_candidates))"
   ]
  },
  {
   "cell_type": "markdown",
   "id": "bee1db77-160b-4aeb-9a3a-92dc3925a16e",
   "metadata": {},
   "source": [
    "# Analysing candidate data\n",
    "\n",
    "Before going any further with publishing the data let's sense check the data we've got and put it into a tidy form."
   ]
  },
  {
   "cell_type": "markdown",
   "id": "aff32d7f-0435-4eb9-a1f3-4b511203b25b",
   "metadata": {},
   "source": [
    "## Contact information\n",
    "\n",
    "The candidates are public figures and have provided their public contact details; however I don't want to republish these details in a form that's easy for bulk spam.\n",
    "For the same reason I won't show contact details in the output of this article, but I have often checked they actually contain the kind of information I attribute to them."
   ]
  },
  {
   "cell_type": "markdown",
   "id": "84d643f0-724d-4f1d-a92d-95e394de4571",
   "metadata": {},
   "source": [
    "The majority of candidates provide 3 pieces of contact information, often a phone number, an email and a name.\n",
    "Some also offer an alternate phone number, and some don't have a phone number."
   ]
  },
  {
   "cell_type": "code",
   "execution_count": 40,
   "id": "81633083-5ae0-46a3-994e-a9cd1fdd0e61",
   "metadata": {},
   "outputs": [
    {
     "data": {
      "text/plain": [
       "Counter({3: 1348, 2: 554, 0: 152, 4: 96})"
      ]
     },
     "execution_count": 40,
     "metadata": {},
     "output_type": "execute_result"
    }
   ],
   "source": [
    "Counter(len(c.contact) for c in candidates)"
   ]
  },
  {
   "cell_type": "markdown",
   "id": "c60abe23-6e75-46f9-a0c8-025a551b52b3",
   "metadata": {},
   "source": [
    "We can use a simple heuristic that works very well for detecting emails, and the majority of candidates supply an email address, and no one has more than one:"
   ]
  },
  {
   "cell_type": "code",
   "execution_count": 41,
   "id": "a0a885ef-f4bf-4e28-a381-ebf3d436d4f9",
   "metadata": {},
   "outputs": [
    {
     "data": {
      "text/plain": [
       "Counter({1: 1875, 0: 275})"
      ]
     },
     "execution_count": 41,
     "metadata": {},
     "output_type": "execute_result"
    }
   ],
   "source": [
    "def is_email(s):\n",
    "    return '@' in s\n",
    "\n",
    "Counter([sum([1 for cf in c.contact if is_email(cf)]) for c in candidates])"
   ]
  },
  {
   "cell_type": "markdown",
   "id": "922647f1-b350-48f0-b806-1d3040c1c2d8",
   "metadata": {},
   "source": [
    "The email domain can sometimes hold interesting information, like whether they are a member of a political group such as the Greens, the Victorian Socialists or the Australian Labor Party.\n",
    "Some of the tail domains are also sites the candidate themselves have set up which are relevant for finding more information (although some are just businesses they work for)."
   ]
  },
  {
   "cell_type": "code",
   "execution_count": 42,
   "id": "79d74628-f95e-4a9e-b922-72a7d7e220f1",
   "metadata": {},
   "outputs": [
    {
     "data": {
      "text/plain": [
       "[('gmail.com', 1036),\n",
       " ('hotmail.com', 96),\n",
       " ('outlook.com', 94),\n",
       " ('vic.greens.org.au', 71),\n",
       " ('bigpond.com', 60),\n",
       " ('victoriansocialists.org.au', 59),\n",
       " ('yahoo.com', 26),\n",
       " ('yahoo.com.au', 24),\n",
       " ('icloud.com', 22),\n",
       " ('me.com', 11),\n",
       " ('live.com.au', 10),\n",
       " ('optusnet.com.au', 10),\n",
       " ('darebinlabor.org', 9),\n",
       " ('proton.me', 6),\n",
       " ('mail.com', 6),\n",
       " ('bigpond.net.au', 6),\n",
       " ('libertarians.org.au', 6),\n",
       " ('outlook.com.au', 5),\n",
       " ('tpg.com.au', 5),\n",
       " ('iprimus.com.au', 4)]"
      ]
     },
     "execution_count": 42,
     "metadata": {},
     "output_type": "execute_result"
    }
   ],
   "source": [
    "def get_email_domain(s):\n",
    "    return s.split('@')[-1]\n",
    "\n",
    "Counter(get_email_domain(cf).lower() for c in candidates\n",
    "        for cf in c.contact if is_email(cf)).most_common(20)"
   ]
  },
  {
   "cell_type": "markdown",
   "id": "0e3c4498-7a32-45db-b204-e1448abd53ca",
   "metadata": {},
   "source": [
    "Many candidates provide a phone number, and some provide two:"
   ]
  },
  {
   "cell_type": "code",
   "execution_count": 43,
   "id": "ecbd666b-0d16-4eda-91a7-151a1127ab36",
   "metadata": {},
   "outputs": [
    {
     "data": {
      "text/plain": [
       "Counter({1: 1469, 0: 584, 2: 97})"
      ]
     },
     "execution_count": 43,
     "metadata": {},
     "output_type": "execute_result"
    }
   ],
   "source": [
    "def is_mobile(s):\n",
    "    return bool(re.match(r\"^(Mob|Alt): \\d{4} \\d{3} \\d{3}$\", s))\n",
    "\n",
    "def is_landline(s):\n",
    "    return bool(re.match(r\"^Alt: \\(\\d{2}\\) \\d{4} \\d{4}$\", s))\n",
    "\n",
    "def is_phone_number(s):\n",
    "    return is_mobile(s) or is_landline(s)\n",
    "\n",
    "Counter([sum([1 for cf in c.contact if is_phone_number(cf)])\n",
    "         for c in candidates])"
   ]
  },
  {
   "cell_type": "markdown",
   "id": "e1965f45-34ea-404f-8f95-d8af5b833dce",
   "metadata": {},
   "source": [
    "Not all the phone numbers are unique, for example many Greens candidates have the same mobile number suggesting it might be a number run by their political office.\n",
    "However this doesn't occur often enough to make for informative data, so I won't include it in the dataset.\n",
    "\n",
    "The remaining field is a contact person's name; this is often the candidate themselves, but not always especially for political parties."
   ]
  },
  {
   "cell_type": "code",
   "execution_count": 44,
   "id": "4f32b15d-c1dc-4918-b908-78cc5b432518",
   "metadata": {},
   "outputs": [
    {
     "data": {
      "text/plain": [
       "Counter({1: 1998, 0: 152})"
      ]
     },
     "execution_count": 44,
     "metadata": {},
     "output_type": "execute_result"
    }
   ],
   "source": [
    "Counter([sum([1 for cf in c.contact if\n",
    "              not (is_phone_number(cf) or is_email(cf))])\n",
    "         for c in candidates])"
   ]
  },
  {
   "cell_type": "markdown",
   "id": "a96f8c1c-cf06-451f-9b31-bc2c5c65695a",
   "metadata": {},
   "source": [
    "We can then extract the relevant data fields out of the contact details:"
   ]
  },
  {
   "cell_type": "code",
   "execution_count": 45,
   "id": "167405a0-340e-454c-ac3d-04f1acc14eec",
   "metadata": {},
   "outputs": [],
   "source": [
    "@dataclass\n",
    "class ContactDetails:\n",
    "    contact_name: Optional[str]\n",
    "    has_phone: bool\n",
    "    has_email: bool\n",
    "    email_domain: Optional[str]\n",
    "\n",
    "contact_details = []\n",
    "\n",
    "for c in candidates:\n",
    "    contact = c.contact\n",
    "    \n",
    "    contact_name = [cf for cf in contact if\n",
    "                    not (is_phone_number(cf) or is_email(cf))]\n",
    "    contact_name = contact_name[0] if contact_name else None\n",
    "\n",
    "    email = [cf for cf in contact if is_email(cf)]\n",
    "    has_email = bool(email)\n",
    "    email_domain = get_email_domain(email[0]) if email else None\n",
    "\n",
    "    has_phone = any([cf for cf in contact if is_phone_number(cf)])\n",
    "    \n",
    "    contact_details.append(\n",
    "        ContactDetails(\n",
    "           contact_name,\n",
    "           has_phone,\n",
    "           has_email,\n",
    "           email_domain\n",
    "        ))"
   ]
  },
  {
   "cell_type": "markdown",
   "id": "a9b49fc5-f007-4c65-8b69-f15858a22b95",
   "metadata": {},
   "source": [
    "Which makes for a nice dataframe:"
   ]
  },
  {
   "cell_type": "code",
   "execution_count": 46,
   "id": "82b84d33-2f85-414c-80ff-47700244fc15",
   "metadata": {},
   "outputs": [
    {
     "data": {
      "text/html": [
       "<div>\n",
       "<style scoped>\n",
       "    .dataframe tbody tr th:only-of-type {\n",
       "        vertical-align: middle;\n",
       "    }\n",
       "\n",
       "    .dataframe tbody tr th {\n",
       "        vertical-align: top;\n",
       "    }\n",
       "\n",
       "    .dataframe thead th {\n",
       "        text-align: right;\n",
       "    }\n",
       "</style>\n",
       "<table border=\"1\" class=\"dataframe\">\n",
       "  <thead>\n",
       "    <tr style=\"text-align: right;\">\n",
       "      <th></th>\n",
       "      <th>contact_name</th>\n",
       "      <th>has_phone</th>\n",
       "      <th>has_email</th>\n",
       "      <th>email_domain</th>\n",
       "    </tr>\n",
       "  </thead>\n",
       "  <tbody>\n",
       "    <tr>\n",
       "      <th>0</th>\n",
       "      <td>John Andersen</td>\n",
       "      <td>True</td>\n",
       "      <td>True</td>\n",
       "      <td>yahoo.com.au</td>\n",
       "    </tr>\n",
       "    <tr>\n",
       "      <th>1</th>\n",
       "      <td>Peter Smith</td>\n",
       "      <td>True</td>\n",
       "      <td>True</td>\n",
       "      <td>expressfinanceoptions.com.au</td>\n",
       "    </tr>\n",
       "    <tr>\n",
       "      <th>2</th>\n",
       "      <td>Jean-Pierre Louis Ronco</td>\n",
       "      <td>True</td>\n",
       "      <td>True</td>\n",
       "      <td>hotmail.com</td>\n",
       "    </tr>\n",
       "    <tr>\n",
       "      <th>3</th>\n",
       "      <td>David Byrne</td>\n",
       "      <td>True</td>\n",
       "      <td>True</td>\n",
       "      <td>arderns.com.au</td>\n",
       "    </tr>\n",
       "    <tr>\n",
       "      <th>4</th>\n",
       "      <td>Bruce McDonald</td>\n",
       "      <td>True</td>\n",
       "      <td>True</td>\n",
       "      <td>gmail.com</td>\n",
       "    </tr>\n",
       "    <tr>\n",
       "      <th>...</th>\n",
       "      <td>...</td>\n",
       "      <td>...</td>\n",
       "      <td>...</td>\n",
       "      <td>...</td>\n",
       "    </tr>\n",
       "    <tr>\n",
       "      <th>2145</th>\n",
       "      <td>Corinne Heintze</td>\n",
       "      <td>True</td>\n",
       "      <td>True</td>\n",
       "      <td>gmail.com</td>\n",
       "    </tr>\n",
       "    <tr>\n",
       "      <th>2146</th>\n",
       "      <td>Andrew McLean</td>\n",
       "      <td>True</td>\n",
       "      <td>True</td>\n",
       "      <td>gmail.com</td>\n",
       "    </tr>\n",
       "    <tr>\n",
       "      <th>2147</th>\n",
       "      <td>Chris Lehmann</td>\n",
       "      <td>False</td>\n",
       "      <td>True</td>\n",
       "      <td>bigpond.com.au</td>\n",
       "    </tr>\n",
       "    <tr>\n",
       "      <th>2148</th>\n",
       "      <td>Karly Kirk</td>\n",
       "      <td>True</td>\n",
       "      <td>True</td>\n",
       "      <td>YAHOO.COM</td>\n",
       "    </tr>\n",
       "    <tr>\n",
       "      <th>2149</th>\n",
       "      <td>Kylie ZANKER</td>\n",
       "      <td>True</td>\n",
       "      <td>True</td>\n",
       "      <td>gmail.com</td>\n",
       "    </tr>\n",
       "  </tbody>\n",
       "</table>\n",
       "<p>2150 rows × 4 columns</p>\n",
       "</div>"
      ],
      "text/plain": [
       "                 contact_name  has_phone  has_email  \\\n",
       "0               John Andersen       True       True   \n",
       "1                 Peter Smith       True       True   \n",
       "2     Jean-Pierre Louis Ronco       True       True   \n",
       "3                 David Byrne       True       True   \n",
       "4              Bruce McDonald       True       True   \n",
       "...                       ...        ...        ...   \n",
       "2145          Corinne Heintze       True       True   \n",
       "2146            Andrew McLean       True       True   \n",
       "2147            Chris Lehmann      False       True   \n",
       "2148               Karly Kirk       True       True   \n",
       "2149             Kylie ZANKER       True       True   \n",
       "\n",
       "                      email_domain  \n",
       "0                     yahoo.com.au  \n",
       "1     expressfinanceoptions.com.au  \n",
       "2                      hotmail.com  \n",
       "3                   arderns.com.au  \n",
       "4                        gmail.com  \n",
       "...                            ...  \n",
       "2145                     gmail.com  \n",
       "2146                     gmail.com  \n",
       "2147                bigpond.com.au  \n",
       "2148                     YAHOO.COM  \n",
       "2149                     gmail.com  \n",
       "\n",
       "[2150 rows x 4 columns]"
      ]
     },
     "execution_count": 46,
     "metadata": {},
     "output_type": "execute_result"
    }
   ],
   "source": [
    "df_contact_details = pd.DataFrame(contact_details)\n",
    "df_contact_details"
   ]
  },
  {
   "cell_type": "markdown",
   "id": "557a8017-9679-463a-92d9-56bda7606b4a",
   "metadata": {},
   "source": [
    "## Checking other fields"
   ]
  },
  {
   "cell_type": "code",
   "execution_count": 47,
   "id": "ffc8a260-db23-4481-8f66-31f0c93452ff",
   "metadata": {
    "scrolled": true
   },
   "outputs": [
    {
     "data": {
      "text/html": [
       "<div>\n",
       "<style scoped>\n",
       "    .dataframe tbody tr th:only-of-type {\n",
       "        vertical-align: middle;\n",
       "    }\n",
       "\n",
       "    .dataframe tbody tr th {\n",
       "        vertical-align: top;\n",
       "    }\n",
       "\n",
       "    .dataframe thead th {\n",
       "        text-align: right;\n",
       "    }\n",
       "</style>\n",
       "<table border=\"1\" class=\"dataframe\">\n",
       "  <thead>\n",
       "    <tr style=\"text-align: right;\">\n",
       "      <th></th>\n",
       "      <th>name</th>\n",
       "      <th>questions</th>\n",
       "      <th>photo</th>\n",
       "      <th>statement</th>\n",
       "      <th>contact_name</th>\n",
       "      <th>has_phone</th>\n",
       "      <th>has_email</th>\n",
       "      <th>email_domain</th>\n",
       "      <th>council</th>\n",
       "      <th>ward</th>\n",
       "      <th>vacancies</th>\n",
       "    </tr>\n",
       "  </thead>\n",
       "  <tbody>\n",
       "    <tr>\n",
       "      <th>0</th>\n",
       "      <td>ANDERSEN, John</td>\n",
       "      <td>https://itsitecoreblobvecprd.blob.core.windows...</td>\n",
       "      <td>https://itsitecoreblobvecprd.blob.core.windows...</td>\n",
       "      <td>My name is John Andersen, also known as Snowy....</td>\n",
       "      <td>John Andersen</td>\n",
       "      <td>True</td>\n",
       "      <td>True</td>\n",
       "      <td>yahoo.com.au</td>\n",
       "      <td>Alpine Shire Council</td>\n",
       "      <td>Alpine Shire Council</td>\n",
       "      <td>7</td>\n",
       "    </tr>\n",
       "    <tr>\n",
       "      <th>1</th>\n",
       "      <td>SMITH, Peter</td>\n",
       "      <td>None</td>\n",
       "      <td>https://itsitecoreblobvecprd.blob.core.windows...</td>\n",
       "      <td>My name is Peter Smith. I am a 54 year old res...</td>\n",
       "      <td>Peter Smith</td>\n",
       "      <td>True</td>\n",
       "      <td>True</td>\n",
       "      <td>expressfinanceoptions.com.au</td>\n",
       "      <td>Alpine Shire Council</td>\n",
       "      <td>Alpine Shire Council</td>\n",
       "      <td>7</td>\n",
       "    </tr>\n",
       "    <tr>\n",
       "      <th>2</th>\n",
       "      <td>RONCO, Jean-Pierre</td>\n",
       "      <td>https://itsitecoreblobvecprd.blob.core.windows...</td>\n",
       "      <td>https://itsitecoreblobvecprd.blob.core.windows...</td>\n",
       "      <td>As a candidate at the Alpine Shire Council ele...</td>\n",
       "      <td>Jean-Pierre Louis Ronco</td>\n",
       "      <td>True</td>\n",
       "      <td>True</td>\n",
       "      <td>hotmail.com</td>\n",
       "      <td>Alpine Shire Council</td>\n",
       "      <td>Alpine Shire Council</td>\n",
       "      <td>7</td>\n",
       "    </tr>\n",
       "    <tr>\n",
       "      <th>3</th>\n",
       "      <td>BYRNE, David</td>\n",
       "      <td>https://itsitecoreblobvecprd.blob.core.windows...</td>\n",
       "      <td>https://itsitecoreblobvecprd.blob.core.windows...</td>\n",
       "      <td>My name is David Byrne. Ten years ago, my fami...</td>\n",
       "      <td>David Byrne</td>\n",
       "      <td>True</td>\n",
       "      <td>True</td>\n",
       "      <td>arderns.com.au</td>\n",
       "      <td>Alpine Shire Council</td>\n",
       "      <td>Alpine Shire Council</td>\n",
       "      <td>7</td>\n",
       "    </tr>\n",
       "    <tr>\n",
       "      <th>4</th>\n",
       "      <td>McDONALD, Bruce</td>\n",
       "      <td>https://itsitecoreblobvecprd.blob.core.windows...</td>\n",
       "      <td>https://itsitecoreblobvecprd.blob.core.windows...</td>\n",
       "      <td>A resident of Bright with a no-nonsense, down ...</td>\n",
       "      <td>Bruce McDonald</td>\n",
       "      <td>True</td>\n",
       "      <td>True</td>\n",
       "      <td>gmail.com</td>\n",
       "      <td>Alpine Shire Council</td>\n",
       "      <td>Alpine Shire Council</td>\n",
       "      <td>7</td>\n",
       "    </tr>\n",
       "    <tr>\n",
       "      <th>...</th>\n",
       "      <td>...</td>\n",
       "      <td>...</td>\n",
       "      <td>...</td>\n",
       "      <td>...</td>\n",
       "      <td>...</td>\n",
       "      <td>...</td>\n",
       "      <td>...</td>\n",
       "      <td>...</td>\n",
       "      <td>...</td>\n",
       "      <td>...</td>\n",
       "      <td>...</td>\n",
       "    </tr>\n",
       "    <tr>\n",
       "      <th>2145</th>\n",
       "      <td>HEINTZE, Corinne</td>\n",
       "      <td>https://itsitecoreblobvecprd.blob.core.windows...</td>\n",
       "      <td>None</td>\n",
       "      <td>None</td>\n",
       "      <td>Corinne Heintze</td>\n",
       "      <td>True</td>\n",
       "      <td>True</td>\n",
       "      <td>gmail.com</td>\n",
       "      <td>Yarriambiack Shire Council</td>\n",
       "      <td>Dunmunkle Ward</td>\n",
       "      <td>2</td>\n",
       "    </tr>\n",
       "    <tr>\n",
       "      <th>2146</th>\n",
       "      <td>McLEAN, Andrew</td>\n",
       "      <td>https://itsitecoreblobvecprd.blob.core.windows...</td>\n",
       "      <td>None</td>\n",
       "      <td>None</td>\n",
       "      <td>Andrew McLean</td>\n",
       "      <td>True</td>\n",
       "      <td>True</td>\n",
       "      <td>gmail.com</td>\n",
       "      <td>Yarriambiack Shire Council</td>\n",
       "      <td>Hopetoun Ward</td>\n",
       "      <td>2</td>\n",
       "    </tr>\n",
       "    <tr>\n",
       "      <th>2147</th>\n",
       "      <td>LEHMANN, Chris K.</td>\n",
       "      <td>https://itsitecoreblobvecprd.blob.core.windows...</td>\n",
       "      <td>None</td>\n",
       "      <td>None</td>\n",
       "      <td>Chris Lehmann</td>\n",
       "      <td>False</td>\n",
       "      <td>True</td>\n",
       "      <td>bigpond.com.au</td>\n",
       "      <td>Yarriambiack Shire Council</td>\n",
       "      <td>Hopetoun Ward</td>\n",
       "      <td>2</td>\n",
       "    </tr>\n",
       "    <tr>\n",
       "      <th>2148</th>\n",
       "      <td>KIRK, Karly</td>\n",
       "      <td>https://itsitecoreblobvecprd.blob.core.windows...</td>\n",
       "      <td>None</td>\n",
       "      <td>None</td>\n",
       "      <td>Karly Kirk</td>\n",
       "      <td>True</td>\n",
       "      <td>True</td>\n",
       "      <td>YAHOO.COM</td>\n",
       "      <td>Yarriambiack Shire Council</td>\n",
       "      <td>Warracknabeal Ward</td>\n",
       "      <td>2</td>\n",
       "    </tr>\n",
       "    <tr>\n",
       "      <th>2149</th>\n",
       "      <td>ZANKER, Kylie</td>\n",
       "      <td>https://itsitecoreblobvecprd.blob.core.windows...</td>\n",
       "      <td>None</td>\n",
       "      <td>None</td>\n",
       "      <td>Kylie ZANKER</td>\n",
       "      <td>True</td>\n",
       "      <td>True</td>\n",
       "      <td>gmail.com</td>\n",
       "      <td>Yarriambiack Shire Council</td>\n",
       "      <td>Warracknabeal Ward</td>\n",
       "      <td>2</td>\n",
       "    </tr>\n",
       "  </tbody>\n",
       "</table>\n",
       "<p>2150 rows × 11 columns</p>\n",
       "</div>"
      ],
      "text/plain": [
       "                    name                                          questions  \\\n",
       "0         ANDERSEN, John  https://itsitecoreblobvecprd.blob.core.windows...   \n",
       "1           SMITH, Peter                                               None   \n",
       "2     RONCO, Jean-Pierre  https://itsitecoreblobvecprd.blob.core.windows...   \n",
       "3           BYRNE, David  https://itsitecoreblobvecprd.blob.core.windows...   \n",
       "4        McDONALD, Bruce  https://itsitecoreblobvecprd.blob.core.windows...   \n",
       "...                  ...                                                ...   \n",
       "2145    HEINTZE, Corinne  https://itsitecoreblobvecprd.blob.core.windows...   \n",
       "2146      McLEAN, Andrew  https://itsitecoreblobvecprd.blob.core.windows...   \n",
       "2147   LEHMANN, Chris K.  https://itsitecoreblobvecprd.blob.core.windows...   \n",
       "2148         KIRK, Karly  https://itsitecoreblobvecprd.blob.core.windows...   \n",
       "2149       ZANKER, Kylie  https://itsitecoreblobvecprd.blob.core.windows...   \n",
       "\n",
       "                                                  photo  \\\n",
       "0     https://itsitecoreblobvecprd.blob.core.windows...   \n",
       "1     https://itsitecoreblobvecprd.blob.core.windows...   \n",
       "2     https://itsitecoreblobvecprd.blob.core.windows...   \n",
       "3     https://itsitecoreblobvecprd.blob.core.windows...   \n",
       "4     https://itsitecoreblobvecprd.blob.core.windows...   \n",
       "...                                                 ...   \n",
       "2145                                               None   \n",
       "2146                                               None   \n",
       "2147                                               None   \n",
       "2148                                               None   \n",
       "2149                                               None   \n",
       "\n",
       "                                              statement  \\\n",
       "0     My name is John Andersen, also known as Snowy....   \n",
       "1     My name is Peter Smith. I am a 54 year old res...   \n",
       "2     As a candidate at the Alpine Shire Council ele...   \n",
       "3     My name is David Byrne. Ten years ago, my fami...   \n",
       "4     A resident of Bright with a no-nonsense, down ...   \n",
       "...                                                 ...   \n",
       "2145                                               None   \n",
       "2146                                               None   \n",
       "2147                                               None   \n",
       "2148                                               None   \n",
       "2149                                               None   \n",
       "\n",
       "                 contact_name  has_phone  has_email  \\\n",
       "0               John Andersen       True       True   \n",
       "1                 Peter Smith       True       True   \n",
       "2     Jean-Pierre Louis Ronco       True       True   \n",
       "3                 David Byrne       True       True   \n",
       "4              Bruce McDonald       True       True   \n",
       "...                       ...        ...        ...   \n",
       "2145          Corinne Heintze       True       True   \n",
       "2146            Andrew McLean       True       True   \n",
       "2147            Chris Lehmann      False       True   \n",
       "2148               Karly Kirk       True       True   \n",
       "2149             Kylie ZANKER       True       True   \n",
       "\n",
       "                      email_domain                     council  \\\n",
       "0                     yahoo.com.au        Alpine Shire Council   \n",
       "1     expressfinanceoptions.com.au        Alpine Shire Council   \n",
       "2                      hotmail.com        Alpine Shire Council   \n",
       "3                   arderns.com.au        Alpine Shire Council   \n",
       "4                        gmail.com        Alpine Shire Council   \n",
       "...                            ...                         ...   \n",
       "2145                     gmail.com  Yarriambiack Shire Council   \n",
       "2146                     gmail.com  Yarriambiack Shire Council   \n",
       "2147                bigpond.com.au  Yarriambiack Shire Council   \n",
       "2148                     YAHOO.COM  Yarriambiack Shire Council   \n",
       "2149                     gmail.com  Yarriambiack Shire Council   \n",
       "\n",
       "                      ward  vacancies  \n",
       "0     Alpine Shire Council          7  \n",
       "1     Alpine Shire Council          7  \n",
       "2     Alpine Shire Council          7  \n",
       "3     Alpine Shire Council          7  \n",
       "4     Alpine Shire Council          7  \n",
       "...                    ...        ...  \n",
       "2145        Dunmunkle Ward          2  \n",
       "2146         Hopetoun Ward          2  \n",
       "2147         Hopetoun Ward          2  \n",
       "2148    Warracknabeal Ward          2  \n",
       "2149    Warracknabeal Ward          2  \n",
       "\n",
       "[2150 rows x 11 columns]"
      ]
     },
     "execution_count": 47,
     "metadata": {},
     "output_type": "execute_result"
    }
   ],
   "source": [
    "df_candidate = pd.DataFrame(candidates).drop('contact', axis=1)\n",
    "df_candidate = pd.concat([df_candidate.drop('ward', axis=1),\n",
    "                          df_contact_details,\n",
    "                          pd.json_normalize(df_candidate['ward'])],\n",
    "                         axis=1)\n",
    "df_candidate"
   ]
  },
  {
   "cell_type": "markdown",
   "id": "60a20182-2d32-4a23-a52d-e3a9d0534c2e",
   "metadata": {},
   "source": [
    "All of the candidates within a council are unique:"
   ]
  },
  {
   "cell_type": "code",
   "execution_count": 48,
   "id": "a0d8866b-35a6-41cf-a0ad-dc070f34ca67",
   "metadata": {},
   "outputs": [
    {
     "data": {
      "text/plain": [
       "False"
      ]
     },
     "execution_count": 48,
     "metadata": {},
     "output_type": "execute_result"
    }
   ],
   "source": [
    "df_candidate[['council', 'name']].duplicated().any()"
   ]
  },
  {
   "cell_type": "markdown",
   "id": "cf16f087-eb8e-49d4-ba55-27142560cda2",
   "metadata": {},
   "source": [
    "Although some common names occur in different councils:"
   ]
  },
  {
   "cell_type": "code",
   "execution_count": 49,
   "id": "e621f1d1-86ac-4143-8897-d47fa91e36f3",
   "metadata": {},
   "outputs": [
    {
     "data": {
      "text/html": [
       "<div>\n",
       "<style scoped>\n",
       "    .dataframe tbody tr th:only-of-type {\n",
       "        vertical-align: middle;\n",
       "    }\n",
       "\n",
       "    .dataframe tbody tr th {\n",
       "        vertical-align: top;\n",
       "    }\n",
       "\n",
       "    .dataframe thead th {\n",
       "        text-align: right;\n",
       "    }\n",
       "</style>\n",
       "<table border=\"1\" class=\"dataframe\">\n",
       "  <thead>\n",
       "    <tr style=\"text-align: right;\">\n",
       "      <th></th>\n",
       "      <th>name</th>\n",
       "      <th>council</th>\n",
       "      <th>ward</th>\n",
       "    </tr>\n",
       "  </thead>\n",
       "  <tbody>\n",
       "    <tr>\n",
       "      <th>1553</th>\n",
       "      <td>CLARK, David</td>\n",
       "      <td>Moyne Shire Council</td>\n",
       "      <td>Moyne Shire Council</td>\n",
       "    </tr>\n",
       "    <tr>\n",
       "      <th>1680</th>\n",
       "      <td>CLARK, David</td>\n",
       "      <td>Pyrenees Shire Council</td>\n",
       "      <td>Ercildoune Ward</td>\n",
       "    </tr>\n",
       "    <tr>\n",
       "      <th>851</th>\n",
       "      <td>CLARK, Tony</td>\n",
       "      <td>Hepburn Shire Council</td>\n",
       "      <td>Hepburn Shire Council</td>\n",
       "    </tr>\n",
       "    <tr>\n",
       "      <th>867</th>\n",
       "      <td>CLARK, Tony</td>\n",
       "      <td>Hindmarsh Shire Council</td>\n",
       "      <td>North Ward</td>\n",
       "    </tr>\n",
       "    <tr>\n",
       "      <th>49</th>\n",
       "      <td>HARRIS, Mark</td>\n",
       "      <td>Ballarat City Council</td>\n",
       "      <td>Golden Point Ward</td>\n",
       "    </tr>\n",
       "    <tr>\n",
       "      <th>1439</th>\n",
       "      <td>HARRIS, Mark</td>\n",
       "      <td>Moonee Valley City Council</td>\n",
       "      <td>Airport Ward</td>\n",
       "    </tr>\n",
       "    <tr>\n",
       "      <th>33</th>\n",
       "      <td>JONES, Mark</td>\n",
       "      <td>Ballarat City Council</td>\n",
       "      <td>Buninyong Ward</td>\n",
       "    </tr>\n",
       "    <tr>\n",
       "      <th>218</th>\n",
       "      <td>JONES, Mark</td>\n",
       "      <td>Benalla Rural City Council</td>\n",
       "      <td>Benalla Rural City Council</td>\n",
       "    </tr>\n",
       "    <tr>\n",
       "      <th>361</th>\n",
       "      <td>OWEN, Brett</td>\n",
       "      <td>Cardinia Shire Council</td>\n",
       "      <td>Beacon Hills Ward</td>\n",
       "    </tr>\n",
       "    <tr>\n",
       "      <th>1373</th>\n",
       "      <td>OWEN, Brett</td>\n",
       "      <td>Mitchell Shire Council</td>\n",
       "      <td>Central Ward</td>\n",
       "    </tr>\n",
       "    <tr>\n",
       "      <th>194</th>\n",
       "      <td>SMITH, Greg</td>\n",
       "      <td>Bayside City Council</td>\n",
       "      <td>Dendy Ward</td>\n",
       "    </tr>\n",
       "    <tr>\n",
       "      <th>1870</th>\n",
       "      <td>SMITH, Greg</td>\n",
       "      <td>Whitehorse City Council</td>\n",
       "      <td>Kingsley Ward</td>\n",
       "    </tr>\n",
       "    <tr>\n",
       "      <th>159</th>\n",
       "      <td>WILLIAMS, David</td>\n",
       "      <td>Bayside City Council</td>\n",
       "      <td>Boyd Ward</td>\n",
       "    </tr>\n",
       "    <tr>\n",
       "      <th>958</th>\n",
       "      <td>WILLIAMS, David</td>\n",
       "      <td>Hume City Council</td>\n",
       "      <td>Roxburgh Park Ward</td>\n",
       "    </tr>\n",
       "    <tr>\n",
       "      <th>1441</th>\n",
       "      <td>WRIGHT, David</td>\n",
       "      <td>Moonee Valley City Council</td>\n",
       "      <td>Airport Ward</td>\n",
       "    </tr>\n",
       "    <tr>\n",
       "      <th>1658</th>\n",
       "      <td>WRIGHT, David</td>\n",
       "      <td>Port Phillip City Council</td>\n",
       "      <td>Port Melbourne Ward</td>\n",
       "    </tr>\n",
       "  </tbody>\n",
       "</table>\n",
       "</div>"
      ],
      "text/plain": [
       "                 name                     council                        ward\n",
       "1553     CLARK, David         Moyne Shire Council         Moyne Shire Council\n",
       "1680     CLARK, David      Pyrenees Shire Council             Ercildoune Ward\n",
       "851       CLARK, Tony       Hepburn Shire Council       Hepburn Shire Council\n",
       "867       CLARK, Tony     Hindmarsh Shire Council                  North Ward\n",
       "49       HARRIS, Mark       Ballarat City Council           Golden Point Ward\n",
       "1439     HARRIS, Mark  Moonee Valley City Council                Airport Ward\n",
       "33        JONES, Mark       Ballarat City Council              Buninyong Ward\n",
       "218       JONES, Mark  Benalla Rural City Council  Benalla Rural City Council\n",
       "361       OWEN, Brett      Cardinia Shire Council           Beacon Hills Ward\n",
       "1373      OWEN, Brett      Mitchell Shire Council                Central Ward\n",
       "194       SMITH, Greg        Bayside City Council                  Dendy Ward\n",
       "1870      SMITH, Greg     Whitehorse City Council               Kingsley Ward\n",
       "159   WILLIAMS, David        Bayside City Council                   Boyd Ward\n",
       "958   WILLIAMS, David           Hume City Council          Roxburgh Park Ward\n",
       "1441    WRIGHT, David  Moonee Valley City Council                Airport Ward\n",
       "1658    WRIGHT, David   Port Phillip City Council         Port Melbourne Ward"
      ]
     },
     "execution_count": 49,
     "metadata": {},
     "output_type": "execute_result"
    }
   ],
   "source": [
    "(df_candidate[df_candidate['name'].duplicated(keep=False)][['name', 'council', 'ward']]\n",
    " .sort_values(['name', 'council', 'ward']))"
   ]
  },
  {
   "cell_type": "markdown",
   "id": "42b8a23b-067d-474e-98d2-2bd295b4d20c",
   "metadata": {},
   "source": [
    "Most candidates filled out the questionnaire, and they are all different:"
   ]
  },
  {
   "cell_type": "code",
   "execution_count": 50,
   "id": "84a63a13-6f7d-4e66-900c-884544182d8e",
   "metadata": {},
   "outputs": [
    {
     "data": {
      "text/plain": [
       "'93.95% of candidates have a questionnaire'"
      ]
     },
     "execution_count": 50,
     "metadata": {},
     "output_type": "execute_result"
    }
   ],
   "source": [
    "p_has_questionnaire_url = 1-df_candidate['questions'].isna().mean()\n",
    "\n",
    "assert not df_candidate['questions'].dropna().duplicated().any()\n",
    "\n",
    "f\"{p_has_questionnaire_url:0.2%} of candidates have a questionnaire\""
   ]
  },
  {
   "cell_type": "markdown",
   "id": "5d52dd74-c062-4aa4-85b9-c850e5027d5e",
   "metadata": {},
   "source": [
    "And most of them provided a photo:"
   ]
  },
  {
   "cell_type": "code",
   "execution_count": 51,
   "id": "86325bb7-f7e1-4642-80d8-002a141f4974",
   "metadata": {},
   "outputs": [
    {
     "data": {
      "text/plain": [
       "'96.28% of candidates have a photo'"
      ]
     },
     "execution_count": 51,
     "metadata": {},
     "output_type": "execute_result"
    }
   ],
   "source": [
    "p_has_photo_url = 1-df_candidate['photo'].isna().mean()\n",
    "\n",
    "assert not df_candidate['photo'].dropna().duplicated().any()\n",
    "\n",
    "f\"{p_has_photo_url:0.2%} of candidates have a photo\""
   ]
  },
  {
   "cell_type": "markdown",
   "id": "057dfb95-7b4c-4536-93bf-6021733693a2",
   "metadata": {},
   "source": [
    "Most candidates have a statement; I noticed when collecting the data that in unopposed wards the candidates do not have statements."
   ]
  },
  {
   "cell_type": "code",
   "execution_count": 52,
   "id": "8f8a61bf-d815-4d53-b71b-63013618cd06",
   "metadata": {},
   "outputs": [
    {
     "data": {
      "text/plain": [
       "'96.84% of candidates have a statement'"
      ]
     },
     "execution_count": 52,
     "metadata": {},
     "output_type": "execute_result"
    }
   ],
   "source": [
    "p_has_statement = 1 - df_candidate.statement.isna().mean()\n",
    "\n",
    "f\"{p_has_statement:0.2%} of candidates have a statement\""
   ]
  },
  {
   "cell_type": "markdown",
   "id": "ac31d151-f60c-4066-8272-7a07f96bbe4e",
   "metadata": {},
   "source": [
    "We can sanity check the number of characters in the candidate statement is in a reasonable range:"
   ]
  },
  {
   "cell_type": "code",
   "execution_count": 53,
   "id": "31120262-21f8-463c-9df3-64d1fe55992a",
   "metadata": {},
   "outputs": [
    {
     "data": {
      "image/png": "[encoded data removed]",
      "text/plain": [
       "<Figure size 640x480 with 1 Axes>"
      ]
     },
     "metadata": {},
     "output_type": "display_data"
    }
   ],
   "source": [
    "statement_num_char = df_candidate.statement.str.len()\n",
    "\n",
    "ax = statement_num_char.plot.hist(bins=30)\n",
    "ax.set_title('Distribution of number of characters in candidate statements');"
   ]
  },
  {
   "cell_type": "markdown",
   "id": "1b12fe94-34b8-459d-b7b1-4c1cfb011452",
   "metadata": {},
   "source": [
    "The shortest statements look legitimate (but not particularly persuasive)"
   ]
  },
  {
   "cell_type": "code",
   "execution_count": 54,
   "id": "d548187f-d14d-491e-a7aa-a6d66238249d",
   "metadata": {},
   "outputs": [
    {
     "data": {
      "text/html": [
       "<div>\n",
       "<style scoped>\n",
       "    .dataframe tbody tr th:only-of-type {\n",
       "        vertical-align: middle;\n",
       "    }\n",
       "\n",
       "    .dataframe tbody tr th {\n",
       "        vertical-align: top;\n",
       "    }\n",
       "\n",
       "    .dataframe thead th {\n",
       "        text-align: right;\n",
       "    }\n",
       "</style>\n",
       "<table border=\"1\" class=\"dataframe\">\n",
       "  <thead>\n",
       "    <tr style=\"text-align: right;\">\n",
       "      <th></th>\n",
       "      <th>name</th>\n",
       "      <th>questions</th>\n",
       "      <th>photo</th>\n",
       "      <th>statement</th>\n",
       "      <th>contact_name</th>\n",
       "      <th>has_phone</th>\n",
       "      <th>has_email</th>\n",
       "      <th>email_domain</th>\n",
       "      <th>council</th>\n",
       "      <th>ward</th>\n",
       "      <th>vacancies</th>\n",
       "    </tr>\n",
       "  </thead>\n",
       "  <tbody>\n",
       "    <tr>\n",
       "      <th>1721</th>\n",
       "      <td>MENADUE, Alan</td>\n",
       "      <td>https://itsitecoreblobvecprd.blob.core.windows...</td>\n",
       "      <td>https://itsitecoreblobvecprd.blob.core.windows...</td>\n",
       "      <td>www.alanmenadue.com</td>\n",
       "      <td>Alan Maxwell Menadue</td>\n",
       "      <td>True</td>\n",
       "      <td>True</td>\n",
       "      <td>gmail.com</td>\n",
       "      <td>Stonnington City Council</td>\n",
       "      <td>Greville Ward</td>\n",
       "      <td>1</td>\n",
       "    </tr>\n",
       "    <tr>\n",
       "      <th>2135</th>\n",
       "      <td>TALBETT, James</td>\n",
       "      <td>https://itsitecoreblobvecprd.blob.core.windows...</td>\n",
       "      <td>https://itsitecoreblobvecprd.blob.core.windows...</td>\n",
       "      <td>My policies include having a beer and watching...</td>\n",
       "      <td>James Talbett</td>\n",
       "      <td>True</td>\n",
       "      <td>False</td>\n",
       "      <td>None</td>\n",
       "      <td>Yarra Ranges Shire Council</td>\n",
       "      <td>O'Shannassy Ward</td>\n",
       "      <td>1</td>\n",
       "    </tr>\n",
       "  </tbody>\n",
       "</table>\n",
       "</div>"
      ],
      "text/plain": [
       "                name                                          questions  \\\n",
       "1721   MENADUE, Alan  https://itsitecoreblobvecprd.blob.core.windows...   \n",
       "2135  TALBETT, James  https://itsitecoreblobvecprd.blob.core.windows...   \n",
       "\n",
       "                                                  photo  \\\n",
       "1721  https://itsitecoreblobvecprd.blob.core.windows...   \n",
       "2135  https://itsitecoreblobvecprd.blob.core.windows...   \n",
       "\n",
       "                                              statement          contact_name  \\\n",
       "1721                                www.alanmenadue.com  Alan Maxwell Menadue   \n",
       "2135  My policies include having a beer and watching...         James Talbett   \n",
       "\n",
       "      has_phone  has_email email_domain                     council  \\\n",
       "1721       True       True    gmail.com    Stonnington City Council   \n",
       "2135       True      False         None  Yarra Ranges Shire Council   \n",
       "\n",
       "                  ward  vacancies  \n",
       "1721     Greville Ward          1  \n",
       "2135  O'Shannassy Ward          1  "
      ]
     },
     "execution_count": 54,
     "metadata": {},
     "output_type": "execute_result"
    }
   ],
   "source": [
    "df_candidate[statement_num_char < 75]"
   ]
  },
  {
   "cell_type": "markdown",
   "id": "71d2292d-8558-4cea-87e3-751ac54cc0c0",
   "metadata": {},
   "source": [
    "If we consider a word to be a space separated string, most of the candidate statements average 6 characters per word, except for one outlier:"
   ]
  },
  {
   "cell_type": "code",
   "execution_count": 55,
   "id": "a6a2956d-2242-47c5-b93e-f4a113a945a2",
   "metadata": {},
   "outputs": [
    {
     "data": {
      "text/plain": [
       "6.26055256228232"
      ]
     },
     "execution_count": 55,
     "metadata": {},
     "output_type": "execute_result"
    },
    {
     "data": {
      "image/png": "[encoded data removed]",
      "text/plain": [
       "<Figure size 640x480 with 1 Axes>"
      ]
     },
     "metadata": {},
     "output_type": "display_data"
    }
   ],
   "source": [
    "statement_num_word = df_candidate.statement.fillna('').str.split().map(len)\n",
    "\n",
    "plt.scatter(statement_num_word, statement_num_char)\n",
    "\n",
    "(statement_num_char / statement_num_word).dropna().mean()"
   ]
  },
  {
   "cell_type": "markdown",
   "id": "8f209027-bb15-4c3d-b050-dca46455c2e6",
   "metadata": {},
   "source": [
    "That outlier appears to have a lot of links (I hope they didn't get printed in the candidate leaflet):"
   ]
  },
  {
   "cell_type": "code",
   "execution_count": 56,
   "id": "f2314010-24f6-4632-a7bc-f19a208e0a80",
   "metadata": {},
   "outputs": [
    {
     "data": {
      "text/plain": [
       "'We need a competent, trustworthy Council that is not a variant of the old Council. November 2017: Independent Broad-based Anti-corruption Commission (IBAC), “Operation Sandon Public examinations into allegations of corruption in local government planning and property development decisions”. Tuesday 11th February 2020: City of Casey Municipal Monitor Report, Page 9 Findings, included: “In response to the intense scrutiny by IBAC and the appointment of a municipal monitor, the Councillors have prioritised protecting their reputations rather than that of the City of Casey.”, Page 10 Recommendations, included: “I therefore recommend that: 1. The Casey City Council is dismissed and administrators are appointed.”. Friday 14th February 2020: The Age newspaper, “Casey councillors desert ship as investigator recommends their sacking”. Tuesday 18th February 2020: Parliamentary Debates (Hansard), Page 295, “Her report is damning. It is damning as to the conduct of all councillors ....”; Berwick Star News newspaper, “State moves to sack Casey Council”; Local Government (Casey City Council) Act 2020, “[Assented to 19 February 2020]”; Casey Council meeting. Thursday 20th February 2020: Council dismissed. 27th July 2023: IBAC’s “Special Report”. Please refer to all references regarding the dismissal of Casey Council, (https://www.ibac.vic.gov.au/operation-sandon), (https://www.localgovernment.vic.gov.au/__data/assets/pdf_file/0031/207796/City-of-Casey-Municipal-Monitor-Report-February-2020.pdf), (https://www.theage.com.au/politics/victoria/casey-councillors-desert-ship-as-investigator-recommends-their-sacking-20200214-p540sy.html), (https://www.parliament.vic.gov.au/4a4c7d/globalassets/hansard-daily-pdfs/hansard-2145855009-5096/hansard-2145855009-5096.pdf), (https://berwicknews.starcommunity.com.au/news/2020-02-18/state-moves-to-sack-casey-council/), (https://content.legislation.vic.gov.au/sites/default/files/2020-02/20-002aa%20authorised.pdf), (https://content.legislation.vic.gov.au/sites/default/files/2020-04/20-2aa002%20authorised.pdf), (https://www.youtube.com/watch?v=ETshjEJJjOY), (https://www.casey.vic.gov.au/sites/default/files/2020-02/Agenda%20-%20Council%20Meeting%20-%20Website%20-%2018-2-20.pdf%20%28reduced%29_0.pdf), (https://www.casey.vic.gov.au/sites/default/files/2020-02/Council%20Meeting%20-%20Minutes%20-%20Website%20-%2018-2-20.pdf), (https://www.ibac.vic.gov.au/operation-sandon-special-report).'"
      ]
     },
     "execution_count": 56,
     "metadata": {},
     "output_type": "execute_result"
    }
   ],
   "source": [
    "df_candidate[df_candidate.statement.str.len() > 2000].iloc[0].statement"
   ]
  },
  {
   "cell_type": "markdown",
   "id": "7b316d5d-408c-4c8d-b7ba-c84b86cad93f",
   "metadata": {},
   "source": [
    "## Ward level statistics\n",
    "\n",
    "We can also sanity check the ward level statistics"
   ]
  },
  {
   "cell_type": "code",
   "execution_count": 57,
   "id": "8e3e76f4-5644-49f5-9aed-7969f686c573",
   "metadata": {},
   "outputs": [
    {
     "data": {
      "text/html": [
       "<div>\n",
       "<style scoped>\n",
       "    .dataframe tbody tr th:only-of-type {\n",
       "        vertical-align: middle;\n",
       "    }\n",
       "\n",
       "    .dataframe tbody tr th {\n",
       "        vertical-align: top;\n",
       "    }\n",
       "\n",
       "    .dataframe thead th {\n",
       "        text-align: right;\n",
       "    }\n",
       "</style>\n",
       "<table border=\"1\" class=\"dataframe\">\n",
       "  <thead>\n",
       "    <tr style=\"text-align: right;\">\n",
       "      <th></th>\n",
       "      <th></th>\n",
       "      <th>vacancies</th>\n",
       "      <th>candidates</th>\n",
       "    </tr>\n",
       "    <tr>\n",
       "      <th>council</th>\n",
       "      <th>ward</th>\n",
       "      <th></th>\n",
       "      <th></th>\n",
       "    </tr>\n",
       "  </thead>\n",
       "  <tbody>\n",
       "    <tr>\n",
       "      <th>Alpine Shire Council</th>\n",
       "      <th>Alpine Shire Council</th>\n",
       "      <td>7</td>\n",
       "      <td>12</td>\n",
       "    </tr>\n",
       "    <tr>\n",
       "      <th>Ararat Rural City Council</th>\n",
       "      <th>Ararat Rural City Council</th>\n",
       "      <td>7</td>\n",
       "      <td>12</td>\n",
       "    </tr>\n",
       "    <tr>\n",
       "      <th rowspan=\"3\" valign=\"top\">Ballarat City Council</th>\n",
       "      <th>Alfredton Ward</th>\n",
       "      <td>1</td>\n",
       "      <td>6</td>\n",
       "    </tr>\n",
       "    <tr>\n",
       "      <th>Brown Hill Ward</th>\n",
       "      <td>1</td>\n",
       "      <td>3</td>\n",
       "    </tr>\n",
       "    <tr>\n",
       "      <th>Buninyong Ward</th>\n",
       "      <td>1</td>\n",
       "      <td>3</td>\n",
       "    </tr>\n",
       "    <tr>\n",
       "      <th>...</th>\n",
       "      <th>...</th>\n",
       "      <td>...</td>\n",
       "      <td>...</td>\n",
       "    </tr>\n",
       "    <tr>\n",
       "      <th rowspan=\"2\" valign=\"top\">Yarra Ranges Shire Council</th>\n",
       "      <th>Streeton Ward</th>\n",
       "      <td>1</td>\n",
       "      <td>2</td>\n",
       "    </tr>\n",
       "    <tr>\n",
       "      <th>Walling Ward</th>\n",
       "      <td>1</td>\n",
       "      <td>2</td>\n",
       "    </tr>\n",
       "    <tr>\n",
       "      <th rowspan=\"3\" valign=\"top\">Yarriambiack Shire Council</th>\n",
       "      <th>Dunmunkle Ward</th>\n",
       "      <td>2</td>\n",
       "      <td>2</td>\n",
       "    </tr>\n",
       "    <tr>\n",
       "      <th>Hopetoun Ward</th>\n",
       "      <td>2</td>\n",
       "      <td>2</td>\n",
       "    </tr>\n",
       "    <tr>\n",
       "      <th>Warracknabeal Ward</th>\n",
       "      <td>2</td>\n",
       "      <td>2</td>\n",
       "    </tr>\n",
       "  </tbody>\n",
       "</table>\n",
       "<p>464 rows × 2 columns</p>\n",
       "</div>"
      ],
      "text/plain": [
       "                                                      vacancies  candidates\n",
       "council                    ward                                            \n",
       "Alpine Shire Council       Alpine Shire Council               7          12\n",
       "Ararat Rural City Council  Ararat Rural City Council          7          12\n",
       "Ballarat City Council      Alfredton Ward                     1           6\n",
       "                           Brown Hill Ward                    1           3\n",
       "                           Buninyong Ward                     1           3\n",
       "...                                                         ...         ...\n",
       "Yarra Ranges Shire Council Streeton Ward                      1           2\n",
       "                           Walling Ward                       1           2\n",
       "Yarriambiack Shire Council Dunmunkle Ward                     2           2\n",
       "                           Hopetoun Ward                      2           2\n",
       "                           Warracknabeal Ward                 2           2\n",
       "\n",
       "[464 rows x 2 columns]"
      ]
     },
     "execution_count": 57,
     "metadata": {},
     "output_type": "execute_result"
    }
   ],
   "source": [
    "ward_stats = df_candidate.groupby(['council', 'ward']).agg(vacancies = ('vacancies', 'max'), candidates=('name', 'count'))\n",
    "ward_stats"
   ]
  },
  {
   "cell_type": "markdown",
   "id": "19792036-dcbc-4711-bdbf-b57efb00a479",
   "metadata": {},
   "source": [
    "Because of the Local Government Act 2020 the metropolitan wards, which are the majority, have only 1 vacancy."
   ]
  },
  {
   "cell_type": "code",
   "execution_count": 58,
   "id": "4119609b-eebb-45ce-bd43-e966fda7d498",
   "metadata": {},
   "outputs": [
    {
     "data": {
      "text/plain": [
       "1    411\n",
       "3     21\n",
       "7     13\n",
       "2     12\n",
       "5      4\n",
       "9      3\n",
       "Name: vacancies, dtype: int64"
      ]
     },
     "execution_count": 58,
     "metadata": {},
     "output_type": "execute_result"
    }
   ],
   "source": [
    "ward_stats['vacancies'].value_counts()"
   ]
  },
  {
   "cell_type": "markdown",
   "id": "b0b17c28-7b54-4b53-b302-51a0c6ca69ba",
   "metadata": {},
   "source": [
    "Most wards have 2 or 3 candidates, with a long tail."
   ]
  },
  {
   "cell_type": "code",
   "execution_count": 59,
   "id": "f960d99a-e050-442b-b3dd-7adff7c10ba9",
   "metadata": {},
   "outputs": [
    {
     "data": {
      "image/png": "[encoded data removed]",
      "text/plain": [
       "<Figure size 640x480 with 1 Axes>"
      ]
     },
     "metadata": {},
     "output_type": "display_data"
    }
   ],
   "source": [
    "ax = plt.bar(*zip(*Counter(ward_stats['candidates']).items()))\n",
    "plt.xticks(range(1, 25, 1));"
   ]
  },
  {
   "cell_type": "markdown",
   "id": "65ad2301-01d1-4979-965b-d5da150631a8",
   "metadata": {},
   "source": [
    "Some waards are uncontested, with as many vacancies as candidates, and others are very hotly contested, for examply Dendy Ward in Bayside Council has 18 candidates for its 1 seat."
   ]
  },
  {
   "cell_type": "code",
   "execution_count": 60,
   "id": "b7e0b8d9-d250-45e3-b057-86a1e060fb68",
   "metadata": {},
   "outputs": [
    {
     "data": {
      "text/html": [
       "<div>\n",
       "<style scoped>\n",
       "    .dataframe tbody tr th:only-of-type {\n",
       "        vertical-align: middle;\n",
       "    }\n",
       "\n",
       "    .dataframe tbody tr th {\n",
       "        vertical-align: top;\n",
       "    }\n",
       "\n",
       "    .dataframe thead th {\n",
       "        text-align: right;\n",
       "    }\n",
       "</style>\n",
       "<table border=\"1\" class=\"dataframe\">\n",
       "  <thead>\n",
       "    <tr style=\"text-align: right;\">\n",
       "      <th></th>\n",
       "      <th></th>\n",
       "      <th>vacancies</th>\n",
       "      <th>candidates</th>\n",
       "      <th>candidates_per_vacancy</th>\n",
       "    </tr>\n",
       "    <tr>\n",
       "      <th>council</th>\n",
       "      <th>ward</th>\n",
       "      <th></th>\n",
       "      <th></th>\n",
       "      <th></th>\n",
       "    </tr>\n",
       "  </thead>\n",
       "  <tbody>\n",
       "    <tr>\n",
       "      <th>Loddon Shire Council</th>\n",
       "      <th>Wedderburn Ward</th>\n",
       "      <td>1</td>\n",
       "      <td>1</td>\n",
       "      <td>1.0</td>\n",
       "    </tr>\n",
       "    <tr>\n",
       "      <th>Latrobe City Council</th>\n",
       "      <th>Newborough Ward</th>\n",
       "      <td>1</td>\n",
       "      <td>1</td>\n",
       "      <td>1.0</td>\n",
       "    </tr>\n",
       "    <tr>\n",
       "      <th rowspan=\"2\" valign=\"top\">Horsham Rural City Council</th>\n",
       "      <th>Wyn Wyn Ward</th>\n",
       "      <td>1</td>\n",
       "      <td>1</td>\n",
       "      <td>1.0</td>\n",
       "    </tr>\n",
       "    <tr>\n",
       "      <th>Kalimna Ward</th>\n",
       "      <td>1</td>\n",
       "      <td>1</td>\n",
       "      <td>1.0</td>\n",
       "    </tr>\n",
       "    <tr>\n",
       "      <th>Hindmarsh Shire Council</th>\n",
       "      <th>West Ward</th>\n",
       "      <td>2</td>\n",
       "      <td>2</td>\n",
       "      <td>1.0</td>\n",
       "    </tr>\n",
       "    <tr>\n",
       "      <th>...</th>\n",
       "      <th>...</th>\n",
       "      <td>...</td>\n",
       "      <td>...</td>\n",
       "      <td>...</td>\n",
       "    </tr>\n",
       "    <tr>\n",
       "      <th rowspan=\"3\" valign=\"top\">Wyndham City Council</th>\n",
       "      <th>Williams Landing Ward</th>\n",
       "      <td>1</td>\n",
       "      <td>12</td>\n",
       "      <td>12.0</td>\n",
       "    </tr>\n",
       "    <tr>\n",
       "      <th>Wimba Ward</th>\n",
       "      <td>1</td>\n",
       "      <td>12</td>\n",
       "      <td>12.0</td>\n",
       "    </tr>\n",
       "    <tr>\n",
       "      <th>Bemin Ward</th>\n",
       "      <td>1</td>\n",
       "      <td>15</td>\n",
       "      <td>15.0</td>\n",
       "    </tr>\n",
       "    <tr>\n",
       "      <th rowspan=\"2\" valign=\"top\">Bayside City Council</th>\n",
       "      <th>Castlefield Ward</th>\n",
       "      <td>1</td>\n",
       "      <td>15</td>\n",
       "      <td>15.0</td>\n",
       "    </tr>\n",
       "    <tr>\n",
       "      <th>Dendy Ward</th>\n",
       "      <td>1</td>\n",
       "      <td>18</td>\n",
       "      <td>18.0</td>\n",
       "    </tr>\n",
       "  </tbody>\n",
       "</table>\n",
       "<p>464 rows × 3 columns</p>\n",
       "</div>"
      ],
      "text/plain": [
       "                                                  vacancies  candidates  \\\n",
       "council                    ward                                           \n",
       "Loddon Shire Council       Wedderburn Ward                1           1   \n",
       "Latrobe City Council       Newborough Ward                1           1   \n",
       "Horsham Rural City Council Wyn Wyn Ward                   1           1   \n",
       "                           Kalimna Ward                   1           1   \n",
       "Hindmarsh Shire Council    West Ward                      2           2   \n",
       "...                                                     ...         ...   \n",
       "Wyndham City Council       Williams Landing Ward          1          12   \n",
       "                           Wimba Ward                     1          12   \n",
       "                           Bemin Ward                     1          15   \n",
       "Bayside City Council       Castlefield Ward               1          15   \n",
       "                           Dendy Ward                     1          18   \n",
       "\n",
       "                                                  candidates_per_vacancy  \n",
       "council                    ward                                           \n",
       "Loddon Shire Council       Wedderburn Ward                           1.0  \n",
       "Latrobe City Council       Newborough Ward                           1.0  \n",
       "Horsham Rural City Council Wyn Wyn Ward                              1.0  \n",
       "                           Kalimna Ward                              1.0  \n",
       "Hindmarsh Shire Council    West Ward                                 1.0  \n",
       "...                                                                  ...  \n",
       "Wyndham City Council       Williams Landing Ward                    12.0  \n",
       "                           Wimba Ward                               12.0  \n",
       "                           Bemin Ward                               15.0  \n",
       "Bayside City Council       Castlefield Ward                         15.0  \n",
       "                           Dendy Ward                               18.0  \n",
       "\n",
       "[464 rows x 3 columns]"
      ]
     },
     "execution_count": 60,
     "metadata": {},
     "output_type": "execute_result"
    }
   ],
   "source": [
    "ward_stats['candidates_per_vacancy'] = ward_stats['candidates'] / ward_stats['vacancies']\n",
    "ward_stats.sort_values('candidates_per_vacancy')"
   ]
  },
  {
   "cell_type": "markdown",
   "id": "b93e3321-6095-42be-b575-fcd9b9b49568",
   "metadata": {},
   "source": [
    "In fact there are a large number of uncontested wards:"
   ]
  },
  {
   "cell_type": "code",
   "execution_count": 61,
   "id": "5801ee0a-ebdf-4709-81ca-ad538a0611c0",
   "metadata": {},
   "outputs": [
    {
     "data": {
      "text/html": [
       "<div>\n",
       "<style scoped>\n",
       "    .dataframe tbody tr th:only-of-type {\n",
       "        vertical-align: middle;\n",
       "    }\n",
       "\n",
       "    .dataframe tbody tr th {\n",
       "        vertical-align: top;\n",
       "    }\n",
       "\n",
       "    .dataframe thead th {\n",
       "        text-align: right;\n",
       "    }\n",
       "</style>\n",
       "<table border=\"1\" class=\"dataframe\">\n",
       "  <thead>\n",
       "    <tr style=\"text-align: right;\">\n",
       "      <th></th>\n",
       "      <th></th>\n",
       "      <th>vacancies</th>\n",
       "      <th>candidates</th>\n",
       "      <th>candidates_per_vacancy</th>\n",
       "    </tr>\n",
       "    <tr>\n",
       "      <th>council</th>\n",
       "      <th>ward</th>\n",
       "      <th></th>\n",
       "      <th></th>\n",
       "      <th></th>\n",
       "    </tr>\n",
       "  </thead>\n",
       "  <tbody>\n",
       "    <tr>\n",
       "      <th>Banyule City Council</th>\n",
       "      <th>Beale Ward</th>\n",
       "      <td>1</td>\n",
       "      <td>1</td>\n",
       "      <td>1.0</td>\n",
       "    </tr>\n",
       "    <tr>\n",
       "      <th>Buloke Shire Council</th>\n",
       "      <th>Mallee Ward</th>\n",
       "      <td>2</td>\n",
       "      <td>2</td>\n",
       "      <td>1.0</td>\n",
       "    </tr>\n",
       "    <tr>\n",
       "      <th>Cardinia Shire Council</th>\n",
       "      <th>Pakenham Hills Ward</th>\n",
       "      <td>1</td>\n",
       "      <td>1</td>\n",
       "      <td>1.0</td>\n",
       "    </tr>\n",
       "    <tr>\n",
       "      <th rowspan=\"2\" valign=\"top\">Central Goldfields Shire Council</th>\n",
       "      <th>Maryborough West Ward</th>\n",
       "      <td>1</td>\n",
       "      <td>1</td>\n",
       "      <td>1.0</td>\n",
       "    </tr>\n",
       "    <tr>\n",
       "      <th>Tullaroop Ward</th>\n",
       "      <td>1</td>\n",
       "      <td>1</td>\n",
       "      <td>1.0</td>\n",
       "    </tr>\n",
       "    <tr>\n",
       "      <th rowspan=\"6\" valign=\"top\">Corangamite Shire Council</th>\n",
       "      <th>Cooriemungle Ward</th>\n",
       "      <td>1</td>\n",
       "      <td>1</td>\n",
       "      <td>1.0</td>\n",
       "    </tr>\n",
       "    <tr>\n",
       "      <th>Gnotuk Ward</th>\n",
       "      <td>1</td>\n",
       "      <td>1</td>\n",
       "      <td>1.0</td>\n",
       "    </tr>\n",
       "    <tr>\n",
       "      <th>Lake Elingamite Ward</th>\n",
       "      <td>1</td>\n",
       "      <td>1</td>\n",
       "      <td>1.0</td>\n",
       "    </tr>\n",
       "    <tr>\n",
       "      <th>Lake Keilambete Ward</th>\n",
       "      <td>1</td>\n",
       "      <td>1</td>\n",
       "      <td>1.0</td>\n",
       "    </tr>\n",
       "    <tr>\n",
       "      <th>Leura Ward</th>\n",
       "      <td>1</td>\n",
       "      <td>1</td>\n",
       "      <td>1.0</td>\n",
       "    </tr>\n",
       "    <tr>\n",
       "      <th>Mt Elephant Ward</th>\n",
       "      <td>1</td>\n",
       "      <td>1</td>\n",
       "      <td>1.0</td>\n",
       "    </tr>\n",
       "    <tr>\n",
       "      <th>Greater Bendigo City Council</th>\n",
       "      <th>Epsom Ward</th>\n",
       "      <td>1</td>\n",
       "      <td>1</td>\n",
       "      <td>1.0</td>\n",
       "    </tr>\n",
       "    <tr>\n",
       "      <th>Greater Dandenong City Council</th>\n",
       "      <th>Noble Park Ward</th>\n",
       "      <td>1</td>\n",
       "      <td>1</td>\n",
       "      <td>1.0</td>\n",
       "    </tr>\n",
       "    <tr>\n",
       "      <th rowspan=\"2\" valign=\"top\">Greater Shepparton City Council</th>\n",
       "      <th>Midland Ward</th>\n",
       "      <td>1</td>\n",
       "      <td>1</td>\n",
       "      <td>1.0</td>\n",
       "    </tr>\n",
       "    <tr>\n",
       "      <th>Poplar Ward</th>\n",
       "      <td>1</td>\n",
       "      <td>1</td>\n",
       "      <td>1.0</td>\n",
       "    </tr>\n",
       "    <tr>\n",
       "      <th>Hindmarsh Shire Council</th>\n",
       "      <th>West Ward</th>\n",
       "      <td>2</td>\n",
       "      <td>2</td>\n",
       "      <td>1.0</td>\n",
       "    </tr>\n",
       "    <tr>\n",
       "      <th rowspan=\"2\" valign=\"top\">Horsham Rural City Council</th>\n",
       "      <th>Kalimna Ward</th>\n",
       "      <td>1</td>\n",
       "      <td>1</td>\n",
       "      <td>1.0</td>\n",
       "    </tr>\n",
       "    <tr>\n",
       "      <th>Wyn Wyn Ward</th>\n",
       "      <td>1</td>\n",
       "      <td>1</td>\n",
       "      <td>1.0</td>\n",
       "    </tr>\n",
       "    <tr>\n",
       "      <th>Latrobe City Council</th>\n",
       "      <th>Newborough Ward</th>\n",
       "      <td>1</td>\n",
       "      <td>1</td>\n",
       "      <td>1.0</td>\n",
       "    </tr>\n",
       "    <tr>\n",
       "      <th rowspan=\"3\" valign=\"top\">Loddon Shire Council</th>\n",
       "      <th>Boort Ward</th>\n",
       "      <td>1</td>\n",
       "      <td>1</td>\n",
       "      <td>1.0</td>\n",
       "    </tr>\n",
       "    <tr>\n",
       "      <th>Terrick Ward</th>\n",
       "      <td>1</td>\n",
       "      <td>1</td>\n",
       "      <td>1.0</td>\n",
       "    </tr>\n",
       "    <tr>\n",
       "      <th>Wedderburn Ward</th>\n",
       "      <td>1</td>\n",
       "      <td>1</td>\n",
       "      <td>1.0</td>\n",
       "    </tr>\n",
       "    <tr>\n",
       "      <th rowspan=\"2\" valign=\"top\">Manningham City Council</th>\n",
       "      <th>Tullamore Ward</th>\n",
       "      <td>1</td>\n",
       "      <td>1</td>\n",
       "      <td>1.0</td>\n",
       "    </tr>\n",
       "    <tr>\n",
       "      <th>Yarra Ward</th>\n",
       "      <td>1</td>\n",
       "      <td>1</td>\n",
       "      <td>1.0</td>\n",
       "    </tr>\n",
       "    <tr>\n",
       "      <th rowspan=\"2\" valign=\"top\">Mildura Rural City Council</th>\n",
       "      <th>Karadoc Ward</th>\n",
       "      <td>1</td>\n",
       "      <td>1</td>\n",
       "      <td>1.0</td>\n",
       "    </tr>\n",
       "    <tr>\n",
       "      <th>Sunset Country Ward</th>\n",
       "      <td>1</td>\n",
       "      <td>1</td>\n",
       "      <td>1.0</td>\n",
       "    </tr>\n",
       "    <tr>\n",
       "      <th>Monash City Council</th>\n",
       "      <th>Gallaghers Ward</th>\n",
       "      <td>1</td>\n",
       "      <td>1</td>\n",
       "      <td>1.0</td>\n",
       "    </tr>\n",
       "    <tr>\n",
       "      <th rowspan=\"5\" valign=\"top\">Mount Alexander Shire Council</th>\n",
       "      <th>Barkers Creek Ward</th>\n",
       "      <td>1</td>\n",
       "      <td>1</td>\n",
       "      <td>1.0</td>\n",
       "    </tr>\n",
       "    <tr>\n",
       "      <th>Forest Creek Ward</th>\n",
       "      <td>1</td>\n",
       "      <td>1</td>\n",
       "      <td>1.0</td>\n",
       "    </tr>\n",
       "    <tr>\n",
       "      <th>Loddon River Ward</th>\n",
       "      <td>1</td>\n",
       "      <td>1</td>\n",
       "      <td>1.0</td>\n",
       "    </tr>\n",
       "    <tr>\n",
       "      <th>Moonlight Creek Ward</th>\n",
       "      <td>1</td>\n",
       "      <td>1</td>\n",
       "      <td>1.0</td>\n",
       "    </tr>\n",
       "    <tr>\n",
       "      <th>Tarrengower Ward</th>\n",
       "      <td>1</td>\n",
       "      <td>1</td>\n",
       "      <td>1.0</td>\n",
       "    </tr>\n",
       "    <tr>\n",
       "      <th rowspan=\"2\" valign=\"top\">Wangaratta Rural City Council</th>\n",
       "      <th>King River Ward</th>\n",
       "      <td>1</td>\n",
       "      <td>1</td>\n",
       "      <td>1.0</td>\n",
       "    </tr>\n",
       "    <tr>\n",
       "      <th>Warby Ward</th>\n",
       "      <td>1</td>\n",
       "      <td>1</td>\n",
       "      <td>1.0</td>\n",
       "    </tr>\n",
       "    <tr>\n",
       "      <th rowspan=\"3\" valign=\"top\">Warrnambool City Council</th>\n",
       "      <th>Botanic Ward</th>\n",
       "      <td>1</td>\n",
       "      <td>1</td>\n",
       "      <td>1.0</td>\n",
       "    </tr>\n",
       "    <tr>\n",
       "      <th>Russells Creek Ward</th>\n",
       "      <td>1</td>\n",
       "      <td>1</td>\n",
       "      <td>1.0</td>\n",
       "    </tr>\n",
       "    <tr>\n",
       "      <th>Wollaston Ward</th>\n",
       "      <td>1</td>\n",
       "      <td>1</td>\n",
       "      <td>1.0</td>\n",
       "    </tr>\n",
       "    <tr>\n",
       "      <th rowspan=\"2\" valign=\"top\">Yarra Ranges Shire Council</th>\n",
       "      <th>Chirnside Ward</th>\n",
       "      <td>1</td>\n",
       "      <td>1</td>\n",
       "      <td>1.0</td>\n",
       "    </tr>\n",
       "    <tr>\n",
       "      <th>Ryrie Ward</th>\n",
       "      <td>1</td>\n",
       "      <td>1</td>\n",
       "      <td>1.0</td>\n",
       "    </tr>\n",
       "    <tr>\n",
       "      <th rowspan=\"3\" valign=\"top\">Yarriambiack Shire Council</th>\n",
       "      <th>Dunmunkle Ward</th>\n",
       "      <td>2</td>\n",
       "      <td>2</td>\n",
       "      <td>1.0</td>\n",
       "    </tr>\n",
       "    <tr>\n",
       "      <th>Hopetoun Ward</th>\n",
       "      <td>2</td>\n",
       "      <td>2</td>\n",
       "      <td>1.0</td>\n",
       "    </tr>\n",
       "    <tr>\n",
       "      <th>Warracknabeal Ward</th>\n",
       "      <td>2</td>\n",
       "      <td>2</td>\n",
       "      <td>1.0</td>\n",
       "    </tr>\n",
       "  </tbody>\n",
       "</table>\n",
       "</div>"
      ],
      "text/plain": [
       "                                                        vacancies  candidates  \\\n",
       "council                          ward                                           \n",
       "Banyule City Council             Beale Ward                     1           1   \n",
       "Buloke Shire Council             Mallee Ward                    2           2   \n",
       "Cardinia Shire Council           Pakenham Hills Ward            1           1   \n",
       "Central Goldfields Shire Council Maryborough West Ward          1           1   \n",
       "                                 Tullaroop Ward                 1           1   \n",
       "Corangamite Shire Council        Cooriemungle Ward              1           1   \n",
       "                                 Gnotuk Ward                    1           1   \n",
       "                                 Lake Elingamite Ward           1           1   \n",
       "                                 Lake Keilambete Ward           1           1   \n",
       "                                 Leura Ward                     1           1   \n",
       "                                 Mt Elephant Ward               1           1   \n",
       "Greater Bendigo City Council     Epsom Ward                     1           1   \n",
       "Greater Dandenong City Council   Noble Park Ward                1           1   \n",
       "Greater Shepparton City Council  Midland Ward                   1           1   \n",
       "                                 Poplar Ward                    1           1   \n",
       "Hindmarsh Shire Council          West Ward                      2           2   \n",
       "Horsham Rural City Council       Kalimna Ward                   1           1   \n",
       "                                 Wyn Wyn Ward                   1           1   \n",
       "Latrobe City Council             Newborough Ward                1           1   \n",
       "Loddon Shire Council             Boort Ward                     1           1   \n",
       "                                 Terrick Ward                   1           1   \n",
       "                                 Wedderburn Ward                1           1   \n",
       "Manningham City Council          Tullamore Ward                 1           1   \n",
       "                                 Yarra Ward                     1           1   \n",
       "Mildura Rural City Council       Karadoc Ward                   1           1   \n",
       "                                 Sunset Country Ward            1           1   \n",
       "Monash City Council              Gallaghers Ward                1           1   \n",
       "Mount Alexander Shire Council    Barkers Creek Ward             1           1   \n",
       "                                 Forest Creek Ward              1           1   \n",
       "                                 Loddon River Ward              1           1   \n",
       "                                 Moonlight Creek Ward           1           1   \n",
       "                                 Tarrengower Ward               1           1   \n",
       "Wangaratta Rural City Council    King River Ward                1           1   \n",
       "                                 Warby Ward                     1           1   \n",
       "Warrnambool City Council         Botanic Ward                   1           1   \n",
       "                                 Russells Creek Ward            1           1   \n",
       "                                 Wollaston Ward                 1           1   \n",
       "Yarra Ranges Shire Council       Chirnside Ward                 1           1   \n",
       "                                 Ryrie Ward                     1           1   \n",
       "Yarriambiack Shire Council       Dunmunkle Ward                 2           2   \n",
       "                                 Hopetoun Ward                  2           2   \n",
       "                                 Warracknabeal Ward             2           2   \n",
       "\n",
       "                                                        candidates_per_vacancy  \n",
       "council                          ward                                           \n",
       "Banyule City Council             Beale Ward                                1.0  \n",
       "Buloke Shire Council             Mallee Ward                               1.0  \n",
       "Cardinia Shire Council           Pakenham Hills Ward                       1.0  \n",
       "Central Goldfields Shire Council Maryborough West Ward                     1.0  \n",
       "                                 Tullaroop Ward                            1.0  \n",
       "Corangamite Shire Council        Cooriemungle Ward                         1.0  \n",
       "                                 Gnotuk Ward                               1.0  \n",
       "                                 Lake Elingamite Ward                      1.0  \n",
       "                                 Lake Keilambete Ward                      1.0  \n",
       "                                 Leura Ward                                1.0  \n",
       "                                 Mt Elephant Ward                          1.0  \n",
       "Greater Bendigo City Council     Epsom Ward                                1.0  \n",
       "Greater Dandenong City Council   Noble Park Ward                           1.0  \n",
       "Greater Shepparton City Council  Midland Ward                              1.0  \n",
       "                                 Poplar Ward                               1.0  \n",
       "Hindmarsh Shire Council          West Ward                                 1.0  \n",
       "Horsham Rural City Council       Kalimna Ward                              1.0  \n",
       "                                 Wyn Wyn Ward                              1.0  \n",
       "Latrobe City Council             Newborough Ward                           1.0  \n",
       "Loddon Shire Council             Boort Ward                                1.0  \n",
       "                                 Terrick Ward                              1.0  \n",
       "                                 Wedderburn Ward                           1.0  \n",
       "Manningham City Council          Tullamore Ward                            1.0  \n",
       "                                 Yarra Ward                                1.0  \n",
       "Mildura Rural City Council       Karadoc Ward                              1.0  \n",
       "                                 Sunset Country Ward                       1.0  \n",
       "Monash City Council              Gallaghers Ward                           1.0  \n",
       "Mount Alexander Shire Council    Barkers Creek Ward                        1.0  \n",
       "                                 Forest Creek Ward                         1.0  \n",
       "                                 Loddon River Ward                         1.0  \n",
       "                                 Moonlight Creek Ward                      1.0  \n",
       "                                 Tarrengower Ward                          1.0  \n",
       "Wangaratta Rural City Council    King River Ward                           1.0  \n",
       "                                 Warby Ward                                1.0  \n",
       "Warrnambool City Council         Botanic Ward                              1.0  \n",
       "                                 Russells Creek Ward                       1.0  \n",
       "                                 Wollaston Ward                            1.0  \n",
       "Yarra Ranges Shire Council       Chirnside Ward                            1.0  \n",
       "                                 Ryrie Ward                                1.0  \n",
       "Yarriambiack Shire Council       Dunmunkle Ward                            1.0  \n",
       "                                 Hopetoun Ward                             1.0  \n",
       "                                 Warracknabeal Ward                        1.0  "
      ]
     },
     "execution_count": 61,
     "metadata": {},
     "output_type": "execute_result"
    }
   ],
   "source": [
    "uncontested_wards = ward_stats[ward_stats['candidates'] <= ward_stats['vacancies']]\n",
    "uncontested_wards"
   ]
  },
  {
   "cell_type": "markdown",
   "id": "396c5549-fa02-4721-a6d5-2224eedfefda",
   "metadata": {},
   "source": [
    "There are a total of 42 wards, with 47 positions, that are uncontested."
   ]
  },
  {
   "cell_type": "code",
   "execution_count": 62,
   "id": "51c54d05-0a22-4fab-add7-2ba6c07eeb7d",
   "metadata": {},
   "outputs": [
    {
     "data": {
      "text/plain": [
       "(42, 47)"
      ]
     },
     "execution_count": 62,
     "metadata": {},
     "output_type": "execute_result"
    }
   ],
   "source": [
    "len(uncontested_wards), uncontested_wards['vacancies'].sum()"
   ]
  },
  {
   "cell_type": "markdown",
   "id": "50568bcd-8b3d-4cdb-b8c4-73701aa70ae7",
   "metadata": {},
   "source": [
    "# Extracting Candidate Questionnaires"
   ]
  },
  {
   "cell_type": "markdown",
   "id": "b4c4722f-1f40-4227-8cb5-ac57a3f3f680",
   "metadata": {},
   "source": [
    "There's additional information about candidates in the questionnaires they submitted, and for uncontested elections this is the only information we have.\n",
    "We have to download them all from external PDFs.\n",
    "\n",
    "We will save them all to a separate folder:"
   ]
  },
  {
   "cell_type": "code",
   "execution_count": 63,
   "id": "9f4bf7e5-ebcb-4b7e-8bdc-66bd461f26b8",
   "metadata": {},
   "outputs": [],
   "source": [
    "question_dir = data_dir / 'questionnaires'\n",
    "question_dir.mkdir(exist_ok=True)"
   ]
  },
  {
   "cell_type": "markdown",
   "id": "6c34f63c-baa0-4232-ad9c-8f4b87d982ab",
   "metadata": {},
   "source": [
    "Because there's a lot of files to download as well as being slow to prevent server overload (downloading at most 1 document every 2 seconds), we'll retry with exponential backoff using [tenacity](https://tenacity.readthedocs.io/en/latest/) if the process fails."
   ]
  },
  {
   "cell_type": "code",
   "execution_count": 64,
   "id": "17bc7f7a-152c-49fd-9c8d-bf52d47de0fd",
   "metadata": {},
   "outputs": [],
   "source": [
    "@retry(wait=wait_exponential(multiplier=1, min=4, max=60), stop=stop_after_attempt(7))\n",
    "def download(url, path):\n",
    "    if path.exists():\n",
    "        return\n",
    "\n",
    "    urlretrieve(url, path)\n",
    "    sleep(2)"
   ]
  },
  {
   "cell_type": "markdown",
   "id": "5b55a972-3327-4a5b-bc3d-8d1e4fd8881d",
   "metadata": {},
   "source": [
    "Then we can download all the candidate's questionnaires (this took me a couple of hours)"
   ]
  },
  {
   "cell_type": "code",
   "execution_count": 65,
   "id": "50bb1113-a23f-46c9-8751-9f76b159cf1c",
   "metadata": {},
   "outputs": [],
   "source": [
    "for c in candidates:\n",
    "\n",
    "    url = c.questions\n",
    "    if not url:\n",
    "        continue\n",
    "    path = question_dir / url.split('/')[-1]\n",
    "\n",
    "    download(url, path)"
   ]
  },
  {
   "cell_type": "markdown",
   "id": "4b92d47d-1acb-4694-b4fe-a0fd98818a51",
   "metadata": {},
   "source": [
    "While we're downloading assets we can also grab all of their photographs as well:"
   ]
  },
  {
   "cell_type": "code",
   "execution_count": 66,
   "id": "9bd8e1cd-11d2-4f54-a988-f97bd0823432",
   "metadata": {},
   "outputs": [],
   "source": [
    "photo_dir = data_dir / 'photos'\n",
    "photo_dir.mkdir(exist_ok = True)\n",
    "\n",
    "for c in candidates:\n",
    "\n",
    "    url = c.photo\n",
    "    if not url:\n",
    "        continue\n",
    "    path = photo_dir / url.split('/')[-1]\n",
    "\n",
    "    download(url, path)"
   ]
  },
  {
   "cell_type": "markdown",
   "id": "3221b7c6-da63-4dc9-a003-b92d047edad7",
   "metadata": {},
   "source": [
    "## Parse Questionnaire PDFs\n",
    "\n",
    "For some reason VEC decided the best way to publish the candidate questionnaire responses was in separate PDFs.\n",
    "Luckily the formatting is consistent enough and informative enough that we can actually extract it.\n",
    "We have questions for most of the candidates:"
   ]
  },
  {
   "cell_type": "code",
   "execution_count": 67,
   "id": "8a20bc99-2bf9-4903-946e-aaa3828d0b05",
   "metadata": {},
   "outputs": [
    {
     "data": {
      "text/plain": [
       "2098"
      ]
     },
     "execution_count": 67,
     "metadata": {},
     "output_type": "execute_result"
    }
   ],
   "source": [
    "questions = sorted(question_dir.glob('*.pdf'))\n",
    "len(questions)"
   ]
  },
  {
   "cell_type": "markdown",
   "id": "6a8cc774-d275-4412-b77d-3c217917220b",
   "metadata": {},
   "source": [
    "While [PDF is an open standard](https://en.wikipedia.org/wiki/PDF) it's pretty gnarly to extract things out of, and I'm not sure what the best general libraries for parsing them are.\n",
    "In this case [PyPDF2](https://pypdf2.readthedocs.io/en/3.x/) is good enough to read the data because it's very consistent, but our approach would break with any small variation.\n",
    "\n",
    "All of the questionnaires consist of a single page and we can read through that single page.\n",
    "PyPDF2 uses a visitor pattern and we can use that to run conditional extraction depending on the text, the user matrix cm, the translation matrix tm, the font dictionary and the font size.\n",
    "The matrices are a rotation matrix followed by a translation matrix, so positions 4 and 5 should correspond to the x and y offset.\n",
    "I originally printed all the attributes to find out which ones might be meaningful, which is too messy to show here, and discovered that all the text of the candidate responses occurs twice, once with a missing fontDict.\n",
    "Moreover the `cm[5]` variable is different for most of the text fields (and consistent between PDFs) so we can use that to extract the relevant field."
   ]
  },
  {
   "cell_type": "code",
   "execution_count": 68,
   "id": "1473a9bf-62da-4d7a-b92c-e4f33d1c2b0f",
   "metadata": {},
   "outputs": [
    {
     "name": "stdout",
     "output_type": "stream",
     "text": [
      "{'text': 'Frankston City Council 2024', 'x': 242.47, 'y': 708.41}\n",
      "{'text': 'Derinya Ward', 'x': 242.47, 'y': 688.58}\n",
      "{'text': 'GRACE, Cassandra', 'x': 242.47, 'y': 669.57}\n",
      "{'text': 'I believe in a council that listens, values diversity, and acts with transparency. I would like to\\nwork collaboratively as a team to make decisions that impact the residents of the City of\\nFrankston. I would like to provide respectful, honest and professional leadership of our\\ncommunity with community engagement.', 'x': 46.62, 'y': 541.58}\n",
      "{'text': 'Councillor?', 'x': 445.75, 'y': 515.25}\n",
      "{'text': 'I have been a dedicated community volunteer for over 30 years. I live in the Derinya Ward\\nand have done so my entire life. I have a deep and strong understanding of our community. I\\nunderstand what it means to be a business owner. I have strong leadership skills.', 'x': 46.62, 'y': 405.45}\n",
      "{'text': 'Yes', 'x': 423.55, 'y': 370.11}\n",
      "{'text': 'Yes', 'x': 423.31, 'y': 349.27}\n",
      "{'text': 'No', 'x': 423.57, 'y': 327.73}\n",
      "{'text': 'No', 'x': 423.24, 'y': 261.59}\n",
      "{'text': 'www.cassandragrace.net', 'x': 46.62, 'y': 99.74}\n"
     ]
    }
   ],
   "source": [
    "path = questions[0]\n",
    "reader = PdfReader(path)\n",
    "page = reader.pages[0]\n",
    "\n",
    "def visitor_text_attributes(text, cm, tm, fontDict, fontSize):\n",
    "    if text.strip() and not fontDict:\n",
    "        print(dict(text=text, x=cm[4], y=cm[5]))\n",
    "\n",
    "page.extract_text(visitor_text=visitor_text_attributes);"
   ]
  },
  {
   "cell_type": "markdown",
   "id": "ebbdfd5c-c8eb-4cce-8cbf-bce11da942c1",
   "metadata": {},
   "source": [
    "We use these observations to map the y coordinates back to fields."
   ]
  },
  {
   "cell_type": "code",
   "execution_count": 69,
   "id": "581c87dd-ee29-4940-ae9b-f8e012238a3f",
   "metadata": {},
   "outputs": [],
   "source": [
    "coords = {\n",
    "    708.51: \"council\",\n",
    "    688.58: \"ward\",\n",
    "    669.57: \"name\",\n",
    "    541.58: \"vision\",\n",
    "    405.45: \"expertise\",\n",
    "    370.11: \"read_plan\",\n",
    "    349.27: \"read_code\",\n",
    "    327.73: \"has_party\",\n",
    "    285.94: \"party_name\",\n",
    "    261.59: \"councillor\",\n",
    "    240.23: \"council_attendance\",\n",
    "    99.74: \"contact\"\n",
    "}"
   ]
  },
  {
   "cell_type": "markdown",
   "id": "e8ef28c2-f6fa-49b4-a135-07dcc6c565a1",
   "metadata": {},
   "source": [
    "We can then parse a PDF by extracting the data from fields with the corresponding `cm[5]` coordinate with an empty `fontDict`.\n",
    "We allow passing in extra kwargs of context that are passed into the output dictionary, so that we can add the file name."
   ]
  },
  {
   "cell_type": "code",
   "execution_count": 70,
   "id": "75a54889-2dda-4c86-9750-0f1d633befc3",
   "metadata": {},
   "outputs": [],
   "source": [
    "def parse_pdf(path, **kwargs):\n",
    "    reader = PdfReader(path)\n",
    "    page = reader.pages[0]\n",
    "\n",
    "    data = kwargs\n",
    "    def visitor(text, cm, tm, fontDict, fontSize):\n",
    "        if text.strip() and not fontDict:\n",
    "            coord = cm[5]\n",
    "            if coord in coords:\n",
    "                value = coords[coord]\n",
    "                if value in data:\n",
    "                    raise ValueError(f\"Duplicate {value}\")\n",
    "                data[value] = text\n",
    "\n",
    "    page.extract_text(visitor_text=visitor)\n",
    "\n",
    "    return data"
   ]
  },
  {
   "cell_type": "markdown",
   "id": "ad9c00b7-0c86-4b6b-9a4f-77b07859bda1",
   "metadata": {},
   "source": [
    "And apply it to all of the questionnaires:"
   ]
  },
  {
   "cell_type": "code",
   "execution_count": 71,
   "id": "c1386f49-2ffd-483a-a6dd-a71bda2923c7",
   "metadata": {},
   "outputs": [],
   "source": [
    "questionnaires = []\n",
    "\n",
    "for q in questions:\n",
    "    questionnaires.append(parse_pdf(q, question_file=q.name))"
   ]
  },
  {
   "cell_type": "markdown",
   "id": "b7f5c364-1a84-4618-8003-74c000954b4a",
   "metadata": {},
   "source": [
    "## Analysing questionaires"
   ]
  },
  {
   "cell_type": "markdown",
   "id": "4e1973ba-19c2-41c9-9a02-182d8b32de82",
   "metadata": {},
   "source": [
    "Let's do some sense checking of the data in the questionnaires, we'll ignore the contacts because there's not much additional information we don't already have and it may not be appropriate to publish in a dataset."
   ]
  },
  {
   "cell_type": "code",
   "execution_count": 72,
   "id": "4a76514d-9fca-4939-8f89-6e6eea403695",
   "metadata": {},
   "outputs": [
    {
     "data": {
      "text/html": [
       "<div>\n",
       "<style scoped>\n",
       "    .dataframe tbody tr th:only-of-type {\n",
       "        vertical-align: middle;\n",
       "    }\n",
       "\n",
       "    .dataframe tbody tr th {\n",
       "        vertical-align: top;\n",
       "    }\n",
       "\n",
       "    .dataframe thead th {\n",
       "        text-align: right;\n",
       "    }\n",
       "</style>\n",
       "<table border=\"1\" class=\"dataframe\">\n",
       "  <thead>\n",
       "    <tr style=\"text-align: right;\">\n",
       "      <th></th>\n",
       "      <th>question_file</th>\n",
       "      <th>ward</th>\n",
       "      <th>name</th>\n",
       "      <th>vision</th>\n",
       "      <th>expertise</th>\n",
       "      <th>read_plan</th>\n",
       "      <th>read_code</th>\n",
       "      <th>has_party</th>\n",
       "      <th>councillor</th>\n",
       "      <th>council_attendance</th>\n",
       "      <th>party_name</th>\n",
       "    </tr>\n",
       "  </thead>\n",
       "  <tbody>\n",
       "    <tr>\n",
       "      <th>0</th>\n",
       "      <td>19672.pdf</td>\n",
       "      <td>Derinya Ward</td>\n",
       "      <td>GRACE, Cassandra</td>\n",
       "      <td>I believe in a council that listens, values di...</td>\n",
       "      <td>I have been a dedicated community volunteer fo...</td>\n",
       "      <td>Yes</td>\n",
       "      <td>Yes</td>\n",
       "      <td>No</td>\n",
       "      <td>No</td>\n",
       "      <td>NaN</td>\n",
       "      <td>NaN</td>\n",
       "    </tr>\n",
       "    <tr>\n",
       "      <th>1</th>\n",
       "      <td>19673.pdf</td>\n",
       "      <td>Tooronga Ward</td>\n",
       "      <td>BELL, Jamie</td>\n",
       "      <td>A better Stonnington Council prioritises trans...</td>\n",
       "      <td>As a management consultant, my ability to anal...</td>\n",
       "      <td>Yes</td>\n",
       "      <td>Yes</td>\n",
       "      <td>No</td>\n",
       "      <td>No</td>\n",
       "      <td>NaN</td>\n",
       "      <td>NaN</td>\n",
       "    </tr>\n",
       "    <tr>\n",
       "      <th>2</th>\n",
       "      <td>19674.pdf</td>\n",
       "      <td>Dendy Ward</td>\n",
       "      <td>SCANLON, Terence</td>\n",
       "      <td>Bayside vision for improvement &amp; growth while ...</td>\n",
       "      <td>Multinational business management skills, impl...</td>\n",
       "      <td>Yes</td>\n",
       "      <td>Yes</td>\n",
       "      <td>No</td>\n",
       "      <td>No</td>\n",
       "      <td>NaN</td>\n",
       "      <td>NaN</td>\n",
       "    </tr>\n",
       "    <tr>\n",
       "      <th>3</th>\n",
       "      <td>19675.pdf</td>\n",
       "      <td>Coliban Ward</td>\n",
       "      <td>LESSER, Max</td>\n",
       "      <td>A connected community</td>\n",
       "      <td>Previous local government employee and innovat...</td>\n",
       "      <td>Yes</td>\n",
       "      <td>Yes</td>\n",
       "      <td>No</td>\n",
       "      <td>No</td>\n",
       "      <td>NaN</td>\n",
       "      <td>NaN</td>\n",
       "    </tr>\n",
       "    <tr>\n",
       "      <th>4</th>\n",
       "      <td>19676.pdf</td>\n",
       "      <td>Jeeralang Ward</td>\n",
       "      <td>DUNCAN, Peter</td>\n",
       "      <td>My vision for Latrobe City is to have a counci...</td>\n",
       "      <td>My expertise and attributes that will assist m...</td>\n",
       "      <td>Yes</td>\n",
       "      <td>Yes</td>\n",
       "      <td>No</td>\n",
       "      <td>No</td>\n",
       "      <td>NaN</td>\n",
       "      <td>NaN</td>\n",
       "    </tr>\n",
       "    <tr>\n",
       "      <th>...</th>\n",
       "      <td>...</td>\n",
       "      <td>...</td>\n",
       "      <td>...</td>\n",
       "      <td>...</td>\n",
       "      <td>...</td>\n",
       "      <td>...</td>\n",
       "      <td>...</td>\n",
       "      <td>...</td>\n",
       "      <td>...</td>\n",
       "      <td>...</td>\n",
       "      <td>...</td>\n",
       "    </tr>\n",
       "    <tr>\n",
       "      <th>2093</th>\n",
       "      <td>21939.pdf</td>\n",
       "      <td>Streeton Ward</td>\n",
       "      <td>PETERSEN, Sigrid</td>\n",
       "      <td>To work with local council, residents and comm...</td>\n",
       "      <td>I am local mother and business owner, with str...</td>\n",
       "      <td>Yes</td>\n",
       "      <td>Yes</td>\n",
       "      <td>No</td>\n",
       "      <td>No</td>\n",
       "      <td>NaN</td>\n",
       "      <td>NaN</td>\n",
       "    </tr>\n",
       "    <tr>\n",
       "      <th>2094</th>\n",
       "      <td>21941.pdf</td>\n",
       "      <td>Walling Ward</td>\n",
       "      <td>FERRIER, David</td>\n",
       "      <td>I want to lead the way in developing support p...</td>\n",
       "      <td>Over the past 3 years I have led a local commu...</td>\n",
       "      <td>Yes</td>\n",
       "      <td>Yes</td>\n",
       "      <td>No</td>\n",
       "      <td>No</td>\n",
       "      <td>NaN</td>\n",
       "      <td>NaN</td>\n",
       "    </tr>\n",
       "    <tr>\n",
       "      <th>2095</th>\n",
       "      <td>21943.pdf</td>\n",
       "      <td>Horsham North Ward</td>\n",
       "      <td>ROSS, Kathy</td>\n",
       "      <td>I would like to see a community that is engage...</td>\n",
       "      <td>I have understanding of government and legisla...</td>\n",
       "      <td>Yes</td>\n",
       "      <td>Yes</td>\n",
       "      <td>No</td>\n",
       "      <td>No</td>\n",
       "      <td>NaN</td>\n",
       "      <td>NaN</td>\n",
       "    </tr>\n",
       "    <tr>\n",
       "      <th>2096</th>\n",
       "      <td>21944.pdf</td>\n",
       "      <td>Banksia Ward</td>\n",
       "      <td>MATTHEWS, Corey</td>\n",
       "      <td>Answer not submitted</td>\n",
       "      <td>Answer not submitted</td>\n",
       "      <td>Answer not submitted</td>\n",
       "      <td>Answer not submitted</td>\n",
       "      <td>Answer not submitted</td>\n",
       "      <td>Answer not submitted</td>\n",
       "      <td>NaN</td>\n",
       "      <td>NaN</td>\n",
       "    </tr>\n",
       "    <tr>\n",
       "      <th>2097</th>\n",
       "      <td>21945.pdf</td>\n",
       "      <td>Tooradin Ward</td>\n",
       "      <td>DIZON, Jennifer</td>\n",
       "      <td>My vision for the City of Casey is a vibrant, ...</td>\n",
       "      <td>As a lawyer with extensive experience in legal...</td>\n",
       "      <td>Yes</td>\n",
       "      <td>Yes</td>\n",
       "      <td>No</td>\n",
       "      <td>No</td>\n",
       "      <td>NaN</td>\n",
       "      <td>NaN</td>\n",
       "    </tr>\n",
       "  </tbody>\n",
       "</table>\n",
       "<p>2098 rows × 11 columns</p>\n",
       "</div>"
      ],
      "text/plain": [
       "     question_file                ward              name  \\\n",
       "0        19672.pdf        Derinya Ward  GRACE, Cassandra   \n",
       "1        19673.pdf       Tooronga Ward       BELL, Jamie   \n",
       "2        19674.pdf          Dendy Ward  SCANLON, Terence   \n",
       "3        19675.pdf        Coliban Ward       LESSER, Max   \n",
       "4        19676.pdf      Jeeralang Ward     DUNCAN, Peter   \n",
       "...            ...                 ...               ...   \n",
       "2093     21939.pdf       Streeton Ward  PETERSEN, Sigrid   \n",
       "2094     21941.pdf        Walling Ward    FERRIER, David   \n",
       "2095     21943.pdf  Horsham North Ward       ROSS, Kathy   \n",
       "2096     21944.pdf        Banksia Ward   MATTHEWS, Corey   \n",
       "2097     21945.pdf       Tooradin Ward   DIZON, Jennifer   \n",
       "\n",
       "                                                 vision  \\\n",
       "0     I believe in a council that listens, values di...   \n",
       "1     A better Stonnington Council prioritises trans...   \n",
       "2     Bayside vision for improvement & growth while ...   \n",
       "3                                 A connected community   \n",
       "4     My vision for Latrobe City is to have a counci...   \n",
       "...                                                 ...   \n",
       "2093  To work with local council, residents and comm...   \n",
       "2094  I want to lead the way in developing support p...   \n",
       "2095  I would like to see a community that is engage...   \n",
       "2096                               Answer not submitted   \n",
       "2097  My vision for the City of Casey is a vibrant, ...   \n",
       "\n",
       "                                              expertise             read_plan  \\\n",
       "0     I have been a dedicated community volunteer fo...                   Yes   \n",
       "1     As a management consultant, my ability to anal...                   Yes   \n",
       "2     Multinational business management skills, impl...                   Yes   \n",
       "3     Previous local government employee and innovat...                   Yes   \n",
       "4     My expertise and attributes that will assist m...                   Yes   \n",
       "...                                                 ...                   ...   \n",
       "2093  I am local mother and business owner, with str...                   Yes   \n",
       "2094  Over the past 3 years I have led a local commu...                   Yes   \n",
       "2095  I have understanding of government and legisla...                   Yes   \n",
       "2096                               Answer not submitted  Answer not submitted   \n",
       "2097  As a lawyer with extensive experience in legal...                   Yes   \n",
       "\n",
       "                 read_code             has_party            councillor  \\\n",
       "0                      Yes                    No                    No   \n",
       "1                      Yes                    No                    No   \n",
       "2                      Yes                    No                    No   \n",
       "3                      Yes                    No                    No   \n",
       "4                      Yes                    No                    No   \n",
       "...                    ...                   ...                   ...   \n",
       "2093                   Yes                    No                    No   \n",
       "2094                   Yes                    No                    No   \n",
       "2095                   Yes                    No                    No   \n",
       "2096  Answer not submitted  Answer not submitted  Answer not submitted   \n",
       "2097                   Yes                    No                    No   \n",
       "\n",
       "     council_attendance party_name  \n",
       "0                   NaN        NaN  \n",
       "1                   NaN        NaN  \n",
       "2                   NaN        NaN  \n",
       "3                   NaN        NaN  \n",
       "4                   NaN        NaN  \n",
       "...                 ...        ...  \n",
       "2093                NaN        NaN  \n",
       "2094                NaN        NaN  \n",
       "2095                NaN        NaN  \n",
       "2096                NaN        NaN  \n",
       "2097                NaN        NaN  \n",
       "\n",
       "[2098 rows x 11 columns]"
      ]
     },
     "execution_count": 72,
     "metadata": {},
     "output_type": "execute_result"
    }
   ],
   "source": [
    "df_q = pd.DataFrame(questionnaires).drop('contact',axis=1)\n",
    "\n",
    "df_q"
   ]
  },
  {
   "cell_type": "markdown",
   "id": "ee141281-d2e4-4842-a854-89ea613364d8",
   "metadata": {},
   "source": [
    "The only columns with missing values are `council_attendance` which only makkes sense if `councillor`, and `party_name` which only makes sense if `has_party`."
   ]
  },
  {
   "cell_type": "code",
   "execution_count": 73,
   "id": "134688b9-783f-487c-8af3-02de7333df8a",
   "metadata": {},
   "outputs": [
    {
     "data": {
      "text/plain": [
       "question_file            0\n",
       "ward                     0\n",
       "name                     0\n",
       "vision                   0\n",
       "expertise                0\n",
       "read_plan                0\n",
       "read_code                0\n",
       "has_party                0\n",
       "councillor               0\n",
       "council_attendance    1687\n",
       "party_name            1818\n",
       "dtype: int64"
      ]
     },
     "execution_count": 73,
     "metadata": {},
     "output_type": "execute_result"
    }
   ],
   "source": [
    "df_q.isna().sum()"
   ]
  },
  {
   "cell_type": "markdown",
   "id": "79005b09-17ef-4c43-ae4a-b66cdf075c5d",
   "metadata": {},
   "source": [
    "All the files are distinct"
   ]
  },
  {
   "cell_type": "code",
   "execution_count": 74,
   "id": "42a94706-b432-4c90-89bc-334a140ce649",
   "metadata": {},
   "outputs": [
    {
     "data": {
      "text/plain": [
       "False"
      ]
     },
     "execution_count": 74,
     "metadata": {},
     "output_type": "execute_result"
    }
   ],
   "source": [
    "df_q['question_file'].duplicated().any()"
   ]
  },
  {
   "cell_type": "markdown",
   "id": "12d56a69-b90b-4bfc-a7f9-c35e74af663c",
   "metadata": {},
   "source": [
    "Almost all candidates read the Council Plan for the council they want to be elected to, and read the Councillor Code of conduct, but surprisingly a few candidates didn't."
   ]
  },
  {
   "cell_type": "code",
   "execution_count": 75,
   "id": "890682bd-80d4-4af2-90d5-12747cd79628",
   "metadata": {},
   "outputs": [
    {
     "data": {
      "text/plain": [
       "read_plan             read_code           \n",
       "Yes                   Yes                     2053\n",
       "No                    Yes                       26\n",
       "                      No                         9\n",
       "Yes                   No                         5\n",
       "Answer not submitted  Answer not submitted       4\n",
       "                      Yes                        1\n",
       "dtype: int64"
      ]
     },
     "execution_count": 75,
     "metadata": {},
     "output_type": "execute_result"
    }
   ],
   "source": [
    "df_q[['read_plan', 'read_code']].value_counts(dropna=False)"
   ]
  },
  {
   "cell_type": "markdown",
   "id": "bfb4f4d7-4054-43d8-bb06-34d206fd3399",
   "metadata": {},
   "source": [
    "Almost one-fifth of the candidates are currently a Councillor, and most of them have attended more than 90% of council meetings."
   ]
  },
  {
   "cell_type": "code",
   "execution_count": 76,
   "id": "6ca88b8a-4806-426e-aec6-135c9e81ca27",
   "metadata": {},
   "outputs": [
    {
     "data": {
      "text/plain": [
       "councillor            council_attendance\n",
       "No                    NaN                   1683\n",
       "Yes                   >90%                   374\n",
       "                      75 – 90%                37\n",
       "Answer not submitted  NaN                      4\n",
       "dtype: int64"
      ]
     },
     "execution_count": 76,
     "metadata": {},
     "output_type": "execute_result"
    }
   ],
   "source": [
    "df_q[['councillor', 'council_attendance']].value_counts(dropna=False)"
   ]
  },
  {
   "cell_type": "markdown",
   "id": "2c15d1d7-6426-40f2-9c23-d7b23bc8a9e1",
   "metadata": {},
   "source": [
    "Most candidates have not been *endorsed* by a party, and of those who are most are with the Australian Greens or Victorian Socialists.\n",
    "Note that a lot more candidates are *affiliated* with a party, but not officially endorsed, and do not need to disclose that affiliation.\n",
    "The [political affiliation of candidates is murky](https://web.archive.org/web/20241003054449/https://www.theage.com.au/national/victoria/many-of-your-local-election-candidates-appear-to-be-independent-our-survey-reveals-otherwise-20240929-p5kedz.html), there are candidates running as [independent Liberals](https://www.localelections.com.au/post/see-the-canva-template-being-used-by-liberal-party-members-at-victoria-s-local-elections) using the Liberal party colours but not endorsed by the Liberal party, and similarly candidates running as [community Labor](https://www.localelections.com.au/post/they-re-called-community-labor-but-these-maribyrnong-candidates-are-not-party-endorsed) who are not officially endorsed by the Labor party.\n",
    "There are also [other quasi-parties](https://www.tallyroom.com.au/56999) such as Yarra For All in Yarra and the Socialist Alliance."
   ]
  },
  {
   "cell_type": "code",
   "execution_count": 77,
   "id": "a023c23d-b19c-4b54-9aff-856739946dc0",
   "metadata": {},
   "outputs": [
    {
     "data": {
      "text/plain": [
       "has_party             party_name            \n",
       "No                    NaN                       1814\n",
       "Yes                   Australian Greens          123\n",
       "                      Victorian Socialists        77\n",
       "                      Australian Labor Party      53\n",
       "                      Libertarian                 14\n",
       "                      AJP                          9\n",
       "Answer not submitted  NaN                          4\n",
       "Yes                   Liberal                      4\n",
       "dtype: int64"
      ]
     },
     "execution_count": 77,
     "metadata": {},
     "output_type": "execute_result"
    }
   ],
   "source": [
    "df_q[['has_party', 'party_name']].value_counts(dropna=False)"
   ]
  },
  {
   "cell_type": "markdown",
   "id": "2f44d74d-6146-495c-903d-cf444ddcbc54",
   "metadata": {},
   "source": [
    "All PDFs have text from the vision and expertise:"
   ]
  },
  {
   "cell_type": "markdown",
   "id": "6d2b1b02-ac7b-4450-8b25-81571d1eea89",
   "metadata": {},
   "source": [
    "The vision for most Victorian Socialsts (top) and Australian Greens (second) candidates is the same, and some candidates did not submit an answer."
   ]
  },
  {
   "cell_type": "code",
   "execution_count": 78,
   "id": "60bf0a9c-62e5-420b-b35c-4a88da1dacb1",
   "metadata": {},
   "outputs": [
    {
     "data": {
      "text/plain": [
       "[('Victorian Socialists don’t hide behind the lie that local government is only about roads, rates\\nand rubbish. I’ll fight for a local government that will stand up to the state and federal\\ngovernment and demand policies that put the public before corporate profits.',\n",
       "  38),\n",
       " ('Council has an important role in ensuring that all of us thrive and that our local environment is\\nprotected. Together, we can continue building a supportive, vibrant and diverse community by\\ndelivering the infrastructure and services we all need.',\n",
       "  22),\n",
       " ('Answer not submitted', 11),\n",
       " ('A vibrant, inclusive community where residents and businesses thrive. A council led by\\nindependent residents, not tied to political parties or campaign donors, but representing the\\nvoices of Melbourne. Revitalised neighbourhoods, increased green spaces, and improved\\nservices. We will ensure council delivers on its core priorities, maximising value for\\nratepayers.',\n",
       "  4),\n",
       " ('Focus needs to be on local council mandate and not wasting money on issues outside its\\njurisdiction. Do not remove parking spaces nor increase speed limits. Work together with the\\ncommunity and small businesses.',\n",
       "  2)]"
      ]
     },
     "execution_count": 78,
     "metadata": {},
     "output_type": "execute_result"
    }
   ],
   "source": [
    "Counter(df_q['vision']).most_common(5)"
   ]
  },
  {
   "cell_type": "markdown",
   "id": "f4fc4494-975e-4eb2-ab5a-935d98d3288a",
   "metadata": {},
   "source": [
    "Even more concerning is a lot of Socialist candidates have the same \"expertise\", and some people did not submit an answer."
   ]
  },
  {
   "cell_type": "code",
   "execution_count": 79,
   "id": "7e863b4f-7697-48a7-befe-cf4a9a4d1c9f",
   "metadata": {},
   "outputs": [
    {
     "data": {
      "text/plain": [
       "[('I’m committed to standing up for the community. First of all that means I want to listen to you.\\nI’ll always answer my phone to residents and community groups and campaign to make sure\\nyour voice is heard.',\n",
       "  25),\n",
       " ('Answer not submitted', 11),\n",
       " ('Local Small Business Experience and having grown up and have always worked within the\\ncommunity.',\n",
       "  2)]"
      ]
     },
     "execution_count": 79,
     "metadata": {},
     "output_type": "execute_result"
    }
   ],
   "source": [
    "Counter(df_q['expertise']).most_common(3)"
   ]
  },
  {
   "cell_type": "markdown",
   "id": "027b6ae6-4704-4009-8436-dac022c74db1",
   "metadata": {},
   "source": [
    "The number of characters looks pretty reasonable for the vision and relevant expertise:"
   ]
  },
  {
   "cell_type": "code",
   "execution_count": 80,
   "id": "29ce6938-d468-4a75-b209-0918da9af829",
   "metadata": {},
   "outputs": [
    {
     "data": {
      "image/png": "[encoded data removed]",
      "text/plain": [
       "<Figure size 640x480 with 1 Axes>"
      ]
     },
     "metadata": {},
     "output_type": "display_data"
    }
   ],
   "source": [
    "ax = df_q['vision'].str.len().plot.hist(bins=30)\n",
    "ax.set_title('Number of Characters in Vision for Council');"
   ]
  },
  {
   "cell_type": "code",
   "execution_count": 81,
   "id": "b643ba3e-6128-42e4-99fe-9d317e792fc2",
   "metadata": {},
   "outputs": [
    {
     "data": {
      "image/png": "[encoded data removed]",
      "text/plain": [
       "<Figure size 640x480 with 1 Axes>"
      ]
     },
     "metadata": {},
     "output_type": "display_data"
    }
   ],
   "source": [
    "ax = df_q['expertise'].str.len().plot.hist(bins=30)\n",
    "ax.set_title('Number of Characters in relevant Expertise');"
   ]
  },
  {
   "cell_type": "markdown",
   "id": "2095678f-d983-4b80-ad0c-b9a9f5f44176",
   "metadata": {},
   "source": [
    "# Putting it all together\n",
    "\n",
    "Let's merge together the questionnaire with the other candidate data."
   ]
  },
  {
   "cell_type": "code",
   "execution_count": 82,
   "id": "91f9aafe-a298-422a-bf89-4dec393a976b",
   "metadata": {},
   "outputs": [
    {
     "data": {
      "text/html": [
       "<div>\n",
       "<style scoped>\n",
       "    .dataframe tbody tr th:only-of-type {\n",
       "        vertical-align: middle;\n",
       "    }\n",
       "\n",
       "    .dataframe tbody tr th {\n",
       "        vertical-align: top;\n",
       "    }\n",
       "\n",
       "    .dataframe thead th {\n",
       "        text-align: right;\n",
       "    }\n",
       "</style>\n",
       "<table border=\"1\" class=\"dataframe\">\n",
       "  <thead>\n",
       "    <tr style=\"text-align: right;\">\n",
       "      <th></th>\n",
       "      <th>name</th>\n",
       "      <th>questions</th>\n",
       "      <th>photo</th>\n",
       "      <th>statement</th>\n",
       "      <th>contact_name</th>\n",
       "      <th>has_phone</th>\n",
       "      <th>has_email</th>\n",
       "      <th>email_domain</th>\n",
       "      <th>council</th>\n",
       "      <th>ward</th>\n",
       "      <th>vacancies</th>\n",
       "      <th>question_file</th>\n",
       "      <th>photo_file</th>\n",
       "      <th>ward_q</th>\n",
       "      <th>name_q</th>\n",
       "      <th>vision</th>\n",
       "      <th>expertise</th>\n",
       "      <th>read_plan</th>\n",
       "      <th>read_code</th>\n",
       "      <th>has_party</th>\n",
       "      <th>councillor</th>\n",
       "      <th>council_attendance</th>\n",
       "      <th>party_name</th>\n",
       "    </tr>\n",
       "  </thead>\n",
       "  <tbody>\n",
       "    <tr>\n",
       "      <th>0</th>\n",
       "      <td>ANDERSEN, John</td>\n",
       "      <td>https://itsitecoreblobvecprd.blob.core.windows...</td>\n",
       "      <td>https://itsitecoreblobvecprd.blob.core.windows...</td>\n",
       "      <td>My name is John Andersen, also known as Snowy....</td>\n",
       "      <td>John Andersen</td>\n",
       "      <td>True</td>\n",
       "      <td>True</td>\n",
       "      <td>yahoo.com.au</td>\n",
       "      <td>Alpine Shire Council</td>\n",
       "      <td>Alpine Shire Council</td>\n",
       "      <td>7</td>\n",
       "      <td>20384.pdf</td>\n",
       "      <td>20384.png</td>\n",
       "      <td>Alpine Shire Council</td>\n",
       "      <td>ANDERSEN, John</td>\n",
       "      <td>Greater community engagement in council decisi...</td>\n",
       "      <td>Hard working ethic and community-based experie...</td>\n",
       "      <td>Yes</td>\n",
       "      <td>Yes</td>\n",
       "      <td>No</td>\n",
       "      <td>No</td>\n",
       "      <td>NaN</td>\n",
       "      <td>NaN</td>\n",
       "    </tr>\n",
       "    <tr>\n",
       "      <th>1</th>\n",
       "      <td>SMITH, Peter</td>\n",
       "      <td>None</td>\n",
       "      <td>https://itsitecoreblobvecprd.blob.core.windows...</td>\n",
       "      <td>My name is Peter Smith. I am a 54 year old res...</td>\n",
       "      <td>Peter Smith</td>\n",
       "      <td>True</td>\n",
       "      <td>True</td>\n",
       "      <td>expressfinanceoptions.com.au</td>\n",
       "      <td>Alpine Shire Council</td>\n",
       "      <td>Alpine Shire Council</td>\n",
       "      <td>7</td>\n",
       "      <td>None</td>\n",
       "      <td>19773.png</td>\n",
       "      <td>NaN</td>\n",
       "      <td>NaN</td>\n",
       "      <td>NaN</td>\n",
       "      <td>NaN</td>\n",
       "      <td>NaN</td>\n",
       "      <td>NaN</td>\n",
       "      <td>NaN</td>\n",
       "      <td>NaN</td>\n",
       "      <td>NaN</td>\n",
       "      <td>NaN</td>\n",
       "    </tr>\n",
       "    <tr>\n",
       "      <th>2</th>\n",
       "      <td>RONCO, Jean-Pierre</td>\n",
       "      <td>https://itsitecoreblobvecprd.blob.core.windows...</td>\n",
       "      <td>https://itsitecoreblobvecprd.blob.core.windows...</td>\n",
       "      <td>As a candidate at the Alpine Shire Council ele...</td>\n",
       "      <td>Jean-Pierre Louis Ronco</td>\n",
       "      <td>True</td>\n",
       "      <td>True</td>\n",
       "      <td>hotmail.com</td>\n",
       "      <td>Alpine Shire Council</td>\n",
       "      <td>Alpine Shire Council</td>\n",
       "      <td>7</td>\n",
       "      <td>19701.pdf</td>\n",
       "      <td>19701.png</td>\n",
       "      <td>Alpine Shire Council</td>\n",
       "      <td>RONCO, Jean-Pierre</td>\n",
       "      <td>I would like to see a united community which b...</td>\n",
       "      <td>I enjoy listening to diverse opinions, I work ...</td>\n",
       "      <td>Yes</td>\n",
       "      <td>Yes</td>\n",
       "      <td>No</td>\n",
       "      <td>No</td>\n",
       "      <td>NaN</td>\n",
       "      <td>NaN</td>\n",
       "    </tr>\n",
       "    <tr>\n",
       "      <th>3</th>\n",
       "      <td>BYRNE, David</td>\n",
       "      <td>https://itsitecoreblobvecprd.blob.core.windows...</td>\n",
       "      <td>https://itsitecoreblobvecprd.blob.core.windows...</td>\n",
       "      <td>My name is David Byrne. Ten years ago, my fami...</td>\n",
       "      <td>David Byrne</td>\n",
       "      <td>True</td>\n",
       "      <td>True</td>\n",
       "      <td>arderns.com.au</td>\n",
       "      <td>Alpine Shire Council</td>\n",
       "      <td>Alpine Shire Council</td>\n",
       "      <td>7</td>\n",
       "      <td>20266.pdf</td>\n",
       "      <td>20266.png</td>\n",
       "      <td>Alpine Shire Council</td>\n",
       "      <td>BYRNE, David</td>\n",
       "      <td>The Alpine Shire’s unique character is shaped ...</td>\n",
       "      <td>As the owner of Arderns Caravan Park in Myrtle...</td>\n",
       "      <td>Yes</td>\n",
       "      <td>Yes</td>\n",
       "      <td>No</td>\n",
       "      <td>No</td>\n",
       "      <td>NaN</td>\n",
       "      <td>NaN</td>\n",
       "    </tr>\n",
       "    <tr>\n",
       "      <th>4</th>\n",
       "      <td>McDONALD, Bruce</td>\n",
       "      <td>https://itsitecoreblobvecprd.blob.core.windows...</td>\n",
       "      <td>https://itsitecoreblobvecprd.blob.core.windows...</td>\n",
       "      <td>A resident of Bright with a no-nonsense, down ...</td>\n",
       "      <td>Bruce McDonald</td>\n",
       "      <td>True</td>\n",
       "      <td>True</td>\n",
       "      <td>gmail.com</td>\n",
       "      <td>Alpine Shire Council</td>\n",
       "      <td>Alpine Shire Council</td>\n",
       "      <td>7</td>\n",
       "      <td>20189.pdf</td>\n",
       "      <td>20189.png</td>\n",
       "      <td>Alpine Shire Council</td>\n",
       "      <td>McDONALD, Bruce</td>\n",
       "      <td>To make and keep Alpine Shire the best place t...</td>\n",
       "      <td>Common sense, no nonsense ability to solve pro...</td>\n",
       "      <td>Yes</td>\n",
       "      <td>Yes</td>\n",
       "      <td>No</td>\n",
       "      <td>No</td>\n",
       "      <td>NaN</td>\n",
       "      <td>NaN</td>\n",
       "    </tr>\n",
       "  </tbody>\n",
       "</table>\n",
       "</div>"
      ],
      "text/plain": [
       "                 name                                          questions  \\\n",
       "0      ANDERSEN, John  https://itsitecoreblobvecprd.blob.core.windows...   \n",
       "1        SMITH, Peter                                               None   \n",
       "2  RONCO, Jean-Pierre  https://itsitecoreblobvecprd.blob.core.windows...   \n",
       "3        BYRNE, David  https://itsitecoreblobvecprd.blob.core.windows...   \n",
       "4     McDONALD, Bruce  https://itsitecoreblobvecprd.blob.core.windows...   \n",
       "\n",
       "                                               photo  \\\n",
       "0  https://itsitecoreblobvecprd.blob.core.windows...   \n",
       "1  https://itsitecoreblobvecprd.blob.core.windows...   \n",
       "2  https://itsitecoreblobvecprd.blob.core.windows...   \n",
       "3  https://itsitecoreblobvecprd.blob.core.windows...   \n",
       "4  https://itsitecoreblobvecprd.blob.core.windows...   \n",
       "\n",
       "                                           statement             contact_name  \\\n",
       "0  My name is John Andersen, also known as Snowy....            John Andersen   \n",
       "1  My name is Peter Smith. I am a 54 year old res...              Peter Smith   \n",
       "2  As a candidate at the Alpine Shire Council ele...  Jean-Pierre Louis Ronco   \n",
       "3  My name is David Byrne. Ten years ago, my fami...              David Byrne   \n",
       "4  A resident of Bright with a no-nonsense, down ...           Bruce McDonald   \n",
       "\n",
       "   has_phone  has_email                  email_domain               council  \\\n",
       "0       True       True                  yahoo.com.au  Alpine Shire Council   \n",
       "1       True       True  expressfinanceoptions.com.au  Alpine Shire Council   \n",
       "2       True       True                   hotmail.com  Alpine Shire Council   \n",
       "3       True       True                arderns.com.au  Alpine Shire Council   \n",
       "4       True       True                     gmail.com  Alpine Shire Council   \n",
       "\n",
       "                   ward  vacancies question_file photo_file  \\\n",
       "0  Alpine Shire Council          7     20384.pdf  20384.png   \n",
       "1  Alpine Shire Council          7          None  19773.png   \n",
       "2  Alpine Shire Council          7     19701.pdf  19701.png   \n",
       "3  Alpine Shire Council          7     20266.pdf  20266.png   \n",
       "4  Alpine Shire Council          7     20189.pdf  20189.png   \n",
       "\n",
       "                 ward_q              name_q  \\\n",
       "0  Alpine Shire Council      ANDERSEN, John   \n",
       "1                   NaN                 NaN   \n",
       "2  Alpine Shire Council  RONCO, Jean-Pierre   \n",
       "3  Alpine Shire Council        BYRNE, David   \n",
       "4  Alpine Shire Council     McDONALD, Bruce   \n",
       "\n",
       "                                              vision  \\\n",
       "0  Greater community engagement in council decisi...   \n",
       "1                                                NaN   \n",
       "2  I would like to see a united community which b...   \n",
       "3  The Alpine Shire’s unique character is shaped ...   \n",
       "4  To make and keep Alpine Shire the best place t...   \n",
       "\n",
       "                                           expertise read_plan read_code  \\\n",
       "0  Hard working ethic and community-based experie...       Yes       Yes   \n",
       "1                                                NaN       NaN       NaN   \n",
       "2  I enjoy listening to diverse opinions, I work ...       Yes       Yes   \n",
       "3  As the owner of Arderns Caravan Park in Myrtle...       Yes       Yes   \n",
       "4  Common sense, no nonsense ability to solve pro...       Yes       Yes   \n",
       "\n",
       "  has_party councillor council_attendance party_name  \n",
       "0        No         No                NaN        NaN  \n",
       "1       NaN        NaN                NaN        NaN  \n",
       "2        No         No                NaN        NaN  \n",
       "3        No         No                NaN        NaN  \n",
       "4        No         No                NaN        NaN  "
      ]
     },
     "execution_count": 82,
     "metadata": {},
     "output_type": "execute_result"
    }
   ],
   "source": [
    "df_candidate['question_file'] = df_candidate['questions'].str.replace(\".*/\", \"\", regex=True)\n",
    "df_candidate['photo_file'] = df_candidate['photo'].str.replace(\".*/\", \"\", regex=True)\n",
    "\n",
    "df_full = df_candidate.merge(df_q, how='left', on='question_file', suffixes=('', '_q'))\n",
    "assert len(df_full) == len(df_candidate)\n",
    "\n",
    "df_full.head()"
   ]
  },
  {
   "cell_type": "markdown",
   "id": "ad3269f5-0e13-45e6-9261-0b292303ac96",
   "metadata": {},
   "source": [
    "We'll check that the data from the questionnaire is consistent:"
   ]
  },
  {
   "cell_type": "code",
   "execution_count": 83,
   "id": "f1787383-067c-4d57-b4ed-166ea67251a1",
   "metadata": {},
   "outputs": [],
   "source": [
    "assert (df_full['name_q'].isna() | (df_full['name'] == df_full['name_q'])).all()\n",
    "assert (df_full['ward_q'].isna() | (df_full['ward'] == df_full['ward_q'])).all()"
   ]
  },
  {
   "cell_type": "markdown",
   "id": "8b873b71-2242-4029-aeb4-eabb14e790ca",
   "metadata": {},
   "source": [
    "Let's tidy up the columns and column names for export"
   ]
  },
  {
   "cell_type": "code",
   "execution_count": 84,
   "id": "27c067b8-6567-4c95-ad72-c7fc975ea3b0",
   "metadata": {},
   "outputs": [],
   "source": [
    "df = (\n",
    "    df_full.copy()\n",
    "    [['council', 'ward', 'vacancies', 'name',\n",
    "      'statement', 'vision', 'expertise',\n",
    "      'read_plan', 'read_code', 'has_party',\n",
    "      'party_name', 'councillor', 'council_attendance',\n",
    "      'has_phone', 'has_email', 'email_domain', 'contact_name',\n",
    "      'photo_file']]\n",
    ")\n",
    "\n",
    "df.loc[df['councillor'] == 'No', 'council_attendance'] = 'N/A'\n",
    "df.loc[df['has_party'] == 'No', 'party_name'] = 'N/A'\n",
    "df.loc[~df['has_email'], 'email_domain'] = 'N/A'\n",
    "df = df.fillna('Answer not submitted')\n",
    "\n",
    "df['has_phone'] = np.where(df['has_phone'], 'Yes', 'No')\n",
    "df['has_email'] = np.where(df['has_email'], 'Yes', 'No')\n",
    "\n",
    "df = df.rename(columns = dict(\n",
    "    vacancies = \"ward_vacancies\",\n",
    "))\n",
    "\n",
    "df.to_csv('2024_victorian_council_candidates.csv', index=False)"
   ]
  },
  {
   "cell_type": "markdown",
   "id": "215f3b3d-bfca-4630-95bd-51102c14c718",
   "metadata": {},
   "source": [
    "# What next"
   ]
  },
  {
   "cell_type": "markdown",
   "id": "6fd0740d-4cd2-437d-b6b0-10d3f4027a02",
   "metadata": {},
   "source": [
    "There are various ways to further enrich the data for more specific analyses.\n",
    "For example with the [geometric boundaries](https://discover.data.vic.gov.au/dataset/vicmap-admin) the councils and wards could be mapped to ABS Statistical Areas, and linked to Census and other demographic data.\n",
    "They could also be linked to state or national electoral boundaries (which would be much larger) and linked to votes for major political parties.\n",
    "More could be done to find council candidates specific political affiliations, for example [Councilwatch ran a survey](https://www.councilwatch.com.au/vicanswers) that includes political party affiliation.\n",
    "We could also run a separate extract for Melbourne City Council, for which there's a richer structure and more information available.\n",
    "\n",
    "However I think the dataset as is should be rich enoguh to do interesting analyses.\n",
    "I have a hypothesis that the topics candidates focus on within a council are much narrower than the topics between councils; this could give an indication of the topics that are of interest within a specific area.\n",
    "It could be interesting to get a list of topics and see which candidates mention them, and their positions, and how this varies across councils.\n",
    "Hopefully you find this a useful resource for understanding Victoria and its people."
   ]
  }
 ],
 "metadata": {
  "kernelspec": {
   "display_name": "Python 3 (ipykernel)",
   "language": "python",
   "name": "python3"
  },
  "language_info": {
   "codemirror_mode": {
    "name": "ipython",
    "version": 3
   },
   "file_extension": ".py",
   "mimetype": "text/x-python",
   "name": "python",
   "nbconvert_exporter": "python",
   "pygments_lexer": "ipython3",
   "version": "3.11.9"
  }
 },
 "nbformat": 4,
 "nbformat_minor": 5
}
