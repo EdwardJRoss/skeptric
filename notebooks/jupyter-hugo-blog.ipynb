{
 "cells": [
  {
   "cell_type": "code",
   "execution_count": 2,
   "metadata": {},
   "outputs": [],
   "source": [
    "from matplotlib import pyplot as plt\n",
    "import numpy as np"
   ]
  },
  {
   "cell_type": "markdown",
   "metadata": {},
   "source": [
    "# Writing Blog Posts with Jupyter and Hugo\n",
    "\n",
    "Tags: writing, python  \n",
    "\n",
    "date: 2020-08-02T08:00:00+10:00\n",
    "\n",
    "feature_image: /images/jupyter-blog.png\n",
    "  \n",
    "<!--eofm-->"
   ]
  },
  {
   "cell_type": "markdown",
   "metadata": {},
   "source": [
    "It can be convenient to directly publish a mixture of prose, source code and graphs.\n",
    "It ensures the published code actually runs and makes it much easier to rerun at a later point.\n",
    "I've done this before in Hugo with [R Blogdown](/blogdown), and now I'm experimenting with Jupyter notebooks.\n",
    "\n",
    "The best available [option](https://discourse.gohugo.io/t/ipython-notebook-support/3211/15) seems to be [nb2hugo](https://github.com/vlunot/nb2hugo) which converts the notebook to markdown, keeping the front matter exporting the images.\n",
    "\n",
    "How to use it; based loosely on the [demo](https://github.com/vlunot/nb2hugo-demo/):\n",
    "\n",
    "1. Create a Jupyter notebook; for example in the ./notebook repository of your blog\n",
    "2. Rename the notebook based on what you want the URL to end with\n",
    "3. Add front matter as `key: value` separated, unquoted pairs followed by `<!--eofm-->`.\n",
    "4. Install nb2hugo from source or pypi (e.g. `python -m pip install nb2hugo`)\n",
    "5. Run nb2hugo on your notebook: `nb2hugo notebooks/jupyter-hugo-blog.ipynb --site-dir ./ --section post`. Note site-dir is the path to the root of your hugo website, and section is where you want it posted.\n",
    "6. Build your website with Hugo\n",
    "\n",
    "The `nb2hugo` script will create a new file with the same name in `{site-dir}/content/{section}/{name}.md` and extracts all your images as separate files in `{site-dir}/static/{section}/{name}/`."
   ]
  },
  {
   "cell_type": "markdown",
   "metadata": {},
   "source": [
    "## Example of a generated image"
   ]
  },
  {
   "cell_type": "code",
   "execution_count": 3,
   "metadata": {},
   "outputs": [
    {
     "data": {
      "text/plain": [
       "[<matplotlib.lines.Line2D at 0x7fd22924c460>]"
      ]
     },
     "execution_count": 3,
     "metadata": {},
     "output_type": "execute_result"
    },
    {
     "data": {
      "image/png": "[encoded data removed]",
      "text/plain": [
       "<Figure size 432x288 with 1 Axes>"
      ]
     },
     "metadata": {
      "needs_background": "light"
     },
     "output_type": "display_data"
    }
   ],
   "source": [
    "x = np.arange(-10, 10, 0.01)\n",
    "y = np.sin(x) / x\n",
    "plt.plot(x, y)"
   ]
  },
  {
   "cell_type": "markdown",
   "metadata": {},
   "source": [
    "I had to work around a few issues to get this to work.\n",
    "\n",
    "## Fixing broken front matter\n",
    "\n",
    "If the frontmatter had any quotes around it, or `=` signs instead of colons, then the generated frontmatter would be very broken.\n",
    "It seems that the method to extract front matter is quite fragile.\n",
    "\n",
    "```\n",
    "# Writing Blog Posts with Jupyter and Hugo\n",
    "\n",
    "Tags: writing, python  \n",
    "\n",
    "date: 2020-08-02T08:00:00+10:00\n",
    "\n",
    "feature_image: /images/jupyter-blog.png\n",
    "  \n",
    "<!--eofm-->\n",
    "```\n",
    "\n",
    "## Fixing path routing issues\n",
    "\n",
    "In my case I use rewriting rules to remove the `/post/` from the URL.\n",
    "In my Hugo `config.toml` I do that with the following configuration\n",
    "\n",
    "```\n",
    "[permalinks]\n",
    "  post = \"/:filename/\"\n",
    "```\n",
    "\n",
    "Unfortunately the image is referenced as a local file like `output.png`.\n",
    "This means the file is being looked at in `/:filename/output.png` when it's been saved ad `/post/:filename/output.png` which means it's not rendered.\n",
    "For this post I just moved the folder.\n",
    "\n",
    "Unforutnately this doesn't seem configurable, and the nb2hugo repository seems stale.\n",
    "So either I'll need to script up moving the files after, get Hugo to move the file, or develop my own fork of nb2hugo to handle these issues.\n",
    "\n",
    "Nevertheless nb2hugo does a lot of the heavy lifting and makes it possible to publish reasonable looking blogs from a Jupyter notebook like this one.\n",
    "Blogdown is definitely a nicer experience, but even for R I sometimes [use Jupyter notebook](/display-r-jupyter), and so it's good to have it as an option."
   ]
  }
 ],
 "metadata": {
  "kernelspec": {
   "display_name": "Python 3",
   "language": "python",
   "name": "python3"
  },
  "language_info": {
   "codemirror_mode": {
    "name": "ipython",
    "version": 3
   },
   "file_extension": ".py",
   "mimetype": "text/x-python",
   "name": "python",
   "nbconvert_exporter": "python",
   "pygments_lexer": "ipython3",
   "version": "3.8.2"
  }
 },
 "nbformat": 4,
 "nbformat_minor": 4
}
