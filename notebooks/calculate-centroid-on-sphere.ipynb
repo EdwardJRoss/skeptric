{
 "cells": [
  {
   "cell_type": "code",
   "execution_count": 1,
   "metadata": {},
   "outputs": [],
   "source": [
    "%matplotlib inline\n",
    "import numpy as np\n",
    "import matplotlib.pyplot as plt\n",
    "from numpy import sin, cos, sqrt, arccos, tan, arctan2, pi, arcsin, sinc"
   ]
  },
  {
   "cell_type": "code",
   "execution_count": 2,
   "metadata": {},
   "outputs": [],
   "source": [
    "np.random.seed(438)"
   ]
  },
  {
   "cell_type": "markdown",
   "metadata": {},
   "source": [
    "# Centroid of Points on the Surface of a Sphere\n",
    "\n",
    "Tags: maths, pytorch\n",
    "\n",
    "date: 2020-12-10T08:00:00+10:00\n",
    "\n",
    "feature_image: /images/sphere_tangent_plane.png\n",
    "\n",
    "<!--eofm-->\n",
    "\n",
    "I've written a derivation of [how to find the centroid of a polygon on a sphere](https://skeptric.com/centroid-spherical-polygon/).\n",
    "This post shows it explicitly in numerical computations, and also looks at the solution in [Spherical Averages and Applications to Spherical Splines and Interpolation, by Buss and Fillmore, *ACM Transactions on Graphics* 20, 95–126 (2001)](http://math.ucsd.edu/~sbuss/ResearchWeb/spheremean/).\n",
    "Explicitly coding mathematics is a great exercise; having to concretely represent everything unearthed gaps in my understanding and found errors in both drafts of my derivation and the paper.\n",
    "\n",
    "Given a set of points on a sphere we're trying to find the point that minimises the average distance from those points, which we'll call the centroid (or [Fréchet mean](https://en.wikipedia.org/wiki/Fr%C3%A9chet_mean)).\n",
    "\n",
    "## Contents\n",
    "\n",
    "### Part 1: Calculating the centroid\n",
    "\n",
    "1. [Coordinate Transformations](#Coordinate-transformations) between spherical and cartesian coordinates\n",
    "2. [Creating Random Points on the Sphere](#Creating-Random-Points-on-the-Sphere) for testing\n",
    "3. [Geodesic Distance](#Geodesic-Distance) calculations\n",
    "4. [Measuring the Centroid](#Measuring-the-Centroid) in terms of minimising the geodesic distance\n",
    "5. [Iteratively Finding the Minimum](#Iteratively-finding-the-minimum) using a closed form solution\n",
    "\n",
    "### Part 2: Implementing Buss and Filmore's approach\n",
    "\n",
    "1. [The exponential map and its inverse](#The-exponential-map-and-its-inverse) calculated at the North Pole\n",
    "2. [Rotating spheres](#Rotating-Spheres) to enable moving arbitrary points to the North Pole\n",
    "3. [Exponential map at any point](#Exponential-map-at-any-point)\n",
    "4. [Attempting to implement the algorithm](#Attempting-to-Implement-Algorithm-A1) (and failing to get it to work)\n",
    "\n",
    "### Part 3: Gradient Descent with Pytorch\n",
    "\n",
    "1. [Gradient Descent](#Gradient-Descent)"
   ]
  },
  {
   "cell_type": "markdown",
   "metadata": {},
   "source": [
    "# Part 1: Calculating the centroid\n",
    "\n",
    "## Coordinate transformations\n",
    "\n",
    "To do calculations on the unit sphere we'll need some way of representing points on the sphere.\n",
    "There's lots of possible representations (I normally like [Stereographic Projections](https://en.wikipedia.org/wiki/Stereographic_projection)), but we'll stick to two:\n",
    "\n",
    "* Euclidean coordinate representation: (x,y,z) coordinates in 3-dimensional space.\n",
    "* Latitude Longitude representation of places on a sphere."
   ]
  },
  {
   "cell_type": "markdown",
   "metadata": {},
   "source": [
    "To convert a latitude, from -π/2 to π/2 radians (i.e. 90°S to 90°N), and a longitude, from -π to π radians (i.e. 180°W to 180°E) to a coordinate we can use the following formula ([see Wikipedia for the Geometry](https://en.wikipedia.org/wiki/Spherical_coordinate_system#Cartesian_coordinates))"
   ]
  },
  {
   "cell_type": "markdown",
   "metadata": {},
   "source": [
    "<img src=\"../static/images/spherical_coords.png\" height=\"1000\" width=\"500\" />"
   ]
  },
  {
   "cell_type": "code",
   "execution_count": 3,
   "metadata": {},
   "outputs": [],
   "source": [
    "def latlon_to_coord(lat, lon):\n",
    "    return np.array([cos(lat) * cos(lon), cos(lat)*sin(lon), sin(lat)])"
   ]
  },
  {
   "cell_type": "markdown",
   "metadata": {},
   "source": [
    "### Sanity checking coordinates\n",
    "\n",
    "Let's make sure this gives reasonable results simple angles"
   ]
  },
  {
   "cell_type": "markdown",
   "metadata": {},
   "source": [
    "So the north pole, (0,0,1) should be at π/2 latitude"
   ]
  },
  {
   "cell_type": "code",
   "execution_count": 4,
   "metadata": {},
   "outputs": [
    {
     "data": {
      "text/plain": [
       "array([6.123234e-17, 0.000000e+00, 1.000000e+00])"
      ]
     },
     "execution_count": 4,
     "metadata": {},
     "output_type": "execute_result"
    }
   ],
   "source": [
    "latlon_to_coord(pi/2, 0)"
   ]
  },
  {
   "cell_type": "markdown",
   "metadata": {},
   "source": [
    "And the south pole, (0,0,-1), at -π/2 latitude"
   ]
  },
  {
   "cell_type": "code",
   "execution_count": 5,
   "metadata": {},
   "outputs": [
    {
     "data": {
      "text/plain": [
       "array([ 6.123234e-17,  0.000000e+00, -1.000000e+00])"
      ]
     },
     "execution_count": 5,
     "metadata": {},
     "output_type": "execute_result"
    }
   ],
   "source": [
    "latlon_to_coord(-pi/2, 0)"
   ]
  },
  {
   "cell_type": "markdown",
   "metadata": {},
   "source": [
    "And the point on the x-axis (1,0,0) is at 0 latitude, and by convention 0 longitude"
   ]
  },
  {
   "cell_type": "code",
   "execution_count": 6,
   "metadata": {},
   "outputs": [
    {
     "data": {
      "text/plain": [
       "array([1., 0., 0.])"
      ]
     },
     "execution_count": 6,
     "metadata": {},
     "output_type": "execute_result"
    }
   ],
   "source": [
    "latlon_to_coord(0, 0)"
   ]
  },
  {
   "cell_type": "markdown",
   "metadata": {},
   "source": [
    "The y-axis is at π/2 longitude"
   ]
  },
  {
   "cell_type": "code",
   "execution_count": 7,
   "metadata": {},
   "outputs": [
    {
     "data": {
      "text/plain": [
       "array([6.123234e-17, 1.000000e+00, 0.000000e+00])"
      ]
     },
     "execution_count": 7,
     "metadata": {},
     "output_type": "execute_result"
    }
   ],
   "source": [
    "latlon_to_coord(0, pi/2)"
   ]
  },
  {
   "cell_type": "markdown",
   "metadata": {},
   "source": [
    "And at π longitude we have the other side of the x axis"
   ]
  },
  {
   "cell_type": "code",
   "execution_count": 8,
   "metadata": {},
   "outputs": [
    {
     "data": {
      "text/plain": [
       "array([-1.0000000e+00,  1.2246468e-16,  0.0000000e+00])"
      ]
     },
     "execution_count": 8,
     "metadata": {},
     "output_type": "execute_result"
    }
   ],
   "source": [
    "latlon_to_coord(0, pi)"
   ]
  },
  {
   "cell_type": "markdown",
   "metadata": {},
   "source": [
    "Finally at π/4 longitude we should always have the x and y components equal"
   ]
  },
  {
   "cell_type": "code",
   "execution_count": 9,
   "metadata": {},
   "outputs": [
    {
     "data": {
      "text/plain": [
       "array([0.70710678, 0.70710678, 0.        ])"
      ]
     },
     "execution_count": 9,
     "metadata": {},
     "output_type": "execute_result"
    }
   ],
   "source": [
    "latlon_to_coord(0, pi/4)"
   ]
  },
  {
   "cell_type": "code",
   "execution_count": 10,
   "metadata": {},
   "outputs": [
    {
     "data": {
      "text/plain": [
       "array([0.5       , 0.5       , 0.70710678])"
      ]
     },
     "execution_count": 10,
     "metadata": {},
     "output_type": "execute_result"
    }
   ],
   "source": [
    "latlon_to_coord(pi/4, pi/4)"
   ]
  },
  {
   "cell_type": "markdown",
   "metadata": {},
   "source": [
    "### Inverse Transformation: Cartesian Coordinates to Latitude and Longitude\n",
    "Notice the use of [atan2](https://en.wikipedia.org/wiki/Atan2) to get the sign right."
   ]
  },
  {
   "cell_type": "code",
   "execution_count": 11,
   "metadata": {},
   "outputs": [],
   "source": [
    "def coord_to_latlon(x, y, z):\n",
    "    assert np.all(np.abs((x*x +y*y +z*z) - 1) < 1e-5)\n",
    "    lat = arcsin(z)\n",
    "    lon = arctan2(y, x)\n",
    "    return np.array([lat, lon])"
   ]
  },
  {
   "cell_type": "markdown",
   "metadata": {},
   "source": [
    "### Sanity checking coordinates"
   ]
  },
  {
   "cell_type": "markdown",
   "metadata": {},
   "source": [
    "Let's check the inverse of some of the examples above"
   ]
  },
  {
   "cell_type": "code",
   "execution_count": 12,
   "metadata": {},
   "outputs": [
    {
     "data": {
      "text/plain": [
       "array([1.57079633, 0.        ])"
      ]
     },
     "execution_count": 12,
     "metadata": {},
     "output_type": "execute_result"
    }
   ],
   "source": [
    "coord_to_latlon(0,0,1)"
   ]
  },
  {
   "cell_type": "code",
   "execution_count": 13,
   "metadata": {},
   "outputs": [
    {
     "data": {
      "text/plain": [
       "array([-1.57079633,  0.        ])"
      ]
     },
     "execution_count": 13,
     "metadata": {},
     "output_type": "execute_result"
    }
   ],
   "source": [
    "coord_to_latlon(0,0,-1)"
   ]
  },
  {
   "cell_type": "code",
   "execution_count": 14,
   "metadata": {},
   "outputs": [
    {
     "data": {
      "text/plain": [
       "array([0., 0.])"
      ]
     },
     "execution_count": 14,
     "metadata": {},
     "output_type": "execute_result"
    }
   ],
   "source": [
    "coord_to_latlon(1,0,0)"
   ]
  },
  {
   "cell_type": "code",
   "execution_count": 15,
   "metadata": {},
   "outputs": [
    {
     "data": {
      "text/plain": [
       "array([0.        , 1.57079633])"
      ]
     },
     "execution_count": 15,
     "metadata": {},
     "output_type": "execute_result"
    }
   ],
   "source": [
    "coord_to_latlon(0,1,0)"
   ]
  },
  {
   "cell_type": "code",
   "execution_count": 16,
   "metadata": {},
   "outputs": [
    {
     "data": {
      "text/plain": [
       "array([ 0.        , -1.57079633])"
      ]
     },
     "execution_count": 16,
     "metadata": {},
     "output_type": "execute_result"
    }
   ],
   "source": [
    "coord_to_latlon(0,-1,0)"
   ]
  },
  {
   "cell_type": "code",
   "execution_count": 17,
   "metadata": {},
   "outputs": [
    {
     "data": {
      "text/plain": [
       "array([0.        , 3.14159265])"
      ]
     },
     "execution_count": 17,
     "metadata": {},
     "output_type": "execute_result"
    }
   ],
   "source": [
    "coord_to_latlon(-1,0,0)"
   ]
  },
  {
   "cell_type": "code",
   "execution_count": 18,
   "metadata": {},
   "outputs": [
    {
     "data": {
      "text/plain": [
       "array([0.        , 0.78539816])"
      ]
     },
     "execution_count": 18,
     "metadata": {},
     "output_type": "execute_result"
    }
   ],
   "source": [
    "coord_to_latlon(1/sqrt(2),1/sqrt(2),0)"
   ]
  },
  {
   "cell_type": "markdown",
   "metadata": {},
   "source": [
    "## Creating Random Points on the Sphere\n",
    "\n",
    "For testing it's useful to be able to create random points on the sphere.\n",
    "In this case I don't really care about the distribtution of the points so I will always just use a random uniform function.\n",
    "\n",
    "I choose the coordinates as the first axis, and the points lie along the second axis. Either choice leads to awkwardness in places either in index access or broadcasting."
   ]
  },
  {
   "cell_type": "code",
   "execution_count": 19,
   "metadata": {},
   "outputs": [],
   "source": [
    "def random_latlon(n):\n",
    "    return (np.random.random_sample([2, n]) - 0.5) * np.array([pi, 2*pi])[...,None]"
   ]
  },
  {
   "cell_type": "markdown",
   "metadata": {},
   "source": [
    "Here are 5 points of latitude/longitude (the lat/lon is read vertically in the array below)."
   ]
  },
  {
   "cell_type": "code",
   "execution_count": 20,
   "metadata": {},
   "outputs": [
    {
     "data": {
      "text/plain": [
       "array([[-1.05051377,  1.51919682,  1.08064898, -0.9478646 , -0.24458294],\n",
       "       [ 0.51328911, -0.2909267 ,  0.70478098, -0.09613048, -1.45489469]])"
      ]
     },
     "execution_count": 20,
     "metadata": {},
     "output_type": "execute_result"
    }
   ],
   "source": [
    "random_latlon(5)"
   ]
  },
  {
   "cell_type": "markdown",
   "metadata": {},
   "source": [
    "The points are definitely in the right coordinate ranges; latitude between -pi/2 to pi/2 and longiture from -pi to pi"
   ]
  },
  {
   "cell_type": "code",
   "execution_count": 21,
   "metadata": {},
   "outputs": [
    {
     "data": {
      "text/plain": [
       "(array([-1.56325868, -3.10261397]), array([1.56479825, 3.11079206]))"
      ]
     },
     "execution_count": 21,
     "metadata": {},
     "output_type": "execute_result"
    }
   ],
   "source": [
    "r = random_latlon(300)\n",
    "r.min(axis=1), r.max(axis=1)"
   ]
  },
  {
   "cell_type": "code",
   "execution_count": 22,
   "metadata": {},
   "outputs": [
    {
     "data": {
      "text/plain": [
       "<matplotlib.collections.PathCollection at 0x7f9b414786d0>"
      ]
     },
     "execution_count": 22,
     "metadata": {},
     "output_type": "execute_result"
    },
    {
     "data": {
      "image/png": "[encoded data removed]",
      "text/plain": [
       "<Figure size 432x288 with 1 Axes>"
      ]
     },
     "metadata": {
      "needs_background": "light"
     },
     "output_type": "display_data"
    }
   ],
   "source": [
    "fig, ax = plt.subplots()\n",
    "plt.scatter(r[0], r[1])"
   ]
  },
  {
   "cell_type": "markdown",
   "metadata": {},
   "source": [
    "Similarly we can create a random point on the sphere by making a random point in the 3 dimensional unit cube centred on the origin and projecting it.\n",
    "Note this will have a different distribution to the latitude longitude random points.\n",
    "\n",
    "There is an infinitessimal chance this will blow up if we pick (0,0,0) as the random point."
   ]
  },
  {
   "cell_type": "code",
   "execution_count": 23,
   "metadata": {},
   "outputs": [],
   "source": [
    "def random_sphere_point(n):\n",
    "    ans = np.random.random_sample([3, n]) - 0.5\n",
    "    norm = np.sqrt((ans*ans).sum(axis=0))\n",
    "    return ans / norm[...,:]"
   ]
  },
  {
   "cell_type": "markdown",
   "metadata": {},
   "source": [
    "Here are 5 points on the sphere in Cartesian Coordinates"
   ]
  },
  {
   "cell_type": "code",
   "execution_count": 24,
   "metadata": {},
   "outputs": [
    {
     "data": {
      "text/plain": [
       "array([[-0.7474551 , -0.67828974,  0.4894528 ,  0.14031347, -0.83906874],\n",
       "       [ 0.12810391, -0.73422057,  0.46630495,  0.00811564,  0.15397168],\n",
       "       [-0.65184374, -0.02903757,  0.73688239,  0.99007387, -0.52178191]])"
      ]
     },
     "execution_count": 24,
     "metadata": {},
     "output_type": "execute_result"
    }
   ],
   "source": [
    "random_sphere_point(5)"
   ]
  },
  {
   "cell_type": "markdown",
   "metadata": {},
   "source": [
    "Check they actually do lie on the unit sphere - a distance of 1 from the origin."
   ]
  },
  {
   "cell_type": "code",
   "execution_count": 25,
   "metadata": {},
   "outputs": [
    {
     "data": {
      "text/plain": [
       "(1.0000000000000004, 0.9999999999999996)"
      ]
     },
     "execution_count": 25,
     "metadata": {},
     "output_type": "execute_result"
    }
   ],
   "source": [
    "r = random_sphere_point(1000)\n",
    "norms = (r*r).sum(axis=0)\n",
    "norms.max(), norms.min()"
   ]
  },
  {
   "cell_type": "markdown",
   "metadata": {},
   "source": [
    "I guess that looks like a sphere"
   ]
  },
  {
   "cell_type": "code",
   "execution_count": 26,
   "metadata": {},
   "outputs": [
    {
     "data": {
      "text/plain": [
       "<mpl_toolkits.mplot3d.art3d.Path3DCollection at 0x7f9b3f343b80>"
      ]
     },
     "execution_count": 26,
     "metadata": {},
     "output_type": "execute_result"
    },
    {
     "data": {
      "image/png": "[encoded data removed]",
      "text/plain": [
       "<Figure size 432x288 with 1 Axes>"
      ]
     },
     "metadata": {
      "needs_background": "light"
     },
     "output_type": "display_data"
    }
   ],
   "source": [
    "fig = plt.figure()\n",
    "ax = plt.axes(projection='3d')\n",
    "fig\n",
    "ax.scatter3D(*r)"
   ]
  },
  {
   "cell_type": "markdown",
   "metadata": {},
   "source": [
    "If we turn it a bit it still looks like a sphere"
   ]
  },
  {
   "cell_type": "code",
   "execution_count": 27,
   "metadata": {},
   "outputs": [
    {
     "data": {
      "image/png": "[encoded data removed]",
      "text/plain": [
       "<Figure size 432x288 with 1 Axes>"
      ]
     },
     "execution_count": 27,
     "metadata": {},
     "output_type": "execute_result"
    }
   ],
   "source": [
    "ax.view_init(45, 45)\n",
    "fig"
   ]
  },
  {
   "cell_type": "code",
   "execution_count": 28,
   "metadata": {},
   "outputs": [
    {
     "data": {
      "image/png": "[encoded data removed]",
      "text/plain": [
       "<Figure size 432x288 with 1 Axes>"
      ]
     },
     "execution_count": 28,
     "metadata": {},
     "output_type": "execute_result"
    }
   ],
   "source": [
    "ax.view_init(165, 135)\n",
    "fig"
   ]
  },
  {
   "cell_type": "markdown",
   "metadata": {},
   "source": [
    "We can also project it back to lat-lon.\n",
    "\n",
    "Notice how it's more concentrated towards the centre because there's actually less area in the extremites of latitude and longiture."
   ]
  },
  {
   "cell_type": "code",
   "execution_count": 29,
   "metadata": {},
   "outputs": [
    {
     "data": {
      "text/plain": [
       "<matplotlib.collections.PathCollection at 0x7f9b3f327370>"
      ]
     },
     "execution_count": 29,
     "metadata": {},
     "output_type": "execute_result"
    },
    {
     "data": {
      "image/png": "[encoded data removed]",
      "text/plain": [
       "<Figure size 432x288 with 1 Axes>"
      ]
     },
     "metadata": {
      "needs_background": "light"
     },
     "output_type": "display_data"
    }
   ],
   "source": [
    "fig, ax = plt.subplots()\n",
    "plt.scatter(*coord_to_latlon(*r))"
   ]
  },
  {
   "cell_type": "markdown",
   "metadata": {},
   "source": [
    "Now let's check that our coordinate transforms are actually inverses by checking a bunch of random points."
   ]
  },
  {
   "cell_type": "markdown",
   "metadata": {},
   "source": [
    "It looks like the coordinate transforms are really inverses"
   ]
  },
  {
   "cell_type": "code",
   "execution_count": 30,
   "metadata": {},
   "outputs": [],
   "source": [
    "def distance(x, y, axis=0):\n",
    "    return sqrt((np.power(x - y, 2)).sum(axis=axis))"
   ]
  },
  {
   "cell_type": "code",
   "execution_count": 31,
   "metadata": {},
   "outputs": [
    {
     "data": {
      "text/plain": [
       "5.484501741648273e-14"
      ]
     },
     "execution_count": 31,
     "metadata": {},
     "output_type": "execute_result"
    }
   ],
   "source": [
    "r = random_latlon(1000)\n",
    "rr = coord_to_latlon(*latlon_to_coord(*r))\n",
    "distance(rr, r).max()"
   ]
  },
  {
   "cell_type": "code",
   "execution_count": 32,
   "metadata": {},
   "outputs": [
    {
     "data": {
      "text/plain": [
       "1.3087313122991207e-15"
      ]
     },
     "execution_count": 32,
     "metadata": {},
     "output_type": "execute_result"
    }
   ],
   "source": [
    "r = random_sphere_point(1000)\n",
    "rr = latlon_to_coord(*coord_to_latlon(*r))\n",
    "distance(rr, r).max()"
   ]
  },
  {
   "cell_type": "markdown",
   "metadata": {},
   "source": [
    "## Geodesic Distance\n",
    "\n",
    "I claim that the geodesic distance of two points on a sphere is the arccos of the dot product of the vectors that make them.\n",
    "\n",
    "[According to Wikipedia](https://en.wikipedia.org/wiki/Great-circle_distance) the distance between two points is:\n",
    "\n",
    "$$ \\Delta\\sigma = \\arccos\\bigl(\\sin\\phi_1\\sin\\phi_2 + \\cos\\phi_1\\cos\\phi_2\\cos(\\Delta\\lambda)\\bigr). $$\n",
    "\n",
    "Where $\\lambda_1, \\phi_1$ and $\\lambda_2, \\phi_2$ are the longitude and latitude respectively.\n",
    "\n",
    "Although this is numerically unstable let's check this to see if we're in the right ballpark"
   ]
  },
  {
   "cell_type": "code",
   "execution_count": 33,
   "metadata": {},
   "outputs": [],
   "source": [
    "lat1, lon1 = random_latlon(10)\n",
    "lat2, lon2 = random_latlon(10)"
   ]
  },
  {
   "cell_type": "code",
   "execution_count": 34,
   "metadata": {},
   "outputs": [],
   "source": [
    "def latlon_geodist(lat1, lon1, lat2, lon2):\n",
    "    return  arccos(sin(lat1) * sin(lat2) + cos(lat1) * cos(lat2) * cos(lon2 - lon1))"
   ]
  },
  {
   "cell_type": "markdown",
   "metadata": {},
   "source": [
    "Let's do some sanity checking"
   ]
  },
  {
   "cell_type": "markdown",
   "metadata": {},
   "source": [
    "Points at the same place should be 0 distance"
   ]
  },
  {
   "cell_type": "code",
   "execution_count": 35,
   "metadata": {},
   "outputs": [
    {
     "name": "stderr",
     "output_type": "stream",
     "text": [
      "<ipython-input-34-30a781f9625f>:2: RuntimeWarning: invalid value encountered in arccos\n",
      "  return  arccos(sin(lat1) * sin(lat2) + cos(lat1) * cos(lat2) * cos(lon2 - lon1))\n"
     ]
    },
    {
     "data": {
      "text/plain": [
       "array([0.00000000e+00, 1.49011612e-08, 0.00000000e+00, 0.00000000e+00,\n",
       "       0.00000000e+00, 0.00000000e+00, 0.00000000e+00,            nan,\n",
       "       0.00000000e+00, 0.00000000e+00])"
      ]
     },
     "execution_count": 35,
     "metadata": {},
     "output_type": "execute_result"
    }
   ],
   "source": [
    "latlon_geodist(lat1, lon1, lat1, lon1)"
   ]
  },
  {
   "cell_type": "markdown",
   "metadata": {},
   "source": [
    "It's possible to get a nan due to floating point error.\n",
    "This rounds up to just over 1 which is just outside the bounds of arccos."
   ]
  },
  {
   "cell_type": "code",
   "execution_count": 36,
   "metadata": {},
   "outputs": [
    {
     "data": {
      "text/plain": [
       "1.0000000000000002"
      ]
     },
     "execution_count": 36,
     "metadata": {},
     "output_type": "execute_result"
    }
   ],
   "source": [
    "lat, lon = (-1.129680862943046, -1.4351343458834227)\n",
    "sin(lat) * sin(lat) + cos(lat) * cos(lat) * cos(lon - lon)"
   ]
  },
  {
   "cell_type": "markdown",
   "metadata": {},
   "source": [
    "Let's hack this a little to make it more stable"
   ]
  },
  {
   "cell_type": "code",
   "execution_count": 37,
   "metadata": {},
   "outputs": [],
   "source": [
    "def latlon_geodist(lat1, lon1, lat2, lon2, eps = 1e-6):\n",
    "    dotprod = sin(lat1) * sin(lat2) + cos(lat1) * cos(lat2) * cos(lon2 - lon1)\n",
    "    assert ((-1 - eps) <= dotprod).all() and (dotprod <= (1 + eps)).all()\n",
    "    dotprod = dotprod.clip(-1, 1)\n",
    "    return arccos(dotprod)"
   ]
  },
  {
   "cell_type": "code",
   "execution_count": 38,
   "metadata": {},
   "outputs": [
    {
     "data": {
      "text/plain": [
       "0.0"
      ]
     },
     "execution_count": 38,
     "metadata": {},
     "output_type": "execute_result"
    }
   ],
   "source": [
    "latlon_geodist(lat, lon, lat, lon)"
   ]
  },
  {
   "cell_type": "markdown",
   "metadata": {},
   "source": [
    "The distance between the equator and the north pole should be pi/2"
   ]
  },
  {
   "cell_type": "code",
   "execution_count": 39,
   "metadata": {},
   "outputs": [
    {
     "data": {
      "text/plain": [
       "1.5707963267948966"
      ]
     },
     "execution_count": 39,
     "metadata": {},
     "output_type": "execute_result"
    }
   ],
   "source": [
    "latlon_geodist(0, 0, pi/2, 0)"
   ]
  },
  {
   "cell_type": "markdown",
   "metadata": {},
   "source": [
    "The distance between antipodal points should be pi"
   ]
  },
  {
   "cell_type": "code",
   "execution_count": 40,
   "metadata": {},
   "outputs": [
    {
     "data": {
      "text/plain": [
       "3.141592653589793"
      ]
     },
     "execution_count": 40,
     "metadata": {},
     "output_type": "execute_result"
    }
   ],
   "source": [
    "latlon_geodist(-pi/2, 0, pi/2, 0)"
   ]
  },
  {
   "cell_type": "code",
   "execution_count": 41,
   "metadata": {},
   "outputs": [
    {
     "data": {
      "text/plain": [
       "3.141592653589793"
      ]
     },
     "execution_count": 41,
     "metadata": {},
     "output_type": "execute_result"
    }
   ],
   "source": [
    "latlon_geodist(0, 0, 0, pi)"
   ]
  },
  {
   "cell_type": "code",
   "execution_count": 42,
   "metadata": {},
   "outputs": [
    {
     "data": {
      "text/plain": [
       "3.141592653589793"
      ]
     },
     "execution_count": 42,
     "metadata": {},
     "output_type": "execute_result"
    }
   ],
   "source": [
    "latlon_geodist(0, -pi/2, 0, pi/2)"
   ]
  },
  {
   "cell_type": "markdown",
   "metadata": {},
   "source": [
    "Now compare the geodistance with the arccos of the dot product"
   ]
  },
  {
   "cell_type": "code",
   "execution_count": 43,
   "metadata": {},
   "outputs": [
    {
     "data": {
      "text/plain": [
       "array([2.46947963, 2.49913914, 1.46664046, 1.17041288, 0.37746113,\n",
       "       2.16346273, 1.00909388, 0.48192531, 2.53874702, 2.6748886 ])"
      ]
     },
     "execution_count": 43,
     "metadata": {},
     "output_type": "execute_result"
    }
   ],
   "source": [
    "dist = latlon_geodist(lat1, lon1, lat2, lon2)\n",
    "dist"
   ]
  },
  {
   "cell_type": "code",
   "execution_count": 44,
   "metadata": {},
   "outputs": [],
   "source": [
    "p = latlon_to_coord(lat1, lon1)\n",
    "q = latlon_to_coord(lat2, lon2)"
   ]
  },
  {
   "cell_type": "code",
   "execution_count": 45,
   "metadata": {},
   "outputs": [
    {
     "data": {
      "text/plain": [
       "array([2.46947963, 2.49913914, 1.46664046, 1.17041288, 0.37746113,\n",
       "       2.16346273, 1.00909388, 0.48192531, 2.53874702, 2.6748886 ])"
      ]
     },
     "execution_count": 45,
     "metadata": {},
     "output_type": "execute_result"
    }
   ],
   "source": [
    "dist2 = arccos((p*q).sum(axis=0))\n",
    "dist2"
   ]
  },
  {
   "cell_type": "markdown",
   "metadata": {},
   "source": [
    "They agree to the order of floating point error."
   ]
  },
  {
   "cell_type": "code",
   "execution_count": 46,
   "metadata": {},
   "outputs": [
    {
     "data": {
      "text/plain": [
       "0.0"
      ]
     },
     "execution_count": 46,
     "metadata": {},
     "output_type": "execute_result"
    }
   ],
   "source": [
    "(dist - dist2).max()"
   ]
  },
  {
   "cell_type": "markdown",
   "metadata": {},
   "source": [
    "Let's capture that in a function, again making sure to bound the elements to deal with floating point errors."
   ]
  },
  {
   "cell_type": "code",
   "execution_count": 47,
   "metadata": {},
   "outputs": [],
   "source": [
    "def geodist(x, y, eps=1e-6):\n",
    "    dotprod = y.T @ x\n",
    "    assert ((-1 - eps) <= dotprod).all() and (dotprod <= (1 + eps)).all()\n",
    "    dotprod = dotprod.clip(-1, 1)\n",
    "    return np.arccos(dotprod)"
   ]
  },
  {
   "cell_type": "code",
   "execution_count": 48,
   "metadata": {},
   "outputs": [
    {
     "data": {
      "text/plain": [
       "array([0., 0., 0., 0., 0., 0., 0., 0., 0., 0.])"
      ]
     },
     "execution_count": 48,
     "metadata": {},
     "output_type": "execute_result"
    }
   ],
   "source": [
    "[geodist(pi, qi) for pi, qi in zip(p.T, q.T)] - dist"
   ]
  },
  {
   "cell_type": "markdown",
   "metadata": {},
   "source": [
    "In our function x can also be a collection of points:"
   ]
  },
  {
   "cell_type": "code",
   "execution_count": 49,
   "metadata": {},
   "outputs": [
    {
     "data": {
      "text/plain": [
       "array([ 0.31287334, -0.20532369, -0.92733622])"
      ]
     },
     "execution_count": 49,
     "metadata": {},
     "output_type": "execute_result"
    }
   ],
   "source": [
    "q0 = np.array(q)[:,0]\n",
    "q0"
   ]
  },
  {
   "cell_type": "code",
   "execution_count": 50,
   "metadata": {},
   "outputs": [
    {
     "data": {
      "text/plain": [
       "[2.469479630515192,\n",
       " 0.40323027521610894,\n",
       " 1.4920173306523,\n",
       " 1.9558900601514497,\n",
       " 2.7359590483860647,\n",
       " 2.1462847027999032,\n",
       " 0.7043405473704512,\n",
       " 2.7367906455922415,\n",
       " 0.9539342223012038,\n",
       " 1.2027484136227085]"
      ]
     },
     "execution_count": 50,
     "metadata": {},
     "output_type": "execute_result"
    }
   ],
   "source": [
    "[geodist(pi, q0) for pi in p.T]"
   ]
  },
  {
   "cell_type": "code",
   "execution_count": 51,
   "metadata": {},
   "outputs": [
    {
     "data": {
      "text/plain": [
       "array([2.46947963, 0.40323028, 1.49201733, 1.95589006, 2.73595905,\n",
       "       2.1462847 , 0.70434055, 2.73679065, 0.95393422, 1.20274841])"
      ]
     },
     "execution_count": 51,
     "metadata": {},
     "output_type": "execute_result"
    }
   ],
   "source": [
    "geodist(p, q0)"
   ]
  },
  {
   "cell_type": "markdown",
   "metadata": {},
   "source": [
    "They can also both be arrays in which case all pairing are calculated."
   ]
  },
  {
   "cell_type": "code",
   "execution_count": 52,
   "metadata": {},
   "outputs": [
    {
     "data": {
      "text/plain": [
       "array([2.46947963, 0.34759067, 2.38907755, 0.89968604, 0.26041626,\n",
       "       2.60671514, 1.83068643, 0.26215902, 1.62594305, 0.35150679])"
      ]
     },
     "execution_count": 52,
     "metadata": {},
     "output_type": "execute_result"
    }
   ],
   "source": [
    "geodist(p, q)[:,0]"
   ]
  },
  {
   "cell_type": "markdown",
   "metadata": {},
   "source": [
    "## Measuring the Centroid"
   ]
  },
  {
   "cell_type": "markdown",
   "metadata": {},
   "source": [
    "Suppose we have a bunch of points on the sphere, the centroid is the point that minimises the total (or equivalently average) distance from that point to all other points.\n",
    "\n",
    "Let's try to find the centroid of 4 points."
   ]
  },
  {
   "cell_type": "code",
   "execution_count": 53,
   "metadata": {},
   "outputs": [
    {
     "data": {
      "text/plain": [
       "(array([ 0.61804667, -0.76357346, -0.18701308]),\n",
       " array([[ 0.93870158, -0.44268846,  0.68158944, -0.79466137],\n",
       "        [-0.3443822 , -0.70496228,  0.34836305, -0.04389649],\n",
       "        [ 0.01549958,  0.55412554,  0.64348973, -0.60546379]]))"
      ]
     },
     "execution_count": 53,
     "metadata": {},
     "output_type": "execute_result"
    }
   ],
   "source": [
    "m = random_sphere_point(1)[:,0]\n",
    "ps = random_sphere_point(4)\n",
    "m, ps"
   ]
  },
  {
   "cell_type": "code",
   "execution_count": 54,
   "metadata": {},
   "outputs": [
    {
     "data": {
      "text/plain": [
       "array([0.57310037, 1.40903212, 1.53587692, 1.92238526])"
      ]
     },
     "execution_count": 54,
     "metadata": {},
     "output_type": "execute_result"
    }
   ],
   "source": [
    "dists = geodist(ps, m)\n",
    "dists"
   ]
  },
  {
   "cell_type": "code",
   "execution_count": 55,
   "metadata": {},
   "outputs": [
    {
     "data": {
      "text/plain": [
       "1.3600986701826971"
      ]
     },
     "execution_count": 55,
     "metadata": {},
     "output_type": "execute_result"
    }
   ],
   "source": [
    "dists.mean()"
   ]
  },
  {
   "cell_type": "code",
   "execution_count": 56,
   "metadata": {},
   "outputs": [],
   "source": [
    "lats, lons = coord_to_latlon(*ps)\n",
    "mlat, mlon = coord_to_latlon(*m)"
   ]
  },
  {
   "cell_type": "code",
   "execution_count": 57,
   "metadata": {},
   "outputs": [
    {
     "data": {
      "text/plain": [
       "array([0.57310037, 1.40903212, 1.53587692, 1.92238526])"
      ]
     },
     "execution_count": 57,
     "metadata": {},
     "output_type": "execute_result"
    }
   ],
   "source": [
    "dists2 = latlon_geodist(lats, lons, mlat, mlon)\n",
    "dists2"
   ]
  },
  {
   "cell_type": "code",
   "execution_count": 58,
   "metadata": {},
   "outputs": [
    {
     "data": {
      "text/plain": [
       "1.3600986701826971"
      ]
     },
     "execution_count": 58,
     "metadata": {},
     "output_type": "execute_result"
    }
   ],
   "source": [
    "dists2.mean()"
   ]
  },
  {
   "cell_type": "markdown",
   "metadata": {},
   "source": [
    "The centroid minimises average distance.\n",
    "\n",
    "We'll create a function that takes a collection of potential centroids to calculate the average distance from."
   ]
  },
  {
   "cell_type": "code",
   "execution_count": 59,
   "metadata": {},
   "outputs": [
    {
     "data": {
      "text/plain": [
       "array([[ 0.61804667],\n",
       "       [-0.76357346],\n",
       "       [-0.18701308]])"
      ]
     },
     "execution_count": 59,
     "metadata": {},
     "output_type": "execute_result"
    }
   ],
   "source": [
    "m[:,None]"
   ]
  },
  {
   "cell_type": "code",
   "execution_count": null,
   "metadata": {},
   "outputs": [],
   "source": []
  },
  {
   "cell_type": "code",
   "execution_count": 60,
   "metadata": {},
   "outputs": [
    {
     "data": {
      "text/plain": [
       "(3,)"
      ]
     },
     "execution_count": 60,
     "metadata": {},
     "output_type": "execute_result"
    }
   ],
   "source": [
    "m.shape"
   ]
  },
  {
   "cell_type": "code",
   "execution_count": 61,
   "metadata": {},
   "outputs": [
    {
     "data": {
      "text/plain": [
       "(3, 4)"
      ]
     },
     "execution_count": 61,
     "metadata": {},
     "output_type": "execute_result"
    }
   ],
   "source": [
    "ps.shape"
   ]
  },
  {
   "cell_type": "code",
   "execution_count": 62,
   "metadata": {},
   "outputs": [],
   "source": [
    "def avg_distance(ps, m):\n",
    "    # Allow m to be a vector *or* a matrix\n",
    "    if len(m.shape) == 1:\n",
    "        m = m[:, None]\n",
    "    return geodist(ps, m).mean(axis=1)"
   ]
  },
  {
   "cell_type": "code",
   "execution_count": 63,
   "metadata": {},
   "outputs": [
    {
     "data": {
      "text/plain": [
       "array([1.36009867])"
      ]
     },
     "execution_count": 63,
     "metadata": {},
     "output_type": "execute_result"
    }
   ],
   "source": [
    "avg_distance(ps, m)"
   ]
  },
  {
   "cell_type": "markdown",
   "metadata": {},
   "source": [
    "Let's do a random search for the centroid of the ps"
   ]
  },
  {
   "cell_type": "code",
   "execution_count": 64,
   "metadata": {},
   "outputs": [],
   "source": [
    "m = random_sphere_point(50000)"
   ]
  },
  {
   "cell_type": "code",
   "execution_count": 65,
   "metadata": {},
   "outputs": [
    {
     "data": {
      "text/plain": [
       "array([1.87538182, 1.72981518, 1.83908373, ..., 1.53442742, 1.54397244,\n",
       "       1.64161356])"
      ]
     },
     "execution_count": 65,
     "metadata": {},
     "output_type": "execute_result"
    }
   ],
   "source": [
    "distances = avg_distance(ps, m)\n",
    "distances"
   ]
  },
  {
   "cell_type": "markdown",
   "metadata": {},
   "source": [
    "Clearly the minimum *must* be lower than this."
   ]
  },
  {
   "cell_type": "code",
   "execution_count": 66,
   "metadata": {},
   "outputs": [
    {
     "data": {
      "text/plain": [
       "(array([-0.43100664, -0.70535782,  0.56276427]),\n",
       " 1.2565096068989563,\n",
       " 1.8852477691126441)"
      ]
     },
     "execution_count": 66,
     "metadata": {},
     "output_type": "execute_result"
    }
   ],
   "source": [
    "m[:,distances.argmin()], distances.min(), distances.max()"
   ]
  },
  {
   "cell_type": "markdown",
   "metadata": {},
   "source": [
    "Let's just check it's on the unit sphere."
   ]
  },
  {
   "cell_type": "code",
   "execution_count": 67,
   "metadata": {},
   "outputs": [
    {
     "data": {
      "text/plain": [
       "0.9999999999999998"
      ]
     },
     "execution_count": 67,
     "metadata": {},
     "output_type": "execute_result"
    }
   ],
   "source": [
    "min_point = m[:,distances.argmin()]\n",
    "(min_point * min_point).sum()"
   ]
  },
  {
   "cell_type": "markdown",
   "metadata": {},
   "source": [
    "In [the notion parallax article](https://notionparallax.co.uk/2009/centroid-of-points-on-the-surface-of-a-sphere) the second suggestion is to project the average vector (which he says doesn't seem quite right).\n",
    "\n",
    "We can check this explicity by calculating that projection."
   ]
  },
  {
   "cell_type": "code",
   "execution_count": 68,
   "metadata": {},
   "outputs": [
    {
     "data": {
      "text/plain": [
       "(array([ 0.37007754, -0.7198562 ,  0.58723902]),\n",
       " array([1.29459946]),\n",
       " array([False]))"
      ]
     },
     "execution_count": 68,
     "metadata": {},
     "output_type": "execute_result"
    }
   ],
   "source": [
    "avg = ps.sum(axis=1)\n",
    "avg = avg / np.sqrt((avg*avg).sum())\n",
    "meanpoint_dist = avg_distance(ps, avg[:,None])\n",
    "avg, meanpoint_dist, meanpoint_dist <= distances.min()"
   ]
  },
  {
   "cell_type": "markdown",
   "metadata": {},
   "source": [
    "## Iteratively finding the minimum\n",
    "\n",
    "As I derived in [finding the Centroid of a Spherical Polygon](/centroid-spherical-polygon) it occurs where\n",
    "\n",
    "$$ c = k \\sum_{i=1}^{N} \\frac{p_i}{\\sqrt{1 - (c \\cdot p_i)^2}} $$\n",
    "\n",
    "We can evaluate this iteratively and hope that it converges to the minimum."
   ]
  },
  {
   "cell_type": "code",
   "execution_count": 69,
   "metadata": {},
   "outputs": [],
   "source": [
    "def improve_centroid(c, ps):\n",
    "    ans = (ps / sqrt(1 - np.power(c@ps, 2))).sum(axis=-1)\n",
    "    norm = sqrt(ans @ ans)\n",
    "    return ans / norm"
   ]
  },
  {
   "cell_type": "code",
   "execution_count": 70,
   "metadata": {},
   "outputs": [
    {
     "data": {
      "text/plain": [
       "array([ 0.23688037, -0.81413966,  0.53015498])"
      ]
     },
     "execution_count": 70,
     "metadata": {},
     "output_type": "execute_result"
    }
   ],
   "source": [
    "improve_centroid(avg, ps)"
   ]
  },
  {
   "cell_type": "code",
   "execution_count": 71,
   "metadata": {},
   "outputs": [],
   "source": [
    "def fixpoint(f, x0, eps=1e-5, maxiter=1000, **kwargs):\n",
    "    for _ in range(maxiter):\n",
    "        x = f(x0, **kwargs)\n",
    "        if distance(x, x0) < eps:\n",
    "            return x\n",
    "        x0 = x\n",
    "    raise Exception(\"Did not converge\")"
   ]
  },
  {
   "cell_type": "code",
   "execution_count": 72,
   "metadata": {},
   "outputs": [],
   "source": [
    "def spherical_centroid(ps, eps=1e-5, maxiter=10000):\n",
    "    return fixpoint(improve_centroid, np.zeros((3,)), ps=ps, eps=eps, maxiter=maxiter)"
   ]
  },
  {
   "cell_type": "code",
   "execution_count": 73,
   "metadata": {},
   "outputs": [
    {
     "data": {
      "text/plain": [
       "array([-0.442657  , -0.70497373,  0.5541361 ])"
      ]
     },
     "execution_count": 73,
     "metadata": {},
     "output_type": "execute_result"
    }
   ],
   "source": [
    "fix = spherical_centroid(ps)\n",
    "fix"
   ]
  },
  {
   "cell_type": "markdown",
   "metadata": {},
   "source": [
    "This does seem to be lower than any of our random points"
   ]
  },
  {
   "cell_type": "code",
   "execution_count": 74,
   "metadata": {},
   "outputs": [
    {
     "data": {
      "text/plain": [
       "(array([1.2554998]), array([ True]))"
      ]
     },
     "execution_count": 74,
     "metadata": {},
     "output_type": "execute_result"
    }
   ],
   "source": [
    "dmin = avg_distance(ps, fix)\n",
    "dmin, dmin <= distances.min()"
   ]
  },
  {
   "cell_type": "markdown",
   "metadata": {},
   "source": [
    "Another good check is to see whether moving a small distance around this point increases the distance.\n",
    "\n",
    "(Note the small distance needs to be a bit bigger than our eps above in deciding convergence)"
   ]
  },
  {
   "cell_type": "code",
   "execution_count": 75,
   "metadata": {},
   "outputs": [],
   "source": [
    "fix_latlon = coord_to_latlon(*fix)"
   ]
  },
  {
   "cell_type": "code",
   "execution_count": 76,
   "metadata": {},
   "outputs": [
    {
     "data": {
      "text/plain": [
       "array([[-0.442657  , -0.44262753, -0.44268646, -0.4425865 , -0.44272749],\n",
       "       [-0.70497373, -0.7049268 , -0.70502066, -0.705018  , -0.70492947],\n",
       "       [ 0.5541361 ,  0.55421934,  0.55405286,  0.5541361 ,  0.5541361 ]])"
      ]
     },
     "execution_count": 76,
     "metadata": {},
     "output_type": "execute_result"
    }
   ],
   "source": [
    "eps = 1e-4\n",
    "xeps = np.array([eps, 0])\n",
    "yeps = np.array([0, eps])\n",
    "perturbations = np.array([latlon_to_coord(*(fix_latlon + x)) for x in \n",
    "                  [0, xeps, -xeps, yeps, -yeps]]).T\n",
    "perturbations"
   ]
  },
  {
   "cell_type": "markdown",
   "metadata": {},
   "source": [
    "The minimum occurs at the first point, with no perturbation."
   ]
  },
  {
   "cell_type": "code",
   "execution_count": 77,
   "metadata": {},
   "outputs": [
    {
     "data": {
      "text/plain": [
       "array([1.2554998 , 1.25551318, 1.2555215 , 1.25550478, 1.25551945])"
      ]
     },
     "execution_count": 77,
     "metadata": {},
     "output_type": "execute_result"
    }
   ],
   "source": [
    "avg_distance(ps, perturbations)"
   ]
  },
  {
   "cell_type": "code",
   "execution_count": 78,
   "metadata": {},
   "outputs": [
    {
     "data": {
      "text/plain": [
       "0"
      ]
     },
     "execution_count": 78,
     "metadata": {},
     "output_type": "execute_result"
    }
   ],
   "source": [
    "avg_distance(ps, perturbations).argmin()"
   ]
  },
  {
   "cell_type": "markdown",
   "metadata": {},
   "source": [
    "# Part 2: Recreating Buss and Filmore's Approach"
   ]
  },
  {
   "cell_type": "markdown",
   "metadata": {},
   "source": [
    "## The exponential map and its inverse\n",
    "\n",
    "In the Buss and Filmore paper they talk about the exponential map and its inverse at the point (0,0,1).\n",
    "The idea is that we are building a correspondence between moving in the tangent plane and moving in the sphere itself in a way that preserves distances.\n",
    "Really this is just a special sort of parameterisation of the sphere that preserves distances."
   ]
  },
  {
   "cell_type": "markdown",
   "metadata": {},
   "source": [
    "<img src=\"../static/images/sphere_tangent_plane.png\">"
   ]
  },
  {
   "cell_type": "markdown",
   "metadata": {},
   "source": [
    "The exponential map from the north pole takes an (x,y) point on that plane and returns an (x,y,z) coordinate on the sphere's surface.\n",
    "\n",
    "They give the formula (bottom of page 11):\n",
    "\n",
    "$$ exp_{(0,0,1)} (x, y) = (x \\frac{\\sin r}{r}, y \\frac{\\sin r}{r}, \\cos{r}) $$\n",
    "\n",
    "Where $$ r = \\sqrt{x^2 + y^2} $$ is the distance of the point on the tangent plane from where it touches the sphere.\n",
    "\n",
    "In code (using sinc for numerical stability at 0)"
   ]
  },
  {
   "cell_type": "code",
   "execution_count": 79,
   "metadata": {},
   "outputs": [],
   "source": [
    "def exp_northpole(x, y):\n",
    "    r = sqrt(x*x + y*y)\n",
    "    sincr = sinc(r/np.pi)\n",
    "    return (x * sincr, y * sincr, cos(r))"
   ]
  },
  {
   "cell_type": "markdown",
   "metadata": {},
   "source": [
    "So at the origin we should get the north pole"
   ]
  },
  {
   "cell_type": "code",
   "execution_count": 80,
   "metadata": {},
   "outputs": [
    {
     "data": {
      "text/plain": [
       "(0.0, 0.0, 1.0)"
      ]
     },
     "execution_count": 80,
     "metadata": {},
     "output_type": "execute_result"
    }
   ],
   "source": [
    "exp_northpole(0,0)"
   ]
  },
  {
   "cell_type": "markdown",
   "metadata": {},
   "source": [
    "And if we move forward a bit in the x direction on the tangent plane we move along the x-axis in 3 space the same distance."
   ]
  },
  {
   "cell_type": "code",
   "execution_count": 81,
   "metadata": {},
   "outputs": [
    {
     "data": {
      "text/plain": [
       "((0.479425538604203, 0.0, 0.8775825618903728), 0.4999999999999999)"
      ]
     },
     "execution_count": 81,
     "metadata": {},
     "output_type": "execute_result"
    }
   ],
   "source": [
    "q = np.array([0,0,1])\n",
    "p = exp_northpole(0.5,0)\n",
    "p, geodist(p, q)"
   ]
  },
  {
   "cell_type": "markdown",
   "metadata": {},
   "source": [
    "And similar for the y-axis"
   ]
  },
  {
   "cell_type": "code",
   "execution_count": 82,
   "metadata": {},
   "outputs": [
    {
     "data": {
      "text/plain": [
       "((0.0, 0.29552020666133955, 0.955336489125606), 0.30000000000000016)"
      ]
     },
     "execution_count": 82,
     "metadata": {},
     "output_type": "execute_result"
    }
   ],
   "source": [
    "q = np.array([0,0,1])\n",
    "p = exp_northpole(0.0,0.3)\n",
    "p, geodist(p, q)"
   ]
  },
  {
   "cell_type": "markdown",
   "metadata": {},
   "source": [
    "And if we move (0.3, -0.4) which by Pythagoras is a distance of 0.5"
   ]
  },
  {
   "cell_type": "code",
   "execution_count": 83,
   "metadata": {},
   "outputs": [
    {
     "data": {
      "text/plain": [
       "((0.2876553231625218, -0.3835404308833624, 0.8775825618903728),\n",
       " 0.4999999999999999)"
      ]
     },
     "execution_count": 83,
     "metadata": {},
     "output_type": "execute_result"
    }
   ],
   "source": [
    "q = np.array([0,0,1])\n",
    "p = exp_northpole(0.3,-0.4)\n",
    "p, geodist(p, q)"
   ]
  },
  {
   "cell_type": "markdown",
   "metadata": {},
   "source": [
    "Notice that we can wrap around the sphere"
   ]
  },
  {
   "cell_type": "code",
   "execution_count": 84,
   "metadata": {},
   "outputs": [
    {
     "data": {
      "text/plain": [
       "(0.0, 1.2246467991473532e-16, -1.0)"
      ]
     },
     "execution_count": 84,
     "metadata": {},
     "output_type": "execute_result"
    }
   ],
   "source": [
    "exp_northpole(0, np.pi)"
   ]
  },
  {
   "cell_type": "code",
   "execution_count": 85,
   "metadata": {},
   "outputs": [
    {
     "data": {
      "text/plain": [
       "(-0.0, -2.4492935982947064e-16, 1.0)"
      ]
     },
     "execution_count": 85,
     "metadata": {},
     "output_type": "execute_result"
    }
   ],
   "source": [
    "exp_northpole(0, 2*np.pi)"
   ]
  },
  {
   "cell_type": "code",
   "execution_count": 86,
   "metadata": {},
   "outputs": [
    {
     "data": {
      "text/plain": [
       "(-0.0, -4.898587196589413e-16, 1.0)"
      ]
     },
     "execution_count": 86,
     "metadata": {},
     "output_type": "execute_result"
    }
   ],
   "source": [
    "exp_northpole(0, 4*np.pi)"
   ]
  },
  {
   "cell_type": "markdown",
   "metadata": {},
   "source": [
    "### The inverse of the exponential map\n",
    "\n",
    "It's easy to calculate the inverse of the exponential map at the north pole, which they call l (for log), and they have the formula on page 12:\n",
    "\n",
    "$$ l_{(0,0,1)}(x, y, z) = \\left(x \\frac{\\theta}{\\sin(\\theta)}, y \\frac{\\theta}{\\sin(\\theta)}\\right) $$\n",
    "\n",
    "Where $$ \\theta = \\cos^{-1}(z) $$."
   ]
  },
  {
   "cell_type": "code",
   "execution_count": 87,
   "metadata": {},
   "outputs": [],
   "source": [
    "def log_northpole(x, y, z):\n",
    "    theta = arccos(z)\n",
    "    sinc_theta = sinc(theta / np.pi)\n",
    "    return (x / sinc_theta, y/ sinc_theta)"
   ]
  },
  {
   "cell_type": "markdown",
   "metadata": {},
   "source": [
    "First we should see the north pole itself should map to the origin"
   ]
  },
  {
   "cell_type": "code",
   "execution_count": 88,
   "metadata": {},
   "outputs": [
    {
     "data": {
      "text/plain": [
       "(0.0, 0.0)"
      ]
     },
     "execution_count": 88,
     "metadata": {},
     "output_type": "execute_result"
    }
   ],
   "source": [
    "log_northpole(0,0,1)"
   ]
  },
  {
   "cell_type": "markdown",
   "metadata": {},
   "source": [
    "We can check a few points and that distances are preserved, e.g. the equator is a distance pi/2 away"
   ]
  },
  {
   "cell_type": "code",
   "execution_count": 89,
   "metadata": {},
   "outputs": [
    {
     "data": {
      "text/plain": [
       "(0.0, 1.5707963267948966)"
      ]
     },
     "execution_count": 89,
     "metadata": {},
     "output_type": "execute_result"
    }
   ],
   "source": [
    "log_northpole(0,1,0)"
   ]
  },
  {
   "cell_type": "code",
   "execution_count": 90,
   "metadata": {},
   "outputs": [
    {
     "data": {
      "text/plain": [
       "(1.5707963267948966, 0.0)"
      ]
     },
     "execution_count": 90,
     "metadata": {},
     "output_type": "execute_result"
    }
   ],
   "source": [
    "log_northpole(1,0,0)"
   ]
  },
  {
   "cell_type": "markdown",
   "metadata": {},
   "source": [
    "And this point is pi/4 from the north pole"
   ]
  },
  {
   "cell_type": "code",
   "execution_count": 91,
   "metadata": {},
   "outputs": [
    {
     "data": {
      "text/plain": [
       "(0.7853981633974483, 0.0)"
      ]
     },
     "execution_count": 91,
     "metadata": {},
     "output_type": "execute_result"
    }
   ],
   "source": [
    "log_northpole(1/sqrt(2),0,1/sqrt(2))"
   ]
  },
  {
   "cell_type": "markdown",
   "metadata": {},
   "source": [
    "The mapping fails at the south pole (because the exponential map can't make it there). This should actually be the point at infinity."
   ]
  },
  {
   "cell_type": "code",
   "execution_count": 92,
   "metadata": {},
   "outputs": [
    {
     "data": {
      "text/plain": [
       "(0.0, 0.0)"
      ]
     },
     "execution_count": 92,
     "metadata": {},
     "output_type": "execute_result"
    }
   ],
   "source": [
    "log_northpole(0,0,-1)"
   ]
  },
  {
   "cell_type": "markdown",
   "metadata": {},
   "source": [
    "But it should be a real inverse:\n",
    "\n",
    "If we take points on the sphere they should go back to where they started"
   ]
  },
  {
   "cell_type": "code",
   "execution_count": 93,
   "metadata": {},
   "outputs": [
    {
     "data": {
      "text/plain": [
       "array([2.02487339e-15, 1.02967200e-15, 5.55111512e-17, 0.00000000e+00,\n",
       "       0.00000000e+00])"
      ]
     },
     "execution_count": 93,
     "metadata": {},
     "output_type": "execute_result"
    }
   ],
   "source": [
    "ps = random_sphere_point(5)\n",
    "distance(ps, exp_northpole(*log_northpole(*ps)))"
   ]
  },
  {
   "cell_type": "markdown",
   "metadata": {},
   "source": [
    "Now the inverse will only work if we don't wrap around the sphere; that is we need to move less than pi in any direction."
   ]
  },
  {
   "cell_type": "code",
   "execution_count": 94,
   "metadata": {},
   "outputs": [
    {
     "data": {
      "text/plain": [
       "array([[-0.04616066, -0.17607737,  0.53101022, -0.07972639,  0.45558742],\n",
       "       [ 0.13898508, -0.86137675, -2.0428374 , -3.04819971,  1.10504611]])"
      ]
     },
     "execution_count": 94,
     "metadata": {},
     "output_type": "execute_result"
    }
   ],
   "source": [
    "npoint = 5\n",
    "length = np.random.random(npoint) * pi\n",
    "direction = np.random.random(npoint) * 2 * pi\n",
    "xs, ys = length * cos(direction), length * sin(direction)\n",
    "ts = np.array([xs, ys])\n",
    "ts"
   ]
  },
  {
   "cell_type": "code",
   "execution_count": 95,
   "metadata": {},
   "outputs": [
    {
     "data": {
      "text/plain": [
       "array([0.00000000e+00, 0.00000000e+00, 0.00000000e+00, 1.46600946e-14,\n",
       "       0.00000000e+00])"
      ]
     },
     "execution_count": 95,
     "metadata": {},
     "output_type": "execute_result"
    }
   ],
   "source": [
    "distance(ts, log_northpole(*exp_northpole(*ts)))"
   ]
  },
  {
   "cell_type": "markdown",
   "metadata": {},
   "source": [
    "## Rotating Spheres\n",
    "\n",
    "The paper doesn't have a formula for the exponential map and its inverse at other points, but we can work it out by rotating the sphere and then rotating it back.\n",
    "This is inefficient, but gets us the right answer.\n",
    "\n",
    "First we need a way of rotating the sphere.\n",
    "This is [surpisingly complicated](https://en.wikipedia.org/wiki/Rotation_matrix), but given an axis represented by unit vector u and an angle theta we can do a rotation with the following matrix:\n",
    "\n",
    "$$ R = \\begin{bmatrix} \n",
    "\\cos \\theta +u_x^2 \\left(1-\\cos \\theta\\right) & u_x u_y \\left(1-\\cos \\theta\\right) - u_z \\sin \\theta & u_x u_z \\left(1-\\cos \\theta\\right) + u_y \\sin \\theta \\\\ \n",
    "u_y u_x \\left(1-\\cos \\theta\\right) + u_z \\sin \\theta & \\cos \\theta + u_y^2\\left(1-\\cos \\theta\\right) & u_y u_z \\left(1-\\cos \\theta\\right) - u_x \\sin \\theta \\\\ \n",
    "u_z u_x \\left(1-\\cos \\theta\\right) - u_y \\sin \\theta & u_z u_y \\left(1-\\cos \\theta\\right) + u_x \\sin \\theta & \\cos \\theta + u_z^2\\left(1-\\cos \\theta\\right)\n",
    "\\end{bmatrix} $$"
   ]
  },
  {
   "cell_type": "code",
   "execution_count": 96,
   "metadata": {},
   "outputs": [],
   "source": [
    "def rot_matrix(u, t):\n",
    "    ux, uy, uz = u\n",
    "    cost = cos(t)\n",
    "    sint = sin(t)\n",
    "    return np.array([\n",
    " [cost+ux*ux*(1-cost), ux*uy*(1-cost)-uz*sint, ux*uz*(1-cost)+uy*sint],\n",
    " [uy*ux*(1-cost)+uz*sint, cost+uy*uy*(1-cost), uy*uz*(1-cost)-ux*sint],\n",
    " [uz*ux*(1-cost)-uy*sint, uz*uy*(1-cost)+ux*sint, cost+uz*uz*(1-cost)],\n",
    "    ])"
   ]
  },
  {
   "cell_type": "markdown",
   "metadata": {},
   "source": [
    "Sanity checking: A rotation of 0 should be identity"
   ]
  },
  {
   "cell_type": "code",
   "execution_count": 97,
   "metadata": {},
   "outputs": [
    {
     "data": {
      "text/plain": [
       "array([[ 1., -0.,  0.],\n",
       "       [ 0.,  1., -0.],\n",
       "       [ 0.,  0.,  1.]])"
      ]
     },
     "execution_count": 97,
     "metadata": {},
     "output_type": "execute_result"
    }
   ],
   "source": [
    "rot_matrix(random_sphere_point(1)[:,0],0)"
   ]
  },
  {
   "cell_type": "markdown",
   "metadata": {},
   "source": [
    "A rotation about the z-axis should be in the xy-plane"
   ]
  },
  {
   "cell_type": "code",
   "execution_count": 98,
   "metadata": {},
   "outputs": [
    {
     "data": {
      "text/plain": [
       "array([[ 0.8660254, -0.5      ,  0.       ],\n",
       "       [ 0.5      ,  0.8660254,  0.       ],\n",
       "       [ 0.       ,  0.       ,  1.       ]])"
      ]
     },
     "execution_count": 98,
     "metadata": {},
     "output_type": "execute_result"
    }
   ],
   "source": [
    "rot_matrix((0,0,1), pi/6)"
   ]
  },
  {
   "cell_type": "markdown",
   "metadata": {},
   "source": [
    "And reversing the axis should reverse the rotation"
   ]
  },
  {
   "cell_type": "code",
   "execution_count": 99,
   "metadata": {},
   "outputs": [
    {
     "data": {
      "text/plain": [
       "array([[ 0.8660254,  0.5      ,  0.       ],\n",
       "       [-0.5      ,  0.8660254,  0.       ],\n",
       "       [ 0.       ,  0.       ,  1.       ]])"
      ]
     },
     "execution_count": 99,
     "metadata": {},
     "output_type": "execute_result"
    }
   ],
   "source": [
    "rot_matrix((0,0,-1), pi/6)"
   ]
  },
  {
   "cell_type": "markdown",
   "metadata": {},
   "source": [
    "And similarly a rotation about the x-axis should be in the y-z plane"
   ]
  },
  {
   "cell_type": "code",
   "execution_count": 100,
   "metadata": {},
   "outputs": [
    {
     "data": {
      "text/plain": [
       "array([[ 1.       ,  0.       ,  0.       ],\n",
       "       [ 0.       ,  0.8660254, -0.5      ],\n",
       "       [ 0.       ,  0.5      ,  0.8660254]])"
      ]
     },
     "execution_count": 100,
     "metadata": {},
     "output_type": "execute_result"
    }
   ],
   "source": [
    "rot_matrix((1,0,0), pi/6)"
   ]
  },
  {
   "cell_type": "markdown",
   "metadata": {},
   "source": [
    "Let's check a random rotation"
   ]
  },
  {
   "cell_type": "code",
   "execution_count": 101,
   "metadata": {},
   "outputs": [
    {
     "data": {
      "text/plain": [
       "(array([ 0.39320147, -0.03521715,  0.91877764]), 0.8930289746904281)"
      ]
     },
     "execution_count": 101,
     "metadata": {},
     "output_type": "execute_result"
    }
   ],
   "source": [
    "axis = random_sphere_point(1)[:,0]\n",
    "angle = np.random.random_sample(1)[0] * pi\n",
    "axis, angle"
   ]
  },
  {
   "cell_type": "code",
   "execution_count": 102,
   "metadata": {},
   "outputs": [],
   "source": [
    "R = rot_matrix(axis, angle)"
   ]
  },
  {
   "cell_type": "markdown",
   "metadata": {},
   "source": [
    "Rotating the oposite way should invert it"
   ]
  },
  {
   "cell_type": "code",
   "execution_count": 103,
   "metadata": {},
   "outputs": [],
   "source": [
    "Rinv = rot_matrix(axis, -angle)"
   ]
  },
  {
   "cell_type": "markdown",
   "metadata": {},
   "source": [
    "This should be the identity matrix"
   ]
  },
  {
   "cell_type": "code",
   "execution_count": 104,
   "metadata": {},
   "outputs": [
    {
     "data": {
      "text/plain": [
       "array([[ 1.00000000e+00,  2.28238442e-17, -2.96906906e-17],\n",
       "       [ 2.28238442e-17,  1.00000000e+00, -3.30265999e-17],\n",
       "       [-2.96906906e-17, -3.30265999e-17,  1.00000000e+00]])"
      ]
     },
     "execution_count": 104,
     "metadata": {},
     "output_type": "execute_result"
    }
   ],
   "source": [
    "R @ Rinv"
   ]
  },
  {
   "cell_type": "code",
   "execution_count": 105,
   "metadata": {},
   "outputs": [
    {
     "data": {
      "text/plain": [
       "array([[ 1.00000000e+00,  9.75220593e-17, -7.54846245e-17],\n",
       "       [ 9.75220593e-17,  1.00000000e+00, -3.69276604e-17],\n",
       "       [-7.54846245e-17, -3.69276604e-17,  1.00000000e+00]])"
      ]
     },
     "execution_count": 105,
     "metadata": {},
     "output_type": "execute_result"
    }
   ],
   "source": [
    "Rinv @ R"
   ]
  },
  {
   "cell_type": "markdown",
   "metadata": {},
   "source": [
    "Let's rotate some random points and check if it preserves distances"
   ]
  },
  {
   "cell_type": "code",
   "execution_count": 106,
   "metadata": {},
   "outputs": [
    {
     "data": {
      "text/plain": [
       "(array([ 0.84651763, -0.45095389, -0.2829284 ]),\n",
       " array([ 0.07670365, -0.73056703, -0.67851925]))"
      ]
     },
     "execution_count": 106,
     "metadata": {},
     "output_type": "execute_result"
    }
   ],
   "source": [
    "p1, p2 = random_sphere_point(2).T\n",
    "p1, p2"
   ]
  },
  {
   "cell_type": "code",
   "execution_count": 107,
   "metadata": {},
   "outputs": [
    {
     "data": {
      "text/plain": [
       "0.944244049404823"
      ]
     },
     "execution_count": 107,
     "metadata": {},
     "output_type": "execute_result"
    }
   ],
   "source": [
    "geodist(p1, p2)"
   ]
  },
  {
   "cell_type": "code",
   "execution_count": 108,
   "metadata": {},
   "outputs": [
    {
     "data": {
      "text/plain": [
       "0.9442440494048231"
      ]
     },
     "execution_count": 108,
     "metadata": {},
     "output_type": "execute_result"
    }
   ],
   "source": [
    "geodist(R@p1, R@p2)"
   ]
  },
  {
   "cell_type": "markdown",
   "metadata": {},
   "source": [
    "### Rotating to the north pole\n",
    "\n",
    "If we want to rotate a point to the north pole we can:\n",
    "\n",
    "1. Find the plane containing the centre of the sphere, the point and the north pole\n",
    "2. Find an axis perpendicular to that plane\n",
    "3. Calculate the angle between the sphere and the point\n",
    "4. Rotate along that axis by that angle (being careful about orientation)\n",
    "\n",
    "There's an easy way to calculate the perpendicular axis to two vectors in 3 dimensions; the [cross product](https://en.wikipedia.org/wiki/Cross_product) (or for differential geometers the [hodge dual of the wedge product](https://en.wikipedia.org/wiki/Cross_product#Cross_product_as_an_external_product)).\n",
    "\n",
    "I always remember the definition of the cross product by the mnemonic `xyzxyz`; e.g. the first xyz tells us the x component is yz-zy, then we go a letter across to yzx and so the y component is zx-xz and finally for the z component."
   ]
  },
  {
   "cell_type": "code",
   "execution_count": 109,
   "metadata": {},
   "outputs": [],
   "source": [
    "def cross_product(u, v):\n",
    "    ux,uy,uz = u\n",
    "    vx,vy,vz = v\n",
    "    return (uy*vz-uz*vy, uz*vx-ux*vz, ux*vy - uy*vx)"
   ]
  },
  {
   "cell_type": "markdown",
   "metadata": {},
   "source": [
    "Let's check a [random example](https://www.mathsisfun.com/algebra/vectors-cross-product.html):"
   ]
  },
  {
   "cell_type": "code",
   "execution_count": 110,
   "metadata": {},
   "outputs": [
    {
     "data": {
      "text/plain": [
       "(-3, 6, -3)"
      ]
     },
     "execution_count": 110,
     "metadata": {},
     "output_type": "execute_result"
    }
   ],
   "source": [
    "cross_product((2,3,4) , (5,6,7))"
   ]
  },
  {
   "cell_type": "markdown",
   "metadata": {},
   "source": [
    "Now we can use this to calculate a unit perpendicular vector"
   ]
  },
  {
   "cell_type": "code",
   "execution_count": 111,
   "metadata": {},
   "outputs": [],
   "source": [
    "def norm(x, axis=0):\n",
    "    return np.sqrt((x*x).sum(axis=axis))"
   ]
  },
  {
   "cell_type": "code",
   "execution_count": 112,
   "metadata": {},
   "outputs": [],
   "source": [
    "def unit_perp(u, v):\n",
    "    v = np.array(cross_product(u, v))\n",
    "    return v / norm(v)"
   ]
  },
  {
   "cell_type": "code",
   "execution_count": 113,
   "metadata": {},
   "outputs": [
    {
     "data": {
      "text/plain": [
       "array([-0.40824829,  0.81649658, -0.40824829])"
      ]
     },
     "execution_count": 113,
     "metadata": {},
     "output_type": "execute_result"
    }
   ],
   "source": [
    "unit_perp((2,3,4) , (5,6,7))"
   ]
  },
  {
   "cell_type": "code",
   "execution_count": 114,
   "metadata": {},
   "outputs": [],
   "source": [
    "north_pole = np.array((0,0,1))"
   ]
  },
  {
   "cell_type": "code",
   "execution_count": 115,
   "metadata": {},
   "outputs": [],
   "source": [
    "def perp_to_north_pole(v):\n",
    "    # Special handling for north/south pole here\n",
    "    # Note the order is important for orientation\n",
    "    return unit_perp(v, north_pole)"
   ]
  },
  {
   "cell_type": "code",
   "execution_count": 116,
   "metadata": {},
   "outputs": [
    {
     "data": {
      "text/plain": [
       "array([ 0., -1.,  0.])"
      ]
     },
     "execution_count": 116,
     "metadata": {},
     "output_type": "execute_result"
    }
   ],
   "source": [
    "perp_to_north_pole((1,0,0))"
   ]
  },
  {
   "cell_type": "code",
   "execution_count": 117,
   "metadata": {},
   "outputs": [
    {
     "data": {
      "text/plain": [
       "array([1., 0., 0.])"
      ]
     },
     "execution_count": 117,
     "metadata": {},
     "output_type": "execute_result"
    }
   ],
   "source": [
    "perp_to_north_pole((0,1,0))"
   ]
  },
  {
   "cell_type": "code",
   "execution_count": 118,
   "metadata": {},
   "outputs": [
    {
     "data": {
      "text/plain": [
       "array([1., 0., 0.])"
      ]
     },
     "execution_count": 118,
     "metadata": {},
     "output_type": "execute_result"
    }
   ],
   "source": [
    "perp_to_north_pole((0,1/np.sqrt(2),1/np.sqrt(2)))"
   ]
  },
  {
   "cell_type": "markdown",
   "metadata": {},
   "source": [
    "Of course this will all explode if the two vectors are parallel (since then there's a whole plane of potential orthogonal vectors, you need to break the symmetry)."
   ]
  },
  {
   "cell_type": "code",
   "execution_count": 119,
   "metadata": {},
   "outputs": [
    {
     "name": "stderr",
     "output_type": "stream",
     "text": [
      "<ipython-input-112-372364f14156>:3: RuntimeWarning: invalid value encountered in true_divide\n",
      "  return v / norm(v)\n"
     ]
    },
    {
     "data": {
      "text/plain": [
       "(array([nan, nan, nan]), array([nan, nan, nan]))"
      ]
     },
     "execution_count": 119,
     "metadata": {},
     "output_type": "execute_result"
    }
   ],
   "source": [
    "perp_to_north_pole((0,0,1)), perp_to_north_pole((0,0,-1))"
   ]
  },
  {
   "cell_type": "code",
   "execution_count": 120,
   "metadata": {},
   "outputs": [],
   "source": [
    "def angle_to_north_pole(v, axis=0):\n",
    "    return np.arccos((north_pole * v).sum(axis=axis))"
   ]
  },
  {
   "cell_type": "markdown",
   "metadata": {},
   "source": [
    "Check some basic examples"
   ]
  },
  {
   "cell_type": "code",
   "execution_count": 121,
   "metadata": {},
   "outputs": [
    {
     "data": {
      "text/plain": [
       "0.0"
      ]
     },
     "execution_count": 121,
     "metadata": {},
     "output_type": "execute_result"
    }
   ],
   "source": [
    "angle_to_north_pole(np.array((0,0,1)))"
   ]
  },
  {
   "cell_type": "code",
   "execution_count": 122,
   "metadata": {},
   "outputs": [
    {
     "data": {
      "text/plain": [
       "3.141592653589793"
      ]
     },
     "execution_count": 122,
     "metadata": {},
     "output_type": "execute_result"
    }
   ],
   "source": [
    "angle_to_north_pole(np.array((0,0,-1)))"
   ]
  },
  {
   "cell_type": "code",
   "execution_count": 123,
   "metadata": {},
   "outputs": [
    {
     "data": {
      "text/plain": [
       "1.5707963267948966"
      ]
     },
     "execution_count": 123,
     "metadata": {},
     "output_type": "execute_result"
    }
   ],
   "source": [
    "angle_to_north_pole(np.array((0,1,0)))"
   ]
  },
  {
   "cell_type": "code",
   "execution_count": 124,
   "metadata": {},
   "outputs": [
    {
     "data": {
      "text/plain": [
       "1.5707963267948966"
      ]
     },
     "execution_count": 124,
     "metadata": {},
     "output_type": "execute_result"
    }
   ],
   "source": [
    "angle_to_north_pole(np.array((1/sqrt(2),1/sqrt(2),0)))"
   ]
  },
  {
   "cell_type": "code",
   "execution_count": 125,
   "metadata": {},
   "outputs": [
    {
     "data": {
      "text/plain": [
       "0.7853981633974484"
      ]
     },
     "execution_count": 125,
     "metadata": {},
     "output_type": "execute_result"
    }
   ],
   "source": [
    "angle_to_north_pole(np.array((0, 1/sqrt(2),1/sqrt(2))))"
   ]
  },
  {
   "cell_type": "markdown",
   "metadata": {},
   "source": [
    "Lets check the rotation in action"
   ]
  },
  {
   "cell_type": "code",
   "execution_count": 126,
   "metadata": {},
   "outputs": [
    {
     "data": {
      "text/plain": [
       "array([-0.29445315, -0.46089653, -0.83718082])"
      ]
     },
     "execution_count": 126,
     "metadata": {},
     "output_type": "execute_result"
    }
   ],
   "source": [
    "p = random_sphere_point(1)[:,0]\n",
    "p"
   ]
  },
  {
   "cell_type": "code",
   "execution_count": 127,
   "metadata": {},
   "outputs": [
    {
     "data": {
      "text/plain": [
       "(array([-0.84270333,  0.53837821,  0.        ]), 2.562904446655308)"
      ]
     },
     "execution_count": 127,
     "metadata": {},
     "output_type": "execute_result"
    }
   ],
   "source": [
    "theta = angle_to_north_pole(p)\n",
    "axis = perp_to_north_pole(p)\n",
    "axis, theta"
   ]
  },
  {
   "cell_type": "markdown",
   "metadata": {},
   "source": [
    "Check that it's perpendicular and of unit norm"
   ]
  },
  {
   "cell_type": "code",
   "execution_count": 128,
   "metadata": {},
   "outputs": [
    {
     "data": {
      "text/plain": [
       "(0.0, 0.0, 1.0)"
      ]
     },
     "execution_count": 128,
     "metadata": {},
     "output_type": "execute_result"
    }
   ],
   "source": [
    "(axis * north_pole).sum(), (axis * p).sum(), (axis * axis).sum()"
   ]
  },
  {
   "cell_type": "code",
   "execution_count": 129,
   "metadata": {},
   "outputs": [],
   "source": [
    "R = rot_matrix(axis, -theta)"
   ]
  },
  {
   "cell_type": "markdown",
   "metadata": {},
   "source": [
    "And indeed it rotates to the north pole"
   ]
  },
  {
   "cell_type": "code",
   "execution_count": 130,
   "metadata": {},
   "outputs": [
    {
     "data": {
      "text/plain": [
       "1.0938523993656688"
      ]
     },
     "execution_count": 130,
     "metadata": {},
     "output_type": "execute_result"
    }
   ],
   "source": [
    "distance(R @ p , north_pole)"
   ]
  },
  {
   "cell_type": "markdown",
   "metadata": {},
   "source": [
    "## Exponential map at any point\n",
    "\n",
    "Now we can take the exponential map at any point by first rotating to the north pole, calculating the exponential map, and then rotating back."
   ]
  },
  {
   "cell_type": "markdown",
   "metadata": {},
   "source": [
    "Let's take some point on the sphere"
   ]
  },
  {
   "cell_type": "code",
   "execution_count": 131,
   "metadata": {},
   "outputs": [
    {
     "data": {
      "text/plain": [
       "array([-0.52085469, -0.70958405,  0.47455333])"
      ]
     },
     "execution_count": 131,
     "metadata": {},
     "output_type": "execute_result"
    }
   ],
   "source": [
    "p = random_sphere_point(1)[:,0]\n",
    "p"
   ]
  },
  {
   "cell_type": "markdown",
   "metadata": {},
   "source": [
    "And a random point on its tangent plane (not too far from the origin)"
   ]
  },
  {
   "cell_type": "code",
   "execution_count": 132,
   "metadata": {},
   "outputs": [
    {
     "data": {
      "text/plain": [
       "(array([-1.23956389]), array([1.68843737]))"
      ]
     },
     "execution_count": 132,
     "metadata": {},
     "output_type": "execute_result"
    }
   ],
   "source": [
    "max_dist = pi\n",
    "length = np.random.random(1) * max_dist\n",
    "direction = np.random.random(1) * 2 * np.pi\n",
    "tx, ty = length * cos(direction), length * sin(direction)\n",
    "\n",
    "tx, ty"
   ]
  },
  {
   "cell_type": "markdown",
   "metadata": {},
   "source": [
    "Let's rotate it to the north pole"
   ]
  },
  {
   "cell_type": "code",
   "execution_count": 133,
   "metadata": {},
   "outputs": [
    {
     "data": {
      "text/plain": [
       "(array([-0.80613779,  0.59172786,  0.        ]), 1.076339808354696)"
      ]
     },
     "execution_count": 133,
     "metadata": {},
     "output_type": "execute_result"
    }
   ],
   "source": [
    "theta = angle_to_north_pole(p)\n",
    "axis = perp_to_north_pole(p)\n",
    "axis, theta"
   ]
  },
  {
   "cell_type": "code",
   "execution_count": 134,
   "metadata": {},
   "outputs": [
    {
     "data": {
      "text/plain": [
       "array([8.32667268e-17, 0.00000000e+00, 1.00000000e+00])"
      ]
     },
     "execution_count": 134,
     "metadata": {},
     "output_type": "execute_result"
    }
   ],
   "source": [
    "rot_matrix(axis, theta) @ p"
   ]
  },
  {
   "cell_type": "markdown",
   "metadata": {},
   "source": [
    "The tangent plane doesn't change it's coordinatisation, so we can just calculate the exponential map."
   ]
  },
  {
   "cell_type": "code",
   "execution_count": 135,
   "metadata": {},
   "outputs": [
    {
     "data": {
      "text/plain": [
       "(array([-0.51244602]), array([0.69801406]), array([-0.50017542]))"
      ]
     },
     "execution_count": 135,
     "metadata": {},
     "output_type": "execute_result"
    }
   ],
   "source": [
    "q_rot = exp_northpole(tx, ty)\n",
    "q_rot"
   ]
  },
  {
   "cell_type": "markdown",
   "metadata": {},
   "source": [
    "The distance is preserved by the exponential map"
   ]
  },
  {
   "cell_type": "code",
   "execution_count": 136,
   "metadata": {},
   "outputs": [
    {
     "data": {
      "text/plain": [
       "(array([2.09459767]), array([2.09459767]))"
      ]
     },
     "execution_count": 136,
     "metadata": {},
     "output_type": "execute_result"
    }
   ],
   "source": [
    "geodist(np.array([0,0,1]), np.array(q_rot)), np.sqrt(tx**2 + ty**2)"
   ]
  },
  {
   "cell_type": "markdown",
   "metadata": {},
   "source": [
    "And now we need to rotate the sphere back"
   ]
  },
  {
   "cell_type": "code",
   "execution_count": 137,
   "metadata": {},
   "outputs": [
    {
     "data": {
      "text/plain": [
       "array([[-0.33260114],\n",
       "       [ 0.94302493],\n",
       "       [-0.00897019]])"
      ]
     },
     "execution_count": 137,
     "metadata": {},
     "output_type": "execute_result"
    }
   ],
   "source": [
    "q = rot_matrix(axis, -theta) @ q_rot\n",
    "q"
   ]
  },
  {
   "cell_type": "markdown",
   "metadata": {},
   "source": [
    "And we check the distances are preserved"
   ]
  },
  {
   "cell_type": "code",
   "execution_count": 138,
   "metadata": {},
   "outputs": [
    {
     "data": {
      "text/plain": [
       "(array([2.09459767]), array([2.09459767]))"
      ]
     },
     "execution_count": 138,
     "metadata": {},
     "output_type": "execute_result"
    }
   ],
   "source": [
    "geodist(p, q), np.sqrt(tx**2 + ty**2)"
   ]
  },
  {
   "cell_type": "markdown",
   "metadata": {},
   "source": [
    "Putting this all together we get a function that calculates the expoential map at point p on the sphere, for vector t in its tangent space."
   ]
  },
  {
   "cell_type": "code",
   "execution_count": 139,
   "metadata": {},
   "outputs": [],
   "source": [
    "def exp(p, t):\n",
    "    tx, ty = t\n",
    "    theta = angle_to_north_pole(p)\n",
    "    axis = perp_to_north_pole(p)\n",
    "    \n",
    "    q_rot = exp_northpole(tx, ty)\n",
    "    q = rot_matrix(axis, -theta) @ q_rot\n",
    "    return q"
   ]
  },
  {
   "cell_type": "code",
   "execution_count": 140,
   "metadata": {},
   "outputs": [
    {
     "data": {
      "text/plain": [
       "array([[-0.33260114],\n",
       "       [ 0.94302493],\n",
       "       [-0.00897019]])"
      ]
     },
     "execution_count": 140,
     "metadata": {},
     "output_type": "execute_result"
    }
   ],
   "source": [
    "q = exp(p, (tx, ty))\n",
    "q"
   ]
  },
  {
   "cell_type": "code",
   "execution_count": 141,
   "metadata": {},
   "outputs": [
    {
     "data": {
      "text/plain": [
       "(array([2.09459767]), array([2.09459767]))"
      ]
     },
     "execution_count": 141,
     "metadata": {},
     "output_type": "execute_result"
    }
   ],
   "source": [
    "geodist(p, q), sqrt(tx*tx + ty*ty)"
   ]
  },
  {
   "cell_type": "markdown",
   "metadata": {},
   "source": [
    "### Inverse expoenential map at any point\n",
    "\n",
    "The logic is essentially the same for the inverse map, which we call log, except we perform the rotation *before* we apply the map."
   ]
  },
  {
   "cell_type": "code",
   "execution_count": 142,
   "metadata": {},
   "outputs": [],
   "source": [
    "def log(p, q):\n",
    "    theta = angle_to_north_pole(p)\n",
    "    axis = perp_to_north_pole(p)\n",
    "    q_rot = rot_matrix(axis, theta) @ q\n",
    "    \n",
    "    t = log_northpole(*q_rot)\n",
    "    return t"
   ]
  },
  {
   "cell_type": "markdown",
   "metadata": {},
   "source": [
    "So at any point p the log should be the inverse of exp"
   ]
  },
  {
   "cell_type": "code",
   "execution_count": 143,
   "metadata": {},
   "outputs": [],
   "source": [
    "t = np.array([tx,ty])"
   ]
  },
  {
   "cell_type": "code",
   "execution_count": 144,
   "metadata": {},
   "outputs": [
    {
     "data": {
      "text/plain": [
       "(array([[-1.23956389],\n",
       "        [ 1.68843737]]),\n",
       " (array([-1.23956389]), array([1.68843737])))"
      ]
     },
     "execution_count": 144,
     "metadata": {},
     "output_type": "execute_result"
    }
   ],
   "source": [
    "t, log(p, exp(p, t))"
   ]
  },
  {
   "cell_type": "code",
   "execution_count": 145,
   "metadata": {},
   "outputs": [
    {
     "data": {
      "text/plain": [
       "array([0.21868918, 0.77422052, 0.59393403])"
      ]
     },
     "execution_count": 145,
     "metadata": {},
     "output_type": "execute_result"
    }
   ],
   "source": [
    "q = random_sphere_point(1)[:,0]\n",
    "q"
   ]
  },
  {
   "cell_type": "code",
   "execution_count": 146,
   "metadata": {},
   "outputs": [
    {
     "data": {
      "text/plain": [
       "array([0.21868918, 0.77422052, 0.59393403])"
      ]
     },
     "execution_count": 146,
     "metadata": {},
     "output_type": "execute_result"
    }
   ],
   "source": [
    "exp(p, log(p, q))"
   ]
  },
  {
   "cell_type": "markdown",
   "metadata": {},
   "source": [
    "# Attempting to Implement Algorithm A1\n",
    "\n",
    "We finally have all the pieces we need to implement algorithm A1 on page 23 of the paper, at least for the special case d=2 and weights all equal to 1/n.\n",
    "\n",
    "```\n",
    "Algorithm A1:\n",
    "Inputs: Points p1, ..., pn on S^d\n",
    "        Non-negative weights w1, ..., wn with sum 1.\n",
    "Output: The spherical weighted average of the inputs.\n",
    "Initialization: Set q := sum(w * p) / norm(sum(w * p))\n",
    "Main Loop:\n",
    "For i = 1, ..., n\n",
    "    Set p_i* := log(q, p_i)\n",
    "Set u := sum(w_i * (p_i* - q), i=1..n)\n",
    "Set q := exp(q, q + u).\n",
    "If norm(u) is sufficiently small, output q and halt.\n",
    "Otherwise continue looping.\n",
    "```"
   ]
  },
  {
   "cell_type": "code",
   "execution_count": 147,
   "metadata": {},
   "outputs": [],
   "source": [
    "ps = random_sphere_point(4)"
   ]
  },
  {
   "cell_type": "code",
   "execution_count": 148,
   "metadata": {},
   "outputs": [],
   "source": [
    "def average_projection(ps, axis=-1):\n",
    "    avg = ps.mean(axis=axis)\n",
    "    n = norm(avg)\n",
    "    return avg/n"
   ]
  },
  {
   "cell_type": "code",
   "execution_count": 149,
   "metadata": {},
   "outputs": [
    {
     "data": {
      "text/plain": [
       "array([-0.96262568,  0.25959003,  0.07723227])"
      ]
     },
     "execution_count": 149,
     "metadata": {},
     "output_type": "execute_result"
    }
   ],
   "source": [
    "q = average_projection(ps)\n",
    "q"
   ]
  },
  {
   "cell_type": "code",
   "execution_count": 150,
   "metadata": {},
   "outputs": [
    {
     "data": {
      "text/plain": [
       "array([0.94612087])"
      ]
     },
     "execution_count": 150,
     "metadata": {},
     "output_type": "execute_result"
    }
   ],
   "source": [
    "avg_distance(ps, q)"
   ]
  },
  {
   "cell_type": "code",
   "execution_count": 151,
   "metadata": {},
   "outputs": [
    {
     "data": {
      "text/plain": [
       "array([[-0.95857123,  0.61845951, -0.00271409, -0.10243155],\n",
       "       [ 1.59888405,  0.20774684, -0.09692084, -1.16640361]])"
      ]
     },
     "execution_count": 151,
     "metadata": {},
     "output_type": "execute_result"
    }
   ],
   "source": [
    "p_tangent = np.array(log(q, ps))\n",
    "p_tangent"
   ]
  },
  {
   "cell_type": "markdown",
   "metadata": {},
   "source": [
    "Note in `u := sum( w_i * (p_i* - q))` the `q` is actually the projection of q into the tangent space, which is the origin.\n",
    "When the weights are equal this reduces to the mean.\n",
    "\n",
    "So this reduces to `u := 1/n sum(p_i)`"
   ]
  },
  {
   "cell_type": "code",
   "execution_count": 152,
   "metadata": {},
   "outputs": [
    {
     "data": {
      "text/plain": [
       "array([-0.11131434,  0.13582661])"
      ]
     },
     "execution_count": 152,
     "metadata": {},
     "output_type": "execute_result"
    }
   ],
   "source": [
    "u = p_tangent.mean(axis=1)\n",
    "u"
   ]
  },
  {
   "cell_type": "code",
   "execution_count": 153,
   "metadata": {},
   "outputs": [],
   "source": [
    "q2 = exp(q, u)"
   ]
  },
  {
   "cell_type": "code",
   "execution_count": 154,
   "metadata": {},
   "outputs": [
    {
     "data": {
      "text/plain": [
       "array([0.99423434])"
      ]
     },
     "execution_count": 154,
     "metadata": {},
     "output_type": "execute_result"
    }
   ],
   "source": [
    "avg_distance(ps, q2)"
   ]
  },
  {
   "cell_type": "markdown",
   "metadata": {},
   "source": [
    "Let's wrap this up in a function."
   ]
  },
  {
   "cell_type": "code",
   "execution_count": 155,
   "metadata": {},
   "outputs": [],
   "source": [
    "def step_A1(q, ps):\n",
    "    p_tangent = np.array(log(q, ps))\n",
    "    u = p_tangent.mean(axis=1)\n",
    "    return exp(q, u)"
   ]
  },
  {
   "cell_type": "code",
   "execution_count": 156,
   "metadata": {},
   "outputs": [],
   "source": [
    "def alg_A1(ps, eps=1e-5, maxiter=1000):\n",
    "    return fixpoint(step_A1, average_projection(ps), ps=ps, eps=eps, maxiter=maxiter)"
   ]
  },
  {
   "cell_type": "code",
   "execution_count": 157,
   "metadata": {},
   "outputs": [
    {
     "data": {
      "text/plain": [
       "array([-0.93352393,  0.3425671 , -0.10573959])"
      ]
     },
     "execution_count": 157,
     "metadata": {},
     "output_type": "execute_result"
    }
   ],
   "source": [
    "a1 = alg_A1(ps)\n",
    "a1"
   ]
  },
  {
   "cell_type": "code",
   "execution_count": 158,
   "metadata": {},
   "outputs": [
    {
     "data": {
      "text/plain": [
       "array([1.00335339])"
      ]
     },
     "execution_count": 158,
     "metadata": {},
     "output_type": "execute_result"
    }
   ],
   "source": [
    "avg_distance(ps, a1)"
   ]
  },
  {
   "cell_type": "markdown",
   "metadata": {},
   "source": [
    "It has converged"
   ]
  },
  {
   "cell_type": "code",
   "execution_count": 159,
   "metadata": {},
   "outputs": [
    {
     "data": {
      "text/plain": [
       "array([-1.85819581e-06, -5.84658255e-07])"
      ]
     },
     "execution_count": 159,
     "metadata": {},
     "output_type": "execute_result"
    }
   ],
   "source": [
    "p_tangent = np.array(log(a1, ps))\n",
    "p_tangent.mean(axis=1)"
   ]
  },
  {
   "cell_type": "markdown",
   "metadata": {},
   "source": [
    "Something is wrong; I can actually find a closer point with random search, or my previous implementation!\n",
    "\n",
    "I'm not sure whether I implemented the algorithm incorrectly, or whether the algorithm itself is incorrect."
   ]
  },
  {
   "cell_type": "code",
   "execution_count": 160,
   "metadata": {},
   "outputs": [
    {
     "data": {
      "text/plain": [
       "(0.9329403881785946, array([0.9276463]))"
      ]
     },
     "execution_count": 160,
     "metadata": {},
     "output_type": "execute_result"
    }
   ],
   "source": [
    "avg_distance(ps, random_sphere_point(10000)).min(), avg_distance(ps, spherical_centroid(ps))"
   ]
  },
  {
   "cell_type": "markdown",
   "metadata": {},
   "source": [
    "### What's going on here?"
   ]
  },
  {
   "cell_type": "markdown",
   "metadata": {},
   "source": [
    "#### Checking the code\n",
    "\n",
    "Ideally I'd compare it with the results of their [C++ code](http://math.ucsd.edu/~sbuss/ResearchWeb/spheremean/) but running gcc I get a bunch of errors that would take me some time to debug\n",
    "\n",
    "```\n",
    "> gcc SphereMean.cpp\n",
    "In file included from SphereMean.h:32,\n",
    "                 from SphereMean.cpp:28:\n",
    "../VrMath/LinearR4.h:207:7: warning: extra qualification ‘Matrix4x4::’ on member ‘operator*=’ [-fpermissive]\n",
    "  207 |  void Matrix4x4::operator*= (const Matrix4x4& B); // Matrix product\n",
    "      |       ^~~~~~~~~\n",
    "SphereMean.cpp: In function ‘Quaternion ComputeMeanQuat(long int, const Quaternion*, const double*, double, double)’:\n",
    "SphereMean.cpp:236:34: error: no matching function for call to ‘VectorR4::VectorR4(const Quaternion&)’\n",
    "  236 |   vvArray[i] = VectorR4( *(qq+i) );\n",
    "      |                                  ^\n",
    "In file included from SphereMean.h:32,\n",
    "                 from SphereMean.cpp:28:\n",
    "../VrMath/LinearR4.h:73:2: note: candidate: ‘VectorR4::VectorR4(double, double, double, double)’\n",
    "   73 |  VectorR4( double xVal, double yVal, double zVal, double wVal )\n",
    "      |  ^~~~~~~~\n",
    "../VrMath/LinearR4.h:73:2: note:   candidate expects 4 arguments, 1 provided\n",
    "../VrMath/LinearR4.h:72:2: note: candidate: ‘VectorR4::VectorR4()’\n",
    "   72 |  VectorR4( ) : x(0.0), y(0.0), z(0.0), w(0.0) {}\n",
    "      |  ^~~~~~~~\n",
    "../VrMath/LinearR4.h:72:2: note:   candidate expects 0 arguments, 1 provided\n",
    "../VrMath/LinearR4.h:55:7: note: candidate: ‘constexpr VectorR4::VectorR4(const VectorR4&)’\n",
    "   55 | class VectorR4 {\n",
    "      |       ^~~~~~~~\n",
    "../VrMath/LinearR4.h:55:7: note:   no known conversion for argument 1 from ‘const Quaternion’ to ‘const VectorR4&’\n",
    "../VrMath/LinearR4.h:55:7: note: candidate: ‘constexpr VectorR4::VectorR4(VectorR4&&)’\n",
    "../VrMath/LinearR4.h:55:7: note:   no known conversion for argument 1 from ‘const Quaternion’ to ‘VectorR4&&’\n",
    "\n",
    "```"
   ]
  },
  {
   "cell_type": "markdown",
   "metadata": {},
   "source": [
    "#### Checking the proof\n",
    "\n",
    "They claim that in Theorem 3, that by Lemma 2a that a spherical centroid will be a centroid in the tangent space.\n",
    "\n",
    "I'm having a lot of trouble following their proof because they change and introduce notation so quickly, but we can try to validate this claim."
   ]
  },
  {
   "cell_type": "code",
   "execution_count": 161,
   "metadata": {},
   "outputs": [],
   "source": [
    "c = spherical_centroid(ps)"
   ]
  },
  {
   "cell_type": "markdown",
   "metadata": {},
   "source": [
    "It doesn't seem to be the case"
   ]
  },
  {
   "cell_type": "code",
   "execution_count": 162,
   "metadata": {},
   "outputs": [
    {
     "data": {
      "text/plain": [
       "array([-0.14373332,  0.20639589])"
      ]
     },
     "execution_count": 162,
     "metadata": {},
     "output_type": "execute_result"
    }
   ],
   "source": [
    "np.array(log(c, ps)).mean(axis=1)"
   ]
  },
  {
   "cell_type": "markdown",
   "metadata": {},
   "source": [
    "However it does preserve distances, so it seems likely to be the correct exponential map"
   ]
  },
  {
   "cell_type": "code",
   "execution_count": 163,
   "metadata": {},
   "outputs": [
    {
     "data": {
      "text/plain": [
       "0.9276463013575129"
      ]
     },
     "execution_count": 163,
     "metadata": {},
     "output_type": "execute_result"
    }
   ],
   "source": [
    "np.sqrt((np.array(log(c, ps)) * np.array(log(c, ps))).sum(axis=0)).mean()"
   ]
  },
  {
   "cell_type": "code",
   "execution_count": 164,
   "metadata": {},
   "outputs": [
    {
     "data": {
      "text/plain": [
       "array([0.9276463])"
      ]
     },
     "execution_count": 164,
     "metadata": {},
     "output_type": "execute_result"
    }
   ],
   "source": [
    "avg_distance(ps, c)"
   ]
  },
  {
   "cell_type": "code",
   "execution_count": 165,
   "metadata": {},
   "outputs": [
    {
     "data": {
      "text/plain": [
       "array([-0.14373332,  0.20639589])"
      ]
     },
     "execution_count": 165,
     "metadata": {},
     "output_type": "execute_result"
    }
   ],
   "source": [
    "np.array(log(c, ps)).mean(axis=1)"
   ]
  },
  {
   "cell_type": "code",
   "execution_count": 166,
   "metadata": {},
   "outputs": [
    {
     "data": {
      "text/plain": [
       "array([0.9276463])"
      ]
     },
     "execution_count": 166,
     "metadata": {},
     "output_type": "execute_result"
    }
   ],
   "source": [
    "avg_distance(ps, c)"
   ]
  },
  {
   "cell_type": "markdown",
   "metadata": {},
   "source": [
    "## Outline of a method of checking\n",
    "\n",
    "I think there's a way we could check this, but I have not taken the time to implement it.\n",
    "\n",
    "The stereographic projection about any point, and it's inverse, are straightforward to implement with standard geometry of points, lines and spheres.\n",
    "Some geometry shows that the stereographic projection of a circle maps the angle t to a point 2 tan(t/2).\n",
    "So it follows that composing the stereographic projection by a function f(x) = 2 arctan(x/2) should give the exponential map.\n",
    "\n",
    "We would check this gives the same results as above.\n",
    "\n",
    "Using Pytorch we could start with latitude and longitude (as below) and project to cartesian coordinates and apply the inverse exponential map to get to the tangent plane.\n",
    "Then we could check the formulas of lemma 2a."
   ]
  },
  {
   "cell_type": "markdown",
   "metadata": {},
   "source": [
    "# Part 3: Gradient Descent With Pytorch\n",
    "\n",
    "## Gradient Descent\n",
    "\n",
    "At the end of the day the paper's approach was just a form of gradient descent (which I couldn't get working).\n",
    "But we can get an autograd library, like that in Pytorch, to calculate the gradients for us.\n",
    "The only trick here is we need to choose sphere coordinates (otherwise it will tell us to go off the sphere, unless we use Lagrange multipliers)."
   ]
  },
  {
   "cell_type": "code",
   "execution_count": 167,
   "metadata": {},
   "outputs": [],
   "source": [
    "import torch"
   ]
  },
  {
   "cell_type": "code",
   "execution_count": 168,
   "metadata": {},
   "outputs": [],
   "source": [
    "def torch_latlon_geodist(lat1, lon1, lat2, lon2):\n",
    "    return  torch.arccos(torch.sin(lat1) * torch.sin(lat2) + torch.cos(lat1) * torch.cos(lat2) * torch.cos(lon2 - lon1))"
   ]
  },
  {
   "cell_type": "code",
   "execution_count": 169,
   "metadata": {},
   "outputs": [
    {
     "data": {
      "text/plain": [
       "tensor([[-0.7885,  0.6007,  0.0995,  0.1919],\n",
       "        [ 0.9673,  2.4580,  2.9729, -2.2270]], dtype=torch.float64)"
      ]
     },
     "execution_count": 169,
     "metadata": {},
     "output_type": "execute_result"
    }
   ],
   "source": [
    "latlon_ps = torch.tensor(coord_to_latlon(*ps))\n",
    "latlon_ps"
   ]
  },
  {
   "cell_type": "code",
   "execution_count": 170,
   "metadata": {},
   "outputs": [],
   "source": [
    "def centroid_gradient_descent(c, ps, lr=0.1):\n",
    "    dist = torch_latlon_geodist(*c, *ps).mean()\n",
    "    dist.backward()\n",
    "    with torch.no_grad():\n",
    "        c -= lr * c.grad\n",
    "    c.grad.zero_()\n",
    "    return c, dist.item()"
   ]
  },
  {
   "cell_type": "code",
   "execution_count": 171,
   "metadata": {},
   "outputs": [],
   "source": [
    "def centroid_sphere_gd(ps, eps=1e-6, max_iter=1000, lr=0.01):\n",
    "    c = ps.mean(axis=1).requires_grad_()\n",
    "    dist = None\n",
    "    for _ in range(max_iter):\n",
    "        last_dist = dist\n",
    "        c, dist = centroid_gradient_descent(c, ps, lr=lr)\n",
    "        if last_dist and abs(dist - last_dist) < eps:\n",
    "            return c.requires_grad_(False)\n",
    "    raise Exception(\"Did not converge\")"
   ]
  },
  {
   "cell_type": "markdown",
   "metadata": {},
   "source": [
    "Using torch gradient descent"
   ]
  },
  {
   "cell_type": "code",
   "execution_count": 172,
   "metadata": {},
   "outputs": [
    {
     "data": {
      "text/plain": [
       "tensor([0.1012, 2.9704], dtype=torch.float64)"
      ]
     },
     "execution_count": 172,
     "metadata": {},
     "output_type": "execute_result"
    }
   ],
   "source": [
    "c2 = centroid_sphere_gd(latlon_ps)\n",
    "c2"
   ]
  },
  {
   "cell_type": "code",
   "execution_count": 173,
   "metadata": {},
   "outputs": [
    {
     "data": {
      "text/plain": [
       "(array([-0.98034083,  0.16950631,  0.1009924 ]), array([0.92810049]))"
      ]
     },
     "execution_count": 173,
     "metadata": {},
     "output_type": "execute_result"
    }
   ],
   "source": [
    "c2c = latlon_to_coord(*np.array(c2))\n",
    "c2c, avg_distance(ps, c2c)"
   ]
  },
  {
   "cell_type": "code",
   "execution_count": 174,
   "metadata": {},
   "outputs": [
    {
     "data": {
      "text/plain": [
       "tensor([0.1012, 2.9704], dtype=torch.float64, requires_grad=True)"
      ]
     },
     "execution_count": 174,
     "metadata": {},
     "output_type": "execute_result"
    }
   ],
   "source": [
    "c2.requires_grad_()"
   ]
  },
  {
   "cell_type": "code",
   "execution_count": 175,
   "metadata": {},
   "outputs": [],
   "source": [
    "dist = torch_latlon_geodist(*c2, *latlon_ps).mean()\n",
    "dist.backward()"
   ]
  },
  {
   "cell_type": "code",
   "execution_count": 176,
   "metadata": {},
   "outputs": [
    {
     "data": {
      "text/plain": [
       "tensor(0.9281, dtype=torch.float64, grad_fn=<MeanBackward0>)"
      ]
     },
     "execution_count": 176,
     "metadata": {},
     "output_type": "execute_result"
    }
   ],
   "source": [
    "torch_latlon_geodist(*latlon_ps, *c2).mean()"
   ]
  },
  {
   "cell_type": "markdown",
   "metadata": {},
   "source": [
    "Closely matches our original function"
   ]
  },
  {
   "cell_type": "code",
   "execution_count": 177,
   "metadata": {},
   "outputs": [
    {
     "data": {
      "text/plain": [
       "(array([-0.98093006,  0.16703028,  0.09938358]), array([0.9276463]))"
      ]
     },
     "execution_count": 177,
     "metadata": {},
     "output_type": "execute_result"
    }
   ],
   "source": [
    "c = spherical_centroid(ps)\n",
    "c, avg_distance(ps, c)"
   ]
  }
 ],
 "metadata": {
  "kernelspec": {
   "display_name": "Python 3",
   "language": "python",
   "name": "python3"
  },
  "language_info": {
   "codemirror_mode": {
    "name": "ipython",
    "version": 3
   },
   "file_extension": ".py",
   "mimetype": "text/x-python",
   "name": "python",
   "nbconvert_exporter": "python",
   "pygments_lexer": "ipython3",
   "version": "3.8.2"
  }
 },
 "nbformat": 4,
 "nbformat_minor": 4
}
