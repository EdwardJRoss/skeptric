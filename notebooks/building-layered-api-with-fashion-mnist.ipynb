{
 "cells": [
  {
   "cell_type": "markdown",
   "id": "55ce9ec4",
   "metadata": {
    "papermill": {
     "duration": 0.080506,
     "end_time": "2022-06-09T11:00:39.708461",
     "exception": false,
     "start_time": "2022-06-09T11:00:39.627955",
     "status": "completed"
    },
    "tags": []
   },
   "source": [
    "# Builtraing a layered API with Fashion MNIST\n",
    "\n",
    "Tags: python, data, fastai\n",
    "\n",
    "date: 2022-05-23T19:05:13+10:00\n",
    "\n",
    "feature_image: /images/fashion_mnist_training_loop.jpg\n",
    "  \n",
    "<!--eofm-->\n",
    "\n",
    "We're going to build up a simple Deep Learning API inspired by [fastai](https://docs.fast.ai/) on Fashion MNIST from scratch.\n",
    "Humans can only fit so many things in their head at once (somewhere between 3 and 7); trying to grasp all the details of the training loop at once is difficult, especially as we add more features to it.\n",
    "The right abstractions can make this much easier by only having to think about what we're changing in the interface.\n",
    "Coming up with a good abstraction that generalises across many usecases is hard, so we're going to use the fast.ai interface.\n",
    "\n",
    "Then to show how it's useful once we have our training loop we'll see how we can change the model and retrain."
   ]
  },
  {
   "cell_type": "markdown",
   "id": "db30dde1",
   "metadata": {},
   "source": [
    "This post was generated with a Jupyter notebook. You can also [view this notebook on Kaggle](https://www.kaggle.com/code/edwardjross/building-layered-api-with-fashion-mnist/notebook) or [download the Jupyter notebook](/notebooks/building-layered-api-with-fashion-mnist.ipynb)."
   ]
  },
  {
   "cell_type": "markdown",
   "id": "889392c0",
   "metadata": {
    "papermill": {
     "duration": 0.080506,
     "end_time": "2022-06-09T11:00:39.708461",
     "exception": false,
     "start_time": "2022-06-09T11:00:39.627955",
     "status": "completed"
    },
    "tags": []
   },
   "source": [
    "# Basic Training Loop\n",
    "\n",
    "We're going to start where we finished with [Peeling fastai's layered API with Fashion MNIST](https://www.kaggle.com/code/edwardjross/peeling-fastai-layered-api-with-fashion-mnist) with a very low level training loop.\n",
    "\n",
    "We'll use only a few imports."
   ]
  },
  {
   "cell_type": "code",
   "execution_count": 1,
   "id": "1e008bd0",
   "metadata": {
    "_cell_guid": "b1076dfc-b9ad-4769-8c92-a6c4dae69d19",
    "_uuid": "8f2839f25d086af736a60e9eeb907d3b93b6e0e5",
    "execution": {
     "iopub.execute_input": "2022-06-09T11:00:39.862277Z",
     "iopub.status.busy": "2022-06-09T11:00:39.861777Z",
     "iopub.status.idle": "2022-06-09T11:00:41.811124Z",
     "shell.execute_reply": "2022-06-09T11:00:41.810258Z"
    },
    "papermill": {
     "duration": 2.030148,
     "end_time": "2022-06-09T11:00:41.813737",
     "exception": false,
     "start_time": "2022-06-09T11:00:39.783589",
     "status": "completed"
    },
    "tags": []
   },
   "outputs": [],
   "source": [
    "import numpy as np\n",
    "from torch import tensor, empty, stack, arange, randn, randperm, no_grad\n",
    "from torch.nn.functional import cross_entropy"
   ]
  },
  {
   "cell_type": "markdown",
   "id": "c522bf19",
   "metadata": {
    "papermill": {
     "duration": 0.072688,
     "end_time": "2022-06-09T11:00:41.959517",
     "exception": false,
     "start_time": "2022-06-09T11:00:41.886829",
     "status": "completed"
    },
    "tags": []
   },
   "source": [
    "We have a two layer neural net with random parameters"
   ]
  },
  {
   "cell_type": "code",
   "execution_count": 2,
   "id": "fa53075d",
   "metadata": {
    "execution": {
     "iopub.execute_input": "2022-06-09T11:00:42.109649Z",
     "iopub.status.busy": "2022-06-09T11:00:42.109369Z",
     "iopub.status.idle": "2022-06-09T11:00:42.121290Z",
     "shell.execute_reply": "2022-06-09T11:00:42.120514Z"
    },
    "papermill": {
     "duration": 0.088795,
     "end_time": "2022-06-09T11:00:42.123584",
     "exception": false,
     "start_time": "2022-06-09T11:00:42.034789",
     "status": "completed"
    },
    "tags": []
   },
   "outputs": [],
   "source": [
    "def init_params(size, std=1.0): return (randn(size)*std).requires_grad_()    \n",
    "\n",
    "w1, b1 = init_params((784, 100)), init_params((100,))\n",
    "w2, b2 = init_params((100, 10)), init_params((10,))\n",
    "params = [w1, w2, b1, b2]\n",
    "\n",
    "def model(x):\n",
    "    act1 = x@w1 + b1\n",
    "    act2 = act1 * (act1 > 0)\n",
    "    act3 = act2@w2 + b2\n",
    "    return act3"
   ]
  },
  {
   "cell_type": "markdown",
   "id": "613abc1e",
   "metadata": {
    "papermill": {
     "duration": 0.073498,
     "end_time": "2022-06-09T11:00:42.271601",
     "exception": false,
     "start_time": "2022-06-09T11:00:42.198103",
     "status": "completed"
    },
    "tags": []
   },
   "source": [
    "Load in the training data and create a validation split"
   ]
  },
  {
   "cell_type": "code",
   "execution_count": 3,
   "id": "3af461a6",
   "metadata": {
    "execution": {
     "iopub.execute_input": "2022-06-09T11:00:42.419831Z",
     "iopub.status.busy": "2022-06-09T11:00:42.419220Z",
     "iopub.status.idle": "2022-06-09T11:01:13.927162Z",
     "shell.execute_reply": "2022-06-09T11:01:13.926289Z"
    },
    "papermill": {
     "duration": 31.58501,
     "end_time": "2022-06-09T11:01:13.929698",
     "exception": false,
     "start_time": "2022-06-09T11:00:42.344688",
     "status": "completed"
    },
    "tags": []
   },
   "outputs": [],
   "source": [
    "data = np.loadtxt('../input/fashionmnist/fashion-mnist_train.csv', skiprows=1, delimiter=',')\n",
    "\n",
    "valid_mask = np.random.choice([True, False], len(data), p=(0.2, 0.8))\n",
    "X_train, y_train = tensor(data[~valid_mask, 1:].astype(np.float32) / 255.), tensor(data[~valid_mask,0].astype(np.int64))\n",
    "X_valid, y_valid = tensor(data[ valid_mask, 1:].astype(np.float32) / 255.), tensor(data[ valid_mask,0].astype(np.int64))"
   ]
  },
  {
   "cell_type": "markdown",
   "id": "46efe32e",
   "metadata": {
    "papermill": {
     "duration": 0.075216,
     "end_time": "2022-06-09T11:01:14.081614",
     "exception": false,
     "start_time": "2022-06-09T11:01:14.006398",
     "status": "completed"
    },
    "tags": []
   },
   "source": [
    "Define accuracy; how often the most probable class is the correct class"
   ]
  },
  {
   "cell_type": "code",
   "execution_count": 4,
   "id": "26d806c6",
   "metadata": {
    "execution": {
     "iopub.execute_input": "2022-06-09T11:01:14.239582Z",
     "iopub.status.busy": "2022-06-09T11:01:14.239288Z",
     "iopub.status.idle": "2022-06-09T11:01:14.244516Z",
     "shell.execute_reply": "2022-06-09T11:01:14.243566Z"
    },
    "papermill": {
     "duration": 0.085547,
     "end_time": "2022-06-09T11:01:14.246492",
     "exception": false,
     "start_time": "2022-06-09T11:01:14.160945",
     "status": "completed"
    },
    "tags": []
   },
   "outputs": [],
   "source": [
    "def accuracy(pred, y): return sum(y.flatten() == pred.argmax(axis=1)) / len(y)"
   ]
  },
  {
   "cell_type": "markdown",
   "id": "442edb07",
   "metadata": {
    "papermill": {
     "duration": 0.07426,
     "end_time": "2022-06-09T11:01:14.396924",
     "exception": false,
     "start_time": "2022-06-09T11:01:14.322664",
     "status": "completed"
    },
    "tags": []
   },
   "source": [
    "It should start off around 10%, since there are 10 classes with equal data."
   ]
  },
  {
   "cell_type": "code",
   "execution_count": 5,
   "id": "57798cad",
   "metadata": {
    "execution": {
     "iopub.execute_input": "2022-06-09T11:01:14.549478Z",
     "iopub.status.busy": "2022-06-09T11:01:14.548908Z",
     "iopub.status.idle": "2022-06-09T11:01:14.681145Z",
     "shell.execute_reply": "2022-06-09T11:01:14.680264Z"
    },
    "papermill": {
     "duration": 0.211766,
     "end_time": "2022-06-09T11:01:14.683636",
     "exception": false,
     "start_time": "2022-06-09T11:01:14.471870",
     "status": "completed"
    },
    "tags": []
   },
   "outputs": [
    {
     "data": {
      "text/plain": [
       "tensor(0.1191)"
      ]
     },
     "execution_count": 5,
     "metadata": {},
     "output_type": "execute_result"
    }
   ],
   "source": [
    "accuracy(model(X_valid), y_valid)"
   ]
  },
  {
   "cell_type": "markdown",
   "id": "e2128045",
   "metadata": {
    "papermill": {
     "duration": 0.074936,
     "end_time": "2022-06-09T11:01:14.836067",
     "exception": false,
     "start_time": "2022-06-09T11:01:14.761131",
     "status": "completed"
    },
    "tags": []
   },
   "source": [
    "And run our training loop"
   ]
  },
  {
   "cell_type": "code",
   "execution_count": 6,
   "id": "a4d5eee1",
   "metadata": {
    "execution": {
     "iopub.execute_input": "2022-06-09T11:01:14.985954Z",
     "iopub.status.busy": "2022-06-09T11:01:14.985282Z",
     "iopub.status.idle": "2022-06-09T11:01:16.928449Z",
     "shell.execute_reply": "2022-06-09T11:01:16.927060Z"
    },
    "papermill": {
     "duration": 2.021933,
     "end_time": "2022-06-09T11:01:16.931575",
     "exception": false,
     "start_time": "2022-06-09T11:01:14.909642",
     "status": "completed"
    },
    "tags": []
   },
   "outputs": [
    {
     "name": "stdout",
     "output_type": "stream",
     "text": [
      "0 tensor(0.5306)\n",
      "1 tensor(0.5884)\n",
      "2 tensor(0.6121)\n",
      "3 tensor(0.6290)\n",
      "4 tensor(0.6440)\n"
     ]
    }
   ],
   "source": [
    "batch_size = 2048\n",
    "lr = 0.2\n",
    "\n",
    "for epoch in range(5):\n",
    "    for _batch in range(len(X_train) // batch_size):\n",
    "        # Data loader\n",
    "        idx = np.random.choice(len(X_train), batch_size, replace=False)\n",
    "        X, y = X_train[idx], y_train[idx]\n",
    "        \n",
    "        pred = model(X)\n",
    "        loss = cross_entropy(pred, y)\n",
    "        loss.backward()\n",
    "        with no_grad():\n",
    "            for p in params:\n",
    "                p -= lr * p.grad\n",
    "                p.grad.zero_()\n",
    "                \n",
    "            \n",
    "    print(epoch, accuracy(model(X_valid), y_valid))"
   ]
  },
  {
   "cell_type": "markdown",
   "id": "343d2d9d",
   "metadata": {
    "papermill": {
     "duration": 0.076826,
     "end_time": "2022-06-09T11:01:17.086293",
     "exception": false,
     "start_time": "2022-06-09T11:01:17.009467",
     "status": "completed"
    },
    "tags": []
   },
   "source": [
    "# Abstracting the Optimiser\n",
    "\n",
    "In PyTorch terms the [Optimizer](https://pytorch.org/docs/stable/optim.html#torch.optim.Optimizer) is the thing that stores the parameters, updates them by their parameters and can zero their gradients.\n",
    "It's what we use in the `torch.no_grad`.\n",
    "\n",
    "From a mathematical perspective I'd call the whole training loop the optimizer; it's finding the parameters that minimize the loss.\n",
    "But the optimizer is a convenient abstraction because there are many other gradient based alternatives to Stochastic Gradient Descent.\n",
    "\n",
    "We'll create a simplified version of the PyTorch optimizer for Stochastic Gradient Descent (a fastai Optimizer is a little different but they provide [OptimWrapper](https://docs.fast.ai/optimizer#OptimWrapper) for compatibility)."
   ]
  },
  {
   "cell_type": "code",
   "execution_count": 7,
   "id": "de41b4eb",
   "metadata": {
    "execution": {
     "iopub.execute_input": "2022-06-09T11:01:17.239934Z",
     "iopub.status.busy": "2022-06-09T11:01:17.239441Z",
     "iopub.status.idle": "2022-06-09T11:01:17.244794Z",
     "shell.execute_reply": "2022-06-09T11:01:17.244129Z"
    },
    "papermill": {
     "duration": 0.083859,
     "end_time": "2022-06-09T11:01:17.246675",
     "exception": false,
     "start_time": "2022-06-09T11:01:17.162816",
     "status": "completed"
    },
    "tags": []
   },
   "outputs": [],
   "source": [
    "class SGD():\n",
    "    def __init__(self, params, lr):\n",
    "        self.params = list(params)\n",
    "        self.lr = lr\n",
    "        \n",
    "    def step(self):\n",
    "        for p in self.params:\n",
    "            p -= lr * p.grad\n",
    "            \n",
    "    def zero_grad(self):\n",
    "        for p in self.params:\n",
    "            p.grad.zero_()"
   ]
  },
  {
   "cell_type": "markdown",
   "id": "b52f4665",
   "metadata": {
    "papermill": {
     "duration": 0.077523,
     "end_time": "2022-06-09T11:01:17.400611",
     "exception": false,
     "start_time": "2022-06-09T11:01:17.323088",
     "status": "completed"
    },
    "tags": []
   },
   "source": [
    "Reset the parameters"
   ]
  },
  {
   "cell_type": "code",
   "execution_count": 8,
   "id": "5ce3d417",
   "metadata": {
    "execution": {
     "iopub.execute_input": "2022-06-09T11:01:17.558799Z",
     "iopub.status.busy": "2022-06-09T11:01:17.558321Z",
     "iopub.status.idle": "2022-06-09T11:01:17.564828Z",
     "shell.execute_reply": "2022-06-09T11:01:17.563885Z"
    },
    "papermill": {
     "duration": 0.086293,
     "end_time": "2022-06-09T11:01:17.567049",
     "exception": false,
     "start_time": "2022-06-09T11:01:17.480756",
     "status": "completed"
    },
    "tags": []
   },
   "outputs": [],
   "source": [
    "w1, b1 = init_params((784, 100)), init_params((100,))\n",
    "w2, b2 = init_params((100, 10)), init_params((10,))\n",
    "params = [w1, w2, b1, b2]"
   ]
  },
  {
   "cell_type": "markdown",
   "id": "cc3aa8ec",
   "metadata": {
    "papermill": {
     "duration": 0.077058,
     "end_time": "2022-06-09T11:01:17.720771",
     "exception": false,
     "start_time": "2022-06-09T11:01:17.643713",
     "status": "completed"
    },
    "tags": []
   },
   "source": [
    "And training gives about the same accuracy as before.\n",
    "The benefit here is we can now drop in a different optimizer."
   ]
  },
  {
   "cell_type": "code",
   "execution_count": 9,
   "id": "0e25aa04",
   "metadata": {
    "execution": {
     "iopub.execute_input": "2022-06-09T11:01:17.876784Z",
     "iopub.status.busy": "2022-06-09T11:01:17.875996Z",
     "iopub.status.idle": "2022-06-09T11:01:19.730375Z",
     "shell.execute_reply": "2022-06-09T11:01:19.729344Z"
    },
    "papermill": {
     "duration": 1.934562,
     "end_time": "2022-06-09T11:01:19.732601",
     "exception": false,
     "start_time": "2022-06-09T11:01:17.798039",
     "status": "completed"
    },
    "tags": []
   },
   "outputs": [
    {
     "name": "stdout",
     "output_type": "stream",
     "text": [
      "0 tensor(0.6504)\n",
      "1 tensor(0.6775)\n",
      "2 tensor(0.6870)\n",
      "3 tensor(0.6964)\n",
      "4 tensor(0.7051)\n"
     ]
    }
   ],
   "source": [
    "batch_size = 2048\n",
    "\n",
    "optim = SGD(params, lr=0.2)\n",
    "\n",
    "for epoch in range(5):\n",
    "    for _batch in range(len(X_train) // batch_size):\n",
    "        idx = np.random.choice(len(X_train), batch_size, replace=False)\n",
    "        X, y = X_train[idx], y_train[idx]\n",
    "        \n",
    "        pred = model(X)\n",
    "        loss = cross_entropy(pred, y)\n",
    "        loss.backward()\n",
    "        with no_grad():\n",
    "            optim.step()\n",
    "            optim.zero_grad()\n",
    "            \n",
    "    print(epoch, accuracy(model(X_valid), y_valid))"
   ]
  },
  {
   "cell_type": "markdown",
   "id": "09123d32",
   "metadata": {
    "papermill": {
     "duration": 0.079952,
     "end_time": "2022-06-09T11:01:19.893587",
     "exception": false,
     "start_time": "2022-06-09T11:01:19.813635",
     "status": "completed"
    },
    "tags": []
   },
   "source": [
    "# 2. Abstracting the model\n",
    "\n",
    "We've been manually tracking our parameters for the Optimizer, but it would be nice just to get it out of the module.\n",
    "PyTorch's [nn.module](https://pytorch.org/docs/stable/_modules/torch/nn/modules/module.html#Module) does this by tracking all [`Parameter`s](https://pytorch.org/docs/stable/generated/torch.nn.parameter.Parameter.html#torch.nn.parameter.Parameter) in the class and recursively any submodules.\n",
    "\n",
    "The `Parameter` idea is important because we don't want to differentiate *every* method.\n",
    "Parameter itself seems to have [deep magic in it's source](https://pytorch.org/docs/stable/_modules/torch/nn/parameter.html#Parameter); in particular it calls `Tensor._make_subclass`. We'll just manually track the parameters for now."
   ]
  },
  {
   "cell_type": "code",
   "execution_count": 10,
   "id": "d85e7821",
   "metadata": {
    "execution": {
     "iopub.execute_input": "2022-06-09T11:01:20.056259Z",
     "iopub.status.busy": "2022-06-09T11:01:20.055940Z",
     "iopub.status.idle": "2022-06-09T11:01:20.060558Z",
     "shell.execute_reply": "2022-06-09T11:01:20.059829Z"
    },
    "papermill": {
     "duration": 0.09054,
     "end_time": "2022-06-09T11:01:20.062702",
     "exception": false,
     "start_time": "2022-06-09T11:01:19.972162",
     "status": "completed"
    },
    "tags": []
   },
   "outputs": [],
   "source": [
    "def init_params(size, std=1.0): return (randn(size)*std).requires_grad_()    "
   ]
  },
  {
   "cell_type": "markdown",
   "id": "c2b13143",
   "metadata": {
    "papermill": {
     "duration": 0.08041,
     "end_time": "2022-06-09T11:01:20.222252",
     "exception": false,
     "start_time": "2022-06-09T11:01:20.141842",
     "status": "completed"
    },
    "tags": []
   },
   "source": [
    "A Linear layer has the weight and the bias, and does a matrix multiplication.\n",
    "\n",
    "We'll provide a way to reset the parameters (to restart model training), and to get the parameters for the optimizer."
   ]
  },
  {
   "cell_type": "code",
   "execution_count": 11,
   "id": "7f2de592",
   "metadata": {
    "execution": {
     "iopub.execute_input": "2022-06-09T11:01:20.383126Z",
     "iopub.status.busy": "2022-06-09T11:01:20.382636Z",
     "iopub.status.idle": "2022-06-09T11:01:20.390048Z",
     "shell.execute_reply": "2022-06-09T11:01:20.389420Z"
    },
    "papermill": {
     "duration": 0.089626,
     "end_time": "2022-06-09T11:01:20.392069",
     "exception": false,
     "start_time": "2022-06-09T11:01:20.302443",
     "status": "completed"
    },
    "tags": []
   },
   "outputs": [],
   "source": [
    "class Linear:\n",
    "    def __init__(self, in_features, out_features):\n",
    "        self.in_features = in_features\n",
    "        self.out_features = out_features\n",
    "        self.weight = empty((self.in_features, self.out_features), requires_grad=True)\n",
    "        self.bias = empty(self.out_features, requires_grad=True)\n",
    "        self.reset_parameters()\n",
    "        \n",
    "    def __call__(self, x):\n",
    "        return x @ self.weight + self.bias\n",
    "    \n",
    "    def reset_parameters(self):\n",
    "        with no_grad():\n",
    "            # Update the weights in place, otherwise the optimizer will point to the old weights\n",
    "            self.weight[:] = init_params((self.in_features, self.out_features))\n",
    "            self.bias[:] = init_params(self.out_features)\n",
    "    \n",
    "    def parameters(self):\n",
    "        return [self.weight, self.bias]"
   ]
  },
  {
   "cell_type": "markdown",
   "id": "666d9e2c",
   "metadata": {
    "papermill": {
     "duration": 0.078079,
     "end_time": "2022-06-09T11:01:20.549888",
     "exception": false,
     "start_time": "2022-06-09T11:01:20.471809",
     "status": "completed"
    },
    "tags": []
   },
   "source": [
    "The ReLU is a simple function with no parameters"
   ]
  },
  {
   "cell_type": "code",
   "execution_count": 12,
   "id": "8e47c254",
   "metadata": {
    "execution": {
     "iopub.execute_input": "2022-06-09T11:01:20.710805Z",
     "iopub.status.busy": "2022-06-09T11:01:20.710293Z",
     "iopub.status.idle": "2022-06-09T11:01:20.714830Z",
     "shell.execute_reply": "2022-06-09T11:01:20.714232Z"
    },
    "papermill": {
     "duration": 0.086779,
     "end_time": "2022-06-09T11:01:20.716683",
     "exception": false,
     "start_time": "2022-06-09T11:01:20.629904",
     "status": "completed"
    },
    "tags": []
   },
   "outputs": [],
   "source": [
    "class ReLU():\n",
    "    def __call__(self, x):\n",
    "         return x * (x > 0)\n",
    "        \n",
    "    def reset_parameters(self):\n",
    "        pass\n",
    "        \n",
    "    def parameters(self):\n",
    "        return []"
   ]
  },
  {
   "cell_type": "markdown",
   "id": "ec60fb53",
   "metadata": {
    "execution": {
     "iopub.execute_input": "2022-06-03T03:07:58.512191Z",
     "iopub.status.busy": "2022-06-03T03:07:58.51142Z",
     "iopub.status.idle": "2022-06-03T03:07:58.519348Z",
     "shell.execute_reply": "2022-06-03T03:07:58.517709Z",
     "shell.execute_reply.started": "2022-06-03T03:07:58.512138Z"
    },
    "papermill": {
     "duration": 0.077937,
     "end_time": "2022-06-09T11:01:20.875715",
     "exception": false,
     "start_time": "2022-06-09T11:01:20.797778",
     "status": "completed"
    },
    "tags": []
   },
   "source": [
    "To combine them we use a Sequential wrapper which just holds the other models."
   ]
  },
  {
   "cell_type": "code",
   "execution_count": 13,
   "id": "61321605",
   "metadata": {
    "execution": {
     "iopub.execute_input": "2022-06-09T11:01:21.033628Z",
     "iopub.status.busy": "2022-06-09T11:01:21.032906Z",
     "iopub.status.idle": "2022-06-09T11:01:21.039894Z",
     "shell.execute_reply": "2022-06-09T11:01:21.038754Z"
    },
    "papermill": {
     "duration": 0.088169,
     "end_time": "2022-06-09T11:01:21.042343",
     "exception": false,
     "start_time": "2022-06-09T11:01:20.954174",
     "status": "completed"
    },
    "tags": []
   },
   "outputs": [],
   "source": [
    "class Sequential():\n",
    "    def __init__(self, *modules):\n",
    "        self.modules = modules\n",
    "        \n",
    "    def __call__(self, x):\n",
    "        for module in self.modules:\n",
    "            x = module(x)\n",
    "        return x\n",
    "    \n",
    "    def reset_parameters(self):\n",
    "        for module in self.modules:\n",
    "            module.reset_parameters()\n",
    "    \n",
    "    def parameters(self):\n",
    "        return (parameter for module in self.modules for parameter in module.parameters())"
   ]
  },
  {
   "cell_type": "markdown",
   "id": "fb412c4d",
   "metadata": {
    "papermill": {
     "duration": 0.078375,
     "end_time": "2022-06-09T11:01:21.198322",
     "exception": false,
     "start_time": "2022-06-09T11:01:21.119947",
     "status": "completed"
    },
    "tags": []
   },
   "source": [
    "We can now rewrite our model in a much simpler way.\n",
    "It's easier to see here how to add or remove layers."
   ]
  },
  {
   "cell_type": "code",
   "execution_count": 14,
   "id": "84d19d59",
   "metadata": {
    "execution": {
     "iopub.execute_input": "2022-06-09T11:01:21.356557Z",
     "iopub.status.busy": "2022-06-09T11:01:21.356281Z",
     "iopub.status.idle": "2022-06-09T11:01:21.361061Z",
     "shell.execute_reply": "2022-06-09T11:01:21.360376Z"
    },
    "papermill": {
     "duration": 0.086082,
     "end_time": "2022-06-09T11:01:21.362935",
     "exception": false,
     "start_time": "2022-06-09T11:01:21.276853",
     "status": "completed"
    },
    "tags": []
   },
   "outputs": [],
   "source": [
    "model = Sequential(\n",
    "    Linear(784, 100),\n",
    "    ReLU(),\n",
    "    Linear(100, 10),\n",
    ")"
   ]
  },
  {
   "cell_type": "code",
   "execution_count": 15,
   "id": "44791a7b",
   "metadata": {
    "execution": {
     "iopub.execute_input": "2022-06-09T11:01:21.523238Z",
     "iopub.status.busy": "2022-06-09T11:01:21.522703Z",
     "iopub.status.idle": "2022-06-09T11:01:21.615861Z",
     "shell.execute_reply": "2022-06-09T11:01:21.614961Z"
    },
    "papermill": {
     "duration": 0.174266,
     "end_time": "2022-06-09T11:01:21.618034",
     "exception": false,
     "start_time": "2022-06-09T11:01:21.443768",
     "status": "completed"
    },
    "tags": []
   },
   "outputs": [
    {
     "data": {
      "text/plain": [
       "tensor(0.0996)"
      ]
     },
     "execution_count": 15,
     "metadata": {},
     "output_type": "execute_result"
    }
   ],
   "source": [
    "accuracy(model(X_valid), y_valid)"
   ]
  },
  {
   "cell_type": "markdown",
   "id": "86d4b8ab",
   "metadata": {
    "papermill": {
     "duration": 0.093269,
     "end_time": "2022-06-09T11:01:21.789736",
     "exception": false,
     "start_time": "2022-06-09T11:01:21.696467",
     "status": "completed"
    },
    "tags": []
   },
   "source": [
    "Our training is the same as before, but we can now just pass the model parameters onto the optimizer rather than tracking them manually."
   ]
  },
  {
   "cell_type": "code",
   "execution_count": 16,
   "id": "5fdaccb7",
   "metadata": {
    "execution": {
     "iopub.execute_input": "2022-06-09T11:01:21.971590Z",
     "iopub.status.busy": "2022-06-09T11:01:21.970965Z",
     "iopub.status.idle": "2022-06-09T11:01:24.588236Z",
     "shell.execute_reply": "2022-06-09T11:01:24.587291Z"
    },
    "papermill": {
     "duration": 2.707726,
     "end_time": "2022-06-09T11:01:24.590642",
     "exception": false,
     "start_time": "2022-06-09T11:01:21.882916",
     "status": "completed"
    },
    "tags": []
   },
   "outputs": [
    {
     "name": "stdout",
     "output_type": "stream",
     "text": [
      "0 tensor(0.5299)\n",
      "1 tensor(0.5669)\n",
      "2 tensor(0.6272)\n",
      "3 tensor(0.6368)\n",
      "4 tensor(0.6443)\n"
     ]
    }
   ],
   "source": [
    "batch_size = 2048\n",
    "\n",
    "optim = SGD(model.parameters(), lr=0.2)\n",
    "\n",
    "for epoch in range(5):\n",
    "    for _batch in range(len(X_train) // batch_size):\n",
    "        idx = np.random.choice(len(X_train), batch_size, replace=False)\n",
    "        X, y = X_train[idx], y_train[idx]\n",
    "        \n",
    "        pred = model(X)\n",
    "        loss = cross_entropy(pred, y)\n",
    "        loss.backward()\n",
    "        with no_grad():\n",
    "            optim.step()\n",
    "            optim.zero_grad()\n",
    "            \n",
    "    print(epoch, accuracy(model(X_valid), y_valid))"
   ]
  },
  {
   "cell_type": "markdown",
   "id": "95a4b44a",
   "metadata": {
    "papermill": {
     "duration": 0.091823,
     "end_time": "2022-06-09T11:01:24.790592",
     "exception": false,
     "start_time": "2022-06-09T11:01:24.698769",
     "status": "completed"
    },
    "tags": []
   },
   "source": [
    "Let's check resetting the parameters puts the accuracy back down to ~10%"
   ]
  },
  {
   "cell_type": "code",
   "execution_count": 17,
   "id": "9a12ee1d",
   "metadata": {
    "execution": {
     "iopub.execute_input": "2022-06-09T11:01:24.972929Z",
     "iopub.status.busy": "2022-06-09T11:01:24.971863Z",
     "iopub.status.idle": "2022-06-09T11:01:25.094768Z",
     "shell.execute_reply": "2022-06-09T11:01:25.093561Z"
    },
    "papermill": {
     "duration": 0.21619,
     "end_time": "2022-06-09T11:01:25.097610",
     "exception": false,
     "start_time": "2022-06-09T11:01:24.881420",
     "status": "completed"
    },
    "tags": []
   },
   "outputs": [
    {
     "data": {
      "text/plain": [
       "tensor(0.6443)"
      ]
     },
     "execution_count": 17,
     "metadata": {},
     "output_type": "execute_result"
    }
   ],
   "source": [
    "accuracy(model(X_valid), y_valid)"
   ]
  },
  {
   "cell_type": "code",
   "execution_count": 18,
   "id": "da2723a7",
   "metadata": {
    "execution": {
     "iopub.execute_input": "2022-06-09T11:01:25.280383Z",
     "iopub.status.busy": "2022-06-09T11:01:25.279591Z",
     "iopub.status.idle": "2022-06-09T11:01:25.285664Z",
     "shell.execute_reply": "2022-06-09T11:01:25.284711Z"
    },
    "papermill": {
     "duration": 0.10216,
     "end_time": "2022-06-09T11:01:25.289070",
     "exception": false,
     "start_time": "2022-06-09T11:01:25.186910",
     "status": "completed"
    },
    "tags": []
   },
   "outputs": [],
   "source": [
    "model.reset_parameters()"
   ]
  },
  {
   "cell_type": "code",
   "execution_count": 19,
   "id": "631acd1d",
   "metadata": {
    "execution": {
     "iopub.execute_input": "2022-06-09T11:01:25.493511Z",
     "iopub.status.busy": "2022-06-09T11:01:25.493122Z",
     "iopub.status.idle": "2022-06-09T11:01:25.601695Z",
     "shell.execute_reply": "2022-06-09T11:01:25.600707Z"
    },
    "papermill": {
     "duration": 0.210165,
     "end_time": "2022-06-09T11:01:25.603950",
     "exception": false,
     "start_time": "2022-06-09T11:01:25.393785",
     "status": "completed"
    },
    "tags": []
   },
   "outputs": [
    {
     "data": {
      "text/plain": [
       "tensor(0.1337)"
      ]
     },
     "execution_count": 19,
     "metadata": {},
     "output_type": "execute_result"
    }
   ],
   "source": [
    "accuracy(model(X_valid), y_valid)"
   ]
  },
  {
   "cell_type": "markdown",
   "id": "2ad92229",
   "metadata": {
    "papermill": {
     "duration": 0.121878,
     "end_time": "2022-06-09T11:01:25.811330",
     "exception": false,
     "start_time": "2022-06-09T11:01:25.689452",
     "status": "completed"
    },
    "tags": []
   },
   "source": [
    "# Dataloader"
   ]
  },
  {
   "cell_type": "markdown",
   "id": "6f14722a",
   "metadata": {
    "papermill": {
     "duration": 0.084852,
     "end_time": "2022-06-09T11:01:25.978995",
     "exception": false,
     "start_time": "2022-06-09T11:01:25.894143",
     "status": "completed"
    },
    "tags": []
   },
   "source": [
    "The logic to iterate through the data is pretty cumbersome, PyTorch provides a [DataLoader](https://pytorch.org/docs/stable/_modules/torch/utils/data/dataloader.html#DataLoader) abstraction that can wrap a Dataset, iterate through the indices, and output batches of tensors in an efficient way.\n",
    "\n",
    "\n",
    "Let's start with a "
   ]
  },
  {
   "cell_type": "code",
   "execution_count": 20,
   "id": "994cade9",
   "metadata": {
    "execution": {
     "iopub.execute_input": "2022-06-09T11:01:26.153339Z",
     "iopub.status.busy": "2022-06-09T11:01:26.152339Z",
     "iopub.status.idle": "2022-06-09T11:01:26.596311Z",
     "shell.execute_reply": "2022-06-09T11:01:26.594807Z"
    },
    "papermill": {
     "duration": 0.534937,
     "end_time": "2022-06-09T11:01:26.599044",
     "exception": false,
     "start_time": "2022-06-09T11:01:26.064107",
     "status": "completed"
    },
    "tags": []
   },
   "outputs": [
    {
     "data": {
      "text/plain": [
       "tensor([38425,  7127, 40663,  ..., 40637, 15060, 16765])"
      ]
     },
     "execution_count": 20,
     "metadata": {},
     "output_type": "execute_result"
    }
   ],
   "source": [
    "dataset = list(zip(X_train, y_train))\n",
    "\n",
    "seq = randperm(len(dataset))\n",
    "seq"
   ]
  },
  {
   "cell_type": "markdown",
   "id": "7b38ff3a",
   "metadata": {
    "papermill": {
     "duration": 0.108911,
     "end_time": "2022-06-09T11:01:26.804762",
     "exception": false,
     "start_time": "2022-06-09T11:01:26.695851",
     "status": "completed"
    },
    "tags": []
   },
   "source": [
    "Get a batch, here of size 4"
   ]
  },
  {
   "cell_type": "code",
   "execution_count": 21,
   "id": "579ede74",
   "metadata": {
    "execution": {
     "iopub.execute_input": "2022-06-09T11:01:26.997447Z",
     "iopub.status.busy": "2022-06-09T11:01:26.997089Z",
     "iopub.status.idle": "2022-06-09T11:01:27.003891Z",
     "shell.execute_reply": "2022-06-09T11:01:27.003191Z"
    },
    "papermill": {
     "duration": 0.106949,
     "end_time": "2022-06-09T11:01:27.008042",
     "exception": false,
     "start_time": "2022-06-09T11:01:26.901093",
     "status": "completed"
    },
    "tags": []
   },
   "outputs": [
    {
     "data": {
      "text/plain": [
       "tensor([38425,  7127, 40663, 38173])"
      ]
     },
     "execution_count": 21,
     "metadata": {},
     "output_type": "execute_result"
    }
   ],
   "source": [
    "batch_idxs = seq[:4]\n",
    "batch_idxs"
   ]
  },
  {
   "cell_type": "markdown",
   "id": "d2abc694",
   "metadata": {
    "papermill": {
     "duration": 0.094643,
     "end_time": "2022-06-09T11:01:27.198137",
     "exception": false,
     "start_time": "2022-06-09T11:01:27.103494",
     "status": "completed"
    },
    "tags": []
   },
   "source": [
    "When we get the elements it has both the Xs and the ys together"
   ]
  },
  {
   "cell_type": "code",
   "execution_count": 22,
   "id": "88dcac0e",
   "metadata": {
    "execution": {
     "iopub.execute_input": "2022-06-09T11:01:27.395960Z",
     "iopub.status.busy": "2022-06-09T11:01:27.395177Z",
     "iopub.status.idle": "2022-06-09T11:01:27.399654Z",
     "shell.execute_reply": "2022-06-09T11:01:27.398872Z"
    },
    "papermill": {
     "duration": 0.10522,
     "end_time": "2022-06-09T11:01:27.401965",
     "exception": false,
     "start_time": "2022-06-09T11:01:27.296745",
     "status": "completed"
    },
    "tags": []
   },
   "outputs": [],
   "source": [
    "batch = [dataset[idx] for idx in batch_idxs]"
   ]
  },
  {
   "cell_type": "markdown",
   "id": "cb0e8509",
   "metadata": {
    "papermill": {
     "duration": 0.095759,
     "end_time": "2022-06-09T11:01:27.593622",
     "exception": false,
     "start_time": "2022-06-09T11:01:27.497863",
     "status": "completed"
    },
    "tags": []
   },
   "source": [
    "We can unpack them to get tuples of tensors"
   ]
  },
  {
   "cell_type": "code",
   "execution_count": 23,
   "id": "765304b6",
   "metadata": {
    "execution": {
     "iopub.execute_input": "2022-06-09T11:01:27.790356Z",
     "iopub.status.busy": "2022-06-09T11:01:27.790017Z",
     "iopub.status.idle": "2022-06-09T11:01:27.796834Z",
     "shell.execute_reply": "2022-06-09T11:01:27.795660Z"
    },
    "papermill": {
     "duration": 0.112521,
     "end_time": "2022-06-09T11:01:27.799644",
     "exception": false,
     "start_time": "2022-06-09T11:01:27.687123",
     "status": "completed"
    },
    "tags": []
   },
   "outputs": [
    {
     "data": {
      "text/plain": [
       "(tuple, 4, tuple, 4)"
      ]
     },
     "execution_count": 23,
     "metadata": {},
     "output_type": "execute_result"
    }
   ],
   "source": [
    "Xs, ys = zip(*batch)\n",
    "type(Xs), len(Xs), type(ys), len(ys)"
   ]
  },
  {
   "cell_type": "markdown",
   "id": "02b64d97",
   "metadata": {
    "papermill": {
     "duration": 0.104347,
     "end_time": "2022-06-09T11:01:28.009974",
     "exception": false,
     "start_time": "2022-06-09T11:01:27.905627",
     "status": "completed"
    },
    "tags": []
   },
   "source": [
    "Then we can collate them into a batch by stacking them"
   ]
  },
  {
   "cell_type": "code",
   "execution_count": 24,
   "id": "1ad928ea",
   "metadata": {
    "execution": {
     "iopub.execute_input": "2022-06-09T11:01:28.215354Z",
     "iopub.status.busy": "2022-06-09T11:01:28.214547Z",
     "iopub.status.idle": "2022-06-09T11:01:28.222803Z",
     "shell.execute_reply": "2022-06-09T11:01:28.222125Z"
    },
    "papermill": {
     "duration": 0.11232,
     "end_time": "2022-06-09T11:01:28.225010",
     "exception": false,
     "start_time": "2022-06-09T11:01:28.112690",
     "status": "completed"
    },
    "tags": []
   },
   "outputs": [
    {
     "data": {
      "text/plain": [
       "(torch.Size([4, 784]), torch.Size([4]))"
      ]
     },
     "execution_count": 24,
     "metadata": {},
     "output_type": "execute_result"
    }
   ],
   "source": [
    "X = stack(Xs)\n",
    "y = stack(ys)\n",
    "X.shape, y.shape"
   ]
  },
  {
   "cell_type": "markdown",
   "id": "3bdd59f3",
   "metadata": {
    "papermill": {
     "duration": 0.100439,
     "end_time": "2022-06-09T11:01:28.426082",
     "exception": false,
     "start_time": "2022-06-09T11:01:28.325643",
     "status": "completed"
    },
    "tags": []
   },
   "source": [
    "We can iterate over minibatches with this little generator pattern"
   ]
  },
  {
   "cell_type": "code",
   "execution_count": 25,
   "id": "eb6e291d",
   "metadata": {
    "execution": {
     "iopub.execute_input": "2022-06-09T11:01:28.627311Z",
     "iopub.status.busy": "2022-06-09T11:01:28.626509Z",
     "iopub.status.idle": "2022-06-09T11:01:28.636940Z",
     "shell.execute_reply": "2022-06-09T11:01:28.636288Z"
    },
    "papermill": {
     "duration": 0.11379,
     "end_time": "2022-06-09T11:01:28.639313",
     "exception": false,
     "start_time": "2022-06-09T11:01:28.525523",
     "status": "completed"
    },
    "tags": []
   },
   "outputs": [
    {
     "data": {
      "text/plain": [
       "[tensor([0, 1, 2, 3, 4]),\n",
       " tensor([5, 6, 7, 8, 9]),\n",
       " tensor([10, 11, 12, 13, 14]),\n",
       " tensor([15, 16, 17, 18, 19]),\n",
       " tensor([20, 21])]"
      ]
     },
     "execution_count": 25,
     "metadata": {},
     "output_type": "execute_result"
    }
   ],
   "source": [
    "seq = arange(22)\n",
    "[seq[i:i+5] for i in range(0, len(seq), 5)]"
   ]
  },
  {
   "cell_type": "markdown",
   "id": "9137d4f4",
   "metadata": {
    "papermill": {
     "duration": 0.100276,
     "end_time": "2022-06-09T11:01:28.841415",
     "exception": false,
     "start_time": "2022-06-09T11:01:28.741139",
     "status": "completed"
    },
    "tags": []
   },
   "source": [
    "Let's put all this into a class"
   ]
  },
  {
   "cell_type": "code",
   "execution_count": 26,
   "id": "ae161acf",
   "metadata": {
    "execution": {
     "iopub.execute_input": "2022-06-09T11:01:29.040043Z",
     "iopub.status.busy": "2022-06-09T11:01:29.039509Z",
     "iopub.status.idle": "2022-06-09T11:01:29.048852Z",
     "shell.execute_reply": "2022-06-09T11:01:29.047794Z"
    },
    "papermill": {
     "duration": 0.108991,
     "end_time": "2022-06-09T11:01:29.051390",
     "exception": false,
     "start_time": "2022-06-09T11:01:28.942399",
     "status": "completed"
    },
    "tags": []
   },
   "outputs": [],
   "source": [
    "class DataLoader:\n",
    "    def __init__(self, dataset, batch_size=1, shuffle=False):\n",
    "        self.batch_size = batch_size\n",
    "        self.dataset = dataset\n",
    "        self.shuffle = shuffle\n",
    "        \n",
    "    def __iter__(self):\n",
    "        seq = randperm(len(self)) if self.shuffle else arange(len(self))\n",
    "        for batch_idxs in [seq[i:i+self.batch_size] for i in range(0, len(seq), self.batch_size)]:\n",
    "            batch = [self.dataset[idx] for idx in batch_idxs]\n",
    "            Xs, ys = zip(*batch)\n",
    "            X, y = stack(Xs), stack(ys)\n",
    "            yield X, y\n",
    "            \n",
    "    def __len__(self):\n",
    "        return len(self.dataset)"
   ]
  },
  {
   "cell_type": "markdown",
   "id": "570e52bd",
   "metadata": {
    "papermill": {
     "duration": 0.099558,
     "end_time": "2022-06-09T11:01:29.252595",
     "exception": false,
     "start_time": "2022-06-09T11:01:29.153037",
     "status": "completed"
    },
    "tags": []
   },
   "source": [
    "And we get a similar performance to before"
   ]
  },
  {
   "cell_type": "code",
   "execution_count": 27,
   "id": "0b4fea13",
   "metadata": {
    "execution": {
     "iopub.execute_input": "2022-06-09T11:01:29.454418Z",
     "iopub.status.busy": "2022-06-09T11:01:29.453871Z",
     "iopub.status.idle": "2022-06-09T11:01:33.539521Z",
     "shell.execute_reply": "2022-06-09T11:01:33.538238Z"
    },
    "papermill": {
     "duration": 4.189208,
     "end_time": "2022-06-09T11:01:33.542161",
     "exception": false,
     "start_time": "2022-06-09T11:01:29.352953",
     "status": "completed"
    },
    "tags": []
   },
   "outputs": [
    {
     "name": "stdout",
     "output_type": "stream",
     "text": [
      "0 tensor(0.5396)\n",
      "1 tensor(0.5852)\n",
      "2 tensor(0.6102)\n",
      "3 tensor(0.6212)\n",
      "4 tensor(0.6303)\n"
     ]
    }
   ],
   "source": [
    "model.reset_parameters()\n",
    "\n",
    "ds_train = list(zip(X_train, y_train))\n",
    "dl_train = DataLoader(ds_train, batch_size=2048, shuffle=True)\n",
    "\n",
    "for epoch in range(5):\n",
    "    for X, y in dl_train:\n",
    "        pred = model(X)\n",
    "        loss = cross_entropy(pred, y)\n",
    "        loss.backward()\n",
    "        with no_grad():\n",
    "            optim.step()\n",
    "            optim.zero_grad()\n",
    "            \n",
    "    print(epoch, accuracy(model(X_valid), y_valid))"
   ]
  },
  {
   "cell_type": "markdown",
   "id": "f38b4e32",
   "metadata": {
    "papermill": {
     "duration": 0.083042,
     "end_time": "2022-06-09T11:01:33.711815",
     "exception": false,
     "start_time": "2022-06-09T11:01:33.628773",
     "status": "completed"
    },
    "tags": []
   },
   "source": [
    "## Running metrics"
   ]
  },
  {
   "cell_type": "markdown",
   "id": "ab3e1786",
   "metadata": {
    "papermill": {
     "duration": 0.09401,
     "end_time": "2022-06-09T11:01:33.898043",
     "exception": false,
     "start_time": "2022-06-09T11:01:33.804033",
     "status": "completed"
    },
    "tags": []
   },
   "source": [
    "If we want to evaluate on large datasets we need a way to accumulate the metric over minibatches.\n",
    "\n",
    "How this is framed is surprisingly non-standard; we'll keep to the spirit of fastai (but not the implementation which uses callbacks), but there's also an external library [torchmetrics](https://torchmetrics.readthedocs.io/en/stable/), and huggingface have a different concept of [Metric](https://huggingface.co/docs/datasets/v2.2.1/en/package_reference/main_classes#datasets.Metric)."
   ]
  },
  {
   "cell_type": "code",
   "execution_count": 28,
   "id": "02f39d3f",
   "metadata": {
    "execution": {
     "iopub.execute_input": "2022-06-09T11:01:34.083134Z",
     "iopub.status.busy": "2022-06-09T11:01:34.082326Z",
     "iopub.status.idle": "2022-06-09T11:01:34.113107Z",
     "shell.execute_reply": "2022-06-09T11:01:34.112312Z"
    },
    "papermill": {
     "duration": 0.119496,
     "end_time": "2022-06-09T11:01:34.115418",
     "exception": false,
     "start_time": "2022-06-09T11:01:33.995922",
     "status": "completed"
    },
    "tags": []
   },
   "outputs": [],
   "source": [
    "ds_valid = list(zip(X_valid, y_valid))\n",
    "dl_valid = DataLoader(ds_valid, batch_size=2048, shuffle=False)"
   ]
  },
  {
   "cell_type": "code",
   "execution_count": 29,
   "id": "dc61a727",
   "metadata": {
    "execution": {
     "iopub.execute_input": "2022-06-09T11:01:34.286110Z",
     "iopub.status.busy": "2022-06-09T11:01:34.285547Z",
     "iopub.status.idle": "2022-06-09T11:01:34.386406Z",
     "shell.execute_reply": "2022-06-09T11:01:34.385727Z"
    },
    "papermill": {
     "duration": 0.188883,
     "end_time": "2022-06-09T11:01:34.388530",
     "exception": false,
     "start_time": "2022-06-09T11:01:34.199647",
     "status": "completed"
    },
    "tags": []
   },
   "outputs": [
    {
     "data": {
      "text/plain": [
       "tensor(0.6303)"
      ]
     },
     "execution_count": 29,
     "metadata": {},
     "output_type": "execute_result"
    }
   ],
   "source": [
    "accuracy(model(X_valid), y_valid)"
   ]
  },
  {
   "cell_type": "markdown",
   "id": "40dc8af9",
   "metadata": {
    "papermill": {
     "duration": 0.085173,
     "end_time": "2022-06-09T11:01:34.559938",
     "exception": false,
     "start_time": "2022-06-09T11:01:34.474765",
     "status": "completed"
    },
    "tags": []
   },
   "source": [
    "To calculate a running metric we'll just add the accuracy, weighted by the size of the sample, divided by the length of the dataset."
   ]
  },
  {
   "cell_type": "code",
   "execution_count": 30,
   "id": "1ee09bdd",
   "metadata": {
    "execution": {
     "iopub.execute_input": "2022-06-09T11:01:34.734640Z",
     "iopub.status.busy": "2022-06-09T11:01:34.734315Z",
     "iopub.status.idle": "2022-06-09T11:01:34.741007Z",
     "shell.execute_reply": "2022-06-09T11:01:34.739993Z"
    },
    "papermill": {
     "duration": 0.096571,
     "end_time": "2022-06-09T11:01:34.743407",
     "exception": false,
     "start_time": "2022-06-09T11:01:34.646836",
     "status": "completed"
    },
    "tags": []
   },
   "outputs": [],
   "source": [
    "def running(metrics, dl, model):\n",
    "    values = [0.] * len(metrics)\n",
    "    N = len(dl)\n",
    "    \n",
    "    for X, y in dl:\n",
    "        pred = model(X)\n",
    "        for idx, metric in enumerate(metrics):\n",
    "            values[idx] += metric(pred, y) * len(X) / N\n",
    "    return [v.item() if hasattr(v, 'item') else v for v in values]"
   ]
  },
  {
   "cell_type": "markdown",
   "id": "7299951c",
   "metadata": {
    "papermill": {
     "duration": 0.085355,
     "end_time": "2022-06-09T11:01:34.913588",
     "exception": false,
     "start_time": "2022-06-09T11:01:34.828233",
     "status": "completed"
    },
    "tags": []
   },
   "source": [
    "This gives a similar result to before.\n",
    "\n",
    "\n",
    "Here we track:\n",
    "\n",
    "* loss on the training set\n",
    "* loss on validation set\n",
    "* accuracy\n",
    "\n",
    "Ideally we'd calculate a running total of loss on the training set, but this is good enough for now."
   ]
  },
  {
   "cell_type": "code",
   "execution_count": 31,
   "id": "829c66ff",
   "metadata": {
    "execution": {
     "iopub.execute_input": "2022-06-09T11:01:35.084719Z",
     "iopub.status.busy": "2022-06-09T11:01:35.083941Z",
     "iopub.status.idle": "2022-06-09T11:01:41.009290Z",
     "shell.execute_reply": "2022-06-09T11:01:41.008134Z"
    },
    "papermill": {
     "duration": 6.013245,
     "end_time": "2022-06-09T11:01:41.011723",
     "exception": false,
     "start_time": "2022-06-09T11:01:34.998478",
     "status": "completed"
    },
    "tags": []
   },
   "outputs": [
    {
     "name": "stdout",
     "output_type": "stream",
     "text": [
      "0 2.9654173851013184 2.9218735694885254 0.5206032991409302\n",
      "1 2.110874652862549 2.095884323120117 0.5787869095802307\n",
      "2 1.7752487659454346 1.7723487615585327 0.6119169592857361\n",
      "3 1.5830714702606201 1.5869991779327393 0.6269984841346741\n",
      "4 1.4491684436798096 1.4574403762817383 0.6405142545700073\n"
     ]
    }
   ],
   "source": [
    "model.reset_parameters()\n",
    "\n",
    "# Note: reset creates new parameters. Could we update them instead?\n",
    "optim = SGD(model.parameters(), lr=0.2)\n",
    "\n",
    "ds_train = list(zip(X_train, y_train))\n",
    "dl_train = DataLoader(ds_train, batch_size=2048, shuffle=True)\n",
    "\n",
    "metrics = [cross_entropy, accuracy]\n",
    "\n",
    "for epoch in range(5):\n",
    "    for X, y in dl_train:\n",
    "        pred = model(X)\n",
    "        loss = cross_entropy(pred, y)\n",
    "        loss.backward()\n",
    "        with no_grad():\n",
    "            optim.step()\n",
    "            optim.zero_grad()\n",
    "    \n",
    "    print(epoch, *running([cross_entropy], dl_train, model), *running(metrics, dl_valid, model))"
   ]
  },
  {
   "cell_type": "markdown",
   "id": "f42f33d9",
   "metadata": {
    "papermill": {
     "duration": 0.085734,
     "end_time": "2022-06-09T11:01:41.183119",
     "exception": false,
     "start_time": "2022-06-09T11:01:41.097385",
     "status": "completed"
    },
    "tags": []
   },
   "source": [
    "## Learner\n",
    "\n",
    "We can now package up all our objects into a single class, our Learner."
   ]
  },
  {
   "cell_type": "code",
   "execution_count": 32,
   "id": "81cce507",
   "metadata": {
    "execution": {
     "iopub.execute_input": "2022-06-09T11:01:41.357955Z",
     "iopub.status.busy": "2022-06-09T11:01:41.357634Z",
     "iopub.status.idle": "2022-06-09T11:01:41.368550Z",
     "shell.execute_reply": "2022-06-09T11:01:41.367869Z"
    },
    "papermill": {
     "duration": 0.10074,
     "end_time": "2022-06-09T11:01:41.370733",
     "exception": false,
     "start_time": "2022-06-09T11:01:41.269993",
     "status": "completed"
    },
    "tags": []
   },
   "outputs": [],
   "source": [
    "from dataclasses import dataclass\n",
    "from typing import Callable, List\n",
    "\n",
    "class Learner:\n",
    "    def __init__(self,\n",
    "                 dl_train: DataLoader,\n",
    "                 dl_valid: DataLoader,\n",
    "                 loss_func: Callable,\n",
    "                 model: Callable,\n",
    "                 lr: float,\n",
    "                 opt_func: Callable = SGD,\n",
    "                 metrics: List[Callable] = None):\n",
    "        self.dl_train = dl_train\n",
    "        self.dl_valid = dl_valid\n",
    "        self.loss_func = loss_func\n",
    "        self.model = model\n",
    "        self.lr = lr\n",
    "        self.optim = opt_func(model.parameters(), lr)\n",
    "        self.metrics = metrics if metrics is not None else [loss_func]\n",
    "        \n",
    "    def reset(self):\n",
    "        self.model.reset_parameters()\n",
    "    \n",
    "    \n",
    "    def fit(self, n_epoch):\n",
    "        for epoch in range(n_epoch):\n",
    "            for X, y in self.dl_train:\n",
    "                pred = self.model(X)\n",
    "                loss = self.loss_func(pred, y)\n",
    "                loss.backward()\n",
    "                with no_grad():\n",
    "                    self.optim.step()\n",
    "                    self.optim.zero_grad()\n",
    "                    \n",
    "            print(epoch, *running([self.loss_func], self.dl_train, self.model), *running(self.metrics, self.dl_valid, self.model))"
   ]
  },
  {
   "cell_type": "code",
   "execution_count": 33,
   "id": "d4a37a3b",
   "metadata": {
    "execution": {
     "iopub.execute_input": "2022-06-09T11:01:41.544610Z",
     "iopub.status.busy": "2022-06-09T11:01:41.544151Z",
     "iopub.status.idle": "2022-06-09T11:01:41.547878Z",
     "shell.execute_reply": "2022-06-09T11:01:41.547250Z"
    },
    "papermill": {
     "duration": 0.092964,
     "end_time": "2022-06-09T11:01:41.549900",
     "exception": false,
     "start_time": "2022-06-09T11:01:41.456936",
     "status": "completed"
    },
    "tags": []
   },
   "outputs": [],
   "source": [
    "metrics = [cross_entropy, accuracy]\n",
    "\n",
    "learn = Learner(dl_train, dl_valid, cross_entropy, model, 0.2, SGD, metrics)"
   ]
  },
  {
   "cell_type": "markdown",
   "id": "d30b0bbd",
   "metadata": {
    "papermill": {
     "duration": 0.086995,
     "end_time": "2022-06-09T11:01:41.723500",
     "exception": false,
     "start_time": "2022-06-09T11:01:41.636505",
     "status": "completed"
    },
    "tags": []
   },
   "source": [
    "We can now train this for a bunch of epochs, getting around 74% accuracy."
   ]
  },
  {
   "cell_type": "code",
   "execution_count": 34,
   "id": "c0ffd19c",
   "metadata": {
    "execution": {
     "iopub.execute_input": "2022-06-09T11:01:41.900582Z",
     "iopub.status.busy": "2022-06-09T11:01:41.900267Z",
     "iopub.status.idle": "2022-06-09T11:02:25.846648Z",
     "shell.execute_reply": "2022-06-09T11:02:25.845679Z"
    },
    "papermill": {
     "duration": 44.038633,
     "end_time": "2022-06-09T11:02:25.848981",
     "exception": false,
     "start_time": "2022-06-09T11:01:41.810348",
     "status": "completed"
    },
    "tags": []
   },
   "outputs": [
    {
     "name": "stdout",
     "output_type": "stream",
     "text": [
      "0 3.2126216888427734 3.283143997192383 0.5618098378181458\n",
      "1 2.278181314468384 2.346566915512085 0.5942805409431458\n",
      "2 1.8557775020599365 1.910788655281067 0.6112576127052307\n",
      "3 1.6559522151947021 1.710391640663147 0.6208175420761108\n",
      "4 1.5421751737594604 1.5935988426208496 0.634827733039856\n",
      "5 1.3805128335952759 1.4289369583129883 0.6319432854652405\n",
      "6 1.3306803703308105 1.3788357973098755 0.6361463665962219\n",
      "7 1.2377548217773438 1.2862215042114258 0.6534531116485596\n",
      "8 1.2100512981414795 1.2579960823059082 0.6574913263320923\n",
      "9 1.152338981628418 1.19868803024292 0.6574089527130127\n",
      "10 1.1125177145004272 1.159442663192749 0.6635899543762207\n",
      "11 1.083337426185608 1.1281803846359253 0.6678754091262817\n",
      "12 1.0920311212539673 1.137237787246704 0.6494148373603821\n",
      "13 1.0610631704330444 1.1104097366333008 0.6719960570335388\n",
      "14 1.0184332132339478 1.0690116882324219 0.6782594323158264\n",
      "15 1.0005489587783813 1.0493626594543457 0.668452262878418\n",
      "16 1.0299843549728394 1.076596736907959 0.6588099598884583\n",
      "17 0.9529225826263428 1.0024800300598145 0.6869127750396729\n",
      "18 0.9454663991928101 0.9934449195861816 0.6875721216201782\n",
      "19 0.9428024291992188 0.9916077852249146 0.6855117678642273\n",
      "20 1.0193240642547607 1.0734479427337646 0.6656501889228821\n",
      "21 0.9028168320655823 0.9518789052963257 0.6953189373016357\n",
      "22 0.8912039399147034 0.9412692785263062 0.6947420239448547\n",
      "23 0.8915138244628906 0.9431529641151428 0.6955661773681641\n",
      "24 0.9840039014816284 1.0355738401412964 0.6888906955718994\n",
      "25 0.8699730634689331 0.9195016622543335 0.6972144246101379\n",
      "26 0.8723984956741333 0.9201793670654297 0.7049612998962402\n",
      "27 0.8572273254394531 0.9069074392318726 0.7002636790275574\n",
      "28 0.8710482716560364 0.9210841655731201 0.6866655945777893\n",
      "29 0.9071570634841919 0.956194281578064 0.6764463186264038\n",
      "30 0.8600081205368042 0.9094617366790771 0.6917752027511597\n",
      "31 0.825920045375824 0.8766304850578308 0.7071864008903503\n",
      "32 0.8200230598449707 0.8686937093734741 0.7075160145759583\n",
      "33 0.8196104168891907 0.8700741529464722 0.7092467546463013\n",
      "34 0.8026244044303894 0.8533946871757507 0.7150980234146118\n",
      "35 0.8220050930976868 0.8715838193893433 0.7010878324508667\n",
      "36 0.7956870794296265 0.8447741270065308 0.7160870432853699\n",
      "37 0.7948266863822937 0.8461573123931885 0.7127904891967773\n",
      "38 0.8521597981452942 0.899774432182312 0.7057029604911804\n",
      "39 0.7868410348892212 0.8378427624702454 0.7184770107269287\n"
     ]
    }
   ],
   "source": [
    "model.reset_parameters()\n",
    "\n",
    "learn.fit(40)"
   ]
  },
  {
   "cell_type": "markdown",
   "id": "65e1006d",
   "metadata": {
    "papermill": {
     "duration": 0.101121,
     "end_time": "2022-06-09T11:02:26.052830",
     "exception": false,
     "start_time": "2022-06-09T11:02:25.951709",
     "status": "completed"
    },
    "tags": []
   },
   "source": [
    "# The benefits of abstraction\n",
    "\n",
    "Now that we everything in our learner it's much easier to focus on small changes to the components."
   ]
  },
  {
   "cell_type": "markdown",
   "id": "abad95a5",
   "metadata": {
    "papermill": {
     "duration": 0.10035,
     "end_time": "2022-06-09T11:02:26.253132",
     "exception": false,
     "start_time": "2022-06-09T11:02:26.152782",
     "status": "completed"
    },
    "tags": []
   },
   "source": [
    "### Changing the model: Init well\n",
    "\n",
    "Let's put a torch linear layer in our model"
   ]
  },
  {
   "cell_type": "code",
   "execution_count": 35,
   "id": "2ee81646",
   "metadata": {
    "execution": {
     "iopub.execute_input": "2022-06-09T11:02:26.454848Z",
     "iopub.status.busy": "2022-06-09T11:02:26.454239Z",
     "iopub.status.idle": "2022-06-09T11:02:26.457841Z",
     "shell.execute_reply": "2022-06-09T11:02:26.457269Z"
    },
    "papermill": {
     "duration": 0.106681,
     "end_time": "2022-06-09T11:02:26.459616",
     "exception": false,
     "start_time": "2022-06-09T11:02:26.352935",
     "status": "completed"
    },
    "tags": []
   },
   "outputs": [],
   "source": [
    "import torch.nn"
   ]
  },
  {
   "cell_type": "code",
   "execution_count": 36,
   "id": "f1e04e19",
   "metadata": {
    "execution": {
     "iopub.execute_input": "2022-06-09T11:02:26.663163Z",
     "iopub.status.busy": "2022-06-09T11:02:26.662366Z",
     "iopub.status.idle": "2022-06-09T11:02:26.667987Z",
     "shell.execute_reply": "2022-06-09T11:02:26.667219Z"
    },
    "papermill": {
     "duration": 0.110279,
     "end_time": "2022-06-09T11:02:26.670029",
     "exception": false,
     "start_time": "2022-06-09T11:02:26.559750",
     "status": "completed"
    },
    "tags": []
   },
   "outputs": [],
   "source": [
    "torch_model = Sequential(\n",
    "    torch.nn.Linear(784, 100),\n",
    "    ReLU(),\n",
    "    torch.nn.Linear(100, 10),\n",
    ")"
   ]
  },
  {
   "cell_type": "markdown",
   "id": "dd33637a",
   "metadata": {
    "papermill": {
     "duration": 0.101612,
     "end_time": "2022-06-09T11:02:26.877162",
     "exception": false,
     "start_time": "2022-06-09T11:02:26.775550",
     "status": "completed"
    },
    "tags": []
   },
   "source": [
    "In just a few epochs it outperforms our previous model.\n",
    "What does it do differently?"
   ]
  },
  {
   "cell_type": "code",
   "execution_count": 37,
   "id": "5680f36d",
   "metadata": {
    "execution": {
     "iopub.execute_input": "2022-06-09T11:02:27.083375Z",
     "iopub.status.busy": "2022-06-09T11:02:27.083069Z",
     "iopub.status.idle": "2022-06-09T11:02:38.110171Z",
     "shell.execute_reply": "2022-06-09T11:02:38.109042Z"
    },
    "papermill": {
     "duration": 11.134383,
     "end_time": "2022-06-09T11:02:38.114169",
     "exception": false,
     "start_time": "2022-06-09T11:02:26.979786",
     "status": "completed"
    },
    "tags": []
   },
   "outputs": [
    {
     "name": "stdout",
     "output_type": "stream",
     "text": [
      "0 1.0736732482910156 1.068850040435791 0.6171913743019104\n",
      "1 0.8725801706314087 0.8647670149803162 0.7031481862068176\n",
      "2 0.7314574718475342 0.7330614328384399 0.7289434671401978\n",
      "3 0.6415749788284302 0.6435913443565369 0.7758365273475647\n",
      "4 0.6304138898849487 0.6356835961341858 0.776248574256897\n",
      "5 0.6219738721847534 0.6234530210494995 0.7640514373779297\n",
      "6 0.6262473464012146 0.6312569975852966 0.7718806862831116\n",
      "7 0.5853808522224426 0.5870252251625061 0.7842426896095276\n",
      "8 0.5925256013870239 0.591513991355896 0.7968518137931824\n",
      "9 0.5194151401519775 0.523120641708374 0.8157244324684143\n"
     ]
    }
   ],
   "source": [
    "torch_learn = Learner(dl_train, dl_valid, cross_entropy, torch_model, lr=2, metrics=metrics)\n",
    "torch_learn.fit(10)"
   ]
  },
  {
   "cell_type": "markdown",
   "id": "350138bc",
   "metadata": {
    "execution": {
     "iopub.execute_input": "2022-06-02T23:14:39.370827Z",
     "iopub.status.busy": "2022-06-02T23:14:39.370156Z",
     "iopub.status.idle": "2022-06-02T23:14:39.375513Z",
     "shell.execute_reply": "2022-06-02T23:14:39.374459Z",
     "shell.execute_reply.started": "2022-06-02T23:14:39.370793Z"
    },
    "papermill": {
     "duration": 0.103666,
     "end_time": "2022-06-09T11:02:38.324401",
     "exception": false,
     "start_time": "2022-06-09T11:02:38.220735",
     "status": "completed"
    },
    "tags": []
   },
   "source": [
    "Looking at [the source](https://pytorch.org/docs/stable/_modules/torch/nn/modules/linear.html#Linear) we see this:\n",
    "\n",
    "```\n",
    "    def reset_parameters(self) -> None:\n",
    "        # Setting a=sqrt(5) in kaiming_uniform is the same as initializing with\n",
    "        # uniform(-1/sqrt(in_features), 1/sqrt(in_features)). For details, see\n",
    "        # https://github.com/pytorch/pytorch/issues/57109\n",
    "        init.kaiming_uniform_(self.weight, a=math.sqrt(5))\n",
    "        if self.bias is not None:\n",
    "            fan_in, _ = init._calculate_fan_in_and_fan_out(self.weight)\n",
    "            bound = 1 / math.sqrt(fan_in) if fan_in > 0 else 0\n",
    "            init.uniform_(self.bias, -bound, bound)\n",
    "```\n",
    "\n",
    "Looking up Kaiming Initialisation brings us to [this paper](https://arxiv.org/abs/1502.01852) which says:\n",
    "\n",
    "> This leads to a zero-mean Gaussian distribution whose standard eviation (std) is $\\sqrt{2/n_l}$. This is our way of initialization. We also initialize b=0.\n",
    "\n",
    "Let's try this"
   ]
  },
  {
   "cell_type": "code",
   "execution_count": 38,
   "id": "c784f171",
   "metadata": {
    "execution": {
     "iopub.execute_input": "2022-06-09T11:02:38.534058Z",
     "iopub.status.busy": "2022-06-09T11:02:38.533516Z",
     "iopub.status.idle": "2022-06-09T11:02:38.539284Z",
     "shell.execute_reply": "2022-06-09T11:02:38.538623Z"
    },
    "papermill": {
     "duration": 0.11323,
     "end_time": "2022-06-09T11:02:38.541459",
     "exception": false,
     "start_time": "2022-06-09T11:02:38.428229",
     "status": "completed"
    },
    "tags": []
   },
   "outputs": [],
   "source": [
    "class LinearKaiming(Linear):\n",
    "    def reset_parameters(self):\n",
    "        with no_grad():\n",
    "            self.weight[:] = init_params((self.in_features, self.out_features), np.sqrt(2/self.in_features))\n",
    "            self.bias[:] = torch.zeros_like(self.bias)"
   ]
  },
  {
   "cell_type": "markdown",
   "id": "4d9ba7e2",
   "metadata": {
    "papermill": {
     "duration": 0.106505,
     "end_time": "2022-06-09T11:02:38.751894",
     "exception": false,
     "start_time": "2022-06-09T11:02:38.645389",
     "status": "completed"
    },
    "tags": []
   },
   "source": [
    "We get similar performance to the torch model.\n",
    "Initialisation is very important in deep networks, but even in this small model it makes a difference."
   ]
  },
  {
   "cell_type": "code",
   "execution_count": 39,
   "id": "c3bc013a",
   "metadata": {
    "execution": {
     "iopub.execute_input": "2022-06-09T11:02:38.962896Z",
     "iopub.status.busy": "2022-06-09T11:02:38.962346Z",
     "iopub.status.idle": "2022-06-09T11:03:05.598529Z",
     "shell.execute_reply": "2022-06-09T11:03:05.597500Z"
    },
    "papermill": {
     "duration": 26.745332,
     "end_time": "2022-06-09T11:03:05.600767",
     "exception": false,
     "start_time": "2022-06-09T11:02:38.855435",
     "status": "completed"
    },
    "tags": []
   },
   "outputs": [
    {
     "name": "stdout",
     "output_type": "stream",
     "text": [
      "0 0.9928680658340454 0.9959338307380676 0.6848524212837219\n",
      "1 0.7061344981193542 0.7092622518539429 0.7604252099990845\n",
      "2 0.6784164309501648 0.6813119649887085 0.7513598203659058\n",
      "3 0.6543854475021362 0.6544392108917236 0.7633921504020691\n",
      "4 0.5760871767997742 0.5763159990310669 0.796934187412262\n",
      "5 0.557142436504364 0.56104975938797 0.8028680086135864\n",
      "6 0.54227215051651 0.5469540953636169 0.8106972575187683\n",
      "7 0.5124587416648865 0.5161428451538086 0.8195978403091431\n",
      "8 0.5065622925758362 0.5089733600616455 0.8235536217689514\n",
      "9 0.505312979221344 0.512185275554657 0.8147355318069458\n",
      "10 0.467585027217865 0.47441017627716064 0.8371517658233643\n",
      "11 0.4726341962814331 0.48188284039497375 0.8276743292808533\n",
      "12 0.5650492906570435 0.577560305595398 0.7956980466842651\n",
      "13 0.48750507831573486 0.4999195337295532 0.8224822878837585\n",
      "14 0.46887752413749695 0.47312453389167786 0.8339377045631409\n",
      "15 0.49850377440452576 0.5068738460540771 0.8112741708755493\n",
      "16 0.5208178758621216 0.524056077003479 0.8047634363174438\n",
      "17 0.4367881417274475 0.4461600184440613 0.8406955599784851\n",
      "18 0.424231618642807 0.43466717004776 0.8458051681518555\n",
      "19 0.42923012375831604 0.4422001242637634 0.8415196537971497\n",
      "20 0.41786298155784607 0.4280512034893036 0.8490192890167236\n",
      "21 0.4344097375869751 0.44265565276145935 0.8430030941963196\n",
      "22 0.41013529896736145 0.42235079407691956 0.8530575633049011\n",
      "23 0.40650057792663574 0.4197377562522888 0.8546233773231506\n",
      "24 0.4036029875278473 0.4160078763961792 0.8495961427688599\n"
     ]
    }
   ],
   "source": [
    "model_kaiming=Sequential(\n",
    "    LinearKaiming(784, 100),\n",
    "    ReLU(),\n",
    "    LinearKaiming(100, 10),\n",
    ")\n",
    "\n",
    "learn = Learner(dl_train, dl_valid, cross_entropy, \n",
    "                model_kaiming, 0.2, SGD, metrics)\n",
    "learn.fit(25)"
   ]
  },
  {
   "cell_type": "markdown",
   "id": "b2b68543",
   "metadata": {
    "papermill": {
     "duration": 0.114675,
     "end_time": "2022-06-09T11:03:05.831606",
     "exception": false,
     "start_time": "2022-06-09T11:03:05.716931",
     "status": "completed"
    },
    "tags": []
   },
   "source": [
    "# Changing the optimizer"
   ]
  },
  {
   "cell_type": "markdown",
   "id": "c8ad3a34",
   "metadata": {
    "papermill": {
     "duration": 0.112996,
     "end_time": "2022-06-09T11:03:06.060422",
     "exception": false,
     "start_time": "2022-06-09T11:03:05.947426",
     "status": "completed"
    },
    "tags": []
   },
   "source": [
    "We could just drop in another optimizer; in this case using momentum with SGD may improve the result a little (or may not change it much)."
   ]
  },
  {
   "cell_type": "code",
   "execution_count": 40,
   "id": "f9bedb5a",
   "metadata": {
    "execution": {
     "iopub.execute_input": "2022-06-09T11:03:06.288889Z",
     "iopub.status.busy": "2022-06-09T11:03:06.288617Z",
     "iopub.status.idle": "2022-06-09T11:03:06.292677Z",
     "shell.execute_reply": "2022-06-09T11:03:06.291932Z"
    },
    "papermill": {
     "duration": 0.121324,
     "end_time": "2022-06-09T11:03:06.294630",
     "exception": false,
     "start_time": "2022-06-09T11:03:06.173306",
     "status": "completed"
    },
    "tags": []
   },
   "outputs": [],
   "source": [
    "from torch.optim import SGD as SGDTorch"
   ]
  },
  {
   "cell_type": "code",
   "execution_count": 41,
   "id": "0db9a847",
   "metadata": {
    "execution": {
     "iopub.execute_input": "2022-06-09T11:03:06.528716Z",
     "iopub.status.busy": "2022-06-09T11:03:06.528451Z",
     "iopub.status.idle": "2022-06-09T11:03:33.222212Z",
     "shell.execute_reply": "2022-06-09T11:03:33.221253Z"
    },
    "papermill": {
     "duration": 26.814188,
     "end_time": "2022-06-09T11:03:33.224528",
     "exception": false,
     "start_time": "2022-06-09T11:03:06.410340",
     "status": "completed"
    },
    "tags": []
   },
   "outputs": [
    {
     "name": "stdout",
     "output_type": "stream",
     "text": [
      "0 0.7095286846160889 0.7120507955551147 0.7463326454162598\n",
      "1 0.6111636161804199 0.614683985710144 0.7810285091400146\n",
      "2 0.5852203965187073 0.5961494445800781 0.7928135991096497\n",
      "3 0.538330078125 0.5422188639640808 0.8088841438293457\n",
      "4 0.4959908723831177 0.5010000467300415 0.8273446559906006\n",
      "5 0.46879303455352783 0.47862324118614197 0.8326190710067749\n",
      "6 0.46012142300605774 0.4713790714740753 0.8298170566558838\n",
      "7 0.49200674891471863 0.5036535263061523 0.8119333982467651\n",
      "8 0.44662147760391235 0.4583902060985565 0.8379758596420288\n",
      "9 0.4196605086326599 0.431936651468277 0.849843442440033\n",
      "10 0.4195310175418854 0.43150192499160767 0.8476182818412781\n",
      "11 0.42625564336776733 0.4413745701313019 0.8369045853614807\n",
      "12 0.4185228943824768 0.4318638741970062 0.8504202961921692\n",
      "13 0.43430835008621216 0.44915223121643066 0.8333607912063599\n",
      "14 0.3900304138660431 0.4056735634803772 0.8563540577888489\n",
      "15 0.4116860628128052 0.42807069420814514 0.8497610092163086\n",
      "16 0.39633578062057495 0.41715002059936523 0.8544585704803467\n",
      "17 0.39409390091896057 0.4102632999420166 0.852810263633728\n",
      "18 0.4003596007823944 0.41932418942451477 0.8504202961921692\n",
      "19 0.4005998373031616 0.4219740033149719 0.8517389297485352\n",
      "20 0.3628465533256531 0.38566774129867554 0.8639360666275024\n",
      "21 0.3597981333732605 0.38302478194236755 0.8611340522766113\n",
      "22 0.3617080748081207 0.3834376931190491 0.8606395125389099\n",
      "23 0.3500443696975708 0.37230318784713745 0.8678918480873108\n",
      "24 0.3509939908981323 0.37478601932525635 0.8661612272262573\n"
     ]
    }
   ],
   "source": [
    "model_kaiming.reset_parameters()\n",
    "\n",
    "optim = lambda params, lr: SGDTorch(params, lr, momentum=0.5)\n",
    "\n",
    "learn = Learner(dl_train, dl_valid, cross_entropy, \n",
    "                model_kaiming, 0.2, optim, metrics)\n",
    "learn.fit(25)"
   ]
  },
  {
   "cell_type": "markdown",
   "id": "180b0d66",
   "metadata": {
    "papermill": {
     "duration": 0.121597,
     "end_time": "2022-06-09T11:03:33.468256",
     "exception": false,
     "start_time": "2022-06-09T11:03:33.346659",
     "status": "completed"
    },
    "tags": []
   },
   "source": [
    "# Changing the data preparation\n",
    "\n",
    "Let's try some data augmentation by moving the image around a few pixels"
   ]
  },
  {
   "cell_type": "code",
   "execution_count": 42,
   "id": "4f144887",
   "metadata": {
    "execution": {
     "iopub.execute_input": "2022-06-09T11:03:33.714882Z",
     "iopub.status.busy": "2022-06-09T11:03:33.714047Z",
     "iopub.status.idle": "2022-06-09T11:03:33.902219Z",
     "shell.execute_reply": "2022-06-09T11:03:33.901241Z"
    },
    "papermill": {
     "duration": 0.314399,
     "end_time": "2022-06-09T11:03:33.904571",
     "exception": false,
     "start_time": "2022-06-09T11:03:33.590172",
     "status": "completed"
    },
    "tags": []
   },
   "outputs": [
    {
     "data": {
      "text/plain": [
       "<matplotlib.image.AxesImage at 0x7fda5974b4d0>"
      ]
     },
     "execution_count": 42,
     "metadata": {},
     "output_type": "execute_result"
    },
    {
     "data": {
      "image/png": "[encoded data removed]",
      "text/plain": [
       "<Figure size 432x288 with 1 Axes>"
      ]
     },
     "metadata": {
      "needs_background": "light"
     },
     "output_type": "display_data"
    }
   ],
   "source": [
    "x = X_train[0,:]\n",
    "img = x.reshape(28,28)\n",
    "\n",
    "\n",
    "import matplotlib.pyplot as plt\n",
    "\n",
    "plt.imshow(img, cmap='Greys')"
   ]
  },
  {
   "cell_type": "code",
   "execution_count": 43,
   "id": "d8d9759e",
   "metadata": {
    "execution": {
     "iopub.execute_input": "2022-06-09T11:03:34.159956Z",
     "iopub.status.busy": "2022-06-09T11:03:34.159469Z",
     "iopub.status.idle": "2022-06-09T11:03:34.337886Z",
     "shell.execute_reply": "2022-06-09T11:03:34.336990Z"
    },
    "papermill": {
     "duration": 0.309358,
     "end_time": "2022-06-09T11:03:34.340134",
     "exception": false,
     "start_time": "2022-06-09T11:03:34.030776",
     "status": "completed"
    },
    "tags": []
   },
   "outputs": [
    {
     "data": {
      "text/plain": [
       "<matplotlib.image.AxesImage at 0x7fda74b064d0>"
      ]
     },
     "execution_count": 43,
     "metadata": {},
     "output_type": "execute_result"
    },
    {
     "data": {
      "image/png": "[encoded data removed]",
      "text/plain": [
       "<Figure size 432x288 with 1 Axes>"
      ]
     },
     "metadata": {
      "needs_background": "light"
     },
     "output_type": "display_data"
    }
   ],
   "source": [
    "def shift_down(img, px):\n",
    "    return torch.cat([img[px:,:], torch.zeros((px, 28))], axis=0)\n",
    "\n",
    "plt.imshow(shift_down(img, 5), cmap='Greys')"
   ]
  },
  {
   "cell_type": "code",
   "execution_count": 44,
   "id": "f5a5bc80",
   "metadata": {
    "execution": {
     "iopub.execute_input": "2022-06-09T11:03:34.593640Z",
     "iopub.status.busy": "2022-06-09T11:03:34.593315Z",
     "iopub.status.idle": "2022-06-09T11:03:34.785844Z",
     "shell.execute_reply": "2022-06-09T11:03:34.784140Z"
    },
    "papermill": {
     "duration": 0.323326,
     "end_time": "2022-06-09T11:03:34.788895",
     "exception": false,
     "start_time": "2022-06-09T11:03:34.465569",
     "status": "completed"
    },
    "tags": []
   },
   "outputs": [
    {
     "data": {
      "text/plain": [
       "<matplotlib.image.AxesImage at 0x7fda749f4f90>"
      ]
     },
     "execution_count": 44,
     "metadata": {},
     "output_type": "execute_result"
    },
    {
     "data": {
      "image/png": "[encoded data removed]",
      "text/plain": [
       "<Figure size 432x288 with 1 Axes>"
      ]
     },
     "metadata": {
      "needs_background": "light"
     },
     "output_type": "display_data"
    }
   ],
   "source": [
    "def shift_up(img, px):\n",
    "    return torch.cat([torch.zeros((px, 28)), img[:-px,:]], axis=0)\n",
    "\n",
    "plt.imshow(shift_up(img, 5), cmap='Greys')"
   ]
  },
  {
   "cell_type": "code",
   "execution_count": 45,
   "id": "390d2074",
   "metadata": {
    "execution": {
     "iopub.execute_input": "2022-06-09T11:03:35.056821Z",
     "iopub.status.busy": "2022-06-09T11:03:35.056125Z",
     "iopub.status.idle": "2022-06-09T11:03:35.240363Z",
     "shell.execute_reply": "2022-06-09T11:03:35.239489Z"
    },
    "papermill": {
     "duration": 0.314105,
     "end_time": "2022-06-09T11:03:35.242648",
     "exception": false,
     "start_time": "2022-06-09T11:03:34.928543",
     "status": "completed"
    },
    "tags": []
   },
   "outputs": [
    {
     "data": {
      "text/plain": [
       "<matplotlib.image.AxesImage at 0x7fda7497b790>"
      ]
     },
     "execution_count": 45,
     "metadata": {},
     "output_type": "execute_result"
    },
    {
     "data": {
      "image/png": "[encoded data removed]",
      "text/plain": [
       "<Figure size 432x288 with 1 Axes>"
      ]
     },
     "metadata": {
      "needs_background": "light"
     },
     "output_type": "display_data"
    }
   ],
   "source": [
    "def shift_left(img, px):\n",
    "    return torch.cat([img[:,px:], torch.zeros((28, px))], axis=1)\n",
    "\n",
    "plt.imshow(shift_left(img, 5), cmap='Greys')"
   ]
  },
  {
   "cell_type": "code",
   "execution_count": 46,
   "id": "324c179b",
   "metadata": {
    "execution": {
     "iopub.execute_input": "2022-06-09T11:03:35.500334Z",
     "iopub.status.busy": "2022-06-09T11:03:35.499663Z",
     "iopub.status.idle": "2022-06-09T11:03:35.676303Z",
     "shell.execute_reply": "2022-06-09T11:03:35.675462Z"
    },
    "papermill": {
     "duration": 0.307035,
     "end_time": "2022-06-09T11:03:35.678484",
     "exception": false,
     "start_time": "2022-06-09T11:03:35.371449",
     "status": "completed"
    },
    "tags": []
   },
   "outputs": [
    {
     "data": {
      "text/plain": [
       "<matplotlib.image.AxesImage at 0x7fda748b2650>"
      ]
     },
     "execution_count": 46,
     "metadata": {},
     "output_type": "execute_result"
    },
    {
     "data": {
      "image/png": "[encoded data removed]",
      "text/plain": [
       "<Figure size 432x288 with 1 Axes>"
      ]
     },
     "metadata": {
      "needs_background": "light"
     },
     "output_type": "display_data"
    }
   ],
   "source": [
    "def shift_right(img, px):\n",
    "    return torch.cat([torch.zeros((28, px)), img[:,:-px]], axis=1)\n",
    "\n",
    "plt.imshow(shift_left(img, 5), cmap='Greys')"
   ]
  },
  {
   "cell_type": "code",
   "execution_count": 47,
   "id": "c278cc07",
   "metadata": {
    "execution": {
     "iopub.execute_input": "2022-06-09T11:03:35.941875Z",
     "iopub.status.busy": "2022-06-09T11:03:35.941266Z",
     "iopub.status.idle": "2022-06-09T11:03:35.947686Z",
     "shell.execute_reply": "2022-06-09T11:03:35.947042Z"
    },
    "papermill": {
     "duration": 0.140241,
     "end_time": "2022-06-09T11:03:35.949718",
     "exception": false,
     "start_time": "2022-06-09T11:03:35.809477",
     "status": "completed"
    },
    "tags": []
   },
   "outputs": [],
   "source": [
    "max_px = 4\n",
    "\n",
    "def augment(x):\n",
    "    img = x.reshape(28, 28)\n",
    "    px = np.random.choice(max_px)\n",
    "    direction = np.random.choice([shift_left, shift_right, shift_up, shift_down])\n",
    "    \n",
    "    if px > 0:\n",
    "        img_aug = direction(img, px)\n",
    "    else:\n",
    "        img_aug = img\n",
    "    return img_aug.reshape(784)"
   ]
  },
  {
   "cell_type": "code",
   "execution_count": 48,
   "id": "d12b5912",
   "metadata": {
    "execution": {
     "iopub.execute_input": "2022-06-09T11:03:36.213157Z",
     "iopub.status.busy": "2022-06-09T11:03:36.212583Z",
     "iopub.status.idle": "2022-06-09T11:03:36.218650Z",
     "shell.execute_reply": "2022-06-09T11:03:36.218086Z"
    },
    "papermill": {
     "duration": 0.138816,
     "end_time": "2022-06-09T11:03:36.220687",
     "exception": false,
     "start_time": "2022-06-09T11:03:36.081871",
     "status": "completed"
    },
    "tags": []
   },
   "outputs": [],
   "source": [
    "class AugmentedDataset:\n",
    "    def __init__(self, X, y):\n",
    "        self.X = X\n",
    "        self.y = y\n",
    "        \n",
    "    def __getitem__(self, idx):\n",
    "        x, y = self.X[idx], self.y[idx]\n",
    "        return (augment(x), y)\n",
    "    \n",
    "    def __len__(self):\n",
    "        return len(self.X)"
   ]
  },
  {
   "cell_type": "code",
   "execution_count": 49,
   "id": "23422926",
   "metadata": {
    "execution": {
     "iopub.execute_input": "2022-06-09T11:03:36.477940Z",
     "iopub.status.busy": "2022-06-09T11:03:36.477384Z",
     "iopub.status.idle": "2022-06-09T11:03:36.660755Z",
     "shell.execute_reply": "2022-06-09T11:03:36.659793Z"
    },
    "papermill": {
     "duration": 0.314798,
     "end_time": "2022-06-09T11:03:36.663233",
     "exception": false,
     "start_time": "2022-06-09T11:03:36.348435",
     "status": "completed"
    },
    "tags": []
   },
   "outputs": [
    {
     "data": {
      "text/plain": [
       "<matplotlib.image.AxesImage at 0x7fda74838550>"
      ]
     },
     "execution_count": 49,
     "metadata": {},
     "output_type": "execute_result"
    },
    {
     "data": {
      "image/png": "[encoded data removed]",
      "text/plain": [
       "<Figure size 432x288 with 1 Axes>"
      ]
     },
     "metadata": {
      "needs_background": "light"
     },
     "output_type": "display_data"
    }
   ],
   "source": [
    "ds_train_aug = AugmentedDataset(X_train, y_train)\n",
    "\n",
    "x, y = ds_train_aug[0]\n",
    "plt.imshow(x.reshape(28,28), cmap='Greys')"
   ]
  },
  {
   "cell_type": "code",
   "execution_count": 50,
   "id": "d24396c8",
   "metadata": {
    "execution": {
     "iopub.execute_input": "2022-06-09T11:03:36.930807Z",
     "iopub.status.busy": "2022-06-09T11:03:36.930541Z",
     "iopub.status.idle": "2022-06-09T11:03:36.934157Z",
     "shell.execute_reply": "2022-06-09T11:03:36.933552Z"
    },
    "papermill": {
     "duration": 0.136124,
     "end_time": "2022-06-09T11:03:36.935949",
     "exception": false,
     "start_time": "2022-06-09T11:03:36.799825",
     "status": "completed"
    },
    "tags": []
   },
   "outputs": [],
   "source": [
    "dl_train_aug = DataLoader(ds_train_aug, batch_size=2048, shuffle=True)"
   ]
  },
  {
   "cell_type": "markdown",
   "id": "2271f704",
   "metadata": {
    "papermill": {
     "duration": 0.129484,
     "end_time": "2022-06-09T11:03:37.200800",
     "exception": false,
     "start_time": "2022-06-09T11:03:37.071316",
     "status": "completed"
    },
    "tags": []
   },
   "source": [
    "In this case it runs much slower and doesn't seem to help accuracy.\n",
    "Part of the reason is the images are already centre cropped, and partly because the model isn't overfitting"
   ]
  },
  {
   "cell_type": "code",
   "execution_count": 51,
   "id": "a4677046",
   "metadata": {
    "execution": {
     "iopub.execute_input": "2022-06-09T11:03:37.460225Z",
     "iopub.status.busy": "2022-06-09T11:03:37.459754Z",
     "iopub.status.idle": "2022-06-09T11:07:28.748784Z",
     "shell.execute_reply": "2022-06-09T11:07:28.747292Z"
    },
    "papermill": {
     "duration": 231.422263,
     "end_time": "2022-06-09T11:07:28.752020",
     "exception": false,
     "start_time": "2022-06-09T11:03:37.329757",
     "status": "completed"
    },
    "tags": []
   },
   "outputs": [
    {
     "name": "stdout",
     "output_type": "stream",
     "text": [
      "0 0.9459271430969238 0.8129678964614868 0.6981209516525269\n",
      "1 0.8096525073051453 0.6903409957885742 0.7617438435554504\n",
      "2 0.75916588306427 0.6435797214508057 0.7655348777770996\n",
      "3 0.700350821018219 0.5925891995429993 0.7825943231582642\n",
      "4 0.6793506145477295 0.5671628713607788 0.7970990538597107\n",
      "5 0.6965213418006897 0.5861883759498596 0.7941321730613708\n",
      "6 0.6404217481613159 0.5299636721611023 0.8166309595108032\n",
      "7 0.6351646780967712 0.5255049467086792 0.8096258044242859\n",
      "8 0.6616714596748352 0.5531866550445557 0.7875391244888306\n",
      "9 0.6078921556472778 0.500901460647583 0.8247074484825134\n",
      "10 0.6014565229415894 0.49837130308151245 0.8200098872184753\n",
      "11 0.5962222218513489 0.49347034096717834 0.8232240676879883\n",
      "12 0.5720757246017456 0.46911317110061646 0.8345145583152771\n",
      "13 0.6007265448570251 0.5005905628204346 0.8212461471557617\n",
      "14 0.5890061259269714 0.4858257472515106 0.8227295279502869\n",
      "15 0.5596734285354614 0.45629531145095825 0.8341848850250244\n",
      "16 0.5409436225891113 0.43999066948890686 0.8436623811721802\n",
      "17 0.5416392683982849 0.4470728635787964 0.8376463055610657\n",
      "18 0.5247928500175476 0.43264240026474 0.8466293215751648\n",
      "19 0.5334455370903015 0.43657636642456055 0.843085527420044\n",
      "20 0.5187790989875793 0.4266170859336853 0.8481951951980591\n",
      "21 0.5217541456222534 0.42955103516578674 0.8464644551277161\n",
      "22 0.5468143224716187 0.4574260413646698 0.8328663110733032\n",
      "23 0.5068327784538269 0.41916394233703613 0.8508323431015015\n",
      "24 0.5027770400047302 0.4133780896663666 0.8533872365951538\n"
     ]
    }
   ],
   "source": [
    "model_kaiming.reset_parameters()\n",
    "\n",
    "learn = Learner(dl_train_aug, dl_valid, cross_entropy, \n",
    "                model_kaiming, 0.2, optim, metrics)\n",
    "learn.fit(25)"
   ]
  },
  {
   "cell_type": "markdown",
   "id": "90e303bd",
   "metadata": {
    "papermill": {
     "duration": 0.138232,
     "end_time": "2022-06-09T11:07:29.029411",
     "exception": false,
     "start_time": "2022-06-09T11:07:28.891179",
     "status": "completed"
    },
    "tags": []
   },
   "source": [
    "# And more\n",
    "\n",
    "The powerful thing is these same abstractions can be used to build state of the art models (with a little more flexibility in terms of *callbacks*) across a wide variety of tasks; taking input from images, text, tabular, audio and more to output a class, a number (regression) or even text or an image (think speech to text, or caption generation)."
   ]
  }
 ],
 "metadata": {
  "kernelspec": {
   "display_name": "Python 3 (ipykernel)",
   "language": "python",
   "name": "python3"
  },
  "language_info": {
   "codemirror_mode": {
    "name": "ipython",
    "version": 3
   },
   "file_extension": ".py",
   "mimetype": "text/x-python",
   "name": "python",
   "nbconvert_exporter": "python",
   "pygments_lexer": "ipython3",
   "version": "3.8.10"
  },
  "papermill": {
   "default_parameters": {},
   "duration": 421.401007,
   "end_time": "2022-06-09T11:07:30.298255",
   "environment_variables": {},
   "exception": null,
   "input_path": "__notebook__.ipynb",
   "output_path": "__notebook__.ipynb",
   "parameters": {},
   "start_time": "2022-06-09T11:00:28.897248",
   "version": "2.3.4"
  },
  "toc": {
   "base_numbering": 1,
   "nav_menu": {},
   "number_sections": true,
   "sideBar": true,
   "skip_h1_title": false,
   "title_cell": "Table of Contents",
   "title_sidebar": "Contents",
   "toc_cell": false,
   "toc_position": {},
   "toc_section_display": true,
   "toc_window_display": false
  }
 },
 "nbformat": 4,
 "nbformat_minor": 5
}
