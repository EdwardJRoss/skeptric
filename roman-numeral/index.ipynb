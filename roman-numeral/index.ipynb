{
 "cells": [
  {
   "cell_type": "raw",
   "id": "ec755251-0fef-4372-ba13-5e2f7c29200d",
   "metadata": {},
   "source": [
    "---\n",
    "categories:\n",
    "  - python\n",
    "date: '2024-01-24T23:17:00+11:00'\n",
    "image: ./roman_numeral.jpg\n",
    "title: Roman Numerals with Python and Regular Expressions\n",
    "---"
   ]
  },
  {
   "cell_type": "markdown",
   "id": "c532586f-43a4-482c-9a46-48776eb43dfe",
   "metadata": {},
   "source": [
    "We're going convert integers to roman numerals in [standard form](https://en.wikipedia.org/wiki/Roman_numerals#Standard_form) and back again in Python, as well as detect them with regular expressions.\n",
    "\n",
    "Roman Numerals use symbols for different values of thousands, hundreds, tens and units.\n",
    "For each of these they have a special symbol for 5 and use a *subtractive notation* for 4 and 9:\n",
    "\n",
    "|  | Thousands | Hundreds | Tens | Units |\n",
    "| --- | --- | --- | --- | --- |\n",
    "| 1 | M | C | X | I |\n",
    "| 2 | MM | CC | XX | II |\n",
    "| 3 | MMM | CCC | XXX | III |\n",
    "| 4 | | CD | XL | IV |\n",
    "| 5 | | D | L | V |\n",
    "| 6 | | DC | LX | VI |\n",
    "| 7 | | DCC | LXX | VII |\n",
    "| 8 | | DCCC | LXXX | VIII |\n",
    "| 9 | | CM | XC | IX |\n",
    "\n",
    "They are always written from largest to smallest for example:\n",
    "\n",
    "* MCMXLVIII = M + CM + XL + V + III = 1000 + 900 + 40 + 5 + 3 = 1948\n",
    "* MMMCMXCIX = MMM + CM + XC + IX = 3000 + 900 + 90 + 9 = 3999\n",
    "\n",
    "We can easily convert a number to Roman Numerals by breaking it into each of these pieces from largest to smallest, being careful to include the subtractive values:"
   ]
  },
  {
   "cell_type": "code",
   "execution_count": 1,
   "id": "5ec78391-042b-45c7-aa83-2e748c7ce432",
   "metadata": {},
   "outputs": [
    {
     "data": {
      "text/plain": [
       "'I, II, III, IV, V, VI, VII, VIII, IX, X, XI, XII, XIII, XIV, XV, XVI, XVII, XVIII, XIX, XX, XXI, XXII, XXIII, XXIV'"
      ]
     },
     "execution_count": 1,
     "metadata": {},
     "output_type": "execute_result"
    }
   ],
   "source": [
    "ROMAN_NUMERALS = dict(\n",
    "    M=1000,\n",
    "    CM=900,\n",
    "    D=500,\n",
    "    CD=400,\n",
    "    C=100,\n",
    "    XC=90,\n",
    "    L=50,\n",
    "    XL=40,\n",
    "    X=10,\n",
    "    IX=9,\n",
    "    V=5,\n",
    "    IV=4,\n",
    "    I=1,\n",
    ")\n",
    "\n",
    "def int_to_roman_numeral(n: int) -> str:\n",
    "    if not (0 <= n < 4000 and int(n) == n):\n",
    "        raise ValueError(\"Expected an integer between 0 and 3999\")\n",
    "    ans = []\n",
    "    for numeral, base in ROMAN_NUMERALS.items():\n",
    "        count, n = divmod(n, base)\n",
    "        ans += count * numeral\n",
    "    assert n == 0\n",
    "    return ''.join(ans)\n",
    "\n",
    "', '.join([int_to_roman_numeral(i) for i in range(1, 25)])"
   ]
  },
  {
   "cell_type": "markdown",
   "id": "9d323cac-8903-4900-99cf-e014e039814a",
   "metadata": {},
   "source": [
    "It agrees with our calculations before, and we have assigned 0 to an empty string."
   ]
  },
  {
   "cell_type": "code",
   "execution_count": 2,
   "id": "bcefe37d-a4ab-4764-8efb-c4812a507ae0",
   "metadata": {},
   "outputs": [],
   "source": [
    "assert int_to_roman_numeral(1948) == 'MCMXLVIII'\n",
    "assert int_to_roman_numeral(3999) == 'MMMCMXCIX'\n",
    "assert int_to_roman_numeral(0) == ''"
   ]
  },
  {
   "cell_type": "markdown",
   "id": "e6c2164c-f32b-4b7d-8d60-83bcda7d9485",
   "metadata": {},
   "source": [
    "We can convert a Roman Numeral back into an integer by converting the subtractive values into an appropriate number of units and then add the values together:"
   ]
  },
  {
   "cell_type": "code",
   "execution_count": 3,
   "id": "5fa3a819-067b-4a8a-b71b-779131fb18d3",
   "metadata": {},
   "outputs": [],
   "source": [
    "from collections import Counter\n",
    "\n",
    "def roman_numeral_to_int(numeral: str) -> int:\n",
    "    \"\"\"Expand roman numerals\"\"\"\n",
    "    numeral_expanded = (\n",
    "        numeral\n",
    "        .replace('CM', 'C' * 9)\n",
    "        .replace('CD', 'C' * 4)\n",
    "        .replace('XC', 'X' * 9)\n",
    "        .replace('XL', 'X' * 4)\n",
    "        .replace('IX', 'I' * 9)\n",
    "        .replace('IV', 'I' * 4)\n",
    "    )\n",
    "    return sum([count * ROMAN_NUMERALS[n] for \n",
    "                n, count in Counter(numeral_expanded).items()])\n",
    "\n",
    "assert roman_numeral_to_int(\"\") == 0\n",
    "assert roman_numeral_to_int(\"MCMXLVIII\") == 1948\n",
    "assert roman_numeral_to_int(\"MMMCMXCIX\") == 3999"
   ]
  },
  {
   "cell_type": "markdown",
   "id": "80a9f3c5-1d7c-4145-8495-0642f7d5aff6",
   "metadata": {},
   "source": [
    "We can check that for all valid integers if we convert to a Roman Numeral and back again we get back our input:"
   ]
  },
  {
   "cell_type": "code",
   "execution_count": 4,
   "id": "59ee90d3-3a68-428f-993a-68bfbd558aef",
   "metadata": {},
   "outputs": [],
   "source": [
    "for i in range(4000):\n",
    "    assert roman_numeral_to_int(int_to_roman_numeral(i)) == i"
   ]
  },
  {
   "cell_type": "markdown",
   "id": "2f5501cb-a7a1-4ac4-9f7e-9e32c8c9c98b",
   "metadata": {},
   "source": [
    "However our roman_numeral_to_int will work on invalid roman numerals:"
   ]
  },
  {
   "cell_type": "code",
   "execution_count": 5,
   "id": "bbe5ef70-a19d-492b-8a9f-676e55b794a0",
   "metadata": {},
   "outputs": [
    {
     "data": {
      "text/plain": [
       "1001"
      ]
     },
     "execution_count": 5,
     "metadata": {},
     "output_type": "execute_result"
    }
   ],
   "source": [
    "roman_numeral_to_int(\"IM\")"
   ]
  },
  {
   "cell_type": "markdown",
   "id": "d7b94df0-9201-4419-b659-3c8a3bc84e3f",
   "metadata": {},
   "source": [
    "We can write a simple regular expression to check a Roman Numeral"
   ]
  },
  {
   "cell_type": "code",
   "execution_count": 6,
   "id": "7c9342ea-fc23-49a2-b0ef-fa82e5f53fa9",
   "metadata": {},
   "outputs": [],
   "source": [
    "import re\n",
    "\n",
    "roman_numeral_re = re.compile(\"\"\"\n",
    "(M{0,3})         # Thousands\n",
    "(CM|CD|D?C{0,3}) # Hundreds\n",
    "(XC|XL|L?X{0,3}) # Tens\n",
    "(IX|IV|V?I{0,3}) # Units\n",
    "$\"\"\", re.VERBOSE\n",
    ")\n",
    "\n",
    "def is_roman_numeral(x):\n",
    "    return roman_numeral_re.match(x) is not None\n",
    "\n",
    "assert is_roman_numeral(\"\")\n",
    "assert is_roman_numeral(\"I\")\n",
    "assert is_roman_numeral(\"MCMXLVIII\")\n",
    "assert is_roman_numeral(\"MMMCMXCIX\")\n",
    "assert not is_roman_numeral(\"IM\")"
   ]
  },
  {
   "cell_type": "markdown",
   "id": "0ca979ed-33fe-4852-b622-0f4ffe342c1c",
   "metadata": {},
   "source": [
    "And we can check all of our generated Roman Numerals are valid:"
   ]
  },
  {
   "cell_type": "code",
   "execution_count": 7,
   "id": "548f3ed2-733f-4f4a-aaa4-b2f0b5510078",
   "metadata": {},
   "outputs": [],
   "source": [
    "for i in range(4000):\n",
    "    assert is_roman_numeral(int_to_roman_numeral(i))"
   ]
  },
  {
   "cell_type": "markdown",
   "id": "625b3c2d-2542-40b1-8a5f-420a4dbb25d7",
   "metadata": {},
   "source": [
    "But how can we be sure our regular expression doesn't match anything else?"
   ]
  },
  {
   "cell_type": "markdown",
   "id": "92d2157c-2fe0-4cd2-af97-daf42c1f8587",
   "metadata": {},
   "source": [
    "# Regular expression generation"
   ]
  },
  {
   "cell_type": "markdown",
   "id": "803b090d-0aa4-4701-a260-ea88a44e0d0c",
   "metadata": {},
   "source": [
    "We gen generate all the possible things that match this finite regular expression by following all transitions [in the corresponding automata](https://skeptric.com/regular-expressions-automata-monoids/).\n",
    "While we could write our own [recursive descent parser](https://matt.might.net/articles/parsing-regex-with-recursive-descent/) we'll use Python's private regular expression parser in Python 3.11 (the API may break across versions)."
   ]
  },
  {
   "cell_type": "code",
   "execution_count": 8,
   "id": "a622cfa9-b093-41e6-8a69-c70eb9470699",
   "metadata": {},
   "outputs": [],
   "source": [
    "import re._constants as sre\n",
    "import re._parser as sre_parse"
   ]
  },
  {
   "cell_type": "markdown",
   "id": "920c4f4c-7471-458b-8a42-10a91f6f6d1e",
   "metadata": {},
   "source": [
    "Let's start with a simpler example:"
   ]
  },
  {
   "cell_type": "code",
   "execution_count": 9,
   "id": "0838c157-94f0-4690-b317-6affdfaf1268",
   "metadata": {},
   "outputs": [
    {
     "data": {
      "text/plain": [
       "[(LITERAL, 65), (LITERAL, 66)]"
      ]
     },
     "execution_count": 9,
     "metadata": {},
     "output_type": "execute_result"
    }
   ],
   "source": [
    "sre_parse.parse('AB')"
   ]
  },
  {
   "attachments": {},
   "cell_type": "markdown",
   "id": "3394d8ce-75e3-41ae-8404-537fe1fd5d71",
   "metadata": {},
   "source": [
    "The parse returns a list of items which are to be concatenated together.\n",
    "In this case each of the literals has a character code.\n",
    "\n",
    "In general each subexpression could return multiple results, so we return a list of all things that match.\n",
    "For a literal expression this is a list containing the single character:"
   ]
  },
  {
   "cell_type": "code",
   "execution_count": 10,
   "id": "f710d445-c1b9-4a2c-867e-29c9fc355f64",
   "metadata": {},
   "outputs": [],
   "source": [
    "def generate_re_literal(arg) -> list[str]:\n",
    "    return [chr(arg)]"
   ]
  },
  {
   "cell_type": "markdown",
   "id": "2dc2c9df-87db-4f4f-b346-30dc786ed221",
   "metadata": {},
   "source": [
    "We'll have a handler for each kind of expression that was parsed, starting with literal"
   ]
  },
  {
   "cell_type": "code",
   "execution_count": 11,
   "id": "531063c4-50c9-4bcf-8e0a-75002f0fc159",
   "metadata": {},
   "outputs": [],
   "source": [
    "from typing import Any, Callable\n",
    "\n",
    "GENERATE_RE_HANDLERS: dict[int, Callable[Any, list[str]]] = {\n",
    "    sre.LITERAL: generate_re_literal\n",
    "}"
   ]
  },
  {
   "cell_type": "markdown",
   "id": "babfa162-6548-445e-acdf-34484ab7fcec",
   "metadata": {},
   "source": [
    "Then to generat all regular expressions we generate all possible combinations of the subitems (with [`itertools.product`](https://docs.python.org/3/library/itertools.html#itertools.product)), and concatenate them together with (`''.join`):"
   ]
  },
  {
   "cell_type": "code",
   "execution_count": 12,
   "id": "51f29f3e-aa9d-4fe7-a6bd-ae6480e0898b",
   "metadata": {},
   "outputs": [],
   "source": [
    "import itertools\n",
    "\n",
    "def generate_all_re(s, flags=None) -> list[str]:\n",
    "    if isinstance(s, re._parser.SubPattern):\n",
    "        parse = s\n",
    "    elif isinstance(s, re.Pattern):\n",
    "        if flags is None:\n",
    "            flags = s.flags\n",
    "        parse = sre_parse.parse(s.pattern, flags)\n",
    "    elif isinstance(s, str):\n",
    "        if flags is None:\n",
    "            flags = re.NOFLAG\n",
    "        parse = sre_parse.parse(s, flags)\n",
    "    else:\n",
    "        raise ValueError(\"Unknown type %s\" % type(s))\n",
    "    \n",
    "    generations = [GENERATE_RE_HANDLERS[node](args) for node, args in parse]\n",
    "    return [''.join(items) for items in itertools.product(*generations)]"
   ]
  },
  {
   "cell_type": "markdown",
   "id": "74d1b4cc-d023-4a01-bca6-85121f1858b2",
   "metadata": {},
   "source": [
    "Then we can check our simple example:"
   ]
  },
  {
   "cell_type": "code",
   "execution_count": 13,
   "id": "d5862599-d72e-4ab8-b1c3-3fc69ef1e495",
   "metadata": {},
   "outputs": [],
   "source": [
    "assert generate_all_re('AB') == ['AB']"
   ]
  },
  {
   "cell_type": "markdown",
   "id": "b8a9123f-1568-4526-8244-ecf8024c4800",
   "metadata": {},
   "source": [
    "## Branches\n",
    "\n",
    "A branch will generate either the pattern on the left or the pattern on the right:"
   ]
  },
  {
   "cell_type": "code",
   "execution_count": 14,
   "id": "53d72852-09af-4195-819e-8db234dae633",
   "metadata": {},
   "outputs": [
    {
     "data": {
      "text/plain": [
       "[(BRANCH, (None, [[(LITERAL, 65)], [(LITERAL, 66), (LITERAL, 67)]]))]"
      ]
     },
     "execution_count": 14,
     "metadata": {},
     "output_type": "execute_result"
    }
   ],
   "source": [
    "sre_parse.parse('A|BC')"
   ]
  },
  {
   "cell_type": "markdown",
   "id": "fd3f13f6-574f-45f4-a3b1-4cf93d759211",
   "metadata": {},
   "source": [
    "To handle this we need to get the generations from each branch and flatten them into a single list:"
   ]
  },
  {
   "cell_type": "code",
   "execution_count": 15,
   "id": "3c2c756f-1b69-4926-9782-9d38a407337b",
   "metadata": {},
   "outputs": [],
   "source": [
    "def generate_branch(args) -> str:\n",
    "    _, branches = args\n",
    "    return [generation for branch in branches for generation in generate_all_re(branch)]\n",
    "\n",
    "GENERATE_RE_HANDLERS[sre.BRANCH] = generate_branch\n",
    "\n",
    "assert generate_all_re('A|BC') == ['A', 'BC']"
   ]
  },
  {
   "cell_type": "markdown",
   "id": "b3fcdc5e-b052-4a3d-a13e-52e17e58bd50",
   "metadata": {},
   "source": [
    "## Repeats\n",
    "\n",
    "A finite repeat allows the same subexpression a specified number of times:"
   ]
  },
  {
   "cell_type": "code",
   "execution_count": 16,
   "id": "bb9c90da-581a-4546-8604-3e8e35121c14",
   "metadata": {},
   "outputs": [
    {
     "data": {
      "text/plain": [
       "[(MAX_REPEAT, (0, 3, [(LITERAL, 77)]))]"
      ]
     },
     "execution_count": 16,
     "metadata": {},
     "output_type": "execute_result"
    }
   ],
   "source": [
    "sre_parse.parse('M{0,3}')"
   ]
  },
  {
   "cell_type": "markdown",
   "id": "03ba3ff5-74a8-423e-bda0-58ae9cbdda06",
   "metadata": {},
   "source": [
    "To handle this we generate the subexpression and then return each repetition of the generations"
   ]
  },
  {
   "cell_type": "code",
   "execution_count": 17,
   "id": "0b031572-5e89-41e0-b70b-9482abff8912",
   "metadata": {},
   "outputs": [],
   "source": [
    "def generate_re_max_repeat(args):\n",
    "    min_repeat, max_repeat, pattern = args\n",
    "    generated = generate_all_re(pattern)\n",
    "    return [g * n_repeat for g in generated for n_repeat in range(min_repeat, max_repeat + 1)]\n",
    "\n",
    "GENERATE_RE_HANDLERS[sre.MAX_REPEAT] = generate_re_max_repeat\n",
    "\n",
    "assert generate_all_re('M{0,3}') == ['', 'M', 'MM', 'MMM']"
   ]
  },
  {
   "cell_type": "markdown",
   "id": "24f65d1c-c4c5-44b6-bd38-c14b5b27f9cd",
   "metadata": {},
   "source": [
    "## Groups\n",
    "\n",
    "For our purpose we can simply ignore groups; they're just used for parsing"
   ]
  },
  {
   "cell_type": "code",
   "execution_count": 18,
   "id": "362e2094-b759-489b-b614-a318b69d6b2a",
   "metadata": {},
   "outputs": [
    {
     "data": {
      "text/plain": [
       "[(SUBPATTERN, (1, 0, 0, [(LITERAL, 77)]))]"
      ]
     },
     "execution_count": 18,
     "metadata": {},
     "output_type": "execute_result"
    }
   ],
   "source": [
    "sre_parse.parse('(M)')"
   ]
  },
  {
   "cell_type": "code",
   "execution_count": 19,
   "id": "304462a2-b635-46a1-b219-9d252e84dbb4",
   "metadata": {},
   "outputs": [],
   "source": [
    "def generate_subpattern(args):\n",
    "    _, _, _, pattern = args\n",
    "    return generate_all_re(pattern)\n",
    "\n",
    "GENERATE_RE_HANDLERS[sre.SUBPATTERN] = generate_subpattern\n",
    "\n",
    "assert generate_all_re('(M)') == ['M']"
   ]
  },
  {
   "cell_type": "markdown",
   "id": "55c43de2-6f8d-4d48-a4d1-58820db84581",
   "metadata": {},
   "source": [
    "## End token\n",
    "\n",
    "For generating the end token we will just generate the empty string:"
   ]
  },
  {
   "cell_type": "code",
   "execution_count": 20,
   "id": "24a3b02e-5404-422f-9f3d-7d18626ec9c1",
   "metadata": {},
   "outputs": [
    {
     "data": {
      "text/plain": [
       "[(LITERAL, 65), (AT, AT_END)]"
      ]
     },
     "execution_count": 20,
     "metadata": {},
     "output_type": "execute_result"
    }
   ],
   "source": [
    "sre_parse.parse('A$')"
   ]
  },
  {
   "cell_type": "code",
   "execution_count": 21,
   "id": "281e931c-542f-4a8c-a296-3aaceded87fa",
   "metadata": {},
   "outputs": [],
   "source": [
    "def generate_at(args):\n",
    "    return ['']\n",
    "\n",
    "GENERATE_RE_HANDLERS[sre.AT] = generate_at\n",
    "\n",
    "assert generate_all_re('A$') == ['A']"
   ]
  },
  {
   "cell_type": "markdown",
   "id": "3033c5cf-0b31-4a68-a491-52c5770a91d3",
   "metadata": {},
   "source": [
    "## Generating the Roman Numerals\n",
    "\n",
    "We now have everything we need to generate all the Roman Numerals from the regular expression.\n",
    "We can check there are 4000 all distinct:"
   ]
  },
  {
   "cell_type": "code",
   "execution_count": 22,
   "id": "f793be54-c66e-49cc-9a9f-0b2deb44f4c4",
   "metadata": {},
   "outputs": [],
   "source": [
    "roman_numerals = generate_all_re(roman_numeral_re)\n",
    "assert len(roman_numerals) == 4000\n",
    "assert len(set(roman_numerals)) == 4000"
   ]
  },
  {
   "cell_type": "code",
   "execution_count": 23,
   "id": "30aecf3e-9315-4e60-adc3-0dcbd8b6a3bb",
   "metadata": {},
   "outputs": [
    {
     "data": {
      "text/plain": [
       "['CMXCIX', 'CMXCIV', 'CMXC', 'CMXCI', 'CMXCII']"
      ]
     },
     "execution_count": 23,
     "metadata": {},
     "output_type": "execute_result"
    }
   ],
   "source": [
    "roman_numerals[:5]"
   ]
  },
  {
   "cell_type": "markdown",
   "id": "098242ad-35e4-4865-9ae7-97e073459a80",
   "metadata": {},
   "source": [
    "They should all match the regular expression:"
   ]
  },
  {
   "cell_type": "code",
   "execution_count": 24,
   "id": "7ac91424-57d4-42a5-9e9f-e7b1bbd35cf1",
   "metadata": {},
   "outputs": [],
   "source": [
    "for numeral in roman_numerals:\n",
    "    assert is_roman_numeral(numeral)"
   ]
  },
  {
   "cell_type": "markdown",
   "id": "65e0b4bd-6caa-4990-850b-71a46785e1e1",
   "metadata": {},
   "source": [
    "And if we convert them to integers and back again we get the same result:"
   ]
  },
  {
   "cell_type": "code",
   "execution_count": 25,
   "id": "0c95954a-911d-43f7-9663-ae7dde99368e",
   "metadata": {},
   "outputs": [],
   "source": [
    "for numeral in roman_numerals:\n",
    "    assert int_to_roman_numeral(roman_numeral_to_int(numeral)) == numeral"
   ]
  },
  {
   "cell_type": "markdown",
   "id": "bc55b077-42e5-4c1a-875e-ad19bb621a79",
   "metadata": {},
   "source": [
    "# Non-empty Roman Numerals\n",
    "\n",
    "What if we just want to find the non-empty Roman Numerals?\n",
    "We can modify our regular expression to exclude the case where all the parts are empty:"
   ]
  },
  {
   "cell_type": "code",
   "execution_count": 31,
   "id": "d71f0419-aea8-4ce1-93b6-67b4c343b2b8",
   "metadata": {},
   "outputs": [],
   "source": [
    "nonempty_roman_numeral_re = re.compile(\"\"\"\n",
    "(?:\n",
    "(?:M{0,3}(CM|CD|D?C{0,3})(XC|XL|L?X{0,3})(IX|I?V|V?I{1,3}))    #  Has a unit\n",
    "| (?:M{0,3}(CM|CD|D?C{0,3})(XC|X?L|L?X{1,3}))                  # OR Has a ten\n",
    "| (?:M{0,3}(CM|C?D|D?C{1,3}))                                  # OR Has a hundred\n",
    "| M{1,3}                                                       # OR Has a thousand\n",
    ")$\"\"\", flags=re.VERBOSE)\n",
    "\n",
    "assert not nonempty_roman_numeral_re.match('')\n",
    "assert not nonempty_roman_numeral_re.match('VX')\n",
    "assert nonempty_roman_numeral_re.match('X')\n",
    "assert nonempty_roman_numeral_re.match('MCMXLVIII')\n",
    "assert nonempty_roman_numeral_re.match('MMMCMXCIX')"
   ]
  },
  {
   "cell_type": "markdown",
   "id": "e3c7c80a-b1d7-42b1-ad8e-6b9e90f5ab90",
   "metadata": {},
   "source": [
    "This matches precisely the set of Roman Numerals from 1 to 3999:"
   ]
  },
  {
   "cell_type": "code",
   "execution_count": 53,
   "id": "a68b5c1c-d3a9-4a1b-9f8a-efd53895d703",
   "metadata": {},
   "outputs": [],
   "source": [
    "nonempty_roman_numerals = generate_all_re(nonempty_roman_numeral_re)\n",
    "\n",
    "assert len(nonempty_roman_numerals) == 3999\n",
    "assert len(set(nonempty_roman_numerals)) == 3999\n",
    "assert set(nonempty_roman_numerals).symmetric_difference(roman_numerals) == {''}"
   ]
  },
  {
   "cell_type": "markdown",
   "id": "b58a0c44-f09a-4797-9983-fb0a2b319ad7",
   "metadata": {},
   "source": [
    "## Composing Regular Expressions\n",
    "\n",
    "The regular expression above is starting to get a bit gnarly. We can make it easier to write using Python classes and magic methods.\n",
    "To start with let's create a function that wraps a regular expression in a non-capturing group:"
   ]
  },
  {
   "cell_type": "code",
   "execution_count": 33,
   "id": "c9003b77-0d61-4f0f-839c-e672d0ad37eb",
   "metadata": {},
   "outputs": [],
   "source": [
    "def group_re(re: str) -> str:\n",
    "    return \"(?:\" + re + \")\"\n",
    "\n",
    "assert group_re(\"a\") == \"(?:a)\""
   ]
  },
  {
   "cell_type": "markdown",
   "id": "72574245-3b39-4c1c-b012-2ba24419fc2b",
   "metadata": {},
   "source": [
    "Then we can create a class `R` (for Regex) where we can:\n",
    "\n",
    "* Concatenate by multiplying objects (`A * B`)\n",
    "* Branch by OR-ing objects (`A | B`)\n",
    "* Having 0 or 1 matches with `maybe`: `A.maybe()`\n",
    "* Having a specified number of matches with `repeat`: `A.repeat(0,3)`"
   ]
  },
  {
   "cell_type": "code",
   "execution_count": 34,
   "id": "a361c4ef-e8a8-40b1-a731-61574470790b",
   "metadata": {},
   "outputs": [],
   "source": [
    "class R:\n",
    "    def __init__(self, pattern: str):\n",
    "        self.pattern = pattern\n",
    "\n",
    "    def __mul__(self, other):\n",
    "        if isinstance(other, str): other = R(other)\n",
    "        return R(group_re(self.pattern) + group_re(other.pattern))\n",
    "\n",
    "    def __rmul__(self, other):\n",
    "        if isinstance(other, str): other = R(other)\n",
    "        return other * self\n",
    "\n",
    "    def __or__(self, other):\n",
    "        if isinstance(other, str): other = R(other)\n",
    "        return R(group_re(self.pattern) + \"|\" + group_re(other.pattern))\n",
    "\n",
    "    def __ror__(self, other):\n",
    "        if isinstance(other, str): other = R(other)\n",
    "        return other | self\n",
    "\n",
    "    def __eq__(self, other):\n",
    "        return self.pattern == other.pattern\n",
    "\n",
    "    def __repr__(self):\n",
    "        return f'R({self.pattern})'\n",
    "\n",
    "    def maybe(self):\n",
    "        return R(group_re(self.pattern) + \"?\")\n",
    "\n",
    "    def repeat(self, min, max):\n",
    "        return R(group_re(self.pattern) + \"{%s,%s}\" % (min, max))\n",
    "\n",
    "    def match(self, s, flags=re.NOFLAG):\n",
    "        return re.match(group_re(self.pattern) + \"$\", s, flags)\n",
    "\n",
    "    def finditer(self, s, flags=re.NOFLAG):\n",
    "        return re.finditer(self.pattern, s, flags)"
   ]
  },
  {
   "cell_type": "markdown",
   "id": "f7c58904-e52a-480d-9199-009c779aa4c3",
   "metadata": {},
   "source": [
    "Using this notation we can then make regular expressions for a roman numeral between 0 and 9"
   ]
  },
  {
   "cell_type": "code",
   "execution_count": 39,
   "id": "0fb25dd0-0af5-4a01-b772-937799b34f77",
   "metadata": {},
   "outputs": [
    {
     "data": {
      "text/plain": [
       "R((?:(?:IX)|(?:(?:(?:I)?)(?:V)))|(?:(?:(?:V)?)(?:(?:I){1,3})))"
      ]
     },
     "execution_count": 39,
     "metadata": {},
     "output_type": "execute_result"
    }
   ],
   "source": [
    "unit = \"IX\" | (R(\"I\").maybe() * \"V\") | (R(\"V\").maybe() * R(\"I\").repeat(1,3))\n",
    "unit"
   ]
  },
  {
   "cell_type": "markdown",
   "id": "77057394-5229-4cea-9dc0-d0ada19d903f",
   "metadata": {},
   "source": [
    "Similarly we can create expressions for tens, hundreds and thousands, then combine them to get the non-empty roman numerals.\n",
    "The resulting expression is an eye-sore because we're doing a lot of unnecesary grouping:"
   ]
  },
  {
   "cell_type": "code",
   "execution_count": 47,
   "id": "fcf2b2c1-d551-43c7-a4c3-232415d7caba",
   "metadata": {},
   "outputs": [
    {
     "data": {
      "text/plain": [
       "R((?:(?:(?:(?:(?:IX)|(?:(?:(?:I)?)(?:V)))|(?:(?:(?:V)?)(?:(?:I){1,3})))|(?:(?:(?:(?:XC)|(?:(?:(?:X)?)(?:L)))|(?:(?:(?:L)?)(?:(?:X){1,3})))(?:(?:(?:(?:IX)|(?:(?:(?:I)?)(?:V)))|(?:(?:(?:V)?)(?:(?:I){1,3})))?)))|(?:(?:(?:(?:(?:CM)|(?:(?:(?:C)?)(?:D)))|(?:(?:(?:D)?)(?:(?:C){1,3})))(?:(?:(?:(?:XC)|(?:(?:(?:X)?)(?:L)))|(?:(?:(?:L)?)(?:(?:X){1,3})))?))(?:(?:(?:(?:IX)|(?:(?:(?:I)?)(?:V)))|(?:(?:(?:V)?)(?:(?:I){1,3})))?)))|(?:(?:(?:(?:(?:M){1,3})(?:(?:(?:(?:CM)|(?:(?:(?:C)?)(?:D)))|(?:(?:(?:D)?)(?:(?:C){1,3})))?))(?:(?:(?:(?:XC)|(?:(?:(?:X)?)(?:L)))|(?:(?:(?:L)?)(?:(?:X){1,3})))?))(?:(?:(?:(?:IX)|(?:(?:(?:I)?)(?:V)))|(?:(?:(?:V)?)(?:(?:I){1,3})))?)))"
      ]
     },
     "execution_count": 47,
     "metadata": {},
     "output_type": "execute_result"
    }
   ],
   "source": [
    "ten  = \"XC\" | (R(\"X\").maybe() * \"L\") | (R(\"L\").maybe() * R(\"X\").repeat(1,3))\n",
    "hund = \"CM\" | (R(\"C\").maybe() * \"D\") | (R(\"D\").maybe() * R(\"C\").repeat(1,3))\n",
    "thou = R(\"M\").repeat(1,3)\n",
    "\n",
    "nonempty_roman_numerals_re_2 = unit |  (ten * unit.maybe()) | (hund * ten.maybe() * unit.maybe()) | (thou * hund.maybe() * ten.maybe() * unit.maybe())\n",
    "nonempty_roman_numerals_re_2"
   ]
  },
  {
   "cell_type": "markdown",
   "id": "73eea642-7c3e-43f6-91a6-df2c94955be6",
   "metadata": {},
   "source": [
    "This generates precisely the non-empty roman numerals:"
   ]
  },
  {
   "cell_type": "code",
   "execution_count": 55,
   "id": "aaf8108f-b7f5-439f-9a76-3022e233c0eb",
   "metadata": {},
   "outputs": [],
   "source": [
    "nonempty_roman_numerals_2 = generate_all_re(nonempty_roman_numerals_re_2.pattern)\n",
    "\n",
    "assert set(nonempty_roman_numerals_2) == set(nonempty_roman_numerals)"
   ]
  },
  {
   "cell_type": "markdown",
   "id": "e6d7abb0-3d70-4ef6-9041-e503a1bdfe57",
   "metadata": {},
   "source": [
    "Although the way it is formed it can match some expressions in multiple ways:"
   ]
  },
  {
   "cell_type": "code",
   "execution_count": 56,
   "id": "cd10115c-20a0-4568-a122-e78eb7c30547",
   "metadata": {},
   "outputs": [
    {
     "data": {
      "text/plain": [
       "(20583, 3999)"
      ]
     },
     "execution_count": 56,
     "metadata": {},
     "output_type": "execute_result"
    }
   ],
   "source": [
    "len(nonempty_roman_numerals_2), len(set(nonempty_roman_numerals_2))"
   ]
  },
  {
   "cell_type": "markdown",
   "id": "a89e5296-9883-4465-996c-2902f358ad7a",
   "metadata": {},
   "source": [
    "# Conclusion\n",
    "\n",
    "Roman Numerals are a little funny but not terribly difficult to parse in Python.\n",
    "The approach here was inspired by [property based testing](https://skeptric.com/property-based-testing) especially [of regular expressions](https://skeptric.com/regex-property-testing/) to check that `int_to_roman_numeral` and `roman_numeral_to_int` are inverses, and the `roman_numeral_re` covers the range of `int_to_roman_numeral`."
   ]
  }
 ],
 "metadata": {
  "kernelspec": {
   "display_name": "Python 3 (ipykernel)",
   "language": "python",
   "name": "python3"
  },
  "language_info": {
   "codemirror_mode": {
    "name": "ipython",
    "version": 3
   },
   "file_extension": ".py",
   "mimetype": "text/x-python",
   "name": "python",
   "nbconvert_exporter": "python",
   "pygments_lexer": "ipython3",
   "version": "3.11.5"
  }
 },
 "nbformat": 4,
 "nbformat_minor": 5
}
