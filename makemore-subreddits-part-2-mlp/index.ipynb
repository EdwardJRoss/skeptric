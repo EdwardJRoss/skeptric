{
 "cells": [
  {
   "cell_type": "raw",
   "metadata": {},
   "source": [
    "---\n",
    "categories:\n",
    "  - nlp\n",
    "  - makemore\n",
    "date: '2023-08-04T19:38:00+10:00'\n",
    "image: ./character_embedding.png\n",
    "title: Makemore Subreddits - Part 2 Multilayer Perceptron\n",
    "---"
   ]
  },
  {
   "cell_type": "markdown",
   "metadata": {},
   "source": [
    "Let's create a Multi-Layer Perceptron language model for subreddit names.\n",
    "\n",
    "\n",
    "This loosely follows part 2 of Andrej Karpathy's excellent [makemore](https://github.com/karpathy/makemore); go and check that out first.\n",
    "However he used a list of US names, where we're going to use subreddit names.\n",
    "We'll follow the model in [Bengio et al. 2003](https://www.jmlr.org/papers/volume3/bengio03a/bengio03a.pdf) of building a simple 2 layer MLP on a fixed length window, but instead of using words we will use characters.\n",
    "\n",
    "::: {.callout-note}\n",
    "This is a Jupyter notebook you can [download the notebook](https://github.com/EdwardJRoss/skeptric/blob/master/makemore-subreddits-part-2-mlp/index.ipynb) or [view it on Kaggle](https://www.kaggle.com/code/edwardjross/makemore-subreddits-part-2-mlp).\n",
    ":::"
   ]
  },
  {
   "cell_type": "markdown",
   "metadata": {},
   "source": [
    "# Loading the Data\n",
    "\n",
    "This is largely similar to [Part 1](https://skeptric.com/makemore-subreddits-part-1-bigram-model/) where we get the most common subreddit names from  [All Subreddits and Relations Between Them](https://www.kaggle.com/datasets/thedevastator/all-subreddits-and-relations-between-them)."
   ]
  },
  {
   "cell_type": "code",
   "execution_count": 9,
   "metadata": {
    "execution": {
     "iopub.execute_input": "2023-08-02T05:57:05.982097Z",
     "iopub.status.busy": "2023-08-02T05:57:05.981728Z",
     "iopub.status.idle": "2023-08-02T05:57:05.987786Z",
     "shell.execute_reply": "2023-08-02T05:57:05.986665Z",
     "shell.execute_reply.started": "2023-08-02T05:57:05.982067Z"
    }
   },
   "outputs": [],
   "source": [
    "import matplotlib.pyplot as plt\n",
    "import torch\n",
    "import torch.nn.functional as F\n",
    "import random\n",
    "import csv\n",
    "from pathlib import Path\n",
    "from collections import Counter\n",
    "from tqdm.auto import trange, tqdm"
   ]
  },
  {
   "cell_type": "markdown",
   "metadata": {},
   "source": [
    "Filter to subreddits that:\n",
    "\n",
    "* Have at least 1000 subscribers\n",
    "* Are not archived\n",
    "* Are safe for work\n",
    "* And are not quarintined"
   ]
  },
  {
   "cell_type": "code",
   "execution_count": 10,
   "metadata": {
    "execution": {
     "iopub.execute_input": "2023-08-02T05:57:05.990000Z",
     "iopub.status.busy": "2023-08-02T05:57:05.989632Z",
     "iopub.status.idle": "2023-08-02T05:57:06.801637Z",
     "shell.execute_reply": "2023-08-02T05:57:06.800269Z",
     "shell.execute_reply.started": "2023-08-02T05:57:05.989975Z"
    }
   },
   "outputs": [],
   "source": [
    "data_path = Path('/kaggle/input/all-subreddits-and-relations-between-them')\n",
    "min_subscribers = 1_000\n",
    "\n",
    "with open(data_path / 'subreddits.csv', 'r') as f:\n",
    "    names = [d['name'] for d in csv.DictReader(f) \n",
    "             if int(d['subscribers'] or 0) >= min_subscribers\n",
    "             and d['description']\n",
    "             and d['type'] != 'archived'\n",
    "             and d['nsfw'] == 'f'\n",
    "             and d['quarantined'] == 'f']\n",
    "    \n",
    "len(names)\n",
    "random.seed(42)\n",
    "random.shuffle(names)"
   ]
  },
  {
   "cell_type": "markdown",
   "metadata": {},
   "source": [
    "Because we are using a more powerful model we will make a train/val/test split at 80%/10%/10% to identify overfitting."
   ]
  },
  {
   "cell_type": "code",
   "execution_count": 11,
   "metadata": {
    "execution": {
     "iopub.execute_input": "2023-08-02T05:57:06.803428Z",
     "iopub.status.busy": "2023-08-02T05:57:06.803077Z",
     "iopub.status.idle": "2023-08-02T05:57:06.813494Z",
     "shell.execute_reply": "2023-08-02T05:57:06.812195Z",
     "shell.execute_reply.started": "2023-08-02T05:57:06.803403Z"
    }
   },
   "outputs": [
    {
     "data": {
      "text/plain": [
       "(26876, 3359, 3360)"
      ]
     },
     "execution_count": 11,
     "metadata": {},
     "output_type": "execute_result"
    }
   ],
   "source": [
    "N = len(names)\n",
    "\n",
    "names_train = names[:int(0.8*N)]\n",
    "names_val = names[int(0.8*N):int(0.9*N)]\n",
    "names_test = names[int(0.9*N):]\n",
    "\n",
    "\n",
    "len(names_train), len(names_val), len(names_test)"
   ]
  },
  {
   "cell_type": "markdown",
   "metadata": {},
   "source": [
    "The names are largely human readable."
   ]
  },
  {
   "cell_type": "code",
   "execution_count": 12,
   "metadata": {
    "execution": {
     "iopub.execute_input": "2023-08-02T05:57:06.815749Z",
     "iopub.status.busy": "2023-08-02T05:57:06.815341Z",
     "iopub.status.idle": "2023-08-02T05:57:06.829334Z",
     "shell.execute_reply": "2023-08-02T05:57:06.827804Z",
     "shell.execute_reply.started": "2023-08-02T05:57:06.815721Z"
    }
   },
   "outputs": [
    {
     "name": "stdout",
     "output_type": "stream",
     "text": [
      "splunk\n",
      "thenwa\n",
      "soylent\n",
      "factorio\n",
      "christinaricci\n",
      "blues\n",
      "vegancheesemaking\n",
      "goldredditsays\n",
      "reformed\n",
      "nagoya\n"
     ]
    }
   ],
   "source": [
    "for name in names_train[:10]:\n",
    "    print(name)"
   ]
  },
  {
   "cell_type": "markdown",
   "metadata": {},
   "source": [
    "# Compile the Data\n",
    "\n",
    "Now convert the dataset into something that the model can easily work with.\n",
    "First represent all the character tokens as consecutive integers.\n",
    "We create a special `PAD_CHAR` with index 0 to represent tokens outside of the sequence."
   ]
  },
  {
   "cell_type": "code",
   "execution_count": 13,
   "metadata": {
    "execution": {
     "iopub.execute_input": "2023-08-02T05:57:06.833398Z",
     "iopub.status.busy": "2023-08-02T05:57:06.833078Z",
     "iopub.status.idle": "2023-08-02T05:57:06.852384Z",
     "shell.execute_reply": "2023-08-02T05:57:06.851067Z",
     "shell.execute_reply.started": "2023-08-02T05:57:06.833372Z"
    }
   },
   "outputs": [
    {
     "name": "stdout",
     "output_type": "stream",
     "text": [
      "['.', '0', '1', '2', '3', '4', '5', '6', '7', '8', '9', '_', 'a', 'b', 'c', 'd', 'e', 'f', 'g', 'h', 'i', 'j', 'k', 'l', 'm', 'n', 'o', 'p', 'q', 'r', 's', 't', 'u', 'v', 'w', 'x', 'y', 'z']\n"
     ]
    }
   ],
   "source": [
    "PAD_CHAR = '.'\n",
    "PAD_IDX = 0\n",
    "\n",
    "i2s = sorted(set(''.join(names_train)))\n",
    "assert PAD_CHAR not in i2s\n",
    "\n",
    "i2s.insert(PAD_IDX, PAD_CHAR)\n",
    "\n",
    "s2i = {s:i for i, s in enumerate(i2s)}\n",
    "\n",
    "V = len(i2s)\n",
    "\n",
    "print(i2s)"
   ]
  },
  {
   "cell_type": "markdown",
   "metadata": {},
   "source": [
    "Then we want to predict the next character given the previous `block_size` characters.\n",
    "\n",
    "For example with 3 characters of context we want to create `x` that contains consecutive strings of 3 characters, and `y` that contains the fourth character."
   ]
  },
  {
   "cell_type": "code",
   "execution_count": 14,
   "metadata": {
    "execution": {
     "iopub.execute_input": "2023-08-02T05:57:06.853876Z",
     "iopub.status.busy": "2023-08-02T05:57:06.853564Z",
     "iopub.status.idle": "2023-08-02T05:57:06.865192Z",
     "shell.execute_reply": "2023-08-02T05:57:06.864447Z",
     "shell.execute_reply.started": "2023-08-02T05:57:06.853852Z"
    }
   },
   "outputs": [
    {
     "name": "stdout",
     "output_type": "stream",
     "text": [
      "['.', '.', '.'] a\n",
      "['.', '.', 'a'] b\n",
      "['.', 'a', 'b'] c\n",
      "['a', 'b', 'c'] d\n",
      "['b', 'c', 'd'] e\n",
      "['c', 'd', 'e'] f\n",
      "['d', 'e', 'f'] .\n"
     ]
    }
   ],
   "source": [
    "padded_name = '...abcdef.'\n",
    "\n",
    "for *x, y in zip(*[padded_name[i:] for i in range(4)]):\n",
    "    print(x, y)"
   ]
  },
  {
   "cell_type": "markdown",
   "metadata": {},
   "source": [
    "We then apply this process to each of our data splits."
   ]
  },
  {
   "cell_type": "code",
   "execution_count": 15,
   "metadata": {
    "execution": {
     "iopub.execute_input": "2023-08-02T05:57:06.866843Z",
     "iopub.status.busy": "2023-08-02T05:57:06.866568Z",
     "iopub.status.idle": "2023-08-02T05:57:08.126789Z",
     "shell.execute_reply": "2023-08-02T05:57:08.125469Z",
     "shell.execute_reply.started": "2023-08-02T05:57:06.866815Z"
    }
   },
   "outputs": [
    {
     "data": {
      "text/plain": [
       "(torch.Size([330143, 3]), torch.Size([330143]))"
      ]
     },
     "execution_count": 15,
     "metadata": {},
     "output_type": "execute_result"
    }
   ],
   "source": [
    "block_size = 3\n",
    "\n",
    "def compile_dataset(names, block_size, PAD_CHAR=PAD_CHAR, s2i=s2i):\n",
    "    X, y = [], []\n",
    "    for name in names:\n",
    "        padded_name = PAD_CHAR * block_size + name + PAD_CHAR\n",
    "        padded_tokens = [s2i[c] for c in padded_name]\n",
    "        for *context, target in zip(*[padded_tokens[i:] for i in range(block_size+1)]):\n",
    "            X.append(context)\n",
    "            y.append(target)\n",
    "    return torch.tensor(X), torch.tensor(y)\n",
    "\n",
    "# Note about vocab\n",
    "X, y = compile_dataset(names_train, block_size)\n",
    "X_val, y_val = compile_dataset(names_val, block_size)\n",
    "X_test, y_test = compile_dataset(names_test, block_size)\n",
    "\n",
    "X.shape, y.shape"
   ]
  },
  {
   "cell_type": "markdown",
   "metadata": {
    "execution": {
     "iopub.execute_input": "2023-07-31T13:17:38.027169Z",
     "iopub.status.busy": "2023-07-31T13:17:38.026745Z",
     "iopub.status.idle": "2023-07-31T13:17:38.036026Z",
     "shell.execute_reply": "2023-07-31T13:17:38.034580Z",
     "shell.execute_reply.started": "2023-07-31T13:17:38.027135Z"
    }
   },
   "source": [
    "Then the task is to predict the next token given the context, where `.` in `X` represents before the start of a string, and in `y` represents the end of a string."
   ]
  },
  {
   "cell_type": "code",
   "execution_count": 16,
   "metadata": {
    "execution": {
     "iopub.execute_input": "2023-08-02T05:57:08.128433Z",
     "iopub.status.busy": "2023-08-02T05:57:08.128163Z",
     "iopub.status.idle": "2023-08-02T05:57:08.162972Z",
     "shell.execute_reply": "2023-08-02T05:57:08.161658Z",
     "shell.execute_reply.started": "2023-08-02T05:57:08.128411Z"
    }
   },
   "outputs": [
    {
     "name": "stdout",
     "output_type": "stream",
     "text": [
      "['splunk', 'thenwa', 'soylent']\n",
      "\n",
      "['.', '.', '.'] s\n",
      "['.', '.', 's'] p\n",
      "['.', 's', 'p'] l\n",
      "['s', 'p', 'l'] u\n",
      "['p', 'l', 'u'] n\n",
      "['l', 'u', 'n'] k\n",
      "['u', 'n', 'k'] .\n",
      "['.', '.', '.'] t\n",
      "['.', '.', 't'] h\n",
      "['.', 't', 'h'] e\n",
      "['t', 'h', 'e'] n\n",
      "['h', 'e', 'n'] w\n",
      "['e', 'n', 'w'] a\n",
      "['n', 'w', 'a'] .\n",
      "['.', '.', '.'] s\n",
      "['.', '.', 's'] o\n",
      "['.', 's', 'o'] y\n",
      "['s', 'o', 'y'] l\n",
      "['o', 'y', 'l'] e\n",
      "['y', 'l', 'e'] n\n"
     ]
    }
   ],
   "source": [
    "print(names_train[:3])\n",
    "print()\n",
    "for xi, yi in zip(X[:20], y[:20]):\n",
    "    print([i2s[t] for t in xi], i2s[yi])"
   ]
  },
  {
   "cell_type": "markdown",
   "metadata": {},
   "source": [
    "We can also look at this in terms of the underlying numeric representation."
   ]
  },
  {
   "cell_type": "code",
   "execution_count": 17,
   "metadata": {
    "execution": {
     "iopub.execute_input": "2023-08-02T05:57:08.164697Z",
     "iopub.status.busy": "2023-08-02T05:57:08.164344Z",
     "iopub.status.idle": "2023-08-02T05:57:08.200010Z",
     "shell.execute_reply": "2023-08-02T05:57:08.198616Z",
     "shell.execute_reply.started": "2023-08-02T05:57:08.164672Z"
    }
   },
   "outputs": [
    {
     "data": {
      "text/plain": [
       "tensor([[ 0,  0,  0, 30],\n",
       "        [ 0,  0, 30, 27],\n",
       "        [ 0, 30, 27, 23],\n",
       "        [30, 27, 23, 32],\n",
       "        [27, 23, 32, 25],\n",
       "        [23, 32, 25, 22],\n",
       "        [32, 25, 22,  0],\n",
       "        [ 0,  0,  0, 31],\n",
       "        [ 0,  0, 31, 19],\n",
       "        [ 0, 31, 19, 16],\n",
       "        [31, 19, 16, 25],\n",
       "        [19, 16, 25, 34],\n",
       "        [16, 25, 34, 12],\n",
       "        [25, 34, 12,  0],\n",
       "        [ 0,  0,  0, 30],\n",
       "        [ 0,  0, 30, 26],\n",
       "        [ 0, 30, 26, 36],\n",
       "        [30, 26, 36, 23],\n",
       "        [26, 36, 23, 16],\n",
       "        [36, 23, 16, 25]])"
      ]
     },
     "execution_count": 17,
     "metadata": {},
     "output_type": "execute_result"
    }
   ],
   "source": [
    "torch.cat([X[:20], y[:20].unsqueeze(1)], axis=1)"
   ]
  },
  {
   "attachments": {
    "168ccacd-e3dd-4e50-8157-b0842de21647.png": {
     "image/png": "[encoded data removed]"
    }
   },
   "cell_type": "markdown",
   "metadata": {},
   "source": [
    "# Multi-Layer Perceptron\n",
    "\n",
    "We will follow the basic model of [Bengio., et al (2003)](https://www.jmlr.org/papers/volume3/bengio03a/bengio03a.pdf).\n",
    "\n",
    "* Each token is embedded by a $\\left | V \\right| \\times m$ dimensional matrix `C`\n",
    "* The consecutive tokens are then concatenated together across the block size `n` to get $x = (C(w_{t−1}),C(w_{t−2}), · · · ,C(w+{t−n+1}))$\n",
    "* This is passed through two hidden layers, with an optional skip connection $y = b +W x +U \\tanh(d + Hx)$\n",
    "\n",
    "![image.png](attachment:168ccacd-e3dd-4e50-8157-b0842de21647.png)\n",
    "\n",
    "We'll ignore the skip connection for now and build the basic model"
   ]
  },
  {
   "cell_type": "code",
   "execution_count": 18,
   "metadata": {
    "execution": {
     "iopub.execute_input": "2023-08-02T05:57:08.201646Z",
     "iopub.status.busy": "2023-08-02T05:57:08.201363Z",
     "iopub.status.idle": "2023-08-02T05:57:08.215451Z",
     "shell.execute_reply": "2023-08-02T05:57:08.214521Z",
     "shell.execute_reply.started": "2023-08-02T05:57:08.201623Z"
    }
   },
   "outputs": [
    {
     "data": {
      "text/plain": [
       "([76, 600, 100, 3800, 38], [76, 600, 100, 3800, 38])"
      ]
     },
     "execution_count": 18,
     "metadata": {},
     "output_type": "execute_result"
    }
   ],
   "source": [
    "# Character embedding dimension\n",
    "m = 2\n",
    "# Hidden layer dimension\n",
    "h = 100\n",
    "\n",
    "# Word embedding layer\n",
    "C = torch.randn(V, m)\n",
    "\n",
    "# First hidden layer\n",
    "H = torch.randn(block_size * m, h)\n",
    "d = torch.randn(h)\n",
    "\n",
    "# Second hidden layer\n",
    "U = torch.randn(h, V)\n",
    "b = torch.randn(V)\n",
    "\n",
    "parameters = [C, H, d, U, b]\n",
    "\n",
    "[p.numel() for p in parameters], [V*m, block_size*m*h, h, h*V, V]"
   ]
  },
  {
   "cell_type": "code",
   "execution_count": 19,
   "metadata": {
    "execution": {
     "iopub.execute_input": "2023-08-02T05:57:08.217091Z",
     "iopub.status.busy": "2023-08-02T05:57:08.216714Z",
     "iopub.status.idle": "2023-08-02T05:57:08.227918Z",
     "shell.execute_reply": "2023-08-02T05:57:08.226866Z",
     "shell.execute_reply.started": "2023-08-02T05:57:08.217020Z"
    }
   },
   "outputs": [],
   "source": [
    "for p in parameters:\n",
    "    p.requires_grad = True"
   ]
  },
  {
   "cell_type": "markdown",
   "metadata": {},
   "source": [
    "Let's go through the model step by step with a small minibatch of size `B` (here 4)"
   ]
  },
  {
   "cell_type": "code",
   "execution_count": 20,
   "metadata": {
    "execution": {
     "iopub.execute_input": "2023-08-02T05:57:08.229441Z",
     "iopub.status.busy": "2023-08-02T05:57:08.229121Z",
     "iopub.status.idle": "2023-08-02T05:57:08.244293Z",
     "shell.execute_reply": "2023-08-02T05:57:08.243585Z",
     "shell.execute_reply.started": "2023-08-02T05:57:08.229408Z"
    }
   },
   "outputs": [
    {
     "data": {
      "text/plain": [
       "[0, 1, 2, 3]"
      ]
     },
     "execution_count": 20,
     "metadata": {},
     "output_type": "execute_result"
    }
   ],
   "source": [
    "batch_size = 4\n",
    "\n",
    "idx = list(range(batch_size))\n",
    "idx"
   ]
  },
  {
   "cell_type": "markdown",
   "metadata": {},
   "source": [
    "First we get the features and targets:"
   ]
  },
  {
   "cell_type": "code",
   "execution_count": 21,
   "metadata": {
    "execution": {
     "iopub.execute_input": "2023-08-02T05:57:08.245359Z",
     "iopub.status.busy": "2023-08-02T05:57:08.245056Z",
     "iopub.status.idle": "2023-08-02T05:57:08.268776Z",
     "shell.execute_reply": "2023-08-02T05:57:08.267670Z",
     "shell.execute_reply.started": "2023-08-02T05:57:08.245336Z"
    }
   },
   "outputs": [
    {
     "data": {
      "text/plain": [
       "(tensor([[ 0,  0,  0],\n",
       "         [ 0,  0, 30],\n",
       "         [ 0, 30, 27],\n",
       "         [30, 27, 23]]),\n",
       " tensor([30, 27, 23, 32]))"
      ]
     },
     "execution_count": 21,
     "metadata": {},
     "output_type": "execute_result"
    }
   ],
   "source": [
    "X[idx], y[idx]"
   ]
  },
  {
   "cell_type": "markdown",
   "metadata": {},
   "source": [
    "We use the embedding matrix to get the corresponding $B \\times n \\times m$ token embedding matrix where here `n = block_size = 3`"
   ]
  },
  {
   "cell_type": "code",
   "execution_count": 22,
   "metadata": {
    "execution": {
     "iopub.execute_input": "2023-08-02T05:57:08.273209Z",
     "iopub.status.busy": "2023-08-02T05:57:08.272893Z",
     "iopub.status.idle": "2023-08-02T05:57:08.282066Z",
     "shell.execute_reply": "2023-08-02T05:57:08.280921Z",
     "shell.execute_reply.started": "2023-08-02T05:57:08.273185Z"
    }
   },
   "outputs": [
    {
     "data": {
      "text/plain": [
       "torch.Size([4, 3, 2])"
      ]
     },
     "execution_count": 22,
     "metadata": {},
     "output_type": "execute_result"
    }
   ],
   "source": [
    "embeddings = C[X[idx]]\n",
    "embeddings.shape"
   ]
  },
  {
   "cell_type": "markdown",
   "metadata": {},
   "source": [
    "We want to then map it to a hidden layer, so we mix together the dimensions using an affine transformation.\n",
    "\n",
    "Note that using view we can consider the embeddings as a rank-2 tensor of dimension $B \\times (m \\times n)$.\n",
    "We then get output a $B \\times h$ matrix where here `h=100` is the hidden size."
   ]
  },
  {
   "cell_type": "code",
   "execution_count": 23,
   "metadata": {
    "execution": {
     "iopub.execute_input": "2023-08-02T05:57:08.284010Z",
     "iopub.status.busy": "2023-08-02T05:57:08.283534Z",
     "iopub.status.idle": "2023-08-02T05:57:08.310156Z",
     "shell.execute_reply": "2023-08-02T05:57:08.309221Z",
     "shell.execute_reply.started": "2023-08-02T05:57:08.283980Z"
    }
   },
   "outputs": [
    {
     "data": {
      "text/plain": [
       "torch.Size([4, 100])"
      ]
     },
     "execution_count": 23,
     "metadata": {},
     "output_type": "execute_result"
    }
   ],
   "source": [
    "hidden_layer = embeddings.view(batch_size, block_size * m) @ H + d\n",
    "hidden_layer.shape"
   ]
  },
  {
   "cell_type": "markdown",
   "metadata": {},
   "source": [
    "We then pass it through the `tanh` activation function, and another affine transformation to get the logits. "
   ]
  },
  {
   "cell_type": "code",
   "execution_count": 24,
   "metadata": {
    "execution": {
     "iopub.execute_input": "2023-08-02T05:57:08.311660Z",
     "iopub.status.busy": "2023-08-02T05:57:08.311208Z",
     "iopub.status.idle": "2023-08-02T05:57:08.333468Z",
     "shell.execute_reply": "2023-08-02T05:57:08.332699Z",
     "shell.execute_reply.started": "2023-08-02T05:57:08.311636Z"
    }
   },
   "outputs": [
    {
     "data": {
      "text/plain": [
       "torch.Size([4, 38])"
      ]
     },
     "execution_count": 24,
     "metadata": {},
     "output_type": "execute_result"
    }
   ],
   "source": [
    "output_logits = torch.tanh(hidden_layer) @ U + b\n",
    "output_logits.shape"
   ]
  },
  {
   "cell_type": "markdown",
   "metadata": {},
   "source": [
    "Finally performing a softmax gets the probabilities."
   ]
  },
  {
   "cell_type": "code",
   "execution_count": 25,
   "metadata": {
    "execution": {
     "iopub.execute_input": "2023-08-02T05:57:08.335651Z",
     "iopub.status.busy": "2023-08-02T05:57:08.334846Z",
     "iopub.status.idle": "2023-08-02T05:57:08.378052Z",
     "shell.execute_reply": "2023-08-02T05:57:08.376861Z",
     "shell.execute_reply.started": "2023-08-02T05:57:08.335611Z"
    }
   },
   "outputs": [
    {
     "data": {
      "text/plain": [
       "tensor([[4.7666e-01, 1.2071e-04, 1.8991e-02, 7.3004e-08, 1.1990e-08, 5.2684e-05,\n",
       "         1.3352e-05, 3.5838e-06, 3.7178e-15, 1.6968e-11, 1.4544e-09, 2.2657e-04,\n",
       "         4.4790e-10, 1.7938e-09, 4.2694e-01, 1.4668e-07, 2.2485e-05, 1.0456e-09,\n",
       "         2.1118e-03, 1.3098e-08, 1.9163e-06, 9.6630e-10, 2.3439e-04, 1.4318e-02,\n",
       "         7.5780e-03, 6.0088e-04, 1.6348e-02, 1.6981e-05, 1.0376e-05, 2.1339e-05,\n",
       "         3.0579e-02, 4.3965e-04, 4.7099e-03, 2.4874e-11, 1.2188e-10, 6.3377e-08,\n",
       "         1.1395e-10, 3.1587e-14],\n",
       "        [1.1188e-09, 1.2986e-04, 1.9391e-03, 7.5456e-09, 1.1886e-10, 6.7563e-13,\n",
       "         5.2620e-06, 6.4061e-14, 3.2493e-09, 1.7278e-06, 3.8212e-09, 2.2627e-05,\n",
       "         2.7201e-16, 3.4729e-18, 3.2816e-03, 6.6333e-11, 3.6413e-10, 9.9206e-01,\n",
       "         7.0343e-11, 2.7351e-04, 1.2310e-12, 3.1674e-11, 3.2047e-08, 2.2359e-03,\n",
       "         6.8000e-10, 3.7111e-08, 1.6103e-05, 1.5626e-08, 1.3752e-06, 1.9135e-05,\n",
       "         5.5192e-12, 2.6339e-09, 1.5040e-05, 4.9836e-07, 8.6381e-17, 3.9047e-10,\n",
       "         3.8108e-13, 5.8600e-08],\n",
       "        [4.4304e-09, 1.0459e-10, 6.1763e-08, 6.5661e-12, 1.0469e-08, 1.5785e-07,\n",
       "         3.9861e-15, 1.0475e-12, 1.3482e-14, 9.6559e-17, 1.9139e-14, 1.5562e-08,\n",
       "         6.3912e-16, 1.0933e-12, 1.3146e-07, 6.4761e-15, 6.0490e-07, 6.5004e-10,\n",
       "         1.5227e-10, 5.7100e-07, 1.9665e-03, 1.2887e-19, 2.1500e-06, 5.8651e-05,\n",
       "         6.3402e-12, 4.1957e-05, 9.9793e-01, 7.1540e-07, 5.7883e-11, 1.9960e-07,\n",
       "         8.7884e-07, 7.9620e-08, 3.1533e-10, 1.0810e-15, 1.4883e-15, 7.5102e-08,\n",
       "         1.7920e-15, 1.2474e-14],\n",
       "        [1.5047e-06, 8.9029e-05, 1.5423e-06, 1.3484e-12, 5.4582e-16, 2.9394e-09,\n",
       "         5.0550e-11, 3.4188e-13, 2.3132e-16, 1.4139e-13, 8.3162e-18, 2.3549e-10,\n",
       "         3.5227e-17, 2.5157e-13, 7.2055e-05, 1.2128e-11, 3.1486e-12, 2.8336e-09,\n",
       "         1.3514e-06, 1.2729e-11, 8.4117e-09, 1.2549e-15, 1.8163e-15, 3.9356e-05,\n",
       "         2.0303e-10, 1.2476e-10, 9.9980e-01, 6.4277e-10, 3.8363e-17, 3.2836e-16,\n",
       "         5.7412e-15, 4.6959e-11, 4.9360e-11, 4.2413e-08, 9.7805e-14, 1.9071e-15,\n",
       "         6.9937e-14, 5.2302e-10]], grad_fn=<DivBackward0>)"
      ]
     },
     "execution_count": 25,
     "metadata": {},
     "output_type": "execute_result"
    }
   ],
   "source": [
    "output_probs = output_logits.exp()\n",
    "output_probs /= output_probs.sum(axis=1, keepdim=True)\n",
    "\n",
    "output_probs"
   ]
  },
  {
   "cell_type": "markdown",
   "metadata": {},
   "source": [
    "Then we lookup the probability of the true indices."
   ]
  },
  {
   "cell_type": "code",
   "execution_count": 26,
   "metadata": {
    "execution": {
     "iopub.execute_input": "2023-08-02T05:57:08.381273Z",
     "iopub.status.busy": "2023-08-02T05:57:08.380121Z",
     "iopub.status.idle": "2023-08-02T05:57:08.387829Z",
     "shell.execute_reply": "2023-08-02T05:57:08.386956Z",
     "shell.execute_reply.started": "2023-08-02T05:57:08.381203Z"
    }
   },
   "outputs": [
    {
     "data": {
      "text/plain": [
       "tensor([30, 27, 23, 32])"
      ]
     },
     "execution_count": 26,
     "metadata": {},
     "output_type": "execute_result"
    }
   ],
   "source": [
    "y[idx]"
   ]
  },
  {
   "cell_type": "code",
   "execution_count": 27,
   "metadata": {
    "execution": {
     "iopub.execute_input": "2023-08-02T05:57:08.389827Z",
     "iopub.status.busy": "2023-08-02T05:57:08.388805Z",
     "iopub.status.idle": "2023-08-02T05:57:08.405520Z",
     "shell.execute_reply": "2023-08-02T05:57:08.404697Z",
     "shell.execute_reply.started": "2023-08-02T05:57:08.389797Z"
    }
   },
   "outputs": [
    {
     "data": {
      "text/plain": [
       "tensor([3.0579e-02, 1.5626e-08, 5.8651e-05, 4.9360e-11],\n",
       "       grad_fn=<IndexBackward0>)"
      ]
     },
     "execution_count": 27,
     "metadata": {},
     "output_type": "execute_result"
    }
   ],
   "source": [
    "pred_prob = output_probs[torch.arange(len(idx)), y[idx]]\n",
    "pred_prob"
   ]
  },
  {
   "cell_type": "markdown",
   "metadata": {},
   "source": [
    "The loss is then the mean negative log likelihood."
   ]
  },
  {
   "cell_type": "code",
   "execution_count": 28,
   "metadata": {
    "execution": {
     "iopub.execute_input": "2023-08-02T05:57:08.407492Z",
     "iopub.status.busy": "2023-08-02T05:57:08.406429Z",
     "iopub.status.idle": "2023-08-02T05:57:08.422174Z",
     "shell.execute_reply": "2023-08-02T05:57:08.421195Z",
     "shell.execute_reply.started": "2023-08-02T05:57:08.407436Z"
    }
   },
   "outputs": [
    {
     "data": {
      "text/plain": [
       "tensor(13.7344, grad_fn=<NegBackward0>)"
      ]
     },
     "execution_count": 28,
     "metadata": {},
     "output_type": "execute_result"
    }
   ],
   "source": [
    "loss = -pred_prob.log().mean()\n",
    "loss"
   ]
  },
  {
   "cell_type": "markdown",
   "metadata": {},
   "source": [
    "Though this can be done more efficiently and simply using the PyTorch's [cross_entropy](https://pytorch.org/docs/stable/generated/torch.nn.functional.cross_entropy.html) function."
   ]
  },
  {
   "cell_type": "code",
   "execution_count": 29,
   "metadata": {
    "execution": {
     "iopub.execute_input": "2023-08-02T05:57:08.424951Z",
     "iopub.status.busy": "2023-08-02T05:57:08.424158Z",
     "iopub.status.idle": "2023-08-02T05:57:08.446367Z",
     "shell.execute_reply": "2023-08-02T05:57:08.445448Z",
     "shell.execute_reply.started": "2023-08-02T05:57:08.424920Z"
    }
   },
   "outputs": [
    {
     "data": {
      "text/plain": [
       "tensor(13.7344, grad_fn=<NllLossBackward0>)"
      ]
     },
     "execution_count": 29,
     "metadata": {},
     "output_type": "execute_result"
    }
   ],
   "source": [
    "loss = F.cross_entropy(input=output_logits, target=y[idx])\n",
    "loss"
   ]
  },
  {
   "cell_type": "markdown",
   "metadata": {},
   "source": [
    "Then we can run back-propagation and make a gradient descent step."
   ]
  },
  {
   "cell_type": "code",
   "execution_count": 30,
   "metadata": {
    "execution": {
     "iopub.execute_input": "2023-08-02T05:57:08.448124Z",
     "iopub.status.busy": "2023-08-02T05:57:08.447600Z",
     "iopub.status.idle": "2023-08-02T05:57:08.467588Z",
     "shell.execute_reply": "2023-08-02T05:57:08.466899Z",
     "shell.execute_reply.started": "2023-08-02T05:57:08.448091Z"
    }
   },
   "outputs": [],
   "source": [
    "loss.backward()\n",
    "\n",
    "lr = 0.01\n",
    "\n",
    "for p in parameters:\n",
    "    p.data -= lr * p.grad"
   ]
  },
  {
   "cell_type": "markdown",
   "metadata": {},
   "source": [
    "Running it again the loss is a little lower."
   ]
  },
  {
   "cell_type": "code",
   "execution_count": 31,
   "metadata": {
    "execution": {
     "iopub.execute_input": "2023-08-02T05:57:08.469603Z",
     "iopub.status.busy": "2023-08-02T05:57:08.468748Z",
     "iopub.status.idle": "2023-08-02T05:57:08.477171Z",
     "shell.execute_reply": "2023-08-02T05:57:08.476370Z",
     "shell.execute_reply.started": "2023-08-02T05:57:08.469571Z"
    }
   },
   "outputs": [
    {
     "data": {
      "text/plain": [
       "12.559901237487793"
      ]
     },
     "execution_count": 31,
     "metadata": {},
     "output_type": "execute_result"
    }
   ],
   "source": [
    "embeddings = C[X[idx]]\n",
    "hidden_layer = embeddings.view(batch_size, block_size * m) @ H + d\n",
    "output_logits = torch.tanh(hidden_layer) @ U + b\n",
    "loss = F.cross_entropy(input=output_logits, target=y[idx])\n",
    "loss.item()"
   ]
  },
  {
   "cell_type": "markdown",
   "metadata": {},
   "source": [
    "# Training the model\n",
    "\n",
    "Let's put this all together to make it easy to experiment with different MLPs.\n",
    "\n",
    "It's worth commenting on the `norm` function; this gives the average norm of certain parameters for weight decay."
   ]
  },
  {
   "cell_type": "code",
   "execution_count": 32,
   "metadata": {
    "execution": {
     "iopub.execute_input": "2023-08-02T05:57:08.478957Z",
     "iopub.status.busy": "2023-08-02T05:57:08.478447Z",
     "iopub.status.idle": "2023-08-02T05:57:08.489753Z",
     "shell.execute_reply": "2023-08-02T05:57:08.488779Z",
     "shell.execute_reply.started": "2023-08-02T05:57:08.478930Z"
    }
   },
   "outputs": [],
   "source": [
    "class MLP:\n",
    "    def __init__(self, m=2, h=100, V=V, block_size=block_size):\n",
    "        self.m = m\n",
    "        self.h = h\n",
    "        self.V = V\n",
    "        self.block_size = block_size\n",
    "        \n",
    "        # Word embedding layer\n",
    "        self.C = torch.randn(V, m)\n",
    "\n",
    "        # First hidden layer\n",
    "        self.H = torch.randn(block_size * m, h)\n",
    "        self.d = torch.randn(h)\n",
    "\n",
    "        # Second hidden layer\n",
    "        self.U = torch.randn(h, V)\n",
    "        self.b = torch.randn(V)\n",
    "        \n",
    "    def norm(self, params=None):\n",
    "        if params is None:\n",
    "            params = [self.C, self.H, self.U]\n",
    "        return sum((p**2).sum() for p in params) / sum(p.numel() for p in params)\n",
    "        \n",
    "    def parameters(self):\n",
    "        return [self.C, self.H, self.d, self.U, self.b]\n",
    "    \n",
    "    def requires_grad_(self, requires_grad=True):\n",
    "        for p in self.parameters():\n",
    "            p.requires_grad_(requires_grad)\n",
    "        return self\n",
    "    \n",
    "    def zero_grad(self):\n",
    "        for p in self.parameters():\n",
    "            p.grad = None\n",
    "        return self\n",
    "    \n",
    "    def forward(self, X):\n",
    "        embeddings = self.C[X]\n",
    "        hidden_layer = embeddings.view(X.shape[0], self.block_size * self.m) @ self.H + self.d\n",
    "        output_logits = torch.tanh(hidden_layer) @ self.U + self.b\n",
    "        return output_logits\n",
    "    \n",
    "    def __call__(self, X):\n",
    "        return self.forward(X)"
   ]
  },
  {
   "cell_type": "markdown",
   "metadata": {},
   "source": [
    "Note that our initialisation isn't very good.\n",
    "We're getting much worse loss than a random guess."
   ]
  },
  {
   "cell_type": "code",
   "execution_count": 33,
   "metadata": {
    "execution": {
     "iopub.execute_input": "2023-08-02T05:57:08.493542Z",
     "iopub.status.busy": "2023-08-02T05:57:08.493023Z",
     "iopub.status.idle": "2023-08-02T05:57:08.916016Z",
     "shell.execute_reply": "2023-08-02T05:57:08.915324Z",
     "shell.execute_reply.started": "2023-08-02T05:57:08.493503Z"
    }
   },
   "outputs": [
    {
     "data": {
      "text/plain": [
       "(tensor(21.3535), tensor(3.6376), tensor(3.6376))"
      ]
     },
     "execution_count": 33,
     "metadata": {},
     "output_type": "execute_result"
    }
   ],
   "source": [
    "F.cross_entropy(input=MLP(20, 100)(X), target=y), -torch.log(torch.tensor(1/V)), F.cross_entropy(input=torch.ones(len(y), V) / V, target=y)"
   ]
  },
  {
   "cell_type": "markdown",
   "metadata": {},
   "source": [
    "The MLP can be trained with a basic training loop that returns the losses at each step, and the validation losses at several steps (it's too expensive to calculate *every* step)."
   ]
  },
  {
   "cell_type": "code",
   "execution_count": 34,
   "metadata": {
    "execution": {
     "iopub.execute_input": "2023-08-02T05:57:08.917629Z",
     "iopub.status.busy": "2023-08-02T05:57:08.917173Z",
     "iopub.status.idle": "2023-08-02T05:57:08.923374Z",
     "shell.execute_reply": "2023-08-02T05:57:08.922779Z",
     "shell.execute_reply.started": "2023-08-02T05:57:08.917604Z"
    }
   },
   "outputs": [],
   "source": [
    "def train(model, n_step, lr, wd=0.0, batch_size=32, val_step=100, X=X, y=y, X_val=X_val, y_val=y_val):\n",
    "    losses, val_losses = [], []\n",
    "    \n",
    "    for step in trange(n_step):\n",
    "        idx = torch.randint(0, len(X), (batch_size,))\n",
    "    \n",
    "        model.zero_grad()\n",
    "        logits = model(X[idx])\n",
    "        loss =  F.cross_entropy(input=logits, target=y[idx]) - wd * mlp.norm()\n",
    "        losses.append((step, loss.item()))\n",
    "        loss.backward()\n",
    "        \n",
    "        for p in model.parameters():\n",
    "            p.data -= p.grad * lr(step, n_step)\n",
    "        \n",
    "        if step % val_step == 0:\n",
    "            val_loss = F.cross_entropy(model(X_val), y_val).item()\n",
    "            val_losses.append((step, val_loss))\n",
    "            \n",
    "    return losses, val_losses\n"
   ]
  },
  {
   "cell_type": "markdown",
   "metadata": {},
   "source": [
    "To make sure this works let's take a small slice of the dataset with no weight decay and make sure it's overfitting with a large number of parameters.\n",
    "\n",
    "The final loss is quite small."
   ]
  },
  {
   "cell_type": "code",
   "execution_count": 35,
   "metadata": {
    "execution": {
     "iopub.execute_input": "2023-08-02T05:57:08.924757Z",
     "iopub.status.busy": "2023-08-02T05:57:08.924371Z",
     "iopub.status.idle": "2023-08-02T05:57:22.516222Z",
     "shell.execute_reply": "2023-08-02T05:57:22.515578Z",
     "shell.execute_reply.started": "2023-08-02T05:57:08.924735Z"
    }
   },
   "outputs": [
    {
     "data": {
      "application/vnd.jupyter.widget-view+json": {
       "model_id": "99edca9f3bd249c5816961d14e8f10ad",
       "version_major": 2,
       "version_minor": 0
      },
      "text/plain": [
       "  0%|          | 0/10000 [00:00<?, ?it/s]"
      ]
     },
     "metadata": {},
     "output_type": "display_data"
    },
    {
     "data": {
      "text/plain": [
       "(0.338957816362381, 20.37681770324707)"
      ]
     },
     "execution_count": 35,
     "metadata": {},
     "output_type": "execute_result"
    },
    {
     "data": {
      "image/png": "[encoded data removed]",
      "text/plain": [
       "<Figure size 640x480 with 1 Axes>"
      ]
     },
     "metadata": {},
     "output_type": "display_data"
    }
   ],
   "source": [
    "mlp = MLP(30, 200).requires_grad_()\n",
    "\n",
    "limit = 200\n",
    "\n",
    "losses, val_losses = train(mlp, 10_000, lr=lambda _step, _n_step: 0.1, X=X[:limit], y=y[:limit])\n",
    "\n",
    "plt.plot(*zip(*losses))\n",
    "\n",
    "plt.yscale('log')\n",
    "\n",
    "F.cross_entropy(mlp(X[:limit]), y[:limit]).item(), F.cross_entropy(mlp(X_val), y_val).item()"
   ]
  },
  {
   "cell_type": "markdown",
   "metadata": {},
   "source": [
    "Look at the underlying data"
   ]
  },
  {
   "cell_type": "code",
   "execution_count": 36,
   "metadata": {
    "execution": {
     "iopub.execute_input": "2023-08-02T05:57:22.518126Z",
     "iopub.status.busy": "2023-08-02T05:57:22.517129Z",
     "iopub.status.idle": "2023-08-02T05:57:22.525077Z",
     "shell.execute_reply": "2023-08-02T05:57:22.523746Z",
     "shell.execute_reply.started": "2023-08-02T05:57:22.518102Z"
    }
   },
   "outputs": [
    {
     "name": "stdout",
     "output_type": "stream",
     "text": [
      "splunk\n",
      "thenwa\n",
      "soylent\n",
      "factorio\n",
      "christinaricci\n",
      "blues\n",
      "vegancheesemaking\n",
      "goldredditsays\n",
      "reformed\n",
      "nagoya\n",
      "accidentalcosplay\n",
      "tearsofthekingdom\n",
      "jameswebb\n",
      "blazblue\n",
      "emilyatack\n",
      "infjmemes\n",
      "sarahstephens\n",
      "bengalila\n"
     ]
    }
   ],
   "source": [
    "training_data = ''.join([i2s[a] for a in y[:limit]]).split('.')\n",
    "for d in training_data:\n",
    "    print(d)"
   ]
  },
  {
   "cell_type": "markdown",
   "metadata": {},
   "source": [
    "Random samples are almost entirely from that data"
   ]
  },
  {
   "cell_type": "code",
   "execution_count": 37,
   "metadata": {
    "execution": {
     "iopub.execute_input": "2023-08-02T05:57:22.527599Z",
     "iopub.status.busy": "2023-08-02T05:57:22.527260Z",
     "iopub.status.idle": "2023-08-02T05:57:22.600503Z",
     "shell.execute_reply": "2023-08-02T05:57:22.599580Z",
     "shell.execute_reply.started": "2023-08-02T05:57:22.527571Z"
    }
   },
   "outputs": [
    {
     "name": "stdout",
     "output_type": "stream",
     "text": [
      "accident\n",
      "accident\n",
      "accidentalcosplay\n",
      "bengalilaro9y8_5g6\n",
      "bengalilaro9yrjecdc\n",
      "bengalilaro9yrjecdclwenin4ozyylentalcosplunk\n",
      "bengalilaro9yrjecdcqt1e4e1\n",
      "bengalilaroljsemakingdom\n",
      "blues\n",
      "blues\n",
      "christinaricci\n",
      "christinaricci\n",
      "christinariccident\n",
      "factorio\n",
      "james\n",
      "james\n",
      "sarahstephens\n",
      "splay\n",
      "tearsoftheking\n",
      "thens\n"
     ]
    }
   ],
   "source": [
    "def sample(mlp, pad_idx=PAD_IDX, block_size=block_size, i2s=i2s, generator=None):\n",
    "    ans = []\n",
    "    state = torch.tensor([[pad_idx] * block_size])\n",
    "    while True:\n",
    "        probs = mlp(state).softmax(axis=1)\n",
    "        next_idx = torch.multinomial(mlp(state).softmax(axis=1), 1, generator=generator)\n",
    "        state = torch.concat([state, next_idx], axis=1)[:,1:]\n",
    "        \n",
    "        next_idx = next_idx[0,0].item()\n",
    "        if next_idx == pad_idx:\n",
    "            return ''.join(ans)\n",
    "        ans.append(i2s[next_idx])\n",
    "\n",
    "g = torch.Generator().manual_seed(241738025913704212)\n",
    "samples = [sample(mlp, generator=g) for _ in range(20)]\n",
    "for s in sorted(samples):\n",
    "    print(s)"
   ]
  },
  {
   "cell_type": "markdown",
   "metadata": {},
   "source": [
    "In fact most of the quadruplets are from the training data, as you would expect in an overfit model."
   ]
  },
  {
   "cell_type": "code",
   "execution_count": 38,
   "metadata": {
    "execution": {
     "iopub.execute_input": "2023-08-02T05:57:22.602751Z",
     "iopub.status.busy": "2023-08-02T05:57:22.601652Z",
     "iopub.status.idle": "2023-08-02T05:57:22.612096Z",
     "shell.execute_reply": "2023-08-02T05:57:22.611264Z",
     "shell.execute_reply.started": "2023-08-02T05:57:22.602705Z"
    }
   },
   "outputs": [
    {
     "data": {
      "text/plain": [
       "'76.61%'"
      ]
     },
     "execution_count": 38,
     "metadata": {},
     "output_type": "execute_result"
    }
   ],
   "source": [
    "chars = []\n",
    "for d in training_data:\n",
    "    padded_tokens = '.' * block_size + d + '.'\n",
    "    chars += list(map(''.join, zip(*[padded_tokens[i:] for i in range(block_size+1)])))\n",
    "    \n",
    "sample_chars = []\n",
    "for d in samples:\n",
    "    padded_tokens = '.' * block_size + d + '.'\n",
    "    sample_chars += list(map(''.join, zip(*[padded_tokens[i:] for i in range(block_size+1)])))\n",
    "                  \n",
    "f'{sum(s in chars for s in sample_chars) / len(sample_chars):0.2%}'"
   ]
  },
  {
   "cell_type": "markdown",
   "metadata": {},
   "source": [
    "Let's now train a small model; unlike Bengio we don't need to worry about parallelism - it runs fast enough on a CPU.\n",
    "\n",
    "This small MLP is competitive with the bigram model that got a loss of 2.73."
   ]
  },
  {
   "cell_type": "code",
   "execution_count": 39,
   "metadata": {
    "execution": {
     "iopub.execute_input": "2023-08-02T05:57:22.614189Z",
     "iopub.status.busy": "2023-08-02T05:57:22.613218Z",
     "iopub.status.idle": "2023-08-02T05:58:21.122568Z",
     "shell.execute_reply": "2023-08-02T05:58:21.120693Z",
     "shell.execute_reply.started": "2023-08-02T05:57:22.614148Z"
    }
   },
   "outputs": [
    {
     "data": {
      "application/vnd.jupyter.widget-view+json": {
       "model_id": "970599b7033747828f44950da8368315",
       "version_major": 2,
       "version_minor": 0
      },
      "text/plain": [
       "  0%|          | 0/100000 [00:00<?, ?it/s]"
      ]
     },
     "metadata": {},
     "output_type": "display_data"
    },
    {
     "data": {
      "text/plain": [
       "2.7286570072174072"
      ]
     },
     "execution_count": 39,
     "metadata": {},
     "output_type": "execute_result"
    },
    {
     "data": {
      "image/png": "[encoded data removed]",
      "text/plain": [
       "<Figure size 640x480 with 1 Axes>"
      ]
     },
     "metadata": {},
     "output_type": "display_data"
    }
   ],
   "source": [
    "mlp = MLP(2, 10).requires_grad_()\n",
    "\n",
    "losses, val_losses = train(mlp, 100_000, lambda _step, _n_step: 0.1)\n",
    "\n",
    "plt.plot(*zip(*losses))\n",
    "plt.plot(*zip(*val_losses))\n",
    "\n",
    "plt.yscale('log')\n",
    "F.cross_entropy(mlp(X_val), y_val).item()"
   ]
  },
  {
   "cell_type": "markdown",
   "metadata": {},
   "source": [
    "Note that it only has a fraction of the parameters of the bigram model"
   ]
  },
  {
   "cell_type": "code",
   "execution_count": 40,
   "metadata": {
    "execution": {
     "iopub.execute_input": "2023-08-02T05:58:21.124542Z",
     "iopub.status.busy": "2023-08-02T05:58:21.124195Z",
     "iopub.status.idle": "2023-08-02T05:58:21.132084Z",
     "shell.execute_reply": "2023-08-02T05:58:21.131062Z",
     "shell.execute_reply.started": "2023-08-02T05:58:21.124510Z"
    }
   },
   "outputs": [
    {
     "data": {
      "text/plain": [
       "'7.06% of the parameters of the bigram model'"
      ]
     },
     "execution_count": 40,
     "metadata": {},
     "output_type": "execute_result"
    }
   ],
   "source": [
    "f'{sum([len(p) for p in mlp.parameters()]) / (V*V):0.2%} of the parameters of the bigram model'"
   ]
  },
  {
   "cell_type": "markdown",
   "metadata": {},
   "source": [
    "Because we chose a 2 dimensional embedding we can plot the characters.\n",
    "\n",
    "There are some features that make sense:\n",
    "\n",
    "* The vowels are in a cluster together\n",
    "* The numbers form clusters"
   ]
  },
  {
   "cell_type": "code",
   "execution_count": 41,
   "metadata": {
    "execution": {
     "iopub.execute_input": "2023-08-02T05:58:21.133696Z",
     "iopub.status.busy": "2023-08-02T05:58:21.133385Z",
     "iopub.status.idle": "2023-08-02T05:58:21.484747Z",
     "shell.execute_reply": "2023-08-02T05:58:21.483542Z",
     "shell.execute_reply.started": "2023-08-02T05:58:21.133669Z"
    }
   },
   "outputs": [
    {
     "data": {
      "image/png": "[encoded data removed]",
      "text/plain": [
       "<Figure size 640x480 with 1 Axes>"
      ]
     },
     "metadata": {},
     "output_type": "display_data"
    }
   ],
   "source": [
    "emb = mlp.C.detach()\n",
    "\n",
    "fig, ax = plt.subplots()\n",
    "ax.scatter(*zip(*emb), s=200)\n",
    "\n",
    "for i, txt in enumerate(i2s):\n",
    "    ax.annotate(txt, emb[i], horizontalalignment='center', verticalalignment='center', color='white')"
   ]
  },
  {
   "cell_type": "markdown",
   "metadata": {},
   "source": [
    "We can sample from this model; it's a little English-y but mostly noise."
   ]
  },
  {
   "cell_type": "code",
   "execution_count": 42,
   "metadata": {
    "execution": {
     "iopub.execute_input": "2023-08-02T05:58:21.486451Z",
     "iopub.status.busy": "2023-08-02T05:58:21.486100Z",
     "iopub.status.idle": "2023-08-02T05:58:21.539841Z",
     "shell.execute_reply": "2023-08-02T05:58:21.538273Z",
     "shell.execute_reply.started": "2023-08-02T05:58:21.486424Z"
    }
   },
   "outputs": [
    {
     "name": "stdout",
     "output_type": "stream",
     "text": [
      "aulaxbunale\n",
      "nomawkby\n",
      "chirlarhanosedescus\n",
      "icles\n",
      "ylorfruth\n",
      "gakicsty\n",
      "tinarcicy\n",
      "xhamgecrusklabkios\n",
      "nantyel\n",
      "rodcox\n",
      "spare\n",
      "perwarapu\n",
      "actesamil\n",
      "8agan\n",
      "akinzimedht\n",
      "artnindams\n",
      "bolp\n",
      "p_na_wfizeycorfedpeplyirgarkmeyekbelipamubitwera\n",
      "btspchupcilra\n",
      "raramis\n"
     ]
    }
   ],
   "source": [
    "g = torch.Generator().manual_seed(241738025913704212)\n",
    "for _ in range(20):\n",
    "    print(sample(mlp, generator=g))"
   ]
  },
  {
   "cell_type": "markdown",
   "metadata": {},
   "source": [
    "We could also scale up to a larger model.\n",
    "\n",
    "We can increase the learning rate exponentially to find a good learning rate.\n",
    "Here 0.1 is reasonable because we want somewhere before the loss starts to diverge."
   ]
  },
  {
   "cell_type": "code",
   "execution_count": 43,
   "metadata": {
    "execution": {
     "iopub.execute_input": "2023-08-02T05:58:21.542623Z",
     "iopub.status.busy": "2023-08-02T05:58:21.542332Z",
     "iopub.status.idle": "2023-08-02T05:58:23.318770Z",
     "shell.execute_reply": "2023-08-02T05:58:23.317926Z",
     "shell.execute_reply.started": "2023-08-02T05:58:21.542602Z"
    }
   },
   "outputs": [
    {
     "data": {
      "application/vnd.jupyter.widget-view+json": {
       "model_id": "8487713ed35c4eea8e1b6af2df4ffc8f",
       "version_major": 2,
       "version_minor": 0
      },
      "text/plain": [
       "  0%|          | 0/1000 [00:00<?, ?it/s]"
      ]
     },
     "metadata": {},
     "output_type": "display_data"
    },
    {
     "data": {
      "image/png": "[encoded data removed]",
      "text/plain": [
       "<Figure size 640x480 with 1 Axes>"
      ]
     },
     "metadata": {},
     "output_type": "display_data"
    }
   ],
   "source": [
    "def lr_finder(step, N_step):\n",
    "    return 10**(-5+ 8*step/N_step)\n",
    "\n",
    "mlp = MLP(30, 200).requires_grad_()\n",
    "\n",
    "losses, val_losses = train(mlp, 1000, lr_finder) \n",
    "\n",
    "plt.plot([lr_finder(l[0], 1000) for l in losses], [l[1] for l in losses])\n",
    "plt.ylim((1, 10**5))\n",
    "plt.yscale('log')\n",
    "plt.xscale('log')"
   ]
  },
  {
   "cell_type": "markdown",
   "metadata": {},
   "source": [
    "We can then train it and get an even better result."
   ]
  },
  {
   "cell_type": "code",
   "execution_count": 44,
   "metadata": {
    "execution": {
     "iopub.execute_input": "2023-08-02T05:58:23.320648Z",
     "iopub.status.busy": "2023-08-02T05:58:23.319697Z",
     "iopub.status.idle": "2023-08-02T06:00:33.671555Z",
     "shell.execute_reply": "2023-08-02T06:00:33.670280Z",
     "shell.execute_reply.started": "2023-08-02T05:58:23.320618Z"
    }
   },
   "outputs": [
    {
     "data": {
      "application/vnd.jupyter.widget-view+json": {
       "model_id": "0b22e940593e4d7c9dfa7d354c158b1f",
       "version_major": 2,
       "version_minor": 0
      },
      "text/plain": [
       "  0%|          | 0/100000 [00:00<?, ?it/s]"
      ]
     },
     "metadata": {},
     "output_type": "display_data"
    },
    {
     "data": {
      "text/plain": [
       "2.568157196044922"
      ]
     },
     "execution_count": 44,
     "metadata": {},
     "output_type": "execute_result"
    },
    {
     "data": {
      "image/png": "[encoded data removed]",
      "text/plain": [
       "<Figure size 640x480 with 1 Axes>"
      ]
     },
     "metadata": {},
     "output_type": "display_data"
    }
   ],
   "source": [
    "mlp = MLP(30, 200).requires_grad_()\n",
    "\n",
    "losses, val_losses = train(mlp, 100_000, lambda _step, _n_step: 0.1)\n",
    "\n",
    "plt.plot(*zip(*losses))\n",
    "plt.plot(*zip(*val_losses))\n",
    "\n",
    "plt.yscale('log')\n",
    "F.cross_entropy(mlp(X_val), y_val).item()"
   ]
  },
  {
   "cell_type": "markdown",
   "metadata": {},
   "source": [
    "The results are still not great but there are little pieces of real words in some of them."
   ]
  },
  {
   "cell_type": "code",
   "execution_count": 45,
   "metadata": {
    "execution": {
     "iopub.execute_input": "2023-08-02T06:00:33.673423Z",
     "iopub.status.busy": "2023-08-02T06:00:33.673076Z",
     "iopub.status.idle": "2023-08-02T06:00:33.722529Z",
     "shell.execute_reply": "2023-08-02T06:00:33.721636Z",
     "shell.execute_reply.started": "2023-08-02T06:00:33.673394Z"
    }
   },
   "outputs": [
    {
     "name": "stdout",
     "output_type": "stream",
     "text": [
      "ancanburgee\n",
      "nimag\n",
      "bybost\n",
      "carencosleencus\n",
      "inles\n",
      "natsfrush\n",
      "gatics\n",
      "yatinarching\n",
      "games\n",
      "ruskncheroa\n",
      "nahenews\n",
      "fucofba\n",
      "fates\n",
      "awthaposactionmistragan\n",
      "akingifwatt\n",
      "artugn\n",
      "ami\n",
      "battor_namainternerfaipermains\n",
      "famentibelgpamatiowar\n",
      "antspching\n"
     ]
    }
   ],
   "source": [
    "g = torch.Generator().manual_seed(241738025913704212)\n",
    "for _ in range(20):\n",
    "    print(sample(mlp, generator=g))"
   ]
  },
  {
   "cell_type": "markdown",
   "metadata": {},
   "source": [
    "# What next?\n",
    "\n",
    "This showed that even these small tri-gram MLPs can beat the bigram model.\n",
    "However the bigram model was easy to optimise (by counting!) wheras these models are a lot trickier.\n",
    "I don't know whether the models trained here are close to the global optimum, and I would like to understand this in more detail."
   ]
  }
 ],
 "metadata": {
  "kernelspec": {
   "display_name": "Python 3 (ipykernel)",
   "language": "python",
   "name": "python3"
  },
  "language_info": {
   "codemirror_mode": {
    "name": "ipython",
    "version": 3
   },
   "file_extension": ".py",
   "mimetype": "text/x-python",
   "name": "python",
   "nbconvert_exporter": "python",
   "pygments_lexer": "ipython3",
   "version": "3.11.4"
  }
 },
 "nbformat": 4,
 "nbformat_minor": 4
}
