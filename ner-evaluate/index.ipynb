{
 "cells": [
  {
   "cell_type": "raw",
   "id": "622f0834",
   "metadata": {},
   "source": [
    "---\n",
    "categories:\n",
    "  - nlp\n",
    "  - hnbooks\n",
    "  - ner\n",
    "date: '2023-01-16T20:40:53+10:00'\n",
    "image: entities_example.png\n",
    "title: How not to Evaluate NER Systems\n",
    "---"
   ]
  },
  {
   "cell_type": "markdown",
   "id": "65d2ab71",
   "metadata": {},
   "source": [
    "A typical way to evaluate NER (Named Entity Recognition) Systems is to look at the F1 score, however this is a bad idea as stated in Chris Manning's 2006 blog post [Doing Named Entity Recognition? Don't optimize for F1](https://nlpers.blogspot.de/2006/08/doing-named-entity-recognition-dont.html).\n",
    "F1 score will penalise a partial match twice (once as a false negative and once as a false positive), but in many cases a partial match is a better result and may make the overall system the NER model is a part of better.\n",
    "\n",
    "I've been building a system for showing book mentions in HackerNews posts.\n",
    "The core idea is to count all the mentions of books and show the posts that mention them.\n",
    "This requires finding the books (via the NER system), linking them to a knowledge base (such as [Open Library](https://openlibrary.org)) and then aggregating them.\n",
    "The NER system doesn't need to be perfect; some false negatives are acceptable, and some false positives may not be able to be linked.\n",
    "\n",
    "This article will look at some example data from this project and demonstrate why the F1 score isn't ideal, and explore some alternatives.\n",
    "\n",
    "## The data\n",
    "\n",
    "The data I'm using is a set of manually annotated HackerNews posts (to find out more about the methodology look at [my other posts on this](https://skeptric.com/#category=hnbooks) or [the code](https://github.com/EdwardJRoss/bookfinder)) with annotations of all `PERSON` (the name of a person) or `WORK_OF_ART` (the name of a book, album, artwork, movie, etc.)."
   ]
  },
  {
   "cell_type": "code",
   "execution_count": 1,
   "id": "d38973e4",
   "metadata": {},
   "outputs": [],
   "source": [
    "#| echo: false\n",
    "\n",
    "import requests\n",
    "import json\n",
    "\n",
    "source_data_url = 'https://raw.githubusercontent.com/EdwardJRoss/bookfinder/11d3dfc5a71a49e5271c9330173bf033a60fba6c/data/00_annotations/04_book_ner/hnbook_ner_confirmed.jsonl'\n",
    "\n",
    "response = requests.get(source_data_url)\n",
    "assert response.ok\n",
    "data = [{k:v for k,v in json.loads(line).items() if not k.startswith('_')} for line in response.content.decode('utf-8').split('\\n') if line]"
   ]
  },
  {
   "cell_type": "markdown",
   "id": "0986dd91",
   "metadata": {},
   "source": [
    "These were annotated with [Prodigy](https://prodi.gy/) and then exported to [this JSON lines file](https://raw.githubusercontent.com/EdwardJRoss/bookfinder/11d3dfc5a71a49e5271c9330173bf033a60fba6c/data/00_annotations/04_book_ner/hnbook_ner_confirmed.jsonl):\n",
    "\n",
    "* the `text` is cleaned text of the post (e.g. removing HTML tags)\n",
    "* `meta.id` is the HackerNews comment id (you can view the original using the link `https://news.ycombinator.com/item?id={meta.id}`\n",
    "* The `tokens` are the Spacy tokens from the Prodigy annotation usign the English tokenizer\n",
    "* the `spans` contain the annotations\n",
    "  * `token_start`, `token_end`: Specify the span range in terms of tokens (inclusive)\n",
    "  * `start`, `end`: Specify the span range in terms of characters\n",
    "  * `text` is the plain text of the span\n",
    "  * `label` is the Category label\n",
    "  * `source` indicates where the label came from; I [corrected](https://prodi.gy/docs/recipes/#ner-correct) labels from `en_core_web_trf` and this indicates this particular label came from that model\n",
    "* `answer`: Should be `accept` if the example is correct"
   ]
  },
  {
   "cell_type": "code",
   "execution_count": 2,
   "id": "c0cbbb12",
   "metadata": {},
   "outputs": [
    {
     "data": {
      "text/plain": [
       "{'text': 'Second this, Becoming Steve Jobs is the superior book.',\n",
       " 'meta': {'id': 29022116},\n",
       " 'tokens': [{'text': 'Second', 'start': 0, 'end': 6, 'id': 0, 'ws': True},\n",
       "  {'text': 'this', 'start': 7, 'end': 11, 'id': 1, 'ws': False},\n",
       "  {'text': ',', 'start': 11, 'end': 12, 'id': 2, 'ws': True},\n",
       "  {'text': 'Becoming', 'start': 13, 'end': 21, 'id': 3, 'ws': True},\n",
       "  {'text': 'Steve', 'start': 22, 'end': 27, 'id': 4, 'ws': True},\n",
       "  {'text': 'Jobs', 'start': 28, 'end': 32, 'id': 5, 'ws': True},\n",
       "  {'text': 'is', 'start': 33, 'end': 35, 'id': 6, 'ws': True},\n",
       "  {'text': 'the', 'start': 36, 'end': 39, 'id': 7, 'ws': True},\n",
       "  {'text': 'superior', 'start': 40, 'end': 48, 'id': 8, 'ws': True},\n",
       "  {'text': 'book', 'start': 49, 'end': 53, 'id': 9, 'ws': False},\n",
       "  {'text': '.', 'start': 53, 'end': 54, 'id': 10, 'ws': True}],\n",
       " 'spans': [{'token_start': 3,\n",
       "   'token_end': 5,\n",
       "   'start': 13,\n",
       "   'end': 32,\n",
       "   'text': 'Becoming Steve Jobs',\n",
       "   'label': 'WORK_OF_ART',\n",
       "   'source': 'en_core_web_trf',\n",
       "   'input_hash': 1983767390}],\n",
       " 'answer': 'accept'}"
      ]
     },
     "execution_count": 2,
     "metadata": {},
     "output_type": "execute_result"
    }
   ],
   "source": [
    "data[0]"
   ]
  },
  {
   "cell_type": "markdown",
   "id": "4cafc24a",
   "metadata": {},
   "source": [
    "Most answers were `accept`ed, some were `reject`ed due to bad tokenization making it impossible to annotate. Some edge cases were `ignore`d."
   ]
  },
  {
   "cell_type": "code",
   "execution_count": 3,
   "id": "bfad7d11",
   "metadata": {},
   "outputs": [
    {
     "data": {
      "text/plain": [
       "Counter({'accept': 305, 'reject': 12, 'ignore': 8})"
      ]
     },
     "execution_count": 3,
     "metadata": {},
     "output_type": "execute_result"
    }
   ],
   "source": [
    "from collections import Counter\n",
    "\n",
    "Counter(d['answer'] for d in data)"
   ]
  },
  {
   "cell_type": "markdown",
   "id": "ca8d9c84",
   "metadata": {},
   "source": [
    "Filter only to accepted data"
   ]
  },
  {
   "cell_type": "code",
   "execution_count": 4,
   "id": "8ac9c62a",
   "metadata": {},
   "outputs": [],
   "source": [
    "data = [d for d in data if d['answer'] == 'accept']"
   ]
  },
  {
   "cell_type": "markdown",
   "id": "a1c61125",
   "metadata": {},
   "source": [
    "## Making predictions with SpaCy\n",
    "\n",
    "The SpaCy `en_core_web_trf` model provides a good baseline, let's make the predictions with this model to score against the ground truth annotations.\n",
    "\n",
    "Use the GPU when it's available to speed things up."
   ]
  },
  {
   "cell_type": "code",
   "execution_count": 5,
   "id": "d9df55f7",
   "metadata": {},
   "outputs": [
    {
     "data": {
      "text/plain": [
       "True"
      ]
     },
     "execution_count": 5,
     "metadata": {},
     "output_type": "execute_result"
    }
   ],
   "source": [
    "import spacy\n",
    "from spacy.tokens import Doc, Span\n",
    "\n",
    "spacy.prefer_gpu()"
   ]
  },
  {
   "cell_type": "markdown",
   "id": "d0c1b863",
   "metadata": {},
   "source": [
    "Convert every annotation into a SpaCy `Doc` to make predictions on.\n",
    "\n",
    "This is straightforward but we need to be careful with the fact the Prodigy span ends are inclusive, but the SpaCy `Span`s exclude the end."
   ]
  },
  {
   "cell_type": "code",
   "execution_count": 6,
   "id": "5458aa8b",
   "metadata": {},
   "outputs": [],
   "source": [
    "def annotation_to_doc(vocab, annotation, set_ents=True):\n",
    "    doc = Doc(\n",
    "        vocab=vocab,\n",
    "        words=[token['text'] for token in annotation['tokens']],\n",
    "        spaces=[token['ws'] for token in annotation['tokens']]\n",
    "    )\n",
    "    \n",
    "    spans = [Span(doc=doc,\n",
    "                  start=span['token_start'],\n",
    "                  # N.B. Off by one due to Prodigy including the end but SpaCy excluding it\n",
    "                  end=span['token_end'] + 1, \n",
    "                  label=span['label'])\n",
    "             for span in annotation['spans']]\n",
    "    \n",
    "    if set_ents:\n",
    "        doc.set_ents(spans)\n",
    "    \n",
    "    return doc"
   ]
  },
  {
   "cell_type": "markdown",
   "id": "20513bc2",
   "metadata": {},
   "source": [
    "Use `en_core_web_trf`, an English Transformer model that has `PERSON`, `WORK_OF_ART` and many other named entities."
   ]
  },
  {
   "cell_type": "code",
   "execution_count": 7,
   "id": "52d89c5c",
   "metadata": {},
   "outputs": [],
   "source": [
    "nlp = spacy.load('en_core_web_trf')"
   ]
  },
  {
   "cell_type": "markdown",
   "id": "14fc0e3d",
   "metadata": {},
   "source": [
    "Convert all the docs"
   ]
  },
  {
   "cell_type": "code",
   "execution_count": 8,
   "id": "367b27f0",
   "metadata": {},
   "outputs": [
    {
     "data": {
      "text/plain": [
       "305"
      ]
     },
     "execution_count": 8,
     "metadata": {},
     "output_type": "execute_result"
    }
   ],
   "source": [
    "docs = [annotation_to_doc(nlp.vocab, d) for d in data]\n",
    "len(docs)"
   ]
  },
  {
   "cell_type": "markdown",
   "id": "c5d081a9",
   "metadata": {},
   "source": [
    "An example annotated document."
   ]
  },
  {
   "cell_type": "code",
   "execution_count": 9,
   "id": "1c33cf16",
   "metadata": {},
   "outputs": [
    {
     "data": {
      "text/html": [
       "<span class=\"tex2jax_ignore\"><div class=\"entities\" style=\"line-height: 2.5; direction: ltr\">Second this, \n",
       "<mark class=\"entity\" style=\"background: #f0d0ff; padding: 0.45em 0.6em; margin: 0 0.25em; line-height: 1; border-radius: 0.35em;\">\n",
       "    Becoming Steve Jobs\n",
       "    <span style=\"font-size: 0.8em; font-weight: bold; line-height: 1; border-radius: 0.35em; vertical-align: middle; margin-left: 0.5rem\">WORK_OF_ART</span>\n",
       "</mark>\n",
       " is the superior book. </div></span>"
      ],
      "text/plain": [
       "<IPython.core.display.HTML object>"
      ]
     },
     "metadata": {},
     "output_type": "display_data"
    }
   ],
   "source": [
    "from spacy import displacy\n",
    "\n",
    "displacy.render(docs[0], style='ent')"
   ]
  },
  {
   "cell_type": "markdown",
   "id": "b04aa6b8",
   "metadata": {},
   "source": [
    "Run these through the SpaCy model to make our predictions."
   ]
  },
  {
   "cell_type": "code",
   "execution_count": 10,
   "id": "adca8e9a",
   "metadata": {},
   "outputs": [
    {
     "name": "stdout",
     "output_type": "stream",
     "text": [
      "CPU times: user 3.76 s, sys: 116 ms, total: 3.88 s\n",
      "Wall time: 3.94 s\n"
     ]
    }
   ],
   "source": [
    "%%time\n",
    "preds = list(nlp.pipe(annotation_to_doc(nlp.vocab, d, set_ents=False) for d in data))"
   ]
  },
  {
   "cell_type": "markdown",
   "id": "824dcb6d",
   "metadata": {},
   "source": [
    "An example prediction; it got the Work of Art and an additional ORDINAL."
   ]
  },
  {
   "cell_type": "code",
   "execution_count": 11,
   "id": "e59506ed",
   "metadata": {},
   "outputs": [
    {
     "data": {
      "text/html": [
       "<span class=\"tex2jax_ignore\"><div class=\"entities\" style=\"line-height: 2.5; direction: ltr\">\n",
       "<mark class=\"entity\" style=\"background: #e4e7d2; padding: 0.45em 0.6em; margin: 0 0.25em; line-height: 1; border-radius: 0.35em;\">\n",
       "    Second\n",
       "    <span style=\"font-size: 0.8em; font-weight: bold; line-height: 1; border-radius: 0.35em; vertical-align: middle; margin-left: 0.5rem\">ORDINAL</span>\n",
       "</mark>\n",
       " this, \n",
       "<mark class=\"entity\" style=\"background: #f0d0ff; padding: 0.45em 0.6em; margin: 0 0.25em; line-height: 1; border-radius: 0.35em;\">\n",
       "    Becoming Steve Jobs\n",
       "    <span style=\"font-size: 0.8em; font-weight: bold; line-height: 1; border-radius: 0.35em; vertical-align: middle; margin-left: 0.5rem\">WORK_OF_ART</span>\n",
       "</mark>\n",
       " is the superior book. </div></span>"
      ],
      "text/plain": [
       "<IPython.core.display.HTML object>"
      ]
     },
     "metadata": {},
     "output_type": "display_data"
    }
   ],
   "source": [
    "displacy.render(preds[0], style='ent')"
   ]
  },
  {
   "cell_type": "markdown",
   "id": "2f93c652",
   "metadata": {},
   "source": [
    "# Getting BILOU tags\n",
    "\n",
    "For evaluating NER the tags generally need to be in some standard form like [Inside-Outside-Beginning (IOB)](https://en.wikipedia.org/wiki/Inside%E2%80%93outside%E2%80%93beginning_%28tagging%29) (also known as BIO).\n",
    "\n",
    "\n",
    "\n",
    "This function will convert them to the equivalent use Beginning-Inside-Last-Outside-Unit (BILOU or [equivalently IOBES or BMEWO](https://stackoverflow.com/a/47769476)) because SpaCy has a handy function to do it."
   ]
  },
  {
   "cell_type": "code",
   "execution_count": 12,
   "id": "edf3a266",
   "metadata": {},
   "outputs": [],
   "source": [
    "from spacy.training import offsets_to_biluo_tags\n",
    "def get_biluo(doc, include_labels=None):\n",
    "    if include_labels is None:\n",
    "        include_labels = [ent.label_ for ent in doc.ents]\n",
    "        \n",
    "    return offsets_to_biluo_tags(doc,\n",
    "                                 [(ent.start_char, ent.end_char, ent.label_) for ent in doc.ents if ent.label_ in include_labels])"
   ]
  },
  {
   "cell_type": "markdown",
   "id": "a9554eee",
   "metadata": {},
   "source": [
    "Filter to the entities of interest in the annotation."
   ]
  },
  {
   "cell_type": "code",
   "execution_count": 13,
   "id": "8d07706a",
   "metadata": {},
   "outputs": [],
   "source": [
    "ENTS = ['WORK_OF_ART', 'PERSON']"
   ]
  },
  {
   "cell_type": "markdown",
   "id": "446daa69",
   "metadata": {},
   "source": [
    "So this"
   ]
  },
  {
   "cell_type": "code",
   "execution_count": 14,
   "id": "d6b798e9",
   "metadata": {},
   "outputs": [
    {
     "data": {
      "text/html": [
       "<span class=\"tex2jax_ignore\"><div class=\"entities\" style=\"line-height: 2.5; direction: ltr\">Second this, \n",
       "<mark class=\"entity\" style=\"background: #f0d0ff; padding: 0.45em 0.6em; margin: 0 0.25em; line-height: 1; border-radius: 0.35em;\">\n",
       "    Becoming Steve Jobs\n",
       "    <span style=\"font-size: 0.8em; font-weight: bold; line-height: 1; border-radius: 0.35em; vertical-align: middle; margin-left: 0.5rem\">WORK_OF_ART</span>\n",
       "</mark>\n",
       " is the superior book. </div></span>"
      ],
      "text/plain": [
       "<IPython.core.display.HTML object>"
      ]
     },
     "metadata": {},
     "output_type": "display_data"
    }
   ],
   "source": [
    "displacy.render(docs[0], style='ent')"
   ]
  },
  {
   "cell_type": "markdown",
   "id": "293f199c",
   "metadata": {},
   "source": [
    "Becomes"
   ]
  },
  {
   "cell_type": "code",
   "execution_count": 15,
   "id": "f357ac7c",
   "metadata": {},
   "outputs": [
    {
     "data": {
      "text/plain": [
       "['O',\n",
       " 'O',\n",
       " 'O',\n",
       " 'B-WORK_OF_ART',\n",
       " 'I-WORK_OF_ART',\n",
       " 'L-WORK_OF_ART',\n",
       " 'O',\n",
       " 'O',\n",
       " 'O',\n",
       " 'O',\n",
       " 'O']"
      ]
     },
     "execution_count": 15,
     "metadata": {},
     "output_type": "execute_result"
    }
   ],
   "source": [
    "get_biluo(docs[0], ENTS)"
   ]
  },
  {
   "cell_type": "markdown",
   "id": "5742f3a4",
   "metadata": {},
   "source": [
    "It's clearer when the tokens and labels are lined up"
   ]
  },
  {
   "cell_type": "code",
   "execution_count": 16,
   "id": "3a59848f",
   "metadata": {},
   "outputs": [
    {
     "data": {
      "text/html": [
       "<div>\n",
       "<style scoped>\n",
       "    .dataframe tbody tr th:only-of-type {\n",
       "        vertical-align: middle;\n",
       "    }\n",
       "\n",
       "    .dataframe tbody tr th {\n",
       "        vertical-align: top;\n",
       "    }\n",
       "\n",
       "    .dataframe thead th {\n",
       "        text-align: right;\n",
       "    }\n",
       "</style>\n",
       "<table border=\"1\" class=\"dataframe\">\n",
       "  <thead>\n",
       "    <tr style=\"text-align: right;\">\n",
       "      <th></th>\n",
       "      <th>0</th>\n",
       "      <th>1</th>\n",
       "      <th>2</th>\n",
       "      <th>3</th>\n",
       "      <th>4</th>\n",
       "      <th>5</th>\n",
       "      <th>6</th>\n",
       "      <th>7</th>\n",
       "      <th>8</th>\n",
       "      <th>9</th>\n",
       "      <th>10</th>\n",
       "    </tr>\n",
       "  </thead>\n",
       "  <tbody>\n",
       "    <tr>\n",
       "      <th>token</th>\n",
       "      <td>Second</td>\n",
       "      <td>this</td>\n",
       "      <td>,</td>\n",
       "      <td>Becoming</td>\n",
       "      <td>Steve</td>\n",
       "      <td>Jobs</td>\n",
       "      <td>is</td>\n",
       "      <td>the</td>\n",
       "      <td>superior</td>\n",
       "      <td>book</td>\n",
       "      <td>.</td>\n",
       "    </tr>\n",
       "    <tr>\n",
       "      <th>label</th>\n",
       "      <td>O</td>\n",
       "      <td>O</td>\n",
       "      <td>O</td>\n",
       "      <td>B-WORK_OF_ART</td>\n",
       "      <td>I-WORK_OF_ART</td>\n",
       "      <td>L-WORK_OF_ART</td>\n",
       "      <td>O</td>\n",
       "      <td>O</td>\n",
       "      <td>O</td>\n",
       "      <td>O</td>\n",
       "      <td>O</td>\n",
       "    </tr>\n",
       "  </tbody>\n",
       "</table>\n",
       "</div>"
      ],
      "text/plain": [
       "           0     1  2              3              4              5   6    7   \\\n",
       "token  Second  this  ,       Becoming          Steve           Jobs  is  the   \n",
       "label       O     O  O  B-WORK_OF_ART  I-WORK_OF_ART  L-WORK_OF_ART   O    O   \n",
       "\n",
       "             8     9  10  \n",
       "token  superior  book  .  \n",
       "label         O     O  O  "
      ]
     },
     "execution_count": 16,
     "metadata": {},
     "output_type": "execute_result"
    }
   ],
   "source": [
    "import pandas as pd\n",
    "\n",
    "pd.DataFrame({'token': [token.text for token in docs[0]],\n",
    "              'label': get_biluo(docs[0], ENTS)}).T"
   ]
  },
  {
   "cell_type": "markdown",
   "id": "fb0bed0b",
   "metadata": {},
   "source": [
    "Now extract the ground truth and predictions in BILOU format from the SpaCy docs."
   ]
  },
  {
   "cell_type": "code",
   "execution_count": 17,
   "id": "198c10fa",
   "metadata": {},
   "outputs": [],
   "source": [
    "y_true = [get_biluo(doc, ENTS) for doc in docs]\n",
    "y_pred = [get_biluo(doc, ENTS) for doc in preds]"
   ]
  },
  {
   "cell_type": "markdown",
   "id": "cf9dfa25",
   "metadata": {},
   "source": [
    "The token counts in the documents seem plausible."
   ]
  },
  {
   "cell_type": "code",
   "execution_count": 18,
   "id": "373dd6bc",
   "metadata": {},
   "outputs": [
    {
     "data": {
      "text/plain": [
       "Counter({'O': 6038,\n",
       "         'B-WORK_OF_ART': 72,\n",
       "         'I-WORK_OF_ART': 162,\n",
       "         'L-WORK_OF_ART': 72,\n",
       "         'U-PERSON': 26,\n",
       "         'B-PERSON': 50,\n",
       "         'L-PERSON': 50,\n",
       "         'I-PERSON': 16,\n",
       "         'U-WORK_OF_ART': 11})"
      ]
     },
     "execution_count": 18,
     "metadata": {},
     "output_type": "execute_result"
    }
   ],
   "source": [
    "Counter(l for ls in y_true for l in ls)"
   ]
  },
  {
   "cell_type": "markdown",
   "id": "b98afcdc",
   "metadata": {},
   "source": [
    "And in the predictions."
   ]
  },
  {
   "cell_type": "code",
   "execution_count": 19,
   "id": "1b59e4a3",
   "metadata": {},
   "outputs": [
    {
     "data": {
      "text/plain": [
       "Counter({'O': 6108,\n",
       "         'B-WORK_OF_ART': 57,\n",
       "         'I-WORK_OF_ART': 122,\n",
       "         'L-WORK_OF_ART': 57,\n",
       "         'U-PERSON': 28,\n",
       "         'B-PERSON': 51,\n",
       "         'L-PERSON': 51,\n",
       "         'I-PERSON': 16,\n",
       "         'U-WORK_OF_ART': 7})"
      ]
     },
     "execution_count": 19,
     "metadata": {},
     "output_type": "execute_result"
    }
   ],
   "source": [
    "Counter(l for ls in y_pred for l in ls)"
   ]
  },
  {
   "cell_type": "markdown",
   "id": "cb228a9e",
   "metadata": {},
   "source": [
    "# Seqeval\n",
    "\n",
    "The [seqeval](https://github.com/chakki-works/seqeval) library is a well tested library for calculating the standard classification metrics on sequence data such as F1, Recall, and Precision."
   ]
  },
  {
   "cell_type": "code",
   "execution_count": 20,
   "id": "279ba38a",
   "metadata": {},
   "outputs": [],
   "source": [
    "from seqeval.metrics import classification_report, f1_score, precision_score, recall_score\n",
    "\n",
    "from seqeval.scheme import BILOU"
   ]
  },
  {
   "cell_type": "markdown",
   "id": "2d8e3fa0",
   "metadata": {},
   "source": [
    "The model has an f1 score of 89%"
   ]
  },
  {
   "cell_type": "code",
   "execution_count": 21,
   "id": "5ed41b49",
   "metadata": {},
   "outputs": [
    {
     "data": {
      "text/plain": [
       "0.8874172185430464"
      ]
     },
     "execution_count": 21,
     "metadata": {},
     "output_type": "execute_result"
    }
   ],
   "source": [
    "f1_score(y_true, y_pred, mode='strict', scheme=BILOU)"
   ]
  },
  {
   "cell_type": "markdown",
   "id": "dc453078",
   "metadata": {},
   "source": [
    "But the full classification report tells us a lot more:\n",
    "\n",
    "* The metrics are much worse on `WORK_OF_ART` which is the most important part of our system\n",
    "* Precision is higher than recall for `WORK_OF_ART`, and precision is likely more important in our use case"
   ]
  },
  {
   "cell_type": "code",
   "execution_count": 22,
   "id": "c96f699e",
   "metadata": {},
   "outputs": [
    {
     "name": "stdout",
     "output_type": "stream",
     "text": [
      "              precision    recall  f1-score   support\n",
      "\n",
      "      PERSON      0.949     0.987     0.968        76\n",
      " WORK_OF_ART      0.922     0.711     0.803        83\n",
      "\n",
      "   micro avg      0.937     0.843     0.887       159\n",
      "   macro avg      0.936     0.849     0.885       159\n",
      "weighted avg      0.935     0.843     0.882       159\n",
      "\n"
     ]
    }
   ],
   "source": [
    "print(classification_report(y_true, y_pred, digits=3, mode='strict', scheme=BILOU))"
   ]
  },
  {
   "cell_type": "markdown",
   "id": "a970bf34",
   "metadata": {},
   "source": [
    "But what about partial matches? These count against precision and recall (so it's worse than predicting no match), but for our use case it would be better if we can still link the entity.\n",
    "\n",
    "Let's look more closely at ways to evaluate NER systems."
   ]
  },
  {
   "cell_type": "markdown",
   "id": "3863d1bc",
   "metadata": {},
   "source": [
    "## NEREvaluate\n",
    "\n",
    "David Batista has an excellent blog post on [Named Entity Evaluation](https://www.davidsbatista.net/blog/2018/05/09/Named_Entity_Evaluation/).\n",
    "In short the f1-score treats NER like a binary classification problem, but it's not there are lots of ways to get it almost right.\n",
    "\n",
    "This has been implemented in the [nervaluate](https://github.com/MantisAI/nervaluate) Python library."
   ]
  },
  {
   "cell_type": "code",
   "execution_count": 23,
   "id": "15e99aea",
   "metadata": {},
   "outputs": [],
   "source": [
    "from nervaluate import Evaluator\n",
    "\n",
    "evaluator = Evaluator(y_true, y_pred, ENTS, loader='list')\n",
    "\n",
    "results, results_by_tag = evaluator.evaluate()"
   ]
  },
  {
   "cell_type": "markdown",
   "id": "eeffcf32",
   "metadata": {},
   "source": [
    "To make the results a bit easier to visualise we're going to switch the rows and columns"
   ]
  },
  {
   "cell_type": "code",
   "execution_count": 24,
   "id": "266124f6",
   "metadata": {},
   "outputs": [],
   "source": [
    "from collections import defaultdict\n",
    "\n",
    "def flip_nested_dict(dd):\n",
    "    result = defaultdict(dict)\n",
    "    for k1, d in dd.items():\n",
    "        for k2, v in d.items():\n",
    "            result[k2][k1] = v\n",
    "    return dict(result)"
   ]
  },
  {
   "cell_type": "markdown",
   "id": "9bd48386",
   "metadata": {},
   "source": [
    "The types are, from David Batista's post\n",
    "\n",
    "> * Strict: exact boundary surface string match and entity type\n",
    "> * Exact: exact boundary match over the surface string, regardless of the type\n",
    "> * Partial: partial boundary match over the surface string, regardless of the type;\n",
    "> * Type: some overlap between the system tagged entity and the gold annotation is required;\n",
    "\n",
    "Strict is the same as seqeval uses and the scores match the micro average."
   ]
  },
  {
   "cell_type": "code",
   "execution_count": 25,
   "id": "05b47d8b",
   "metadata": {},
   "outputs": [
    {
     "data": {
      "text/html": [
       "<div>\n",
       "<style scoped>\n",
       "    .dataframe tbody tr th:only-of-type {\n",
       "        vertical-align: middle;\n",
       "    }\n",
       "\n",
       "    .dataframe tbody tr th {\n",
       "        vertical-align: top;\n",
       "    }\n",
       "\n",
       "    .dataframe thead th {\n",
       "        text-align: right;\n",
       "    }\n",
       "</style>\n",
       "<table border=\"1\" class=\"dataframe\">\n",
       "  <thead>\n",
       "    <tr style=\"text-align: right;\">\n",
       "      <th></th>\n",
       "      <th>correct</th>\n",
       "      <th>incorrect</th>\n",
       "      <th>partial</th>\n",
       "      <th>missed</th>\n",
       "      <th>spurious</th>\n",
       "      <th>possible</th>\n",
       "      <th>actual</th>\n",
       "      <th>precision</th>\n",
       "      <th>recall</th>\n",
       "      <th>f1</th>\n",
       "    </tr>\n",
       "  </thead>\n",
       "  <tbody>\n",
       "    <tr>\n",
       "      <th>ent_type</th>\n",
       "      <td>138</td>\n",
       "      <td>2</td>\n",
       "      <td>0</td>\n",
       "      <td>19</td>\n",
       "      <td>3</td>\n",
       "      <td>159</td>\n",
       "      <td>143</td>\n",
       "      <td>0.965035</td>\n",
       "      <td>0.867925</td>\n",
       "      <td>0.913907</td>\n",
       "    </tr>\n",
       "    <tr>\n",
       "      <th>partial</th>\n",
       "      <td>134</td>\n",
       "      <td>0</td>\n",
       "      <td>6</td>\n",
       "      <td>19</td>\n",
       "      <td>3</td>\n",
       "      <td>159</td>\n",
       "      <td>143</td>\n",
       "      <td>0.958042</td>\n",
       "      <td>0.861635</td>\n",
       "      <td>0.907285</td>\n",
       "    </tr>\n",
       "    <tr>\n",
       "      <th>strict</th>\n",
       "      <td>134</td>\n",
       "      <td>6</td>\n",
       "      <td>0</td>\n",
       "      <td>19</td>\n",
       "      <td>3</td>\n",
       "      <td>159</td>\n",
       "      <td>143</td>\n",
       "      <td>0.937063</td>\n",
       "      <td>0.842767</td>\n",
       "      <td>0.887417</td>\n",
       "    </tr>\n",
       "    <tr>\n",
       "      <th>exact</th>\n",
       "      <td>134</td>\n",
       "      <td>6</td>\n",
       "      <td>0</td>\n",
       "      <td>19</td>\n",
       "      <td>3</td>\n",
       "      <td>159</td>\n",
       "      <td>143</td>\n",
       "      <td>0.937063</td>\n",
       "      <td>0.842767</td>\n",
       "      <td>0.887417</td>\n",
       "    </tr>\n",
       "  </tbody>\n",
       "</table>\n",
       "</div>"
      ],
      "text/plain": [
       "          correct  incorrect  partial  missed  spurious  possible  actual  \\\n",
       "ent_type      138          2        0      19         3       159     143   \n",
       "partial       134          0        6      19         3       159     143   \n",
       "strict        134          6        0      19         3       159     143   \n",
       "exact         134          6        0      19         3       159     143   \n",
       "\n",
       "          precision    recall        f1  \n",
       "ent_type   0.965035  0.867925  0.913907  \n",
       "partial    0.958042  0.861635  0.907285  \n",
       "strict     0.937063  0.842767  0.887417  \n",
       "exact      0.937063  0.842767  0.887417  "
      ]
     },
     "execution_count": 25,
     "metadata": {},
     "output_type": "execute_result"
    }
   ],
   "source": [
    "pd.DataFrame(flip_nested_dict(results))"
   ]
  },
  {
   "cell_type": "markdown",
   "id": "2b343658",
   "metadata": {},
   "source": [
    "Looking by entity type is even more revealing, for work of art we have very high precision on partial matches showing this could actually be a better solution than it first appears, with a precision closer to 94% than the strict 89%.\n",
    "\n",
    "Note there's a discrepency here; the strict f1 for WORK_OF_ART is 79.1%, when seqeval gave 80.3%.\n",
    "This is because seqeval ignores the other types of tags when evaluating at a tag level, but nervaluate includes them."
   ]
  },
  {
   "cell_type": "code",
   "execution_count": 26,
   "id": "fc2daf81",
   "metadata": {},
   "outputs": [
    {
     "data": {
      "text/html": [
       "<style type=\"text/css\">\n",
       "</style>\n",
       "<table id=\"T_0aeb9\">\n",
       "  <caption>WORK_OF_ART</caption>\n",
       "  <thead>\n",
       "    <tr>\n",
       "      <th class=\"blank level0\" >&nbsp;</th>\n",
       "      <th id=\"T_0aeb9_level0_col0\" class=\"col_heading level0 col0\" >correct</th>\n",
       "      <th id=\"T_0aeb9_level0_col1\" class=\"col_heading level0 col1\" >incorrect</th>\n",
       "      <th id=\"T_0aeb9_level0_col2\" class=\"col_heading level0 col2\" >partial</th>\n",
       "      <th id=\"T_0aeb9_level0_col3\" class=\"col_heading level0 col3\" >missed</th>\n",
       "      <th id=\"T_0aeb9_level0_col4\" class=\"col_heading level0 col4\" >spurious</th>\n",
       "      <th id=\"T_0aeb9_level0_col5\" class=\"col_heading level0 col5\" >possible</th>\n",
       "      <th id=\"T_0aeb9_level0_col6\" class=\"col_heading level0 col6\" >actual</th>\n",
       "      <th id=\"T_0aeb9_level0_col7\" class=\"col_heading level0 col7\" >precision</th>\n",
       "      <th id=\"T_0aeb9_level0_col8\" class=\"col_heading level0 col8\" >recall</th>\n",
       "      <th id=\"T_0aeb9_level0_col9\" class=\"col_heading level0 col9\" >f1</th>\n",
       "    </tr>\n",
       "  </thead>\n",
       "  <tbody>\n",
       "    <tr>\n",
       "      <th id=\"T_0aeb9_level0_row0\" class=\"row_heading level0 row0\" >ent_type</th>\n",
       "      <td id=\"T_0aeb9_row0_col0\" class=\"data row0 col0\" >63</td>\n",
       "      <td id=\"T_0aeb9_row0_col1\" class=\"data row0 col1\" >2</td>\n",
       "      <td id=\"T_0aeb9_row0_col2\" class=\"data row0 col2\" >0</td>\n",
       "      <td id=\"T_0aeb9_row0_col3\" class=\"data row0 col3\" >18</td>\n",
       "      <td id=\"T_0aeb9_row0_col4\" class=\"data row0 col4\" >1</td>\n",
       "      <td id=\"T_0aeb9_row0_col5\" class=\"data row0 col5\" >83</td>\n",
       "      <td id=\"T_0aeb9_row0_col6\" class=\"data row0 col6\" >66</td>\n",
       "      <td id=\"T_0aeb9_row0_col7\" class=\"data row0 col7\" >0.954545</td>\n",
       "      <td id=\"T_0aeb9_row0_col8\" class=\"data row0 col8\" >0.759036</td>\n",
       "      <td id=\"T_0aeb9_row0_col9\" class=\"data row0 col9\" >0.845638</td>\n",
       "    </tr>\n",
       "    <tr>\n",
       "      <th id=\"T_0aeb9_level0_row1\" class=\"row_heading level0 row1\" >partial</th>\n",
       "      <td id=\"T_0aeb9_row1_col0\" class=\"data row1 col0\" >59</td>\n",
       "      <td id=\"T_0aeb9_row1_col1\" class=\"data row1 col1\" >0</td>\n",
       "      <td id=\"T_0aeb9_row1_col2\" class=\"data row1 col2\" >6</td>\n",
       "      <td id=\"T_0aeb9_row1_col3\" class=\"data row1 col3\" >18</td>\n",
       "      <td id=\"T_0aeb9_row1_col4\" class=\"data row1 col4\" >1</td>\n",
       "      <td id=\"T_0aeb9_row1_col5\" class=\"data row1 col5\" >83</td>\n",
       "      <td id=\"T_0aeb9_row1_col6\" class=\"data row1 col6\" >66</td>\n",
       "      <td id=\"T_0aeb9_row1_col7\" class=\"data row1 col7\" >0.939394</td>\n",
       "      <td id=\"T_0aeb9_row1_col8\" class=\"data row1 col8\" >0.746988</td>\n",
       "      <td id=\"T_0aeb9_row1_col9\" class=\"data row1 col9\" >0.832215</td>\n",
       "    </tr>\n",
       "    <tr>\n",
       "      <th id=\"T_0aeb9_level0_row2\" class=\"row_heading level0 row2\" >strict</th>\n",
       "      <td id=\"T_0aeb9_row2_col0\" class=\"data row2 col0\" >59</td>\n",
       "      <td id=\"T_0aeb9_row2_col1\" class=\"data row2 col1\" >6</td>\n",
       "      <td id=\"T_0aeb9_row2_col2\" class=\"data row2 col2\" >0</td>\n",
       "      <td id=\"T_0aeb9_row2_col3\" class=\"data row2 col3\" >18</td>\n",
       "      <td id=\"T_0aeb9_row2_col4\" class=\"data row2 col4\" >1</td>\n",
       "      <td id=\"T_0aeb9_row2_col5\" class=\"data row2 col5\" >83</td>\n",
       "      <td id=\"T_0aeb9_row2_col6\" class=\"data row2 col6\" >66</td>\n",
       "      <td id=\"T_0aeb9_row2_col7\" class=\"data row2 col7\" >0.893939</td>\n",
       "      <td id=\"T_0aeb9_row2_col8\" class=\"data row2 col8\" >0.710843</td>\n",
       "      <td id=\"T_0aeb9_row2_col9\" class=\"data row2 col9\" >0.791946</td>\n",
       "    </tr>\n",
       "    <tr>\n",
       "      <th id=\"T_0aeb9_level0_row3\" class=\"row_heading level0 row3\" >exact</th>\n",
       "      <td id=\"T_0aeb9_row3_col0\" class=\"data row3 col0\" >59</td>\n",
       "      <td id=\"T_0aeb9_row3_col1\" class=\"data row3 col1\" >6</td>\n",
       "      <td id=\"T_0aeb9_row3_col2\" class=\"data row3 col2\" >0</td>\n",
       "      <td id=\"T_0aeb9_row3_col3\" class=\"data row3 col3\" >18</td>\n",
       "      <td id=\"T_0aeb9_row3_col4\" class=\"data row3 col4\" >1</td>\n",
       "      <td id=\"T_0aeb9_row3_col5\" class=\"data row3 col5\" >83</td>\n",
       "      <td id=\"T_0aeb9_row3_col6\" class=\"data row3 col6\" >66</td>\n",
       "      <td id=\"T_0aeb9_row3_col7\" class=\"data row3 col7\" >0.893939</td>\n",
       "      <td id=\"T_0aeb9_row3_col8\" class=\"data row3 col8\" >0.710843</td>\n",
       "      <td id=\"T_0aeb9_row3_col9\" class=\"data row3 col9\" >0.791946</td>\n",
       "    </tr>\n",
       "  </tbody>\n",
       "</table>\n"
      ],
      "text/plain": [
       "<pandas.io.formats.style.Styler at 0x7fd649f20160>"
      ]
     },
     "metadata": {},
     "output_type": "display_data"
    },
    {
     "data": {
      "text/html": [
       "<style type=\"text/css\">\n",
       "</style>\n",
       "<table id=\"T_5ab1d\">\n",
       "  <caption>PERSON</caption>\n",
       "  <thead>\n",
       "    <tr>\n",
       "      <th class=\"blank level0\" >&nbsp;</th>\n",
       "      <th id=\"T_5ab1d_level0_col0\" class=\"col_heading level0 col0\" >correct</th>\n",
       "      <th id=\"T_5ab1d_level0_col1\" class=\"col_heading level0 col1\" >incorrect</th>\n",
       "      <th id=\"T_5ab1d_level0_col2\" class=\"col_heading level0 col2\" >partial</th>\n",
       "      <th id=\"T_5ab1d_level0_col3\" class=\"col_heading level0 col3\" >missed</th>\n",
       "      <th id=\"T_5ab1d_level0_col4\" class=\"col_heading level0 col4\" >spurious</th>\n",
       "      <th id=\"T_5ab1d_level0_col5\" class=\"col_heading level0 col5\" >possible</th>\n",
       "      <th id=\"T_5ab1d_level0_col6\" class=\"col_heading level0 col6\" >actual</th>\n",
       "      <th id=\"T_5ab1d_level0_col7\" class=\"col_heading level0 col7\" >precision</th>\n",
       "      <th id=\"T_5ab1d_level0_col8\" class=\"col_heading level0 col8\" >recall</th>\n",
       "      <th id=\"T_5ab1d_level0_col9\" class=\"col_heading level0 col9\" >f1</th>\n",
       "    </tr>\n",
       "  </thead>\n",
       "  <tbody>\n",
       "    <tr>\n",
       "      <th id=\"T_5ab1d_level0_row0\" class=\"row_heading level0 row0\" >ent_type</th>\n",
       "      <td id=\"T_5ab1d_row0_col0\" class=\"data row0 col0\" >75</td>\n",
       "      <td id=\"T_5ab1d_row0_col1\" class=\"data row0 col1\" >0</td>\n",
       "      <td id=\"T_5ab1d_row0_col2\" class=\"data row0 col2\" >0</td>\n",
       "      <td id=\"T_5ab1d_row0_col3\" class=\"data row0 col3\" >1</td>\n",
       "      <td id=\"T_5ab1d_row0_col4\" class=\"data row0 col4\" >2</td>\n",
       "      <td id=\"T_5ab1d_row0_col5\" class=\"data row0 col5\" >76</td>\n",
       "      <td id=\"T_5ab1d_row0_col6\" class=\"data row0 col6\" >77</td>\n",
       "      <td id=\"T_5ab1d_row0_col7\" class=\"data row0 col7\" >0.974026</td>\n",
       "      <td id=\"T_5ab1d_row0_col8\" class=\"data row0 col8\" >0.986842</td>\n",
       "      <td id=\"T_5ab1d_row0_col9\" class=\"data row0 col9\" >0.980392</td>\n",
       "    </tr>\n",
       "    <tr>\n",
       "      <th id=\"T_5ab1d_level0_row1\" class=\"row_heading level0 row1\" >partial</th>\n",
       "      <td id=\"T_5ab1d_row1_col0\" class=\"data row1 col0\" >75</td>\n",
       "      <td id=\"T_5ab1d_row1_col1\" class=\"data row1 col1\" >0</td>\n",
       "      <td id=\"T_5ab1d_row1_col2\" class=\"data row1 col2\" >0</td>\n",
       "      <td id=\"T_5ab1d_row1_col3\" class=\"data row1 col3\" >1</td>\n",
       "      <td id=\"T_5ab1d_row1_col4\" class=\"data row1 col4\" >2</td>\n",
       "      <td id=\"T_5ab1d_row1_col5\" class=\"data row1 col5\" >76</td>\n",
       "      <td id=\"T_5ab1d_row1_col6\" class=\"data row1 col6\" >77</td>\n",
       "      <td id=\"T_5ab1d_row1_col7\" class=\"data row1 col7\" >0.974026</td>\n",
       "      <td id=\"T_5ab1d_row1_col8\" class=\"data row1 col8\" >0.986842</td>\n",
       "      <td id=\"T_5ab1d_row1_col9\" class=\"data row1 col9\" >0.980392</td>\n",
       "    </tr>\n",
       "    <tr>\n",
       "      <th id=\"T_5ab1d_level0_row2\" class=\"row_heading level0 row2\" >strict</th>\n",
       "      <td id=\"T_5ab1d_row2_col0\" class=\"data row2 col0\" >75</td>\n",
       "      <td id=\"T_5ab1d_row2_col1\" class=\"data row2 col1\" >0</td>\n",
       "      <td id=\"T_5ab1d_row2_col2\" class=\"data row2 col2\" >0</td>\n",
       "      <td id=\"T_5ab1d_row2_col3\" class=\"data row2 col3\" >1</td>\n",
       "      <td id=\"T_5ab1d_row2_col4\" class=\"data row2 col4\" >2</td>\n",
       "      <td id=\"T_5ab1d_row2_col5\" class=\"data row2 col5\" >76</td>\n",
       "      <td id=\"T_5ab1d_row2_col6\" class=\"data row2 col6\" >77</td>\n",
       "      <td id=\"T_5ab1d_row2_col7\" class=\"data row2 col7\" >0.974026</td>\n",
       "      <td id=\"T_5ab1d_row2_col8\" class=\"data row2 col8\" >0.986842</td>\n",
       "      <td id=\"T_5ab1d_row2_col9\" class=\"data row2 col9\" >0.980392</td>\n",
       "    </tr>\n",
       "    <tr>\n",
       "      <th id=\"T_5ab1d_level0_row3\" class=\"row_heading level0 row3\" >exact</th>\n",
       "      <td id=\"T_5ab1d_row3_col0\" class=\"data row3 col0\" >75</td>\n",
       "      <td id=\"T_5ab1d_row3_col1\" class=\"data row3 col1\" >0</td>\n",
       "      <td id=\"T_5ab1d_row3_col2\" class=\"data row3 col2\" >0</td>\n",
       "      <td id=\"T_5ab1d_row3_col3\" class=\"data row3 col3\" >1</td>\n",
       "      <td id=\"T_5ab1d_row3_col4\" class=\"data row3 col4\" >2</td>\n",
       "      <td id=\"T_5ab1d_row3_col5\" class=\"data row3 col5\" >76</td>\n",
       "      <td id=\"T_5ab1d_row3_col6\" class=\"data row3 col6\" >77</td>\n",
       "      <td id=\"T_5ab1d_row3_col7\" class=\"data row3 col7\" >0.974026</td>\n",
       "      <td id=\"T_5ab1d_row3_col8\" class=\"data row3 col8\" >0.986842</td>\n",
       "      <td id=\"T_5ab1d_row3_col9\" class=\"data row3 col9\" >0.980392</td>\n",
       "    </tr>\n",
       "  </tbody>\n",
       "</table>\n"
      ],
      "text/plain": [
       "<pandas.io.formats.style.Styler at 0x7fd649f20be0>"
      ]
     },
     "metadata": {},
     "output_type": "display_data"
    }
   ],
   "source": [
    "from IPython.display import display\n",
    "\n",
    "for tag, tag_results in results_by_tag.items():\n",
    "    display(pd.DataFrame(flip_nested_dict(tag_results)).style.set_caption(tag))"
   ]
  },
  {
   "cell_type": "markdown",
   "id": "b3174ede",
   "metadata": {},
   "source": [
    "### Comparing the evaluations by tag"
   ]
  },
  {
   "cell_type": "markdown",
   "id": "e876e0a0",
   "metadata": {},
   "source": [
    "They first disagree at index 133"
   ]
  },
  {
   "cell_type": "code",
   "execution_count": 27,
   "id": "98b137da",
   "metadata": {},
   "outputs": [],
   "source": [
    "idx = 133"
   ]
  },
  {
   "cell_type": "code",
   "execution_count": 28,
   "id": "16c124d3",
   "metadata": {},
   "outputs": [
    {
     "data": {
      "text/plain": [
       "(0.8918918918918919, 0.9166666666666666)"
      ]
     },
     "execution_count": 28,
     "metadata": {},
     "output_type": "execute_result"
    }
   ],
   "source": [
    "subevaluator = Evaluator(y_true[:idx], y_pred[:idx], ENTS, loader='list')\n",
    "\n",
    "sub_results, sub_results_by_tag = subevaluator.evaluate()\n",
    "\n",
    "sub_results_by_tag['WORK_OF_ART']['strict']['precision'], classification_report(y_true[:idx], y_pred[:idx], mode='strict', scheme=BILOU, output_dict=True)['WORK_OF_ART']['precision']"
   ]
  },
  {
   "cell_type": "markdown",
   "id": "0459d0d7",
   "metadata": {},
   "source": [
    "But they agree at 132"
   ]
  },
  {
   "cell_type": "code",
   "execution_count": 29,
   "id": "79845c50",
   "metadata": {},
   "outputs": [
    {
     "data": {
      "text/plain": [
       "(0.9166666666666666, 0.9166666666666666)"
      ]
     },
     "execution_count": 29,
     "metadata": {},
     "output_type": "execute_result"
    }
   ],
   "source": [
    "idx = 132\n",
    "\n",
    "subevaluator = Evaluator(y_true[:idx], y_pred[:idx], ENTS, loader='list')\n",
    "\n",
    "sub_results, sub_results_by_tag = subevaluator.evaluate()\n",
    "\n",
    "sub_results_by_tag['WORK_OF_ART']['strict']['precision'], classification_report(y_true[:idx], y_pred[:idx], mode='strict', scheme=BILOU, output_dict=True)['WORK_OF_ART']['precision']"
   ]
  },
  {
   "cell_type": "markdown",
   "id": "096fe032",
   "metadata": {},
   "source": [
    "As can be seen this is where the wrong entitiy type is predicted"
   ]
  },
  {
   "cell_type": "code",
   "execution_count": 30,
   "id": "286c07e7",
   "metadata": {},
   "outputs": [
    {
     "data": {
      "text/html": [
       "<div>\n",
       "<style scoped>\n",
       "    .dataframe tbody tr th:only-of-type {\n",
       "        vertical-align: middle;\n",
       "    }\n",
       "\n",
       "    .dataframe tbody tr th {\n",
       "        vertical-align: top;\n",
       "    }\n",
       "\n",
       "    .dataframe thead th {\n",
       "        text-align: right;\n",
       "    }\n",
       "</style>\n",
       "<table border=\"1\" class=\"dataframe\">\n",
       "  <thead>\n",
       "    <tr style=\"text-align: right;\">\n",
       "      <th></th>\n",
       "      <th>0</th>\n",
       "      <th>1</th>\n",
       "      <th>2</th>\n",
       "      <th>3</th>\n",
       "      <th>4</th>\n",
       "      <th>5</th>\n",
       "      <th>6</th>\n",
       "      <th>7</th>\n",
       "      <th>8</th>\n",
       "      <th>9</th>\n",
       "      <th>10</th>\n",
       "      <th>11</th>\n",
       "      <th>12</th>\n",
       "      <th>13</th>\n",
       "      <th>14</th>\n",
       "    </tr>\n",
       "  </thead>\n",
       "  <tbody>\n",
       "    <tr>\n",
       "      <th>0</th>\n",
       "      <td>What</td>\n",
       "      <td>Remains</td>\n",
       "      <td>of</td>\n",
       "      <td>Edith</td>\n",
       "      <td>Finch</td>\n",
       "      <td>is</td>\n",
       "      <td>one</td>\n",
       "      <td>of</td>\n",
       "      <td>my</td>\n",
       "      <td>favorite</td>\n",
       "      <td>games</td>\n",
       "      <td>of</td>\n",
       "      <td>all</td>\n",
       "      <td>time</td>\n",
       "      <td>.</td>\n",
       "    </tr>\n",
       "    <tr>\n",
       "      <th>1</th>\n",
       "      <td>B-WORK_OF_ART</td>\n",
       "      <td>I-WORK_OF_ART</td>\n",
       "      <td>I-WORK_OF_ART</td>\n",
       "      <td>I-WORK_OF_ART</td>\n",
       "      <td>L-WORK_OF_ART</td>\n",
       "      <td>O</td>\n",
       "      <td>O</td>\n",
       "      <td>O</td>\n",
       "      <td>O</td>\n",
       "      <td>O</td>\n",
       "      <td>O</td>\n",
       "      <td>O</td>\n",
       "      <td>O</td>\n",
       "      <td>O</td>\n",
       "      <td>O</td>\n",
       "    </tr>\n",
       "    <tr>\n",
       "      <th>2</th>\n",
       "      <td>O</td>\n",
       "      <td>O</td>\n",
       "      <td>O</td>\n",
       "      <td>B-PERSON</td>\n",
       "      <td>L-PERSON</td>\n",
       "      <td>O</td>\n",
       "      <td>O</td>\n",
       "      <td>O</td>\n",
       "      <td>O</td>\n",
       "      <td>O</td>\n",
       "      <td>O</td>\n",
       "      <td>O</td>\n",
       "      <td>O</td>\n",
       "      <td>O</td>\n",
       "      <td>O</td>\n",
       "    </tr>\n",
       "  </tbody>\n",
       "</table>\n",
       "</div>"
      ],
      "text/plain": [
       "              0              1              2              3              4   \\\n",
       "0           What        Remains             of          Edith          Finch   \n",
       "1  B-WORK_OF_ART  I-WORK_OF_ART  I-WORK_OF_ART  I-WORK_OF_ART  L-WORK_OF_ART   \n",
       "2              O              O              O       B-PERSON       L-PERSON   \n",
       "\n",
       "   5    6   7   8         9      10  11   12    13 14  \n",
       "0  is  one  of  my  favorite  games  of  all  time  .  \n",
       "1   O    O   O   O         O      O   O    O     O  O  \n",
       "2   O    O   O   O         O      O   O    O     O  O  "
      ]
     },
     "execution_count": 30,
     "metadata": {},
     "output_type": "execute_result"
    }
   ],
   "source": [
    "pd.DataFrame([docs[idx], y_true[idx], y_pred[idx]])"
   ]
  },
  {
   "cell_type": "markdown",
   "id": "456a0131",
   "metadata": {},
   "source": [
    "## Looking at examples\n",
    "\n",
    "Aggregate statistics are great for summaries, but nothing beats actually looking at examples for diagnostics.\n",
    "\n",
    "Unfortunately the [neervaluate code](https://github.com/MantisAI/nervaluate/blob/main/nervaluate/nervaluate.py) doesn't make this easy to do, so we'll implement this ourselves.\n",
    "\n",
    "Let's focus on partial matches, and not type mismatches.\n",
    "\n",
    "### Comparing entities\n",
    "\n",
    "Internally nerevaluate converts spans back into Prodigy's span format (with the inclusive ends)."
   ]
  },
  {
   "cell_type": "code",
   "execution_count": 31,
   "id": "7d113f0d",
   "metadata": {},
   "outputs": [
    {
     "data": {
      "text/plain": [
       "['O',\n",
       " 'O',\n",
       " 'O',\n",
       " 'B-WORK_OF_ART',\n",
       " 'I-WORK_OF_ART',\n",
       " 'L-WORK_OF_ART',\n",
       " 'O',\n",
       " 'O',\n",
       " 'O',\n",
       " 'O',\n",
       " 'O']"
      ]
     },
     "execution_count": 31,
     "metadata": {},
     "output_type": "execute_result"
    }
   ],
   "source": [
    "y_true[0]"
   ]
  },
  {
   "cell_type": "code",
   "execution_count": 32,
   "id": "5cf11a0e",
   "metadata": {},
   "outputs": [
    {
     "data": {
      "text/plain": [
       "[{'label': 'WORK_OF_ART', 'start': 3, 'end': 5}]"
      ]
     },
     "execution_count": 32,
     "metadata": {},
     "output_type": "execute_result"
    }
   ],
   "source": [
    "evaluator.true[0]"
   ]
  },
  {
   "cell_type": "markdown",
   "id": "dd8beb6a",
   "metadata": {},
   "source": [
    "Find if two segments overlap"
   ]
  },
  {
   "cell_type": "code",
   "execution_count": 33,
   "id": "9eee7f78",
   "metadata": {},
   "outputs": [],
   "source": [
    "def overlaps(a, b):\n",
    "    if a['start'] > b['start']:\n",
    "        return overlaps(b, a)\n",
    "    assert a['start'] <= b['start']\n",
    "    return a['end'] >= b['start']"
   ]
  },
  {
   "cell_type": "markdown",
   "id": "d7435642",
   "metadata": {},
   "source": [
    "Run some tests"
   ]
  },
  {
   "cell_type": "code",
   "execution_count": 34,
   "id": "7763be22",
   "metadata": {},
   "outputs": [],
   "source": [
    "assert not overlaps({'start': 0, 'end': 1}, {'start': 2, 'end': 3})"
   ]
  },
  {
   "cell_type": "code",
   "execution_count": 35,
   "id": "328e7faf",
   "metadata": {},
   "outputs": [],
   "source": [
    "assert not overlaps({'start': 2, 'end': 3}, {'start': 0, 'end': 1})"
   ]
  },
  {
   "cell_type": "code",
   "execution_count": 36,
   "id": "2d196dc2",
   "metadata": {},
   "outputs": [],
   "source": [
    "assert overlaps({'start': 0, 'end': 1}, {'start': 1, 'end': 3})"
   ]
  },
  {
   "cell_type": "code",
   "execution_count": 37,
   "id": "7124bee6",
   "metadata": {},
   "outputs": [],
   "source": [
    "assert overlaps({'start': 1, 'end': 3}, {'start': 0, 'end': 1})"
   ]
  },
  {
   "cell_type": "code",
   "execution_count": 38,
   "id": "ea5a7121",
   "metadata": {},
   "outputs": [],
   "source": [
    "assert overlaps({'start': 1, 'end': 3}, {'start': 2, 'end': 2})"
   ]
  },
  {
   "cell_type": "markdown",
   "id": "d272afa9",
   "metadata": {},
   "source": [
    "A partial overlap is when two items that are not identical have the same label and overlap"
   ]
  },
  {
   "cell_type": "code",
   "execution_count": 39,
   "id": "3a13a764",
   "metadata": {},
   "outputs": [],
   "source": [
    "def same_label(a, b):\n",
    "    return a['label'] == b['label']"
   ]
  },
  {
   "cell_type": "code",
   "execution_count": 40,
   "id": "b1356331",
   "metadata": {},
   "outputs": [],
   "source": [
    "def has_partial_overlaps_with_same_label(true_item, pred_item):\n",
    "    return (true_item != pred_item) and same_label(true_item, pred_item) and overlaps(true_item, pred_item)"
   ]
  },
  {
   "cell_type": "markdown",
   "id": "0a9cffe7",
   "metadata": {},
   "source": [
    "Get all the document indices with a partial overlap"
   ]
  },
  {
   "cell_type": "code",
   "execution_count": 41,
   "id": "f1f8b438",
   "metadata": {},
   "outputs": [
    {
     "data": {
      "text/plain": [
       "4"
      ]
     },
     "execution_count": 41,
     "metadata": {},
     "output_type": "execute_result"
    }
   ],
   "source": [
    "partial_overlap_idx = [idx for idx in range(len(evaluator.true)) if any(has_partial_overlaps_with_same_label(true_item, pred_item) for true_item in evaluator.true[idx] for pred_item in evaluator.pred[idx])]\n",
    "len(partial_overlap_idx)"
   ]
  },
  {
   "cell_type": "markdown",
   "id": "f16d7776",
   "metadata": {},
   "source": [
    "Three of the four examples only differ in surrounding punctuation and whitespace, and the other includes the author (so is not ambiguous).\n",
    "\n",
    "All these examples would work perfectly in the entity linking stage."
   ]
  },
  {
   "cell_type": "code",
   "execution_count": 42,
   "id": "4c961f72",
   "metadata": {},
   "outputs": [
    {
     "data": {
      "text/plain": [
       "98"
      ]
     },
     "metadata": {},
     "output_type": "display_data"
    },
    {
     "data": {
      "text/html": [
       "<span class=\"tex2jax_ignore\"><div class=\"entities\" style=\"line-height: 2.5; direction: ltr\">After I posted I remembered the book &quot;\n",
       "<mark class=\"entity\" style=\"background: #f0d0ff; padding: 0.45em 0.6em; margin: 0 0.25em; line-height: 1; border-radius: 0.35em;\">\n",
       "    How to Invent Everything\n",
       "    <span style=\"font-size: 0.8em; font-weight: bold; line-height: 1; border-radius: 0.35em; vertical-align: middle; margin-left: 0.5rem\">WORK_OF_ART</span>\n",
       "</mark>\n",
       "&quot; which takes the case of a time traveler stuck in the past with a guide to invent civilization from scratch. </div></span>"
      ],
      "text/plain": [
       "<IPython.core.display.HTML object>"
      ]
     },
     "metadata": {},
     "output_type": "display_data"
    },
    {
     "data": {
      "text/html": [
       "<span class=\"tex2jax_ignore\"><div class=\"entities\" style=\"line-height: 2.5; direction: ltr\">After I posted I remembered the book &quot;\n",
       "<mark class=\"entity\" style=\"background: #f0d0ff; padding: 0.45em 0.6em; margin: 0 0.25em; line-height: 1; border-radius: 0.35em;\">\n",
       "    How to Invent Everything&quot;\n",
       "    <span style=\"font-size: 0.8em; font-weight: bold; line-height: 1; border-radius: 0.35em; vertical-align: middle; margin-left: 0.5rem\">WORK_OF_ART</span>\n",
       "</mark>\n",
       " which takes the case of a time traveler stuck in the past with a guide to invent civilization from scratch. </div></span>"
      ],
      "text/plain": [
       "<IPython.core.display.HTML object>"
      ]
     },
     "metadata": {},
     "output_type": "display_data"
    },
    {
     "data": {
      "text/plain": [
       "105"
      ]
     },
     "metadata": {},
     "output_type": "display_data"
    },
    {
     "data": {
      "text/html": [
       "<span class=\"tex2jax_ignore\"><div class=\"entities\" style=\"line-height: 2.5; direction: ltr\"> I found this: https://us.macmillan.com/books/9781250280374</br></br>&lt;&lt;</br>\n",
       "<mark class=\"entity\" style=\"background: #f0d0ff; padding: 0.45em 0.6em; margin: 0 0.25em; line-height: 1; border-radius: 0.35em;\">\n",
       "    The Vaccine: Inside the Race to Conquer the COVID-19 Pandemic\n",
       "    <span style=\"font-size: 0.8em; font-weight: bold; line-height: 1; border-radius: 0.35em; vertical-align: middle; margin-left: 0.5rem\">WORK_OF_ART</span>\n",
       "</mark>\n",
       "</br></br>Author: \n",
       "<mark class=\"entity\" style=\"background: #aa9cfc; padding: 0.45em 0.6em; margin: 0 0.25em; line-height: 1; border-radius: 0.35em;\">\n",
       "    Joe Miller\n",
       "    <span style=\"font-size: 0.8em; font-weight: bold; line-height: 1; border-radius: 0.35em; vertical-align: middle; margin-left: 0.5rem\">PERSON</span>\n",
       "</mark>\n",
       " with Dr. \n",
       "<mark class=\"entity\" style=\"background: #aa9cfc; padding: 0.45em 0.6em; margin: 0 0.25em; line-height: 1; border-radius: 0.35em;\">\n",
       "    Özlem Türeci\n",
       "    <span style=\"font-size: 0.8em; font-weight: bold; line-height: 1; border-radius: 0.35em; vertical-align: middle; margin-left: 0.5rem\">PERSON</span>\n",
       "</mark>\n",
       " and Dr. \n",
       "<mark class=\"entity\" style=\"background: #aa9cfc; padding: 0.45em 0.6em; margin: 0 0.25em; line-height: 1; border-radius: 0.35em;\">\n",
       "    Ugur Sahin\n",
       "    <span style=\"font-size: 0.8em; font-weight: bold; line-height: 1; border-radius: 0.35em; vertical-align: middle; margin-left: 0.5rem\">PERSON</span>\n",
       "</mark>\n",
       "</br>&gt;&gt;</div></span>"
      ],
      "text/plain": [
       "<IPython.core.display.HTML object>"
      ]
     },
     "metadata": {},
     "output_type": "display_data"
    },
    {
     "data": {
      "text/html": [
       "<span class=\"tex2jax_ignore\"><div class=\"entities\" style=\"line-height: 2.5; direction: ltr\"> I found this: https://us.macmillan.com/books/9781250280374</br></br>&lt;&lt;</br>\n",
       "<mark class=\"entity\" style=\"background: #f0d0ff; padding: 0.45em 0.6em; margin: 0 0.25em; line-height: 1; border-radius: 0.35em;\">\n",
       "    The Vaccine: Inside the Race to Conquer the COVID-19 Pandemic\n",
       "\n",
       "\n",
       "    <span style=\"font-size: 0.8em; font-weight: bold; line-height: 1; border-radius: 0.35em; vertical-align: middle; margin-left: 0.5rem\">WORK_OF_ART</span>\n",
       "</mark>\n",
       "Author: \n",
       "<mark class=\"entity\" style=\"background: #aa9cfc; padding: 0.45em 0.6em; margin: 0 0.25em; line-height: 1; border-radius: 0.35em;\">\n",
       "    Joe Miller\n",
       "    <span style=\"font-size: 0.8em; font-weight: bold; line-height: 1; border-radius: 0.35em; vertical-align: middle; margin-left: 0.5rem\">PERSON</span>\n",
       "</mark>\n",
       " with Dr. \n",
       "<mark class=\"entity\" style=\"background: #aa9cfc; padding: 0.45em 0.6em; margin: 0 0.25em; line-height: 1; border-radius: 0.35em;\">\n",
       "    Özlem Türeci\n",
       "    <span style=\"font-size: 0.8em; font-weight: bold; line-height: 1; border-radius: 0.35em; vertical-align: middle; margin-left: 0.5rem\">PERSON</span>\n",
       "</mark>\n",
       " and Dr. \n",
       "<mark class=\"entity\" style=\"background: #aa9cfc; padding: 0.45em 0.6em; margin: 0 0.25em; line-height: 1; border-radius: 0.35em;\">\n",
       "    Ugur Sahin\n",
       "    <span style=\"font-size: 0.8em; font-weight: bold; line-height: 1; border-radius: 0.35em; vertical-align: middle; margin-left: 0.5rem\">PERSON</span>\n",
       "</mark>\n",
       "</br>&gt;&gt;</div></span>"
      ],
      "text/plain": [
       "<IPython.core.display.HTML object>"
      ]
     },
     "metadata": {},
     "output_type": "display_data"
    },
    {
     "data": {
      "text/plain": [
       "234"
      ]
     },
     "metadata": {},
     "output_type": "display_data"
    },
    {
     "data": {
      "text/html": [
       "<span class=\"tex2jax_ignore\"><div class=\"entities\" style=\"line-height: 2.5; direction: ltr\">The ideas in the article are similar (in a good way) to \n",
       "<mark class=\"entity\" style=\"background: #f0d0ff; padding: 0.45em 0.6em; margin: 0 0.25em; line-height: 1; border-radius: 0.35em;\">\n",
       "    Shape Up\n",
       "    <span style=\"font-size: 0.8em; font-weight: bold; line-height: 1; border-radius: 0.35em; vertical-align: middle; margin-left: 0.5rem\">WORK_OF_ART</span>\n",
       "</mark>\n",
       " by Basecamp [0]. </div></span>"
      ],
      "text/plain": [
       "<IPython.core.display.HTML object>"
      ]
     },
     "metadata": {},
     "output_type": "display_data"
    },
    {
     "data": {
      "text/html": [
       "<span class=\"tex2jax_ignore\"><div class=\"entities\" style=\"line-height: 2.5; direction: ltr\">The ideas in the article are similar (in a good way) to \n",
       "<mark class=\"entity\" style=\"background: #f0d0ff; padding: 0.45em 0.6em; margin: 0 0.25em; line-height: 1; border-radius: 0.35em;\">\n",
       "    Shape Up by Basecamp\n",
       "    <span style=\"font-size: 0.8em; font-weight: bold; line-height: 1; border-radius: 0.35em; vertical-align: middle; margin-left: 0.5rem\">WORK_OF_ART</span>\n",
       "</mark>\n",
       " [0]. </div></span>"
      ],
      "text/plain": [
       "<IPython.core.display.HTML object>"
      ]
     },
     "metadata": {},
     "output_type": "display_data"
    },
    {
     "data": {
      "text/plain": [
       "278"
      ]
     },
     "metadata": {},
     "output_type": "display_data"
    },
    {
     "data": {
      "text/html": [
       "<span class=\"tex2jax_ignore\"><div class=\"entities\" style=\"line-height: 2.5; direction: ltr\">From &quot;\n",
       "<mark class=\"entity\" style=\"background: #f0d0ff; padding: 0.45em 0.6em; margin: 0 0.25em; line-height: 1; border-radius: 0.35em;\">\n",
       "    The Elements of Journalism\n",
       "    <span style=\"font-size: 0.8em; font-weight: bold; line-height: 1; border-radius: 0.35em; vertical-align: middle; margin-left: 0.5rem\">WORK_OF_ART</span>\n",
       "</mark>\n",
       "&quot; by \n",
       "<mark class=\"entity\" style=\"background: #aa9cfc; padding: 0.45em 0.6em; margin: 0 0.25em; line-height: 1; border-radius: 0.35em;\">\n",
       "    Bill Kovach\n",
       "    <span style=\"font-size: 0.8em; font-weight: bold; line-height: 1; border-radius: 0.35em; vertical-align: middle; margin-left: 0.5rem\">PERSON</span>\n",
       "</mark>\n",
       " and \n",
       "<mark class=\"entity\" style=\"background: #aa9cfc; padding: 0.45em 0.6em; margin: 0 0.25em; line-height: 1; border-radius: 0.35em;\">\n",
       "    Tom Rosenstiel\n",
       "    <span style=\"font-size: 0.8em; font-weight: bold; line-height: 1; border-radius: 0.35em; vertical-align: middle; margin-left: 0.5rem\">PERSON</span>\n",
       "</mark>\n",
       ": &quot;Originality is a bulwark of better journalism, deeper understanding, and more accurate reporting. </div></span>"
      ],
      "text/plain": [
       "<IPython.core.display.HTML object>"
      ]
     },
     "metadata": {},
     "output_type": "display_data"
    },
    {
     "data": {
      "text/html": [
       "<span class=\"tex2jax_ignore\"><div class=\"entities\" style=\"line-height: 2.5; direction: ltr\">From \n",
       "<mark class=\"entity\" style=\"background: #f0d0ff; padding: 0.45em 0.6em; margin: 0 0.25em; line-height: 1; border-radius: 0.35em;\">\n",
       "    &quot;The Elements of Journalism&quot;\n",
       "    <span style=\"font-size: 0.8em; font-weight: bold; line-height: 1; border-radius: 0.35em; vertical-align: middle; margin-left: 0.5rem\">WORK_OF_ART</span>\n",
       "</mark>\n",
       " by \n",
       "<mark class=\"entity\" style=\"background: #aa9cfc; padding: 0.45em 0.6em; margin: 0 0.25em; line-height: 1; border-radius: 0.35em;\">\n",
       "    Bill Kovach\n",
       "    <span style=\"font-size: 0.8em; font-weight: bold; line-height: 1; border-radius: 0.35em; vertical-align: middle; margin-left: 0.5rem\">PERSON</span>\n",
       "</mark>\n",
       " and \n",
       "<mark class=\"entity\" style=\"background: #aa9cfc; padding: 0.45em 0.6em; margin: 0 0.25em; line-height: 1; border-radius: 0.35em;\">\n",
       "    Tom Rosenstiel\n",
       "    <span style=\"font-size: 0.8em; font-weight: bold; line-height: 1; border-radius: 0.35em; vertical-align: middle; margin-left: 0.5rem\">PERSON</span>\n",
       "</mark>\n",
       ": &quot;Originality is a bulwark of better journalism, deeper understanding, and more accurate reporting. </div></span>"
      ],
      "text/plain": [
       "<IPython.core.display.HTML object>"
      ]
     },
     "metadata": {},
     "output_type": "display_data"
    }
   ],
   "source": [
    "for idx in partial_overlap_idx:\n",
    "    display(idx)\n",
    "    displacy.render(docs[idx], style='ent')\n",
    "    displacy.render(preds[idx], style='ent')"
   ]
  },
  {
   "cell_type": "markdown",
   "id": "285d9f3d",
   "metadata": {},
   "source": [
    "# Final Thoughts\n",
    "\n",
    "When choosing a metric always make sure it aligns with your final goals.\n",
    "F1 score is fine when comparing similar systems, but in this case it actually gives worse results than the usecase and a better metric would give credit to substantial partial overlaps."
   ]
  }
 ],
 "metadata": {
  "kernelspec": {
   "display_name": "Python 3 (ipykernel)",
   "language": "python",
   "name": "python3"
  },
  "language_info": {
   "codemirror_mode": {
    "name": "ipython",
    "version": 3
   },
   "file_extension": ".py",
   "mimetype": "text/x-python",
   "name": "python",
   "nbconvert_exporter": "python",
   "pygments_lexer": "ipython3",
   "version": "3.8.0"
  }
 },
 "nbformat": 4,
 "nbformat_minor": 5
}
