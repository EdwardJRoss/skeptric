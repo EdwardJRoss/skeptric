{
 "cells": [
  {
   "cell_type": "raw",
   "id": "5dac8006",
   "metadata": {},
   "source": [
    "---\n",
    "categories:\n",
    "  - blog\n",
    "date: '2022-12-14T07:04:00+10:00'\n",
    "image: dfa.svg\n",
    "title: Convert Hugo mmark LaTeX into Pandoc\n",
    "---"
   ]
  },
  {
   "cell_type": "markdown",
   "id": "4106d8b7",
   "metadata": {},
   "source": [
    "# Convert Hugo mmark LaTeX into Pandoc\n",
    "\n",
    "I've recently [migrated from Hugo to Quarto](/hugo-to-quarto) and one of the hardest steps was converting the equations in Hugo's legacy `mmark` format to Quarto.\n",
    "This notebook shows how I converted the equations without changing equations inside code blocks (see `fix_tex.py` in my [hugo2quarto repository](https://github.com/EdwardJRoss/hugo2quarto/) for an executable version of this).\n",
    "\n",
    "## The problem\n",
    "\n",
    "The (deprecated) version of mmark in Hugo uses an unusual syntax for TeX.\n",
    "It's not documented (except in the [code](https://github.com/miekg/mmark), e.g. [inline math](https://github.com/miekg/mmark/blob/1cc81181240610a61032c944355759771a652f71/inline.go#L1634)), but some empirical rules for mmark are:\n",
    "- `$$...$$` inside a paragraph starts inline math (even with whitespace surrounding ...)\n",
    "- `$$...$$` after a paragraph starts a math block (even with whitespace surrounding ...)\n",
    "- A `$` sign not followed by another `$` sign is just a normal `$` sign (A `\\$` should also be a `$` mode)\n",
    "- Math isn't rendered in inline code/code blocks\n",
    "\n",
    "\n",
    "In Pandoc it's [documented](https://pandoc.org/MANUAL.html#math)\n",
    "\n",
    "> Anything between two `$` characters will be treated as TeX math. The opening `$` must have a non-space character immediately to its right, while the closing `$` must have a non-space character immediately to its left, and must not be followed immediately by a digit. Thus, \\\\$20,000 and \\\\$30,000 won’t parse as math. If for some reason you need to enclose text in literal $ characters, backslash-escape them and they won’t be treated as math delimiters.\n",
    "> For display math, use `$$` delimiters. (In this case, the delimiters may be separated from the formula by whitespace. However, there can be no blank lines between the opening and closing `$$` delimiters.)\n",
    "\n",
    "In summary:\n",
    "\n",
    "- `$...$` starts an inline TeX (and space isn't allowed between them)\n",
    "- `$$...$$` starts a math block\n",
    "- A `\\$` sign is rendered as a normal `\\$` sign\n",
    "- Math isn't rendered in inline code/code blocks\n",
    "\n",
    "The final script implementing this is in my [hugo2quarto repository as `fix_tex.py`](https://github.com/EdwardJRoss/hugo2quarto/blob/main/fix_tex.py); the rest of this notebook "
   ]
  },
  {
   "cell_type": "markdown",
   "id": "1355730a",
   "metadata": {},
   "source": [
    "## Tests\n",
    "\n",
    "The result should be a function that takes mmark code and returns pandoc code.\n",
    "\n",
    "Since there are a set of rules the best way to check the implementation is with some examples.\n",
    "Each `Example` will have a descriptive name, the `mmark` input and the expected `pandoc` output."
   ]
  },
  {
   "cell_type": "code",
   "execution_count": 1,
   "id": "f3e73be3",
   "metadata": {},
   "outputs": [],
   "source": [
    "from dataclasses import dataclass\n",
    "\n",
    "@dataclass\n",
    "class Example:\n",
    "    name: str\n",
    "    mmark: str\n",
    "    pandoc: str"
   ]
  },
  {
   "cell_type": "markdown",
   "id": "b061f03f",
   "metadata": {},
   "source": [
    "We'll generate a bunch of examples that satisfy the above rules.\n",
    "\n",
    "Sometimes there are multiple possibilities, like with `$20,000 to $30,000` but we will just pick a simple rule to transform them (escaping *every* `$`).\n",
    "\n",
    "There's a bunch of other cases we won't check (like [indented code blocks](https://spec.commonmark.org/0.30/#indented-code-blocks) and [HTML BLocks](https://spec.commonmark.org/0.30/#html-blocks)) because they don't occur in the Skeptric code."
   ]
  },
  {
   "cell_type": "code",
   "execution_count": 2,
   "id": "f96d628a",
   "metadata": {},
   "outputs": [],
   "source": [
    "examples = [\n",
    "    Example(\"Inline\",\n",
    "            \"And $$x=2$$\",\n",
    "            \"And $x=2$\"),\n",
    "    \n",
    "    Example(\"Inline Space\",\n",
    "            \"And $$ x = 2 $$\",\n",
    "            \"And $x = 2$\"),\n",
    "    \n",
    "    Example(\"Block\",\n",
    "           \"And\\n\\n$$x=2$$\\n\",\n",
    "           \"And\\n\\n$$x=2$$\\n\"),\n",
    "    \n",
    "    Example(\"Block space\",\n",
    "            \"And\\n\\n$$ x = 2 $$\\n\",\n",
    "            \"And\\n\\n$$x = 2$$\\n\"),\n",
    "    \n",
    "    Example(\"Block multiline\",\n",
    "            \"\"\"\n",
    "$$\\begin{align}\n",
    "& \\text{maximize}   && \\mathbf{c}^\\mathrm{T} \\mathbf{x}\\\\\n",
    "& \\text{subject to} && A \\mathbf{x} \\le \\mathbf{b}, \\\\\n",
    "&  && \\mathbf{x} \\ge \\mathbf{0}, \\\\\n",
    "\\end{align}\n",
    "$$\n",
    "\"\"\",\n",
    "                       \"\"\"\n",
    "$$\\begin{align}\n",
    "& \\text{maximize}   && \\mathbf{c}^\\mathrm{T} \\mathbf{x}\\\\\n",
    "& \\text{subject to} && A \\mathbf{x} \\le \\mathbf{b}, \\\\\n",
    "&  && \\mathbf{x} \\ge \\mathbf{0}, \\\\\n",
    "\\end{align}\n",
    "$$\n",
    "\"\"\"),\n",
    "    \n",
    "    Example(\"Literal $\", \"It costs $20,000\", r\"It costs \\$20,000\"),\n",
    "    \n",
    "    Example(\"Two Literal $\", \"$20,000 to $30,000\", r\"\\$20,000 to \\$30,000\"),\n",
    "    \n",
    "    Example(\"Inline code\", \"And `$x+=1`\", \"And `$x+=1`\"),\n",
    "    \n",
    "    Example(\"Inline code double $\", \"As TeX `$$x=2$$`\", \"As TeX `$$x=2$$`\"),\n",
    "    \n",
    "    Example(\"Inline code with escape\", \"And `\\$x=2`\", \"And `\\$x=2`\"),\n",
    "    \n",
    "    Example(\"Fenced code\",\n",
    "            \"\"\"\\n```\\n$x+=1\\n```\\n\"\"\",\n",
    "            \"\"\"\\n```\\n$x+=1\\n```\\n\"\"\"),\n",
    "    \n",
    "    Example(\"Fenced code double $\",\n",
    "            \"\"\"\\n```latex\\n$$x==2$$\\n```\\n\"\"\",\n",
    "            \"\"\"\\n```latex\\n$$x==2$$\\n```\\n\"\"\"),\n",
    "    \n",
    "    Example(\"Indented code blocks\",\n",
    "            \"\\n\" + r\"    %>% mutate_if(is.character, function(x) gsub('\\\\$', '\\\\\\\\$', x))\",\n",
    "            \"\\n\" + r\"    %>% mutate_if(is.character, function(x) gsub('\\\\$', '\\\\\\\\$', x))\"),\n",
    "    \n",
    "    Example(\"After intended code blocks\",\n",
    "            \"Like so\\n    $x = 2\\nfor $30\",\n",
    "            \"Like so\\n    $x = 2\\nfor \\$30\"),\n",
    "            ]"
   ]
  },
  {
   "cell_type": "markdown",
   "id": "2865be7d",
   "metadata": {},
   "source": [
    "Check the names are unique"
   ]
  },
  {
   "cell_type": "code",
   "execution_count": 3,
   "id": "3b962e90",
   "metadata": {},
   "outputs": [],
   "source": [
    "assert len(set([e.name for e in examples])) == len(examples)"
   ]
  },
  {
   "cell_type": "markdown",
   "id": "eefb5635",
   "metadata": {},
   "source": [
    "Now we can test our examples by checking our transformation function and returning the failures."
   ]
  },
  {
   "cell_type": "code",
   "execution_count": 4,
   "id": "4a1bca9e",
   "metadata": {},
   "outputs": [],
   "source": [
    "def test(f, examples=examples):\n",
    "    for example in examples:\n",
    "        data = example.mmark\n",
    "        result = f(data)\n",
    "        expected = example.pandoc\n",
    "        if result != expected:\n",
    "            yield({'name': example.name, 'data': data, 'result': result, 'expected': expected})"
   ]
  },
  {
   "cell_type": "markdown",
   "id": "5455e5a5",
   "metadata": {},
   "source": [
    "If we return the empty string all tests should fail"
   ]
  },
  {
   "cell_type": "code",
   "execution_count": 5,
   "id": "cd2cc319",
   "metadata": {},
   "outputs": [],
   "source": [
    "assert len(list(test(lambda x: ''))) == len(examples)"
   ]
  },
  {
   "cell_type": "markdown",
   "id": "9e055ed3",
   "metadata": {},
   "source": [
    "A lot of the time the input is unchanged; the identity function will only have a few failures"
   ]
  },
  {
   "cell_type": "code",
   "execution_count": 6,
   "id": "981dc609",
   "metadata": {},
   "outputs": [
    {
     "data": {
      "text/plain": [
       "[{'name': 'Inline',\n",
       "  'data': 'And $$x=2$$',\n",
       "  'result': 'And $$x=2$$',\n",
       "  'expected': 'And $x=2$'},\n",
       " {'name': 'Inline Space',\n",
       "  'data': 'And $$ x = 2 $$',\n",
       "  'result': 'And $$ x = 2 $$',\n",
       "  'expected': 'And $x = 2$'},\n",
       " {'name': 'Block space',\n",
       "  'data': 'And\\n\\n$$ x = 2 $$\\n',\n",
       "  'result': 'And\\n\\n$$ x = 2 $$\\n',\n",
       "  'expected': 'And\\n\\n$$x = 2$$\\n'},\n",
       " {'name': 'Literal $',\n",
       "  'data': 'It costs $20,000',\n",
       "  'result': 'It costs $20,000',\n",
       "  'expected': 'It costs \\\\$20,000'},\n",
       " {'name': 'Two Literal $',\n",
       "  'data': '$20,000 to $30,000',\n",
       "  'result': '$20,000 to $30,000',\n",
       "  'expected': '\\\\$20,000 to \\\\$30,000'},\n",
       " {'name': 'After intended code blocks',\n",
       "  'data': 'Like so\\n    $x = 2\\nfor $30',\n",
       "  'result': 'Like so\\n    $x = 2\\nfor $30',\n",
       "  'expected': 'Like so\\n    $x = 2\\nfor \\\\$30'}]"
      ]
     },
     "execution_count": 6,
     "metadata": {},
     "output_type": "execute_result"
    }
   ],
   "source": [
    "list(test(lambda x: x))"
   ]
  },
  {
   "cell_type": "markdown",
   "id": "1f4a9d2d",
   "metadata": {},
   "source": [
    "## Strategy\n",
    "\n",
    "We will use a simple Discrete Finite Automonon (DFA) to handle the transitions between the different states:\n",
    "\n",
    "* In `default` state just yield characters, and look for transitions to other states\n",
    "* In `inline_code` or `block_code` just yield characters until the end of the code\n",
    "* In `inline_math` or `block_math` transform the delimiters and strip surrounding whitespace, leaving the input unchanged\n",
    "\n",
    "### Why not a parser?\n",
    "\n",
    "A good solution would be to use one of the many Markdown parsers like [Marko](https://marko-py.readthedocs.io/en/latest/), or [Mistletoe](https://github.com/miyuchina/mistletoe) or even [Pandoc](https://pandoc.org/) itself.\n",
    "These all can produce Markdown and are able to be extended which would allow us to parse mmark maths.\n",
    "\n",
    "The problem is they are all *destructive parsers*, they don't preserve things like whitespace and even an identity parse changes the markdown significantly.\n",
    "This makes the git diffs much bigger and it's harder to check the results (and I caught a lot of bugs checking the git diffs).\n",
    "\n",
    "So we're forced to write our own."
   ]
  },
  {
   "cell_type": "markdown",
   "id": "d6fc47f3",
   "metadata": {},
   "source": [
    "## Implementation\n",
    "\n",
    "### States\n",
    "\n",
    "We will create a Mode for each state"
   ]
  },
  {
   "cell_type": "code",
   "execution_count": 7,
   "id": "61c60a86",
   "metadata": {},
   "outputs": [],
   "source": [
    "from enum import Enum, auto\n",
    "\n",
    "class Mode(Enum):\n",
    "    DEFAULT = auto()             # Default (paragraph mode)\n",
    "    INLINE_CODE = auto()         # Inside an inline code\n",
    "    BLOCK_CODE = auto()          # Inside a code block\n",
    "    INLINE_MATH = auto()         # Inside inline math\n",
    "    BLOCK_MATH = auto()          # Inside block math\n",
    "    INDENTED_CODE = auto()       # Inside an indented code block"
   ]
  },
  {
   "cell_type": "markdown",
   "id": "44b157a7",
   "metadata": {},
   "source": [
    "### Transitions"
   ]
  },
  {
   "cell_type": "markdown",
   "id": "283a6549",
   "metadata": {},
   "source": [
    "We transition between the states when we hit certain sequences of tokens.\n",
    "\n",
    "The below diagram shows the main transitions."
   ]
  },
  {
   "cell_type": "markdown",
   "id": "f12b9d02",
   "metadata": {},
   "source": [
    "![Diagram of DFA for parser](./dfa.svg)"
   ]
  },
  {
   "cell_type": "markdown",
   "id": "426313f0",
   "metadata": {},
   "source": [
    "We will capture the transitions in an `Action` object which has:\n",
    "\n",
    "- an `input_mode` where it applies\n",
    "- a `match_re`, a regular expression on which to trigger the action\n",
    "- a `output_mode` to transition to on match\n",
    "- an `output` string to emit on a match, by default the matched string itself\n",
    "\n",
    "There is also an implicit default action that consumes the next token, and outputs the current mode and that consumed token."
   ]
  },
  {
   "cell_type": "code",
   "execution_count": 8,
   "id": "9ead0eda",
   "metadata": {},
   "outputs": [],
   "source": [
    "import re\n",
    "from typing import Optional\n",
    "\n",
    "@dataclass\n",
    "class Action:\n",
    "    input_mode: Mode\n",
    "    match_re: str\n",
    "    output_mode: Mode\n",
    "    output: Optional[str] = None\n",
    "        \n",
    "    def __post_init__(self):\n",
    "        self.pattern = re.compile(self.match_re)\n",
    "        \n",
    "    def match(self, s: str, idx: int = 0) -> Optional[str]:\n",
    "        match = self.pattern.match(s, idx)\n",
    "        if match:\n",
    "            match_str = match.group(0)\n",
    "            len_match_str = len(match_str)\n",
    "            assert len_match_str > 0\n",
    "            return {'output': self.output or match_str, 'size': len_match_str}"
   ]
  },
  {
   "cell_type": "markdown",
   "id": "9a2e80ae",
   "metadata": {},
   "source": [
    "Now the transitions can be defined as a list of Actions"
   ]
  },
  {
   "cell_type": "code",
   "execution_count": 9,
   "id": "39a61203",
   "metadata": {},
   "outputs": [],
   "source": [
    "actions = [\n",
    "    Action(Mode.DEFAULT, \"\\n```\", Mode.BLOCK_CODE),\n",
    "    Action(Mode.DEFAULT, \"`\", Mode.INLINE_CODE),\n",
    "    Action(Mode.DEFAULT, \"\\n    \", Mode.INDENTED_CODE),\n",
    "    Action(Mode.DEFAULT, \"\\n\\$\\$ *\", Mode.BLOCK_MATH, \"\\n$$\"),\n",
    "    Action(Mode.DEFAULT, \"\\$\\$ *\", Mode.INLINE_MATH, \"$\"),\n",
    "    Action(Mode.DEFAULT, \"\\$\", Mode.DEFAULT, \"\\$\"),\n",
    "    \n",
    "    \n",
    "    Action(Mode.BLOCK_CODE, \"```\", Mode.DEFAULT),\n",
    "    \n",
    "    Action(Mode.INLINE_CODE, \"`\", Mode.DEFAULT),\n",
    "    \n",
    "    Action(Mode.INLINE_MATH, \" *\\$\\$\", Mode.DEFAULT, \"$\"),\n",
    "    Action(Mode.BLOCK_MATH, \" *\\$\\$\", Mode.DEFAULT, \"$$\"),\n",
    "    \n",
    "    Action(Mode.INDENTED_CODE, \"\\n {,3}\\S\", Mode.DEFAULT),\n",
    "]"
   ]
  },
  {
   "cell_type": "markdown",
   "id": "c028684b",
   "metadata": {},
   "source": [
    "### Parsing\n",
    "\n",
    "Now we need to find the matching action and pattern and update the mode and output.\n",
    "\n",
    "If there is no matching pattern in this mode then we just consume one token and continue."
   ]
  },
  {
   "cell_type": "code",
   "execution_count": 10,
   "id": "6c6877b5",
   "metadata": {},
   "outputs": [],
   "source": [
    "import logging\n",
    "    \n",
    "def parse(s):\n",
    "    mode = Mode.DEFAULT\n",
    "    idx = 0\n",
    "    output = []\n",
    "    \n",
    "    while idx < len(s):\n",
    "        logging.debug('Mode: %s, Last output: %s, Next chars: %s' % (mode, output[-1:], s[idx:idx+5].replace('\\n', '\\\\n')))\n",
    "        last_idx = idx\n",
    "        for action in actions:\n",
    "            if action.input_mode != mode:\n",
    "                continue\n",
    "            match = action.match(s, idx)\n",
    "            if match:\n",
    "                logging.debug('Match: %s' % action)\n",
    "                mode = action.output_mode\n",
    "                idx += match['size']\n",
    "                output += match['output']\n",
    "                break\n",
    "        else:\n",
    "            output += s[idx]\n",
    "            idx += 1\n",
    "        \n",
    "        assert idx > last_idx, \"Infinite loop\"\n",
    "    \n",
    "    return ''.join(output)"
   ]
  },
  {
   "cell_type": "markdown",
   "id": "cf5b7db8",
   "metadata": {},
   "source": [
    "### Example\n",
    "\n",
    "Let's run through an example with logging on to see how it works"
   ]
  },
  {
   "cell_type": "code",
   "execution_count": 11,
   "id": "86634d49",
   "metadata": {},
   "outputs": [],
   "source": [
    "logging.getLogger().setLevel('DEBUG')"
   ]
  },
  {
   "cell_type": "code",
   "execution_count": 12,
   "id": "98c1cd20",
   "metadata": {},
   "outputs": [
    {
     "data": {
      "text/plain": [
       "'And $$ x = 2 $$'"
      ]
     },
     "execution_count": 12,
     "metadata": {},
     "output_type": "execute_result"
    }
   ],
   "source": [
    "mmark = examples[1].mmark\n",
    "mmark"
   ]
  },
  {
   "cell_type": "code",
   "execution_count": 13,
   "id": "822055ea",
   "metadata": {},
   "outputs": [
    {
     "name": "stderr",
     "output_type": "stream",
     "text": [
      "DEBUG:root:Mode: Mode.DEFAULT, Last output: [], Next chars: And $\n",
      "DEBUG:root:Mode: Mode.DEFAULT, Last output: ['A'], Next chars: nd $$\n",
      "DEBUG:root:Mode: Mode.DEFAULT, Last output: ['n'], Next chars: d $$ \n",
      "DEBUG:root:Mode: Mode.DEFAULT, Last output: ['d'], Next chars:  $$ x\n",
      "DEBUG:root:Mode: Mode.DEFAULT, Last output: [' '], Next chars: $$ x \n",
      "DEBUG:root:Match: Action(input_mode=<Mode.DEFAULT: 1>, match_re='\\\\$\\\\$ *', output_mode=<Mode.INLINE_MATH: 4>, output='$')\n",
      "DEBUG:root:Mode: Mode.INLINE_MATH, Last output: ['$'], Next chars: x = 2\n",
      "DEBUG:root:Mode: Mode.INLINE_MATH, Last output: ['x'], Next chars:  = 2 \n",
      "DEBUG:root:Mode: Mode.INLINE_MATH, Last output: [' '], Next chars: = 2 $\n",
      "DEBUG:root:Mode: Mode.INLINE_MATH, Last output: ['='], Next chars:  2 $$\n",
      "DEBUG:root:Mode: Mode.INLINE_MATH, Last output: [' '], Next chars: 2 $$\n",
      "DEBUG:root:Mode: Mode.INLINE_MATH, Last output: ['2'], Next chars:  $$\n",
      "DEBUG:root:Match: Action(input_mode=<Mode.INLINE_MATH: 4>, match_re=' *\\\\$\\\\$', output_mode=<Mode.DEFAULT: 1>, output='$')\n"
     ]
    },
    {
     "data": {
      "text/plain": [
       "'And $x = 2$'"
      ]
     },
     "execution_count": 13,
     "metadata": {},
     "output_type": "execute_result"
    }
   ],
   "source": [
    "parse(mmark)"
   ]
  },
  {
   "cell_type": "code",
   "execution_count": 14,
   "id": "1e7cf2bb",
   "metadata": {},
   "outputs": [],
   "source": [
    "logging.getLogger().setLevel('INFO')"
   ]
  },
  {
   "cell_type": "markdown",
   "id": "e18d7fd4",
   "metadata": {},
   "source": [
    "### Run tests"
   ]
  },
  {
   "cell_type": "markdown",
   "id": "a7a6cf9e",
   "metadata": {},
   "source": [
    "All the tests pass"
   ]
  },
  {
   "cell_type": "code",
   "execution_count": 15,
   "id": "a4254589",
   "metadata": {},
   "outputs": [
    {
     "data": {
      "text/plain": [
       "[]"
      ]
     },
     "execution_count": 15,
     "metadata": {},
     "output_type": "execute_result"
    }
   ],
   "source": [
    "list(test(parse))"
   ]
  },
  {
   "cell_type": "code",
   "execution_count": 16,
   "id": "aadf8e45",
   "metadata": {},
   "outputs": [],
   "source": [
    "assert not list(test(parse))"
   ]
  }
 ],
 "metadata": {
  "kernelspec": {
   "display_name": "Python 3 (ipykernel)",
   "language": "python",
   "name": "python3"
  },
  "language_info": {
   "codemirror_mode": {
    "name": "ipython",
    "version": 3
   },
   "file_extension": ".py",
   "mimetype": "text/x-python",
   "name": "python",
   "nbconvert_exporter": "python",
   "pygments_lexer": "ipython3",
   "version": "3.8.10"
  },
  "toc": {
   "base_numbering": 1,
   "nav_menu": {},
   "number_sections": true,
   "sideBar": true,
   "skip_h1_title": false,
   "title_cell": "Table of Contents",
   "title_sidebar": "Contents",
   "toc_cell": false,
   "toc_position": {},
   "toc_section_display": true,
   "toc_window_display": false
  }
 },
 "nbformat": 4,
 "nbformat_minor": 5
}
