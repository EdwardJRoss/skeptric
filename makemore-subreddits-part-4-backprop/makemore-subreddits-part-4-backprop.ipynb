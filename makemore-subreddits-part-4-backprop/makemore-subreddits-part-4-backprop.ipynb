{
 "cells": [
  {
   "cell_type": "raw",
   "id": "6a264fd5-7493-42f3-be1a-3b6be030dfd4",
   "metadata": {},
   "source": [
    "---\n",
    "categories:\n",
    "  - nlp\n",
    "  - makemore\n",
    "date: 2024-01-10T18:46+11:00\n",
    "image: ./backprop.jpg\n",
    "title: Makemore Subreddits - Part 4 Backprop\n",
    "format:\n",
    "  html:\n",
    "    toc: true\n",
    "---"
   ]
  },
  {
   "cell_type": "markdown",
   "id": "8f10f52b-030d-4b23-b4e9-e85bc038f92c",
   "metadata": {},
   "source": [
    "Let's manually backpropagate through in a Multi-Layer Perceptron language model for subreddit names.\n",
    "\n",
    "This loosely follows part 4 of Andrej Karpathy's excellent [makemore](https://github.com/karpathy/makemore), in particular the [becoming a backprop ninja notebook](https://colab.research.google.com/drive/1WV2oi2fh9XXyldh02wupFQX0wh5ZC-z-?usp=sharing); check that out first. However he used a list of US names, where we're going to use subreddit names\n",
    "\n",
    "This continues on from [Makemore Subreddits - Part 3 Activations and Gradients](https://skeptric.com/makemore-subreddits-part-3-activation-gradient/), which modularises the Multi-Layer Perceptron following from [Bengio et al. 2003](https://www.jmlr.org/papers/volume3/bengio03a/bengio03a.pdf)."
   ]
  },
  {
   "cell_type": "markdown",
   "id": "fb72e1b1-22dd-4449-a49f-61133354a0b4",
   "metadata": {},
   "source": [
    "::: {.callout-note}\n",
    "This is a Jupyter notebook you can [download the notebook](https://github.com/EdwardJRoss/skeptric/blob/master/makemore-subreddits-part-4-backprop/index.ipynb) if you want to run it yourself.\n",
    ":::"
   ]
  },
  {
   "cell_type": "markdown",
   "id": "bdafbc4c-c9c2-44da-a055-259f8c0e7e5c",
   "metadata": {},
   "source": [
    "# Setup\n",
    "\n",
    "This is the same as in [Part 2](https://skeptric.com/makemore-subreddits-part-2-mlp/)"
   ]
  },
  {
   "cell_type": "markdown",
   "id": "eae9f37e-adcc-4b42-85da-6bf7c2dfaad5",
   "metadata": {},
   "source": [
    "## Load and filter the data"
   ]
  },
  {
   "cell_type": "code",
   "execution_count": 1,
   "id": "1cf15165-d2f8-4cd8-ae6a-a189acce9fc5",
   "metadata": {},
   "outputs": [],
   "source": [
    "import matplotlib.pyplot as plt\n",
    "import torch\n",
    "from torch import nn\n",
    "import torch.nn.functional as F\n",
    "import random\n",
    "import csv\n",
    "from pathlib import Path\n",
    "from collections import Counter\n",
    "from tqdm.auto import trange, tqdm"
   ]
  },
  {
   "cell_type": "markdown",
   "id": "fc66da43-8ab2-4f0c-96ef-5a333c4b9495",
   "metadata": {},
   "source": [
    "Filter to subreddits that:\n",
    "\n",
    "* Have at least 1000 subscribers\n",
    "* Are not archived\n",
    "* Are safe for work\n",
    "* And are not quarantined\n",
    "\n",
    "Note that you need to have [downloaded subreddits.csv](https://skeptric.com/resources/subreddits.csv.bz2) (and uncompresed if appropriate)."
   ]
  },
  {
   "cell_type": "code",
   "execution_count": 2,
   "id": "5dc671cf-54af-49cb-9fdf-4886bf33482b",
   "metadata": {},
   "outputs": [
    {
     "name": "stdout",
     "output_type": "stream",
     "text": [
      "splunk\n",
      "thenwa\n",
      "soylent\n",
      "factorio\n",
      "christinaricci\n",
      "blues\n",
      "vegancheesemaking\n",
      "goldredditsays\n",
      "reformed\n",
      "nagoya\n"
     ]
    },
    {
     "data": {
      "text/plain": [
       "(26876, 3359, 3360)"
      ]
     },
     "execution_count": 2,
     "metadata": {},
     "output_type": "execute_result"
    }
   ],
   "source": [
    "data_path = Path('./data')\n",
    "min_subscribers = 1_000\n",
    "\n",
    "with open(data_path / 'subreddits.csv', 'r') as f:\n",
    "    names = [d['name'] for d in csv.DictReader(f) \n",
    "             if int(d['subscribers'] or 0) >= min_subscribers\n",
    "             and d['description']\n",
    "             and d['type'] != 'archived'\n",
    "             and d['nsfw'] == 'f'\n",
    "             and d['quarantined'] == 'f']\n",
    "    \n",
    "len(names)\n",
    "random.seed(42)\n",
    "random.shuffle(names)\n",
    "\n",
    "N = len(names)\n",
    "\n",
    "names_train = names[:int(0.8*N)]\n",
    "names_val = names[int(0.8*N):int(0.9*N)]\n",
    "names_test = names[int(0.9*N):]\n",
    "\n",
    "\n",
    "for name in names_train[:10]:\n",
    "    print(name)\n",
    "\n",
    "len(names_train), len(names_val), len(names_test)"
   ]
  },
  {
   "cell_type": "markdown",
   "id": "02430fc3-a5d7-4975-a5bd-1f7ee750980b",
   "metadata": {},
   "source": [
    "## Compile the Data\n",
    "\n",
    "Now convert the dataset into something that the model can easily work with.\n",
    "First represent all the character tokens as consecutive integers.\n",
    "We create a special `PAD_CHAR` with index 0 to represent tokens outside of the sequence."
   ]
  },
  {
   "cell_type": "code",
   "execution_count": 3,
   "id": "02c6ded5-865d-42a9-b03d-cabfdad6b1f5",
   "metadata": {},
   "outputs": [
    {
     "data": {
      "text/plain": [
       "(torch.Size([330143, 3]), torch.Size([330143]))"
      ]
     },
     "execution_count": 3,
     "metadata": {},
     "output_type": "execute_result"
    }
   ],
   "source": [
    "PAD_CHAR = '.'\n",
    "PAD_IDX = 0\n",
    "\n",
    "i2s = sorted(set(''.join(names_train)))\n",
    "assert PAD_CHAR not in i2s\n",
    "i2s.insert(PAD_IDX, PAD_CHAR)\n",
    "\n",
    "s2i = {s:i for i, s in enumerate(i2s)}\n",
    "\n",
    "V = len(i2s)\n",
    "\n",
    "def compile_dataset(names, block_size, PAD_CHAR=PAD_CHAR, s2i=s2i):\n",
    "    X, y = [], []\n",
    "    for name in names:\n",
    "        padded_name = PAD_CHAR * block_size + name + PAD_CHAR\n",
    "        padded_tokens = [s2i[c] for c in padded_name]\n",
    "        for *context, target in zip(*[padded_tokens[i:] for i in range(block_size+1)]):\n",
    "            X.append(context)\n",
    "            y.append(target)\n",
    "    return torch.tensor(X), torch.tensor(y)\n",
    "\n",
    "\n",
    "block_size = 3\n",
    "\n",
    "X, y = compile_dataset(names_train, block_size)\n",
    "X_val, y_val = compile_dataset(names_val, block_size)\n",
    "X_test, y_test = compile_dataset(names_test, block_size)\n",
    "\n",
    "X.shape, y.shape"
   ]
  },
  {
   "cell_type": "markdown",
   "id": "8c0e0ee6-4485-45c0-a6cd-b99a60e678d5",
   "metadata": {},
   "source": [
    "# Breaking down the MLP\n",
    "\n",
    "Let's start with an un-parameterised version of the MLP we built in part 3:"
   ]
  },
  {
   "cell_type": "code",
   "execution_count": 4,
   "id": "3c87b1c9-3d25-43d4-9a4c-588c67df37be",
   "metadata": {},
   "outputs": [],
   "source": [
    "from collections import OrderedDict\n",
    "\n",
    "n_embd = 10 # the dimensionality of the character embedding vectors\n",
    "n_hidden = 64 # the number of neurons in the hidden layer of the MLP\n",
    "\n",
    "mlp = nn.Sequential(OrderedDict(dict(\n",
    "    embed = nn.Embedding(V, n_embd),\n",
    "    flatten = nn.Flatten(),\n",
    "    hidden = nn.Linear(n_embd * block_size, n_hidden),\n",
    "    batchnorm = nn.BatchNorm1d(n_hidden),\n",
    "    activation = nn.Tanh(),\n",
    "    output = nn.Linear(n_hidden, V),\n",
    ")))"
   ]
  },
  {
   "cell_type": "markdown",
   "id": "9a0da17e-0149-4c8b-a322-800aedc6fbe2",
   "metadata": {},
   "source": [
    "## Weights and biases\n",
    "\n",
    "Let's extract all the weights and biases from the model and view their distribtions.\n",
    "\n",
    "The embedding layer is a a standard normal:"
   ]
  },
  {
   "cell_type": "code",
   "execution_count": 5,
   "id": "178a8df8-3b7e-4f8d-b0c5-65a7425cf7d2",
   "metadata": {},
   "outputs": [
    {
     "data": {
      "text/plain": [
       "(tensor(0.0527, grad_fn=<MeanBackward0>),\n",
       " tensor(0.9875, grad_fn=<StdBackward0>))"
      ]
     },
     "execution_count": 5,
     "metadata": {},
     "output_type": "execute_result"
    },
    {
     "data": {
      "image/png": "[encoded data removed]",
      "text/plain": [
       "<Figure size 640x480 with 1 Axes>"
      ]
     },
     "metadata": {},
     "output_type": "display_data"
    }
   ],
   "source": [
    "C = mlp.embed.weight\n",
    "plt.hist(C.flatten().detach().numpy())\n",
    "C.mean(), C.std()"
   ]
  },
  {
   "cell_type": "markdown",
   "id": "6da1d960-318a-4e19-87bb-1cd81f514cf6",
   "metadata": {},
   "source": [
    "The linear weights and biases are [documented](https://pytorch.org/docs/stable/generated/torch.nn.Linear.html) to be uniformly distributed:\n",
    "\n",
    "$$\\mathcal{U}\\left(-\\frac{1}{\\sqrt{\\rm in\\_features}}, \\frac{1}{\\sqrt{\\rm in\\_features}}\\right)$$\n",
    "\n",
    "(Note this is different to what Karpathy does in Makemore using uniform distributions)\n",
    "\n",
    "And since $$ \\mathbb{V}\\left[\\mathcal{U}(a, b)\\right] = \\frac{(b - a)^2}{12}$$\n",
    "\n",
    "we expect the mean to be 0 and the standard deviation to be $\\sqrt{\\frac{(2/\\sqrt{{\\rm in\\_features}})^2}{12}} = \\frac{1}{\\sqrt{3 \\times {\\rm in\\_features}}}$.\n",
    "\n",
    "This appears to be the case for the first weight"
   ]
  },
  {
   "cell_type": "code",
   "execution_count": 6,
   "id": "9650eb14-6051-43ed-b60d-0d0b847516ac",
   "metadata": {},
   "outputs": [
    {
     "data": {
      "text/plain": [
       "(tensor(0.0001, grad_fn=<MeanBackward0>),\n",
       " tensor(1.0072, grad_fn=<MulBackward0>))"
      ]
     },
     "execution_count": 6,
     "metadata": {},
     "output_type": "execute_result"
    },
    {
     "data": {
      "image/png": "[encoded data removed]",
      "text/plain": [
       "<Figure size 640x480 with 1 Axes>"
      ]
     },
     "metadata": {},
     "output_type": "display_data"
    }
   ],
   "source": [
    "W1 = mlp.hidden.weight.T\n",
    "plt.hist(W1.flatten().detach().numpy())\n",
    "W1.mean(), W1.std() * (3 * len(W1))**0.5"
   ]
  },
  {
   "cell_type": "markdown",
   "id": "8c02ddc8-ce51-4e2f-af5d-5e08d9c3ce06",
   "metadata": {},
   "source": [
    "And the first bias (which is less clear because there are fewer elements, so the histogram has more error)"
   ]
  },
  {
   "cell_type": "code",
   "execution_count": 7,
   "id": "cd191ffd-9925-4d1c-8ff1-87efcfc3a4f6",
   "metadata": {},
   "outputs": [
    {
     "data": {
      "text/plain": [
       "(tensor(0.0319, grad_fn=<MeanBackward0>),\n",
       " tensor(0.9086, grad_fn=<MulBackward0>))"
      ]
     },
     "execution_count": 7,
     "metadata": {},
     "output_type": "execute_result"
    },
    {
     "data": {
      "image/png": "[encoded data removed]",
      "text/plain": [
       "<Figure size 640x480 with 1 Axes>"
      ]
     },
     "metadata": {},
     "output_type": "display_data"
    }
   ],
   "source": [
    "b1 = mlp.hidden.bias\n",
    "plt.hist(b1.flatten().detach().numpy())\n",
    "b1.mean(), b1.std() * (3 * len(W1))**0.5"
   ]
  },
  {
   "cell_type": "markdown",
   "id": "c5a41e41-b00d-4f3f-a6be-92e17cbc81d4",
   "metadata": {},
   "source": [
    "And similarly for the output linear layer weights"
   ]
  },
  {
   "cell_type": "code",
   "execution_count": 8,
   "id": "b0870286-a58e-4b01-9b42-3bc33d9bad9d",
   "metadata": {},
   "outputs": [
    {
     "data": {
      "text/plain": [
       "(tensor(0.0005, grad_fn=<MeanBackward0>),\n",
       " tensor(1.0007, grad_fn=<MulBackward0>))"
      ]
     },
     "execution_count": 8,
     "metadata": {},
     "output_type": "execute_result"
    },
    {
     "data": {
      "image/png": "[encoded data removed]",
      "text/plain": [
       "<Figure size 640x480 with 1 Axes>"
      ]
     },
     "metadata": {},
     "output_type": "display_data"
    }
   ],
   "source": [
    "W2 = mlp.output.weight.T\n",
    "plt.hist(W2.flatten().detach().numpy())\n",
    "W2.mean(), W2.std() * (3 * len(W2))**0.5"
   ]
  },
  {
   "cell_type": "markdown",
   "id": "0546d5d4-039d-40b0-979d-1de2891570e2",
   "metadata": {},
   "source": [
    "and biases"
   ]
  },
  {
   "cell_type": "code",
   "execution_count": 9,
   "id": "70c1e6a2-7eca-4cdd-bb5f-6aa91913605b",
   "metadata": {},
   "outputs": [
    {
     "data": {
      "text/plain": [
       "(tensor(0.0284, grad_fn=<MeanBackward0>),\n",
       " tensor(0.9401, grad_fn=<MulBackward0>))"
      ]
     },
     "execution_count": 9,
     "metadata": {},
     "output_type": "execute_result"
    },
    {
     "data": {
      "image/png": "[encoded data removed]",
      "text/plain": [
       "<Figure size 640x480 with 1 Axes>"
      ]
     },
     "metadata": {},
     "output_type": "display_data"
    }
   ],
   "source": [
    "b2 = mlp.output.bias\n",
    "plt.hist(b2.flatten().detach().numpy())\n",
    "b2.mean(), b2.std() * (3 * len(W2))**0.5"
   ]
  },
  {
   "cell_type": "markdown",
   "id": "1842e6c6-910b-4e8f-b0fc-27134f4fee44",
   "metadata": {},
   "source": [
    "The batchnorm weights and biases are initialised to 1s and 0s respectively:"
   ]
  },
  {
   "cell_type": "code",
   "execution_count": 10,
   "id": "6649c536-0f6e-456a-a125-19cf10cd7ad4",
   "metadata": {},
   "outputs": [
    {
     "data": {
      "text/plain": [
       "(Parameter containing:\n",
       " tensor([1., 1., 1., 1., 1., 1., 1., 1., 1., 1., 1., 1., 1., 1., 1., 1., 1., 1.,\n",
       "         1., 1., 1., 1., 1., 1., 1., 1., 1., 1., 1., 1., 1., 1., 1., 1., 1., 1.,\n",
       "         1., 1., 1., 1., 1., 1., 1., 1., 1., 1., 1., 1., 1., 1., 1., 1., 1., 1.,\n",
       "         1., 1., 1., 1., 1., 1., 1., 1., 1., 1.], requires_grad=True),\n",
       " Parameter containing:\n",
       " tensor([0., 0., 0., 0., 0., 0., 0., 0., 0., 0., 0., 0., 0., 0., 0., 0., 0., 0., 0., 0., 0., 0., 0., 0.,\n",
       "         0., 0., 0., 0., 0., 0., 0., 0., 0., 0., 0., 0., 0., 0., 0., 0., 0., 0., 0., 0., 0., 0., 0., 0.,\n",
       "         0., 0., 0., 0., 0., 0., 0., 0., 0., 0., 0., 0., 0., 0., 0., 0.],\n",
       "        requires_grad=True))"
      ]
     },
     "execution_count": 10,
     "metadata": {},
     "output_type": "execute_result"
    }
   ],
   "source": [
    "mlp.batchnorm.weight, mlp.batchnorm.bias"
   ]
  },
  {
   "cell_type": "markdown",
   "id": "11cd0398-bbed-44ff-b334-338c54b50b87",
   "metadata": {},
   "source": [
    "We will add some jitter to check that our derivatives work in general and not just for this very special case:"
   ]
  },
  {
   "cell_type": "code",
   "execution_count": 11,
   "id": "5ce255d8-a3d6-4335-b79d-5ffd4058ad77",
   "metadata": {},
   "outputs": [],
   "source": [
    "with torch.no_grad():\n",
    "    mlp.batchnorm.weight += torch.randn_like(mlp.batchnorm.weight) * 0.1\n",
    "    mlp.batchnorm.bias += torch.randn_like(mlp.batchnorm.bias) * 0.1\n",
    "\n",
    "bngain = mlp.batchnorm.weight\n",
    "bnbias = mlp.batchnorm.bias"
   ]
  },
  {
   "cell_type": "markdown",
   "id": "5e13faa8-2103-4922-a19f-5d5cde4572e5",
   "metadata": {},
   "source": [
    "## Calculating the loss step by step\n",
    "\n",
    "Let's rewrite our MLP manually in terms of the underlying parameters so we can more clearly see the equations we need to backpropagate.\n",
    "\n",
    "We'll start off by running a batch of data through the MLP:"
   ]
  },
  {
   "cell_type": "code",
   "execution_count": 12,
   "id": "f36c4ba8-f8cc-494c-b7d4-c16cf9fac250",
   "metadata": {},
   "outputs": [
    {
     "data": {
      "text/plain": [
       "tensor(3.5808, grad_fn=<NllLossBackward0>)"
      ]
     },
     "execution_count": 12,
     "metadata": {},
     "output_type": "execute_result"
    }
   ],
   "source": [
    "batch_size = 32\n",
    "ix = torch.randint(0, X.shape[0], (batch_size,))\n",
    "Xb, Yb = X[ix], y[ix]\n",
    "\n",
    "preds = mlp(Xb)\n",
    "logloss = F.cross_entropy(input=preds, target=Yb)\n",
    "logloss"
   ]
  },
  {
   "cell_type": "markdown",
   "id": "8f817d1f-c2b6-4b1c-aec9-45e7d610d285",
   "metadata": {},
   "source": [
    "The first step of unpacking the MLP is to run each layer individually, which gives the same result:"
   ]
  },
  {
   "cell_type": "code",
   "execution_count": 13,
   "id": "e2c5a1a9-0574-4739-a24d-0a1891e6fcee",
   "metadata": {},
   "outputs": [
    {
     "data": {
      "text/plain": [
       "Sequential(\n",
       "  (embed): Embedding(38, 10)\n",
       "  (flatten): Flatten(start_dim=1, end_dim=-1)\n",
       "  (hidden): Linear(in_features=30, out_features=64, bias=True)\n",
       "  (batchnorm): BatchNorm1d(64, eps=1e-05, momentum=0.1, affine=True, track_running_stats=True)\n",
       "  (activation): Tanh()\n",
       "  (output): Linear(in_features=64, out_features=38, bias=True)\n",
       ")"
      ]
     },
     "execution_count": 13,
     "metadata": {},
     "output_type": "execute_result"
    }
   ],
   "source": [
    "mlp"
   ]
  },
  {
   "cell_type": "code",
   "execution_count": 14,
   "id": "45a1dac1-a4d2-4893-8132-270a951a930c",
   "metadata": {},
   "outputs": [
    {
     "data": {
      "text/plain": [
       "True"
      ]
     },
     "execution_count": 14,
     "metadata": {},
     "output_type": "execute_result"
    }
   ],
   "source": [
    "embed = mlp.embed(Xb)\n",
    "flatten = mlp.flatten(embed)\n",
    "hidden = mlp.hidden(flatten)\n",
    "batchnorm = mlp.batchnorm(hidden)\n",
    "activation = mlp.activation(batchnorm)\n",
    "output = mlp.output(activation)\n",
    "\n",
    "(preds==output).all().item()"
   ]
  },
  {
   "cell_type": "markdown",
   "id": "c914ac08-f8c0-492d-ace8-3070a764b3b8",
   "metadata": {},
   "source": [
    "We can then expand this out into the underlying calculations using the parameters of the layers:"
   ]
  },
  {
   "cell_type": "code",
   "execution_count": 15,
   "id": "75f137b8-3653-47e7-9a7d-39f3bdbfb9d2",
   "metadata": {},
   "outputs": [],
   "source": [
    "n = batch_size\n",
    "atol = 1e-7\n",
    "\n",
    "# Embedding\n",
    "emb = C[Xb]\n",
    "assert torch.allclose(embed, emb, atol=atol)\n",
    "# Flatten\n",
    "embcat = emb.view(n, -1)\n",
    "assert torch.allclose(flatten, embcat, atol=atol)\n",
    "# Hidden layer\n",
    "hprebn = embcat @ W1 + b1 # (Read: h_pre_bn (batch norm))\n",
    "assert torch.allclose(hidden, hprebn, atol=atol)\n",
    "# Batch norm\n",
    "bnmeani = 1/n * hprebn.sum(dim=0, keepdim=True) # Mean\n",
    "bndiff = hprebn - bnmeani # Batch Centred\n",
    "bndiff2 = bndiff ** 2\n",
    "# N.B. For training Variance estimates we use uncorrected\n",
    "# This corresponds to Algorithm 1 of the original paper\n",
    "# https://arxiv.org/pdf/1502.03167.pdf where correction is\n",
    "# only used at inference time.\n",
    "# This differs from Karpathy's implementation \n",
    "bnvar = 1/n * (bndiff2).sum(0, keepdim=True) # Variance \n",
    "bnvar_inv = (bnvar + 1e-5) ** -0.5 # Inverse stddev\n",
    "bnraw = bndiff * bnvar_inv  # Batch Standardized\n",
    "hpreact = bngain * bnraw + bnbias\n",
    "assert torch.allclose(batchnorm, hpreact, atol=atol)\n",
    "# Activation\n",
    "h = torch.tanh(hpreact)\n",
    "assert torch.allclose(activation, h, atol=atol)\n",
    "# Output logits\n",
    "logits = h @ W2 + b2\n",
    "assert torch.allclose(output, logits, atol=atol)"
   ]
  },
  {
   "cell_type": "markdown",
   "id": "0f0284f6-7a28-4904-9bd7-124616c4778c",
   "metadata": {},
   "source": [
    "One way to calculate the cross-entropy loss, $- \\log \\mathcal L$ , from the logits, $z_i$, over the vocabulary of length $V$ is using the formulae:\n",
    "\n",
    "$$\\begin{align}\n",
    "p_i &= \\frac{\\exp(z_i)}{\\sum_{j=1}^{V}\\exp(z_j)} \\\\\n",
    "- \\log \\mathcal L &= \\sum_{i=1}^{V} y_i \\log(p_i)\n",
    "\\end{align}$$\n",
    "\n",
    "noting that the $y_i$ here are 1 for the correct token and 0 otherwise, and so if the index of this token is $I$ then $- \\log \\mathcal L = \\log(p_{I})$.\n",
    "\n",
    "This equation applies to each item in the batch, and we average over the items."
   ]
  },
  {
   "cell_type": "code",
   "execution_count": 16,
   "id": "7afe08a0-0b3f-4cf1-a70a-76715f77f284",
   "metadata": {},
   "outputs": [],
   "source": [
    "explogits = logits.exp()\n",
    "probs = explogits / explogits.sum(axis=-1, keepdim=True)\n",
    "logprobs = probs.log()\n",
    "# For each item in the batch pick the index where y=1, and average.\n",
    "loss = -logprobs[range(n), Yb].mean()\n",
    "\n",
    "assert torch.allclose(logloss, loss, atol=atol)"
   ]
  },
  {
   "attachments": {},
   "cell_type": "markdown",
   "id": "a5bc83c3-7975-4477-b966-8937353fdab2",
   "metadata": {},
   "source": [
    "However this is numerically unstable; in particular if some of the logits are large it may overflow and give the wrong result.\n",
    "\n",
    "A better option is to use the [log-sum-exp trick](https://gregorygundersen.com/blog/2020/02/09/log-sum-exp/) to stabalise the denominator calculation.\n",
    "This shifts the logits so the maximum exponential is 1.\n",
    "\n",
    "$$ \\begin{align}\n",
    "\\log p_i &= \\log\\left(\\frac{\\exp(z_i)}{\\sum_{j=1}^{V} \\exp(z_j)}\\right) \\\\\n",
    "    &= z_i - \\log \\left({\\sum_{j=1}^{V} \\exp(z_j)}\\right) \\\\\n",
    "    &= z_i - \\log \\left({\\sum_{j=1}^{V} \\exp\\left(z_j+\\max(z) - \\max(z)\\right)}\\right) \\\\\n",
    "    &= z_i - \\max(z) -  \\log \\left({\\sum_{j=1}^{V} \\exp\\left(z_j - \\max(z)\\right)}\\right)\n",
    "\\end{align}$$"
   ]
  },
  {
   "cell_type": "code",
   "execution_count": 17,
   "id": "88bfbd1a-2887-4431-af15-0beac5873d27",
   "metadata": {},
   "outputs": [],
   "source": [
    "logit_maxes = logits.max(axis=-1, keepdim=True).values\n",
    "norm_logits = logits - logit_maxes\n",
    "counts = norm_logits.exp()\n",
    "counts_sum = counts.sum(1, keepdims=True)\n",
    "\n",
    "# Note that here it would be more efficient to work in logarithms:\n",
    "\n",
    "# log_counts_sum = counts_sum.log()\n",
    "# logprobs = norm_logits - log_counts_sum\n",
    "\n",
    "# But we will stay with Karpathy's implementation\n",
    "counts_sum_inv = counts_sum**-1\n",
    "probs = counts * counts_sum_inv\n",
    "logprobs = probs.log()\n",
    "\n",
    "# The rest is the same\n",
    "loss = -logprobs[range(n), Yb].mean()\n",
    "\n",
    "assert torch.allclose(logloss, loss, atol=atol)"
   ]
  },
  {
   "cell_type": "markdown",
   "id": "cd4c75d4-7b9d-4730-94d9-26f3889b2930",
   "metadata": {},
   "source": [
    "## Rewriting the forward loop\n",
    "\n",
    "Let's rewrite the forward loop step by step to enable a finegrained backpropagation.\n",
    "\n",
    "First let's initialise the parameters:"
   ]
  },
  {
   "cell_type": "code",
   "execution_count": 18,
   "id": "08d2a73f-f684-4c64-b78e-8ce5d5c78c7c",
   "metadata": {},
   "outputs": [
    {
     "name": "stdout",
     "output_type": "stream",
     "text": [
      "4962\n"
     ]
    }
   ],
   "source": [
    "n_embd = 10 # the dimensionality of the character embedding vectors\n",
    "n_hidden = 64 # the number of neurons in the hidden layer of the MLP\n",
    "vocab_size = V\n",
    "\n",
    "C  = torch.randn((vocab_size, n_embd))\n",
    "# Layer 1: We will initialize like PyTorch does using uniform\n",
    "W1 = torch.rand((n_embd * block_size, n_hidden)) * 2/(n_embd * block_size)**0.5 - 1/(n_embd * block_size)**0.5\n",
    "b1 = torch.rand(n_hidden) *  2/(n_embd * block_size)**0.5 - 1/(n_embd * block_size)**0.5\n",
    "# Layer 2: We will initialize like PyTorch here too, and not use the output gain reduction\n",
    "W2 = torch.rand((n_hidden, vocab_size)) * 2/n_hidden**0.5 - 1/n_hidden**0.5\n",
    "b2 = torch.rand(vocab_size)  * 2/n_hidden**0.5 - 1/n_hidden**0.5\n",
    "# BatchNorm parameters, adding some jitter as before\n",
    "bngain = torch.randn((1, n_hidden))*0.1 + 1.0\n",
    "bnbias = torch.randn((1, n_hidden))*0.1\n",
    "\n",
    "parameters = [C, W1, b1, W2, b2, bngain, bnbias]\n",
    "print(sum(p.nelement() for p in parameters)) # number of parameters in total\n",
    "for p in parameters:\n",
    "  p.requires_grad = True"
   ]
  },
  {
   "cell_type": "markdown",
   "id": "9adf76ad-59db-4ac2-9f94-c6eb30ca4093",
   "metadata": {},
   "source": [
    "Now we put together the steps previously for a forward pass:"
   ]
  },
  {
   "cell_type": "code",
   "execution_count": 19,
   "id": "1c02ab85-8bf5-4707-9691-45aac0801b31",
   "metadata": {},
   "outputs": [],
   "source": [
    "emb = C[Xb]\n",
    "# Flatten\n",
    "embcat = emb.view(n, -1)\n",
    "# Hidden layer\n",
    "hprebn = embcat @ W1 + b1 # (Read: h_pre_bn (batch norm))\n",
    "# Batch norm\n",
    "bnmeani = 1/n * hprebn.sum(dim=0, keepdim=True) # Mean\n",
    "bndiff = hprebn - bnmeani # Batch Centred\n",
    "bndiff2 = bndiff ** 2\n",
    "bnvar = 1/n * (bndiff2).sum(0, keepdim=True) # Variance (no correction, differs from Karpathy)\n",
    "bnvar_inv = (bnvar + 1e-5) ** -0.5 # Inverse stddev\n",
    "bnraw = bndiff * bnvar_inv  # Batch Standardized\n",
    "hpreact = bngain * bnraw + bnbias\n",
    "# Activation\n",
    "h = torch.tanh(hpreact)\n",
    "# Output logits\n",
    "logits = h @ W2 + b2\n",
    "logit_maxes = logits.max(axis=-1, keepdim=True).values\n",
    "norm_logits = logits - logit_maxes\n",
    "counts = norm_logits.exp()\n",
    "counts_sum = counts.sum(1, keepdims=True)\n",
    "counts_sum_inv = counts_sum**-1\n",
    "probs = counts * counts_sum_inv\n",
    "logprobs = probs.log()\n",
    "loss = -logprobs[range(n), Yb].mean()"
   ]
  },
  {
   "cell_type": "markdown",
   "id": "d94b9320-2289-48e0-97a0-1b364fdb8cde",
   "metadata": {},
   "source": [
    "To help check our intermediate results let's use autograd to populate the gradients of each step:"
   ]
  },
  {
   "cell_type": "code",
   "execution_count": 20,
   "id": "38b8f974-e29b-4872-af7d-631b094d07e9",
   "metadata": {},
   "outputs": [
    {
     "data": {
      "text/plain": [
       "tensor(3.6438, grad_fn=<NegBackward0>)"
      ]
     },
     "execution_count": 20,
     "metadata": {},
     "output_type": "execute_result"
    }
   ],
   "source": [
    "for p in parameters:\n",
    "  p.grad = None\n",
    "for t in [logprobs, probs, counts, counts_sum, counts_sum_inv, # afaik there is no cleaner way\n",
    "          norm_logits, logit_maxes, logits, h, hpreact, bnraw,\n",
    "         bnvar_inv, bnvar, bndiff2, bndiff, hprebn, bnmeani,\n",
    "         embcat, emb]:\n",
    "  t.retain_grad()\n",
    "loss.backward()\n",
    "loss"
   ]
  },
  {
   "cell_type": "markdown",
   "id": "01710cb5-c1a7-4be7-8673-fe4bec918e60",
   "metadata": {},
   "source": [
    "And create a utility function for comparing our gradients to check these gradients:"
   ]
  },
  {
   "cell_type": "code",
   "execution_count": 21,
   "id": "6042fd9a-cf47-44ef-ae94-60d73c0eb1ad",
   "metadata": {},
   "outputs": [],
   "source": [
    "def cmp(s, dt, t):\n",
    "  ex = torch.all(dt == t.grad).item()\n",
    "  app = torch.allclose(dt, t.grad)\n",
    "  maxdiff = (dt - t.grad).abs().max().item()\n",
    "  print(f'{s:15s} | exact: {str(ex):5s} | approximate: {str(app):5s} | maxdiff: {maxdiff}')"
   ]
  },
  {
   "cell_type": "markdown",
   "id": "4478763f-9df3-45d2-8f17-113acb50b744",
   "metadata": {},
   "source": [
    "# Exercise 1: manual backprop\n",
    "\n",
    "Backprop through the whole thing manually, backpropagating through exactly all of the variables as they are defined in the forward pass above, one by one.\n",
    "\n",
    "## Index Notation: one weird trick for tensor calculus\n",
    "\n",
    "Tensor calculus (including matrix and vector calculus) is very difficult for me.\n",
    "I always forget which matricies to transpose, which vectors are row and column based, and when you look carefully you'll notice in the literature people sometimes silently transpose the gradients to get nicer equations.\n",
    "The only way I can get tensor calculus consistently right is to reduce it to index notation which reduces it to scalar valued multivariable calculus (a trick tought to me in undergraduate Physics by the [late Dr. Rod Crewther](https://skeptric.com/rod-crewther/)).\n",
    "So if I want to calculate the derivative of some tensor T with respect to some tensor W, I just need to calculate each component individually \n",
    "\n",
    "$$\\frac{\\partial T_{i_1, \\ldots, i_n}}{\\partial W_{j_1, \\ldots, j_m}}$$\n",
    "\n",
    "And then it's often trivial to re-write it into a vector notation suitable for vectorised calculations with numpy; but this can also represent calculations that aren't easily vectorised (and can be trivially converted into [einsum](https://pytorch.org/docs/stable/generated/torch.einsum.html)). \n",
    "\n",
    "There are only a few special rules to remember for successful calculation:\n",
    "\n",
    "### Multivariable chain rule\n",
    "\n",
    "Given functions $f : \\mathbb{R}^l \\rightarrow \\mathbb{R}^m$, $g : \\mathbb{R}^n\\rightarrow \\mathbb{R}^l$, define the composition by $f \\circ g := x \\mapsto f(g(x)) : \\mathbb{R}^n \\rightarrow \\mathbb{R}^m$.\n",
    "We can write the functions in terms of their individual components, for example $f(x) = (f_1(x), \\ldots, f_m(x))$ where $f_i: \\mathbb{R}^l \\rightarrow \\mathbb{R}$.\n",
    "Then the chain rule on each component can be written as:\n",
    "\n",
    "$$\\frac{\\partial (f \\circ g)_i}{\\partial x_j} (x) = \\sum_{k=1}^{n} \\frac{\\partial f_i}{\\partial g_i} (g(x)) \\frac{\\partial g_i}{\\partial x_j} (x) $$\n",
    "\n",
    "Writing out the whole chain of $\\circ$ compositions for deeply nested functions is very laborious, and so in practice we take a notational shortcut and write $f$ instead of $f \\circ g$ with the composition implied by the denominator in the chain rule.\n",
    "We also drop the arguments $x$, which are again implicit, and simply write\n",
    "\n",
    "$$\\frac{\\partial f_i}{\\partial x_j} = \\sum_{k=1}^{n} \\frac{\\partial f_i}{\\partial g_i} \\frac{\\partial g_i}{\\partial x_j} $$\n",
    "\n",
    "\n",
    "### Kronecker Delta\n",
    "\n",
    "Each of the $x_i$ are independent and so $\\frac{\\partial x_i}{\\partial x_j} = \\delta_{i,j}$\n",
    "\n",
    "$$\n",
    "\\delta_{i,j} = \\begin{cases}\n",
    "0 &\\text{if } i \\neq j,   \\\\\n",
    "1 &\\text{if } i=j.   \\end{cases}\n",
    "$$\n",
    "\n",
    "In matrix notation this is simply the identity matrix.\n",
    "The main calculational rules are that for any tensor $T_{i} \\delta_{i,j} = T_{j} \\delta_{i,j}$ and $\\sum_{i} \\delta_{i,j} = 1$, and so in particular $\\sum_{i} T_{i} \\delta_{i,j} = T_{j} \\sum_{i} \\delta_{i,j} = T_{j}$.\n",
    "\n",
    "### Single variable calculus\n",
    "\n",
    "For all scalar functions we implicitly extend them to vectors by applying them separately to each component.\n",
    "For example when we write $\\log(x)$ for a tensor $x$ we are really saying: $\\log(x)_i = \\log(x_i)$.\n",
    "So then for any scalar function $f$\n",
    "\n",
    "$$\\begin{align}\n",
    "\\frac{\\partial f_i}{\\partial x_j} &= f'(x_i) \\frac{\\partial x_i}{\\partial x_j} \\\\\n",
    "                                   &= f'(x_i) \\delta_{i,j}\n",
    "\\end{align}$$\n",
    "\n",
    "The Kronecker Delta (or equivalently identity matrix) on the right makes sense here: there is no dependence across different components since the function has been applied independently.\n",
    "In matrix notation we can then simply drop the indices.\n",
    "This is very convenience since most functions (except batch norm) act independently across the batch dimension."
   ]
  },
  {
   "cell_type": "markdown",
   "id": "e8129c98-bdaa-408e-b4b2-4e25c55b97bb",
   "metadata": {},
   "source": [
    "## Softmax"
   ]
  },
  {
   "cell_type": "markdown",
   "id": "57082f53-d18b-4098-9253-c5f0257ef28b",
   "metadata": {},
   "source": [
    "Let's start with calculating the derivative of loss with respect to logprobs:\n",
    "\n",
    "`loss = -logprobs[range(n), Yb].mean()`\n",
    "\n",
    "To keep notation simple we will write the loss as $l$, and the batch output $Yb$ as $y$ (which represents here the *index* that is 1), and the batch size as $n$.\n",
    "Also we'll use greek letters such as $\\iota, \\kappa, \\lambda$ to track batch indices and latin letter such as $i, j, k, l$ to track internal vectors.\n",
    "In index notation this gives\n",
    "\n",
    "$$\\begin{align}\n",
    "l  &= -\\frac{1}{n} \\sum_{\\iota=1}^{n} {\\rm logprobs}_{\\iota, y_\\iota} \\\\\n",
    "\\frac{\\partial l}{\\partial{\\rm logprobs}_{i,j}} & = - \\frac{1}{n} \\sum_{\\iota=1}^{n} \\frac{\\partial{\\rm logprobs}_{\\iota, y_\\iota}}{\\partial{\\rm logprobs}_{i,j}}\\\\\n",
    "& = - \\frac{1}{n} \\sum_{\\iota=1}^{n} \\delta_{i, \\iota} \\delta_{j, y_\\iota} \\\\\n",
    "& = -\\frac{1}{n} \\delta_{j, y_i} \\\\\n",
    "\\end{align}$$\n",
    "\n",
    "In matrix notation the Kronecker delta is a $n \\times V$ binary matrix with 1 in columns indexed by y."
   ]
  },
  {
   "cell_type": "code",
   "execution_count": 22,
   "id": "c58684c1-cccd-4e1f-b2b2-bf26ab361ec0",
   "metadata": {},
   "outputs": [
    {
     "name": "stdout",
     "output_type": "stream",
     "text": [
      "logprobs        | exact: True  | approximate: True  | maxdiff: 0.0\n"
     ]
    }
   ],
   "source": [
    "dlogprobs = -torch.eye(V)[Yb] / n\n",
    "cmp('logprobs', dlogprobs, logprobs)"
   ]
  },
  {
   "cell_type": "markdown",
   "id": "7ff72c60-0eb2-477f-a483-ae15a5835d70",
   "metadata": {},
   "source": [
    "Note that since only one column is non-zero we're going to be doing a *lot* of multiplying by zeros ahead."
   ]
  },
  {
   "cell_type": "markdown",
   "id": "6101f60a-5e5e-49b0-8c17-478ef9d22d10",
   "metadata": {},
   "source": [
    "For the derivative with respect to the log probabilities we can apply the chain rule and the rule for derivative of logarithms (implicitly applying it to each item in the batch, and each vector of the V dimensional output independently)\n",
    "\n",
    "`logprobs = probs.log()`\n",
    "\n",
    "$$\\begin{align}\n",
    "{\\rm logprobs}  &= \\log \\left({\\rm probs}\\right) \\\\\n",
    "\\frac{\\partial{\\rm logprobs}}{\\partial{\\rm probs}} &=  \\frac{1}{\\rm probs} \\\\\n",
    "\\frac{\\partial l}{\\partial{\\rm probs}}  &= \\frac{\\partial l}{\\partial{\\rm logprobs}} \\frac{1}{\\rm probs}\n",
    "\\end{align}$$"
   ]
  },
  {
   "cell_type": "code",
   "execution_count": 23,
   "id": "355bd61d-ed2b-465d-acc0-da36ea26d145",
   "metadata": {},
   "outputs": [
    {
     "name": "stdout",
     "output_type": "stream",
     "text": [
      "probs           | exact: True  | approximate: True  | maxdiff: 0.0\n"
     ]
    }
   ],
   "source": [
    "dprobs = dlogprobs / probs\n",
    "cmp('probs', dprobs, probs)"
   ]
  },
  {
   "cell_type": "markdown",
   "id": "ed14b484-7748-4915-bce2-d3b0a9bfb7cc",
   "metadata": {},
   "source": [
    "The next line looks deceptively simple because of broadcasting:\n",
    "\n",
    "```\n",
    "probs = counts * counts_sum_inv\n",
    "```\n",
    "\n",
    "Here counts is a $n \\times V$ matrix, but `counts_sum_inv` is a $n \\times 1$ matrix (one value per item in the batch).\n",
    "You could consider `counts_sum_inv` to be copied `V` times and take it as a Haddamard product, but a simpler way is to view it in index notation (for each item of the batch):\n",
    "\n",
    "$$ {\\rm probs}_{i} = {\\rm counts}_{i} \\times {\\rm counts\\_sum\\_inv} $$\n",
    "\n",
    "Which we can write as\n",
    "\n",
    "$$\\begin{align}\n",
    "\\frac{\\partial{\\rm probs}_{i}}{\\partial{\\rm  counts\\_sum\\_inv}} & =  {\\rm counts}_{i}\\\\\n",
    "\\frac{\\partial l}{\\partial{\\rm counts\\_sum\\_inv}}  &= \\sum_{i=1}^{V} \\frac{\\partial{\\rm l}}{\\partial{\\rm probs}_{i}} \\frac{\\partial{\\rm probs}_{i}}{\\partial{\\rm  counts\\_sum\\_inv}} \\\\\n",
    "&= \\sum_{i=1}^{V}  \\frac{\\partial{\\rm l}}{\\partial{\\rm probs}_{i}} {\\rm counts}_{i}\n",
    "\\end{align}\n",
    "$$\n",
    "\n",
    "We can write the last equation in PyTorch (noting the sum is over the last axis) as:"
   ]
  },
  {
   "cell_type": "code",
   "execution_count": 24,
   "id": "2d189e93-0517-457d-bfae-20d48137fecb",
   "metadata": {},
   "outputs": [
    {
     "name": "stdout",
     "output_type": "stream",
     "text": [
      "counts_sum_inv  | exact: True  | approximate: True  | maxdiff: 0.0\n"
     ]
    }
   ],
   "source": [
    "dcounts_sum_inv = (dprobs * counts).sum(axis=-1, keepdim=True)\n",
    "cmp('counts_sum_inv', dcounts_sum_inv, counts_sum_inv)"
   ]
  },
  {
   "cell_type": "markdown",
   "id": "cda4a27f-871b-4319-bc17-f5f71205a39e",
   "metadata": {},
   "source": [
    "For `counts_sum` the rationale is similar but we need to remember that `counts_sum_inv` also depends on `counts_sum` via the equations:\n",
    "\n",
    "```\n",
    "probs = counts * counts_sum_inv\n",
    "counts_sum_inv = counts_sum**-1\n",
    "```\n",
    "\n",
    "so we have in equations:\n",
    "\n",
    "$$\\begin{align}\n",
    "{\\rm probs}_{i} &= {\\rm counts}_{i} \\times {\\rm counts\\_sum\\_inv} \\\\\n",
    "{\\rm counts\\_sum\\_inv} &= {\\rm counts\\_sum}^{-1} \\\\\n",
    "\\end{align}$$\n",
    "\n",
    "and so\n",
    "\n",
    "$$\\begin{align}\n",
    "\\frac{\\partial{\\rm counts\\_sum\\_inv}}{\\partial{\\rm  counts\\_sum}} & = \\frac{-1}{{{\\rm counts\\_sum}}^2} \\\\\n",
    "%\n",
    "\\frac{\\partial{\\rm probs}_{i}}{\\partial{\\rm  counts\\_sum}} &= \\frac{- {\\rm counts}_{i}}{{{\\rm counts\\_sum}}^2} \\\\\n",
    "%\n",
    "\\frac{\\partial l}{\\partial{\\rm counts\\_sum}}  &= \\sum_{i=1}^{V} \\frac{\\partial l}{\\partial{\\rm probs}_{i}} \\frac{\\partial{\\rm probs}_{i}}{\\partial{\\rm  counts\\_sum}} \\\\\n",
    "&= \\frac{-1}{{\\rm counts\\_sum}^2} \\sum_{i=1}^{V}  \\frac{\\partial l}{\\partial{\\rm probs}_{i}} {\\rm counts}_{i}  \\\\\n",
    "\\end{align}\n",
    "$$\n",
    "\n",
    "\n",
    "Which can be written as:"
   ]
  },
  {
   "cell_type": "code",
   "execution_count": 25,
   "id": "37274a9f-6305-4683-bbc8-677247edbb97",
   "metadata": {},
   "outputs": [
    {
     "name": "stdout",
     "output_type": "stream",
     "text": [
      "counts_sum      | exact: True  | approximate: True  | maxdiff: 0.0\n"
     ]
    }
   ],
   "source": [
    "dcounts_sum = (-1 / (counts_sum**2)) * (dprobs * counts).sum(axis=-1, keepdim=True)\n",
    "cmp('counts_sum', dcounts_sum, counts_sum)"
   ]
  },
  {
   "cell_type": "markdown",
   "id": "a810cdfd-4043-440d-ac93-923ba45f5f90",
   "metadata": {},
   "source": [
    "Now `counts` comes in two places: through `probs` and `counts_sum` (via `counts_sum_inv`):\n",
    "\n",
    "```\n",
    "counts_sum = counts.sum(1, keepdims=True)\n",
    "counts_sum_inv = counts_sum**-1\n",
    "probs = counts * counts_sum_inv\n",
    "```\n",
    "\n",
    "$$\\begin{align}\n",
    "{\\rm counts\\_sum} &= \\sum_{i=1}^{V} {\\rm counts}_{i}\\\\\n",
    "\\frac{\\partial l}{\\partial{\\rm counts}_{j}}  &= \n",
    "   \\frac{\\partial l}{\\partial{\\rm counts\\_sum}}\n",
    "   \\frac{\\partial {\\rm counts\\_sum}}{\\partial{\\rm counts}_{j}} + \n",
    "   \\sum_{i=1}^{V}\n",
    "   \\frac{\\partial l}{\\partial{\\rm probs}_{i}}\n",
    "   \\frac{\\partial {\\rm probs}_{i}}{\\partial{\\rm counts}_{j}} \\\\\n",
    "   &= \\frac{\\partial l}{\\partial{\\rm counts\\_sum}} \n",
    "   \\sum_{i=1}^{V} \\delta_{i,j} +\n",
    " \\sum_{i=1}^{V} \n",
    "   \\frac{\\partial l}{\\partial{\\rm probs}_{i}}\n",
    "   \\delta_{i,j} {\\rm counts\\_sum\\_inv}\n",
    "   \\\\\n",
    "   &=  \\frac{\\partial l}{\\partial{\\rm counts\\_sum}} +\n",
    "   \\frac{\\partial l}{\\partial{\\rm probs}_{j}}  {\\rm counts\\_sum\\_inv}\n",
    "   \\\\\n",
    "\\end{align}$$\n",
    "\n",
    "Note we're being a little sloppy here in our functional notation, and in particular in the second term we are not explicitly considering `count_sum_inv` as a function of `counts` since we account for this dependency in the first term.\n",
    "\n",
    "\n",
    "Using broadcasting on the first term we can write this in PyTorch as:"
   ]
  },
  {
   "cell_type": "code",
   "execution_count": 26,
   "id": "af79808f-20e9-48a5-b58a-97456cfabf0e",
   "metadata": {},
   "outputs": [
    {
     "name": "stdout",
     "output_type": "stream",
     "text": [
      "counts          | exact: True  | approximate: True  | maxdiff: 0.0\n"
     ]
    }
   ],
   "source": [
    "dcounts = dcounts_sum + dprobs * counts_sum_inv\n",
    "cmp('counts', dcounts, counts)"
   ]
  },
  {
   "cell_type": "markdown",
   "id": "0112b8bf-6d84-4f55-a3bd-ec27189905e1",
   "metadata": {},
   "source": [
    "Next for `norm_logits` we can use that the derivative of an exponential is itself:\n",
    "\n",
    "```\n",
    "counts = norm_logits.exp()\n",
    "```"
   ]
  },
  {
   "cell_type": "code",
   "execution_count": 27,
   "id": "0db2d847-70d5-4df1-8f96-ac30e9494109",
   "metadata": {},
   "outputs": [
    {
     "name": "stdout",
     "output_type": "stream",
     "text": [
      "norm_logits     | exact: True  | approximate: True  | maxdiff: 0.0\n"
     ]
    }
   ],
   "source": [
    "dnorm_logits = dcounts * counts\n",
    "cmp('norm_logits', dnorm_logits, norm_logits)"
   ]
  },
  {
   "cell_type": "markdown",
   "id": "191cda49-9a12-40a8-8757-881c685823c4",
   "metadata": {},
   "source": [
    "For `logits_maxes` the formula looks simple, but again some complexity is hidden by broadcasting:\n",
    "\n",
    "```\n",
    "# (n, V)      (n, V)      (n, 1)       \n",
    "norm_logits = logits - logit_maxes\n",
    "```\n",
    "\n",
    "Again it becomes clearer in index notation:\n",
    "\n",
    "$$\\begin{align}\n",
    "{\\rm norm\\_logits}_{i} &= {\\rm logits}_{i} - {\\rm logit\\_maxes} \\\\\n",
    "\\frac{\\partial l}{\\partial {\\rm logit\\_maxes}} &= \n",
    "    \\sum_{i=1}^{V}\n",
    "    \\frac{\\partial l}{\\partial {\\rm norm\\_logits}_{i}} \n",
    "    \\frac{\\partial {\\rm norm\\_logits}_{i}}{\\partial {\\rm logit\\_maxes}} \\\\\n",
    "    &=\n",
    "    \\sum_{i=1}^{V}\n",
    "    \\frac{\\partial l}{\\partial {\\rm norm\\_logits}_{i}} \n",
    "    (-1) \\\\\n",
    "    &=  -\\sum_{i=1}^{V} \\frac{\\partial l}{\\partial {\\rm norm\\_logits}_{i}} \n",
    "\\end{align}$$\n",
    "\n",
    "Or in code:"
   ]
  },
  {
   "cell_type": "code",
   "execution_count": 28,
   "id": "35da7fe3-0b1f-4ac0-a408-a032d72c1218",
   "metadata": {},
   "outputs": [
    {
     "name": "stdout",
     "output_type": "stream",
     "text": [
      "logit_maxes     | exact: True  | approximate: True  | maxdiff: 0.0\n"
     ]
    }
   ],
   "source": [
    "dlogit_maxes = -dnorm_logits.sum(axis=1, keepdim=True)\n",
    "cmp('logit_maxes', dlogit_maxes, logit_maxes)"
   ]
  },
  {
   "cell_type": "markdown",
   "id": "4d39c1b1-f77b-4633-b92d-cfa1aff8122b",
   "metadata": {},
   "source": [
    "For `logits` it also appears in two places:\n",
    "\n",
    "```\n",
    "logit_maxes = logits.max(axis=-1, keepdim=True).values\n",
    "norm_logits = logits - logit_maxes\n",
    "```\n",
    "\n",
    "The `max` function is differentiable almost everywhere with derivative 1 for the maximum variable and 0 otherwise, with point discontinuities where the function is not differentiable; we'll assume we're not at a discontinuity:\n",
    "\n",
    "$\\begin{align}\n",
    "\\frac{\\partial {\\rm norm\\_logits}_{i}}{\\partial {\\rm logits}_{j}}  &= \\delta_{i,j} \\\\\n",
    "\\frac{\\partial {\\rm logit\\_maxes}}{\\partial {\\rm logits}_{j}}  &= \\delta_{j, {\\operatorname{argmax}(\\rm logits)}}\\\\\n",
    "\\frac{\\partial l}{\\partial {\\rm logits}_{j}} &= \n",
    "    \\sum_{i=1}^{V}\n",
    "    \\frac{\\partial l}{\\partial {\\rm norm\\_logits}_{i}} \n",
    "     \\frac{\\partial {\\rm norm\\_logits}_{i}}{\\partial {\\rm logits}_{j}} +\n",
    "     \\frac{\\partial l}{\\partial {\\rm logit\\_maxes}} \\frac{\\partial {\\rm logit\\_maxes}}{\\partial {\\rm logits}_{j}}\n",
    "\\\\\n",
    "&=  \\frac{\\partial l}{\\partial {\\rm norm\\_logits}_{j}} +  \\frac{\\partial l}{\\partial {\\rm logit\\_maxes}} \\delta_{j, {\\operatorname{argmax}(\\rm logits)}} \n",
    "\\end{align}$\n",
    "\n",
    "So we simply add the functions converting the Kronecker Delta into an identity matrix"
   ]
  },
  {
   "cell_type": "code",
   "execution_count": 29,
   "id": "7376194f-0f23-443a-b130-2c63ed6135b0",
   "metadata": {},
   "outputs": [
    {
     "name": "stdout",
     "output_type": "stream",
     "text": [
      "logits          | exact: True  | approximate: True  | maxdiff: 0.0\n"
     ]
    }
   ],
   "source": [
    "dlogits = dnorm_logits + dlogit_maxes * torch.eye(V)[logits.argmax(axis=-1)]\n",
    "cmp('logits', dlogits, logits)"
   ]
  },
  {
   "cell_type": "markdown",
   "id": "8f7f42dd-3922-4e44-8233-1cd14419d526",
   "metadata": {},
   "source": [
    "Using the identity matrix means we're adding a lot of 0's which is wasted cycles, a better approach is to explicitly mutate the non-zero values:"
   ]
  },
  {
   "cell_type": "code",
   "execution_count": 30,
   "id": "6aa49174-1931-4753-9c0e-bbcd809561c0",
   "metadata": {},
   "outputs": [
    {
     "name": "stdout",
     "output_type": "stream",
     "text": [
      "logits          | exact: True  | approximate: True  | maxdiff: 0.0\n"
     ]
    }
   ],
   "source": [
    "dlogits = dnorm_logits.clone()\n",
    "dlogits[range(n), logits.argmax(axis=-1)] += dlogit_maxes.flatten()\n",
    "cmp('logits', dlogits, logits)"
   ]
  },
  {
   "cell_type": "markdown",
   "id": "c1c8b2a5-e533-4a78-b053-5a6dca13ea9e",
   "metadata": {},
   "source": [
    "## Linear Output Layer"
   ]
  },
  {
   "cell_type": "markdown",
   "id": "3cc2b0fe-d312-431a-9f6e-6f5808b014e4",
   "metadata": {},
   "source": [
    "We're finally through the softmax into the linear layer::\n",
    "\n",
    "```\n",
    "logits = h @ W2 + b2\n",
    "```\n",
    "\n",
    "$$\\begin{align}\n",
    "{\\rm logits}_{i} &= \\sum_{k} h_{k} W_{k, i} + b_i \\\\\n",
    "\\frac{\\partial {\\rm logits}_{i}}{\\partial h_{j}} & = \\sum_{k}  \\delta_{j,k} W_{k,i} \\\\\n",
    "&= W_{j, i} \\\\\n",
    "\\frac{\\partial l}{\\partial h_{j}} & = \\sum_{i} \\frac{\\partial l}{\\partial {\\rm logits}_{i}} \\frac{\\partial {\\rm logits}_{i}}{\\partial h_{j}} \\\\\n",
    "&= \\sum_{i}  \\frac{\\partial l}{\\partial {\\rm logits}_{j}} W_{j, i} \\\\\n",
    "&= \\frac{\\partial l}{\\partial {\\rm logits}} W^T \\\\\n",
    "\\end{align}$$\n",
    "\n",
    "The final term is a vector-matrix product:"
   ]
  },
  {
   "cell_type": "code",
   "execution_count": 31,
   "id": "42c771d4-794b-458b-bb21-9c0c76636c1a",
   "metadata": {},
   "outputs": [
    {
     "name": "stdout",
     "output_type": "stream",
     "text": [
      "h               | exact: True  | approximate: True  | maxdiff: 0.0\n"
     ]
    }
   ],
   "source": [
    "dh = dlogits @ W2.T\n",
    "cmp('h', dh, h)"
   ]
  },
  {
   "cell_type": "markdown",
   "id": "bd40dcda-b3a4-4e76-b4ea-78f5e2e2fa0d",
   "metadata": {},
   "source": [
    "Since the weight term does not have a batch dimension we need to consider the minibatch index too during backpropagation (we can't just implicitly transfer across it):\n",
    "\n",
    "$$\\begin{align}\n",
    "{\\rm logits}_{\\lambda, i} &= \\sum_{k} h_{\\lambda, k} W_{k, i} + b_i \\\\\n",
    "\\frac{\\partial {\\rm logits}_{\\lambda, i}}{\\partial W_{j,k}} & = \\sum_{l} h_{\\lambda, l} \\delta_{j,l} \\delta_{k,i}  \\\\\n",
    "&= \\delta_{i,k} h_{\\lambda, j} \\\\\n",
    "\\frac{\\partial l}{\\partial W_{j,k}} & = \\sum_{\\lambda=1}^{n} \\sum_{i} \\frac{\\partial l}{\\partial {\\rm logits}_{\\lambda, i}} \\frac{\\partial {\\rm logits}_{\\lambda, i}}{\\partial W_{j,k}} \\\\\n",
    " & = \\sum_{\\lambda=1}^{n}  \\frac{\\partial l}{\\partial {\\rm logits}_{\\lambda, i}} h_{\\lambda, j} \\\\\n",
    " &= h^T  \\frac{\\partial l}{\\partial {\\rm logits}}\n",
    "\\end{align}$$\n",
    "\n",
    "The final term being a matrix-matrix product across the batch dimension (we accumulate the gradients across the batch):"
   ]
  },
  {
   "cell_type": "code",
   "execution_count": 32,
   "id": "d30b8320-72ab-4287-8337-246ed4786ec2",
   "metadata": {},
   "outputs": [
    {
     "name": "stdout",
     "output_type": "stream",
     "text": [
      "W2              | exact: True  | approximate: True  | maxdiff: 0.0\n"
     ]
    }
   ],
   "source": [
    "dW2 =  h.T @ dlogits\n",
    "cmp('W2', dW2, W2)"
   ]
  },
  {
   "cell_type": "markdown",
   "id": "36af6803-36ca-475b-8279-73486f0d2f85",
   "metadata": {},
   "source": [
    "Similarly we need to account for the minibatch dimension in the bias term:\n",
    "\n",
    "$$\\begin{align}\n",
    "\\frac{\\partial {\\rm logits}_{\\lambda, i}}{\\partial b_{j}} & = \\delta_{i,j} \\\\\n",
    "\\frac{\\partial l}{\\partial b_{j}} & =\\sum_{\\lambda=1}^{n}\\sum_{i} \\frac{\\partial l}{\\partial {\\rm logits}_{\\lambda, i}} \\frac{\\partial {\\rm logits}_{i}}{\\partial b_{j}} \\\\\n",
    "                                  &= \\sum_{\\lambda=1}^{n} \\frac{\\partial l}{\\partial {\\rm logits}_{\\lambda, j}} \\\\\n",
    "\\end{align}$$\n",
    "\n",
    "So we simply add the gradients for the biases (note that we can consider this a special case of the weight matrix equation where $h$ is a vector of ones giving $1^T \\frac{\\partial l}{\\partial {\\rm logits}}$):"
   ]
  },
  {
   "cell_type": "code",
   "execution_count": 33,
   "id": "acc8dd47-838a-4148-b57e-76bdb322d34e",
   "metadata": {},
   "outputs": [
    {
     "name": "stdout",
     "output_type": "stream",
     "text": [
      "b2              | exact: True  | approximate: True  | maxdiff: 0.0\n"
     ]
    }
   ],
   "source": [
    "db2 = dlogits.sum(axis=0, keepdim=True)\n",
    "cmp('b2', db2, b2)"
   ]
  },
  {
   "cell_type": "markdown",
   "id": "ef8fa7f5-8e25-438a-a787-22519234d19c",
   "metadata": {},
   "source": [
    "## Activation"
   ]
  },
  {
   "cell_type": "markdown",
   "id": "29499ffd-4bc9-4d84-b37a-4c668fdb2c82",
   "metadata": {},
   "source": [
    "The activation follows immediately from the derivative of $\\tanh$:\n",
    "\n",
    "```\n",
    "h = torch.tanh(hpreact)\n",
    "```\n",
    "\n",
    "$$\\begin{align}\n",
    "\\frac{\\partial h}{\\partial {\\rm hpreact}} &= 1 - \\tanh({\\rm hpreact})^2\\\\\n",
    "                                          &= 1 - h^2 \\\\\n",
    "\\end{align}$$"
   ]
  },
  {
   "cell_type": "code",
   "execution_count": 34,
   "id": "0fb4685c-4b53-4828-94fa-1a71249b1da2",
   "metadata": {},
   "outputs": [
    {
     "name": "stdout",
     "output_type": "stream",
     "text": [
      "hpreact         | exact: False | approximate: True  | maxdiff: 2.3283064365386963e-10\n"
     ]
    }
   ],
   "source": [
    "dhpreact =   dh * ((1.0 - h*h))\n",
    "\n",
    "cmp('hpreact', dhpreact, hpreact)"
   ]
  },
  {
   "cell_type": "markdown",
   "id": "17b0c973-64db-4df7-ab55-98ead9c33dbe",
   "metadata": {},
   "source": [
    "It appears there is some approximation of the derivative in torch for larger values, but I can't work out what it is:"
   ]
  },
  {
   "cell_type": "code",
   "execution_count": 35,
   "id": "869926d2-5bd2-4806-9d43-d3dcf7dfaaa4",
   "metadata": {},
   "outputs": [
    {
     "data": {
      "text/plain": [
       "'Equal for input < 0.244'"
      ]
     },
     "execution_count": 35,
     "metadata": {},
     "output_type": "execute_result"
    },
    {
     "data": {
      "image/png": "[encoded data removed]",
      "text/plain": [
       "<Figure size 640x480 with 1 Axes>"
      ]
     },
     "metadata": {},
     "output_type": "display_data"
    }
   ],
   "source": [
    "error = (hpreact.grad - dhpreact).flatten().detach()\n",
    "plt.scatter(hpreact.flatten().detach(), error)\n",
    "plt.xlabel('hideen pre-activation')\n",
    "plt.ylabel('gradient error')\n",
    "plt.title('Gradient differences only occur for larger values of the input')\n",
    "\n",
    "f'Equal for input < {hpreact.flatten()[error != 0].abs().min().item():0.3f}'"
   ]
  },
  {
   "cell_type": "markdown",
   "id": "ecdf01cf-9634-45ff-8503-e93309d70647",
   "metadata": {},
   "source": [
    "To check downstream gradients exactly we'll use PyTorch's gradient:"
   ]
  },
  {
   "cell_type": "code",
   "execution_count": 36,
   "id": "bf082a42-1450-478a-ba44-9cf571af66d2",
   "metadata": {},
   "outputs": [],
   "source": [
    "dhpreact = hpreact.grad"
   ]
  },
  {
   "cell_type": "markdown",
   "id": "20236a4c-db38-440b-b8a0-fd11cb1c6ea9",
   "metadata": {},
   "source": [
    "## Batchnorm"
   ]
  },
  {
   "cell_type": "markdown",
   "id": "c0909edd-9427-448d-918e-d3b0be5a7723",
   "metadata": {},
   "source": [
    "The is a simple affine transformation and is the same as the linear case:\n",
    "\n",
    "```\n",
    "hpreact = bngain * bnraw + bnbias\n",
    "```\n",
    "\n",
    "We have to accumulate over the `bngain` and `bnbias` which don't have a batch dimension:"
   ]
  },
  {
   "cell_type": "code",
   "execution_count": 37,
   "id": "f5448436-501f-4d9f-9630-97b7d7c45234",
   "metadata": {},
   "outputs": [
    {
     "name": "stdout",
     "output_type": "stream",
     "text": [
      "bngain          | exact: True  | approximate: True  | maxdiff: 0.0\n",
      "bnbias          | exact: True  | approximate: True  | maxdiff: 0.0\n",
      "bnraw           | exact: True  | approximate: True  | maxdiff: 0.0\n"
     ]
    }
   ],
   "source": [
    "dbngain = (dhpreact * bnraw).sum(axis=0, keepdim=True)\n",
    "cmp('bngain', dbngain, bngain)\n",
    "dbnbias = dhpreact.sum(axis=0, keepdim=True)\n",
    "cmp('bnbias', dbnbias, bnbias)\n",
    "dbnraw = dhpreact * bngain\n",
    "cmp('bnraw', dbnraw, bnraw)"
   ]
  },
  {
   "attachments": {},
   "cell_type": "markdown",
   "id": "491dc6dd-540c-4fcf-90f5-2eca0af321fe",
   "metadata": {},
   "source": [
    "Standardising is another linear transformation:\n",
    "\n",
    "```\n",
    "bnraw = bndiff * bnvar_inv  # Batch Standardized\n",
    "```"
   ]
  },
  {
   "cell_type": "code",
   "execution_count": 38,
   "id": "583df450-f1af-45b0-afe9-e19cc008e126",
   "metadata": {},
   "outputs": [
    {
     "name": "stdout",
     "output_type": "stream",
     "text": [
      "bnvar_inv       | exact: True  | approximate: True  | maxdiff: 0.0\n"
     ]
    }
   ],
   "source": [
    "dbnvar_inv = (bndiff * dbnraw).sum(axis=0, keepdim=True)\n",
    "cmp('bnvar_inv', dbnvar_inv, bnvar_inv)"
   ]
  },
  {
   "cell_type": "markdown",
   "id": "9f2b52e8-7827-4b9d-9a33-503b65097b16",
   "metadata": {},
   "source": [
    "We can calculate the derivative `bnvar_inv` using simple single-variable calculus\n",
    "\n",
    "```\n",
    "bnvar_inv = (bnvar + 1e-5) ** -0.5 # Inverse stddev\n",
    "```\n",
    "\n",
    "$$\\begin{align}\n",
    "{\\rm bnvar\\_inv} &= \\left({\\rm bnvar} + 10^{-5}\\right)^{-1/2} \\\\\n",
    "\\frac{\\partial {\\rm bnvar\\_inv}}{\\partial {\\rm bnvar}} &= -\\frac{1}{2}\\left({\\rm bnvar} + 10^{-5}\\right)^{-3/2} \\\\\n",
    "\\end{align}$$"
   ]
  },
  {
   "cell_type": "code",
   "execution_count": 39,
   "id": "44a231bd-c1ef-45ed-ae4f-0f0a781d211a",
   "metadata": {},
   "outputs": [
    {
     "name": "stdout",
     "output_type": "stream",
     "text": [
      "bnvar           | exact: True  | approximate: True  | maxdiff: 0.0\n"
     ]
    }
   ],
   "source": [
    "dbnvar = dbnvar_inv * (-0.5 * (bnvar + 1e-5)**-1.5) \n",
    "cmp('bnvar', dbnvar, bnvar)"
   ]
  },
  {
   "cell_type": "markdown",
   "id": "f61c86b6-9d83-4515-9dbe-d200bc1cb09b",
   "metadata": {},
   "source": [
    "The variance is straightforward using the derivative of a sum:\n",
    "\n",
    "bnvar = 1/n * (bndiff2).sum(0, keepdim=True) # Variance (no correction, differs from Karpathy)"
   ]
  },
  {
   "cell_type": "code",
   "execution_count": 40,
   "id": "b365c52a-bcb2-4b14-b85b-a06ac70f0893",
   "metadata": {},
   "outputs": [
    {
     "name": "stdout",
     "output_type": "stream",
     "text": [
      "bndiff2         | exact: True  | approximate: True  | maxdiff: 0.0\n"
     ]
    }
   ],
   "source": [
    "dbndiff2 = dbnvar / n\n",
    "cmp('bndiff2', dbndiff2, bndiff2)"
   ]
  },
  {
   "cell_type": "markdown",
   "id": "f05f2646-1827-440d-bacc-e401d6c01261",
   "metadata": {},
   "source": [
    "For `bndiff` we have to be careful to use both places it impacts the output:\n",
    "\n",
    "```\n",
    "bndiff2 = bndiff ** 2\n",
    "bnraw = bndiff * bnvar_inv \n",
    "```"
   ]
  },
  {
   "cell_type": "code",
   "execution_count": 41,
   "id": "f3f28782-3851-4389-97d1-3e4a4f56735a",
   "metadata": {},
   "outputs": [
    {
     "name": "stdout",
     "output_type": "stream",
     "text": [
      "bndiff          | exact: True  | approximate: True  | maxdiff: 0.0\n"
     ]
    }
   ],
   "source": [
    "dbndiff = (2 * bndiff) * dbndiff2 + dbnraw * bnvar_inv\n",
    "cmp('bndiff', dbndiff, bndiff)"
   ]
  },
  {
   "cell_type": "markdown",
   "id": "91a6affd-950b-4a9e-82ff-494e215a9c71",
   "metadata": {},
   "source": [
    "For `bnmeani` we need to sum over the batch dimension to handle the implicit broadcasting:\n",
    "\n",
    "```\n",
    "bndiff = hprebn - bnmeani # Batch Centred\n",
    "```"
   ]
  },
  {
   "cell_type": "code",
   "execution_count": 42,
   "id": "7db23e30-2b7a-4a25-ac18-c432f325dc2d",
   "metadata": {},
   "outputs": [
    {
     "name": "stdout",
     "output_type": "stream",
     "text": [
      "bnmeani         | exact: True  | approximate: True  | maxdiff: 0.0\n"
     ]
    }
   ],
   "source": [
    "dbnmeani = - dbndiff.sum(axis=0)\n",
    "cmp('bnmeani', dbnmeani, bnmeani)"
   ]
  },
  {
   "cell_type": "markdown",
   "id": "f757da90-1155-4bb9-95c3-b336f515d9ba",
   "metadata": {},
   "source": [
    "For `hprebn` we need to account for it coming into both calculating the mean and for the centring:\n",
    "\n",
    "```\n",
    "bnmeani = 1/n * hprebn.sum(dim=0, keepdim=True) # Mean\n",
    "bndiff = hprebn - bnmeani # Batch Centred\n",
    "```"
   ]
  },
  {
   "cell_type": "code",
   "execution_count": 43,
   "id": "ea922635-f18c-490d-a96d-82fff3471599",
   "metadata": {},
   "outputs": [
    {
     "name": "stdout",
     "output_type": "stream",
     "text": [
      "hprebn          | exact: True  | approximate: True  | maxdiff: 0.0\n"
     ]
    }
   ],
   "source": [
    "dhprebn = dbnmeani * (1/n) + dbndiff\n",
    "cmp('hprebn', dhprebn, hprebn)"
   ]
  },
  {
   "cell_type": "markdown",
   "id": "1ee57d77-410d-4487-900e-4f66b9e89594",
   "metadata": {},
   "source": [
    "## Hidden linear layer"
   ]
  },
  {
   "cell_type": "markdown",
   "id": "c546970b-d4f8-4b8f-8075-213f181c2ade",
   "metadata": {},
   "source": [
    "The first hidden layer follows the exact same calculus as the output hidden layer\n",
    "\n",
    "```\n",
    "hprebn = embcat @ W1 + b1\n",
    "```"
   ]
  },
  {
   "cell_type": "code",
   "execution_count": 44,
   "id": "7e2c03fa-63a6-43d1-a9f6-4b109dcb6069",
   "metadata": {},
   "outputs": [
    {
     "name": "stdout",
     "output_type": "stream",
     "text": [
      "embcat          | exact: True  | approximate: True  | maxdiff: 0.0\n",
      "W1              | exact: True  | approximate: True  | maxdiff: 0.0\n",
      "b1              | exact: True  | approximate: True  | maxdiff: 0.0\n"
     ]
    }
   ],
   "source": [
    "dembcat = dhprebn @ W1.T\n",
    "cmp('embcat', dembcat, embcat)\n",
    "dW1 = embcat.T @ dhprebn\n",
    "cmp('W1', dW1, W1)\n",
    "db1 = dhprebn.sum(axis=0)\n",
    "cmp('b1', db1, b1)"
   ]
  },
  {
   "cell_type": "markdown",
   "id": "9c80dac8-2d90-4710-906b-2841f40ae949",
   "metadata": {},
   "source": [
    "## Concatenation layer"
   ]
  },
  {
   "cell_type": "markdown",
   "id": "8cd1d75e-6ac4-4eee-b5e1-f7db5afc820e",
   "metadata": {},
   "source": [
    "The concatenation layer just reshapes the input, and so the derivative just gets reshaped backwards:\n",
    "\n",
    "```\n",
    "(n, h*s)   (n, h, s)\n",
    "embcat = emb.view(n, -1)\n",
    "```"
   ]
  },
  {
   "cell_type": "code",
   "execution_count": 45,
   "id": "186c503f-0c90-4677-b125-87c0c267b7f0",
   "metadata": {},
   "outputs": [
    {
     "data": {
      "text/plain": [
       "(torch.Size([32, 3, 10]), torch.Size([32, 30]))"
      ]
     },
     "execution_count": 45,
     "metadata": {},
     "output_type": "execute_result"
    }
   ],
   "source": [
    "emb.shape, dembcat.shape"
   ]
  },
  {
   "cell_type": "code",
   "execution_count": 46,
   "id": "78bebd2b-f454-4a31-89c9-3299b6eaa358",
   "metadata": {},
   "outputs": [
    {
     "name": "stdout",
     "output_type": "stream",
     "text": [
      "emb             | exact: True  | approximate: True  | maxdiff: 0.0\n"
     ]
    }
   ],
   "source": [
    "demb = dembcat.view(n, block_size, n_embd)\n",
    "cmp('emb', demb, emb)"
   ]
  },
  {
   "cell_type": "markdown",
   "id": "ad1fbd83-5833-45dd-93b2-c958dc46d4aa",
   "metadata": {},
   "source": [
    "## Embedding Layer"
   ]
  },
  {
   "cell_type": "markdown",
   "id": "2e96df25-0201-4a9d-99e1-5bd651302354",
   "metadata": {},
   "source": [
    "The embedding layer is a simple lookup of the indices\n",
    "\n",
    "```\n",
    "emb = C[Xb]\n",
    "```\n",
    "\n",
    "This can be seen as an optimisation of the matrix multiplication of the one-hot encoding:"
   ]
  },
  {
   "cell_type": "code",
   "execution_count": 47,
   "id": "3cca486b-3632-4932-961f-5ebe0406d34d",
   "metadata": {},
   "outputs": [
    {
     "data": {
      "text/plain": [
       "True"
      ]
     },
     "execution_count": 47,
     "metadata": {},
     "output_type": "execute_result"
    }
   ],
   "source": [
    "((torch.eye(V)[Xb] @ C) == C[Xb]).all().item()"
   ]
  },
  {
   "cell_type": "markdown",
   "id": "c213d7bb-f25c-4694-b225-9e792e44ca7d",
   "metadata": {},
   "source": [
    "We could then use a matrix derivative to accumulate over the batch (and implicitly over the block):"
   ]
  },
  {
   "cell_type": "code",
   "execution_count": 48,
   "id": "f7366c1b-768d-4581-ab44-3b7e36e142e4",
   "metadata": {},
   "outputs": [
    {
     "name": "stdout",
     "output_type": "stream",
     "text": [
      "C               | exact: True  | approximate: True  | maxdiff: 0.0\n"
     ]
    }
   ],
   "source": [
    "dC = torch.eye(V)[Xb].view(n * block_size, V).T @  demb.view(n*block_size, n_embd)\n",
    "cmp('C', dC, C)"
   ]
  },
  {
   "cell_type": "markdown",
   "id": "b03e448c-75d0-450c-9c48-b673871750fa",
   "metadata": {},
   "source": [
    "However this has a lot of multiplication by zero and so may be very inefficient"
   ]
  },
  {
   "cell_type": "code",
   "execution_count": 49,
   "id": "13797d45-5feb-49c5-a4a5-714f2031b620",
   "metadata": {},
   "outputs": [
    {
     "data": {
      "text/plain": [
       "'97.37% of the values are zero'"
      ]
     },
     "execution_count": 49,
     "metadata": {},
     "output_type": "execute_result"
    }
   ],
   "source": [
    "f'{(torch.eye(V)[Xb] == 0).sum() / len((torch.eye(V)[Xb]).flatten()):0.2%} of the values are zero'"
   ]
  },
  {
   "cell_type": "markdown",
   "id": "e28291a0-0a0a-42af-a01b-4c32b2af59d1",
   "metadata": {},
   "source": [
    "Really we just want to add `demb` to `C` for each of the indices in `Xb`.\n",
    "Ideally we could do it like this:"
   ]
  },
  {
   "cell_type": "code",
   "execution_count": 50,
   "id": "42ff9f6d-565f-415e-9ccf-d28e8f2b24ce",
   "metadata": {},
   "outputs": [
    {
     "name": "stdout",
     "output_type": "stream",
     "text": [
      "C               | exact: False | approximate: False | maxdiff: 0.014890540391206741\n"
     ]
    }
   ],
   "source": [
    "dC = torch.zeros_like(C)\n",
    "dC[Xb] += demb\n",
    "cmp('C', dC, C)"
   ]
  },
  {
   "cell_type": "markdown",
   "id": "641d998a-52d3-4e6a-a09f-7151d60075bf",
   "metadata": {},
   "source": [
    "But it doesn't work because internally the update is only applied to the original value, not iteratively (seel [numpy's explanation](https://numpy.org/doc/stable/user/basics.indexing.html#assigning-values-to-indexed-arrays)).\n",
    "\n",
    "Instead Torch provides a function [`index_add_`](https://pytorch.org/docs/stable/generated/torch.Tensor.index_add_.html) that can do this correctly:"
   ]
  },
  {
   "cell_type": "code",
   "execution_count": 51,
   "id": "2ce082f9-1691-4a36-ae30-9958d71b4240",
   "metadata": {},
   "outputs": [
    {
     "name": "stdout",
     "output_type": "stream",
     "text": [
      "C               | exact: True  | approximate: True  | maxdiff: 0.0\n"
     ]
    }
   ],
   "source": [
    "dC = torch.zeros_like(C).index_add_(0, index=Xb.flatten(), source=demb.view(n*block_size, n_embd))\n",
    "cmp('C', dC, C)"
   ]
  },
  {
   "cell_type": "markdown",
   "id": "15dfc512-8617-45e9-a3a5-fe5db909a832",
   "metadata": {},
   "source": [
    "# Exercise 2: Backprop through cross entropy\n",
    "\n",
    "Backprop through cross_entropy but all in one go.\n",
    "To complete this challenge look at the mathematical expression of the loss, take the derivative, simplify the expression, and just write it out"
   ]
  },
  {
   "cell_type": "code",
   "execution_count": 52,
   "id": "1ce8fc10-df08-44b0-98a9-995b89fee2f8",
   "metadata": {},
   "outputs": [
    {
     "name": "stdout",
     "output_type": "stream",
     "text": [
      "3.643820285797119 diff: 4.76837158203125e-07\n"
     ]
    }
   ],
   "source": [
    "# forward pass\n",
    "\n",
    "# before:\n",
    "# logit_maxes = logits.max(1, keepdim=True).values\n",
    "# norm_logits = logits - logit_maxes # subtract max for numerical stability\n",
    "# counts = norm_logits.exp()\n",
    "# counts_sum = counts.sum(1, keepdims=True)\n",
    "# counts_sum_inv = counts_sum**-1 # if I use (1.0 / counts_sum) instead then I can't get backprop to be bit exact...\n",
    "# probs = counts * counts_sum_inv\n",
    "# logprobs = probs.log()\n",
    "# loss = -logprobs[range(n), Yb].mean()\n",
    "\n",
    "# now:\n",
    "loss_fast = F.cross_entropy(logits, Yb)\n",
    "print(loss_fast.item(), 'diff:', (loss_fast - loss).item())"
   ]
  },
  {
   "cell_type": "markdown",
   "id": "d615ee3e-6377-48ec-b674-d93bf48c41ad",
   "metadata": {},
   "source": [
    "In the simple case of a minibatch with 1 item (note here we're referring to $y_i$ as the 1-hot encoded vector, rather than the vector of 1-indices):\n",
    "\n",
    "$$\\begin{align}\n",
    "l &= - \\sum_{i=1}^{n} y_i \\log p_i \\\\\n",
    "p_i &= \\frac{\\exp(z_i)}{\\sum_{j=1}^{n} \\exp(z_j)} \\\\\n",
    "\\log p_i &= z_i - \\log \\left(\\sum_{j=1}^{n} \\exp(z_j)\\right) \\\\\n",
    "\\frac{\\partial \\log p_i}{\\partial z_k} &=  \\delta_{i,k} - \\frac{\\exp(z_k)}{\\sum_{j=1}^{n} \\exp(z_j)} = \\delta_{i,j} - p_k \\\\\n",
    "\\frac{\\partial l}{\\partial z_k} &= p_k \\left(\\sum_{i=1}^{n} y_i\\right) - y_k \\\\\n",
    "\\frac{\\partial l}{\\partial z_k} &= p_k - y_k\n",
    "\\end{align}$$\n",
    "\n",
    "When we have multiple items we average the loss across the minibatch:\n",
    "\n",
    "$$\\begin{align}\n",
    "l &= - \\frac{1}{n}\\sum_{\\lambda=1}^{n} y_{\\lambda,i} \\log p_{\\lambda, i} \\\\\n",
    "\\frac{\\partial l}{\\partial z_k} &= \\frac{1}{n}\\sum_{\\lambda=1}^{n} p_{\\lambda, k} - y_{\\lambda, k}\n",
    "\\end{align}\n",
    "$$\n",
    "\n",
    "We can calculate this by first calculating $p/n$ and then subtracting $1/n$ from the index of the target token:"
   ]
  },
  {
   "cell_type": "code",
   "execution_count": 53,
   "id": "d23f8035-ed7f-41b6-b17a-a7e94a9da415",
   "metadata": {},
   "outputs": [
    {
     "name": "stdout",
     "output_type": "stream",
     "text": [
      "logits          | exact: False | approximate: True  | maxdiff: 5.587935447692871e-09\n"
     ]
    }
   ],
   "source": [
    "exp_norm_logits = logits.exp()\n",
    "probs = exp_norm_logits / exp_norm_logits.sum(axis=1, keepdim=True)\n",
    "dlogits = probs.clone()/n \n",
    "dlogits[range(n), Yb] -= 1/n\n",
    "\n",
    "cmp('logits', dlogits, logits)"
   ]
  },
  {
   "cell_type": "markdown",
   "id": "5871ce28-f06a-411f-8b57-6e1472d88449",
   "metadata": {},
   "source": [
    "A more numerically stable way to calculate the probabilities is to subtract the maximum value:\n",
    "\n",
    "$$p_i = \\frac{\\exp z_i}{\\sum_{j=1}^{V} \\exp z_j} = \\frac{\\exp(z_i - \\max(z))}{\\sum_{j=1}^{V} \\exp(z_j - \\max(z))}$$"
   ]
  },
  {
   "cell_type": "code",
   "execution_count": 54,
   "id": "c492fecf-5bb3-489a-ac11-31d22800752b",
   "metadata": {},
   "outputs": [
    {
     "name": "stdout",
     "output_type": "stream",
     "text": [
      "logits          | exact: False | approximate: True  | maxdiff: 5.704350769519806e-09\n"
     ]
    }
   ],
   "source": [
    "exp_norm_logits = (logits - logits.max(axis=1, keepdim=True).values).exp()\n",
    "probs = exp_norm_logits / exp_norm_logits.sum(axis=1, keepdim=True)\n",
    "dlogits = probs.clone()/n \n",
    "dlogits[range(n), Yb] -= 1/n\n",
    "\n",
    "cmp('logits', dlogits, logits) # I can only get approximate to be true"
   ]
  },
  {
   "cell_type": "markdown",
   "id": "d3a20e6a-80cd-4244-a91b-14520468b936",
   "metadata": {},
   "source": [
    "Or we could just directly use PyTorch's softmax function:"
   ]
  },
  {
   "cell_type": "code",
   "execution_count": 55,
   "id": "36bab1b6-ceb9-45c5-a7d5-9dc561fe1373",
   "metadata": {},
   "outputs": [
    {
     "name": "stdout",
     "output_type": "stream",
     "text": [
      "logits          | exact: False | approximate: True  | maxdiff: 5.587935447692871e-09\n"
     ]
    }
   ],
   "source": [
    "dlogits = F.softmax(logits, dim=-1)/n \n",
    "dlogits[range(n), Yb] -= 1/n\n",
    "\n",
    "cmp('logits', dlogits, logits) # I can only get approximate to be true"
   ]
  },
  {
   "cell_type": "markdown",
   "id": "51cb9579-3cb7-490c-80d4-520915757ac6",
   "metadata": {},
   "source": [
    "# Exercise 3: Backprop through batchnorm\n",
    "\n",
    "Backprop through batchnorm but all in one go.\n",
    "To complete this challenge look at the mathematical expression of the output of batchnorm,  take the derivative w.r.t. its input, simplify the expression, and just write it out."
   ]
  },
  {
   "cell_type": "code",
   "execution_count": 56,
   "id": "75bd7622-78dd-4ac7-ab38-29e6068fc92f",
   "metadata": {},
   "outputs": [
    {
     "name": "stdout",
     "output_type": "stream",
     "text": [
      "max diff: tensor(0.0507, grad_fn=<MaxBackward1>)\n"
     ]
    }
   ],
   "source": [
    "# before:\n",
    "# bnmeani = 1/n*hprebn.sum(0, keepdim=True)\n",
    "# bndiff = hprebn - bnmeani\n",
    "# bndiff2 = bndiff**2\n",
    "# bnvar = 1/(n-1)*(bndiff2).sum(0, keepdim=True) # note: Bessel's correction (dividing by n-1, not n)\n",
    "# bnvar_inv = (bnvar + 1e-5)**-0.5\n",
    "# bnraw = bndiff * bnvar_inv\n",
    "# hpreact = bngain * bnraw + bnbias\n",
    "\n",
    "# now:\n",
    "hpreact_fast = bngain * (hprebn - hprebn.mean(0, keepdim=True)) / torch.sqrt(hprebn.var(0, keepdim=True, unbiased=True) + 1e-5) + bnbias\n",
    "print('max diff:', (hpreact_fast - hpreact).abs().max())"
   ]
  },
  {
   "cell_type": "markdown",
   "id": "6942defc-339b-4f26-abf2-041857b9657c",
   "metadata": {},
   "source": [
    "From the [BatchNorm paper](https://arxiv.org/abs/1502.03167) we have (using $n$ as in our notation)\n",
    "\n",
    "$$\\begin{align}\n",
    "\\mu(x) &= \\frac{1}{n} \\sum_{\\lambda=1}^{n} x_i \\\\\n",
    "\\sigma^2(x) &= \\frac{1}{n} \\sum_{\\lambda=1}^{n} (x - \\mu(x))^2 \\\\\n",
    "\\hat{x}_i &= \\frac{x_i - \\mu(x)}{\\sqrt{\\sigma^2(x) + \\epsilon}} \\\\\n",
    "\\operatorname{BN}(x)_i &= \\gamma \\hat{x}_i + \\beta \\\\\n",
    "\\end{align}$$\n",
    "\n",
    "\n",
    "Note that here $i$ is the batch index, and this applied across all the components of each x in the batch (which have independent $\\gamma$ and $\\beta$).\n",
    "Then we can rederive the derivatives across the batch dimension as in the paper:\n",
    "\n",
    "$$\\begin{align}\n",
    "\\frac{\\partial \\mu}{\\partial x_\\kappa} &= \\frac{1}{n} \\sum_{\\lambda=1}^{n} \\delta_{\\lambda,\\kappa} = \\frac{1}{n} \\\\\n",
    "\\frac{\\partial \\sigma^2}{\\partial x_\\kappa} &= \\frac{1}{n} \\sum_{\\lambda=1}^n 2 \\left(x_\\lambda - \\mu(x)\\right) \\left(\\delta_{\\lambda,\\kappa} - \\frac{1}{n}\\right) \\\\\n",
    "                                       &= \\frac{2}{n} \\sum_{\\lambda=1}^n \\left(x_\\lambda - \\mu(x)\\right) \\delta_{\\lambda,\\kappa} -  \\frac{2}{n^2} \\sum_{\\lambda=1}^n \\left(x_\\lambda - \\mu(x)\\right) \\\\\n",
    "                                       &= \\frac{2}{n} \\left(x_\\kappa - \\mu(x)\\right) - 0 \\\\\n",
    "                                       &= \\frac{2}{n}(x_\\kappa - \\mu(x)) \\\\\n",
    "\\frac{\\partial \\operatorname{BN}_\\lambda}{\\partial x_\\kappa} &= \\gamma \\left(\\frac{\\delta_{\\lambda,\\kappa} - 1/n}{\\sqrt{\\sigma^2(x) + \\epsilon}} - \\frac{1}{2} \\frac{x_\\lambda - \\mu(x)}{\\left(\\sigma^2(x) + \\epsilon\\right)^{3/2}} \\frac{2}{n} \\left(x_\\kappa - \\mu(x)\\right)\\right) \\\\\n",
    "&= \\frac{\\gamma}{\\sqrt{\\sigma^2(x) + \\epsilon}} \\left( \\delta_{\\lambda,\\kappa} - \\frac{1}{n} - \\frac{1}{n} \\hat{x}_\\lambda \\hat{x}_\\kappa \\right) \\\\\n",
    "\\frac{\\partial l}{\\partial x_\\kappa} &= \\sum_{\\lambda=1}^{n} \\frac{\\partial l}{\\operatorname{BN}_\\lambda} \\frac{\\partial \\operatorname{BN}_\\lambda}{\\partial x_\\kappa} \\\\\n",
    "                                &=  \\frac{\\gamma}{\\sqrt{\\sigma^2(x) + \\epsilon}} \\left( \\frac{\\partial l}{\\partial  \\operatorname{BN}_\\kappa} \n",
    "                                  - \\frac{1}{n} \\sum_{\\lambda=1}^{n}\\frac{\\partial l}{\\partial  \\operatorname{BN}_\\lambda}  \n",
    "                                  - \\frac{1}{n}\\hat{x}_\\kappa \\left(\\sum_{\\lambda=1}^{n} \\hat{x}_\\lambda \\frac{\\partial l}{\\partial  \\operatorname{BN}_\\lambda}  \\right)\n",
    "                                  \\right) \\\\\n",
    "\\end{align}$$\n",
    "\n",
    "Note that the first two terms of the final line represent the deviation of the gradient with respect to its mean over the batch, and the final term corresponds to a second moment with the *standardised* input $\\hat{x}$."
   ]
  },
  {
   "cell_type": "code",
   "execution_count": 57,
   "id": "7df1c5d6-c2fc-404e-8bda-730c80975068",
   "metadata": {},
   "outputs": [
    {
     "name": "stdout",
     "output_type": "stream",
     "text": [
      "hprebn          | exact: False | approximate: True  | maxdiff: 1.862645149230957e-09\n"
     ]
    }
   ],
   "source": [
    "# backward pass\n",
    "\n",
    "# before we had:\n",
    "# dbnraw = bngain * dhpreact\n",
    "# dbndiff = bnvar_inv * dbnraw\n",
    "# dbnvar_inv = (bndiff * dbnraw).sum(0, keepdim=True)\n",
    "# dbnvar = (-0.5*(bnvar + 1e-5)**-1.5) * dbnvar_inv\n",
    "# dbndiff2 = (1.0/(n-1))*torch.ones_like(bndiff2) * dbnvar\n",
    "# dbndiff += (2*bndiff) * dbndiff2\n",
    "# dhprebn = dbndiff.clone()\n",
    "# dbnmeani = (-dbndiff).sum(0)\n",
    "# dhprebn += 1.0/n * (torch.ones_like(hprebn) * dbnmeani)\n",
    "\n",
    "# calculate dhprebn given dhpreact (i.e. backprop through the batchnorm)\n",
    "# (you'll also need to use some of the variables from the forward pass up above)\n",
    "\n",
    "# Forward pass variables\n",
    "bnmeani = 1/n * hprebn.sum(dim=0, keepdim=True)        # μ\n",
    "bndiff = hprebn - bnmeani                              # x - μ\n",
    "bnvar2 = 1/n * (bndiff ** 2).sum(0, keepdim=True)      # σ²\n",
    "bnvar_inv = (bnvar + 1e-5)**-0.5                       # 1/√(σ² + ε)\n",
    "bnraw = bndiff * bnvar_inv                             # x_hat\n",
    "# Derivative:\n",
    "# dl/dx   =    γ     1/√(σ² + ε)    dl/dBN              Σ(dl/dBN)                              x^      ( dl/dBN .   x^                          )\n",
    "dhprebn   = bngain * bnvar_inv * ( dhpreact - 1/n * dhpreact.sum(dim=0, keepdim=True) - 1/n * bnraw * (dhpreact * bnraw).sum(dim=0, keepdim=True) )\n",
    "# -----------------\n",
    "\n",
    "cmp('hprebn', dhprebn, hprebn) # I can only get approximate to be true"
   ]
  },
  {
   "cell_type": "markdown",
   "id": "15e7c9b6-d906-48ab-9c56-1c2d42c17aa5",
   "metadata": {},
   "source": [
    "# Exercise 4: Putting it all together\n",
    "\n",
    "Train the MLP neural net with your own backward pass"
   ]
  },
  {
   "cell_type": "markdown",
   "id": "69ca9e23-e4f8-4ff3-8d33-a7f2c7ddc402",
   "metadata": {},
   "source": [
    "## Setup"
   ]
  },
  {
   "cell_type": "code",
   "execution_count": 84,
   "id": "3e457365-b4fd-4440-8ff8-03ef0014bed6",
   "metadata": {},
   "outputs": [
    {
     "name": "stdout",
     "output_type": "stream",
     "text": [
      "14618\n"
     ]
    }
   ],
   "source": [
    "n_embd = 10 # the dimensionality of the character embedding vectors\n",
    "n_hidden = 200 # the number of neurons in the hidden layer of the MLP\n",
    "vocab_size = V\n",
    "\n",
    "C  = torch.randn((vocab_size, n_embd))\n",
    "# Layer 1: We will initialize like PyTorch does using uniform\n",
    "W1 = torch.rand((n_embd * block_size, n_hidden)) * 2/(n_embd * block_size)**0.5 - 1/(n_embd * block_size)**0.5\n",
    "b1 = torch.rand(n_hidden) *  2/(n_embd * block_size)**0.5 - 1/(n_embd * block_size)**0.5\n",
    "# Layer 2: We will initialize like PyTorch here too, and not use the output gain reduction\n",
    "W2 = torch.rand((n_hidden, vocab_size)) * 2/n_hidden**0.5 - 1/n_hidden**0.5\n",
    "b2 = torch.rand(vocab_size)  * 2/n_hidden**0.5 - 1/n_hidden**0.5\n",
    "# BatchNorm parameters, adding some jitter as before\n",
    "bngain = torch.randn((1, n_hidden))*0.1 + 1.0\n",
    "bnbias = torch.randn((1, n_hidden))*0.1\n",
    "\n",
    "parameters = [C, W1, b1, W2, b2, bngain, bnbias]\n",
    "parameter_names = ['C', 'W1', 'b1', 'W2', 'b2', 'bngain', 'bnbias']\n",
    "\n",
    "print(sum(p.nelement() for p in parameters)) # number of parameters in total\n",
    "for p in parameters:\n",
    "  p.requires_grad = True"
   ]
  },
  {
   "cell_type": "markdown",
   "id": "af49081f-a7dc-4bdd-80f2-fdd13cbb744e",
   "metadata": {},
   "source": [
    "Let's modify our training loop from part 3 to make a hackable version for calculating our own gradients:"
   ]
  },
  {
   "cell_type": "code",
   "execution_count": 59,
   "id": "952d41a2-a2d6-4e5f-9275-c10140b9e7cc",
   "metadata": {},
   "outputs": [],
   "source": [
    "val_step = 10_000\n",
    "batch_size = 32\n",
    "\n",
    "\n",
    "def train(#model,\n",
    "          backward_pass, # new\n",
    "          n_step, lr, batch_size=batch_size, val_step=val_step, X=X, y=y, X_val=X_val, y_val=y_val, generator=None):\n",
    "    losses, val_losses = [], []\n",
    "    \n",
    "    for step in trange(n_step):\n",
    "        idx = torch.randint(0, len(X), (batch_size,), generator=generator)\n",
    "        Xb = X[idx]\n",
    "        Yb = y[idx]\n",
    "\n",
    "        # Forward pass\n",
    "        # Before:\n",
    "        # logits = model(X[idx])\n",
    "        # Now:\n",
    "        emb = C[Xb] # embed the characters into vectors\n",
    "        embcat = emb.view(emb.shape[0], -1) # concatenate the vectors\n",
    "        # Linear layer\n",
    "        hprebn = embcat @ W1 + b1 # hidden layer pre-activation\n",
    "        # BatchNorm layer\n",
    "        # -------------------------------------------------------------\n",
    "        bnmean = hprebn.mean(0, keepdim=True)\n",
    "        bnvar = hprebn.var(0, keepdim=True, unbiased=False)\n",
    "        bnvar_inv = (bnvar + 1e-5)**-0.5\n",
    "        bnraw = (hprebn - bnmean) * bnvar_inv\n",
    "        hpreact = bngain * bnraw + bnbias\n",
    "        # -------------------------------------------------------------\n",
    "        # Non-linearity\n",
    "        h = torch.tanh(hpreact) # hidden layer\n",
    "        logits = h @ W2 + b2 # output layer\n",
    "\n",
    "        loss =  F.cross_entropy(input=logits, target=Yb)\n",
    "        losses.append((step, loss.item()))\n",
    "\n",
    "        # Calculate grad:\n",
    "        # Before:\n",
    "        # model.zero_grad()\n",
    "        # logits = model(X[idx])\n",
    "        # loss.backward()\n",
    "        # Now:\n",
    "        grads = backward_pass(**locals())\n",
    "\n",
    "        \n",
    "        for (p, grad) in zip(parameters, grads):\n",
    "            p.data -= grad * lr(step, n_step)\n",
    "        \n",
    "        if step % val_step == 0:\n",
    "            # Instead of doing validation (which requires tracking the running batch parameters)\n",
    "            # let's just print our the current loss\n",
    "            print(f'{step:7d}/{n_step:7d}: {loss.item():.4f}')\n",
    "\n",
    "    return losses"
   ]
  },
  {
   "cell_type": "markdown",
   "id": "5fdb07f1-816c-4335-82c5-8ca148e7cf01",
   "metadata": {},
   "source": [
    "## Using PyTorch Autograd\n",
    "\n",
    "We can use PyTorch Autograd and check the loss actually decreases after a couple of steps."
   ]
  },
  {
   "cell_type": "code",
   "execution_count": 60,
   "id": "264b95f0-815b-4b41-b946-d458dcac0d3e",
   "metadata": {},
   "outputs": [],
   "source": [
    "def torch_backward(loss, **kwargs):\n",
    "    for p in parameters:\n",
    "        p.grad = None\n",
    "    loss.backward()\n",
    "    return [p.grad for p in parameters]"
   ]
  },
  {
   "cell_type": "code",
   "execution_count": 61,
   "id": "f50b7497-2d4a-4edd-a32e-4e39fabfdef5",
   "metadata": {},
   "outputs": [
    {
     "data": {
      "application/vnd.jupyter.widget-view+json": {
       "model_id": "ca93a57a59bf4b9fb2e8d55275f928d9",
       "version_major": 2,
       "version_minor": 0
      },
      "text/plain": [
       "  0%|          | 0/100 [00:00<?, ?it/s]"
      ]
     },
     "metadata": {},
     "output_type": "display_data"
    },
    {
     "name": "stdout",
     "output_type": "stream",
     "text": [
      "      0/    100: 3.7021\n",
      "     10/    100: 3.6256\n",
      "     20/    100: 3.4283\n",
      "     30/    100: 3.4369\n",
      "     40/    100: 3.3651\n",
      "     50/    100: 3.1933\n",
      "     60/    100: 3.1444\n",
      "     70/    100: 3.1995\n",
      "     80/    100: 3.1755\n",
      "     90/    100: 3.1842\n"
     ]
    }
   ],
   "source": [
    "train(torch_backward, n_step = 100, lr = lambda step, n_step: 0.1, val_step=10);"
   ]
  },
  {
   "cell_type": "markdown",
   "id": "cf0e0960-e8b3-46b0-b256-34bc002467d3",
   "metadata": {},
   "source": [
    "Now to check our gradients let's run a single step with lr=0 and a fixed batch"
   ]
  },
  {
   "cell_type": "code",
   "execution_count": 62,
   "id": "9fb2424f-8783-4b93-b131-790945981868",
   "metadata": {},
   "outputs": [
    {
     "data": {
      "application/vnd.jupyter.widget-view+json": {
       "model_id": "35095a9f85fa4fc1a839c703bdb9eb9c",
       "version_major": 2,
       "version_minor": 0
      },
      "text/plain": [
       "  0%|          | 0/1 [00:00<?, ?it/s]"
      ]
     },
     "metadata": {},
     "output_type": "display_data"
    },
    {
     "name": "stdout",
     "output_type": "stream",
     "text": [
      "      0/      1: 3.0990\n"
     ]
    },
    {
     "data": {
      "text/plain": [
       "[(0, 3.099048614501953)]"
      ]
     },
     "execution_count": 62,
     "metadata": {},
     "output_type": "execute_result"
    }
   ],
   "source": [
    "train(torch_backward, n_step = 1, lr = lambda step, n_step: 0.0, generator = torch.Generator().manual_seed(2147483647))"
   ]
  },
  {
   "cell_type": "markdown",
   "id": "ee946a32-803a-4da4-bf14-7dc1e84a5836",
   "metadata": {},
   "source": [
    "## Solution - Manual Backprop"
   ]
  },
  {
   "cell_type": "markdown",
   "id": "e6e66493-a071-4a96-b311-630ff03f8364",
   "metadata": {},
   "source": [
    "Now we can test our manual backprop; we'll track the grads so we can test them against PyTorch:"
   ]
  },
  {
   "cell_type": "code",
   "execution_count": 63,
   "id": "6fd1e500-08b8-4937-be5c-f3dee3fb1546",
   "metadata": {},
   "outputs": [],
   "source": [
    "track_grads = []\n",
    "\n",
    "class ManualGrad:\n",
    "    def __init__(self):\n",
    "        self.grads = None\n",
    "        \n",
    "    def __call__(self, batch_size, logits, Yb, h, bnraw, bnvar_inv, embcat, Xb, **kwargs):\n",
    "      n = batch_size\n",
    "    \n",
    "      # Loss function\n",
    "      dlogits =  F.softmax(input=logits, dim=-1)/n \n",
    "      dlogits[range(n), Yb] -= 1/n\n",
    "      # Output linear layer\n",
    "      dW2 = h.T @ dlogits\n",
    "      db2 = dlogits.sum(axis=0)\n",
    "      dh = dlogits @ W2.T\n",
    "      # Non-linearity\n",
    "      dhpreact = (1 - h*h) * dh\n",
    "      # Batch norm\n",
    "      dbngain = (dhpreact * bnraw).sum(axis=0)\n",
    "      dbnbias = dhpreact.sum(axis=0)\n",
    "      dhprebn   = bngain * bnvar_inv * ( dhpreact - 1/n * dhpreact.sum(dim=0, keepdim=True) - 1/n * bnraw * (dhpreact * bnraw).sum(dim=0, keepdim=True))\n",
    "      # Linear\n",
    "      dW1 = embcat.T @ dhprebn\n",
    "      db1 = dhprebn.sum(axis=0)\n",
    "      dembcat = dhprebn @ W1.T\n",
    "      dC = torch.zeros_like(C).index_add_(0, index=Xb.flatten(), source=dembcat.view(n*block_size, n_embd))\n",
    "\n",
    "      self.grads = [dC, dW1, db1, dW2, db2, dbngain, dbnbias]\n",
    "      return self.grads"
   ]
  },
  {
   "cell_type": "code",
   "execution_count": 64,
   "id": "7fc8f942-27b7-49c1-865c-0c44b1bfd218",
   "metadata": {},
   "outputs": [
    {
     "data": {
      "application/vnd.jupyter.widget-view+json": {
       "model_id": "2a07e54550ed4471bcff6dd73deefad5",
       "version_major": 2,
       "version_minor": 0
      },
      "text/plain": [
       "  0%|          | 0/1 [00:00<?, ?it/s]"
      ]
     },
     "metadata": {},
     "output_type": "display_data"
    },
    {
     "name": "stdout",
     "output_type": "stream",
     "text": [
      "      0/      1: 3.0990\n"
     ]
    },
    {
     "data": {
      "text/plain": [
       "[(0, 3.099048614501953)]"
      ]
     },
     "execution_count": 64,
     "metadata": {},
     "output_type": "execute_result"
    }
   ],
   "source": [
    "manual_grad = ManualGrad()\n",
    "train(manual_grad, n_step = 1, lr = lambda step, n_step: 0.0, generator = torch.Generator().manual_seed(2147483647))"
   ]
  },
  {
   "cell_type": "markdown",
   "id": "12b87506-893d-466b-b419-3aacc6f94224",
   "metadata": {},
   "source": [
    "And we can check they are all approximately right:"
   ]
  },
  {
   "cell_type": "code",
   "execution_count": 65,
   "id": "2c2cb748-79d0-4e2f-a0b9-5a4c8c956170",
   "metadata": {},
   "outputs": [
    {
     "name": "stdout",
     "output_type": "stream",
     "text": [
      "C               | exact: False | approximate: True  | maxdiff: 1.1175870895385742e-08\n",
      "W1              | exact: False | approximate: True  | maxdiff: 1.4901161193847656e-08\n",
      "b1              | exact: False | approximate: False | maxdiff: 1.30385160446167e-08\n",
      "W2              | exact: False | approximate: True  | maxdiff: 4.470348358154297e-08\n",
      "b2              | exact: False | approximate: True  | maxdiff: 7.450580596923828e-09\n",
      "bngain          | exact: False | approximate: True  | maxdiff: 1.3969838619232178e-09\n",
      "bnbias          | exact: False | approximate: True  | maxdiff: 2.7939677238464355e-09\n"
     ]
    }
   ],
   "source": [
    "for name, param, grad in zip(parameter_names, parameters, manual_grad.grads):\n",
    "    cmp(name, grad, param)"
   ]
  },
  {
   "cell_type": "markdown",
   "id": "246b8920-b355-480a-8296-361732d205d1",
   "metadata": {},
   "source": [
    "## Training without autograd"
   ]
  },
  {
   "cell_type": "markdown",
   "id": "75f961fc-bb74-4200-80f5-39e3c364d8e0",
   "metadata": {},
   "source": [
    "Then we can run the training manually without using autograd:"
   ]
  },
  {
   "cell_type": "code",
   "execution_count": 66,
   "id": "15701ea2-b35f-4c99-937b-c3fb16b507ec",
   "metadata": {},
   "outputs": [
    {
     "data": {
      "application/vnd.jupyter.widget-view+json": {
       "model_id": "8cfacbe854d541ee90dd7ecf1dd0e603",
       "version_major": 2,
       "version_minor": 0
      },
      "text/plain": [
       "  0%|          | 0/200000 [00:00<?, ?it/s]"
      ]
     },
     "metadata": {},
     "output_type": "display_data"
    },
    {
     "name": "stdout",
     "output_type": "stream",
     "text": [
      "      0/ 200000: 3.1999\n",
      "  10000/ 200000: 2.7294\n",
      "  20000/ 200000: 3.0627\n",
      "  30000/ 200000: 2.3467\n",
      "  40000/ 200000: 2.5901\n",
      "  50000/ 200000: 2.9478\n",
      "  60000/ 200000: 2.5997\n",
      "  70000/ 200000: 2.0730\n",
      "  80000/ 200000: 2.2726\n",
      "  90000/ 200000: 2.3465\n",
      " 100000/ 200000: 2.6331\n",
      " 110000/ 200000: 2.4014\n",
      " 120000/ 200000: 2.2594\n",
      " 130000/ 200000: 2.3476\n",
      " 140000/ 200000: 2.2705\n",
      " 150000/ 200000: 2.0541\n",
      " 160000/ 200000: 2.4087\n",
      " 170000/ 200000: 2.3144\n",
      " 180000/ 200000: 2.2314\n",
      " 190000/ 200000: 2.7102\n"
     ]
    }
   ],
   "source": [
    "with torch.no_grad():\n",
    "    losses = train(backward_pass = manual_grad,\n",
    "                   n_step = 200_000,\n",
    "                   lr = lambda step, n_step: 0.1 if (step/n_step) < 0.5 else 0.01)\n",
    "\n",
    "plt.plot(*zip(*losses));"
   ]
  },
  {
   "cell_type": "markdown",
   "id": "fe47f4f3-45d9-4dae-bf9d-27d3caac7296",
   "metadata": {},
   "source": [
    "The training loss curve is a bit hard to read, it's easier to see if we run an exponential moving average to smooth the curve:"
   ]
  },
  {
   "cell_type": "code",
   "execution_count": 77,
   "id": "05340c67-2699-4a15-a5a7-aa7ced5fbb20",
   "metadata": {},
   "outputs": [
    {
     "data": {
      "image/png": "[encoded data removed]",
      "text/plain": [
       "<Figure size 640x480 with 1 Axes>"
      ]
     },
     "metadata": {},
     "output_type": "display_data"
    }
   ],
   "source": [
    "ema = [losses[0][1]]\n",
    "momentum = 0.999\n",
    "for idx, loss in losses:\n",
    "    ema.append(ema[-1] * momentum + loss * (1-momentum))\n",
    "plt.plot(*zip(*losses));\n",
    "plt.plot(ema);"
   ]
  },
  {
   "cell_type": "markdown",
   "id": "23f07afc-8489-4cee-8cba-d9b07674805a",
   "metadata": {},
   "source": [
    "Calibrate the batch norm at the end of training"
   ]
  },
  {
   "cell_type": "code",
   "execution_count": 79,
   "id": "d466780c-b974-4943-91fe-945d94321360",
   "metadata": {},
   "outputs": [],
   "source": [
    "with torch.no_grad():\n",
    "  # pass the training set through\n",
    "  emb = C[X]\n",
    "  embcat = emb.view(emb.shape[0], -1)\n",
    "  hpreact = embcat @ W1 + b1\n",
    "  # measure the mean/std over the entire training set\n",
    "  bnmean = hpreact.mean(0, keepdim=True)\n",
    "  bnvar = hpreact.var(0, keepdim=True, unbiased=True)"
   ]
  },
  {
   "cell_type": "markdown",
   "id": "32333383-673a-4553-8a9e-65a57f304f53",
   "metadata": {},
   "source": [
    "## Evaluation"
   ]
  },
  {
   "cell_type": "markdown",
   "id": "b3fc0eda-c8fe-447e-9956-fccfe8750c02",
   "metadata": {},
   "source": [
    "The training and validation loss are similar to what we got in Part 3:"
   ]
  },
  {
   "cell_type": "code",
   "execution_count": 81,
   "id": "06d2afa3-b65a-4b9b-8561-f126ca62d7ca",
   "metadata": {},
   "outputs": [
    {
     "name": "stdout",
     "output_type": "stream",
     "text": [
      "train 2.327211380004883\n",
      "val 2.3709540367126465\n"
     ]
    }
   ],
   "source": [
    "# evaluate train and val loss\n",
    "\n",
    "@torch.no_grad() # this decorator disables gradient tracking\n",
    "def split_loss(split):\n",
    "  xi,yi = {\n",
    "    'train': (X, y),\n",
    "    'val': (X_val, y_val),\n",
    "    'test': (X_test, y_test),\n",
    "  }[split]\n",
    "  emb = C[xi] # (N, block_size, n_embd)\n",
    "  embcat = emb.view(emb.shape[0], -1) # concat into (N, block_size * n_embd)\n",
    "  hpreact = embcat @ W1 + b1\n",
    "  hpreact = bngain * (hpreact - bnmean) * (bnvar + 1e-5)**-0.5 + bnbias\n",
    "  h = torch.tanh(hpreact) # (N, n_hidden)\n",
    "  logits = h @ W2 + b2 # (N, vocab_size)\n",
    "  loss = F.cross_entropy(logits, yi)\n",
    "  print(split, loss.item())\n",
    "\n",
    "split_loss('train')\n",
    "split_loss('val')"
   ]
  },
  {
   "cell_type": "markdown",
   "id": "599598bc-137c-409a-be0f-7bd3f94df13e",
   "metadata": {},
   "source": [
    "Finally we can sample from the model to get things that look slightly like subreddit names but go on too long:"
   ]
  },
  {
   "cell_type": "code",
   "execution_count": 83,
   "id": "318c51b5-17fe-44f0-a258-013c6d6163b4",
   "metadata": {},
   "outputs": [
    {
     "name": "stdout",
     "output_type": "stream",
     "text": [
      "ure.\n",
      "careeleftopentingpars.\n",
      "pationaider.\n",
      "thewookyingcrumorbyatkethell.\n",
      "reaglees.\n",
      "rhade.\n",
      "canaryzunnygijoilindisburgernunivestorofthegametoxuceon.\n",
      "sapers.\n",
      "videleblutechiviehcies.\n",
      "sthehomemes.\n",
      "hebeing.\n",
      "pap.\n",
      "walpwerinei.\n",
      "gingua.\n",
      "vanstrure.\n",
      "ballyx.\n",
      "borianlinterun.\n",
      "blegg.\n",
      "liveltholitterangordax.\n",
      "parkusraediroikibs.\n"
     ]
    }
   ],
   "source": [
    "# sample from the model\n",
    "g = torch.Generator().manual_seed(2147483647)\n",
    "\n",
    "for _ in range(20):\n",
    "\n",
    "    out = []\n",
    "    context = [0] * block_size # initialize with all ...\n",
    "    while True:\n",
    "      # forward pass\n",
    "      emb = C[torch.tensor([context])] # (1,block_size,d)\n",
    "      embcat = emb.view(emb.shape[0], -1) # concat into (N, block_size * n_embd)\n",
    "      hpreact = embcat @ W1 + b1\n",
    "      hpreact = bngain * (hpreact - bnmean) * (bnvar + 1e-5)**-0.5 + bnbias\n",
    "      h = torch.tanh(hpreact) # (N, n_hidden)\n",
    "      logits = h @ W2 + b2 # (N, vocab_size)\n",
    "      # sample\n",
    "      probs = F.softmax(logits, dim=1)\n",
    "      ix = torch.multinomial(probs, num_samples=1, generator=g).item()\n",
    "      context = context[1:] + [ix]\n",
    "      out.append(ix)\n",
    "      if ix == 0:\n",
    "        break\n",
    "\n",
    "    print(''.join(i2s[i] for i in out))"
   ]
  },
  {
   "cell_type": "markdown",
   "id": "bb9dcb8d-9d83-4a6b-82a5-fb33466a016b",
   "metadata": {},
   "source": [
    "# What next?\n",
    "\n",
    "This has shown that we can derive the gradients by hand, although I'm not sure we would actually want to do it.\n",
    "However it is informative to look at the gradients, and I think it would be interesting to reflect on RNNs (which have the recursive explosion) and attention in Transformers.\n",
    "All of this is to say we should start looking past MLP into more complex models."
   ]
  }
 ],
 "metadata": {
  "kernelspec": {
   "display_name": "Python 3 (ipykernel)",
   "language": "python",
   "name": "python3"
  },
  "language_info": {
   "codemirror_mode": {
    "name": "ipython",
    "version": 3
   },
   "file_extension": ".py",
   "mimetype": "text/x-python",
   "name": "python",
   "nbconvert_exporter": "python",
   "pygments_lexer": "ipython3",
   "version": "3.11.6"
  }
 },
 "nbformat": 4,
 "nbformat_minor": 5
}
