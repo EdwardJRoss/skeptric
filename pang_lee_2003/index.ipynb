{
 "cells": [
  {
   "cell_type": "raw",
   "id": "622f0834",
   "metadata": {},
   "source": [
    "---\n",
    "categories:\n",
    "  - nlp\n",
    "  - sentiment\n",
    "date: '2023-05-25T21:18:00+10:00'\n",
    "image: thumbs_up_pang_lee_2002.png\n",
    "title: Thumbs Up? Sentiment Classification Like it's 2002\n",
    "toc: true\n",
    "toc-depth: 2\n",
    "---"
   ]
  },
  {
   "cell_type": "markdown",
   "id": "5a7832b7",
   "metadata": {},
   "source": [
    "# Introduction\n",
    "\n",
    "In July 2002 Bo Pang, Lillian Lee, and Shivakumar Vaithyanathan published [*Thumbs up? Sentiment Classification using Machine Learning Techniques.*](https://aclanthology.org/W02-1011/) at EMNLP, one of the earliest works of using machine learning for Sentiment Classification.\n",
    "It was an influential paper, [winning a test of time award](https://vimeo.com/280330773) at NAACL 2018, and at the time of writing has over 11,000 citations.\n",
    "This work led to their follow up [Seeing stars: Exploiting class relationships for sentiment categorization with respect to rating scales](https://arxiv.org/abs/cs/0506075) and this dataset was the basis for the Stanford Sentiment Treebank dataset released in [Recursive Deep Models for Semantic Compositionality Over a Sentiment Treebank](https://aclanthology.org/D13-1170.pdf) by Socher et al., which is widely used partly because of it's inclusion in GLUE.\n",
    "\n",
    "This paper aims to show that classifying the sentiment of movie reviews is a more challenging problem to develop machine learning techniques on than the existing topic classification problems, and motivate further work (in which they were successful!)\n",
    "They do this by building a self-labelled dataset of polar movie reviews from Usenet and then show baseline classifiers don't work as well as existing topic classification datasets.\n",
    "\n",
    "This notebook aims to explore the paper and its methods in more detail, and the headings follow the paper section by section.\n",
    "We go much deeper into the data than the paper, and reproduce their methods, and get similar (but slightly better) results.\n",
    "A good future work would be to look into applying more modern methods on this dataset."
   ]
  },
  {
   "cell_type": "markdown",
   "id": "a73e9e96",
   "metadata": {},
   "source": [
    "# Related work\n",
    "\n",
    "A lot of the papers cited in Related Work are hard to access today, or contain almost no detail.\n",
    "There are three exceptions:\n",
    "\n",
    "* Vasileios Hatzivassiloglou and Kathleen R. McKeown. 1997. [Predicting the Semantic Orientation of Adjectives](https://aclanthology.org/P97-1023/) mines positive and negative semantic lexicons for adjectives by looking at nearby conjunctions (e.g. \"fair and legitimate\")\n",
    "* Turney and Littman, 2002. [Unsupervised Learning of Semantic Orientation from a Hundred-Billion-Word Corpus](https://arxiv.org/abs/cs/0212012) determines whether a word is positive or negative based on whether it occurs near a positive word (like good or nice) or a negative word (like bad or poor) on the web. In particular it leveraged AltaVista's \"near\" search and calculates the Pointwise Mutual Information for each sentiment pair.\n",
    "* Peter Turney. 2002. [Thumbs Up or Thumbs Down? Semantic Orientation Applied to Unsupervised Classification of Reviews](https://aclanthology.org/P02-1053/) was concurrent with this work and uses the approach of the previous paper to classify the sentiment of reviews from epinions.com. In particular it extracts certain POS tags, works out their semantic orientation (using \"good\" as the positive term and \"poor\" as the negative), and adds the log scores for all the words in each review.\n",
    "\n",
    "This paper differs in that it uses more classical machine learning approaches with 1-hot encoded word features."
   ]
  },
  {
   "cell_type": "markdown",
   "id": "27c3f881",
   "metadata": {},
   "source": [
    "# The Movie Review Domain\n",
    "\n",
    "They took reviews from the Internet Movie Database (IMDb) archive of the `rec.arts.movies.reviews`, took the reviews with a numerical or star rating and labelled the highest scored ones positive, the lowest negative, and removed the rest.\n",
    "\n",
    "The IMDb archive no longer exists, but there are current archives of this newsgroup in [Google Groups](https://groups.google.com/g/rec.arts.movies.reviews) and the [Usenet Archives](https://www.usenetarchives.com/threads.php?id=rec.arts.movies.reviews&y=0&r=0&p=0).\n",
    "Thankfully the authors released their [original data](https://www.cs.cornell.edu/people/pabo/movie-review-data/) both the raw HTML they extracted and the extracted text they used for classification.\n",
    "\n",
    "Let's take a look at the HTML to see what they worked with"
   ]
  },
  {
   "cell_type": "code",
   "execution_count": 1,
   "id": "7c2909c3",
   "metadata": {},
   "outputs": [],
   "source": [
    "from urllib.request import urlretrieve\n",
    "from pathlib import Path\n",
    "from zipfile import ZipFile\n",
    "import tarfile\n",
    "import re\n",
    "\n",
    "data_dir = Path('data')\n",
    "data_dir.mkdir(exist_ok=True)\n",
    "\n",
    "source_html_url = 'http://www.cs.cornell.edu/people/pabo/movie-review-data/polarity_html.zip'\n",
    "\n",
    "raw_html_path = data_dir / 'polarity_html.zip'\n",
    "if not raw_html_path.exists():\n",
    "    urlretrieve(source_html_url, raw_html_path)\n",
    "    \n",
    "raw_html_zip = ZipFile(raw_html_path)"
   ]
  },
  {
   "cell_type": "markdown",
   "id": "47a85153",
   "metadata": {},
   "source": [
    "The zipfile contains a single directory `movie` containing  around 27k review files"
   ]
  },
  {
   "cell_type": "code",
   "execution_count": 2,
   "id": "6ed9d83b",
   "metadata": {},
   "outputs": [
    {
     "data": {
      "text/plain": [
       "27887"
      ]
     },
     "execution_count": 2,
     "metadata": {},
     "output_type": "execute_result"
    }
   ],
   "source": [
    "len(raw_html_zip.infolist())"
   ]
  },
  {
   "cell_type": "code",
   "execution_count": 3,
   "id": "3d4e7dbe",
   "metadata": {},
   "outputs": [
    {
     "data": {
      "text/plain": [
       "[<ZipInfo filename='movie/0002.html' compress_type=deflate filemode='-rw-rw-rw-' file_size=4415 compress_size=2170>,\n",
       " <ZipInfo filename='movie/0003.html' compress_type=deflate filemode='-rw-rw-rw-' file_size=2702 compress_size=1398>,\n",
       " <ZipInfo filename='movie/0004.html' compress_type=deflate filemode='-rw-rw-rw-' file_size=6165 compress_size=3059>,\n",
       " <ZipInfo filename='movie/0005.html' compress_type=deflate filemode='-rw-rw-rw-' file_size=4427 compress_size=2103>,\n",
       " <ZipInfo filename='movie/0006.html' compress_type=deflate filemode='-rw-rw-rw-' file_size=6423 compress_size=3225>]"
      ]
     },
     "execution_count": 3,
     "metadata": {},
     "output_type": "execute_result"
    }
   ],
   "source": [
    "raw_html_zip.infolist()[:5]"
   ]
  },
  {
   "cell_type": "code",
   "execution_count": 4,
   "id": "7966a930",
   "metadata": {},
   "outputs": [
    {
     "data": {
      "text/plain": [
       "[<ZipInfo filename='movie/9995.html' compress_type=deflate filemode='-rw-rw-rw-' file_size=5232 compress_size=2643>,\n",
       " <ZipInfo filename='movie/9997.html' compress_type=deflate filemode='-rw-rw-rw-' file_size=10113 compress_size=4812>,\n",
       " <ZipInfo filename='movie/9998.html' compress_type=deflate filemode='-rw-rw-rw-' file_size=3868 compress_size=1935>,\n",
       " <ZipInfo filename='movie/9999.html' compress_type=deflate filemode='-rw-rw-rw-' file_size=3081 compress_size=1605>,\n",
       " <ZipInfo filename='movie/' filemode='drwxrwxrwx' external_attr=0x10>]"
      ]
     },
     "execution_count": 4,
     "metadata": {},
     "output_type": "execute_result"
    }
   ],
   "source": [
    "raw_html_zip.infolist()[-5:]"
   ]
  },
  {
   "cell_type": "markdown",
   "id": "3769943d",
   "metadata": {},
   "source": [
    "Let's have a look at one of them (that's not too long, and recent enough to be in other archives); you could also see it on the [Usenet Archives](https://www.usenetarchives.com/view.php?id=rec.arts.movies.reviews&mid=PDE5OTFGZWIxLjE1MjA0My4yNDE2MUBjYm5ld3NqLmF0dC5jb20%2B) or [Google Groups](https://groups.google.com/g/rec.arts.movies.reviews/c/Itr4BZd_EKk/m/QE0gZFPUU50J).\n",
    "\n",
    "Note that the original was almost certainly a plaintext email; some the HTML markup (in particular the footer) would have been added by IMDB.\n",
    "Note that the rating is stated *twice* in the review as a \"low 0\" on a scale from -4 to 4; this begins to indicate the difficulty of automatically extracting the ratings."
   ]
  },
  {
   "cell_type": "code",
   "execution_count": 5,
   "id": "c73e24ff",
   "metadata": {
    "scrolled": false
   },
   "outputs": [
    {
     "name": "stdout",
     "output_type": "stream",
     "text": [
      "<HTML><HEAD>\r\n",
      "<TITLE>Review for Flight of the Intruder (1990)</TITLE>\r\n",
      "<LINK REL=\"STYLESHEET\" TYPE=\"text/css\" HREF=\"/ramr.css\">\r\n",
      "</HEAD>\r\n",
      "<BODY BGCOLOR=\"#FFFFFF\" TEXT=\"#000000\">\r\n",
      "<H1 ALIGN=\"CENTER\" CLASS=\"title\"><A HREF=\"/Title?0099587\">Flight of the Intruder (1990)</A></H1><H3 ALIGN=CENTER>reviewed by<BR><A HREF=\"/ReviewsBy?Mark+R.+Leeper\">Mark R. Leeper</A></H3><HR WIDTH=\"40%\" SIZE=\"4\">\r\n",
      "<PRE>                            FLIGHT OF THE INTRUDER\r\n",
      "                       A film review by Mark R. Leeper\r\n",
      "                        Copyright 1991 Mark R. Leeper</PRE>\r\n",
      "<P>          Capsule review:  Pretty pictures, stupid story.  The\r\n",
      "     air-war of a previous conflict is occasionally entertaining\r\n",
      "     to watch but the plot is cliched as are most of the\r\n",
      "     characters.  This film's only chance is to follow the current\r\n",
      "     wave of interest in military equipment.  Rating: low 0.</P>\r\n",
      "<P>     Had I not actually seen a copy of the book FLIGHT OF THE INTRUDER by\r\n",
      "Stephen Coonts, I would have had a hard time telling if this was a very weak\r\n",
      "story given classy military equipment photography and quality special\r\n",
      "effects treatment or if this was just a collection of classy military\r\n",
      "equipment photography and quality special effects tied together by a very\r\n",
      "weak excuse for a story.  During World War II a lot of B war movies carried\r\n",
      "stories just as good to the bottom half of double bills.  We are talking\r\n",
      "HELLCATS OF THE NAVY-level plotting here.  In 1972 Vietnam we have an\r\n",
      "aircraft carrier ruled over by a cigar-chewing, mean-as-a-junkyard-dog-but-\r\n",
      "heart-of-gold sort of commander.  Danny Glover plays the Black commander\r\n",
      "with the unlikely name Frank Camparelli.  One of his bright young pilots,\r\n",
      "Jake Grafton (played by the uninteresting Brad Johnson) agonizes over the\r\n",
      "loss of his bombardier.  The companion is lost in a raid that accomplishes\r\n",
      "nothing besides adding visual interest to the opening credits.  Grafton\r\n",
      "wants to go on a super-special raid of his own devising.  But this raid is\r\n",
      "directly contrary to orders.  His top-gun replacement bombardier Virgil Cole\r\n",
      "(played by Willem Dafoe) says absolutely not.  Does Jake get to make his\r\n",
      "super-special raid on North Vietnam?  And if he does, what is the Navy's\r\n",
      "reaction?</P>\r\n",
      "<P>     The weak story is, however, punctuated by pretty pictures of planes,\r\n",
      "helicopters, and aircraft carriers to keep the audience watching.  If this\r\n",
      "film stands any chance with audiences it is in the fortuitous timing of this\r\n",
      "film coincident with a sudden upsurge of interest in technical weaponry.\r\n",
      "Indeed many people may find events in the Middle East resonating with\r\n",
      "attitudes in this film.  On the other hand, maybe some people would prefer\r\n",
      "to stay home and watch technical weaponry on television.</P>\r\n",
      "<P>     FLIGHT OF THE INTRUDER is directed by John Milius, who is specializing\r\n",
      "in gutsy films like APOCALYPSE NOW (which he wrote), CONAN THE BARBARIAN,\r\n",
      "and RED DAWN.  The score is by Basil Poledouris, the gifted composer of the\r\n",
      "scores for the \"Conan\" films, who seems repeatedly associated with films\r\n",
      "with right-wing themes.  Poledouris scored RED DAWN, AMERIKA, and THE HUNT\r\n",
      "FOR RED OCTOBER.</P>\r\n",
      "<P>     FLIGHT OF THE INTRUDER is linked in advertising with THE HUNT FOR RED\r\n",
      "OCTOBER, but it falls well short of that film's interest value and quality.\r\n",
      "My rating is a low 0 on the -4 to +4 scale.</P>\r\n",
      "<PRE>                                        Mark R. Leeper\r\n",
      "                                        att!mtgzy!leeper\r\n",
      "                                        <A HREF=\"mailto:leeper@mtgzy.att.com\">leeper@mtgzy.att.com</A>\r\n",
      ".\r\n",
      "</PRE>\r\n",
      "<HR><P CLASS=flush><SMALL>The review above was posted to the\r\n",
      "<A HREF=\"news:rec.arts.movies.reviews\">rec.arts.movies.reviews</A> newsgroup (<A HREF=\"news:de.rec.film.kritiken\">de.rec.film.kritiken</A> for German reviews).<BR>\r\n",
      "The Internet Movie Database accepts no responsibility for the contents of the\r\n",
      "review and has no editorial control. Unless stated otherwise, the copyright\r\n",
      "belongs to the author.<BR>\r\n",
      "Please direct comments/criticisms of the review to relevant newsgroups.<BR>\r\n",
      "Broken URLs inthe reviews are the responsibility of the author.<BR>\r\n",
      "The formatting of the review is likely to differ from the original due\r\n",
      "to ASCII to HTML conversion.\r\n",
      "</SMALL></P>\r\n",
      "<P ALIGN=CENTER>Related links: <A HREF=\"/Reviews/\">index of all rec.arts.movies.reviews reviews</A></P>\r\n",
      "\r\n",
      "\r\n",
      "\r\n",
      "</P></BODY></HTML>\r\n",
      "\n"
     ]
    }
   ],
   "source": [
    "CODEC = 'ISO-8859-1'\n",
    "movie_review_html = raw_html_zip.read('movie/0908.html').decode(CODEC)\n",
    "print(movie_review_html)"
   ]
  },
  {
   "cell_type": "markdown",
   "id": "e67ce27a",
   "metadata": {},
   "source": [
    "For convenience let's define a function to read the HTML of a given movie"
   ]
  },
  {
   "cell_type": "code",
   "execution_count": 6,
   "id": "1b8dd81a",
   "metadata": {
    "scrolled": false
   },
   "outputs": [],
   "source": [
    "def get_movie_html(movieid):\n",
    "    return raw_html_zip.read(f'movie/{movieid}.html').decode(CODEC)"
   ]
  },
  {
   "cell_type": "code",
   "execution_count": 7,
   "id": "d780523a",
   "metadata": {},
   "outputs": [
    {
     "name": "stdout",
     "output_type": "stream",
     "text": [
      "<HTML><HEAD>\r\n",
      "<TITLE>Review for Flight of the Intruder (1990)</TITLE>\r\n",
      "<LINK REL=\"STYLESHEET\" TYPE=\"text/css\" HREF=\"/ramr.css\">\r\n",
      "</HEAD>\r\n",
      "<BODY BGCOLOR=\"#FFFFFF\" TEXT=\"#000000\">\r\n",
      "<H1 ALIGN=\"CENTER\" CLASS=\"title\"><A HREF=\"/Title?0099587\">Flight of the Intruder (1990)</A></H1><H3 ALIGN=CENTER>reviewed by<BR><A HREF=\"/ReviewsBy?Mark+R.+Leeper\">Mark R. Leeper</A></H3><HR WIDTH=\"40%\" SIZE=\"4\">\r\n",
      "<PRE>                            FLIGHT OF THE INTRUDER\r\n",
      "                       A film review by Mark R. Leeper\r\n",
      "                        Copyright 1991 Mark R. Leeper</PRE>\r\n",
      "<P>          Capsule review:  Pretty pictures, stupid story.  The\r\n",
      "     air-war of a previous conflict is occasionally entertaining\r\n",
      "     to watch but the plot is cliched as are most of the\r\n",
      "     characters.  This film's only chance is to follow the current\r\n",
      "     wave of interest in military equipment.  Rating: low 0.</P>\r\n",
      "<P>     Had I not actually seen a copy of the book FLIGHT OF THE INTRUDER by\r\n",
      "Stephen Coonts, I would have h\n"
     ]
    }
   ],
   "source": [
    "print(get_movie_html('0908')[:1000])"
   ]
  },
  {
   "cell_type": "markdown",
   "id": "917b4beb",
   "metadata": {},
   "source": [
    "## Cleaned Text"
   ]
  },
  {
   "cell_type": "markdown",
   "id": "fa06d834",
   "metadata": {},
   "source": [
    "And the cleaned and labelled text we'll get version 1.1 which [according to the README](https://www.cs.cornell.edu/people/pabo/movie-review-data/README.1.1) has some corrections over the version used in the paper."
   ]
  },
  {
   "cell_type": "code",
   "execution_count": 8,
   "id": "619b7ce6",
   "metadata": {},
   "outputs": [],
   "source": [
    "sentiment_url = 'http://www.cs.cornell.edu/people/pabo/movie-review-data/mix20_rand700_tokens_0211.tar.gz'\n",
    "sentiment_path = data_dir / 'sentiment.tar.gz'\n",
    "\n",
    "if not sentiment_path.exists():\n",
    "    urlretrieve(sentiment_url, sentiment_path)\n",
    "    \n",
    "urlretrieve(sentiment_url, sentiment_path)\n",
    "\n",
    "sentiment_fh = tarfile.open(sentiment_path)"
   ]
  },
  {
   "cell_type": "markdown",
   "id": "fed7e742",
   "metadata": {},
   "source": [
    "There's:\n",
    "\n",
    "* a `diff.txt`that says what changed between versions\n",
    "* a [`README`](https://www.cs.cornell.edu/people/pabo/movie-review-data/README.1.1) describing the dataset\n",
    "* subfolders `neg/` and `pos/` containing negative and positive reviews"
   ]
  },
  {
   "cell_type": "code",
   "execution_count": 9,
   "id": "f0b5a3d9",
   "metadata": {},
   "outputs": [
    {
     "data": {
      "text/plain": [
       "['diff.txt',\n",
       " 'README',\n",
       " 'tokens',\n",
       " 'tokens/neg',\n",
       " 'tokens/neg/cv303_tok-11557.txt',\n",
       " 'tokens/neg/cv000_tok-9611.txt',\n",
       " 'tokens/neg/cv001_tok-19324.txt',\n",
       " 'tokens/neg/cv002_tok-3321.txt',\n",
       " 'tokens/neg/cv003_tok-13044.txt',\n",
       " 'tokens/neg/cv004_tok-25944.txt']"
      ]
     },
     "execution_count": 9,
     "metadata": {},
     "output_type": "execute_result"
    }
   ],
   "source": [
    "sentiment_fh.getnames()[:10]"
   ]
  },
  {
   "cell_type": "code",
   "execution_count": 10,
   "id": "ed512d44",
   "metadata": {},
   "outputs": [
    {
     "data": {
      "text/plain": [
       "['tokens/pos/cv690_tok-23617.txt',\n",
       " 'tokens/pos/cv691_tok-11491.txt',\n",
       " 'tokens/pos/cv692_tok-24295.txt',\n",
       " 'tokens/pos/cv693_tok-16307.txt',\n",
       " 'tokens/pos/cv694_tok-18628.txt',\n",
       " 'tokens/pos/cv695_tok-12873.txt',\n",
       " 'tokens/pos/cv696_tok-10835.txt',\n",
       " 'tokens/pos/cv697_tok-29325.txt',\n",
       " 'tokens/pos/cv698_tok-27735.txt',\n",
       " 'tokens/pos/cv699_tok-10425.txt']"
      ]
     },
     "execution_count": 10,
     "metadata": {},
     "output_type": "execute_result"
    }
   ],
   "source": [
    "sentiment_fh.getnames()[-10:]"
   ]
  },
  {
   "cell_type": "markdown",
   "id": "3aa5338a",
   "metadata": {},
   "source": [
    "We can extract the label (pos or neg) the cross-validation id (`cvid`), and the movie id from the filename with a regular expression"
   ]
  },
  {
   "cell_type": "code",
   "execution_count": 11,
   "id": "061d6e55",
   "metadata": {},
   "outputs": [
    {
     "data": {
      "text/plain": [
       "{'label': 'neg', 'cvid': '303', 'movieid': '11557'}"
      ]
     },
     "execution_count": 11,
     "metadata": {},
     "output_type": "execute_result"
    }
   ],
   "source": [
    "pattern = re.compile(r'^tokens/(?P<label>[^/]+)/cv(?P<cvid>[0-9]+)_tok-(?P<movieid>[0-9]+).txt$')\n",
    "\n",
    "pattern.match('tokens/neg/cv303_tok-11557.txt').groupdict()"
   ]
  },
  {
   "cell_type": "markdown",
   "id": "857b850a",
   "metadata": {},
   "source": [
    "Let's extract all the data into aligned lists"
   ]
  },
  {
   "cell_type": "code",
   "execution_count": 12,
   "id": "e2ede027",
   "metadata": {},
   "outputs": [
    {
     "name": "stdout",
     "output_type": "stream",
     "text": [
      "Skipping diff.txt\n",
      "Skipping README\n",
      "Skipping tokens\n",
      "Skipping tokens/neg\n",
      "Skipping tokens/pos\n"
     ]
    },
    {
     "data": {
      "text/plain": [
       "{'label': 1386, 'cvid': 1386, 'movieid': 1386, 'text': 1386}"
      ]
     },
     "execution_count": 12,
     "metadata": {},
     "output_type": "execute_result"
    }
   ],
   "source": [
    "data = {\n",
    "    'label': [],\n",
    "    'cvid': [],\n",
    "    'movieid': [],\n",
    "    'text': []\n",
    "}\n",
    "    \n",
    "\n",
    "for member in sentiment_fh:\n",
    "    match = pattern.match(member.name)\n",
    "    if not match:\n",
    "        print('Skipping %s' % member.name)\n",
    "        continue\n",
    "    for k, v in match.groupdict().items():\n",
    "        data[k].append(v)\n",
    "    data['text'].append(sentiment_fh.extractfile(member).read().decode(CODEC).rstrip())\n",
    "    \n",
    "{k: len(v) for k,v in data.items()}"
   ]
  },
  {
   "cell_type": "markdown",
   "id": "9194ca0d",
   "metadata": {},
   "source": [
    "> To avoid domination of the corpus\n",
    "by a small number of prolific reviewers, we imposed\n",
    "a limit of fewer than 20 reviews per author per sentiment category, yielding a corpus of 752 negative\n",
    "and 1301 positive reviews, with a total of 144 reviewers represented. \n",
    ">\n",
    "> ...\n",
    ">\n",
    "> we randomly selected 700 positive-sentiment and 700\n",
    "negative-sentiment documents\n",
    "\n",
    "We get slightly fewer likely due to the updates since it was first released"
   ]
  },
  {
   "cell_type": "code",
   "execution_count": 13,
   "id": "9267466e",
   "metadata": {},
   "outputs": [
    {
     "data": {
      "text/plain": [
       "Counter({'neg': 692, 'pos': 694})"
      ]
     },
     "execution_count": 13,
     "metadata": {},
     "output_type": "execute_result"
    }
   ],
   "source": [
    "from collections import Counter\n",
    "\n",
    "Counter(data['label'])"
   ]
  },
  {
   "cell_type": "markdown",
   "id": "d9b9c1d2",
   "metadata": {},
   "source": [
    "## How the text was constructed\n",
    "\n",
    "There's no explicit mention in the paper about how the text is constructed, but we can mostly reverse engineer it.\n",
    "\n",
    "Let's take an example and look at the HTML."
   ]
  },
  {
   "cell_type": "code",
   "execution_count": 14,
   "id": "4c78ec48",
   "metadata": {},
   "outputs": [],
   "source": [
    "from IPython.display import HTML, display"
   ]
  },
  {
   "cell_type": "code",
   "execution_count": 15,
   "id": "d16dc3e8",
   "metadata": {},
   "outputs": [],
   "source": [
    "idx = 3"
   ]
  },
  {
   "cell_type": "code",
   "execution_count": 16,
   "id": "7badfb3a",
   "metadata": {},
   "outputs": [
    {
     "data": {
      "text/html": [
       "<HTML><HEAD>\r\n",
       "<TITLE>Review for Brady Bunch Movie, The (1995)</TITLE>\r\n",
       "<LINK REL=\"STYLESHEET\" TYPE=\"text/css\" HREF=\"/ramr.css\">\r\n",
       "</HEAD>\r\n",
       "<BODY BGCOLOR=\"#FFFFFF\" TEXT=\"#000000\">\r\n",
       "<H1 ALIGN=\"CENTER\" CLASS=\"title\"><A HREF=\"/Title?0112572\">Brady Bunch Movie, The (1995)</A></H1><H3 ALIGN=CENTER>reviewed by<BR><A HREF=\"/ReviewsBy?Michael+J.+Legeros\">Michael J. Legeros</A></H3><HR WIDTH=\"40%\" SIZE=\"4\">\r\n",
       "<PRE>                                THE BRADY BUNCH MOVIE\r\n",
       "                       A film review by Michael John Legeros\r\n",
       "                        Copyright 1995 Michael John Legeros</PRE>\r\n",
       "<PRE>(Paramount)\r\n",
       "Directed by     Betty Thomas\r\n",
       "Written by      Laurice Elehwany & Rick Copp and\r\n",
       "                Bonnie Turner & Terry Turner\r\n",
       "Cast            Shelley Long, Gary Cole, Michael McKean\r\n",
       "MPAA Rating     \"PG-13\"\r\n",
       "Running Time    90 minutes\r\n",
       "Reviewed at     General Cinemas, Raleigh, NC (17FEB95)</PRE>\r\n",
       "<PRE>==</PRE>\r\n",
       "<PRE>\"Jan, cut the crap.\"\r\n",
       "           - Grandma Brady</PRE>\r\n",
       "<P>     THE BRADY BUNCH MOVIE is less a motion picture than a minor pop\r\n",
       "event.  Forget your reruns and forget your Nick at Nite; this dead-on\r\n",
       "recreation of the fabled seventies sitcom is both so exhilarating *and*\r\n",
       "so disturbing that you half-expect to see the ghost of Rod Serling\r\n",
       "appear in the narrative.</P>\r\n",
       "<P>     Did we really act this way twenty years ago?  Of course not.  The\r\n",
       "genius of THE BRADY BUNCH MOVIE is how it heightens the surreality of\r\n",
       "the Family Unit From Hell by fast-forwarding them into the future.\r\n",
       "It's 1995 and Greg still calls the chicks \"groovy,\" and Marsha still\r\n",
       "considers hair-brushing the high point of her day.  Bell bottoms are\r\n",
       "in, and Alice has yet to move out.</P>\r\n",
       "<P>     Nothing has changed within the garish walls of Brady Manor and,\r\n",
       "so, the plot has the family stepping out into the real world, where\r\n",
       "they are confronted by everything from carjackers to lesbians.\r\n",
       "Granted, nothing *too* serious happens here.  With the exception of\r\n",
       "some heavy sexual innuendo, THE BRADY BUNCH MOVIE is about as sanitary\r\n",
       "as the source material.  And that's too bad.</P>\r\n",
       "<P>     Director Betty Thomas (of TV's \"Hill Street Blues\" fame) doesn't\r\n",
       "cut between real-life and Brady-life enough to make the contrast as\r\n",
       "glaring as it should be.  The edge isn't sharp enough.  *We* know that\r\n",
       "what we're watching is funky, though, so it's not that much of a\r\n",
       "problem.</P>\r\n",
       "<P>     Nor are the glaring low production standards.</P>\r\n",
       "<P>     The cast is uniformly appealing.  Shelly Long seems to have found\r\n",
       "her niche under awful hair, while Gary Cole is right on the mark with\r\n",
       "Dad's sing-song truisms.  Christine Taylor is the best of the Brady\r\n",
       "kids.  She's a cheery delight as Marsha *and* is a dead ringer for\r\n",
       "Maureen McCormick.  Her foil is Jennifer Elise Cox, who is a howl as\r\n",
       "the brooding Jan.</P>\r\n",
       "<PRE>     By the way, my crush was always on Eve Plumb.</PRE>\r\n",
       "<PRE>BOTTOM LINE:   Excruciatingly dopey, which is exactly why we watched it\r\n",
       "               in the first place.</PRE>\r\n",
       "<PRE>Grade: B+</PRE>\r\n",
       "<PRE>--\r\n",
       "Michael J. Legeros\r\n",
       "Raleigh, North Carolina</PRE>\r\n",
       "<HR><P CLASS=flush><SMALL>The review above was posted to the\r\n",
       "<A HREF=\"news:rec.arts.movies.reviews\">rec.arts.movies.reviews</A> newsgroup (<A HREF=\"news:de.rec.film.kritiken\">de.rec.film.kritiken</A> for German reviews).<BR>\r\n",
       "The Internet Movie Database accepts no responsibility for the contents of the\r\n",
       "review and has no editorial control. Unless stated otherwise, the copyright\r\n",
       "belongs to the author.<BR>\r\n",
       "Please direct comments/criticisms of the review to relevant newsgroups.<BR>\r\n",
       "Broken URLs inthe reviews are the responsibility of the author.<BR>\r\n",
       "The formatting of the review is likely to differ from the original due\r\n",
       "to ASCII to HTML conversion.\r\n",
       "</SMALL></P>\r\n",
       "<P ALIGN=CENTER>Related links: <A HREF=\"/Reviews/\">index of all rec.arts.movies.reviews reviews</A></P>\r\n",
       "\r\n",
       "\r\n",
       "\r\n",
       "</P></BODY></HTML>\r\n"
      ],
      "text/plain": [
       "<IPython.core.display.HTML object>"
      ]
     },
     "execution_count": 16,
     "metadata": {},
     "output_type": "execute_result"
    }
   ],
   "source": [
    "movie_html = get_movie_html(data['movieid'][idx])\n",
    "\n",
    "HTML(movie_html)"
   ]
  },
  {
   "cell_type": "markdown",
   "id": "8e4c530a",
   "metadata": {},
   "source": [
    "It seems like it only keeps the paragraph text, lowercases and then pads punctuation with spaces."
   ]
  },
  {
   "cell_type": "code",
   "execution_count": 17,
   "id": "aeb5b44a",
   "metadata": {},
   "outputs": [
    {
     "name": "stdout",
     "output_type": "stream",
     "text": [
      "the brady bunch movie is less a motion picture than a minor pop event . forget your reruns and forget your nick at nite ; this dead-on recreation of the fabled seventies sitcom is both so exhilarating and * so disturbing that you half-expect to see the ghost of rod serling appear in the narrative . did we really act this way twenty years ago ? of course not . the genius of the brady bunch movie is how it heightens the surreality of the family unit from hell by fast-forwarding them into the future . it's 1995 and greg still calls the chicks \" groovy , \" and marsha still considers hair-brushing the high point of her day . bell bottoms are in , and alice has yet to move out . nothing has changed within the garish walls of brady manor and , so , the plot has the family stepping out into the real world , where they are confronted by everything from carjackers to lesbians . granted , nothing * too * serious happens here . with the exception of some heavy sexual innuendo , the brady bunch movie is about as sanitary as the source material . and that's too bad . director betty thomas ( of tv's \" hill street blues \" fame ) doesn't cut between real-life and brady-life enough to make the contrast as glaring as it should be . the edge isn't sharp enough . * we * know that what we're watching is funky , though , so it's not that much of a problem . nor are the glaring low production standards . the cast is uniformly appealing . shelly long seems to have found her niche under awful hair , while gary cole is right on the mark with dad's sing-song truisms . christine taylor is the best of the brady kids . she's a cheery delight as marsha * and * is a dead ringer for maureen mccormick . her foil is jennifer elise cox , who is a howl as the brooding jan .\n"
     ]
    }
   ],
   "source": [
    "movie_text = data['text'][idx]\n",
    "\n",
    "print(movie_text)"
   ]
  },
  {
   "cell_type": "markdown",
   "id": "183ced20",
   "metadata": {},
   "source": [
    "Let's look at this more visually marking up the differences (we lower-case the HTML at the start to make the diff better)"
   ]
  },
  {
   "cell_type": "code",
   "execution_count": 18,
   "id": "289e068e",
   "metadata": {},
   "outputs": [
    {
     "data": {
      "text/html": [
       "<span style=\"background: #f4bcbb;\">&lt;html&gt;&lt;head&gt;\r\n",
       "&lt;title&gt;review for brady bunch movie, the (1995)&lt;/title&gt;\r\n",
       "&lt;link rel=&quot;stylesheet&quot; type=&quot;text/css&quot; href=&quot;/ramr.css&quot;&gt;\r\n",
       "&lt;/head&gt;\r\n",
       "&lt;body bgcolor=&quot;#ffffff&quot; text=&quot;#000000&quot;&gt;\r\n",
       "&lt;h1 align=&quot;center&quot; class=&quot;title&quot;&gt;&lt;a href=&quot;/title?0112572&quot;&gt;brady bunch movie, the (1995)&lt;/a&gt;&lt;/h1&gt;&lt;h3 align=center&gt;reviewed by&lt;br&gt;&lt;a href=&quot;/reviewsby?michael+j.+legeros&quot;&gt;michael j. legeros&lt;/a&gt;&lt;/h3&gt;&lt;hr width=&quot;40%&quot; size=&quot;4&quot;&gt;\r\n",
       "&lt;pre&gt;                                the brady bunch movie\r\n",
       "                       a film review by michael john legeros\r\n",
       "                        copyright 1995 michael john legeros&lt;/pre&gt;\r\n",
       "&lt;pre&gt;(paramount)\r\n",
       "directed by     betty thomas\r\n",
       "written by      laurice elehwany &amp; rick copp and\r\n",
       "                bonnie turner &amp; terry turner\r\n",
       "cast            shelley long, gary cole, michael mckean\r\n",
       "mpaa rating     &quot;pg-13&quot;\r\n",
       "running time    90 minutes\r\n",
       "reviewed at     general cinemas, raleigh, nc (17feb95)&lt;/pre&gt;\r\n",
       "&lt;pre&gt;==&lt;/pre&gt;\r\n",
       "&lt;pre&gt;&quot;jan, cut the crap.&quot;\r\n",
       "           - grandma brady&lt;/pre&gt;\r\n",
       "&lt;p&gt;     </span>the brady bunch movie is less a motion picture than a minor pop<span style=\"background: #b0d6d6;\">\r\n",
       "</span><span style=\"background: #f4bcbb;\"> </span>event<span style=\"background: #b0d6d6;\"> </span>.<span style=\"background: #f4bcbb;\"> </span> forget your reruns and forget your nick at nite<span style=\"background: #b0d6d6;\"> </span>; this dead-on<span style=\"background: #b0d6d6;\">\r\n",
       "</span><span style=\"background: #f4bcbb;\"> </span>recreation of the fabled seventies sitcom is both so exhilarating <span style=\"background: #f4bcbb;\">*</span>and<span style=\"background: #b0d6d6;\"> </span>*<span style=\"background: #b0d6d6;\">\r\n",
       "</span><span style=\"background: #f4bcbb;\"> </span>so disturbing that you half-expect to see the ghost of rod serling<span style=\"background: #b0d6d6;\">\r\n",
       "</span><span style=\"background: #f4bcbb;\"> </span>appear in the narrative<span style=\"background: #b0d6d6;\"> </span>.<span style=\"background: #f4bcbb;\">&lt;/p&gt;\r\n",
       "&lt;p&gt;    </span> did we really act this way twenty years ago<span style=\"background: #b0d6d6;\"> </span>?<span style=\"background: #f4bcbb;\"> </span> of course not<span style=\"background: #b0d6d6;\"> </span>.<span style=\"background: #f4bcbb;\"> </span> the<span style=\"background: #b0d6d6;\">\r\n",
       "</span><span style=\"background: #f4bcbb;\"> </span>genius of the brady bunch movie is how it heightens the surreality of<span style=\"background: #b0d6d6;\">\r\n",
       "</span><span style=\"background: #f4bcbb;\"> </span>the family unit from hell by fast-forwarding them into the future<span style=\"background: #b0d6d6;\"> </span>.<span style=\"background: #b0d6d6;\">\r\n",
       "</span><span style=\"background: #f4bcbb;\"> </span>it&#x27;s 1995 and greg still calls the chicks &quot;<span style=\"background: #b0d6d6;\"> </span>groovy<span style=\"background: #b0d6d6;\"> </span>,<span style=\"background: #b0d6d6;\"> </span>&quot; and marsha still<span style=\"background: #b0d6d6;\">\r\n",
       "</span><span style=\"background: #f4bcbb;\"> </span>considers hair-brushing the high point of her day<span style=\"background: #b0d6d6;\"> </span>.<span style=\"background: #f4bcbb;\"> </span> bell bottoms are<span style=\"background: #b0d6d6;\">\r\n",
       "</span><span style=\"background: #f4bcbb;\"> </span>in<span style=\"background: #b0d6d6;\"> </span>, and alice has yet to move out<span style=\"background: #b0d6d6;\"> </span>.<span style=\"background: #f4bcbb;\">&lt;/p&gt;\r\n",
       "&lt;p&gt;    </span> nothing has changed within the garish walls of brady manor and<span style=\"background: #b0d6d6;\"> </span>,<span style=\"background: #b0d6d6;\">\r\n",
       "</span><span style=\"background: #f4bcbb;\"> </span>so<span style=\"background: #b0d6d6;\"> </span>, the plot has the family stepping out into the real world<span style=\"background: #b0d6d6;\"> </span>, where<span style=\"background: #b0d6d6;\">\r\n",
       "</span><span style=\"background: #f4bcbb;\"> </span>they are confronted by everything from carjackers to lesbians<span style=\"background: #b0d6d6;\"> </span>.<span style=\"background: #b0d6d6;\">\r\n",
       "</span><span style=\"background: #f4bcbb;\"> </span>granted<span style=\"background: #b0d6d6;\"> </span>, nothing *<span style=\"background: #b0d6d6;\"> </span>too<span style=\"background: #b0d6d6;\"> </span>* serious happens here<span style=\"background: #b0d6d6;\"> </span>.<span style=\"background: #f4bcbb;\"> </span> with the exception of<span style=\"background: #b0d6d6;\">\r\n",
       "</span><span style=\"background: #f4bcbb;\"> </span>some heavy sexual innuendo<span style=\"background: #b0d6d6;\"> </span>, the brady bunch movie is about as sanitary<span style=\"background: #b0d6d6;\">\r\n",
       "</span><span style=\"background: #f4bcbb;\"> </span>as the source material<span style=\"background: #b0d6d6;\"> </span>.<span style=\"background: #f4bcbb;\"> </span> and that&#x27;s too bad<span style=\"background: #b0d6d6;\"> </span>.<span style=\"background: #f4bcbb;\">&lt;/p&gt;\r\n",
       "&lt;p&gt;    </span> director betty thomas (<span style=\"background: #b0d6d6;\"> </span>of tv&#x27;s &quot;<span style=\"background: #b0d6d6;\"> </span>hill street blues<span style=\"background: #b0d6d6;\"> </span>&quot; fame<span style=\"background: #b0d6d6;\"> </span>) doesn&#x27;t<span style=\"background: #b0d6d6;\">\r\n",
       "</span><span style=\"background: #f4bcbb;\"> </span>cut between real-life and brady-life enough to make the contrast as<span style=\"background: #b0d6d6;\">\r\n",
       "</span><span style=\"background: #f4bcbb;\"> </span>glaring as it should be<span style=\"background: #b0d6d6;\"> </span>.<span style=\"background: #f4bcbb;\"> </span> the edge isn&#x27;t sharp enough<span style=\"background: #b0d6d6;\"> </span>. <span style=\"background: #b0d6d6;\">*</span> <span style=\"background: #f4bcbb;\">*</span>we<span style=\"background: #b0d6d6;\"> </span>* know that<span style=\"background: #b0d6d6;\">\r\n",
       "</span><span style=\"background: #f4bcbb;\"> </span>what we&#x27;re watching is funky<span style=\"background: #b0d6d6;\"> </span>, though<span style=\"background: #b0d6d6;\"> </span>, so it&#x27;s not that much of a<span style=\"background: #b0d6d6;\">\r\n",
       "</span><span style=\"background: #f4bcbb;\"> </span>problem<span style=\"background: #b0d6d6;\"> </span>.<span style=\"background: #f4bcbb;\">&lt;/p&gt;\r\n",
       "&lt;p&gt;    </span> nor are the glaring low production standards<span style=\"background: #b0d6d6;\"> </span>.<span style=\"background: #f4bcbb;\">&lt;/p&gt;\r\n",
       "&lt;p&gt;    </span> the cast is uniformly appealing<span style=\"background: #b0d6d6;\"> </span>.<span style=\"background: #f4bcbb;\"> </span> shelly long seems to have found<span style=\"background: #b0d6d6;\">\r\n",
       "</span><span style=\"background: #f4bcbb;\"> </span>her niche under awful hair<span style=\"background: #b0d6d6;\"> </span>, while gary cole is right on the mark with<span style=\"background: #b0d6d6;\">\r\n",
       "</span><span style=\"background: #f4bcbb;\"> </span>dad&#x27;s sing-song truisms<span style=\"background: #b0d6d6;\"> </span>.<span style=\"background: #f4bcbb;\"> </span> christine taylor is the best of the brady<span style=\"background: #b0d6d6;\">\r\n",
       "</span><span style=\"background: #f4bcbb;\"> </span>kids<span style=\"background: #b0d6d6;\"> </span>.<span style=\"background: #f4bcbb;\"> </span> she&#x27;s a cheery delight as marsha *<span style=\"background: #b0d6d6;\"> </span>and<span style=\"background: #b0d6d6;\"> </span>* is a dead ringer for<span style=\"background: #b0d6d6;\">\r\n",
       "</span><span style=\"background: #f4bcbb;\"> </span>maureen mccormick<span style=\"background: #b0d6d6;\"> </span>.<span style=\"background: #f4bcbb;\"> </span> her foil is jennifer elise cox<span style=\"background: #b0d6d6;\"> </span>, who is a howl as<span style=\"background: #b0d6d6;\">\r\n",
       "</span><span style=\"background: #f4bcbb;\"> </span>the brooding jan<span style=\"background: #b0d6d6;\"> </span>.<span style=\"background: #f4bcbb;\">&lt;/p&gt;\r\n",
       "&lt;pre&gt;     by the way, my crush was always on eve plumb.&lt;/pre&gt;\r\n",
       "&lt;pre&gt;bottom line:   excruciatingly dopey, which is exactly why we watched it\r\n",
       "               in the first place.&lt;/pre&gt;\r\n",
       "&lt;pre&gt;grade: b+&lt;/pre&gt;\r\n",
       "&lt;pre&gt;--\r\n",
       "michael j. legeros\r\n",
       "raleigh, north carolina&lt;/pre&gt;\r\n",
       "&lt;hr&gt;&lt;p class=flush&gt;&lt;small&gt;the review above was posted to the\r\n",
       "&lt;a href=&quot;news:rec.arts.movies.reviews&quot;&gt;rec.arts.movies.reviews&lt;/a&gt; newsgroup (&lt;a href=&quot;news:de.rec.film.kritiken&quot;&gt;de.rec.film.kritiken&lt;/a&gt; for german reviews).&lt;br&gt;\r\n",
       "the internet movie database accepts no responsibility for the contents of the\r\n",
       "review and has no editorial control. unless stated otherwise, the copyright\r\n",
       "belongs to the author.&lt;br&gt;\r\n",
       "please direct comments/criticisms of the review to relevant newsgroups.&lt;br&gt;\r\n",
       "broken urls inthe reviews are the responsibility of the author.&lt;br&gt;\r\n",
       "the formatting of the review is likely to differ from the original due\r\n",
       "to ascii to html conversion.\r\n",
       "&lt;/small&gt;&lt;/p&gt;\r\n",
       "&lt;p align=center&gt;related links: &lt;a href=&quot;/reviews/&quot;&gt;index of all rec.arts.movies.reviews reviews&lt;/a&gt;&lt;/p&gt;\r\n",
       "\r\n",
       "\r\n",
       "\r\n",
       "&lt;/p&gt;&lt;/body&gt;&lt;/html&gt;\r\n",
       "</span>"
      ],
      "text/plain": [
       "<IPython.core.display.HTML object>"
      ]
     },
     "metadata": {},
     "output_type": "display_data"
    }
   ],
   "source": [
    "import difflib\n",
    "import html\n",
    "\n",
    "def mark_span(text, color):\n",
    "        return f'<span style=\"background: {color};\">{html.escape(text)}</span>'\n",
    "\n",
    "def show_diff(a, b):\n",
    "    seqmatcher = difflib.SequenceMatcher(isjunk=None, a=a, b=b, autojunk=False)\n",
    "    delcolor='#f4bcbb'\n",
    "    inscolor='#b0d6d6'\n",
    "    \n",
    "    output = []\n",
    "\n",
    "\n",
    "    for tag, a0, a1, b0, b1 in seqmatcher.get_opcodes():\n",
    "        if tag == 'delete':\n",
    "            output.append(mark_span(a[a0:a1], color=delcolor))\n",
    "        elif tag == 'insert':\n",
    "            output.append(mark_span(b[b0:b1], color=inscolor))\n",
    "        elif tag == 'replace':\n",
    "            output.append(mark_span(a[a0:a1], color=inscolor))\n",
    "            output.append(mark_span(b[b0:b1], color=delcolor))\n",
    "        elif tag == 'equal':\n",
    "            output.append(html.escape(a[a0:a1]))\n",
    "        else:\n",
    "            raise ValueError\n",
    "\n",
    "    display(HTML(''.join(output)))\n",
    "    \n",
    "show_diff(movie_html.lower(), movie_text)"
   ]
  },
  {
   "cell_type": "markdown",
   "id": "221c21d1",
   "metadata": {},
   "source": [
    "The first obvious thing is it extracts the main paragraph text.\n",
    "\n",
    "One way to do this is to get all paragraphs (this isn't the only way to do it; we'll have to test whether it's correct)."
   ]
  },
  {
   "cell_type": "code",
   "execution_count": 19,
   "id": "ad725523",
   "metadata": {},
   "outputs": [
    {
     "name": "stdout",
     "output_type": "stream",
     "text": [
      "<P>     THE BRADY BUNCH MOVIE is less a motion picture than a minor pop\r\n",
      "event.  Forget your reruns and forget your Nick at Nite; this dead-on\r\n",
      "recreation of the fabled seventies sitcom is both so exhilarating *and*\r\n",
      "so disturbing that you half-expect to see the ghost of Rod Serling\r\n",
      "appear in the narrative.</P> <P>     Did we really act this way twenty years ago?  Of course not.  The\r\n",
      "genius of THE BRADY BUNCH MOVIE is how it heightens the surreality of\r\n",
      "the Family Unit From Hell by fast-forwarding them into the future.\r\n",
      "It's 1995 and Greg still calls the chicks \"groovy,\" and Marsha still\r\n",
      "considers hair-brushing the high point of her day.  Bell bottoms are\r\n",
      "in, and Alice has yet to move out.</P> <P>     Nothing has changed within the garish walls of Brady Manor and,\r\n",
      "so, the plot has the family stepping out into the real world, where\r\n",
      "they are confronted by everything from carjackers to lesbians.\r\n",
      "Granted, nothing *too* serious happens here.  With the exception of\r\n",
      "some heavy sexual innuendo, THE BRADY BUNCH MOVIE is about as sanitary\r\n",
      "as the source material.  And that's too bad.</P> <P>     Director Betty Thomas (of TV's \"Hill Street Blues\" fame) doesn't\r\n",
      "cut between real-life and Brady-life enough to make the contrast as\r\n",
      "glaring as it should be.  The edge isn't sharp enough.  *We* know that\r\n",
      "what we're watching is funky, though, so it's not that much of a\r\n",
      "problem.</P> <P>     Nor are the glaring low production standards.</P> <P>     The cast is uniformly appealing.  Shelly Long seems to have found\r\n",
      "her niche under awful hair, while Gary Cole is right on the mark with\r\n",
      "Dad's sing-song truisms.  Christine Taylor is the best of the Brady\r\n",
      "kids.  She's a cheery delight as Marsha *and* is a dead ringer for\r\n",
      "Maureen McCormick.  Her foil is Jennifer Elise Cox, who is a howl as\r\n",
      "the brooding Jan.</P>\n"
     ]
    }
   ],
   "source": [
    "#paragraph_text = re.match('.*?((?:<P>[^<]*</P>\\s*)+)', movie_html, flags=re.DOTALL | re.IGNORECASE).group(1)\n",
    "paragraph_text = ' '.join(re.findall('<P>[^<]*</P>', movie_html, flags=re.DOTALL | re.IGNORECASE))\n",
    "print(paragraph_text)"
   ]
  },
  {
   "cell_type": "markdown",
   "id": "a299dbf8",
   "metadata": {},
   "source": [
    "We have to remove the other tags and put spaces around punctuation."
   ]
  },
  {
   "cell_type": "code",
   "execution_count": 20,
   "id": "0df7fe42",
   "metadata": {},
   "outputs": [
    {
     "data": {
      "text/html": [
       "<span style=\"background: #f4bcbb;\">&lt;p&gt;     </span>the brady bunch movie is less a motion picture than a minor pop<span style=\"background: #b0d6d6;\">\r\n",
       "</span><span style=\"background: #f4bcbb;\"> </span>event<span style=\"background: #b0d6d6;\"> </span>.<span style=\"background: #f4bcbb;\"> </span> forget your reruns and forget your nick at nite<span style=\"background: #b0d6d6;\"> </span>; this dead-on<span style=\"background: #b0d6d6;\">\r\n",
       "</span><span style=\"background: #f4bcbb;\"> </span>recreation of the fabled seventies sitcom is both so exhilarating <span style=\"background: #f4bcbb;\">*</span>and<span style=\"background: #b0d6d6;\"> </span>*<span style=\"background: #b0d6d6;\">\r\n",
       "</span><span style=\"background: #f4bcbb;\"> </span>so disturbing that you half-expect to see the ghost of rod serling<span style=\"background: #b0d6d6;\">\r\n",
       "</span><span style=\"background: #f4bcbb;\"> </span>appear in the narrative<span style=\"background: #b0d6d6;\"> </span>.<span style=\"background: #f4bcbb;\">&lt;/p&gt; &lt;p&gt;    </span> did we really act this way twenty years ago<span style=\"background: #b0d6d6;\"> </span>?<span style=\"background: #f4bcbb;\"> </span> of course not<span style=\"background: #b0d6d6;\"> </span>.<span style=\"background: #f4bcbb;\"> </span> the<span style=\"background: #b0d6d6;\">\r\n",
       "</span><span style=\"background: #f4bcbb;\"> </span>genius of the brady bunch movie is how it heightens the surreality of<span style=\"background: #b0d6d6;\">\r\n",
       "</span><span style=\"background: #f4bcbb;\"> </span>the family unit from hell by fast-forwarding them into the future<span style=\"background: #b0d6d6;\"> </span>.<span style=\"background: #b0d6d6;\">\r\n",
       "</span><span style=\"background: #f4bcbb;\"> </span>it&#x27;s 1995 and greg still calls the chicks &quot;<span style=\"background: #b0d6d6;\"> </span>groovy<span style=\"background: #b0d6d6;\"> </span>,<span style=\"background: #b0d6d6;\"> </span>&quot; and marsha still<span style=\"background: #b0d6d6;\">\r\n",
       "</span><span style=\"background: #f4bcbb;\"> </span>considers hair-brushing the high point of her day<span style=\"background: #b0d6d6;\"> </span>.<span style=\"background: #f4bcbb;\"> </span> bell bottoms are<span style=\"background: #b0d6d6;\">\r\n",
       "</span><span style=\"background: #f4bcbb;\"> </span>in<span style=\"background: #b0d6d6;\"> </span>, and alice has yet to move out<span style=\"background: #b0d6d6;\"> </span>.<span style=\"background: #f4bcbb;\">&lt;/p&gt; &lt;p&gt;    </span> nothing has changed within the garish walls of brady manor and<span style=\"background: #b0d6d6;\"> </span>,<span style=\"background: #b0d6d6;\">\r\n",
       "</span><span style=\"background: #f4bcbb;\"> </span>so<span style=\"background: #b0d6d6;\"> </span>, the plot has the family stepping out into the real world<span style=\"background: #b0d6d6;\"> </span>, where<span style=\"background: #b0d6d6;\">\r\n",
       "</span><span style=\"background: #f4bcbb;\"> </span>they are confronted by everything from carjackers to lesbians<span style=\"background: #b0d6d6;\"> </span>.<span style=\"background: #b0d6d6;\">\r\n",
       "</span><span style=\"background: #f4bcbb;\"> </span>granted<span style=\"background: #b0d6d6;\"> </span>, nothing *<span style=\"background: #b0d6d6;\"> </span>too<span style=\"background: #b0d6d6;\"> </span>* serious happens here<span style=\"background: #b0d6d6;\"> </span>.<span style=\"background: #f4bcbb;\"> </span> with the exception of<span style=\"background: #b0d6d6;\">\r\n",
       "</span><span style=\"background: #f4bcbb;\"> </span>some heavy sexual innuendo<span style=\"background: #b0d6d6;\"> </span>, the brady bunch movie is about as sanitary<span style=\"background: #b0d6d6;\">\r\n",
       "</span><span style=\"background: #f4bcbb;\"> </span>as the source material<span style=\"background: #b0d6d6;\"> </span>.<span style=\"background: #f4bcbb;\"> </span> and that&#x27;s too bad<span style=\"background: #b0d6d6;\"> </span>.<span style=\"background: #f4bcbb;\">&lt;/p&gt; &lt;p&gt;    </span> director betty thomas (<span style=\"background: #b0d6d6;\"> </span>of tv&#x27;s &quot;<span style=\"background: #b0d6d6;\"> </span>hill street blues<span style=\"background: #b0d6d6;\"> </span>&quot; fame<span style=\"background: #b0d6d6;\"> </span>) doesn&#x27;t<span style=\"background: #b0d6d6;\">\r\n",
       "</span><span style=\"background: #f4bcbb;\"> </span>cut between real-life and brady-life enough to make the contrast as<span style=\"background: #b0d6d6;\">\r\n",
       "</span><span style=\"background: #f4bcbb;\"> </span>glaring as it should be<span style=\"background: #b0d6d6;\"> </span>.<span style=\"background: #f4bcbb;\"> </span> the edge isn&#x27;t sharp enough<span style=\"background: #b0d6d6;\"> </span>. <span style=\"background: #b0d6d6;\">*</span> <span style=\"background: #f4bcbb;\">*</span>we<span style=\"background: #b0d6d6;\"> </span>* know that<span style=\"background: #b0d6d6;\">\r\n",
       "</span><span style=\"background: #f4bcbb;\"> </span>what we&#x27;re watching is funky<span style=\"background: #b0d6d6;\"> </span>, though<span style=\"background: #b0d6d6;\"> </span>, so it&#x27;s not that much of a<span style=\"background: #b0d6d6;\">\r\n",
       "</span><span style=\"background: #f4bcbb;\"> </span>problem<span style=\"background: #b0d6d6;\"> </span>.<span style=\"background: #f4bcbb;\">&lt;/p&gt; &lt;p&gt;    </span> nor are the glaring low production standards<span style=\"background: #b0d6d6;\"> </span>.<span style=\"background: #f4bcbb;\">&lt;/p&gt; &lt;p&gt;    </span> the cast is uniformly appealing<span style=\"background: #b0d6d6;\"> </span>.<span style=\"background: #f4bcbb;\"> </span> shelly long seems to have found<span style=\"background: #b0d6d6;\">\r\n",
       "</span><span style=\"background: #f4bcbb;\"> </span>her niche under awful hair<span style=\"background: #b0d6d6;\"> </span>, while gary cole is right on the mark with<span style=\"background: #b0d6d6;\">\r\n",
       "</span><span style=\"background: #f4bcbb;\"> </span>dad&#x27;s sing-song truisms<span style=\"background: #b0d6d6;\"> </span>.<span style=\"background: #f4bcbb;\"> </span> christine taylor is the best of the brady<span style=\"background: #b0d6d6;\">\r\n",
       "</span><span style=\"background: #f4bcbb;\"> </span>kids<span style=\"background: #b0d6d6;\"> </span>.<span style=\"background: #f4bcbb;\"> </span> she&#x27;s a cheery delight as marsha *<span style=\"background: #b0d6d6;\"> </span>and<span style=\"background: #b0d6d6;\"> </span>* is a dead ringer for<span style=\"background: #b0d6d6;\">\r\n",
       "</span><span style=\"background: #f4bcbb;\"> </span>maureen mccormick<span style=\"background: #b0d6d6;\"> </span>.<span style=\"background: #f4bcbb;\"> </span> her foil is jennifer elise cox<span style=\"background: #b0d6d6;\"> </span>, who is a howl as<span style=\"background: #b0d6d6;\">\r\n",
       "</span><span style=\"background: #f4bcbb;\"> </span>the brooding jan<span style=\"background: #b0d6d6;\"> </span>.<span style=\"background: #f4bcbb;\">&lt;/p&gt;</span>"
      ],
      "text/plain": [
       "<IPython.core.display.HTML object>"
      ]
     },
     "metadata": {},
     "output_type": "display_data"
    }
   ],
   "source": [
    "show_diff(paragraph_text.lower(), movie_text)"
   ]
  },
  {
   "cell_type": "code",
   "execution_count": 21,
   "id": "c0db22cb",
   "metadata": {},
   "outputs": [],
   "source": [
    "# Remove HTML Tags\n",
    "html_removed = re.sub('<.*?>', ' ', paragraph_text)\n",
    "# Extra spaces around tokens\n",
    "token_expanded = re.sub(r'([!?.*()\";:,])', r' \\1 ', html_removed)\n",
    "# Compress multiple spaces\n",
    "space_adjusted = re.sub('\\s+', ' ', token_expanded).strip()"
   ]
  },
  {
   "cell_type": "markdown",
   "id": "07aaa2d7",
   "metadata": {},
   "source": [
    "There's one remaining difference in the `*`, which is likely to do with the star rating removal logic."
   ]
  },
  {
   "cell_type": "code",
   "execution_count": 22,
   "id": "2910f749",
   "metadata": {},
   "outputs": [
    {
     "data": {
      "text/html": [
       "the brady bunch movie is less a motion picture than a minor pop event . forget your reruns and forget your nick at nite ; this dead-on recreation of the fabled seventies sitcom is both so exhilarating<span style=\"background: #f4bcbb;\"> *</span> and * so disturbing that you half-expect to see the ghost of rod serling appear in the narrative . did we really act this way twenty years ago ? of course not . the genius of the brady bunch movie is how it heightens the surreality of the family unit from hell by fast-forwarding them into the future . it&#x27;s 1995 and greg still calls the chicks &quot; groovy , &quot; and marsha still considers hair-brushing the high point of her day . bell bottoms are in , and alice has yet to move out . nothing has changed within the garish walls of brady manor and , so , the plot has the family stepping out into the real world , where they are confronted by everything from carjackers to lesbians . granted , nothing * too * serious happens here . with the exception of some heavy sexual innuendo , the brady bunch movie is about as sanitary as the source material . and that&#x27;s too bad . director betty thomas ( of tv&#x27;s &quot; hill street blues &quot; fame ) doesn&#x27;t cut between real-life and brady-life enough to make the contrast as glaring as it should be . the edge isn&#x27;t sharp enough . * we * know that what we&#x27;re watching is funky , though , so it&#x27;s not that much of a problem . nor are the glaring low production standards . the cast is uniformly appealing . shelly long seems to have found her niche under awful hair , while gary cole is right on the mark with dad&#x27;s sing-song truisms . christine taylor is the best of the brady kids . she&#x27;s a cheery delight as marsha * and * is a dead ringer for maureen mccormick . her foil is jennifer elise cox , who is a howl as the brooding jan ."
      ],
      "text/plain": [
       "<IPython.core.display.HTML object>"
      ]
     },
     "metadata": {},
     "output_type": "display_data"
    }
   ],
   "source": [
    "show_diff(space_adjusted.lower(), movie_text)"
   ]
  },
  {
   "cell_type": "markdown",
   "id": "29bf7272",
   "metadata": {},
   "source": [
    "We can wrap this all up in a function"
   ]
  },
  {
   "cell_type": "code",
   "execution_count": 23,
   "id": "6f53b0e6",
   "metadata": {},
   "outputs": [],
   "source": [
    "def clean_html(movie_html):\n",
    "    # Find from the first paragraph all subsequent paragraphs\n",
    "    #paragraph_text = re.match('.*?((?:<P>[^<]*</P>\\s*)+)', movie_html, flags=re.DOTALL | re.IGNORECASE).group(1)\n",
    "    paragraph_text = ' '.join(re.findall('<P>[^<]*</P>', movie_html, flags=re.DOTALL | re.IGNORECASE))\n",
    "\n",
    "    # Remove HTML Tags\n",
    "    html_removed = re.sub('<.*?>', ' ', paragraph_text)\n",
    "    # Extra spaces around tokens\n",
    "    token_expanded = re.sub(r'([!?.*()\";:,])', r' \\1 ', html_removed)\n",
    "    # Compress multiple spaces\n",
    "    space_adjusted = re.sub('\\s+', ' ', token_expanded).strip()\n",
    "    \n",
    "    return space_adjusted.lower()"
   ]
  },
  {
   "cell_type": "code",
   "execution_count": 24,
   "id": "63976936",
   "metadata": {},
   "outputs": [
    {
     "data": {
      "text/html": [
       "the brady bunch movie is less a motion picture than a minor pop event . forget your reruns and forget your nick at nite ; this dead-on recreation of the fabled seventies sitcom is both so exhilarating<span style=\"background: #f4bcbb;\"> *</span> and * so disturbing that you half-expect to see the ghost of rod serling appear in the narrative . did we really act this way twenty years ago ? of course not . the genius of the brady bunch movie is how it heightens the surreality of the family unit from hell by fast-forwarding them into the future . it&#x27;s 1995 and greg still calls the chicks &quot; groovy , &quot; and marsha still considers hair-brushing the high point of her day . bell bottoms are in , and alice has yet to move out . nothing has changed within the garish walls of brady manor and , so , the plot has the family stepping out into the real world , where they are confronted by everything from carjackers to lesbians . granted , nothing * too * serious happens here . with the exception of some heavy sexual innuendo , the brady bunch movie is about as sanitary as the source material . and that&#x27;s too bad . director betty thomas ( of tv&#x27;s &quot; hill street blues &quot; fame ) doesn&#x27;t cut between real-life and brady-life enough to make the contrast as glaring as it should be . the edge isn&#x27;t sharp enough . * we * know that what we&#x27;re watching is funky , though , so it&#x27;s not that much of a problem . nor are the glaring low production standards . the cast is uniformly appealing . shelly long seems to have found her niche under awful hair , while gary cole is right on the mark with dad&#x27;s sing-song truisms . christine taylor is the best of the brady kids . she&#x27;s a cheery delight as marsha * and * is a dead ringer for maureen mccormick . her foil is jennifer elise cox , who is a howl as the brooding jan ."
      ],
      "text/plain": [
       "<IPython.core.display.HTML object>"
      ]
     },
     "metadata": {},
     "output_type": "display_data"
    }
   ],
   "source": [
    "show_diff(clean_html(movie_html), movie_text)"
   ]
  },
  {
   "cell_type": "markdown",
   "id": "3aa751fa",
   "metadata": {},
   "source": [
    "It's getting a bit hard to find the differences so we'll write it shorter."
   ]
  },
  {
   "cell_type": "code",
   "execution_count": 25,
   "id": "ff1b1945",
   "metadata": {},
   "outputs": [
    {
     "data": {
      "text/html": [
       "ating<span style=\"background: #f4bcbb;\"> *</span> and "
      ],
      "text/plain": [
       "<IPython.core.display.HTML object>"
      ]
     },
     "metadata": {},
     "output_type": "display_data"
    }
   ],
   "source": [
    "def show_diff_short(a, b, window=5):\n",
    "    seqmatcher = difflib.SequenceMatcher(isjunk=None, a=a, b=b, autojunk=False)\n",
    "    delcolor='#f4bcbb'\n",
    "    inscolor='#b0d6d6'\n",
    "    \n",
    "    output = []\n",
    "\n",
    "\n",
    "    for tag, a0, a1, b0, b1 in seqmatcher.get_opcodes():\n",
    "        if tag == 'delete':\n",
    "            output.append(html.unescape(a[a0-window:a0]) + mark_span(a[a0:a1], color=delcolor) + html.unescape(a[a1:a1+window]))\n",
    "        elif tag == 'insert':\n",
    "            output.append(html.unescape(b[b0-window:b0]) + mark_span(b[b0:b1], color=inscolor) + html.unescape(b[b1:b1+window]))\n",
    "        elif tag == 'replace':\n",
    "            output.append(html.unescape(a[a0-window:a0]) + mark_span(a[a0:a1], color=delcolor) + html.unescape(a[a1:a1+window]))\n",
    "            output.append(html.unescape(b[b0-window:b0]) + mark_span(b[b0:b1], color=inscolor) + html.unescape(b[b1:b1+window]))\n",
    "        elif tag == 'equal':\n",
    "            pass\n",
    "        else:\n",
    "            raise ValueError\n",
    "\n",
    "    display(HTML('<p>'.join(output)))\n",
    "    \n",
    "show_diff_short(clean_html(movie_html), movie_text)"
   ]
  },
  {
   "cell_type": "markdown",
   "id": "69574467",
   "metadata": {},
   "source": [
    "### Checking examples"
   ]
  },
  {
   "cell_type": "markdown",
   "id": "22930eda",
   "metadata": {},
   "source": [
    "Let's look through some examples to see what's different.\n",
    "\n",
    "It looks like we're missing the author's details (which may be a good thing)"
   ]
  },
  {
   "cell_type": "code",
   "execution_count": 26,
   "id": "e3f12d83",
   "metadata": {},
   "outputs": [
    {
     "data": {
      "text/html": [
       " we ?<span style=\"background: #b0d6d6;\"> © 1997 jamie peck e-mail : jpeck1@gl . umbc . edu visit the reel deal online : http : //www . gl . umbc . edu/~jpeck1/</span>"
      ],
      "text/plain": [
       "<IPython.core.display.HTML object>"
      ]
     },
     "metadata": {},
     "output_type": "display_data"
    }
   ],
   "source": [
    "idx = 1\n",
    "show_diff_short(clean_html(get_movie_html(data['movieid'][idx])),\n",
    "          data['text'][idx])"
   ]
  },
  {
   "cell_type": "markdown",
   "id": "cdc43fe4",
   "metadata": {},
   "source": [
    "We missed square bracket punctuation and another author name"
   ]
  },
  {
   "cell_type": "code",
   "execution_count": 27,
   "id": "44636fbb",
   "metadata": {},
   "outputs": [
    {
     "data": {
      "text/html": [
       " road<span style=\"background: #f4bcbb;\"> *</span> 1/4 <p>tems]<span style=\"background: #f4bcbb;\"> </span>the f<p>hal )<span style=\"background: #b0d6d6;\"> edwin jahiel&#x27;s movie reviews are at http : //www . prairienet . org/ejahiel</span>"
      ],
      "text/plain": [
       "<IPython.core.display.HTML object>"
      ]
     },
     "metadata": {},
     "output_type": "display_data"
    }
   ],
   "source": [
    "idx = 2\n",
    "show_diff_short(clean_html(get_movie_html(data['movieid'][idx])),\n",
    "          data['text'][idx])"
   ]
  },
  {
   "cell_type": "code",
   "execution_count": 28,
   "id": "b36dada9",
   "metadata": {},
   "outputs": [
    {
     "data": {
      "text/html": [
       "ating<span style=\"background: #f4bcbb;\"> *</span> and "
      ],
      "text/plain": [
       "<IPython.core.display.HTML object>"
      ]
     },
     "metadata": {},
     "output_type": "display_data"
    }
   ],
   "source": [
    "idx = 3\n",
    "show_diff_short(clean_html(get_movie_html(data['movieid'][idx])),\n",
    "          data['text'][idx])"
   ]
  },
  {
   "cell_type": "markdown",
   "id": "ed6c1364",
   "metadata": {},
   "source": [
    "Again missing author details"
   ]
  },
  {
   "cell_type": "code",
   "execution_count": 29,
   "id": "9a5c490a",
   "metadata": {},
   "outputs": [
    {
     "data": {
      "text/html": [
       "er . <span style=\"background: #b0d6d6;\">visit the movie critic at large homepage at http : //www . missouri . edu/~c667778/movies . html </span>close"
      ],
      "text/plain": [
       "<IPython.core.display.HTML object>"
      ]
     },
     "metadata": {},
     "output_type": "display_data"
    }
   ],
   "source": [
    "idx = 4\n",
    "show_diff_short(clean_html(get_movie_html(data['movieid'][idx])),\n",
    "          data['text'][idx])"
   ]
  },
  {
   "cell_type": "markdown",
   "id": "cfe5bc9d",
   "metadata": {},
   "source": [
    "Missing author details, and also the rating scale (which again seem irrelevant)."
   ]
  },
  {
   "cell_type": "code",
   "execution_count": 30,
   "id": "312ff232",
   "metadata": {},
   "outputs": [
    {
     "data": {
      "text/html": [
       "ars .<span style=\"background: #b0d6d6;\"> comments ? send to : johnbeachem@dependentfilms . netpast reviews can be found at : http : //www . epinions . com/user-elerad ? public=yes or http : //us . imdb . com/reviewsby ? john + beachem * * * * * - one of the best movies of the year . * * * * - great flick , try and catch this one . * * * - okay movie , hits and misses . * * - pretty bad , see it at your own risk . * - see this one only if you enjoy pain . get your private , free e-mail from msn hotmail at http : //www . hotmail . com .  share information about yourself , create your own public profile at http : //profiles . msn . com .</span>"
      ],
      "text/plain": [
       "<IPython.core.display.HTML object>"
      ]
     },
     "metadata": {},
     "output_type": "display_data"
    }
   ],
   "source": [
    "idx = 5\n",
    "show_diff_short(clean_html(get_movie_html(data['movieid'][idx])),\n",
    "          data['text'][idx])"
   ]
  },
  {
   "cell_type": "markdown",
   "id": "f54fa5e9",
   "metadata": {},
   "source": [
    "### Making some corrections"
   ]
  },
  {
   "cell_type": "markdown",
   "id": "e05cb11d",
   "metadata": {},
   "source": [
    "It looks like we're missing URLs because we're not capturing the `<A>` tags, so we'll allow those too, as well as Horizontal Rules"
   ]
  },
  {
   "cell_type": "code",
   "execution_count": 31,
   "id": "f3c93c8c",
   "metadata": {},
   "outputs": [],
   "source": [
    "def clean_html(movie_html):\n",
    "    # Find from the first paragraph all subsequent paragraphs\n",
    "    #paragraph_text = re.match('.*?((?:<P>[^<]*</P>\\s*)+)', movie_html, flags=re.DOTALL | re.IGNORECASE).group(1)\n",
    "    paragraph_text = ' '.join(re.findall('<P>(?:[^<]|</?A|<HR)*</P>', movie_html, flags=re.DOTALL | re.IGNORECASE))\n",
    "\n",
    "    # Remove HTML Tags\n",
    "    html_removed = re.sub('<.*?>', ' ', paragraph_text)\n",
    "    # Extra spaces around tokens\n",
    "    token_expanded = re.sub(r'([+!?.*()\";:,])', r' \\1 ', html_removed)\n",
    "    # Compress multiple spaces\n",
    "    space_adjusted = re.sub('\\s+', ' ', token_expanded).strip()\n",
    "    \n",
    "    return space_adjusted.lower()"
   ]
  },
  {
   "cell_type": "code",
   "execution_count": 32,
   "id": "89b34bd9",
   "metadata": {},
   "outputs": [
    {
     "data": {
      "text/html": [],
      "text/plain": [
       "<IPython.core.display.HTML object>"
      ]
     },
     "metadata": {},
     "output_type": "display_data"
    }
   ],
   "source": [
    "idx = 1\n",
    "show_diff_short(clean_html(get_movie_html(data['movieid'][idx])),\n",
    "          data['text'][idx])"
   ]
  },
  {
   "cell_type": "code",
   "execution_count": 33,
   "id": "21dce732",
   "metadata": {},
   "outputs": [
    {
     "data": {
      "text/html": [
       " road<span style=\"background: #f4bcbb;\"> *</span> 1/4 <p>tems]<span style=\"background: #f4bcbb;\"> </span>the f"
      ],
      "text/plain": [
       "<IPython.core.display.HTML object>"
      ]
     },
     "metadata": {},
     "output_type": "display_data"
    }
   ],
   "source": [
    "idx = 2\n",
    "show_diff_short(clean_html(get_movie_html(data['movieid'][idx])),\n",
    "          data['text'][idx])"
   ]
  },
  {
   "cell_type": "code",
   "execution_count": 34,
   "id": "543d109f",
   "metadata": {},
   "outputs": [
    {
     "data": {
      "text/html": [
       "ating<span style=\"background: #f4bcbb;\"> *</span> and "
      ],
      "text/plain": [
       "<IPython.core.display.HTML object>"
      ]
     },
     "metadata": {},
     "output_type": "display_data"
    }
   ],
   "source": [
    "idx = 3\n",
    "show_diff_short(clean_html(get_movie_html(data['movieid'][idx])),\n",
    "          data['text'][idx])"
   ]
  },
  {
   "cell_type": "code",
   "execution_count": 35,
   "id": "14ec3b74",
   "metadata": {},
   "outputs": [
    {
     "data": {
      "text/html": [],
      "text/plain": [
       "<IPython.core.display.HTML object>"
      ]
     },
     "metadata": {},
     "output_type": "display_data"
    }
   ],
   "source": [
    "idx = 4\n",
    "show_diff_short(clean_html(get_movie_html(data['movieid'][idx])),\n",
    "          data['text'][idx])"
   ]
  },
  {
   "cell_type": "code",
   "execution_count": 36,
   "id": "cfbc8cf3",
   "metadata": {},
   "outputs": [
    {
     "data": {
      "text/html": [
       ". net<span style=\"background: #f4bcbb;\"> </span>past <p>om . <span style=\"background: #b0d6d6;\"> </span>share"
      ],
      "text/plain": [
       "<IPython.core.display.HTML object>"
      ]
     },
     "metadata": {},
     "output_type": "display_data"
    }
   ],
   "source": [
    "idx = 5\n",
    "show_diff_short(clean_html(get_movie_html(data['movieid'][idx])),\n",
    "          data['text'][idx])"
   ]
  },
  {
   "cell_type": "code",
   "execution_count": 37,
   "id": "2059bdb4",
   "metadata": {},
   "outputs": [
    {
     "data": {
      "text/html": [],
      "text/plain": [
       "<IPython.core.display.HTML object>"
      ]
     },
     "metadata": {},
     "output_type": "display_data"
    }
   ],
   "source": [
    "idx = 6\n",
    "show_diff_short(clean_html(get_movie_html(data['movieid'][idx])),\n",
    "          data['text'][idx])"
   ]
  },
  {
   "cell_type": "markdown",
   "id": "d4a5f6cb",
   "metadata": {},
   "source": [
    "There are cases here we are getting cast names and links that were not in the processed dataset."
   ]
  },
  {
   "cell_type": "code",
   "execution_count": 38,
   "id": "bbefbc6a",
   "metadata": {},
   "outputs": [
    {
     "data": {
      "text/html": [
       "vie .<span style=\"background: #f4bcbb;\"> director : vondie curtis hall producer : laurence mark writer : kate lanier starring : mariah carey , max beesley , da brat , tia texada , valarie pettiford , ann magnuson , terrence howard --- http : //www . amazon . com/exec/obidos/redirect ? tag=filmcriticcom&amp;path=subst/video/sellers/amazon-top-100-dvd . html movie fiends : check out amazon . com&#x27;s top 100 hot dvds ! visit filmcritic . com on the web at http : //www . filmcritic . com</span>"
      ],
      "text/plain": [
       "<IPython.core.display.HTML object>"
      ]
     },
     "metadata": {},
     "output_type": "display_data"
    }
   ],
   "source": [
    "idx = 7\n",
    "show_diff_short(clean_html(get_movie_html(data['movieid'][idx])),\n",
    "          data['text'][idx])"
   ]
  },
  {
   "cell_type": "code",
   "execution_count": 39,
   "id": "46fe5dfd",
   "metadata": {},
   "outputs": [
    {
     "data": {
      "text/html": [
       "rst .<span style=\"background: #f4bcbb;\"> - matt williams ( matt@shreck . com ) reviewer for shreck&#x27;s cinema : http : //www . shreck . com home of over 500 reviews , and information on over 600 upcoming releases</span>"
      ],
      "text/plain": [
       "<IPython.core.display.HTML object>"
      ]
     },
     "metadata": {},
     "output_type": "display_data"
    }
   ],
   "source": [
    "idx = 8\n",
    "show_diff_short(clean_html(get_movie_html(data['movieid'][idx])),\n",
    "          data['text'][idx])"
   ]
  },
  {
   "cell_type": "markdown",
   "id": "06cfa1ff",
   "metadata": {},
   "source": [
    "Here's a really interesting case where their extracted text loses a lot of the review."
   ]
  },
  {
   "cell_type": "code",
   "execution_count": 40,
   "id": "9631bce9",
   "metadata": {},
   "outputs": [
    {
     "data": {
      "text/html": [
       "pogue<span style=\"background: #f4bcbb;\"> </span>rated<p>guage<span style=\"background: #f4bcbb;\"> </span>i'll <p>ive .<span style=\"background: #f4bcbb;\"> 3 ) tommy lee jones doesn&#x27;t even seem to playing the same character in u . s . marshals as he was in the fugitive . 4 ) sam gerard&#x27;s opening raid serves no purpose whatsoever to the movie . 5 ) after discovering things about the fugitive he is chasing , sam gerard appears to forget them repeatedly later on . he still chases snipes even after he finds the truth about the character . 6 ) wesley snipes&#x27; character plays little importance to the story . 7 ) wesley snipes&#x27; character doesn&#x27;t try very hard to clear his name . 8 ) every detail of the plot is solved within one hour , leaving nothing more to do than to catch snipes . 9 ) none of these characters ever seem to be in any real danger at any point in the film . 10 ) certain plot points are left hanging at the story&#x27;s end . now , stand back , while i turn each of these claims into a smoking pile of rubble . incidentally , i apologize to any critics that feel offended by reading this review , but i am accusing no one person of wrong-doing . 1 ) so let&#x27;s see , there&#x27;s another fugitive running from the law , and sam gerard has to catch him , and that makes it a copy ? is it so unbelievable that a u . s . marshal might have to chase more than one fugitive in his lifetime ? i think not . i mean , what else was copied here ? okay , both fugitives escape via a vehicle crash . that&#x27;s one plot point . what else ? don&#x27;t use that lame &quot; a man jumped from a high place in both films &quot; excuse . a man jumped from a high place in die hard ( 1988 ) and batman &amp; robin ( 1997 ) , too , but the fugitive sure as hell isn&#x27;t a die hard clone , batman &amp; robin is by no means a fugitive clone , and so , clearly , since nothing other than a fugitive and a crash is taken from the first movie , neither is u . s . marshals just a clone of the fugitive . 2 ) even though the fact that it&#x27;s not a copy has already been adressed , let&#x27;s take a look at this . okay . let&#x27;s talk about the james bond series . it&#x27;s up to 18 films at this point . they all have bond saying &quot; bond , james bond . &quot; bond always sleeps with beautiful women . bond always uses interesting gadgets . bond always dresses suavely . bond always defeats the villian in the end . bond always makes cheesy puns . the fact that tomorrow never dies ( 1997 ) copies these elements from the other 17 films doesn&#x27;t make it horrible automatically . in fact , it received mostly favorable reviews . but , gasp ! how can that be ! it&#x27;s such a copy , it must be horrible ! after all , u . s . marshals isn&#x27;t anywhere near as copied from its first film as tomorrow never dies was from its first * 17 * , and so u . s . marshals is already bad for having copied a fugitive and a crash , right ? sure . right . whatever . 3 ) you were in the bathroom throughout the entire movie , weren&#x27;t you ? i mean . . . i can&#x27;t barely fight this one , because it&#x27;s too obvious that this is the same guy . struggling to get the job done above all else short of taking care of his teammates . barking orders powerfully even while taking a moment to smile good-naturedly and joke with his colleagues . hey , this is sam gerard . the one we loved in the fugitive . of course , it&#x27;s no longer an oscar-worthy performance , because it&#x27;s not original anymore . we&#x27;ve been here before . but still , it&#x27;s a strong character , it&#x27;s the same character , and wow , tommy lee can carry a movie . with some help of course , but we&#x27;ll get to that later . 4 ) it&#x27;s nice to have it established who sam is for those who didn&#x27;t see the fugitive ( this film does work as a stand-alone , incidentally ) , but that&#x27;s not the real reason this needs to be here . it&#x27;s nice to get reaquianted with the faces of his team that we might not remember . . . but that&#x27;s not the reason we need this here either . we need this here so that sam has a good reason to get on that plane . if not for this scene , everyone and their brother would be screaming &quot; contrived ! stupid ! &quot; when sam climbs onboard that flight . now he has a reason . aren&#x27;t you glad the filmmakers took the time to make it not contrived ? 5 ) yeah , stop chasing a man who fled from police and knows the real story behind all the weirdness that&#x27;s going on . that&#x27;d be real smart . sure . 6 ) huh ? ! he&#x27;s the fugitive that gerard chases ! he has nearly as much screen time as jones does ! he&#x27;s the reason there&#x27;s a plot here ! 7 ) so you really didn&#x27;t see this movie . you know , you really shouldn&#x27;t write reviews unless you see the movie first . i don&#x27;t want to list spoilers here , but since every scene snipes is in involves him using every method he has to track down the whole story behind his situation , i wonder , where was the person that made this comment ? 8 ) god , this is just too wrong . not only is the whole not resolved until the final five minutes , but you couldn&#x27;t even possibly predict every detail of the plot until the moment that it&#x27;s all laid out before you . 9 ) yeah , that would explain the characters who are shot , or the others who are seriously injured , during the course of the action . that&#x27;s not a danger , obviously . 10 ) when the whole &quot; conspiracy , &quot; along with the people/person behind it , is taken care of , and snipes&#x27; character&#x27;s fate is resolved , what more were you expecting ? sorry about the ranting . i apologize again . but don&#x27;t worry about it . just go out and see u . s . marshals . i mean , aren&#x27;t you getting sick of seeing titanic ( 1997 ) now ? you&#x27;ve been 47 times ! for the love of god ! just go check out u . s . marshals , and have fun . it may not be near the excellence of the fugitive ( thanks largely to less emotional involvment and no harrison ford ) , but you&#x27;ll have a good time .</span>"
      ],
      "text/plain": [
       "<IPython.core.display.HTML object>"
      ]
     },
     "metadata": {},
     "output_type": "display_data"
    }
   ],
   "source": [
    "idx = 9\n",
    "show_diff_short(clean_html(get_movie_html(data['movieid'][idx])),\n",
    "          data['text'][idx])"
   ]
  },
  {
   "cell_type": "markdown",
   "id": "2b94f401",
   "metadata": {},
   "source": [
    "The review stops part way through the list"
   ]
  },
  {
   "cell_type": "code",
   "execution_count": 41,
   "id": "d8748d1c",
   "metadata": {},
   "outputs": [
    {
     "name": "stdout",
     "output_type": "stream",
     "text": [
      "starring : tommy lee jones ( sam gerard ) , wesley snipes ( various character names ) , joe pantoliano ( cosmo renfro ) , robert downey jr . ( john royce ) , irène jacob ( marie ) , tom wood ( noah newman ) , daniel roebuck ( biggs ) , kate nelligan ( walsh ) directed by : stuart baird , written by : john poguerated pg-13 by the mpaa for violence , gore , and strong languagei'll lay out the basics first . sam gerard , the chief deputy u . s . marshal from the fugitive ( 1993 ) , and his team of crack deputies , are back . another man has fled from the clutches of the state , and gerard must chase this new fugitive down . but what's the story this time ? why is he running ? did he do what he was accused ? if not , who did ? who's doing the cover-up ? why ? and so on . all the stuff you love from your traditional action/suspense/mystery flicks , but with better characters ( especially jones' oscar-winning gerard role ) and better action set-pieces , pushing it into the above-average fun-film range . plus , it's a warner bros . film , and everyone knows that ever since about 1994 , it's been a red-letter day any time that warner has actually released a good film . '97 was their best run in a while , what with contact , rosewood , and l . a . confidential . maybe things will look up for them this year . now then . . . i've never felt the need to adress what other critics have thought of a movie before , but this time , i'm afraid i must . it's just that this time , i've read a number of reviews with differing opinions , but many of them made various statements that left me with one vital question : what movie did these people see ? i'm not talking about disagreeing with their opinions . i'm talking things that seem to be factual , and yet , also just seem . . . well , wrong . i guess some of these could be taken as opinions . regardless , i have no idea where anyone could get these impressions . i'll just ramble them off for you , to give you an impression of what i'm getting at here . the following statements , made by a number of unrelated , anonymous film critics , appear to be nothing short of , well , false : 1 ) u . s . marshals is nothing more than a copy of the the fugitive .\n"
     ]
    }
   ],
   "source": [
    "print(data['text'][idx])"
   ]
  },
  {
   "cell_type": "markdown",
   "id": "1d1c9c6a",
   "metadata": {},
   "source": [
    "The line after \"copy of THE FUGITIVE.\" is marked as a `<PRE>`, which seems to be some issue with how IMDb extracted it (there's no indication this should be the case in the [Google Groups Version](https://groups.google.com/g/rec.arts.movies.reviews/c/cKNMJP1GVVo/m/IesbVByox4MJ))\n",
    "\n",
    "It looks like this is somehow causing the text parsing to stop, so there are likely some heuristics around `<PRE>`."
   ]
  },
  {
   "cell_type": "code",
   "execution_count": 42,
   "id": "a4328ff8",
   "metadata": {
    "scrolled": false
   },
   "outputs": [
    {
     "data": {
      "text/html": [
       "<HTML><HEAD>\r\n",
       "<TITLE>Review for U.S. Marshals (1998)</TITLE>\r\n",
       "<LINK REL=\"STYLESHEET\" TYPE=\"text/css\" HREF=\"/ramr.css\">\r\n",
       "</HEAD>\r\n",
       "<BODY BGCOLOR=\"#FFFFFF\" TEXT=\"#000000\">\r\n",
       "<H1 ALIGN=\"CENTER\" CLASS=\"title\"><A HREF=\"/Title?0120873\">U.S. Marshals (1998)</A></H1><H3 ALIGN=CENTER>reviewed by<BR><A HREF=\"/ReviewsBy?Doug+Skiles\">Doug Skiles</A></H3><HR WIDTH=\"40%\" SIZE=\"4\">\r\n",
       "<PRE>U.S. MARSHALS (1998)</PRE>\r\n",
       "<P>Starring: Tommy Lee Jones (Sam Gerard), Wesley Snipes (various character\r\n",
       "names), Joe Pantoliano (Cosmo Renfro), Robert Downey Jr. (John Royce),\r\n",
       "Irène Jacob (Marie), Tom Wood (Noah Newman), Daniel Roebuck (Biggs),\r\n",
       "Kate Nelligan (Walsh)</P>\r\n",
       "<P>Directed by: Stuart Baird, Written by: John Pogue</P>\r\n",
       "<P>Rated PG-13 by the MPAA for violence, gore, and strong language</P>\r\n",
       "<PRE>Reviewed by Doug Skiles</PRE>\r\n",
       "<P>I'll lay out the basics first.  Sam Gerard, the Chief Deputy U.S.\r\n",
       "Marshal from THE FUGITIVE (1993), and his team of crack deputies, are\r\n",
       "back.  Another man has fled from the clutches of the state, and Gerard\r\n",
       "must chase this new fugitive down.  But what's the story this time?  Why\r\n",
       "is he running?  Did he do what he was accused?  If not, who did?  Who's\r\n",
       "doing the cover-up?  Why?  And so on.  All the stuff you love from your\r\n",
       "traditional action/suspense/mystery flicks, but with better characters\r\n",
       "(especially Jones' Oscar-winning Gerard role) and better action\r\n",
       "set-pieces, pushing it into the above-average fun-film range.  Plus,\r\n",
       "it's a Warner Bros. film, and everyone knows that ever since about 1994,\r\n",
       "it's been a red-letter day any time that Warner has actually released a\r\n",
       "good film.  '97 was their best run in a while, what with CONTACT,\r\n",
       "ROSEWOOD, and L.A. CONFIDENTIAL.  Maybe things will look up for them\r\n",
       "this year.</P>\r\n",
       "<P>Now then... I've never felt the need to adress what other critics have\r\n",
       "thought of a movie before, but this time, I'm afraid I must.  It's just\r\n",
       "that this time, I've read a number of reviews with differing opinions,\r\n",
       "but many of them made various statements that left me with one vital\r\n",
       "question: What movie did these people see?  I'm not talking about\r\n",
       "disagreeing with their opinions.  I'm talking things that seem to be\r\n",
       "factual, and yet, also just seem... well, wrong.  </P>\r\n",
       "<P>I guess some of these could be taken as opinions.  Regardless, I have no\r\n",
       "idea where anyone could get these impressions.  I'll just ramble them\r\n",
       "off for you, to give you an impression of what I'm getting at here.</P>\r\n",
       "<P>The following statements, made by a number of unrelated, anonymous film\r\n",
       "critics, appear to be nothing short of, well, FALSE:</P>\r\n",
       "<P>1) U.S. MARSHALS is nothing more than a copy of the THE FUGITIVE.</P>\r\n",
       "<PRE>2) Since it is such a copy, it is a bad movie.</PRE>\r\n",
       "<P>3) Tommy Lee Jones doesn't even seem to playing the same character in\r\n",
       "U.S. MARSHALS as he was in THE FUGITIVE.</P>\r\n",
       "<P>4) Sam Gerard's opening raid serves no purpose whatsoever to the movie.</P>\r\n",
       "<P>5) After discovering things about the fugitive he is chasing, Sam Gerard\r\n",
       "appears to forget them repeatedly later on.  He still chases Snipes even\r\n",
       "after he finds the truth about the character.</P>\r\n",
       "<P>6) Wesley Snipes' character plays little importance to the story.</P>\r\n",
       "<P>7) Wesley Snipes' character doesn't try very hard to clear his name.</P>\r\n",
       "<P>8) Every detail of the plot is solved within one hour, leaving nothing\r\n",
       "more to do than to catch Snipes.</P>\r\n",
       "<P>9) None of these characters ever seem to be in any real danger at any\r\n",
       "point in the film.</P>\r\n",
       "<P>10) Certain plot points are left hanging at the story's end.</P>\r\n",
       "<P>Now, stand back, while I turn each of these claims into a smoking pile\r\n",
       "of rubble.  Incidentally, I apologize to any critics that feel offended\r\n",
       "by reading this review, but I am accusing no one person of wrong-doing.</P>\r\n",
       "<P>1) So let's see, there's another fugitive running from the law, and Sam\r\n",
       "Gerard has to catch him, and that makes it a copy?  Is it so\r\n",
       "unbelievable that a U.S. Marshal might have to chase more than one\r\n",
       "fugitive in his lifetime?  I think not.  I mean, what else was copied\r\n",
       "here?  Okay, both fugitives escape via a vehicle crash.  That's one plot\r\n",
       "point.  What else?  Don't use that lame \"a man jumped from a high place\r\n",
       "in both films\" excuse.  A man jumped from a high place in DIE HARD\r\n",
       "(1988) and BATMAN & ROBIN (1997), too, but THE FUGITIVE sure as hell\r\n",
       "isn't a DIE HARD clone, BATMAN & ROBIN is by no means a FUGITIVE clone,\r\n",
       "and so, clearly, since nothing other than a fugitive and a crash is\r\n",
       "taken from the first movie, neither is U.S. MARSHALS just a clone of THE\r\n",
       "FUGITIVE.  </P>\r\n",
       "<P>2) Even though the fact that it's not a copy has already been adressed,\r\n",
       "let's take a look at this.  Okay.  Let's talk about the James Bond\r\n",
       "series.  It's up to 18 films at this point.  They all have Bond saying\r\n",
       "\"Bond, James Bond.\"  Bond always sleeps with beautiful women.  Bond\r\n",
       "always uses interesting gadgets.  Bond always dresses suavely.  Bond\r\n",
       "always defeats the villian in the end.  Bond always makes cheesy puns. \r\n",
       "The fact that TOMORROW NEVER DIES (1997) copies these elements from the\r\n",
       "other 17 films doesn't make it horrible automatically.  In fact, it\r\n",
       "received mostly favorable reviews.  But, gasp!  How can that be!  It's\r\n",
       "such a copy, it must be horrible!  After all, U.S. MARSHALS isn't\r\n",
       "anywhere near as copied from its first film as TOMORROW NEVER DIES was\r\n",
       "from its first *17*, and so U.S. MARSHALS is already bad for having\r\n",
       "copied a fugitive and a crash, right?  Sure.  Right.  Whatever.</P>\r\n",
       "<P>3) You were in the bathroom throughout the entire movie, weren't you?  I\r\n",
       "mean... I can't barely fight this one, because it's too obvious that\r\n",
       "this is the same guy.  Struggling to get the job done above all else\r\n",
       "short of taking care of his teammates.  Barking orders powerfully even\r\n",
       "while taking a moment to smile good-naturedly and joke with his\r\n",
       "colleagues.  Hey, this is Sam Gerard.  The one we loved in THE\r\n",
       "FUGITIVE.  Of course, it's no longer an Oscar-worthy performance,\r\n",
       "because it's not original anymore.  We've been here before.  But still,\r\n",
       "it's a strong character, it's the same character, and wow, Tommy Lee can\r\n",
       "carry a movie.  With some help of course, but we'll get to that later.</P>\r\n",
       "<P>4) It's nice to have it established who Sam is for those who didn't see\r\n",
       "THE FUGITIVE (this film DOES work as a stand-alone, incidentally), but\r\n",
       "that's not the real reason this needs to be here.  It's nice to get\r\n",
       "reaquianted with the faces of his team that we might not remember... but\r\n",
       "that's not the reason we need this here either.  We need this here so\r\n",
       "that Sam has a good reason to get on that plane.  If not for this scene,\r\n",
       "everyone and their brother would be screaming \"Contrived!  Stupid!\" when\r\n",
       "Sam climbs onboard that flight.  Now he has a reason.  Aren't you glad\r\n",
       "the filmmakers took the time to make it NOT contrived?</P>\r\n",
       "<P>5) Yeah, stop chasing a man who fled from police and knows the real\r\n",
       "story behind all the weirdness that's going on.  That'd be real smart. \r\n",
       "Sure.</P>\r\n",
       "<P>6) Huh?!  He's the fugitive that Gerard chases!  He has nearly as much\r\n",
       "screen time as Jones does!  He's the reason there's a plot here!  </P>\r\n",
       "<P>7) So you really DIDN'T see this movie.  You know, you really shouldn't\r\n",
       "write reviews unless you see the movie first.  I don't want to list\r\n",
       "spoilers here, but since every scene Snipes is in involves him using\r\n",
       "every method he has to track down the whole story behind his situation,\r\n",
       "I wonder, where was the person that made this comment?</P>\r\n",
       "<P>8) God, this is just too wrong.  Not only is the whole not resolved\r\n",
       "until the final FIVE MINUTES, but you couldn't even possibly predict\r\n",
       "every detail of the plot until the moment that it's all laid out before\r\n",
       "you.  </P>\r\n",
       "<P>9) Yeah, that would explain the characters who are shot, or the others\r\n",
       "who are seriously injured, during the course of the action.  That's not\r\n",
       "a danger, obviously.  </P>\r\n",
       "<P>10) When the whole \"conspiracy,\" along with the people/person behind it,\r\n",
       "is taken care of, and Snipes' character's fate is resolved, what more\r\n",
       "were you expecting? </P>\r\n",
       "<P>Sorry about the ranting.  I apologize again.  But don't worry about it. \r\n",
       "Just go out and see U.S. MARSHALS.  I mean, aren't you getting sick of\r\n",
       "seeing TITANIC (1997) now?  You've been 47 times!  For the love of God! \r\n",
       "Just go check out U.S. MARSHALS, and have fun.  It may not be near the\r\n",
       "excellence of THE FUGITIVE (thanks largely to less emotional involvment\r\n",
       "and no Harrison Ford), but you'll have a good time.</P>\r\n",
       "<PRE>RATING: ***</PRE>\r\n",
       "<HR><P CLASS=flush><SMALL>The review above was posted to the\r\n",
       "<A HREF=\"news:rec.arts.movies.reviews\">rec.arts.movies.reviews</A> newsgroup (<A HREF=\"news:de.rec.film.kritiken\">de.rec.film.kritiken</A> for German reviews).<BR>\r\n",
       "The Internet Movie Database accepts no responsibility for the contents of the\r\n",
       "review and has no editorial control. Unless stated otherwise, the copyright\r\n",
       "belongs to the author.<BR>\r\n",
       "Please direct comments/criticisms of the review to relevant newsgroups.<BR>\r\n",
       "Broken URLs inthe reviews are the responsibility of the author.<BR>\r\n",
       "The formatting of the review is likely to differ from the original due\r\n",
       "to ASCII to HTML conversion.\r\n",
       "</SMALL></P>\r\n",
       "<P ALIGN=CENTER>Related links: <A HREF=\"/Reviews/\">index of all rec.arts.movies.reviews reviews</A></P>\r\n",
       "\r\n",
       "\r\n",
       "\r\n",
       "</P></BODY></HTML>\r\n"
      ],
      "text/plain": [
       "<IPython.core.display.HTML object>"
      ]
     },
     "execution_count": 42,
     "metadata": {},
     "output_type": "execute_result"
    }
   ],
   "source": [
    "HTML(get_movie_html(data['movieid'][idx]))"
   ]
  },
  {
   "cell_type": "markdown",
   "id": "d3eb8dc2",
   "metadata": {},
   "source": [
    "They have also removed the review rating we've captured"
   ]
  },
  {
   "cell_type": "code",
   "execution_count": 43,
   "id": "84b0e78c",
   "metadata": {},
   "outputs": [
    {
     "data": {
      "text/html": [
       "ting <span style=\"background: #f4bcbb;\">* ( out of four )</span> -a r"
      ],
      "text/plain": [
       "<IPython.core.display.HTML object>"
      ]
     },
     "metadata": {},
     "output_type": "display_data"
    }
   ],
   "source": [
    "idx = 10\n",
    "show_diff_short(clean_html(get_movie_html(data['movieid'][idx])),\n",
    "          data['text'][idx])"
   ]
  },
  {
   "cell_type": "markdown",
   "id": "fc076e5b",
   "metadata": {},
   "source": [
    "Although they're not perfect at this and sometimes a star rating sneaks through"
   ]
  },
  {
   "cell_type": "code",
   "execution_count": 44,
   "id": "4c719a89",
   "metadata": {},
   "outputs": [
    {
     "name": "stdout",
     "output_type": "stream",
     "text": [
      " how good it was . the wood earns my * * * stars .\n"
     ]
    }
   ],
   "source": [
    "print(data['text'][1088][-50:])"
   ]
  },
  {
   "cell_type": "markdown",
   "id": "097b4b16",
   "metadata": {},
   "source": [
    "### Upshot\n",
    "\n",
    "We haven't quite reconstructed their version, but there are some things we can note:\n",
    "\n",
    "* They often include authorship information which probably should be masked or excluded\n",
    "* They sometimes miss large parts of the review\n",
    "* They do try to remove the star ratings data"
   ]
  },
  {
   "cell_type": "markdown",
   "id": "58e42964",
   "metadata": {},
   "source": [
    "## How the labels were constructed\n",
    "\n",
    "As well as extracting the clean text they also needed to extract the star rating which is often in an inconsistent format.\n",
    "Here are some real examples"
   ]
  },
  {
   "cell_type": "code",
   "execution_count": 45,
   "id": "2815868c",
   "metadata": {},
   "outputs": [],
   "source": [
    "star_examples = {\n",
    "    'RATING: *1/2 OUT OF ****': (1.5, 4),\n",
    "    '*** (out of ****)': (3, 4),\n",
    "    '1 star (out of five stars)': (1,5),\n",
    "    '* (out of ****)': (1,4),\n",
    "    '* (out of 4) - a poor movie': (1,4),\n",
    "    '*** 1/2': (3.5, None),\n",
    "    'My Rating: ** out of *****': (2,5),\n",
    "    '* (out of * * * * )': (1,4),\n",
    "    'Psychosis Rating:  4/10': (4,10),\n",
    "    'RATING=**** OUT OF *****': (4,5),\n",
    "    '* * *': (3, None),\n",
    "    'RATINGS:  7 / 10 --> Good movie': (7,10),\n",
    "    '*** (out of 4)': (3,4),\n",
    "    'RATING:  ***1/2': (3.5, None),\n",
    "    'Rating: 1.0 stars out of 5.0 stars': (1,5),\n",
    "    '***1/2 (of 4)': (3.5, 4),\n",
    "    'Two out of four stars': (2, 4),\n",
    "    '1 1/2* out of * * * *': (1.5, 4)\n",
    "    }\n"
   ]
  },
  {
   "cell_type": "markdown",
   "id": "903bc7d0",
   "metadata": {},
   "source": [
    "One way to do this is to systematically rewrite the string into something easy to parse.\n",
    "\n",
    "For numbers expressed as words we can substitue them with the corresponding numbers."
   ]
  },
  {
   "cell_type": "code",
   "execution_count": 46,
   "id": "24012e64",
   "metadata": {},
   "outputs": [],
   "source": [
    "number_words = ['zero', 'one', 'two', 'three', 'four', 'five', 'six', 'seven', 'eight', 'nine', 'ten']\n",
    "\n",
    "def replace_number_words(s):\n",
    "    for i, word in enumerate(number_words):\n",
    "        s = re.sub(fr'\\b{word}\\b', str(i), s, flags=re.IGNORECASE)\n",
    "    return s"
   ]
  },
  {
   "cell_type": "code",
   "execution_count": 47,
   "id": "cf96da50",
   "metadata": {},
   "outputs": [
    {
     "data": {
      "text/plain": [
       "'2 out of 4 stars'"
      ]
     },
     "execution_count": 47,
     "metadata": {},
     "output_type": "execute_result"
    }
   ],
   "source": [
    "replace_number_words('Two out of four stars')"
   ]
  },
  {
   "cell_type": "markdown",
   "id": "0a3e1f79",
   "metadata": {},
   "source": [
    "For stars we can count them; first we find them (with maybe a fraction)"
   ]
  },
  {
   "cell_type": "code",
   "execution_count": 48,
   "id": "c94d3147",
   "metadata": {},
   "outputs": [
    {
     "data": {
      "text/plain": [
       "('* * * ', '1/2')"
      ]
     },
     "execution_count": 48,
     "metadata": {},
     "output_type": "execute_result"
    }
   ],
   "source": [
    "match = re.match(r'((?:\\*\\s*)+)(\\d+\\s*/\\d+\\*?)?', '* * * 1/2')\n",
    "match.groups()"
   ]
  },
  {
   "cell_type": "markdown",
   "id": "33598571",
   "metadata": {},
   "source": [
    "Then we can extract both the stars and the fraction"
   ]
  },
  {
   "cell_type": "code",
   "execution_count": 49,
   "id": "03a606ae",
   "metadata": {},
   "outputs": [],
   "source": [
    "stars, frac = match.groups()"
   ]
  },
  {
   "cell_type": "markdown",
   "id": "2e10bd91",
   "metadata": {},
   "source": [
    "Count the stars"
   ]
  },
  {
   "cell_type": "code",
   "execution_count": 50,
   "id": "daa99b60",
   "metadata": {},
   "outputs": [
    {
     "data": {
      "text/plain": [
       "3"
      ]
     },
     "execution_count": 50,
     "metadata": {},
     "output_type": "execute_result"
    }
   ],
   "source": [
    "len(stars.replace(' ', ''))"
   ]
  },
  {
   "cell_type": "code",
   "execution_count": 51,
   "id": "f1d0be24",
   "metadata": {},
   "outputs": [],
   "source": [
    "numerator, denominator = re.match('(\\d+)\\s*/(\\d+)', frac).groups()"
   ]
  },
  {
   "cell_type": "code",
   "execution_count": 52,
   "id": "d0f48ef4",
   "metadata": {},
   "outputs": [
    {
     "data": {
      "text/plain": [
       "0.5"
      ]
     },
     "execution_count": 52,
     "metadata": {},
     "output_type": "execute_result"
    }
   ],
   "source": [
    "float(numerator) / float(denominator)"
   ]
  },
  {
   "cell_type": "markdown",
   "id": "8f39f909",
   "metadata": {},
   "source": [
    "We can wrap this in a function and return a string to substitute in the string"
   ]
  },
  {
   "cell_type": "code",
   "execution_count": 53,
   "id": "8d7aef8c",
   "metadata": {},
   "outputs": [],
   "source": [
    "def stars_to_number_str(match):\n",
    "    stars, frac = match.groups()\n",
    "    star_count = len(re.sub('\\s+', '', stars))\n",
    "    if frac:\n",
    "        numerator, denominator = re.match('(\\d+)\\s*/(\\d+)', frac).groups()\n",
    "        fraction = float(numerator) / float(denominator)\n",
    "        if fraction >= 1:\n",
    "            raise ValueError(\"Unexpected fraction %s in %s\" % (frac, match))\n",
    "        star_count += fraction\n",
    "    return str(star_count) + ' '"
   ]
  },
  {
   "cell_type": "code",
   "execution_count": 54,
   "id": "2162c652",
   "metadata": {},
   "outputs": [
    {
     "data": {
      "text/plain": [
       "'3.5 '"
      ]
     },
     "execution_count": 54,
     "metadata": {},
     "output_type": "execute_result"
    }
   ],
   "source": [
    "stars_to_number_str(match)"
   ]
  },
  {
   "cell_type": "code",
   "execution_count": 55,
   "id": "cf2db038",
   "metadata": {},
   "outputs": [],
   "source": [
    "def replace_star_counts(s):\n",
    "    return re.sub(r'((?:\\*\\s*)+)(\\d+\\s*/\\d+)?', stars_to_number_str, s)"
   ]
  },
  {
   "cell_type": "code",
   "execution_count": 56,
   "id": "2dde4012",
   "metadata": {},
   "outputs": [
    {
     "data": {
      "text/plain": [
       "'1.5  (out of 4 )'"
      ]
     },
     "execution_count": 56,
     "metadata": {},
     "output_type": "execute_result"
    }
   ],
   "source": [
    "replace_star_counts('*1/2 (out of ****)')"
   ]
  },
  {
   "cell_type": "markdown",
   "id": "7bf6f46a",
   "metadata": {},
   "source": [
    "And finally let's normalise the totals to use the fraction notation"
   ]
  },
  {
   "cell_type": "code",
   "execution_count": 57,
   "id": "df12e4dc",
   "metadata": {},
   "outputs": [],
   "source": [
    "def replace_out_of(s):\n",
    "    return re.sub(r'\\(?(\\s*stars?)?\\s*\\(?(\\s*out)?\\s*of', '/', s, flags=re.IGNORECASE)"
   ]
  },
  {
   "cell_type": "code",
   "execution_count": 58,
   "id": "87a236a7",
   "metadata": {},
   "outputs": [
    {
     "data": {
      "text/plain": [
       "<re.Match object; span=(0, 12), match='star (out of'>"
      ]
     },
     "execution_count": 58,
     "metadata": {},
     "output_type": "execute_result"
    }
   ],
   "source": [
    "re.match(         r'\\(?(\\s*stars?)?\\s*\\(?(\\s*out)?\\s*of', 'star (out of')"
   ]
  },
  {
   "cell_type": "code",
   "execution_count": 59,
   "id": "f7903096",
   "metadata": {},
   "outputs": [
    {
     "data": {
      "text/plain": [
       "'/)'"
      ]
     },
     "execution_count": 59,
     "metadata": {},
     "output_type": "execute_result"
    }
   ],
   "source": [
    "replace_out_of('star (out of)')"
   ]
  },
  {
   "cell_type": "code",
   "execution_count": 60,
   "id": "8f9cd415",
   "metadata": {},
   "outputs": [
    {
     "data": {
      "text/plain": [
       "True"
      ]
     },
     "execution_count": 60,
     "metadata": {},
     "output_type": "execute_result"
    }
   ],
   "source": [
    "r'\\(?(\\s*stars?)?\\s*\\(?(\\s*out)?\\s*of' == r'\\(?(\\s*stars?)?\\s*\\(?(\\s*out)?\\s*of'"
   ]
  },
  {
   "cell_type": "code",
   "execution_count": 61,
   "id": "b62cd7a8",
   "metadata": {},
   "outputs": [
    {
     "data": {
      "text/plain": [
       "'1.5/ 4)'"
      ]
     },
     "execution_count": 61,
     "metadata": {},
     "output_type": "execute_result"
    }
   ],
   "source": [
    "replace_out_of('1.5 (out of 4)')"
   ]
  },
  {
   "cell_type": "markdown",
   "id": "66e64231",
   "metadata": {},
   "source": [
    "Let's compose these all together"
   ]
  },
  {
   "cell_type": "code",
   "execution_count": 62,
   "id": "98748df9",
   "metadata": {},
   "outputs": [],
   "source": [
    "def normalise_ratings(s):\n",
    "    s = replace_number_words(s)\n",
    "    s = replace_star_counts(s)\n",
    "    s = replace_out_of(s)\n",
    "    return s"
   ]
  },
  {
   "cell_type": "markdown",
   "id": "101e55b2",
   "metadata": {},
   "source": [
    "This results in ratings having a simple numeric form we can parse"
   ]
  },
  {
   "cell_type": "code",
   "execution_count": 63,
   "id": "0d1d108f",
   "metadata": {},
   "outputs": [
    {
     "name": "stdout",
     "output_type": "stream",
     "text": [
      "RATING: *1/2 OUT OF **** ; RATING: 1.5/ 4 \n",
      "*** (out of ****) ; 3/ 4 )\n",
      "1 star (out of five stars) ; 1/ 5 stars)\n",
      "* (out of ****) ; 1/ 4 )\n",
      "* (out of 4) - a poor movie ; 1/ 4) - a poor movie\n",
      "*** 1/2 ; 3.5 \n",
      "My Rating: ** out of ***** ; My Rating: 2/ 5 \n",
      "* (out of * * * * ) ; 1/ 4 )\n",
      "Psychosis Rating:  4/10 ; Psychosis Rating:  4/10\n",
      "RATING=**** OUT OF ***** ; RATING=4/ 5 \n",
      "* * * ; 3 \n",
      "RATINGS:  7 / 10 --> Good movie ; RATINGS:  7 / 10 --> Good movie\n",
      "*** (out of 4) ; 3/ 4)\n",
      "RATING:  ***1/2 ; RATING:  3.5 \n",
      "Rating: 1.0 stars out of 5.0 stars ; Rating: 1.0/ 5.0 stars\n",
      "***1/2 (of 4) ; 3.5/ 4)\n",
      "Two out of four stars ; 2/ 4 stars\n",
      "1 1/2* out of * * * * ; 1 1/21/ 4 \n"
     ]
    }
   ],
   "source": [
    "for text in star_examples:\n",
    "    print(text, ';', normalise_ratings(text))"
   ]
  },
  {
   "cell_type": "markdown",
   "id": "0ad9eaab",
   "metadata": {},
   "source": [
    "We can then parse these quite simply; taking the leftmost match"
   ]
  },
  {
   "cell_type": "code",
   "execution_count": 64,
   "id": "1b2ef54b",
   "metadata": {},
   "outputs": [],
   "source": [
    "def parse_normalised_ratings(s):\n",
    "    matches = re.findall(r'\\b((?:\\d|10)(?:\\.\\d*)?)(?:\\s*/\\s*((?:\\d|10)(?:\\.\\d*)?))?\\b', s)\n",
    "    if not matches:\n",
    "        return None\n",
    "    score, total = matches[0]\n",
    "    \n",
    "    return (float(score), float(total) if total else None)"
   ]
  },
  {
   "cell_type": "code",
   "execution_count": 65,
   "id": "31af355f",
   "metadata": {},
   "outputs": [
    {
     "name": "stdout",
     "output_type": "stream",
     "text": [
      "In 1 1/2* out of * * * * got (1.0, None) but expected (1.5, 4)\n",
      "17 / 18 correct\n"
     ]
    }
   ],
   "source": [
    "errors = 0\n",
    "total = len(star_examples)\n",
    "for text, expected in star_examples.items():\n",
    "    result = parse_normalised_ratings(normalise_ratings(text))\n",
    "    if result != expected:\n",
    "        errors += 1\n",
    "        print(f'In {text} got {result} but expected {expected}')\n",
    "\n",
    "print(f'{total-errors} / {total} correct')"
   ]
  },
  {
   "cell_type": "markdown",
   "id": "51d7e62d",
   "metadata": {},
   "source": [
    "Now do these work on actual reviews which may contain a lot of other text?"
   ]
  },
  {
   "cell_type": "code",
   "execution_count": 66,
   "id": "b66c9179",
   "metadata": {},
   "outputs": [],
   "source": [
    "movie_html = get_movie_html(data['movieid'][0])"
   ]
  },
  {
   "cell_type": "markdown",
   "id": "46fd50ff",
   "metadata": {},
   "source": [
    "Consider this example:"
   ]
  },
  {
   "cell_type": "code",
   "execution_count": 67,
   "id": "fe719b01",
   "metadata": {},
   "outputs": [
    {
     "data": {
      "text/plain": [
       "(4.0, None)"
      ]
     },
     "execution_count": 67,
     "metadata": {},
     "output_type": "execute_result"
    }
   ],
   "source": [
    "parse_normalised_ratings(normalise_ratings(movie_html))"
   ]
  },
  {
   "cell_type": "markdown",
   "id": "bba08c8a",
   "metadata": {},
   "source": [
    "The 4 comes from a size attribute in a HTML tag on the end of line 5; we should also consider HTML tags.\n",
    "\n",
    "We actually want line 8 (1.5,  4)"
   ]
  },
  {
   "cell_type": "code",
   "execution_count": 68,
   "id": "d1693858",
   "metadata": {},
   "outputs": [
    {
     "name": "stdout",
     "output_type": "stream",
     "text": [
      "0 <HTML><HEAD>\r\n",
      "1 <TITLE>Review for Wild Things (1998)</TITLE>\r\n",
      "2 <LINK REL=\"STYLESHEET\" TYPE=\"text/css\" HREF=\"/ramr.css\">\r\n",
      "3 </HEAD>\r\n",
      "4 <BODY BGCOLOR=\"#FFFFFF\" TEXT=\"#000000\">\r\n",
      "5 <H1 ALIGN=\"CENTER\" CLASS=\"title\"><A HREF=\"/Title?0120890\">Wild Things (1998)</A></H1><H3 ALIGN=CENTER>reviewed by<BR><A HREF=\"/ReviewsBy?James+Berardinelli\">James Berardinelli</A></H3><HR WIDTH=\"40%\" SIZE=\"4\">\r\n",
      "6 <PRE>WILD THINGS</PRE>\r\n",
      "7 <PRE>A Film Review by James Berardinelli</PRE>\r\n",
      "8 <PRE>RATING: *1/2 OUT OF ****</PRE>\r\n",
      "9 <P>United States, 1998\r\n",
      "10 U.S. Release Date: 3/20/98 (wide)\r\n",
      "11 Running Length: 1:48\r\n",
      "12 MPAA Classification: R (Male full-frontal nudity, female topless nudity, \r\n",
      "13       graphic sexual activity, frequent profanity, violence)\r\n",
      "14 Theatrical Aspect Ratio: 2.35:1</P>\r\n",
      "15 <P>Cast: Kevin Bacon, Matt Dillon, Neve Campbell, Theresa Russell, \r\n",
      "16       Denise Richards, Daphne Rubin-Vega, Carrie Snodgress, Jeff Perry, \r\n",
      "17       Robert Wagner, Bill Murray\r\n",
      "18 Director: John McNaughton\r\n",
      "19 Producers: Steven A. Jones, Rodney M. Liber\r\n",
      "20 Screenpl\n"
     ]
    }
   ],
   "source": [
    "for i, line in enumerate(movie_html[:1000].split('\\n')):\n",
    "    print(i, line)"
   ]
  },
  {
   "cell_type": "code",
   "execution_count": 69,
   "id": "5587f6c9",
   "metadata": {},
   "outputs": [],
   "source": [
    "def remove_tags(s):\n",
    "    return re.sub('<[^>]+>', ' ', s)\n",
    "\n",
    "def get_rating(s):\n",
    "    return parse_normalised_ratings(normalise_ratings(remove_tags(s)))"
   ]
  },
  {
   "cell_type": "markdown",
   "id": "57c7f620",
   "metadata": {},
   "source": [
    "Then we get the correct result"
   ]
  },
  {
   "cell_type": "code",
   "execution_count": 70,
   "id": "3ec16977",
   "metadata": {},
   "outputs": [
    {
     "data": {
      "text/plain": [
       "(1.5, 4.0)"
      ]
     },
     "execution_count": 70,
     "metadata": {},
     "output_type": "execute_result"
    }
   ],
   "source": [
    "get_rating(movie_html)"
   ]
  },
  {
   "cell_type": "markdown",
   "id": "2cb9396f",
   "metadata": {},
   "source": [
    "There are still some things wrong; this movie apparently has a rating of 7 which seems suspect"
   ]
  },
  {
   "cell_type": "code",
   "execution_count": 71,
   "id": "1e81a0d8",
   "metadata": {},
   "outputs": [
    {
     "data": {
      "text/plain": [
       "(7.0, None)"
      ]
     },
     "execution_count": 71,
     "metadata": {},
     "output_type": "execute_result"
    }
   ],
   "source": [
    "movie_html = get_movie_html(data['movieid'][7])\n",
    "get_rating(movie_html)"
   ]
  },
  {
   "cell_type": "markdown",
   "id": "cb87b3bf",
   "metadata": {},
   "source": [
    "But reading into the text it's actually from the string \"Lucky 7\"; the rating is right down the bottom"
   ]
  },
  {
   "cell_type": "code",
   "execution_count": 72,
   "id": "78ba7991",
   "metadata": {},
   "outputs": [
    {
     "data": {
      "text/html": [
       "<HTML><HEAD>\r\n",
       "<TITLE>Review for Glitter (2001)</TITLE>\r\n",
       "<LINK REL=\"STYLESHEET\" TYPE=\"text/css\" HREF=\"/ramr.css\">\r\n",
       "</HEAD>\r\n",
       "<BODY BGCOLOR=\"#FFFFFF\" TEXT=\"#000000\">\r\n",
       "<H1 ALIGN=\"CENTER\" CLASS=\"title\"><A HREF=\"/Title?0118589\">Glitter (2001)</A></H1><H3 ALIGN=CENTER>reviewed by<BR><A HREF=\"/ReviewsBy?Annette+Cardwell\">Annette Cardwell</A></H3><HR WIDTH=\"40%\" SIZE=\"4\">\r\n",
       "<PRE>GLITTER\r\n",
       "A film review by Annette Cardwell\r\n",
       "Copyright 2001 filmcritic.com</PRE>\r\n",
       "<P>After enduring Mariah Carey's film debut, Glitter, I'm reminded of a bit\r\n",
       "from Chris Rock's Bigger and Blacker.  In response to women saying that\r\n",
       "they can raise a child without a man, Rock says, \"You can drive a car\r\n",
       "with your feet, but that don't mean it should be done.\"  To that I say,\r\n",
       "you can give Mariah Carey a movie, but that certainly don't mean it\r\n",
       "should be done.</P>\r\n",
       "<P>Sure, there are plenty of pop star film vehicles out there -- from The\r\n",
       "Beatles' A Hard Day's Night to the Spice Girls' Spice World -- but none\r\n",
       "have been so vapidly pointless or laughable as Glitter.  Everything\r\n",
       "about this complete tripe is ludicrous.</P>\r\n",
       "<P>Start off with the story, which -- as gruesomely predictable as it is --\r\n",
       "is the least offensive part of the movie. The film is inexplicably set\r\n",
       "in the 80s, a period piece that really shows no sign of its period\r\n",
       "except for a few chicks in leg warmers.  Worse yet, everyone's speaking\r\n",
       "late 90s hip-hop slang in what should be 1983.  Meant to be partially\r\n",
       "autobiographical, Carey plays Billie Frank, a young singer in New York\r\n",
       "who struggles to overcome a rough childhood and abandonment by her\r\n",
       "alcoholic mother.  Influential club DJ Julian Dice, a.k.a. \"Lucky 7\"\r\n",
       "(Max Beesley playing a bad mix of Puff Daddy and Robert De Niro), hears\r\n",
       "her sing on a track, and decides to make her a star.  In predictably\r\n",
       "rapid succession, Billie and Dice fall for each other, she starts\r\n",
       "hitting it big, Dice gets jealous and starts acting like an ass, and\r\n",
       "suddenly Billie's on \"the roller coaster of superstardom.\"  In the\r\n",
       "meantime, Billie is on an emotional hunt for her missing mom.  I won't\r\n",
       "give away the ending, but -- honestly -- just think of unicorns and\r\n",
       "rainbows... you'll figure it out.</P>\r\n",
       "<P>The movie screams to be made with camp, and that could've been fun.  But\r\n",
       "the filmmakers thought making the bulk of Glitter weepy and dramatic\r\n",
       "would be better.  What a mistake.  The brief attempts at comic relief --\r\n",
       "as in a scene where an effeminate Russian-sounding director gets wacky\r\n",
       "with filming Billie's first music video -- go over like lead balloons. \r\n",
       "Instead, the audience at my screening tended to laugh loudest during\r\n",
       "Mariah's most dramatic scenes.</P>\r\n",
       "<P>Which brings us to the performances, of which there's nothing good that\r\n",
       "can be said.  Mariah is primarily seen with a wide-eyed\r\n",
       "deer-in-the-headlights look frozen on her face.  She actually looks\r\n",
       "scared during her one love scene.</P>\r\n",
       "<P>But you have to wonder if the writing isn't even worse.  So much of the\r\n",
       "dialogue is so hackneyed and watered down for Carey's virginal target\r\n",
       "audience that it's probably impossible for any actor to pull it off with\r\n",
       "aplomb.  Even the characters couldn't have been written more absurdly. \r\n",
       "They're all members of a Barbie playset: the important film director who\r\n",
       "swoons, \"Billie, I'd love to put you in a movie I'm making,\" and the\r\n",
       "big-time record executive who takes Billie's demo tape and says, \"Oh,\r\n",
       "I'll make sure the whole team listens to it in the morning.\"  Everyone\r\n",
       "in the film is a device, and it's painful to keep watching just to see\r\n",
       "another one appear.</P>\r\n",
       "<P>To say more would be a waste.  There's so much wrong with this film. \r\n",
       "And, it pains me that Mariah Carey -- with her ego and sanity in such\r\n",
       "fragile condition these days, as evidenced by her multiple hospital\r\n",
       "stays -- will have to suffer through all the negative reviews she's\r\n",
       "likely to get.</P>\r\n",
       "<P>But, then again, I had to suffer through her movie.</P>\r\n",
       "<PRE>RATING: * [LOWEST RATING]</PRE>\r\n",
       "<PRE>|------------------------------|\r\n",
       " \\ ***** Perfection             \\\r\n",
       "  \\ **** Good, memorable film    \\\r\n",
       "   \\ *** Average, hits and misses \\\r\n",
       "    \\ ** Sub-par on many levels    \\\r\n",
       "     \\ * Unquestionably awful       \\\r\n",
       "      |------------------------------|</PRE>\r\n",
       "<PRE>MPAA Rating: PG-13</PRE>\r\n",
       "<P>Director: Vondie Curtis Hall\r\n",
       "Producer: Laurence Mark\r\n",
       "Writer: Kate Lanier\r\n",
       "Starring: Mariah Carey, Max Beesley, Da Brat, Tia Texada, Valarie\r\n",
       "Pettiford, Ann Magnuson, Terrence Howard</P>\r\n",
       "<PRE><A HREF=\"http://www.glittermovie.com/\">http://www.glittermovie.com/</A></PRE>\r\n",
       "<P>---\r\n",
       "<A HREF=\"http://www.amazon.com/exec/obidos/redirect?tag=filmcriticcom&path=subst/video/sellers/amazon-top-100-dvd.html\">http://www.amazon.com/exec/obidos/redirect?tag=filmcriticcom&path=subst/video/sellers/amazon-top-100-dvd.html</A>\r\n",
       "Movie Fiends: Check out Amazon.com's Top 100 Hot DVDs!</P>\r\n",
       "<P>Visit filmcritic.com on the Web at <A HREF=\"http://www.filmcritic.com\">http://www.filmcritic.com</A></P>\r\n",
       "<PRE>==========\r\n",
       "X-RAMR-ID: 29539\r\n",
       "X-Language: en\r\n",
       "X-RT-ReviewID: 250905\r\n",
       "X-RT-TitleID: 1108787\r\n",
       "X-RT-SourceID: 178\r\n",
       "X-RT-AuthorID: 3595\r\n",
       "X-RT-RatingText: 1/5</PRE>\r\n",
       "<HR><P CLASS=flush><SMALL>The review above was posted to the\r\n",
       "<A HREF=\"news:rec.arts.movies.reviews\">rec.arts.movies.reviews</A> newsgroup (<A HREF=\"news:de.rec.film.kritiken\">de.rec.film.kritiken</A> for German reviews).<BR>\r\n",
       "The Internet Movie Database accepts no responsibility for the contents of the\r\n",
       "review and has no editorial control. Unless stated otherwise, the copyright\r\n",
       "belongs to the author.<BR>\r\n",
       "Please direct comments/criticisms of the review to relevant newsgroups.<BR>\r\n",
       "Broken URLs inthe reviews are the responsibility of the author.<BR>\r\n",
       "The formatting of the review is likely to differ from the original due\r\n",
       "to ASCII to HTML conversion.\r\n",
       "</SMALL></P>\r\n",
       "<P ALIGN=CENTER>Related links: <A HREF=\"/Reviews/\">index of all rec.arts.movies.reviews reviews</A></P>\r\n",
       "\r\n",
       "\r\n",
       "\r\n",
       "</P></BODY></HTML>\r\n"
      ],
      "text/plain": [
       "<IPython.core.display.HTML object>"
      ]
     },
     "execution_count": 72,
     "metadata": {},
     "output_type": "execute_result"
    }
   ],
   "source": [
    "HTML(movie_html)"
   ]
  },
  {
   "cell_type": "markdown",
   "id": "ca2bc454",
   "metadata": {},
   "source": [
    "We could do better with some more heuristics; most of the time the label is in a `<PRE>` tag, it's often in a sentence with the word RATING etc.\n",
    "\n",
    "In effect extracting the rating is itself another NLP task; you can build a rule system for it but it quickly gets tricky to cover all the cases.\n",
    "It could be interesting to build a system to find the rating string and convert it into a number."
   ]
  },
  {
   "cell_type": "markdown",
   "id": "2f5e5445",
   "metadata": {},
   "source": [
    "### Testing sentiment extration logic\n",
    "\n",
    "Let's take this further; from the README\n",
    "\n",
    "> - For ratings specified in stars, we assume a maximum of four stars unless the author specified otherwise (e.g. \"*** out of *****\");\n",
    "> - For ratings specified in numbers, the maximum rating must be specified explicitly.\n",
    "> - With a five-star system (or compatible number systems):\n",
    "    four stars and up are considered positive, \n",
    "\ttwo stars and below are considered negative; \n",
    "> - With a four-star system (or compatible number system):\n",
    "\tthree stars and up are considered positive, \n",
    "\tone star and below are considered negative. \n",
    ">\n",
    "> We attempted to recognize half stars, but they are specified in an\n",
    "especially free way, which makes them difficult to recognize.  Hence,\n",
    "we may lose a half star occasionally; but this only results in 2.5\n",
    "stars in five star system (1.5 stars in four star system) being\n",
    "categorized as negative, which is still reasonable."
   ]
  },
  {
   "cell_type": "code",
   "execution_count": 73,
   "id": "e5856f0f",
   "metadata": {},
   "outputs": [],
   "source": [
    "def get_binary_classification(movie_html, count_halves=True):\n",
    "    rating, max_rating = get_rating(movie_html)\n",
    "    \n",
    "    # we assume a maximum of four stars unless the author specified otherwise\n",
    "    if max_rating is None or max_rating == 0:\n",
    "        max_rating = 4\n",
    "        \n",
    "    # We attempted to recognize half stars\n",
    "    if not count_halves:\n",
    "        rating = int(rating)\n",
    "    \n",
    "    # For e.g. /10 we will divide to make it out of 5\n",
    "    if max_rating % 5 == 0:\n",
    "        divisor = max_rating // 5   \n",
    "        rating /= divisor\n",
    "        max_rating /= divisor\n",
    "        \n",
    "    if max_rating == 5:\n",
    "        if rating >= 4:\n",
    "            return 'pos'\n",
    "        elif rating <= 2:\n",
    "            return 'neg'\n",
    "        else:\n",
    "            return 'neutral'\n",
    "        \n",
    "    if max_rating == 4:\n",
    "        if rating >= 3:\n",
    "            return 'pos'\n",
    "        elif rating <= 1:\n",
    "            return 'neg'\n",
    "        else:\n",
    "            return 'neutral'\n",
    "        \n",
    "    return 'error'"
   ]
  },
  {
   "cell_type": "markdown",
   "id": "5d8dad1e",
   "metadata": {},
   "source": [
    "There are a lot of neutral predictions"
   ]
  },
  {
   "cell_type": "code",
   "execution_count": 74,
   "id": "5be0cf53",
   "metadata": {},
   "outputs": [
    {
     "data": {
      "text/plain": [
       "[(('pos', 'pos'), 459),\n",
       " (('neg', 'neg'), 346),\n",
       " (('neutral', 'neg'), 268),\n",
       " (('neg', 'pos'), 129),\n",
       " (('neutral', 'pos'), 106),\n",
       " (('pos', 'neg'), 67),\n",
       " (('error', 'neg'), 11)]"
      ]
     },
     "execution_count": 74,
     "metadata": {},
     "output_type": "execute_result"
    }
   ],
   "source": [
    "extracted_labels = [get_binary_classification(get_movie_html(movie_id)) for movie_id in data['movieid']]\n",
    "Counter(zip(extracted_labels, data['label'])).most_common()"
   ]
  },
  {
   "cell_type": "code",
   "execution_count": 75,
   "id": "adcf02e6",
   "metadata": {},
   "outputs": [
    {
     "data": {
      "text/plain": [
       "'Error rate: 42%'"
      ]
     },
     "execution_count": 75,
     "metadata": {},
     "output_type": "execute_result"
    }
   ],
   "source": [
    "mismatches = [(movie_id, extracted, label) for movie_id, extracted, label in zip(data['movieid'], extracted_labels, data['label']) if extracted != label]\n",
    "f'Error rate: {len(mismatches) / len(extracted_labels):0.0%}'"
   ]
  },
  {
   "cell_type": "markdown",
   "id": "4cb19508",
   "metadata": {},
   "source": [
    "And they are often coming from half stars"
   ]
  },
  {
   "cell_type": "code",
   "execution_count": 76,
   "id": "13614307",
   "metadata": {},
   "outputs": [
    {
     "data": {
      "text/plain": [
       "(1.5, 4.0)"
      ]
     },
     "execution_count": 76,
     "metadata": {},
     "output_type": "execute_result"
    }
   ],
   "source": [
    "get_rating(get_movie_html(mismatches[0][0]))"
   ]
  },
  {
   "cell_type": "markdown",
   "id": "0e6fcaed",
   "metadata": {},
   "source": [
    "We get a more consistent result when we drop the half stars"
   ]
  },
  {
   "cell_type": "code",
   "execution_count": 77,
   "id": "9fb4ea3d",
   "metadata": {},
   "outputs": [
    {
     "data": {
      "text/plain": [
       "[(('neg', 'neg'), 556),\n",
       " (('pos', 'pos'), 459),\n",
       " (('neg', 'pos'), 129),\n",
       " (('neutral', 'pos'), 106),\n",
       " (('pos', 'neg'), 67),\n",
       " (('neutral', 'neg'), 58),\n",
       " (('error', 'neg'), 11)]"
      ]
     },
     "execution_count": 77,
     "metadata": {},
     "output_type": "execute_result"
    }
   ],
   "source": [
    "extracted_labels = [get_binary_classification(get_movie_html(movie_id), count_halves=False) for movie_id in data['movieid']]\n",
    "Counter(zip(extracted_labels, data['label'])).most_common()"
   ]
  },
  {
   "cell_type": "code",
   "execution_count": 78,
   "id": "64027b91",
   "metadata": {},
   "outputs": [
    {
     "data": {
      "text/plain": [
       "'Error rate: 27%'"
      ]
     },
     "execution_count": 78,
     "metadata": {},
     "output_type": "execute_result"
    }
   ],
   "source": [
    "mismatches = [(movie_id, extracted, label) for movie_id, extracted, label in zip(data['movieid'], extracted_labels, data['label']) if extracted != label]\n",
    "f'Error rate: {len(mismatches) / len(extracted_labels):0.0%}'"
   ]
  },
  {
   "cell_type": "markdown",
   "id": "36004f2d",
   "metadata": {},
   "source": [
    "At a glance it seems it's often because we're picking up other things as text.\n",
    "We'd have to work a bit harder to get the correct result."
   ]
  },
  {
   "cell_type": "code",
   "execution_count": 79,
   "id": "5fb1a1eb",
   "metadata": {},
   "outputs": [
    {
     "data": {
      "text/plain": [
       "(7.0, None)"
      ]
     },
     "execution_count": 79,
     "metadata": {},
     "output_type": "execute_result"
    }
   ],
   "source": [
    "get_rating(get_movie_html(mismatches[0][0]))"
   ]
  },
  {
   "cell_type": "markdown",
   "id": "46f04406",
   "metadata": {},
   "source": [
    "## Data Lengths\n",
    "\n",
    "These reviews can be quite long, and the tokenization of punctuation is quite aggressive; how long are the actual tokens?"
   ]
  },
  {
   "cell_type": "code",
   "execution_count": 80,
   "id": "d5bbab0b",
   "metadata": {},
   "outputs": [],
   "source": [
    "lengths = [len(text.split()) for text in data['text']]"
   ]
  },
  {
   "cell_type": "code",
   "execution_count": 81,
   "id": "8c7cd8cb",
   "metadata": {},
   "outputs": [],
   "source": [
    "def median(l):\n",
    "    return sorted(l)[len(l)//2]\n",
    "\n",
    "def mean(l):\n",
    "    return sum(l)/len(l)"
   ]
  },
  {
   "cell_type": "markdown",
   "id": "c3fbf006",
   "metadata": {},
   "source": [
    "The median length of reviews is around 700"
   ]
  },
  {
   "cell_type": "code",
   "execution_count": 82,
   "id": "72a36b89",
   "metadata": {},
   "outputs": [
    {
     "data": {
      "text/plain": [
       "(700, 756.8600288600288)"
      ]
     },
     "execution_count": 82,
     "metadata": {},
     "output_type": "execute_result"
    }
   ],
   "source": [
    "median(lengths), mean(lengths)"
   ]
  },
  {
   "cell_type": "markdown",
   "id": "34ce927d",
   "metadata": {},
   "source": [
    "Note that negative reviews tend to be a little shorter than positive reviews."
   ]
  },
  {
   "cell_type": "code",
   "execution_count": 83,
   "id": "f82a4c2c",
   "metadata": {},
   "outputs": [
    {
     "data": {
      "text/plain": [
       "(681, 715.5664739884393)"
      ]
     },
     "execution_count": 83,
     "metadata": {},
     "output_type": "execute_result"
    }
   ],
   "source": [
    "neg_lengths = [x for x, l in zip(lengths, data['label']) if l == 'neg']\n",
    "median(neg_lengths), mean(neg_lengths)"
   ]
  },
  {
   "cell_type": "code",
   "execution_count": 84,
   "id": "256e4bbb",
   "metadata": {},
   "outputs": [
    {
     "data": {
      "text/plain": [
       "(735, 798.0345821325649)"
      ]
     },
     "execution_count": 84,
     "metadata": {},
     "output_type": "execute_result"
    }
   ],
   "source": [
    "pos_lengths = [x for x, l in zip(lengths, data['label']) if l == 'pos']\n",
    "median(pos_lengths), mean(pos_lengths)"
   ]
  },
  {
   "cell_type": "markdown",
   "id": "fc43c1fc",
   "metadata": {},
   "source": [
    "We can use this to get a few percentage points without even looking at the data"
   ]
  },
  {
   "cell_type": "code",
   "execution_count": 85,
   "id": "3e9218ad",
   "metadata": {},
   "outputs": [],
   "source": [
    "preds = ['pos' if l > 730 else 'neg' for l in lengths]"
   ]
  },
  {
   "cell_type": "code",
   "execution_count": 86,
   "id": "cfa91e06",
   "metadata": {},
   "outputs": [
    {
     "data": {
      "text/plain": [
       "0.5440115440115441"
      ]
     },
     "execution_count": 86,
     "metadata": {},
     "output_type": "execute_result"
    }
   ],
   "source": [
    "def accuracy(preds, actuals):\n",
    "    if len(preds) != len(actuals):\n",
    "        raise ValueError('Expected same length input')\n",
    "    return mean([p==a for p,a in zip(preds, actuals)])\n",
    "\n",
    "accuracy(preds, data['label'])"
   ]
  },
  {
   "cell_type": "markdown",
   "id": "0afc9e50",
   "metadata": {},
   "source": [
    "# A Closer Look at the Problem"
   ]
  },
  {
   "cell_type": "markdown",
   "id": "4b81baf4",
   "metadata": {},
   "source": [
    "From the paper they set a benchmark using manual lists of positive and negative words:\n",
    "\n",
    "> One might also suspect that there are certain words\n",
    "people tend to use to express strong sentiments, so\n",
    "that it might suffice to simply produce a list of such\n",
    "words by introspection and rely on them alone to\n",
    "classify the texts.\n",
    ">\n",
    ">To test this latter hypothesis, we asked two graduate students in computer science to (independently)\n",
    "choose good indicator words for positive and negative sentiments in movie reviews.\n",
    "\n",
    "Extracting these from Figure 1"
   ]
  },
  {
   "cell_type": "code",
   "execution_count": 87,
   "id": "28d27967",
   "metadata": {},
   "outputs": [
    {
     "data": {
      "text/plain": [
       "['dazzling', 'brilliant', 'phenomenal', 'excellent', 'fantastic']"
      ]
     },
     "execution_count": 87,
     "metadata": {},
     "output_type": "execute_result"
    }
   ],
   "source": [
    "positive1 = 'dazzling, brilliant, phenomenal, excellent, fantastic'.split(', ')\n",
    "positive1"
   ]
  },
  {
   "cell_type": "code",
   "execution_count": 88,
   "id": "383cf2a9",
   "metadata": {},
   "outputs": [
    {
     "data": {
      "text/plain": [
       "['suck', 'terrible', 'awful', 'unwatchable', 'hideous']"
      ]
     },
     "execution_count": 88,
     "metadata": {},
     "output_type": "execute_result"
    }
   ],
   "source": [
    "negative1 = 'suck, terrible, awful, unwatchable, hideous'.split(', ')\n",
    "negative1"
   ]
  },
  {
   "cell_type": "code",
   "execution_count": 89,
   "id": "a2938c99",
   "metadata": {},
   "outputs": [
    {
     "data": {
      "text/plain": [
       "['gripping',\n",
       " 'mesmerizing',\n",
       " 'riveting',\n",
       " 'spectacular',\n",
       " 'cool',\n",
       " 'awesome',\n",
       " 'thrilling',\n",
       " 'badass',\n",
       " 'excellent',\n",
       " 'moving',\n",
       " 'exciting']"
      ]
     },
     "execution_count": 89,
     "metadata": {},
     "output_type": "execute_result"
    }
   ],
   "source": [
    "positive2 = 'gripping, mesmerizing, riveting, spectacular, cool, ' \\\n",
    "            'awesome, thrilling, badass, excellent, moving, exciting'.split(', ')\n",
    "positive2"
   ]
  },
  {
   "cell_type": "code",
   "execution_count": 90,
   "id": "7cad566e",
   "metadata": {},
   "outputs": [
    {
     "data": {
      "text/plain": [
       "['bad', 'cliched', 'sucks', 'boring', 'stupid', 'slow']"
      ]
     },
     "execution_count": 90,
     "metadata": {},
     "output_type": "execute_result"
    }
   ],
   "source": [
    "negative2 = 'bad, cliched, sucks, boring, stupid, slow'.split(', ')\n",
    "negative2"
   ]
  },
  {
   "cell_type": "markdown",
   "id": "b9423ff5",
   "metadata": {},
   "source": [
    "> We then converted their responses into simple decision\n",
    "procedures that essentially count the number of the\n",
    "proposed positive and negative words in a given document. \n",
    "\n",
    "We can build a small classifier to do this.\n",
    "When there's a tie we need to decide how to break it with a \"default\".\n",
    "\n",
    "From the paper\n",
    "\n",
    "> Note that the tie rates — percentage of documents where the two sentiments\n",
    "were rated equally likely — are quite high (we chose\n",
    "a tie breaking policy that maximized the accuracy of\n",
    "the baselines)\n",
    "\n",
    "We need to look at the data for this."
   ]
  },
  {
   "cell_type": "code",
   "execution_count": 91,
   "id": "ad3d8367",
   "metadata": {},
   "outputs": [],
   "source": [
    "idx2cat = ['neg', 'pos']\n",
    "cat2idx = {'neg': 0, 'pos': 1}"
   ]
  },
  {
   "cell_type": "code",
   "execution_count": 92,
   "id": "7fdb5b12",
   "metadata": {},
   "outputs": [],
   "source": [
    "class NotFittedException(Exception):\n",
    "    pass\n",
    "\n",
    "\n",
    "class MatchCountClassifier:\n",
    "    def __init__(self, positive, negative):\n",
    "        self.positive = positive\n",
    "        self.negative = negative\n",
    "        self.default = None\n",
    "        self.ties = None\n",
    "        \n",
    "    def _score(self, tokens):\n",
    "        \"\"\"Return number of positive words - number of negative words in token\"\"\"\n",
    "        pos_count = len([t for t in tokens if t in self.positive])\n",
    "        neg_count = len([t for t in tokens if t in self.negative])\n",
    "        return pos_count - neg_count\n",
    "        \n",
    "    def fit(self, X, y):\n",
    "        \"\"\"Find default that maximises \"\"\"\n",
    "        scores = [self._score(tokens) for tokens in X]\n",
    "        self.ties = len([x for x in scores if x==0]) / len(scores)\n",
    "        \n",
    "        pred_pos_default = [1 if x >= 0 else 1 for x in scores]\n",
    "        pred_neg_default = [0 if x <= 0 else 0 for x in scores]\n",
    "        \n",
    "        if accuracy(pred_pos_default, y) >= accuracy(pred_neg_default, y):\n",
    "            self.default = 1\n",
    "        else:\n",
    "            self.default = 0\n",
    "            \n",
    "        return self\n",
    "        \n",
    "    def predict(self, X):\n",
    "        if self.default is None:\n",
    "            raise NotFittedException()\n",
    "        scores = [self._score(tokens) for tokens in X]\n",
    "        \n",
    "        return [1 if score > 0 else 0 if score < 0 else self.default for score in scores]"
   ]
  },
  {
   "cell_type": "markdown",
   "id": "694e20c6",
   "metadata": {},
   "source": [
    "Let's test our class"
   ]
  },
  {
   "cell_type": "code",
   "execution_count": 93,
   "id": "c51c6247",
   "metadata": {},
   "outputs": [],
   "source": [
    "mcc_test = MatchCountClassifier(['happy'], ['sad'])"
   ]
  },
  {
   "cell_type": "code",
   "execution_count": 94,
   "id": "ef9421db",
   "metadata": {},
   "outputs": [],
   "source": [
    "X_test = [['happy'], ['sad'], ['happy', 'sad']]\n",
    "y_test_1 = [1, 0, 1]\n",
    "y_test_2 = [1, 0, 0]"
   ]
  },
  {
   "cell_type": "code",
   "execution_count": 95,
   "id": "e65ddaf3",
   "metadata": {},
   "outputs": [],
   "source": [
    "mcc_test.fit(X_test, y_test_1)\n",
    "assert mcc_test.default == 1"
   ]
  },
  {
   "cell_type": "code",
   "execution_count": 96,
   "id": "953161a3",
   "metadata": {},
   "outputs": [],
   "source": [
    "assert mcc_test.predict([['sad'], []]) == [0, 1]"
   ]
  },
  {
   "cell_type": "code",
   "execution_count": 97,
   "id": "770e6557",
   "metadata": {},
   "outputs": [],
   "source": [
    "assert mcc_test.ties == 1/3"
   ]
  },
  {
   "cell_type": "code",
   "execution_count": 98,
   "id": "ec61b35e",
   "metadata": {},
   "outputs": [],
   "source": [
    "mcc_test.fit(X_test, y_test_2)\n",
    "assert mcc_test.default == 0"
   ]
  },
  {
   "cell_type": "code",
   "execution_count": 99,
   "id": "8a914abd",
   "metadata": {},
   "outputs": [],
   "source": [
    "assert mcc_test.predict([['sad'], []]) == [0, 0]"
   ]
  },
  {
   "cell_type": "markdown",
   "id": "4a52c2d3",
   "metadata": {},
   "source": [
    "## Human Baselines"
   ]
  },
  {
   "cell_type": "markdown",
   "id": "110cc59c",
   "metadata": {},
   "source": [
    "Let's get the tokens and labels"
   ]
  },
  {
   "cell_type": "code",
   "execution_count": 100,
   "id": "965673a9",
   "metadata": {},
   "outputs": [],
   "source": [
    "X = [text.split() for text in data['text']]\n",
    "y = [cat2idx[l] for l in data['label']]"
   ]
  },
  {
   "cell_type": "markdown",
   "id": "437e7dfe",
   "metadata": {},
   "source": [
    "The ties and accuracy matches table 1 for Human 1"
   ]
  },
  {
   "cell_type": "code",
   "execution_count": 101,
   "id": "86c72a85",
   "metadata": {},
   "outputs": [
    {
     "name": "stdout",
     "output_type": "stream",
     "text": [
      "Human 1\n",
      "Ties: 75%\n",
      "Accuracy: 56%\n"
     ]
    }
   ],
   "source": [
    "mcc1 = MatchCountClassifier(positive1, negative1)\n",
    "mcc1.fit(X, y)\n",
    "\n",
    "print(f'''Human 1\n",
    "Ties: {mcc1.ties:0.0%}\n",
    "Accuracy: {accuracy(mcc1.predict(X), y):0.0%}''')"
   ]
  },
  {
   "cell_type": "markdown",
   "id": "f2afe393",
   "metadata": {},
   "source": [
    "For Human 2 we get accuracy 1 percentage point higher than the paper; likely due to corrections to the dataset."
   ]
  },
  {
   "cell_type": "code",
   "execution_count": 102,
   "id": "0ae01cac",
   "metadata": {},
   "outputs": [
    {
     "name": "stdout",
     "output_type": "stream",
     "text": [
      "Human 2\n",
      "Ties: 39%\n",
      "Accuracy: 65%\n"
     ]
    }
   ],
   "source": [
    "mcc2 = MatchCountClassifier(positive2, negative2)\n",
    "mcc2.fit(X, y)\n",
    "\n",
    "print(f'''Human 2\n",
    "Ties: {mcc2.ties:0.0%}\n",
    "Accuracy: {accuracy(mcc2.predict(X), y):0.0%}''')"
   ]
  },
  {
   "cell_type": "markdown",
   "id": "3d7ed1f3",
   "metadata": {},
   "source": [
    "They also provide a third baseline in table 2 using statistics from the dataset\n",
    "\n",
    "> Based on a very\n",
    "preliminary examination of frequency counts in the\n",
    "entire corpus (including test data) plus introspection,\n",
    "we created a list of seven positive and seven negative\n",
    "words (including punctuation), shown in Figure 2."
   ]
  },
  {
   "cell_type": "code",
   "execution_count": 103,
   "id": "c2535bd8",
   "metadata": {},
   "outputs": [
    {
     "data": {
      "text/plain": [
       "['love', 'wonderful', 'best', 'great', 'superb', 'still', 'beautiful']"
      ]
     },
     "execution_count": 103,
     "metadata": {},
     "output_type": "execute_result"
    }
   ],
   "source": [
    "positive3 = 'love, wonderful, best, great, superb, still, beautiful'.split(', ')\n",
    "positive3"
   ]
  },
  {
   "cell_type": "code",
   "execution_count": 104,
   "id": "1c9c9d6e",
   "metadata": {},
   "outputs": [
    {
     "data": {
      "text/plain": [
       "['bad', 'worst', 'stupid', 'waste', 'boring', '?', '!']"
      ]
     },
     "execution_count": 104,
     "metadata": {},
     "output_type": "execute_result"
    }
   ],
   "source": [
    "negative3 = 'bad, worst, stupid, waste, boring, ?, !'.split(', ')\n",
    "negative3"
   ]
  },
  {
   "cell_type": "markdown",
   "id": "2182a064",
   "metadata": {},
   "source": [
    "Again we get an accuracy 1% higher"
   ]
  },
  {
   "cell_type": "code",
   "execution_count": 105,
   "id": "4811f518",
   "metadata": {},
   "outputs": [
    {
     "name": "stdout",
     "output_type": "stream",
     "text": [
      "Human 3 + stats\n",
      "Ties: 15%\n",
      "Accuracy: 70%\n"
     ]
    }
   ],
   "source": [
    "mcc3 = MatchCountClassifier(positive3, negative3)\n",
    "mcc3.fit(X, y)\n",
    "\n",
    "print(f'''Human 3 + stats\n",
    "Ties: {mcc3.ties:0.0%}\n",
    "Accuracy: {accuracy(mcc3.predict(X), y):0.0%}''')"
   ]
  },
  {
   "cell_type": "markdown",
   "id": "985b903f",
   "metadata": {},
   "source": [
    "## Could we do better?\n",
    "\n",
    "An obvious strategy would be to combine the lists; they are mostly disjoint.\n",
    "\n",
    "However that doesn't improve our accuracy at all over Human 3"
   ]
  },
  {
   "cell_type": "code",
   "execution_count": 106,
   "id": "e783f215",
   "metadata": {},
   "outputs": [
    {
     "name": "stdout",
     "output_type": "stream",
     "text": [
      "Combined Humans\n",
      "Ties: 13%\n",
      "Accuracy: 70%\n"
     ]
    }
   ],
   "source": [
    "mcc_all = MatchCountClassifier(set(positive1 + positive2 + positive3),\n",
    "                               set(negative1 + negative2 + negative3))\n",
    "\n",
    "mcc_all.fit(X, y)\n",
    "\n",
    "print(f'''Combined Humans\n",
    "Ties: {mcc_all.ties:0.0%}\n",
    "Accuracy: {accuracy(mcc_all.predict(X), y):0.0%}''')"
   ]
  },
  {
   "cell_type": "markdown",
   "id": "4d97e7a9",
   "metadata": {},
   "source": [
    "Another resource that was available at the time was the [Harvard General Inquirer](https://inquirer.sites.fas.harvard.edu/) lexicon which tags words with a `positiv` or `negativ` sentiment, among many other classifications.\n",
    "\n",
    "I can't find an official source for the lexicon, but there's a version inside the [pysentiment library](https://github.com/nickderobertis/pysentiment/) (which may be different to what was available at the time)."
   ]
  },
  {
   "cell_type": "code",
   "execution_count": 107,
   "id": "2e6c85b5",
   "metadata": {},
   "outputs": [
    {
     "data": {
      "text/plain": [
       "{'Entry': 'ABANDON',\n",
       " 'Source': 'H4Lvd',\n",
       " 'Positiv': '',\n",
       " 'Negativ': 'Negativ',\n",
       " 'Pstv': '',\n",
       " 'Affil': '',\n",
       " 'Ngtv': 'Ngtv',\n",
       " 'Hostile': '',\n",
       " 'Strong': '',\n",
       " 'Power': '',\n",
       " 'Weak': 'Weak',\n",
       " 'Submit': '',\n",
       " 'Active': '',\n",
       " 'Passive': '',\n",
       " 'Pleasur': '',\n",
       " 'Pain': '',\n",
       " 'Feel': '',\n",
       " 'Arousal': '',\n",
       " 'EMOT': '',\n",
       " 'Virtue': '',\n",
       " 'Vice': '',\n",
       " 'Ovrst': '',\n",
       " 'Undrst': '',\n",
       " 'Academ': '',\n",
       " 'Doctrin': '',\n",
       " 'Econ@': '',\n",
       " 'Exch': '',\n",
       " 'ECON': '',\n",
       " 'Exprsv': '',\n",
       " 'Legal': '',\n",
       " 'Milit': '',\n",
       " 'Polit@': '',\n",
       " 'POLIT': '',\n",
       " 'Relig': '',\n",
       " 'Role': '',\n",
       " 'COLL': '',\n",
       " 'Work': '',\n",
       " 'Ritual': '',\n",
       " 'SocRel': '',\n",
       " 'Race': '',\n",
       " 'Kin@': '',\n",
       " 'MALE': '',\n",
       " 'Female': '',\n",
       " 'Nonadlt': '',\n",
       " 'HU': '',\n",
       " 'ANI': '',\n",
       " 'PLACE': '',\n",
       " 'Social': '',\n",
       " 'Region': '',\n",
       " 'Route': '',\n",
       " 'Aquatic': '',\n",
       " 'Land': '',\n",
       " 'Sky': '',\n",
       " 'Object': '',\n",
       " 'Tool': '',\n",
       " 'Food': '',\n",
       " 'Vehicle': '',\n",
       " 'BldgPt': '',\n",
       " 'ComnObj': '',\n",
       " 'NatObj': '',\n",
       " 'BodyPt': '',\n",
       " 'ComForm': '',\n",
       " 'COM': '',\n",
       " 'Say': '',\n",
       " 'Need': '',\n",
       " 'Goal': '',\n",
       " 'Try': '',\n",
       " 'Means': '',\n",
       " 'Persist': '',\n",
       " 'Complet': '',\n",
       " 'Fail': 'Fail',\n",
       " 'NatrPro': '',\n",
       " 'Begin': '',\n",
       " 'Vary': '',\n",
       " 'Increas': '',\n",
       " 'Decreas': '',\n",
       " 'Finish': '',\n",
       " 'Stay': '',\n",
       " 'Rise': '',\n",
       " 'Exert': '',\n",
       " 'Fetch': '',\n",
       " 'Travel': '',\n",
       " 'Fall': '',\n",
       " 'Think': '',\n",
       " 'Know': '',\n",
       " 'Causal': '',\n",
       " 'Ought': '',\n",
       " 'Perceiv': '',\n",
       " 'Compare': '',\n",
       " 'Eval@': '',\n",
       " 'EVAL': '',\n",
       " 'Solve': '',\n",
       " 'Abs@': '',\n",
       " 'ABS': '',\n",
       " 'Quality': '',\n",
       " 'Quan': '',\n",
       " 'NUMB': '',\n",
       " 'ORD': '',\n",
       " 'CARD': '',\n",
       " 'FREQ': '',\n",
       " 'DIST': '',\n",
       " 'Time@': '',\n",
       " 'TIME': '',\n",
       " 'Space': '',\n",
       " 'POS': '',\n",
       " 'DIM': '',\n",
       " 'Rel': '',\n",
       " 'COLOR': '',\n",
       " 'Self': '',\n",
       " 'Our': '',\n",
       " 'You': '',\n",
       " 'Name': '',\n",
       " 'Yes': '',\n",
       " 'No': '',\n",
       " 'Negate': '',\n",
       " 'Intrj': '',\n",
       " 'IAV': 'IAV',\n",
       " 'DAV': '',\n",
       " 'SV': '',\n",
       " 'IPadj': '',\n",
       " 'IndAdj': '',\n",
       " 'PowGain': '',\n",
       " 'PowLoss': '',\n",
       " 'PowEnds': '',\n",
       " 'PowAren': '',\n",
       " 'PowCon': '',\n",
       " 'PowCoop': '',\n",
       " 'PowAuPt': '',\n",
       " 'PowPt': '',\n",
       " 'PowDoct': '',\n",
       " 'PowAuth': '',\n",
       " 'PowOth': '',\n",
       " 'PowTot': '',\n",
       " 'RcEthic': '',\n",
       " 'RcRelig': '',\n",
       " 'RcGain': '',\n",
       " 'RcLoss': '',\n",
       " 'RcEnds': '',\n",
       " 'RcTot': '',\n",
       " 'RspGain': '',\n",
       " 'RspLoss': '',\n",
       " 'RspOth': '',\n",
       " 'RspTot': '',\n",
       " 'AffGain': '',\n",
       " 'AffLoss': 'AffLoss',\n",
       " 'AffPt': '',\n",
       " 'AffOth': '',\n",
       " 'AffTot': 'AffTot',\n",
       " 'WltPt': '',\n",
       " 'WltTran': '',\n",
       " 'WltOth': '',\n",
       " 'WltTot': '',\n",
       " 'WlbGain': '',\n",
       " 'WlbLoss': '',\n",
       " 'WlbPhys': '',\n",
       " 'WlbPsyc': '',\n",
       " 'WlbPt': '',\n",
       " 'WlbTot': '',\n",
       " 'EnlGain': '',\n",
       " 'EnlLoss': '',\n",
       " 'EnlEnds': '',\n",
       " 'EnlPt': '',\n",
       " 'EnlOth': '',\n",
       " 'EnlTot': '',\n",
       " 'SklAsth': '',\n",
       " 'SklPt': '',\n",
       " 'SklOth': '',\n",
       " 'SklTot': '',\n",
       " 'TrnGain': '',\n",
       " 'TrnLoss': '',\n",
       " 'TranLw': '',\n",
       " 'MeansLw': '',\n",
       " 'EndsLw': '',\n",
       " 'ArenaLw': '',\n",
       " 'PtLw': '',\n",
       " 'Nation': '',\n",
       " 'Anomie': '',\n",
       " 'NegAff': '',\n",
       " 'PosAff': '',\n",
       " 'SureLw': '',\n",
       " 'If': '',\n",
       " 'NotLw': '',\n",
       " 'TimeSpc': '',\n",
       " 'FormLw': '',\n",
       " 'Othtags': 'SUPV',\n",
       " 'Defined': '|'}"
      ]
     },
     "execution_count": 107,
     "metadata": {},
     "output_type": "execute_result"
    }
   ],
   "source": [
    "import csv\n",
    "\n",
    "harvard_inquirer_url = 'https://raw.githubusercontent.com/nickderobertis/pysentiment/master/pysentiment2/static/HIV-4.csv'\n",
    "harvard_inquirer_path = data_dir / 'HIV-4.csv'\n",
    "if not harvard_inquirer_path.exists():\n",
    "    urlretrieve(harvard_inquirer_url, harvard_inquirer_path)\n",
    "\n",
    "with open(harvard_inquirer_path) as f:\n",
    "    harvard_inquirer_data = list(csv.DictReader(f))\n",
    "    \n",
    "harvard_inquirer_data[1]"
   ]
  },
  {
   "cell_type": "markdown",
   "id": "1179a33e",
   "metadata": {},
   "source": [
    "We can extract the positive and negative entries"
   ]
  },
  {
   "cell_type": "code",
   "execution_count": 108,
   "id": "dfee8149",
   "metadata": {},
   "outputs": [
    {
     "data": {
      "text/plain": [
       "(['abide', 'ability', 'able', 'abound', 'absolve'],\n",
       " ['worth-while', 'worthiness', 'worthy', 'zenith', 'zest'],\n",
       " 1915)"
      ]
     },
     "execution_count": 108,
     "metadata": {},
     "output_type": "execute_result"
    }
   ],
   "source": [
    "positive_hi = [i['Entry'].lower() for i in harvard_inquirer_data if i['Positiv']]\n",
    "positive_hi[:5], positive_hi[-5:], len(positive_hi)"
   ]
  },
  {
   "cell_type": "code",
   "execution_count": 109,
   "id": "3fd91e05",
   "metadata": {},
   "outputs": [
    {
     "data": {
      "text/plain": [
       "(['abandon', 'abandonment', 'abate', 'abdicate', 'abhor'],\n",
       " ['wrongful', 'wrought', 'yawn', 'yearn', 'yelp'],\n",
       " 2291)"
      ]
     },
     "execution_count": 109,
     "metadata": {},
     "output_type": "execute_result"
    }
   ],
   "source": [
    "negative_hi = [i['Entry'].lower() for i in harvard_inquirer_data if i['Negativ']]\n",
    "negative_hi[:5], negative_hi[-5:], len(negative_hi)"
   ]
  },
  {
   "cell_type": "markdown",
   "id": "22407cab",
   "metadata": {},
   "source": [
    "This has fewer ties but actually a lower accuracy than human 3.\n",
    "\n",
    "(Technically we should use stemming with Harvard Inquirer but it won't improve matters here)"
   ]
  },
  {
   "cell_type": "code",
   "execution_count": 110,
   "id": "ad0e86a0",
   "metadata": {},
   "outputs": [
    {
     "name": "stdout",
     "output_type": "stream",
     "text": [
      "Harvard Inquirer\n",
      "Ties: 6%\n",
      "Accuracy: 63%\n"
     ]
    }
   ],
   "source": [
    "mcc_hi = MatchCountClassifier(set(positive_hi), set(negative_hi))\n",
    "\n",
    "mcc_hi.fit(X, y)\n",
    "\n",
    "print(f'''Harvard Inquirer\n",
    "Ties: {mcc_hi.ties:0.0%}\n",
    "Accuracy: {accuracy(mcc_hi.predict(X), y):0.0%}''')"
   ]
  },
  {
   "cell_type": "markdown",
   "id": "452b40c7",
   "metadata": {},
   "source": [
    "## Error Analysis"
   ]
  },
  {
   "cell_type": "code",
   "execution_count": 111,
   "id": "75664451",
   "metadata": {},
   "outputs": [],
   "source": [
    "yhat = mcc3.predict(X)\n",
    "scores = [mcc3._score(row) for row in X]"
   ]
  },
  {
   "cell_type": "code",
   "execution_count": 112,
   "id": "75f78fb5",
   "metadata": {},
   "outputs": [
    {
     "data": {
      "text/plain": [
       "0.6984126984126984"
      ]
     },
     "execution_count": 112,
     "metadata": {},
     "output_type": "execute_result"
    }
   ],
   "source": [
    "correct = [yi==yhati for yi, yhati in zip(y, yhat)]\n",
    "mean(correct)"
   ]
  },
  {
   "cell_type": "code",
   "execution_count": 113,
   "id": "82645944",
   "metadata": {},
   "outputs": [
    {
     "data": {
      "text/plain": [
       "418"
      ]
     },
     "execution_count": 113,
     "metadata": {},
     "output_type": "execute_result"
    }
   ],
   "source": [
    "incorrect_idx = [i for i, c in enumerate(correct) if not c]\n",
    "len(incorrect_idx)"
   ]
  },
  {
   "cell_type": "code",
   "execution_count": 114,
   "id": "21c8c0b6",
   "metadata": {},
   "outputs": [
    {
     "name": "stdout",
     "output_type": "stream",
     "text": [
      "0 \t 84 \t 20.10%\n",
      "-1 \t 67 \t 16.03%\n",
      "1 \t 61 \t 14.59%\n",
      "-2 \t 51 \t 12.20%\n",
      "2 \t 37 \t 8.85%\n",
      "-3 \t 30 \t 7.18%\n",
      "-4 \t 16 \t 3.83%\n",
      "3 \t 13 \t 3.11%\n",
      "-5 \t 11 \t 2.63%\n",
      "-6 \t 10 \t 2.39%\n",
      "4 \t 8 \t 1.91%\n",
      "5 \t 7 \t 1.67%\n",
      "6 \t 6 \t 1.44%\n",
      "-9 \t 4 \t 0.96%\n",
      "-7 \t 4 \t 0.96%\n",
      "-10 \t 3 \t 0.72%\n",
      "-8 \t 2 \t 0.48%\n",
      "17 \t 1 \t 0.24%\n",
      "-15 \t 1 \t 0.24%\n",
      "-12 \t 1 \t 0.24%\n",
      "-11 \t 1 \t 0.24%\n"
     ]
    }
   ],
   "source": [
    "for score, count in Counter(scores[i] for i in incorrect_idx).most_common():\n",
    "    print(score, '\\t', count, '\\t', f'{count/len(incorrect_idx):0.2%}')"
   ]
  },
  {
   "cell_type": "markdown",
   "id": "b77dda13",
   "metadata": {},
   "source": [
    "Look at most extreme cases"
   ]
  },
  {
   "cell_type": "code",
   "execution_count": 115,
   "id": "9970482f",
   "metadata": {},
   "outputs": [
    {
     "data": {
      "text/plain": [
       "17"
      ]
     },
     "execution_count": 115,
     "metadata": {},
     "output_type": "execute_result"
    }
   ],
   "source": [
    "very_wrong_idx = [i for i in incorrect_idx if abs(scores[i]) >= 7]\n",
    "\n",
    "len(very_wrong_idx)"
   ]
  },
  {
   "cell_type": "code",
   "execution_count": 116,
   "id": "bd63d13d",
   "metadata": {},
   "outputs": [],
   "source": [
    "def markup_html_words(text, words, color):\n",
    "    word_pattern = '|'.join([r'\\b' + re.escape(word) + r'\\b' if len(word) > 1 else re.escape(word) for word in words])\n",
    "    return re.sub(fr\"({word_pattern})(?![^<]*>)\", lambda match: mark_span(match.group(1), color), text, flags=re.IGNORECASE)\n",
    "    \n",
    "def markup_sentiment(text, positive=positive3, negative=negative3):\n",
    "    text = markup_html_words(text, positive, \"lightgreen\")\n",
    "    text = markup_html_words(text, negative, \"orange\")\n",
    "    return text"
   ]
  },
  {
   "cell_type": "code",
   "execution_count": 117,
   "id": "6428e10e",
   "metadata": {},
   "outputs": [],
   "source": [
    "def show_index(idx):\n",
    "    movieid = data['movieid'][idx]\n",
    "    print(f'Movie: {movieid}, Label: {data[\"label\"][idx]}, Score: {scores[idx]}')\n",
    "    display(HTML(markup_sentiment(get_movie_html(movieid))))"
   ]
  },
  {
   "cell_type": "markdown",
   "id": "c54cc046",
   "metadata": {},
   "source": [
    "This movie is labelled as negative, despite being 3 out of 4 stars.\n",
    "\n",
    "The author is a Woody Allen fan and it wasn't his favorite Woody Allen film but it's still pretty good.\n",
    "\n",
    "This is a mislabelling."
   ]
  },
  {
   "cell_type": "code",
   "execution_count": 118,
   "id": "b6dca4f0",
   "metadata": {
    "scrolled": false
   },
   "outputs": [
    {
     "name": "stdout",
     "output_type": "stream",
     "text": [
      "Movie: 15970, Label: neg, Score: 17\n"
     ]
    },
    {
     "data": {
      "text/html": [
       "<HTML><HEAD>\r\n",
       "<TITLE>Review for Celebrity (1998)</TITLE>\r\n",
       "<LINK REL=\"STYLESHEET\" TYPE=\"text/css\" HREF=\"/ramr.css\">\r\n",
       "</HEAD>\r\n",
       "<BODY BGCOLOR=\"#FFFFFF\" TEXT=\"#000000\">\r\n",
       "<H1 ALIGN=\"CENTER\" CLASS=\"title\"><A HREF=\"/Title?0120533\">Celebrity (1998)</A></H1><H3 ALIGN=CENTER>reviewed by<BR><A HREF=\"/ReviewsBy?Matt+Prigge\">Matt Prigge</A></H3><HR WIDTH=\"40%\" SIZE=\"4\">\r\n",
       "<PRE>CELEBRITY (1998)\r\n",
       "A Film Review by Ted Prigge\r\n",
       "Copyright 1998 Ted Prigge</PRE>\r\n",
       "<P>Writer/Director: Woody Allen\r\n",
       "Starring: Kenneth Branagh, Judy Davis, Joe Mantegna, Charlize Theron,\r\n",
       "Leonardo DiCaprio, Famke Janssen, Winona Ryder, Melanie Griffith, Bebe\r\n",
       "Neuwirth, Michael Lerner, Hank Azaria, Gretchen Mol, Dylan Baker,\r\n",
       "Jeffrey Wright, Greg Mottola, Andre Gregory, Saffron Burrows, Alfred\r\n",
       "Molina, Vanessa Redgrave, Joey Buttafuoco, Mary Jo Buttafuoco, Donald\r\n",
       "Trump</P>\r\n",
       "<P>After hearing reviews for Woody Allen's upteenth movie in history,\r\n",
       "\"Celebrity,\" range from terribly <span style=\"background: orange;\">boring</span> to just so-so, my heart lept\r\n",
       "when the opening images of the film closely resembled that of\r\n",
       "\"Manhattan,\" my personal favorite from my personal favorite director of\r\n",
       "all time.  Woody Allen's films almost never rely on visual flair over\r\n",
       "textual flair, so when one of his films closely resembles the one time\r\n",
       "that these two entities fit hand-in-hand (\"Manhattan\" really is one of\r\n",
       "the <span style=\"background: lightgreen;\">best</span>-looking films I've ever seen, <span style=\"background: lightgreen;\">beautiful</span> black and white\r\n",
       "photography of the city's <span style=\"background: lightgreen;\">best</span> areas, etc.), a fan can't help but feel\r\n",
       "visibly moved.  The film opens up, with the usual credits with plain\r\n",
       "white font over black backgrounds, and an old ironic standard playing on\r\n",
       "the soundtrack, but then the screen fills with a gorgeous dull gray sky,\r\n",
       "with the word \"Help\" being spelled with an airplane.  Beethoven's 5th\r\n",
       "blasts on the soundtrack.  The city seems to stop to take notice of this\r\n",
       "moment, and it's all rather lovely to look at.</P>\r\n",
       "<P>And then we cut to a film crew, shooting this as the film's hilariously\r\n",
       "banal key moment in the film, where the lead actress in the film\r\n",
       "(Melanie Griffith, looking as buxom and <span style=\"background: lightgreen;\">beautiful</span> as ever) has to\r\n",
       "realize something's wrong with her life or whatever.  It's a terribly\r\n",
       "stale scene for a Woody Allen film, with the <span style=\"background: lightgreen;\">great</span> opening shots or\r\n",
       "without, and my heart sank and I soon got used to the fact that once\r\n",
       "again, a new film of his was not going to be as <span style=\"background: lightgreen;\">great</span> as his past works\r\n",
       "(though, for the record, last year's \"Deconstructing Harry\" came awfully\r\n",
       "close).</P>\r\n",
       "<P>What the hell has happened to him<span style=\"background: orange;\">?</span>  The man who once could be relied on\r\n",
       "for neurotic freshness in cinema has not become less funny, but his\r\n",
       "films have become less insightful and more like he tossed them together\r\n",
       "out of unfinished ideas.  \"Bullets Over Broadway,\" though <span style=\"background: lightgreen;\">wonderful</span>,\r\n",
       "relies on irony to pull a farce that just never totally takes off.\r\n",
       "\"Mighty Aphrodite\" is more full of <span style=\"background: lightgreen;\">great</span> moments and lines than a really\r\n",
       "<span style=\"background: lightgreen;\">great</span> story.  \"Everyone Says I <span style=\"background: lightgreen;\">Love</span> You\" was more of a <span style=\"background: lightgreen;\">great</span> idea than a\r\n",
       "<span style=\"background: lightgreen;\">great</span> film.  Even \"Deconstructing Harry\" is admittingly cheap in a way,\r\n",
       "even if it does top as one of his most truly hilarious films.</P>\r\n",
       "<P>If anything, the reception of \"Celebrity\" by everyone should tip Allen\r\n",
       "off to the fact that this time, it's not the audience and critics who\r\n",
       "are wrong about how <span style=\"background: lightgreen;\">wonderful</span> his film is: it's him.  \"Celebrity\" is,\r\n",
       "yes, a good film, but it's only marginally satisfying as a Woody Allen\r\n",
       "film.  Instead of creating the <span style=\"background: lightgreen;\">great</span> Woody Allen world, he's created a\r\n",
       "world out of a subject he knows only a bit about.  And he's fashioned a\r\n",
       "film that is based almost entirely on his uninformed philosophy of\r\n",
       "celebrities, so that it plays like a series of skits with minor\r\n",
       "connections.  It's like \"La Dolce Vita\" without the accuracy, the right\r\n",
       "amount of wit, and the correct personal crisis.</P>\r\n",
       "<P>Woody, becoming more insecure in his old age, choses to drop the Woody\r\n",
       "Allen character in on the world of celebrities, and then hang him and\r\n",
       "all his flaws up for scrutiny, and does this by casting not himself but\r\n",
       "Brit actor Kenneth Branagh in the lead.  Much has been said about his\r\n",
       "performance - dead on but irritating, makes one yearn for the real\r\n",
       "thing, blah blah blah - but to anyone who actually knows the Woody Allen\r\n",
       "character knows that Branagh's performance, though featuring some of the\r\n",
       "same mannerisms (stuttering, whining, lots o' hand gestures), is hardly\r\n",
       "a warts-and-all impersonation.  Branagh brings along with him little of\r\n",
       "the Woody Allen charm, which actually allows for his character's flaws\r\n",
       "to be more apparent.  Woody's a flawed guy, and we know it, but we <span style=\"background: lightgreen;\">love</span>\r\n",
       "him anyway, because he's really funny and really witty and really\r\n",
       "intelligent.  Branagh's Allen is a bit more flat-out <span style=\"background: orange;\">bad</span>, but with the\r\n",
       "same charm so that, yes, we like him, but we're <span style=\"background: lightgreen;\">still</span> not sure if he's\r\n",
       "really a good person or not.</P>\r\n",
       "<P>His character, Lee Simon, is first seen on the set of the aforementioned\r\n",
       "movie, hits on extra actress Winona Ryder, then goes off to interview\r\n",
       "Griffith, who takes him to her childhood home where he makes a pass at\r\n",
       "her, and she denies him...sorta.  We then learn, through flashbacks,\r\n",
       "that Lee has been sucked into trying to be a celebrity thanks to a\r\n",
       "mid-life crisis and an appearance at his high school reunion.  He has\r\n",
       "since quit his job as a travel journalist and become a gossip journalist\r\n",
       "of sorts, covering movie sets and places where celebrities congregate,\r\n",
       "so that he can meet them, and maybe sell his script (a bank robbery\r\n",
       "movie \"but with a deep personal crisis\").  As such, he has divorced his\r\n",
       "wife of several years (Allen regular Judy Davis), and continues on a\r\n",
       "quest for sexual happiness, boucing from girlfriend to girlfriend and\r\n",
       "fling to fling over the course of the film.</P>\r\n",
       "<P>After Griffith comes his escapades with a model (Charlize Theron) who is\r\n",
       "\"polymorphously perverse\" (glad to see Allen is using new jokes, ha ha),\r\n",
       "who takes him for a wild ride not different from that of the Anita\r\n",
       "Ekberg segment of \"La Dolce Vita.\"  Following are his safe relationship\r\n",
       "with smart working woman Famke Janssen, a relationship that almost\r\n",
       "assures him success, and his continued escapades with Ryder, whom he\r\n",
       "fancies most of all.  His story is juxtaposed with that of Davis, who\r\n",
       "flips out, but stumbles onto happiness when she runs into a handsome,\r\n",
       "friendly TV exec (Joe Mantegna) who lands her a job that furthers her\r\n",
       "career to national status.  While Lee is fumbling about, selfishly\r\n",
       "trying to ensure his own happiness, Davis becomes happy (\"I've become\r\n",
       "the kind of woman I've always hated...and I'm loving it.\") without doing\r\n",
       "a thing.</P>\r\n",
       "<P>The result is a film of highs and mediums.  The mediums are what take up\r\n",
       "most of the film, with sitations and scenes which don't exactly work but\r\n",
       "you can't help but pat Allen on the back for trying.  But other places\r\n",
       "are really <span style=\"background: lightgreen;\">great</span> scenes.  The opening.  The sequence with Theron, which\r\n",
       "is so good that I wished it hadn't ended.  A banana scene with Bebe\r\n",
       "Neuwirth (droll as ever).  And, perhaps the <span style=\"background: lightgreen;\">best</span> sequence: a romp with\r\n",
       "hot-as-hell teen idol, Brandon Darrow, played by none other than Leo\r\n",
       "DiCaprio, who is so un-DiCaprio-esque that if any of this fans could sit\r\n",
       "through this film, they'd never look at him the same way.  He ignites\r\n",
       "the screen with intensity, and spares nothing in showing his character\r\n",
       "as narcissistically tyrannical, and totally heartbreaking for Lee, who\r\n",
       "comes to him to talk about his script that he has read, and finds\r\n",
       "himself on a wild all-day ride with him.  They go to Atlantic City to\r\n",
       "watch a fight, they gamble, and they wind up in his hotel room, where\r\n",
       "Darrow gets it on with his flame (Gretchen Mol) and he lends him one of\r\n",
       "the leftover groupies.  Allen's writing in these scenes are so good that\r\n",
       "just for them, I'd almost recommend the film.  Almost.</P>\r\n",
       "<P>But what I really liked about this film is despite the fact that it's a\r\n",
       "mess, despite the fact that what this film really needs is a good old\r\n",
       "fashioned rewrite by Allen himself, it's <span style=\"background: lightgreen;\">still</span> a smart and insightful\r\n",
       "film.  Though some of the jokes are either stale or misplaced (some seem\r\n",
       "too cartoonish, even for this environment), Allen <span style=\"background: lightgreen;\">still</span> manages to get\r\n",
       "across that this film is not exactly about celebrities, as it may seem\r\n",
       "to be (if it were, it'd be extremely out-of-touch), but about those who\r\n",
       "want to be celebrities, and how they equate celebrity-hood with\r\n",
       "happiness.  We never get close enough to the actual celebrities to see\r\n",
       "if they're really happy (they may appear to be on the surface...), but\r\n",
       "we do get close enough to Lee and Davis' character.  Lee is obsessed\r\n",
       "with the phenomenon, while Davis takes is at arm's length, and never\r\n",
       "gets too involved in what it is, and soon becomes one herself.</P>\r\n",
       "<P>Besides, it's witty, and it does have the one thing that no other film\r\n",
       "has but Allen's: that <span style=\"background: lightgreen;\">great</span> Woody Allen feel.  It may be not exactly\r\n",
       "fresh and lively or totally brilliant in its depiction of its subject,\r\n",
       "and yes, as a part of Woody Allen's oeuvre, it's merely a blip (no\r\n",
       "\"Annie Hall\" but it's no \"Shadows and Fog\" either), but it goes to prove\r\n",
       "that no one can make a film like him, and only he and maybe Godard could\r\n",
       "possibly take a totally horrible metaphor, like the one in the\r\n",
       "beginning, and make it work not once but twice.</P>\r\n",
       "<PRE>MY RATING (out of 4): ***</PRE>\r\n",
       "<P>Homepage at: <A HREF=\"http://www.geocities.com/Hollywood/Hills/8335/\">http://www.geocities.com/Hollywood/Hills/8335/</A></P>\r\n",
       "<HR><P CLASS=flush><SMALL>The review above was posted to the\r\n",
       "<A HREF=\"news:rec.arts.movies.reviews\">rec.arts.movies.reviews</A> newsgroup (<A HREF=\"news:de.rec.film.kritiken\">de.rec.film.kritiken</A> for German reviews).<BR>\r\n",
       "The Internet Movie Database accepts no responsibility for the contents of the\r\n",
       "review and has no editorial control. Unless stated otherwise, the copyright\r\n",
       "belongs to the author.<BR>\r\n",
       "Please direct comments/criticisms of the review to relevant newsgroups.<BR>\r\n",
       "Broken URLs inthe reviews are the responsibility of the author.<BR>\r\n",
       "The formatting of the review is likely to differ from the original due\r\n",
       "to ASCII to HTML conversion.\r\n",
       "</SMALL></P>\r\n",
       "<P ALIGN=CENTER>Related links: <A HREF=\"/Reviews/\">index of all rec.arts.movies.reviews reviews</A></P>\r\n",
       "\r\n",
       "\r\n",
       "\r\n",
       "</P></BODY></HTML>\r\n"
      ],
      "text/plain": [
       "<IPython.core.display.HTML object>"
      ]
     },
     "metadata": {},
     "output_type": "display_data"
    }
   ],
   "source": [
    "show_index(very_wrong_idx[0])"
   ]
  },
  {
   "cell_type": "markdown",
   "id": "31461f9f",
   "metadata": {},
   "source": [
    "Interestingly 15970 one of the \"corrections\" pos->neg"
   ]
  },
  {
   "cell_type": "code",
   "execution_count": 119,
   "id": "bce91faa",
   "metadata": {},
   "outputs": [
    {
     "name": "stdout",
     "output_type": "stream",
     "text": [
      "\n",
      "== Changes made ==\n",
      "\n",
      "mix20_rand700_tokens_cleaned.zip \n",
      "-> mix20_rand700_tokens_0211.tar.gz\n",
      "\n",
      "Removed : (non-English/incomplete reviews)\n",
      "\n",
      "pos/cv037_tok-11720.txt\n",
      "pos/cv206_tok-12590.txt\n",
      "pos/cv263_tok-10033.txt\n",
      "pos/cv365_tok-21785.txt\n",
      "pos/cv400_tok-11748.txt\n",
      "pos/cv528_tok-12960.txt\n",
      "pos/cv627_tok-14423.txt\n",
      "\n",
      "neg/cv059_tok-8583.txt\n",
      "neg/cv111_tok-11625.txt\n",
      "neg/cv193_tok-28093.txt\n",
      "neg/cv216_tok-27832.txt\n",
      "neg/cv219_tok-11130.txt\n",
      "neg/cv423_tok-10742.txt\n",
      "neg/cv592_tok-10894.txt\n",
      "\n",
      "\n",
      "Moved: (based on Nathan's judgement when he read the review,\n",
      "sometimes different from the original author's own rating,\n",
      "as listed below)\n",
      "\n",
      "neg -> pos:\n",
      "cv279_tok-23947.txt\t*1/2, but reads positive\n",
      "cv346_tok-24609.txt \tmisclassification\n",
      "cv375_tok-0514.txt  \tmisclassification\n",
      "cv389_tok-8969.txt \tmisclassification\n",
      "cv425_tok-8417.txt \tseveral reviews together\n",
      "cv518_tok-11610.txt \tmisclassification\n",
      "\n",
      "pos -> neg:\n",
      "cv017_tok-29801.txt \t*** Average, hits and misses \n",
      "cv352_tok-15970.txt \t(out of 4): *** \n",
      "cv375_tok-21437.txt \t* * * - Okay movie, hits and misses\n",
      "cv377_tok-7572.txt \t*** Pretty good, bring a friend\n",
      "cv546_tok-23965.txt  \t* * * - Okay movie, hits and misses\n"
     ]
    }
   ],
   "source": [
    "print()\n",
    "diff_txt = sentiment_fh.extractfile(sentiment_fh.getmember('diff.txt')).read().decode(CODEC).rstrip()\n",
    "print(diff_txt)"
   ]
  },
  {
   "cell_type": "markdown",
   "id": "e5324135",
   "metadata": {},
   "source": [
    "This is an example of overindexing on punctuation; there are a lot of exclamation marks."
   ]
  },
  {
   "cell_type": "code",
   "execution_count": 120,
   "id": "fabdff03",
   "metadata": {
    "scrolled": false
   },
   "outputs": [
    {
     "name": "stdout",
     "output_type": "stream",
     "text": [
      "Movie: 13401, Label: pos, Score: -15\n"
     ]
    },
    {
     "data": {
      "text/html": [
       "<HTML><HEAD>\r\n",
       "<TITLE>Review for Armageddon (1998)</TITLE>\r\n",
       "<LINK REL=\"STYLESHEET\" TYPE=\"text/css\" HREF=\"/ramr.css\">\r\n",
       "</HEAD>\r\n",
       "<BODY BGCOLOR=\"#FFFFFF\" TEXT=\"#000000\">\r\n",
       "<H1 ALIGN=\"CENTER\" CLASS=\"title\"><A HREF=\"/Title?0120591\">Armageddon (1998)</A></H1><H3 ALIGN=CENTER>reviewed by<BR><A HREF=\"/ReviewsBy?Jason+Wallis\">Jason Wallis</A></H3><HR WIDTH=\"40%\" SIZE=\"4\">\r\n",
       "<P>Armageddon (1998) * * * (out of four)\r\n",
       "Starring Bruce Willis, Billy Bob Thornton, Ben Affleck, Liv Tyler, Will\r\n",
       "Patton, Steve Buscemi, Michael Duncan and Keith David \r\n",
       "Directed by Michael Bay \r\n",
       "Rated PG-13 for planetary disaster, profanity and pillow talk \r\n",
       "Theatrical aspect ratio of 2.35:1 \r\n",
       "Released in 1998 \r\n",
       "Running 150 minutes </P>\r\n",
       "<P>Armageddon, in itself, symbolizes everything that is wrong in modern\r\n",
       "filmmaking. Stories have been replaced with special effects; character\r\n",
       "development gets overshadowed by <span style=\"background: orange;\">bad</span> dialogue; plotting consists of a bunch\r\n",
       "of shit getting blown up. Armageddon is as <span style=\"background: orange;\">stupid</span>, as loud and as shallow\r\n",
       "as any movie you'll see come out this summer, or maybe even any other\r\n",
       "summer. But I loved every freaking minute of it. </P>\r\n",
       "<P>Believe me, I'm just as shocked as you are. Hell, I don't even know why I\r\n",
       "went to see it in the first place. The previews were so annoying that I\r\n",
       "predicted this was going to be the <span style=\"background: orange;\">worst</span> film of the year, or at least in\r\n",
       "the running. I'm sorry, but \"Somebody dial 911<span style=\"background: orange;\">!</span><span style=\"background: orange;\">!</span><span style=\"background: orange;\">!</span>\" isn't quite the tagging\r\n",
       "that's going to sell a movie. It isn't too wise either to market the film\r\n",
       "using the movie's stupidest lines (\"Beam me up Scotty\" - yeah, that sure is\r\n",
       "<span style=\"background: lightgreen;\">great</span> writing...). I mean, let's face it; Armageddon's previews rival The\r\n",
       "Truman Show's as being some of the <span style=\"background: orange;\">worst</span> of the year. Neither of them even\r\n",
       "come close to doing their respective films justice. </P>\r\n",
       "<P>Of course, you all know the story. When the Earth is threatened with total\r\n",
       "annihilation via an asteroid the size of Texas, NASA calls in the US's top\r\n",
       "oil drillers (<span style=\"background: orange;\">!</span>) to go into space (<span style=\"background: orange;\">!</span>) and implant a nuclear device\r\n",
       "eight-hundred and someodd feet into the asteroid (<span style=\"background: orange;\">!</span>). </P>\r\n",
       "<P>In the coarse of all this mayhem, we are introduced to some interesting -\r\n",
       "and not so interesting - characters. Belonging to the former group is\r\n",
       "Rockhound (Steve Buscemi), a horny little womanizing genius who's always\r\n",
       "full of wisecracks, even when flying into space at a huge amount of G's.\r\n",
       "Also, there's the always cool-as-hell Billy Bob Thornton as Dan Truman, the\r\n",
       "bigwig at NASA who recruits all the drillers. He kind of reminded me of Ed\r\n",
       "Harris in Apollo 13, only without the intensity and <span style=\"background: lightgreen;\">great</span> lines to deliver.\r\n",
       "Then on the flip side of the coin is the tired, contrived character of\r\n",
       "Harry Stamper (Bruce Willis, who does the whole movie employing with\r\n",
       "annoying accent I can't quite place), the leader of the pack as well as Liv\r\n",
       "Tyler and Ben Affleck as the token lovers you must have in any summer\r\n",
       "movie. </P>\r\n",
       "<P>Basically, that's about it. As I said, this is hardly a film about plot.\r\n",
       "It's another summer blockbuster with plot points that are beyond\r\n",
       "unbelievable and dialogue and characters that are mostly completely wooden.\r\n",
       "Case in point: NASA doesn't know that there is even an asteroid on it's way\r\n",
       "until eighteen days before impact - huh<span style=\"background: orange;\">?</span> Another example: at one point in\r\n",
       "the movie, two children are playing with toy space shuttles in front of a\r\n",
       "poster of Kennedy. How pretentious is that<span style=\"background: orange;\">?</span><span style=\"background: orange;\">?</span><span style=\"background: orange;\">?</span><span style=\"background: orange;\">!</span><span style=\"background: orange;\">!</span><span style=\"background: orange;\">!</span> Want another one<span style=\"background: orange;\">?</span> Okay;\r\n",
       "before the oil drillers blast off into space, one of them starts singing\r\n",
       "\"Leaving on a Jet Plane\", and soon, all the rest join in. Did Michael Bay\r\n",
       "attend the school of sappy filmmaking before he made this picture<span style=\"background: orange;\">?</span> </P>\r\n",
       "<P>But naturally, all this sappiness, melodrama and special effects accumulate\r\n",
       "to one bitchin' time at the movies. And don't get me wrong - despite all of\r\n",
       "the things I found wrong with Armageddon, I <span style=\"background: lightgreen;\">still</span> very much enjoyed it. So\r\n",
       "even if you don't win one of McDonald's free tickets, it's <span style=\"background: lightgreen;\">still</span> definitely\r\n",
       "worth checking out. </P>\r\n",
       "<PRE>Copyright 1998 Jason Wallis </PRE>\r\n",
       "<PRE>Jason Wallis\r\n",
       "<A HREF=\"mailto:rwallis@inreach.com\">rwallis@inreach.com</A>\r\n",
       "<A HREF=\"http://www.geocities.com/Hollywood/Boulevard/7475\">http://www.geocities.com/Hollywood/Boulevard/7475</A></PRE>\r\n",
       "<HR><P CLASS=flush><SMALL>The review above was posted to the\r\n",
       "<A HREF=\"news:rec.arts.movies.reviews\">rec.arts.movies.reviews</A> newsgroup (<A HREF=\"news:de.rec.film.kritiken\">de.rec.film.kritiken</A> for German reviews).<BR>\r\n",
       "The Internet Movie Database accepts no responsibility for the contents of the\r\n",
       "review and has no editorial control. Unless stated otherwise, the copyright\r\n",
       "belongs to the author.<BR>\r\n",
       "Please direct comments/criticisms of the review to relevant newsgroups.<BR>\r\n",
       "Broken URLs inthe reviews are the responsibility of the author.<BR>\r\n",
       "The formatting of the review is likely to differ from the original due\r\n",
       "to ASCII to HTML conversion.\r\n",
       "</SMALL></P>\r\n",
       "<P ALIGN=CENTER>Related links: <A HREF=\"/Reviews/\">index of all rec.arts.movies.reviews reviews</A></P>\r\n",
       "\r\n",
       "\r\n",
       "\r\n",
       "</P></BODY></HTML>\r\n"
      ],
      "text/plain": [
       "<IPython.core.display.HTML object>"
      ]
     },
     "metadata": {},
     "output_type": "display_data"
    }
   ],
   "source": [
    "show_index(very_wrong_idx[1])"
   ]
  },
  {
   "cell_type": "markdown",
   "id": "55f122a5",
   "metadata": {},
   "source": [
    "Again overindexing on punctuation"
   ]
  },
  {
   "cell_type": "code",
   "execution_count": 121,
   "id": "6ed6587c",
   "metadata": {
    "scrolled": false
   },
   "outputs": [
    {
     "name": "stdout",
     "output_type": "stream",
     "text": [
      "Movie: 19119, Label: pos, Score: -9\n"
     ]
    },
    {
     "data": {
      "text/html": [
       "<HTML><HEAD>\r\n",
       "<TITLE>Review for Tarzan (1999)</TITLE>\r\n",
       "<LINK REL=\"STYLESHEET\" TYPE=\"text/css\" HREF=\"/ramr.css\">\r\n",
       "</HEAD>\r\n",
       "<BODY BGCOLOR=\"#FFFFFF\" TEXT=\"#000000\">\r\n",
       "<H1 ALIGN=\"CENTER\" CLASS=\"title\"><A HREF=\"/Title?0120855\">Tarzan (1999)</A></H1><H3 ALIGN=CENTER>reviewed by<BR><A HREF=\"/ReviewsBy?Brian+Takeshita\">Brian Takeshita</A></H3><HR WIDTH=\"40%\" SIZE=\"4\">\r\n",
       "<PRE>TARZAN</PRE>\r\n",
       "<PRE>A Film Review by Brian Takeshita</PRE>\r\n",
       "<PRE>Rating:  *** out of ****</PRE>\r\n",
       "<P>\"You'll go ape over TARZAN because it's more fun than a barrel of\r\n",
       "monkeys<span style=\"background: orange;\">!</span>\"  Okay, there's the quote in case Disney wants to put\r\n",
       "something in their ads for the movie.</P>\r\n",
       "<P>Disney's latest animated feature throws us right into the action from\r\n",
       "the very beginning, skipping the usual main title sequence and putting\r\n",
       "us on pitching waves as a small family attempts to escape from a\r\n",
       "sinking ship.  Father, mother, and infant somehow make it to shore\r\n",
       "amidst a rousing song by Phil Collins, and have soon built a treehouse\r\n",
       "which would impress the Swiss Family Robinson.  It's amazing, the\r\n",
       "kinds of things you can do when you work to a soundtrack.  Before you\r\n",
       "know it, an unfortunate set of circumstances put the baby in the hands\r\n",
       "of Kala (Glenn Close), a mother ape who recently lost her own baby to\r\n",
       "a predatory leopard.  Against the wishes of her mate and family\r\n",
       "leader, Kerchak (Lance Henricksen), she takes on the infant boy as her\r\n",
       "own.</P>\r\n",
       "<P>TARZAN is not so much a story about a human boy surviving in the\r\n",
       "African jungles as it is about one who does not really fit in either\r\n",
       "humanity or the wild. Much of Tarzan's young life is spent trying to\r\n",
       "become one of the apes in the eyes of his peers and his \"father,\"\r\n",
       "which occasionally gets him into trouble no matter how well-meant his\r\n",
       "attempts.  All he's looking for is acceptance, perhaps a goal easily\r\n",
       "identifiable by young viewers, but one which will ring true with a lot\r\n",
       "of adults.  When you really think about it, this story fits right into\r\n",
       "the Disney formula of the outcast that triumphs in the end.  Look back\r\n",
       "on past Disney animated features and you'll see the trend.</P>\r\n",
       "<P>Growing up, Tarzan (voiced by Alex D. Linz as a child, and by Tony\r\n",
       "Goldwyn as an adult) has a couple of friends.  One is an ape named\r\n",
       "Terk (Rosie O'Donnell), and the other is a paranoid hypochondriac of\r\n",
       "an elephant named Tantor (Wayne Knight).  Both provide the requisite\r\n",
       "comic relief (Timon and Poombah from THE LION KING immediately come to\r\n",
       "mind) and perform the usual hijinks as prescribed by the Disney mold.\r\n",
       "I'm beginning to think anyone can write the screenplay for one of\r\n",
       "these films.  Just fill in the blanks<span style=\"background: orange;\">!</span>  Can you see it<span style=\"background: orange;\">?</span>  \"Now we have\r\n",
       "to have a couple of zany friends for out hero who might get him into\r\n",
       "mischief, but cover for him or come to his rescue when he needs it.\r\n",
       "We've already had a fish and a crab, and we've had a candle and a\r\n",
       "teapot, a genie and a dog, a few stone statues....have we had an ape\r\n",
       "and an elephant yet<span style=\"background: orange;\">?</span>  Well, there we go<span style=\"background: orange;\">!</span>\"</P>\r\n",
       "<P>Of course, there's gotta be romance somewhere along the line, so Jane\r\n",
       "(Minnie Driver) gets introduced about halfway through.  Together with\r\n",
       "her father Dr. Porter (Nigel Hawthorne) and the big game hunter\r\n",
       "Clayton (Brian Blessed), Jane is on an expedition to find and study\r\n",
       "the wild gorillas of Africa.  She discovers the man raised by apes and\r\n",
       "is enchanted almost immediately, and soon shares an amusing version of\r\n",
       "the compulsory \"You Tarzan, Me Jane\" scene.  Thankfully, those aren't\r\n",
       "the exact words.  However, I found it distracting that Tarzan is going\r\n",
       "\"ohh ohh ee ee\" one second and then tells Jane his name in this manly\r\n",
       "voice with perfect diction.  How does he tell his name to another ape<span style=\"background: orange;\">?</span>\r\n",
       "\"Ohh ohh ee - Tarzan - ee ee ohh<span style=\"background: orange;\">?</span>\"  Well, regardless of my picky\r\n",
       "nature, the romance actually works as only Disney romance can:  Purely\r\n",
       "contrived, but for some reason rather believable.  But hey, Tarzan's a\r\n",
       "young adult.  Do you think he dated a few of the female apes before\r\n",
       "meeting Jane<span style=\"background: orange;\">?</span>  Isn't that illegal in most countries<span style=\"background: orange;\">?</span>  Oh, well.  I\r\n",
       "don't think Disney will be using my quote anymore.</P>\r\n",
       "<P>TARZAN departs from the usual Disney feature in that this one is not a\r\n",
       "musical.  There's lots of music to be sure, but not a single character\r\n",
       "song in the whole hour and a half of running time.  We instead get\r\n",
       "more of a Phil Collins concert, as no less than five of his original\r\n",
       "songs are used as interlude material.  This isn't really a <span style=\"background: orange;\">bad</span> thing,\r\n",
       "as the songs are very high-energy and catchy (I found myself singing\r\n",
       "one to myself for most of the following day); it's just different.  Do\r\n",
       "yourself a favor and see this film in a theater with a good sound\r\n",
       "system, because the music will come through astonishingly well and\r\n",
       "really enhance the movie.</P>\r\n",
       "<P>With each new feature, Disney animation gets even better.  Not\r\n",
       "necessarily by leaps and bounds, but since they put out a new film\r\n",
       "each year, a steady rate of improvement is apparent, and this\r\n",
       "definitely shows in TARZAN.  There are a couple of scenes where the\r\n",
       "animation achieves a near 3-D effect, and a number of scenes which\r\n",
       "feature Tarzan moving through the trees are absolutely dizzying.  The\r\n",
       "way he slides down tree limbs and trunks is very reminiscent of\r\n",
       "skateboarding and rollerblading maneuvers, and had me thinking this\r\n",
       "isn't just Tarzan, it's \"Extreme Tarzan.\"  However, TARZAN does not\r\n",
       "seem to have what I call its \"chandelier scene,\" which is the one\r\n",
       "scene to which the animators have chosen to devote an inordinate\r\n",
       "amount of effort, utilizing a computer-assisted process that makes the\r\n",
       "animation absolutely breathtaking.  Lasting but a few seconds at most,\r\n",
       "it's been the signature of nearly every Disney animated feature since\r\n",
       "BEAUTY AND THE BEAST, in which the castle ballroom chandelier was\r\n",
       "rendered in stunning detail.</P>\r\n",
       "<P>As usual, the voice talent is up to snuff, convincingly make you\r\n",
       "believe in the convictions of animated characters.  The one poor\r\n",
       "choice in casting, however, was Rosie O'Donnell.  Going into the film,\r\n",
       "I didn't know she was even a part of it, but when Terk started\r\n",
       "talking, I recognized her voice immediately.  Her performance was\r\n",
       "fine, but through the rest of the film I kept thinking, \"That's no boy\r\n",
       "ape, that Rosie O'Donnell.\"  Distracting to say the least.</P>\r\n",
       "<P>I'll admit I've never read the Edgar Rice Burroughs story \"Tarzan of\r\n",
       "the Apes,\" so I couldn't tell you how true this film stays to the\r\n",
       "book.  But unless you're a purist, you should have few objections to\r\n",
       "this film.  With solid performances, action, adventure, a bit of\r\n",
       "romance, and <span style=\"background: lightgreen;\">great</span> music and animation, TARZAN should appeal to the\r\n",
       "kids and to the kid in all of us.</P>\r\n",
       "<P>Note:  When I wrote my review of MULAN a year ago, I went off on the\r\n",
       "promotional and merchandising tie-ins prevalent with the release of a\r\n",
       "Disney animated feature.  This time, I'll just say that I went to\r\n",
       "McDonald's yesterday to treat myself to a McFlurry, and Tarzan was on\r\n",
       "the cup.  'Nuff said.</P>\r\n",
       "<PRE>Review posted June 29, 1999</PRE>\r\n",
       "<HR><P CLASS=flush><SMALL>The review above was posted to the\r\n",
       "<A HREF=\"news:rec.arts.movies.reviews\">rec.arts.movies.reviews</A> newsgroup (<A HREF=\"news:de.rec.film.kritiken\">de.rec.film.kritiken</A> for German reviews).<BR>\r\n",
       "The Internet Movie Database accepts no responsibility for the contents of the\r\n",
       "review and has no editorial control. Unless stated otherwise, the copyright\r\n",
       "belongs to the author.<BR>\r\n",
       "Please direct comments/criticisms of the review to relevant newsgroups.<BR>\r\n",
       "Broken URLs inthe reviews are the responsibility of the author.<BR>\r\n",
       "The formatting of the review is likely to differ from the original due\r\n",
       "to ASCII to HTML conversion.\r\n",
       "</SMALL></P>\r\n",
       "<P ALIGN=CENTER>Related links: <A HREF=\"/Reviews/\">index of all rec.arts.movies.reviews reviews</A></P>\r\n",
       "\r\n",
       "\r\n",
       "\r\n",
       "</P></BODY></HTML>\r\n"
      ],
      "text/plain": [
       "<IPython.core.display.HTML object>"
      ]
     },
     "metadata": {},
     "output_type": "display_data"
    }
   ],
   "source": [
    "show_index(very_wrong_idx[2])"
   ]
  },
  {
   "cell_type": "markdown",
   "id": "4ff5e438",
   "metadata": {},
   "source": [
    "Punctuation"
   ]
  },
  {
   "cell_type": "code",
   "execution_count": 122,
   "id": "783348c6",
   "metadata": {
    "scrolled": false
   },
   "outputs": [
    {
     "name": "stdout",
     "output_type": "stream",
     "text": [
      "Movie: 11236, Label: pos, Score: -10\n"
     ]
    },
    {
     "data": {
      "text/html": [
       "<HTML><HEAD>\r\n",
       "<TITLE>Review for Dark City (1998)</TITLE>\r\n",
       "<LINK REL=\"STYLESHEET\" TYPE=\"text/css\" HREF=\"/ramr.css\">\r\n",
       "</HEAD>\r\n",
       "<BODY BGCOLOR=\"#FFFFFF\" TEXT=\"#000000\">\r\n",
       "<H1 ALIGN=\"CENTER\" CLASS=\"title\"><A HREF=\"/Title?0118929\">Dark City (1998)</A></H1><H3 ALIGN=CENTER>reviewed by<BR><A HREF=\"/ReviewsBy?David+Sunga\">David Sunga</A></H3><HR WIDTH=\"40%\" SIZE=\"4\">\r\n",
       "<PRE>DARK CITY (1998)</PRE>\r\n",
       "<PRE>Rating: 3.5 stars (out of 4.0)\r\n",
       "********************************\r\n",
       "Key to rating system:\r\n",
       "2.0 stars - Debatable\r\n",
       "2.5 stars - Some people may like it\r\n",
       "3.0 stars - I liked it\r\n",
       "3.5 stars - I am biased in favor of the movie\r\n",
       "4.0 stars - I felt the movie's impact personally or it stood out\r\n",
       "*********************************\r\n",
       "A Movie Review by David Sunga</PRE>\r\n",
       "<PRE>Directed by: Alex Proyas</PRE>\r\n",
       "<P>Written by: Alex Proyas, Lem Dobbs and David S. Goyer</P>\r\n",
       "<P>Starring: Rufus Sewell, Kiefer Sutherland, Jennifer Connelly, William\r\n",
       "Hurt</P>\r\n",
       "<PRE>John Murdoch: Rufus Sewell\r\n",
       "Inspector Bumstead: William Hurt\r\n",
       "Dr. Daniel Schreber: Kiefer Sutherland\r\n",
       "Emma Murdoch: Jennifer Connelly\r\n",
       "Mr. Hand: Richard O'Brie</PRE>\r\n",
       "<P>Ingredients: \r\n",
       "Man with amnesia who wakes up wanted for murder, dark science fiction\r\n",
       "city controlled by alien beings with mental powers. </P>\r\n",
       "<P>Synopsis: \r\n",
       "What if you woke up one day, and suspected you were not on Earth, and\r\n",
       "instead were part of an experiment in a giant space terrarium\r\n",
       "manipulated by intergalactic alien zookeepers<span style=\"background: orange;\">?</span> In DARK CITY John Murdoch\r\n",
       "(Rufus Sewell) has this problem. </P>\r\n",
       "<P>DARK CITY starts out like a 1940s noir amnesia detective mystery. Poor\r\n",
       "John wakes up with amnesia in a hotel room with a dead dame in one\r\n",
       "corner. A mysterious phone call tells him to get the heck out of there,\r\n",
       "and soon enough John is chased all over town by a murderous army of pale\r\n",
       "people in black trench-coats, as well as by the police, and the dogged\r\n",
       "Inspector Bumstead (William Hurt). Is John a murderer, and what can his\r\n",
       "missing memories tell him<span style=\"background: orange;\">?</span> He searches through his own wallet for\r\n",
       "possible contacts and clues. But when the clues don't fit, it doesn't\r\n",
       "just confuse him; it causes John to go so far as to question the whole\r\n",
       "nature of reality in the Dark City.</P>\r\n",
       "<P>To John, something is fishy, and very unreal about this city. How come\r\n",
       "it's always dark, and nobody seems to remember what they did this\r\n",
       "morning<span style=\"background: orange;\">?</span> And how come nobody seems to remember how to leave the city, or\r\n",
       "how to get to nearby Shell Beach<span style=\"background: orange;\">?</span> Every night, around midnight, John\r\n",
       "notices that the whole city enters a state of suspended animation, and\r\n",
       "at this time, creepy alien experimenters known as the 'Strangers' come\r\n",
       "out and do nasty things like inject fake memories into people's heads\r\n",
       "with big hypodermic needles. The Strangers have the ability to 'tune,'\r\n",
       "or warp reality using telepathic powers.</P>\r\n",
       "<P>Turns out, the city is not on Earth at all. And the reason why John\r\n",
       "doesn't fall victim to the nightly suspended animation, is because he is\r\n",
       "a human mutation that possesses the same god-like reality-warping\r\n",
       "abilities as the Strangers. Even with the help of scientist Dr. Daniel\r\n",
       "Schreber, can John take back the DARK CITY<span style=\"background: orange;\">?</span></P>\r\n",
       "<P>Opinion:\r\n",
       "Director Alex Proyas (he also directed THE CROW) mentions this in the\r\n",
       "DARK CITY press kit: In films, science fiction is always \"used to have\r\n",
       "big spaceships blow up cities. I think we're a little tired of that.\"\r\n",
       "According to director Proyas, probably the most interesting thing about\r\n",
       "DARK CITY is its layers. It's designed so that you can watch the film\r\n",
       "over again, and examine it from the perspective of a main character\r\n",
       "other than Murdoch. It's a philosophical piece.</P>\r\n",
       "<P>Cinematic science fiction is basically a thinly disguised shootout\r\n",
       "between the good humans and the <span style=\"background: orange;\">bad</span> aliens (whether they be Klingons,\r\n",
       "giant bugs, or proponents of the dark side of the Force). But science\r\n",
       "fiction in books reaches beyond the 'shoot-em-up' level and targets the\r\n",
       "big questions, questions like who are we<span style=\"background: orange;\">?</span> What is the human condition<span style=\"background: orange;\">?</span>\r\n",
       "What is ethical<span style=\"background: orange;\">?</span> What would a true human being do<span style=\"background: orange;\">?</span></P>\r\n",
       "<P>Far from comic book style on the order of SPAWN, BATMAN, or THE MUTANT\r\n",
       "NINJA TURTLES, DARK CITY not only features the showdown between good\r\n",
       "humans and powerful aliens, but it also asks questions worthy of films\r\n",
       "such as BRAZIL or BLADE RUNNER.</P>\r\n",
       "<P>DARK CITY is what philosophers would call an existentialist screenplay.\r\n",
       "A little more than 200 years ago, the world was filled with unhappy\r\n",
       "peasants - - unhappy because nearly every aspect of their lives was\r\n",
       "controlled by totalitarian, military, conformist, medieval regimes. The\r\n",
       "people took refuge in religion, the idea being that earthly life was a\r\n",
       "time of suffering, but after death, Heaven would be available.\r\n",
       "Meanwhile, the State used these same ideas to prop up their regimes; the\r\n",
       "King was often head of the religion and therefore sanctioned by Heaven.\r\n",
       "When science finally overturned religion, the medieval dictatorships\r\n",
       "came tumbling down and were replaced by democratic governments. But the\r\n",
       "new fear was that the power of science and experimentation would be used\r\n",
       "to create a world order as darkly totalitarian as the old. This is the\r\n",
       "time period when writers and philosophers such as Freud, Kant, Kafka,\r\n",
       "Nietzsche, and Dostoevsky pondered what society should be, and what\r\n",
       "place the individual had in it. The existentialists' in particular wrote\r\n",
       "about the power of the lone individual against what may be a hostile,\r\n",
       "indifferent, or alienated universe.</P>\r\n",
       "<P>In DARK CITY, when the last dying, defeated alien asks John Murdoch why\r\n",
       "the aliens' scientific experiments on the human beings' brains failed,\r\n",
       "Murdoch replies, pointing to his head, \"Because the human condition\r\n",
       "isn't located in here.\" </P>\r\n",
       "<PRE>Reviewed by David Sunga\r\n",
       "February 28, 1998</PRE>\r\n",
       "<PRE>Copyright © 1998\r\n",
       "This review and others like it can be found at \r\n",
       "THE CRITIC ZOO: <A HREF=\"http://www.criticzoo.com\">http://www.criticzoo.com</A>\r\n",
       "email: <A HREF=\"mailto:zookeeper@criticzoo.com\">zookeeper@criticzoo.com</A></PRE>\r\n",
       "<HR><P CLASS=flush><SMALL>The review above was posted to the\r\n",
       "<A HREF=\"news:rec.arts.movies.reviews\">rec.arts.movies.reviews</A> newsgroup (<A HREF=\"news:de.rec.film.kritiken\">de.rec.film.kritiken</A> for German reviews).<BR>\r\n",
       "The Internet Movie Database accepts no responsibility for the contents of the\r\n",
       "review and has no editorial control. Unless stated otherwise, the copyright\r\n",
       "belongs to the author.<BR>\r\n",
       "Please direct comments/criticisms of the review to relevant newsgroups.<BR>\r\n",
       "Broken URLs inthe reviews are the responsibility of the author.<BR>\r\n",
       "The formatting of the review is likely to differ from the original due\r\n",
       "to ASCII to HTML conversion.\r\n",
       "</SMALL></P>\r\n",
       "<P ALIGN=CENTER>Related links: <A HREF=\"/Reviews/\">index of all rec.arts.movies.reviews reviews</A></P>\r\n",
       "\r\n",
       "\r\n",
       "\r\n",
       "</P></BODY></HTML>\r\n"
      ],
      "text/plain": [
       "<IPython.core.display.HTML object>"
      ]
     },
     "metadata": {},
     "output_type": "display_data"
    }
   ],
   "source": [
    "show_index(very_wrong_idx[3])"
   ]
  },
  {
   "cell_type": "markdown",
   "id": "efa55109",
   "metadata": {},
   "source": [
    "Punctuation"
   ]
  },
  {
   "cell_type": "code",
   "execution_count": 123,
   "id": "90819bf5",
   "metadata": {
    "scrolled": false
   },
   "outputs": [
    {
     "name": "stdout",
     "output_type": "stream",
     "text": [
      "Movie: 12756, Label: pos, Score: -10\n"
     ]
    },
    {
     "data": {
      "text/html": [
       "<HTML><HEAD>\r\n",
       "<TITLE>Review for Perfect Murder, A (1998)</TITLE>\r\n",
       "<LINK REL=\"STYLESHEET\" TYPE=\"text/css\" HREF=\"/ramr.css\">\r\n",
       "</HEAD>\r\n",
       "<BODY BGCOLOR=\"#FFFFFF\" TEXT=\"#000000\">\r\n",
       "<H1 ALIGN=\"CENTER\" CLASS=\"title\"><A HREF=\"/Title?0120787\">Perfect Murder, A (1998)</A></H1><H3 ALIGN=CENTER>reviewed by<BR><A HREF=\"/ReviewsBy?Jon+Ridge\">Jon Ridge</A></H3><HR WIDTH=\"40%\" SIZE=\"4\">\r\n",
       "<PRE>* * *\r\n",
       "w/  Michael Douglas,  Gwyneth Paltrow,  Viggo Mortensen,\r\n",
       "     (that chick from MISSISSIPPI MASALA)</PRE>\r\n",
       "<P>As antiquated as the formula is, I'm surprised Hollywood keeps it\r\n",
       "around: wife cheats on abusive spouse and, instead of leaving him,\r\n",
       "convinces her lover to kill him so they can be together and get all\r\n",
       "his money.  Or, roles can be switched and jealous husband can be the\r\n",
       "one doing the plotting.  As is the case with MURDER, nicely conceived\r\n",
       "and gamely acted.</P>\r\n",
       "<P>Douglas plays a businessman, Steven Taylor.  His business is about to\r\n",
       "go bankrupt.  His wife, Emily (Paltrow), is having an affair with a\r\n",
       "painter across town, named David (the expressionless Mortensen).  They\r\n",
       "plan to let Steven in on it - she more than he: \"It's not fair to\r\n",
       "him\".  But, Steven is no dupe.  Though, how he knows, or even\r\n",
       "suspects, enough to have the two photographed during an afternoon\r\n",
       "rendezvous, is never explained.</P>\r\n",
       "<P>Standard stuff.  But, the movie has smart, thinking individuals.  Like\r\n",
       "Douglas, who has his plan to do away with his wife down to how and why\r\n",
       "to do what with keys.  And, Mortensen - a scamster - who agrees to do\r\n",
       "the \"wet work\", but has plans, also.  Every detail of the murder plot,\r\n",
       "and the complications that inevitably arise, seems to be coherent and\r\n",
       "logical, and it's kind of fun watching the genre played out\r\n",
       "intelligently for once.</P>\r\n",
       "<P>I liked someof the physical acting between Paltrow and Mortensen, as\r\n",
       "during an art exhibition where he sees her, starts walking toward her\r\n",
       "and she inconspicuously waves him off.  Then, once they've met in the\r\n",
       "corner, and Douglas comes upon them, they act completely natural and\r\n",
       "never give any sort of nervous reaction that maybe he knows.</P>\r\n",
       "<P>And I liked the way Douglas seemed to have everything figured out, and\r\n",
       "together.  He's able to verbally explain his motives with well- chosen\r\n",
       "words.  I like dialogue where people come at the subject of discussion\r\n",
       "from not just one angle, but think a situation through, think about\r\n",
       "every possibility.  MURDER has that kind of banter.</P>\r\n",
       "<P>I just wish the film had been about more.  I kept waiting for it to\r\n",
       "ask questions movies like this never ask.  For instance, why does the\r\n",
       "Paltrow character keep saying it's not fair to her husband to keep her\r\n",
       "affair a secret<span style=\"background: orange;\">?</span>  As if she's concerned about how he feels.  I'm\r\n",
       "wondering why she would've had the affair in the first place, and not\r\n",
       "worry about how it may or may not affect him, and why it would only\r\n",
       "hit her a good ways into the affair to at least let him know about it.\r\n",
       "Does she <span style=\"background: lightgreen;\">love</span> her husband<span style=\"background: orange;\">?</span>  People don't usually get married\r\n",
       "otherwise, right<span style=\"background: orange;\">?</span>  And if she does <span style=\"background: lightgreen;\">love</span> him, how much or how little\r\n",
       "that she can't try and work things out<span style=\"background: orange;\">?</span>  Or, _has_ she tried<span style=\"background: orange;\">?</span>  Does\r\n",
       "she care about whether or not she has hurt him, or that she'll hurt\r\n",
       "him again<span style=\"background: orange;\">?</span>  Steven doesn't seem like such a <span style=\"background: orange;\">bad</span> guy (of course, he\r\n",
       "_is_, but that's only later on).  He's rich.  He likes being rich,\r\n",
       "gives him a certain air of superiority (at one point he tells Paltrow\r\n",
       "which dress to wear - so, you know he's a real creep).  Maybe he makes\r\n",
       "her feel small, and insecure, but has it always been that way<span style=\"background: orange;\">?</span>  How\r\n",
       "did it _get_ that way<span style=\"background: orange;\">?</span>  Also, there's no tangible chemistry between\r\n",
       "Paltrow and Mortensen, furthering my question into\r\n",
       "why-is-she-with-either- man territory.</P>\r\n",
       "<P>The same goes for Douglas' character.  He has multiple reasons for\r\n",
       "wanting his wife dead, not just the obvious (which, come to think,\r\n",
       "isn't really a reason at all, considering what he's most worried\r\n",
       "with).  But, why is he married to her<span style=\"background: orange;\">?</span></P>\r\n",
       "<P>It's an inconsequential line of inquiry in the end, I guess, but\r\n",
       "wouldn't answering such questions - or even addressing them - give the\r\n",
       "film a little more dramatic depth<span style=\"background: orange;\">?</span>  Of course, that would make a\r\n",
       "longer movie.  But hey, attention spans do exist.</P>\r\n",
       "<P>And why, oh why, do they have to revert to a violent ending<span style=\"background: orange;\">?</span>  I saw a\r\n",
       "movie once called, I believe, LADY BEWARE.  It starred Diane Lane.\r\n",
       "The storyline wasn't quite the same, but it, too, could have ended in\r\n",
       "a violent way.  Instead, it chose a more subtle approach that was\r\n",
       "much, much more effective.  A PERFECT MURDER deserved one of those,\r\n",
       "because it has a lot going for it already.  -R-</P>\r\n",
       "<HR><P CLASS=flush><SMALL>The review above was posted to the\r\n",
       "<A HREF=\"news:rec.arts.movies.reviews\">rec.arts.movies.reviews</A> newsgroup (<A HREF=\"news:de.rec.film.kritiken\">de.rec.film.kritiken</A> for German reviews).<BR>\r\n",
       "The Internet Movie Database accepts no responsibility for the contents of the\r\n",
       "review and has no editorial control. Unless stated otherwise, the copyright\r\n",
       "belongs to the author.<BR>\r\n",
       "Please direct comments/criticisms of the review to relevant newsgroups.<BR>\r\n",
       "Broken URLs inthe reviews are the responsibility of the author.<BR>\r\n",
       "The formatting of the review is likely to differ from the original due\r\n",
       "to ASCII to HTML conversion.\r\n",
       "</SMALL></P>\r\n",
       "<P ALIGN=CENTER>Related links: <A HREF=\"/Reviews/\">index of all rec.arts.movies.reviews reviews</A></P>\r\n",
       "\r\n",
       "\r\n",
       "\r\n",
       "</P></BODY></HTML>\r\n"
      ],
      "text/plain": [
       "<IPython.core.display.HTML object>"
      ]
     },
     "metadata": {},
     "output_type": "display_data"
    }
   ],
   "source": [
    "show_index(very_wrong_idx[4])"
   ]
  },
  {
   "cell_type": "markdown",
   "id": "2824f94d",
   "metadata": {},
   "source": [
    "Punctuation..."
   ]
  },
  {
   "cell_type": "code",
   "execution_count": 124,
   "id": "d18eb72e",
   "metadata": {
    "scrolled": false
   },
   "outputs": [
    {
     "name": "stdout",
     "output_type": "stream",
     "text": [
      "Movie: 10406, Label: pos, Score: -10\n"
     ]
    },
    {
     "data": {
      "text/html": [
       "<HTML><HEAD>\r\n",
       "<TITLE>Review for Postman, The (1997)</TITLE>\r\n",
       "<LINK REL=\"STYLESHEET\" TYPE=\"text/css\" HREF=\"/ramr.css\">\r\n",
       "</HEAD>\r\n",
       "<BODY BGCOLOR=\"#FFFFFF\" TEXT=\"#000000\">\r\n",
       "<H1 ALIGN=\"CENTER\" CLASS=\"title\"><A HREF=\"/Title?0119925\">Postman, The (1997)</A></H1><H3 ALIGN=CENTER>reviewed by<BR><A HREF=\"/ReviewsBy?Michael+Redman\">Michael Redman</A></H3><HR WIDTH=\"40%\" SIZE=\"4\">\r\n",
       "<P>THE POSTMAN DELIVERS BUT NOT FIRST CLASS</P>\r\n",
       "<PRE>The Postman\r\n",
       "A Film Review By Michael Redman\r\n",
       "Copyright 1997 By Michael Redman</PRE>\r\n",
       "<PRE>*** (out of ****)</PRE>\r\n",
       "<P>[Warning: My opinion of this film is definitely in the minority of reviewers\r\n",
       "perhaps because it hits so many of my cinematic buttons: post-apocalypse\r\n",
       "stories, hope in a desperate situation, grassroots uprisings and Kevin\r\n",
       "Costner. Even worse, I thought that \"Waterworld\" was watchable. Read the\r\n",
       "following with those particular grains of salt.]</P>\r\n",
       "<P>It's the year 2013 and things have fallen apart. Due to a world war in the\r\n",
       "late nineties, the resulting three-year winter and a devastating plague, life\r\n",
       "in the former United States has been reduced to isolated primitive fiefdoms. </P>\r\n",
       "<P>Although this is the future, it looks like a western. As the film opens, Kevin\r\n",
       "Costner (his character's name is never revealed) is wandering the Utah\r\n",
       "wastelands with only his mule Bill for company.</P>\r\n",
       "<P>Giving extraordinarily <span style=\"background: orange;\">bad</span> Shakespearean performances in exchange for food and\r\n",
       "lodging, Costner is an outsider in a land of outsiders. Running into even\r\n",
       "worse luck, he is forcibly conscripted into the racially pure Holnist army of\r\n",
       "General Bethlehem (Will Patton). The rag-tag retro-futuristic cavalry is the\r\n",
       "descendent of militia groups and is even called the \"clan\"</P>\r\n",
       "<P>After a brutal boot camp, he (and you can see this coming a mile away)\r\n",
       "escapes. Taking shelter in a wrecked Postal truck, he liberates the uniform\r\n",
       "and mail bag from the skeleton in the cab who no longer has a use for either.\r\n",
       "Once he reaches Oregon, land of <span style=\"background: lightgreen;\">beautiful</span> women, bright youngsters and rock\r\n",
       "and roll; he pretends to be a representative from the \"Restored Congress Of\r\n",
       "The United States of America\".</P>\r\n",
       "<P>This scam gets him inside the walled towns where the promise of mail delivery\r\n",
       "renews optimism in the hearts of the inhabitants. Food and other opportunities\r\n",
       "come his way in the form of spirited Abby (Olivia Williams) who wants him to\r\n",
       "father a child because her husband is sterile. Shortly her husband is killed\r\n",
       "by Bethlehem and she and The Postman (as Costner is referred to for the rest\r\n",
       "of the film) become a reluctant item.</P>\r\n",
       "<P>Although The Postman knows he's running a fraud, the concept of renewed\r\n",
       "communications sets the kids' imagination afire (especially Ford Lincoln\r\n",
       "Mercury (Larenz Tate), his second-in-command) and they form a new Pony Express\r\n",
       "dedicated to getting the mail through. The revived Postal Service doubles as\r\n",
       "an army to fight the Holnists' tyranny. The Postman has become a symbol for\r\n",
       "hope in a Rube Goldberg manner.</P>\r\n",
       "<P>Although the movie appeals to my sensibilities, there are so many things wrong\r\n",
       "with it that they can hardly be counted. It's derivitive of Costner's own\r\n",
       "\"Waterworld\" and Clint Eastwood westerns. There's little here that we haven't\r\n",
       "seen dozens of times before.</P>\r\n",
       "<P>The film is often down-right corny. A scene where The Postman is on horseback\r\n",
       "and grabs a letter from the hands of a bright-eyed child is embarrassing in\r\n",
       "its slow-motion banality. The film's final few minutes should have been left\r\n",
       "on the cutting room floor.</P>\r\n",
       "<P>Despite the film's excessive three hour length, several things are never\r\n",
       "explained. What was the war about<span style=\"background: orange;\">?</span> How did civilization change so rapidly<span style=\"background: orange;\">?</span>\r\n",
       "Everyone has horses: where did all they come from<span style=\"background: orange;\">?</span> The \"Law Of Eights\" that\r\n",
       "Bethlehem lives by seems to have its origins somewhere beyond the film, but\r\n",
       "where<span style=\"background: orange;\">?</span> Are we to believe that the rest of the world is in the same shape and\r\n",
       "hasn't made their way west to help or conquer<span style=\"background: orange;\">?</span></P>\r\n",
       "<P>There is some jumbled symbolism here that doesn't appear to make sense. The\r\n",
       "tale is obviously saying that communication can defeat evil in much the same\r\n",
       "way that the internet has the potential to topple governments, but beyond that\r\n",
       "there are some oddities. </P>\r\n",
       "<P>The evil army is called \"Holnists\" which sounds coincidentally like the New\r\n",
       "Age \"Holism\", but why<span style=\"background: orange;\">?</span> Is it another coincidence that it takes place in 2013,\r\n",
       "just one year after many ancient prophesies (including the ending of the Mayan\r\n",
       "calendar) predict a new world for mankind<span style=\"background: orange;\">?</span> Why is the general named\r\n",
       "\"Bethlehem\"<span style=\"background: orange;\">?</span> There seems to be some reason for that, but what<span style=\"background: orange;\">?</span></P>\r\n",
       "<P>Sometimes the movie feels like a joke. An army of Postal workers armed with\r\n",
       "guns<span style=\"background: orange;\">?</span> Considering the headlines of recent years, it takes a tremendous leap of\r\n",
       "faith to cheer for these guys. </P>\r\n",
       "<P>It's even more difficult to accept those re-powering the federal government as\r\n",
       "the heroes. Given the current climate of the country and the distrust of big\r\n",
       "government, it's asking a lot for the audience to get behind the film's nationalism.</P>\r\n",
       "<P>Even with its numerous flaws,  the movie all comes together, if only for those\r\n",
       "who have the same weaknesses that I have. It's doubtful that \"The Postman\" is\r\n",
       "going to find much of an audience, but a few of us are going to have a good\r\n",
       "time. Besides we're all awaiting the fall of civilization caused by the Year\r\n",
       "2000 millennium computer bug.</P>\r\n",
       "<P>(Michael Redman has written this column for over 22 years and would like to\r\n",
       "announce that the \"Michael Redman\" arrested near Indianapolis last week for\r\n",
       "accepting an illicit package from Federal Express is, to the <span style=\"background: lightgreen;\">best</span> of his\r\n",
       "knowledge, not him. Perhaps this similarly-named person should have used Kevin\r\n",
       "Costner's Postal Service.)</P>\r\n",
       "<P>[This appeared in the 12/30/97 \"Bloomington Voice\", Bloomington, Indiana.\r\n",
       "Michael Redman can be reached at <A HREF=\"mailto:redman@bvoice.com\">redman@bvoice.com</A>]\r\n",
       "-- \r\n",
       "<A HREF=\"mailto:mailto:redman@bvoice.com\">mailto:redman@bvoice.com</A>\r\n",
       "This week's film review at <A HREF=\"http://www.bvoice.com/\">http://www.bvoice.com/</A>\r\n",
       "Film reviews archive at <A HREF=\"http://us.imdb.com/M/reviews_by?Michael%20Redman\">http://us.imdb.com/M/reviews_by<span style=\"background: orange;\">?</span>Michael%20Redman</A></P>\r\n",
       "<HR><P CLASS=flush><SMALL>The review above was posted to the\r\n",
       "<A HREF=\"news:rec.arts.movies.reviews\">rec.arts.movies.reviews</A> newsgroup (<A HREF=\"news:de.rec.film.kritiken\">de.rec.film.kritiken</A> for German reviews).<BR>\r\n",
       "The Internet Movie Database accepts no responsibility for the contents of the\r\n",
       "review and has no editorial control. Unless stated otherwise, the copyright\r\n",
       "belongs to the author.<BR>\r\n",
       "Please direct comments/criticisms of the review to relevant newsgroups.<BR>\r\n",
       "Broken URLs inthe reviews are the responsibility of the author.<BR>\r\n",
       "The formatting of the review is likely to differ from the original due\r\n",
       "to ASCII to HTML conversion.\r\n",
       "</SMALL></P>\r\n",
       "<P ALIGN=CENTER>Related links: <A HREF=\"/Reviews/\">index of all rec.arts.movies.reviews reviews</A></P>\r\n",
       "\r\n",
       "\r\n",
       "\r\n",
       "</P></BODY></HTML>\r\n"
      ],
      "text/plain": [
       "<IPython.core.display.HTML object>"
      ]
     },
     "metadata": {},
     "output_type": "display_data"
    }
   ],
   "source": [
    "show_index(very_wrong_idx[5])"
   ]
  },
  {
   "cell_type": "markdown",
   "id": "a1a1a28c",
   "metadata": {},
   "source": [
    "A negation (not really too bad) and a lot of question marks"
   ]
  },
  {
   "cell_type": "code",
   "execution_count": 125,
   "id": "a4c55aae",
   "metadata": {
    "scrolled": false
   },
   "outputs": [
    {
     "name": "stdout",
     "output_type": "stream",
     "text": [
      "Movie: 7574, Label: pos, Score: -9\n"
     ]
    },
    {
     "data": {
      "text/html": [
       "<HTML><HEAD>\r\n",
       "<TITLE>Review for One Fine Day (1996)</TITLE>\r\n",
       "<LINK REL=\"STYLESHEET\" TYPE=\"text/css\" HREF=\"/ramr.css\">\r\n",
       "</HEAD>\r\n",
       "<BODY BGCOLOR=\"#FFFFFF\" TEXT=\"#000000\">\r\n",
       "<H1 ALIGN=\"CENTER\" CLASS=\"title\"><A HREF=\"/Title?0117247\">One Fine Day (1996)</A></H1><H3 ALIGN=CENTER>reviewed by<BR><A HREF=\"/ReviewsBy?The+Flying+Inkpot\">The Flying Inkpot</A></H3><HR WIDTH=\"40%\" SIZE=\"4\">\r\n",
       "<PRE>                                 ONE FINE DAY\r\n",
       "                       A film review by  Dr. T. White\r\n",
       "                        Copyright 1997 Flying Inkpot</PRE>\r\n",
       "<P>Director: Michael Hoffman Screenplay: Terrel Seltzer and Ellen Simon\r\n",
       "Producer:Via Rosa Productions / Fox 2000 Pictures\r\n",
       "Running Time: Approx. 108 minutes.\r\n",
       "Cast: Michelle Pfeiffer, George Clooney, Mae Whitman, Alex Linz\r\n",
       "Rating: ***1/2 out of *****</P>\r\n",
       "<P>OK, I admit I had a <span style=\"background: orange;\">bad</span> attitude about this film from the start. A romantic\r\n",
       "comedy about the trials and tribulations of single working parents<span style=\"background: orange;\">?</span> With a\r\n",
       "couple of incredibly cute kids thrown in for good measure<span style=\"background: orange;\">?</span> Yuck.</P>\r\n",
       "<P>But it's not really too <span style=\"background: orange;\">bad</span>. It has a lot working against it, for me at\r\n",
       "least. In addition to the above, it is typical of a lot of recent movies\r\n",
       "in that it is really just a glorified made-for-TV movie, but longer and\r\n",
       "with bigger stars, and you have to pay to see it. It does win you over,\r\n",
       "though, even if it is painfully predictable.</P>\r\n",
       "<P>Just think about it: Two single parents, with their cute kids, are\r\n",
       "thrown together due to a missed field trip. Through a day of near\r\n",
       "disasters, they cont inually meet, get in one another's way, cause\r\n",
       "trouble for one another, and generally insult one another at every\r\n",
       "opportunity. In fact, they hate each other so much that we know that\r\n",
       "they are, or soon will be, in <span style=\"background: lightgreen;\">love</span>. The only people who hate each other\r\n",
       "more than lovers are married couples.</P>\r\n",
       "<P>So this film is predictable, just as the screwball comedies of the\r\n",
       "classical Hollywood cinema were predictable (and the screwball genre is\r\n",
       "obviously Hoffman's model for this film). Will they get fired from their\r\n",
       "yuppie jobs<span style=\"background: orange;\">?</span> Will they make the big soccer game that is so important to\r\n",
       "their kids<span style=\"background: orange;\">?</span> Will Pfeiffer realize what a jerk her ex-husband, a drummer\r\n",
       "for Bruce Springsteen, really is (aren't they all<span style=\"background: orange;\">?</span>)<span style=\"background: orange;\">?</span> Will they finally\r\n",
       "kiss<span style=\"background: orange;\">?</span> Well, what do you expect<span style=\"background: orange;\">?</span></P>\r\n",
       "<P>But there is a certain amount of satisfaction in having our expectations\r\n",
       "fulfilled, especially when it is done with as much humour, along with a\r\n",
       "lack of sticky sentimentality, as it is in this film. Pfeiffer and\r\n",
       "Clooney have a certain chemistry together that is surprisingly charming,\r\n",
       "and the kids are neither shoved into the background nor allowed to steal\r\n",
       "the show.</P>\r\n",
       "<P>One word of caution, though. This film is being billed in some places as\r\n",
       "a \"family\" movie. Don't let that stop you. However, I think most kids,\r\n",
       "especially boys, would be pretty bored by this move. After all, nobody\r\n",
       "gets killed and there are no explosions.</P>\r\n",
       "<P>All in all, a good, non-offensive date movie.</P>\r\n",
       "<P>The Flying Inkpot Rating System:\r\n",
       "* Wait for the TV2 broadcast.\r\n",
       "** A little creaky, but <span style=\"background: lightgreen;\">still</span> better than staying at home with Gotcha<span style=\"background: orange;\">!</span>\r\n",
       "*** Pretty good, bring a friend.\r\n",
       "**** Amazing, potent stuff.\r\n",
       "***** Perfection. See it twice.</P>\r\n",
       "<P><HR>This movie review was written for THE FLYING INKPOT: \r\n",
       "an arts and entertainment magazine from Singapore. Current\r\n",
       "film reviews can be found at: <A HREF=\"http://www.inkpot.com/film/<HR>\">http://www.inkpot.com/film/<HR></A></P>\r\n",
       "<HR><P CLASS=flush><SMALL>The review above was posted to the\r\n",
       "<A HREF=\"news:rec.arts.movies.reviews\">rec.arts.movies.reviews</A> newsgroup (<A HREF=\"news:de.rec.film.kritiken\">de.rec.film.kritiken</A> for German reviews).<BR>\r\n",
       "The Internet Movie Database accepts no responsibility for the contents of the\r\n",
       "review and has no editorial control. Unless stated otherwise, the copyright\r\n",
       "belongs to the author.<BR>\r\n",
       "Please direct comments/criticisms of the review to relevant newsgroups.<BR>\r\n",
       "Broken URLs inthe reviews are the responsibility of the author.<BR>\r\n",
       "The formatting of the review is likely to differ from the original due\r\n",
       "to ASCII to HTML conversion.\r\n",
       "</SMALL></P>\r\n",
       "<P ALIGN=CENTER>Related links: <A HREF=\"/Reviews/\">index of all rec.arts.movies.reviews reviews</A></P>\r\n",
       "\r\n",
       "\r\n",
       "\r\n",
       "</P></BODY></HTML>\r\n"
      ],
      "text/plain": [
       "<IPython.core.display.HTML object>"
      ]
     },
     "metadata": {},
     "output_type": "display_data"
    }
   ],
   "source": [
    "show_index(very_wrong_idx[6])"
   ]
  },
  {
   "cell_type": "markdown",
   "id": "db4eaedc",
   "metadata": {},
   "source": [
    "Almost all the words picked up are not actually sentiment (\"PLOT: ... tries his best\", \"bad guy\", \"love interests\")"
   ]
  },
  {
   "cell_type": "code",
   "execution_count": 126,
   "id": "ff9cc5cf",
   "metadata": {
    "scrolled": false
   },
   "outputs": [
    {
     "name": "stdout",
     "output_type": "stream",
     "text": [
      "Movie: 28980, Label: pos, Score: -9\n"
     ]
    },
    {
     "data": {
      "text/html": [
       "<HTML><HEAD>\r\n",
       "<TITLE>Review for Planet of the Apes (2001)</TITLE>\r\n",
       "<LINK REL=\"STYLESHEET\" TYPE=\"text/css\" HREF=\"/ramr.css\">\r\n",
       "</HEAD>\r\n",
       "<BODY BGCOLOR=\"#FFFFFF\" TEXT=\"#000000\">\r\n",
       "<H1 ALIGN=\"CENTER\" CLASS=\"title\"><A HREF=\"/Title?0133152\">Planet of the Apes (2001)</A></H1><H3 ALIGN=CENTER>reviewed by<BR><A HREF=\"/ReviewsBy?JoBlo\">JoBlo</A></H3><HR WIDTH=\"40%\" SIZE=\"4\">\r\n",
       "<PRE>PLANET OF THE APES\r\n",
       "RATING: 7/10</PRE>\r\n",
       "<P>For more reviews and movie posters, visit <A HREF=\"http://www.joblo.com/\">http://www.joblo.com/</A></P>\r\n",
       "<P>PLOT:\r\n",
       "A human space astronaut accidentally falls upon a planet ruled by apes. He is\r\n",
       "taken prisoner along with some other humans, and tries his <span style=\"background: lightgreen;\">best</span> to escape his\r\n",
       "simian captors. Oh yeah, and did I mention that the apes can talk<span style=\"background: orange;\">?</span> Kewl<span style=\"background: orange;\">!</span></P>\r\n",
       "<P>CRITIQUE:\r\n",
       "Despite this film not looking like a \"Tim Burton movie\" or its lead human\r\n",
       "character showing any signs of being a human being himself, I did find myself\r\n",
       "generally entertained throughout most of this film and do recommend it as fun,\r\n",
       "summer fare. Although the thing that sets this movie apart from all others is\r\n",
       "definitely its incredible ape make-up jobs and characterizations. I mean, I was\r\n",
       "completely convinced that every single one of these apes was for real<span style=\"background: orange;\">!</span> I also\r\n",
       "have to \"give it up\" to all of the actors inside the costumes, not only for\r\n",
       "waking up at three in the morning every day to get make-up slobbered all over\r\n",
       "them for 2-4 hours, but for coming through their costumed exteriors and selling\r\n",
       "us their characters on the screen as well. I especially enjoyed Bonham Carter's\r\n",
       "performance, who I believed to be the most developed character in the entire\r\n",
       "film (human or ape) and Tim Roth's <span style=\"background: orange;\">bad</span> guy, who chewed up scenery and oozed evil\r\n",
       "in every scene in which he took part. Plot-wise, I liked the beginning of the\r\n",
       "film, the whole build-up once Wahlberg got into the village, the escape and most\r\n",
       "of the fight scenes, but once things got out into the deserted area (and the\r\n",
       "final battle sequence), I kinda lost a bit of my interest.</P>\r\n",
       "<P>I was much more intrigued by the interactions between the characters and the\r\n",
       "whole idea of \"human beings as animals\" then I was about the end battle\r\n",
       "sequence, which just seemed a bit too typical for this kind of film. I also\r\n",
       "hated the \"kid\" character who just got on my nerves and didn't really care for\r\n",
       "the way that the battle sequence was resolved (I won't ruin it here but c'mon\r\n",
       "guys...you coulda thought of something a little more plausible than that, no<span style=\"background: orange;\">?</span>).\r\n",
       "But the thing that held this movie back more than anything else was its lead\r\n",
       "character, his cold demeanor and the zero chemistry that he shared with either\r\n",
       "one of his inter-species <span style=\"background: lightgreen;\">love</span> interests. This dude didn't seem to give a rat's\r\n",
       "ass about anyone but himself and I ultimately didn't really care about what\r\n",
       "happened to him either. Now I'm not sure if this was the fault of the actor or\r\n",
       "the script, but the film suffered because of it.</P>\r\n",
       "<P>Visually, the movie was also nice to look at (especially the apes<span style=\"background: orange;\">!</span>), but I\r\n",
       "definitely expected greater coolness from Tim Burton. The \"surprise ending\" that\r\n",
       "highlighted the original PLANET OF THE APES film back in 1968, felt a little\r\n",
       "tacked on here, and despite being interesting, didn't really make all that much\r\n",
       "sense to me (unless you look at it from a sequel point of view). So overall, I\r\n",
       "loved the whole \"feel\" of the planet, the apes that ruled it, the manner in\r\n",
       "which they treated the humans, screamed, shouted and reverted the entire\r\n",
       "evolution chain, but didn't appreciate the film's lack of human character\r\n",
       "development (why was Kris Kristofferson even in this movie<span style=\"background: orange;\">?</span>) and the fact that\r\n",
       "its lead male and female humans were just plain <span style=\"background: orange;\">boring</span>. But I would <span style=\"background: lightgreen;\">still</span>\r\n",
       "recommend this film as a fun, summer movie with laughs, creepiness and a really\r\n",
       "cool premise.</P>\r\n",
       "<P>PS: For anyone who has seen the original, I cannot believe that they didn't AT\r\n",
       "LEAST bring back the scene in which the lead human character (in this case, Mark\r\n",
       "Wahlberg) goes nuts at the world in which he's suddenly been thrust (\"This is a\r\n",
       "mad house<span style=\"background: orange;\">!</span>\"- type of thing). The guy in this film barely seems to be \"put off\"\r\n",
       "by the fact that he's surrounded by apes who can speak English<span style=\"background: orange;\">!</span><span style=\"background: orange;\">!</span></P>\r\n",
       "<P>Where's JoBlo coming from<span style=\"background: orange;\">?</span>\r\n",
       "The Arrival (8/10) - Battlefield Earth (7/10) - Godzilla (4/10) - Instinct\r\n",
       "(6/10) - Mission to Mars (3/10) - Pitch Black (7/10) - (1968) Planet of the Apes\r\n",
       "(9/10) - Sleepy Hollow (8/10)</P>\r\n",
       "<PRE>Review Date: July 27, 2001\r\n",
       "Director: Tim Burton\r\n",
       "Writers: W. Broyles, L. Konner, M. Rosenthal \r\n",
       "Producer: Richard D. Zanuck \r\n",
       "Actors: Mark Wahlberg as Leo Davidson\r\n",
       "Helena Bonham Carter as Ari\r\n",
       "Tim Roth as General Thade\r\n",
       "Genre: Sci-Fi\r\n",
       "Year of Release: 2001\r\n",
       "------------------------------------ \r\n",
       "JoBlo's Movie Emporium\r\n",
       "<A HREF=\"http://www.joblo.com/\">http://www.joblo.com/</A>\r\n",
       "------------------------------------\r\n",
       "(c) 2001 Berge Garabedian</PRE>\r\n",
       "<PRE>==========\r\n",
       "X-RAMR-ID: 28980\r\n",
       "X-Language: en\r\n",
       "X-RT-ReviewID: 240276\r\n",
       "X-RT-TitleID: 1108704\r\n",
       "X-RT-SourceID: 573\r\n",
       "X-RT-AuthorID: 1021\r\n",
       "X-RT-RatingText: 7/10</PRE>\r\n",
       "<HR><P CLASS=flush><SMALL>The review above was posted to the\r\n",
       "<A HREF=\"news:rec.arts.movies.reviews\">rec.arts.movies.reviews</A> newsgroup (<A HREF=\"news:de.rec.film.kritiken\">de.rec.film.kritiken</A> for German reviews).<BR>\r\n",
       "The Internet Movie Database accepts no responsibility for the contents of the\r\n",
       "review and has no editorial control. Unless stated otherwise, the copyright\r\n",
       "belongs to the author.<BR>\r\n",
       "Please direct comments/criticisms of the review to relevant newsgroups.<BR>\r\n",
       "Broken URLs inthe reviews are the responsibility of the author.<BR>\r\n",
       "The formatting of the review is likely to differ from the original due\r\n",
       "to ASCII to HTML conversion.\r\n",
       "</SMALL></P>\r\n",
       "<P ALIGN=CENTER>Related links: <A HREF=\"/Reviews/\">index of all rec.arts.movies.reviews reviews</A></P>\r\n",
       "\r\n",
       "\r\n",
       "\r\n",
       "</P></BODY></HTML>\r\n"
      ],
      "text/plain": [
       "<IPython.core.display.HTML object>"
      ]
     },
     "metadata": {},
     "output_type": "display_data"
    }
   ],
   "source": [
    "show_index(very_wrong_idx[7])"
   ]
  },
  {
   "cell_type": "markdown",
   "id": "09201ea3",
   "metadata": {},
   "source": [
    "# Machine Learning Methods\n",
    "\n",
    "We'll now use traditional machine learning methods.\n",
    "For showing the different methods we'll use a small vocabulary from the human baseline.\n",
    "\n",
    "To keep this section reasonable length we'll use `sklearn` implementations of the methods."
   ]
  },
  {
   "cell_type": "code",
   "execution_count": 127,
   "id": "d638d62e",
   "metadata": {},
   "outputs": [
    {
     "data": {
      "text/plain": [
       "['love',\n",
       " 'wonderful',\n",
       " 'best',\n",
       " 'great',\n",
       " 'superb',\n",
       " 'still',\n",
       " 'beautiful',\n",
       " 'bad',\n",
       " 'worst',\n",
       " 'stupid',\n",
       " 'waste',\n",
       " 'boring',\n",
       " '?',\n",
       " '!']"
      ]
     },
     "execution_count": 127,
     "metadata": {},
     "output_type": "execute_result"
    }
   ],
   "source": [
    "vocab = positive3 + negative3\n",
    "vocab"
   ]
  },
  {
   "cell_type": "markdown",
   "id": "9a242973",
   "metadata": {},
   "source": [
    "We'll create a Feature vector from this vocabulary for each document"
   ]
  },
  {
   "cell_type": "code",
   "execution_count": 128,
   "id": "ff886d83",
   "metadata": {},
   "outputs": [
    {
     "data": {
      "text/plain": [
       "{'love': 0,\n",
       " 'wonderful': 0,\n",
       " 'best': 0,\n",
       " 'great': 1,\n",
       " 'superb': 0,\n",
       " 'still': 1,\n",
       " 'beautiful': 0,\n",
       " 'bad': 0,\n",
       " 'worst': 0,\n",
       " 'stupid': 0,\n",
       " 'waste': 0,\n",
       " 'boring': 0,\n",
       " '?': 1,\n",
       " '!': 0}"
      ]
     },
     "execution_count": 128,
     "metadata": {},
     "output_type": "execute_result"
    }
   ],
   "source": [
    "word_counts = [Counter(word for word in doc if word in vocab) for doc in X]\n",
    "\n",
    "X_feature = [[row[word] for word in vocab] for row in word_counts]\n",
    "\n",
    "dict(zip(vocab, X_feature[0]))"
   ]
  },
  {
   "cell_type": "markdown",
   "id": "0deeb1fb",
   "metadata": {},
   "source": [
    "And split it into train and test sets by the cvid"
   ]
  },
  {
   "cell_type": "code",
   "execution_count": 129,
   "id": "657e8b05",
   "metadata": {},
   "outputs": [
    {
     "data": {
      "text/plain": [
       "(921, 465, 921, 465)"
      ]
     },
     "execution_count": 129,
     "metadata": {},
     "output_type": "execute_result"
    }
   ],
   "source": [
    "X_train = [row for row, cvid in zip(X_feature, data['cvid']) if int(cvid) // 233 < 2]\n",
    "X_test = [row for row, cvid in zip(X_feature, data['cvid']) if int(cvid) // 233 >= 2]\n",
    "\n",
    "y_train = [row for row, cvid in zip(y, data['cvid']) if int(cvid) // 233 < 2]\n",
    "y_test = [row for row, cvid in zip(y, data['cvid']) if int(cvid) // 233 >= 2]\n",
    "\n",
    "len(X_train), len(X_test), len(y_train), len(y_test)"
   ]
  },
  {
   "cell_type": "markdown",
   "id": "a3f5dcf2",
   "metadata": {},
   "source": [
    "## Naive Bayes\n",
    "\n",
    "The text states they use Naive Bayes with add-1 smoothing (so in sklearn `alpha=1.0`):"
   ]
  },
  {
   "cell_type": "code",
   "execution_count": 130,
   "id": "ff8acd84",
   "metadata": {},
   "outputs": [
    {
     "data": {
      "text/plain": [
       "0.7161290322580646"
      ]
     },
     "execution_count": 130,
     "metadata": {},
     "output_type": "execute_result"
    }
   ],
   "source": [
    "from sklearn.naive_bayes import MultinomialNB\n",
    "\n",
    "\n",
    "nb = MultinomialNB(alpha=1.0)\n",
    "\n",
    "nb.fit(X_train, y_train)\n",
    "\n",
    "accuracy(nb.predict(X_test), y_test)"
   ]
  },
  {
   "cell_type": "markdown",
   "id": "b7748736",
   "metadata": {},
   "source": [
    "There is another way to do Naive Bayes where each word is taken as an independent feature, but it tends to be worse for NLP."
   ]
  },
  {
   "cell_type": "code",
   "execution_count": 131,
   "id": "763963ac",
   "metadata": {},
   "outputs": [
    {
     "data": {
      "text/plain": [
       "0.6666666666666666"
      ]
     },
     "execution_count": 131,
     "metadata": {},
     "output_type": "execute_result"
    }
   ],
   "source": [
    "from sklearn.naive_bayes import BernoulliNB\n",
    "\n",
    "\n",
    "nb = BernoulliNB(binarize=1.0, alpha=1.0)\n",
    "nb.fit(X_train, y_train)\n",
    "accuracy(nb.predict(X_test), y_test)"
   ]
  },
  {
   "cell_type": "code",
   "execution_count": 132,
   "id": "42689e27",
   "metadata": {},
   "outputs": [],
   "source": [
    "nb = MultinomialNB(alpha=1.0)"
   ]
  },
  {
   "cell_type": "markdown",
   "id": "98abaea4",
   "metadata": {},
   "source": [
    "## Maximum Entropy"
   ]
  },
  {
   "cell_type": "markdown",
   "id": "132660a1",
   "metadata": {},
   "source": [
    "Maximum Entropy is an old NLP term for Logistic Regression\n",
    "\n",
    "> We use ten iterations of the improved iterative scaling algorithm (Della Pietra et al., 1997) for parameter training (this was a sufficient number of iterations for convergence of training-data accuracy), together with a Gaussian prior to prevent overfitting (Chen and Rosenfeld, 2000).\n",
    "\n",
    "A Gaussian Prior is equivalent to an L2 penalty, but they don't specify the size of the prior and I can't access the referenced paper.\n",
    "I'll stick to the default in sklearn of `1.0` (the solver shouldn't matter much)."
   ]
  },
  {
   "cell_type": "code",
   "execution_count": 133,
   "id": "b33ccf82",
   "metadata": {},
   "outputs": [
    {
     "data": {
      "text/plain": [
       "0.6946236559139785"
      ]
     },
     "execution_count": 133,
     "metadata": {},
     "output_type": "execute_result"
    }
   ],
   "source": [
    "from sklearn.linear_model import LogisticRegression\n",
    "\n",
    "me = LogisticRegression(penalty='l2', solver='liblinear', C=1.0)\n",
    "\n",
    "me.fit(X_train, y_train)\n",
    "accuracy(me.predict(X_test), y_test)"
   ]
  },
  {
   "cell_type": "markdown",
   "id": "1aebc5b0",
   "metadata": {},
   "source": [
    "Note that the amount of regularization can actually matter.\n",
    "Ideally we'd keep a small holdout set for hyperparameter tuning, but I'll stick to the methods in the original."
   ]
  },
  {
   "cell_type": "code",
   "execution_count": 134,
   "id": "863957da",
   "metadata": {},
   "outputs": [
    {
     "data": {
      "text/plain": [
       "0.7075268817204301"
      ]
     },
     "execution_count": 134,
     "metadata": {},
     "output_type": "execute_result"
    }
   ],
   "source": [
    "me = LogisticRegression(penalty='l2', solver='liblinear', C=0.5)\n",
    "\n",
    "me.fit(X_train, y_train)\n",
    "accuracy(me.predict(X_test), y_test)"
   ]
  },
  {
   "cell_type": "code",
   "execution_count": 135,
   "id": "9d3304fa",
   "metadata": {},
   "outputs": [],
   "source": [
    "me = LogisticRegression(penalty='l2', solver='liblinear', C=1.0)"
   ]
  },
  {
   "cell_type": "markdown",
   "id": "c2cd1aef",
   "metadata": {},
   "source": [
    "## Support Vector Machines"
   ]
  },
  {
   "cell_type": "markdown",
   "id": "8ba0c7a0",
   "metadata": {},
   "source": [
    ">  We used Joachim’s (1999) SVM light package for training and testing, with all parameters set to their default values, after first length-normalizing the document vectors, as is standard (neglecting to normalize generally hurt performance slightly).\n",
    "\n",
    "There's little detail as to the hyperparameters again, so I'll use the default."
   ]
  },
  {
   "cell_type": "code",
   "execution_count": 136,
   "id": "61e11fbd",
   "metadata": {},
   "outputs": [
    {
     "data": {
      "text/plain": [
       "0.7290322580645161"
      ]
     },
     "execution_count": 136,
     "metadata": {},
     "output_type": "execute_result"
    }
   ],
   "source": [
    "from sklearn.svm import LinearSVC\n",
    "from sklearn.preprocessing import Normalizer\n",
    "from sklearn.pipeline import Pipeline\n",
    "\n",
    "svm = Pipeline([('norm', Normalizer(norm='l2')),\n",
    "                ('svc', LinearSVC(penalty='l2', loss='squared_hinge', C=1.0))])\n",
    "\n",
    "svm.fit(X_train, y_train)\n",
    "accuracy(svm.predict(X_test), y_test)"
   ]
  },
  {
   "cell_type": "markdown",
   "id": "e26156d8",
   "metadata": {},
   "source": [
    "I'm not clear on what length-normalizing is, but L2 normalizing looks like it works better than L1"
   ]
  },
  {
   "cell_type": "code",
   "execution_count": 137,
   "id": "d86d77c7",
   "metadata": {},
   "outputs": [
    {
     "data": {
      "text/plain": [
       "0.7118279569892473"
      ]
     },
     "execution_count": 137,
     "metadata": {},
     "output_type": "execute_result"
    }
   ],
   "source": [
    "svm = Pipeline([('norm', Normalizer(norm='l1')),\n",
    "                ('svc', LinearSVC(penalty='l2', loss='squared_hinge', C=1.0))])\n",
    "\n",
    "svm.fit(X_train, y_train)\n",
    "accuracy(svm.predict(X_test), y_test)"
   ]
  },
  {
   "cell_type": "markdown",
   "id": "c8b96dca",
   "metadata": {},
   "source": [
    "And this works better than not normalizing it at all"
   ]
  },
  {
   "cell_type": "code",
   "execution_count": 138,
   "id": "eb1a4f44",
   "metadata": {},
   "outputs": [
    {
     "name": "stderr",
     "output_type": "stream",
     "text": [
      "/home/eross/mambaforge/envs/pang_lee_2003/lib/python3.8/site-packages/sklearn/svm/_base.py:1244: ConvergenceWarning: Liblinear failed to converge, increase the number of iterations.\n",
      "  warnings.warn(\n"
     ]
    },
    {
     "data": {
      "text/plain": [
       "0.6967741935483871"
      ]
     },
     "execution_count": 138,
     "metadata": {},
     "output_type": "execute_result"
    }
   ],
   "source": [
    "svm = LinearSVC(penalty='l2', loss='squared_hinge', C=1.0)\n",
    "\n",
    "svm.fit(X_train, y_train)\n",
    "accuracy(svm.predict(X_test), y_test)"
   ]
  },
  {
   "cell_type": "markdown",
   "id": "eb20f201",
   "metadata": {},
   "source": [
    "As with Maximum Entropy it's sensitive to the amount of regularizaiton."
   ]
  },
  {
   "cell_type": "code",
   "execution_count": 139,
   "id": "9402c1dd",
   "metadata": {},
   "outputs": [
    {
     "data": {
      "text/plain": [
       "0.7311827956989247"
      ]
     },
     "execution_count": 139,
     "metadata": {},
     "output_type": "execute_result"
    }
   ],
   "source": [
    "svm = Pipeline([('norm', Normalizer(norm='l2')),\n",
    "                ('svc', LinearSVC(penalty='l2', loss='squared_hinge', C=2.0))])\n",
    "\n",
    "svm.fit(X_train, y_train)\n",
    "accuracy(svm.predict(X_test), y_test)"
   ]
  },
  {
   "cell_type": "markdown",
   "id": "f7c21c4f",
   "metadata": {},
   "source": [
    "We'll reset everything to the defaults"
   ]
  },
  {
   "cell_type": "code",
   "execution_count": 140,
   "id": "c5dbe22d",
   "metadata": {},
   "outputs": [],
   "source": [
    "svm = Pipeline([('norm', Normalizer(norm='l2')),\n",
    "                ('svc', LinearSVC(penalty='l2', loss='squared_hinge', C=1.0))])"
   ]
  },
  {
   "cell_type": "markdown",
   "id": "599d8d9d",
   "metadata": {},
   "source": [
    "# Evaluation"
   ]
  },
  {
   "cell_type": "markdown",
   "id": "25693b23",
   "metadata": {},
   "source": [
    "## Experimental Set-up\n"
   ]
  },
  {
   "cell_type": "code",
   "execution_count": 141,
   "id": "9fc60a1d",
   "metadata": {},
   "outputs": [],
   "source": [
    "from sklearn.feature_extraction.text import CountVectorizer\n",
    "from sklearn.pipeline import Pipeline, FeatureUnion\n",
    "\n",
    "from sklearn.model_selection import cross_val_score\n",
    "from sklearn.metrics import accuracy_score"
   ]
  },
  {
   "cell_type": "markdown",
   "id": "bc721fac",
   "metadata": {},
   "source": [
    "> we randomly selected 700 positive-sentiment and 700 negative-sentiment documents"
   ]
  },
  {
   "cell_type": "code",
   "execution_count": 142,
   "id": "59117292",
   "metadata": {},
   "outputs": [
    {
     "data": {
      "text/plain": [
       "Counter({0: 692, 1: 694})"
      ]
     },
     "execution_count": 142,
     "metadata": {},
     "output_type": "execute_result"
    }
   ],
   "source": [
    "Counter(y)"
   ]
  },
  {
   "cell_type": "markdown",
   "id": "49a1caee",
   "metadata": {},
   "source": [
    "> We then divided this data into three equal-sized folds, maintaining balanced class distributions in each fold. "
   ]
  },
  {
   "cell_type": "code",
   "execution_count": 143,
   "id": "8cf80f2d",
   "metadata": {},
   "outputs": [
    {
     "data": {
      "text/plain": [
       "[459, 462, 463]"
      ]
     },
     "execution_count": 143,
     "metadata": {},
     "output_type": "execute_result"
    }
   ],
   "source": [
    "folds = [[idx for idx, cvid in enumerate(data['cvid']) if int(cvid) // 233 == i] for i in range(3)]\n",
    "\n",
    "[len(f) for f in folds]"
   ]
  },
  {
   "cell_type": "code",
   "execution_count": 144,
   "id": "7f46acda",
   "metadata": {},
   "outputs": [],
   "source": [
    "cv = [(folds[0] + folds[1], folds[2]),\n",
    "      (folds[0] + folds[2], folds[1]),\n",
    "      (folds[1] + folds[2], folds[0]),\n",
    "     ]"
   ]
  },
  {
   "cell_type": "markdown",
   "id": "88cd8509",
   "metadata": {},
   "source": [
    "> One unconventional step we took was to attempt\n",
    "to model the potentially important contextual effect\n",
    "of negation: clearly “good” and “not very good” indicate opposite sentiment orientations.\n",
    "> Adapting a\n",
    "technique of Das and Chen (2001), we added the tag\n",
    "NOT to every word between a negation word (“not”,\n",
    "“isn’t”, “didn’t”, etc.) and the first punctuation\n",
    "mark following the negation word.\n",
    "\n",
    "To do this we can first get the negation words with a surprisingly effective heuristic:"
   ]
  },
  {
   "cell_type": "code",
   "execution_count": 145,
   "id": "c198b02b",
   "metadata": {},
   "outputs": [
    {
     "data": {
      "text/plain": [
       "['not',\n",
       " \"doesn't\",\n",
       " \"don't\",\n",
       " \"isn't\",\n",
       " \"can't\",\n",
       " \"didn't\",\n",
       " \"wasn't\",\n",
       " \"aren't\",\n",
       " \"won't\",\n",
       " \"couldn't\",\n",
       " \"wouldn't\",\n",
       " 'cannot',\n",
       " \"haven't\",\n",
       " \"hasn't\",\n",
       " \"weren't\",\n",
       " \"shouldn't\",\n",
       " \"ain't\",\n",
       " \"hadn't\"]"
      ]
     },
     "execution_count": 145,
     "metadata": {},
     "output_type": "execute_result"
    }
   ],
   "source": [
    "words = Counter(word for text in X for word in text)\n",
    "\n",
    "negation_words = [w for (w,c) in words.most_common(10_000) if re.match(\".*n[o']t$\", w)]\n",
    "negation_words"
   ]
  },
  {
   "cell_type": "markdown",
   "id": "f398f546",
   "metadata": {},
   "source": [
    "Then we can use a simple finite state machine to add the negation tokens."
   ]
  },
  {
   "cell_type": "code",
   "execution_count": 146,
   "id": "aeabb954",
   "metadata": {},
   "outputs": [
    {
     "data": {
      "text/plain": [
       "\"this isn't NOT_a NOT_great NOT_movie , it is terrible\""
      ]
     },
     "execution_count": 146,
     "metadata": {},
     "output_type": "execute_result"
    }
   ],
   "source": [
    "punctuation = '!?.,()[];:,\"'\n",
    "\n",
    "def negation_mark(x):\n",
    "    return 'NOT_' + x\n",
    "\n",
    "def add_negation_tag(tokens, negation_words=negation_words, punctuation=punctuation, negation_mark=negation_mark):\n",
    "    in_negation = False\n",
    "    tagged_tokens = []\n",
    "    for token in tokens:\n",
    "        if token in negation_words:\n",
    "            in_negation = not in_negation\n",
    "        elif token in punctuation:\n",
    "            in_negation = False\n",
    "        elif in_negation:\n",
    "            token = negation_mark(token)\n",
    "            \n",
    "        tagged_tokens.append(token)\n",
    "        \n",
    "    return tagged_tokens\n",
    "\n",
    "def text_add_negation_tag(s: str, **kwargs) -> str:\n",
    "    return ' '.join(add_negation_tag(tokens=s.split(), **kwargs))\n",
    "\n",
    "text_add_negation_tag(\"this isn't a great movie , it is terrible\")"
   ]
  },
  {
   "cell_type": "markdown",
   "id": "0d4c97ef",
   "metadata": {},
   "source": [
    "> For this study, we focused on features based on unigrams (with negation tagging) and bigrams.\n",
    "> Because training MaxEnt is expensive in the number of features, we limited consideration to (1) the 16165 unigrams appearing at least four times in our 1400-document corpus\n",
    "> (lower count cutoffs did not yield significantly different results), and (2) the 16165 bigrams occurring most often in the same data (the selected bigrams all occurred at least seven times).\n",
    "> Note that we did not add negation tags to the bigrams, since we consider bigrams (and n-grams in general) to be an orthogonal way to incorporate context.\n",
    "\n",
    "There's a slight issue here in using the vocabulary based on the entire dataset; the features should only be selected by the data in each fold otherwise you could be overfitting.\n",
    "\n",
    "We'll be making lots of this so we'll make a factory function to remove some of the boilerplate."
   ]
  },
  {
   "cell_type": "code",
   "execution_count": 147,
   "id": "ef8c060e",
   "metadata": {},
   "outputs": [],
   "source": [
    "def make_count_vectorizer(\n",
    "    max_features=16165,\n",
    "    input='content',\n",
    "    token_pattern=r\"[^ ]+\",\n",
    "    ngram_range=(1,1),\n",
    "    preprocessor=None,\n",
    "    binary=True):\n",
    "    return CountVectorizer(input=input,\n",
    "                          token_pattern=token_pattern,\n",
    "                          ngram_range=ngram_range,\n",
    "                          preprocessor=preprocessor,\n",
    "                          max_features=max_features,\n",
    "                          binary=binary)\n",
    "\n",
    "unigram_freq_vectorizer = make_count_vectorizer(preprocessor=text_add_negation_tag, binary=False)\n",
    "\n",
    "unigram_vectorizer = make_count_vectorizer(preprocessor=text_add_negation_tag)\n",
    "\n",
    "bigram_vectorizer = make_count_vectorizer(ngram_range=(2,2))"
   ]
  },
  {
   "cell_type": "markdown",
   "id": "e23fec8c",
   "metadata": {},
   "source": [
    "## Results\n",
    "\n",
    "From the README there's an updated Figure 3\n",
    "\n",
    "| | Features          | # features | NB   | ME   | SVM  |\n",
    "|-|-------------------|------------|------|------|------|\n",
    "|1| unigrams (freq.)  | 16162      | 79.0 | n/a  | 73.0 |\n",
    "|2| unigrams          | 16162      | 81.0 | 80.2 | 82.9 |\n",
    "|3| unigrams+bigrams  | 32324      | 80.7 | 80.7 | 82.8 |\n",
    "|4| bigrams           | 16162      | 77.3 | 77.5 | 76.5 |\n",
    "|5| unigrams+POS      | 16688      | 81.3 | 80.3 | 82.0 |\n",
    "|6| adjectives        | 2631       | 76.6 | 77.6 | 75.3 |\n",
    "|7| top 2631 unigrams | 2631       | 80.9 | 81.3 | 81.2 |\n",
    "|8| unigrams+position | 22407      | 80.8 | 79.8 | 81.8 |\n"
   ]
  },
  {
   "cell_type": "markdown",
   "id": "6c45cb8a",
   "metadata": {},
   "source": [
    "For each feature function (row in the table) we want to apply it followed by each of the 3 types of classifiers\n",
    "\n",
    "> All results reported below, as well as the baseline results from Section 4,\n",
    "are the average three-fold cross-validation results on this data.\n",
    "\n",
    "We can use `cross_val_score` to do the cross-validation."
   ]
  },
  {
   "cell_type": "code",
   "execution_count": 148,
   "id": "086c5197",
   "metadata": {},
   "outputs": [],
   "source": [
    "models = {\n",
    "    'NB': nb,\n",
    "    'ME': me,\n",
    "    'SVM': svm\n",
    "}\n",
    "\n",
    "results = {}\n",
    "\n",
    "def evaluate(vectorizer):\n",
    "    results = {}\n",
    "    for model_name, model in models.items():\n",
    "        pipeline = Pipeline(steps=[('Vectorizer', vectorizer), ('model', model)])\n",
    "        cv_score = cross_val_score(pipeline, data['text'], y, cv=cv, scoring='accuracy')\n",
    "        results[model_name] = cv_score.mean()\n",
    "    return results"
   ]
  },
  {
   "cell_type": "markdown",
   "id": "f5463fc0",
   "metadata": {},
   "source": [
    "### Initial Unigram Results"
   ]
  },
  {
   "cell_type": "markdown",
   "id": "31d3acc5",
   "metadata": {},
   "source": [
    "We can show the results to compare with the table"
   ]
  },
  {
   "cell_type": "code",
   "execution_count": 149,
   "id": "a271b573",
   "metadata": {},
   "outputs": [],
   "source": [
    "def display_results(results):\n",
    "    print('\\t'.join(results))\n",
    "    print('\\t'.join([f'{v:0.1%}' for v in results.values()]))"
   ]
  },
  {
   "cell_type": "markdown",
   "id": "512e972d",
   "metadata": {},
   "source": [
    "This does a little better than the table from the README, which is surprising especially for Naive Bayes which is deterministic with no tunable parameters."
   ]
  },
  {
   "cell_type": "code",
   "execution_count": 150,
   "id": "070e7f1a",
   "metadata": {
    "scrolled": true
   },
   "outputs": [
    {
     "name": "stdout",
     "output_type": "stream",
     "text": [
      "NB\tME\tSVM\n",
      "80.3%\t80.5%\t77.0%\n"
     ]
    }
   ],
   "source": [
    "results['unigram_freq'] = evaluate(unigram_freq_vectorizer)\n",
    "\n",
    "display_results(results['unigram_freq'])"
   ]
  },
  {
   "cell_type": "markdown",
   "id": "0b1a01d0",
   "metadata": {},
   "source": [
    "### Feature frequency vs. presence"
   ]
  },
  {
   "cell_type": "markdown",
   "id": "21f97112",
   "metadata": {},
   "source": [
    "As in the paper using presence features gives a significant lift, but again all the accuracies are much higher here.\n",
    "In particular Maximum Entropy (Logistic Regression) is higher than Naive Bayes here and much closer to SVM, which suggests there could be poor regularisation in the original."
   ]
  },
  {
   "cell_type": "code",
   "execution_count": 151,
   "id": "ba1c26a6",
   "metadata": {},
   "outputs": [
    {
     "name": "stdout",
     "output_type": "stream",
     "text": [
      "NB\tME\tSVM\n",
      "81.9%\t84.2%\t84.4%\n"
     ]
    }
   ],
   "source": [
    "results['unigram'] = evaluate(unigram_vectorizer)\n",
    "\n",
    "display_results(results['unigram'])"
   ]
  },
  {
   "cell_type": "markdown",
   "id": "6bcb1dd2",
   "metadata": {},
   "source": [
    "### Bigrams "
   ]
  },
  {
   "cell_type": "markdown",
   "id": "131061eb",
   "metadata": {},
   "source": [
    "> Line (3) of the results table shows that bigram\n",
    "information does not improve performance beyond\n",
    "that of unigram presence, although adding in the bigrams does not seriously impact the results, even for\n",
    "Naive Bayes\n",
    "\n",
    "This is still observed here, but again our results are slightly higher than the authors."
   ]
  },
  {
   "cell_type": "code",
   "execution_count": 152,
   "id": "927e554f",
   "metadata": {},
   "outputs": [
    {
     "name": "stdout",
     "output_type": "stream",
     "text": [
      "NB\tME\tSVM\n",
      "80.7%\t83.8%\t84.4%\n"
     ]
    }
   ],
   "source": [
    "results['unigram_bigram'] = evaluate(FeatureUnion([('unigram', unigram_vectorizer), ('bigram', bigram_vectorizer)]))\n",
    "\n",
    "display_results(results['unigram_bigram'])"
   ]
  },
  {
   "cell_type": "markdown",
   "id": "0e13bb78",
   "metadata": {},
   "source": [
    "We have similar observations for bigrams:\n",
    "\n",
    "> However, comparing line (4) to line (2) shows that relying just on bigrams causes accuracy to decline by as much as 5.8 percentage points. "
   ]
  },
  {
   "cell_type": "code",
   "execution_count": 153,
   "id": "f97fb83b",
   "metadata": {},
   "outputs": [
    {
     "name": "stdout",
     "output_type": "stream",
     "text": [
      "NB\tME\tSVM\n",
      "77.6%\t78.0%\t78.3%\n"
     ]
    }
   ],
   "source": [
    "results['bigram'] = evaluate(bigram_vectorizer)\n",
    "\n",
    "display_results(results['bigram'])"
   ]
  },
  {
   "cell_type": "markdown",
   "id": "09c69cc2",
   "metadata": {},
   "source": [
    "We see a marginally larger decline"
   ]
  },
  {
   "cell_type": "code",
   "execution_count": 154,
   "id": "de3ee402",
   "metadata": {},
   "outputs": [
    {
     "data": {
      "text/plain": [
       "{'NB': '-4.26%', 'ME': '-6.14%', 'SVM': '-6.07%'}"
      ]
     },
     "execution_count": 154,
     "metadata": {},
     "output_type": "execute_result"
    }
   ],
   "source": [
    "{k: f\"{results['bigram'][k] - results['unigram'][k] :0.2%}\" for k in results['bigram']}"
   ]
  },
  {
   "cell_type": "markdown",
   "id": "1df476da",
   "metadata": {},
   "source": [
    "### Parts of speech\n",
    "\n",
    "> We also experimented with appending POS tags to every word via Oliver Mason’s Qtag program\n",
    "\n",
    "Unfortunately I can't access [QTag](https://web.archive.org/web/20071005185742/http://www.english.bham.ac.uk/staff/omason/software/qtag.html), but instead will use a much more modern (and likely more accurate) [Averaged Perceptron Tagger](https://explosion.ai/blog/part-of-speech-pos-tagger-in-python) from NLTK.\n",
    "It's relatively expensive so I'll cache the calculations across models."
   ]
  },
  {
   "cell_type": "code",
   "execution_count": 155,
   "id": "e8c2459a",
   "metadata": {},
   "outputs": [
    {
     "name": "stderr",
     "output_type": "stream",
     "text": [
      "[nltk_data] Downloading package averaged_perceptron_tagger to\n",
      "[nltk_data]     /home/eross/nltk_data...\n",
      "[nltk_data]   Package averaged_perceptron_tagger is already up-to-\n",
      "[nltk_data]       date!\n"
     ]
    },
    {
     "data": {
      "text/plain": [
       "[('The', 'DT'),\n",
       " ('quick', 'JJ'),\n",
       " ('brown', 'NN'),\n",
       " ('fox', 'NN'),\n",
       " ('jumped', 'VBD'),\n",
       " ('over', 'IN'),\n",
       " ('the', 'DT'),\n",
       " ('lazy', 'JJ'),\n",
       " ('dog.', 'NN')]"
      ]
     },
     "execution_count": 155,
     "metadata": {},
     "output_type": "execute_result"
    }
   ],
   "source": [
    "import nltk\n",
    "from functools import lru_cache\n",
    "\n",
    "nltk.download('averaged_perceptron_tagger')\n",
    "\n",
    "@lru_cache(maxsize=None)\n",
    "def pos_tag(doc):\n",
    "    return nltk.pos_tag(doc.split())\n",
    "\n",
    "pos_tag('The quick brown fox jumped over the lazy dog.')"
   ]
  },
  {
   "cell_type": "markdown",
   "id": "dfa10ab8",
   "metadata": {},
   "source": [
    "We can then append the tags as follows:"
   ]
  },
  {
   "cell_type": "code",
   "execution_count": 156,
   "id": "b3bcf449",
   "metadata": {},
   "outputs": [
    {
     "data": {
      "text/plain": [
       "['united_JJ',\n",
       " 'states_NNS',\n",
       " ',_,',\n",
       " '1998_CD',\n",
       " 'u_NN',\n",
       " '._.',\n",
       " 's_NN',\n",
       " '._.',\n",
       " 'release_NN',\n",
       " 'date_NN']"
      ]
     },
     "execution_count": 156,
     "metadata": {},
     "output_type": "execute_result"
    }
   ],
   "source": [
    "def pos_marker(doc):\n",
    "    return ' '.join([token + '_' + tag for token, tag in pos_tag(doc)])\n",
    "\n",
    "pos_marker(data['text'][0]).split()[:10]"
   ]
  },
  {
   "cell_type": "markdown",
   "id": "a004c53f",
   "metadata": {},
   "source": [
    "\n",
    "> However, the effect of this information seems to be a wash: as depicted in\n",
    "line (5) of Figure 3, the accuracy improves slightly for Naive Bayes but declines for SVMs, and the performance of MaxEnt is unchanged.\n",
    "\n",
    "We actually get worse results across the board"
   ]
  },
  {
   "cell_type": "code",
   "execution_count": 157,
   "id": "441e7a07",
   "metadata": {},
   "outputs": [
    {
     "name": "stdout",
     "output_type": "stream",
     "text": [
      "NB\tME\tSVM\n",
      "80.6%\t82.4%\t82.5%\n"
     ]
    }
   ],
   "source": [
    "unigram_pos_vectorizer = make_count_vectorizer(preprocessor=pos_marker)\n",
    "\n",
    "results['unigram_pos'] = evaluate(unigram_pos_vectorizer)\n",
    "\n",
    "display_results(results['unigram_pos'])"
   ]
  },
  {
   "cell_type": "code",
   "execution_count": 158,
   "id": "579280e6",
   "metadata": {},
   "outputs": [
    {
     "name": "stdout",
     "output_type": "stream",
     "text": [
      "NB\tME\tSVM\n",
      "81.9%\t84.2%\t84.4%\n"
     ]
    }
   ],
   "source": [
    "display_results(results['unigram'])"
   ]
  },
  {
   "cell_type": "markdown",
   "id": "58b79666",
   "metadata": {},
   "source": [
    "It's not the effect of dropping negations either(in fact that makes Naive Bayes and SVM do slightly better)"
   ]
  },
  {
   "cell_type": "code",
   "execution_count": 159,
   "id": "23cf3018",
   "metadata": {},
   "outputs": [
    {
     "name": "stdout",
     "output_type": "stream",
     "text": [
      "NB\tME\tSVM\n",
      "82.2%\t82.9%\t83.3%\n"
     ]
    }
   ],
   "source": [
    "unigram_no_negation_vectorizer = make_count_vectorizer(preprocessor=None)\n",
    "\n",
    "\n",
    "display_results(evaluate(unigram_no_negation_vectorizer))"
   ]
  },
  {
   "cell_type": "markdown",
   "id": "0b46259c",
   "metadata": {},
   "source": [
    "> Since adjectives have been a focus of previous work in sentiment detection (Hatzivassiloglou and Wiebe,\n",
    "2000; Turney, 2002), we looked at the performance of using adjectives alone."
   ]
  },
  {
   "cell_type": "code",
   "execution_count": 160,
   "id": "2768dd87",
   "metadata": {},
   "outputs": [
    {
     "data": {
      "text/plain": [
       "\"united wide mpaa male full-frontal female graphic sexual frequent theatrical daphne murray liber kimball wild dreary early frontal late early lucrative mtv fast-paced slick flashy mindless wild first eleven convincing much flesh narrative wild real increasingly- improbable predictable serpentine idiotic steven seagal easy unlikely right wrong good next hot young old screen i'll film's erotic impressive wild risqué soft-core generic much lesbian token iron-clad film's full kevin few fully-clothed thirteenth titanic familiar wild john last finely-tuned psychological normal copious real powerful difficult same i mainstream previous wide-release mad box-office quick pretty main wild occasional sam matt florida's blue high curvaceous van theresa daphne skeptical suzie neve similar wild isn't good much ludicrous triple-digit on-screen nice slutty see-through one-piece kevin only interesting right secret wild absurd basic kinetic wild great superficial trash\""
      ]
     },
     "execution_count": 160,
     "metadata": {},
     "output_type": "execute_result"
    }
   ],
   "source": [
    "def adjective_extractor(doc):\n",
    "    adjectives = [token for token, tag in pos_tag(doc) if tag == 'JJ']\n",
    "    return ' '.join(adjectives)\n",
    "\n",
    "adjective_extractor(data['text'][0])"
   ]
  },
  {
   "cell_type": "markdown",
   "id": "786d6917",
   "metadata": {},
   "source": [
    ">  Yet, the results, shown in line (6) of Figure 3, are relatively poor: the 2633 adjectives provide less useful information than unigram presence."
   ]
  },
  {
   "cell_type": "code",
   "execution_count": 161,
   "id": "c679595a",
   "metadata": {},
   "outputs": [
    {
     "name": "stdout",
     "output_type": "stream",
     "text": [
      "NB\tME\tSVM\n",
      "77.2%\t76.2%\t76.2%\n"
     ]
    }
   ],
   "source": [
    "adjective_vectorizer = make_count_vectorizer(preprocessor=lambda x: adjective_extractor(text_add_negation_tag(x)),\n",
    "                                             max_features=2633)\n",
    "\n",
    "results['adjective'] = evaluate(adjective_vectorizer)\n",
    "\n",
    "display_results(results['adjective'])"
   ]
  },
  {
   "cell_type": "markdown",
   "id": "d702c9b1",
   "metadata": {},
   "source": [
    "> Indeed, line (7) shows that simply using the 2633 most frequent unigrams is a better choice, yielding performance comparable to that of using (the presence of) all 16165 (line (2))."
   ]
  },
  {
   "cell_type": "code",
   "execution_count": 162,
   "id": "777be5aa",
   "metadata": {},
   "outputs": [
    {
     "name": "stdout",
     "output_type": "stream",
     "text": [
      "NB\tME\tSVM\n",
      "81.0%\t81.9%\t83.2%\n"
     ]
    }
   ],
   "source": [
    "unigram_2633_vectorizer = make_count_vectorizer(preprocessor=text_add_negation_tag, max_features=2633)\n",
    "\n",
    "results['unigram_2633'] = evaluate(unigram_2633_vectorizer)\n",
    "\n",
    "display_results(results['unigram_2633'])"
   ]
  },
  {
   "cell_type": "markdown",
   "id": "e507bda4",
   "metadata": {},
   "source": [
    "### Position\n",
    "\n",
    "> As a rough approximation to determining this kind of structure, we tagged each word\n",
    "according to whether it appeared in the first quarter, last quarter, or middle half of the document."
   ]
  },
  {
   "cell_type": "code",
   "execution_count": 163,
   "id": "f5b565a0",
   "metadata": {},
   "outputs": [
    {
     "data": {
      "text/plain": [
       "'this_0 is_0 an_1 example_1 text_2 with_2 several_3 words_3 in_4 it_4'"
      ]
     },
     "execution_count": 163,
     "metadata": {},
     "output_type": "execute_result"
    }
   ],
   "source": [
    "def quartile_marker(doc):\n",
    "    tokens = doc.split()\n",
    "    quartile = len(tokens) // 4\n",
    "    output_tokens = [ token + f'_{i // quartile}' for i, token in enumerate(tokens)]\n",
    "    return ' '.join(output_tokens)\n",
    "\n",
    "quartile_marker('this is an example text with several words in it')"
   ]
  },
  {
   "cell_type": "markdown",
   "id": "86ac2750",
   "metadata": {},
   "source": [
    "I suspect they kept the top vocabulary across the whole document, but we will generate it by quartile.\n",
    "\n",
    "> The results (line (8)) didn’t differ greatly from using unigrams alone, but more refined notions of position might be more successful."
   ]
  },
  {
   "cell_type": "code",
   "execution_count": 164,
   "id": "26c8f5b4",
   "metadata": {},
   "outputs": [
    {
     "name": "stdout",
     "output_type": "stream",
     "text": [
      "NB\tME\tSVM\n",
      "78.7%\t79.8%\t80.1%\n"
     ]
    }
   ],
   "source": [
    "position_vectorizer =  make_count_vectorizer(preprocessor=quartile_marker, max_features=22430)\n",
    "\n",
    "results['position'] = evaluate(position_vectorizer)\n",
    "\n",
    "display_results(results['position'])"
   ]
  },
  {
   "cell_type": "markdown",
   "id": "964dc036",
   "metadata": {},
   "source": [
    "Let's see all our results"
   ]
  },
  {
   "cell_type": "code",
   "execution_count": 165,
   "id": "e557e4a6",
   "metadata": {},
   "outputs": [
    {
     "data": {
      "text/html": [
       "<style type=\"text/css\">\n",
       "</style>\n",
       "<table id=\"T_181e4\">\n",
       "  <thead>\n",
       "    <tr>\n",
       "      <th class=\"blank level0\" >&nbsp;</th>\n",
       "      <th id=\"T_181e4_level0_col0\" class=\"col_heading level0 col0\" >NB</th>\n",
       "      <th id=\"T_181e4_level0_col1\" class=\"col_heading level0 col1\" >ME</th>\n",
       "      <th id=\"T_181e4_level0_col2\" class=\"col_heading level0 col2\" >SVM</th>\n",
       "    </tr>\n",
       "  </thead>\n",
       "  <tbody>\n",
       "    <tr>\n",
       "      <th id=\"T_181e4_level0_row0\" class=\"row_heading level0 row0\" >unigram_freq</th>\n",
       "      <td id=\"T_181e4_row0_col0\" class=\"data row0 col0\" >80.3%</td>\n",
       "      <td id=\"T_181e4_row0_col1\" class=\"data row0 col1\" >80.5%</td>\n",
       "      <td id=\"T_181e4_row0_col2\" class=\"data row0 col2\" >77.0%</td>\n",
       "    </tr>\n",
       "    <tr>\n",
       "      <th id=\"T_181e4_level0_row1\" class=\"row_heading level0 row1\" >unigram</th>\n",
       "      <td id=\"T_181e4_row1_col0\" class=\"data row1 col0\" >81.9%</td>\n",
       "      <td id=\"T_181e4_row1_col1\" class=\"data row1 col1\" >84.2%</td>\n",
       "      <td id=\"T_181e4_row1_col2\" class=\"data row1 col2\" >84.4%</td>\n",
       "    </tr>\n",
       "    <tr>\n",
       "      <th id=\"T_181e4_level0_row2\" class=\"row_heading level0 row2\" >unigram_bigram</th>\n",
       "      <td id=\"T_181e4_row2_col0\" class=\"data row2 col0\" >80.7%</td>\n",
       "      <td id=\"T_181e4_row2_col1\" class=\"data row2 col1\" >83.8%</td>\n",
       "      <td id=\"T_181e4_row2_col2\" class=\"data row2 col2\" >84.4%</td>\n",
       "    </tr>\n",
       "    <tr>\n",
       "      <th id=\"T_181e4_level0_row3\" class=\"row_heading level0 row3\" >bigram</th>\n",
       "      <td id=\"T_181e4_row3_col0\" class=\"data row3 col0\" >77.6%</td>\n",
       "      <td id=\"T_181e4_row3_col1\" class=\"data row3 col1\" >78.0%</td>\n",
       "      <td id=\"T_181e4_row3_col2\" class=\"data row3 col2\" >78.3%</td>\n",
       "    </tr>\n",
       "    <tr>\n",
       "      <th id=\"T_181e4_level0_row4\" class=\"row_heading level0 row4\" >unigram_pos</th>\n",
       "      <td id=\"T_181e4_row4_col0\" class=\"data row4 col0\" >80.6%</td>\n",
       "      <td id=\"T_181e4_row4_col1\" class=\"data row4 col1\" >82.4%</td>\n",
       "      <td id=\"T_181e4_row4_col2\" class=\"data row4 col2\" >82.5%</td>\n",
       "    </tr>\n",
       "    <tr>\n",
       "      <th id=\"T_181e4_level0_row5\" class=\"row_heading level0 row5\" >adjective</th>\n",
       "      <td id=\"T_181e4_row5_col0\" class=\"data row5 col0\" >77.2%</td>\n",
       "      <td id=\"T_181e4_row5_col1\" class=\"data row5 col1\" >76.2%</td>\n",
       "      <td id=\"T_181e4_row5_col2\" class=\"data row5 col2\" >76.2%</td>\n",
       "    </tr>\n",
       "    <tr>\n",
       "      <th id=\"T_181e4_level0_row6\" class=\"row_heading level0 row6\" >unigram_2633</th>\n",
       "      <td id=\"T_181e4_row6_col0\" class=\"data row6 col0\" >81.0%</td>\n",
       "      <td id=\"T_181e4_row6_col1\" class=\"data row6 col1\" >81.9%</td>\n",
       "      <td id=\"T_181e4_row6_col2\" class=\"data row6 col2\" >83.2%</td>\n",
       "    </tr>\n",
       "    <tr>\n",
       "      <th id=\"T_181e4_level0_row7\" class=\"row_heading level0 row7\" >position</th>\n",
       "      <td id=\"T_181e4_row7_col0\" class=\"data row7 col0\" >78.7%</td>\n",
       "      <td id=\"T_181e4_row7_col1\" class=\"data row7 col1\" >79.8%</td>\n",
       "      <td id=\"T_181e4_row7_col2\" class=\"data row7 col2\" >80.1%</td>\n",
       "    </tr>\n",
       "  </tbody>\n",
       "</table>\n"
      ],
      "text/plain": [
       "<pandas.io.formats.style.Styler at 0x7f7be6977910>"
      ]
     },
     "execution_count": 165,
     "metadata": {},
     "output_type": "execute_result"
    }
   ],
   "source": [
    "import pandas as pd\n",
    "\n",
    "pd.DataFrame(results).T.style.format('{:0.1%}')"
   ]
  },
  {
   "cell_type": "markdown",
   "id": "6fe97e23",
   "metadata": {},
   "source": [
    "Which is comparable to the original table\n",
    "\n",
    "\n",
    "| | Features          | # features | NB   | ME   | SVM  |\n",
    "|-|-------------------|------------|------|------|------|\n",
    "|1| unigrams (freq.)  | 16162      | 79.0 | n/a  | 73.0 |\n",
    "|2| unigrams          | 16162      | 81.0 | 80.2 | 82.9 |\n",
    "|3| unigrams+bigrams  | 32324      | 80.7 | 80.7 | 82.8 |\n",
    "|4| bigrams           | 16162      | 77.3 | 77.5 | 76.5 |\n",
    "|5| unigrams+POS      | 16688      | 81.3 | 80.3 | 82.0 |\n",
    "|6| adjectives        | 2631       | 76.6 | 77.6 | 75.3 |\n",
    "|7| top 2631 unigrams | 2631       | 80.9 | 81.3 | 81.2 |\n",
    "|8| unigrams+position | 22407      | 80.8 | 79.8 | 81.8 |\n"
   ]
  },
  {
   "cell_type": "markdown",
   "id": "ae91ca24",
   "metadata": {},
   "source": [
    "# Discussion\n",
    "\n",
    "The conclustions from the original still hold up:\n",
    "\n",
    "> The results produced via machine learning techniques are quite good in comparison to the human-generated baselines discussed in Section 4.\n",
    "> In terms of relative performance, Naive Bayes tends to do the worst and SVMs tend to do the best, although the differences aren’t very large.\n",
    "> On the other hand, we were not able to achieve accuracies on the sentiment classification problem comparable to those reported for standard topic-based categorization, despite the several different types of features we tried.\n",
    "> Unigram presence information turned out to be the most effective; in fact, none of the alternative features we employed provided consistently better performance once unigram presence was incorporated. \n",
    "\n",
    "They also give this analysis:\n",
    "\n",
    "> As it turns out, a common phenomenon in the documents was a kind of “thwarted expectations” narrative, where the author sets up a deliberate contrast to earlier discussion.\n",
    "\n",
    "We now have much more advanced methods, in particular neural methods that can take the context into account.\n",
    "\n",
    "## On compute\n",
    "\n",
    "This paper was relatively easy to reproduce because computers are so much faster than when they wrote it, and software is so much better.\n",
    "\n",
    "It's worth keeping in mind the change in technology in the last 20 years; the fastest supercomputer in the world at the time, the [Earth Simulator](https://en.wikipedia.org/wiki/Earth_Simulator) could perform just under 36 TFLOPS, about the same as 4 NVIDIA A100's that could be rented today in the cloud for under $5 an hour (AWS was just starting up around this time).\n",
    "\n",
    "For a more grounded comparison in 2003 Apple released the [Power Mac G5](https://en.wikipedia.org/wiki/Power_Mac_G5) which at the time was a powerful consumer computer, but some [benchmarks from 2017](https://www.phoronix.com/news/PowerMac-Intel-KBL) show it's around 10-100 times slower and a 7th Generation Intel i7. It had 256MB of RAM, where a mid-range laptop today would have at least 8GB, about 30 times more.\n",
    "This meant recalculating the features 9 times (once per split and per model) was a reasonable thing to do, but would have been very unreasonable at the time.\n",
    "\n",
    "Also software has come a long way, [Scikit-Learn](https://scikit-learn.org/stable/about.html) started in 2007 and made all of the feature fitting trivial, that at the time would have involved plugging together different systems (likely in C and Java).\n",
    "\n",
    "It's interesting to think what things may be like in another 20 years."
   ]
  }
 ],
 "metadata": {
  "kernelspec": {
   "display_name": "Python 3 (ipykernel)",
   "language": "python",
   "name": "python3"
  },
  "language_info": {
   "codemirror_mode": {
    "name": "ipython",
    "version": 3
   },
   "file_extension": ".py",
   "mimetype": "text/x-python",
   "name": "python",
   "nbconvert_exporter": "python",
   "pygments_lexer": "ipython3",
   "version": "3.8.0"
  },
  "toc": {
   "base_numbering": 1,
   "nav_menu": {},
   "number_sections": true,
   "sideBar": true,
   "skip_h1_title": false,
   "title_cell": "Table of Contents",
   "title_sidebar": "Contents",
   "toc_cell": false,
   "toc_position": {
    "height": "calc(100% - 180px)",
    "left": "10px",
    "top": "150px",
    "width": "364px"
   },
   "toc_section_display": true,
   "toc_window_display": true
  }
 },
 "nbformat": 4,
 "nbformat_minor": 5
}
