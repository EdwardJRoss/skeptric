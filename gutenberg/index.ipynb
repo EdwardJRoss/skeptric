{
 "cells": [
  {
   "cell_type": "raw",
   "id": "653b0746-1d01-4176-80f8-1a5c350c53e8",
   "metadata": {},
   "source": [
    "---\n",
    "categories:\n",
    "  - nlp\n",
    "  - gutenberg\n",
    "date: '2024-01-18T23:18:00+11:00'\n",
    "image: ./logo.png\n",
    "title: Downloading books from Project Gutenberg with Python\n",
    "---"
   ]
  },
  {
   "cell_type": "markdown",
   "id": "ecf2e5a0-a9a4-4f16-a08a-b47a626a221f",
   "metadata": {},
   "source": [
    "[Project Gutenberg](https://www.gutenberg.org/) is a great resource for free eBooks, and has lots of great classic texts for NLP.\n",
    "While there exist some libraries for accessing Project Gutenberg from Python such as [py-gutenberg](https://github.com/peterrauscher/py-gutenberg) and [GutenbergPy](https://github.com/raduangelescu/gutenbergpy) these require implicitly or explicitly building a database which makes them complex to use.\n",
    "The R package [gutenberr](https://github.com/ropensci/gutenbergr) is much easier to use because it distributes a snapshot of the catalog and loads it into memory, but I can't find an equivalent in Python.\n",
    "So instead we're going to directly search for books from Project Gutenberg's CSV exports, and use them to download all the books of [P. G. Wodehouse](https://en.wikipedia.org/wiki/P._G._Wodehouse)"
   ]
  },
  {
   "cell_type": "code",
   "execution_count": 1,
   "id": "9fa810a1-3fcf-4031-acc6-ac18b8c09a30",
   "metadata": {},
   "outputs": [],
   "source": [
    "import csv\n",
    "from collections import Counter\n",
    "from io import BytesIO\n",
    "from pathlib import Path\n",
    "\n",
    "import requests"
   ]
  },
  {
   "cell_type": "markdown",
   "id": "2f94f957-f172-44b1-a045-af7ac3e14121",
   "metadata": {},
   "source": [
    "# Reading the Catalog"
   ]
  },
  {
   "cell_type": "markdown",
   "id": "176f1280-f4e6-4b7e-bfa8-79c2ccb4e871",
   "metadata": {},
   "source": [
    "Project Gutenberg doesn't have an API but has [documentation on offline catalogs](https://www.gutenberg.org/ebooks/offline_catalogs.html).\n",
    "There exists a large RDF catalog (around 100MB compressed) with detailed metadata, and a smaller CSV catalog (14MB uncompressed) that contains limited metadata.\n",
    "\n",
    "The CSV catalog is small enough we can download it quickly into memory (note that requests automatically decompresses):"
   ]
  },
  {
   "cell_type": "code",
   "execution_count": 2,
   "id": "741a4c9d-5549-4166-a231-42fbb4a70db7",
   "metadata": {},
   "outputs": [
    {
     "data": {
      "text/plain": [
       "'Total size: 14.04MB'"
      ]
     },
     "execution_count": 2,
     "metadata": {},
     "output_type": "execute_result"
    }
   ],
   "source": [
    "import requests\n",
    "GUTENBERG_CSV_URL = \"https://www.gutenberg.org/cache/epub/feeds/pg_catalog.csv.gz\"\n",
    "\n",
    "r = requests.get(GUTENBERG_CSV_URL)\n",
    "csv_text = r.content.decode(\"utf-8\")\n",
    "\n",
    "f\"Total size: {len(r.content) / 1024**2:0.2f}MB\""
   ]
  },
  {
   "cell_type": "markdown",
   "id": "a5e538eb-8844-45be-89b0-1b0336e81669",
   "metadata": {},
   "source": [
    "The text is a standard CSV file:"
   ]
  },
  {
   "cell_type": "code",
   "execution_count": 3,
   "id": "bb77d42e-6161-402f-8cb3-43e5d791559d",
   "metadata": {},
   "outputs": [
    {
     "name": "stdout",
     "output_type": "stream",
     "text": [
      "Text#,Type,Issued,Title,Language,Authors,Subjects,LoCC,Bookshelves\n",
      "1,Text,1971-12-01,The Declaration of Independence of the United States of America,en,\"Jefferson, Thomas, 1743-1826\",\"United States -- History -- Revolution, 1775-1783 -- Sources; United States. Declaration of Independence\",E201; JK,Politics; American Revolutionary War; United States Law\n",
      "2,Text,1972-12-01,\"The United States Bill o\n"
     ]
    }
   ],
   "source": [
    "print(csv_text[:400])"
   ]
  },
  {
   "cell_type": "markdown",
   "id": "af035cc8-b3f6-4e61-8608-3cd514e64986",
   "metadata": {},
   "source": [
    "An easy way to process it is with a [`DictReader`](https://docs.python.org/3/library/csv.html#csv.DictReader), wrapping the text in StringIO to make it look like a file"
   ]
  },
  {
   "cell_type": "code",
   "execution_count": 4,
   "id": "68751bfa-1827-4589-9de5-d360d0c16104",
   "metadata": {},
   "outputs": [
    {
     "data": {
      "text/plain": [
       "{'Text#': '1',\n",
       " 'Type': 'Text',\n",
       " 'Issued': '1971-12-01',\n",
       " 'Title': 'The Declaration of Independence of the United States of America',\n",
       " 'Language': 'en',\n",
       " 'Authors': 'Jefferson, Thomas, 1743-1826',\n",
       " 'Subjects': 'United States -- History -- Revolution, 1775-1783 -- Sources; United States. Declaration of Independence',\n",
       " 'LoCC': 'E201; JK',\n",
       " 'Bookshelves': 'Politics; American Revolutionary War; United States Law'}"
      ]
     },
     "execution_count": 4,
     "metadata": {},
     "output_type": "execute_result"
    }
   ],
   "source": [
    "import csv\n",
    "from io import StringIO\n",
    "\n",
    "next(csv.DictReader(StringIO(csv_text)))"
   ]
  },
  {
   "cell_type": "markdown",
   "id": "cc19d54c-887b-4a87-8aa7-e1b8d98c13fd",
   "metadata": {},
   "source": [
    "We can then search for all P. G. Wodehouse books by looking for authors containing \"Wodehouse\":"
   ]
  },
  {
   "cell_type": "code",
   "execution_count": 5,
   "id": "be9be686-100c-4cef-880a-cb13adabf2a1",
   "metadata": {},
   "outputs": [
    {
     "data": {
      "text/plain": [
       "56"
      ]
     },
     "execution_count": 5,
     "metadata": {},
     "output_type": "execute_result"
    }
   ],
   "source": [
    "wodehouse_books = [book for book in csv.DictReader(StringIO(csv_text)) \n",
    "                   if 'Wodehouse' in book['Authors']]\n",
    "\n",
    "len(wodehouse_books)"
   ]
  },
  {
   "cell_type": "markdown",
   "id": "c00527be-ad2e-4a14-a94b-3b95294ea5fb",
   "metadata": {},
   "source": [
    "Let's show our results in a HTML table (it's a bit long - feel free to skim past it):"
   ]
  },
  {
   "cell_type": "code",
   "execution_count": 6,
   "id": "e8fbc010-bd1f-47b9-a167-19f7c08009b9",
   "metadata": {},
   "outputs": [
    {
     "data": {
      "text/html": [
       "<table><tr><th>Text#</th><th>Type</th><th>Issued</th><th>Title</th><th>Language</th><th>Authors</th><th>Subjects</th><th>LoCC</th><th>Bookshelves</th></tr><tr><td>2005</td><td>Text</td><td>1999-12-01</td><td>Piccadilly Jim</td><td>en</td><td>Wodehouse, P. G. (Pelham Grenville), 1881-1975</td><td>Humorous stories; Piccadilly (London, England) -- Fiction</td><td>PR</td><td>Best Books Ever Listings; Humor</td></tr><tr><td>2042</td><td>Text</td><td>2000-01-01</td><td>Something New</td><td>en</td><td>Wodehouse, P. G. (Pelham Grenville), 1881-1975</td><td>Humorous stories; Nobility -- Fiction; Blandings Castle (England : Imaginary place) -- Fiction; Shropshire (England) -- Fiction</td><td>PR</td><td>Best Books Ever Listings; Humor</td></tr><tr><td>2233</td><td>Text</td><td>2000-06-01</td><td>A Damsel in Distress</td><td>en</td><td>Wodehouse, P. G. (Pelham Grenville), 1881-1975</td><td>Humorous stories; Nobility -- Fiction; Blandings Castle (England : Imaginary place) -- Fiction; Shropshire (England) -- Fiction</td><td>PR</td><td>Humor</td></tr><tr><td>2607</td><td>Text</td><td>2001-04-01</td><td>Psmith, Journalist</td><td>en</td><td>Wodehouse, P. G. (Pelham Grenville), 1881-1975</td><td>Humorous stories</td><td>PR</td><td>Humor</td></tr><tr><td>3756</td><td>Text</td><td>2008-06-25</td><td>Indiscretions of Archie</td><td>en</td><td>Wodehouse, P. G. (Pelham Grenville), 1881-1975</td><td>New York (N.Y.) -- Fiction; Humorous stories; British -- United States -- Fiction; World War, 1914-1918 -- Veterans -- Fiction; Hotels -- Fiction; Married men -- Fiction; Fathers-in-law -- Fiction</td><td>PR</td><td>Humor</td></tr><tr><td>3829</td><td>Text</td><td>2003-03-01</td><td>Love Among the Chickens</td><td>en</td><td>Wodehouse, P. G. (Pelham Grenville), 1881-1975</td><td>Humorous stories; England -- Fiction; Farm life -- Fiction; Chicken breeders -- Fiction; Ukridge, Stanley Featherstonehaugh (Fictitious character) -- Fiction</td><td>PR</td><td>Humor</td></tr><tr><td>4075</td><td>Text</td><td>2003-05-01</td><td>The Intrusion of Jimmy</td><td>en</td><td>Wodehouse, P. G. (Pelham Grenville), 1881-1975</td><td>New York (N.Y.) -- Fiction; Humorous stories; Love stories; Burglary -- Fiction; British -- United States -- Fiction; Police -- Family relationships -- Fiction</td><td>PR</td><td>Humor</td></tr><tr><td>6683</td><td>Text</td><td>2004-10-01</td><td>The Little Nugget</td><td>en</td><td>Wodehouse, P. G. (Pelham Grenville), 1881-1975</td><td>Humorous stories; Kidnapping -- Fiction</td><td>PR</td><td>Humor</td></tr><tr><td>6684</td><td>Text</td><td>2004-10-01</td><td>Uneasy Money</td><td>en</td><td>Wodehouse, P. G. (Pelham Grenville), 1881-1975</td><td>New York (N.Y.) -- Fiction; Humorous stories; Inheritance and succession -- Fiction; Love stories; Aristocracy (Social class) -- Fiction; British -- United States -- Fiction</td><td>PR</td><td>Humor</td></tr><tr><td>6753</td><td>Text</td><td>2004-10-01</td><td>Psmith in the City</td><td>en</td><td>Wodehouse, P. G. (Pelham Grenville), 1881-1975</td><td>Humorous stories</td><td>PR; PZ</td><td>Humor</td></tr><tr><td>6768</td><td>Text</td><td>2004-10-01</td><td>The Man Upstairs and Other Stories</td><td>en</td><td>Wodehouse, P. G. (Pelham Grenville), 1881-1975</td><td>Humorous stories, English</td><td>PR</td><td>Humor</td></tr><tr><td>6836</td><td>Text</td><td>2004-11-01</td><td>Three Men and a Maid</td><td>en</td><td>Wodehouse, P. G. (Pelham Grenville), 1881-1975</td><td>Humorous stories</td><td>PR</td><td>Humor</td></tr><tr><td>6837</td><td>Text</td><td>2004-11-01</td><td>The Little Warrior</td><td>en</td><td>Wodehouse, P. G. (Pelham Grenville), 1881-1975</td><td>Humorous stories; Love stories; Poor women -- Fiction; Musicals -- Fiction; Broadway (New York, N.Y.) -- Fiction; Long Island (N.Y.) -- Fiction</td><td>PR</td><td>Humor</td></tr><tr><td>6877</td><td>Text</td><td>2004-11-01</td><td>The Head of Kay's</td><td>en</td><td>Wodehouse, P. G. (Pelham Grenville), 1881-1975</td><td>Schools -- Fiction</td><td>PR; PZ</td><td>Humor; School Stories</td></tr><tr><td>6879</td><td>Text</td><td>2004-11-01</td><td>The Gold Bat</td><td>en</td><td>Wodehouse, P. G. (Pelham Grenville), 1881-1975</td><td>Humorous stories, English; Boys -- Conduct of life -- Juvenile fiction; Schools -- Juvenile fiction; Sports -- Juvenile fiction</td><td>PR; PZ</td><td>Humor; School Stories</td></tr><tr><td>6880</td><td>Text</td><td>2004-11-01</td><td>The Coming of Bill</td><td>en</td><td>Wodehouse, P. G. (Pelham Grenville), 1881-1975</td><td>Humorous stories</td><td>PR</td><td>Humor</td></tr><tr><td>6927</td><td>Text</td><td>2004-11-01</td><td>The White Feather</td><td>en</td><td>Wodehouse, P. G. (Pelham Grenville), 1881-1975</td><td>Schools -- Fiction; Children's stories</td><td>PR; PZ</td><td>Humor; School Stories</td></tr><tr><td>6955</td><td>Text</td><td>2004-11-01</td><td>The Prince and Betty</td><td>en</td><td>Wodehouse, P. G. (Pelham Grenville), 1881-1975</td><td>Humorous stories</td><td>PR</td><td>Humor</td></tr><tr><td>6980</td><td>Text</td><td>2004-11-01</td><td>Tales of St. Austin's</td><td>en</td><td>Wodehouse, P. G. (Pelham Grenville), 1881-1975</td><td>Schools -- Fiction; Humorous stories</td><td>PR; PZ</td><td>Humor; School Stories</td></tr><tr><td>6984</td><td>Text</td><td>2004-11-01</td><td>The Pothunters</td><td>en</td><td>Wodehouse, P. G. (Pelham Grenville), 1881-1975</td><td>Schools -- Fiction; Humorous stories; Theft -- Fiction; England -- Social life and customs -- 20th century -- Fiction</td><td>PR; PZ</td><td>Humor; School Stories</td></tr><tr><td>6985</td><td>Text</td><td>2004-11-01</td><td>A Prefect's Uncle</td><td>en</td><td>Wodehouse, P. G. (Pelham Grenville), 1881-1975</td><td>Schools -- Fiction; Humorous stories; Uncles -- Fiction; Schoolboys -- Fiction; Cricket stories</td><td>PR; PZ</td><td>Humor; School Stories</td></tr><tr><td>7028</td><td>Text</td><td>2004-12-01</td><td>The Clicking of Cuthbert</td><td>en</td><td>Wodehouse, P. G. (Pelham Grenville), 1881-1975</td><td>Humorous stories; Golf stories</td><td>PR</td><td>Humor</td></tr><tr><td>7050</td><td>Text</td><td>2004-12-01</td><td>The Swoop! or, How Clarence Saved England: A Tale of the Great Invasion</td><td>en</td><td>Wodehouse, P. G. (Pelham Grenville), 1881-1975</td><td>Satire; Humorous stories; England -- Fiction; Boy Scouts -- Fiction; Imaginary wars and battles -- Fiction</td><td>PR</td><td>Humor; Scouts</td></tr><tr><td>7230</td><td>Text</td><td>2005-01-01</td><td>Not George Washington — an Autobiographical Novel</td><td>en</td><td>Westbrook, H. W. (Herbert Wetton); Wodehouse, P. G. (Pelham Grenville), 1881-1975</td><td>Humorous stories</td><td>PR</td><td>Humor</td></tr><tr><td>7298</td><td>Text</td><td>2005-01-01</td><td>William Tell Told Again</td><td>en</td><td>Wodehouse, P. G. (Pelham Grenville), 1881-1975</td><td>English wit and humor; Tell, Wilhelm -- Fiction</td><td>PR; PZ</td><td>Humor</td></tr><tr><td>7423</td><td>Text</td><td>2005-02-01</td><td>Mike</td><td>en</td><td>Wodehouse, P. G. (Pelham Grenville), 1881-1975</td><td>Boarding schools -- Fiction; Schools -- Fiction; Humorous stories; England -- Fiction; Cricket -- Fiction</td><td>PR; PZ</td><td>Humor; School Stories</td></tr><tr><td>7464</td><td>Text</td><td>2005-02-01</td><td>The Adventures of Sally</td><td>en</td><td>Wodehouse, P. G. (Pelham Grenville), 1881-1975</td><td>New York (N.Y.) -- Fiction; Humorous stories; Inheritance and succession -- Fiction</td><td>PR</td><td>Humor</td></tr><tr><td>7471</td><td>Text</td><td>2005-02-01</td><td>The Man with Two Left Feet, and Other Stories</td><td>en</td><td>Wodehouse, P. G. (Pelham Grenville), 1881-1975</td><td>Short stories; Humorous stories, English</td><td>PR</td><td>Humor</td></tr><tr><td>8164</td><td>Text</td><td>2005-05-01</td><td>My Man Jeeves</td><td>en</td><td>Wodehouse, P. G. (Pelham Grenville), 1881-1975</td><td>Humorous stories; England -- Fiction; Wooster, Bertie (Fictitious character) -- Fiction; Jeeves (Fictitious character) -- Fiction; Single men -- Fiction; Valets -- Fiction</td><td>PR</td><td>Humor</td></tr><tr><td>8176</td><td>Text</td><td>2005-05-01</td><td>Death at the Excelsior, and Other Stories</td><td>en</td><td>Wodehouse, P. G. (Pelham Grenville), 1881-1975</td><td>Humorous stories, English; Wooster, Bertie (Fictitious character) -- Fiction; Jeeves (Fictitious character) -- Fiction; Valets -- Fiction</td><td>PR</td><td>Humor</td></tr><tr><td>8178</td><td>Text</td><td>2005-05-01</td><td>The Politeness of Princes, and Other School Stories</td><td>en</td><td>Wodehouse, P. G. (Pelham Grenville), 1881-1975</td><td>Schools -- Fiction</td><td>PR; PZ</td><td>Humor; School Stories</td></tr><tr><td>8190</td><td>Text</td><td>2005-05-01</td><td>A Wodehouse Miscellany: Articles & Stories</td><td>en</td><td>Wodehouse, P. G. (Pelham Grenville), 1881-1975</td><td>Humorous stories, English; Wooster, Bertie (Fictitious character) -- Fiction; Jeeves (Fictitious character) -- Fiction; Valets -- Fiction; England -- Social life and customs -- Fiction</td><td>PR</td><td>Humor</td></tr><tr><td>8713</td><td>Text</td><td>2005-08-01</td><td>A Man of Means</td><td>en</td><td>Wodehouse, P. G. (Pelham Grenville), 1881-1975</td><td>Humorous stories</td><td>PR</td><td>Humor</td></tr><tr><td>8931</td><td>Text</td><td>2005-09-01</td><td>The Gem Collector</td><td>en</td><td>Wodehouse, P. G. (Pelham Grenville), 1881-1975</td><td>Humorous stories; Jewel thieves -- Fiction</td><td>PR</td><td>Humor</td></tr><tr><td>10554</td><td>Text</td><td>2004-01-01</td><td>Right Ho, Jeeves</td><td>en</td><td>Wodehouse, P. G. (Pelham Grenville), 1881-1975</td><td>Humorous stories; England -- Fiction; Wooster, Bertie (Fictitious character) -- Fiction; Jeeves (Fictitious character) -- Fiction; Single men -- Fiction; Valets -- Fiction</td><td>PR</td><td>Humor</td></tr><tr><td>10586</td><td>Text</td><td>2004-01-01</td><td>Mike and Psmith</td><td>en</td><td>Wodehouse, P. G. (Pelham Grenville), 1881-1975</td><td>Boarding schools -- Fiction; Schools -- Fiction; Humorous stories; England -- Fiction; Cricket -- Fiction</td><td>PZ</td><td>Humor; School Stories</td></tr><tr><td>20532</td><td>Text</td><td>2007-02-06</td><td>Love Among the Chickens\n",
       "A Story of the Haps and Mishaps on an English Chicken Farm</td><td>en</td><td>Wodehouse, P. G. (Pelham Grenville), 1881-1975; Both, Armand, 1881-1922 [Illustrator]</td><td>Humorous stories; England -- Fiction; Farm life -- Fiction; Chicken breeders -- Fiction; Ukridge, Stanley Featherstonehaugh (Fictitious character) -- Fiction</td><td>PR</td><td>Humor</td></tr><tr><td>20533</td><td>Text</td><td>2007-02-06</td><td>Jill the Reckless</td><td>en</td><td>Wodehouse, P. G. (Pelham Grenville), 1881-1975</td><td>Humorous stories; Love stories; Poor women -- Fiction; Musicals -- Fiction; Broadway (New York, N.Y.) -- Fiction; Long Island (N.Y.) -- Fiction</td><td>PR</td><td>Humor</td></tr><tr><td>20717</td><td>Text</td><td>2007-03-01</td><td>The Girl on the Boat</td><td>en</td><td>Wodehouse, P. G. (Pelham Grenville), 1881-1975</td><td>Humorous stories; Children of the rich -- Fiction; Golf stories; Man-woman relationships -- Fiction</td><td>PR</td><td></td></tr><tr><td>23899</td><td>Sound</td><td>2007-12-01</td><td>Psmith in the City</td><td>en</td><td>Wodehouse, P. G. (Pelham Grenville), 1881-1975</td><td>Humorous stories</td><td>PR; PZ</td><td></td></tr><tr><td>26303</td><td>Sound</td><td>2008-08-01</td><td>Right Ho, Jeeves</td><td>en</td><td>Wodehouse, P. G. (Pelham Grenville), 1881-1975</td><td>Humorous stories; England -- Fiction; Wooster, Bertie (Fictitious character) -- Fiction; Jeeves (Fictitious character) -- Fiction; Single men -- Fiction; Valets -- Fiction</td><td>PR</td><td></td></tr><tr><td>26579</td><td>Sound</td><td>2008-09-01</td><td>Love Among the Chickens</td><td>en</td><td>Wodehouse, P. G. (Pelham Grenville), 1881-1975</td><td>Humorous stories; England -- Fiction; Farm life -- Fiction; Chicken breeders -- Fiction; Ukridge, Stanley Featherstonehaugh (Fictitious character) -- Fiction</td><td>PR</td><td></td></tr><tr><td>43317</td><td>Text</td><td>2013-07-26</td><td>Lord Lyons: A Record of British Diplomacy, Vol. 1 of 2</td><td>en</td><td>Newton, Thomas Wodehouse Legh, Baron, 1857-1942</td><td>Europe -- Politics and government -- 1871-1918; Lyons, Richard Bickerton Pemell Lyons, Earl, 1817-1887; Diplomatic and consular service, British; Great Britain -- Foreign relations -- 1837-1901</td><td>DA</td><td></td></tr><tr><td>44143</td><td>Text</td><td>2013-11-10</td><td>Lord Lyons: A Record of British Diplomacy, Vol. 2 of 2</td><td>en</td><td>Newton, Thomas Wodehouse Legh, Baron, 1857-1942; Ward, Wilfrid, Mrs., 1864-1932 [Contributor]</td><td>Europe -- Politics and government -- 1871-1918; Lyons, Richard Bickerton Pemell Lyons, Earl, 1817-1887; Diplomatic and consular service, British; Great Britain -- Foreign relations -- 1837-1901</td><td>DA</td><td></td></tr><tr><td>58508</td><td>Text</td><td>2018-12-21</td><td>Index of the Project Gutenberg Works of Pelham Grenville Wodehouse</td><td>en</td><td>Wodehouse, P. G. (Pelham Grenville), 1881-1975; Widger, David, 1932-2021? [Editor]</td><td>Indexes</td><td>PR</td><td></td></tr><tr><td>59254</td><td>Text</td><td>2019-04-11</td><td>The Inimitable Jeeves</td><td>en</td><td>Wodehouse, P. G. (Pelham Grenville), 1881-1975</td><td>Humorous stories; Wooster, Bertie (Fictitious character) -- Fiction; Jeeves (Fictitious character) -- Fiction; Single men -- Fiction; Valets -- Fiction; England -- Social life and customs -- Fiction; Upper class -- England -- Fiction</td><td>PR</td><td></td></tr><tr><td>60067</td><td>Text</td><td>2019-08-06</td><td>Leave it to Psmith</td><td>en</td><td>Wodehouse, P. G. (Pelham Grenville), 1881-1975</td><td>Humorous stories; Impostors and imposture -- Fiction; Nobility -- Fiction; Blandings Castle (England : Imaginary place) -- Fiction; Shropshire (England) -- Fiction; Jewel thieves -- Fiction</td><td>PR</td><td></td></tr><tr><td>61507</td><td>Text</td><td>2020-02-25</td><td>Ukridge</td><td>en</td><td>Wodehouse, P. G. (Pelham Grenville), 1881-1975</td><td>Humorous stories; Ukridge, Stanley Featherstonehaugh (Fictitious character) -- Fiction</td><td>PR</td><td></td></tr><tr><td>63735</td><td>Text</td><td>2020-11-13</td><td>Subscription the disgrace of the English Church [2nd edition]</td><td>en</td><td>Wodehouse, C. N. (Charles Nourse), 1790-1870</td><td>Church of England -- Controversial literature; Church of England. Thirty-nine Articles</td><td>BX</td><td></td></tr><tr><td>63738</td><td>Text</td><td>2020-11-13</td><td>Subscription the disgrace of the English Church [1st edition]</td><td>en</td><td>Wodehouse, C. N. (Charles Nourse), 1790-1870</td><td>Church of England -- Controversial literature; Church of England. Thirty-nine Articles</td><td>BX</td><td></td></tr><tr><td>65172</td><td>Text</td><td>2021-04-26</td><td>A Gentleman of Leisure</td><td>en</td><td>Wodehouse, P. G. (Pelham Grenville), 1881-1975</td><td>New York (N.Y.) -- Fiction; Humorous stories; Love stories; Burglary -- Fiction; British -- United States -- Fiction; Police -- Family relationships -- Fiction</td><td>PR</td><td></td></tr><tr><td>65974</td><td>Text</td><td>2021-08-01</td><td>Carry On, Jeeves</td><td>en</td><td>Wodehouse, P. G. (Pelham Grenville), 1881-1975</td><td>British -- New York (State) -- New York -- Fiction; Short stories; Humorous stories; England -- Fiction; Wooster, Bertie (Fictitious character) -- Fiction; Jeeves (Fictitious character) -- Fiction; Single men -- Fiction; Valets -- Fiction</td><td>PR</td><td></td></tr><tr><td>67368</td><td>Text</td><td>2022-02-10</td><td>Sam in the Suburbs</td><td>en</td><td>Wodehouse, P. G. (Pelham Grenville), 1881-1975</td><td>Humorous stories; England -- Fiction; Gangsters -- Fiction; Publishers and publishing -- Fiction</td><td>PR</td><td></td></tr><tr><td>70041</td><td>Text</td><td>2023-02-14</td><td>The small bachelor</td><td>en</td><td>Wodehouse, P. G. (Pelham Grenville), 1881-1975</td><td>New York (N.Y.) -- Fiction; Humorous stories; Man-woman relationships -- Fiction; Upper class -- Fiction; Painters -- Fiction</td><td>PR</td><td></td></tr><tr><td>70222</td><td>Text</td><td>2023-03-06</td><td>Meet Mr Mulliner</td><td>en</td><td>Wodehouse, P. G. (Pelham Grenville), 1881-1975</td><td>Humorous stories, English; England -- Fiction; Short stories, English; San Francisco (Calif.) -- Fiction; Interpersonal relations -- Fiction; Mulliner family (Fictitious characters) -- Fiction</td><td>PR</td><td></td></tr><tr><td>72227</td><td>Text</td><td>2023-11-25</td><td>Divots</td><td>en</td><td>Wodehouse, P. G. (Pelham Grenville), 1881-1975</td><td>Humorous stories, English; Golfers -- Fiction; Golf stories, English</td><td>PR</td><td></td></tr></table>"
      ],
      "text/plain": [
       "<IPython.core.display.HTML object>"
      ]
     },
     "metadata": {},
     "output_type": "display_data"
    }
   ],
   "source": [
    "from IPython.display import display, HTML\n",
    "\n",
    "def dicts_to_html_table(dicts):\n",
    "    html = []\n",
    "    header = None\n",
    "    for d in dicts:\n",
    "        if header is None:\n",
    "            header = d.keys()\n",
    "            html.append(\"<table><tr>\" +\n",
    "                        \"\".join([f\"<th>{h}</th>\" for h in header]) +\n",
    "                        \"</tr>\")\n",
    "        html.append(\"<tr>\" +\n",
    "                    \"\".join([f\"<td>{d[h]}</td>\" for h in header]) +\n",
    "                    \"</tr>\")\n",
    "    html.append(\"</table>\")\n",
    "\n",
    "    return \"\".join(html)\n",
    "\n",
    "display(HTML(dicts_to_html_table(wodehouse_books)))"
   ]
  },
  {
   "cell_type": "markdown",
   "id": "206726b0-cf12-4bae-8441-2d7df328c50e",
   "metadata": {},
   "source": [
    "There are a couple of results above that aren't what I am looking for:\n",
    "\n",
    "* Other authors with the name Wodehouse: Wodehouse, C. N. and Thomas Wodehouse Legh\n",
    "* The \"Index of the Project Gutenberg Works of Pelham Grenville Wodehouse\"\n",
    "* Some of them are \"Sound\" not text\n",
    "\n",
    "We can filter these out to get just the books we need."
   ]
  },
  {
   "cell_type": "code",
   "execution_count": 7,
   "id": "fcc13d9c-4fe3-4f7a-af6f-7d35353e6bbc",
   "metadata": {},
   "outputs": [
    {
     "data": {
      "text/plain": [
       "48"
      ]
     },
     "execution_count": 7,
     "metadata": {},
     "output_type": "execute_result"
    }
   ],
   "source": [
    "wodehouse_books = [b for b in wodehouse_books\n",
    "                   if \"Wodehouse, P. G.\" in b[\"Authors\"]\n",
    "                   and \"Indexes\" not in b[\"Subjects\"]\n",
    "                   and b[\"Type\"] == \"Text\"]\n",
    "len(wodehouse_books)"
   ]
  },
  {
   "cell_type": "markdown",
   "id": "c732d8e2-9159-4840-b969-ef9879afd048",
   "metadata": {},
   "source": [
    "# Downloading the text"
   ]
  },
  {
   "cell_type": "markdown",
   "id": "e31af11c-8963-49e7-8b83-a42f06d27319",
   "metadata": {},
   "source": [
    "Once we have the id of the book (Text#), it can be downloaded from a standard URL.\n",
    "For human access we can get them from `https://www.gutenberg.org/ebooks/{id}.txt.utf-8`:"
   ]
  },
  {
   "cell_type": "code",
   "execution_count": 8,
   "id": "cfd9509a-27e8-4639-89c6-3d7810e570a4",
   "metadata": {},
   "outputs": [],
   "source": [
    "GUTENBERG_TEXT_URL = \"https://www.gutenberg.org/ebooks/{id}.txt.utf-8\"\n",
    "\n",
    "book_id = wodehouse_books[0][\"Text#\"]\n",
    "\n",
    "#r = requests.get(GUTENBERG_TEXT_URL.format(id=book_id))\n",
    "#text = r.text"
   ]
  },
  {
   "cell_type": "markdown",
   "id": "5fab6620-e892-4db7-bfa0-4704ed25ff1f",
   "metadata": {},
   "source": [
    "*but* their [robots access policy](https://www.gutenberg.org/policy/robot_access.html) suggests using a special URL to get links (we set the filetypes to `txt` here to get text)."
   ]
  },
  {
   "cell_type": "code",
   "execution_count": 9,
   "id": "b18d6a29-b103-4ad6-bfc0-26d52cf2d6f0",
   "metadata": {},
   "outputs": [
    {
     "name": "stdout",
     "output_type": "stream",
     "text": [
      "<!DOCTYPE HTML PUBLIC \"-//W3C//DTD HTML 4.01//EN\" \"http://www.w3.org/TR/html4/strict.dtd\">\n",
      "\n",
      "<html lang=\"en\">\n",
      "  <head>\n",
      "    <meta http-equiv=\"Content-Type\" content=\"text/html; charset=UTF-8\">\n",
      "    <title>All Files (offset: 0, filetypes: txt) - Project Gutenberg</title>\n",
      "  </head>\n",
      "  <body>\n",
      "    <h1>All Files (offset: 0, filetypes: txt)</h1>    <p><a href=\"http://aleph.gutenberg.org/etext02/comed10.zip\">http://aleph.gutenberg.org/etext02/comed10.zip</a></p>\n",
      "\n",
      "    <p><a href=\"http://aleph.gutenberg.org/1/2/3/7/12370/12370-8.zip\">http://aleph.gutenberg.org/1/2/3/7/12370/12370-8.zip</a></p>\n",
      "\n",
      "    <p><a href=\"http://aleph.gutenberg.org/1/2/3/7/12370/12370.zip\">http://aleph.gutenberg.org/1/2/3/7/12370/12370.zip</a></p>\n",
      "\n",
      "    <p><a href=\"http://aleph.guten\n"
     ]
    }
   ],
   "source": [
    "GUTENBERG_ROBOT_URL = \"http://www.gutenberg.org/robot/harvest?filetypes[]=txt\"\n",
    "r = requests.get(GUTENBERG_ROBOT_URL)\n",
    "\n",
    "print(r.text[:750])"
   ]
  },
  {
   "cell_type": "markdown",
   "id": "1f39d5bf-b30e-4af5-905a-5ac71235fe8a",
   "metadata": {},
   "source": [
    "The mirror can be extracted from the URLs:"
   ]
  },
  {
   "cell_type": "code",
   "execution_count": 10,
   "id": "2bb29738-8e43-4601-a369-0a8f07c438de",
   "metadata": {},
   "outputs": [
    {
     "data": {
      "text/plain": [
       "'http://aleph.gutenberg.org'"
      ]
     },
     "execution_count": 10,
     "metadata": {},
     "output_type": "execute_result"
    }
   ],
   "source": [
    "import re\n",
    "\n",
    "GUTENBERG_MIRROR = re.search('(https?://[^/]+)[^\"]*.zip', r.text).group(1)\n",
    "GUTENBERG_MIRROR"
   ]
  },
  {
   "cell_type": "markdown",
   "id": "1364ad91-4ea5-4f24-8d4f-b41eb69fe603",
   "metadata": {},
   "source": [
    "Then we can construct the URL using the same logic as [gutenbergr](https://github.com/ropensci/gutenbergr/blob/f5ab38bea2f91871f32922ef920e31ee1a46ac89/R/gutenberg_download.R#L79-L89).\n",
    "Note that sometimes we need to add a suffix (e.g. look at http://aleph.gutenberg.org/0/1/ which only has a `-0`)"
   ]
  },
  {
   "cell_type": "code",
   "execution_count": 11,
   "id": "5560cc7c-0e80-4b1e-9b3a-aaf384183e10",
   "metadata": {},
   "outputs": [
    {
     "data": {
      "text/plain": [
       "['http://aleph.gutenberg.org/2/0/0/2005/2005.zip',\n",
       " 'http://aleph.gutenberg.org/2/0/0/2005/2005-8.zip',\n",
       " 'http://aleph.gutenberg.org/2/0/0/2005/2005-0.zip']"
      ]
     },
     "execution_count": 11,
     "metadata": {},
     "output_type": "execute_result"
    }
   ],
   "source": [
    "def gutenberg_text_urls(id: str, mirror=GUTENBERG_MIRROR, suffixes=(\"\", \"-8\", \"-0\")) -> list[str]:\n",
    "    path = \"/\".join(id[:-1]) or \"0\"\n",
    "    return [f\"{mirror}/{path}/{id}/{id}{suffix}.zip\" for suffix in suffixes]\n",
    "\n",
    "gutenberg_text_urls(book_id)"
   ]
  },
  {
   "cell_type": "markdown",
   "id": "db59ddda-f695-4569-b783-97a8a50fa20b",
   "metadata": {},
   "source": [
    "We can then try each URL in turn until we find the file, and then unzip it:"
   ]
  },
  {
   "cell_type": "code",
   "execution_count": 12,
   "id": "4e9f1d3e-1156-4d1c-934d-395a7c453e95",
   "metadata": {},
   "outputs": [],
   "source": [
    "import logging\n",
    "import zipfile\n",
    "\n",
    "def download_gutenberg(id: str) -> str:\n",
    "    for url in gutenberg_text_urls(id):\n",
    "        r = requests.get(url)\n",
    "        if r.status_code == 404:\n",
    "            logging.warning(f\"404 for {url}\")\n",
    "            continue\n",
    "        r.raise_for_status()\n",
    "        break\n",
    "    \n",
    "    z = zipfile.ZipFile(BytesIO(r.content))\n",
    "    \n",
    "    if len(z.namelist()) != 1:\n",
    "        raise Exception(f\"Expected 1 file in {z.namelist()}\")\n",
    "        \n",
    "    return z.read(z.namelist()[0]).decode('utf-8')"
   ]
  },
  {
   "cell_type": "code",
   "execution_count": 13,
   "id": "3e4386a8-2043-49f9-8a03-ea4e8aad7839",
   "metadata": {},
   "outputs": [
    {
     "name": "stdout",
     "output_type": "stream",
     "text": [
      "The Project Gutenberg EBook of Piccadilly Jim, by P. G. Wodehouse\n",
      "\n",
      "This eBook is for the use of anyone anywhere at no cost and with\n",
      "almost no restrictions whatsoever.  You may copy it, give it away or\n",
      "re-use it under the terms of the Project Gutenberg License included\n",
      "with this eBook or online at www.gutenberg.org\n",
      "\n",
      "\n",
      "Title: Piccadilly Jim\n",
      "\n",
      "Author: P. G. Wodehouse\n",
      "\n",
      "Release Date: September 12, 2012 [EBook #2005]\n",
      "Last Updated: August 16, 2016\n",
      "\n",
      "Language: English\n",
      "\n",
      "Character set encoding: ASCII\n",
      "\n",
      "*** START OF THIS PROJECT GUTENBERG EBOOK PICCADILLY JIM ***\n",
      "\n",
      "\n",
      "\n",
      "\n",
      "Produced by Jim Tinsley\n",
      "\n",
      "\n",
      "\n",
      "\n",
      "\n",
      "\n",
      "\n",
      "\n",
      "\n",
      "Piccadilly Jim\n",
      "\n",
      "\n",
      "by\n",
      "\n",
      "Pelham Grenville Wodehouse\n",
      "\n",
      "\n",
      "\n",
      "\n",
      "\n",
      "CHAPTER I\n",
      "\n",
      "A RED-HAIRED GIRL\n",
      "\n",
      "The residence of Mr. Peter Pett, the well-known financier, on\n",
      "Riverside Drive is one of the leading eyesores of that breezy and\n",
      "expensive boulevard. As you pass by in your limousine, or while\n",
      "enjoying ten cents worth of fresh air on top of a green omnibus,\n",
      "it jumps out and bites at you. Architects, confronted with it,\n",
      "reel and throw up their hands defensively, and even the lay\n",
      "observer has a sense of shock. The place resembles in almost\n",
      "equal proportions a cathedral, a suburban villa, a hotel and a\n",
      "Chinese pagoda. Many of its windows are of stained glass, and\n",
      "above the porch stand two terra-cotta lions, considerably more\n",
      "repulsive even than the complacent animals which guard New York's\n",
      "Public Library. It is a house which is impossible to overlook:\n",
      "and it\n"
     ]
    }
   ],
   "source": [
    "text = download_gutenberg(book_id)\n",
    "\n",
    "print(text[:1500])"
   ]
  },
  {
   "cell_type": "markdown",
   "id": "07ad7cf6-110c-4e65-b0f9-bd195a251925",
   "metadata": {},
   "source": [
    "Searching for this text we can see it also appears near the end of the text (actually this book has some transcriber's notes after the end of the text, but we'll leave them in)"
   ]
  },
  {
   "cell_type": "code",
   "execution_count": 14,
   "id": "83f7348a-93bd-4882-89d2-f1f50f5e220f",
   "metadata": {},
   "outputs": [
    {
     "name": "stdout",
     "output_type": "stream",
     "text": [
      "================================================================================\n",
      "\n",
      "This is a somewhat clumsy construction, and quite un-Wodehousian.\n",
      "The original passage in the serialization read:\n",
      "\n",
      " \"Before his stony eye the immaculate Bartling wilted. All that\n",
      " he had ever heard and read about doubles came to him.\"\n",
      "\n",
      "--------------------------------\n",
      "\n",
      "\n",
      "\n",
      "\n",
      "\n",
      "\n",
      "\n",
      "\n",
      "\n",
      "\n",
      "End of the Project Gutenberg EBook of Piccadilly Jim, by P. G. Wodehouse\n",
      "\n",
      "*** END OF THIS PROJECT GUTENBERG EBOOK PICCADILLY JIM ***\n",
      "\n",
      "***** This file should be named 2005.txt or 2005.zip *****\n",
      "This and all associated files of various formats will be found in:\n",
      "        http://www.gutenberg.org/2/0/0/2005/\n",
      "\n",
      "Produced by Jim Tinsley\n",
      "\n",
      "Updated editions will replace the previous one--the old editions\n",
      "will be renamed.\n",
      "\n",
      "Creating the works from public domain print editions means that no\n",
      "one owns a United States copyright in these works, so the Foundation\n",
      "(and you!) can copy and distribute it in the United States without\n",
      "permission and without paying copyright royalties.  Special rules,\n",
      "set forth in the General Terms of Use part of this license, apply to\n",
      "copying and distributing Project Gutenberg-tm electronic works to\n",
      "protect the PROJECT GUTENBERG-tm concept and trademark.  Project\n",
      "Gutenberg is a registered trademark, and may not be used if you\n",
      "charge for the eBooks, unless you receive specific permission.  If you\n",
      "================================================================================\n",
      "\n"
     ]
    }
   ],
   "source": [
    "GUTENBERG_TEXT = \"PROJECT GUTENBERG EBOOK \"\n",
    "\n",
    "lines = text.splitlines()\n",
    "\n",
    "first = True\n",
    "for idx, line in enumerate(lines):\n",
    "    if GUTENBERG_TEXT in line:\n",
    "        if first:\n",
    "            first = False\n",
    "            continue\n",
    "        print('=' * 80)\n",
    "        print('\\n'.join(lines[idx-20:idx+20]))\n",
    "        print('=' * 80)\n",
    "        print()"
   ]
  },
  {
   "cell_type": "markdown",
   "id": "5544a2e9-b775-4a9e-a95f-4af483ef43a0",
   "metadata": {},
   "source": [
    "We can read everything between the first and last header with a simple state machine:"
   ]
  },
  {
   "cell_type": "code",
   "execution_count": 15,
   "id": "6a621803-293c-4397-98e0-6b886acaca63",
   "metadata": {},
   "outputs": [],
   "source": [
    "def strip_headers(text):\n",
    "    in_text = False\n",
    "    output = []\n",
    "    \n",
    "    for line in text.splitlines():        \n",
    "        if GUTENBERG_TEXT in line:\n",
    "            if not in_text:\n",
    "                in_text = True\n",
    "            else:\n",
    "                break\n",
    "        else:\n",
    "            if in_text:\n",
    "                output.append(line)\n",
    "\n",
    "    return \"\\n\".join(output).strip()\n",
    "\n",
    "stripped_text = strip_headers(text)"
   ]
  },
  {
   "cell_type": "markdown",
   "id": "9fed68c2-fd77-42b8-9f25-8e90e46fde8b",
   "metadata": {},
   "source": [
    "And check that they have worked:"
   ]
  },
  {
   "cell_type": "code",
   "execution_count": 16,
   "id": "d7013539-35a3-48a3-97fa-2afd5b49dd87",
   "metadata": {},
   "outputs": [
    {
     "name": "stdout",
     "output_type": "stream",
     "text": [
      "Produced by Jim Tinsley\n",
      "\n",
      "\n",
      "\n",
      "\n",
      "\n",
      "\n",
      "\n",
      "\n",
      "\n",
      "Piccadilly Jim\n",
      "\n",
      "\n",
      "by\n",
      "\n",
      "Pelham Grenville Wodehouse\n",
      "\n",
      "\n",
      "\n",
      "\n",
      "\n",
      "CHAPTER I\n",
      "\n",
      "A RED-HAIRED GIRL\n",
      "\n",
      "The residence of Mr. Peter Pett, the well-known financier, on\n",
      "Riverside Drive is one\n",
      "********************************************************************************\n",
      "ling wilted.\n",
      " It was a perfectly astounding likeness, but it was\n",
      " apparent to him when what he had ever heard and read\n",
      " about doubles came to him.\"\n",
      "\n",
      "This is a somewhat clumsy construction, and quite un-Wodehousian.\n",
      "The original passage in the serialization read:\n",
      "\n",
      " \"Before his stony eye the immaculate Bartling wilted. All that\n",
      " he had ever heard and read about doubles came to him.\"\n",
      "\n",
      "--------------------------------\n",
      "\n",
      "\n",
      "\n",
      "\n",
      "\n",
      "\n",
      "\n",
      "\n",
      "\n",
      "\n",
      "End of the Project Gutenberg EBook of Piccadilly Jim, by P. G. Wodehouse\n"
     ]
    }
   ],
   "source": [
    "print(stripped_text[:200])\n",
    "print(\"*\" * 80)\n",
    "print(stripped_text[-500:])"
   ]
  },
  {
   "cell_type": "markdown",
   "id": "29e64e99-684a-4e7c-baaf-dff3ac1b40f1",
   "metadata": {},
   "source": [
    "# Downloading all the files\n",
    "\n",
    "Now we can download all the files in a simple loop; let's create a simple function that gets and cleans the text:"
   ]
  },
  {
   "cell_type": "code",
   "execution_count": 17,
   "id": "1e7c516d-4ca5-4a52-af09-d1c2843e116c",
   "metadata": {},
   "outputs": [],
   "source": [
    "def book_text(book_id):\n",
    "    r = requests.get(GUTENBERG_TEXT_URL.format(id=book_id))\n",
    "    text = r.text\n",
    "    clean_text = strip_headers(text)\n",
    "    return clean_text"
   ]
  },
  {
   "cell_type": "markdown",
   "id": "dde35f1a-7790-4879-b4ef-dd9d35aae2a5",
   "metadata": {},
   "source": [
    "We'll save each book into the \"data\" folder"
   ]
  },
  {
   "cell_type": "code",
   "execution_count": 18,
   "id": "965b341d-8a65-401a-8675-b68db0f303a9",
   "metadata": {},
   "outputs": [],
   "source": [
    "data_path = Path(\"data\")\n",
    "data_path.mkdir(exist_ok=True)"
   ]
  },
  {
   "cell_type": "markdown",
   "id": "a0972c03-2cd1-47cd-9ec4-5139046c21e3",
   "metadata": {},
   "source": [
    "And finally save all the books (one at a time to not overload the server):"
   ]
  },
  {
   "cell_type": "code",
   "execution_count": 19,
   "id": "795d2bf0-b40c-4cbb-8049-67306c80ed69",
   "metadata": {},
   "outputs": [
    {
     "name": "stdout",
     "output_type": "stream",
     "text": [
      "Saving Piccadilly Jim by Wodehouse, P. G. (Pelham Grenville), 1881-1975 containing 449_842 characters\n",
      "Saving Something New by Wodehouse, P. G. (Pelham Grenville), 1881-1975 containing 419_221 characters\n",
      "Saving A Damsel in Distress by Wodehouse, P. G. (Pelham Grenville), 1881-1975 containing 429_025 characters\n",
      "Saving Psmith, Journalist by Wodehouse, P. G. (Pelham Grenville), 1881-1975 containing 322_135 characters\n",
      "Saving Indiscretions of Archie by Wodehouse, P. G. (Pelham Grenville), 1881-1975 containing 413_041 characters\n",
      "Saving Love Among the Chickens by Wodehouse, P. G. (Pelham Grenville), 1881-1975 containing 278_160 characters\n",
      "Saving The Intrusion of Jimmy by Wodehouse, P. G. (Pelham Grenville), 1881-1975 containing 381_406 characters\n",
      "Saving The Little Nugget by Wodehouse, P. G. (Pelham Grenville), 1881-1975 containing 388_673 characters\n",
      "Saving Uneasy Money by Wodehouse, P. G. (Pelham Grenville), 1881-1975 containing 364_858 characters\n",
      "Saving Psmith in the City by Wodehouse, P. G. (Pelham Grenville), 1881-1975 containing 295_582 characters\n",
      "Saving The Man Upstairs and Other Stories by Wodehouse, P. G. (Pelham Grenville), 1881-1975 containing 562_134 characters\n",
      "Saving Three Men and a Maid by Wodehouse, P. G. (Pelham Grenville), 1881-1975 containing 307_343 characters\n",
      "Saving The Little Warrior by Wodehouse, P. G. (Pelham Grenville), 1881-1975 containing 650_963 characters\n",
      "Saving The Head of Kay's by Wodehouse, P. G. (Pelham Grenville), 1881-1975 containing 245_760 characters\n",
      "Saving The Gold Bat by Wodehouse, P. G. (Pelham Grenville), 1881-1975 containing 240_786 characters\n",
      "Saving The Coming of Bill by Wodehouse, P. G. (Pelham Grenville), 1881-1975 containing 466_145 characters\n",
      "Saving The White Feather by Wodehouse, P. G. (Pelham Grenville), 1881-1975 containing 249_059 characters\n",
      "Saving The Prince and Betty by Wodehouse, P. G. (Pelham Grenville), 1881-1975 containing 379_548 characters\n",
      "Saving Tales of St. Austin's by Wodehouse, P. G. (Pelham Grenville), 1881-1975 containing 283_438 characters\n",
      "Saving The Pothunters by Wodehouse, P. G. (Pelham Grenville), 1881-1975 containing 228_580 characters\n",
      "Saving A Prefect's Uncle by Wodehouse, P. G. (Pelham Grenville), 1881-1975 containing 236_385 characters\n",
      "Saving The Clicking of Cuthbert by Wodehouse, P. G. (Pelham Grenville), 1881-1975 containing 341_920 characters\n",
      "Saving The Swoop! or, How Clarence Saved England: A Tale of the Great Invasion by Wodehouse, P. G. (Pelham Grenville), 1881-1975 containing 102_301 characters\n",
      "Saving Not George Washington — an Autobiographical Novel by Westbrook, H. W. (Herbert Wetton); Wodehouse, P. G. (Pelham Grenville), 1881-1975 containing 289_260 characters\n",
      "Saving William Tell Told Again by Wodehouse, P. G. (Pelham Grenville), 1881-1975 containing 83_002 characters\n",
      "Saving Mike by Wodehouse, P. G. (Pelham Grenville), 1881-1975 containing 596_796 characters\n",
      "Saving The Adventures of Sally by Wodehouse, P. G. (Pelham Grenville), 1881-1975 containing 433_963 characters\n",
      "Saving The Man with Two Left Feet, and Other Stories by Wodehouse, P. G. (Pelham Grenville), 1881-1975 containing 383_878 characters\n",
      "Saving My Man Jeeves by Wodehouse, P. G. (Pelham Grenville), 1881-1975 containing 272_292 characters\n",
      "Saving Death at the Excelsior, and Other Stories by Wodehouse, P. G. (Pelham Grenville), 1881-1975 containing 208_157 characters\n",
      "Saving The Politeness of Princes, and Other School Stories by Wodehouse, P. G. (Pelham Grenville), 1881-1975 containing 131_705 characters\n",
      "Saving A Wodehouse Miscellany: Articles & Stories by Wodehouse, P. G. (Pelham Grenville), 1881-1975 containing 164_155 characters\n",
      "Saving A Man of Means by Wodehouse, P. G. (Pelham Grenville), 1881-1975 containing 154_068 characters\n",
      "Saving The Gem Collector by Wodehouse, P. G. (Pelham Grenville), 1881-1975 containing 180_113 characters\n",
      "Saving Right Ho, Jeeves by Wodehouse, P. G. (Pelham Grenville), 1881-1975 containing 405_146 characters\n",
      "Saving Mike and Psmith by Wodehouse, P. G. (Pelham Grenville), 1881-1975 containing 301_734 characters\n",
      "Saving Love Among the Chickens\n",
      "A Story of the Haps and Mishaps on an English Chicken Farm by Wodehouse, P. G. (Pelham Grenville), 1881-1975; Both, Armand, 1881-1922 [Illustrator] containing 272_012 characters\n",
      "Saving Jill the Reckless by Wodehouse, P. G. (Pelham Grenville), 1881-1975 containing 633_811 characters\n",
      "Saving The Girl on the Boat by Wodehouse, P. G. (Pelham Grenville), 1881-1975 containing 379_578 characters\n",
      "Saving The Inimitable Jeeves by Wodehouse, P. G. (Pelham Grenville), 1881-1975 containing 374_608 characters\n",
      "Saving Leave it to Psmith by Wodehouse, P. G. (Pelham Grenville), 1881-1975 containing 501_634 characters\n",
      "Saving Ukridge by Wodehouse, P. G. (Pelham Grenville), 1881-1975 containing 423_246 characters\n",
      "Saving A Gentleman of Leisure by Wodehouse, P. G. (Pelham Grenville), 1881-1975 containing 382_804 characters\n",
      "Saving Carry On, Jeeves by Wodehouse, P. G. (Pelham Grenville), 1881-1975 containing 406_254 characters\n",
      "Saving Sam in the Suburbs by Wodehouse, P. G. (Pelham Grenville), 1881-1975 containing 448_006 characters\n",
      "Saving The small bachelor by Wodehouse, P. G. (Pelham Grenville), 1881-1975 containing 413_161 characters\n",
      "Saving Meet Mr Mulliner by Wodehouse, P. G. (Pelham Grenville), 1881-1975 containing 302_837 characters\n",
      "Saving Divots by Wodehouse, P. G. (Pelham Grenville), 1881-1975 containing 377_621 characters\n"
     ]
    }
   ],
   "source": [
    "for book in wodehouse_books:\n",
    "    id = book[\"Text#\"]\n",
    "    text = book_text(id)\n",
    "    print(f\"Saving {book['Title']} by {book['Authors']} containing {len(text):_} characters\")\n",
    "    with open(data_path / (id + \".txt\"), \"wt\") as f:\n",
    "        f.write(text)"
   ]
  },
  {
   "cell_type": "markdown",
   "id": "757bc809-d06d-40dd-b473-b450a368b8e7",
   "metadata": {},
   "source": [
    "We can also save our metadata for future reference:"
   ]
  },
  {
   "cell_type": "code",
   "execution_count": 20,
   "id": "689324ab-cae7-482b-bf53-946b9961f3b1",
   "metadata": {},
   "outputs": [],
   "source": [
    "with open(data_path / 'metadata.csv', 'wt') as f:\n",
    "    csv_writer = csv.DictWriter(f, fieldnames=wodehouse_books[0].keys())\n",
    "    csv_writer.writeheader()\n",
    "    for book in wodehouse_books:\n",
    "        csv_writer.writerow(book)"
   ]
  },
  {
   "cell_type": "markdown",
   "id": "1078b0e8-36d0-4eb0-a95a-adc431f31848",
   "metadata": {},
   "source": [
    "# Conclusion\n",
    "\n",
    "It's really simple to search for books using the Project Gutenberg CSV catalog, and to download the books in a way that complies with their robots and crawlers guidelines (thanks to [gutenbergr](https://github.com/ropensci/gutenbergr) for showing the way).\n",
    "You can easily get books from Project Gutenberg for further data analysis or machine learning; I'm going to train a language model on P. G. Wodehouse."
   ]
  }
 ],
 "metadata": {
  "kernelspec": {
   "display_name": "Python 3 (ipykernel)",
   "language": "python",
   "name": "python3"
  },
  "language_info": {
   "codemirror_mode": {
    "name": "ipython",
    "version": 3
   },
   "file_extension": ".py",
   "mimetype": "text/x-python",
   "name": "python",
   "nbconvert_exporter": "python",
   "pygments_lexer": "ipython3",
   "version": "3.11.5"
  }
 },
 "nbformat": 4,
 "nbformat_minor": 5
}
