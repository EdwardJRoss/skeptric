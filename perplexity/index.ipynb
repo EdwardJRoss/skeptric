{
 "cells": [
  {
   "cell_type": "raw",
   "id": "1ea45912-3bef-48b0-b4b8-4ced16ddfe68",
   "metadata": {},
   "source": [
    "---\n",
    "categories:\n",
    "  - nlp\n",
    "  - makemore\n",
    "date: 2024-10-06T23:15+11:00\n",
    "image: ./arithmetic_coding_example.png\n",
    "title: Measuring a Language Model\n",
    "format:\n",
    "  html:\n",
    "    toc: true\n",
    "---"
   ]
  },
  {
   "cell_type": "markdown",
   "id": "5296ceae-18b1-4912-a888-3127314e06d7",
   "metadata": {},
   "source": [
    "Generative language models trained to predict what comes next have been shown to be a very useful foundation for models that can perform a wide variety of traditionally difficult language tasks.\n",
    "*Perplexity* is the standard measure of how well such a model can predict the next word on a given text, and it's very closely related to *cross-entropy* and *bits-per-byte*.\n",
    "It's a measure of how effective the language model is on the text, and in certain settings aligns with [how well the model performs downstream tasks](https://arxiv.org/pdf/2403.08540) (although [not in all settings](https://openreview.net/pdf?id=f2OYVDyfIB)) and can be used for [selecting data for training models](https://arxiv.org/abs/2409.05816).\n",
    "These metrics can be applied to any next token prediction model independent of its model architecture which makes it a broadly applicable tool.\n",
    "Note however that it can't be directly to masked language models like BERT or T5, although there [related pseudo-log likelihoods](https://arxiv.org/abs/2305.10588)).\n",
    "\n",
    "This article goes through in detail what perplexity is, how it relates to cross-entropy loss and compression, and how to compute it for the GPT 2 transformer model in PyTorch.\n",
    "If you just want an overview of what the various measures of language modelling are then read Chip Huyen's [what perplexity and related metrics mean](https://thegradient.pub/understanding-evaluation-metrics-for-language-models/).\n",
    "If you just want to compute some perplexities I recommend the [huggingface documentation on perplexity](https://huggingface.co/docs/transformers/perplexity) (though note that their perplexity score is wrong for WikiText-2 because they average over GPT-2 tokens rather than words!) or [lm_perplexity](https://github.com/asahi417/lmppl).\n",
    "If you want to understand why the calculation works, with examples in Python, and understand how to compare results in the literature then read on."
   ]
  },
  {
   "cell_type": "markdown",
   "id": "1bd1c1fc-fc24-4f39-b7fc-2994aaf5db8c",
   "metadata": {},
   "source": [
    "# Language modelling"
   ]
  },
  {
   "cell_type": "markdown",
   "id": "90ebb27c-c0e1-4ee1-b9ad-50702ce480ba",
   "metadata": {},
   "source": [
    "## GPT 2\n",
    "\n",
    "The 2019 Open AI paper [Language Models are Unsupervised Multitask Learners](https://cdn.openai.com/better-language-models/language_models_are_unsupervised_multitask_learners.pdf) showed that scaling up language modelling on a diverse corpora could produce a model that could then be used for a variety of tasks without further fine-tuning including summarisation, translation, and question answering.\n",
    "This paper introduced prompt design by using `TL;DR:` to get a summary, and [in-context learning](https://ai.stanford.edu/blog/understanding-incontext/) (in this paper they refer to this as \"zero-shot\" because there is no training, but now it would be phrased as few-shot in-context learning, a term introduced in the [GPT 3 paper](https://arxiv.org/pdf/2005.14165)).\n",
    "\n",
    "Let's load in the largest language model Open AI have released the weights for to date, the 1.5 billion parameter GPT2 XL:"
   ]
  },
  {
   "cell_type": "code",
   "execution_count": 1,
   "id": "8822d4d8-39a5-4954-bef2-d99121fe17a2",
   "metadata": {},
   "outputs": [],
   "source": [
    "# Imports\n",
    "\n",
    "from transformers import AutoModelForCausalLM, AutoTokenizer\n",
    "import torch\n",
    "import torch.nn.functional as F\n",
    "\n",
    "from collections import Counter\n",
    "import math\n",
    "from pathlib import Path\n",
    "import re\n",
    "from urllib.request import urlretrieve\n",
    "from zipfile import ZipFile\n",
    "\n",
    "import matplotlib.pyplot as plt\n",
    "\n",
    "torch.manual_seed(1727672233025);"
   ]
  },
  {
   "cell_type": "code",
   "execution_count": 2,
   "id": "59f6d597-cfa6-46ee-a3df-c778c214b920",
   "metadata": {},
   "outputs": [
    {
     "name": "stdout",
     "output_type": "stream",
     "text": [
      "Model gpt2-xl has 1557.6 million parameters\n"
     ]
    }
   ],
   "source": [
    "model_name = 'gpt2-xl'\n",
    "\n",
    "tokenizer = AutoTokenizer.from_pretrained(model_name,\n",
    "                                          clean_up_tokenization_spaces=False)\n",
    "model = AutoModelForCausalLM.from_pretrained(model_name,\n",
    "                                             device_map=\"auto\")\n",
    "\n",
    "print(f'Model {model.config.name_or_path} has ' +\n",
    "      f'{model.num_parameters()/ 1e6:0.1f} million parameters')"
   ]
  },
  {
   "cell_type": "markdown",
   "id": "f3c6eb64-1b95-4030-bb6d-55e89e520dfc",
   "metadata": {},
   "source": [
    "If we start with some input text (one of the examples from the original GPT 2 paper and [blog post](https://openai.com/index/better-language-models)):"
   ]
  },
  {
   "cell_type": "code",
   "execution_count": 3,
   "id": "2dfe21e9-bb19-4697-91f3-f66e2f1360db",
   "metadata": {},
   "outputs": [
    {
     "name": "stdout",
     "output_type": "stream",
     "text": [
      "In a shocking finding, scientist discovered a herd of unicorns living in a remote, previously unexplored valley, in the Andes Mountains. Even more surprising to the researchers was the fact that the unicorns spoke perfect English.\n",
      "\n"
     ]
    }
   ],
   "source": [
    "text = \"In a shocking finding, scientist discovered a herd of unicorns \" \\\n",
    "       \"living in a remote, previously unexplored valley, in the Andes \" \\\n",
    "       \"Mountains. Even more surprising to the researchers was the fact \" \\\n",
    "       \"that the unicorns spoke perfect English.\\n\"\n",
    "\n",
    "print(text)"
   ]
  },
  {
   "cell_type": "markdown",
   "id": "393d79f0-fb11-4809-b001-dacf8fda17f2",
   "metadata": {},
   "source": [
    "We can convert it into numerical tokens for the model based on its vocabulary:"
   ]
  },
  {
   "cell_type": "code",
   "execution_count": 4,
   "id": "01cbfcc4-9ef2-4e47-a8ae-05a8aa35a5c1",
   "metadata": {},
   "outputs": [],
   "source": [
    "tokens = tokenizer(text, return_tensors='pt')['input_ids']"
   ]
  },
  {
   "cell_type": "markdown",
   "id": "f950bf1d-c903-420b-a6bc-de57dc4d67e2",
   "metadata": {},
   "source": [
    "And then iteratively predict the next token to complete the story:"
   ]
  },
  {
   "cell_type": "code",
   "execution_count": 5,
   "id": "42247db4-412b-4e96-9a44-7c3c85becc6e",
   "metadata": {},
   "outputs": [
    {
     "name": "stdout",
     "output_type": "stream",
     "text": [
      "In a shocking finding, scientist discovered a herd of unicorns living in a remote, previously unexplored valley, in the Andes Mountains. Even more surprising to the researchers was the fact that the unicorns spoke perfect English.\n",
      "\n",
      "The scientists were researching the possibility that unicorns exist when they found a herd of the rare creatures, which they named the \"Prairie Unicorn\", in a narrow valley in the Aguas Calientes National Park in Peru, Peru.\n",
      "\n",
      "The group of five had been trekking through the mountain range, about 1,700m above sea level, when the locals informed them that the animals were near the valley's edge.\n",
      "\n",
      "Dr Rodrigo Estevez, of the University of Granada in Spain and a co-author of the new study, told El Mundo: \"In most mountain areas of the Andes Mountains, there are many species of animals, including birds and animals. However, we had never known that there were unicorns.\n",
      "\n",
      "\"Since the group had not encountered [unicorns] previously and they were very curious, they started to study the landscape and we realised that our knowledge might have been incomplete as well as that of people who were more familiar with things from high altitudes.\"\n",
      "\n",
      "According to the scientists, the unicorns are highly intelligent animals, which were probably domesticated for domestic purposes, possibly as workers.\n",
      "\n",
      "\"Since they are from the Andes Mountains, they are adapted to cold, and have very thick fur.\n",
      "\n",
      "\"They eat mainly grasses and roots growing on the dry tundra, but also live in the forest, since its trees have very nutritious foliage,\" he said.\n",
      "\n",
      "However, the unicorns were not able to communicate all that much with the others due to their limited hearing and the poor communication of their tongue.\n",
      "\n",
      "Nevertheless it is possible that the unicorns were able to communicate for some reason, or that they were even able to learn English.\n",
      "\n",
      "The study was published this week in the journal Quaternary Science Reviews.<|endoftext|>\n"
     ]
    }
   ],
   "source": [
    "generation = model.generate(\n",
    "    tokens.to(model.device),\n",
    "    attention_mask=torch.ones_like(tokens).to(model.device),\n",
    "    pad_token_id=tokenizer.eos_token_id,\n",
    "    do_sample=True,\n",
    "    temperature=1,\n",
    "    max_new_tokens = 512)\n",
    "\n",
    "print(tokenizer.decode(generation[0]))"
   ]
  },
  {
   "cell_type": "markdown",
   "id": "bde7fa44-07f7-4175-bfdf-ea82896e91bc",
   "metadata": {},
   "source": [
    "Note this is different to the example generation from the blog post because this process is random.\n",
    "I actually had to try a few different random seeds to get a result this good (although with more sophisticated search we could get better results with the same model)."
   ]
  },
  {
   "cell_type": "markdown",
   "id": "0e625563-fc7e-4264-8093-b7f0bb93325e",
   "metadata": {},
   "source": [
    "## Predicting the next token\n",
    "\n",
    "Language modelling works by predicting the probability distribution for the next token out of all possible tokens.\n",
    "For example take our input text above:"
   ]
  },
  {
   "cell_type": "code",
   "execution_count": 6,
   "id": "219c73b5-4498-485f-b277-4bd8d12c03a9",
   "metadata": {},
   "outputs": [
    {
     "data": {
      "text/plain": [
       "'In a shocking finding, scientist discovered a herd of unicorns living in a remote, previously unexplored valley, in the Andes Mountains. Even more surprising to the researchers was the fact that the unicorns spoke perfect English.\\n'"
      ]
     },
     "execution_count": 6,
     "metadata": {},
     "output_type": "execute_result"
    }
   ],
   "source": [
    "text"
   ]
  },
  {
   "cell_type": "markdown",
   "id": "4a6e09b8-2b97-486c-be7d-38b83199bfd8",
   "metadata": {},
   "source": [
    "We converted that into numeric tokens:"
   ]
  },
  {
   "cell_type": "code",
   "execution_count": 7,
   "id": "603a7cd7-f969-49e0-8c46-4205e06c9713",
   "metadata": {},
   "outputs": [
    {
     "data": {
      "text/plain": [
       "tensor([[  818,   257, 14702,  4917,    11, 11444,  5071,   257, 27638,   286,\n",
       "         28000, 19942,  2877,   287,   257,  6569,    11,  4271, 31286,  1850,\n",
       "         19272,    11,   287,   262,   843,   274, 21124,    13,  3412,   517,\n",
       "          6452,   284,   262,  4837,   373,   262,  1109,   326,   262, 28000,\n",
       "         19942,  5158,  2818,  3594,    13,   198]])"
      ]
     },
     "execution_count": 7,
     "metadata": {},
     "output_type": "execute_result"
    }
   ],
   "source": [
    "tokens"
   ]
  },
  {
   "cell_type": "markdown",
   "id": "fcdb53d2-52c1-4f95-a9aa-0b3471571b7a",
   "metadata": {},
   "source": [
    "Each token corresponds to part of a word via a learned Byte Pair Encoding:"
   ]
  },
  {
   "cell_type": "code",
   "execution_count": 8,
   "id": "6054489a-6d32-4ab9-b51b-1aaea5683afd",
   "metadata": {},
   "outputs": [
    {
     "data": {
      "text/plain": [
       "'In_ a_ shocking_ finding_,_ scientist_ discovered_ a_ herd_ of_ unic_orns_ living_ in_ a_ remote_,_ previously_ unexpl_ored_ valley_,_ in_ the_ And_es_ Mountains_._ Even_ more_ surprising_ to_ the_ researchers_ was_ the_ fact_ that_ the_ unic_orns_ spoke_ perfect_ English_._\\n'"
      ]
     },
     "execution_count": 8,
     "metadata": {},
     "output_type": "execute_result"
    }
   ],
   "source": [
    "'_'.join([tokenizer.decode(t) for t in tokens[0]])"
   ]
  },
  {
   "cell_type": "markdown",
   "id": "06a8cb3f-bf8d-400b-98c7-b14562615e16",
   "metadata": {},
   "source": [
    "For each token input the model outputs 50257 values, that is one for each element of the vocabulary:"
   ]
  },
  {
   "cell_type": "code",
   "execution_count": 9,
   "id": "fe6ec143-54f1-45ac-8d78-94f210c4ec90",
   "metadata": {},
   "outputs": [
    {
     "name": "stdout",
     "output_type": "stream",
     "text": [
      "tokens.shape=torch.Size([1, 46]), logits.shape=torch.Size([1, 46, 50257]), tokenizer.vocab_size=50257\n"
     ]
    }
   ],
   "source": [
    "with torch.inference_mode():\n",
    "    logits = model(tokens.to(model.device)).logits.cpu()\n",
    "print(f'{tokens.shape=}, {logits.shape=}, {tokenizer.vocab_size=}')"
   ]
  },
  {
   "cell_type": "markdown",
   "id": "ffa45ab1-5cd1-4581-8b1b-d9d868d42155",
   "metadata": {},
   "source": [
    "These are *multinomial logits*, which we denote $z_i$, to get probabilities we need to pass them through the softmax function:\n",
    "\n",
    "$$ p(z)_i = \\frac{\\exp(z_i)}{\\sum_{t \\in V} \\exp(z_t)}$$\n",
    "\n",
    "Where the sum is over all tokens $t$ in the vocabulary $V$.\n",
    "The probabilities can be very small and the sum of exponentials can result in underflow or overflow.\n",
    "However the probability is invariant under a shift of logits, so we translate them so the logits maximum value is zero to make it more numerically stable.\n",
    "\n",
    "$$ p(z)_i = \\frac{\\exp(z_i - \\max(z))}{\\sum_{t \\in V} \\exp(z_t - \\max(z))}$$"
   ]
  },
  {
   "cell_type": "code",
   "execution_count": 10,
   "id": "47b294d9-5c9e-4810-9805-cf4e5cdbb974",
   "metadata": {},
   "outputs": [
    {
     "data": {
      "text/plain": [
       "tensor([[[6.2914e-05, 1.9333e-04, 3.6167e-06,  ..., 1.2496e-07,\n",
       "          3.1714e-08, 2.4391e-05],\n",
       "         [3.3396e-06, 9.7791e-06, 2.0923e-07,  ..., 2.0211e-08,\n",
       "          2.7631e-08, 8.2515e-06],\n",
       "         [1.9861e-05, 4.0516e-05, 4.5341e-07,  ..., 3.0855e-08,\n",
       "          1.5996e-09, 3.6109e-06],\n",
       "         ...,\n",
       "         [2.6970e-02, 1.4128e-04, 2.4664e-07,  ..., 2.3159e-09,\n",
       "          4.5612e-09, 2.3378e-04],\n",
       "         [5.7984e-06, 9.9157e-05, 9.3441e-07,  ..., 5.5791e-09,\n",
       "          1.3838e-08, 7.3431e-03],\n",
       "         [1.9724e-07, 1.1957e-04, 2.6362e-06,  ..., 4.0896e-10,\n",
       "          2.8109e-10, 8.8093e-06]]])"
      ]
     },
     "execution_count": 10,
     "metadata": {},
     "output_type": "execute_result"
    }
   ],
   "source": [
    "# z - max(z)\n",
    "norm_logits = logits - logits.max(dim=-1, keepdim=True).values\n",
    "\n",
    "# exp(z - max(z))\n",
    "probs = norm_logits.exp()\n",
    "# exp(z - max(z)) / sum(exp(z) - max(z))\n",
    "probs /= probs.sum(axis=-1, keepdim=True)\n",
    "\n",
    "probs"
   ]
  },
  {
   "cell_type": "markdown",
   "id": "37201fe3-1e76-4ba7-ae19-07a59db7ca86",
   "metadata": {},
   "source": [
    "This is similar to what you get from calling Pytorch's `softmax` function:"
   ]
  },
  {
   "cell_type": "code",
   "execution_count": 11,
   "id": "e41dae04-617f-493a-a62b-46cd3a8169b7",
   "metadata": {},
   "outputs": [],
   "source": [
    "assert torch.allclose(F.softmax(logits, dim=-1), probs, atol=5e-5)\n",
    "\n",
    "probs = F.softmax(logits, dim=-1)"
   ]
  },
  {
   "cell_type": "markdown",
   "id": "c5877f3e-35bf-420e-92d1-59142072c444",
   "metadata": {},
   "source": [
    "For example let's consider the token corresponding to perfect:"
   ]
  },
  {
   "cell_type": "code",
   "execution_count": 12,
   "id": "bb3d29e1-43a9-48f8-b0be-eb0ba667b9ee",
   "metadata": {},
   "outputs": [
    {
     "data": {
      "text/plain": [
       "' perfect'"
      ]
     },
     "execution_count": 12,
     "metadata": {},
     "output_type": "execute_result"
    }
   ],
   "source": [
    "tokenizer.decode(tokens[0,-4])"
   ]
  },
  {
   "cell_type": "markdown",
   "id": "04b1d3c1-98e4-4d10-bb3c-69d9e2df270b",
   "metadata": {},
   "source": [
    "We can look at the probabilities of the next token:"
   ]
  },
  {
   "cell_type": "code",
   "execution_count": 13,
   "id": "a692f6ce-51d7-47dc-9f0f-82d5d334152c",
   "metadata": {},
   "outputs": [
    {
     "data": {
      "text/plain": [
       "tensor([4.7597e-06, 6.2952e-06, 1.5840e-07,  ..., 3.3299e-09, 6.6634e-10,\n",
       "        2.7599e-06])"
      ]
     },
     "execution_count": 13,
     "metadata": {},
     "output_type": "execute_result"
    }
   ],
   "source": [
    "next_token_prob = probs[0,-4]\n",
    "next_token_prob"
   ]
  },
  {
   "cell_type": "markdown",
   "id": "69d06038-45e0-498b-8f6d-61a4e0248820",
   "metadata": {},
   "source": [
    "Which sum to 1:"
   ]
  },
  {
   "cell_type": "code",
   "execution_count": 14,
   "id": "4841ab07-45f7-4f14-8f89-a3d0775d1d0a",
   "metadata": {},
   "outputs": [
    {
     "data": {
      "text/plain": [
       "tensor(1.0000)"
      ]
     },
     "execution_count": 14,
     "metadata": {},
     "output_type": "execute_result"
    }
   ],
   "source": [
    "next_token_prob.sum()"
   ]
  },
  {
   "cell_type": "markdown",
   "id": "4b78e034-1696-407f-88d9-81e906132be9",
   "metadata": {},
   "source": [
    "We can see the most likely next tokens, which are all reasonable guesses for the language the unicorns spoke:"
   ]
  },
  {
   "cell_type": "code",
   "execution_count": 15,
   "id": "54044c60-a95d-4bf3-af78-6e07d38a587c",
   "metadata": {},
   "outputs": [
    {
     "name": "stdout",
     "output_type": "stream",
     "text": [
      "64.57%\t  English\n",
      "17.82%\t  Spanish\n",
      "2.26%\t  Latin\n",
      "2.02%\t ,\n",
      "1.81%\t  human\n"
     ]
    }
   ],
   "source": [
    "for _idx in next_token_prob.argsort(descending=True)[:5]:\n",
    "    print(f'{next_token_prob[_idx]:0.2%}\\t', tokenizer.decode(_idx))"
   ]
  },
  {
   "cell_type": "markdown",
   "id": "88a953d3-ac97-465f-88d4-266e32bf8a72",
   "metadata": {},
   "source": [
    "By picking a random token weighted by its probability we can sample text:"
   ]
  },
  {
   "cell_type": "code",
   "execution_count": 16,
   "id": "f99facc7-a0a4-4e8e-a218-3d6e5402e316",
   "metadata": {},
   "outputs": [
    {
     "data": {
      "text/plain": [
       "(tensor([198]), '\\n')"
      ]
     },
     "execution_count": 16,
     "metadata": {},
     "output_type": "execute_result"
    }
   ],
   "source": [
    "next_token = torch.multinomial(probs[0,-1], 1)\n",
    "\n",
    "next_token, tokenizer.decode(next_token)"
   ]
  },
  {
   "cell_type": "markdown",
   "id": "f89cdb53-a24d-41fa-a89f-91f25b968dec",
   "metadata": {},
   "source": [
    "And by iterating this process we can generate text."
   ]
  },
  {
   "cell_type": "markdown",
   "id": "4294b858-ea18-4c23-ab43-c2bf282d8fd0",
   "metadata": {},
   "source": [
    "# Evaluating language models\n",
    "\n",
    "How do we say how *good* a language model is at predicting the next word in a corpus of text?\n",
    "We can use *accuracy* (acc), how well the most likely prediction matches the actual truth, but this is a very difficult goal for general datasets and is insensitive to small changes in the model.\n",
    "It is better to measure how likely the text is given the model, and *perplexity* (ppl) is a standard measure of this (normalised by the length of the text).\n",
    "It's also possible to view the likelihood through an information theory lens of compressibility, and the related measures of bits per byte (bpb) and bits per character (bpc).\n",
    "All of these measures were used in the GPT 2 paper:\n",
    "\n",
    "\n",
    " Model  | LAMBADA (PPL) | LAMBADA (ACC) | CBT-CN (ACC) | CBT-NE (ACC) | WikiText2 (PPL) | PTB (PPL) | enwik8 (BPB) | text8 (BPC) | WikiText103 (PPL) | 1BW (PPL) |\n",
    "|--------|---------------|---------------|--------------|--------------|----------------|-----------|--------------|-------------|------------------|-----------|\n",
    "| 117M   | 35.13         | 45.99         | 87.65        | 83.4         | 29.41          | 65.85     | 1.16         | 1.17        | 37.50            | 75.20     |\n",
    "| 345M   | 15.60         | 55.48         | 92.35        | 87.1         | 22.76          | 47.33     | 1.06         | 1.06        | 26.37            | 55.72     |\n",
    "| 762M   | 10.87         | 60.12         | 93.45        | 88.0         | 19.93          | 40.31     | 0.97         | 1.02        | 22.05            | 44.575    |\n",
    "| 1542M  | 8.63          | 63.24         | 93.30        | 89.05        | 18.34          | 35.76     | 0.93         | 0.98        | 17.48            | 42.16     |\n",
    "\n",
    "\n",
    "This section will go through these different measures and how they're connected."
   ]
  },
  {
   "cell_type": "markdown",
   "id": "9a8eb58c-7a25-4608-aebd-d10ec430641a",
   "metadata": {},
   "source": [
    "## Likelihood of a text\n",
    "\n",
    "We can use the model to predict the next token, but we can also use it to calculate how likely the input text itself is.\n",
    "\n",
    "Of all the possible sentences how likely is this one?"
   ]
  },
  {
   "cell_type": "code",
   "execution_count": 17,
   "id": "86556008-4936-4130-bad7-6c7086a749e8",
   "metadata": {},
   "outputs": [
    {
     "name": "stdout",
     "output_type": "stream",
     "text": [
      "In a shocking finding, scientist discovered a herd of unicorns living in a remote, previously unexplored valley, in the Andes Mountains. Even more surprising to the researchers was the fact that the unicorns spoke perfect English.\n",
      "\n"
     ]
    }
   ],
   "source": [
    "print(text)"
   ]
  },
  {
   "cell_type": "markdown",
   "id": "c2995022-922e-4674-9b8f-88f3457a646d",
   "metadata": {},
   "source": [
    "The probability of a sequence of tokens can be rewritten as a chain of conditional probabilities, $P(A \\vert B) := P(A, B) / P(B)$, of increasing strings of tokens:\n",
    "\n",
    "$$\\begin{align}\n",
    "P(t_1, t_2, \\ldots, t_n) &= P(t_1, t_2, \\ldots, t_n) \\frac{P(t_1, \\ldots, t_{n-1})}{P(t_1, \\ldots, t_{n-1})} \\\\\n",
    "                         &= P(t_1, t_2, \\ldots, t_{n-1}) P(t_n \\vert t_1, t_2, \\ldots, t_{n-1}) \\\\\n",
    "                         & \\vdots \\\\\n",
    "                         &= P(t_1) P(t_2 \\vert t_1) \\cdots P(t_n \\vert t_1, t_2, \\ldots, t_{n-1}) \\\\\n",
    "\\end{align}$$\n",
    "\n",
    "The number of previous tokens the probability is conditional on is called the *amount of context*.\n",
    "The language model we are using implements this with a *causal attention mask*; the prediction of any token only depends on the tokens before it."
   ]
  },
  {
   "cell_type": "code",
   "execution_count": 18,
   "id": "6e85e26a-f4fd-4cd5-bba5-bcfdfcce9734",
   "metadata": {},
   "outputs": [],
   "source": [
    "with torch.inference_mode():\n",
    "    first_logits = model(input_ids=tokens[:,:2].to(model.device)).logits.cpu()\n",
    "\n",
    "assert torch.allclose(first_logits, logits[:,:2], atol=5e-5)"
   ]
  },
  {
   "cell_type": "markdown",
   "id": "65c5bd71-3da8-4c5d-b8ad-81d70bc88f7c",
   "metadata": {},
   "source": [
    "We need to get the models predicted probability for each next token, the tokens shifted to the left.\n",
    "\n",
    "We need some way to represent the sequence is ended so we use a special `eos_token`.\n",
    "We also need some way to predict the first token, so we use a start of sequence token; since it's impossible for anything to follow and `eos_token` we can also use that for the initial token."
   ]
  },
  {
   "cell_type": "code",
   "execution_count": 19,
   "id": "87b00e3e-d7ca-4264-9180-fe6937b37092",
   "metadata": {},
   "outputs": [
    {
     "data": {
      "text/plain": [
       "('<|endoftext|>', 50256)"
      ]
     },
     "execution_count": 19,
     "metadata": {},
     "output_type": "execute_result"
    }
   ],
   "source": [
    "tokenizer.eos_token, tokenizer.eos_token_id"
   ]
  },
  {
   "cell_type": "code",
   "execution_count": 20,
   "id": "c52f2e65-ca1a-4ef1-89cc-96d5d652c428",
   "metadata": {},
   "outputs": [
    {
     "data": {
      "text/plain": [
       "(tensor([[50256,   818,   257, 14702,  4917,    11, 11444,  5071,   257, 27638,\n",
       "            286, 28000, 19942,  2877,   287,   257,  6569,    11,  4271, 31286,\n",
       "           1850, 19272,    11,   287,   262,   843,   274, 21124,    13,  3412,\n",
       "            517,  6452,   284,   262,  4837,   373,   262,  1109,   326,   262,\n",
       "          28000, 19942,  5158,  2818,  3594,    13,   198]]),\n",
       " tensor([[  818,   257, 14702,  4917,    11, 11444,  5071,   257, 27638,   286,\n",
       "          28000, 19942,  2877,   287,   257,  6569,    11,  4271, 31286,  1850,\n",
       "          19272,    11,   287,   262,   843,   274, 21124,    13,  3412,   517,\n",
       "           6452,   284,   262,  4837,   373,   262,  1109,   326,   262, 28000,\n",
       "          19942,  5158,  2818,  3594,    13,   198, 50256]]))"
      ]
     },
     "execution_count": 20,
     "metadata": {},
     "output_type": "execute_result"
    }
   ],
   "source": [
    "input_tokens = torch.cat([torch.tensor([[tokenizer.eos_token_id]]), tokens], axis=-1)\n",
    "target_tokens = torch.cat([tokens, torch.tensor([[tokenizer.eos_token_id]])], axis=-1)\n",
    "\n",
    "input_tokens, target_tokens"
   ]
  },
  {
   "cell_type": "markdown",
   "id": "9b4d9ba7-f5e4-474d-9477-fdc04b73a874",
   "metadata": {},
   "source": [
    "We need to pluck the corresponding probability out of the tensor:"
   ]
  },
  {
   "cell_type": "code",
   "execution_count": 21,
   "id": "e8f2529f-e574-442b-8845-6499013ad611",
   "metadata": {},
   "outputs": [
    {
     "name": "stdout",
     "output_type": "stream",
     "text": [
      "In \t 1.69%\n",
      " a \t 13.31%\n",
      " shocking \t 1.01%\n",
      " finding \t 0.13%\n",
      ", \t 72.20%\n",
      " scientist \t 0.01%\n",
      " discovered \t 0.74%\n",
      " a \t 8.28%\n",
      " herd \t 0.07%\n",
      " of \t 98.04%\n",
      " unic \t 0.04%\n",
      "orns \t 99.96%\n",
      " living \t 10.61%\n",
      " in \t 59.81%\n",
      " a \t 24.87%\n",
      " remote \t 11.17%\n",
      ", \t 1.29%\n",
      " previously \t 0.04%\n",
      " unexpl \t 12.41%\n",
      "ored \t 98.20%\n",
      " valley \t 5.93%\n",
      ", \t 2.23%\n",
      " in \t 18.94%\n",
      " the \t 34.40%\n",
      " And \t 1.28%\n",
      "es \t 87.94%\n",
      " Mountains \t 49.48%\n",
      ". \t 23.36%\n",
      " Even \t 0.08%\n",
      " more \t 63.09%\n",
      " surprising \t 9.20%\n",
      " to \t 0.72%\n",
      " the \t 23.89%\n",
      " researchers \t 12.51%\n",
      " was \t 34.60%\n",
      " the \t 38.75%\n",
      " fact \t 58.56%\n",
      " that \t 93.15%\n",
      " the \t 44.24%\n",
      " unic \t 31.00%\n",
      "orns \t 99.71%\n",
      " spoke \t 0.01%\n",
      " perfect \t 0.52%\n",
      " English \t 66.30%\n",
      ". \t 39.75%\n",
      "\n",
      " \t 61.35%\n",
      "<|endoftext|> \t 0.00%\n"
     ]
    }
   ],
   "source": [
    "with torch.inference_mode():\n",
    "    logits = model(input_tokens.to(model.device)).logits.cpu()\n",
    "    probs = logits.softmax(dim=-1)\n",
    "\n",
    "\n",
    "target_probs = probs[0, range(probs.size(1)), target_tokens]\n",
    "for token, prob in zip(target_tokens[0], target_probs[0]):\n",
    "    print(tokenizer.decode(token), '\\t', f'{prob.item():0.2%}')"
   ]
  },
  {
   "cell_type": "markdown",
   "id": "9941dabc-677a-46bc-bb1f-868fcf2e0479",
   "metadata": {},
   "source": [
    "The probability of the total sequence is then all the individual (conditional) token probabilities multiplied together:"
   ]
  },
  {
   "cell_type": "code",
   "execution_count": 22,
   "id": "1ee7a894-b2bc-4adb-ab01-6f86d213500b",
   "metadata": {},
   "outputs": [
    {
     "data": {
      "text/plain": [
       "tensor(0.)"
      ]
     },
     "execution_count": 22,
     "metadata": {},
     "output_type": "execute_result"
    }
   ],
   "source": [
    "sequence_probability = target_probs.prod()\n",
    "sequence_probability"
   ]
  },
  {
   "cell_type": "markdown",
   "id": "a25a195d-2771-43f4-8d0b-1a90e76f2ff7",
   "metadata": {},
   "source": [
    "It's not really zero since all the probabilities are positive; it's just so low that floating point multiplication underflowed:"
   ]
  },
  {
   "cell_type": "code",
   "execution_count": 23,
   "id": "17181ae1-085b-4149-95a7-b674c03a986f",
   "metadata": {},
   "outputs": [
    {
     "data": {
      "text/plain": [
       "tensor([[1.6854e-02, 1.3312e-01, 1.0072e-02, 1.2537e-03, 7.2201e-01, 1.0215e-04,\n",
       "         7.4406e-03, 8.2844e-02, 7.0714e-04, 9.8037e-01, 3.7324e-04, 9.9965e-01,\n",
       "         1.0614e-01, 5.9808e-01, 2.4874e-01, 1.1169e-01, 1.2856e-02, 3.6318e-04,\n",
       "         1.2413e-01, 9.8199e-01, 5.9272e-02, 2.2309e-02, 1.8944e-01, 3.4402e-01,\n",
       "         1.2849e-02, 8.7944e-01, 4.9478e-01, 2.3357e-01, 7.8674e-04, 6.3087e-01,\n",
       "         9.2005e-02, 7.1899e-03, 2.3888e-01, 1.2513e-01, 3.4598e-01, 3.8754e-01,\n",
       "         5.8557e-01, 9.3154e-01, 4.4239e-01, 3.1005e-01, 9.9709e-01, 1.0575e-04,\n",
       "         5.1902e-03, 6.6301e-01, 3.9747e-01, 6.1346e-01, 1.2886e-05]])"
      ]
     },
     "execution_count": 23,
     "metadata": {},
     "output_type": "execute_result"
    }
   ],
   "source": [
    "target_probs"
   ]
  },
  {
   "cell_type": "markdown",
   "id": "f88c762e-183d-44f0-950f-315aa717bf32",
   "metadata": {},
   "source": [
    "We can get a better estimate by increasing the numerical precision:"
   ]
  },
  {
   "cell_type": "code",
   "execution_count": 24,
   "id": "87c098ed-22ce-43ff-8cb0-6f9d76c1c5ac",
   "metadata": {},
   "outputs": [
    {
     "data": {
      "text/plain": [
       "tensor(4.2240e-60, dtype=torch.float64)"
      ]
     },
     "execution_count": 24,
     "metadata": {},
     "output_type": "execute_result"
    }
   ],
   "source": [
    "sequence_probability = target_probs.to(torch.float64).prod()\n",
    "sequence_probability"
   ]
  },
  {
   "cell_type": "markdown",
   "id": "bda10180-1567-49e1-8411-47dd0a7ab8a3",
   "metadata": {},
   "source": [
    "It's worth pausing for a second to marvel at how terifically unlikely this is. If you had one million language models, each typing at one million tokens per second then the expected number of years for one of them to produce this sequence of tokens is:"
   ]
  },
  {
   "cell_type": "code",
   "execution_count": 25,
   "id": "1265d507-127d-465c-8ef8-11aa20bb439d",
   "metadata": {},
   "outputs": [
    {
     "data": {
      "text/plain": [
       "'7.51E+41'"
      ]
     },
     "execution_count": 25,
     "metadata": {},
     "output_type": "execute_result"
    }
   ],
   "source": [
    "number_of_nodes = 1e6\n",
    "tokens_per_second = 1e4\n",
    "seconds_per_year = 60*60*24 * 365\n",
    "\n",
    "f'''{(1/sequence_probability).item() / \n",
    "  (number_of_nodes * \n",
    "   tokens_per_second * \n",
    "   seconds_per_year):0.2E}'''"
   ]
  },
  {
   "cell_type": "markdown",
   "id": "184cceff-f059-4d61-abdd-d4fb3bab4cf2",
   "metadata": {},
   "source": [
    "The universe is only about $10^{10}$ years old, so this effectively would *never* be produced.\n",
    "That's because there are so many possible (and likely) sequences of text.\n",
    "\n",
    "Instead of working directly with these very small probabilities, the calculations are much more stable and simple after a logarithmic transform."
   ]
  },
  {
   "cell_type": "markdown",
   "id": "ae2dbcc2-c0bf-4c35-aa36-57d8ba54c4f1",
   "metadata": {},
   "source": [
    "## Log likelihood of a text\n",
    "\n",
    "The likelihood is very small (being a product of small numbers) and for long sequences the floating point multiplication can underflow.\n",
    "To reduce this problem we can take the logarithm (in some base) and write the log-likelihood of the sequence under the model as a sum of log-likelihood of tokens:\n",
    "\n",
    "$$ \\log P(t_1, t_2, \\ldots, t_n) = \\log P(t_1) + \\log P(t_2 \\vert t_1) + \\cdots + \\log P(t_n \\vert t_1, t_2, \\ldots, t_{n-1}) $$\n",
    "\n",
    "Working with quantities that add together is much simpler, both for humans and floating point arithmetic.\n",
    "We can calculate the log probabilities directly from the logits; before we had\n",
    "\n",
    "$$ p(z)_i = \\frac{\\exp(z_i - \\max(z))}{\\sum_w \\exp(z_w - \\max(z))}$$\n",
    "\n",
    "and so\n",
    "\n",
    "$$ \\log p(z)_i = (z_i - \\max(z)) - \\log\\left(\\sum_w \\exp(z_w - \\max(z))\\right) $$"
   ]
  },
  {
   "cell_type": "code",
   "execution_count": 26,
   "id": "58e2a43f-8ad1-4f1b-8b3f-544541629c44",
   "metadata": {},
   "outputs": [],
   "source": [
    "norm_logits = logits - logits.max(dim=-1, keepdim=True).values\n",
    "\n",
    "logprobs = norm_logits - norm_logits.exp().sum(axis=-1, keepdim=True).log()\n",
    "\n",
    "assert torch.allclose(logprobs.exp(), probs, atol=5e-5)"
   ]
  },
  {
   "cell_type": "markdown",
   "id": "89acdb8d-73c8-402c-9eeb-6b60b3887771",
   "metadata": {},
   "source": [
    "We can simplify further by only calculating it for the next tokens"
   ]
  },
  {
   "cell_type": "code",
   "execution_count": 27,
   "id": "d98b9557-c8bf-4e70-a8b5-e51f9e1762ec",
   "metadata": {},
   "outputs": [
    {
     "data": {
      "text/plain": [
       "tensor(-136.7151)"
      ]
     },
     "execution_count": 27,
     "metadata": {},
     "output_type": "execute_result"
    }
   ],
   "source": [
    "next_token_logprobs = (\n",
    "    norm_logits[:,range(norm_logits.size(1)), target_tokens] - \n",
    "    norm_logits.exp().sum(axis=-1).log()\n",
    ")\n",
    "log_likelihood = next_token_logprobs.sum()\n",
    "log_likelihood"
   ]
  },
  {
   "cell_type": "markdown",
   "id": "1c280938-a01e-4606-a307-223c0707d39b",
   "metadata": {},
   "source": [
    "Exponentiating gives a similar answer to before:"
   ]
  },
  {
   "cell_type": "code",
   "execution_count": 28,
   "id": "471aa062-c83c-4deb-990f-04f4968170ea",
   "metadata": {},
   "outputs": [
    {
     "data": {
      "text/plain": [
       "tensor(4.2205e-60, dtype=torch.float64)"
      ]
     },
     "execution_count": 28,
     "metadata": {},
     "output_type": "execute_result"
    }
   ],
   "source": [
    "log_likelihood.to(torch.float64).exp()"
   ]
  },
  {
   "cell_type": "markdown",
   "id": "267b7b81-e837-4aa8-9803-4487b897a3aa",
   "metadata": {},
   "source": [
    "However unlikely this is, we can compare it to a baseline model that just picks a random token uniformly from the vocabulary, which would assign a much lower probability:"
   ]
  },
  {
   "cell_type": "code",
   "execution_count": 29,
   "id": "cc4b7a20-3038-4f96-9ba6-65cc39ce49b2",
   "metadata": {},
   "outputs": [
    {
     "data": {
      "text/plain": [
       "-497.94563550629573"
      ]
     },
     "execution_count": 29,
     "metadata": {},
     "output_type": "execute_result"
    }
   ],
   "source": [
    "random_probability = len(tokens[0]) * math.log(1/tokenizer.vocab_size)\n",
    "random_probability"
   ]
  },
  {
   "cell_type": "markdown",
   "id": "525df66e-ddc5-4d76-a6d0-d1713ce5750b",
   "metadata": {},
   "source": [
    "Which is *much* less likely, so the model really is capturing something about this being a valid sentence."
   ]
  },
  {
   "cell_type": "markdown",
   "id": "29f779f3-f8c2-460a-84fc-08250ad091a8",
   "metadata": {},
   "source": [
    "## Cross-entropy"
   ]
  },
  {
   "cell_type": "markdown",
   "id": "1e78a981-e4ad-4bc0-8d4c-804727e766a6",
   "metadata": {},
   "source": [
    "The negative log likelihood of each token is precisely the *sample cross-entropy* between the actual token distribution and the predicted token distribution.\n",
    "The cross-entropy between the true distribution $P^*$ and our estimated distribution $P$ for a given context $C$ is:\n",
    "\n",
    "$$ H_C(P^*, P) = - \\sum_{t \\in V} P^*(t \\vert C) \\log\\left(P(t \\vert C)\\right) $$\n",
    "\n",
    "We don't know the true probability distribution but can only estimate the empirical distribution over many examples, that is how often we see that token in the context.\n",
    "In practice we don't see the same context very often beyond several words (which is why long n-gram models don't work very well); with a single sample our best estimate is just the probability of the observed value: $- \\log\\left(P(t_i \\vert C)\\right)$.\n",
    "\n",
    "We can use [torch.nn.functional.cross_entropy](https://pytorch.org/docs/stable/generated/torch.nn.CrossEntropyLoss.html) function to calculate this if we reshape the logits to be $(B, C, ...)$:"
   ]
  },
  {
   "cell_type": "code",
   "execution_count": 30,
   "id": "19974f7f-3a8a-4733-b178-a831c4c8ac97",
   "metadata": {},
   "outputs": [
    {
     "data": {
      "text/plain": [
       "tensor(136.7077)"
      ]
     },
     "execution_count": 30,
     "metadata": {},
     "output_type": "execute_result"
    }
   ],
   "source": [
    "cross_entropy = F.cross_entropy(logits.transpose(-1,-2),\n",
    "                                target_tokens,\n",
    "                                reduction='sum')\n",
    "cross_entropy"
   ]
  },
  {
   "cell_type": "markdown",
   "id": "2ccedec1-bb0b-4b97-ab46-1b21b09a044c",
   "metadata": {},
   "source": [
    "This is very close to the negative of the log likelihood we calculated above; adding them together gives something close to 0:"
   ]
  },
  {
   "cell_type": "code",
   "execution_count": 31,
   "id": "4ea23e18-3d1f-41cf-aa20-b47532fed639",
   "metadata": {},
   "outputs": [
    {
     "data": {
      "text/plain": [
       "tensor(-0.0074)"
      ]
     },
     "execution_count": 31,
     "metadata": {},
     "output_type": "execute_result"
    }
   ],
   "source": [
    "cross_entropy + log_likelihood"
   ]
  },
  {
   "cell_type": "markdown",
   "id": "ba1fbfc4-8c35-4faf-b1b8-7ccea65fc5aa",
   "metadata": {},
   "source": [
    "## Compression and Arithmetic Coding\n",
    "\n",
    "The cross-entropy is closely related to Shannon's Information Theory and compression, and in particular gives a lower bound on how much the model can compress the text.\n",
    "\n",
    "We have used the natural logarithm which means we're measuring the cross entropy in terms of *nats*, but we can convert it into any other unit by dividing by the natural logarithm of that number, since $e^x = b^y$ implies $x = y \\log b$ and so $y = x / \\log b$.\n",
    "So for example the cross entropy in *bits* (base 2) is:"
   ]
  },
  {
   "cell_type": "code",
   "execution_count": 32,
   "id": "97a5fc27-f601-47c6-ac78-29004ec03052",
   "metadata": {},
   "outputs": [
    {
     "data": {
      "text/plain": [
       "tensor(197.2275)"
      ]
     },
     "execution_count": 32,
     "metadata": {},
     "output_type": "execute_result"
    }
   ],
   "source": [
    "cross_entropy / math.log(2)"
   ]
  },
  {
   "cell_type": "markdown",
   "id": "3ddcd9d1-f43a-46c2-90cf-86838f3168e0",
   "metadata": {},
   "source": [
    "So we need at least that many binary bits to uniquely represent this text.\n",
    "Or if we used decimal digits we would need at least:"
   ]
  },
  {
   "cell_type": "code",
   "execution_count": 33,
   "id": "29c7c60c-3f89-4447-a104-3f5c2a76c01d",
   "metadata": {},
   "outputs": [
    {
     "data": {
      "text/plain": [
       "tensor(59.3714)"
      ]
     },
     "execution_count": 33,
     "metadata": {},
     "output_type": "execute_result"
    }
   ],
   "source": [
    "cross_entropy / math.log(10)"
   ]
  },
  {
   "cell_type": "markdown",
   "id": "33588744-06fc-461c-8cf5-f9ef7cc2b337",
   "metadata": {},
   "source": [
    "This isn't just theoretical, we can practically achieve near optimal compression using [Arithmetic Coding](https://en.wikipedia.org/wiki/Arithmetic_coding).\n",
    "The essential idea is that every possible sequence (ending in a terminal token) has a probability, and they all add up to one.\n",
    "If we ordered the sequences we could then represent them as a subinterval of $[0,1]$, and represent them by any fractional sequence of digits that lies in that interval.\n",
    "In particular to compress the text more we could represent them by any shortest sequence of digits in that interval; more probable outcomes are more likely to have a shorter representation (since they span a greater space) and can be more compressed.\n",
    "\n",
    "![Example of Arithmetic Coding from [Wikimedia](https://en.wikipedia.org/wiki/File:Arithmetic_coding_example.svg)](./arithmetic_coding_example.png)"
   ]
  },
  {
   "cell_type": "markdown",
   "id": "6366e0fd-f586-48ad-8e02-10c947a17ab3",
   "metadata": {},
   "source": [
    "This compression can be done token by token. Consider the probability of the first token:"
   ]
  },
  {
   "cell_type": "code",
   "execution_count": 34,
   "id": "fec5c228-948f-44ef-b730-00a045b40988",
   "metadata": {},
   "outputs": [
    {
     "data": {
      "text/plain": [
       "tensor([5.0992e-05, 2.3776e-02, 1.7652e-03,  ..., 4.1708e-09, 2.3309e-08,\n",
       "        5.8259e-05])"
      ]
     },
     "execution_count": 34,
     "metadata": {},
     "output_type": "execute_result"
    }
   ],
   "source": [
    "first_token_prob = probs[0,0]\n",
    "first_token_prob"
   ]
  },
  {
   "cell_type": "markdown",
   "id": "b68661a3-cac0-49c2-85cc-bcbac96c67bc",
   "metadata": {},
   "source": [
    "This sums to 1 as it's a probability:"
   ]
  },
  {
   "cell_type": "code",
   "execution_count": 35,
   "id": "975a1f8c-9247-4979-9b85-63a5c57b65af",
   "metadata": {},
   "outputs": [
    {
     "data": {
      "text/plain": [
       "tensor(1.0000)"
      ]
     },
     "execution_count": 35,
     "metadata": {},
     "output_type": "execute_result"
    }
   ],
   "source": [
    "first_token_prob.sum()"
   ]
  },
  {
   "cell_type": "markdown",
   "id": "61cfc5bc-5a20-4fff-9ed8-2748f54896be",
   "metadata": {},
   "source": [
    "We can think of each probability being a segment of the line `[0,1]` with larger segments represented by more probable outcomes.\n",
    "\n",
    "We can get to this mapping by calculating the cumulative sums (and adding a 0):"
   ]
  },
  {
   "cell_type": "code",
   "execution_count": 36,
   "id": "57796abb-594e-4500-a606-638bb8ebc2af",
   "metadata": {},
   "outputs": [
    {
     "data": {
      "text/plain": [
       "tensor([0.0000e+00, 5.0992e-05, 2.3827e-02,  ..., 9.9994e-01, 9.9994e-01,\n",
       "        1.0000e+00])"
      ]
     },
     "execution_count": 36,
     "metadata": {},
     "output_type": "execute_result"
    }
   ],
   "source": [
    "first_token_cumprob = torch.cat([torch.tensor([0]),\n",
    "                                 first_token_prob.cumsum(-1)])\n",
    "first_token_cumprob"
   ]
  },
  {
   "cell_type": "markdown",
   "id": "37988026-eb7b-45c3-9df6-4784a65563d6",
   "metadata": {},
   "source": [
    "Then for example the first token being:"
   ]
  },
  {
   "cell_type": "code",
   "execution_count": 37,
   "id": "c32415c7-3b53-424d-b8a9-740696c4f5d7",
   "metadata": {},
   "outputs": [
    {
     "data": {
      "text/plain": [
       "'!'"
      ]
     },
     "execution_count": 37,
     "metadata": {},
     "output_type": "execute_result"
    }
   ],
   "source": [
    "tokenizer.decode(0)"
   ]
  },
  {
   "cell_type": "markdown",
   "id": "4cc4bd24-d84c-49ee-bac0-8e1e9410775f",
   "metadata": {},
   "source": [
    "Is represented by the interval:"
   ]
  },
  {
   "cell_type": "code",
   "execution_count": 38,
   "id": "d7c29bd6-b3ad-4e05-9ed6-a7bb8dd0d12b",
   "metadata": {},
   "outputs": [
    {
     "data": {
      "text/plain": [
       "(tensor(0.), tensor(5.0992e-05))"
      ]
     },
     "execution_count": 38,
     "metadata": {},
     "output_type": "execute_result"
    }
   ],
   "source": [
    "(first_token_cumprob[0], first_token_cumprob[1])"
   ]
  },
  {
   "cell_type": "markdown",
   "id": "f12ee402-c8ab-4a09-a1d2-e5c1082be030",
   "metadata": {},
   "source": [
    "And so the actual token is given by the interval:"
   ]
  },
  {
   "cell_type": "code",
   "execution_count": 39,
   "id": "909075ab-1456-4550-9f62-3b28e523de6d",
   "metadata": {},
   "outputs": [
    {
     "data": {
      "text/plain": [
       "(0.2803002893924713, 0.29715436697006226)"
      ]
     },
     "execution_count": 39,
     "metadata": {},
     "output_type": "execute_result"
    }
   ],
   "source": [
    "first_interval = (first_token_cumprob[tokens[0,0]].item(),\n",
    "                  first_token_cumprob[tokens[0,0] + 1].item())\n",
    "first_interval"
   ]
  },
  {
   "cell_type": "markdown",
   "id": "758ae686-ad26-4e93-ae8e-aa63b70b0adb",
   "metadata": {},
   "source": [
    "Which has width"
   ]
  },
  {
   "cell_type": "code",
   "execution_count": 40,
   "id": "bfa573d8-59ed-4c56-82c1-e0bf105c4b8f",
   "metadata": {},
   "outputs": [
    {
     "data": {
      "text/plain": [
       "0.016854077577590942"
      ]
     },
     "execution_count": 40,
     "metadata": {},
     "output_type": "execute_result"
    }
   ],
   "source": [
    "first_interval[1] - first_interval[0]"
   ]
  },
  {
   "cell_type": "markdown",
   "id": "6ad99c5e-0ca5-4621-8e8f-a6f94675654e",
   "metadata": {},
   "source": [
    "The second token's probability distribution can be nested within this first interval by scaling and shifting it.\n",
    "This works because the probabilities combine multiplicatively, which is what the scaling does, so the size of the final interval is precisely the probability of those two tokens."
   ]
  },
  {
   "cell_type": "code",
   "execution_count": 41,
   "id": "ec51633b-ae90-4d28-89f0-ecff4f5beed3",
   "metadata": {},
   "outputs": [
    {
     "data": {
      "text/plain": [
       "array([0.2803003 , 0.2803004 , 0.28030068, ..., 0.29715434, 0.29715434,\n",
       "       0.29715443], dtype=float32)"
      ]
     },
     "execution_count": 41,
     "metadata": {},
     "output_type": "execute_result"
    }
   ],
   "source": [
    "second_token_cumprob = torch.cat([torch.tensor([0]), probs[0,1].cumsum(-1)])\n",
    "\n",
    "second_token_range = (\n",
    "    second_token_cumprob * \n",
    "    (first_interval[1] - first_interval[0]) + \n",
    "    first_interval[0]\n",
    ")\n",
    "second_token_range.numpy()"
   ]
  },
  {
   "cell_type": "markdown",
   "id": "e7d90dde-05c4-443a-9153-6d94f9984dc0",
   "metadata": {},
   "source": [
    "And the actual second token corresponds to a new subinterval within this:"
   ]
  },
  {
   "cell_type": "code",
   "execution_count": 42,
   "id": "4ecdfbe4-463c-4d82-bd5e-8bae7df5c0aa",
   "metadata": {},
   "outputs": [
    {
     "data": {
      "text/plain": [
       "(0.28042399883270264, 0.2826676368713379)"
      ]
     },
     "execution_count": 42,
     "metadata": {},
     "output_type": "execute_result"
    }
   ],
   "source": [
    "second_interval = (second_token_range[tokens[0,1]].item(), second_token_range[tokens[0,1] + 1].item())\n",
    "second_interval"
   ]
  },
  {
   "cell_type": "markdown",
   "id": "24859afb-dacc-4963-8c1d-c177513ff12a",
   "metadata": {},
   "source": [
    "We can continue to do this, but it underflows in floating point arithmetic:"
   ]
  },
  {
   "cell_type": "code",
   "execution_count": 43,
   "id": "f60aaabb-ec1f-4bde-9362-658aebb93644",
   "metadata": {},
   "outputs": [
    {
     "data": {
      "text/plain": [
       "(0.28239691257476807, 0.0)"
      ]
     },
     "execution_count": 43,
     "metadata": {},
     "output_type": "execute_result"
    }
   ],
   "source": [
    "interval_start = 0.0\n",
    "interval_end = 1.0\n",
    "\n",
    "for (token, prob) in zip(target_tokens[0], probs[0]):\n",
    "    cumprob = torch.cat([torch.tensor([0]), prob.cumsum(-1)])\n",
    "    interval = cumprob * (interval_end - interval_start) + interval_start\n",
    "\n",
    "    interval_start = interval[token].item() \n",
    "    interval_end = interval[token+1].item()\n",
    "\n",
    "interval_start, interval_end - interval_start"
   ]
  },
  {
   "cell_type": "markdown",
   "id": "e532c25c-65d9-4d51-9ab7-4116589a1001",
   "metadata": {},
   "source": [
    "We also need to be very careful that we get the same predictions at decoding time as encoding time.\n",
    "Even though adding tokens *shouldn't* change the logits of earlier tokens, they in fact do (likely due to internal numerical optimizations)"
   ]
  },
  {
   "cell_type": "code",
   "execution_count": 44,
   "id": "de3c3b06-bd97-443f-9c76-26f1cd0c6876",
   "metadata": {},
   "outputs": [
    {
     "data": {
      "text/plain": [
       "tensor([3.9563e-11, 8.1855e-11, 5.1728e-12,  ..., 2.0428e-13, 1.0481e-13,\n",
       "        2.7285e-11])"
      ]
     },
     "execution_count": 44,
     "metadata": {},
     "output_type": "execute_result"
    }
   ],
   "source": [
    "with torch.inference_mode():\n",
    "        initial_prob = (\n",
    "            model(input_tokens[:,:2].to(model.device))\n",
    "            .logits\n",
    "            .softmax(axis=-1).cpu()\n",
    "        )\n",
    "\n",
    "probs[0,1] - initial_prob[0,1]"
   ]
  },
  {
   "cell_type": "markdown",
   "id": "29861292-3285-4526-abcc-dcb10ac163c2",
   "metadata": {},
   "source": [
    "These small differences add up so we have to recalculate the probability for each token:"
   ]
  },
  {
   "cell_type": "code",
   "execution_count": 45,
   "id": "0fe53f45-1c08-4a3c-9b49-0be7d9766d28",
   "metadata": {},
   "outputs": [
    {
     "data": {
      "text/plain": [
       "(Decimal('0.2823957792584107942411516971050169144494970488524710303979005644891815428996003512946854515522565131'),\n",
       " Decimal('4.2205713450432895501491773372034632259949E-60'))"
      ]
     },
     "execution_count": 45,
     "metadata": {},
     "output_type": "execute_result"
    }
   ],
   "source": [
    "from decimal import Decimal, getcontext\n",
    "\n",
    "# Set a high enough precision\n",
    "# There are smarter ways to do this like rescaling\n",
    "getcontext().prec = 100\n",
    "\n",
    "with torch.inference_mode():\n",
    "    probs = (\n",
    "        model(input_tokens.to(model.device))\n",
    "        .logits\n",
    "        .softmax(axis=-1).cpu()\n",
    "    )\n",
    "\n",
    "interval_start = Decimal(0.0)\n",
    "interval_end = Decimal(1.0)\n",
    "\n",
    "for idx in range(len(input_tokens[0])):\n",
    "\n",
    "    with torch.inference_mode():\n",
    "        prob = (\n",
    "            model(input_tokens[0,:idx+1].to(model.device))\n",
    "            .logits\n",
    "            .softmax(axis=-1)[-1].cpu()\n",
    "        )\n",
    "    token = target_tokens[0,idx]\n",
    "\n",
    "    \n",
    "    cumprob = [Decimal(0.0)]\n",
    "    for p in prob:    \n",
    "        cumprob.append(cumprob[-1] + Decimal(p.item()))\n",
    "    interval = [ cp * (interval_end - interval_start) +\n",
    "                interval_start for cp in cumprob]\n",
    "    interval_start, interval_end = interval[token], interval[token+1]\n",
    "    \n",
    "interval_start, interval_end - interval_start"
   ]
  },
  {
   "cell_type": "markdown",
   "id": "95ce962e-024c-4842-a239-9a45cc8ac3c6",
   "metadata": {},
   "source": [
    "Our final code should be the shortest decimal string in this interval:"
   ]
  },
  {
   "cell_type": "code",
   "execution_count": 46,
   "id": "8f820c2c-1a9f-4e06-a078-16be3bfa0bbe",
   "metadata": {},
   "outputs": [
    {
     "data": {
      "text/plain": [
       "(60, '282395779258410794241151697105016914449497048852471030397902')"
      ]
     },
     "execution_count": 46,
     "metadata": {},
     "output_type": "execute_result"
    }
   ],
   "source": [
    "interval_start_digits = interval_start.as_tuple().digits\n",
    "interval_end_digits = interval_end.as_tuple().digits\n",
    "\n",
    "digits = []\n",
    "\n",
    "for digit1, digit2 in zip(interval_start_digits, interval_end_digits):\n",
    "    if digit1 == digit2:\n",
    "        digits.append(digit1)\n",
    "    else:\n",
    "        digits.append((digit1 + digit2) // 2)\n",
    "        break\n",
    "\n",
    "digits = ''.join(map(str, digits))\n",
    "len(digits), digits"
   ]
  },
  {
   "cell_type": "markdown",
   "id": "9fc0bdce-4245-4b05-8bc5-30a808b4b921",
   "metadata": {},
   "source": [
    "Note that the number of digits is just above the decimal cross-entropy"
   ]
  },
  {
   "cell_type": "code",
   "execution_count": 47,
   "id": "6b04cfe9-9d23-40d1-9f44-2ccf391523e0",
   "metadata": {},
   "outputs": [
    {
     "data": {
      "text/plain": [
       "59.37140751560547"
      ]
     },
     "execution_count": 47,
     "metadata": {},
     "output_type": "execute_result"
    }
   ],
   "source": [
    "decimal_cross_entropy = cross_entropy.item() / math.log(10)\n",
    "\n",
    "assert decimal_cross_entropy < len(digits) < decimal_cross_entropy + 1\n",
    "\n",
    "decimal_cross_entropy"
   ]
  },
  {
   "cell_type": "markdown",
   "id": "12063451-cc3e-4843-a4dc-bd4b5e0441da",
   "metadata": {},
   "source": [
    "Note that the above isn't a practical algorithm for arithmetic coding as it relies on slow high-precision arithmetic (and potentially the PyTorch calculations may be device dependent!), but there are practical variants that can be obtained by rescaling the interval.\n",
    "Transformer language models are surprisingly good compressors [even on image and audio data](https://arxiv.org/abs/2309.10668) that they weren't trained on."
   ]
  },
  {
   "cell_type": "markdown",
   "id": "0c99158c-5867-4ec1-8cfc-46a2dfccdebf",
   "metadata": {},
   "source": [
    "## Decompression\n",
    "\n",
    "To make sure we've actually encoded the string we should check we can decode it by reversing the process.\n",
    "\n",
    "We start with the special initial token `eos_token_id`:"
   ]
  },
  {
   "cell_type": "code",
   "execution_count": 48,
   "id": "1ede0162-9d34-4820-8b80-4afeb69b2430",
   "metadata": {},
   "outputs": [],
   "source": [
    "decoded_tokens = torch.tensor([tokenizer.eos_token_id])"
   ]
  },
  {
   "cell_type": "markdown",
   "id": "31bfcf70-86ff-4e19-8b74-677df22c6759",
   "metadata": {},
   "source": [
    "And we want to find the interval containing the number given by the code:"
   ]
  },
  {
   "cell_type": "code",
   "execution_count": 49,
   "id": "c766d196-5541-4873-9d4c-ac0983f92da8",
   "metadata": {},
   "outputs": [
    {
     "data": {
      "text/plain": [
       "Decimal('0.282395779258410794241151697105016914449497048852471030397902')"
      ]
     },
     "execution_count": 49,
     "metadata": {},
     "output_type": "execute_result"
    }
   ],
   "source": [
    "target = Decimal('0.' + digits)\n",
    "target"
   ]
  },
  {
   "cell_type": "markdown",
   "id": "e9cd6bdb-902f-4973-a87e-affe3d0d28b4",
   "metadata": {},
   "source": [
    "And use the model to get the corresponding intervals"
   ]
  },
  {
   "cell_type": "code",
   "execution_count": 50,
   "id": "343f6115-ba85-4001-aac1-919041dc957b",
   "metadata": {},
   "outputs": [
    {
     "data": {
      "text/plain": [
       "(818,\n",
       " Decimal('0.28029916521467944795426659667895773352564066371872542049459298141300678253173828125'),\n",
       " Decimal('0.016854189336299896240234375'))"
      ]
     },
     "execution_count": 50,
     "metadata": {},
     "output_type": "execute_result"
    }
   ],
   "source": [
    "# Model probabilities\n",
    "with torch.inference_mode():\n",
    "    next_prob = F.softmax(model(decoded_tokens.to(model.device)).logits, dim=-1).cpu()\n",
    "\n",
    "total = Decimal(0.0)\n",
    "\n",
    "# Find the interval containing target\n",
    "for i, p in enumerate(next_prob[-1]):\n",
    "    p = Decimal(p.item())\n",
    "    if total + p >= target:\n",
    "        break\n",
    "    total += p\n",
    "\n",
    "size = p\n",
    "\n",
    "i, total, size"
   ]
  },
  {
   "cell_type": "markdown",
   "id": "a7680668-c8ed-4de8-99b6-ff386a17e07c",
   "metadata": {},
   "source": [
    "Our target interval lies completely within this range"
   ]
  },
  {
   "cell_type": "code",
   "execution_count": 51,
   "id": "36978b89-ebdb-4ddb-83a0-3192902ab06c",
   "metadata": {},
   "outputs": [
    {
     "data": {
      "text/plain": [
       "True"
      ]
     },
     "execution_count": 51,
     "metadata": {},
     "output_type": "execute_result"
    }
   ],
   "source": [
    "total <= interval_start < interval_end < total + size"
   ]
  },
  {
   "cell_type": "markdown",
   "id": "e10b5409-31a5-4ef0-a6a5-4aa383000541",
   "metadata": {},
   "source": [
    "We add our newly decoded token:"
   ]
  },
  {
   "cell_type": "code",
   "execution_count": 52,
   "id": "c458d09c-e8fc-4023-a6d6-0b116a630934",
   "metadata": {},
   "outputs": [
    {
     "data": {
      "text/plain": [
       "tensor([50256,   818])"
      ]
     },
     "execution_count": 52,
     "metadata": {},
     "output_type": "execute_result"
    }
   ],
   "source": [
    "decoded_tokens = torch.cat([decoded_tokens, torch.tensor([i])], 0)\n",
    "decoded_tokens"
   ]
  },
  {
   "cell_type": "markdown",
   "id": "08a4b35e-ff83-4520-9531-6b40bf895824",
   "metadata": {},
   "source": [
    "And repeat the process, rescaling the probabilities by `size`, the probability of the first decoded token:"
   ]
  },
  {
   "cell_type": "code",
   "execution_count": 53,
   "id": "ec2753a7-5d1f-41ec-96c2-1617f82231ac",
   "metadata": {},
   "outputs": [
    {
     "data": {
      "text/plain": [
       "(257,\n",
       " Decimal('0.280422870633518488482959359529116914118828604032719207985596687748852673394139856100082397460937500'),\n",
       " Decimal('0.00224367765963162657527618648600764572620391845703125'))"
      ]
     },
     "execution_count": 53,
     "metadata": {},
     "output_type": "execute_result"
    }
   ],
   "source": [
    "with torch.inference_mode():\n",
    "    next_prob = (\n",
    "        model(decoded_tokens.to(model.device))\n",
    "        .logits\n",
    "        .softmax(axis=-1).cpu()\n",
    "    )\n",
    "\n",
    "for i, p in enumerate(next_prob[-1]):\n",
    "    p = Decimal(p.item()) * size\n",
    "    if total + p > target:\n",
    "        break\n",
    "    total += p\n",
    "\n",
    "size = p\n",
    "\n",
    "i, total, size"
   ]
  },
  {
   "cell_type": "markdown",
   "id": "bbe63459-1551-45e4-806f-33e95dae385a",
   "metadata": {},
   "source": [
    "The target interval still lies within this interval:"
   ]
  },
  {
   "cell_type": "code",
   "execution_count": 54,
   "id": "60abb114-1131-4b6f-a030-0b87235daca6",
   "metadata": {},
   "outputs": [
    {
     "data": {
      "text/plain": [
       "True"
      ]
     },
     "execution_count": 54,
     "metadata": {},
     "output_type": "execute_result"
    }
   ],
   "source": [
    "total < interval_start < interval_end < total + size"
   ]
  },
  {
   "cell_type": "markdown",
   "id": "b6dcf2a3-e565-4f5f-b718-86fcd4a151ef",
   "metadata": {},
   "source": [
    "We repeat this process iteratively until we get the terminal token:"
   ]
  },
  {
   "cell_type": "code",
   "execution_count": 55,
   "id": "2c13d1b1-91d1-4f83-9010-2a9b5fbc37b3",
   "metadata": {},
   "outputs": [],
   "source": [
    "size = Decimal(1.0)\n",
    "total = Decimal(0.0)\n",
    "decoded_tokens = torch.tensor([tokenizer.eos_token_id])\n",
    "\n",
    "for _ in range(100):\n",
    "    with torch.inference_mode():\n",
    "        next_prob = (\n",
    "            model(decoded_tokens.to(model.device))\n",
    "            .logits\n",
    "            .softmax(axis=-1).cpu()\n",
    "        )\n",
    "\n",
    "    for i, p in enumerate(next_prob[-1]):\n",
    "        p = Decimal(p.item()) * size\n",
    "        if total + p >= target:\n",
    "            break\n",
    "        total += p\n",
    "\n",
    "    size = p\n",
    "\n",
    "    if i == tokenizer.eos_token_id:\n",
    "        break\n",
    "    assert total <= interval_start < interval_end <= total + size, \"Interval does not contain target interval\"\n",
    "    decoded_tokens = torch.cat([decoded_tokens, torch.tensor([i])], 0)"
   ]
  },
  {
   "cell_type": "markdown",
   "id": "16e4d950-f328-44c5-b3c6-0c5dd6470074",
   "metadata": {},
   "source": [
    "And we recover our original tokens"
   ]
  },
  {
   "cell_type": "code",
   "execution_count": 56,
   "id": "3733b32f-0989-46c3-86b0-8079a091628b",
   "metadata": {},
   "outputs": [
    {
     "data": {
      "text/plain": [
       "'<|endoftext|>In a shocking finding, scientist discovered a herd of unicorns living in a remote, previously unexplored valley, in the Andes Mountains. Even more surprising to the researchers was the fact that the unicorns spoke perfect English.\\n'"
      ]
     },
     "execution_count": 56,
     "metadata": {},
     "output_type": "execute_result"
    }
   ],
   "source": [
    "assert (decoded_tokens == input_tokens).all()\n",
    "\n",
    "tokenizer.decode(decoded_tokens)"
   ]
  },
  {
   "cell_type": "markdown",
   "id": "282a1fe6-ef62-4bd2-8aa6-d6c23e4c9c91",
   "metadata": {},
   "source": [
    "So we've demonstrated, at least in this case, that the cross-entropy is a measure of how much the data can be compressed."
   ]
  },
  {
   "attachments": {},
   "cell_type": "markdown",
   "id": "2efba5a5-292d-493c-9562-7755674e6cc0",
   "metadata": {},
   "source": [
    "## Intensive Quantities and Perplexity\n",
    "\n",
    "\n",
    "One issue with our measure of cross-entropy is it's an *extensive quantitity*; the longer the text the larger the cross-entropy.\n",
    "That means a text could have a high cross entropy because the model does not have good predictions of the tokens, or just because it's very long.\n",
    "One way to mitigate this is to average the sample cross-entropy over the tokens (which is often done in practice for the loss):\n",
    "\n",
    "$$  -\\frac{1}{n} (\\log P(t_1) + \\log P(t_2 \\vert t_1) + \\cdots + \\log P(t_n \\vert t_1, t_2, \\ldots, t_{n-1})) $$"
   ]
  },
  {
   "cell_type": "code",
   "execution_count": 57,
   "id": "b647dbf0-eaf4-41cd-aded-ee14d87a0113",
   "metadata": {},
   "outputs": [
    {
     "data": {
      "text/plain": [
       "2.908674955368042"
      ]
     },
     "execution_count": 57,
     "metadata": {},
     "output_type": "execute_result"
    }
   ],
   "source": [
    "average_cross_entropy =  F.cross_entropy(logits.transpose(-1,-2),\n",
    "                                         target_tokens,\n",
    "                                         reduction='mean').item()\n",
    "average_cross_entropy"
   ]
  },
  {
   "cell_type": "markdown",
   "id": "8a311027-20a4-4c57-ac22-8d70beec6642",
   "metadata": {},
   "source": [
    "One benefit of this is that we can easily compare any average cross entropy to that of a random model that assigns equal probability of $1/\\vert V \\vert$ to each token which is $\\log(\\vert V\\vert)$:"
   ]
  },
  {
   "cell_type": "code",
   "execution_count": 58,
   "id": "4705de47-5d78-4674-ac67-ff1d02b03888",
   "metadata": {},
   "outputs": [
    {
     "data": {
      "text/plain": [
       "10.82490511970208"
      ]
     },
     "execution_count": 58,
     "metadata": {},
     "output_type": "execute_result"
    }
   ],
   "source": [
    "random_average_cross_entropy = math.log(tokenizer.vocab_size)\n",
    "random_average_cross_entropy"
   ]
  },
  {
   "cell_type": "markdown",
   "id": "e81476e5-f81b-4d01-8a06-6dabb8953c2c",
   "metadata": {},
   "source": [
    "Perplexity is just the exponential of the average cross entropy; this is equivalent to the geometric mean of the inverse probabilities of each token:\n",
    "\n",
    "$$ \\rm{Perplexity} = \\sqrt[n]{\\frac{1}{P(t_1)} \\frac{1}{P(t_2 \\vert t_1)} \\cdots \\frac{1}{P(t_n \\vert t_1, t_2, \\ldots, t_{n-1})}} $$\n",
    "\n",
    "Note that for a uniform random model over tokens the perplexity is exactly the vocabulary size.\n",
    "In this case our token level perplexity is:"
   ]
  },
  {
   "cell_type": "code",
   "execution_count": 59,
   "id": "2d7603d1-e3be-4c8f-90bd-46d55b3d1aeb",
   "metadata": {},
   "outputs": [
    {
     "data": {
      "text/plain": [
       "18.33249109741429"
      ]
     },
     "execution_count": 59,
     "metadata": {},
     "output_type": "execute_result"
    }
   ],
   "source": [
    "perplexity_token = math.exp(average_cross_entropy)\n",
    "perplexity_token"
   ]
  },
  {
   "cell_type": "markdown",
   "id": "ab4bb98e-a24b-427a-87ce-18a310a14537",
   "metadata": {},
   "source": [
    "One downside is that it *depends on the model's tokenization*; if we use a different model with a different tokenization scheme we would not be able to compare tokens.\n",
    "In a way tokenization is an extra layer of compression that we need to take into account.\n",
    "\n",
    "An alternative would be to average over the number of characters in the text; we can rescale this by looking at the average characters per token:"
   ]
  },
  {
   "cell_type": "code",
   "execution_count": 60,
   "id": "6a3e0b9b-240a-4d79-9a2d-790058010f2c",
   "metadata": {},
   "outputs": [
    {
     "data": {
      "text/plain": [
       "5.021739130434782"
      ]
     },
     "execution_count": 60,
     "metadata": {},
     "output_type": "execute_result"
    }
   ],
   "source": [
    "characters_per_token = len(text) / len(tokens[0])\n",
    "characters_per_token"
   ]
  },
  {
   "cell_type": "code",
   "execution_count": 61,
   "id": "988b1df2-e218-4be4-a079-6329d3e56816",
   "metadata": {},
   "outputs": [
    {
     "data": {
      "text/plain": [
       "0.5792166577789175"
      ]
     },
     "execution_count": 61,
     "metadata": {},
     "output_type": "execute_result"
    }
   ],
   "source": [
    "character_average_cross_entropy = average_cross_entropy / characters_per_token\n",
    "character_average_cross_entropy"
   ]
  },
  {
   "cell_type": "markdown",
   "id": "57d68c68-f2a7-49a3-bf8d-e4e86cea0a96",
   "metadata": {},
   "source": [
    "And we could have a corresponding perplexity:"
   ]
  },
  {
   "cell_type": "code",
   "execution_count": 62,
   "id": "c5704438-d68f-4189-9f08-f082b75370f5",
   "metadata": {},
   "outputs": [
    {
     "data": {
      "text/plain": [
       "1.7846398992746815"
      ]
     },
     "execution_count": 62,
     "metadata": {},
     "output_type": "execute_result"
    }
   ],
   "source": [
    "perplexity_character = math.exp(character_average_cross_entropy)\n",
    "perplexity_character"
   ]
  },
  {
   "cell_type": "markdown",
   "id": "1bbc230f-cef8-4d23-9772-15c59e3623f7",
   "metadata": {},
   "source": [
    "If we convert the character cross-entropy to entropy in *bits* we get the *bits per character* (perplexity doesn't have a unit so it is unchanged):"
   ]
  },
  {
   "cell_type": "code",
   "execution_count": 63,
   "id": "0d139b28-c00d-4b77-ae27-4ef4c0eefab4",
   "metadata": {},
   "outputs": [
    {
     "data": {
      "text/plain": [
       "0.8356329997779242"
      ]
     },
     "execution_count": 63,
     "metadata": {},
     "output_type": "execute_result"
    }
   ],
   "source": [
    "bits_per_character = character_average_cross_entropy / math.log(2)\n",
    "bits_per_character"
   ]
  },
  {
   "cell_type": "markdown",
   "id": "ce8ba48f-e5be-42f8-bea7-6f65717c187b",
   "metadata": {},
   "source": [
    "If we use a specific encoding for the text, like UTF-8, we can measure *bits per byte* which aligns with the compression point of view; 8 bits per byte is no compression."
   ]
  },
  {
   "cell_type": "code",
   "execution_count": 64,
   "id": "0bb822b3-9b15-49b7-825c-bc3e7aef631b",
   "metadata": {},
   "outputs": [
    {
     "data": {
      "text/plain": [
       "8.0"
      ]
     },
     "execution_count": 64,
     "metadata": {},
     "output_type": "execute_result"
    }
   ],
   "source": [
    "bytes_per_character = 8 * len(text.encode('utf-8')) / len(text)\n",
    "bytes_per_character"
   ]
  },
  {
   "cell_type": "code",
   "execution_count": 65,
   "id": "df4feffa-52f6-42ec-855d-e85abb2cf773",
   "metadata": {},
   "outputs": [
    {
     "data": {
      "text/plain": [
       "0.10445412497224052"
      ]
     },
     "execution_count": 65,
     "metadata": {},
     "output_type": "execute_result"
    }
   ],
   "source": [
    "bits_per_byte = bits_per_character / bytes_per_character\n",
    "bits_per_byte"
   ]
  },
  {
   "cell_type": "markdown",
   "id": "e1769024-2e00-4d07-bcb6-f710ba5a1bed",
   "metadata": {},
   "source": [
    "Note however this does depend on an encoding; we would get a different result for UTF-16 encoded text"
   ]
  },
  {
   "cell_type": "code",
   "execution_count": 66,
   "id": "44a06f97-a7f1-4bdd-9d51-230b84245679",
   "metadata": {},
   "outputs": [
    {
     "data": {
      "text/plain": [
       "16.06926406926407"
      ]
     },
     "execution_count": 66,
     "metadata": {},
     "output_type": "execute_result"
    }
   ],
   "source": [
    "bytes_per_utf16_character = 8 * len(text.encode('utf-16')) / len(text)\n",
    "bytes_per_utf16_character"
   ]
  },
  {
   "cell_type": "markdown",
   "id": "f42bf96d-cab3-4869-a58c-a5ed70cab940",
   "metadata": {},
   "source": [
    "So we now have a relationship between all the important quantities:\n",
    "\n",
    "* cross-entropy is the negative log-likelihood of the text under the model\n",
    "* bits-per-character is the cross-entropy per character measured in bits (that is the logarithm is base 2)\n",
    "* bits-per-byte is the cross-entropy per byte of encoded text measured in bits; this is a real measure of how well the model can compress the text\n",
    "* perplexity is the exponential of the negative log-likelihood per token; that is it's the inverse of the geometric mean of the token likelihoods\n",
    "\n",
    "When comparing these quantities between models it's really important to keep track of the units for cross-entropy, the encoding for bits-per-byte, and the tokenization used for perplexity."
   ]
  },
  {
   "cell_type": "markdown",
   "id": "744e4539-89ae-4463-84a1-d6a47c9c0430",
   "metadata": {},
   "source": [
    "# Evaluating on large text\n",
    "\n",
    "Let's now try to reproduce some of the results from the GPT-2 paper by calculating Accuracy and Perplexity for Lambada, and the bits-per-byte for enwik8 with the 1.5 billion parameter version of GPT 2.\n",
    "We don't get the exact same numbers, but we get reasonably close.\n",
    "\n",
    "\n",
    "\n",
    " Model  | LAMBADA (PPL) | LAMBADA (ACC) | CBT-CN (ACC) | CBT-NE (ACC) | WikiText2 (PPL) | PTB (PPL) | enwik8 (BPB) | text8 (BPC) | WikiText103 (PPL) | 1BW (PPL) |\n",
    "|--------|---------------|---------------|--------------|--------------|----------------|-----------|--------------|-------------|------------------|-----------|\n",
    "| 117M   | 35.13         | 45.99         | 87.65        | 83.4         | 29.41          | 65.85     | 1.16         | 1.17        | 37.50            | 75.20     |\n",
    "| 345M   | 15.60         | 55.48         | 92.35        | 87.1         | 22.76          | 47.33     | 1.06         | 1.06        | 26.37            | 55.72     |\n",
    "| 762M   | 10.87         | 60.12         | 93.45        | 88.0         | 19.93          | 40.31     | 0.97         | 1.02        | 22.05            | 44.575    |\n",
    "| 1542M  | 8.63          | 63.24         | 93.30        | 89.05        | 18.34          | 35.76     | 0.93         | 0.98        | 17.48            | 42.16     |\n"
   ]
  },
  {
   "cell_type": "markdown",
   "id": "8d0e50f5-a0fb-424f-a7fe-192983b48870",
   "metadata": {},
   "source": [
    "## Lambada Accuracy\n",
    "\n",
    "The [Lambada dataset](https://arxiv.org/abs/1606.06031) is sentences from Book Corpus selected such that to predict the last word requires a lot of context; you can't guess it just from the last sentence."
   ]
  },
  {
   "cell_type": "code",
   "execution_count": 67,
   "id": "016a9208-3fda-4085-979f-f9fa0b4824ce",
   "metadata": {},
   "outputs": [],
   "source": [
    "from datasets import load_dataset\n",
    "\n",
    "lambada_ds = load_dataset('cimec/lambada')"
   ]
  },
  {
   "cell_type": "code",
   "execution_count": 68,
   "id": "75f79361-f94c-4891-8137-8393ae4ba277",
   "metadata": {},
   "outputs": [
    {
     "name": "stdout",
     "output_type": "stream",
     "text": [
      "her pay for the evening was almost double that of the wait staff and although that might not seem like a lot to some people , it was a small fortune to claire . after loading her final tray for a server , claire went to the restroom to freshen up and begin preparations for being loaded into the cake . pam had a couple of young men from college who assisted her into the cake . brian and max were a lot of fun and always made her laugh as they hoisted her up to the top of the cake\n"
     ]
    }
   ],
   "source": [
    "text = lambada_ds['validation']['text'][0]\n",
    "\n",
    "print(text)"
   ]
  },
  {
   "cell_type": "markdown",
   "id": "818ac430-9a99-4303-a2bb-0e05649a2113",
   "metadata": {},
   "source": [
    "Note that this has been pre-word tokenized and lowercased, which is quite different to the data GPT-2 was trained on.\n",
    "\n",
    "For the last word prediction task we can separate out the context from the answer.\n",
    "To work with the GPT-2 BPE tokenizer it is better to put the space with the answer:"
   ]
  },
  {
   "cell_type": "code",
   "execution_count": 69,
   "id": "a37d3ce0-c09d-4b58-ac02-529ad8742aed",
   "metadata": {},
   "outputs": [
    {
     "data": {
      "text/plain": [
       "('her pay for the evening was almost double that of the wait staff and although that might not seem like a lot to some people , it was a small fortune to claire . after loading her final tray for a server , claire went to the restroom to freshen up and begin preparations for being loaded into the cake . pam had a couple of young men from college who assisted her into the cake . brian and max were a lot of fun and always made her laugh as they hoisted her up to the top of the',\n",
       " ' cake')"
      ]
     },
     "execution_count": 69,
     "metadata": {},
     "output_type": "execute_result"
    }
   ],
   "source": [
    "context, answer = text.rsplit(' ', maxsplit=1)\n",
    "answer = ' ' + answer\n",
    "\n",
    "context, answer"
   ]
  },
  {
   "cell_type": "markdown",
   "id": "ac1afa1d-0042-485e-9e15-75a731885f58",
   "metadata": {},
   "source": [
    "We can convert the context and answer to tokens:"
   ]
  },
  {
   "cell_type": "code",
   "execution_count": 70,
   "id": "c0a8de4b-3b77-4f9f-b5c2-357e14a7c493",
   "metadata": {},
   "outputs": [
    {
     "data": {
      "text/plain": [
       "([12187], [' cake'])"
      ]
     },
     "execution_count": 70,
     "metadata": {},
     "output_type": "execute_result"
    }
   ],
   "source": [
    "tokens = tokenizer(context, return_tensors='pt')['input_ids']\n",
    "answer_tokens = tokenizer(answer)['input_ids']\n",
    "answer_tokens, [tokenizer.decode([t]) for t in answer_tokens]"
   ]
  },
  {
   "cell_type": "markdown",
   "id": "c43b972a-ddd8-4bc9-b197-b8147cd3e619",
   "metadata": {},
   "source": [
    "And the model's most likely prediction for the last token is correct:"
   ]
  },
  {
   "cell_type": "code",
   "execution_count": 71,
   "id": "b3eb79bc-884a-4d31-8a83-5d60e93af4bb",
   "metadata": {},
   "outputs": [
    {
     "data": {
      "text/plain": [
       "' cake'"
      ]
     },
     "execution_count": 71,
     "metadata": {},
     "output_type": "execute_result"
    }
   ],
   "source": [
    "with torch.inference_mode():\n",
    "    logits = model(tokens.to(model.device)).logits.cpu()[0,-1]\n",
    "    probs = logits.softmax(axis=-1)\n",
    "\n",
    "tokenizer.decode([logits.argmax()])"
   ]
  },
  {
   "cell_type": "markdown",
   "id": "8b81c49e-d820-4752-9138-de3d76c55e09",
   "metadata": {},
   "source": [
    "With high probabilitiy:"
   ]
  },
  {
   "cell_type": "code",
   "execution_count": 72,
   "id": "c0c078a6-253e-4c0b-9c17-c90cc40e8f77",
   "metadata": {},
   "outputs": [
    {
     "data": {
      "text/plain": [
       "'86%'"
      ]
     },
     "execution_count": 72,
     "metadata": {},
     "output_type": "execute_result"
    }
   ],
   "source": [
    "f'{probs[answer_tokens[0]]:0.0%}'"
   ]
  },
  {
   "attachments": {},
   "cell_type": "markdown",
   "id": "8dcc21c9-5b15-4968-b18f-5faf6e1c28bd",
   "metadata": {},
   "source": [
    "Let's look at another example (which requires remembering the name \"rowan\")"
   ]
  },
  {
   "cell_type": "code",
   "execution_count": 73,
   "id": "1faa278e-3585-4a5f-81bf-a0911560715d",
   "metadata": {},
   "outputs": [
    {
     "name": "stdout",
     "output_type": "stream",
     "text": [
      "`` nineteen , '' she said , and he loosed a breath that could have been sadness or relief or maybe both , and told her that made her magic even more impressive . she debated saying that he would be less impressed once he learned of her nickname for him , but winked at him instead . rowan was frowning when she caught up to him , but said nothing . as they walked away , gavriel murmured , `` good luck , rowan\n"
     ]
    }
   ],
   "source": [
    "text = lambada_ds['validation']['text'][1]\n",
    "\n",
    "print(text)"
   ]
  },
  {
   "cell_type": "markdown",
   "id": "76926bf0-aaa3-4d39-940f-6c12439b3274",
   "metadata": {},
   "source": [
    "In this case the answer is two tokens; we have to keep extending until we get a word:"
   ]
  },
  {
   "cell_type": "code",
   "execution_count": 74,
   "id": "9344729a-72e5-4fdb-ac00-9e7b3836b0f0",
   "metadata": {},
   "outputs": [
    {
     "data": {
      "text/plain": [
       "([5752, 272], [' row', 'an'])"
      ]
     },
     "execution_count": 74,
     "metadata": {},
     "output_type": "execute_result"
    }
   ],
   "source": [
    "context, answer = text.rsplit(' ', maxsplit=1)\n",
    "answer = ' ' + answer\n",
    "\n",
    "\n",
    "tokens = tokenizer(context, return_tensors='pt')['input_ids']\n",
    "answer_tokens = tokenizer(answer)['input_ids']\n",
    "answer_tokens, [tokenizer.decode([t]) for t in answer_tokens]"
   ]
  },
  {
   "cell_type": "markdown",
   "id": "6a560d38-1510-4192-9c0f-a01b44d211cb",
   "metadata": {},
   "source": [
    "To do this we need to know which tokens start with a space.\n",
    "We can pull this out of the tokenizer dictionary, which for some reason represents a space with `Ġ`:"
   ]
  },
  {
   "cell_type": "code",
   "execution_count": 75,
   "id": "0469ac7a-9a57-44f6-889c-21e7d40b61f9",
   "metadata": {},
   "outputs": [
    {
     "data": {
      "text/plain": [
       "['Ġrow']"
      ]
     },
     "execution_count": 75,
     "metadata": {},
     "output_type": "execute_result"
    }
   ],
   "source": [
    "[k for k,v in tokenizer.vocab.items() if v == 5752]"
   ]
  },
  {
   "cell_type": "markdown",
   "id": "3545ade3-b05a-482a-86fd-a3dcc9aca232",
   "metadata": {},
   "source": [
    "Ġ"
   ]
  },
  {
   "cell_type": "markdown",
   "id": "c6729c3e-a890-4ec2-9444-3782d7e6bd33",
   "metadata": {},
   "source": [
    "We can get all the tokens that do not start with a space:"
   ]
  },
  {
   "cell_type": "code",
   "execution_count": 76,
   "id": "eb8b7b7a-2e6d-4a42-b9f8-a4ccb0ac8fbe",
   "metadata": {},
   "outputs": [],
   "source": [
    "no_space_tokens = [v for k,v in tokenizer.vocab.items()\n",
    "                   if not k.startswith('Ġ')]"
   ]
  },
  {
   "cell_type": "markdown",
   "id": "563237d8-4000-486b-8575-16dcba662c35",
   "metadata": {},
   "source": [
    "We can also exclude all completions tokens except those that have lowercase English letters (in particular to exclude punctuation).\n",
    "This is a slight hack and it's not clear what tricks were used in the GPT-2 paper."
   ]
  },
  {
   "cell_type": "code",
   "execution_count": 77,
   "id": "ad30c2ab-be3f-48cc-b83e-15f173d0175f",
   "metadata": {},
   "outputs": [],
   "source": [
    "invalid_tokens = [v for k,v in tokenizer.vocab.items()\n",
    "                  if not re.match('Ġ?([a-z]+)$', k)]"
   ]
  },
  {
   "cell_type": "markdown",
   "id": "5f49d1f2-54a9-47e9-8411-b63dbe07e52e",
   "metadata": {},
   "source": [
    "Then we predict the first token (which much start with a space), and continue until we get another token starting with a space.\n",
    "We can prohibit invalid tokens by setting their logits to negative infinity.\n",
    "The probability accumulates multiplicatively:"
   ]
  },
  {
   "cell_type": "code",
   "execution_count": 78,
   "id": "e516ba1e-7f19-47fc-84df-fe58110052d4",
   "metadata": {},
   "outputs": [],
   "source": [
    "def get_next_word(context, max_tokens=5, invalid_tokens=invalid_tokens):\n",
    "    tokens = tokenizer(context, return_tensors='pt')['input_ids']\n",
    "    word = \"\"\n",
    "\n",
    "    for _ in range(max_tokens):\n",
    "        with torch.inference_mode():\n",
    "            logits = (\n",
    "                model(tokens.to(model.device))\n",
    "                .logits.cpu()[-1, -1].clone()\n",
    "            )\n",
    "\n",
    "            logits[invalid_tokens] = float('-inf')\n",
    "\n",
    "            # Needs to start with a space\n",
    "            if not word:\n",
    "                logits[no_space_tokens] = float('-inf')\n",
    "        \n",
    "        next_token_id = torch.argmax(logits).item()\n",
    "        next_token = tokenizer.decode([next_token_id])\n",
    "\n",
    "        # End at space after first\n",
    "        if word and next_token.startswith(' '):\n",
    "            break\n",
    "        \n",
    "        word += next_token\n",
    "        tokens = torch.cat([tokens,\n",
    "                            torch.tensor([next_token_id]).unsqueeze(0)],\n",
    "                           dim=-1)\n",
    "    \n",
    "    return word"
   ]
  },
  {
   "cell_type": "markdown",
   "id": "cf9be327-3115-4f93-80e1-1aad75f39331",
   "metadata": {},
   "source": [
    "In this case the model correctly predicts the next word:"
   ]
  },
  {
   "cell_type": "code",
   "execution_count": 79,
   "id": "4f824a70-53fa-4058-8290-e77e344fde23",
   "metadata": {},
   "outputs": [
    {
     "data": {
      "text/plain": [
       "' rowan'"
      ]
     },
     "execution_count": 79,
     "metadata": {},
     "output_type": "execute_result"
    }
   ],
   "source": [
    "get_next_word(context)"
   ]
  },
  {
   "cell_type": "markdown",
   "id": "025979e1-3733-412e-9f91-cb651219cda5",
   "metadata": {},
   "source": [
    "We can now go through the whole validation to get the model predictions for the next word, and the answers:"
   ]
  },
  {
   "cell_type": "code",
   "execution_count": 80,
   "id": "8e814e16-9b14-4d9e-bc6f-5afaafc3c44a",
   "metadata": {},
   "outputs": [],
   "source": [
    "answers = []\n",
    "predictions = []\n",
    "\n",
    "for text in lambada_ds['validation']['text']:\n",
    "    context, answer = text.rsplit(' ', maxsplit=1)\n",
    "    answers.append(' ' + answer)\n",
    "    predictions.append(get_next_word(context))"
   ]
  },
  {
   "cell_type": "markdown",
   "id": "3c549d9b-1329-4327-833d-4389c89c9cae",
   "metadata": {},
   "source": [
    "In the paper they mention they get the right answer 52.66% of the time, but I get a slightly lower accuracy:"
   ]
  },
  {
   "cell_type": "code",
   "execution_count": 81,
   "id": "c6d4dafb-4cc6-4de0-8f96-65bf4ad6b821",
   "metadata": {},
   "outputs": [
    {
     "data": {
      "text/plain": [
       "'46.23%'"
      ]
     },
     "execution_count": 81,
     "metadata": {},
     "output_type": "execute_result"
    }
   ],
   "source": [
    "accuracy = sum([a==b for a,b in zip(answers, predictions)]) / len(predictions)\n",
    "f'{accuracy:0.2%}'"
   ]
  },
  {
   "cell_type": "markdown",
   "id": "cec50bd4-6e54-4721-a21c-a1c7090ac304",
   "metadata": {},
   "source": [
    "Since they don't share many details and it's not in their [code release](https://github.com/openai/gpt-2) it's hard to know what I've done differently.\n",
    "This shows the importance of trying to replicate evaluations before comparing results on new systems.\n",
    "\n",
    "Let's have a look at some examples the model predicted incorrectly:"
   ]
  },
  {
   "cell_type": "code",
   "execution_count": 82,
   "id": "479eba74-cda1-430e-81e4-82350c20ecca",
   "metadata": {},
   "outputs": [
    {
     "data": {
      "text/plain": [
       "[(3, ' trouble', ' a'),\n",
       " (5, ' lucius', ' the'),\n",
       " (6, ' fetch', ' read'),\n",
       " (7, ' zeus', ' the'),\n",
       " (9, ' famine', ' ankou'),\n",
       " (10, ' michael', ' but'),\n",
       " (13, ' sheila', ' the'),\n",
       " (14, ' hunk', ' beauty'),\n",
       " (15, ' kaiden', ' unless'),\n",
       " (20, ' indio', ' right'),\n",
       " (23, ' anger', ' a'),\n",
       " (24, ' kristina', ' the'),\n",
       " (25, ' joanne', ' and'),\n",
       " (26, ' father', ' but'),\n",
       " (28, ' nate', ' the'),\n",
       " (31, ' tether', ' fire'),\n",
       " (33, ' broadcast', ' radio'),\n",
       " (34, ' rug', ' fireplace'),\n",
       " (37, ' bride', ' prey'),\n",
       " (39, ' dark', ' over')]"
      ]
     },
     "execution_count": 82,
     "metadata": {},
     "output_type": "execute_result"
    }
   ],
   "source": [
    "[(i, a,b) for  i, (a,b) in enumerate(zip(answers, predictions)) if a!= b][:20]"
   ]
  },
  {
   "cell_type": "markdown",
   "id": "510a92cb-cd2a-4f2f-a408-2047203e5d89",
   "metadata": {},
   "source": [
    "In the paper they mention:\n",
    "\n",
    "> Investigating GPT-2’s errors showed most\n",
    "predictions are valid continuations of the sentence, but are\n",
    "not valid final words. This suggests that the LM is not\n",
    "using the additional useful constraint that the word must be\n",
    "the final of the sentence. Adding a stop-word filter as an\n",
    "approximation to this further increases accuracy to 63.24%\n",
    "\n",
    "Looking at the 30 most common incorrect predictions this seems about right (although some of these words *could* be valid continuations of sentences like \"her\" or \"him\")."
   ]
  },
  {
   "cell_type": "code",
   "execution_count": 83,
   "id": "1b455b3e-7ddd-4cf0-a5e4-f5de49179c33",
   "metadata": {},
   "outputs": [
    {
     "data": {
      "text/plain": [
       "{' the': 'Wrong 411/411 (1.0)',\n",
       " ' and': 'Wrong 108/108 (1.0)',\n",
       " ' a': 'Wrong 96/96 (1.0)',\n",
       " ' i': 'Wrong 96/96 (1.0)',\n",
       " ' her': 'Wrong 81/81 (1.0)',\n",
       " ' but': 'Wrong 75/75 (1.0)',\n",
       " ' you': 'Wrong 60/60 (1.0)',\n",
       " ' him': 'Wrong 45/45 (1.0)',\n",
       " ' me': 'Wrong 33/33 (1.0)',\n",
       " ' my': 'Wrong 32/32 (1.0)',\n",
       " ' he': 'Wrong 31/31 (1.0)',\n",
       " ' or': 'Wrong 26/26 (1.0)',\n",
       " ' to': 'Wrong 25/25 (1.0)',\n",
       " ' it': 'Wrong 25/25 (1.0)',\n",
       " ' she': 'Wrong 21/21 (1.0)',\n",
       " ' not': 'Wrong 15/15 (1.0)',\n",
       " ' going': 'Wrong 15/15 (1.0)',\n",
       " ' do': 'Wrong 15/15 (1.0)',\n",
       " ' in': 'Wrong 14/14 (1.0)',\n",
       " ' man': 'Wrong 14/14 (1.0)'}"
      ]
     },
     "execution_count": 83,
     "metadata": {},
     "output_type": "execute_result"
    }
   ],
   "source": [
    "count_predictions = Counter(predictions)\n",
    "count_wrong = Counter([b for  a,b in zip(answers, predictions) if a!= b])\n",
    "\n",
    "{word: (f'Wrong {n_wrong}/{count_predictions[word]} ' \\\n",
    "        f'({n_wrong / count_predictions[word]})')\n",
    " for word, n_wrong in count_wrong.most_common(20)}"
   ]
  },
  {
   "cell_type": "markdown",
   "id": "24854503-644d-4ec2-ba4f-60f0d6797c40",
   "metadata": {},
   "source": [
    "Let's try removing stopwords; we'll use the nltk stopwords corpus"
   ]
  },
  {
   "cell_type": "code",
   "execution_count": 84,
   "id": "9b2e2964-9847-4d2b-8c64-996a487ced14",
   "metadata": {},
   "outputs": [
    {
     "data": {
      "text/plain": [
       "\"i, me, my, myself, we, our, ours, ourselves, you, you're, you've, you'll, you'd, your, yours\""
      ]
     },
     "execution_count": 84,
     "metadata": {},
     "output_type": "execute_result"
    }
   ],
   "source": [
    "import nltk\n",
    "from nltk.corpus import stopwords\n",
    " \n",
    "nltk.download('stopwords', quiet=True)\n",
    "\n",
    "', '.join(stopwords.words('english')[:15])"
   ]
  },
  {
   "cell_type": "markdown",
   "id": "90c886f2-3599-4be1-a495-88cc458aa527",
   "metadata": {},
   "source": [
    "And convert this into stop tokens:"
   ]
  },
  {
   "cell_type": "code",
   "execution_count": 85,
   "id": "b63816b4-bf48-407b-9c34-da96c70bd054",
   "metadata": {},
   "outputs": [
    {
     "data": {
      "text/plain": [
       "149"
      ]
     },
     "execution_count": 85,
     "metadata": {},
     "output_type": "execute_result"
    }
   ],
   "source": [
    "stop_sequences = [tokenizer(' ' + word)['input_ids'] for \n",
    "                  word in stopwords.words('english')]\n",
    "stop_tokens = [tokens[0] for tokens in stop_sequences\n",
    "               if len(tokens) == 1]\n",
    "len(stop_tokens)"
   ]
  },
  {
   "cell_type": "markdown",
   "id": "2f2af7bb-87f5-45b3-9417-f73b6c659c29",
   "metadata": {},
   "source": [
    "Which corresponds to the text:"
   ]
  },
  {
   "cell_type": "code",
   "execution_count": 86,
   "id": "ba541e53-29a4-40d1-a57a-bb1bfc23882e",
   "metadata": {},
   "outputs": [
    {
     "data": {
      "text/plain": [
       "' i, me, my, myself, we, our, ours, ourselves, you, your, yours, yourself, yourselves, he, him'"
      ]
     },
     "execution_count": 86,
     "metadata": {},
     "output_type": "execute_result"
    }
   ],
   "source": [
    "','.join(tokenizer.batch_decode(stop_tokens[:15]))"
   ]
  },
  {
   "cell_type": "markdown",
   "id": "2391f498-68b6-4968-b7c7-4d51578e09cd",
   "metadata": {},
   "source": [
    "Let's now get the answers excluding these stop tokens, and evaluate on the test split:"
   ]
  },
  {
   "cell_type": "code",
   "execution_count": 87,
   "id": "e78d96a4-1ab7-4b67-95eb-e73a31483030",
   "metadata": {},
   "outputs": [],
   "source": [
    "nostopword_answers = []\n",
    "nostopword_predictions = []\n",
    "\n",
    "for text in lambada_ds['test']['text']:\n",
    "    context, answer = text.rsplit(' ', maxsplit=1)\n",
    "    nostopword_answers.append(' ' + answer)\n",
    "    nostopword_predictions.append(get_next_word(context,\n",
    "                                                invalid_tokens=invalid_tokens + stop_tokens))"
   ]
  },
  {
   "cell_type": "markdown",
   "id": "c8274dd5-9120-4345-998b-74476c14c168",
   "metadata": {},
   "source": [
    "We get a substantial boost, but still are substantially below 63.24% in the paper; but still seems pretty good for an unsupervised result."
   ]
  },
  {
   "cell_type": "code",
   "execution_count": 88,
   "id": "150bba93-c456-4d13-849a-0242dc7116aa",
   "metadata": {},
   "outputs": [
    {
     "data": {
      "text/plain": [
       "'52.73%'"
      ]
     },
     "execution_count": 88,
     "metadata": {},
     "output_type": "execute_result"
    }
   ],
   "source": [
    "accuracy = (\n",
    "    sum([a==b for a,b in zip(nostopword_answers, nostopword_predictions)]) \n",
    "    / len(nostopword_answers)\n",
    ")\n",
    "f'{accuracy:0.2%}'"
   ]
  },
  {
   "cell_type": "markdown",
   "id": "6eaf7658-9a48-4232-b7de-f2e175d0fec2",
   "metadata": {},
   "source": [
    "## Lambada Perplexity\n",
    "\n",
    "They also report a perplexity of 8.63 on the answers of the Lambada test set.\n",
    "\n",
    "Let's go through how we could calculate the cross-entropy for a single example.\n",
    "First we get the tokens of the text and find the index that the answer starts at (the last space in the text):"
   ]
  },
  {
   "cell_type": "code",
   "execution_count": 89,
   "id": "6c0cdcce-f88d-4edb-92d6-b592ab344fc7",
   "metadata": {},
   "outputs": [],
   "source": [
    "text = lambada_ds['validation']['text'][1]\n",
    "tokens = tokenizer(text, return_tensors='pt')['input_ids'][0]"
   ]
  },
  {
   "cell_type": "code",
   "execution_count": 90,
   "id": "5feed402-bc15-4b4d-ac04-b7bd4ccc6c51",
   "metadata": {},
   "outputs": [
    {
     "data": {
      "text/plain": [
       "91"
      ]
     },
     "execution_count": 90,
     "metadata": {},
     "output_type": "execute_result"
    }
   ],
   "source": [
    "answer_first_token_id = max(i for i, t in enumerate(tokens) if t.item() not in set(no_space_tokens))\n",
    "answer_first_token_id"
   ]
  },
  {
   "cell_type": "code",
   "execution_count": 91,
   "id": "3e2c0126-6d9e-4a1f-a52b-5ab5a23195f2",
   "metadata": {},
   "outputs": [
    {
     "data": {
      "text/plain": [
       "' rowan'"
      ]
     },
     "execution_count": 91,
     "metadata": {},
     "output_type": "execute_result"
    }
   ],
   "source": [
    "tokenizer.decode(tokens[answer_first_token_id:])"
   ]
  },
  {
   "cell_type": "markdown",
   "id": "40e20284-2e38-4674-94b6-8c7fb346e64c",
   "metadata": {},
   "source": [
    "Then we calculate the cross-entropy (negative log-likelihood) of each token and add them together.\n",
    "If we were being careful we should also account for the fact that the next token starts with a space; we are going to slightly overestimate perplexity."
   ]
  },
  {
   "cell_type": "code",
   "execution_count": 92,
   "id": "03801333-1329-48d1-8084-188f1a5d5bcc",
   "metadata": {},
   "outputs": [
    {
     "data": {
      "text/plain": [
       "tensor(3.5461)"
      ]
     },
     "execution_count": 92,
     "metadata": {},
     "output_type": "execute_result"
    }
   ],
   "source": [
    "with torch.inference_mode():\n",
    "    logits = model(tokens.to(model.device)).logits.cpu().clone()\n",
    "\n",
    "    cross_entropy = F.cross_entropy(\n",
    "        logits[answer_first_token_id - 1:-1],\n",
    "        tokens[answer_first_token_id:],\n",
    "        reduction='sum')    \n",
    "\n",
    "cross_entropy"
   ]
  },
  {
   "cell_type": "markdown",
   "id": "031a498c-e973-49bc-b3ab-f2fe580dd33c",
   "metadata": {},
   "source": [
    "We can then do this for all the texts:"
   ]
  },
  {
   "cell_type": "code",
   "execution_count": 93,
   "id": "a9599d42-1b79-4aec-8948-1fe309b557ac",
   "metadata": {},
   "outputs": [],
   "source": [
    "cross_entropies = []\n",
    "\n",
    "for text in lambada_ds['validation']['text']:\n",
    "    tokens = tokenizer(text, return_tensors='pt')['input_ids'][0]\n",
    "    answer_first_token_id = max(i for i, t in enumerate(tokens) if t.item() not in set(no_space_tokens))\n",
    "\n",
    "    with torch.inference_mode():\n",
    "        logits = model(tokens.to(model.device)).logits.cpu().clone()\n",
    "    \n",
    "        cross_entropy = F.cross_entropy(\n",
    "            logits[answer_first_token_id - 1:-1],\n",
    "            tokens[answer_first_token_id:],\n",
    "            reduction='sum')\n",
    "        cross_entropies.append(cross_entropy)"
   ]
  },
  {
   "cell_type": "markdown",
   "id": "69190148-c9c2-4616-9175-280080aa0208",
   "metadata": {},
   "source": [
    "And get a final perplexity by exponentiating the average cross-entropy.\n",
    "Here we're getting 16.0 which is much higher than the paper's claimed 8.63 even though it's already an underestimate."
   ]
  },
  {
   "cell_type": "code",
   "execution_count": 94,
   "id": "ff6ea094-ac23-4442-b15a-25c601998bd9",
   "metadata": {},
   "outputs": [
    {
     "data": {
      "text/plain": [
       "tensor(15.9732)"
      ]
     },
     "execution_count": 94,
     "metadata": {},
     "output_type": "execute_result"
    }
   ],
   "source": [
    "(sum(cross_entropies) / len(cross_entropies)).exp()"
   ]
  },
  {
   "cell_type": "markdown",
   "id": "438c02d6-0e06-4fc3-9462-7b5e285d82c9",
   "metadata": {},
   "source": [
    "Again as there is no code it's hard to know what is being done differently; maybe excluding the probabilities of stop-word tokens by setting the logits to `-inf`.\n",
    "My stop-token list actually has occurances in the answers, so this gives me infinite loss."
   ]
  },
  {
   "cell_type": "code",
   "execution_count": 95,
   "id": "b027a23b-e16f-4f8c-a112-41956da0af26",
   "metadata": {},
   "outputs": [
    {
     "data": {
      "text/plain": [
       "[(' michael', ' m'),\n",
       " (' bekah', ' be'),\n",
       " (' sheila', ' she'),\n",
       " (' becca', ' be'),\n",
       " (' howie', ' how')]"
      ]
     },
     "execution_count": 95,
     "metadata": {},
     "output_type": "execute_result"
    }
   ],
   "source": [
    "[(a, tokenizer.decode(tokenizer(a)['input_ids'][0]))\n",
    " for a in answers if tokenizer(a)['input_ids'][0] in stop_tokens][:5]"
   ]
  },
  {
   "cell_type": "markdown",
   "id": "22637e40-ec4b-402a-b5e7-52811fe85825",
   "metadata": {},
   "source": [
    "## Bits per byte with Enwik8\n",
    "\n",
    "The [Hutter Prize](http://prize.hutter1.net/) is a competition to compress a sample of English Wikipedia as much as possible, with the motivation that good compression is closely related to intelligence.\n",
    "The best systems as of the time of writing have a compression ratio of about 0.9 bits per byte, but that size *includes the decoder*, and the weights of our 1.5 billion parameter model are much larger than the uncompressed file.\n",
    "Nevertheless it's interesting that GPT 2 gets a similar perplexity, as 0.93 bits per byte, even though it was never directly trained on the data.\n",
    "\n",
    "Let's first download enwik8 which contains the first 100 MB of a dump from English Wikipedia:"
   ]
  },
  {
   "cell_type": "code",
   "execution_count": 96,
   "id": "c53aa039-9877-497e-85ad-243d308c6bab",
   "metadata": {},
   "outputs": [
    {
     "data": {
      "text/plain": [
       "('enwik8.zip', <http.client.HTTPMessage at 0x79ec7c1e8a50>)"
      ]
     },
     "execution_count": 96,
     "metadata": {},
     "output_type": "execute_result"
    }
   ],
   "source": [
    "urlretrieve('http://mattmahoney.net/dc/enwik8.zip', filename='enwik8.zip')"
   ]
  },
  {
   "cell_type": "code",
   "execution_count": 97,
   "id": "162582c9-7adf-4c55-b7d1-f1a29109df51",
   "metadata": {},
   "outputs": [
    {
     "name": "stdout",
     "output_type": "stream",
     "text": [
      "b'<mediawiki xmlns=\"http://www.mediawiki.org/xml/export-0.3/\" xmlns:xsi=\"http://www.w3.org/2001/XMLSchema-instance\" xsi:schemaLocation=\"http://www.mediawiki.org/xml/export-0.3/ http://www.mediawiki.org/xml/export-0.3.xsd\" version=\"0.3\" xml:lang=\"en\">\\n  <siteinfo>\\n    <sitename>Wikipedia</sitename>\\n    <base>http://en.wikipedia.org/wiki/Main_Page</base>\\n    <generator>MediaWiki 1.6alpha</generator>\\n    <case>first-letter</case>\\n      <namespaces>\\n      <namespace key=\"-2\">Media</namespace>\\n      <n'\n"
     ]
    }
   ],
   "source": [
    "with ZipFile('enwik8.zip').open('enwik8') as f:\n",
    "    enwik8_bytes = f.read()\n",
    "\n",
    "print(enwik8_bytes[:500])"
   ]
  },
  {
   "cell_type": "markdown",
   "id": "6bd8026c-9c38-465b-9705-691179014570",
   "metadata": {},
   "source": [
    "We indeed have 1 million bytes:"
   ]
  },
  {
   "cell_type": "code",
   "execution_count": 98,
   "id": "e83622df-e2e5-4978-b284-143ef9f99107",
   "metadata": {},
   "outputs": [
    {
     "data": {
      "text/plain": [
       "100000000"
      ]
     },
     "execution_count": 98,
     "metadata": {},
     "output_type": "execute_result"
    }
   ],
   "source": [
    "len(enwik8_bytes)"
   ]
  },
  {
   "cell_type": "markdown",
   "id": "72e6dc56-9135-4887-b493-3460949fcaca",
   "metadata": {},
   "source": [
    "Now we decode it into characters, which is slightly smaller due to some multi-byte characters."
   ]
  },
  {
   "cell_type": "code",
   "execution_count": 99,
   "id": "25a71aa5-b7d1-4515-8e82-b66a6ade610a",
   "metadata": {},
   "outputs": [
    {
     "data": {
      "text/plain": [
       "99621832"
      ]
     },
     "execution_count": 99,
     "metadata": {},
     "output_type": "execute_result"
    }
   ],
   "source": [
    "enwik8 = enwik8_bytes.decode('utf-8')\n",
    "len(enwik8)"
   ]
  },
  {
   "cell_type": "markdown",
   "id": "4f6c43c2-9084-416f-84c6-b005e9e70831",
   "metadata": {},
   "source": [
    "Then we pass them through the tokenizer (which takes a long time)."
   ]
  },
  {
   "cell_type": "code",
   "execution_count": 100,
   "id": "91a589c9-e0e3-4ddd-9b8c-c82726230793",
   "metadata": {},
   "outputs": [
    {
     "name": "stderr",
     "output_type": "stream",
     "text": [
      "Token indices sequence length is longer than the specified maximum sequence length for this model (29013572 > 1024). Running this sequence through the model will result in indexing errors\n"
     ]
    }
   ],
   "source": [
    "tokens = tokenizer(enwik8, return_attention_mask=False)['input_ids']"
   ]
  },
  {
   "cell_type": "markdown",
   "id": "35663a99-a6c0-4d9e-8968-d67ec087a0c3",
   "metadata": {},
   "source": [
    "And pad the start and end with an End Of Sequence token."
   ]
  },
  {
   "cell_type": "code",
   "execution_count": 101,
   "id": "da2cf7da-01f2-4c23-b6dd-10efc3a0b9ab",
   "metadata": {},
   "outputs": [],
   "source": [
    "tokens = torch.tensor([tokenizer.eos_token_id] + tokens + [tokenizer.eos_token_id])"
   ]
  },
  {
   "cell_type": "markdown",
   "id": "4292b53b-a08c-4c44-b1fb-4d194cdbd1c5",
   "metadata": {},
   "source": [
    "We end up with much fewer tokens than bytes:"
   ]
  },
  {
   "cell_type": "code",
   "execution_count": 102,
   "id": "f4ae5464-7fd1-4d2b-ae17-d6a53a7fda1d",
   "metadata": {},
   "outputs": [
    {
     "data": {
      "text/plain": [
       "0.29013574"
      ]
     },
     "execution_count": 102,
     "metadata": {},
     "output_type": "execute_result"
    }
   ],
   "source": [
    "tokens_per_byte = len(tokens) / len(enwik8_bytes)\n",
    "\n",
    "tokens_per_byte"
   ]
  },
  {
   "cell_type": "markdown",
   "id": "455141c4-5f2b-43c5-8c9d-28628ec347eb",
   "metadata": {},
   "source": [
    "This is real compression; even though representing the whole vocabulary requires 16 bits:"
   ]
  },
  {
   "cell_type": "code",
   "execution_count": 103,
   "id": "feb39fbd-0c13-4387-868d-a1038b2a4fc5",
   "metadata": {},
   "outputs": [
    {
     "data": {
      "text/plain": [
       "16"
      ]
     },
     "execution_count": 103,
     "metadata": {},
     "output_type": "execute_result"
    }
   ],
   "source": [
    "math.ceil(math.log2(tokenizer.vocab_size))"
   ]
  },
  {
   "cell_type": "markdown",
   "id": "dcfd238f-7253-47f4-86b0-4c6b75c8064f",
   "metadata": {},
   "source": [
    "A baseline tokenizer would only halve the tokens per byte:"
   ]
  },
  {
   "cell_type": "code",
   "execution_count": 104,
   "id": "dca745cf-1db3-457c-bb88-440198dfe66c",
   "metadata": {},
   "outputs": [
    {
     "data": {
      "text/plain": [
       "0.5"
      ]
     },
     "execution_count": 104,
     "metadata": {},
     "output_type": "execute_result"
    }
   ],
   "source": [
    "8 / math.ceil(math.log2(tokenizer.vocab_size))"
   ]
  },
  {
   "cell_type": "markdown",
   "id": "01d9f2df-3dd0-4c4e-a56b-6e562be0b8b6",
   "metadata": {},
   "source": [
    "### Sampling the cross-entropy loss\n",
    "\n",
    "Transformer models can only take a finite sequence-length due to memory constraints, since attention is quadratic in length.\n",
    "When calculating the cross-entropy we can only do it over blocks at most the size of the maximum context length.\n",
    "We can get an approximation of the true value by sampling over random blocks of the text.\n",
    "\n",
    "Let's say we started with these 3 indices:"
   ]
  },
  {
   "cell_type": "code",
   "execution_count": 105,
   "id": "f08ccef5-ae8c-4794-a617-6dcf7af193ad",
   "metadata": {},
   "outputs": [],
   "source": [
    "idxs = torch.tensor([0,8,15]).view(-1,1)"
   ]
  },
  {
   "cell_type": "markdown",
   "id": "de9a9966-6279-46c5-8522-f287b6c560fe",
   "metadata": {},
   "source": [
    "If we could fit at most 5 tokens into the model then we would get all windows of length 5 starting at these indices:"
   ]
  },
  {
   "cell_type": "code",
   "execution_count": 106,
   "id": "33627402-4ec3-4905-ab2d-8ec727feb8d3",
   "metadata": {},
   "outputs": [
    {
     "data": {
      "text/plain": [
       "tensor([[ 0,  1,  2,  3,  4],\n",
       "        [ 8,  9, 10, 11, 12],\n",
       "        [15, 16, 17, 18, 19]])"
      ]
     },
     "execution_count": 106,
     "metadata": {},
     "output_type": "execute_result"
    }
   ],
   "source": [
    "sequence_length = 5\n",
    "\n",
    "offsets = torch.arange(sequence_length)\n",
    "input_positions = idxs + offsets\n",
    "input_positions"
   ]
  },
  {
   "cell_type": "markdown",
   "id": "866840f3-006a-4594-ba74-0993b7fc89f2",
   "metadata": {},
   "source": [
    "And try to predict the tokens at the next position along:"
   ]
  },
  {
   "cell_type": "code",
   "execution_count": 107,
   "id": "b8793d2b-34eb-463c-8ae4-fb16fee4c826",
   "metadata": {},
   "outputs": [
    {
     "data": {
      "text/plain": [
       "tensor([[ 1,  2,  3,  4,  5],\n",
       "        [ 9, 10, 11, 12, 13],\n",
       "        [16, 17, 18, 19, 20]])"
      ]
     },
     "execution_count": 107,
     "metadata": {},
     "output_type": "execute_result"
    }
   ],
   "source": [
    "target_positions = idxs + offsets + 1\n",
    "target_positions"
   ]
  },
  {
   "cell_type": "markdown",
   "id": "50612cff-bfd4-439c-8709-a1d4566c306b",
   "metadata": {},
   "source": [
    "The tokens at the input positions are given by:"
   ]
  },
  {
   "cell_type": "code",
   "execution_count": 108,
   "id": "85c195f7-e585-465f-91ca-2c19f14fe776",
   "metadata": {},
   "outputs": [
    {
     "data": {
      "text/plain": [
       "tensor([[50256,    27, 11431, 15466, 35555],\n",
       "        [ 1378,  2503,    13, 11431, 15466],\n",
       "        [   14, 19875,    14, 39344,    12]])"
      ]
     },
     "execution_count": 108,
     "metadata": {},
     "output_type": "execute_result"
    }
   ],
   "source": [
    "input_ids = tokens[input_positions]\n",
    "input_ids"
   ]
  },
  {
   "cell_type": "markdown",
   "id": "04ecc42e-fc53-46f5-8d78-563303ce9267",
   "metadata": {},
   "source": [
    "And the target tokens are shifted along by one position:"
   ]
  },
  {
   "cell_type": "code",
   "execution_count": 109,
   "id": "036ed293-2e3c-41bb-8808-10fa6d14557c",
   "metadata": {},
   "outputs": [
    {
     "data": {
      "text/plain": [
       "tensor([[   27, 11431, 15466, 35555,  5907],\n",
       "        [ 2503,    13, 11431, 15466,    13],\n",
       "        [19875,    14, 39344,    12,    15]])"
      ]
     },
     "execution_count": 109,
     "metadata": {},
     "output_type": "execute_result"
    }
   ],
   "source": [
    "target_ids = tokens[target_positions]\n",
    "target_ids"
   ]
  },
  {
   "cell_type": "markdown",
   "id": "052acadb-7a12-49ae-afe3-a3dd354e8bc1",
   "metadata": {},
   "source": [
    "We can then calculate the cross-entropy loss of the batch, getting a value for every input token:"
   ]
  },
  {
   "cell_type": "code",
   "execution_count": 110,
   "id": "81d73da5-1a76-4b07-875c-dba112af04ff",
   "metadata": {},
   "outputs": [
    {
     "data": {
      "text/plain": [
       "tensor([[7.1655e+00, 8.8852e+00, 9.3616e+00, 5.3536e+00, 1.1329e-02],\n",
       "        [7.0595e-01, 2.3947e-03, 6.1137e+00, 5.3579e+00, 1.8865e-03],\n",
       "        [9.1390e+00, 1.1836e+00, 6.4103e+00, 2.5620e+00, 6.3928e+00]],\n",
       "       device='cuda:0')"
      ]
     },
     "execution_count": 110,
     "metadata": {},
     "output_type": "execute_result"
    }
   ],
   "source": [
    "input_ids = input_ids.to(model.device)\n",
    "target_ids = target_ids.to(model.device)\n",
    "\n",
    "with torch.inference_mode():\n",
    "    logits = model(input_ids=input_ids).logits\n",
    "    cross_entropy = F.cross_entropy(logits.transpose(-1,-2),\n",
    "                                    target_ids,\n",
    "                                    reduction='none')    \n",
    "\n",
    "cross_entropy"
   ]
  },
  {
   "cell_type": "markdown",
   "id": "de8c67f4-d435-46cf-b438-2f80757f3380",
   "metadata": {},
   "source": [
    "To aggregate we can take the average over all of these to get a cross-entropy per token:"
   ]
  },
  {
   "cell_type": "code",
   "execution_count": 111,
   "id": "18c0173c-8b77-4f64-9aff-907b83283c32",
   "metadata": {},
   "outputs": [
    {
     "data": {
      "text/plain": [
       "tensor(4.5764, device='cuda:0')"
      ]
     },
     "execution_count": 111,
     "metadata": {},
     "output_type": "execute_result"
    }
   ],
   "source": [
    "cross_entropy.mean()"
   ]
  },
  {
   "cell_type": "markdown",
   "id": "636f22e5-76cb-484e-a9c7-c829e15ab5bd",
   "metadata": {},
   "source": [
    "We can scale this up to a large number of samples:"
   ]
  },
  {
   "cell_type": "code",
   "execution_count": 112,
   "id": "f04cc223-15ed-4695-80d2-12abe74c0785",
   "metadata": {},
   "outputs": [
    {
     "data": {
      "text/plain": [
       "torch.Size([512, 1024])"
      ]
     },
     "execution_count": 112,
     "metadata": {},
     "output_type": "execute_result"
    }
   ],
   "source": [
    "context_length = 1024\n",
    "num_samples = 512\n",
    "batch_size = 4\n",
    "\n",
    "g = torch.Generator()\n",
    "g.manual_seed(2147483647)\n",
    "\n",
    "sample_idx = torch.randint(tokens.size(-1) - (context_length + 1),\n",
    "                           size=(num_samples,1),\n",
    "                           generator=g)\n",
    "\n",
    "offsets = torch.arange(context_length)\n",
    "\n",
    "sample_cross_entropies = []\n",
    "\n",
    "for i in range(0, num_samples, batch_size):\n",
    "    idxs = sample_idx[i:i+batch_size]\n",
    "\n",
    "    input_ids = tokens[idxs + offsets].to(model.device)\n",
    "    target_ids = tokens[idxs + offsets+1].to(model.device)\n",
    "\n",
    "    with torch.inference_mode():\n",
    "        logits = model(input_ids=input_ids).logits\n",
    "        cross_entropy = F.cross_entropy(logits.transpose(-1,-2),\n",
    "                                        target_ids,\n",
    "                                        reduction='none')\n",
    "\n",
    "        sample_cross_entropies.append(cross_entropy.cpu())\n",
    "\n",
    "sample_cross_entropies = torch.cat(sample_cross_entropies, axis=0)\n",
    "sample_cross_entropies.shape"
   ]
  },
  {
   "cell_type": "markdown",
   "id": "093ab1e5-4936-4af0-9d84-6cfd75cb4d43",
   "metadata": {},
   "source": [
    "This gives a cross-entropy of:"
   ]
  },
  {
   "cell_type": "code",
   "execution_count": 113,
   "id": "bfa6606f-44f3-45b6-8f38-84a9c5023e20",
   "metadata": {},
   "outputs": [
    {
     "data": {
      "text/plain": [
       "2.428089141845703"
      ]
     },
     "execution_count": 113,
     "metadata": {},
     "output_type": "execute_result"
    }
   ],
   "source": [
    "cross_entropy = sample_cross_entropies.mean().item()\n",
    "cross_entropy"
   ]
  },
  {
   "cell_type": "markdown",
   "id": "06a515e0-a615-4097-b3f2-0fbf9b97092b",
   "metadata": {},
   "source": [
    "Or in bits-per-byte we get something a little bigger than the 0.93:"
   ]
  },
  {
   "cell_type": "code",
   "execution_count": 114,
   "id": "0a650cf1-2c58-43de-a17f-5edccd5d4ffe",
   "metadata": {},
   "outputs": [
    {
     "data": {
      "text/plain": [
       "1.01634322365168"
      ]
     },
     "execution_count": 114,
     "metadata": {},
     "output_type": "execute_result"
    }
   ],
   "source": [
    "tokens_per_byte * cross_entropy / math.log(2)"
   ]
  },
  {
   "cell_type": "markdown",
   "id": "cdea804b-23cb-4ddc-a88f-5d3fce460405",
   "metadata": {},
   "source": [
    "### Dependence of log-likelihood on amount of context\n",
    "\n",
    "Notice that the cross-entropy is much higher for the first few tokens than the later tokens.\n",
    "The average over all the tokens (dashed line) is slightly higher than the average over the later tokens."
   ]
  },
  {
   "cell_type": "code",
   "execution_count": 115,
   "id": "d21083a1-a19f-4ace-92b0-0dfda109d9e2",
   "metadata": {},
   "outputs": [
    {
     "name": "stdout",
     "output_type": "stream",
     "text": [
      "Loss at 1 token of context: 6.65 nats/token\n",
      "Loss at 20 tokens of context: 3.39 nats/token\n",
      "Loss at 1024 tokens of context: 2.31 nats/token\n",
      "\n",
      "Average over all context windows: 2.43 nats/token\n"
     ]
    },
    {
     "data": {
      "image/png": "[encoded data removed]",
      "text/plain": [
       "<Figure size 640x480 with 1 Axes>"
      ]
     },
     "metadata": {},
     "output_type": "display_data"
    }
   ],
   "source": [
    "plt.plot(range(context_length), sample_cross_entropies.mean(axis=0))\n",
    "plt.hlines(sample_cross_entropies.mean(), 0, context_length, color='black', linestyle='dashed')\n",
    "plt.title('Cross-entropy is lower when there is more context')\n",
    "plt.ylabel('Average cross-entropy per token (nats)')\n",
    "plt.xlabel('Number of tokens of context');\n",
    "\n",
    "print(f'''Loss at 1 token of context: {sample_cross_entropies[:,0].mean():0.2f} nats/token\n",
    "Loss at 20 tokens of context: {sample_cross_entropies[:,19].mean():0.2f} nats/token\n",
    "Loss at {context_length} tokens of context: {sample_cross_entropies[:,-1].mean():0.2f} nats/token\n",
    "\n",
    "Average over all context windows: {sample_cross_entropies.mean():0.2f} nats/token''')"
   ]
  },
  {
   "cell_type": "markdown",
   "id": "68a31239-6f57-4b62-8f2a-60ce39f79d30",
   "metadata": {},
   "source": [
    "That's because they have less context; the first position only has one token of context $P(t_2 \\vert t_1)$ (we don't estimate $P(t_1)$ here, we'll come back to this when we look at multiple texts) - it's very difficult to guess what comes after 1 token:"
   ]
  },
  {
   "cell_type": "code",
   "execution_count": 116,
   "id": "c7d8fb4e-33d0-4542-bbf5-fd0e8a6d0959",
   "metadata": {},
   "outputs": [
    {
     "name": "stdout",
     "output_type": "stream",
     "text": [
      " and\n",
      "\n",
      "↵\n",
      "\n",
      " \n",
      "\n",
      " designs\n",
      "\n"
     ]
    }
   ],
   "source": [
    "for t in tokenizer.batch_decode(input_ids[:,:1]):\n",
    "    print(t.replace('\\n', '↵') + '\\n')"
   ]
  },
  {
   "cell_type": "markdown",
   "id": "1c05a5ed-a184-4760-9214-3d26d2e3b85d",
   "metadata": {},
   "source": [
    "When you've got more context you have some chance of guessing:"
   ]
  },
  {
   "cell_type": "code",
   "execution_count": 117,
   "id": "46c64f7c-0564-49cb-8f04-b4053af1f896",
   "metadata": {},
   "outputs": [
    {
     "name": "stdout",
     "output_type": "stream",
     "text": [
      " and punctuation, we made some cuts in the manuscript, I feeling that Ernest would surely have made them himself.  The book is all Ernest's\n",
      "\n",
      "↵[[Category:Condensed matter physics| ]]↵&lt;!-- [[Category:Physics]] redundant supercat --&gt;↵\n",
      "\n",
      "   <title>Hellbender</title>↵    <id>14465</id>↵    <revision>\n",
      "\n",
      " designs. Recently, several manufacturers are offering built modules ready to be integrated in audio systems.↵An early and prolific area of application is high-powered\n",
      "\n"
     ]
    }
   ],
   "source": [
    "for t in tokenizer.batch_decode(input_ids[:,:30]):\n",
    "    print(t.replace('\\n', '↵') + '\\n')"
   ]
  },
  {
   "cell_type": "markdown",
   "id": "8c066fad-b101-4eac-add4-7b46298ff058",
   "metadata": {},
   "source": [
    "Looking at the histogram of cross-entropies the model doesn't always make good predictions even with 30 tokens of context, but the predictions are often much more likely than with 1 token of context."
   ]
  },
  {
   "cell_type": "code",
   "execution_count": 118,
   "id": "611a44f1-cb67-459b-94bf-721818bfcfcc",
   "metadata": {},
   "outputs": [
    {
     "data": {
      "image/png": "[encoded data removed]",
      "text/plain": [
       "<Figure size 640x480 with 1 Axes>"
      ]
     },
     "metadata": {},
     "output_type": "display_data"
    }
   ],
   "source": [
    "plt.hist(sample_cross_entropies[:,0], bins=20, label='1 token of context')\n",
    "plt.hist(sample_cross_entropies[:,29], bins=20, label='30 tokens of context', alpha=0.7)\n",
    "plt.legend()\n",
    "plt.title('Predictions are better with more context')\n",
    "plt.ylabel('Frequency')\n",
    "plt.xlabel('Cross-entropy (nats/token)');"
   ]
  },
  {
   "cell_type": "markdown",
   "id": "7a30dbed-f8aa-4ab7-9703-5ca9be742c9b",
   "metadata": {},
   "source": [
    "### Striding across the text\n",
    "\n",
    "One way to really compress the text within a transformer's finite-window is to split the text into blocks and compress each block, of fixed size separately.\n",
    "To maximise compression we can have the blocks overlap to increase the amount of context, only compressing new section in each block.\n",
    "This increases the number of blocks but also compresses the text much more effectively.\n",
    "Note that for a model like an RNN, RWKV, or Mamba we don't need to have these blocks since the hidden state can be propagated along the whole length of text.\n",
    "\n",
    "As an example suppose we had a maximum context length of 8 tokens, and wanted to always have a context length of at least 3 tokens (that is the overlap between this window and the previous is 3 tokens)."
   ]
  },
  {
   "cell_type": "code",
   "execution_count": 119,
   "id": "616d4e40-1509-407d-8d1e-0b04d44e03df",
   "metadata": {},
   "outputs": [],
   "source": [
    "max_tokens = 8\n",
    "min_context = 3"
   ]
  },
  {
   "cell_type": "markdown",
   "id": "9f910a52-f79e-46eb-bcc3-7276689838cf",
   "metadata": {},
   "source": [
    "The first block covers the tokens in positions (there's no additional context to look back to):"
   ]
  },
  {
   "cell_type": "code",
   "execution_count": 120,
   "id": "4b199b89-d205-4bcd-a8c1-e3ecbc46f806",
   "metadata": {},
   "outputs": [
    {
     "data": {
      "text/plain": [
       "(0, 8)"
      ]
     },
     "execution_count": 120,
     "metadata": {},
     "output_type": "execute_result"
    }
   ],
   "source": [
    "idx = 0\n",
    "end_idx = max_tokens\n",
    "\n",
    "idx, end_idx"
   ]
  },
  {
   "cell_type": "markdown",
   "id": "dfce9366-dae2-469b-9601-de702cb345f4",
   "metadata": {},
   "source": [
    "We get the corresponding tokens:"
   ]
  },
  {
   "cell_type": "code",
   "execution_count": 121,
   "id": "9f4ba3a9-69e3-4b3a-96cd-3bcef8c13b5d",
   "metadata": {},
   "outputs": [],
   "source": [
    "input_ids = tokens[idx:idx+max_tokens].to(model.device)"
   ]
  },
  {
   "cell_type": "markdown",
   "id": "49166971-27b4-4eb0-9d26-5628d6f030e0",
   "metadata": {},
   "source": [
    "And targets (next tokens):"
   ]
  },
  {
   "cell_type": "code",
   "execution_count": 122,
   "id": "b728cecb-29e6-4634-86ac-815ffbd396d2",
   "metadata": {},
   "outputs": [],
   "source": [
    "target_ids = tokens[idx+1:end_idx+1].to(model.device)"
   ]
  },
  {
   "cell_type": "markdown",
   "id": "0b688fb5-d7bb-47c4-947a-7f055deb4673",
   "metadata": {},
   "source": [
    "Then calculate the logits and total cross-entropy:"
   ]
  },
  {
   "cell_type": "code",
   "execution_count": 123,
   "id": "992cfbe9-60dc-4b07-8b46-5ea3c65a7f43",
   "metadata": {},
   "outputs": [],
   "source": [
    "logits = model(input_ids).logits"
   ]
  },
  {
   "cell_type": "code",
   "execution_count": 124,
   "id": "2052f225-0a87-4ad1-8258-90819127103f",
   "metadata": {},
   "outputs": [
    {
     "data": {
      "text/plain": [
       "tensor(31.2013, device='cuda:0', grad_fn=<NllLossBackward0>)"
      ]
     },
     "execution_count": 124,
     "metadata": {},
     "output_type": "execute_result"
    }
   ],
   "source": [
    "F.cross_entropy(logits, target_ids, reduction='sum')"
   ]
  },
  {
   "cell_type": "markdown",
   "id": "71d24f6d-009b-43e1-b130-e711e4dba4c5",
   "metadata": {},
   "source": [
    "For the next block we want to start compressing the section where the last window ended:"
   ]
  },
  {
   "cell_type": "code",
   "execution_count": 125,
   "id": "d22cfb44-3e69-4ec1-bcc1-0e126b498220",
   "metadata": {},
   "outputs": [
    {
     "data": {
      "text/plain": [
       "8"
      ]
     },
     "execution_count": 125,
     "metadata": {},
     "output_type": "execute_result"
    }
   ],
   "source": [
    "idx = end_idx\n",
    "idx"
   ]
  },
  {
   "cell_type": "markdown",
   "id": "f33abc1c-86e4-462e-8670-1f8c9e9a97f3",
   "metadata": {},
   "source": [
    "But we want to look back `min_context` tokens for additional context for the next block (which we can also do at decompresion time)"
   ]
  },
  {
   "cell_type": "code",
   "execution_count": 126,
   "id": "08fd6eb1-464c-46d8-9679-4534cf42783e",
   "metadata": {},
   "outputs": [
    {
     "data": {
      "text/plain": [
       "5"
      ]
     },
     "execution_count": 126,
     "metadata": {},
     "output_type": "execute_result"
    }
   ],
   "source": [
    "start_idx = idx - min_context\n",
    "start_idx"
   ]
  },
  {
   "cell_type": "markdown",
   "id": "15151dc2-e66d-4bcd-9c8f-7069daa002a4",
   "metadata": {},
   "source": [
    "The block then ends `max_tokens` after this `start_idx`:"
   ]
  },
  {
   "cell_type": "code",
   "execution_count": 127,
   "id": "0e457e6f-5e53-4ebf-b387-8de7ff9ca500",
   "metadata": {},
   "outputs": [
    {
     "data": {
      "text/plain": [
       "13"
      ]
     },
     "execution_count": 127,
     "metadata": {},
     "output_type": "execute_result"
    }
   ],
   "source": [
    "end_idx = start_idx + max_tokens\n",
    "end_idx"
   ]
  },
  {
   "cell_type": "markdown",
   "id": "917496d4-5f77-47d7-a942-35689b9df262",
   "metadata": {},
   "source": [
    "Our input tokens is then the whole block from `start_idx` to `end_idx`:"
   ]
  },
  {
   "cell_type": "code",
   "execution_count": 128,
   "id": "45027d12-8fee-4066-89ca-7dcb21255e70",
   "metadata": {},
   "outputs": [
    {
     "data": {
      "text/plain": [
       "tensor([ 5907,  2625,  4023,  1378,  2503,    13, 11431, 15466],\n",
       "       device='cuda:0')"
      ]
     },
     "execution_count": 128,
     "metadata": {},
     "output_type": "execute_result"
    }
   ],
   "source": [
    "input_ids = tokens[start_idx:end_idx].to(model.device)\n",
    "input_ids"
   ]
  },
  {
   "cell_type": "markdown",
   "id": "8e928055-79c1-4199-aec0-97d8900db447",
   "metadata": {},
   "source": [
    "But our target is only over the section we want to compress, the tokens after `idx` through to `end_idx`:"
   ]
  },
  {
   "cell_type": "code",
   "execution_count": 129,
   "id": "6cf9b75a-071f-46fb-a81d-abf5f7bfab56",
   "metadata": {},
   "outputs": [
    {
     "data": {
      "text/plain": [
       "tensor([ 2503,    13, 11431, 15466,    13], device='cuda:0')"
      ]
     },
     "execution_count": 129,
     "metadata": {},
     "output_type": "execute_result"
    }
   ],
   "source": [
    "target_ids = tokens[idx+1:end_idx+1].to(model.device)\n",
    "target_ids"
   ]
  },
  {
   "cell_type": "markdown",
   "id": "fd862d5e-ff86-49b7-9628-35eb1371586b",
   "metadata": {},
   "source": [
    "We get the model's predicted logits over the whole block:"
   ]
  },
  {
   "cell_type": "code",
   "execution_count": 130,
   "id": "cce9802c-52d6-4664-b864-1bc227ed0544",
   "metadata": {},
   "outputs": [
    {
     "data": {
      "text/plain": [
       "torch.Size([8, 50257])"
      ]
     },
     "execution_count": 130,
     "metadata": {},
     "output_type": "execute_result"
    }
   ],
   "source": [
    "logits = model(input_ids).logits\n",
    "logits.shape"
   ]
  },
  {
   "cell_type": "markdown",
   "id": "9765bb2b-98dd-4828-9dcc-e64c87682561",
   "metadata": {},
   "source": [
    "And calculate the total cross-entropy, but only over the target section we want to compress:"
   ]
  },
  {
   "cell_type": "code",
   "execution_count": 131,
   "id": "7420a621-7c7f-4d4e-b6d8-1233fbfbf130",
   "metadata": {},
   "outputs": [
    {
     "data": {
      "text/plain": [
       "tensor(9.4940, device='cuda:0', grad_fn=<NllLossBackward0>)"
      ]
     },
     "execution_count": 131,
     "metadata": {},
     "output_type": "execute_result"
    }
   ],
   "source": [
    "cross_entropy = F.cross_entropy(logits[-len(target_ids):],\n",
    "                                target_ids,\n",
    "                                reduction='sum')\n",
    "cross_entropy"
   ]
  },
  {
   "cell_type": "markdown",
   "id": "d6bc1e0c-665e-41b2-97a1-30abcdc1fe27",
   "metadata": {},
   "source": [
    "We would then continue on with the next end index:"
   ]
  },
  {
   "cell_type": "code",
   "execution_count": 132,
   "id": "60535dc5-c6af-4459-a6c1-e48811fc98c9",
   "metadata": {},
   "outputs": [
    {
     "data": {
      "text/plain": [
       "13"
      ]
     },
     "execution_count": 132,
     "metadata": {},
     "output_type": "execute_result"
    }
   ],
   "source": [
    "idx = end_idx\n",
    "idx"
   ]
  },
  {
   "cell_type": "markdown",
   "id": "bb284a86-797d-4774-8510-199be8a32442",
   "metadata": {},
   "source": [
    "We can put this all together in a function, taking particular care with the first block (where there's no context) and the last block (which may not be a full block).\n",
    "It would be more efficient to run inference in batches, but I do it one at a time because the code is simpler to read:"
   ]
  },
  {
   "cell_type": "code",
   "execution_count": 133,
   "id": "b554dcf5-1b44-4bd8-803c-f7874c1b355e",
   "metadata": {},
   "outputs": [],
   "source": [
    "def stride_cross_entropy(tokens, max_tokens=1024, min_context=256):\n",
    "\n",
    "    if min_context >= max_tokens:\n",
    "        raise ValueError()\n",
    "    \n",
    "    cross_entropy = 0.\n",
    "\n",
    "    idx = 0\n",
    "    while idx < len(tokens):\n",
    "        start_idx = max(idx - min_context, 0)\n",
    "        end_idx = min(start_idx + max_tokens, len(tokens))\n",
    "        \n",
    "        input_ids = tokens[start_idx:end_idx].to(model.device)\n",
    "        target_ids = tokens[idx+1:end_idx+1].to(model.device)\n",
    "    \n",
    "        with torch.inference_mode():\n",
    "            logits = model(input_ids).logits[-len(target_ids):]\n",
    "            cross_entropy += F.cross_entropy(logits[-len(target_ids):],\n",
    "                                             target_ids,\n",
    "                                             reduction='sum').item()\n",
    "    \n",
    "        idx = end_idx\n",
    "\n",
    "    return cross_entropy / len(tokens)\n",
    "        \n",
    "cross_entropy_windowed = stride_cross_entropy(tokens)"
   ]
  },
  {
   "cell_type": "markdown",
   "id": "bd226aed-53e7-4e9d-90b9-3b5ee777eac7",
   "metadata": {},
   "source": [
    "We can then calculate the entropy with a context of 256 tokens over a window of 1024:"
   ]
  },
  {
   "cell_type": "code",
   "execution_count": 134,
   "id": "cf805942-ade7-4b8c-837e-e10d9d62cfed",
   "metadata": {},
   "outputs": [
    {
     "data": {
      "text/plain": [
       "0.9813043866209555"
      ]
     },
     "execution_count": 134,
     "metadata": {},
     "output_type": "execute_result"
    }
   ],
   "source": [
    "tokens_per_byte * cross_entropy_windowed / math.log(2)"
   ]
  },
  {
   "cell_type": "markdown",
   "id": "5c69d6fe-d1b2-430e-b237-58272fa02ac2",
   "metadata": {},
   "source": [
    "If we increase the amount of context to 768 we get something just a little higher than the claimed 0.93 (I don't run the maximum 1023 because it will take a very long time):"
   ]
  },
  {
   "cell_type": "code",
   "execution_count": 135,
   "id": "d5733fbe-4388-4b5f-a00a-82542c04e2dd",
   "metadata": {},
   "outputs": [
    {
     "data": {
      "text/plain": [
       "0.9688098539751745"
      ]
     },
     "execution_count": 135,
     "metadata": {},
     "output_type": "execute_result"
    }
   ],
   "source": [
    "cross_entropy_768 = stride_cross_entropy(tokens, min_context=768)\n",
    "tokens_per_byte * cross_entropy_768 / math.log(2)"
   ]
  },
  {
   "cell_type": "markdown",
   "id": "4d4ae622-5e58-42bd-95e3-0ca55c18d4a3",
   "metadata": {},
   "source": [
    "# Comparing Language Model Metrics\n",
    "\n",
    "I hope this article makes it easier to understand the links between different compression metrics, but also the subtlety in comparing metrics across models.\n",
    "When comparing perplexity or average cross-entropy it's important to know the same tokenization was used across models and for cross-entropy knowing the unit (base of logarithm used).\n",
    "The metrics bits-per-byte and bits-per-character are easier to compare (as long as you know the text encoding), since they are the cross-entropy in base 2, averaged over the bytes/characters respectively.\n",
    "When calculating perplexity for transformer models you have to take into account the sequence length used, and for long texts the amount of context used in each window (the more context the better the metrics, but the slower the evaluation).\n",
    "\n",
    "Older language modelling datasets have a fixed-word vocabulary and anything outside is represented with an unknown token (like `<UNK>`), and it's a little subtle how you calculate the cross-entropy of this token; it's technically infinite, but you could either skip it or explicitly assign a probability to it.\n",
    "The advantage of a BPE tokenizer in GPT-2 is all possible byte strings can be encoded and decoded, and should have a non-zero probability.\n",
    "However if you wanted to compare results on these datasets fairly you would need to know how they score out of vocabulary tokens.\n",
    "\n",
    "For datasets with multiple texts you need to decide whether you micro-average or macro-average the results.\n",
    "Typically in the loss function and metrics the results are micro-averaged, that is you calculate the cross-entropy loss across the whole dataset and divide by the total number of tokens.\n",
    "This gives a good estimate of the compressibility of the whole dataset, but it puts more weight on longer texts with more tokens.\n",
    "An alternative would be to macro-average the results; calculate the cross-entropy loss for each text separately and take the average of those losses; this is akin to averaging the compression ratios over lots of files.\n",
    "\n",
    "You should now have the tools to understand and compare the language modelling capabilities of real models, especially ones you train.\n",
    "Keep in mind that language modelling aims to minimise the cross-entropy loss on the *training corpus* and if you calculate cross-entropy loss on a corpus with a different distribution you will get a worse (higher) number; you might want to fine-tune it a little to make it more comparable.\n",
    "Also for instruction-tuned (or otherwise supervised fine-tuned) models the predictions get further from true probabalistic predictions of the likelihood of text."
   ]
  }
 ],
 "metadata": {
  "kernelspec": {
   "display_name": "Python 3 (ipykernel)",
   "language": "python",
   "name": "python3"
  },
  "language_info": {
   "codemirror_mode": {
    "name": "ipython",
    "version": 3
   },
   "file_extension": ".py",
   "mimetype": "text/x-python",
   "name": "python",
   "nbconvert_exporter": "python",
   "pygments_lexer": "ipython3",
   "version": "3.11.9"
  }
 },
 "nbformat": 4,
 "nbformat_minor": 5
}
