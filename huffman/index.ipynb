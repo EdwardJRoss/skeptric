{
 "cells": [
  {
   "cell_type": "raw",
   "id": "ff6a5627-f692-48b7-84fa-9c824d6e6ddf",
   "metadata": {},
   "source": [
    "---\n",
    "categories:\n",
    "- entropy\n",
    "date: '2024-09-16T21:00:24+10:00'\n",
    "image: ./binary_coding.jpg\n",
    "title: Lossless Compression with Huffman Codes\n",
    "format:\n",
    "  html:\n",
    "    toc: true\n",
    "---"
   ]
  },
  {
   "cell_type": "markdown",
   "id": "cc72b901-5231-4e61-8983-710231ccb344",
   "metadata": {},
   "source": [
    "Lossless compression algorithms are almost magical; you can take some data source squish it down into a smaller space, and then restore it back to its full size later.\n",
    "They let us store and transfer large amounts of data for a fraction of the cost of the total data.\n",
    "The algorithms aren't really magical though, they just exploit redundancies in the data like repeated substrings and some strings being used much more frequently than others.\n",
    "\n",
    "For example suppose I need to store a large list of English words (maybe for a spell-checker, or a Scrabble or Wordle clone).\n",
    "I could store the 26 letters of the English alphabet and an end of word symbol in 5 bit words from `00000` to `11010`.\n",
    "Then given that an average word is about 5 letters I'll need about 25 bits per word.\n",
    "\n",
    "However almost all my words have an `E`, in fact it makes almost 10% of my letters, and if I could use a shorter code for `E` (say `111`) then I could shrink the list considerably (by about 4%).\n",
    "In fact if I could give the common letters like `E`, `T` and `A` all shorter codes, even if it means giving rare letters like `Q` and `Z` longer codes, then I could shrink the length of my list even more.\n",
    "\n",
    "The Huffman Code gives the shortest possible average code length for a given symbol probability distribution.\n",
    "It's used as part of many common compression algorithms such as in Zip files (via [Delfate](https://en.wikipedia.org/wiki/Deflate)), gzip, JPEG Images and MP3 Audio Files.\n",
    "Despite it's utility it's actually quite straightforward and this article will show how to build the Huffman algorithm in Python.\n",
    "If you want to understand the theory behind it I recommend Chapter 5 of [MacKay's *Information Theory, Inference, and Learning Algorithms*](http://www.inference.org.uk/itila/book.html) and the [Huffman Coding Wikipedia page](https://en.wikipedia.org/wiki/Huffman_coding)."
   ]
  },
  {
   "cell_type": "markdown",
   "id": "59938062-aac4-4d5f-a1dd-11ed67075e8f",
   "metadata": {},
   "source": [
    "## Optimal Symbol Codes\n",
    "\n",
    "A *symbol code* takes each letter of our input alphabet and outputs a code, for example `A` could map to `00000` and `B` to `00001`.\n",
    "To encode a string of symbols we just put their codes together, so `AB` would be `0000000001`.\n",
    "Our goal is to create a code that has the fewest number of bits output on average.\n",
    "\n",
    "This obviously depends on the distribution of the input symbols.\n",
    "If we took an optimal symbol code for English, and then shifted all the letters by 1 (that is `A` becomes `B`, `B` becomes `C`, right through to `Z` becomes `A`) then the code would not be optimal for this new letter distribution.\n",
    "\n",
    "The shortest possible code is less than 1 bit longer than the [*Shannon entropy*](https://en.wikipedia.org/wiki/Entropy_(information_theory)), $H$, of the underlying distribution.\n",
    "Specifically if the input symbols have distribution $X$ then the minimum length is between $H(X)$ and $H(X)+1$ (see Theorem 5.1 of [MacKay](http://www.inference.org.uk/itila/book.html))."
   ]
  },
  {
   "cell_type": "code",
   "execution_count": 1,
   "id": "e893739d-a15d-4168-994f-ec6c62f6bd89",
   "metadata": {},
   "outputs": [],
   "source": [
    "from math import log2\n",
    "from typing import List\n",
    "\n",
    "def cross_entropy_bits(p: List[float], q: List[float]):\n",
    "    if len(p) != len(q):\n",
    "        raise ValueError(\"Lists must be equal length\")\n",
    "\n",
    "    return -sum(p_i * log2(q_i) for p_i, q_i in zip(p,q) if p_i != 0)\n",
    "\n",
    "def entropy_bits(p: List[float]):\n",
    "    return cross_entropy_bits(p, p)"
   ]
  },
  {
   "cell_type": "markdown",
   "id": "5770856f-26e5-4c17-8636-aa263f7f6795",
   "metadata": {},
   "source": [
    "Back to our English word list example if we look at the [distribution of English letters that Peter Norvig got from Google N-grams](https://norvig.com/mayzner.html), including the end of a word denoted by `_`:"
   ]
  },
  {
   "cell_type": "code",
   "execution_count": 2,
   "id": "32350db4-dc52-4d25-842c-9aed56421048",
   "metadata": {
    "scrolled": true
   },
   "outputs": [
    {
     "data": {
      "image/png": "[encoded data removed]",
      "text/plain": [
       "<Figure size 640x480 with 1 Axes>"
      ]
     },
     "metadata": {},
     "output_type": "display_data"
    }
   ],
   "source": [
    "import matplotlib.pyplot as plt\n",
    "import matplotlib.ticker as mtick\n",
    "\n",
    "# I've explicitly added a \"space\" here to determine the end of the word\n",
    "letter_counts = dict(\n",
    "_=743.8,E=445.2,T=330.5,A=286.5,O=272.3,I=269.7,N=257.8,\n",
    "S=232.1,R=223.8,H=180.1,L=145.0,D=136.0,C=119.2,U=97.3,\n",
    "M=89.5,F=85.6,P=76.1,G=66.6,W=59.7,Y=59.3,B=52.9,V=37.5,\n",
    "K=19.3,X=8.4,J=5.7,Q=4.3,Z=3.2,\n",
    ")\n",
    "\n",
    "letter_probabilities = {k:v/sum(letter_counts.values()) for k,v in letter_counts.items()}\n",
    "\n",
    "fig, ax = plt.subplots()\n",
    "ax.barh(list(reversed(letter_probabilities.keys())),\n",
    "         list(reversed(letter_probabilities.values())))\n",
    "ax.set_title('Probability of letter in English books')\n",
    "ax.set_xlabel('Probability')\n",
    "ax.set_ylabel('Letter')\n",
    "ax.xaxis.set_major_formatter(mtick.PercentFormatter(1.0))"
   ]
  },
  {
   "cell_type": "markdown",
   "id": "75990e7f-201e-4a6f-9404-6e2bf43e6565",
   "metadata": {},
   "source": [
    "Then the entropy is:"
   ]
  },
  {
   "cell_type": "code",
   "execution_count": 3,
   "id": "46c50b69-24e3-444d-8191-af48fecbfc9f",
   "metadata": {},
   "outputs": [
    {
     "data": {
      "text/plain": [
       "4.109986339934039"
      ]
     },
     "execution_count": 3,
     "metadata": {},
     "output_type": "execute_result"
    }
   ],
   "source": [
    "letter_entropy = entropy_bits(letter_probabilities.values())\n",
    "letter_entropy"
   ]
  },
  {
   "cell_type": "markdown",
   "id": "da914c81-abd8-406d-a85a-db605bbfba69",
   "metadata": {},
   "source": [
    "So the best compression ratio we could possibly have over our naive 5 bit encoding is:"
   ]
  },
  {
   "cell_type": "code",
   "execution_count": 4,
   "id": "ca9807e5-435a-4a10-b275-65dd9c7240d7",
   "metadata": {},
   "outputs": [
    {
     "data": {
      "text/plain": [
       "'82.20%'"
      ]
     },
     "execution_count": 4,
     "metadata": {},
     "output_type": "execute_result"
    }
   ],
   "source": [
    "f'{letter_entropy / 5:0.2%}'"
   ]
  },
  {
   "attachments": {},
   "cell_type": "markdown",
   "id": "9c10a8bf-d18c-4fc2-9f53-ba131e86303a",
   "metadata": {},
   "source": [
    "## Huffman Code\n",
    "\n",
    "David Huffman's 1951 paper [A Method for the Construction of Minimum-Redundancy Codes](https://www.ias.ac.in/article/fulltext/reso/011/02/0091-0099) presented an algorithm for an optimal symbol code.\n",
    "The idea is to build a binary tree by iteratively combining the two least probable items.\n",
    "The code is then the path from the root of the tree to that item; improbable symbols have a very long code and probable symbols have a much shorter code."
   ]
  },
  {
   "cell_type": "markdown",
   "id": "17e00bbe-03c0-49ee-a2e8-8ad6f80af4a5",
   "metadata": {},
   "source": [
    "![An example of a Binary Huffman Code](binary_coding.jpg)"
   ]
  },
  {
   "cell_type": "markdown",
   "id": "6f7f48e0-8ca3-4337-b539-314c0937c25c",
   "metadata": {},
   "source": [
    "## Binary Tree\n",
    "\n",
    "We can implement the Huffman code in a straightforward (but not necessarily efficient) way in Python.\n",
    "\n",
    "We start by defining the binary tree datastructure; we need a Leaf type that represents the input symbols and their probabilities (weights):"
   ]
  },
  {
   "cell_type": "code",
   "execution_count": 5,
   "id": "3b4f241e-3f40-4097-8f87-a209adf2a8a5",
   "metadata": {},
   "outputs": [],
   "source": [
    "from dataclasses import dataclass\n",
    "from typing import Any, Dict, Generic, List, Tuple, Generic, Mapping, Union, TypeVar\n",
    "\n",
    "T = TypeVar('T')\n",
    "\n",
    "@dataclass\n",
    "class Leaf(Generic[T]):\n",
    "    symbol: T\n",
    "    weight: float"
   ]
  },
  {
   "cell_type": "markdown",
   "id": "a172c7e2-a883-4754-ad0a-7fa50187af46",
   "metadata": {},
   "source": [
    "And an InternalNode type that consists of a pointer to two other objects, either a Leaf or another Node.\n",
    "Their weight is precisely the sum of the weights of the two children."
   ]
  },
  {
   "cell_type": "code",
   "execution_count": 6,
   "id": "48fe6c0d-6da1-4c6d-a5ac-c7dd0c4e977e",
   "metadata": {},
   "outputs": [],
   "source": [
    "@dataclass\n",
    "class InternalNode(Generic[T]):\n",
    "    left: Union[Leaf, 'Node[T]']\n",
    "    right: Union[Leaf, 'Node[T]']\n",
    "    weight: float"
   ]
  },
  {
   "cell_type": "markdown",
   "id": "3be1ce0a-897c-48cb-8ed2-f4bdd474d96b",
   "metadata": {},
   "source": [
    "A Node represents either a Leaf or an InternalNode:"
   ]
  },
  {
   "cell_type": "code",
   "execution_count": 7,
   "id": "d745206a-eb00-4d34-bfa4-d3143bcccd4b",
   "metadata": {},
   "outputs": [],
   "source": [
    "Node = Union[Leaf[T], InternalNode[T]]"
   ]
  },
  {
   "cell_type": "markdown",
   "id": "377b7f90-ffb0-4003-a1e4-d29ec47d2236",
   "metadata": {},
   "source": [
    "## Iteration Step\n",
    "\n",
    "We start off with a list of Leaf Nodes, and then at each step combine the two smallest weight Nodes to produce a new Node.\n",
    "This continues until there is only one Node left.\n",
    "\n",
    "First we need a procedure to find the two smallest Nodes:"
   ]
  },
  {
   "cell_type": "code",
   "execution_count": 8,
   "id": "ff32070f-c98e-4cdb-b47c-835f50e1e6aa",
   "metadata": {},
   "outputs": [],
   "source": [
    "def smallest_two_indices(l: List[float]) -> Tuple[int, int]:\n",
    "    if len(l) < 2:\n",
    "        raise ValueError(\"Requires at least two items\")\n",
    "    \n",
    "    result = []\n",
    "    indices = list(range(len(l)))\n",
    "\n",
    "    idx_smallest = min(indices, key=lambda i: l[i])\n",
    "    idx_second_smallest = min((i for i in indices if i != idx_smallest),\n",
    "                              key=lambda i: l[i])\n",
    "    \n",
    "    return idx_smallest, idx_second_smallest"
   ]
  },
  {
   "cell_type": "markdown",
   "id": "1a566d76-8fb6-4ab5-98f5-33af5bcaab1d",
   "metadata": {},
   "source": [
    "Note this is by no means the most efficient way to do this since we scan through the whole list twice when we could do it in a single scan.\n",
    "In fact if we first sorted the nodes and kept them in sorted order (with a [priority queue](https://en.wikipedia.org/wiki/Priority_queue) like [heapq](https://docs.python.org/3/library/heapq.html)) we could reduce the cost of the whole algorithm from $O(N^2)$ to $O(N \\log N)$ where $N$ is the number of source symbols.\n",
    "To keep things simple I won't do this here.\n",
    "\n",
    "We can check this implementation returns the indices of the two smallest values using [property based testing](/property-based-testing) with [hypothesis](https://hypothesis.readthedocs.io/en/latest/):"
   ]
  },
  {
   "cell_type": "code",
   "execution_count": 9,
   "id": "eaf5cb1f-70be-465f-bcba-e4e26680a15d",
   "metadata": {},
   "outputs": [],
   "source": [
    "from hypothesis import given\n",
    "import hypothesis.strategies as st\n",
    "\n",
    "@given(st.lists(st.floats(allow_nan=False), min_size=2))\n",
    "def test_smallest_two_indices(l):\n",
    "    smallest_idx, second_smallest_idx = smallest_two_indices(l)\n",
    "    smallest_value, second_smallest_value = l[smallest_idx], l[second_smallest_idx]\n",
    "\n",
    "    for idx, value in enumerate(l):\n",
    "        assert smallest_value <= value\n",
    "\n",
    "        if idx != smallest_idx:\n",
    "            assert second_smallest_value <= value\n",
    "\n",
    "\n",
    "test_smallest_two_indices()"
   ]
  },
  {
   "cell_type": "markdown",
   "id": "2e56517d-d3a3-4ac9-a0f5-425c14f201fa",
   "metadata": {},
   "source": [
    "Then in each step we take a list of Nodes of length $L>1$ and combine the two smallest nodes to get an output list of length $L-1$.\n",
    "The sum of the weights is invariant in each step."
   ]
  },
  {
   "cell_type": "code",
   "execution_count": 10,
   "id": "3768bc87-0d4c-4608-a728-0057256f980f",
   "metadata": {},
   "outputs": [],
   "source": [
    "# Contract: len(components) > 1\n",
    "#           len(components) + 1 == len(return)\n",
    "#           sum(c.probability for c in components) = sum(r.probability for r in return)\n",
    "def huffman_step(components: List[Node[T]]) -> List[Node[T]]:\n",
    "    idx0, idx1 = smallest_two_indices([l.weight for l in components])\n",
    "\n",
    "    left = components[idx0]\n",
    "    right = components[idx1]\n",
    "\n",
    "    node = InternalNode(left=left, right=right, weight = left.weight + right.weight)\n",
    "\n",
    "    result = [node] + [components[idx] for idx in range(len(components)) if idx != idx0 and idx != idx1]\n",
    "    assert len(result) + 1 == len(components)\n",
    "    return result"
   ]
  },
  {
   "cell_type": "markdown",
   "id": "d6446bf9-e1b5-46f0-930e-d186ac56d0e7",
   "metadata": {},
   "source": [
    "Then to build the Huffman Tree is a simple matter of applying this step recursively until we only have a single root node left."
   ]
  },
  {
   "cell_type": "code",
   "execution_count": 11,
   "id": "82b78f52-ba91-4191-a3cf-0d623dc3bab0",
   "metadata": {},
   "outputs": [],
   "source": [
    "def huffman_tree(scores: Mapping[Any, float]) -> Node:\n",
    "    components = [Leaf(symbol=k, weight=v) for k,v in scores.items()]\n",
    "    while len(components) > 1:\n",
    "        components = huffman_step(components)\n",
    "    return components[0]"
   ]
  },
  {
   "cell_type": "markdown",
   "id": "3a4b2e00-598c-4eae-ab9a-4cbadfbaa703",
   "metadata": {},
   "source": [
    "## Getting the code\n",
    "\n",
    "To get the code from the tree we need to walk the tree and output the path codes to each node.\n",
    "\n",
    "Let's start with a concrete example; suppose we have a source with these probabilities:"
   ]
  },
  {
   "cell_type": "code",
   "execution_count": 12,
   "id": "1f05d778-5dc4-41d4-9ec3-8859fd65ea01",
   "metadata": {},
   "outputs": [],
   "source": [
    "probs = dict(\n",
    "    a=0.25,\n",
    "    b=0.25,\n",
    "    c=0.2,\n",
    "    d=0.15,\n",
    "    e=0.15,\n",
    ")"
   ]
  },
  {
   "cell_type": "markdown",
   "id": "2fffa0ec-3727-46d7-bcb1-4a5631305ebc",
   "metadata": {},
   "source": [
    "We can then create the tree:"
   ]
  },
  {
   "cell_type": "code",
   "execution_count": 13,
   "id": "46661a16-cff5-496a-84e9-b5443638317d",
   "metadata": {},
   "outputs": [
    {
     "data": {
      "text/plain": [
       "InternalNode(left=InternalNode(left=Leaf(symbol='c', weight=0.2), right=Leaf(symbol='a', weight=0.25), weight=0.45), right=InternalNode(left=Leaf(symbol='b', weight=0.25), right=InternalNode(left=Leaf(symbol='d', weight=0.15), right=Leaf(symbol='e', weight=0.15), weight=0.3), weight=0.55), weight=1.0)"
      ]
     },
     "execution_count": 13,
     "metadata": {},
     "output_type": "execute_result"
    }
   ],
   "source": [
    "tree = huffman_tree(probs)\n",
    "tree"
   ]
  },
  {
   "cell_type": "markdown",
   "id": "6a281282-993e-49d1-a274-e928c4e1fc93",
   "metadata": {},
   "source": [
    "Unless you're a Lisp afficianado this tree might be hard to visualise; but we can easily draw it out with `graphviz`:"
   ]
  },
  {
   "cell_type": "code",
   "execution_count": 14,
   "id": "fe1d21e2-c02c-4ed3-93bf-7fb00e908d2c",
   "metadata": {},
   "outputs": [
    {
     "data": {
      "image/svg+xml": [
       "<?xml version=\"1.0\" encoding=\"UTF-8\" standalone=\"no\"?>\n",
       "<!DOCTYPE svg PUBLIC \"-//W3C//DTD SVG 1.1//EN\"\n",
       " \"http://www.w3.org/Graphics/SVG/1.1/DTD/svg11.dtd\">\n",
       "<!-- Generated by graphviz version 12.0.0 (20240803.0821)\n",
       " -->\n",
       "<!-- Pages: 1 -->\n",
       "<svg width=\"448pt\" height=\"312pt\"\n",
       " viewBox=\"0.00 0.00 448.00 311.75\" xmlns=\"http://www.w3.org/2000/svg\" xmlns:xlink=\"http://www.w3.org/1999/xlink\">\n",
       "<g id=\"graph0\" class=\"graph\" transform=\"scale(1 1) rotate(0) translate(4 307.75)\">\n",
       "<polygon fill=\"white\" stroke=\"none\" points=\"-4,4 -4,-307.75 444,-307.75 444,4 -4,4\"/>\n",
       "<g id=\"node1\" class=\"node\">\n",
       "<title></title>\n",
       "<ellipse fill=\"none\" stroke=\"black\" cx=\"194.58\" cy=\"-285.75\" rx=\"27\" ry=\"18\"/>\n",
       "<text text-anchor=\"middle\" x=\"194.58\" y=\"-281.07\" font-family=\"Times,serif\" font-size=\"14.00\">1</text>\n",
       "</g>\n",
       "<!-- 1 -->\n",
       "<g id=\"node2\" class=\"node\">\n",
       "<title>1</title>\n",
       "<ellipse fill=\"none\" stroke=\"black\" cx=\"140.58\" cy=\"-196.5\" rx=\"33.32\" ry=\"18\"/>\n",
       "<text text-anchor=\"middle\" x=\"140.58\" y=\"-191.82\" font-family=\"Times,serif\" font-size=\"14.00\">0.45</text>\n",
       "</g>\n",
       "<!-- &#45;&gt;1 -->\n",
       "<g id=\"edge7\" class=\"edge\">\n",
       "<title>&#45;&gt;1</title>\n",
       "<path fill=\"none\" stroke=\"black\" d=\"M184.68,-268.75C176.86,-256.12 165.79,-238.24 156.7,-223.55\"/>\n",
       "<polygon fill=\"black\" stroke=\"black\" points=\"159.83,-221.94 151.59,-215.28 153.87,-225.63 159.83,-221.94\"/>\n",
       "<text text-anchor=\"middle\" x=\"176.08\" y=\"-236.45\" font-family=\"Times,serif\" font-size=\"14.00\">1</text>\n",
       "</g>\n",
       "<!-- 0 -->\n",
       "<g id=\"node5\" class=\"node\">\n",
       "<title>0</title>\n",
       "<ellipse fill=\"none\" stroke=\"black\" cx=\"249.58\" cy=\"-196.5\" rx=\"33.32\" ry=\"18\"/>\n",
       "<text text-anchor=\"middle\" x=\"249.58\" y=\"-191.82\" font-family=\"Times,serif\" font-size=\"14.00\">0.55</text>\n",
       "</g>\n",
       "<!-- &#45;&gt;0 -->\n",
       "<g id=\"edge8\" class=\"edge\">\n",
       "<title>&#45;&gt;0</title>\n",
       "<path fill=\"none\" stroke=\"black\" d=\"M204.67,-268.75C212.63,-256.12 223.9,-238.24 233.16,-223.55\"/>\n",
       "<polygon fill=\"black\" stroke=\"black\" points=\"236,-225.6 238.38,-215.27 230.08,-221.87 236,-225.6\"/>\n",
       "<text text-anchor=\"middle\" x=\"231.08\" y=\"-236.45\" font-family=\"Times,serif\" font-size=\"14.00\">0</text>\n",
       "</g>\n",
       "<!-- 11 -->\n",
       "<g id=\"node3\" class=\"node\">\n",
       "<title>11</title>\n",
       "<ellipse fill=\"none\" stroke=\"black\" cx=\"38.58\" cy=\"-107.25\" rx=\"38.58\" ry=\"18\"/>\n",
       "<text text-anchor=\"middle\" x=\"38.58\" y=\"-102.58\" font-family=\"Times,serif\" font-size=\"14.00\">c: 0.2</text>\n",
       "</g>\n",
       "<!-- 1&#45;&gt;11 -->\n",
       "<g id=\"edge1\" class=\"edge\">\n",
       "<title>1&#45;&gt;11</title>\n",
       "<path fill=\"none\" stroke=\"black\" d=\"M123.28,-180.7C107.26,-166.99 83.21,-146.42 64.82,-130.7\"/>\n",
       "<polygon fill=\"black\" stroke=\"black\" points=\"67.34,-128.24 57.46,-124.4 62.79,-133.56 67.34,-128.24\"/>\n",
       "<text text-anchor=\"middle\" x=\"103.08\" y=\"-147.2\" font-family=\"Times,serif\" font-size=\"14.00\">1</text>\n",
       "</g>\n",
       "<!-- 10 -->\n",
       "<g id=\"node4\" class=\"node\">\n",
       "<title>10</title>\n",
       "<ellipse fill=\"none\" stroke=\"black\" cx=\"140.58\" cy=\"-107.25\" rx=\"45.42\" ry=\"18\"/>\n",
       "<text text-anchor=\"middle\" x=\"140.58\" y=\"-102.58\" font-family=\"Times,serif\" font-size=\"14.00\">a: 0.25</text>\n",
       "</g>\n",
       "<!-- 1&#45;&gt;10 -->\n",
       "<g id=\"edge2\" class=\"edge\">\n",
       "<title>1&#45;&gt;10</title>\n",
       "<path fill=\"none\" stroke=\"black\" d=\"M140.58,-178.26C140.58,-166.43 140.58,-150.45 140.58,-136.75\"/>\n",
       "<polygon fill=\"black\" stroke=\"black\" points=\"144.08,-136.97 140.58,-126.97 137.08,-136.97 144.08,-136.97\"/>\n",
       "<text text-anchor=\"middle\" x=\"145.08\" y=\"-147.2\" font-family=\"Times,serif\" font-size=\"14.00\">0</text>\n",
       "</g>\n",
       "<!-- 01 -->\n",
       "<g id=\"node6\" class=\"node\">\n",
       "<title>01</title>\n",
       "<ellipse fill=\"none\" stroke=\"black\" cx=\"249.58\" cy=\"-107.25\" rx=\"45.95\" ry=\"18\"/>\n",
       "<text text-anchor=\"middle\" x=\"249.58\" y=\"-102.58\" font-family=\"Times,serif\" font-size=\"14.00\">b: 0.25</text>\n",
       "</g>\n",
       "<!-- 0&#45;&gt;01 -->\n",
       "<g id=\"edge5\" class=\"edge\">\n",
       "<title>0&#45;&gt;01</title>\n",
       "<path fill=\"none\" stroke=\"black\" d=\"M249.58,-178.26C249.58,-166.43 249.58,-150.45 249.58,-136.75\"/>\n",
       "<polygon fill=\"black\" stroke=\"black\" points=\"253.08,-136.97 249.58,-126.97 246.08,-136.97 253.08,-136.97\"/>\n",
       "<text text-anchor=\"middle\" x=\"254.08\" y=\"-147.2\" font-family=\"Times,serif\" font-size=\"14.00\">1</text>\n",
       "</g>\n",
       "<!-- 00 -->\n",
       "<g id=\"node7\" class=\"node\">\n",
       "<title>00</title>\n",
       "<ellipse fill=\"none\" stroke=\"black\" cx=\"340.58\" cy=\"-107.25\" rx=\"27.01\" ry=\"18\"/>\n",
       "<text text-anchor=\"middle\" x=\"340.58\" y=\"-102.58\" font-family=\"Times,serif\" font-size=\"14.00\">0.3</text>\n",
       "</g>\n",
       "<!-- 0&#45;&gt;00 -->\n",
       "<g id=\"edge6\" class=\"edge\">\n",
       "<title>0&#45;&gt;00</title>\n",
       "<path fill=\"none\" stroke=\"black\" d=\"M265.43,-180.3C279.83,-166.5 301.24,-145.97 317.53,-130.35\"/>\n",
       "<polygon fill=\"black\" stroke=\"black\" points=\"319.63,-133.19 324.42,-123.74 314.78,-128.14 319.63,-133.19\"/>\n",
       "<text text-anchor=\"middle\" x=\"307.08\" y=\"-147.2\" font-family=\"Times,serif\" font-size=\"14.00\">0</text>\n",
       "</g>\n",
       "<!-- 001 -->\n",
       "<g id=\"node8\" class=\"node\">\n",
       "<title>001</title>\n",
       "<ellipse fill=\"none\" stroke=\"black\" cx=\"285.58\" cy=\"-18\" rx=\"45.95\" ry=\"18\"/>\n",
       "<text text-anchor=\"middle\" x=\"285.58\" y=\"-13.32\" font-family=\"Times,serif\" font-size=\"14.00\">d: 0.15</text>\n",
       "</g>\n",
       "<!-- 00&#45;&gt;001 -->\n",
       "<g id=\"edge3\" class=\"edge\">\n",
       "<title>00&#45;&gt;001</title>\n",
       "<path fill=\"none\" stroke=\"black\" d=\"M330.49,-90.25C322.58,-77.7 311.4,-59.96 302.18,-45.33\"/>\n",
       "<polygon fill=\"black\" stroke=\"black\" points=\"305.27,-43.67 296.97,-37.07 299.35,-47.4 305.27,-43.67\"/>\n",
       "<text text-anchor=\"middle\" x=\"322.08\" y=\"-57.95\" font-family=\"Times,serif\" font-size=\"14.00\">1</text>\n",
       "</g>\n",
       "<!-- 000 -->\n",
       "<g id=\"node9\" class=\"node\">\n",
       "<title>000</title>\n",
       "<ellipse fill=\"none\" stroke=\"black\" cx=\"394.58\" cy=\"-18\" rx=\"45.42\" ry=\"18\"/>\n",
       "<text text-anchor=\"middle\" x=\"394.58\" y=\"-13.32\" font-family=\"Times,serif\" font-size=\"14.00\">e: 0.15</text>\n",
       "</g>\n",
       "<!-- 00&#45;&gt;000 -->\n",
       "<g id=\"edge4\" class=\"edge\">\n",
       "<title>00&#45;&gt;000</title>\n",
       "<path fill=\"none\" stroke=\"black\" d=\"M350.49,-90.25C358.25,-77.7 369.23,-59.96 378.29,-45.33\"/>\n",
       "<polygon fill=\"black\" stroke=\"black\" points=\"381.1,-47.43 383.39,-37.08 375.15,-43.74 381.1,-47.43\"/>\n",
       "<text text-anchor=\"middle\" x=\"376.08\" y=\"-57.95\" font-family=\"Times,serif\" font-size=\"14.00\">0</text>\n",
       "</g>\n",
       "</g>\n",
       "</svg>\n"
      ],
      "text/plain": [
       "<graphviz.graphs.Digraph at 0x7ee0dc4a3340>"
      ]
     },
     "execution_count": 14,
     "metadata": {},
     "output_type": "execute_result"
    }
   ],
   "source": [
    "import graphviz\n",
    "\n",
    "def show_tree_inner(node: Node, graph: graphviz.Digraph, path: str, weight_format):\n",
    "    if isinstance(node, Leaf):\n",
    "        graph.node(path, ('%s: ' + weight_format) % (node.symbol, node.weight))\n",
    "    else:\n",
    "        graph.node(path, (weight_format % node.weight))\n",
    "\n",
    "        show_tree_inner(node.left, graph, path+'1', weight_format=weight_format)\n",
    "        show_tree_inner(node.right, graph, path+'0', weight_format=weight_format)\n",
    "        graph.edge(path, path+'1', label='1')\n",
    "        graph.edge(path, path + '0', label='0')\n",
    "        \n",
    "def show_tree(node: Node, weight_format='%0.6g') -> graphviz.Digraph:\n",
    "    graph = graphviz.Digraph()\n",
    "    show_tree_inner(node, graph, '', weight_format=weight_format)\n",
    "    return graph\n",
    "\n",
    "graph = show_tree(tree)\n",
    "graph"
   ]
  },
  {
   "cell_type": "markdown",
   "id": "05af0e80-8c0d-4fd3-affd-2165919f02b7",
   "metadata": {},
   "source": [
    "We can read out the paths by walking down the tree depth first, keeping track of the path to the current node:"
   ]
  },
  {
   "cell_type": "code",
   "execution_count": 15,
   "id": "0a66e2f9-5df1-43a2-aa79-7b17f7f2085a",
   "metadata": {},
   "outputs": [
    {
     "data": {
      "text/plain": [
       "{'c': '11', 'a': '10', 'b': '01', 'd': '001', 'e': '000'}"
      ]
     },
     "execution_count": 15,
     "metadata": {},
     "output_type": "execute_result"
    }
   ],
   "source": [
    "def tree_to_code_inner(node: Node[T], code: Dict[T, str], path: str = ''):\n",
    "    if isinstance(node, Leaf):\n",
    "        assert node.symbol not in code, \"Duplicate symbol %s\" % node.symbol\n",
    "        code[node.symbol] = path\n",
    "    else:\n",
    "        tree_to_code_inner(node.left, code, path + '1')\n",
    "        tree_to_code_inner(node.right, code, path + '0')\n",
    "\n",
    "def tree_to_code(node: Node[T]) -> Dict[T, str]:\n",
    "    code = dict()\n",
    "    tree_to_code_inner(node, code)\n",
    "    return code\n",
    "    \n",
    "\n",
    "code = tree_to_code(tree)\n",
    "code"
   ]
  },
  {
   "cell_type": "markdown",
   "id": "95fd096c-99fc-4b71-a19c-1c4b887e9335",
   "metadata": {},
   "source": [
    "The expected length is close to the entropy bounds:"
   ]
  },
  {
   "cell_type": "code",
   "execution_count": 16,
   "id": "720c7e48-dc23-4dc8-8c6f-d9fabeb7166e",
   "metadata": {},
   "outputs": [
    {
     "data": {
      "text/plain": [
       "2.2854752972273342"
      ]
     },
     "execution_count": 16,
     "metadata": {},
     "output_type": "execute_result"
    }
   ],
   "source": [
    "probs_entropy = entropy_bits(probs.values())\n",
    "probs_entropy"
   ]
  },
  {
   "cell_type": "code",
   "execution_count": 17,
   "id": "f46e504f-3eea-4076-bd68-d16a6d5d558d",
   "metadata": {},
   "outputs": [
    {
     "data": {
      "text/plain": [
       "2.3"
      ]
     },
     "execution_count": 17,
     "metadata": {},
     "output_type": "execute_result"
    }
   ],
   "source": [
    "expected_length = sum(probs[s] * len(code[s]) for s in probs)\n",
    "\n",
    "assert probs_entropy <= expected_length < probs_entropy + 1\n",
    "\n",
    "expected_length"
   ]
  },
  {
   "cell_type": "markdown",
   "id": "73dd4962-55d6-4e1f-9dc8-bd8c9f1747d3",
   "metadata": {},
   "source": [
    "## Checking the properties in general\n",
    "\n",
    "Let's run some sanity Property Based Tests that our code is correct.\n",
    "\n",
    "We can first convert a weight map straight to a code, hiding the intermediate tree.\n",
    "Note there is nothing in the algorithm that requires the weights to be probabilities; and in fact you get the same tree under any positive rescaling."
   ]
  },
  {
   "cell_type": "code",
   "execution_count": 18,
   "id": "a4125d35-7326-4ed7-a0a1-049e9ee09099",
   "metadata": {},
   "outputs": [],
   "source": [
    "def huffman_code(weight: Mapping[T, str]) -> dict[T, str]:\n",
    "    return tree_to_code(huffman_tree(weight))"
   ]
  },
  {
   "cell_type": "markdown",
   "id": "c86b1f66-69c6-4e74-ab4f-ab698f03e88e",
   "metadata": {},
   "source": [
    "The output dictionary should have the exact same keys as the input dictionary:"
   ]
  },
  {
   "cell_type": "code",
   "execution_count": 19,
   "id": "b6ac6580-6fa9-42a5-b267-41268049bd59",
   "metadata": {},
   "outputs": [],
   "source": [
    "@given(st.lists(st.floats(min_value=0, allow_nan=False, allow_infinity=False, allow_subnormal=False), min_size=1))\n",
    "def test_huffman_code_preserves_symbols(weights):\n",
    "    symbol_weights = dict(enumerate(weights))\n",
    "    code = huffman_code(symbol_weights)\n",
    "    assert set(symbol_weights) == set(code)\n",
    "test_huffman_code_preserves_symbols()"
   ]
  },
  {
   "cell_type": "markdown",
   "id": "d7aac59e-7ada-46f7-93d1-766f40b25fa9",
   "metadata": {},
   "source": [
    "It's also also within the entropy bounds (as long as we don't run into floating point errors):"
   ]
  },
  {
   "cell_type": "code",
   "execution_count": 20,
   "id": "30f944a0-8d81-444a-81ab-0a57060fc05a",
   "metadata": {},
   "outputs": [],
   "source": [
    "@given(st.lists(st.floats(min_value=1.0, max_value=1e5, allow_nan=False, allow_infinity=False, allow_subnormal=False), min_size=1))\n",
    "def test_huffman_code_in_entropy_bounds(weights):\n",
    "    symbol_weights = dict(enumerate(weights))\n",
    "    code = huffman_code(symbol_weights)\n",
    "\n",
    "    total = sum(weights)\n",
    "    probs = [w/total for w in weights]\n",
    "    \n",
    "    model_entropy = entropy_bits(probs)\n",
    "    \n",
    "    expected_length = sum(probs[i] * len(code[i]) for i in range(len(weights)))\n",
    "\n",
    "    assert model_entropy <= expected_length < model_entropy + 1, (model_entropy, expected_length)\n",
    "\n",
    "test_huffman_code_in_entropy_bounds()"
   ]
  },
  {
   "cell_type": "markdown",
   "id": "7086b407-cb81-40f4-a241-9c91ddb0128f",
   "metadata": {},
   "source": [
    "Finally it's important to note that the code is a *prefix code*, where no code word is the prefix of any other keyword.\n",
    "Consider if `A` has code `0` and `B` has code `00`, then it is unclear whether `00` means `AA` or `B`.\n",
    "For a prefix code we can read the bits until we find the first matching code word and can guarantee that was the input symbol (because if we keep reading we'll never match another symbol).\n",
    "Huffman codes are a prefix code because they are the leaves of a tree; non-prefix nodes are the internal nodes of the tree."
   ]
  },
  {
   "cell_type": "code",
   "execution_count": 21,
   "id": "26331730-9d31-4abf-87a7-6eec18e5e228",
   "metadata": {},
   "outputs": [],
   "source": [
    "from typing import List\n",
    "\n",
    "def is_prefix(a: str, b: str):\n",
    "    return a.startswith(b)\n",
    "\n",
    "def is_prefix_code(codes: List[str]):\n",
    "    for i in range(len(codes)):\n",
    "        for j in range(i+1, len(codes)):\n",
    "            if is_prefix(codes[i], codes[j]) or is_prefix(codes[j], codes[i]):\n",
    "                return False\n",
    "    return True\n",
    "\n",
    "assert is_prefix_code(['0', '10', '110', '111'])\n",
    "assert not is_prefix_code(['0', '00'])"
   ]
  },
  {
   "cell_type": "markdown",
   "id": "b1431cd1-96d9-4134-89c6-773d9559e1ee",
   "metadata": {},
   "source": [
    "We can explicity test this for Huffman Codes."
   ]
  },
  {
   "cell_type": "code",
   "execution_count": 22,
   "id": "9f8c3208-db59-433a-9577-19a23e4f419e",
   "metadata": {},
   "outputs": [],
   "source": [
    "@given(st.lists(st.floats(min_value=0, allow_nan=False, allow_infinity=False, allow_subnormal=False), min_size=1))\n",
    "def test_huffman_code_is_prefix_code(weights):\n",
    "    symbol_weights = dict(enumerate(weights))\n",
    "    code = huffman_code(symbol_weights)\n",
    "\n",
    "    assert is_prefix_code(list(code.values()))\n",
    "\n",
    "test_huffman_code_is_prefix_code()"
   ]
  },
  {
   "cell_type": "markdown",
   "id": "a9bb3910-450b-41f5-a6bc-d0a77efb3bd3",
   "metadata": {},
   "source": [
    "## Example English Word List\n",
    "\n",
    "Before we wanted to encode an English word list and worked out the shortest average length we could possibly get is:"
   ]
  },
  {
   "cell_type": "code",
   "execution_count": 23,
   "id": "16a946a9-2a5a-444d-a301-2f5a0c334402",
   "metadata": {},
   "outputs": [
    {
     "data": {
      "text/plain": [
       "4.109986339934039"
      ]
     },
     "execution_count": 23,
     "metadata": {},
     "output_type": "execute_result"
    }
   ],
   "source": [
    "entropy_bits(letter_probabilities.values())"
   ]
  },
  {
   "cell_type": "markdown",
   "id": "970679e9-3920-4798-a85a-fec41338ec8b",
   "metadata": {},
   "source": [
    "We can look at the codewords from our Huffman Code, their length, and the probability times their length:"
   ]
  },
  {
   "cell_type": "code",
   "execution_count": 24,
   "id": "18f27adb-cb86-43a9-9ad2-048314457556",
   "metadata": {},
   "outputs": [
    {
     "data": {
      "text/html": [
       "<div>\n",
       "<style scoped>\n",
       "    .dataframe tbody tr th:only-of-type {\n",
       "        vertical-align: middle;\n",
       "    }\n",
       "\n",
       "    .dataframe tbody tr th {\n",
       "        vertical-align: top;\n",
       "    }\n",
       "\n",
       "    .dataframe thead th {\n",
       "        text-align: right;\n",
       "    }\n",
       "</style>\n",
       "<table border=\"1\" class=\"dataframe\">\n",
       "  <thead>\n",
       "    <tr style=\"text-align: right;\">\n",
       "      <th></th>\n",
       "      <th>probability</th>\n",
       "      <th>code_word</th>\n",
       "      <th>code_length</th>\n",
       "      <th>probability_times_length</th>\n",
       "    </tr>\n",
       "  </thead>\n",
       "  <tbody>\n",
       "    <tr>\n",
       "      <th>_</th>\n",
       "      <td>0.172680</td>\n",
       "      <td>000</td>\n",
       "      <td>3</td>\n",
       "      <td>0.518039</td>\n",
       "    </tr>\n",
       "    <tr>\n",
       "      <th>E</th>\n",
       "      <td>0.103357</td>\n",
       "      <td>110</td>\n",
       "      <td>3</td>\n",
       "      <td>0.310071</td>\n",
       "    </tr>\n",
       "    <tr>\n",
       "      <th>T</th>\n",
       "      <td>0.076728</td>\n",
       "      <td>0010</td>\n",
       "      <td>4</td>\n",
       "      <td>0.306914</td>\n",
       "    </tr>\n",
       "    <tr>\n",
       "      <th>A</th>\n",
       "      <td>0.066513</td>\n",
       "      <td>0100</td>\n",
       "      <td>4</td>\n",
       "      <td>0.266054</td>\n",
       "    </tr>\n",
       "    <tr>\n",
       "      <th>O</th>\n",
       "      <td>0.063217</td>\n",
       "      <td>0110</td>\n",
       "      <td>4</td>\n",
       "      <td>0.252867</td>\n",
       "    </tr>\n",
       "    <tr>\n",
       "      <th>I</th>\n",
       "      <td>0.062613</td>\n",
       "      <td>0111</td>\n",
       "      <td>4</td>\n",
       "      <td>0.250453</td>\n",
       "    </tr>\n",
       "    <tr>\n",
       "      <th>N</th>\n",
       "      <td>0.059850</td>\n",
       "      <td>1000</td>\n",
       "      <td>4</td>\n",
       "      <td>0.239402</td>\n",
       "    </tr>\n",
       "    <tr>\n",
       "      <th>S</th>\n",
       "      <td>0.053884</td>\n",
       "      <td>1010</td>\n",
       "      <td>4</td>\n",
       "      <td>0.215536</td>\n",
       "    </tr>\n",
       "    <tr>\n",
       "      <th>R</th>\n",
       "      <td>0.051957</td>\n",
       "      <td>1011</td>\n",
       "      <td>4</td>\n",
       "      <td>0.207828</td>\n",
       "    </tr>\n",
       "    <tr>\n",
       "      <th>H</th>\n",
       "      <td>0.041812</td>\n",
       "      <td>1111</td>\n",
       "      <td>4</td>\n",
       "      <td>0.167247</td>\n",
       "    </tr>\n",
       "    <tr>\n",
       "      <th>L</th>\n",
       "      <td>0.033663</td>\n",
       "      <td>01010</td>\n",
       "      <td>5</td>\n",
       "      <td>0.168315</td>\n",
       "    </tr>\n",
       "    <tr>\n",
       "      <th>D</th>\n",
       "      <td>0.031574</td>\n",
       "      <td>01011</td>\n",
       "      <td>5</td>\n",
       "      <td>0.157868</td>\n",
       "    </tr>\n",
       "    <tr>\n",
       "      <th>C</th>\n",
       "      <td>0.027673</td>\n",
       "      <td>10011</td>\n",
       "      <td>5</td>\n",
       "      <td>0.138367</td>\n",
       "    </tr>\n",
       "    <tr>\n",
       "      <th>U</th>\n",
       "      <td>0.022589</td>\n",
       "      <td>11101</td>\n",
       "      <td>5</td>\n",
       "      <td>0.112945</td>\n",
       "    </tr>\n",
       "    <tr>\n",
       "      <th>M</th>\n",
       "      <td>0.020778</td>\n",
       "      <td>001100</td>\n",
       "      <td>6</td>\n",
       "      <td>0.124669</td>\n",
       "    </tr>\n",
       "    <tr>\n",
       "      <th>F</th>\n",
       "      <td>0.019873</td>\n",
       "      <td>001101</td>\n",
       "      <td>6</td>\n",
       "      <td>0.119237</td>\n",
       "    </tr>\n",
       "    <tr>\n",
       "      <th>P</th>\n",
       "      <td>0.017667</td>\n",
       "      <td>001111</td>\n",
       "      <td>6</td>\n",
       "      <td>0.106004</td>\n",
       "    </tr>\n",
       "    <tr>\n",
       "      <th>G</th>\n",
       "      <td>0.015462</td>\n",
       "      <td>100100</td>\n",
       "      <td>6</td>\n",
       "      <td>0.092771</td>\n",
       "    </tr>\n",
       "    <tr>\n",
       "      <th>W</th>\n",
       "      <td>0.013860</td>\n",
       "      <td>100101</td>\n",
       "      <td>6</td>\n",
       "      <td>0.083159</td>\n",
       "    </tr>\n",
       "    <tr>\n",
       "      <th>Y</th>\n",
       "      <td>0.013767</td>\n",
       "      <td>111000</td>\n",
       "      <td>6</td>\n",
       "      <td>0.082602</td>\n",
       "    </tr>\n",
       "    <tr>\n",
       "      <th>B</th>\n",
       "      <td>0.012281</td>\n",
       "      <td>111001</td>\n",
       "      <td>6</td>\n",
       "      <td>0.073687</td>\n",
       "    </tr>\n",
       "    <tr>\n",
       "      <th>V</th>\n",
       "      <td>0.008706</td>\n",
       "      <td>0011101</td>\n",
       "      <td>7</td>\n",
       "      <td>0.060942</td>\n",
       "    </tr>\n",
       "    <tr>\n",
       "      <th>K</th>\n",
       "      <td>0.004481</td>\n",
       "      <td>00111001</td>\n",
       "      <td>8</td>\n",
       "      <td>0.035845</td>\n",
       "    </tr>\n",
       "    <tr>\n",
       "      <th>X</th>\n",
       "      <td>0.001950</td>\n",
       "      <td>001110001</td>\n",
       "      <td>9</td>\n",
       "      <td>0.017551</td>\n",
       "    </tr>\n",
       "    <tr>\n",
       "      <th>J</th>\n",
       "      <td>0.001323</td>\n",
       "      <td>0011100001</td>\n",
       "      <td>10</td>\n",
       "      <td>0.013233</td>\n",
       "    </tr>\n",
       "    <tr>\n",
       "      <th>Q</th>\n",
       "      <td>0.000998</td>\n",
       "      <td>00111000000</td>\n",
       "      <td>11</td>\n",
       "      <td>0.010981</td>\n",
       "    </tr>\n",
       "    <tr>\n",
       "      <th>Z</th>\n",
       "      <td>0.000743</td>\n",
       "      <td>00111000001</td>\n",
       "      <td>11</td>\n",
       "      <td>0.008172</td>\n",
       "    </tr>\n",
       "  </tbody>\n",
       "</table>\n",
       "</div>"
      ],
      "text/plain": [
       "   probability    code_word  code_length  probability_times_length\n",
       "_     0.172680          000            3                  0.518039\n",
       "E     0.103357          110            3                  0.310071\n",
       "T     0.076728         0010            4                  0.306914\n",
       "A     0.066513         0100            4                  0.266054\n",
       "O     0.063217         0110            4                  0.252867\n",
       "I     0.062613         0111            4                  0.250453\n",
       "N     0.059850         1000            4                  0.239402\n",
       "S     0.053884         1010            4                  0.215536\n",
       "R     0.051957         1011            4                  0.207828\n",
       "H     0.041812         1111            4                  0.167247\n",
       "L     0.033663        01010            5                  0.168315\n",
       "D     0.031574        01011            5                  0.157868\n",
       "C     0.027673        10011            5                  0.138367\n",
       "U     0.022589        11101            5                  0.112945\n",
       "M     0.020778       001100            6                  0.124669\n",
       "F     0.019873       001101            6                  0.119237\n",
       "P     0.017667       001111            6                  0.106004\n",
       "G     0.015462       100100            6                  0.092771\n",
       "W     0.013860       100101            6                  0.083159\n",
       "Y     0.013767       111000            6                  0.082602\n",
       "B     0.012281       111001            6                  0.073687\n",
       "V     0.008706      0011101            7                  0.060942\n",
       "K     0.004481     00111001            8                  0.035845\n",
       "X     0.001950    001110001            9                  0.017551\n",
       "J     0.001323   0011100001           10                  0.013233\n",
       "Q     0.000998  00111000000           11                  0.010981\n",
       "Z     0.000743  00111000001           11                  0.008172"
      ]
     },
     "execution_count": 24,
     "metadata": {},
     "output_type": "execute_result"
    }
   ],
   "source": [
    "import pandas as pd\n",
    "\n",
    "letter_code = huffman_code(letter_probabilities)\n",
    "\n",
    "df_letter = (\n",
    "    pd.DataFrame(data=dict(probability=letter_probabilities.values(),\n",
    "                           code_word=[letter_code[s] for s in letter_probabilities],),\n",
    "                 index=letter_probabilities.keys())\n",
    "    .assign(code_length=lambda _:_.code_word.str.len())\n",
    "    .assign(probability_times_length=lambda _:_.code_length * _.probability)\n",
    ")\n",
    "df_letter"
   ]
  },
  {
   "cell_type": "markdown",
   "id": "d2ceb3f0-245e-4ce4-98ad-c3b8b18c25c0",
   "metadata": {},
   "source": [
    "The average length is pretty close to the Entropy bound:"
   ]
  },
  {
   "cell_type": "code",
   "execution_count": 25,
   "id": "35d51c9d-c314-460e-8ca3-b86ad4e01071",
   "metadata": {},
   "outputs": [
    {
     "data": {
      "text/plain": [
       "4.14075776570553"
      ]
     },
     "execution_count": 25,
     "metadata": {},
     "output_type": "execute_result"
    }
   ],
   "source": [
    "average_length = sum(df_letter['probability_times_length'])\n",
    "average_length"
   ]
  },
  {
   "cell_type": "markdown",
   "id": "390f423a-a0df-4e68-90a3-b2fad22e4015",
   "metadata": {},
   "source": [
    "And so the compression ratio of this code would be:"
   ]
  },
  {
   "cell_type": "code",
   "execution_count": 26,
   "id": "4c0d04fb-f2e3-4b5a-8e0e-75abb5093a69",
   "metadata": {},
   "outputs": [
    {
     "data": {
      "text/plain": [
       "'82.8%'"
      ]
     },
     "execution_count": 26,
     "metadata": {},
     "output_type": "execute_result"
    }
   ],
   "source": [
    "f'{average_length / 5:0.1%}'"
   ]
  },
  {
   "cell_type": "markdown",
   "id": "7fb0e203-4357-4ab0-bb53-d63846cb0e02",
   "metadata": {},
   "source": [
    "## Worst Case: Rare Symbols\n",
    "\n",
    "Consider a case where you have only two symbols with very uneven probabilities:"
   ]
  },
  {
   "cell_type": "code",
   "execution_count": 27,
   "id": "119fa571-1849-438b-a944-8b24a0a44750",
   "metadata": {},
   "outputs": [],
   "source": [
    "rare_probabilities = dict(\n",
    "    a=0.95,\n",
    "    b=0.05,\n",
    ")"
   ]
  },
  {
   "cell_type": "markdown",
   "id": "6fdc3a19-9efb-460f-ba04-b3394f606e8f",
   "metadata": {},
   "source": [
    "The entropy is very low here since most of the time we will get `a`:"
   ]
  },
  {
   "cell_type": "code",
   "execution_count": 28,
   "id": "ced48d27-3b38-436a-b801-a9a9914daf6c",
   "metadata": {},
   "outputs": [
    {
     "data": {
      "text/plain": [
       "0.28639695711595625"
      ]
     },
     "execution_count": 28,
     "metadata": {},
     "output_type": "execute_result"
    }
   ],
   "source": [
    "entropy_bits(rare_probabilities.values())"
   ]
  },
  {
   "cell_type": "markdown",
   "id": "30f686a5-eb3c-4f71-aedf-f48c11f254c1",
   "metadata": {},
   "source": [
    "But since we only have two symbols all we can do is assign 1-bit codes to each of them"
   ]
  },
  {
   "cell_type": "code",
   "execution_count": 29,
   "id": "6dec30c8-edd5-4f09-b838-af641e1c6f65",
   "metadata": {},
   "outputs": [
    {
     "data": {
      "text/plain": [
       "{'b': '1', 'a': '0'}"
      ]
     },
     "execution_count": 29,
     "metadata": {},
     "output_type": "execute_result"
    }
   ],
   "source": [
    "rare_code = huffman_code(rare_probabilities)\n",
    "rare_code"
   ]
  },
  {
   "cell_type": "markdown",
   "id": "53674cb7-d1ee-4d90-9ce5-76bdd5483139",
   "metadata": {},
   "source": [
    "And the expected length is clearly 1:"
   ]
  },
  {
   "cell_type": "code",
   "execution_count": 30,
   "id": "314d5bd3-d11f-4a2f-9249-7ea42168e606",
   "metadata": {},
   "outputs": [
    {
     "data": {
      "text/plain": [
       "1.0"
      ]
     },
     "execution_count": 30,
     "metadata": {},
     "output_type": "execute_result"
    }
   ],
   "source": [
    "sum(len(rare_code[s]) * rare_probabilities[s] for s in rare_probabilities)"
   ]
  },
  {
   "cell_type": "markdown",
   "id": "f32cf84c-a44c-4b25-bd2a-63801ea9fdac",
   "metadata": {},
   "source": [
    "### Block Codes"
   ]
  },
  {
   "cell_type": "markdown",
   "id": "f82a45ad-ee1b-43e6-a281-c25b4e0ab377",
   "metadata": {},
   "source": [
    "One workaround for this is *block codes* where we encode blocks of symbols rather than individual symbols.\n",
    "For example for a block of length 2 it would look like:"
   ]
  },
  {
   "cell_type": "code",
   "execution_count": 31,
   "id": "41754ff7-cebf-45f7-a77b-01d003bfa82d",
   "metadata": {},
   "outputs": [
    {
     "data": {
      "text/plain": [
       "{'aa': 0.9025, 'ab': 0.0475, 'ba': 0.0475, 'bb': 0.0025000000000000005}"
      ]
     },
     "execution_count": 31,
     "metadata": {},
     "output_type": "execute_result"
    }
   ],
   "source": [
    "block2_probabilities = {}\n",
    "\n",
    "for s1, p1 in rare_probabilities.items():\n",
    "    for s2, p2 in rare_probabilities.items():\n",
    "        block2_probabilities[s1 + s2] = p1 * p2\n",
    "\n",
    "block2_probabilities"
   ]
  },
  {
   "cell_type": "markdown",
   "id": "bd7d5fd2-fd94-4b0b-8d66-30bf022fc1e2",
   "metadata": {},
   "source": [
    "Since we have assumed the frequencies are independent the entropy doubles:"
   ]
  },
  {
   "cell_type": "code",
   "execution_count": 32,
   "id": "7665c31a-6f40-4b77-be61-6fbf808ee7bb",
   "metadata": {},
   "outputs": [
    {
     "data": {
      "text/plain": [
       "0.5727939142319123"
      ]
     },
     "execution_count": 32,
     "metadata": {},
     "output_type": "execute_result"
    }
   ],
   "source": [
    "entropy_bits(block2_probabilities.values())"
   ]
  },
  {
   "cell_type": "markdown",
   "id": "f5f76089-ad81-4730-9f58-719c1cc512c0",
   "metadata": {},
   "source": [
    "But now we can assign a shorter sequence to the very probable sequence `aa` to the very improbable sequence `ab`:"
   ]
  },
  {
   "cell_type": "code",
   "execution_count": 33,
   "id": "888c5f0c-0253-4b89-b7b6-0104c5b9ff58",
   "metadata": {},
   "outputs": [
    {
     "data": {
      "text/plain": [
       "{'ba': '11', 'bb': '101', 'ab': '100', 'aa': '0'}"
      ]
     },
     "execution_count": 33,
     "metadata": {},
     "output_type": "execute_result"
    }
   ],
   "source": [
    "block2_code = huffman_code(block2_probabilities)\n",
    "block2_code"
   ]
  },
  {
   "cell_type": "markdown",
   "id": "5ad12890-7c0d-473b-8822-e246d46b2835",
   "metadata": {},
   "source": [
    "But the expected length is still necessarily greater than 1, and much greater than the entropy."
   ]
  },
  {
   "cell_type": "code",
   "execution_count": 34,
   "id": "e95e74ff-f40f-4060-8403-ed7493f049b7",
   "metadata": {},
   "outputs": [
    {
     "data": {
      "text/plain": [
       "1.1475"
      ]
     },
     "execution_count": 34,
     "metadata": {},
     "output_type": "execute_result"
    }
   ],
   "source": [
    "sum(len(block2_code[s]) * block2_probabilities[s] for s in block2_probabilities)"
   ]
  },
  {
   "cell_type": "markdown",
   "id": "5d257ec0-09ff-4ba8-98be-0aedc3ad8364",
   "metadata": {},
   "source": [
    "As we make the blocks larger the length gets closer to the ideal length (but the symbol dictionary grows exponentially):"
   ]
  },
  {
   "cell_type": "code",
   "execution_count": 35,
   "id": "edc38be7-4134-45e8-8752-0b97c8f82784",
   "metadata": {},
   "outputs": [
    {
     "data": {
      "text/plain": [
       "1.1455878284638241"
      ]
     },
     "execution_count": 35,
     "metadata": {},
     "output_type": "execute_result"
    }
   ],
   "source": [
    "block4_probabilities = {}\n",
    "\n",
    "for s1, p1 in block2_probabilities.items():\n",
    "    for s2, p2 in block2_probabilities.items():\n",
    "        block4_probabilities[s1 + s2] = p1 * p2\n",
    "\n",
    "entropy_bits(block4_probabilities.values())"
   ]
  },
  {
   "cell_type": "code",
   "execution_count": 36,
   "id": "b355c960-7533-4276-9072-46ca8a3eb2ce",
   "metadata": {},
   "outputs": [
    {
     "data": {
      "text/plain": [
       "{'aaba': '111',\n",
       " 'abaa': '110',\n",
       " 'baaa': '101',\n",
       " 'bbaa': '100111',\n",
       " 'babb': '100110111',\n",
       " 'bbab': '100110110',\n",
       " 'bbba': '100110101',\n",
       " 'bbbb': '1001101001',\n",
       " 'abbb': '1001101000',\n",
       " 'abab': '1001100',\n",
       " 'abba': '1001011',\n",
       " 'baab': '1001010',\n",
       " 'baba': '1001001',\n",
       " 'aabb': '1001000',\n",
       " 'aaab': '1000',\n",
       " 'aaaa': '0'}"
      ]
     },
     "execution_count": 36,
     "metadata": {},
     "output_type": "execute_result"
    }
   ],
   "source": [
    "block4_code = huffman_code(block4_probabilities)\n",
    "block4_code"
   ]
  },
  {
   "cell_type": "code",
   "execution_count": 37,
   "id": "afa88e0e-f02b-4910-97d5-7a14f453859b",
   "metadata": {},
   "outputs": [
    {
     "data": {
      "text/plain": [
       "1.4687625000000002"
      ]
     },
     "execution_count": 37,
     "metadata": {},
     "output_type": "execute_result"
    }
   ],
   "source": [
    "sum(len(block4_code[s]) * block4_probabilities[s] for s in block4_probabilities)"
   ]
  },
  {
   "cell_type": "markdown",
   "id": "f4a2e857-633a-4dcb-b02b-eae2fcdfff7c",
   "metadata": {},
   "source": [
    "# Practical Example: WikiText\n",
    "\n",
    "Let's now see how we could use a Huffman code in practice to compress a sample of English Wikipedia as in [the Hutter Prize](http://prize.hutter1.net/).\n",
    "\n",
    "First we download the 35MB `enwik8.zip` file containing the first million bytes of an XML dump of English wikipedia."
   ]
  },
  {
   "cell_type": "code",
   "execution_count": 38,
   "id": "417e8603-240b-4135-8ed2-0f448290db60",
   "metadata": {},
   "outputs": [
    {
     "data": {
      "text/plain": [
       "('enwik8.zip', <http.client.HTTPMessage at 0x7ee0bff533d0>)"
      ]
     },
     "execution_count": 38,
     "metadata": {},
     "output_type": "execute_result"
    }
   ],
   "source": [
    "from urllib.request import urlretrieve\n",
    "from zipfile import ZipFile\n",
    "\n",
    "urlretrieve('http://mattmahoney.net/dc/enwik8.zip', filename='enwik8.zip')"
   ]
  },
  {
   "cell_type": "markdown",
   "id": "97154287-beb7-4a98-a85e-1fe3a3d9d6e0",
   "metadata": {},
   "source": [
    "Then to keep the code a bit simpler let's read it all into memory:"
   ]
  },
  {
   "cell_type": "code",
   "execution_count": 39,
   "id": "ba5617c6-ba82-4284-8065-9b639f815334",
   "metadata": {},
   "outputs": [
    {
     "name": "stdout",
     "output_type": "stream",
     "text": [
      "b'<mediawiki xmlns=\"http://www.mediawiki.org/xml/export-0.3/\" xmlns:xsi=\"http://www.w3.org/2001/XMLSchema-instance\" xsi:schemaLocation=\"http://www.mediawiki.org/xml/export-0.3/ http://www.mediawiki.org/xml/export-0.3.xsd\" version=\"0.3\" xml:lang=\"en\">\\n  <siteinfo>\\n    <sitename>Wikipedia</sitename>\\n    <base>http://en.wikipedia.org/wiki/Main_Page</base>\\n    <generator>MediaWiki 1.6alpha</generator>\\n    <case>first-letter</case>\\n      <namespaces>\\n      <namespace key=\"-2\">Media</namespace>\\n      <n'\n"
     ]
    }
   ],
   "source": [
    "with ZipFile('enwik8.zip').open('enwik8') as f:\n",
    "    enwiki8 = f.read()\n",
    "\n",
    "print(enwiki8[:500])"
   ]
  },
  {
   "cell_type": "markdown",
   "id": "3c16c23f-a819-4f13-8ead-dcc369ba7e97",
   "metadata": {},
   "source": [
    "Since this is a byte string, and a byte is 8 bits, the total length of the uncompressed file in bits is:"
   ]
  },
  {
   "cell_type": "code",
   "execution_count": 40,
   "id": "3d2e5a6b-db76-468c-b8d1-46bdaa411f4a",
   "metadata": {},
   "outputs": [
    {
     "data": {
      "text/plain": [
       "800000000"
      ]
     },
     "execution_count": 40,
     "metadata": {},
     "output_type": "execute_result"
    }
   ],
   "source": [
    "len(enwiki8) * 8"
   ]
  },
  {
   "cell_type": "markdown",
   "id": "2d9150cd-9ad8-458c-9573-d33939b12836",
   "metadata": {},
   "source": [
    "We can treat the text as a sequence of bytes, that is the symbols are in the range 0-255.\n",
    "To get estimates of the probabilities we can simply count the frequencies (being careful to include bytes that don't appear):"
   ]
  },
  {
   "cell_type": "code",
   "execution_count": 41,
   "id": "ad36acd4-0c38-4b3d-9d3d-a9fe24964c57",
   "metadata": {},
   "outputs": [
    {
     "data": {
      "text/plain": [
       "[(32, 13519824),\n",
       " (101, 8001205),\n",
       " (116, 6154908),\n",
       " (97, 5712026),\n",
       " (105, 5227649),\n",
       " (111, 5176143),\n",
       " (110, 4909103),\n",
       " (114, 4506880),\n",
       " (115, 4347421),\n",
       " (108, 3047318)]"
      ]
     },
     "execution_count": 41,
     "metadata": {},
     "output_type": "execute_result"
    }
   ],
   "source": [
    "from collections import Counter\n",
    "\n",
    "counts = Counter({i:0 for i in range(256)})\n",
    "counts.update(enwiki8)\n",
    "counts.most_common(10)"
   ]
  },
  {
   "cell_type": "markdown",
   "id": "60ced742-c8a2-42f0-8e93-5365106974d6",
   "metadata": {},
   "source": [
    "Using this unigram language model on the bytes we can calculate the entropy, to get a little over 5 bits per byte:"
   ]
  },
  {
   "cell_type": "code",
   "execution_count": 42,
   "id": "17d99436-8613-4f8a-93cb-d77709712edc",
   "metadata": {},
   "outputs": [
    {
     "data": {
      "text/plain": [
       "5.080140303348569"
      ]
     },
     "execution_count": 42,
     "metadata": {},
     "output_type": "execute_result"
    }
   ],
   "source": [
    "probs = {k: v/counts.total() for k,v in counts.items()}\n",
    "\n",
    "entropy_bits(probs.values())"
   ]
  },
  {
   "cell_type": "markdown",
   "id": "30162d00-508b-4bef-bf0f-89c73eda3698",
   "metadata": {},
   "source": [
    "Since our source uses 8 bits per byte the best compression ratio we could expect is"
   ]
  },
  {
   "cell_type": "code",
   "execution_count": 43,
   "id": "aafc52f0-c810-4cea-94f2-6a6fa82eb6be",
   "metadata": {},
   "outputs": [
    {
     "data": {
      "text/plain": [
       "'63.5%'"
      ]
     },
     "execution_count": 43,
     "metadata": {},
     "output_type": "execute_result"
    }
   ],
   "source": [
    "f'{entropy_bits(probs.values())/8:0.1%}'"
   ]
  },
  {
   "cell_type": "markdown",
   "id": "18ba90af-f773-4a2b-97d5-7ce422002f43",
   "metadata": {},
   "source": [
    "We can use the counts to generate the Huffman Code (since they are proportional to the probabilities it gives the same tree as the probabilities)."
   ]
  },
  {
   "cell_type": "code",
   "execution_count": 44,
   "id": "1f5310aa-c1f1-459c-8430-b8cdafef8fb3",
   "metadata": {},
   "outputs": [
    {
     "data": {
      "text/plain": [
       "'010'"
      ]
     },
     "execution_count": 44,
     "metadata": {},
     "output_type": "execute_result"
    }
   ],
   "source": [
    "enwiki8_code = huffman_code(counts)\n",
    "\n",
    "assert is_prefix_code(enwiki8_code)\n",
    "\n",
    "enwiki8_code[32]"
   ]
  },
  {
   "cell_type": "markdown",
   "id": "1f382247-9327-4b0d-a2d3-61293a4cfd7f",
   "metadata": {},
   "source": [
    "The expected length is just a little over the entropy:"
   ]
  },
  {
   "cell_type": "code",
   "execution_count": 45,
   "id": "5a3401bb-051f-45bb-8e6b-cd9cf7c7772e",
   "metadata": {},
   "outputs": [
    {
     "data": {
      "text/plain": [
       "5.108938110000002"
      ]
     },
     "execution_count": 45,
     "metadata": {},
     "output_type": "execute_result"
    }
   ],
   "source": [
    "expected_length = sum(probs[i] * len(enwiki8_code[i]) for i in probs)\n",
    "expected_length"
   ]
  },
  {
   "cell_type": "markdown",
   "id": "8b10144e-0982-43e0-bf84-56c74af51d76",
   "metadata": {},
   "source": [
    "Giving an actual compression of"
   ]
  },
  {
   "cell_type": "code",
   "execution_count": 46,
   "id": "818c2928-42af-4558-83f5-5b0e95ecb828",
   "metadata": {},
   "outputs": [
    {
     "data": {
      "text/plain": [
       "'63.9%'"
      ]
     },
     "execution_count": 46,
     "metadata": {},
     "output_type": "execute_result"
    }
   ],
   "source": [
    "f'{expected_length/8:0.1%}'"
   ]
  },
  {
   "cell_type": "markdown",
   "id": "bac125bc-d1af-4df1-aecb-292ab05631c1",
   "metadata": {},
   "source": [
    "## Storing the codebook\n",
    "\n",
    "If we actually wanted to decode this we would need the Huffman code itself as well as the encoded string.\n",
    "One way to store this variable length code is to store, in order, the number of output bits for each symbol followed by the symbol itself (there are almost surely more efficient representations; since we know it is a prefix code there must be redundancy).\n",
    "\n",
    "Since the maximum symbol length is less than the size of the alphabet (here 256) we can store the length in a single byte."
   ]
  },
  {
   "cell_type": "code",
   "execution_count": 47,
   "id": "22866069-c59b-4327-b3cd-7faee218360c",
   "metadata": {},
   "outputs": [
    {
     "data": {
      "text/plain": [
       "'08b'"
      ]
     },
     "execution_count": 47,
     "metadata": {},
     "output_type": "execute_result"
    }
   ],
   "source": [
    "from math import ceil\n",
    "\n",
    "num_symbols = 256\n",
    "\n",
    "num_symbol_bytes = ceil(log2(num_symbols-1))\n",
    "num_symbol_bytes\n",
    "\n",
    "length_symbol_format = f'0{num_symbol_bytes}b'\n",
    "length_symbol_format"
   ]
  },
  {
   "cell_type": "code",
   "execution_count": 48,
   "id": "3c0e9d13-0e46-4125-876b-0dd852b7e464",
   "metadata": {},
   "outputs": [
    {
     "data": {
      "text/plain": [
       "'00000011010'"
      ]
     },
     "execution_count": 48,
     "metadata": {},
     "output_type": "execute_result"
    }
   ],
   "source": [
    "def codebook_encode_symbol(codeword: str) -> str:\n",
    "    return format(len(codeword), length_symbol_format) + codeword\n",
    "\n",
    "\n",
    "codebook_encode_symbol('010')"
   ]
  },
  {
   "cell_type": "code",
   "execution_count": 49,
   "id": "8c311b30-9f94-43ff-96db-cdc11d9280a6",
   "metadata": {},
   "outputs": [
    {
     "data": {
      "text/plain": [
       "('010', 11)"
      ]
     },
     "execution_count": 49,
     "metadata": {},
     "output_type": "execute_result"
    }
   ],
   "source": [
    "def codebook_decode_symbol(symbols: str, position: int = 0) -> Tuple[str, int]:\n",
    "    codeword_length = int(symbols[position:position+num_symbol_bytes], 2)\n",
    "    position += 8\n",
    "    codeword = symbols[position:position+codeword_length]\n",
    "    return codeword, position+codeword_length\n",
    "\n",
    "codebook_decode_symbol(codebook_encode_symbol('010'))"
   ]
  },
  {
   "cell_type": "markdown",
   "id": "56a34690-85b3-4c56-b33a-e3ced2b3fa2d",
   "metadata": {},
   "source": [
    "We can now write the entire codebook; in this case it takes around 7kb, very small compared to the file we are compressing:"
   ]
  },
  {
   "cell_type": "code",
   "execution_count": 50,
   "id": "8a183f98-60e1-4735-bc31-8cd803e339a3",
   "metadata": {},
   "outputs": [
    {
     "data": {
      "text/plain": [
       "7020"
      ]
     },
     "execution_count": 50,
     "metadata": {},
     "output_type": "execute_result"
    }
   ],
   "source": [
    "def codebook_encode(code) -> str:\n",
    "    return ''.join([codebook_encode_symbol(code[i]) for i in range(num_symbols)])\n",
    "\n",
    "enwiki8_code_str = codebook_encode(enwiki8_code)\n",
    "len(enwiki8_code_str)"
   ]
  },
  {
   "cell_type": "code",
   "execution_count": 51,
   "id": "22558b1e-5807-45b6-92bb-b662d647b7f5",
   "metadata": {},
   "outputs": [],
   "source": [
    "def codebook_decode(code_str: str) -> Tuple[dict[int, str], int]:\n",
    "    code = {}\n",
    "    position = 0\n",
    "    for i in range(num_symbols):\n",
    "        code[i], position = codebook_decode_symbol(code_str, position)\n",
    "    return code, position"
   ]
  },
  {
   "cell_type": "code",
   "execution_count": 52,
   "id": "26a885cf-2d01-4851-a183-cb1da9f781ce",
   "metadata": {},
   "outputs": [],
   "source": [
    "enwiki8_code_2, position = codebook_decode(enwiki8_code_str)\n",
    "\n",
    "assert position == len(enwiki8_code_str)\n",
    "assert enwiki8_code_2 == enwiki8_code"
   ]
  },
  {
   "cell_type": "markdown",
   "id": "7b4053f9-aee9-4cc3-aa4b-6d98925f996a",
   "metadata": {},
   "source": [
    "## Storing the whole code\n",
    "\n",
    "We can now compress the whole text along with the code, getting the compression rate we predicted:"
   ]
  },
  {
   "cell_type": "code",
   "execution_count": 53,
   "id": "a646fe3a-fe18-40f8-8280-8608e5eed206",
   "metadata": {},
   "outputs": [
    {
     "data": {
      "text/plain": [
       "'63.9%'"
      ]
     },
     "execution_count": 53,
     "metadata": {},
     "output_type": "execute_result"
    }
   ],
   "source": [
    "enwiki8_compressed = ''.join([enwiki8_code_str] + [enwiki8_code[i] for i in enwiki8])\n",
    "\n",
    "f'{len(enwiki8_compressed) / (8*len(enwiki8)):0.1%}'"
   ]
  },
  {
   "cell_type": "markdown",
   "id": "dddcba48-2757-419f-b6e3-4a1b1eb43017",
   "metadata": {},
   "source": [
    "To decode it first read the codebook:"
   ]
  },
  {
   "cell_type": "code",
   "execution_count": 54,
   "id": "6a0a2dc7-a422-45d0-aa27-e989695d4dee",
   "metadata": {},
   "outputs": [],
   "source": [
    "codebook, start_pos = codebook_decode(enwiki8_compressed)"
   ]
  },
  {
   "cell_type": "code",
   "execution_count": 55,
   "id": "ab104697-8a84-4340-9718-62ca7ea1f638",
   "metadata": {},
   "outputs": [],
   "source": [
    "inverse_codebook = {v:k for k,v in codebook.items()}"
   ]
  },
  {
   "cell_type": "markdown",
   "id": "742dee95-6fdb-4649-a2c1-724dd98c9d29",
   "metadata": {},
   "source": [
    "Let's store it in order of increasing length so the most likely items are encountered first."
   ]
  },
  {
   "cell_type": "code",
   "execution_count": 56,
   "id": "fd7c59e0-0625-4010-a1fe-010a21cc857d",
   "metadata": {},
   "outputs": [],
   "source": [
    "codebook = dict(sorted(codebook.items(), key=lambda i: len(i[1])))"
   ]
  },
  {
   "cell_type": "markdown",
   "id": "3408e24f-5fd6-4d2a-99a3-89202eddf788",
   "metadata": {},
   "source": [
    "Then we can go through and decode the items one-by-one.\n",
    "\n",
    "This is pretty slow because we're doing a bunch of unnecesary work:\n",
    "\n",
    "* rescanning the whole key set each time in increasing length (we only need to check keys of a given length)\n",
    "* re-reading all the bits of each codeword multiple times\n",
    "* checking strings of length not in the codebook\n",
    "* representing bit strings as unicode strings\n",
    "* running in Python"
   ]
  },
  {
   "cell_type": "code",
   "execution_count": 57,
   "id": "127ceb16-3e34-4242-966e-96a33651e129",
   "metadata": {},
   "outputs": [],
   "source": [
    "position = start_pos\n",
    "enwiki8_decompressed = []\n",
    "\n",
    "while position < len(enwiki8_compressed):\n",
    "    for code_length in range(1, num_symbols):\n",
    "        next_codeword = enwiki8_compressed[position:position+code_length]\n",
    "        if next_codeword in inverse_codebook:\n",
    "            position += code_length\n",
    "            enwiki8_decompressed.append(inverse_codebook[next_codeword])\n",
    "            break\n",
    "    else:\n",
    "        raise ValueError(\"Can't find prefix\")\n",
    "\n",
    "enwiki8_decompressed = bytes(enwiki8_decompressed)\n",
    "assert enwiki8_decompressed == enwiki8"
   ]
  },
  {
   "cell_type": "markdown",
   "id": "7386b961-304a-494d-8319-a14f0e7da324",
   "metadata": {},
   "source": [
    "## Block Encodings\n",
    "\n",
    "We saw earlier that block encodings are useful when there are independent terms far from the entropy bound.\n",
    "They are also useful when there are dependencies between symbols; in English after a `t` the most likely letter is an `h`.\n",
    "This more informative model then has a lower entropy.\n",
    "\n",
    "For example our letter-wise model had an entropy in bits per byte of:"
   ]
  },
  {
   "cell_type": "code",
   "execution_count": 58,
   "id": "373257c7-0f0a-4b9a-a852-a8e5aadb7c3e",
   "metadata": {},
   "outputs": [
    {
     "data": {
      "text/plain": [
       "5.080140303348569"
      ]
     },
     "execution_count": 58,
     "metadata": {},
     "output_type": "execute_result"
    }
   ],
   "source": [
    "entropy_bits(probs.values())"
   ]
  },
  {
   "cell_type": "markdown",
   "id": "df907ff1-7c1b-42e8-992e-6364f2d086c8",
   "metadata": {},
   "source": [
    "Consider if instead we encoded *pairs* of letters:"
   ]
  },
  {
   "cell_type": "code",
   "execution_count": 59,
   "id": "b7193fd0-1f31-4415-b5b4-139b82fb692c",
   "metadata": {},
   "outputs": [
    {
     "data": {
      "text/plain": [
       "[((101, 32), 985464),\n",
       " ((32, 116), 712370),\n",
       " ((116, 104), 677395),\n",
       " ((115, 32), 660026),\n",
       " ((104, 101), 621682),\n",
       " ((32, 97), 594513),\n",
       " ((105, 110), 581426),\n",
       " ((101, 114), 569153),\n",
       " ((97, 110), 537148),\n",
       " ((110, 32), 509035)]"
      ]
     },
     "execution_count": 59,
     "metadata": {},
     "output_type": "execute_result"
    }
   ],
   "source": [
    "enwiki8_pair_counts = Counter(zip(enwiki8[::2], enwiki8[1::2]))\n",
    "\n",
    "enwiki8_pair_counts.most_common(10)"
   ]
  },
  {
   "cell_type": "markdown",
   "id": "901e892d-4111-4309-a3a2-74c7011f6e3b",
   "metadata": {},
   "source": [
    "We then get a lower entropy in bits/byte (remembering that each symbol is now a pair of 1 byte charaters):"
   ]
  },
  {
   "cell_type": "code",
   "execution_count": 60,
   "id": "f31e5db4-583d-415e-9956-5a716a1f9899",
   "metadata": {},
   "outputs": [
    {
     "data": {
      "text/plain": [
       "4.482906292674593"
      ]
     },
     "execution_count": 60,
     "metadata": {},
     "output_type": "execute_result"
    }
   ],
   "source": [
    "pair_total = enwiki8_pair_counts.total()\n",
    "pair_probs = {k: v/pair_total for k,v in enwiki8_pair_counts.items()}\n",
    "\n",
    "entropy_bits(pair_probs.values()) / 2"
   ]
  },
  {
   "cell_type": "markdown",
   "id": "9534d96c-7ad3-4a97-a7d2-2c38407cd084",
   "metadata": {},
   "source": [
    "We can construct the optimal code and check we get something very close to this:"
   ]
  },
  {
   "cell_type": "code",
   "execution_count": 61,
   "id": "7b166e87-89f0-4c3e-ae23-f5284bb8f7ae",
   "metadata": {},
   "outputs": [
    {
     "data": {
      "text/plain": [
       "4.497371490000442"
      ]
     },
     "execution_count": 61,
     "metadata": {},
     "output_type": "execute_result"
    }
   ],
   "source": [
    "pair_code = huffman_code(pair_probs)\n",
    "\n",
    "expected_pair_length = sum(pair_probs[ij] * len(pair_code[ij]) for ij in pair_code) / 2\n",
    "expected_pair_length"
   ]
  },
  {
   "cell_type": "markdown",
   "id": "4a2186e9-6a57-422d-9b54-bde196fd468a",
   "metadata": {},
   "source": [
    "Giving a compression ratio of"
   ]
  },
  {
   "cell_type": "code",
   "execution_count": 62,
   "id": "15615f85-0855-47c7-bbf1-adab47e7c5aa",
   "metadata": {},
   "outputs": [
    {
     "data": {
      "text/plain": [
       "'56.2%'"
      ]
     },
     "execution_count": 62,
     "metadata": {},
     "output_type": "execute_result"
    }
   ],
   "source": [
    "f'{expected_pair_length / 8:0.1%}'"
   ]
  },
  {
   "cell_type": "markdown",
   "id": "d59f44f8-39fc-4562-b8a8-81cb2efb5de9",
   "metadata": {},
   "source": [
    "However our code book is now *much bigger* and will take more memory to store:"
   ]
  },
  {
   "cell_type": "code",
   "execution_count": 63,
   "id": "a0865c43-79d2-4834-a5c0-84c654b483a1",
   "metadata": {},
   "outputs": [
    {
     "data": {
      "text/plain": [
       "'16_976'"
      ]
     },
     "execution_count": 63,
     "metadata": {},
     "output_type": "execute_result"
    }
   ],
   "source": [
    "f'{len(enwiki8_pair_counts):_}'"
   ]
  },
  {
   "cell_type": "markdown",
   "id": "61b72347-c5b6-4749-b5b0-3c5db8557e12",
   "metadata": {},
   "source": [
    "We can continue this to triplets of letters:"
   ]
  },
  {
   "cell_type": "code",
   "execution_count": 64,
   "id": "eb2fb813-ae95-44d9-8fad-476ade1e36ff",
   "metadata": {},
   "outputs": [
    {
     "data": {
      "text/plain": [
       "[((32, 116, 104), 325585),\n",
       " ((116, 104, 101), 303660),\n",
       " ((104, 101, 32), 288105),\n",
       " ((32, 91, 91), 215060),\n",
       " ((32, 32, 32), 204278),\n",
       " ((32, 111, 102), 168972),\n",
       " ((111, 102, 32), 161487),\n",
       " ((101, 100, 32), 147227),\n",
       " ((97, 110, 100), 139953),\n",
       " ((32, 97, 110), 133823)]"
      ]
     },
     "execution_count": 64,
     "metadata": {},
     "output_type": "execute_result"
    }
   ],
   "source": [
    "enwiki8_triple_counts = Counter(zip(enwiki8[::3], enwiki8[1::3], enwiki8[2::3]))\n",
    "\n",
    "enwiki8_triple_counts.most_common(10)"
   ]
  },
  {
   "cell_type": "markdown",
   "id": "5001cc32-935f-44b6-9f55-10a0c91e7046",
   "metadata": {},
   "source": [
    "The entropy is slightly lower again:"
   ]
  },
  {
   "cell_type": "code",
   "execution_count": 65,
   "id": "c0f2f7fb-bdd3-4d83-8c3d-86dbd0b34bda",
   "metadata": {},
   "outputs": [
    {
     "data": {
      "text/plain": [
       "4.016664778438732"
      ]
     },
     "execution_count": 65,
     "metadata": {},
     "output_type": "execute_result"
    }
   ],
   "source": [
    "triple_total = enwiki8_triple_counts.total()\n",
    "triple_probs = {k:v/triple_total for k,v in enwiki8_triple_counts.items()}\n",
    "\n",
    "entropy_bits(triple_probs.values()) / 3"
   ]
  },
  {
   "cell_type": "markdown",
   "id": "209b0e18-ce15-4077-9d5a-468ab3621ed6",
   "metadata": {},
   "source": [
    "But our codebook is now huge:"
   ]
  },
  {
   "cell_type": "code",
   "execution_count": 67,
   "id": "a9a2b058-ca6a-48c3-a7ab-1faba07913f1",
   "metadata": {},
   "outputs": [
    {
     "data": {
      "text/plain": [
       "'173_479'"
      ]
     },
     "execution_count": 67,
     "metadata": {},
     "output_type": "execute_result"
    }
   ],
   "source": [
    "f'{len(enwiki8_triple_counts):_}'"
   ]
  },
  {
   "cell_type": "markdown",
   "id": "050519ba-c93b-42c4-8eca-1df4c73c92aa",
   "metadata": {},
   "source": [
    "At some point the size of the codebook becomes larger than the file we are trying to compress and we need a different approach."
   ]
  },
  {
   "cell_type": "markdown",
   "id": "7315a62d-8cd0-4a6d-a9d2-52dcefd062c2",
   "metadata": {},
   "source": [
    "## What next\n",
    "\n",
    "Symbol codes are a useful tool but they don't take into account multi-symbol patterns, and in particular *repetition* in the data.\n",
    "Effective compression programs first apply a pattern dependent compression, such as a variant of [Lempel-Ziv Compression](https://en.wikipedia.org/wiki/LZ77_and_LZ78) before applying a Huffman encoding."
   ]
  }
 ],
 "metadata": {
  "kernelspec": {
   "display_name": "Python 3 (ipykernel)",
   "language": "python",
   "name": "python3"
  },
  "language_info": {
   "codemirror_mode": {
    "name": "ipython",
    "version": 3
   },
   "file_extension": ".py",
   "mimetype": "text/x-python",
   "name": "python",
   "nbconvert_exporter": "python",
   "pygments_lexer": "ipython3",
   "version": "3.11.9"
  }
 },
 "nbformat": 4,
 "nbformat_minor": 5
}
